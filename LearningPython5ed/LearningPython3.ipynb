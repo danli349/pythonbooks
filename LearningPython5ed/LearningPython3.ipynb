{
 "cells": [
  {
   "cell_type": "markdown",
   "id": "d52c1f18",
   "metadata": {},
   "source": [
    "## Chapter 38. Managed Attributes"
   ]
  },
  {
   "cell_type": "code",
   "execution_count": 1,
   "id": "89c66c08",
   "metadata": {},
   "outputs": [
    {
     "data": {
      "text/plain": [
       "['D:\\\\books\\\\python\\\\0. Learning Python',\n",
       " 'C:\\\\Users\\\\lidan\\\\miniconda3\\\\python38.zip',\n",
       " 'C:\\\\Users\\\\lidan\\\\miniconda3\\\\DLLs',\n",
       " 'C:\\\\Users\\\\lidan\\\\miniconda3\\\\lib',\n",
       " 'C:\\\\Users\\\\lidan\\\\miniconda3',\n",
       " '',\n",
       " 'C:\\\\Users\\\\lidan\\\\AppData\\\\Roaming\\\\Python\\\\Python38\\\\site-packages',\n",
       " 'C:\\\\Users\\\\lidan\\\\miniconda3\\\\lib\\\\site-packages',\n",
       " 'C:\\\\Users\\\\lidan\\\\miniconda3\\\\lib\\\\site-packages\\\\magic_impute-2.0.4-py3.8.egg',\n",
       " 'C:\\\\Users\\\\lidan\\\\miniconda3\\\\lib\\\\site-packages\\\\seqc-0.2.0-py3.8.egg',\n",
       " 'C:\\\\Users\\\\lidan\\\\miniconda3\\\\lib\\\\site-packages\\\\weasyprint-56.1-py3.8.egg',\n",
       " 'C:\\\\Users\\\\lidan\\\\miniconda3\\\\lib\\\\site-packages\\\\cairocffi-1.3.0-py3.8.egg',\n",
       " 'C:\\\\Users\\\\lidan\\\\miniconda3\\\\lib\\\\site-packages\\\\win32',\n",
       " 'C:\\\\Users\\\\lidan\\\\miniconda3\\\\lib\\\\site-packages\\\\win32\\\\lib',\n",
       " 'C:\\\\Users\\\\lidan\\\\miniconda3\\\\lib\\\\site-packages\\\\Pythonwin',\n",
       " 'C:\\\\Users\\\\lidan\\\\miniconda3\\\\lib\\\\site-packages\\\\IPython\\\\extensions',\n",
       " 'C:\\\\Users\\\\lidan\\\\.ipython']"
      ]
     },
     "execution_count": 1,
     "metadata": {},
     "output_type": "execute_result"
    }
   ],
   "source": [
    "import sys\n",
    "sys.path"
   ]
  },
  {
   "cell_type": "code",
   "execution_count": 2,
   "id": "86143642",
   "metadata": {},
   "outputs": [],
   "source": [
    "sys.path.insert(1, 'D:\\\\books\\\\python\\\\0. Learning Python\\code')"
   ]
  },
  {
   "cell_type": "code",
   "execution_count": 3,
   "id": "7f8691ca",
   "metadata": {},
   "outputs": [
    {
     "data": {
      "text/plain": [
       "['D:\\\\books\\\\python\\\\0. Learning Python',\n",
       " 'D:\\\\books\\\\python\\\\0. Learning Python\\\\code',\n",
       " 'C:\\\\Users\\\\lidan\\\\miniconda3\\\\python38.zip',\n",
       " 'C:\\\\Users\\\\lidan\\\\miniconda3\\\\DLLs',\n",
       " 'C:\\\\Users\\\\lidan\\\\miniconda3\\\\lib',\n",
       " 'C:\\\\Users\\\\lidan\\\\miniconda3',\n",
       " '',\n",
       " 'C:\\\\Users\\\\lidan\\\\AppData\\\\Roaming\\\\Python\\\\Python38\\\\site-packages',\n",
       " 'C:\\\\Users\\\\lidan\\\\miniconda3\\\\lib\\\\site-packages',\n",
       " 'C:\\\\Users\\\\lidan\\\\miniconda3\\\\lib\\\\site-packages\\\\magic_impute-2.0.4-py3.8.egg',\n",
       " 'C:\\\\Users\\\\lidan\\\\miniconda3\\\\lib\\\\site-packages\\\\seqc-0.2.0-py3.8.egg',\n",
       " 'C:\\\\Users\\\\lidan\\\\miniconda3\\\\lib\\\\site-packages\\\\weasyprint-56.1-py3.8.egg',\n",
       " 'C:\\\\Users\\\\lidan\\\\miniconda3\\\\lib\\\\site-packages\\\\cairocffi-1.3.0-py3.8.egg',\n",
       " 'C:\\\\Users\\\\lidan\\\\miniconda3\\\\lib\\\\site-packages\\\\win32',\n",
       " 'C:\\\\Users\\\\lidan\\\\miniconda3\\\\lib\\\\site-packages\\\\win32\\\\lib',\n",
       " 'C:\\\\Users\\\\lidan\\\\miniconda3\\\\lib\\\\site-packages\\\\Pythonwin',\n",
       " 'C:\\\\Users\\\\lidan\\\\miniconda3\\\\lib\\\\site-packages\\\\IPython\\\\extensions',\n",
       " 'C:\\\\Users\\\\lidan\\\\.ipython']"
      ]
     },
     "execution_count": 3,
     "metadata": {},
     "output_type": "execute_result"
    }
   ],
   "source": [
    "sys.path"
   ]
  },
  {
   "cell_type": "code",
   "execution_count": 4,
   "id": "84f942ad",
   "metadata": {},
   "outputs": [
    {
     "data": {
      "text/plain": [
       "'D:\\\\books\\\\python\\\\0. Learning Python'"
      ]
     },
     "execution_count": 4,
     "metadata": {},
     "output_type": "execute_result"
    }
   ],
   "source": [
    "import os\n",
    "cwd = os.getcwd()\n",
    "cwd"
   ]
  },
  {
   "cell_type": "code",
   "execution_count": 5,
   "id": "0d6d1e86",
   "metadata": {},
   "outputs": [],
   "source": [
    "os.chdir('D:\\\\books\\\\python\\\\0. Learning Python\\\\code')"
   ]
  },
  {
   "cell_type": "code",
   "execution_count": 6,
   "id": "4d34b4eb",
   "metadata": {},
   "outputs": [
    {
     "name": "stdout",
     "output_type": "stream",
     "text": [
      "# File person.py (final)\n",
      "\"\"\"\n",
      "Record and process information about people.\n",
      "Run this file directly to test its classes.\n",
      "\"\"\"\n",
      "from classtools import AttrDisplay                    # Use generic display tool\n",
      "\n",
      "class Person(AttrDisplay):                            # Mix in a repr at this level\n",
      "    \"\"\"\n",
      "    Create and process person records\n",
      "    \"\"\"\n",
      "    def __init__(self, name, job=None, pay=0):\n",
      "        self.name = name\n",
      "        self.job  = job\n",
      "        self.pay  = pay\n",
      "\n",
      "    def lastName(self):                               # Assumes last is last\n",
      "        return self.name.split()[-1]\n",
      "\n",
      "    def giveRaise(self, percent):                     # Percent must be 0..1\n",
      "        self.pay = int(self.pay * (1 + percent))\n",
      "\n",
      "class Manager(Person):\n",
      "    \"\"\"\n",
      "    A customized Person with special requirements\n",
      "    \"\"\"\n",
      "    def __init__(self, name, pay):\n",
      "        Person.__init__(self, name, 'mgr', pay)       # Job name is implied\n",
      "\n",
      "    def giveRaise(self, percent, bonus=.10):\n",
      "        Person.giveRaise(self, percent + bonus)\n",
      "\n",
      "if __name__ == '__main__':\n",
      "    bob = Person('Bob Smith')\n",
      "    sue = Person('Sue Jones', job='dev', pay=100000)\n",
      "    print(bob)\n",
      "    print(sue)\n",
      "    print(bob.lastName(), sue.lastName())\n",
      "    sue.giveRaise(.10)\n",
      "    print(sue)\n",
      "    tom = Manager('Tom Jones', 50000)\n",
      "    tom.giveRaise(.10)\n",
      "    print(tom.lastName())\n",
      "    print(tom)\n"
     ]
    }
   ],
   "source": [
    "!cat Person.py"
   ]
  },
  {
   "cell_type": "code",
   "execution_count": 7,
   "id": "8493b95e",
   "metadata": {},
   "outputs": [
    {
     "name": "stdout",
     "output_type": "stream",
     "text": [
      "class Person:                       # Add (object) in 2.X\n",
      "    def __init__(self, name):\n",
      "        self._name = name\n",
      "    def getName(self):\n",
      "        print('fetch...')\n",
      "        return self._name\n",
      "    def setName(self, value):\n",
      "        print('change...')\n",
      "        self._name = value\n",
      "    def delName(self):\n",
      "        print('remove...')\n",
      "        del self._name\n",
      "    name = property(getName, setName, delName, \"name property docs\")\n",
      "\n",
      "bob = Person('Bob Smith')           # bob has a managed attribute\n",
      "print(bob.name)                     # Runs getName\n",
      "bob.name = 'Robert Smith'           # Runs setName\n",
      "print(bob.name)\n",
      "del bob.name                        # Runs delName\n",
      "\n",
      "print('-'*20)\n",
      "sue = Person('Sue Jones')           # sue inherits property too\n",
      "print(sue.name)\n",
      "print(Person.name.__doc__)          # Or help(Person.name)\n"
     ]
    }
   ],
   "source": [
    "!cat prop-person.py"
   ]
  },
  {
   "cell_type": "code",
   "execution_count": 8,
   "id": "dd2b3970",
   "metadata": {},
   "outputs": [
    {
     "name": "stdout",
     "output_type": "stream",
     "text": [
      "fetch...\n",
      "Bob Smith\n",
      "change...\n",
      "fetch...\n",
      "Robert Smith\n",
      "remove...\n",
      "--------------------\n",
      "fetch...\n",
      "Sue Jones\n",
      "name property docs\n"
     ]
    }
   ],
   "source": [
    "!python prop-person.py"
   ]
  },
  {
   "cell_type": "code",
   "execution_count": 9,
   "id": "c27e9aaa",
   "metadata": {},
   "outputs": [
    {
     "name": "stdout",
     "output_type": "stream",
     "text": [
      "class PropSquare:\n",
      "    def __init__(self, start):\n",
      "        self.value = start\n",
      "    def getX(self):                         # On attr fetch\n",
      "        return self.value ** 2\n",
      "    def setX(self, value):                  # On attr assign\n",
      "        self.value = value\n",
      "    X = property(getX, setX)                # No delete or docs\n",
      "\n",
      "P = PropSquare(3)       # 2 instances of class with property\n",
      "Q = PropSquare(32)      # Each has different state information\n",
      "\n",
      "print(P.X)              # 3 ** 2\n",
      "P.X = 4\n",
      "print(P.X)              # 4 ** 2\n",
      "print(Q.X)              # 32 ** 2 (1024)\n"
     ]
    }
   ],
   "source": [
    "!cat prop-computed.py"
   ]
  },
  {
   "cell_type": "code",
   "execution_count": 10,
   "id": "46eda1f6",
   "metadata": {},
   "outputs": [
    {
     "name": "stdout",
     "output_type": "stream",
     "text": [
      "9\n",
      "16\n",
      "1024\n"
     ]
    }
   ],
   "source": [
    "!python prop-computed.py"
   ]
  },
  {
   "cell_type": "code",
   "execution_count": 11,
   "id": "932106e3",
   "metadata": {},
   "outputs": [
    {
     "name": "stdout",
     "output_type": "stream",
     "text": [
      "class Person:\n",
      "    def __init__(self, name):\n",
      "        self._name = name\n",
      "\n",
      "    @property\n",
      "    def name(self):                 # name = property(name)\n",
      "        \"name property docs\"\n",
      "        print('fetch...')\n",
      "        return self._name\n",
      "\n",
      "    @name.setter\n",
      "    def name(self, value):          # name = name.setter(name)\n",
      "        print('change...')\n",
      "        self._name = value\n",
      "\n",
      "    @name.deleter\n",
      "    def name(self):                 # name = name.deleter(name)\n",
      "        print('remove...')\n",
      "        del self._name\n",
      "\n",
      "bob = Person('Bob Smith')           # bob has a managed attribute\n",
      "print(bob.name)                     # Runs name getter (name 1)\n",
      "bob.name = 'Robert Smith'           # Runs name setter (name 2)\n",
      "print(bob.name)\n",
      "del bob.name                        # Runs name deleter (name 3)\n",
      "\n",
      "print('-'*20)\n",
      "sue = Person('Sue Jones')           # sue inherits property too\n",
      "print(sue.name)\n",
      "print(Person.name.__doc__)          # Or help(Person.name)\n"
     ]
    }
   ],
   "source": [
    "!cat prop-person-deco.py"
   ]
  },
  {
   "cell_type": "code",
   "execution_count": 12,
   "id": "8b09b8b0",
   "metadata": {},
   "outputs": [
    {
     "name": "stdout",
     "output_type": "stream",
     "text": [
      "fetch...\n",
      "Bob Smith\n",
      "change...\n",
      "fetch...\n",
      "Robert Smith\n",
      "remove...\n",
      "--------------------\n",
      "fetch...\n",
      "Sue Jones\n",
      "name property docs\n"
     ]
    }
   ],
   "source": [
    "!python prop-person-deco.py"
   ]
  },
  {
   "cell_type": "markdown",
   "id": "537b7cb0",
   "metadata": {},
   "source": [
    "### Descriptors"
   ]
  },
  {
   "cell_type": "code",
   "execution_count": 13,
   "id": "9b30c84f",
   "metadata": {},
   "outputs": [
    {
     "name": "stdout",
     "output_type": "stream",
     "text": [
      "<__main__.Descriptor object at 0x0000022DD0295220>\n",
      "<__main__.Subject object at 0x0000022DD0295820>\n",
      "<class '__main__.Subject'>\n"
     ]
    }
   ],
   "source": [
    "class Descriptor:                        # Add \"(object)\" in 2.X\n",
    "        def __get__(self, instance, owner):\n",
    "            print(self, instance, owner, sep='\\n')\n",
    "\n",
    "class Subject:                           # Add \"(object)\" in 2.X\n",
    "        attr = Descriptor()                  # Descriptor instance is class attr\n",
    "\n",
    "X = Subject()\n",
    "X.attr"
   ]
  },
  {
   "cell_type": "code",
   "execution_count": 14,
   "id": "7be593c1",
   "metadata": {},
   "outputs": [
    {
     "name": "stdout",
     "output_type": "stream",
     "text": [
      "<__main__.Descriptor object at 0x0000022DD0295220>\n",
      "None\n",
      "<class '__main__.Subject'>\n"
     ]
    }
   ],
   "source": [
    "Subject.attr"
   ]
  },
  {
   "cell_type": "code",
   "execution_count": 15,
   "id": "95dc1e63",
   "metadata": {},
   "outputs": [
    {
     "name": "stdout",
     "output_type": "stream",
     "text": [
      "class Name:                             # Use (object) in 2.X\n",
      "    \"name descriptor docs\"\n",
      "    def __get__(self, instance, owner):\n",
      "        print('fetch...')\n",
      "        return instance._name\n",
      "    def __set__(self, instance, value):\n",
      "        print('change...')\n",
      "        instance._name = value\n",
      "    def __delete__(self, instance):\n",
      "        print('remove...')\n",
      "        del instance._name\n",
      "\n",
      "class Person:                           # Use (object) in 2.X\n",
      "    def __init__(self, name):\n",
      "        self._name = name\n",
      "    name = Name()                       # Assign descriptor to attr\n",
      "\n",
      "bob = Person('Bob Smith')               # bob has a managed attribute\n",
      "print(bob.name)                         # Runs Name.__get__\n",
      "bob.name = 'Robert Smith'               # Runs Name.__set__\n",
      "print(bob.name)\n",
      "del bob.name                            # Runs Name.__delete__\n",
      "\n",
      "print('-'*20)\n",
      "sue = Person('Sue Jones')               # sue inherits descriptor too\n",
      "print(sue.name)\n",
      "print(Name.__doc__)                     # Or help(Name)\n"
     ]
    }
   ],
   "source": [
    "!cat desc-person.py"
   ]
  },
  {
   "cell_type": "code",
   "execution_count": 16,
   "id": "9fb88e4c",
   "metadata": {},
   "outputs": [
    {
     "name": "stdout",
     "output_type": "stream",
     "text": [
      "fetch...\n",
      "Bob Smith\n",
      "change...\n",
      "fetch...\n",
      "Robert Smith\n",
      "remove...\n",
      "--------------------\n",
      "fetch...\n",
      "Sue Jones\n",
      "name descriptor docs\n"
     ]
    }
   ],
   "source": [
    "!python desc-person.py"
   ]
  },
  {
   "cell_type": "code",
   "execution_count": 21,
   "id": "249401ab",
   "metadata": {},
   "outputs": [
    {
     "name": "stdout",
     "output_type": "stream",
     "text": [
      "class Name:                             # Use (object) in 2.X\n",
      "    \"name descriptor docs\"\n",
      "    def __get__(self, instance, owner):\n",
      "        print('fetch...')\n",
      "        return instance._name\n",
      "    def __set__(self, instance, value):\n",
      "        print('change...')\n",
      "        instance._name = value\n",
      "    def __delete__(self, instance):\n",
      "        print('remove...')\n",
      "        del instance._name\n",
      "\n",
      "class Person:                           # Use (object) in 2.X\n",
      "    def __init__(self, name):\n",
      "        self._name = name\n",
      "    name = Name()                       # Assign descriptor to attr\n",
      "\n",
      "bob = Person('Bob Smith')               # bob has a managed attribute\n",
      "print(bob.name)                         # Runs Name.__get__\n",
      "bob.name = 'Robert Smith'               # Runs Name.__set__\n",
      "print(bob.name)\n",
      "del bob.name                            # Runs Name.__delete__\n",
      "\n",
      "print('-'*20)\n",
      "sue = Person('Sue Jones')               # sue inherits descriptor too\n",
      "print(sue.name)\n",
      "print(Name.__doc__)                     # Or help(Name)\n"
     ]
    }
   ],
   "source": [
    "!cat desc-person2.py"
   ]
  },
  {
   "cell_type": "code",
   "execution_count": 22,
   "id": "a07a5058",
   "metadata": {},
   "outputs": [
    {
     "name": "stdout",
     "output_type": "stream",
     "text": [
      "fetch...\n",
      "Bob Smith\n",
      "change...\n",
      "fetch...\n",
      "Robert Smith\n",
      "remove...\n",
      "--------------------\n",
      "fetch...\n",
      "Sue Jones\n",
      "name descriptor docs\n"
     ]
    }
   ],
   "source": [
    "!python desc-person2.py"
   ]
  },
  {
   "cell_type": "code",
   "execution_count": 23,
   "id": "d3815270",
   "metadata": {},
   "outputs": [
    {
     "name": "stdout",
     "output_type": "stream",
     "text": [
      "class DescSquare:\n",
      "    def __init__(self, start):                  # Each desc has own state\n",
      "        self.value = start\n",
      "    def __get__(self, instance, owner):         # On attr fetch\n",
      "        return self.value ** 2\n",
      "    def __set__(self, instance, value):         # On attr assign\n",
      "        self.value = value                      # No delete or docs\n",
      "\n",
      "class Client1:\n",
      "    X = DescSquare(3)          # Assign descriptor instance to class attr\n",
      "\n",
      "class Client2:\n",
      "    X = DescSquare(32)         # Another instance in another client class\n",
      "                               # Could also code 2 instances in same class\n",
      "c1 = Client1()\n",
      "c2 = Client2()\n",
      "\n",
      "print(c1.X)                    # 3 ** 2\n",
      "c1.X = 4\n",
      "print(c1.X)                    # 4 ** 2\n",
      "print(c2.X)                    # 32 ** 2 (1024)\n"
     ]
    }
   ],
   "source": [
    "!cat desc-computed.py"
   ]
  },
  {
   "cell_type": "code",
   "execution_count": 24,
   "id": "6197bd0a",
   "metadata": {},
   "outputs": [
    {
     "name": "stdout",
     "output_type": "stream",
     "text": [
      "9\n",
      "16\n",
      "1024\n"
     ]
    }
   ],
   "source": [
    "!python desc-computed.py"
   ]
  },
  {
   "cell_type": "code",
   "execution_count": 25,
   "id": "4546916e",
   "metadata": {},
   "outputs": [
    {
     "name": "stdout",
     "output_type": "stream",
     "text": [
      "class DescState:                           # Use descriptor state, (object) in 2.X\n",
      "    def __init__(self, value):\n",
      "        self.value = value\n",
      "    def __get__(self, instance, owner):    # On attr fetch\n",
      "        print('DescState get')\n",
      "        return self.value * 10\n",
      "    def __set__(self, instance, value):    # On attr assign\n",
      "        print('DescState set')\n",
      "        self.value = value\n",
      "\n",
      "# Client class\n",
      "class CalcAttrs:\n",
      "    X = DescState(2)                       # Descriptor class attr\n",
      "    Y = 3                                  # Class attr\n",
      "    def __init__(self):\n",
      "        self.Z = 4                         # Instance attr\n",
      "\n",
      "obj = CalcAttrs()\n",
      "print(obj.X, obj.Y, obj.Z)                 # X is computed, others are not\n",
      "obj.X = 5                                  # X assignment is intercepted\n",
      "CalcAttrs.Y = 6                            # Y reassigned in class\n",
      "obj.Z = 7                                  # Z assigned in instance\n",
      "print(obj.X, obj.Y, obj.Z)\n",
      "\n",
      "obj2 = CalcAttrs()                         # But X uses shared data, like Y!\n",
      "print(obj2.X, obj2.Y, obj2.Z)\n"
     ]
    }
   ],
   "source": [
    "!cat desc-state-desc.py"
   ]
  },
  {
   "cell_type": "code",
   "execution_count": 26,
   "id": "a54b0213",
   "metadata": {},
   "outputs": [
    {
     "name": "stdout",
     "output_type": "stream",
     "text": [
      "DescState get\n",
      "20 3 4\n",
      "DescState set\n",
      "DescState get\n",
      "50 6 7\n",
      "DescState get\n",
      "50 6 4\n"
     ]
    }
   ],
   "source": [
    "!python desc-state-desc.py"
   ]
  },
  {
   "cell_type": "code",
   "execution_count": 27,
   "id": "687b0d52",
   "metadata": {},
   "outputs": [
    {
     "name": "stdout",
     "output_type": "stream",
     "text": [
      "class InstState:                           # Using instance state, (object) in 2.X\n",
      "    def __get__(self, instance, owner):\n",
      "        print('InstState get')             # Assume set by client class\n",
      "        return instance._X * 10\n",
      "    def __set__(self, instance, value):\n",
      "        print('InstState set')\n",
      "        instance._X = value\n",
      "\n",
      "# Client class\n",
      "class CalcAttrs:\n",
      "    X = InstState()                        # Descriptor class attr\n",
      "    Y = 3                                  # Class attr\n",
      "    def __init__(self):\n",
      "        self._X = 2                        # Instance attr\n",
      "        self.Z  = 4                        # Instance attr\n",
      "\n",
      "obj = CalcAttrs()\n",
      "print(obj.X, obj.Y, obj.Z)                 # X is computed, others are not\n",
      "obj.X = 5                                  # X assignment is intercepted\n",
      "CalcAttrs.Y = 6                            # Y reassigned in class\n",
      "obj.Z = 7                                  # Z assigned in instance\n",
      "print(obj.X, obj.Y, obj.Z)\n",
      "\n",
      "obj2 = CalcAttrs()                         # But X differs now, like Z!\n",
      "print(obj2.X, obj2.Y, obj2.Z)\n"
     ]
    }
   ],
   "source": [
    "!cat desc-state-inst.py"
   ]
  },
  {
   "cell_type": "code",
   "execution_count": 28,
   "id": "8694b26e",
   "metadata": {},
   "outputs": [
    {
     "name": "stdout",
     "output_type": "stream",
     "text": [
      "InstState get\n",
      "20 3 4\n",
      "InstState set\n",
      "InstState get\n",
      "50 6 7\n",
      "InstState get\n",
      "20 6 4\n"
     ]
    }
   ],
   "source": [
    "!python desc-state-inst.py"
   ]
  },
  {
   "cell_type": "code",
   "execution_count": 30,
   "id": "0e78f484",
   "metadata": {},
   "outputs": [
    {
     "data": {
      "text/plain": [
       "'spam, eggs'"
      ]
     },
     "execution_count": 30,
     "metadata": {},
     "output_type": "execute_result"
    }
   ],
   "source": [
    "class DescBoth:\n",
    "        def __init__(self, data):\n",
    "            self.data = data\n",
    "        def __get__(self, instance, owner):\n",
    "            return '%s, %s' % (self.data, instance.data)\n",
    "        def __set__(self, instance, value):\n",
    "            instance.data = value\n",
    "\n",
    "class Client:\n",
    "        def __init__(self, data):\n",
    "            self.data = data\n",
    "        managed = DescBoth('spam')\n",
    "\n",
    "I = Client('eggs')\n",
    "I.managed                      # Show both data sources"
   ]
  },
  {
   "cell_type": "code",
   "execution_count": 31,
   "id": "c92dd932",
   "metadata": {},
   "outputs": [
    {
     "data": {
      "text/plain": [
       "'spam, SPAM'"
      ]
     },
     "execution_count": 31,
     "metadata": {},
     "output_type": "execute_result"
    }
   ],
   "source": [
    "I.managed = 'SPAM'             # Change instance data\n",
    "I.managed"
   ]
  },
  {
   "cell_type": "code",
   "execution_count": 32,
   "id": "4d94293b",
   "metadata": {},
   "outputs": [
    {
     "data": {
      "text/plain": [
       "{'data': 'SPAM'}"
      ]
     },
     "execution_count": 32,
     "metadata": {},
     "output_type": "execute_result"
    }
   ],
   "source": [
    "I.__dict__"
   ]
  },
  {
   "cell_type": "code",
   "execution_count": 33,
   "id": "bd8d5141",
   "metadata": {},
   "outputs": [
    {
     "data": {
      "text/plain": [
       "['data', 'managed']"
      ]
     },
     "execution_count": 33,
     "metadata": {},
     "output_type": "execute_result"
    }
   ],
   "source": [
    "[x for x in dir(I) if not x.startswith('__')]"
   ]
  },
  {
   "cell_type": "code",
   "execution_count": 34,
   "id": "e43dd981",
   "metadata": {},
   "outputs": [
    {
     "data": {
      "text/plain": [
       "'SPAM'"
      ]
     },
     "execution_count": 34,
     "metadata": {},
     "output_type": "execute_result"
    }
   ],
   "source": [
    "getattr(I, 'data')"
   ]
  },
  {
   "cell_type": "code",
   "execution_count": 35,
   "id": "9ce38898",
   "metadata": {},
   "outputs": [
    {
     "data": {
      "text/plain": [
       "'spam, SPAM'"
      ]
     },
     "execution_count": 35,
     "metadata": {},
     "output_type": "execute_result"
    }
   ],
   "source": [
    "getattr(I, 'managed')"
   ]
  },
  {
   "cell_type": "code",
   "execution_count": 36,
   "id": "54dd9c93",
   "metadata": {},
   "outputs": [
    {
     "name": "stdout",
     "output_type": "stream",
     "text": [
      "data => SPAM\n",
      "managed => spam, SPAM\n"
     ]
    }
   ],
   "source": [
    "for attr in (x for x in dir(I) if not x.startswith('__')):\n",
    "        print('%s => %s' % (attr, getattr(I, attr)))"
   ]
  },
  {
   "cell_type": "code",
   "execution_count": 11,
   "id": "5f557606",
   "metadata": {},
   "outputs": [
    {
     "name": "stdout",
     "output_type": "stream",
     "text": [
      "class Property:\n",
      "    def __init__(self, get=None, fset=None, fdel=None, doc=None):\n",
      "        self.get = get\n",
      "        self.fset = fset\n",
      "        self.fdel = fdel                                  # Save unbound methods\n",
      "        self.__doc__ = doc                                # or other callables\n",
      "\n",
      "    def __get__(self, instance, instancetype=None):\n",
      "        if instance is None:\n",
      "            return self\n",
      "        if self.get is None:\n",
      "            raise AttributeError(\"can't get attribute\")\n",
      "        return self.get(instance)                        # Pass instance to self\n",
      "                                                          # in property accessors\n",
      "    def __set__(self, instance, value):\n",
      "        if self.fset is None:\n",
      "            raise AttributeError(\"can't set attribute\")\n",
      "        self.fset(instance, value)\n",
      "\n",
      "    def __delete__(self, instance):\n",
      "        if self.fdel is None:\n",
      "            raise AttributeError(\"can't delete attribute\")\n",
      "        self.fdel(instance)\n",
      "\n",
      "class Person:\n",
      "    def getName(self): print('getName...')\n",
      "    def setName(self, value): print('setName...')\n",
      "    name = Property(getName, setName)                     # Use like property()\n",
      "\n",
      "x = Person()\n",
      "x.name\n",
      "x.name = 'Bob'\n",
      "x.name\n",
      "del x.name\n"
     ]
    }
   ],
   "source": [
    "!cat prop-desc-equiv.py"
   ]
  },
  {
   "cell_type": "code",
   "execution_count": 12,
   "id": "daa24fdc",
   "metadata": {},
   "outputs": [
    {
     "name": "stdout",
     "output_type": "stream",
     "text": [
      "getName...\n",
      "setName...\n",
      "getName...\n"
     ]
    },
    {
     "name": "stderr",
     "output_type": "stream",
     "text": [
      "Traceback (most recent call last):\n",
      "  File \"prop-desc-equiv.py\", line 34, in <module>\n",
      "    del x.name\n",
      "  File \"prop-desc-equiv.py\", line 22, in __delete__\n",
      "    raise AttributeError(\"can't delete attribute\")\n",
      "AttributeError: can't delete attribute\n"
     ]
    }
   ],
   "source": [
    "!python prop-desc-equiv.py"
   ]
  },
  {
   "cell_type": "code",
   "execution_count": 13,
   "id": "46412618",
   "metadata": {},
   "outputs": [
    {
     "name": "stdout",
     "output_type": "stream",
     "text": [
      "Get: job\n"
     ]
    }
   ],
   "source": [
    "class Catcher:\n",
    "    def __getattr__(self, name):\n",
    "        print('Get: %s' % name)\n",
    "    def __setattr__(self, name, value):\n",
    "        print('Set: %s %s' % (name, value))\n",
    "\n",
    "X = Catcher()\n",
    "X.job                               # Prints \"Get: job\""
   ]
  },
  {
   "cell_type": "code",
   "execution_count": 14,
   "id": "3b5fed60",
   "metadata": {},
   "outputs": [
    {
     "name": "stdout",
     "output_type": "stream",
     "text": [
      "Get: pay\n"
     ]
    }
   ],
   "source": [
    "X.pay                               # Prints \"Get: pay\""
   ]
  },
  {
   "cell_type": "code",
   "execution_count": 15,
   "id": "44ed01bf",
   "metadata": {},
   "outputs": [
    {
     "name": "stdout",
     "output_type": "stream",
     "text": [
      "Set: pay 99\n"
     ]
    }
   ],
   "source": [
    "X.pay = 99                          # Prints \"Set: pay 99\""
   ]
  },
  {
   "cell_type": "code",
   "execution_count": 16,
   "id": "1570c6c1",
   "metadata": {},
   "outputs": [
    {
     "name": "stdout",
     "output_type": "stream",
     "text": [
      "Get: job\n"
     ]
    }
   ],
   "source": [
    "class Catcher():                           # Need (object) in 2.X only\n",
    "    def __getattribute__(self, name):            # Works same as getattr here\n",
    "        print('Get: %s' % name)                  # But prone to loops on general\n",
    "\n",
    "X = Catcher()\n",
    "X.job  "
   ]
  },
  {
   "cell_type": "code",
   "execution_count": 17,
   "id": "314a929a",
   "metadata": {},
   "outputs": [
    {
     "name": "stdout",
     "output_type": "stream",
     "text": [
      "Trace: append\n"
     ]
    }
   ],
   "source": [
    "class Wrapper:\n",
    "    def __init__(self, object):\n",
    "        self.wrapped = object                    # Save object\n",
    "    def __getattr__(self, attrname):\n",
    "        print('Trace: ' + attrname)              # Trace fetch\n",
    "        return getattr(self.wrapped, attrname)   # Delegate fetch\n",
    "\n",
    "X = Wrapper([1, 2, 3])\n",
    "X.append(4)                         # Prints \"Trace: append\""
   ]
  },
  {
   "cell_type": "code",
   "execution_count": 18,
   "id": "c055e381",
   "metadata": {},
   "outputs": [
    {
     "data": {
      "text/plain": [
       "[1, 2, 3, 4]"
      ]
     },
     "execution_count": 18,
     "metadata": {},
     "output_type": "execute_result"
    }
   ],
   "source": [
    "X.wrapped"
   ]
  },
  {
   "cell_type": "code",
   "execution_count": 29,
   "id": "ec2fb898",
   "metadata": {},
   "outputs": [
    {
     "data": {
      "text/plain": [
       "[1, 2, 3, 4]"
      ]
     },
     "execution_count": 29,
     "metadata": {},
     "output_type": "execute_result"
    }
   ],
   "source": [
    "a = [1, 2, 3]\n",
    "a.append(4)\n",
    "a"
   ]
  },
  {
   "cell_type": "code",
   "execution_count": 32,
   "id": "a1bd625c",
   "metadata": {},
   "outputs": [
    {
     "data": {
      "text/plain": [
       "[1, 2, 3, 4]"
      ]
     },
     "execution_count": 32,
     "metadata": {},
     "output_type": "execute_result"
    }
   ],
   "source": [
    "a = [1, 2, 3]\n",
    "getattr(a, 'append')(4)\n",
    "a"
   ]
  },
  {
   "cell_type": "code",
   "execution_count": 37,
   "id": "bd7d5bb4",
   "metadata": {},
   "outputs": [
    {
     "name": "stdout",
     "output_type": "stream",
     "text": [
      "class Person:                               # Portable: 2.X or 3.X\n",
      "    def __init__(self, name):               # On [Person()]\n",
      "        self._name = name                   # Triggers __setattr__!\n",
      "\n",
      "    def __getattr__(self, attr):            # On [obj.undefined]\n",
      "        print('get: ' + attr)\n",
      "        if attr == 'name':                  # Intercept name: not stored\n",
      "            return self._name               # Does not loop: real attr\n",
      "        else:                               # Others are errors\n",
      "            raise AttributeError(attr)\n",
      "\n",
      "    def __setattr__(self, attr, value):     # On [obj.any = value]\n",
      "        print('set: ' + attr)\n",
      "        if attr == 'name':\n",
      "            attr = '_name'                  # Set internal name\n",
      "        self.__dict__[attr] = value         # Avoid looping here\n",
      "\n",
      "    def __delattr__(self, attr):            # On [del obj.any]\n",
      "        print('del: ' + attr)\n",
      "        if attr == 'name':\n",
      "            attr = '_name'                  # Avoid looping here too\n",
      "        del self.__dict__[attr]             # but much less common\n",
      "\n",
      "bob = Person('Bob Smith')           # bob has a managed attribute\n",
      "print(bob.name)                     # Runs __getattr__\n",
      "bob.name = 'Robert Smith'           # Runs __setattr__\n",
      "print(bob.name)\n",
      "del bob.name                        # Runs __delattr__\n",
      "\n",
      "print('-'*20)\n",
      "sue = Person('Sue Jones')           # sue inherits property too\n",
      "print(sue.name)\n",
      "print(Person.name.__doc__)         # No equivalent here\n"
     ]
    }
   ],
   "source": [
    "!cat getattr-person.py"
   ]
  },
  {
   "cell_type": "code",
   "execution_count": 38,
   "id": "e9463890",
   "metadata": {},
   "outputs": [
    {
     "name": "stdout",
     "output_type": "stream",
     "text": [
      "set: _name\n",
      "get: name\n",
      "Bob Smith\n",
      "set: name\n",
      "get: name\n",
      "Robert Smith\n",
      "del: name\n",
      "--------------------\n",
      "set: _name\n",
      "get: name\n",
      "Sue Jones\n"
     ]
    },
    {
     "name": "stderr",
     "output_type": "stream",
     "text": [
      "Traceback (most recent call last):\n",
      "  File \"getattr-person.py\", line 33, in <module>\n",
      "    print(Person.name.__doc__)         # No equivalent here\n",
      "AttributeError: type object 'Person' has no attribute 'name'\n"
     ]
    }
   ],
   "source": [
    "!python getattr-person.py"
   ]
  },
  {
   "cell_type": "code",
   "execution_count": 39,
   "id": "f0de6d59",
   "metadata": {},
   "outputs": [
    {
     "name": "stdout",
     "output_type": "stream",
     "text": [
      "class Person:                               # Portable: 2.X or 3.X\n",
      "    def __init__(self, name):               # On [Person()]\n",
      "        self._name = name                   # Triggers __setattr__!\n",
      "\n",
      "    def __getattribute__(self, attr):                 # On [obj.any]\n",
      "        print('get: ' + attr)\n",
      "        if attr == 'name':                            # Intercept all names\n",
      "            attr = '_name'                            # Map to internal name\n",
      "        return object.__getattribute__(self, attr)    # Avoid looping here\n",
      "\n",
      "    def __setattr__(self, attr, value):     # On [obj.any = value]\n",
      "        print('set: ' + attr)\n",
      "        if attr == 'name':\n",
      "            attr = '_name'                  # Set internal name\n",
      "        self.__dict__[attr] = value         # Avoid looping here\n",
      "\n",
      "    def __delattr__(self, attr):            # On [del obj.any]\n",
      "        print('del: ' + attr)\n",
      "        if attr == 'name':\n",
      "            attr = '_name'                  # Avoid looping here too\n",
      "        del self.__dict__[attr]             # but much less common\n",
      "\n",
      "bob = Person('Bob Smith')           # bob has a managed attribute\n",
      "print(bob.name)                     # Runs __getattr__\n",
      "bob.name = 'Robert Smith'           # Runs __setattr__\n",
      "print(bob.name)\n",
      "del bob.name                        # Runs __delattr__\n",
      "\n",
      "print('-'*20)\n",
      "sue = Person('Sue Jones')           # sue inherits property too\n",
      "print(sue.name)\n",
      "print(Person.name.__doc__)         # No equivalent here\n"
     ]
    }
   ],
   "source": [
    "!cat getattribute-person.py"
   ]
  },
  {
   "cell_type": "code",
   "execution_count": 40,
   "id": "f7557adb",
   "metadata": {},
   "outputs": [
    {
     "name": "stdout",
     "output_type": "stream",
     "text": [
      "set: _name\n",
      "get: __dict__\n",
      "get: name\n",
      "Bob Smith\n",
      "set: name\n",
      "get: __dict__\n",
      "get: name\n",
      "Robert Smith\n",
      "del: name\n",
      "get: __dict__\n",
      "--------------------\n",
      "set: _name\n",
      "get: __dict__\n",
      "get: name\n",
      "Sue Jones\n"
     ]
    },
    {
     "name": "stderr",
     "output_type": "stream",
     "text": [
      "Traceback (most recent call last):\n",
      "  File \"getattribute-person.py\", line 32, in <module>\n",
      "    print(Person.name.__doc__)         # No equivalent here\n",
      "AttributeError: type object 'Person' has no attribute 'name'\n"
     ]
    }
   ],
   "source": [
    "!python getattribute-person.py"
   ]
  },
  {
   "cell_type": "code",
   "execution_count": 41,
   "id": "d31eb2eb",
   "metadata": {},
   "outputs": [
    {
     "name": "stdout",
     "output_type": "stream",
     "text": [
      "class AttrSquare:\n",
      "    def __init__(self, start):\n",
      "        self.value = start                            # Triggers __setattr__!\n",
      "\n",
      "    def __getattr__(self, attr):                      # On undefined attr fetch\n",
      "        if attr == 'X':\n",
      "            return self.value ** 2                    # value is not undefined\n",
      "        else:\n",
      "            raise AttributeError(attr)\n",
      "\n",
      "    def __setattr__(self, attr, value):               # On all attr assignments\n",
      "        if attr == 'X':\n",
      "            attr = 'value'\n",
      "        self.__dict__[attr] = value\n",
      "\n",
      "A = AttrSquare(3)       # 2 instances of class with overloading\n",
      "B = AttrSquare(32)      # Each has different state information\n",
      "\n",
      "print(A.X)              # 3 ** 2\n",
      "A.X = 4\n",
      "print(A.X)              # 4 ** 2\n",
      "print(B.X)              # 32 ** 2 (1024)\n"
     ]
    }
   ],
   "source": [
    "!cat getattr-computed.py"
   ]
  },
  {
   "cell_type": "code",
   "execution_count": 42,
   "id": "e709273c",
   "metadata": {},
   "outputs": [
    {
     "name": "stdout",
     "output_type": "stream",
     "text": [
      "9\n",
      "16\n",
      "1024\n"
     ]
    }
   ],
   "source": [
    "!python getattr-computed.py"
   ]
  },
  {
   "cell_type": "code",
   "execution_count": 43,
   "id": "9f3cbf86",
   "metadata": {},
   "outputs": [
    {
     "name": "stdout",
     "output_type": "stream",
     "text": [
      "class AttrSquare(object):                   # Add (object) for 2.X\n",
      "    def __init__(self, start):\n",
      "        self.value = start                  # Triggers __setattr__!\n",
      "\n",
      "    def __getattribute__(self, attr):       # On all attr fetches\n",
      "        if attr == 'X':\n",
      "            return self.value ** 2          # Triggers __getattribute__ again!\n",
      "        else:\n",
      "            return object.__getattribute__(self, attr)\n",
      "\n",
      "    def __setattr__(self, attr, value):     # On all attr assignments\n",
      "        if attr == 'X':\n",
      "            attr = 'value'\n",
      "        object.__setattr__(self, attr, value)\n",
      "\n",
      "A = AttrSquare(3)       # 2 instances of class with overloading\n",
      "B = AttrSquare(32)      # Each has different state information\n",
      "\n",
      "print(A.X)              # 3 ** 2\n",
      "A.X = 4\n",
      "print(A.X)              # 4 ** 2\n",
      "print(B.X)              # 32 ** 2 (1024)\n"
     ]
    }
   ],
   "source": [
    "!cat getattribute-computed.py"
   ]
  },
  {
   "cell_type": "code",
   "execution_count": 44,
   "id": "b3a4a32f",
   "metadata": {},
   "outputs": [
    {
     "name": "stdout",
     "output_type": "stream",
     "text": [
      "9\n",
      "16\n",
      "1024\n"
     ]
    }
   ],
   "source": [
    "!python getattribute-computed.py"
   ]
  },
  {
   "cell_type": "code",
   "execution_count": 7,
   "id": "27377503",
   "metadata": {},
   "outputs": [
    {
     "name": "stdout",
     "output_type": "stream",
     "text": [
      "class GetAttr:\n",
      "    attr1 = 1\n",
      "    def __init__(self):\n",
      "        self.attr2 = 2\n",
      "    def __getattr__(self, attr):            # On undefined attrs only\n",
      "        print('get: ' + attr)               # Not on attr1: inherited from class\n",
      "        if attr == 'attr3':                 # Not on attr2: stored on instance\n",
      "            return 3\n",
      "        else:\n",
      "            raise AttributeError(attr)\n",
      " \n",
      "X = GetAttr()\n",
      "print(X.attr1)\n",
      "print(X.attr2)\n",
      "print(X.attr3)\n",
      "print('-'*20)\n",
      "\n",
      "class GetAttribute(object):                 # (object) needed in 2.X only\n",
      "    attr1 = 1\n",
      "    def __init__(self):\n",
      "        self.attr2 = 2\n",
      "    def __getattribute__(self, attr):       # On all attr fetches\n",
      "        print('get: ' + attr)               # Use superclass to avoid looping here\n",
      "        if attr == 'attr3':\n",
      "            return 3\n",
      "        else:\n",
      "            return object.__getattribute__(self, attr)\n",
      "\n",
      "X = GetAttribute()\n",
      "print(X.attr1)\n",
      "print(X.attr2)\n",
      "print(X.attr3)\n"
     ]
    }
   ],
   "source": [
    "!cat getattr-v-getattr.py"
   ]
  },
  {
   "cell_type": "code",
   "execution_count": 8,
   "id": "a0e33d0c",
   "metadata": {},
   "outputs": [
    {
     "name": "stdout",
     "output_type": "stream",
     "text": [
      "1\n",
      "2\n",
      "get: attr3\n",
      "3\n",
      "--------------------\n",
      "get: attr1\n",
      "1\n",
      "get: attr2\n",
      "2\n",
      "get: attr3\n",
      "3\n"
     ]
    }
   ],
   "source": [
    "!python getattr-v-getattr.py"
   ]
  },
  {
   "cell_type": "markdown",
   "id": "1859b41c",
   "metadata": {},
   "source": [
    "### Management Techniques Compared   \n",
    "\n",
    "  - Two dynamically computed attributes with properties"
   ]
  },
  {
   "cell_type": "code",
   "execution_count": 9,
   "id": "7573ad8c",
   "metadata": {},
   "outputs": [
    {
     "name": "stdout",
     "output_type": "stream",
     "text": [
      "9\n"
     ]
    }
   ],
   "source": [
    "class Powers(object):                              # Need (object) in 2.X only\n",
    "    def __init__(self, square, cube):\n",
    "        self._square = square                      # _square is the base value\n",
    "        self._cube   = cube                        # square is the property name\n",
    "\n",
    "    def getSquare(self):\n",
    "        return self._square ** 2\n",
    "    def setSquare(self, value):\n",
    "        self._square = value\n",
    "    square = property(getSquare, setSquare)\n",
    "\n",
    "    def getCube(self):\n",
    "        return self._cube ** 3\n",
    "    cube = property(getCube)\n",
    "\n",
    "X = Powers(3, 4)\n",
    "print(X.square)      # 3 ** 2 = 9"
   ]
  },
  {
   "cell_type": "code",
   "execution_count": 10,
   "id": "ce261ec1",
   "metadata": {},
   "outputs": [
    {
     "name": "stdout",
     "output_type": "stream",
     "text": [
      "64\n"
     ]
    }
   ],
   "source": [
    "print(X.cube)        # 4 ** 3 = 64"
   ]
  },
  {
   "cell_type": "code",
   "execution_count": 11,
   "id": "ca1747c0",
   "metadata": {},
   "outputs": [
    {
     "name": "stdout",
     "output_type": "stream",
     "text": [
      "25\n"
     ]
    }
   ],
   "source": [
    "X.square = 5\n",
    "print(X.square)      # 5 ** 2 = 25"
   ]
  },
  {
   "cell_type": "markdown",
   "id": "fb983e23",
   "metadata": {},
   "source": [
    "  - Same, but with descriptors (per-instance state)"
   ]
  },
  {
   "cell_type": "code",
   "execution_count": 12,
   "id": "4234a793",
   "metadata": {},
   "outputs": [
    {
     "name": "stdout",
     "output_type": "stream",
     "text": [
      "9\n"
     ]
    }
   ],
   "source": [
    "class DescSquare(object):\n",
    "    def __get__(self, instance, owner):\n",
    "        return instance._square ** 2\n",
    "    def __set__(self, instance, value):\n",
    "        instance._square = value\n",
    "\n",
    "class DescCube(object):\n",
    "    def __get__(self, instance, owner):\n",
    "        return instance._cube ** 3\n",
    "\n",
    "class Powers(object):                          # Need all (object) in 2.X only\n",
    "    square = DescSquare()\n",
    "    cube   = DescCube()\n",
    "    def __init__(self, square, cube):\n",
    "        self._square = square                  # \"self.square = square\" works too,\n",
    "        self._cube   = cube                    # because it triggers desc __set__!\n",
    "\n",
    "X = Powers(3, 4)\n",
    "print(X.square)      # 3 ** 2 = 9"
   ]
  },
  {
   "cell_type": "code",
   "execution_count": 13,
   "id": "8f264414",
   "metadata": {},
   "outputs": [
    {
     "name": "stdout",
     "output_type": "stream",
     "text": [
      "64\n"
     ]
    }
   ],
   "source": [
    "print(X.cube)        # 4 ** 3 = 64"
   ]
  },
  {
   "cell_type": "code",
   "execution_count": 14,
   "id": "bf93fb38",
   "metadata": {},
   "outputs": [
    {
     "name": "stdout",
     "output_type": "stream",
     "text": [
      "25\n"
     ]
    }
   ],
   "source": [
    "X.square = 5\n",
    "print(X.square)      # 5 ** 2 = 25"
   ]
  },
  {
   "cell_type": "markdown",
   "id": "2730c951",
   "metadata": {},
   "source": [
    "  - Same, but with generic __getattr__ undefined attribute interception"
   ]
  },
  {
   "cell_type": "code",
   "execution_count": 16,
   "id": "482cf189",
   "metadata": {},
   "outputs": [
    {
     "name": "stdout",
     "output_type": "stream",
     "text": [
      "9\n"
     ]
    }
   ],
   "source": [
    "class Powers:\n",
    "    def __init__(self, square, cube):\n",
    "        self._square = square\n",
    "        self._cube   = cube\n",
    "\n",
    "    def __getattr__(self, name):\n",
    "        if name == 'square':\n",
    "            return self._square ** 2\n",
    "        elif name == 'cube':\n",
    "            return self._cube ** 3\n",
    "        else:\n",
    "            raise TypeError('unknown attr:' + name)\n",
    "\n",
    "    def __setattr__(self, name, value):\n",
    "        if name == 'square':\n",
    "            self.__dict__['_square'] = value             # Or use object\n",
    "        else:\n",
    "            self.__dict__[name] = value\n",
    "\n",
    "X = Powers(3, 4)\n",
    "print(X.square)      # 3 ** 2 = 9"
   ]
  },
  {
   "cell_type": "code",
   "execution_count": 17,
   "id": "cc83ec0a",
   "metadata": {},
   "outputs": [
    {
     "name": "stdout",
     "output_type": "stream",
     "text": [
      "64\n"
     ]
    }
   ],
   "source": [
    "print(X.cube)        # 4 ** 3 = 64"
   ]
  },
  {
   "cell_type": "code",
   "execution_count": 18,
   "id": "3885d11b",
   "metadata": {},
   "outputs": [
    {
     "name": "stdout",
     "output_type": "stream",
     "text": [
      "25\n"
     ]
    }
   ],
   "source": [
    "X.square = 5\n",
    "print(X.square)      # 5 ** 2 = 25"
   ]
  },
  {
   "cell_type": "markdown",
   "id": "c38f4f85",
   "metadata": {},
   "source": [
    "  - Same, but with generic __getattribute__ all attribute interception"
   ]
  },
  {
   "cell_type": "code",
   "execution_count": 19,
   "id": "a35a0226",
   "metadata": {},
   "outputs": [
    {
     "name": "stdout",
     "output_type": "stream",
     "text": [
      "9\n"
     ]
    }
   ],
   "source": [
    "class Powers(object):                                    # Need (object) in 2.X only\n",
    "    def __init__(self, square, cube):\n",
    "        self._square = square\n",
    "        self._cube   = cube\n",
    "\n",
    "    def __getattribute__(self, name):\n",
    "        if name == 'square':\n",
    "            return object.__getattribute__(self, '_square') ** 2\n",
    "        elif name == 'cube':\n",
    "            return object.__getattribute__(self, '_cube') ** 3\n",
    "        else:\n",
    "            return object.__getattribute__(self, name)\n",
    "\n",
    "    def __setattr__(self, name, value):\n",
    "        if name == 'square':\n",
    "            object.__setattr__(self, '_square', value)   # Or use __dict__\n",
    "        else:\n",
    "            object.__setattr__(self, name , value)\n",
    "\n",
    "X = Powers(3, 4)\n",
    "print(X.square)      # 3 ** 2 = 9"
   ]
  },
  {
   "cell_type": "code",
   "execution_count": 20,
   "id": "ee0a120b",
   "metadata": {},
   "outputs": [
    {
     "name": "stdout",
     "output_type": "stream",
     "text": [
      "64\n"
     ]
    }
   ],
   "source": [
    "print(X.cube)        # 4 ** 3 = 64"
   ]
  },
  {
   "cell_type": "code",
   "execution_count": 21,
   "id": "c117d929",
   "metadata": {},
   "outputs": [
    {
     "name": "stdout",
     "output_type": "stream",
     "text": [
      "25\n"
     ]
    }
   ],
   "source": [
    "X.square = 5\n",
    "print(X.square)      # 5 ** 2 = 25"
   ]
  },
  {
   "cell_type": "markdown",
   "id": "f8b7b5ab",
   "metadata": {},
   "source": [
    "#### Intercepting Built-in Operation Attributes"
   ]
  },
  {
   "cell_type": "code",
   "execution_count": 27,
   "id": "096eb772",
   "metadata": {},
   "outputs": [
    {
     "name": "stdout",
     "output_type": "stream",
     "text": [
      "class GetAttr:\n",
      "    eggs = 88                    # eggs stored on class, spam on instance\n",
      "    def __init__(self):\n",
      "       self.spam = 77\n",
      "    def __len__(self):           # len here, else __getattr__ called with __len__\n",
      "        print('__len__: 42')\n",
      "        return 42\n",
      "    def __getattr__(self, attr):     # Provide __str__ if asked, else dummy func\n",
      "        print('getattr: ' + attr)\n",
      "        if attr == '__str__':\n",
      "            return lambda *args: '[Getattr str]'\n",
      "        else:\n",
      "            return lambda *args: None\n",
      "\n",
      "class GetAttribute(object):          # object required in 2.X, implied in 3.X\n",
      "    eggs = 88                        # In 2.X all are isinstance(object) auto\n",
      "    def __init__(self):              # But must derive to get new-style tools,\n",
      "        self.spam = 77               # incl __getattribute__, some __X__ defaults\n",
      "    def __len__(self):\n",
      "        print('__len__: 42')\n",
      "        return 42\n",
      "    def __getattribute__(self, attr):\n",
      "        print('getattribute: ' + attr)\n",
      "        if attr == '__str__':\n",
      "            return lambda *args: '[GetAttribute str]'\n",
      "        else:\n",
      "            return lambda *args: None\n",
      "\n",
      "for Class in GetAttr, GetAttribute:\n",
      "    print('\\n' + Class.__name__.ljust(50, '='))\n",
      "\n",
      "    X = Class()\n",
      "    X.eggs                   # Class attr\n",
      "    X.spam                   # Instance attr\n",
      "    X.other                  # Missing attr\n",
      "    len(X)                   # __len__ defined explicitly\n",
      "\n",
      "# New-styles must support [], +, call directly: redefine\n",
      "\n",
      "    try:    X[0]             # __getitem__?\n",
      "    except: print('fail []')\n",
      "\n",
      "    try:    X + 99           # __add__?\n",
      "    except: print('fail +')\n",
      "\n",
      "    try:    X()              # __call__?  (implicit via built-in)\n",
      "    except: print('fail ()')\n",
      "\n",
      "    X.__call__()             # __call__?  (explicit, not inherited)\n",
      "    print(X.__str__())       # __str__?   (explicit, inherited from type)\n",
      "    print(X)                 # __str__?   (implicit via built-in)\n"
     ]
    }
   ],
   "source": [
    "!cat getattr-builtins.py"
   ]
  },
  {
   "cell_type": "code",
   "execution_count": 29,
   "id": "a32dd978",
   "metadata": {},
   "outputs": [
    {
     "name": "stdout",
     "output_type": "stream",
     "text": [
      "\n",
      "GetAttr===========================================\n",
      "getattr: other\n",
      "__len__: 42\n",
      "fail []\n",
      "fail +\n",
      "fail ()\n",
      "getattr: __call__\n",
      "<__main__.GetAttr object at 0x0000023E83EE4FD0>\n",
      "<__main__.GetAttr object at 0x0000023E83EE4FD0>\n",
      "\n",
      "GetAttribute======================================\n",
      "getattribute: eggs\n",
      "getattribute: spam\n",
      "getattribute: other\n",
      "__len__: 42\n",
      "fail []\n",
      "fail +\n",
      "fail ()\n",
      "getattribute: __call__\n",
      "getattribute: __str__\n",
      "[GetAttribute str]\n",
      "<__main__.GetAttribute object at 0x0000023E84044460>\n"
     ]
    }
   ],
   "source": [
    "!python getattr-builtins.py"
   ]
  },
  {
   "cell_type": "code",
   "execution_count": 30,
   "id": "504be624",
   "metadata": {},
   "outputs": [
    {
     "name": "stdout",
     "output_type": "stream",
     "text": [
      "\n",
      "GetAttr===========================================\n",
      "getattr: other\n",
      "__len__: 42\n",
      "\n",
      "GetAttribute======================================\n",
      "getattribute: eggs\n",
      "getattribute: spam\n",
      "getattribute: other\n",
      "__len__: 42\n"
     ]
    }
   ],
   "source": [
    "class GetAttr:\n",
    "    eggs = 88                    # eggs stored on class, spam on instance\n",
    "    def __init__(self):\n",
    "       self.spam = 77\n",
    "    def __len__(self):           # len here, else __getattr__ called with __len__\n",
    "        print('__len__: 42')\n",
    "        return 42\n",
    "    def __getattr__(self, attr):     # Provide __str__ if asked, else dummy func\n",
    "        print('getattr: ' + attr)\n",
    "        if attr == '__str__':\n",
    "            return lambda *args: '[Getattr str]'\n",
    "        else:\n",
    "            return lambda *args: None\n",
    "\n",
    "class GetAttribute(object):          # object required in 2.X, implied in 3.X\n",
    "    eggs = 88                        # In 2.X all are isinstance(object) auto\n",
    "    def __init__(self):              # But must derive to get new-style tools,\n",
    "        self.spam = 77               # incl __getattribute__, some __X__ defaults\n",
    "    def __len__(self):\n",
    "        print('__len__: 42')\n",
    "        return 42\n",
    "    def __getattribute__(self, attr):\n",
    "        print('getattribute: ' + attr)\n",
    "        if attr == '__str__':\n",
    "            return lambda *args: '[GetAttribute str]'\n",
    "        else:\n",
    "            return lambda *args: None\n",
    "\n",
    "for Class in GetAttr, GetAttribute:\n",
    "    print('\\n' + Class.__name__.ljust(50, '='))\n",
    "\n",
    "    X = Class()\n",
    "    X.eggs                   # Class attr\n",
    "    X.spam                   # Instance attr\n",
    "    X.other                  # Missing attr\n",
    "    len(X)                   # __len__ defined explicitly"
   ]
  },
  {
   "cell_type": "code",
   "execution_count": 34,
   "id": "db828914",
   "metadata": {},
   "outputs": [
    {
     "name": "stdout",
     "output_type": "stream",
     "text": [
      "class Person:\n",
      "    def __init__(self, name, job=None, pay=0):\n",
      "        self.name = name\n",
      "        self.job  = job\n",
      "        self.pay  = pay\n",
      "    def lastName(self):\n",
      "        return self.name.split()[-1]\n",
      "    def giveRaise(self, percent):\n",
      "        self.pay = int(self.pay * (1 + percent))\n",
      "    def __repr__(self):\n",
      "        return '[Person: %s, %s]' % (self.name, self.pay)\n",
      "\n",
      "class Manager:\n",
      "    def __init__(self, name, pay):\n",
      "        self.person = Person(name, 'mgr', pay)      # Embed a Person object\n",
      "    def giveRaise(self, percent, bonus=.10):\n",
      "        self.person.giveRaise(percent + bonus)      # Intercept and delegate\n",
      "    def __getattr__(self, attr):\n",
      "        return getattr(self.person, attr)           # Delegate all other attrs\n",
      "    def __repr__(self):\n",
      "        return str(self.person)                     # Must overload again (in 3.X)\n",
      "#    def __getattribute__(self, attr):\n",
      "#        print('**', attr)\n",
      "#        if attr in ['person', 'giveRaise']:\n",
      "#            return object.__getattribute__(self, attr)   # Fetch my attrs\n",
      "#        else:\n",
      "#            return getattr(self.person, attr)            # Delegate all others\n",
      "\n",
      "\n",
      "if __name__ == '__main__':\n",
      "    sue = Person('Sue Jones', job='dev', pay=100000)\n",
      "    print(sue.lastName())\n",
      "    sue.giveRaise(.10)\n",
      "    print(sue)\n",
      "    tom = Manager('Tom Jones', 50000)    # Manager.__init__\n",
      "    print(tom.lastName())                # Manager.__getattr__ -> Person.lastName\n",
      "    tom.giveRaise(.10)                   # Manager.giveRaise -> Person.giveRaise\n",
      "    print(tom)                           # Manager.__repr__ -> Person.__repr__\n"
     ]
    }
   ],
   "source": [
    "!cat getattr-delegate.py"
   ]
  },
  {
   "cell_type": "code",
   "execution_count": 35,
   "id": "783bdd30",
   "metadata": {},
   "outputs": [
    {
     "name": "stdout",
     "output_type": "stream",
     "text": [
      "Jones\n",
      "[Person: Sue Jones, 110000]\n",
      "Jones\n",
      "[Person: Tom Jones, 60000]\n"
     ]
    }
   ],
   "source": [
    "!python getattr-delegate.py"
   ]
  },
  {
   "cell_type": "code",
   "execution_count": 36,
   "id": "009b548a",
   "metadata": {},
   "outputs": [
    {
     "name": "stdout",
     "output_type": "stream",
     "text": [
      "class Person:\n",
      "    def __init__(self, name, job=None, pay=0):\n",
      "        self.name = name\n",
      "        self.job  = job\n",
      "        self.pay  = pay\n",
      "    def lastName(self):\n",
      "        return self.name.split()[-1]\n",
      "    def giveRaise(self, percent):\n",
      "        self.pay = int(self.pay * (1 + percent))\n",
      "    def __repr__(self):\n",
      "        return '[Person: %s, %s]' % (self.name, self.pay)\n",
      "\n",
      "class Manager:\n",
      "    def __init__(self, name, pay):\n",
      "        self.person = Person(name, 'mgr', pay)      # Embed a Person object\n",
      "    def giveRaise(self, percent, bonus=.10):\n",
      "        self.person.giveRaise(percent + bonus)      # Intercept and delegate\n",
      "    def __getattr__(self, attr):\n",
      "        return getattr(self.person, attr)           # Delegate all other attrs\n",
      "    def __repr__(self):\n",
      "        return str(self.person)                     # Must overload again (in 3.X)\n",
      "    def __getattribute__(self, attr):\n",
      "        print('**', attr)\n",
      "        if attr in ['person', 'giveRaise']:\n",
      "            return object.__getattribute__(self, attr)   # Fetch my attrs\n",
      "        else:\n",
      "            return getattr(self.person, attr)            # Delegate all others\n",
      "\n",
      "\n",
      "if __name__ == '__main__':\n",
      "    sue = Person('Sue Jones', job='dev', pay=100000)\n",
      "    print(sue.lastName())\n",
      "    sue.giveRaise(.10)\n",
      "    print(sue)\n",
      "    tom = Manager('Tom Jones', 50000)    # Manager.__init__\n",
      "    print(tom.lastName())                # Manager.__getattr__ -> Person.lastName\n",
      "    tom.giveRaise(.10)                   # Manager.giveRaise -> Person.giveRaise\n",
      "    print(tom)                           # Manager.__repr__ -> Person.__repr__\n"
     ]
    }
   ],
   "source": [
    "!cat getattr-delegate2.py"
   ]
  },
  {
   "cell_type": "code",
   "execution_count": 37,
   "id": "9f032378",
   "metadata": {},
   "outputs": [
    {
     "name": "stdout",
     "output_type": "stream",
     "text": [
      "Jones\n",
      "[Person: Sue Jones, 110000]\n",
      "** lastName\n",
      "** person\n",
      "Jones\n",
      "** giveRaise\n",
      "** person\n",
      "** person\n",
      "[Person: Tom Jones, 60000]\n"
     ]
    }
   ],
   "source": [
    "!python getattr-delegate2.py"
   ]
  },
  {
   "cell_type": "code",
   "execution_count": 7,
   "id": "3bed35d6",
   "metadata": {},
   "outputs": [
    {
     "name": "stdout",
     "output_type": "stream",
     "text": [
      "class Person:\n",
      "    def __init__(self, name, job=None, pay=0):\n",
      "        self.name = name\n",
      "        self.job  = job\n",
      "        self.pay  = pay\n",
      "    def lastName(self):\n",
      "        return self.name.split()[-1]\n",
      "    def giveRaise(self, percent):\n",
      "        self.pay = int(self.pay * (1 + percent))\n",
      "    def __repr__(self):\n",
      "        return '[Person: %s, %s]' % (self.name, self.pay)\n",
      "\n",
      "class Manager:\n",
      "    def __init__(self, name, pay):\n",
      "        self.person = Person(name, 'mgr', pay)\n",
      "    def __getattribute__(self, attr):\n",
      "        print('**', attr)\n",
      "        person = object.__getattribute__(self, 'person')\n",
      "        if attr == 'giveRaise':\n",
      "            return lambda percent: person.giveRaise(percent+.10)\n",
      "        else:\n",
      "            return getattr(person, attr)\n",
      "    def __repr__(self):\n",
      "        person = object.__getattribute__(self, 'person')\n",
      "        return str(person)\n",
      "\n",
      "if __name__ == '__main__':\n",
      "    sue = Person('Sue Jones', job='dev', pay=100000)\n",
      "    print(sue.lastName())\n",
      "    sue.giveRaise(.10)\n",
      "    print(sue)\n",
      "    tom = Manager('Tom Jones', 50000)    # Manager.__init__\n",
      "    print(tom.lastName())                # Manager.__getattr__ -> Person.lastName\n",
      "    tom.giveRaise(.10)                   # Manager.giveRaise -> Person.giveRaise\n",
      "    print(tom)                           # Manager.__repr__ -> Person.__repr__\n"
     ]
    }
   ],
   "source": [
    "!cat getattr-delegate3.py"
   ]
  },
  {
   "cell_type": "code",
   "execution_count": 8,
   "id": "347d5df9",
   "metadata": {},
   "outputs": [
    {
     "name": "stdout",
     "output_type": "stream",
     "text": [
      "Jones\n",
      "[Person: Sue Jones, 110000]\n",
      "** lastName\n",
      "Jones\n",
      "** giveRaise\n",
      "[Person: Tom Jones, 60000]\n"
     ]
    }
   ],
   "source": [
    "!python getattr-delegate3.py"
   ]
  },
  {
   "cell_type": "markdown",
   "id": "82c91995",
   "metadata": {},
   "source": [
    "### Example: Attribute Validations \n",
    "####  Using Properties to Validate"
   ]
  },
  {
   "cell_type": "code",
   "execution_count": 9,
   "id": "08a05905",
   "metadata": {},
   "outputs": [
    {
     "name": "stdout",
     "output_type": "stream",
     "text": [
      "# File validate_properties.py\n",
      "\n",
      "class CardHolder(object):                      # Need \"(object)\" for setter in 2.X\n",
      "    acctlen = 8                                # Class data\n",
      "    retireage = 59.5\n",
      "\n",
      "    def __init__(self, acct, name, age, addr):\n",
      "        self.acct = acct                       # Instance data\n",
      "        self.name = name                       # These trigger prop setters too!\n",
      "        self.age  = age                        # __X mangled to have class name\n",
      "        self.addr = addr                       # addr is not managed\n",
      "                                               # remain has no data\n",
      "    def getName(self):\n",
      "        return self.__name\n",
      "    def setName(self, value):\n",
      "        value = value.lower().replace(' ', '_')\n",
      "        self.__name = value\n",
      "    name = property(getName, setName)\n",
      "\n",
      "    def getAge(self):\n",
      "        return self.__age\n",
      "    def setAge(self, value):\n",
      "        if value < 0 or value > 150:\n",
      "            raise ValueError('invalid age')\n",
      "        else:\n",
      "            self.__age = value\n",
      "    age = property(getAge, setAge)\n",
      "\n",
      "    def getAcct(self):\n",
      "        return self.__acct[:-3] + '***'\n",
      "    def setAcct(self, value):\n",
      "        value = value.replace('-', '')\n",
      "        if len(value) != self.acctlen:\n",
      "            raise TypeError('invald acct number')\n",
      "        else:\n",
      "            self.__acct = value\n",
      "    acct = property(getAcct, setAcct)\n",
      "\n",
      "    def remainGet(self):                       # Could be a method, not attr\n",
      "        return self.retireage - self.age       # Unless already using as attr\n",
      "    remain = property(remainGet)\n"
     ]
    }
   ],
   "source": [
    "!cat validate_properties.py"
   ]
  },
  {
   "cell_type": "code",
   "execution_count": 10,
   "id": "7d155dfc",
   "metadata": {},
   "outputs": [
    {
     "name": "stdout",
     "output_type": "stream",
     "text": [
      "# File validate_tester.py\n",
      "from __future__ import print_function # 2.X\n",
      "\n",
      "def loadclass():\n",
      "    import sys, importlib                             \n",
      "    modulename = sys.argv[1]                          # Module name in command line\n",
      "    module = importlib.import_module(modulename)      # Import module by name string\n",
      "    print('[Using: %s]' % module.CardHolder)          # No need for getattr() here\n",
      "    return module.CardHolder\n",
      "\n",
      "def printholder(who):\n",
      "    print(who.acct, who.name, who.age, who.remain, who.addr, sep=' / ')\n",
      "\n",
      "if __name__ == '__main__':\n",
      "    CardHolder = loadclass()\n",
      "    bob = CardHolder('1234-5678', 'Bob Smith', 40, '123 main st')\n",
      "    printholder(bob)\n",
      "    bob.name = 'Bob Q. Smith'\n",
      "    bob.age  = 50\n",
      "    bob.acct = '23-45-67-89'\n",
      "    printholder(bob)\n",
      "\n",
      "    sue = CardHolder('5678-12-34', 'Sue Jones', 35, '124 main st')\n",
      "    printholder(sue)\n",
      "    try:\n",
      "        sue.age = 200\n",
      "    except:\n",
      "        print('Bad age for Sue')\n",
      "\n",
      "    try:\n",
      "        sue.remain = 5\n",
      "    except:\n",
      "        print(\"Can't set sue.remain\")\n",
      "\n",
      "    try:\n",
      "        sue.acct = '1234567'\n",
      "    except:\n",
      "        print('Bad acct for Sue')\n"
     ]
    }
   ],
   "source": [
    "!cat validate_tester.py"
   ]
  },
  {
   "cell_type": "code",
   "execution_count": 12,
   "id": "6823b970",
   "metadata": {},
   "outputs": [
    {
     "name": "stdout",
     "output_type": "stream",
     "text": [
      "[Using: <class 'validate_properties.CardHolder'>]\n",
      "12345*** / bob_smith / 40 / 19.5 / 123 main st\n",
      "23456*** / bob_q._smith / 50 / 9.5 / 123 main st\n",
      "56781*** / sue_jones / 35 / 24.5 / 124 main st\n",
      "Bad age for Sue\n",
      "Can't set sue.remain\n",
      "Bad acct for Sue\n"
     ]
    }
   ],
   "source": [
    "!python validate_tester.py validate_properties"
   ]
  },
  {
   "cell_type": "markdown",
   "id": "8d54c80c",
   "metadata": {},
   "source": [
    "#### Using Descriptors to Validate"
   ]
  },
  {
   "cell_type": "code",
   "execution_count": 13,
   "id": "93a56a12",
   "metadata": {},
   "outputs": [
    {
     "name": "stdout",
     "output_type": "stream",
     "text": [
      "# File validate_descriptors1.py: using shared descriptor state\n",
      "\n",
      "class CardHolder(object):                        # Need all \"(object)\" in 2.X only\n",
      "    acctlen = 8                                  # Class data\n",
      "    retireage = 59.5\n",
      "\n",
      "    def __init__(self, acct, name, age, addr):\n",
      "        self.acct = acct                         # Instance data\n",
      "        self.name = name                         # These trigger __set__ calls too!\n",
      "        self.age  = age                          # __X not needed: in descriptor\n",
      "        self.addr = addr                         # addr is not managed\n",
      "                                                 # remain has no data\n",
      "    class Name(object):\n",
      "        def __get__(self, instance, owner):      # Class names: CardHolder locals\n",
      "            return self.name\n",
      "        def __set__(self, instance, value):\n",
      "            value = value.lower().replace(' ', '_')\n",
      "            self.name = value\n",
      "    name = Name()\n",
      "\n",
      "    class Age(object):                                  \n",
      "        def __get__(self, instance, owner):\n",
      "            return self.age                             # Use descriptor data\n",
      "        def __set__(self, instance, value):\n",
      "            if value < 0 or value > 150:\n",
      "                raise ValueError('invalid age')\n",
      "            else:\n",
      "                self.age = value\n",
      "    age = Age()\n",
      "\n",
      "    class Acct(object):                                 \n",
      "        def __get__(self, instance, owner):\n",
      "            return self.acct[:-3] + '***'\n",
      "        def __set__(self, instance, value):\n",
      "            value = value.replace('-', '')\n",
      "            if len(value) != instance.acctlen:          # Use instance class data\n",
      "                raise TypeError('invald acct number')\n",
      "            else:\n",
      "                self.acct = value\n",
      "    acct = Acct()\n",
      "\n",
      "    class Remain(object):                              \n",
      "        def __get__(self, instance, owner):\n",
      "            return instance.retireage - instance.age    # Triggers Age.__get__\n",
      "        def __set__(self, instance, value):\n",
      "            raise TypeError('cannot set remain')        # Else set allowed here\n",
      "    remain = Remain()\n"
     ]
    }
   ],
   "source": [
    "!cat validate_descriptors1.py"
   ]
  },
  {
   "cell_type": "code",
   "execution_count": 14,
   "id": "8b7e3c5b",
   "metadata": {},
   "outputs": [
    {
     "name": "stdout",
     "output_type": "stream",
     "text": [
      "[Using: <class 'validate_descriptors1.CardHolder'>]\n",
      "12345*** / bob_smith / 40 / 19.5 / 123 main st\n",
      "23456*** / bob_q._smith / 50 / 9.5 / 123 main st\n",
      "56781*** / sue_jones / 35 / 24.5 / 124 main st\n",
      "Bad age for Sue\n",
      "Can't set sue.remain\n",
      "Bad acct for Sue\n"
     ]
    }
   ],
   "source": [
    "!python validate_tester.py validate_descriptors1"
   ]
  },
  {
   "cell_type": "code",
   "execution_count": 16,
   "id": "85806ff4",
   "metadata": {},
   "outputs": [
    {
     "name": "stdout",
     "output_type": "stream",
     "text": [
      "# File validate_tester2.py\n",
      "from __future__ import print_function # 2.X\n",
      "\n",
      "from validate_tester import loadclass\n",
      "CardHolder = loadclass()\n",
      "\n",
      "bob = CardHolder('1234-5678',  'Bob Smith', 40, '123 main st')\n",
      "print('bob:', bob.name, bob.acct, bob.age, bob.addr) \n",
      "\n",
      "sue = CardHolder('5678-12-34', 'Sue Jones', 35, '124 main st')\n",
      "print('sue:', sue.name, sue.acct, sue.age, sue.addr)    # addr differs: client data\n",
      "print('bob:', bob.name, bob.acct, bob.age, bob.addr)    # name,acct,age overwritten?\n"
     ]
    }
   ],
   "source": [
    "!cat validate_tester2.py"
   ]
  },
  {
   "cell_type": "code",
   "execution_count": 18,
   "id": "3307723d",
   "metadata": {},
   "outputs": [
    {
     "name": "stdout",
     "output_type": "stream",
     "text": [
      "[Using: <class 'validate_descriptors1.CardHolder'>]\n",
      "bob: bob_smith 12345*** 40 123 main st\n",
      "sue: sue_jones 56781*** 35 124 main st\n",
      "bob: sue_jones 56781*** 35 123 main st\n"
     ]
    }
   ],
   "source": [
    "!python validate_tester2.py validate_descriptors1"
   ]
  },
  {
   "cell_type": "code",
   "execution_count": 19,
   "id": "f53bc8f0",
   "metadata": {},
   "outputs": [
    {
     "name": "stdout",
     "output_type": "stream",
     "text": [
      "# File validate_descriptors2.py: using per-client-instance state\n",
      "\n",
      "class CardHolder(object):                        # Need all \"(object)\" in 2.X only\n",
      "    acctlen = 8                                  # Class data\n",
      "    retireage = 59.5\n",
      "\n",
      "    def __init__(self, acct, name, age, addr):\n",
      "        self.acct = acct                         # Client instance data\n",
      "        self.name = name                         # These trigger __set__ calls too!\n",
      "        self.age  = age                          # __X needed: in client instance\n",
      "        self.addr = addr                         # addr is not managed\n",
      "                                                 # remain managed but has no data\n",
      "    class Name(object):\n",
      "        def __get__(self, instance, owner):      # Class names: CardHolder locals\n",
      "            return instance.__name\n",
      "        def __set__(self, instance, value):\n",
      "            value = value.lower().replace(' ', '_')\n",
      "            instance.__name = value\n",
      "    name = Name()                                       # class.name vs mangled attr\n",
      "\n",
      "    class Age(object):\n",
      "        def __get__(self, instance, owner):\n",
      "            return instance.__age                       # Use descriptor data\n",
      "        def __set__(self, instance, value):\n",
      "            if value < 0 or value > 150:\n",
      "                raise ValueError('invalid age')\n",
      "            else:\n",
      "                instance.__age = value\n",
      "    age = Age()                                         # class.age vs mangled attr\n",
      "\n",
      "    class Acct(object):\n",
      "        def __get__(self, instance, owner):\n",
      "            return instance.__acct[:-3] + '***'\n",
      "        def __set__(self, instance, value):\n",
      "            value = value.replace('-', '')\n",
      "            if len(value) != instance.acctlen:          # Use instance class data\n",
      "                raise TypeError('invald acct number')\n",
      "            else:\n",
      "                instance.__acct = value\n",
      "    acct = Acct()                                       # class.acct vs mangled name\n",
      "\n",
      "    class Remain(object):\n",
      "        def __get__(self, instance, owner):\n",
      "            return instance.retireage - instance.age    # Triggers Age.__get__\n",
      "        def __set__(self, instance, value):\n",
      "            raise TypeError('cannot set remain')        # Else set allowed here\n",
      "    remain = Remain()\n"
     ]
    }
   ],
   "source": [
    "!cat validate_descriptors2.py"
   ]
  },
  {
   "cell_type": "code",
   "execution_count": 20,
   "id": "3af6d333",
   "metadata": {},
   "outputs": [
    {
     "name": "stdout",
     "output_type": "stream",
     "text": [
      "[Using: <class 'validate_descriptors2.CardHolder'>]\n",
      "bob: bob_smith 12345*** 40 123 main st\n",
      "sue: sue_jones 56781*** 35 124 main st\n",
      "bob: bob_smith 12345*** 40 123 main st\n"
     ]
    }
   ],
   "source": [
    "!python validate_tester2.py validate_descriptors2"
   ]
  },
  {
   "cell_type": "code",
   "execution_count": 21,
   "id": "d6eb6ccc",
   "metadata": {},
   "outputs": [
    {
     "name": "stdout",
     "output_type": "stream",
     "text": [
      "# File validate_tester.py\n",
      "from __future__ import print_function # 2.X\n",
      "\n",
      "def loadclass():\n",
      "    import sys, importlib                             \n",
      "    modulename = sys.argv[1]                          # Module name in command line\n",
      "    module = importlib.import_module(modulename)      # Import module by name string\n",
      "    print('[Using: %s]' % module.CardHolder)          # No need for getattr() here\n",
      "    return module.CardHolder\n",
      "\n",
      "def printholder(who):\n",
      "    print(who.acct, who.name, who.age, who.remain, who.addr, sep=' / ')\n",
      "\n",
      "if __name__ == '__main__':\n",
      "    CardHolder = loadclass()\n",
      "    bob = CardHolder('1234-5678', 'Bob Smith', 40, '123 main st')\n",
      "    printholder(bob)\n",
      "    bob.name = 'Bob Q. Smith'\n",
      "    bob.age  = 50\n",
      "    bob.acct = '23-45-67-89'\n",
      "    printholder(bob)\n",
      "\n",
      "    sue = CardHolder('5678-12-34', 'Sue Jones', 35, '124 main st')\n",
      "    printholder(sue)\n",
      "    try:\n",
      "        sue.age = 200\n",
      "    except:\n",
      "        print('Bad age for Sue')\n",
      "\n",
      "    try:\n",
      "        sue.remain = 5\n",
      "    except:\n",
      "        print(\"Can't set sue.remain\")\n",
      "\n",
      "    try:\n",
      "        sue.acct = '1234567'\n",
      "    except:\n",
      "        print('Bad acct for Sue')\n"
     ]
    }
   ],
   "source": [
    "!cat validate_tester.py"
   ]
  },
  {
   "cell_type": "code",
   "execution_count": 22,
   "id": "f1bf4d25",
   "metadata": {},
   "outputs": [
    {
     "name": "stdout",
     "output_type": "stream",
     "text": [
      "[Using: <class 'validate_descriptors2.CardHolder'>]\n",
      "12345*** / bob_smith / 40 / 19.5 / 123 main st\n",
      "23456*** / bob_q._smith / 50 / 9.5 / 123 main st\n",
      "56781*** / sue_jones / 35 / 24.5 / 124 main st\n",
      "Bad age for Sue\n",
      "Can't set sue.remain\n",
      "Bad acct for Sue\n"
     ]
    }
   ],
   "source": [
    "!python validate_tester.py validate_descriptors2"
   ]
  },
  {
   "cell_type": "code",
   "execution_count": 23,
   "id": "89d7cda4",
   "metadata": {},
   "outputs": [
    {
     "data": {
      "text/plain": [
       "'bob_smith'"
      ]
     },
     "execution_count": 23,
     "metadata": {},
     "output_type": "execute_result"
    }
   ],
   "source": [
    "from validate_descriptors1 import CardHolder\n",
    "bob = CardHolder('1234-5678', 'Bob Smith', 40, '123 main st')\n",
    "bob.name"
   ]
  },
  {
   "cell_type": "code",
   "execution_count": 24,
   "id": "586a8c28",
   "metadata": {},
   "outputs": [
    {
     "data": {
      "text/plain": [
       "'bob_smith'"
      ]
     },
     "execution_count": 24,
     "metadata": {},
     "output_type": "execute_result"
    }
   ],
   "source": [
    "CardHolder.name"
   ]
  },
  {
   "cell_type": "code",
   "execution_count": 25,
   "id": "c3291aa5",
   "metadata": {},
   "outputs": [
    {
     "data": {
      "text/plain": [
       "'bob_smith'"
      ]
     },
     "execution_count": 25,
     "metadata": {},
     "output_type": "execute_result"
    }
   ],
   "source": [
    "from validate_descriptors2 import CardHolder\n",
    "bob = CardHolder('1234-5678', 'Bob Smith', 40, '123 main st')\n",
    "bob.name"
   ]
  },
  {
   "cell_type": "code",
   "execution_count": 26,
   "id": "b6c5dcc8",
   "metadata": {},
   "outputs": [
    {
     "ename": "AttributeError",
     "evalue": "'NoneType' object has no attribute '_Name__name'",
     "output_type": "error",
     "traceback": [
      "\u001b[1;31m---------------------------------------------------------------------------\u001b[0m",
      "\u001b[1;31mAttributeError\u001b[0m                            Traceback (most recent call last)",
      "\u001b[1;32m~\\AppData\\Local\\Temp/ipykernel_28476/3575647267.py\u001b[0m in \u001b[0;36m<module>\u001b[1;34m\u001b[0m\n\u001b[1;32m----> 1\u001b[1;33m \u001b[0mCardHolder\u001b[0m\u001b[1;33m.\u001b[0m\u001b[0mname\u001b[0m\u001b[1;33m\u001b[0m\u001b[1;33m\u001b[0m\u001b[0m\n\u001b[0m",
      "\u001b[1;32mD:\\books\\python\\0. Learning Python\\code\\validate_descriptors2.py\u001b[0m in \u001b[0;36m__get__\u001b[1;34m(self, instance, owner)\u001b[0m\n\u001b[0;32m     13\u001b[0m     \u001b[1;32mclass\u001b[0m \u001b[0mName\u001b[0m\u001b[1;33m(\u001b[0m\u001b[0mobject\u001b[0m\u001b[1;33m)\u001b[0m\u001b[1;33m:\u001b[0m\u001b[1;33m\u001b[0m\u001b[1;33m\u001b[0m\u001b[0m\n\u001b[0;32m     14\u001b[0m         \u001b[1;32mdef\u001b[0m \u001b[0m__get__\u001b[0m\u001b[1;33m(\u001b[0m\u001b[0mself\u001b[0m\u001b[1;33m,\u001b[0m \u001b[0minstance\u001b[0m\u001b[1;33m,\u001b[0m \u001b[0mowner\u001b[0m\u001b[1;33m)\u001b[0m\u001b[1;33m:\u001b[0m      \u001b[1;31m# Class names: CardHolder locals\u001b[0m\u001b[1;33m\u001b[0m\u001b[1;33m\u001b[0m\u001b[0m\n\u001b[1;32m---> 15\u001b[1;33m             \u001b[1;32mreturn\u001b[0m \u001b[0minstance\u001b[0m\u001b[1;33m.\u001b[0m\u001b[0m__name\u001b[0m\u001b[1;33m\u001b[0m\u001b[1;33m\u001b[0m\u001b[0m\n\u001b[0m\u001b[0;32m     16\u001b[0m         \u001b[1;32mdef\u001b[0m \u001b[0m__set__\u001b[0m\u001b[1;33m(\u001b[0m\u001b[0mself\u001b[0m\u001b[1;33m,\u001b[0m \u001b[0minstance\u001b[0m\u001b[1;33m,\u001b[0m \u001b[0mvalue\u001b[0m\u001b[1;33m)\u001b[0m\u001b[1;33m:\u001b[0m\u001b[1;33m\u001b[0m\u001b[1;33m\u001b[0m\u001b[0m\n\u001b[0;32m     17\u001b[0m             \u001b[0mvalue\u001b[0m \u001b[1;33m=\u001b[0m \u001b[0mvalue\u001b[0m\u001b[1;33m.\u001b[0m\u001b[0mlower\u001b[0m\u001b[1;33m(\u001b[0m\u001b[1;33m)\u001b[0m\u001b[1;33m.\u001b[0m\u001b[0mreplace\u001b[0m\u001b[1;33m(\u001b[0m\u001b[1;34m' '\u001b[0m\u001b[1;33m,\u001b[0m \u001b[1;34m'_'\u001b[0m\u001b[1;33m)\u001b[0m\u001b[1;33m\u001b[0m\u001b[1;33m\u001b[0m\u001b[0m\n",
      "\u001b[1;31mAttributeError\u001b[0m: 'NoneType' object has no attribute '_Name__name'"
     ]
    }
   ],
   "source": [
    "CardHolder.name"
   ]
  },
  {
   "cell_type": "code",
   "execution_count": 27,
   "id": "f926e699",
   "metadata": {},
   "outputs": [
    {
     "name": "stdout",
     "output_type": "stream",
     "text": [
      "# File validate_getattr.py\n",
      "\n",
      "class CardHolder:\n",
      "    acctlen = 8                                  # Class data\n",
      "    retireage = 59.5\n",
      "\n",
      "    def __init__(self, acct, name, age, addr):\n",
      "        self.acct = acct                         # Instance data\n",
      "        self.name = name                         # These trigger __setattr__ too\n",
      "        self.age  = age                          # _acct not mangled: name tested\n",
      "        self.addr = addr                         # addr is not managed\n",
      "                                                 # remain has no data\n",
      "    def __getattr__(self, name):\n",
      "        if name == 'acct':                           # On undefined attr fetches\n",
      "            return self._acct[:-3] + '***'           # name, age, addr are defined\n",
      "        elif name == 'remain':\n",
      "            return self.retireage - self.age         # Doesn't trigger __getattr__\n",
      "        else:\n",
      "            raise AttributeError(name)\n",
      "\n",
      "    def __setattr__(self, name, value):\n",
      "        if name == 'name':                           # On all attr assignments\n",
      "            value = value.lower().replace(' ', '_')  # addr stored directly\n",
      "        elif name == 'age':                          # acct mangled to _acct\n",
      "            if value < 0 or value > 150:\n",
      "                raise ValueError('invalid age')\n",
      "        elif name == 'acct':\n",
      "            name  = '_acct'\n",
      "            value = value.replace('-', '')\n",
      "            if len(value) != self.acctlen:\n",
      "                raise TypeError('invald acct number')\n",
      "        elif name == 'remain':\n",
      "            raise TypeError('cannot set remain')\n",
      "        self.__dict__[name] = value                  # Avoid looping (or via object)\n"
     ]
    }
   ],
   "source": [
    "!cat validate_getattr.py"
   ]
  },
  {
   "cell_type": "code",
   "execution_count": 28,
   "id": "dc0f11c7",
   "metadata": {},
   "outputs": [
    {
     "name": "stdout",
     "output_type": "stream",
     "text": [
      "[Using: <class 'validate_getattr.CardHolder'>]\n",
      "12345*** / bob_smith / 40 / 19.5 / 123 main st\n",
      "23456*** / bob_q._smith / 50 / 9.5 / 123 main st\n",
      "56781*** / sue_jones / 35 / 24.5 / 124 main st\n",
      "Bad age for Sue\n",
      "Can't set sue.remain\n",
      "Bad acct for Sue\n"
     ]
    }
   ],
   "source": [
    "!python validate_tester.py validate_getattr"
   ]
  },
  {
   "cell_type": "code",
   "execution_count": 29,
   "id": "9b5e2e6b",
   "metadata": {},
   "outputs": [
    {
     "name": "stdout",
     "output_type": "stream",
     "text": [
      "[Using: <class 'validate_getattr.CardHolder'>]\n",
      "bob: bob_smith 12345*** 40 123 main st\n",
      "sue: sue_jones 56781*** 35 124 main st\n",
      "bob: bob_smith 12345*** 40 123 main st\n"
     ]
    }
   ],
   "source": [
    "!python validate_tester2.py validate_getattr"
   ]
  },
  {
   "cell_type": "code",
   "execution_count": 30,
   "id": "f30461e6",
   "metadata": {},
   "outputs": [
    {
     "name": "stdout",
     "output_type": "stream",
     "text": [
      "# File validate_getattribute.py\n",
      "\n",
      "class CardHolder(object):                        # Need \"(object)\" in 2.X only\n",
      "    acctlen = 8                                  # Class data\n",
      "    retireage = 59.5\n",
      "\n",
      "    def __init__(self, acct, name, age, addr):\n",
      "        self.acct = acct                         # Instance data\n",
      "        self.name = name                         # These trigger __setattr__ too\n",
      "        self.age  = age                          # acct not mangled: name tested\n",
      "        self.addr = addr                         # addr is not managed\n",
      "                                                 # remain has no data\n",
      "    def __getattribute__(self, name):\n",
      "        superget = object.__getattribute__             # Don't loop: one level up\n",
      "        if name == 'acct':                             # On all attr fetches\n",
      "            return superget(self, 'acct')[:-3] + '***'\n",
      "        elif name == 'remain':\n",
      "            return superget(self, 'retireage') - superget(self, 'age')\n",
      "        else:\n",
      "            return superget(self, name)                # name, age, addr: stored\n",
      "\n",
      "    def __setattr__(self, name, value):\n",
      "        if name == 'name':                             # On all attr assignments\n",
      "            value = value.lower().replace(' ', '_')    # addr stored directly\n",
      "        elif name == 'age':\n",
      "            if value < 0 or value > 150:\n",
      "                raise ValueError('invalid age')\n",
      "        elif name == 'acct':\n",
      "            value = value.replace('-', '')\n",
      "            if len(value) != self.acctlen:\n",
      "                raise TypeError('invald acct number')\n",
      "        elif name == 'remain':\n",
      "            raise TypeError('cannot set remain')\n",
      "        self.__dict__[name] = value                     # Avoid loops, orig names\n"
     ]
    }
   ],
   "source": [
    "!cat validate_getattribute.py"
   ]
  },
  {
   "cell_type": "markdown",
   "id": "61dfd5ab",
   "metadata": {},
   "source": [
    "## Chapter 39. Decorators"
   ]
  },
  {
   "cell_type": "markdown",
   "id": "2cb98d29",
   "metadata": {},
   "source": [
    "### The Basics"
   ]
  },
  {
   "cell_type": "code",
   "execution_count": 8,
   "id": "632f18e7",
   "metadata": {},
   "outputs": [],
   "source": [
    "def decorator(F):                       # F is func or method without instance\n",
    "    def wrapper(*args):                 # class instance in args[0] for method\n",
    "        F(*args) # runs func or method\n",
    "    return wrapper\n",
    "\n",
    "@decorator\n",
    "def func(x, y):                         # func = decorator(func)\n",
    "    ...\n",
    "func(6, 7)                              # Really calls wrapper(6, 7)\n",
    "\n",
    "class C:\n",
    "    @decorator\n",
    "    def method(self, x, y):             # method = decorator(method)\n",
    "        ...                             # Rebound to simple function\n",
    "\n",
    "X = C()\n",
    "X.method(6, 7)                          # Really calls wrapper(X, 6, 7)"
   ]
  },
  {
   "cell_type": "code",
   "execution_count": 6,
   "id": "f4de4ed0",
   "metadata": {},
   "outputs": [
    {
     "name": "stdout",
     "output_type": "stream",
     "text": [
      "spam\n"
     ]
    }
   ],
   "source": [
    "def decorator(cls):                             # On @ decoration\n",
    "    class Wrapper:\n",
    "        def __init__(self, *args):              # On instance creation\n",
    "            self.wrapped = cls(*args)\n",
    "        def __getattr__(self, name):            # On attribute fetch\n",
    "            return getattr(self.wrapped, name)\n",
    "    return Wrapper\n",
    "\n",
    "@decorator\n",
    "class C:                             # C = decorator(C)\n",
    "    def __init__(self, x, y):        # Run by Wrapper.__init__\n",
    "        self.attr = 'spam'\n",
    "\n",
    "x = C(6, 7)                          # Really calls Wrapper(6, 7)\n",
    "print(x.attr)                        # Runs Wrapper.__getattr__, prints \"spam\""
   ]
  },
  {
   "cell_type": "markdown",
   "id": "92985e46",
   "metadata": {},
   "source": [
    "#### Coding Function Decorators"
   ]
  },
  {
   "cell_type": "code",
   "execution_count": 9,
   "id": "7503d1dc",
   "metadata": {},
   "outputs": [
    {
     "name": "stdout",
     "output_type": "stream",
     "text": [
      "# File decorator1.py\n",
      "\n",
      "class tracer:\n",
      "    def __init__(self, func):             # On @ decoration: save original func\n",
      "        self.calls = 0\n",
      "        self.func = func\n",
      "    def __call__(self, *args):            # On later calls: run original func\n",
      "        self.calls += 1\n",
      "        print('call %s to %s' % (self.calls, self.func.__name__))\n",
      "        self.func(*args)\n",
      "\n",
      "@tracer\n",
      "def spam(a, b, c):           # spam = tracer(spam)\n",
      "    print(a + b + c)         # Wraps spam in a decorator object\n"
     ]
    }
   ],
   "source": [
    "!cat decorator1.py"
   ]
  },
  {
   "cell_type": "code",
   "execution_count": 11,
   "id": "4ff7fcd8",
   "metadata": {},
   "outputs": [
    {
     "name": "stdout",
     "output_type": "stream",
     "text": [
      "call 1 to spam\n",
      "6\n"
     ]
    }
   ],
   "source": [
    "from decorator1 import spam\n",
    "spam(1, 2, 3)            # Really calls the tracer wrapper object"
   ]
  },
  {
   "cell_type": "code",
   "execution_count": 12,
   "id": "c971cbf5",
   "metadata": {},
   "outputs": [
    {
     "name": "stdout",
     "output_type": "stream",
     "text": [
      "call 2 to spam\n",
      "abc\n"
     ]
    }
   ],
   "source": [
    "spam('a', 'b', 'c')      # Invokes __call__ in class"
   ]
  },
  {
   "cell_type": "code",
   "execution_count": 13,
   "id": "a5792ba7",
   "metadata": {},
   "outputs": [
    {
     "data": {
      "text/plain": [
       "2"
      ]
     },
     "execution_count": 13,
     "metadata": {},
     "output_type": "execute_result"
    }
   ],
   "source": [
    "spam.calls               # Number calls in wrapper state information"
   ]
  },
  {
   "cell_type": "code",
   "execution_count": 14,
   "id": "dcb9c5a1",
   "metadata": {},
   "outputs": [
    {
     "data": {
      "text/plain": [
       "<decorator1.tracer at 0x21ef40765b0>"
      ]
     },
     "execution_count": 14,
     "metadata": {},
     "output_type": "execute_result"
    }
   ],
   "source": [
    "spam"
   ]
  },
  {
   "cell_type": "code",
   "execution_count": 15,
   "id": "805aca06",
   "metadata": {},
   "outputs": [
    {
     "name": "stdout",
     "output_type": "stream",
     "text": [
      "1 2 3\n"
     ]
    }
   ],
   "source": [
    "calls = 0\n",
    "def tracer(func, *args):\n",
    "    global calls\n",
    "    calls += 1\n",
    "    print('call %s to %s' % (calls, func.__name__))\n",
    "    func(*args)\n",
    "\n",
    "def spam(a, b, c):\n",
    "    print(a, b, c)\n",
    "    \n",
    "spam(1, 2, 3)            # Normal nontraced call: accidental?"
   ]
  },
  {
   "cell_type": "code",
   "execution_count": 16,
   "id": "b88abcef",
   "metadata": {},
   "outputs": [
    {
     "name": "stdout",
     "output_type": "stream",
     "text": [
      "call 1 to spam\n",
      "1 2 3\n"
     ]
    }
   ],
   "source": [
    "tracer(spam, 1, 2, 3)    # Special traced call without decorators"
   ]
  },
  {
   "cell_type": "code",
   "execution_count": 17,
   "id": "4cb062b6",
   "metadata": {},
   "outputs": [
    {
     "name": "stdout",
     "output_type": "stream",
     "text": [
      "class tracer:                                # State via instance attributes\n",
      "    def __init__(self, func):                # On @ decorator\n",
      "        self.calls = 0                       # Save func for later call\n",
      "        self.func  = func\n",
      "    def __call__(self, *args, **kwargs):     # On call to original function\n",
      "        self.calls += 1\n",
      "        print('call %s to %s' % (self.calls, self.func.__name__))\n",
      "        return self.func(*args, **kwargs)\n",
      "\n",
      "@tracer\n",
      "def spam(a, b, c):          # Same as: spam = tracer(spam)\n",
      "    print(a + b + c)        # Triggers tracer.__init__\n",
      "\n",
      "@tracer\n",
      "def eggs(x, y):             # Same as: eggs = tracer(eggs)\n",
      "    print(x ** y)           # Wraps eggs in a tracer object\n",
      "\n",
      "spam(1, 2, 3)               # Really calls tracer instance: runs tracer.__call__\n",
      "spam(a=4, b=5, c=6)         # spam is an instance attribute\n",
      "\n",
      "eggs(2, 16)                 # Really calls tracer instance, self.func is eggs\n",
      "eggs(4, y=4)                # self.calls is per-decoration here\n"
     ]
    }
   ],
   "source": [
    "!cat decorator2.py"
   ]
  },
  {
   "cell_type": "code",
   "execution_count": 18,
   "id": "da208c14",
   "metadata": {},
   "outputs": [
    {
     "name": "stdout",
     "output_type": "stream",
     "text": [
      "call 1 to spam\n",
      "6\n",
      "call 2 to spam\n",
      "15\n",
      "call 1 to eggs\n",
      "65536\n",
      "call 2 to eggs\n",
      "256\n"
     ]
    }
   ],
   "source": [
    "!python decorator2.py"
   ]
  },
  {
   "cell_type": "code",
   "execution_count": 19,
   "id": "63bd9539",
   "metadata": {},
   "outputs": [
    {
     "name": "stdout",
     "output_type": "stream",
     "text": [
      "calls = 0\n",
      "def tracer(func):                         # State via enclosing scope and global\n",
      "    def wrapper(*args, **kwargs):         # Instead of class attributes\n",
      "        global calls                      # calls is global, not per-function\n",
      "        calls += 1\n",
      "        print('call %s to %s' % (calls, func.__name__))\n",
      "        return func(*args, **kwargs)\n",
      "    return wrapper\n",
      "\n",
      "@tracer\n",
      "def spam(a, b, c):        # Same as: spam = tracer(spam)\n",
      "    print(a + b + c)\n",
      "\n",
      "@tracer\n",
      "def eggs(x, y):           # Same as: eggs = tracer(eggs)\n",
      "    print(x ** y)\n",
      "\n",
      "spam(1, 2, 3)             # Really calls wrapper, assigned to spam\n",
      "spam(a=4, b=5, c=6)       # wrapper calls spam\n",
      "\n",
      "eggs(2, 16)               # Really calls wrapper, assigned to eggs\n",
      "eggs(4, y=4)              # Global calls is not per-decoration here!\n"
     ]
    }
   ],
   "source": [
    "!cat decorator3.py"
   ]
  },
  {
   "cell_type": "code",
   "execution_count": 20,
   "id": "db8d37cf",
   "metadata": {},
   "outputs": [
    {
     "name": "stdout",
     "output_type": "stream",
     "text": [
      "call 1 to spam\n",
      "6\n",
      "call 2 to spam\n",
      "15\n",
      "call 3 to eggs\n",
      "65536\n",
      "call 4 to eggs\n",
      "256\n"
     ]
    }
   ],
   "source": [
    "!python decorator3.py"
   ]
  },
  {
   "cell_type": "code",
   "execution_count": 21,
   "id": "85d641a1",
   "metadata": {},
   "outputs": [
    {
     "name": "stdout",
     "output_type": "stream",
     "text": [
      "def tracer(func):                        # State via enclosing scope and nonlocal\n",
      "    calls = 0                            # Instead of class attrs or global\n",
      "    def wrapper(*args, **kwargs):        # calls is per-function, not global\n",
      "        nonlocal calls\n",
      "        calls += 1\n",
      "        print('call %s to %s' % (calls, func.__name__))\n",
      "        return func(*args, **kwargs)\n",
      "    return wrapper\n",
      "\n",
      "@tracer\n",
      "def spam(a, b, c):        # Same as: spam = tracer(spam)\n",
      "    print(a + b + c)\n",
      "\n",
      "@tracer\n",
      "def eggs(x, y):           # Same as: eggs = tracer(eggs)\n",
      "    print(x ** y)\n",
      "\n",
      "spam(1, 2, 3)             # Really calls wrapper, bound to func\n",
      "spam(a=4, b=5, c=6)       # wrapper calls spam\n",
      "\n",
      "eggs(2, 16)               # Really calls wrapper, bound to eggs\n",
      "eggs(4, y=4)              # Nonlocal calls _is_ per-decoration here\n"
     ]
    }
   ],
   "source": [
    "!cat decorator4.py"
   ]
  },
  {
   "cell_type": "code",
   "execution_count": 22,
   "id": "a5939c1c",
   "metadata": {},
   "outputs": [
    {
     "name": "stdout",
     "output_type": "stream",
     "text": [
      "call 1 to spam\n",
      "6\n",
      "call 2 to spam\n",
      "15\n",
      "call 1 to eggs\n",
      "65536\n",
      "call 2 to eggs\n",
      "256\n"
     ]
    }
   ],
   "source": [
    "!python decorator4.py"
   ]
  },
  {
   "cell_type": "code",
   "execution_count": 23,
   "id": "4ff47e39",
   "metadata": {},
   "outputs": [
    {
     "name": "stdout",
     "output_type": "stream",
     "text": [
      "def tracer(func):                        # State via enclosing scope and func attr\n",
      "    def wrapper(*args, **kwargs):        # calls is per-function, not global\n",
      "        wrapper.calls += 1\n",
      "        print('call %s to %s' % (wrapper.calls, func.__name__))\n",
      "        return func(*args, **kwargs)\n",
      "    wrapper.calls = 0\n",
      "    return wrapper\n",
      "\n",
      "@tracer\n",
      "def spam(a, b, c):        # Same as: spam = tracer(spam)\n",
      "    print(a + b + c)\n",
      "\n",
      "@tracer\n",
      "def eggs(x, y):           # Same as: eggs = tracer(eggs)\n",
      "    print(x ** y)\n",
      "\n",
      "spam(1, 2, 3)             # Really calls wrapper, assigned to spam\n",
      "spam(a=4, b=5, c=6)       # wrapper calls spam\n",
      "\n",
      "eggs(2, 16)               # Really calls wrapper, assigned to eggs\n",
      "eggs(4, y=4)              # wrapper.calls _is_ per-decoration here\n"
     ]
    }
   ],
   "source": [
    "!cat decorator5.py"
   ]
  },
  {
   "cell_type": "code",
   "execution_count": 24,
   "id": "4aae5bfc",
   "metadata": {},
   "outputs": [
    {
     "name": "stdout",
     "output_type": "stream",
     "text": [
      "call 1 to spam\n",
      "6\n",
      "call 2 to spam\n",
      "15\n",
      "call 1 to eggs\n",
      "65536\n",
      "call 2 to eggs\n",
      "256\n"
     ]
    }
   ],
   "source": [
    "!python decorator5.py"
   ]
  },
  {
   "cell_type": "code",
   "execution_count": 26,
   "id": "747eb750",
   "metadata": {},
   "outputs": [
    {
     "name": "stdout",
     "output_type": "stream",
     "text": [
      "call 1 to spam\n",
      "6\n"
     ]
    }
   ],
   "source": [
    "class tracer:\n",
    "    def __init__(self, func):                # On @ decorator\n",
    "        self.calls = 0                       # Save func for later call\n",
    "        self.func  = func\n",
    "    def __call__(self, *args, **kwargs):     # On call to original function\n",
    "        self.calls += 1\n",
    "        print('call %s to %s' % (self.calls, self.func.__name__))\n",
    "        return self.func(*args, **kwargs)\n",
    "\n",
    "@tracer\n",
    "def spam(a, b, c):                           # spam = tracer(spam)\n",
    "    print(a + b + c)                         # Triggers tracer.__init__\n",
    "spam(1, 2, 3)                            # Runs tracer.__call__"
   ]
  },
  {
   "cell_type": "code",
   "execution_count": 27,
   "id": "0daf93da",
   "metadata": {},
   "outputs": [
    {
     "name": "stdout",
     "output_type": "stream",
     "text": [
      "call 2 to spam\n",
      "15\n"
     ]
    }
   ],
   "source": [
    "spam(a=4, b=5, c=6)                      # spam saved in an instance attribute"
   ]
  },
  {
   "cell_type": "code",
   "execution_count": 28,
   "id": "d2c641d3",
   "metadata": {},
   "outputs": [
    {
     "name": "stdout",
     "output_type": "stream",
     "text": [
      "call 1 to giveRaise\n"
     ]
    },
    {
     "ename": "TypeError",
     "evalue": "giveRaise() missing 1 required positional argument: 'percent'",
     "output_type": "error",
     "traceback": [
      "\u001b[1;31m---------------------------------------------------------------------------\u001b[0m",
      "\u001b[1;31mTypeError\u001b[0m                                 Traceback (most recent call last)",
      "\u001b[1;32m~\\AppData\\Local\\Temp/ipykernel_19640/650060699.py\u001b[0m in \u001b[0;36m<module>\u001b[1;34m\u001b[0m\n\u001b[0;32m     13\u001b[0m \u001b[1;33m\u001b[0m\u001b[0m\n\u001b[0;32m     14\u001b[0m \u001b[0mbob\u001b[0m \u001b[1;33m=\u001b[0m \u001b[0mPerson\u001b[0m\u001b[1;33m(\u001b[0m\u001b[1;34m'Bob Smith'\u001b[0m\u001b[1;33m,\u001b[0m \u001b[1;36m50000\u001b[0m\u001b[1;33m)\u001b[0m         \u001b[1;31m# tracer remembers method funcs\u001b[0m\u001b[1;33m\u001b[0m\u001b[1;33m\u001b[0m\u001b[0m\n\u001b[1;32m---> 15\u001b[1;33m \u001b[0mbob\u001b[0m\u001b[1;33m.\u001b[0m\u001b[0mgiveRaise\u001b[0m\u001b[1;33m(\u001b[0m\u001b[1;36m.25\u001b[0m\u001b[1;33m)\u001b[0m                       \u001b[1;31m# Runs tracer.__call__(???, .25)\u001b[0m\u001b[1;33m\u001b[0m\u001b[1;33m\u001b[0m\u001b[0m\n\u001b[0m",
      "\u001b[1;32m~\\AppData\\Local\\Temp/ipykernel_19640/429830465.py\u001b[0m in \u001b[0;36m__call__\u001b[1;34m(self, *args, **kwargs)\u001b[0m\n\u001b[0;32m      6\u001b[0m         \u001b[0mself\u001b[0m\u001b[1;33m.\u001b[0m\u001b[0mcalls\u001b[0m \u001b[1;33m+=\u001b[0m \u001b[1;36m1\u001b[0m\u001b[1;33m\u001b[0m\u001b[1;33m\u001b[0m\u001b[0m\n\u001b[0;32m      7\u001b[0m         \u001b[0mprint\u001b[0m\u001b[1;33m(\u001b[0m\u001b[1;34m'call %s to %s'\u001b[0m \u001b[1;33m%\u001b[0m \u001b[1;33m(\u001b[0m\u001b[0mself\u001b[0m\u001b[1;33m.\u001b[0m\u001b[0mcalls\u001b[0m\u001b[1;33m,\u001b[0m \u001b[0mself\u001b[0m\u001b[1;33m.\u001b[0m\u001b[0mfunc\u001b[0m\u001b[1;33m.\u001b[0m\u001b[0m__name__\u001b[0m\u001b[1;33m)\u001b[0m\u001b[1;33m)\u001b[0m\u001b[1;33m\u001b[0m\u001b[1;33m\u001b[0m\u001b[0m\n\u001b[1;32m----> 8\u001b[1;33m         \u001b[1;32mreturn\u001b[0m \u001b[0mself\u001b[0m\u001b[1;33m.\u001b[0m\u001b[0mfunc\u001b[0m\u001b[1;33m(\u001b[0m\u001b[1;33m*\u001b[0m\u001b[0margs\u001b[0m\u001b[1;33m,\u001b[0m \u001b[1;33m**\u001b[0m\u001b[0mkwargs\u001b[0m\u001b[1;33m)\u001b[0m\u001b[1;33m\u001b[0m\u001b[1;33m\u001b[0m\u001b[0m\n\u001b[0m\u001b[0;32m      9\u001b[0m \u001b[1;33m\u001b[0m\u001b[0m\n\u001b[0;32m     10\u001b[0m \u001b[1;33m@\u001b[0m\u001b[0mtracer\u001b[0m\u001b[1;33m\u001b[0m\u001b[1;33m\u001b[0m\u001b[0m\n",
      "\u001b[1;31mTypeError\u001b[0m: giveRaise() missing 1 required positional argument: 'percent'"
     ]
    }
   ],
   "source": [
    "class Person:\n",
    "    def __init__(self, name, pay):\n",
    "        self.name = name\n",
    "        self.pay  = pay\n",
    "\n",
    "    @tracer\n",
    "    def giveRaise(self, percent):            # giveRaise = tracer(giveRaise)\n",
    "        self.pay *= (1.0 + percent)\n",
    "\n",
    "    @tracer\n",
    "    def lastName(self):                      # lastName = tracer(lastName)\n",
    "        return self.name.split()[-1]\n",
    "\n",
    "bob = Person('Bob Smith', 50000)         # tracer remembers method funcs\n",
    "bob.giveRaise(.25)                       # Runs tracer.__call__(???, .25)"
   ]
  },
  {
   "cell_type": "code",
   "execution_count": 29,
   "id": "24ea3eb8",
   "metadata": {},
   "outputs": [
    {
     "name": "stdout",
     "output_type": "stream",
     "text": [
      "call 1 to lastName\n"
     ]
    },
    {
     "ename": "TypeError",
     "evalue": "lastName() missing 1 required positional argument: 'self'",
     "output_type": "error",
     "traceback": [
      "\u001b[1;31m---------------------------------------------------------------------------\u001b[0m",
      "\u001b[1;31mTypeError\u001b[0m                                 Traceback (most recent call last)",
      "\u001b[1;32m~\\AppData\\Local\\Temp/ipykernel_19640/3998675232.py\u001b[0m in \u001b[0;36m<module>\u001b[1;34m\u001b[0m\n\u001b[1;32m----> 1\u001b[1;33m \u001b[0mprint\u001b[0m\u001b[1;33m(\u001b[0m\u001b[0mbob\u001b[0m\u001b[1;33m.\u001b[0m\u001b[0mlastName\u001b[0m\u001b[1;33m(\u001b[0m\u001b[1;33m)\u001b[0m\u001b[1;33m)\u001b[0m                    \u001b[1;31m# Runs tracer.__call__(???)\u001b[0m\u001b[1;33m\u001b[0m\u001b[1;33m\u001b[0m\u001b[0m\n\u001b[0m",
      "\u001b[1;32m~\\AppData\\Local\\Temp/ipykernel_19640/429830465.py\u001b[0m in \u001b[0;36m__call__\u001b[1;34m(self, *args, **kwargs)\u001b[0m\n\u001b[0;32m      6\u001b[0m         \u001b[0mself\u001b[0m\u001b[1;33m.\u001b[0m\u001b[0mcalls\u001b[0m \u001b[1;33m+=\u001b[0m \u001b[1;36m1\u001b[0m\u001b[1;33m\u001b[0m\u001b[1;33m\u001b[0m\u001b[0m\n\u001b[0;32m      7\u001b[0m         \u001b[0mprint\u001b[0m\u001b[1;33m(\u001b[0m\u001b[1;34m'call %s to %s'\u001b[0m \u001b[1;33m%\u001b[0m \u001b[1;33m(\u001b[0m\u001b[0mself\u001b[0m\u001b[1;33m.\u001b[0m\u001b[0mcalls\u001b[0m\u001b[1;33m,\u001b[0m \u001b[0mself\u001b[0m\u001b[1;33m.\u001b[0m\u001b[0mfunc\u001b[0m\u001b[1;33m.\u001b[0m\u001b[0m__name__\u001b[0m\u001b[1;33m)\u001b[0m\u001b[1;33m)\u001b[0m\u001b[1;33m\u001b[0m\u001b[1;33m\u001b[0m\u001b[0m\n\u001b[1;32m----> 8\u001b[1;33m         \u001b[1;32mreturn\u001b[0m \u001b[0mself\u001b[0m\u001b[1;33m.\u001b[0m\u001b[0mfunc\u001b[0m\u001b[1;33m(\u001b[0m\u001b[1;33m*\u001b[0m\u001b[0margs\u001b[0m\u001b[1;33m,\u001b[0m \u001b[1;33m**\u001b[0m\u001b[0mkwargs\u001b[0m\u001b[1;33m)\u001b[0m\u001b[1;33m\u001b[0m\u001b[1;33m\u001b[0m\u001b[0m\n\u001b[0m\u001b[0;32m      9\u001b[0m \u001b[1;33m\u001b[0m\u001b[0m\n\u001b[0;32m     10\u001b[0m \u001b[1;33m@\u001b[0m\u001b[0mtracer\u001b[0m\u001b[1;33m\u001b[0m\u001b[1;33m\u001b[0m\u001b[0m\n",
      "\u001b[1;31mTypeError\u001b[0m: lastName() missing 1 required positional argument: 'self'"
     ]
    }
   ],
   "source": [
    "print(bob.lastName())                    # Runs tracer.__call__(???)"
   ]
  },
  {
   "cell_type": "code",
   "execution_count": 30,
   "id": "8c51eae5",
   "metadata": {},
   "outputs": [
    {
     "name": "stdout",
     "output_type": "stream",
     "text": [
      "# A call tracer decorator for both functions and methods\n",
      "\n",
      "def tracer(func):                        # Use function, not class with __call__\n",
      "    calls = 0                            # Else \"self\" is decorator instance only!\n",
      "    def onCall(*args, **kwargs):         # Or in 2.X+3.X: use [onCall.calls += 1]\n",
      "        nonlocal calls\n",
      "        calls += 1\n",
      "        print('call %s to %s' % (calls, func.__name__))\n",
      "        return func(*args, **kwargs)\n",
      "    return onCall\n",
      "\n",
      "\n",
      "if __name__ == '__main__':\n",
      "\n",
      "    # Applies to simple functions\n",
      "    @tracer\n",
      "    def spam(a, b, c):                       # spam = tracer(spam)\n",
      "        print(a + b + c)                     # onCall remembers spam\n",
      "\n",
      "    @tracer\n",
      "    def eggs(N):\n",
      "        return 2 ** N\n",
      "\n",
      "    spam(1, 2, 3)                            # Runs onCall(1, 2, 3)\n",
      "    spam(a=4, b=5, c=6)\n",
      "    print(eggs(32))\n",
      "\n",
      "    # Applies to class method functions too!\n",
      "    class Person:\n",
      "        def __init__(self, name, pay):\n",
      "            self.name = name\n",
      "            self.pay  = pay\n",
      "\n",
      "        @tracer\n",
      "        def giveRaise(self, percent):        # giveRaise = tracer(giveRaise)\n",
      "            self.pay *= (1.0 + percent)      # onCall remembers giveRaise\n",
      "\n",
      "        @tracer\n",
      "        def lastName(self):                  # lastName = tracer(lastName)\n",
      "            return self.name.split()[-1]\n",
      "\n",
      "    print('methods...')\n",
      "    bob = Person('Bob Smith', 50000)\n",
      "    sue = Person('Sue Jones', 100000)\n",
      "    print(bob.name, sue.name)\n",
      "    sue.giveRaise(.10)                       # Runs onCall(sue, .10)\n",
      "    print(int(sue.pay))\n",
      "    print(bob.lastName(), sue.lastName())    # Runs onCall(bob), lastName in scopes\n"
     ]
    }
   ],
   "source": [
    "!cat calltracer.py"
   ]
  },
  {
   "cell_type": "code",
   "execution_count": 31,
   "id": "b51502e4",
   "metadata": {},
   "outputs": [
    {
     "name": "stdout",
     "output_type": "stream",
     "text": [
      "call 1 to spam\n",
      "6\n",
      "call 2 to spam\n",
      "15\n",
      "call 1 to eggs\n",
      "4294967296\n",
      "methods...\n",
      "Bob Smith Sue Jones\n",
      "call 1 to giveRaise\n",
      "110000\n",
      "call 1 to lastName\n",
      "call 2 to lastName\n",
      "Smith Jones\n"
     ]
    }
   ],
   "source": [
    "!python calltracer.py"
   ]
  },
  {
   "cell_type": "code",
   "execution_count": 36,
   "id": "58d9bb81",
   "metadata": {},
   "outputs": [
    {
     "data": {
      "text/plain": [
       "sys.version_info(major=3, minor=8, micro=5, releaselevel='final', serial=0)"
      ]
     },
     "execution_count": 36,
     "metadata": {},
     "output_type": "execute_result"
    }
   ],
   "source": [
    "sys.version_info"
   ]
  },
  {
   "cell_type": "code",
   "execution_count": 37,
   "id": "bc75305a",
   "metadata": {},
   "outputs": [
    {
     "data": {
      "text/plain": [
       "3"
      ]
     },
     "execution_count": 37,
     "metadata": {},
     "output_type": "execute_result"
    }
   ],
   "source": [
    "sys.version_info[0]"
   ]
  },
  {
   "cell_type": "code",
   "execution_count": 38,
   "id": "bd206101",
   "metadata": {},
   "outputs": [
    {
     "data": {
      "text/plain": [
       "list"
      ]
     },
     "execution_count": 38,
     "metadata": {},
     "output_type": "execute_result"
    }
   ],
   "source": [
    "list if sys.version_info[0] == 3 else (lambda X: X)"
   ]
  },
  {
   "cell_type": "code",
   "execution_count": 34,
   "id": "3b27c797",
   "metadata": {},
   "outputs": [
    {
     "name": "stdout",
     "output_type": "stream",
     "text": [
      "# File timer-deco1.py\n",
      "# Caveat: range still differs - a list in 2.X, an iterable in 3.X\n",
      "# Caveat: timer won't work on methods as coded (see quiz solution)\n",
      "\n",
      "import time, sys\n",
      "force = list if sys.version_info[0] == 3 else (lambda X: X) \n",
      "\n",
      "class timer:\n",
      "    def __init__(self, func):\n",
      "        self.func    = func\n",
      "        self.alltime = 0\n",
      "    def __call__(self, *args, **kargs):\n",
      "        start   = time.process_time()\n",
      "        result  = self.func(*args, **kargs)\n",
      "        elapsed = time.process_time() - start\n",
      "        self.alltime += elapsed\n",
      "        print('%s: %.5f, %.5f' % (self.func.__name__, elapsed, self.alltime))\n",
      "        return result\n",
      "\n",
      "@timer\n",
      "def listcomp(N):\n",
      "    return [x * 2 for x in range(N)]\n",
      "\n",
      "@timer\n",
      "def mapcall(N):\n",
      "    return force(map((lambda x: x * 2), range(N)))\n",
      "\n",
      "result = listcomp(5)                # Time for this call, all calls, return value\n",
      "listcomp(50000) \n",
      "listcomp(500000)\n",
      "listcomp(1000000)\n",
      "print(result)\n",
      "print('allTime = %s' % listcomp.alltime)      # Total time for all listcomp calls\n",
      "\n",
      "print('')\n",
      "result = mapcall(5)\n",
      "mapcall(50000)\n",
      "mapcall(500000)\n",
      "mapcall(1000000)\n",
      "print(result)\n",
      "print('allTime = %s' % mapcall.alltime)       # Total time for all mapcall calls\n",
      "\n",
      "print('\\n**map/comp = %s' % round(mapcall.alltime / listcomp.alltime, 3))\n"
     ]
    }
   ],
   "source": [
    "!cat timerdeco1.py"
   ]
  },
  {
   "cell_type": "code",
   "execution_count": 35,
   "id": "c2a8119e",
   "metadata": {},
   "outputs": [
    {
     "name": "stdout",
     "output_type": "stream",
     "text": [
      "listcomp: 0.00000, 0.00000\n",
      "listcomp: 0.00000, 0.00000\n",
      "listcomp: 0.04688, 0.04688\n",
      "listcomp: 0.09375, 0.14062\n",
      "[0, 2, 4, 6, 8]\n",
      "allTime = 0.140625\n",
      "\n",
      "mapcall: 0.00000, 0.00000\n",
      "mapcall: 0.01562, 0.01562\n",
      "mapcall: 0.06250, 0.07812\n",
      "mapcall: 0.14062, 0.21875\n",
      "[0, 2, 4, 6, 8]\n",
      "allTime = 0.21875\n",
      "\n",
      "**map/comp = 1.556\n"
     ]
    }
   ],
   "source": [
    "!python timerdeco1.py"
   ]
  },
  {
   "cell_type": "code",
   "execution_count": 41,
   "id": "4eebf7b9",
   "metadata": {},
   "outputs": [
    {
     "name": "stdout",
     "output_type": "stream",
     "text": [
      "# File timer.py\n",
      "\"\"\"\n",
      "Homegrown timing tools for function calls.\n",
      "Does total time, best-of time, and best-of-totals time\n",
      "\"\"\"\n",
      "\n",
      "import time, sys\n",
      "timer = time.process_time if sys.platform[:3] == 'win' else time.time\n",
      "\n",
      "def total(reps, func, *pargs, **kargs):          \n",
      "    \"\"\"\n",
      "    Total time to run func() reps times.\n",
      "    Returns (total time, last result)\n",
      "    \"\"\"\n",
      "    repslist = list(range(reps))                 # Hoist out, equalize 2.x, 3.x\n",
      "    start = timer()                              # Or perf_counter/other in 3.3+\n",
      "    for i in repslist:\n",
      "        ret = func(*pargs, **kargs)\n",
      "    elapsed = timer() - start\n",
      "    return (elapsed, ret)                       \n",
      "\n",
      "def bestof(reps, func, *pargs, **kargs):         \n",
      "    \"\"\"\n",
      "    Quickest func() among reps runs.\n",
      "    Returns (best time, last result)\n",
      "    \"\"\" \n",
      "    best = 2 ** 32                               # 136 years seems large enough\n",
      "    for i in range(reps):                        # range usage not timed here\n",
      "        start = timer()\n",
      "        ret = func(*pargs, **kargs)\n",
      "        elapsed = timer() - start                # Or call total() with reps=1\n",
      "        if elapsed < best: best = elapsed        # Or add to list and take min()\n",
      "    return (best, ret)                     \n",
      "\n",
      "def bestoftotal(reps1, reps2, func, *pargs, **kargs):\n",
      "    \"\"\"\n",
      "    Best of totals: \n",
      "    (best of reps1 runs of (total of reps2 runs of func))\n",
      "    \"\"\"\n",
      "    return bestof(reps1, total, reps2, func, *pargs, **kargs)\n"
     ]
    }
   ],
   "source": [
    "!cat timer.py"
   ]
  },
  {
   "cell_type": "code",
   "execution_count": 42,
   "id": "0cea8aa3",
   "metadata": {},
   "outputs": [
    {
     "data": {
      "text/plain": [
       "(0.109375, None)"
      ]
     },
     "execution_count": 42,
     "metadata": {},
     "output_type": "execute_result"
    }
   ],
   "source": [
    "def listcomp(N): [x * 2 for x in range(N)]\n",
    "\n",
    "import timer                                             # Chapter 21 techniques\n",
    "timer.total(1, listcomp, 1000000)"
   ]
  },
  {
   "cell_type": "code",
   "execution_count": 43,
   "id": "4ee787e0",
   "metadata": {},
   "outputs": [
    {
     "data": {
      "text/plain": [
       "0.09400620000087656"
      ]
     },
     "execution_count": 43,
     "metadata": {},
     "output_type": "execute_result"
    }
   ],
   "source": [
    "import timeit\n",
    "timeit.timeit(number=1, stmt=lambda: listcomp(1000000))"
   ]
  },
  {
   "cell_type": "code",
   "execution_count": 47,
   "id": "2e4f8c05",
   "metadata": {},
   "outputs": [
    {
     "name": "stdout",
     "output_type": "stream",
     "text": [
      "import time\n",
      "\n",
      "def timer(label='', trace=True):                  # On decorator args: retain args\n",
      "    class Timer:\n",
      "        def __init__(self, func):                 # On @: retain decorated func\n",
      "            self.func    = func\n",
      "            self.alltime = 0\n",
      "        def __call__(self, *args, **kargs):       # On calls: call original\n",
      "            start   = time.process_time()\n",
      "            result  = self.func(*args, **kargs)\n",
      "            elapsed = time.process_time() - start\n",
      "            self.alltime += elapsed\n",
      "            if trace:\n",
      "                format = '%s %s: %.5f, %.5f'\n",
      "                values = (label, self.func.__name__, elapsed, self.alltime)\n",
      "                print(format % values)\n",
      "            return result\n",
      "    return Timer\n"
     ]
    }
   ],
   "source": [
    "!cat timerdeco2.py"
   ]
  },
  {
   "cell_type": "code",
   "execution_count": 46,
   "id": "d5a7cc98",
   "metadata": {},
   "outputs": [
    {
     "name": "stdout",
     "output_type": "stream",
     "text": [
      "import sys\n",
      "from timerdeco2 import timer\n",
      "force = list if sys.version_info[0] == 3 else (lambda X: X)\n",
      "\n",
      "@timer(label='[CCC]==>')\n",
      "def listcomp(N):                             # Like listcomp = timer(...)(listcomp)\n",
      "    return [x * 2 for x in range(N)]         # listcomp(...) triggers Timer.__call__\n",
      "\n",
      "@timer(trace=True, label='[MMM]==>')\n",
      "def mapcall(N):\n",
      "    return force(map((lambda x: x * 2), range(N)))\n",
      "\n",
      "for func in (listcomp, mapcall):\n",
      "    result = func(5)        # Time for this call, all calls, return value\n",
      "    func(50000)\n",
      "    func(500000)\n",
      "    func(1000000)\n",
      "    print(result)\n",
      "    print('allTime = %s\\n' % func.alltime)   # Total time for all calls\n",
      "\n",
      "print('**map/comp = %s' % round(mapcall.alltime / listcomp.alltime, 3))\n"
     ]
    }
   ],
   "source": [
    "!cat testseqs.py"
   ]
  },
  {
   "cell_type": "code",
   "execution_count": 48,
   "id": "c7b9cd05",
   "metadata": {},
   "outputs": [
    {
     "name": "stdout",
     "output_type": "stream",
     "text": [
      "[CCC]==> listcomp: 0.00000, 0.00000\n",
      "[CCC]==> listcomp: 0.00000, 0.00000\n",
      "[CCC]==> listcomp: 0.04688, 0.04688\n",
      "[CCC]==> listcomp: 0.07812, 0.12500\n",
      "[0, 2, 4, 6, 8]\n",
      "allTime = 0.125\n",
      "\n",
      "[MMM]==> mapcall: 0.00000, 0.00000\n",
      "[MMM]==> mapcall: 0.00000, 0.00000\n",
      "[MMM]==> mapcall: 0.06250, 0.06250\n",
      "[MMM]==> mapcall: 0.12500, 0.18750\n",
      "[0, 2, 4, 6, 8]\n",
      "allTime = 0.1875\n",
      "\n",
      "**map/comp = 1.5\n"
     ]
    }
   ],
   "source": [
    "!python testseqs.py"
   ]
  },
  {
   "cell_type": "code",
   "execution_count": 53,
   "id": "c1bf51f7",
   "metadata": {},
   "outputs": [
    {
     "data": {
      "text/plain": [
       "0.125"
      ]
     },
     "execution_count": 53,
     "metadata": {},
     "output_type": "execute_result"
    }
   ],
   "source": [
    "from timerdeco2 import timer\n",
    "@timer(trace=False)                      # No tracing, collect total time\n",
    "def listcomp(N):\n",
    "     return [x * 2 for x in range(N)]\n",
    "\n",
    "x = listcomp(500000)\n",
    "x = listcomp(500000)\n",
    "x = listcomp(500000)\n",
    "listcomp.alltime"
   ]
  },
  {
   "cell_type": "code",
   "execution_count": 54,
   "id": "22d2852e",
   "metadata": {},
   "outputs": [
    {
     "data": {
      "text/plain": [
       "<timerdeco2.timer.<locals>.Timer at 0x21ef40dab80>"
      ]
     },
     "execution_count": 54,
     "metadata": {},
     "output_type": "execute_result"
    }
   ],
   "source": [
    "listcomp"
   ]
  },
  {
   "cell_type": "code",
   "execution_count": 55,
   "id": "68cc9560",
   "metadata": {},
   "outputs": [
    {
     "name": "stdout",
     "output_type": "stream",
     "text": [
      "\t=> listcomp: 0.04688, 0.04688\n"
     ]
    }
   ],
   "source": [
    "@timer(trace=True, label='\\t=>')         # Turn on tracing, custom label\n",
    "def listcomp(N):\n",
    "    return [x * 2 for x in range(N)]\n",
    "\n",
    "x = listcomp(500000)"
   ]
  },
  {
   "cell_type": "code",
   "execution_count": 57,
   "id": "72e2a705",
   "metadata": {},
   "outputs": [
    {
     "name": "stdout",
     "output_type": "stream",
     "text": [
      "\t=> listcomp: 0.04688, 0.09375\n"
     ]
    }
   ],
   "source": [
    "x = listcomp(500000)"
   ]
  },
  {
   "cell_type": "code",
   "execution_count": 58,
   "id": "45607fe3",
   "metadata": {},
   "outputs": [
    {
     "name": "stdout",
     "output_type": "stream",
     "text": [
      "\t=> listcomp: 0.03125, 0.12500\n"
     ]
    }
   ],
   "source": [
    "x = listcomp(500000)"
   ]
  },
  {
   "cell_type": "code",
   "execution_count": 59,
   "id": "e5b950bf",
   "metadata": {},
   "outputs": [
    {
     "data": {
      "text/plain": [
       "0.125"
      ]
     },
     "execution_count": 59,
     "metadata": {},
     "output_type": "execute_result"
    }
   ],
   "source": [
    "listcomp.alltime"
   ]
  },
  {
   "cell_type": "markdown",
   "id": "57dc5272",
   "metadata": {},
   "source": [
    "### Coding Class Decorators"
   ]
  },
  {
   "cell_type": "code",
   "execution_count": 60,
   "id": "bef5f0ef",
   "metadata": {},
   "outputs": [
    {
     "name": "stdout",
     "output_type": "stream",
     "text": [
      "\"\"\"\n",
      "# 3.X and 2.X: global table\n",
      "\n",
      "instances = {}             \n",
      "\n",
      "def singleton(aClass):                          # On @ decoration\n",
      "    def onCall(*args, **kwargs):                # On instance creation\n",
      "        if aClass not in instances:             # One dict entry per class\n",
      "            instances[aClass] = aClass(*args, **kwargs)\n",
      "        return instances[aClass]\n",
      "    return onCall\n",
      "\"\"\"\n",
      "##################################################################################\n",
      "\"\"\"\n",
      "# 3.X only: nonlocal\n",
      "\n",
      "def singleton(aClass):                                   # On @ decoration\n",
      "    instance = None\n",
      "    def onCall(*args, **kwargs):                         # On instance creation\n",
      "        nonlocal instance                                # 3.X and later nonlocal\n",
      "        if instance == None:\n",
      "            instance = aClass(*args, **kwargs)           # One scope per class\n",
      "        return instance\n",
      "    return onCall\n",
      "\"\"\"\n",
      "#################################################################################\n",
      "\"\"\"\n",
      "# 3.X and 2.X: func attrs\n",
      "\n",
      "def singleton(aClass):                                   # On @ decoration\n",
      "    def onCall(*args, **kwargs):                         # On instance creation\n",
      "        if onCall.instance == None:\n",
      "            onCall.instance = aClass(*args, **kwargs)    # One function per class\n",
      "        return onCall.instance\n",
      "    onCall.instance = None\n",
      "    return onCall\n",
      "\"\"\"\n",
      "##################################################################################\n",
      "\n",
      "# 3.X and 2.X: classes\n",
      "\n",
      "class singleton:\n",
      "    def __init__(self, aClass):                          # On @ decoration\n",
      "        self.aClass = aClass\n",
      "        self.instance = None\n",
      "    def __call__(self, *args, **kwargs):                 # On instance creation\n",
      "        if self.instance == None:\n",
      "            self.instance = self.aClass(*args, **kwargs) # One instance per class\n",
      "        return self.instance\n",
      "\n",
      "##################################################################################\n",
      "\n",
      "# test code\n",
      "\n",
      "@singleton                                      # Person = singleton(Person)\n",
      "class Person:                                   # Rebinds Person to onCall\n",
      "     def __init__(self, name, hours, rate):     # onCall remembers Person\n",
      "        self.name = name\n",
      "        self.hours = hours\n",
      "        self.rate = rate\n",
      "     def pay(self):\n",
      "        return self.hours * self.rate\n",
      "\n",
      "@singleton                                      # Spam = singleton(Spam)\n",
      "class Spam:                                     # Rebinds Spam to onCall\n",
      "    def __init__(self, val):                    # onCall remembers Spam\n",
      "        self.attr = val\n",
      "\n",
      "bob = Person('Bob', 40, 10)                     # Really calls onCall\n",
      "print(bob.name, bob.pay())\n",
      "\n",
      "sue = Person('Sue', 50, 20)                     # Same, single object\n",
      "print(sue.name, sue.pay())\n",
      "\n",
      "X = Spam(val=42)                                # One Person, one Spam\n",
      "Y = Spam(99)\n",
      "print(X.attr, Y.attr)\n"
     ]
    }
   ],
   "source": [
    "!cat singletons.py"
   ]
  },
  {
   "cell_type": "code",
   "execution_count": 61,
   "id": "1b3d14f5",
   "metadata": {},
   "outputs": [
    {
     "name": "stdout",
     "output_type": "stream",
     "text": [
      "Bob 400\n",
      "Bob 400\n",
      "42 42\n"
     ]
    }
   ],
   "source": [
    "!python singletons.py"
   ]
  },
  {
   "cell_type": "code",
   "execution_count": 63,
   "id": "0b695c9b",
   "metadata": {},
   "outputs": [
    {
     "name": "stdout",
     "output_type": "stream",
     "text": [
      "Trace: append\n"
     ]
    }
   ],
   "source": [
    "class Wrapper:\n",
    "    def __init__(self, object):\n",
    "        self.wrapped = object                    # Save object\n",
    "    def __getattr__(self, attrname):\n",
    "        print('Trace:', attrname)                # Trace fetch\n",
    "        return getattr(self.wrapped, attrname)   # Delegate fetch\n",
    "\n",
    "x = Wrapper([1,2,3])                         # Wrap a list\n",
    "x.append(4)                                  # Delegate to list method"
   ]
  },
  {
   "cell_type": "code",
   "execution_count": 64,
   "id": "f4fa1001",
   "metadata": {},
   "outputs": [
    {
     "data": {
      "text/plain": [
       "[1, 2, 3, 4]"
      ]
     },
     "execution_count": 64,
     "metadata": {},
     "output_type": "execute_result"
    }
   ],
   "source": [
    "x.wrapped                                    # Print my member"
   ]
  },
  {
   "cell_type": "code",
   "execution_count": 65,
   "id": "88377962",
   "metadata": {},
   "outputs": [
    {
     "name": "stdout",
     "output_type": "stream",
     "text": [
      "Trace: keys\n"
     ]
    },
    {
     "data": {
      "text/plain": [
       "['a', 'b']"
      ]
     },
     "execution_count": 65,
     "metadata": {},
     "output_type": "execute_result"
    }
   ],
   "source": [
    "x = Wrapper({\"a\": 1, \"b\": 2})                # Wrap a dictionary\n",
    "list(x.keys())                               # Delegate to dictionary method"
   ]
  },
  {
   "cell_type": "code",
   "execution_count": 7,
   "id": "516ec70e",
   "metadata": {},
   "outputs": [
    {
     "name": "stdout",
     "output_type": "stream",
     "text": [
      "def Tracer(aClass):                                   # On @ decorator\n",
      "    class Wrapper:\n",
      "        def __init__(self, *args, **kargs):           # On instance creation\n",
      "            self.fetches = 0\n",
      "            self.wrapped = aClass(*args, **kargs)     # Use enclosing scope name\n",
      "        def __getattr__(self, attrname):\n",
      "            print('Trace: ' + attrname)               # Catches all but own attrs\n",
      "            self.fetches += 1\n",
      "            return getattr(self.wrapped, attrname)    # Delegate to wrapped obj\n",
      "    return Wrapper\n",
      "\n",
      "\n",
      "if __name__ == '__main__':\n",
      "\n",
      "    @Tracer\n",
      "    class Spam:                                  # Spam = Tracer(Spam)\n",
      "        def display(self):                       # Spam is rebound to Wrapper\n",
      "            print('Spam!' * 8)\n",
      "\n",
      "    @Tracer\n",
      "    class Person:                                # Person = Tracer(Person)\n",
      "        def __init__(self, name, hours, rate):   # Wrapper remembers Person\n",
      "            self.name = name\n",
      "            self.hours = hours\n",
      "            self.rate = rate\n",
      "        def pay(self):                           # Accesses outside class traced\n",
      "            return self.hours * self.rate        # In-method accesses not traced\n",
      "\n",
      "    food = Spam()                                # Triggers Wrapper()\n",
      "    food.display()                               # Triggers __getattr__\n",
      "    print([food.fetches])\n",
      "\n",
      "    bob = Person('Bob', 40, 50)                  # bob is really a Wrapper\n",
      "    print(bob.name)                              # Wrapper embeds a Person\n",
      "    print(bob.pay())\n",
      "\n",
      "    print('')\n",
      "    sue = Person('Sue', rate=100, hours=60)      # sue is a different Wrapper\n",
      "    print(sue.name)                              # with a different Person\n",
      "    print(sue.pay())\n",
      "\n",
      "    print(bob.name)                              # bob has different state\n",
      "    print(bob.pay())\n",
      "    print([bob.fetches, sue.fetches])            # Wrapper attrs not traced\n"
     ]
    }
   ],
   "source": [
    "!cat interfacetracer.py"
   ]
  },
  {
   "cell_type": "code",
   "execution_count": 7,
   "id": "8e3833f1",
   "metadata": {},
   "outputs": [
    {
     "name": "stdout",
     "output_type": "stream",
     "text": [
      "Trace: display\n",
      "Spam!Spam!Spam!Spam!Spam!Spam!Spam!Spam!\n",
      "[1]\n",
      "Trace: name\n",
      "Bob\n",
      "Trace: pay\n",
      "2000\n",
      "\n",
      "Trace: name\n",
      "Sue\n",
      "Trace: pay\n",
      "6000\n",
      "Trace: name\n",
      "Bob\n",
      "Trace: pay\n",
      "2000\n",
      "[4, 2]\n"
     ]
    }
   ],
   "source": [
    "!python interfacetracer.py"
   ]
  },
  {
   "cell_type": "code",
   "execution_count": 8,
   "id": "7d023881",
   "metadata": {},
   "outputs": [
    {
     "name": "stdout",
     "output_type": "stream",
     "text": [
      "Trace: append\n"
     ]
    }
   ],
   "source": [
    "from interfacetracer import Tracer\n",
    "\n",
    "@Tracer\n",
    "class MyList(list): pass      # MyList = Tracer(MyList)\n",
    "\n",
    "x = MyList([1, 2, 3])         # Triggers Wrapper()\n",
    "x.append(4)                   # Triggers __getattr__, append"
   ]
  },
  {
   "cell_type": "code",
   "execution_count": 10,
   "id": "34ec76cd",
   "metadata": {},
   "outputs": [
    {
     "data": {
      "text/plain": [
       "[1, 2, 3, 4]"
      ]
     },
     "execution_count": 10,
     "metadata": {},
     "output_type": "execute_result"
    }
   ],
   "source": [
    "x.wrapped"
   ]
  },
  {
   "cell_type": "code",
   "execution_count": 11,
   "id": "3a6ad9b1",
   "metadata": {},
   "outputs": [
    {
     "name": "stdout",
     "output_type": "stream",
     "text": [
      "Trace: append\n"
     ]
    }
   ],
   "source": [
    "WrapList = Tracer(list)       # Or perform decoration manually\n",
    "x = WrapList([4, 5, 6])       # Else subclass statement required\n",
    "x.append(7)"
   ]
  },
  {
   "cell_type": "code",
   "execution_count": 12,
   "id": "44a75c07",
   "metadata": {},
   "outputs": [
    {
     "data": {
      "text/plain": [
       "[4, 5, 6, 7]"
      ]
     },
     "execution_count": 12,
     "metadata": {},
     "output_type": "execute_result"
    }
   ],
   "source": [
    "x.wrapped"
   ]
  },
  {
   "cell_type": "markdown",
   "id": "a900db14",
   "metadata": {},
   "source": [
    "#### Class Blunders II: Retaining Multiple Instances"
   ]
  },
  {
   "cell_type": "code",
   "execution_count": 18,
   "id": "55ea33ec",
   "metadata": {},
   "outputs": [
    {
     "name": "stdout",
     "output_type": "stream",
     "text": [
      "Trace: display\n",
      "Spam!Spam!Spam!Spam!Spam!Spam!Spam!Spam!\n"
     ]
    }
   ],
   "source": [
    "class Tracer:\n",
    "    def __init__(self, aClass):               # On @decorator\n",
    "        self.aClass = aClass                  # Use instance attribute\n",
    "    def __call__(self, *args):                # On instance creation\n",
    "        self.wrapped = self.aClass(*args)     # ONE (LAST) INSTANCE PER CLASS!\n",
    "        return self\n",
    "    def __getattr__(self, attrname):\n",
    "        print('Trace: ' + attrname)\n",
    "        return getattr(self.wrapped, attrname)\n",
    "\n",
    "@Tracer                                       # Triggers __init__\n",
    "class Spam:                                   # Like: Spam = Tracer(Spam)\n",
    "    def display(self):\n",
    "        print('Spam!' * 8)\n",
    "\n",
    "\n",
    "food = Spam()                                 # Triggers __call__\n",
    "food.display()                                # Triggers __getattr__"
   ]
  },
  {
   "cell_type": "code",
   "execution_count": 19,
   "id": "99b96aea",
   "metadata": {},
   "outputs": [
    {
     "name": "stdout",
     "output_type": "stream",
     "text": [
      "Trace: name\n",
      "Bob\n"
     ]
    }
   ],
   "source": [
    "@Tracer\n",
    "class Person:                                 # Person = Tracer(Person)\n",
    "    def __init__(self, name):                 # Wrapper bound to Person\n",
    "        self.name = name\n",
    "\n",
    "bob = Person('Bob')                           # bob is really a Wrapper\n",
    "print(bob.name)                               # Wrapper embeds a Person"
   ]
  },
  {
   "cell_type": "code",
   "execution_count": 20,
   "id": "bc586e19",
   "metadata": {},
   "outputs": [
    {
     "name": "stdout",
     "output_type": "stream",
     "text": [
      "Trace: name\n",
      "Sue\n"
     ]
    }
   ],
   "source": [
    "Sue = Person('Sue')\n",
    "print(Sue.name)                               # sue overwrites bob"
   ]
  },
  {
   "cell_type": "code",
   "execution_count": 21,
   "id": "79dd2858",
   "metadata": {},
   "outputs": [
    {
     "name": "stdout",
     "output_type": "stream",
     "text": [
      "Trace: name\n",
      "Sue\n"
     ]
    }
   ],
   "source": [
    "print(bob.name)                               # OOPS: now bob's name is 'Sue'!"
   ]
  },
  {
   "cell_type": "markdown",
   "id": "20562e7b",
   "metadata": {},
   "source": [
    "### Managing Functions and Classes Directly"
   ]
  },
  {
   "cell_type": "code",
   "execution_count": 24,
   "id": "20cb37be",
   "metadata": {},
   "outputs": [
    {
     "name": "stdout",
     "output_type": "stream",
     "text": [
      "# Registering decorated objects to an API\n",
      "from __future__ import print_function # 2.X\n",
      "\n",
      "registry = {}\n",
      "def register(obj):                          # Both class and func decorator\n",
      "    registry[obj.__name__] = obj            # Add to registry\n",
      "    return obj                              # Return obj itself, not a wrapper\n",
      "\n",
      "@register\n",
      "def spam(x):\n",
      "    return(x ** 2)                          # spam = register(spam)\n",
      "\n",
      "@register\n",
      "def ham(x):\n",
      "    return(x ** 3)\n",
      "\n",
      "@register\n",
      "class Eggs:                                 # Eggs = register(Eggs)\n",
      "    def __init__(self, x):\n",
      "        self.data = x ** 4\n",
      "    def __str__(self):\n",
      "        return str(self.data)\n",
      "\n",
      "print('Registry:')\n",
      "for name in registry:\n",
      "    print(name, '=>', registry[name], type(registry[name]))\n",
      "\n",
      "print('\\nManual calls:')\n",
      "print(spam(2))                              # Invoke objects manually\n",
      "print(ham(2))                               # Later calls not intercepted\n",
      "X = Eggs(2)\n",
      "print(X)\n",
      "\n",
      "print('\\nRegistry calls:')\n",
      "for name in registry:\n",
      "    print(name, '=>', registry[name](2))    # Invoke from registry\n"
     ]
    }
   ],
   "source": [
    "!cat registry-deco.py"
   ]
  },
  {
   "cell_type": "code",
   "execution_count": 25,
   "id": "74e8bf0c",
   "metadata": {},
   "outputs": [
    {
     "name": "stdout",
     "output_type": "stream",
     "text": [
      "Registry:\n",
      "spam => <function spam at 0x00000174537FD8B0> <class 'function'>\n",
      "ham => <function ham at 0x00000174537FDB80> <class 'function'>\n",
      "Eggs => <class '__main__.Eggs'> <class 'type'>\n",
      "\n",
      "Manual calls:\n",
      "4\n",
      "8\n",
      "16\n",
      "\n",
      "Registry calls:\n",
      "spam => 4\n",
      "ham => 8\n",
      "Eggs => 16\n"
     ]
    }
   ],
   "source": [
    "!python registry-deco.py"
   ]
  },
  {
   "cell_type": "code",
   "execution_count": 26,
   "id": "55f849b9",
   "metadata": {},
   "outputs": [
    {
     "data": {
      "text/plain": [
       "True"
      ]
     },
     "execution_count": 26,
     "metadata": {},
     "output_type": "execute_result"
    }
   ],
   "source": [
    "def decorate(func):\n",
    "        func.marked = True          # Assign function attribute for later use\n",
    "        return func\n",
    "\n",
    "@decorate\n",
    "def spam(a, b):\n",
    "    return a + b\n",
    "\n",
    "spam.marked"
   ]
  },
  {
   "cell_type": "code",
   "execution_count": 27,
   "id": "50a20e9c",
   "metadata": {},
   "outputs": [
    {
     "data": {
      "text/plain": [
       "(3, 'spam data')"
      ]
     },
     "execution_count": 27,
     "metadata": {},
     "output_type": "execute_result"
    }
   ],
   "source": [
    "def annotate(text):             # Same, but value is decorator argument\n",
    "        def decorate(func):\n",
    "            func.label = text\n",
    "            return func\n",
    "        return decorate\n",
    "\n",
    "@annotate('spam data')\n",
    "def spam(a, b):                 # spam = annotate(...)(spam)\n",
    "        return a + b\n",
    "\n",
    "spam(1, 2), spam.label"
   ]
  },
  {
   "cell_type": "markdown",
   "id": "7c6d5ca8",
   "metadata": {},
   "source": [
    "### Example: “Private” and “Public” Attributes"
   ]
  },
  {
   "cell_type": "code",
   "execution_count": 28,
   "id": "e7a6116b",
   "metadata": {},
   "outputs": [
    {
     "name": "stdout",
     "output_type": "stream",
     "text": [
      "\"\"\"\n",
      "File access1.py (3.X + 2.X)\n",
      "\n",
      "Privacy for attributes fetched from class instances.\n",
      "See self-test code at end of file for a usage example.\n",
      "\n",
      "Decorator same as: Doubler = Private('data', 'size')(Doubler).\n",
      "Private returns onDecorator, onDecorator returns onInstance,\n",
      "and each onInstance instance embeds a Doubler instance.\n",
      "\"\"\"\n",
      "\n",
      "traceMe = False\n",
      "def trace(*args):\n",
      "    if traceMe: print('[' + ' '.join(map(str, args)) + ']')\n",
      "\n",
      "def Private(*privates):                              # privates in enclosing scope\n",
      "    def onDecorator(aClass):                         # aClass in enclosing scope\n",
      "        class onInstance:                            # wrapped in instance attribute\n",
      "            def __init__(self, *args, **kargs):\n",
      "                self.wrapped = aClass(*args, **kargs)\n",
      "\n",
      "            def __getattr__(self, attr):             # My attrs don't call getattr\n",
      "                trace('get:', attr)                  # Others assumed in wrapped\n",
      "                if attr in privates:\n",
      "                    raise TypeError('private attribute fetch: ' + attr)\n",
      "                else:\n",
      "                    return getattr(self.wrapped, attr)\n",
      "\n",
      "            def __setattr__(self, attr, value):             # Outside accesses\n",
      "                trace('set:', attr, value)                  # Others run normally\n",
      "                if attr == 'wrapped':                       # Allow my attrs\n",
      "                    self.__dict__[attr] = value             # Avoid looping\n",
      "                elif attr in privates:\n",
      "                    raise TypeError('private attribute change: ' + attr)\n",
      "                else:\n",
      "                    setattr(self.wrapped, attr, value)      # Wrapped obj attrs\n",
      "        return onInstance                                   # Or use __dict__\n",
      "    return onDecorator\n",
      "\n",
      "\n",
      "if __name__ == '__main__':\n",
      "    traceMe = True\n",
      "\n",
      "    @Private('data', 'size')                   # Doubler = Private(...)(Doubler)\n",
      "    class Doubler:\n",
      "        def __init__(self, label, start):\n",
      "            self.label = label                 # Accesses inside the subject class\n",
      "            self.data  = start                 # Not intercepted: run normally\n",
      "        def size(self):\n",
      "            return len(self.data)              # Methods run with no checking\n",
      "        def double(self):                      # Because privacy not inherited\n",
      "            for i in range(self.size()):\n",
      "                self.data[i] = self.data[i] * 2\n",
      "        def display(self):\n",
      "            print('%s => %s' % (self.label, self.data))\n",
      "\n",
      "    X = Doubler('X is', [1, 2, 3])\n",
      "    Y = Doubler('Y is', [-10, -20, -30])\n",
      "\n",
      "    # The following all succeed\n",
      "    print(X.label)                             # Accesses outside subject class\n",
      "    X.display(); X.double(); X.display()       # Intercepted: validated, delegated\n",
      "    print(Y.label)\n",
      "    Y.display(); Y.double()\n",
      "    Y.label = 'Spam'\n",
      "    Y.display()\n",
      "\n",
      "    # The following all fail properly\n",
      "    \"\"\"\n",
      "    print(X.size())          # prints \"TypeError: private attribute fetch: size\"\n",
      "    print(X.data)\n",
      "    X.data = [1, 1, 1]\n",
      "    X.size = lambda S: 0\n",
      "    print(Y.data)\n",
      "    print(Y.size())\n",
      "    \"\"\"\n"
     ]
    }
   ],
   "source": [
    "!cat access1.py"
   ]
  },
  {
   "cell_type": "code",
   "execution_count": 29,
   "id": "36a35f0c",
   "metadata": {},
   "outputs": [
    {
     "name": "stdout",
     "output_type": "stream",
     "text": [
      "[set: wrapped <__main__.Doubler object at 0x000001D3C3864F70>]\n",
      "[set: wrapped <__main__.Doubler object at 0x000001D3C39C41C0>]\n",
      "[get: label]\n",
      "X is\n",
      "[get: display]\n",
      "X is => [1, 2, 3]\n",
      "[get: double]\n",
      "[get: display]\n",
      "X is => [2, 4, 6]\n",
      "[get: label]\n",
      "Y is\n",
      "[get: display]\n",
      "Y is => [-10, -20, -30]\n",
      "[get: double]\n",
      "[set: label Spam]\n",
      "[get: display]\n",
      "Spam => [-20, -40, -60]\n"
     ]
    }
   ],
   "source": [
    "!python access1.py"
   ]
  },
  {
   "cell_type": "code",
   "execution_count": 30,
   "id": "420ff9a2",
   "metadata": {},
   "outputs": [
    {
     "name": "stdout",
     "output_type": "stream",
     "text": [
      "\"\"\"\n",
      "File access2.py (3.X + 2.X)\n",
      "Class decorator with Private and Public attribute declarations.\n",
      "\n",
      "Controls external access to attributes stored on an instance, or \n",
      "Inherited by it from its classes. Private declares attribute names\n",
      "that cannot be fetched or assigned outside the decorated class, \n",
      "and Public declares all the names that can. \n",
      "\n",
      "Caveat: this works in 3.X for explicitly named attributes only: __X__\n",
      "operator overloading methods implicitly run for built-in operations\n",
      "do not trigger either __getattr__ or __getattribute__ in new-style \n",
      "classes.  Add __X__ methods here to intercept and delegate built-ins.\n",
      "\"\"\"\n",
      "\n",
      "traceMe = False\n",
      "def trace(*args):\n",
      "    if traceMe: print('[' + ' '.join(map(str, args)) + ']')\n",
      "\n",
      "def accessControl(failIf):\n",
      "    def onDecorator(aClass):\n",
      "        class onInstance:\n",
      "            def __init__(self, *args, **kargs):\n",
      "                self.__wrapped = aClass(*args, **kargs)\n",
      "\n",
      "            def __getattr__(self, attr):\n",
      "                trace('get:', attr)\n",
      "                if failIf(attr):\n",
      "                    raise TypeError('private attribute fetch: ' + attr)\n",
      "                else:\n",
      "                    return getattr(self.__wrapped, attr)\n",
      "\n",
      "            def __setattr__(self, attr, value):\n",
      "                trace('set:', attr, value)\n",
      "                if attr == '_onInstance__wrapped':\n",
      "                    self.__dict__[attr] = value\n",
      "                elif failIf(attr):\n",
      "                    raise TypeError('private attribute change: ' + attr)\n",
      "                else:\n",
      "                    setattr(self.__wrapped, attr, value)\n",
      "        return onInstance\n",
      "    return onDecorator\n",
      "\n",
      "def Private(*attributes):\n",
      "    return accessControl(failIf=(lambda attr: attr in attributes))\n",
      "\n",
      "def Public(*attributes):\n",
      "    return accessControl(failIf=(lambda attr: attr not in attributes))\n"
     ]
    }
   ],
   "source": [
    "!cat access2.py"
   ]
  },
  {
   "cell_type": "code",
   "execution_count": 32,
   "id": "2a71b75a",
   "metadata": {},
   "outputs": [
    {
     "data": {
      "text/plain": [
       "'Bob'"
      ]
     },
     "execution_count": 32,
     "metadata": {},
     "output_type": "execute_result"
    }
   ],
   "source": [
    "from access2 import Private, Public\n",
    "\n",
    "@Private('age')                             # Person = Private('age')(Person)\n",
    "class Person:                               # Person = onInstance with state\n",
    "        def __init__(self, name, age):\n",
    "            self.name = name\n",
    "            self.age  = age                     # Inside accesses run normally\n",
    "\n",
    "X = Person('Bob', 40)\n",
    "X.name                                      # Outside accesses validated"
   ]
  },
  {
   "cell_type": "code",
   "execution_count": 33,
   "id": "9bd017d5",
   "metadata": {},
   "outputs": [
    {
     "data": {
      "text/plain": [
       "'Sue'"
      ]
     },
     "execution_count": 33,
     "metadata": {},
     "output_type": "execute_result"
    }
   ],
   "source": [
    "X.name = 'Sue'\n",
    "X.name"
   ]
  },
  {
   "cell_type": "code",
   "execution_count": 34,
   "id": "db552ec2",
   "metadata": {},
   "outputs": [
    {
     "ename": "TypeError",
     "evalue": "private attribute fetch: age",
     "output_type": "error",
     "traceback": [
      "\u001b[1;31m---------------------------------------------------------------------------\u001b[0m",
      "\u001b[1;31mTypeError\u001b[0m                                 Traceback (most recent call last)",
      "\u001b[1;32m~\\AppData\\Local\\Temp/ipykernel_29964/1316324446.py\u001b[0m in \u001b[0;36m<module>\u001b[1;34m\u001b[0m\n\u001b[1;32m----> 1\u001b[1;33m \u001b[0mX\u001b[0m\u001b[1;33m.\u001b[0m\u001b[0mage\u001b[0m\u001b[1;33m\u001b[0m\u001b[1;33m\u001b[0m\u001b[0m\n\u001b[0m",
      "\u001b[1;32mD:\\books\\python\\0. Learning Python\\code\\access2.py\u001b[0m in \u001b[0;36m__getattr__\u001b[1;34m(self, attr)\u001b[0m\n\u001b[0;32m     27\u001b[0m                 \u001b[0mtrace\u001b[0m\u001b[1;33m(\u001b[0m\u001b[1;34m'get:'\u001b[0m\u001b[1;33m,\u001b[0m \u001b[0mattr\u001b[0m\u001b[1;33m)\u001b[0m\u001b[1;33m\u001b[0m\u001b[1;33m\u001b[0m\u001b[0m\n\u001b[0;32m     28\u001b[0m                 \u001b[1;32mif\u001b[0m \u001b[0mfailIf\u001b[0m\u001b[1;33m(\u001b[0m\u001b[0mattr\u001b[0m\u001b[1;33m)\u001b[0m\u001b[1;33m:\u001b[0m\u001b[1;33m\u001b[0m\u001b[1;33m\u001b[0m\u001b[0m\n\u001b[1;32m---> 29\u001b[1;33m                     \u001b[1;32mraise\u001b[0m \u001b[0mTypeError\u001b[0m\u001b[1;33m(\u001b[0m\u001b[1;34m'private attribute fetch: '\u001b[0m \u001b[1;33m+\u001b[0m \u001b[0mattr\u001b[0m\u001b[1;33m)\u001b[0m\u001b[1;33m\u001b[0m\u001b[1;33m\u001b[0m\u001b[0m\n\u001b[0m\u001b[0;32m     30\u001b[0m                 \u001b[1;32melse\u001b[0m\u001b[1;33m:\u001b[0m\u001b[1;33m\u001b[0m\u001b[1;33m\u001b[0m\u001b[0m\n\u001b[0;32m     31\u001b[0m                     \u001b[1;32mreturn\u001b[0m \u001b[0mgetattr\u001b[0m\u001b[1;33m(\u001b[0m\u001b[0mself\u001b[0m\u001b[1;33m.\u001b[0m\u001b[0m__wrapped\u001b[0m\u001b[1;33m,\u001b[0m \u001b[0mattr\u001b[0m\u001b[1;33m)\u001b[0m\u001b[1;33m\u001b[0m\u001b[1;33m\u001b[0m\u001b[0m\n",
      "\u001b[1;31mTypeError\u001b[0m: private attribute fetch: age"
     ]
    }
   ],
   "source": [
    "X.age"
   ]
  },
  {
   "cell_type": "code",
   "execution_count": 35,
   "id": "9b558805",
   "metadata": {},
   "outputs": [
    {
     "ename": "TypeError",
     "evalue": "private attribute change: age",
     "output_type": "error",
     "traceback": [
      "\u001b[1;31m---------------------------------------------------------------------------\u001b[0m",
      "\u001b[1;31mTypeError\u001b[0m                                 Traceback (most recent call last)",
      "\u001b[1;32m~\\AppData\\Local\\Temp/ipykernel_29964/793677575.py\u001b[0m in \u001b[0;36m<module>\u001b[1;34m\u001b[0m\n\u001b[1;32m----> 1\u001b[1;33m \u001b[0mX\u001b[0m\u001b[1;33m.\u001b[0m\u001b[0mage\u001b[0m \u001b[1;33m=\u001b[0m \u001b[1;34m'Tom'\u001b[0m\u001b[1;33m\u001b[0m\u001b[1;33m\u001b[0m\u001b[0m\n\u001b[0m",
      "\u001b[1;32mD:\\books\\python\\0. Learning Python\\code\\access2.py\u001b[0m in \u001b[0;36m__setattr__\u001b[1;34m(self, attr, value)\u001b[0m\n\u001b[0;32m     36\u001b[0m                     \u001b[0mself\u001b[0m\u001b[1;33m.\u001b[0m\u001b[0m__dict__\u001b[0m\u001b[1;33m[\u001b[0m\u001b[0mattr\u001b[0m\u001b[1;33m]\u001b[0m \u001b[1;33m=\u001b[0m \u001b[0mvalue\u001b[0m\u001b[1;33m\u001b[0m\u001b[1;33m\u001b[0m\u001b[0m\n\u001b[0;32m     37\u001b[0m                 \u001b[1;32melif\u001b[0m \u001b[0mfailIf\u001b[0m\u001b[1;33m(\u001b[0m\u001b[0mattr\u001b[0m\u001b[1;33m)\u001b[0m\u001b[1;33m:\u001b[0m\u001b[1;33m\u001b[0m\u001b[1;33m\u001b[0m\u001b[0m\n\u001b[1;32m---> 38\u001b[1;33m                     \u001b[1;32mraise\u001b[0m \u001b[0mTypeError\u001b[0m\u001b[1;33m(\u001b[0m\u001b[1;34m'private attribute change: '\u001b[0m \u001b[1;33m+\u001b[0m \u001b[0mattr\u001b[0m\u001b[1;33m)\u001b[0m\u001b[1;33m\u001b[0m\u001b[1;33m\u001b[0m\u001b[0m\n\u001b[0m\u001b[0;32m     39\u001b[0m                 \u001b[1;32melse\u001b[0m\u001b[1;33m:\u001b[0m\u001b[1;33m\u001b[0m\u001b[1;33m\u001b[0m\u001b[0m\n\u001b[0;32m     40\u001b[0m                     \u001b[0msetattr\u001b[0m\u001b[1;33m(\u001b[0m\u001b[0mself\u001b[0m\u001b[1;33m.\u001b[0m\u001b[0m__wrapped\u001b[0m\u001b[1;33m,\u001b[0m \u001b[0mattr\u001b[0m\u001b[1;33m,\u001b[0m \u001b[0mvalue\u001b[0m\u001b[1;33m)\u001b[0m\u001b[1;33m\u001b[0m\u001b[1;33m\u001b[0m\u001b[0m\n",
      "\u001b[1;31mTypeError\u001b[0m: private attribute change: age"
     ]
    }
   ],
   "source": [
    "X.age = 'Tom'"
   ]
  },
  {
   "cell_type": "code",
   "execution_count": 37,
   "id": "72231673",
   "metadata": {},
   "outputs": [
    {
     "data": {
      "text/plain": [
       "'bob'"
      ]
     },
     "execution_count": 37,
     "metadata": {},
     "output_type": "execute_result"
    }
   ],
   "source": [
    "@Public('name')\n",
    "class Person:\n",
    "        def __init__(self, name, age):\n",
    "            self.name = name\n",
    "            self.age  = age\n",
    "\n",
    "X = Person('bob', 40)                       # X is an onInstance\n",
    "X.name                                      # onInstance embeds Person"
   ]
  },
  {
   "cell_type": "code",
   "execution_count": 38,
   "id": "25f3020d",
   "metadata": {},
   "outputs": [
    {
     "data": {
      "text/plain": [
       "'Sue'"
      ]
     },
     "execution_count": 38,
     "metadata": {},
     "output_type": "execute_result"
    }
   ],
   "source": [
    "X.name = 'Sue'\n",
    "X.name"
   ]
  },
  {
   "cell_type": "code",
   "execution_count": 39,
   "id": "75c0ee2c",
   "metadata": {},
   "outputs": [
    {
     "ename": "TypeError",
     "evalue": "private attribute fetch: age",
     "output_type": "error",
     "traceback": [
      "\u001b[1;31m---------------------------------------------------------------------------\u001b[0m",
      "\u001b[1;31mTypeError\u001b[0m                                 Traceback (most recent call last)",
      "\u001b[1;32m~\\AppData\\Local\\Temp/ipykernel_29964/1316324446.py\u001b[0m in \u001b[0;36m<module>\u001b[1;34m\u001b[0m\n\u001b[1;32m----> 1\u001b[1;33m \u001b[0mX\u001b[0m\u001b[1;33m.\u001b[0m\u001b[0mage\u001b[0m\u001b[1;33m\u001b[0m\u001b[1;33m\u001b[0m\u001b[0m\n\u001b[0m",
      "\u001b[1;32mD:\\books\\python\\0. Learning Python\\code\\access2.py\u001b[0m in \u001b[0;36m__getattr__\u001b[1;34m(self, attr)\u001b[0m\n\u001b[0;32m     27\u001b[0m                 \u001b[0mtrace\u001b[0m\u001b[1;33m(\u001b[0m\u001b[1;34m'get:'\u001b[0m\u001b[1;33m,\u001b[0m \u001b[0mattr\u001b[0m\u001b[1;33m)\u001b[0m\u001b[1;33m\u001b[0m\u001b[1;33m\u001b[0m\u001b[0m\n\u001b[0;32m     28\u001b[0m                 \u001b[1;32mif\u001b[0m \u001b[0mfailIf\u001b[0m\u001b[1;33m(\u001b[0m\u001b[0mattr\u001b[0m\u001b[1;33m)\u001b[0m\u001b[1;33m:\u001b[0m\u001b[1;33m\u001b[0m\u001b[1;33m\u001b[0m\u001b[0m\n\u001b[1;32m---> 29\u001b[1;33m                     \u001b[1;32mraise\u001b[0m \u001b[0mTypeError\u001b[0m\u001b[1;33m(\u001b[0m\u001b[1;34m'private attribute fetch: '\u001b[0m \u001b[1;33m+\u001b[0m \u001b[0mattr\u001b[0m\u001b[1;33m)\u001b[0m\u001b[1;33m\u001b[0m\u001b[1;33m\u001b[0m\u001b[0m\n\u001b[0m\u001b[0;32m     30\u001b[0m                 \u001b[1;32melse\u001b[0m\u001b[1;33m:\u001b[0m\u001b[1;33m\u001b[0m\u001b[1;33m\u001b[0m\u001b[0m\n\u001b[0;32m     31\u001b[0m                     \u001b[1;32mreturn\u001b[0m \u001b[0mgetattr\u001b[0m\u001b[1;33m(\u001b[0m\u001b[0mself\u001b[0m\u001b[1;33m.\u001b[0m\u001b[0m__wrapped\u001b[0m\u001b[1;33m,\u001b[0m \u001b[0mattr\u001b[0m\u001b[1;33m)\u001b[0m\u001b[1;33m\u001b[0m\u001b[1;33m\u001b[0m\u001b[0m\n",
      "\u001b[1;31mTypeError\u001b[0m: private attribute fetch: age"
     ]
    }
   ],
   "source": [
    "X.age"
   ]
  },
  {
   "cell_type": "code",
   "execution_count": 40,
   "id": "a57fb511",
   "metadata": {},
   "outputs": [
    {
     "ename": "TypeError",
     "evalue": "private attribute change: age",
     "output_type": "error",
     "traceback": [
      "\u001b[1;31m---------------------------------------------------------------------------\u001b[0m",
      "\u001b[1;31mTypeError\u001b[0m                                 Traceback (most recent call last)",
      "\u001b[1;32m~\\AppData\\Local\\Temp/ipykernel_29964/793677575.py\u001b[0m in \u001b[0;36m<module>\u001b[1;34m\u001b[0m\n\u001b[1;32m----> 1\u001b[1;33m \u001b[0mX\u001b[0m\u001b[1;33m.\u001b[0m\u001b[0mage\u001b[0m \u001b[1;33m=\u001b[0m \u001b[1;34m'Tom'\u001b[0m\u001b[1;33m\u001b[0m\u001b[1;33m\u001b[0m\u001b[0m\n\u001b[0m",
      "\u001b[1;32mD:\\books\\python\\0. Learning Python\\code\\access2.py\u001b[0m in \u001b[0;36m__setattr__\u001b[1;34m(self, attr, value)\u001b[0m\n\u001b[0;32m     36\u001b[0m                     \u001b[0mself\u001b[0m\u001b[1;33m.\u001b[0m\u001b[0m__dict__\u001b[0m\u001b[1;33m[\u001b[0m\u001b[0mattr\u001b[0m\u001b[1;33m]\u001b[0m \u001b[1;33m=\u001b[0m \u001b[0mvalue\u001b[0m\u001b[1;33m\u001b[0m\u001b[1;33m\u001b[0m\u001b[0m\n\u001b[0;32m     37\u001b[0m                 \u001b[1;32melif\u001b[0m \u001b[0mfailIf\u001b[0m\u001b[1;33m(\u001b[0m\u001b[0mattr\u001b[0m\u001b[1;33m)\u001b[0m\u001b[1;33m:\u001b[0m\u001b[1;33m\u001b[0m\u001b[1;33m\u001b[0m\u001b[0m\n\u001b[1;32m---> 38\u001b[1;33m                     \u001b[1;32mraise\u001b[0m \u001b[0mTypeError\u001b[0m\u001b[1;33m(\u001b[0m\u001b[1;34m'private attribute change: '\u001b[0m \u001b[1;33m+\u001b[0m \u001b[0mattr\u001b[0m\u001b[1;33m)\u001b[0m\u001b[1;33m\u001b[0m\u001b[1;33m\u001b[0m\u001b[0m\n\u001b[0m\u001b[0;32m     39\u001b[0m                 \u001b[1;32melse\u001b[0m\u001b[1;33m:\u001b[0m\u001b[1;33m\u001b[0m\u001b[1;33m\u001b[0m\u001b[0m\n\u001b[0;32m     40\u001b[0m                     \u001b[0msetattr\u001b[0m\u001b[1;33m(\u001b[0m\u001b[0mself\u001b[0m\u001b[1;33m.\u001b[0m\u001b[0m__wrapped\u001b[0m\u001b[1;33m,\u001b[0m \u001b[0mattr\u001b[0m\u001b[1;33m,\u001b[0m \u001b[0mvalue\u001b[0m\u001b[1;33m)\u001b[0m\u001b[1;33m\u001b[0m\u001b[1;33m\u001b[0m\u001b[0m\n",
      "\u001b[1;31mTypeError\u001b[0m: private attribute change: age"
     ]
    }
   ],
   "source": [
    "X.age = 'Tom'"
   ]
  },
  {
   "cell_type": "markdown",
   "id": "76f85cee",
   "metadata": {},
   "source": [
    "### Example: Validating Function Arguments"
   ]
  },
  {
   "cell_type": "code",
   "execution_count": 44,
   "id": "f850567e",
   "metadata": {},
   "outputs": [
    {
     "name": "stdout",
     "output_type": "stream",
     "text": [
      "def rangetest(*argchecks):                  # Validate positional arg ranges\n",
      "    def onDecorator(func):\n",
      "        if not __debug__:                   # True if \"python -O main.py args...\"\n",
      "            return func                     # No-op: call original directly\n",
      "        else:                               # Else wrapper while debugging\n",
      "            def onCall(*args):\n",
      "                for (ix, low, high) in argchecks:\n",
      "                    if args[ix] < low or args[ix] > high:\n",
      "                        errmsg = 'Argument %s not in %s..%s' % (ix, low, high)\n",
      "                        raise TypeError(errmsg)\n",
      "                return func(*args)\n",
      "            return onCall\n",
      "    return onDecorator\n"
     ]
    }
   ],
   "source": [
    "!cat rangetest1.py"
   ]
  },
  {
   "cell_type": "code",
   "execution_count": 41,
   "id": "07d63c6a",
   "metadata": {},
   "outputs": [
    {
     "name": "stdout",
     "output_type": "stream",
     "text": [
      "# File rangetest1_test.py\n",
      "from __future__ import print_function # 2.X\n",
      "from rangetest1 import rangetest\n",
      "print(__debug__)                           # False if \"python -O main.py\"\n",
      "\n",
      "@rangetest((1, 0, 120))                    # persinfo = rangetest(...)(persinfo)\n",
      "def persinfo(name, age):                   # age must be in 0..120\n",
      "    print('%s is %s years old' % (name, age))\n",
      "\n",
      "@rangetest([0, 1, 12], [1, 1, 31], [2, 0, 2009])\n",
      "def birthday(M, D, Y):\n",
      "    print('birthday = {0}/{1}/{2}'.format(M, D, Y))\n",
      "\n",
      "class Person:\n",
      "    def __init__(self, name, job, pay):\n",
      "        self.job  = job\n",
      "        self.pay  = pay\n",
      "\n",
      "    @rangetest([1, 0.0, 1.0])              # giveRaise = rangetest(...)(giveRaise)\n",
      "    def giveRaise(self, percent):          # Arg 0 is the self instance here\n",
      "        self.pay = int(self.pay * (1 + percent))\n",
      "\n",
      "# Comment lines raise TypeError unless \"python -O\" used on shell command line\n",
      "\n",
      "persinfo('Bob Smith', 45)                  # Really runs onCall(...) with state\n",
      "#persinfo('Bob Smith', 200)                # Or person if -O cmd line argument\n",
      "\n",
      "birthday(5, 31, 1963)\n",
      "#birthday(5, 32, 1963)\n",
      "\n",
      "sue = Person('Sue Jones', 'dev', 100000)\n",
      "sue.giveRaise(.10)                         # Really runs onCall(self, .10)\n",
      "print(sue.pay)                             # Or giveRaise(self, .10) if -O\n",
      "#sue.giveRaise(1.10)\n",
      "#print(sue.pay)\n"
     ]
    }
   ],
   "source": [
    "!cat rangetest1_test.py"
   ]
  },
  {
   "cell_type": "code",
   "execution_count": 42,
   "id": "165a5e58",
   "metadata": {},
   "outputs": [
    {
     "name": "stdout",
     "output_type": "stream",
     "text": [
      "True\n",
      "Bob Smith is 45 years old\n",
      "birthday = 5/31/1963\n",
      "110000\n"
     ]
    }
   ],
   "source": [
    "!python rangetest1_test.py"
   ]
  },
  {
   "cell_type": "code",
   "execution_count": 45,
   "id": "a4ca0155",
   "metadata": {},
   "outputs": [
    {
     "name": "stdout",
     "output_type": "stream",
     "text": [
      "False\n",
      "Bob Smith is 45 years old\n",
      "birthday = 5/31/1963\n",
      "110000\n"
     ]
    }
   ],
   "source": [
    "!python -O rangetest1_test.py"
   ]
  },
  {
   "cell_type": "code",
   "execution_count": 46,
   "id": "08cfcf08",
   "metadata": {},
   "outputs": [
    {
     "name": "stdout",
     "output_type": "stream",
     "text": [
      "\"\"\"\n",
      "File rangetest_test.py (3.X + 2.X)\n",
      "Comment lines raise TypeError unless \"python -O\" used on shell command line\n",
      "\"\"\"\n",
      "from __future__ import print_function # 2.X\n",
      "from rangetest import rangetest\n",
      "\n",
      "# Test functions, positional and keyword\n",
      "\n",
      "@rangetest(age=(0, 120))                  # persinfo = rangetest(...)(persinfo)\n",
      "def persinfo(name, age):\n",
      "    print('%s is %s years old' % (name, age))\n",
      "\n",
      "@rangetest(M=(1, 12), D=(1, 31), Y=(0, 2013))\n",
      "def birthday(M, D, Y):\n",
      "    print('birthday = {0}/{1}/{2}'.format(M, D, Y))\n",
      "\n",
      "persinfo('Bob', 40)\n",
      "persinfo(age=40, name='Bob')\n",
      "birthday(5, D=1, Y=1963)\n",
      "#persinfo('Bob', 150)\n",
      "#persinfo(age=150, name='Bob')\n",
      "#birthday(5, D=40, Y=1963)\n",
      "\n",
      "# Test methods, positional and keyword\n",
      "\n",
      "class Person:\n",
      "    def __init__(self, name, job, pay):\n",
      "        self.job  = job\n",
      "        self.pay  = pay\n",
      "                                          # giveRaise = rangetest(...)(giveRaise)\n",
      "    @rangetest(percent=(0.0, 1.0))        # percent passed by name or position\n",
      "    def giveRaise(self, percent):\n",
      "        self.pay = int(self.pay * (1 + percent))\n",
      "\n",
      "bob = Person('Bob Smith', 'dev', 100000)\n",
      "sue = Person('Sue Jones', 'dev', 100000)\n",
      "bob.giveRaise(.10)\n",
      "sue.giveRaise(percent=.20)\n",
      "print(bob.pay, sue.pay)\n",
      "#bob.giveRaise(1.10)\n",
      "#bob.giveRaise(percent=1.20)\n",
      "\n",
      "# Test omitted defaults: skipped\n",
      "\n",
      "@rangetest(a=(1, 10), b=(1, 10), c=(1, 10), d=(1, 10))\n",
      "def omitargs(a, b=7, c=8, d=9):\n",
      "    print(a, b, c, d)\n",
      "\n",
      "omitargs(1, 2, 3, 4)\n",
      "omitargs(1, 2, 3)\n",
      "omitargs(1, 2, 3, d=4)\n",
      "omitargs(1, d=4)\n",
      "omitargs(d=4, a=1)\n",
      "omitargs(1, b=2, d=4)\n",
      "omitargs(d=8, c=7, a=1)\n",
      "\n",
      "#omitargs(1, 2, 3, 11)         # Bad d\n",
      "#omitargs(1, 2, 11)            # Bad c\n",
      "#omitargs(1, 2, 3, d=11)       # Bad d\n",
      "#omitargs(11, d=4)             # Bad a\n",
      "#omitargs(d=4, a=11)           # Bad a\n",
      "#omitargs(1, b=11, d=4)        # Bad b\n",
      "#omitargs(d=8, c=7, a=11)      # Bad a\n"
     ]
    }
   ],
   "source": [
    "!cat rangetest_test.py"
   ]
  },
  {
   "cell_type": "code",
   "execution_count": 47,
   "id": "045b16ae",
   "metadata": {},
   "outputs": [
    {
     "name": "stdout",
     "output_type": "stream",
     "text": [
      "Bob is 40 years old\n",
      "Bob is 40 years old\n",
      "birthday = 5/1/1963\n",
      "110000 120000\n",
      "1 2 3 4\n",
      "Argument \"d\" defaulted\n",
      "1 2 3 9\n",
      "1 2 3 4\n",
      "Argument \"b\" defaulted\n",
      "Argument \"c\" defaulted\n",
      "1 7 8 4\n",
      "Argument \"b\" defaulted\n",
      "Argument \"c\" defaulted\n",
      "1 7 8 4\n",
      "Argument \"c\" defaulted\n",
      "1 2 8 4\n",
      "Argument \"b\" defaulted\n",
      "1 7 7 8\n"
     ]
    }
   ],
   "source": [
    "!python rangetest_test.py"
   ]
  },
  {
   "cell_type": "markdown",
   "id": "55c1dc1d",
   "metadata": {},
   "source": [
    "#### FUNCTION INTROSPECTION"
   ]
  },
  {
   "cell_type": "code",
   "execution_count": 6,
   "id": "c7c0e117",
   "metadata": {},
   "outputs": [
    {
     "data": {
      "text/plain": [
       "<code object func at 0x00000201DF90FEA0, file \"C:\\Users\\lidan\\AppData\\Local\\Temp/ipykernel_24568/2974020705.py\", line 1>"
      ]
     },
     "execution_count": 6,
     "metadata": {},
     "output_type": "execute_result"
    }
   ],
   "source": [
    "def func(a, b, c, e=True, f=None):       # Args: three required, two defaults\n",
    "        x = 1                                # Plus two more local variables\n",
    "        y = 2\n",
    "\n",
    "code = func.__code__                     # Code object of function object\n",
    "code"
   ]
  },
  {
   "cell_type": "code",
   "execution_count": 8,
   "id": "45f01615",
   "metadata": {},
   "outputs": [
    {
     "data": {
      "text/plain": [
       "('a', 'b', 'c', 'e', 'f', 'x', 'y')"
      ]
     },
     "execution_count": 8,
     "metadata": {},
     "output_type": "execute_result"
    }
   ],
   "source": [
    "code.co_varnames                         # All local variable names"
   ]
  },
  {
   "cell_type": "code",
   "execution_count": 10,
   "id": "d6ad4d71",
   "metadata": {},
   "outputs": [
    {
     "data": {
      "text/plain": [
       "5"
      ]
     },
     "execution_count": 10,
     "metadata": {},
     "output_type": "execute_result"
    }
   ],
   "source": [
    "code.co_argcount"
   ]
  },
  {
   "cell_type": "code",
   "execution_count": 11,
   "id": "6416a630",
   "metadata": {},
   "outputs": [
    {
     "name": "stdout",
     "output_type": "stream",
     "text": [
      "Help on code object:\n",
      "\n",
      "class code(object)\n",
      " |  code(argcount, posonlyargcount, kwonlyargcount, nlocals, stacksize,\n",
      " |        flags, codestring, constants, names, varnames, filename, name,\n",
      " |        firstlineno, lnotab[, freevars[, cellvars]])\n",
      " |  \n",
      " |  Create a code object.  Not for the faint of heart.\n",
      " |  \n",
      " |  Methods defined here:\n",
      " |  \n",
      " |  __eq__(self, value, /)\n",
      " |      Return self==value.\n",
      " |  \n",
      " |  __ge__(self, value, /)\n",
      " |      Return self>=value.\n",
      " |  \n",
      " |  __getattribute__(self, name, /)\n",
      " |      Return getattr(self, name).\n",
      " |  \n",
      " |  __gt__(self, value, /)\n",
      " |      Return self>value.\n",
      " |  \n",
      " |  __hash__(self, /)\n",
      " |      Return hash(self).\n",
      " |  \n",
      " |  __le__(self, value, /)\n",
      " |      Return self<=value.\n",
      " |  \n",
      " |  __lt__(self, value, /)\n",
      " |      Return self<value.\n",
      " |  \n",
      " |  __ne__(self, value, /)\n",
      " |      Return self!=value.\n",
      " |  \n",
      " |  __repr__(self, /)\n",
      " |      Return repr(self).\n",
      " |  \n",
      " |  __sizeof__(...)\n",
      " |      Size of object in memory, in bytes.\n",
      " |  \n",
      " |  replace(self, /, *, co_argcount=-1, co_posonlyargcount=-1, co_kwonlyargcount=-1, co_nlocals=-1, co_stacksize=-1, co_flags=-1, co_firstlineno=-1, co_code=None, co_consts=None, co_names=None, co_varnames=None, co_freevars=None, co_cellvars=None, co_filename=None, co_name=None, co_lnotab=None)\n",
      " |      Return a copy of the code object with new values for the specified fields.\n",
      " |  \n",
      " |  ----------------------------------------------------------------------\n",
      " |  Static methods defined here:\n",
      " |  \n",
      " |  __new__(*args, **kwargs) from builtins.type\n",
      " |      Create and return a new object.  See help(type) for accurate signature.\n",
      " |  \n",
      " |  ----------------------------------------------------------------------\n",
      " |  Data descriptors defined here:\n",
      " |  \n",
      " |  co_argcount\n",
      " |  \n",
      " |  co_cellvars\n",
      " |  \n",
      " |  co_code\n",
      " |  \n",
      " |  co_consts\n",
      " |  \n",
      " |  co_filename\n",
      " |  \n",
      " |  co_firstlineno\n",
      " |  \n",
      " |  co_flags\n",
      " |  \n",
      " |  co_freevars\n",
      " |  \n",
      " |  co_kwonlyargcount\n",
      " |  \n",
      " |  co_lnotab\n",
      " |  \n",
      " |  co_name\n",
      " |  \n",
      " |  co_names\n",
      " |  \n",
      " |  co_nlocals\n",
      " |  \n",
      " |  co_posonlyargcount\n",
      " |  \n",
      " |  co_stacksize\n",
      " |  \n",
      " |  co_varnames\n",
      "\n"
     ]
    }
   ],
   "source": [
    "help(func.__code__)"
   ]
  },
  {
   "cell_type": "code",
   "execution_count": 12,
   "id": "fd537d97",
   "metadata": {},
   "outputs": [
    {
     "data": {
      "text/plain": [
       "('a', 'b', 'c', 'e', 'f', 'x', 'y')"
      ]
     },
     "execution_count": 12,
     "metadata": {},
     "output_type": "execute_result"
    }
   ],
   "source": [
    "code.co_varnames"
   ]
  },
  {
   "cell_type": "code",
   "execution_count": 13,
   "id": "03ccbce4",
   "metadata": {},
   "outputs": [
    {
     "data": {
      "text/plain": [
       "1"
      ]
     },
     "execution_count": 13,
     "metadata": {},
     "output_type": "execute_result"
    }
   ],
   "source": [
    "code.co_stacksize"
   ]
  },
  {
   "cell_type": "code",
   "execution_count": 14,
   "id": "de46a0aa",
   "metadata": {},
   "outputs": [
    {
     "data": {
      "text/plain": [
       "()"
      ]
     },
     "execution_count": 14,
     "metadata": {},
     "output_type": "execute_result"
    }
   ],
   "source": [
    "code.co_names"
   ]
  },
  {
   "cell_type": "code",
   "execution_count": 15,
   "id": "4a002932",
   "metadata": {},
   "outputs": [
    {
     "data": {
      "text/plain": [
       "'func'"
      ]
     },
     "execution_count": 15,
     "metadata": {},
     "output_type": "execute_result"
    }
   ],
   "source": [
    "code.co_name"
   ]
  },
  {
   "cell_type": "code",
   "execution_count": 16,
   "id": "d1554df3",
   "metadata": {},
   "outputs": [
    {
     "data": {
      "text/plain": [
       "b'd\\x01}\\x05d\\x02}\\x06d\\x00S\\x00'"
      ]
     },
     "execution_count": 16,
     "metadata": {},
     "output_type": "execute_result"
    }
   ],
   "source": [
    "code.co_code"
   ]
  },
  {
   "cell_type": "code",
   "execution_count": 9,
   "id": "5eb29a1d",
   "metadata": {},
   "outputs": [
    {
     "data": {
      "text/plain": [
       "('a', 'b', 'c', 'e', 'f')"
      ]
     },
     "execution_count": 9,
     "metadata": {},
     "output_type": "execute_result"
    }
   ],
   "source": [
    "code.co_varnames[:code.co_argcount]      # <== First N locals are expected args"
   ]
  },
  {
   "cell_type": "code",
   "execution_count": 17,
   "id": "f579bea3",
   "metadata": {},
   "outputs": [
    {
     "name": "stdout",
     "output_type": "stream",
     "text": [
      "(1, 2, 3, 4, 5), {}\n"
     ]
    }
   ],
   "source": [
    "def catcher(*pargs, **kargs): print('%s, %s' % (pargs, kargs))\n",
    "\n",
    "catcher(1, 2, 3, 4, 5)"
   ]
  },
  {
   "cell_type": "code",
   "execution_count": 18,
   "id": "e7f72c09",
   "metadata": {},
   "outputs": [
    {
     "name": "stdout",
     "output_type": "stream",
     "text": [
      "(1, 2), {'c': 3, 'd': 4, 'e': 5}\n"
     ]
    }
   ],
   "source": [
    "catcher(1, 2, c=3, d=4, e=5)             # Arguments at calls"
   ]
  },
  {
   "cell_type": "code",
   "execution_count": 19,
   "id": "d5bb6a7f",
   "metadata": {},
   "outputs": [
    {
     "data": {
      "text/plain": [
       "(3, 8, 5, 'final', 0)"
      ]
     },
     "execution_count": 19,
     "metadata": {},
     "output_type": "execute_result"
    }
   ],
   "source": [
    "import sys                               # For backward compatibility\n",
    "tuple(sys.version_info)                  # [0] is major release number"
   ]
  },
  {
   "cell_type": "code",
   "execution_count": 20,
   "id": "ea395558",
   "metadata": {},
   "outputs": [
    {
     "data": {
      "text/plain": [
       "sys.version_info(major=3, minor=8, micro=5, releaselevel='final', serial=0)"
      ]
     },
     "execution_count": 20,
     "metadata": {},
     "output_type": "execute_result"
    }
   ],
   "source": [
    "sys.version_info"
   ]
  },
  {
   "cell_type": "code",
   "execution_count": 21,
   "id": "87dff04c",
   "metadata": {},
   "outputs": [],
   "source": [
    "code = func.__code__ if sys.version_info[0] == 3 else func.func_code"
   ]
  },
  {
   "cell_type": "code",
   "execution_count": 22,
   "id": "ebfa4840",
   "metadata": {},
   "outputs": [
    {
     "data": {
      "text/plain": [
       "('a', 'b', 'c', 'e', 'f', 'x', 'y')"
      ]
     },
     "execution_count": 22,
     "metadata": {},
     "output_type": "execute_result"
    }
   ],
   "source": [
    "code.co_varnames"
   ]
  },
  {
   "cell_type": "code",
   "execution_count": 49,
   "id": "1e442129",
   "metadata": {},
   "outputs": [
    {
     "name": "stdout",
     "output_type": "stream",
     "text": [
      "# Using decorator arguments (3.X + 2.X)\n",
      "\n",
      "def rangetest(**argchecks):\n",
      "    def onDecorator(func):\n",
      "        def onCall(*pargs, **kargs):\n",
      "            print(argchecks)\n",
      "            for check in argchecks: \n",
      "                pass                         # Add validation code here\n",
      "            return func(*pargs, **kargs)\n",
      "        return onCall\n",
      "    return onDecorator\n",
      "\n",
      "@rangetest(a=(1, 5), c=(0.0, 1.0))\n",
      "def func(a, b, c):                           # func = rangetest(...)(func)\n",
      "    print(a + b + c)\n",
      "\n",
      "func(1, 2, c=3)                              # Runs onCall, argchecks in scope\n",
      "\n",
      "# Using function annotations (3.X only)\n",
      "\n",
      "def rangetest(func):\n",
      "    def onCall(*pargs, **kargs):\n",
      "        argchecks = func.__annotations__\n",
      "        print(argchecks)\n",
      "        for check in argchecks: \n",
      "            pass                             # Add validation code here\n",
      "        return func(*pargs, **kargs)\n",
      "    return onCall\n",
      "\n",
      "@rangetest\n",
      "def func(a:(1, 5), b, c:(0.0, 1.0)):         # func = rangetest(func)\n",
      "    print(a + b + c)\n",
      "\n",
      "func(1, 2, c=3)                              # Runs onCall, annotations on func\n"
     ]
    }
   ],
   "source": [
    "!cat decoargs-vs-annotations.py"
   ]
  },
  {
   "cell_type": "code",
   "execution_count": 50,
   "id": "24088be3",
   "metadata": {},
   "outputs": [
    {
     "name": "stdout",
     "output_type": "stream",
     "text": [
      "{'a': (1, 5), 'c': (0.0, 1.0)}\n",
      "6\n",
      "{'a': (1, 5), 'c': (0.0, 1.0)}\n",
      "6\n"
     ]
    }
   ],
   "source": [
    "!python decoargs-vs-annotations.py"
   ]
  },
  {
   "cell_type": "code",
   "execution_count": 23,
   "id": "0ff810c5",
   "metadata": {},
   "outputs": [
    {
     "data": {
      "text/plain": [
       "{'a': (1, 5), 'c': (0.0, 1.0)}"
      ]
     },
     "execution_count": 23,
     "metadata": {},
     "output_type": "execute_result"
    }
   ],
   "source": [
    "def func(a:(1, 5), b, c:(0.0, 1.0)):         # func = rangetest(func)\n",
    "    print(a + b + c)\n",
    "    \n",
    "func.__annotations__"
   ]
  },
  {
   "cell_type": "markdown",
   "id": "8e2b30e0",
   "metadata": {},
   "source": [
    "  1. Method decorators: As mentioned in one of this chapter’s notes, the timerdeco2.py module’s timer function decorator with decorator arguments that we wrote in the section “Adding Decorator Arguments” can be applied only to simple functions, because it uses a nested class with a `__call__` operator overloading method to catch calls. This structure does not work for a class’s methods because the decorator instance is passed to `self`, not the subject class instance.\n",
    "\n",
    "    Rewrite this decorator so that it can be applied to both simple functions and methods in classes, and test it on both functions and methods. (Hint: see the section “Class Blunders I: Decorating Methods” for pointers.) Note that you will probably need to use function object attributes to keep track of total time, since you won’t have a nested class for state retention and can’t access nonlocals from outside the decorator code. As an added bonus, this makes your decorator usable on both Python 3.X and 2.X."
   ]
  },
  {
   "cell_type": "code",
   "execution_count": 30,
   "id": "340640d3",
   "metadata": {},
   "outputs": [
    {
     "name": "stdout",
     "output_type": "stream",
     "text": [
      "import time\n",
      "\n",
      "def timer(label='', trace=True):                  # On decorator args: retain args\n",
      "    class Timer:\n",
      "        def __init__(self, func):                 # On @: retain decorated func\n",
      "            self.func    = func\n",
      "            self.alltime = 0\n",
      "        def __call__(self, *args, **kargs):       # On calls: call original\n",
      "            start   = time.process_time()\n",
      "            result  = self.func(*args, **kargs)\n",
      "            elapsed = time.process_time() - start\n",
      "            self.alltime += elapsed\n",
      "            if trace:\n",
      "                format = '%s %s: %.5f, %.5f'\n",
      "                values = (label, self.func.__name__, elapsed, self.alltime)\n",
      "                print(format % values)\n",
      "            return result\n",
      "    return Timer\n"
     ]
    }
   ],
   "source": [
    "!cat timerdeco2.py"
   ]
  },
  {
   "cell_type": "code",
   "execution_count": 31,
   "id": "ca106e99",
   "metadata": {},
   "outputs": [
    {
     "name": "stdout",
     "output_type": "stream",
     "text": [
      "\"\"\"\n",
      "File timerdeco.py (3.X + 2.X)\n",
      "Call timer decorator for both functions and methods.\n",
      "\"\"\"\n",
      "import time\n",
      "\n",
      "def timer(label='', trace=True):             # On decorator args: retain args\n",
      "    def onDecorator(func):                   # On @: retain decorated func\n",
      "        def onCall(*args, **kargs):          # On calls: call original\n",
      "            start   = time.process_time()           # State is scopes + func attr\n",
      "            result  = func(*args, **kargs)\n",
      "            elapsed = time.process_time() - start\n",
      "            onCall.alltime += elapsed\n",
      "            if trace:\n",
      "                format = '%s%s: %.5f, %.5f'\n",
      "                values = (label, func.__name__, elapsed, onCall.alltime)\n",
      "                print(format % values)\n",
      "            return result\n",
      "        onCall.alltime = 0\n",
      "        return onCall\n",
      "    return onDecorator\n"
     ]
    }
   ],
   "source": [
    "!cat timerdeco.py"
   ]
  },
  {
   "cell_type": "code",
   "execution_count": 32,
   "id": "1ca377ba",
   "metadata": {},
   "outputs": [
    {
     "name": "stdout",
     "output_type": "stream",
     "text": [
      "\"\"\"\n",
      "File timerdeco-test.py\n",
      "\"\"\"\n",
      "from __future__ import print_function # 2.X\n",
      "from timerdeco import timer\n",
      "import sys\n",
      "force = list if sys.version_info[0] == 3 else (lambda X: X)\n",
      "\n",
      "print('---------------------------------------------------')\n",
      "# Test on functions\n",
      "\n",
      "@timer(trace=True, label='[CCC]==>')\n",
      "def listcomp(N):                             # Like listcomp = timer(...)(listcomp)\n",
      "    return [x * 2 for x in range(N)]         # listcomp(...) triggers onCall\n",
      "\n",
      "@timer('[MMM]==>')\n",
      "def mapcall(N):\n",
      "    return force(map((lambda x: x * 2), range(N)))   # list() for 3.X views\n",
      "\n",
      "for func in (listcomp, mapcall):\n",
      "    result = func(5)                  # Time for this call, all calls, return value\n",
      "    func(5000000)\n",
      "    print(result)\n",
      "    print('allTime = %s\\n' % func.alltime)   # Total time for all calls\n",
      "\n",
      "print('---------------------------------------------------')\n",
      "# Test on methods\n",
      "\n",
      "class Person:\n",
      "    def __init__(self, name, pay):\n",
      "        self.name = name\n",
      "        self.pay  = pay\n",
      "\n",
      "    @timer()\n",
      "    def giveRaise(self, percent):            # giveRaise = timer()(giveRaise)\n",
      "        self.pay *= (1.0 + percent)          # tracer remembers giveRaise\n",
      "\n",
      "    @timer(label='**')\n",
      "    def lastName(self):                      # lastName = timer(...)(lastName)\n",
      "        return self.name.split()[-1]         # alltime per class, not instance\n",
      "\n",
      "bob = Person('Bob Smith', 50000)\n",
      "sue = Person('Sue Jones', 100000)\n",
      "bob.giveRaise(.10)\n",
      "sue.giveRaise(.20)                           # runs onCall(sue, .10)\n",
      "print(int(bob.pay), int(sue.pay))\n",
      "print(bob.lastName(), sue.lastName())        # runs onCall(bob), remembers lastName\n",
      "print('%.5f %.5f' % (Person.giveRaise.alltime, Person.lastName.alltime))\n",
      "\n"
     ]
    }
   ],
   "source": [
    "!cat timerdeco-test.py"
   ]
  },
  {
   "cell_type": "code",
   "execution_count": 33,
   "id": "95a89051",
   "metadata": {},
   "outputs": [
    {
     "name": "stdout",
     "output_type": "stream",
     "text": [
      "---------------------------------------------------\n",
      "[CCC]==>listcomp: 0.00000, 0.00000\n",
      "[CCC]==>listcomp: 0.37500, 0.37500\n",
      "[0, 2, 4, 6, 8]\n",
      "allTime = 0.375\n",
      "\n",
      "[MMM]==>mapcall: 0.00000, 0.00000\n",
      "[MMM]==>mapcall: 0.67188, 0.67188\n",
      "[0, 2, 4, 6, 8]\n",
      "allTime = 0.671875\n",
      "\n",
      "---------------------------------------------------\n",
      "giveRaise: 0.00000, 0.00000\n",
      "giveRaise: 0.00000, 0.00000\n",
      "55000 120000\n",
      "**lastName: 0.00000, 0.00000\n",
      "**lastName: 0.00000, 0.00000\n",
      "Smith Jones\n",
      "0.00000 0.00000\n"
     ]
    }
   ],
   "source": [
    "!python timerdeco-test.py"
   ]
  },
  {
   "cell_type": "markdown",
   "id": "12690711",
   "metadata": {},
   "source": [
    "  2. Class decorators: The Public/Private class decorators we wrote in module access2.py in this chapter’s first case study example will add performance costs to every attribute fetch in a decorated class. Although we could simply delete the `@` decoration line to gain speed, we could also augment the decorator itself to check the `__debug__` switch and perform no wrapping at all when the `–O` Python flag is passed on the command line—just as we did for the argument range-test decorators. That way, we can speed our program without changing its source, via command-line arguments (python `–O` main.py...). While we’re at it, we could also use one of the mix-in superclass techniques we studied to catch a few built-in operations in Python 3.X too. Code and test these two extensions.\n",
    "\n"
   ]
  },
  {
   "cell_type": "code",
   "execution_count": 34,
   "id": "92810859",
   "metadata": {},
   "outputs": [
    {
     "name": "stdout",
     "output_type": "stream",
     "text": [
      "\"\"\"\n",
      "File access2.py (3.X + 2.X)\n",
      "Class decorator with Private and Public attribute declarations.\n",
      "\n",
      "Controls external access to attributes stored on an instance, or \n",
      "Inherited by it from its classes. Private declares attribute names\n",
      "that cannot be fetched or assigned outside the decorated class, \n",
      "and Public declares all the names that can. \n",
      "\n",
      "Caveat: this works in 3.X for explicitly named attributes only: __X__\n",
      "operator overloading methods implicitly run for built-in operations\n",
      "do not trigger either __getattr__ or __getattribute__ in new-style \n",
      "classes.  Add __X__ methods here to intercept and delegate built-ins.\n",
      "\"\"\"\n",
      "\n",
      "traceMe = False\n",
      "def trace(*args):\n",
      "    if traceMe: print('[' + ' '.join(map(str, args)) + ']')\n",
      "\n",
      "def accessControl(failIf):\n",
      "    def onDecorator(aClass):\n",
      "        class onInstance:\n",
      "            def __init__(self, *args, **kargs):\n",
      "                self.__wrapped = aClass(*args, **kargs)\n",
      "\n",
      "            def __getattr__(self, attr):\n",
      "                trace('get:', attr)\n",
      "                if failIf(attr):\n",
      "                    raise TypeError('private attribute fetch: ' + attr)\n",
      "                else:\n",
      "                    return getattr(self.__wrapped, attr)\n",
      "\n",
      "            def __setattr__(self, attr, value):\n",
      "                trace('set:', attr, value)\n",
      "                if attr == '_onInstance__wrapped':\n",
      "                    self.__dict__[attr] = value\n",
      "                elif failIf(attr):\n",
      "                    raise TypeError('private attribute change: ' + attr)\n",
      "                else:\n",
      "                    setattr(self.__wrapped, attr, value)\n",
      "        return onInstance\n",
      "    return onDecorator\n",
      "\n",
      "def Private(*attributes):\n",
      "    return accessControl(failIf=(lambda attr: attr in attributes))\n",
      "\n",
      "def Public(*attributes):\n",
      "    return accessControl(failIf=(lambda attr: attr not in attributes))\n"
     ]
    }
   ],
   "source": [
    "!cat access2.py"
   ]
  },
  {
   "cell_type": "code",
   "execution_count": 36,
   "id": "ffaefad0",
   "metadata": {},
   "outputs": [
    {
     "name": "stdout",
     "output_type": "stream",
     "text": [
      "\"\"\"\n",
      "File access.py (3.X + 2.X)\n",
      "Class decorator with Private and Public attribute declarations.\n",
      "Controls external access to attributes stored on an instance, or \n",
      "inherited by it from its classes in any fashion.\n",
      "\n",
      "Private declares attribute names that cannot be fetched or assigned \n",
      "outside the decorated class, and Public declares all the names that can.\n",
      "\n",
      "Caveats: in 3.X catches built-ins coded in BuiltinMixins only (expand me);\n",
      "as coded, Public may be less useful than Private for operator overloading.\n",
      "\"\"\"\n",
      "from access_builtins import BuiltinsMixin    # A partial set!\n",
      "\n",
      "traceMe = False\n",
      "def trace(*args):\n",
      "    if traceMe: print('[' + ' '.join(map(str, args)) + ']')\n",
      "\n",
      "def accessControl(failIf):\n",
      "    def onDecorator(aClass):\n",
      "        if not __debug__:\n",
      "            return aClass\n",
      "        else:\n",
      "            class onInstance(BuiltinsMixin):\n",
      "                def __init__(self, *args, **kargs):\n",
      "                    self.__wrapped = aClass(*args, **kargs)\n",
      "\n",
      "                def __getattr__(self, attr):\n",
      "                    trace('get:', attr)\n",
      "                    if failIf(attr):\n",
      "                        raise TypeError('private attribute fetch: ' + attr)\n",
      "                    else:\n",
      "                        return getattr(self.__wrapped, attr)\n",
      "\n",
      "                def __setattr__(self, attr, value):\n",
      "                    trace('set:', attr, value)\n",
      "                    if attr == '_onInstance__wrapped':\n",
      "                        self.__dict__[attr] = value\n",
      "                    elif failIf(attr):\n",
      "                        raise TypeError('private attribute change: ' + attr)\n",
      "                    else:\n",
      "                        setattr(self.__wrapped, attr, value)\n",
      "            return onInstance\n",
      "    return onDecorator\n",
      "\n",
      "def Private(*attributes):\n",
      "    return accessControl(failIf=(lambda attr: attr in attributes))\n",
      "\n",
      "def Public(*attributes):\n",
      "    return accessControl(failIf=(lambda attr: attr not in attributes))\n"
     ]
    }
   ],
   "source": [
    "!cat access.py"
   ]
  },
  {
   "cell_type": "code",
   "execution_count": 37,
   "id": "be718b58",
   "metadata": {},
   "outputs": [
    {
     "name": "stdout",
     "output_type": "stream",
     "text": [
      "\"\"\"\n",
      "File access_builtins.py (from access2_builtins2b.py)\n",
      "Route some built-in operations back to proxy class __getattr__, so they\n",
      "work same in 3.X as direct by-name calls and 2.X's default classic classes.\n",
      "Expand me as needed to include other __X__ names used by proxied objects.\n",
      "\"\"\"\n",
      "\n",
      "class BuiltinsMixin:\n",
      "    def reroute(self, attr, *args, **kargs):\n",
      "        return self.__class__.__getattr__(self, attr)(*args, **kargs)\n",
      "\n",
      "    def __add__(self, other):                                             \n",
      "        return self.reroute('__add__', other)         \n",
      "    def __str__(self):\n",
      "        return self.reroute('__str__')        \n",
      "    def __getitem__(self, index):\n",
      "        return self.reroute('__getitem__', index)\n",
      "    def __call__(self, *args, **kargs):\n",
      "        return self.reroute('__call__', *args, **kargs)\n",
      "\n",
      "    # Plus any others used by wrapped objects in 3.X only\n"
     ]
    }
   ],
   "source": [
    "!cat access_builtins.py"
   ]
  },
  {
   "cell_type": "code",
   "execution_count": 38,
   "id": "f8e8bff8",
   "metadata": {},
   "outputs": [
    {
     "name": "stdout",
     "output_type": "stream",
     "text": [
      "\"\"\"\n",
      "File: access-test.py\n",
      "Test code: separate file to allow decorator reuse.\n",
      "\"\"\"\n",
      "import sys\n",
      "from access import Private, Public\n",
      "\n",
      "print('---------------------------------------------------------')\n",
      "# Test 1: names are public if not pivate\n",
      "\n",
      "@Private('age')                             # Person = Private('age')(Person)\n",
      "class Person:                               # Person = onInstance with state\n",
      "    def __init__(self, name, age):\n",
      "        self.name = name\n",
      "        self.age  = age                     # Inside accesses run normally\n",
      "    def __add__(self, N):\n",
      "        self.age += N                       # Bultins caught by mix-in in 3.X\n",
      "    def __str__(self):\n",
      "        return '%s: %s' % (self.name, self.age)\n",
      "\n",
      "X = Person('Bob', 40)\n",
      "print(X.name)                               # Outside accesses validated\n",
      "X.name = 'Sue'\n",
      "print(X.name)\n",
      "X + 10\n",
      "print(X)\n",
      "\n",
      "try:    t = X.age                           # FAILS unless \"python -O\"\n",
      "except: print(sys.exc_info()[1])\n",
      "try:    X.age = 999                         # ditto\n",
      "except: print(sys.exc_info()[1])\n",
      "\n",
      "print('---------------------------------------------------------')\n",
      "# Test 2: names are private if not public\n",
      "# Operators must be non-Private or Public in BuiltinMixin used\n",
      "\n",
      "@Public('name', '__add__', '__str__', '__coerce__')  \n",
      "class Person:\n",
      "    def __init__(self, name, age):\n",
      "        self.name = name\n",
      "        self.age  = age\n",
      "    def __add__(self, N):\n",
      "        self.age += N                       # Bultins caught by mix-in in 3.X\n",
      "    def __str__(self):\n",
      "        return '%s: %s' % (self.name, self.age)\n",
      "\n",
      "X = Person('bob', 40)                       # X is an onInstance\n",
      "print(X.name)                               # onInstance embeds Person\n",
      "X.name = 'sue'\n",
      "print(X.name)\n",
      "X + 10\n",
      "print(X)\n",
      "\n",
      "try:    t = X.age                           # FAILS unless \"python -O\"\n",
      "except: print(sys.exc_info()[1])\n",
      "try:    X.age = 999                         # ditto\n",
      "except: print(sys.exc_info()[1])\n"
     ]
    }
   ],
   "source": [
    "!cat access-test.py"
   ]
  },
  {
   "cell_type": "code",
   "execution_count": 39,
   "id": "bf7ea406",
   "metadata": {},
   "outputs": [
    {
     "name": "stdout",
     "output_type": "stream",
     "text": [
      "---------------------------------------------------------\n",
      "Bob\n",
      "Sue\n",
      "Sue: 50\n",
      "private attribute fetch: age\n",
      "private attribute change: age\n",
      "---------------------------------------------------------\n",
      "bob\n",
      "sue\n",
      "sue: 50\n",
      "private attribute fetch: age\n",
      "private attribute change: age\n"
     ]
    }
   ],
   "source": [
    "!python access-test.py"
   ]
  },
  {
   "cell_type": "markdown",
   "id": "446730d2",
   "metadata": {},
   "source": [
    "  3. Generalized argument validations: The function and method decorator we wrote in rangetest.py checks that passed arguments are in a valid range, but we also saw that the same pattern could apply to similar goals such as argument type testing, and possibly more. Generalize the range tester so that its single code base can be used for multiple argument validations. Passed-in functions may be the simplest solution given the coding structure here, though in more OOP-based contexts, subclasses that provide expected methods can often provide similar generalization routes as well."
   ]
  },
  {
   "cell_type": "code",
   "execution_count": 35,
   "id": "9593e111",
   "metadata": {},
   "outputs": [
    {
     "name": "stdout",
     "output_type": "stream",
     "text": [
      "\"\"\"\n",
      "File rangetest.py: function decorator that performs range-test\n",
      "validation for arguments passed to any function or method.\n",
      "\n",
      "Arguments are specified by keyword to the decorator. In the actual \n",
      "call, arguments may be passed by position or keyword, and defaults\n",
      "may be omitted.  See rangetest_test.py for example use cases.\n",
      "\"\"\"\n",
      "trace = True\n",
      "\n",
      "def rangetest(**argchecks):                 # Validate ranges for both+defaults\n",
      "    def onDecorator(func):                  # onCall remembers func and argchecks\n",
      "        if not __debug__:                   # True if \"python -O main.py args...\"\n",
      "            return func                     # Wrap if debugging; else use original\n",
      "        else:\n",
      "            code     = func.__code__\n",
      "            allargs  = code.co_varnames[:code.co_argcount]\n",
      "            funcname = func.__name__\n",
      "\n",
      "            def onCall(*pargs, **kargs):\n",
      "                # All pargs match first N expected args by position\n",
      "                # The rest must be in kargs or be omitted defaults\n",
      "                expected    = list(allargs)\n",
      "                positionals = expected[:len(pargs)]\n",
      "\n",
      "                for (argname, (low, high)) in argchecks.items():\n",
      "                    # For all args to be checked\n",
      "                    if argname in kargs:\n",
      "                        # Was passed by name\n",
      "                        if kargs[argname] < low or kargs[argname] > high:\n",
      "                            errmsg = '{0} argument \"{1}\" not in {2}..{3}'\n",
      "                            errmsg = errmsg.format(funcname, argname, low, high)\n",
      "                            raise TypeError(errmsg)\n",
      "\n",
      "                    elif argname in positionals:\n",
      "                        # Was passed by position\n",
      "                        position = positionals.index(argname)\n",
      "                        if pargs[position] < low or pargs[position] > high:\n",
      "                            errmsg = '{0} argument \"{1}\" not in {2}..{3}'\n",
      "                            errmsg = errmsg.format(funcname, argname, low, high)\n",
      "                            raise TypeError(errmsg)\n",
      "                    else:\n",
      "                        # Assume not passed: default\n",
      "                        if trace:\n",
      "                            print('Argument \"{0}\" defaulted'.format(argname))\n",
      "\n",
      "                return func(*pargs, **kargs)    # OK: run original call\n",
      "            return onCall\n",
      "    return onDecorator\n"
     ]
    }
   ],
   "source": [
    "!cat rangetest.py"
   ]
  },
  {
   "cell_type": "code",
   "execution_count": 40,
   "id": "b4f487d3",
   "metadata": {},
   "outputs": [
    {
     "name": "stdout",
     "output_type": "stream",
     "text": [
      "\"\"\"\n",
      "File argtest.py: (3.X + 2.X) function decorator that performs \n",
      "arbitrary passed-in validations for arguments passed to any \n",
      "function method. Range and type tests are two example uses;\n",
      "valuetest handles more arbitrary tests on a argument's value.\n",
      "\n",
      "Arguments are specified by keyword to the decorator. In the actual \n",
      "call, arguments may be passed by position or keyword, and defaults\n",
      "may be omitted.  See self-test code below for example use cases.\n",
      "\n",
      "Caveats: doesn't fully support nesting because call proxy args \n",
      "differ; doesn't validate extra args passed to a decoratee's *args;\n",
      "and may be no easier than an assert except for canned use cases.\n",
      "\"\"\"\n",
      "trace = False\n",
      "\n",
      "\n",
      "def rangetest(**argchecks): \n",
      "    return argtest(argchecks, lambda arg, vals: arg < vals[0] or arg > vals[1])\n",
      "\n",
      "def typetest(**argchecks):\n",
      "    return argtest(argchecks, lambda arg, type: not isinstance(arg, type))\n",
      "\n",
      "def valuetest(**argchecks):\n",
      "    return argtest(argchecks, lambda arg, tester: not tester(arg))\n",
      "\n",
      "\n",
      "def argtest(argchecks, failif):             # Validate args per failif + criteria\n",
      "    def onDecorator(func):                  # onCall retains func, argchecks, failif\n",
      "        if not __debug__:                   # No-op if \"python -O main.py args...\"\n",
      "            return func                     \n",
      "        else:\n",
      "            code = func.__code__\n",
      "            expected = list(code.co_varnames[:code.co_argcount])\n",
      "            def onError(argname, criteria):\n",
      "                 errfmt = '%s argument \"%s\" not %s'\n",
      "                 raise TypeError(errfmt % (func.__name__, argname, criteria))\n",
      "\n",
      "            def onCall(*pargs, **kargs):\n",
      "                positionals = expected[:len(pargs)]\n",
      "                for (argname, criteria) in argchecks.items():      # For all to test\n",
      "                    if argname in kargs:                           # Passed by name\n",
      "                        if failif(kargs[argname], criteria):\n",
      "                            onError(argname, criteria)\n",
      "\n",
      "                    elif argname in positionals:                   # Passed by posit\n",
      "                        position = positionals.index(argname)\n",
      "                        if failif(pargs[position], criteria):\n",
      "                            onError(argname, criteria)\n",
      "                    else:                                          # Not passed-dflt\n",
      "                        if trace:\n",
      "                            print('Argument \"%s\" defaulted' % argname)\n",
      "                return func(*pargs, **kargs)   # OK: run original call\n",
      "            return onCall\n",
      "    return onDecorator\n",
      "\n",
      "\n",
      "if __name__ == '__main__':\n",
      "    import sys\n",
      "    def fails(test):\n",
      "        try:    result = test()\n",
      "        except: print('[%s]' % sys.exc_info()[1])\n",
      "        else:   print('?%s?' % result)\n",
      "\n",
      "    print('--------------------------------------------------------------------')\n",
      "    # Canned use cases: ranges, types\n",
      "\n",
      "    @rangetest(m=(1, 12), d=(1, 31), y=(1900, 2013))\n",
      "    def date(m, d, y):\n",
      "        print('date = %s/%s/%s' % (m, d, y))\n",
      "\n",
      "    date(1, 2, 1960)\n",
      "    fails(lambda: date(1, 2, 3))\n",
      "\n",
      "    @typetest(a=int, c=float)\n",
      "    def sum(a, b, c, d): \n",
      "        print(a + b + c + d)\n",
      "\n",
      "    sum(1, 2, 3.0, 4) \n",
      "    sum(1, d=4, b=2, c=3.0)               \n",
      "    fails(lambda: sum('spam', 2, 99, 4)) \n",
      "    fails(lambda: sum(1, d=4, b=2, c=99)) \n",
      "\n",
      "    print('--------------------------------------------------------------------')\n",
      "    # Arbitrary/mixed tests\n",
      "\n",
      "    @valuetest(word1=str.islower, word2=(lambda x: x[0].isupper()))\n",
      "    def msg(word1='mighty', word2='Larch', label='The'):\n",
      "        print('%s %s %s' % (label, word1, word2))\n",
      "\n",
      "    msg()  # word1 and word2 defaulted\n",
      "    msg('majestic', 'Moose')\n",
      "    fails(lambda: msg('Giant', 'Redwood'))\n",
      "    fails(lambda: msg('great', word2='elm'))\n",
      "\n",
      "    print('--------------------------------------------------------------------')\n",
      "    # Manual type and range tests\n",
      "\n",
      "    @valuetest(A=lambda x: isinstance(x, int), B=lambda x: x > 0 and x < 10)    \n",
      "    def manual(A, B): \n",
      "        print(A + B)\n",
      "\n",
      "    manual(100, 2)\n",
      "    fails(lambda: manual(1.99, 2))\n",
      "    fails(lambda: manual(100, 20))\n",
      "\n",
      "    print('--------------------------------------------------------------------')\n",
      "    # Nesting: runs both, by nesting proxies on original.\n",
      "    # Open issue: outer levels do not validate positionals due \n",
      "    # to call proxy function's differing argument signature;\n",
      "    # when trace=True, in all but the last of these \"X\" is \n",
      "    # classified as defaulted due to the proxy's signature.\n",
      "\n",
      "    @rangetest(X=(1, 10)) \n",
      "    @typetest(Z=str)                      # Only innermost validates positional args\n",
      "    def nester(X, Y, Z): \n",
      "        return('%s-%s-%s' % (X, Y, Z))\n",
      "\n",
      "    print(nester(1, 2, 'spam'))                # Original function runs properly\n",
      "    fails(lambda: nester(1, 2, 3))             # Nested typetest is run:  positional\n",
      "    fails(lambda: nester(1, 2, Z=3))           # Nested typetest is run:  keyword\n",
      "    fails(lambda: nester(0, 2, 'spam'))        # <==Outer rangetest not run: posit.\n",
      "    fails(lambda: nester(X=0, Y=2, Z='spam'))  # Outer rangetest is run:  keyword\n"
     ]
    }
   ],
   "source": [
    "!cat argtest.py"
   ]
  },
  {
   "cell_type": "code",
   "execution_count": 42,
   "id": "1ef9992a",
   "metadata": {},
   "outputs": [
    {
     "name": "stdout",
     "output_type": "stream",
     "text": [
      "--------------------------------------------------------------------\n",
      "date = 1/2/1960\n",
      "[date argument \"y\" not (1900, 2013)]\n",
      "10.0\n",
      "10.0\n",
      "[sum argument \"a\" not <class 'int'>]\n",
      "[sum argument \"c\" not <class 'float'>]\n",
      "--------------------------------------------------------------------\n",
      "The mighty Larch\n",
      "The majestic Moose\n",
      "[msg argument \"word1\" not <method 'islower' of 'str' objects>]\n",
      "[msg argument \"word2\" not <function <lambda> at 0x000001A7C91DDDC0>]\n",
      "--------------------------------------------------------------------\n",
      "102\n",
      "[manual argument \"A\" not <function <lambda> at 0x000001A7C9306040>]\n",
      "[manual argument \"B\" not <function <lambda> at 0x000001A7C9306160>]\n",
      "--------------------------------------------------------------------\n",
      "1-2-spam\n",
      "[nester argument \"Z\" not <class 'str'>]\n",
      "[nester argument \"Z\" not <class 'str'>]\n",
      "?0-2-spam?\n",
      "[onCall argument \"X\" not (1, 10)]\n"
     ]
    }
   ],
   "source": [
    "!python argtest.py"
   ]
  },
  {
   "cell_type": "code",
   "execution_count": 43,
   "id": "2f8429e0",
   "metadata": {},
   "outputs": [
    {
     "name": "stdout",
     "output_type": "stream",
     "text": [
      "from argtest import rangetest, typetest\n",
      "\n",
      "class C:\n",
      "    @rangetest(a=(1, 10))\n",
      "    def meth1(self, a): \n",
      "        return a * 1000\n",
      "\n",
      "    @typetest(a=int)\n",
      "    def meth2(self, a): \n",
      "        return a * 1000 \n",
      "\n",
      "\"\"\"\n",
      ">>> from argtest_testmeth import C\n",
      ">>> X = C()\n",
      ">>> X.meth1(5)\n",
      "5000\n",
      ">>> X.meth1(20)\n",
      "TypeError: meth1 argument \"a\" not (1, 10)\n",
      ">>> X.meth2(20)\n",
      "20000\n",
      ">>> X.meth2(20.9)\n",
      "TypeError: meth2 argument \"a\" not <class 'int'>\n",
      "\"\"\" \n"
     ]
    }
   ],
   "source": [
    "!cat argtest_testmeth.py"
   ]
  },
  {
   "cell_type": "markdown",
   "id": "3c733086",
   "metadata": {},
   "source": [
    "## Chapter 40. Metaclasses"
   ]
  },
  {
   "cell_type": "markdown",
   "id": "f46c3047",
   "metadata": {},
   "source": [
    "### To Metaclass or Not to Metaclass"
   ]
  },
  {
   "cell_type": "markdown",
   "id": "4f33f73a",
   "metadata": {},
   "source": [
    "### The Metaclass Model"
   ]
  },
  {
   "cell_type": "code",
   "execution_count": 1,
   "id": "7d60791f",
   "metadata": {},
   "outputs": [
    {
     "data": {
      "text/plain": [
       "(list, type)"
      ]
     },
     "execution_count": 1,
     "metadata": {},
     "output_type": "execute_result"
    }
   ],
   "source": [
    "type([]), type(type([]))          # List instance is created from list class"
   ]
  },
  {
   "cell_type": "code",
   "execution_count": 2,
   "id": "14e8ac7b",
   "metadata": {},
   "outputs": [
    {
     "data": {
      "text/plain": [
       "(type, type)"
      ]
     },
     "execution_count": 2,
     "metadata": {},
     "output_type": "execute_result"
    }
   ],
   "source": [
    "type(list), type(type)            # Same, but with type names"
   ]
  },
  {
   "cell_type": "code",
   "execution_count": 6,
   "id": "490fa727",
   "metadata": {},
   "outputs": [
    {
     "data": {
      "text/plain": [
       "__main__.C"
      ]
     },
     "execution_count": 6,
     "metadata": {},
     "output_type": "execute_result"
    }
   ],
   "source": [
    "class C: pass                   # 3.X class object (new-style)\n",
    "X = C()                         # Class instance object\n",
    "\n",
    "type(X)                         # Instance is instance of class"
   ]
  },
  {
   "cell_type": "code",
   "execution_count": 7,
   "id": "c94f2948",
   "metadata": {},
   "outputs": [
    {
     "data": {
      "text/plain": [
       "__main__.C"
      ]
     },
     "execution_count": 7,
     "metadata": {},
     "output_type": "execute_result"
    }
   ],
   "source": [
    "X.__class__                     # Instance's class"
   ]
  },
  {
   "cell_type": "code",
   "execution_count": 8,
   "id": "1e8c62a0",
   "metadata": {},
   "outputs": [
    {
     "data": {
      "text/plain": [
       "type"
      ]
     },
     "execution_count": 8,
     "metadata": {},
     "output_type": "execute_result"
    }
   ],
   "source": [
    "type(C)                         # Class is instance of type"
   ]
  },
  {
   "cell_type": "code",
   "execution_count": 9,
   "id": "05e06466",
   "metadata": {},
   "outputs": [
    {
     "data": {
      "text/plain": [
       "type"
      ]
     },
     "execution_count": 9,
     "metadata": {},
     "output_type": "execute_result"
    }
   ],
   "source": [
    "C.__class__                     # Class's class is type"
   ]
  },
  {
   "cell_type": "code",
   "execution_count": 10,
   "id": "16903404",
   "metadata": {},
   "outputs": [
    {
     "data": {
      "text/plain": [
       "(__main__.Spam, <__main__.Spam at 0x20d4f090970>)"
      ]
     },
     "execution_count": 10,
     "metadata": {},
     "output_type": "execute_result"
    }
   ],
   "source": [
    "x = type('Spam', (), {'data': 1, 'meth': (lambda x, y: x.data + y)})\n",
    "i = x()\n",
    "x, i"
   ]
  },
  {
   "cell_type": "code",
   "execution_count": 11,
   "id": "cb82c405",
   "metadata": {},
   "outputs": [
    {
     "data": {
      "text/plain": [
       "(object,)"
      ]
     },
     "execution_count": 11,
     "metadata": {},
     "output_type": "execute_result"
    }
   ],
   "source": [
    "x.__bases__"
   ]
  },
  {
   "cell_type": "code",
   "execution_count": 12,
   "id": "1a11da8b",
   "metadata": {},
   "outputs": [
    {
     "data": {
      "text/plain": [
       "[('data', 1), ('meth', <function __main__.<lambda>(x, y)>)]"
      ]
     },
     "execution_count": 12,
     "metadata": {},
     "output_type": "execute_result"
    }
   ],
   "source": [
    "[(a, v) for (a, v) in x.__dict__.items() if not a.startswith('__')]"
   ]
  },
  {
   "cell_type": "code",
   "execution_count": 13,
   "id": "7dcc2744",
   "metadata": {},
   "outputs": [
    {
     "name": "stdout",
     "output_type": "stream",
     "text": [
      "class MetaOne(type):\n",
      "    def __new__(meta, classname, supers, classdict):\n",
      "        print('In MetaOne.new:', meta, classname, supers, classdict, sep='\\n...')\n",
      "        return type.__new__(meta, classname, supers, classdict)\n",
      "\n",
      "class Eggs:\n",
      "    pass\n",
      "\n",
      "print('making class')\n",
      "class Spam(Eggs, metaclass=MetaOne):      # Inherits from Eggs, instance of MetaOne\n",
      "    data = 1                              # Class data attribute\n",
      "    def meth(self, arg):                  # Class method attribute\n",
      "        return self.data + arg\n",
      "\n",
      "print('making instance')\n",
      "X = Spam()\n",
      "print('data:', X.data, X.meth(2))\n"
     ]
    }
   ],
   "source": [
    "!cat metaclass1.py"
   ]
  },
  {
   "cell_type": "code",
   "execution_count": 14,
   "id": "abf0ae65",
   "metadata": {},
   "outputs": [
    {
     "name": "stdout",
     "output_type": "stream",
     "text": [
      "making class\n",
      "In MetaOne.new:\n",
      "...<class '__main__.MetaOne'>\n",
      "...Spam\n",
      "...(<class '__main__.Eggs'>,)\n",
      "...{'__module__': '__main__', '__qualname__': 'Spam', 'data': 1, 'meth': <function Spam.meth at 0x0000018C0978D9D0>}\n",
      "making instance\n",
      "data: 1 3\n"
     ]
    }
   ],
   "source": [
    "!python metaclass1.py"
   ]
  },
  {
   "cell_type": "code",
   "execution_count": 15,
   "id": "5fc22781",
   "metadata": {},
   "outputs": [
    {
     "name": "stdout",
     "output_type": "stream",
     "text": [
      "class MetaTwo(type):\n",
      "    def __new__(meta, classname, supers, classdict):\n",
      "        print('In MetaTwo.new: ', classname, supers, classdict, sep='\\n...')\n",
      "        return type.__new__(meta, classname, supers, classdict)\n",
      "\n",
      "    def __init__(Class, classname, supers, classdict):\n",
      "        print('In MetaTwo.init:', classname, supers, classdict, sep='\\n...')\n",
      "        print('...init class object:', list(Class.__dict__.keys()))\n",
      "\n",
      "class Eggs:\n",
      "    pass\n",
      "\n",
      "print('making class')\n",
      "class Spam(Eggs, metaclass=MetaTwo):      # Inherits from Eggs, instance of MetaTwo\n",
      "    data = 1                              # Class data attribute\n",
      "    def meth(self, arg):                  # Class method attribute\n",
      "       return self.data + arg\n",
      "\n",
      "print('making instance')\n",
      "X = Spam()\n",
      "print('data:', X.data, X.meth(2))\n"
     ]
    }
   ],
   "source": [
    "!cat metaclass2.py"
   ]
  },
  {
   "cell_type": "code",
   "execution_count": 16,
   "id": "6bbac08f",
   "metadata": {},
   "outputs": [
    {
     "name": "stdout",
     "output_type": "stream",
     "text": [
      "making class\n",
      "In MetaTwo.new: \n",
      "...Spam\n",
      "...(<class '__main__.Eggs'>,)\n",
      "...{'__module__': '__main__', '__qualname__': 'Spam', 'data': 1, 'meth': <function Spam.meth at 0x0000017DBD99DA60>}\n",
      "In MetaTwo.init:\n",
      "...Spam\n",
      "...(<class '__main__.Eggs'>,)\n",
      "...{'__module__': '__main__', '__qualname__': 'Spam', 'data': 1, 'meth': <function Spam.meth at 0x0000017DBD99DA60>}\n",
      "...init class object: ['__module__', 'data', 'meth', '__doc__']\n",
      "making instance\n",
      "data: 1 3\n"
     ]
    }
   ],
   "source": [
    "!python metaclass2.py"
   ]
  },
  {
   "cell_type": "code",
   "execution_count": 17,
   "id": "6d0401dc",
   "metadata": {},
   "outputs": [
    {
     "name": "stdout",
     "output_type": "stream",
     "text": [
      "# A simple function can serve as a metaclass too\n",
      "\n",
      "def MetaFunc(classname, supers, classdict):\n",
      "    print('In MetaFunc: ', classname, supers, classdict, sep='\\n...')\n",
      "    return type(classname, supers, classdict)\n",
      "\n",
      "class Eggs:\n",
      "    pass\n",
      "\n",
      "print('making class')\n",
      "class Spam(Eggs, metaclass=MetaFunc):            # Run simple function at end\n",
      "    data = 1                                     # Function returns class\n",
      "    def meth(self, arg):\n",
      "        return self.data + arg\n",
      "\n",
      "print('making instance')\n",
      "X = Spam()\n",
      "print('data:', X.data, X.meth(2))\n"
     ]
    }
   ],
   "source": [
    "!cat metaclass3.py"
   ]
  },
  {
   "cell_type": "code",
   "execution_count": 18,
   "id": "c2e74e33",
   "metadata": {},
   "outputs": [
    {
     "name": "stdout",
     "output_type": "stream",
     "text": [
      "making class\n",
      "In MetaFunc: \n",
      "...Spam\n",
      "...(<class '__main__.Eggs'>,)\n",
      "...{'__module__': '__main__', '__qualname__': 'Spam', 'data': 1, 'meth': <function Spam.meth at 0x000002407752D940>}\n",
      "making instance\n",
      "data: 1 3\n"
     ]
    }
   ],
   "source": [
    "!python metaclass3.py"
   ]
  },
  {
   "cell_type": "code",
   "execution_count": 19,
   "id": "b40ad216",
   "metadata": {},
   "outputs": [
    {
     "name": "stdout",
     "output_type": "stream",
     "text": [
      "# A normal class instance can serve as a metaclass too\n",
      "\n",
      "class MetaObj:\n",
      "    def __call__(self, classname, supers, classdict):\n",
      "        print('In MetaObj.call: ', classname, supers, classdict, sep='\\n...')\n",
      "        Class = self.__New__(classname, supers, classdict)\n",
      "        self.__Init__(Class, classname, supers, classdict)\n",
      "        return Class\n",
      "\n",
      "    def __New__(self, classname, supers, classdict):\n",
      "        print('In MetaObj.new: ', classname, supers, classdict, sep='\\n...')\n",
      "        return type(classname, supers, classdict)\n",
      "\n",
      "    def __Init__(self, Class, classname, supers, classdict):\n",
      "        print('In MetaObj.init:', classname, supers, classdict, sep='\\n...')\n",
      "        print('...init class object:', list(Class.__dict__.keys()))\n",
      "\n",
      "class Eggs:\n",
      "    pass\n",
      "\n",
      "print('making class')\n",
      "class Spam(Eggs, metaclass=MetaObj()):          # MetaObj is normal class instance\n",
      "    data = 1                                    # Called at end of statement\n",
      "    def meth(self, arg):\n",
      "        return self.data + arg\n",
      "\n",
      "print('making instance')\n",
      "X = Spam()\n",
      "print('data:', X.data, X.meth(2)) \n"
     ]
    }
   ],
   "source": [
    "!cat metaclass4.py"
   ]
  },
  {
   "cell_type": "code",
   "execution_count": 20,
   "id": "0f30b154",
   "metadata": {},
   "outputs": [
    {
     "name": "stdout",
     "output_type": "stream",
     "text": [
      "making class\n",
      "In MetaObj.call: \n",
      "...Spam\n",
      "...(<class '__main__.Eggs'>,)\n",
      "...{'__module__': '__main__', '__qualname__': 'Spam', 'data': 1, 'meth': <function Spam.meth at 0x000001FA363DDAF0>}\n",
      "In MetaObj.new: \n",
      "...Spam\n",
      "...(<class '__main__.Eggs'>,)\n",
      "...{'__module__': '__main__', '__qualname__': 'Spam', 'data': 1, 'meth': <function Spam.meth at 0x000001FA363DDAF0>}\n",
      "In MetaObj.init:\n",
      "...Spam\n",
      "...(<class '__main__.Eggs'>,)\n",
      "...{'__module__': '__main__', '__qualname__': 'Spam', 'data': 1, 'meth': <function Spam.meth at 0x000001FA363DDAF0>}\n",
      "...init class object: ['__module__', 'data', 'meth', '__doc__']\n",
      "making instance\n",
      "data: 1 3\n"
     ]
    }
   ],
   "source": [
    "!python metaclass4.py"
   ]
  },
  {
   "cell_type": "code",
   "execution_count": 21,
   "id": "e6844bd5",
   "metadata": {},
   "outputs": [
    {
     "name": "stdout",
     "output_type": "stream",
     "text": [
      "# A normal superclass can provide __call__ for instance metaclass too\n",
      "# Instances inherit from classes and their supers normally\n",
      "\n",
      "class SuperMetaObj:\n",
      "    def __call__(self, classname, supers, classdict):\n",
      "        print('In SuperMetaObj.call: ', classname, supers, classdict, sep='\\n...')\n",
      "        Class = self.__New__(classname, supers, classdict)\n",
      "        self.__Init__(Class, classname, supers, classdict)\n",
      "        return Class\n",
      "\n",
      "class SubMetaObj(SuperMetaObj):\n",
      "    def __New__(self, classname, supers, classdict):\n",
      "        print('In SubMetaObj.new: ', classname, supers, classdict, sep='\\n...')\n",
      "        return type(classname, supers, classdict)\n",
      "\n",
      "    def __Init__(self, Class, classname, supers, classdict):\n",
      "        print('In SubMetaObj.init:', classname, supers, classdict, sep='\\n...')\n",
      "        print('...init class object:', list(Class.__dict__.keys()))\n",
      "\n",
      "class Eggs: \n",
      "    pass\n",
      "\n",
      "print('making class')\n",
      "class Spam(Eggs, metaclass=SubMetaObj()):       # meta is a normal class instance\n",
      "    data = 1                                    # Called at end of statement\n",
      "    def meth(self, arg):\n",
      "        return self.data + arg\n",
      "\n",
      "print('making instance')\n",
      "X = Spam()\n",
      "print('data:', X.data, X.meth(2))\n"
     ]
    }
   ],
   "source": [
    "!cat metaclass4-super.py"
   ]
  },
  {
   "cell_type": "code",
   "execution_count": 22,
   "id": "c64993ca",
   "metadata": {},
   "outputs": [
    {
     "name": "stdout",
     "output_type": "stream",
     "text": [
      "making class\n",
      "In SuperMetaObj.call: \n",
      "...Spam\n",
      "...(<class '__main__.Eggs'>,)\n",
      "...{'__module__': '__main__', '__qualname__': 'Spam', 'data': 1, 'meth': <function Spam.meth at 0x0000022CB6A5DA60>}\n",
      "In SubMetaObj.new: \n",
      "...Spam\n",
      "...(<class '__main__.Eggs'>,)\n",
      "...{'__module__': '__main__', '__qualname__': 'Spam', 'data': 1, 'meth': <function Spam.meth at 0x0000022CB6A5DA60>}\n",
      "In SubMetaObj.init:\n",
      "...Spam\n",
      "...(<class '__main__.Eggs'>,)\n",
      "...{'__module__': '__main__', '__qualname__': 'Spam', 'data': 1, 'meth': <function Spam.meth at 0x0000022CB6A5DA60>}\n",
      "...init class object: ['__module__', 'data', 'meth', '__doc__']\n",
      "making instance\n",
      "data: 1 3\n"
     ]
    }
   ],
   "source": [
    "!python metaclass4-super.py"
   ]
  },
  {
   "cell_type": "code",
   "execution_count": 23,
   "id": "d482b927",
   "metadata": {},
   "outputs": [
    {
     "name": "stdout",
     "output_type": "stream",
     "text": [
      "# Classes can catch calls too (but built-ins look in metas, not supers!)\n",
      "\n",
      "class SuperMeta(type):\n",
      "    def __call__(meta, classname, supers, classdict):\n",
      "        print('In SuperMeta.call: ', classname, supers, classdict, sep='\\n...')\n",
      "        return type.__call__(meta, classname, supers, classdict)\n",
      "\n",
      "    def __init__(Class, classname, supers, classdict):\n",
      "        print('In SuperMeta init:', classname, supers, classdict, sep='\\n...')\n",
      "        print('...init class object:', list(Class.__dict__.keys()))\n",
      "\n",
      "print('making metaclass')\n",
      "class SubMeta(type, metaclass=SuperMeta):\n",
      "    def __new__(meta, classname, supers, classdict):\n",
      "        print('In SubMeta.new: ', classname, supers, classdict, sep='\\n...')\n",
      "        return type.__new__(meta, classname, supers, classdict)\n",
      "\n",
      "    def __init__(Class, classname, supers, classdict):\n",
      "        print('In SubMeta init:', classname, supers, classdict, sep='\\n...')\n",
      "        print('...init class object:', list(Class.__dict__.keys()))\n",
      "\n",
      "class Eggs:\n",
      "    pass\n",
      "\n",
      "print('making class')\n",
      "class Spam(Eggs, metaclass=SubMeta):        # Invoke SubMeta, via SuperMeta.__call__ \n",
      "    data = 1\n",
      "    def meth(self, arg):\n",
      "        return self.data + arg\n",
      "\n",
      "print('making instance')\n",
      "X = Spam()\n",
      "print('data:', X.data, X.meth(2))\n"
     ]
    }
   ],
   "source": [
    "!cat metaclass5.py"
   ]
  },
  {
   "cell_type": "code",
   "execution_count": 24,
   "id": "fb7631f4",
   "metadata": {},
   "outputs": [
    {
     "name": "stdout",
     "output_type": "stream",
     "text": [
      "making metaclass\n",
      "In SuperMeta init:\n",
      "...SubMeta\n",
      "...(<class 'type'>,)\n",
      "...{'__module__': '__main__', '__qualname__': 'SubMeta', '__new__': <function SubMeta.__new__ at 0x000002C06D40D9D0>, '__init__': <function SubMeta.__init__ at 0x000002C06D40DA60>}\n",
      "...init class object: ['__module__', '__new__', '__init__', '__doc__']\n",
      "making class\n",
      "In SuperMeta.call: \n",
      "...Spam\n",
      "...(<class '__main__.Eggs'>,)\n",
      "...{'__module__': '__main__', '__qualname__': 'Spam', 'data': 1, 'meth': <function Spam.meth at 0x000002C06D40DB80>}\n",
      "In SubMeta.new: \n",
      "...Spam\n",
      "...(<class '__main__.Eggs'>,)\n",
      "...{'__module__': '__main__', '__qualname__': 'Spam', 'data': 1, 'meth': <function Spam.meth at 0x000002C06D40DB80>}\n",
      "In SubMeta init:\n",
      "...Spam\n",
      "...(<class '__main__.Eggs'>,)\n",
      "...{'__module__': '__main__', '__qualname__': 'Spam', 'data': 1, 'meth': <function Spam.meth at 0x000002C06D40DB80>}\n",
      "...init class object: ['__module__', 'data', 'meth', '__doc__']\n",
      "making instance\n",
      "data: 1 3\n"
     ]
    }
   ],
   "source": [
    "!python metaclass5.py"
   ]
  },
  {
   "cell_type": "code",
   "execution_count": 9,
   "id": "2da36375",
   "metadata": {},
   "outputs": [
    {
     "name": "stdout",
     "output_type": "stream",
     "text": [
      "class SuperMeta(type):\n",
      "    def __call__(meta, classname, supers, classdict):      # By name, not built-in\n",
      "        print('In SuperMeta.call:', classname)\n",
      "        return type.__call__(meta, classname, supers, classdict)\n",
      "\n",
      "class SubMeta(SuperMeta):                                  # Created by type default\n",
      "    def __init__(Class, classname, supers, classdict):     # Overrides type.__init__\n",
      "        print('In SubMeta init:', classname)\n",
      "\n",
      "print(SubMeta.__class__)\n",
      "print([n.__name__ for n in SubMeta.__mro__])\n",
      "print()\n",
      "print(SubMeta.__call__)                   # Not a data descriptor if found by name\n",
      "print()\n",
      "SubMeta.__call__(SubMeta, 'xxx', (), {})  # Explicit calls work: class inheritance\n",
      "print()\n",
      "SubMeta('yyy', (), {})                    # But implicit built-in calls do not: type\n"
     ]
    }
   ],
   "source": [
    "!cat metaclass5b.py"
   ]
  },
  {
   "cell_type": "code",
   "execution_count": 10,
   "id": "8c4ad722",
   "metadata": {},
   "outputs": [
    {
     "name": "stdout",
     "output_type": "stream",
     "text": [
      "<class 'type'>\n",
      "['SubMeta', 'SuperMeta', 'type', 'object']\n",
      "\n",
      "<function SuperMeta.__call__ at 0x000002C13BF0D8B0>\n",
      "\n",
      "In SuperMeta.call: xxx\n",
      "In SubMeta init: xxx\n",
      "\n",
      "In SubMeta init: yyy\n"
     ]
    }
   ],
   "source": [
    "!python metaclass5b.py"
   ]
  },
  {
   "cell_type": "code",
   "execution_count": 25,
   "id": "57f0c2fc",
   "metadata": {},
   "outputs": [
    {
     "name": "stdout",
     "output_type": "stream",
     "text": [
      "# File metainstance.py\n",
      "\n",
      "class MetaOne(type):\n",
      "    def __new__(meta, classname, supers, classdict):        # Redefine type method\n",
      "        print('In MetaOne.new:', classname)\n",
      "        return type.__new__(meta, classname, supers, classdict)\n",
      "    def toast(self):\n",
      "       return 'toast'\n",
      "\n",
      "class Super(metaclass=MetaOne):        # Metaclass inherited by subs too\n",
      "    def spam(self):                    # MetaOne run twice for two classes\n",
      "        return 'spam'\n",
      "\n",
      "class Sub(Super):                      # Superclass: inheritance versus instance\n",
      "    def eggs(self):                    # Classes inherit from superclasses\n",
      "        return 'eggs'                  # But not from metclasses\n"
     ]
    }
   ],
   "source": [
    "!cat metainstance.py"
   ]
  },
  {
   "cell_type": "code",
   "execution_count": 26,
   "id": "cea76d98",
   "metadata": {},
   "outputs": [
    {
     "name": "stdout",
     "output_type": "stream",
     "text": [
      "In MetaOne.new: Super\n",
      "In MetaOne.new: Sub\n"
     ]
    }
   ],
   "source": [
    "!python metainstance.py"
   ]
  },
  {
   "cell_type": "code",
   "execution_count": 27,
   "id": "b55d0fd7",
   "metadata": {},
   "outputs": [
    {
     "name": "stdout",
     "output_type": "stream",
     "text": [
      "In MetaOne.new: Super\n",
      "In MetaOne.new: Sub\n"
     ]
    }
   ],
   "source": [
    "from metainstance import *         # Runs class statements: metaclass run twice"
   ]
  },
  {
   "cell_type": "code",
   "execution_count": 9,
   "id": "65aaa13c",
   "metadata": {},
   "outputs": [
    {
     "name": "stdout",
     "output_type": "stream",
     "text": [
      "In MetaOne.new: Super\n",
      "In MetaOne.new: Sub\n"
     ]
    },
    {
     "data": {
      "text/plain": [
       "'eggs'"
      ]
     },
     "execution_count": 9,
     "metadata": {},
     "output_type": "execute_result"
    }
   ],
   "source": [
    "class MetaOne(type):\n",
    "    def __new__(meta, classname, supers, classdict):        # Redefine type method\n",
    "        print('In MetaOne.new:', classname)\n",
    "        return type.__new__(meta, classname, supers, classdict)\n",
    "    def toast(self):\n",
    "        return 'toast'\n",
    "\n",
    "class Super(metaclass=MetaOne):        # Metaclass inherited by subs too\n",
    "    def spam(self):                    # MetaOne run twice for two classes\n",
    "        return 'spam'\n",
    "\n",
    "class Sub(Super):                      # Superclass: inheritance versus instance\n",
    "    def eggs(self):                    # Classes inherit from superclasses\n",
    "        return 'eggs'                  # But not from metclasses\n",
    "    \n",
    "X = Sub()             # Normal instance of user-defined class\n",
    "X.eggs()              # Inherited from Sub"
   ]
  },
  {
   "cell_type": "code",
   "execution_count": 10,
   "id": "c567c46f",
   "metadata": {},
   "outputs": [
    {
     "data": {
      "text/plain": [
       "'spam'"
      ]
     },
     "execution_count": 10,
     "metadata": {},
     "output_type": "execute_result"
    }
   ],
   "source": [
    "X.spam()              # Inherited from Super"
   ]
  },
  {
   "cell_type": "code",
   "execution_count": 11,
   "id": "442e7dbf",
   "metadata": {},
   "outputs": [
    {
     "ename": "AttributeError",
     "evalue": "'Sub' object has no attribute 'toast'",
     "output_type": "error",
     "traceback": [
      "\u001b[1;31m---------------------------------------------------------------------------\u001b[0m",
      "\u001b[1;31mAttributeError\u001b[0m                            Traceback (most recent call last)",
      "\u001b[1;32m~\\AppData\\Local\\Temp/ipykernel_18000/3628081341.py\u001b[0m in \u001b[0;36m<module>\u001b[1;34m\u001b[0m\n\u001b[1;32m----> 1\u001b[1;33m \u001b[0mX\u001b[0m\u001b[1;33m.\u001b[0m\u001b[0mtoast\u001b[0m\u001b[1;33m(\u001b[0m\u001b[1;33m)\u001b[0m             \u001b[1;31m# Not inherited from metaclass\u001b[0m\u001b[1;33m\u001b[0m\u001b[1;33m\u001b[0m\u001b[0m\n\u001b[0m",
      "\u001b[1;31mAttributeError\u001b[0m: 'Sub' object has no attribute 'toast'"
     ]
    }
   ],
   "source": [
    "X.toast()             # Not inherited from metaclass"
   ]
  },
  {
   "cell_type": "code",
   "execution_count": 14,
   "id": "ca659050",
   "metadata": {},
   "outputs": [
    {
     "data": {
      "text/plain": [
       "'eggs'"
      ]
     },
     "execution_count": 14,
     "metadata": {},
     "output_type": "execute_result"
    }
   ],
   "source": [
    "Sub.eggs(X)           # Own method"
   ]
  },
  {
   "cell_type": "code",
   "execution_count": 15,
   "id": "44052657",
   "metadata": {},
   "outputs": [
    {
     "data": {
      "text/plain": [
       "'spam'"
      ]
     },
     "execution_count": 15,
     "metadata": {},
     "output_type": "execute_result"
    }
   ],
   "source": [
    "Sub.spam(X)           # Inherited from Super"
   ]
  },
  {
   "cell_type": "code",
   "execution_count": 16,
   "id": "debcb45c",
   "metadata": {},
   "outputs": [
    {
     "data": {
      "text/plain": [
       "'toast'"
      ]
     },
     "execution_count": 16,
     "metadata": {},
     "output_type": "execute_result"
    }
   ],
   "source": [
    "Sub.toast()           # Acquired from metaclass"
   ]
  },
  {
   "cell_type": "code",
   "execution_count": 17,
   "id": "91c94cc3",
   "metadata": {},
   "outputs": [
    {
     "ename": "TypeError",
     "evalue": "toast() takes 1 positional argument but 2 were given",
     "output_type": "error",
     "traceback": [
      "\u001b[1;31m---------------------------------------------------------------------------\u001b[0m",
      "\u001b[1;31mTypeError\u001b[0m                                 Traceback (most recent call last)",
      "\u001b[1;32m~\\AppData\\Local\\Temp/ipykernel_2200/2020227779.py\u001b[0m in \u001b[0;36m<module>\u001b[1;34m\u001b[0m\n\u001b[1;32m----> 1\u001b[1;33m \u001b[0mSub\u001b[0m\u001b[1;33m.\u001b[0m\u001b[0mtoast\u001b[0m\u001b[1;33m(\u001b[0m\u001b[0mX\u001b[0m\u001b[1;33m)\u001b[0m          \u001b[1;31m# Not a normal class method\u001b[0m\u001b[1;33m\u001b[0m\u001b[1;33m\u001b[0m\u001b[0m\n\u001b[0m",
      "\u001b[1;31mTypeError\u001b[0m: toast() takes 1 positional argument but 2 were given"
     ]
    }
   ],
   "source": [
    "Sub.toast(X)          # Not a normal class method"
   ]
  },
  {
   "cell_type": "code",
   "execution_count": 18,
   "id": "89256146",
   "metadata": {},
   "outputs": [
    {
     "data": {
      "text/plain": [
       "<bound method MetaOne.toast of <class '__main__.Sub'>>"
      ]
     },
     "execution_count": 18,
     "metadata": {},
     "output_type": "execute_result"
    }
   ],
   "source": [
    "Sub.toast"
   ]
  },
  {
   "cell_type": "code",
   "execution_count": 19,
   "id": "e1c72de2",
   "metadata": {},
   "outputs": [
    {
     "data": {
      "text/plain": [
       "<function __main__.Super.spam(self)>"
      ]
     },
     "execution_count": 19,
     "metadata": {},
     "output_type": "execute_result"
    }
   ],
   "source": [
    "Sub.spam"
   ]
  },
  {
   "cell_type": "code",
   "execution_count": 20,
   "id": "95900358",
   "metadata": {},
   "outputs": [
    {
     "data": {
      "text/plain": [
       "<bound method Super.spam of <__main__.Sub object at 0x000001CB54A59850>>"
      ]
     },
     "execution_count": 20,
     "metadata": {},
     "output_type": "execute_result"
    }
   ],
   "source": [
    "X.spam"
   ]
  },
  {
   "cell_type": "code",
   "execution_count": 35,
   "id": "db42d4f2",
   "metadata": {},
   "outputs": [
    {
     "data": {
      "text/plain": [
       "1"
      ]
     },
     "execution_count": 35,
     "metadata": {},
     "output_type": "execute_result"
    }
   ],
   "source": [
    "class A(type): attr = 1\n",
    "class B(metaclass=A): pass          # B is meta instance and acquires meta attr\n",
    "I = B()                             # I inherits from class but not meta!\n",
    "B.attr"
   ]
  },
  {
   "cell_type": "code",
   "execution_count": 36,
   "id": "2ad12f1b",
   "metadata": {},
   "outputs": [
    {
     "ename": "AttributeError",
     "evalue": "'B' object has no attribute 'attr'",
     "output_type": "error",
     "traceback": [
      "\u001b[1;31m---------------------------------------------------------------------------\u001b[0m",
      "\u001b[1;31mAttributeError\u001b[0m                            Traceback (most recent call last)",
      "\u001b[1;32m~\\AppData\\Local\\Temp/ipykernel_15876/3661472342.py\u001b[0m in \u001b[0;36m<module>\u001b[1;34m\u001b[0m\n\u001b[1;32m----> 1\u001b[1;33m \u001b[0mI\u001b[0m\u001b[1;33m.\u001b[0m\u001b[0mattr\u001b[0m\u001b[1;33m\u001b[0m\u001b[1;33m\u001b[0m\u001b[0m\n\u001b[0m",
      "\u001b[1;31mAttributeError\u001b[0m: 'B' object has no attribute 'attr'"
     ]
    }
   ],
   "source": [
    "I.attr"
   ]
  },
  {
   "cell_type": "code",
   "execution_count": 37,
   "id": "be2873f1",
   "metadata": {},
   "outputs": [
    {
     "data": {
      "text/plain": [
       "(False, True)"
      ]
     },
     "execution_count": 37,
     "metadata": {},
     "output_type": "execute_result"
    }
   ],
   "source": [
    "'attr' in B.__dict__, 'attr' in A.__dict__"
   ]
  },
  {
   "cell_type": "code",
   "execution_count": 38,
   "id": "584a96b0",
   "metadata": {},
   "outputs": [
    {
     "data": {
      "text/plain": [
       "1"
      ]
     },
     "execution_count": 38,
     "metadata": {},
     "output_type": "execute_result"
    }
   ],
   "source": [
    "class A: attr = 1\n",
    "class B(A): pass                    # I inherits from class and supers\n",
    "I = B()\n",
    "B.attr"
   ]
  },
  {
   "cell_type": "code",
   "execution_count": 39,
   "id": "32d3fb0f",
   "metadata": {},
   "outputs": [
    {
     "data": {
      "text/plain": [
       "1"
      ]
     },
     "execution_count": 39,
     "metadata": {},
     "output_type": "execute_result"
    }
   ],
   "source": [
    "I.attr"
   ]
  },
  {
   "cell_type": "code",
   "execution_count": 40,
   "id": "12c3cd97",
   "metadata": {},
   "outputs": [
    {
     "data": {
      "text/plain": [
       "(False, True)"
      ]
     },
     "execution_count": 40,
     "metadata": {},
     "output_type": "execute_result"
    }
   ],
   "source": [
    "'attr' in B.__dict__, 'attr' in A.__dict__"
   ]
  },
  {
   "cell_type": "code",
   "execution_count": 41,
   "id": "87f9d237",
   "metadata": {},
   "outputs": [
    {
     "data": {
      "text/plain": [
       "(2, 2)"
      ]
     },
     "execution_count": 41,
     "metadata": {},
     "output_type": "execute_result"
    }
   ],
   "source": [
    "class M(type): attr = 1\n",
    "class A: attr = 2\n",
    "class B(A, metaclass=M): pass       # Supers have precedence over metas\n",
    "I = B()\n",
    "B.attr, I.attr"
   ]
  },
  {
   "cell_type": "code",
   "execution_count": 42,
   "id": "c82156d5",
   "metadata": {},
   "outputs": [
    {
     "data": {
      "text/plain": [
       "(False, True, True)"
      ]
     },
     "execution_count": 42,
     "metadata": {},
     "output_type": "execute_result"
    }
   ],
   "source": [
    "'attr' in B.__dict__, 'attr' in A.__dict__, 'attr' in M.__dict__"
   ]
  },
  {
   "cell_type": "code",
   "execution_count": 43,
   "id": "a653a784",
   "metadata": {},
   "outputs": [
    {
     "data": {
      "text/plain": [
       "(2, 2)"
      ]
     },
     "execution_count": 43,
     "metadata": {},
     "output_type": "execute_result"
    }
   ],
   "source": [
    "class M(type): attr = 1\n",
    "class A: attr = 2\n",
    "class B(A): pass\n",
    "class C(B, metaclass=M): pass       # Super two levels above meta: still wins\n",
    "I = C()\n",
    "I.attr, C.attr"
   ]
  },
  {
   "cell_type": "code",
   "execution_count": 44,
   "id": "c76d6859",
   "metadata": {},
   "outputs": [
    {
     "data": {
      "text/plain": [
       "1"
      ]
     },
     "execution_count": 44,
     "metadata": {},
     "output_type": "execute_result"
    }
   ],
   "source": [
    "M.attr"
   ]
  },
  {
   "cell_type": "code",
   "execution_count": 45,
   "id": "b787cefe",
   "metadata": {},
   "outputs": [
    {
     "data": {
      "text/plain": [
       "2"
      ]
     },
     "execution_count": 45,
     "metadata": {},
     "output_type": "execute_result"
    }
   ],
   "source": [
    "A.attr"
   ]
  },
  {
   "cell_type": "code",
   "execution_count": 46,
   "id": "de86a9eb",
   "metadata": {},
   "outputs": [
    {
     "data": {
      "text/plain": [
       "['C', 'B', 'A', 'object']"
      ]
     },
     "execution_count": 46,
     "metadata": {},
     "output_type": "execute_result"
    }
   ],
   "source": [
    "[x.__name__ for x in C.__mro__]     # See Chapter 32 for all things MRO"
   ]
  },
  {
   "cell_type": "code",
   "execution_count": 47,
   "id": "74cd3aaf",
   "metadata": {},
   "outputs": [
    {
     "data": {
      "text/plain": [
       "__main__.C"
      ]
     },
     "execution_count": 47,
     "metadata": {},
     "output_type": "execute_result"
    }
   ],
   "source": [
    "I.__class__              # Followed by inheritance: instance's class"
   ]
  },
  {
   "cell_type": "code",
   "execution_count": 48,
   "id": "564e9e7b",
   "metadata": {},
   "outputs": [
    {
     "data": {
      "text/plain": [
       "(__main__.B,)"
      ]
     },
     "execution_count": 48,
     "metadata": {},
     "output_type": "execute_result"
    }
   ],
   "source": [
    "C.__bases__              # Followed by inheritance: class's supers"
   ]
  },
  {
   "cell_type": "code",
   "execution_count": 49,
   "id": "985fea43",
   "metadata": {},
   "outputs": [
    {
     "data": {
      "text/plain": [
       "__main__.M"
      ]
     },
     "execution_count": 49,
     "metadata": {},
     "output_type": "execute_result"
    }
   ],
   "source": [
    "C.__class__              # Followed by instance acquisition: metaclass"
   ]
  },
  {
   "cell_type": "code",
   "execution_count": 50,
   "id": "ee80f1bf",
   "metadata": {},
   "outputs": [
    {
     "data": {
      "text/plain": [
       "1"
      ]
     },
     "execution_count": 50,
     "metadata": {},
     "output_type": "execute_result"
    }
   ],
   "source": [
    "C.__class__.attr         # Another way to get to metaclass attributes"
   ]
  },
  {
   "cell_type": "code",
   "execution_count": 51,
   "id": "2fb983bd",
   "metadata": {},
   "outputs": [
    {
     "data": {
      "text/plain": [
       "(3, 4)"
      ]
     },
     "execution_count": 51,
     "metadata": {},
     "output_type": "execute_result"
    }
   ],
   "source": [
    "class M1(type): attr1 = 1                 # Metaclass inheritance tree\n",
    "class M2(M1):   attr2 = 2                 # Gets __bases__, __class__, __mro__\n",
    "\n",
    "class C1: attr3 = 3                       # Superclass inheritance tree\n",
    "class C2(C1,metaclass=M2): attr4 = 4      # Gets __bases__, __class__, __mro__\n",
    "\n",
    "I = C2()                                  # I gets __class__ but not others\n",
    "I.attr3, I.attr4                          # Instance inherits from super tree"
   ]
  },
  {
   "cell_type": "code",
   "execution_count": 54,
   "id": "c195b3e5",
   "metadata": {},
   "outputs": [
    {
     "data": {
      "text/plain": [
       "(1, 2, 3, 4)"
      ]
     },
     "execution_count": 54,
     "metadata": {},
     "output_type": "execute_result"
    }
   ],
   "source": [
    "C2.attr1, C2.attr2, C2.attr3, C2.attr4    # Class gets names from both trees!"
   ]
  },
  {
   "cell_type": "code",
   "execution_count": 58,
   "id": "ab33c668",
   "metadata": {},
   "outputs": [
    {
     "data": {
      "text/plain": [
       "(__main__.M2, (__main__.C1,))"
      ]
     },
     "execution_count": 58,
     "metadata": {},
     "output_type": "execute_result"
    }
   ],
   "source": [
    "C2.__class__, C2.__bases__"
   ]
  },
  {
   "cell_type": "code",
   "execution_count": 59,
   "id": "9f79bbaa",
   "metadata": {},
   "outputs": [
    {
     "data": {
      "text/plain": [
       "(__main__.C2, __main__.C1, object)"
      ]
     },
     "execution_count": 59,
     "metadata": {},
     "output_type": "execute_result"
    }
   ],
   "source": [
    "C2.__mro__"
   ]
  },
  {
   "cell_type": "code",
   "execution_count": 56,
   "id": "429e302d",
   "metadata": {},
   "outputs": [
    {
     "data": {
      "text/plain": [
       "__main__.C2"
      ]
     },
     "execution_count": 56,
     "metadata": {},
     "output_type": "execute_result"
    }
   ],
   "source": [
    "I.__class__"
   ]
  },
  {
   "cell_type": "code",
   "execution_count": 57,
   "id": "cbd34bb3",
   "metadata": {},
   "outputs": [
    {
     "data": {
      "text/plain": [
       "2"
      ]
     },
     "execution_count": 57,
     "metadata": {},
     "output_type": "execute_result"
    }
   ],
   "source": [
    "M2.attr2"
   ]
  },
  {
   "cell_type": "code",
   "execution_count": 60,
   "id": "ca01b61a",
   "metadata": {},
   "outputs": [
    {
     "data": {
      "text/plain": [
       "(1, 2)"
      ]
     },
     "execution_count": 60,
     "metadata": {},
     "output_type": "execute_result"
    }
   ],
   "source": [
    "M2.attr1, M2.attr2                        # Metaclass inherits names too!"
   ]
  },
  {
   "cell_type": "code",
   "execution_count": 61,
   "id": "84141ed1",
   "metadata": {},
   "outputs": [
    {
     "data": {
      "text/plain": [
       "__main__.C2"
      ]
     },
     "execution_count": 61,
     "metadata": {},
     "output_type": "execute_result"
    }
   ],
   "source": [
    "I.__class__                # Links followed at instance with no __bases__"
   ]
  },
  {
   "cell_type": "code",
   "execution_count": 62,
   "id": "7554b322",
   "metadata": {},
   "outputs": [
    {
     "data": {
      "text/plain": [
       "(__main__.C1,)"
      ]
     },
     "execution_count": 62,
     "metadata": {},
     "output_type": "execute_result"
    }
   ],
   "source": [
    "C2.__bases__"
   ]
  },
  {
   "cell_type": "code",
   "execution_count": 63,
   "id": "36a0cb02",
   "metadata": {},
   "outputs": [
    {
     "data": {
      "text/plain": [
       "__main__.M2"
      ]
     },
     "execution_count": 63,
     "metadata": {},
     "output_type": "execute_result"
    }
   ],
   "source": [
    "C2.__class__               # Links followed at class after __bases__"
   ]
  },
  {
   "cell_type": "code",
   "execution_count": 64,
   "id": "b8005f8c",
   "metadata": {},
   "outputs": [
    {
     "data": {
      "text/plain": [
       "(__main__.M1,)"
      ]
     },
     "execution_count": 64,
     "metadata": {},
     "output_type": "execute_result"
    }
   ],
   "source": [
    "M2.__bases__"
   ]
  },
  {
   "cell_type": "code",
   "execution_count": 65,
   "id": "0205bf3d",
   "metadata": {},
   "outputs": [
    {
     "data": {
      "text/plain": [
       "1"
      ]
     },
     "execution_count": 65,
     "metadata": {},
     "output_type": "execute_result"
    }
   ],
   "source": [
    "I.__class__.attr1          # Route inheritance to the class's meta tree"
   ]
  },
  {
   "cell_type": "code",
   "execution_count": 66,
   "id": "7a351b70",
   "metadata": {},
   "outputs": [
    {
     "ename": "AttributeError",
     "evalue": "'C2' object has no attribute 'attr1'",
     "output_type": "error",
     "traceback": [
      "\u001b[1;31m---------------------------------------------------------------------------\u001b[0m",
      "\u001b[1;31mAttributeError\u001b[0m                            Traceback (most recent call last)",
      "\u001b[1;32m~\\AppData\\Local\\Temp/ipykernel_15876/3304286101.py\u001b[0m in \u001b[0;36m<module>\u001b[1;34m\u001b[0m\n\u001b[1;32m----> 1\u001b[1;33m \u001b[0mI\u001b[0m\u001b[1;33m.\u001b[0m\u001b[0mattr1\u001b[0m                    \u001b[1;31m# Though class's __class__ not followed normally\u001b[0m\u001b[1;33m\u001b[0m\u001b[1;33m\u001b[0m\u001b[0m\n\u001b[0m",
      "\u001b[1;31mAttributeError\u001b[0m: 'C2' object has no attribute 'attr1'"
     ]
    }
   ],
   "source": [
    "I.attr1                    # Though class's __class__ not followed normally"
   ]
  },
  {
   "cell_type": "code",
   "execution_count": 67,
   "id": "a6f25243",
   "metadata": {},
   "outputs": [
    {
     "data": {
      "text/plain": [
       "type"
      ]
     },
     "execution_count": 67,
     "metadata": {},
     "output_type": "execute_result"
    }
   ],
   "source": [
    "M2.__class__                        # Both trees have MROs and instance links"
   ]
  },
  {
   "cell_type": "code",
   "execution_count": 68,
   "id": "f79d5bff",
   "metadata": {},
   "outputs": [
    {
     "data": {
      "text/plain": [
       "['C2', 'C1', 'object']"
      ]
     },
     "execution_count": 68,
     "metadata": {},
     "output_type": "execute_result"
    }
   ],
   "source": [
    "[x.__name__ for x in C2.__mro__]    # __bases__ tree from I.__class__"
   ]
  },
  {
   "cell_type": "code",
   "execution_count": 69,
   "id": "df496ec9",
   "metadata": {},
   "outputs": [
    {
     "data": {
      "text/plain": [
       "['M2', 'M1', 'type', 'object']"
      ]
     },
     "execution_count": 69,
     "metadata": {},
     "output_type": "execute_result"
    }
   ],
   "source": [
    "[x.__name__ for x in M2.__mro__]    # __bases__ tree from C2.__class__"
   ]
  },
  {
   "cell_type": "code",
   "execution_count": 70,
   "id": "fce04687",
   "metadata": {},
   "outputs": [
    {
     "name": "stdout",
     "output_type": "stream",
     "text": [
      "# Extend manually - adding new methods to classes\n",
      "\n",
      "class Client1:\n",
      "    def __init__(self, value):\n",
      "        self.value = value\n",
      "    def spam(self):\n",
      "        return self.value * 2\n",
      "\n",
      "class Client2:\n",
      "    value = 'ni?'\n",
      "\n",
      "def eggsfunc(obj):\n",
      "    return obj.value * 4\n",
      "\n",
      "def hamfunc(obj, value):\n",
      "    return value + 'ham'\n",
      "\n",
      "Client1.eggs = eggsfunc\n",
      "Client1.ham  = hamfunc\n",
      "\n",
      "Client2.eggs = eggsfunc\n",
      "Client2.ham  = hamfunc\n",
      "\n",
      "X = Client1('Ni!')\n",
      "print(X.spam())\n",
      "print(X.eggs())\n",
      "print(X.ham('bacon'))\n",
      "\n",
      "Y = Client2()\n",
      "print(Y.eggs())\n",
      "print(Y.ham('bacon'))\n"
     ]
    }
   ],
   "source": [
    "!cat extend-manual.py"
   ]
  },
  {
   "cell_type": "code",
   "execution_count": 71,
   "id": "48581ae8",
   "metadata": {},
   "outputs": [
    {
     "name": "stdout",
     "output_type": "stream",
     "text": [
      "Ni!Ni!\n",
      "Ni!Ni!Ni!Ni!\n",
      "baconham\n",
      "ni?ni?ni?ni?\n",
      "baconham\n"
     ]
    }
   ],
   "source": [
    "!python extend-manual.py"
   ]
  },
  {
   "cell_type": "code",
   "execution_count": 72,
   "id": "17e90890",
   "metadata": {},
   "outputs": [
    {
     "name": "stdout",
     "output_type": "stream",
     "text": [
      "# Extend with a metaclass - supports future changes better\n",
      "\n",
      "def eggsfunc(obj):\n",
      "    return obj.value * 4\n",
      "\n",
      "def hamfunc(obj, value):\n",
      "    return value + 'ham'\n",
      "\n",
      "class Extender(type):\n",
      "    def __new__(meta, classname, supers, classdict):\n",
      "        classdict['eggs'] = eggsfunc\n",
      "        classdict['ham']  = hamfunc\n",
      "        return type.__new__(meta, classname, supers, classdict)\n",
      "\n",
      "class Client1(metaclass=Extender):\n",
      "    def __init__(self, value):\n",
      "        self.value = value\n",
      "    def spam(self):\n",
      "        return self.value * 2\n",
      "\n",
      "class Client2(metaclass=Extender):\n",
      "    value = 'ni?'\n",
      "\n",
      "X = Client1('Ni!')\n",
      "print(X.spam())\n",
      "print(X.eggs())\n",
      "print(X.ham('bacon'))\n",
      "\n",
      "Y = Client2()\n",
      "print(Y.eggs())\n",
      "print(Y.ham('bacon'))\n"
     ]
    }
   ],
   "source": [
    "!cat extend-meta.py"
   ]
  },
  {
   "cell_type": "code",
   "execution_count": 73,
   "id": "2403c9a1",
   "metadata": {},
   "outputs": [
    {
     "name": "stdout",
     "output_type": "stream",
     "text": [
      "Ni!Ni!\n",
      "Ni!Ni!Ni!Ni!\n",
      "baconham\n",
      "ni?ni?ni?ni?\n",
      "baconham\n"
     ]
    }
   ],
   "source": [
    "!python extend-meta.py"
   ]
  },
  {
   "cell_type": "code",
   "execution_count": 74,
   "id": "a0da5f35",
   "metadata": {},
   "outputs": [
    {
     "name": "stdout",
     "output_type": "stream",
     "text": [
      "# Class decorator to trace external instance attribute fetches\n",
      "\n",
      "def Tracer(aClass):                                   # On @ decorator\n",
      "    class Wrapper:\n",
      "        def __init__(self, *args, **kargs):           # On instance creation\n",
      "            self.wrapped = aClass(*args, **kargs)     # Use enclosing scope name\n",
      "        def __getattr__(self, attrname):\n",
      "            print('Trace:', attrname)                 # Catches all but .wrapped\n",
      "            return getattr(self.wrapped, attrname)    # Delegate to wrapped object\n",
      "    return Wrapper\n",
      "\n",
      "@Tracer\n",
      "class Person:                                         # Person = Tracer(Person)\n",
      "    def __init__(self, name, hours, rate):            # Wrapper remembers Person\n",
      "        self.name = name\n",
      "        self.hours = hours\n",
      "        self.rate = rate                              # In-method fetch not traced\n",
      "    def pay(self):\n",
      "        return self.hours * self.rate\n",
      "\n",
      "bob = Person('Bob', 40, 50)                           # bob is really a Wrapper\n",
      "print(bob.name)                                       # Wrapper embeds a Person\n",
      "print(bob.pay())                                      # Triggers __getattr__\n"
     ]
    }
   ],
   "source": [
    "!cat manage-inst-deco.py"
   ]
  },
  {
   "cell_type": "code",
   "execution_count": 75,
   "id": "a7f9585d",
   "metadata": {},
   "outputs": [
    {
     "name": "stdout",
     "output_type": "stream",
     "text": [
      "Trace: name\n",
      "Bob\n",
      "Trace: pay\n",
      "2000\n"
     ]
    }
   ],
   "source": [
    "!python manage-inst-deco.py"
   ]
  },
  {
   "cell_type": "code",
   "execution_count": 76,
   "id": "00aeb7e7",
   "metadata": {},
   "outputs": [
    {
     "name": "stdout",
     "output_type": "stream",
     "text": [
      "# Manage instances like the prior example, but with a metaclass\n",
      "\n",
      "def Tracer(classname, supers, classdict):             # On class creation call\n",
      "    aClass = type(classname, supers, classdict)       # Make client class\n",
      "    class Wrapper:\n",
      "        def __init__(self, *args, **kargs):           # On instance creation\n",
      "            self.wrapped = aClass(*args, **kargs)\n",
      "        def __getattr__(self, attrname):\n",
      "            print('Trace:', attrname)                 # Catches all but .wrapped\n",
      "            return getattr(self.wrapped, attrname)    # Delegate to wrapped object\n",
      "    return Wrapper\n",
      "\n",
      "class Person(metaclass=Tracer):                       # Make Person with Tracer\n",
      "    def __init__(self, name, hours, rate):            # Wrapper remembers Person\n",
      "        self.name = name\n",
      "        self.hours = hours\n",
      "        self.rate = rate                              # In-method fetch not traced\n",
      "    def pay(self):\n",
      "        return self.hours * self.rate\n",
      "\n",
      "bob = Person('Bob', 40, 50)                           # bob is really a Wrapper\n",
      "print(bob.name)                                       # Wrapper embeds a Person\n",
      "print(bob.pay())                                      # Triggers __getattr__\n"
     ]
    }
   ],
   "source": [
    "!cat manage-inst-meta.py"
   ]
  },
  {
   "cell_type": "code",
   "execution_count": 77,
   "id": "625834b0",
   "metadata": {},
   "outputs": [
    {
     "name": "stdout",
     "output_type": "stream",
     "text": [
      "Trace: name\n",
      "Bob\n",
      "Trace: pay\n",
      "2000\n"
     ]
    }
   ],
   "source": [
    "!python manage-inst-meta.py"
   ]
  },
  {
   "cell_type": "code",
   "execution_count": 91,
   "id": "c30aa850",
   "metadata": {},
   "outputs": [
    {
     "name": "stdout",
     "output_type": "stream",
     "text": [
      "# File decotools.py: assorted decorator tools\n",
      "import time\n",
      "\n",
      "def tracer(func):                         # Use function, not class with __call__\n",
      "    calls = 0                             # Else self is decorator instance only\n",
      "    def onCall(*args, **kwargs):\n",
      "        nonlocal calls\n",
      "        calls += 1\n",
      "        print('call %s to %s' % (calls, func.__name__))\n",
      "        return func(*args, **kwargs)\n",
      "    return onCall\n",
      "\n",
      "def timer(label='', trace=True):                # On decorator args: retain args\n",
      "    def onDecorator(func):                      # On @: retain decorated func\n",
      "        def onCall(*args, **kargs):             # On calls: call original\n",
      "            start   = time.process_time()              # State is scopes + func attr\n",
      "            result  = func(*args, **kargs)\n",
      "            elapsed = time.process_time() - start\n",
      "            onCall.alltime += elapsed\n",
      "            if trace:\n",
      "                format = '%s%s: %.5f, %.5f'\n",
      "                values = (label, func.__name__, elapsed, onCall.alltime)\n",
      "                print(format % values)\n",
      "            return result\n",
      "        onCall.alltime = 0\n",
      "        return onCall\n",
      "    return onDecorator\n"
     ]
    }
   ],
   "source": [
    "!cat decotools.py"
   ]
  },
  {
   "cell_type": "code",
   "execution_count": 80,
   "id": "e57cf843",
   "metadata": {},
   "outputs": [
    {
     "name": "stdout",
     "output_type": "stream",
     "text": [
      "call 1 to __init__\n",
      "call 2 to __init__\n",
      "Bob Smith Sue Jones\n",
      "call 1 to giveRaise\n",
      "110000.00\n",
      "call 1 to lastName\n",
      "call 2 to lastName\n",
      "Smith Jones\n"
     ]
    }
   ],
   "source": [
    "from decotools import tracer\n",
    "\n",
    "class Person:\n",
    "    @tracer\n",
    "    def __init__(self, name, pay):\n",
    "        self.name = name\n",
    "        self.pay  = pay\n",
    "\n",
    "    @tracer\n",
    "    def giveRaise(self, percent):         # giveRaise = tracer(giverRaise)\n",
    "        self.pay *= (1.0 + percent)       # onCall remembers giveRaise\n",
    "\n",
    "    @tracer\n",
    "    def lastName(self):                   # lastName = tracer(lastName)\n",
    "        return self.name.split()[-1]\n",
    "\n",
    "bob = Person('Bob Smith', 50000)\n",
    "sue = Person('Sue Jones', 100000)\n",
    "print(bob.name, sue.name)\n",
    "sue.giveRaise(.10)                        # Runs onCall(sue, .10)\n",
    "print('%.2f' % sue.pay)\n",
    "print(bob.lastName(), sue.lastName())     # Runs onCall(bob), remembers lastName"
   ]
  },
  {
   "cell_type": "code",
   "execution_count": 81,
   "id": "eaff878f",
   "metadata": {},
   "outputs": [
    {
     "name": "stdout",
     "output_type": "stream",
     "text": [
      "from decotools import tracer\n",
      "\n",
      "class Person:\n",
      "    @tracer\n",
      "    def __init__(self, name, pay):\n",
      "        self.name = name\n",
      "        self.pay  = pay\n",
      "\n",
      "    @tracer\n",
      "    def giveRaise(self, percent):         # giveRaise = tracer(giverRaise)\n",
      "        self.pay *= (1.0 + percent)       # onCall remembers giveRaise\n",
      "\n",
      "    @tracer\n",
      "    def lastName(self):                   # lastName = tracer(lastName)\n",
      "        return self.name.split()[-1]\n",
      "\n",
      "bob = Person('Bob Smith', 50000)\n",
      "sue = Person('Sue Jones', 100000)\n",
      "print(bob.name, sue.name)\n",
      "sue.giveRaise(.10)                        # Runs onCall(sue, .10)\n",
      "print('%.2f' % sue.pay)\n",
      "print(bob.lastName(), sue.lastName())     # Runs onCall(bob), remembers lastName\n"
     ]
    }
   ],
   "source": [
    "!cat decoall-manual.py"
   ]
  },
  {
   "cell_type": "code",
   "execution_count": 82,
   "id": "14dcaf30",
   "metadata": {},
   "outputs": [
    {
     "name": "stdout",
     "output_type": "stream",
     "text": [
      "call 1 to __init__\n",
      "call 2 to __init__\n",
      "Bob Smith Sue Jones\n",
      "call 1 to giveRaise\n",
      "110000.00\n",
      "call 1 to lastName\n",
      "call 2 to lastName\n",
      "Smith Jones\n"
     ]
    }
   ],
   "source": [
    "!python decoall-manual.py"
   ]
  },
  {
   "cell_type": "code",
   "execution_count": 83,
   "id": "9fe2eb62",
   "metadata": {},
   "outputs": [
    {
     "name": "stdout",
     "output_type": "stream",
     "text": [
      "# Metaclass that adds tracing decorator to every method of a client class\n",
      "\n",
      "from types import FunctionType\n",
      "from decotools import tracer\n",
      "\n",
      "class MetaTrace(type):\n",
      "    def __new__(meta, classname, supers, classdict):\n",
      "        for attr, attrval in classdict.items():\n",
      "            if type(attrval) is FunctionType:                      # Method?\n",
      "                classdict[attr] = tracer(attrval)                  # Decorate it\n",
      "        return type.__new__(meta, classname, supers, classdict)    # Make class\n",
      "\n",
      "class Person(metaclass=MetaTrace):\n",
      "    def __init__(self, name, pay):\n",
      "        self.name = name\n",
      "        self.pay  = pay\n",
      "    def giveRaise(self, percent):\n",
      "        self.pay *= (1.0 + percent)\n",
      "    def lastName(self):\n",
      "        return self.name.split()[-1]\n",
      "\n",
      "bob = Person('Bob Smith', 50000)\n",
      "sue = Person('Sue Jones', 100000)\n",
      "print(bob.name, sue.name)\n",
      "sue.giveRaise(.10)\n",
      "print('%.2f' % sue.pay)\n",
      "print(bob.lastName(), sue.lastName())\n"
     ]
    }
   ],
   "source": [
    "!cat decoall-meta.py"
   ]
  },
  {
   "cell_type": "code",
   "execution_count": 84,
   "id": "32400f4f",
   "metadata": {},
   "outputs": [
    {
     "name": "stdout",
     "output_type": "stream",
     "text": [
      "call 1 to __init__\n",
      "call 2 to __init__\n",
      "Bob Smith Sue Jones\n",
      "call 1 to giveRaise\n",
      "110000.00\n",
      "call 1 to lastName\n",
      "call 2 to lastName\n",
      "Smith Jones\n"
     ]
    }
   ],
   "source": [
    "!python decoall-meta.py"
   ]
  },
  {
   "cell_type": "code",
   "execution_count": 85,
   "id": "7a3196dc",
   "metadata": {},
   "outputs": [
    {
     "name": "stdout",
     "output_type": "stream",
     "text": [
      "# Metaclass factory: apply any decorator to all methods of a class\n",
      "\n",
      "from types import FunctionType\n",
      "from decotools import tracer, timer\n",
      "\n",
      "def decorateAll(decorator):\n",
      "    class MetaDecorate(type):\n",
      "        def __new__(meta, classname, supers, classdict):\n",
      "            for attr, attrval in classdict.items():\n",
      "                if type(attrval) is FunctionType:\n",
      "                    classdict[attr] = decorator(attrval)\n",
      "            return type.__new__(meta, classname, supers, classdict)\n",
      "    return MetaDecorate\n",
      "\n",
      "class Person(metaclass=decorateAll(tracer)):       # Apply a decorator to all\n",
      "    def __init__(self, name, pay):\n",
      "        self.name = name\n",
      "        self.pay  = pay\n",
      "    def giveRaise(self, percent):\n",
      "        self.pay *= (1.0 + percent)\n",
      "    def lastName(self):\n",
      "        return self.name.split()[-1]\n",
      "\n",
      "bob = Person('Bob Smith', 50000)\n",
      "sue = Person('Sue Jones', 100000)\n",
      "print(bob.name, sue.name)\n",
      "sue.giveRaise(.10)\n",
      "print('%.2f' % sue.pay)\n",
      "print(bob.lastName(), sue.lastName())\n"
     ]
    }
   ],
   "source": [
    "!cat decoall-meta-any.py"
   ]
  },
  {
   "cell_type": "code",
   "execution_count": 86,
   "id": "05fbc901",
   "metadata": {},
   "outputs": [
    {
     "name": "stdout",
     "output_type": "stream",
     "text": [
      "call 1 to __init__\n",
      "call 2 to __init__\n",
      "Bob Smith Sue Jones\n",
      "call 1 to giveRaise\n",
      "110000.00\n",
      "call 1 to lastName\n",
      "call 2 to lastName\n",
      "Smith Jones\n"
     ]
    }
   ],
   "source": [
    "!python decoall-meta-any.py"
   ]
  },
  {
   "cell_type": "code",
   "execution_count": 87,
   "id": "113da45f",
   "metadata": {},
   "outputs": [
    {
     "name": "stdout",
     "output_type": "stream",
     "text": [
      "# Metaclass factory: apply any decorator to all methods of a class\n",
      "\n",
      "from types import FunctionType\n",
      "from decotools import tracer, timer\n",
      "\n",
      "def decorateAll(decorator):\n",
      "    class MetaDecorate(type):\n",
      "        def __new__(meta, classname, supers, classdict):\n",
      "            for attr, attrval in classdict.items():\n",
      "                if type(attrval) is FunctionType:\n",
      "                    classdict[attr] = decorator(attrval)\n",
      "            return type.__new__(meta, classname, supers, classdict)\n",
      "    return MetaDecorate\n",
      "\n",
      "#class Person(metaclass=decorateAll(tracer)):       # Apply a decorator to all\n",
      "#class Person(metaclass=decorateAll(timer())): \n",
      "\n",
      "class Person(metaclass=decorateAll(timer(label='**'))):    \n",
      "    def __init__(self, name, pay):\n",
      "        self.name = name\n",
      "        self.pay  = pay\n",
      "    def giveRaise(self, percent):\n",
      "        self.pay *= (1.0 + percent)\n",
      "    def lastName(self):\n",
      "        return self.name.split()[-1]\n",
      "\n",
      "bob = Person('Bob Smith', 50000)\n",
      "sue = Person('Sue Jones', 100000)\n",
      "print(bob.name, sue.name)\n",
      "sue.giveRaise(.10)\n",
      "print('%.2f' % sue.pay)\n",
      "print(bob.lastName(), sue.lastName())\n",
      "\n",
      "# If using timer: total time per method\n",
      "\n",
      "print('-'*40)\n",
      "print('%.5f' % Person.__init__.alltime)\n",
      "print('%.5f' % Person.giveRaise.alltime)\n",
      "print('%.5f' % Person.lastName.alltime)\n"
     ]
    }
   ],
   "source": [
    "!cat decoall-meta-any2.py"
   ]
  },
  {
   "cell_type": "code",
   "execution_count": 92,
   "id": "26ced318",
   "metadata": {},
   "outputs": [
    {
     "name": "stdout",
     "output_type": "stream",
     "text": [
      "**__init__: 0.00000, 0.00000\n",
      "**__init__: 0.00000, 0.00000\n",
      "Bob Smith Sue Jones\n",
      "**giveRaise: 0.00000, 0.00000\n",
      "110000.00\n",
      "**lastName: 0.00000, 0.00000\n",
      "**lastName: 0.00000, 0.00000\n",
      "Smith Jones\n",
      "----------------------------------------\n",
      "0.00000\n",
      "0.00000\n",
      "0.00000\n"
     ]
    }
   ],
   "source": [
    "!python decoall-meta-any2.py"
   ]
  },
  {
   "cell_type": "code",
   "execution_count": 89,
   "id": "43964e43",
   "metadata": {},
   "outputs": [
    {
     "name": "stdout",
     "output_type": "stream",
     "text": [
      "# Class decorator factory: apply any decorator to all methods of a class\n",
      "\n",
      "from types import FunctionType\n",
      "from decotools import tracer, timer\n",
      "\n",
      "def decorateAll(decorator):\n",
      "    def DecoDecorate(aClass):\n",
      "        for attr, attrval in aClass.__dict__.items():\n",
      "            if type(attrval) is FunctionType:\n",
      "                setattr(aClass, attr, decorator(attrval))        # Not __dict__\n",
      "        return aClass\n",
      "    return DecoDecorate\n",
      "\n",
      "@decorateAll(tracer)                          # Use a class decorator\n",
      "class Person:                                 # Applies func decorator to methods\n",
      "    def __init__(self, name, pay):            # Person = decorateAll(..)(Person)\n",
      "        self.name = name                      # Person = DecoDecorate(Person)\n",
      "        self.pay  = pay\n",
      "    def giveRaise(self, percent):\n",
      "        self.pay *= (1.0 + percent)\n",
      "    def lastName(self):\n",
      "        return self.name.split()[-1]\n",
      "\n",
      "bob = Person('Bob Smith', 50000)\n",
      "sue = Person('Sue Jones', 100000)\n",
      "print(bob.name, sue.name)\n",
      "sue.giveRaise(.10)\n",
      "print('%.2f' % sue.pay)\n",
      "print(bob.lastName(), sue.lastName())\n"
     ]
    }
   ],
   "source": [
    "!cat decoall-deco-any.py"
   ]
  },
  {
   "cell_type": "code",
   "execution_count": 90,
   "id": "3410fbe6",
   "metadata": {},
   "outputs": [
    {
     "name": "stdout",
     "output_type": "stream",
     "text": [
      "call 1 to __init__\n",
      "call 2 to __init__\n",
      "Bob Smith Sue Jones\n",
      "call 1 to giveRaise\n",
      "110000.00\n",
      "call 1 to lastName\n",
      "call 2 to lastName\n",
      "Smith Jones\n"
     ]
    }
   ],
   "source": [
    "!python decoall-deco-any.py"
   ]
  },
  {
   "cell_type": "code",
   "execution_count": 93,
   "id": "125e5d67",
   "metadata": {},
   "outputs": [
    {
     "name": "stdout",
     "output_type": "stream",
     "text": [
      "# Class decorator factory: apply any decorator to all methods of a class\n",
      "\n",
      "from types import FunctionType\n",
      "from decotools import tracer, timer\n",
      "\n",
      "def decorateAll(decorator):\n",
      "    def DecoDecorate(aClass):\n",
      "        for attr, attrval in aClass.__dict__.items():\n",
      "            if type(attrval) is FunctionType:\n",
      "                setattr(aClass, attr, decorator(attrval))        # Not __dict__\n",
      "        return aClass\n",
      "    return DecoDecorate\n",
      "\n",
      "#@decorateAll(tracer)                          # Use a class decorator\n",
      "\n",
      "@decorateAll(timer(label='@@'))  \n",
      "class Person:                                 # Applies func decorator to methods\n",
      "    def __init__(self, name, pay):            # Person = decorateAll(..)(Person)\n",
      "        self.name = name                      # Person = DecoDecorate(Person)\n",
      "        self.pay  = pay\n",
      "    def giveRaise(self, percent):\n",
      "        self.pay *= (1.0 + percent)\n",
      "    def lastName(self):\n",
      "        return self.name.split()[-1]\n",
      "\n",
      "bob = Person('Bob Smith', 50000)\n",
      "sue = Person('Sue Jones', 100000)\n",
      "print(bob.name, sue.name)\n",
      "sue.giveRaise(.10)\n",
      "print('%.2f' % sue.pay)\n",
      "print(bob.lastName(), sue.lastName())\n",
      "\n",
      "# If using timer: total time per method\n",
      "\n",
      "print('-'*40)\n",
      "print('%.5f' % Person.__init__.alltime)\n",
      "print('%.5f' % Person.giveRaise.alltime)\n",
      "print('%.5f' % Person.lastName.alltime)\n"
     ]
    }
   ],
   "source": [
    "!cat decoall-deco-any2.py"
   ]
  },
  {
   "cell_type": "code",
   "execution_count": 8,
   "id": "43d619c1",
   "metadata": {},
   "outputs": [
    {
     "name": "stdout",
     "output_type": "stream",
     "text": [
      "@@__init__: 0.00000, 0.00000\n",
      "@@__init__: 0.00000, 0.00000\n",
      "Bob Smith Sue Jones\n",
      "@@giveRaise: 0.00000, 0.00000\n",
      "110000.00\n",
      "@@lastName: 0.00000, 0.00000\n",
      "@@lastName: 0.00000, 0.00000\n",
      "Smith Jones\n",
      "----------------------------------------\n",
      "0.00000\n",
      "0.00000\n",
      "0.00000\n"
     ]
    }
   ],
   "source": [
    "!python decoall-deco-any2.py"
   ]
  },
  {
   "cell_type": "markdown",
   "id": "cdff6c69",
   "metadata": {},
   "source": [
    "## Chapter 41. All Good Things"
   ]
  },
  {
   "cell_type": "code",
   "execution_count": 6,
   "id": "508f2ba7",
   "metadata": {},
   "outputs": [
    {
     "name": "stdout",
     "output_type": "stream",
     "text": [
      "#!/usr/bin/python\n",
      "\"\"\"\n",
      "File certificate.py: a Python 2.X and 3.X script.\n",
      "Generate a bare-bones class completion certificate: printed,\n",
      "and saved in text and html files displayed in a web browser. \n",
      "\"\"\"\n",
      "from __future__ import print_function             # 2.X compatibility\n",
      "import time, sys, webbrowser\n",
      "\n",
      "if sys.version_info[0] == 2:                      # 2.X compatibility\n",
      "    input = raw_input\n",
      "    import cgi\n",
      "    htmlescape = cgi.escape\n",
      "else:\n",
      "    import html\n",
      "    htmlescape = html.escape\n",
      "    \n",
      "maxline  = 60                         # For seperator lines\n",
      "browser  = True                       # Display in a browser\n",
      "saveto   = 'Certificate.txt'          # Output file names\n",
      "template = \"\"\"\n",
      "%s\n",
      "\n",
      " ===> Official Certificate <===\n",
      "\n",
      "Date: %s\n",
      "\n",
      "This certifies that:\n",
      "\n",
      "\\t%s\n",
      "\n",
      "has survived the massive tome:\n",
      "\n",
      "\\t%s\n",
      "\n",
      "and is now entitled to all privileges thereof, including\n",
      "the right to proceed on to learning how to develop Web\n",
      "sites, desktop GUIs, scientific models, and assorted Apps,\n",
      "with the possible assistance of follow-up applications\n",
      "books such as Programming Python (shameless plug intended).\n",
      "\n",
      "--Mark Lutz, Instructor\n",
      "\n",
      "(Note: certificate void where obtained by skipping ahead.)\n",
      "\n",
      "%s\n",
      "\"\"\"\n",
      "\n",
      "# Interact, setup\n",
      "for c in 'Congratulations!'.upper():\n",
      "    print(c, end=' ')\n",
      "    sys.stdout.flush()    # Else some shells wait for \\n\n",
      "    time.sleep(0.25)\n",
      "print()\n",
      "\n",
      "date = time.asctime()\n",
      "name = input('Enter your name: ').strip() or 'An unknown reader'\n",
      "sept = '*' * maxline\n",
      "book = 'Learning Python 5th Edition'\n",
      "\n",
      "# Make text file version\n",
      "file = open(saveto, 'w') \n",
      "text = template % (sept, date, name, book, sept)\n",
      "print(text, file=file)\n",
      "file.close()\n",
      "\n",
      "# Make html file version\n",
      "htmlto = saveto.replace('.txt', '.html')\n",
      "file = open(htmlto, 'w')\n",
      "\n",
      "tags = text.replace(sept,   '<hr>')                   # Insert a few tags\n",
      "tags = tags.replace('===>', '<h1 align=center>')\n",
      "tags = tags.replace('<===', '</h1>')\n",
      "\n",
      "tags = tags.split('\\n')                               # Line-by-line mods\n",
      "tags = ['<p>' if line == ''\n",
      "            else line for line in tags]\n",
      "tags = ['<i>%s</i>' % htmlescape(line) if line[:1] == '\\t'\n",
      "            else line for line in tags]\n",
      "tags = '\\n'.join(tags)\n",
      "\n",
      "link = '<i><a href=\"http://www.rmi.net/~lutz\">Book support site</a></i>\\n'\n",
      "foot = '<table>\\n<td><img src=\"ora-lp.jpg\" hspace=5>\\n<td>%s</table>\\n' % link\n",
      "tags = '<html><body bgcolor=beige>' + tags + foot + '</body></html>'\n",
      "\n",
      "print(tags, file=file)\n",
      "file.close()\n",
      "\n",
      "# Display results\n",
      "print('[File: %s]' % saveto, end='')\n",
      "print('\\n' * 2, open(saveto).read())\n",
      "\n",
      "if browser:\n",
      "    webbrowser.open(saveto, new=True)\n",
      "    webbrowser.open(htmlto, new=False)\n",
      "\n",
      "if sys.platform.startswith('win'):\n",
      "    input('[Press Enter]')  # Keep window open if clicked on Windows\n"
     ]
    }
   ],
   "source": [
    "!cat certificate.py"
   ]
  }
 ],
 "metadata": {
  "kernelspec": {
   "display_name": "Python 3 (ipykernel)",
   "language": "python",
   "name": "python3"
  },
  "language_info": {
   "codemirror_mode": {
    "name": "ipython",
    "version": 3
   },
   "file_extension": ".py",
   "mimetype": "text/x-python",
   "name": "python",
   "nbconvert_exporter": "python",
   "pygments_lexer": "ipython3",
   "version": "3.8.5"
  }
 },
 "nbformat": 4,
 "nbformat_minor": 5
}
