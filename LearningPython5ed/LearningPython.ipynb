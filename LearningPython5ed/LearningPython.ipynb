{
 "cells": [
  {
   "cell_type": "markdown",
   "id": "99339383",
   "metadata": {},
   "source": [
    "## CHAPTER 7 String Fundamentals"
   ]
  },
  {
   "cell_type": "code",
   "execution_count": 1,
   "id": "241d4313",
   "metadata": {},
   "outputs": [
    {
     "data": {
      "text/plain": [
       "['D:\\\\books\\\\python\\\\0. Learning Python',\n",
       " 'C:\\\\Users\\\\lidan\\\\miniconda3\\\\python38.zip',\n",
       " 'C:\\\\Users\\\\lidan\\\\miniconda3\\\\DLLs',\n",
       " 'C:\\\\Users\\\\lidan\\\\miniconda3\\\\lib',\n",
       " 'C:\\\\Users\\\\lidan\\\\miniconda3',\n",
       " '',\n",
       " 'C:\\\\Users\\\\lidan\\\\AppData\\\\Roaming\\\\Python\\\\Python38\\\\site-packages',\n",
       " 'C:\\\\Users\\\\lidan\\\\miniconda3\\\\lib\\\\site-packages',\n",
       " 'C:\\\\Users\\\\lidan\\\\miniconda3\\\\lib\\\\site-packages\\\\magic_impute-2.0.4-py3.8.egg',\n",
       " 'd:\\\\r\\\\seurat\\\\etv4-13ewt\\\\batchglm',\n",
       " 'C:\\\\Users\\\\lidan\\\\miniconda3\\\\lib\\\\site-packages\\\\seqc-0.2.0-py3.8.egg',\n",
       " 'C:\\\\Users\\\\lidan\\\\miniconda3\\\\lib\\\\site-packages\\\\weasyprint-56.1-py3.8.egg',\n",
       " 'C:\\\\Users\\\\lidan\\\\miniconda3\\\\lib\\\\site-packages\\\\cairocffi-1.3.0-py3.8.egg',\n",
       " 'C:\\\\Users\\\\lidan\\\\miniconda3\\\\lib\\\\site-packages\\\\win32',\n",
       " 'C:\\\\Users\\\\lidan\\\\miniconda3\\\\lib\\\\site-packages\\\\win32\\\\lib',\n",
       " 'C:\\\\Users\\\\lidan\\\\miniconda3\\\\lib\\\\site-packages\\\\Pythonwin',\n",
       " 'C:\\\\Users\\\\lidan\\\\miniconda3\\\\lib\\\\site-packages\\\\IPython\\\\extensions',\n",
       " 'C:\\\\Users\\\\lidan\\\\.ipython']"
      ]
     },
     "execution_count": 1,
     "metadata": {},
     "output_type": "execute_result"
    }
   ],
   "source": [
    "import sys\n",
    "sys.path"
   ]
  },
  {
   "cell_type": "code",
   "execution_count": 2,
   "id": "53876f32",
   "metadata": {},
   "outputs": [],
   "source": [
    "sys.path.insert(1, 'D:\\\\books\\\\python\\\\0. Learning Python\\code')"
   ]
  },
  {
   "cell_type": "code",
   "execution_count": 3,
   "id": "a97792f5",
   "metadata": {},
   "outputs": [
    {
     "data": {
      "text/plain": [
       "['D:\\\\books\\\\python\\\\0. Learning Python',\n",
       " 'D:\\\\books\\\\python\\\\0. Learning Python\\\\code',\n",
       " 'C:\\\\Users\\\\lidan\\\\miniconda3\\\\python38.zip',\n",
       " 'C:\\\\Users\\\\lidan\\\\miniconda3\\\\DLLs',\n",
       " 'C:\\\\Users\\\\lidan\\\\miniconda3\\\\lib',\n",
       " 'C:\\\\Users\\\\lidan\\\\miniconda3',\n",
       " '',\n",
       " 'C:\\\\Users\\\\lidan\\\\AppData\\\\Roaming\\\\Python\\\\Python38\\\\site-packages',\n",
       " 'C:\\\\Users\\\\lidan\\\\miniconda3\\\\lib\\\\site-packages',\n",
       " 'C:\\\\Users\\\\lidan\\\\miniconda3\\\\lib\\\\site-packages\\\\magic_impute-2.0.4-py3.8.egg',\n",
       " 'd:\\\\r\\\\seurat\\\\etv4-13ewt\\\\batchglm',\n",
       " 'C:\\\\Users\\\\lidan\\\\miniconda3\\\\lib\\\\site-packages\\\\seqc-0.2.0-py3.8.egg',\n",
       " 'C:\\\\Users\\\\lidan\\\\miniconda3\\\\lib\\\\site-packages\\\\weasyprint-56.1-py3.8.egg',\n",
       " 'C:\\\\Users\\\\lidan\\\\miniconda3\\\\lib\\\\site-packages\\\\cairocffi-1.3.0-py3.8.egg',\n",
       " 'C:\\\\Users\\\\lidan\\\\miniconda3\\\\lib\\\\site-packages\\\\win32',\n",
       " 'C:\\\\Users\\\\lidan\\\\miniconda3\\\\lib\\\\site-packages\\\\win32\\\\lib',\n",
       " 'C:\\\\Users\\\\lidan\\\\miniconda3\\\\lib\\\\site-packages\\\\Pythonwin',\n",
       " 'C:\\\\Users\\\\lidan\\\\miniconda3\\\\lib\\\\site-packages\\\\IPython\\\\extensions',\n",
       " 'C:\\\\Users\\\\lidan\\\\.ipython']"
      ]
     },
     "execution_count": 3,
     "metadata": {},
     "output_type": "execute_result"
    }
   ],
   "source": [
    "sys.path"
   ]
  },
  {
   "cell_type": "code",
   "execution_count": 1,
   "id": "c20916e2",
   "metadata": {},
   "outputs": [
    {
     "data": {
      "text/plain": [
       "'3.14, 42 and [1, 2]'"
      ]
     },
     "execution_count": 1,
     "metadata": {},
     "output_type": "execute_result"
    }
   ],
   "source": [
    "'%s, %s and %s' % (3.14, 42, [1, 2])"
   ]
  },
  {
   "cell_type": "code",
   "execution_count": 2,
   "id": "9c839c72",
   "metadata": {},
   "outputs": [
    {
     "data": {
      "text/plain": [
       "'My laptop runs win32'"
      ]
     },
     "execution_count": 2,
     "metadata": {},
     "output_type": "execute_result"
    }
   ],
   "source": [
    "import sys\n",
    "'My %(kind)s runs %(platform)s' % {'kind': 'laptop', 'platform': sys.platform}"
   ]
  },
  {
   "cell_type": "code",
   "execution_count": 3,
   "id": "04531e40",
   "metadata": {},
   "outputs": [
    {
     "data": {
      "text/plain": [
       "'My laptop runs win32'"
      ]
     },
     "execution_count": 3,
     "metadata": {},
     "output_type": "execute_result"
    }
   ],
   "source": [
    "'My %(kind)s runs %(platform)s' % dict(kind='laptop', platform=sys.platform)"
   ]
  },
  {
   "cell_type": "code",
   "execution_count": 4,
   "id": "ca6db2a8",
   "metadata": {},
   "outputs": [
    {
     "data": {
      "text/plain": [
       "'spam       =   123.4567'"
      ]
     },
     "execution_count": 4,
     "metadata": {},
     "output_type": "execute_result"
    }
   ],
   "source": [
    "'%-10s = %10s' % ('spam', 123.4567)"
   ]
  },
  {
   "cell_type": "code",
   "execution_count": 7,
   "id": "ec9bee1b",
   "metadata": {},
   "outputs": [
    {
     "data": {
      "text/plain": [
       "'spam       =   123.4567'"
      ]
     },
     "execution_count": 7,
     "metadata": {},
     "output_type": "execute_result"
    }
   ],
   "source": [
    "'%-10s = %10s' % ('spam', '123.4567')"
   ]
  },
  {
   "cell_type": "code",
   "execution_count": 10,
   "id": "df544247",
   "metadata": {},
   "outputs": [
    {
     "data": {
      "text/plain": [
       "'spam       = 0000123.46'"
      ]
     },
     "execution_count": 10,
     "metadata": {},
     "output_type": "execute_result"
    }
   ],
   "source": [
    "'%-10s = %010.2f' % ('spam', 123.4567)"
   ]
  },
  {
   "cell_type": "code",
   "execution_count": 5,
   "id": "70827e17",
   "metadata": {},
   "outputs": [
    {
     "data": {
      "text/plain": [
       "'spam       =       spam'"
      ]
     },
     "execution_count": 5,
     "metadata": {},
     "output_type": "execute_result"
    }
   ],
   "source": [
    "'%-10s = %+10s' % ('spam', 'spam')"
   ]
  },
  {
   "cell_type": "code",
   "execution_count": 6,
   "id": "7234ed9e",
   "metadata": {},
   "outputs": [
    {
     "data": {
      "text/plain": [
       "'spam       =       spam'"
      ]
     },
     "execution_count": 6,
     "metadata": {},
     "output_type": "execute_result"
    }
   ],
   "source": [
    "'%-10s = %10s' % ('spam', 'spam')"
   ]
  },
  {
   "cell_type": "code",
   "execution_count": 11,
   "id": "adb4b164",
   "metadata": {},
   "outputs": [
    {
     "data": {
      "text/plain": [
       "'My laptop   runs    win32'"
      ]
     },
     "execution_count": 11,
     "metadata": {},
     "output_type": "execute_result"
    }
   ],
   "source": [
    "'My {1[kind]:<8} runs {0.platform:>8}'.format(sys, {'kind': 'laptop'})"
   ]
  },
  {
   "cell_type": "code",
   "execution_count": 12,
   "id": "dc4dca00",
   "metadata": {},
   "outputs": [
    {
     "data": {
      "text/plain": [
       "'My laptop   runs    win32'"
      ]
     },
     "execution_count": 12,
     "metadata": {},
     "output_type": "execute_result"
    }
   ],
   "source": [
    "data = dict(platform=sys.platform, kind='laptop')\n",
    "'My {kind:<8} runs {platform:>8}'.format(**data)"
   ]
  },
  {
   "cell_type": "code",
   "execution_count": 13,
   "id": "d178866b",
   "metadata": {},
   "outputs": [
    {
     "data": {
      "text/plain": [
       "'My laptop   runs    win32'"
      ]
     },
     "execution_count": 13,
     "metadata": {},
     "output_type": "execute_result"
    }
   ],
   "source": [
    "'My %(kind)-8s runs %(platform)8s' % data"
   ]
  },
  {
   "cell_type": "markdown",
   "id": "729bf6ed",
   "metadata": {},
   "source": [
    "## CHAPTER 8 Lists and Dictionaries"
   ]
  },
  {
   "cell_type": "code",
   "execution_count": 8,
   "id": "5d497264",
   "metadata": {},
   "outputs": [
    {
     "data": {
      "text/plain": [
       "['__add__',\n",
       " '__class__',\n",
       " '__contains__',\n",
       " '__delattr__',\n",
       " '__delitem__',\n",
       " '__dir__',\n",
       " '__doc__',\n",
       " '__eq__',\n",
       " '__format__',\n",
       " '__ge__',\n",
       " '__getattribute__',\n",
       " '__getitem__',\n",
       " '__gt__',\n",
       " '__hash__',\n",
       " '__iadd__',\n",
       " '__imul__',\n",
       " '__init__',\n",
       " '__init_subclass__',\n",
       " '__iter__',\n",
       " '__le__',\n",
       " '__len__',\n",
       " '__lt__',\n",
       " '__mul__',\n",
       " '__ne__',\n",
       " '__new__',\n",
       " '__reduce__',\n",
       " '__reduce_ex__',\n",
       " '__repr__',\n",
       " '__reversed__',\n",
       " '__rmul__',\n",
       " '__setattr__',\n",
       " '__setitem__',\n",
       " '__sizeof__',\n",
       " '__str__',\n",
       " '__subclasshook__',\n",
       " 'append',\n",
       " 'clear',\n",
       " 'copy',\n",
       " 'count',\n",
       " 'extend',\n",
       " 'index',\n",
       " 'insert',\n",
       " 'pop',\n",
       " 'remove',\n",
       " 'reverse',\n",
       " 'sort']"
      ]
     },
     "execution_count": 8,
     "metadata": {},
     "output_type": "execute_result"
    }
   ],
   "source": [
    "dir(list)"
   ]
  },
  {
   "cell_type": "code",
   "execution_count": 4,
   "id": "57b2f79b",
   "metadata": {},
   "outputs": [
    {
     "data": {
      "text/plain": [
       "['append',\n",
       " 'clear',\n",
       " 'copy',\n",
       " 'count',\n",
       " 'extend',\n",
       " 'index',\n",
       " 'insert',\n",
       " 'pop',\n",
       " 'remove',\n",
       " 'reverse',\n",
       " 'sort']"
      ]
     },
     "execution_count": 4,
     "metadata": {},
     "output_type": "execute_result"
    }
   ],
   "source": [
    "[a for a in dir(list) if not a.startswith('__')]"
   ]
  },
  {
   "cell_type": "markdown",
   "id": "3290f8ea",
   "metadata": {},
   "source": [
    "## CHAPTER 17 Scopes"
   ]
  },
  {
   "cell_type": "code",
   "execution_count": 2,
   "id": "a79118fa",
   "metadata": {},
   "outputs": [],
   "source": [
    "def parent_function():\n",
    "    y=10\n",
    "    def child_function():\n",
    "        print(y)\n",
    "    child_function()"
   ]
  },
  {
   "cell_type": "code",
   "execution_count": 3,
   "id": "f6a867d7",
   "metadata": {},
   "outputs": [
    {
     "name": "stdout",
     "output_type": "stream",
     "text": [
      "10\n"
     ]
    }
   ],
   "source": [
    "parent_function()"
   ]
  },
  {
   "cell_type": "code",
   "execution_count": 6,
   "id": "c6b847e5",
   "metadata": {},
   "outputs": [],
   "source": [
    "def receiving_function(f):\n",
    "    f()\n",
    "\n",
    "def parent_function():\n",
    "    y = 10\n",
    "\n",
    "    def child_function():\n",
    "        print(y)\n",
    "        \n",
    "    receiving_function(child_function)"
   ]
  },
  {
   "cell_type": "code",
   "execution_count": 7,
   "id": "246d4263",
   "metadata": {},
   "outputs": [
    {
     "name": "stdout",
     "output_type": "stream",
     "text": [
      "10\n"
     ]
    }
   ],
   "source": [
    "receiving_function(parent_function)"
   ]
  },
  {
   "cell_type": "code",
   "execution_count": 9,
   "id": "7c3ad444",
   "metadata": {},
   "outputs": [
    {
     "data": {
      "text/plain": [
       "['ArithmeticError',\n",
       " 'AssertionError',\n",
       " 'AttributeError',\n",
       " 'BaseException',\n",
       " 'BlockingIOError',\n",
       " 'BrokenPipeError',\n",
       " 'BufferError',\n",
       " 'BytesWarning',\n",
       " 'ChildProcessError',\n",
       " 'ConnectionAbortedError',\n",
       " 'ConnectionError',\n",
       " 'ConnectionRefusedError',\n",
       " 'ConnectionResetError',\n",
       " 'DeprecationWarning',\n",
       " 'EOFError',\n",
       " 'Ellipsis',\n",
       " 'EnvironmentError',\n",
       " 'Exception',\n",
       " 'False',\n",
       " 'FileExistsError',\n",
       " 'FileNotFoundError',\n",
       " 'FloatingPointError',\n",
       " 'FutureWarning',\n",
       " 'GeneratorExit',\n",
       " 'IOError',\n",
       " 'ImportError',\n",
       " 'ImportWarning',\n",
       " 'IndentationError',\n",
       " 'IndexError',\n",
       " 'InterruptedError',\n",
       " 'IsADirectoryError',\n",
       " 'KeyError',\n",
       " 'KeyboardInterrupt',\n",
       " 'LookupError',\n",
       " 'MemoryError',\n",
       " 'ModuleNotFoundError',\n",
       " 'NameError',\n",
       " 'None',\n",
       " 'NotADirectoryError',\n",
       " 'NotImplemented',\n",
       " 'NotImplementedError',\n",
       " 'OSError',\n",
       " 'OverflowError',\n",
       " 'PendingDeprecationWarning',\n",
       " 'PermissionError',\n",
       " 'ProcessLookupError',\n",
       " 'RecursionError',\n",
       " 'ReferenceError',\n",
       " 'ResourceWarning',\n",
       " 'RuntimeError',\n",
       " 'RuntimeWarning',\n",
       " 'StopAsyncIteration',\n",
       " 'StopIteration',\n",
       " 'SyntaxError',\n",
       " 'SyntaxWarning',\n",
       " 'SystemError',\n",
       " 'SystemExit',\n",
       " 'TabError',\n",
       " 'TimeoutError',\n",
       " 'True',\n",
       " 'TypeError',\n",
       " 'UnboundLocalError',\n",
       " 'UnicodeDecodeError',\n",
       " 'UnicodeEncodeError',\n",
       " 'UnicodeError',\n",
       " 'UnicodeTranslateError',\n",
       " 'UnicodeWarning',\n",
       " 'UserWarning',\n",
       " 'ValueError',\n",
       " 'Warning',\n",
       " 'WindowsError',\n",
       " 'ZeroDivisionError',\n",
       " '__IPYTHON__',\n",
       " '__build_class__',\n",
       " '__debug__',\n",
       " '__doc__',\n",
       " '__import__',\n",
       " '__loader__',\n",
       " '__name__',\n",
       " '__package__',\n",
       " '__spec__',\n",
       " 'abs',\n",
       " 'all',\n",
       " 'any',\n",
       " 'ascii',\n",
       " 'bin',\n",
       " 'bool',\n",
       " 'breakpoint',\n",
       " 'bytearray',\n",
       " 'bytes',\n",
       " 'callable',\n",
       " 'chr',\n",
       " 'classmethod',\n",
       " 'compile',\n",
       " 'complex',\n",
       " 'copyright',\n",
       " 'credits',\n",
       " 'delattr',\n",
       " 'dict',\n",
       " 'dir',\n",
       " 'display',\n",
       " 'divmod',\n",
       " 'enumerate',\n",
       " 'eval',\n",
       " 'exec',\n",
       " 'execfile',\n",
       " 'filter',\n",
       " 'float',\n",
       " 'format',\n",
       " 'frozenset',\n",
       " 'get_ipython',\n",
       " 'getattr',\n",
       " 'globals',\n",
       " 'hasattr',\n",
       " 'hash',\n",
       " 'help',\n",
       " 'hex',\n",
       " 'id',\n",
       " 'input',\n",
       " 'int',\n",
       " 'isinstance',\n",
       " 'issubclass',\n",
       " 'iter',\n",
       " 'len',\n",
       " 'license',\n",
       " 'list',\n",
       " 'locals',\n",
       " 'map',\n",
       " 'max',\n",
       " 'memoryview',\n",
       " 'min',\n",
       " 'next',\n",
       " 'object',\n",
       " 'oct',\n",
       " 'open',\n",
       " 'ord',\n",
       " 'pow',\n",
       " 'print',\n",
       " 'property',\n",
       " 'range',\n",
       " 'repr',\n",
       " 'reversed',\n",
       " 'round',\n",
       " 'runfile',\n",
       " 'set',\n",
       " 'setattr',\n",
       " 'slice',\n",
       " 'sorted',\n",
       " 'staticmethod',\n",
       " 'str',\n",
       " 'sum',\n",
       " 'super',\n",
       " 'tuple',\n",
       " 'type',\n",
       " 'vars',\n",
       " 'zip']"
      ]
     },
     "execution_count": 9,
     "metadata": {},
     "output_type": "execute_result"
    }
   ],
   "source": [
    "import builtins\n",
    "dir(builtins)"
   ]
  },
  {
   "cell_type": "code",
   "execution_count": 10,
   "id": "7b334b76",
   "metadata": {},
   "outputs": [
    {
     "data": {
      "text/plain": [
       "156"
      ]
     },
     "execution_count": 10,
     "metadata": {},
     "output_type": "execute_result"
    }
   ],
   "source": [
    "len(dir(builtins))\n"
   ]
  },
  {
   "cell_type": "code",
   "execution_count": 12,
   "id": "e9ed9557",
   "metadata": {},
   "outputs": [
    {
     "name": "stdout",
     "output_type": "stream",
     "text": [
      "88\n"
     ]
    }
   ],
   "source": [
    "X = 88 # Global X\n",
    "def func():\n",
    "    X = 99 # local X\n",
    "func()\n",
    "print(X)"
   ]
  },
  {
   "cell_type": "code",
   "execution_count": 11,
   "id": "ce9cbae4",
   "metadata": {},
   "outputs": [
    {
     "name": "stdout",
     "output_type": "stream",
     "text": [
      "99\n"
     ]
    }
   ],
   "source": [
    "X = 88 # Global X\n",
    "def func():\n",
    "    global X\n",
    "    X = 99 # Global X: outside def\n",
    "func()\n",
    "print(X)"
   ]
  },
  {
   "cell_type": "code",
   "execution_count": 19,
   "id": "33d39596",
   "metadata": {},
   "outputs": [
    {
     "name": "stdout",
     "output_type": "stream",
     "text": [
      "3\n",
      "3\n"
     ]
    }
   ],
   "source": [
    "y, z = 1, 2 # Global variables in module\n",
    "def all_global():\n",
    "    global x # Declare globals assigned\n",
    "    x = y + z # No need to declare y, z: LEGB rule\n",
    "    print(x)\n",
    "\n",
    "all_global(); print(x)"
   ]
  },
  {
   "cell_type": "code",
   "execution_count": 1,
   "id": "ec7be2a7",
   "metadata": {},
   "outputs": [
    {
     "data": {
      "text/plain": [
       "99"
      ]
     },
     "execution_count": 1,
     "metadata": {},
     "output_type": "execute_result"
    }
   ],
   "source": [
    "X = 99\n",
    "def func1():\n",
    "    global X\n",
    "    X = 88\n",
    "def func2():\n",
    "    global X\n",
    "    X = 77\n",
    "X"
   ]
  },
  {
   "cell_type": "code",
   "execution_count": 2,
   "id": "e7d77d87",
   "metadata": {},
   "outputs": [
    {
     "data": {
      "text/plain": [
       "88"
      ]
     },
     "execution_count": 2,
     "metadata": {},
     "output_type": "execute_result"
    }
   ],
   "source": [
    "func1()\n",
    "X"
   ]
  },
  {
   "cell_type": "code",
   "execution_count": 3,
   "id": "edd07c7a",
   "metadata": {},
   "outputs": [
    {
     "data": {
      "text/plain": [
       "77"
      ]
     },
     "execution_count": 3,
     "metadata": {},
     "output_type": "execute_result"
    }
   ],
   "source": [
    "func2()\n",
    "X"
   ]
  },
  {
   "cell_type": "code",
   "execution_count": 4,
   "id": "b43c1db2",
   "metadata": {},
   "outputs": [
    {
     "data": {
      "text/plain": [
       "77"
      ]
     },
     "execution_count": 4,
     "metadata": {},
     "output_type": "execute_result"
    }
   ],
   "source": [
    "X"
   ]
  },
  {
   "cell_type": "code",
   "execution_count": 5,
   "id": "27f363e2",
   "metadata": {},
   "outputs": [
    {
     "name": "stdout",
     "output_type": "stream",
     "text": [
      "99\n",
      "88\n"
     ]
    }
   ],
   "source": [
    "# second.py\n",
    "import first\n",
    "print(first.X); first.setX(88); print(first.X)"
   ]
  },
  {
   "cell_type": "code",
   "execution_count": 6,
   "id": "3194f73a",
   "metadata": {},
   "outputs": [
    {
     "name": "stdout",
     "output_type": "stream",
     "text": [
      "88\n",
      "77\n"
     ]
    }
   ],
   "source": [
    "print(first.X); print(X)"
   ]
  },
  {
   "cell_type": "code",
   "execution_count": null,
   "id": "7765b542",
   "metadata": {},
   "outputs": [],
   "source": [
    "# thismod.py\n",
    "\n",
    "var = 99                              # Global variable == module attribute\n",
    "\n",
    "def local():\n",
    "    var = 0                           # Change local var\n",
    "\n",
    "def glob1():\n",
    "    global var                        # Declare global (normal)\n",
    "    var += 1                          # Change global var\n",
    "\n",
    "def glob2():\n",
    "    var = 0                           # Change local var\n",
    "    import thismod                    # Import myself\n",
    "    thismod.var += 1                  # Change global var\n",
    "\n",
    "def glob3():\n",
    "    var = 0                           # Change local var\n",
    "    import sys                        # Import system table\n",
    "    glob = sys.modules['thismod']     # Get module object (or use __name__)\n",
    "    glob.var += 1                     # Change global var\n",
    "\n",
    "def test():\n",
    "    print(var)\n",
    "    local(); glob1(); glob2(); glob3()\n",
    "    print(var)"
   ]
  },
  {
   "cell_type": "code",
   "execution_count": 7,
   "id": "70a89138",
   "metadata": {},
   "outputs": [
    {
     "name": "stdout",
     "output_type": "stream",
     "text": [
      "99\n",
      "102\n"
     ]
    }
   ],
   "source": [
    "import thismod\n",
    "thismod.test()"
   ]
  },
  {
   "cell_type": "code",
   "execution_count": 8,
   "id": "abfb0190",
   "metadata": {},
   "outputs": [
    {
     "data": {
      "text/plain": [
       "102"
      ]
     },
     "execution_count": 8,
     "metadata": {},
     "output_type": "execute_result"
    }
   ],
   "source": [
    "thismod.var"
   ]
  },
  {
   "cell_type": "code",
   "execution_count": 9,
   "id": "485c0dd8",
   "metadata": {},
   "outputs": [
    {
     "name": "stdout",
     "output_type": "stream",
     "text": [
      "88\n"
     ]
    }
   ],
   "source": [
    "X = 99                   # Global scope name: not used\n",
    "\n",
    "def f1():\n",
    "    X = 88               # Enclosing def local\n",
    "    def f2():\n",
    "        print(X)         # Reference made in nested def\n",
    "    f2()\n",
    "\n",
    "f1()                     # Prints 88: enclosing def local"
   ]
  },
  {
   "cell_type": "code",
   "execution_count": 10,
   "id": "6e82274e",
   "metadata": {},
   "outputs": [
    {
     "data": {
      "text/plain": [
       "99"
      ]
     },
     "execution_count": 10,
     "metadata": {},
     "output_type": "execute_result"
    }
   ],
   "source": [
    "X"
   ]
  },
  {
   "cell_type": "code",
   "execution_count": 12,
   "id": "80eb515a",
   "metadata": {},
   "outputs": [
    {
     "data": {
      "text/plain": [
       "<function __main__.f1.<locals>.f2()>"
      ]
     },
     "execution_count": 12,
     "metadata": {},
     "output_type": "execute_result"
    }
   ],
   "source": [
    "def f1():\n",
    "    X = 88\n",
    "    def f2():\n",
    "        print(X)         # Remembers X in enclosing def scope\n",
    "    return f2            # Return f2 but don't call it\n",
    "f1()"
   ]
  },
  {
   "cell_type": "code",
   "execution_count": 13,
   "id": "8df93b27",
   "metadata": {},
   "outputs": [
    {
     "name": "stdout",
     "output_type": "stream",
     "text": [
      "88\n"
     ]
    }
   ],
   "source": [
    "def f1():\n",
    "    X = 88\n",
    "    def f2():\n",
    "        print(X)         # Remembers X in enclosing def scope\n",
    "    return f2            # Return f2 but don't call it\n",
    "f1()()"
   ]
  },
  {
   "cell_type": "code",
   "execution_count": 11,
   "id": "4ee2a5e4",
   "metadata": {},
   "outputs": [
    {
     "name": "stdout",
     "output_type": "stream",
     "text": [
      "88\n"
     ]
    }
   ],
   "source": [
    "def f1():\n",
    "    X = 88\n",
    "    def f2():\n",
    "        print(X)         # Remembers X in enclosing def scope\n",
    "    return f2            # Return f2 but don't call it\n",
    "\n",
    "action = f1()            # Make, return function\n",
    "action()                 # Call it now: prints 88"
   ]
  },
  {
   "cell_type": "code",
   "execution_count": 14,
   "id": "29dc646b",
   "metadata": {},
   "outputs": [],
   "source": [
    "def maker(N):\n",
    "    def action(X):                    # Make and return action\n",
    "        return X ** N                 # action retains N from enclosing scope\n",
    "    return action"
   ]
  },
  {
   "cell_type": "code",
   "execution_count": 15,
   "id": "9073a528",
   "metadata": {},
   "outputs": [
    {
     "data": {
      "text/plain": [
       "<function __main__.maker.<locals>.action(X)>"
      ]
     },
     "execution_count": 15,
     "metadata": {},
     "output_type": "execute_result"
    }
   ],
   "source": [
    "maker(2)"
   ]
  },
  {
   "cell_type": "code",
   "execution_count": 16,
   "id": "a6ac5be2",
   "metadata": {},
   "outputs": [
    {
     "data": {
      "text/plain": [
       "<function __main__.maker.<locals>.action(X)>"
      ]
     },
     "execution_count": 16,
     "metadata": {},
     "output_type": "execute_result"
    }
   ],
   "source": [
    "f = maker(2)                          # Pass 2 to argument N\n",
    "f"
   ]
  },
  {
   "cell_type": "code",
   "execution_count": 19,
   "id": "1e6f87e6",
   "metadata": {},
   "outputs": [
    {
     "data": {
      "text/plain": [
       "9"
      ]
     },
     "execution_count": 19,
     "metadata": {},
     "output_type": "execute_result"
    }
   ],
   "source": [
    "f(3)"
   ]
  },
  {
   "cell_type": "code",
   "execution_count": 20,
   "id": "82e93d9c",
   "metadata": {},
   "outputs": [
    {
     "data": {
      "text/plain": [
       "16"
      ]
     },
     "execution_count": 20,
     "metadata": {},
     "output_type": "execute_result"
    }
   ],
   "source": [
    "f(4)"
   ]
  },
  {
   "cell_type": "code",
   "execution_count": 21,
   "id": "c4eea3ea",
   "metadata": {},
   "outputs": [
    {
     "name": "stdout",
     "output_type": "stream",
     "text": [
      "88\n"
     ]
    }
   ],
   "source": [
    "def f1():\n",
    "    x = 88                  # Pass x along instead of nesting\n",
    "    f2(x)                   # Forward reference OK\n",
    "\n",
    "def f2(x):\n",
    "    print(x)                # Flat is still often better than nested!\n",
    "\n",
    "f1()"
   ]
  },
  {
   "cell_type": "code",
   "execution_count": 23,
   "id": "9c1117aa",
   "metadata": {},
   "outputs": [
    {
     "name": "stdout",
     "output_type": "stream",
     "text": [
      "16\n"
     ]
    }
   ],
   "source": [
    "def func():\n",
    "    x = 4\n",
    "    action = (lambda n: x ** n)          # x remembered from enclosing def\n",
    "    return action\n",
    "\n",
    "x = func()\n",
    "print(x(2))       # Prints 16, 4 ** 2"
   ]
  },
  {
   "cell_type": "code",
   "execution_count": 24,
   "id": "14f056f7",
   "metadata": {},
   "outputs": [
    {
     "data": {
      "text/plain": [
       "<function __main__.makeActions.<locals>.<lambda>(x)>"
      ]
     },
     "execution_count": 24,
     "metadata": {},
     "output_type": "execute_result"
    }
   ],
   "source": [
    "def makeActions():\n",
    "    acts = []\n",
    "    for i in range(5):                       # Tries to remember each i\n",
    "        acts.append(lambda x: i ** x)        # But all remember same last i!\n",
    "    return acts\n",
    "\n",
    "acts = makeActions()\n",
    "acts[0]"
   ]
  },
  {
   "cell_type": "code",
   "execution_count": 25,
   "id": "2879a704",
   "metadata": {},
   "outputs": [
    {
     "data": {
      "text/plain": [
       "16"
      ]
     },
     "execution_count": 25,
     "metadata": {},
     "output_type": "execute_result"
    }
   ],
   "source": [
    "acts[0](2)                                   # All are 4 ** 2, 4=value of last i"
   ]
  },
  {
   "cell_type": "code",
   "execution_count": 26,
   "id": "03fa3ebe",
   "metadata": {},
   "outputs": [
    {
     "data": {
      "text/plain": [
       "16"
      ]
     },
     "execution_count": 26,
     "metadata": {},
     "output_type": "execute_result"
    }
   ],
   "source": [
    "acts[1](2)                                   # This should be 1 ** 2 (1)"
   ]
  },
  {
   "cell_type": "code",
   "execution_count": 30,
   "id": "4aa3a92e",
   "metadata": {},
   "outputs": [
    {
     "data": {
      "text/plain": [
       "64"
      ]
     },
     "execution_count": 30,
     "metadata": {},
     "output_type": "execute_result"
    }
   ],
   "source": [
    "acts[4](3)"
   ]
  },
  {
   "cell_type": "code",
   "execution_count": 31,
   "id": "d033343f",
   "metadata": {},
   "outputs": [
    {
     "data": {
      "text/plain": [
       "0"
      ]
     },
     "execution_count": 31,
     "metadata": {},
     "output_type": "execute_result"
    }
   ],
   "source": [
    "def makeActions():\n",
    "    acts = []\n",
    "    for i in range(5):                       # Use defaults instead\n",
    "        acts.append(lambda x, i=i: i ** x)        # Remember current i\n",
    "    return acts\n",
    "\n",
    "acts = makeActions()\n",
    "acts[0](2)  # 0 ** 2"
   ]
  },
  {
   "cell_type": "code",
   "execution_count": 33,
   "id": "20c71960",
   "metadata": {},
   "outputs": [
    {
     "data": {
      "text/plain": [
       "9"
      ]
     },
     "execution_count": 33,
     "metadata": {},
     "output_type": "execute_result"
    }
   ],
   "source": [
    "acts[3](2) # 3 ** 2"
   ]
  },
  {
   "cell_type": "markdown",
   "id": "8c46eb29",
   "metadata": {},
   "source": [
    "## nonlocal"
   ]
  },
  {
   "cell_type": "code",
   "execution_count": 34,
   "id": "6ef7b5e5",
   "metadata": {},
   "outputs": [
    {
     "name": "stdout",
     "output_type": "stream",
     "text": [
      "spam 0\n"
     ]
    }
   ],
   "source": [
    "def tester(start):\n",
    "        state = start             # Referencing nonlocals works normally\n",
    "        def nested(label):\n",
    "            print(label, state)   # Remembers state in enclosing scope\n",
    "        return nested\n",
    "\n",
    "F = tester(0)\n",
    "F('spam')"
   ]
  },
  {
   "cell_type": "code",
   "execution_count": 35,
   "id": "f381625a",
   "metadata": {},
   "outputs": [
    {
     "name": "stdout",
     "output_type": "stream",
     "text": [
      "ham 0\n"
     ]
    }
   ],
   "source": [
    "F('ham')"
   ]
  },
  {
   "cell_type": "code",
   "execution_count": 1,
   "id": "ae13efaf",
   "metadata": {},
   "outputs": [
    {
     "name": "stdout",
     "output_type": "stream",
     "text": [
      "spam 0\n"
     ]
    }
   ],
   "source": [
    "def tester(start):\n",
    "        #state = start             # Referencing nonlocals works normally\n",
    "        def nested(label):\n",
    "            print(label, start)   # Remembers state in enclosing scope\n",
    "        return nested\n",
    "\n",
    "F = tester(0)\n",
    "F('spam')"
   ]
  },
  {
   "cell_type": "code",
   "execution_count": 2,
   "id": "f7a0ec7e",
   "metadata": {},
   "outputs": [
    {
     "name": "stdout",
     "output_type": "stream",
     "text": [
      "ham 0\n"
     ]
    }
   ],
   "source": [
    "F('ham')"
   ]
  },
  {
   "cell_type": "code",
   "execution_count": 3,
   "id": "b8ab28cc",
   "metadata": {},
   "outputs": [
    {
     "name": "stdout",
     "output_type": "stream",
     "text": [
      "spam 1\n"
     ]
    }
   ],
   "source": [
    "def tester(start):\n",
    "        #state = start             # Referencing nonlocals works normally\n",
    "        def nested(label):\n",
    "            print(label, start+1)   # Remembers state in enclosing scope\n",
    "        return nested\n",
    "\n",
    "F = tester(0)\n",
    "F('spam')"
   ]
  },
  {
   "cell_type": "code",
   "execution_count": 11,
   "id": "2b1eedf8",
   "metadata": {},
   "outputs": [
    {
     "name": "stdout",
     "output_type": "stream",
     "text": [
      "spam 1\n"
     ]
    }
   ],
   "source": [
    "def tester(start):\n",
    "        def nested(label):\n",
    "            print(label, start+1)   # Remembers state in enclosing scope\n",
    "            state = start\n",
    "            state += 1\n",
    "        return nested\n",
    "\n",
    "F = tester(0)\n",
    "F('spam')"
   ]
  },
  {
   "cell_type": "code",
   "execution_count": 12,
   "id": "d6e2639d",
   "metadata": {},
   "outputs": [
    {
     "name": "stdout",
     "output_type": "stream",
     "text": [
      "spam 1\n"
     ]
    }
   ],
   "source": [
    "F('spam')"
   ]
  },
  {
   "cell_type": "code",
   "execution_count": 7,
   "id": "b9a91ea3",
   "metadata": {},
   "outputs": [
    {
     "name": "stdout",
     "output_type": "stream",
     "text": [
      "spam 0\n"
     ]
    }
   ],
   "source": [
    "def tester(start):\n",
    "    state = start\n",
    "    def nested(label):\n",
    "        nonlocal state\n",
    "        print(label, state)   # Remembers state in enclosing scope\n",
    "        state += 1\n",
    "    return nested\n",
    "\n",
    "F = tester(0)\n",
    "F('spam')"
   ]
  },
  {
   "cell_type": "code",
   "execution_count": 8,
   "id": "cf9a3df8",
   "metadata": {},
   "outputs": [
    {
     "name": "stdout",
     "output_type": "stream",
     "text": [
      "spam 1\n"
     ]
    }
   ],
   "source": [
    "F('spam')"
   ]
  },
  {
   "cell_type": "code",
   "execution_count": 9,
   "id": "3816cfcf",
   "metadata": {},
   "outputs": [
    {
     "name": "stdout",
     "output_type": "stream",
     "text": [
      "spam 2\n"
     ]
    }
   ],
   "source": [
    "F('spam')"
   ]
  },
  {
   "cell_type": "code",
   "execution_count": 10,
   "id": "d1d7b44a",
   "metadata": {},
   "outputs": [
    {
     "ename": "AttributeError",
     "evalue": "'function' object has no attribute 'state'",
     "output_type": "error",
     "traceback": [
      "\u001b[1;31m---------------------------------------------------------------------------\u001b[0m",
      "\u001b[1;31mAttributeError\u001b[0m                            Traceback (most recent call last)",
      "\u001b[1;32m~\\AppData\\Local\\Temp/ipykernel_1436/2348137540.py\u001b[0m in \u001b[0;36m<module>\u001b[1;34m\u001b[0m\n\u001b[1;32m----> 1\u001b[1;33m \u001b[0mF\u001b[0m\u001b[1;33m.\u001b[0m\u001b[0mstate\u001b[0m\u001b[1;33m\u001b[0m\u001b[1;33m\u001b[0m\u001b[0m\n\u001b[0m",
      "\u001b[1;31mAttributeError\u001b[0m: 'function' object has no attribute 'state'"
     ]
    }
   ],
   "source": [
    "F.state"
   ]
  },
  {
   "cell_type": "code",
   "execution_count": 13,
   "id": "e9694a2a",
   "metadata": {},
   "outputs": [
    {
     "ename": "SyntaxError",
     "evalue": "no binding for nonlocal 'state' found (Temp/ipykernel_1436/3118462266.py, line 3)",
     "output_type": "error",
     "traceback": [
      "\u001b[1;36m  File \u001b[1;32m\"C:\\Users\\lidan\\AppData\\Local\\Temp/ipykernel_1436/3118462266.py\"\u001b[1;36m, line \u001b[1;32m3\u001b[0m\n\u001b[1;33m    nonlocal state        # Nonlocals must already exist in enclosing def!\u001b[0m\n\u001b[1;37m    ^\u001b[0m\n\u001b[1;31mSyntaxError\u001b[0m\u001b[1;31m:\u001b[0m no binding for nonlocal 'state' found\n"
     ]
    }
   ],
   "source": [
    "def tester(start):\n",
    "    def nested(label):\n",
    "            nonlocal state        # Nonlocals must already exist in enclosing def!\n",
    "            state = 0\n",
    "            print(label, state)\n",
    "    return nested"
   ]
  },
  {
   "cell_type": "code",
   "execution_count": 14,
   "id": "2c177965",
   "metadata": {},
   "outputs": [
    {
     "name": "stdout",
     "output_type": "stream",
     "text": [
      "spam 0\n"
     ]
    }
   ],
   "source": [
    "def tester(start):\n",
    "    state = start\n",
    "    def nested(label):\n",
    "            nonlocal state        # Nonlocals must already exist in enclosing def!\n",
    "            state = 0\n",
    "            print(label, state)\n",
    "    return nested\n",
    "F = tester(0)\n",
    "F('spam')"
   ]
  },
  {
   "cell_type": "code",
   "execution_count": 15,
   "id": "40430a75",
   "metadata": {},
   "outputs": [
    {
     "name": "stdout",
     "output_type": "stream",
     "text": [
      "spam 0\n"
     ]
    }
   ],
   "source": [
    "F('spam')"
   ]
  },
  {
   "cell_type": "code",
   "execution_count": 1,
   "id": "6510701a",
   "metadata": {},
   "outputs": [
    {
     "name": "stdout",
     "output_type": "stream",
     "text": [
      "abc 0\n"
     ]
    }
   ],
   "source": [
    "def tester(start):\n",
    "        def nested(label):\n",
    "            global state          # Globals don't have to exist yet when declared\n",
    "            state = 0             # This creates the name in the module now\n",
    "            print(label, state)\n",
    "        return nested\n",
    "\n",
    "F = tester(0)\n",
    "F('abc')"
   ]
  },
  {
   "cell_type": "code",
   "execution_count": 2,
   "id": "1aff9cd8",
   "metadata": {},
   "outputs": [
    {
     "data": {
      "text/plain": [
       "0"
      ]
     },
     "execution_count": 2,
     "metadata": {},
     "output_type": "execute_result"
    }
   ],
   "source": [
    "state"
   ]
  },
  {
   "cell_type": "code",
   "execution_count": 5,
   "id": "ec0610d9",
   "metadata": {},
   "outputs": [
    {
     "ename": "AttributeError",
     "evalue": "'function' object has no attribute 'state'",
     "output_type": "error",
     "traceback": [
      "\u001b[1;31m---------------------------------------------------------------------------\u001b[0m",
      "\u001b[1;31mAttributeError\u001b[0m                            Traceback (most recent call last)",
      "\u001b[1;32m~\\AppData\\Local\\Temp/ipykernel_10180/2489366872.py\u001b[0m in \u001b[0;36m<module>\u001b[1;34m\u001b[0m\n\u001b[1;32m----> 1\u001b[1;33m \u001b[0mtester\u001b[0m\u001b[1;33m.\u001b[0m\u001b[0mstate\u001b[0m\u001b[1;33m\u001b[0m\u001b[1;33m\u001b[0m\u001b[0m\n\u001b[0m",
      "\u001b[1;31mAttributeError\u001b[0m: 'function' object has no attribute 'state'"
     ]
    }
   ],
   "source": [
    "tester.state"
   ]
  },
  {
   "cell_type": "markdown",
   "id": "874cf390",
   "metadata": {},
   "source": [
    "### State with Classes"
   ]
  },
  {
   "cell_type": "code",
   "execution_count": 6,
   "id": "5489741f",
   "metadata": {},
   "outputs": [
    {
     "name": "stdout",
     "output_type": "stream",
     "text": [
      "spam 0\n"
     ]
    }
   ],
   "source": [
    "class tester:                          # Class-based alternative (see Part VI)\n",
    "        def __init__(self, start):         # On object construction,\n",
    "            self.state = start             # save state explicitly in new object\n",
    "        def nested(self, label):\n",
    "            print(label, self.state)       # Reference state explicitly\n",
    "            self.state += 1                # Changes are always allowed\n",
    "\n",
    "F = tester(0)                          # Create instance, invoke __init__\n",
    "F.nested('spam')                       # F is passed to self"
   ]
  },
  {
   "cell_type": "code",
   "execution_count": 7,
   "id": "a0927934",
   "metadata": {},
   "outputs": [
    {
     "name": "stdout",
     "output_type": "stream",
     "text": [
      "spam 1\n"
     ]
    }
   ],
   "source": [
    "F.nested('spam') "
   ]
  },
  {
   "cell_type": "code",
   "execution_count": 8,
   "id": "e4914973",
   "metadata": {},
   "outputs": [
    {
     "data": {
      "text/plain": [
       "2"
      ]
     },
     "execution_count": 8,
     "metadata": {},
     "output_type": "execute_result"
    }
   ],
   "source": [
    "F.state"
   ]
  },
  {
   "cell_type": "code",
   "execution_count": 9,
   "id": "3069711e",
   "metadata": {},
   "outputs": [
    {
     "data": {
      "text/plain": [
       "2"
      ]
     },
     "execution_count": 9,
     "metadata": {},
     "output_type": "execute_result"
    }
   ],
   "source": [
    "F.state"
   ]
  },
  {
   "cell_type": "markdown",
   "id": "5ce00ff2",
   "metadata": {},
   "source": [
    "# Chapter 18. Arguments"
   ]
  },
  {
   "cell_type": "code",
   "execution_count": 10,
   "id": "f4c026b2",
   "metadata": {},
   "outputs": [
    {
     "name": "stdout",
     "output_type": "stream",
     "text": [
      "88\n"
     ]
    }
   ],
   "source": [
    "def f(a):                 # a is assigned to (references) the passed object\n",
    "    a = 99                # Changes local variable a only\n",
    "\n",
    "b = 88\n",
    "f(b)                      # a and b both reference same 88 initially\n",
    "print(b)  "
   ]
  },
  {
   "cell_type": "code",
   "execution_count": 11,
   "id": "72e7f287",
   "metadata": {},
   "outputs": [
    {
     "data": {
      "text/plain": [
       "(1, ['spam', 2])"
      ]
     },
     "execution_count": 11,
     "metadata": {},
     "output_type": "execute_result"
    }
   ],
   "source": [
    "def changer(a, b):        # Arguments assigned references to objects\n",
    "        a = 2                 # Changes local name's value only\n",
    "        b[0] = 'spam'         # Changes shared object in place\n",
    "\n",
    "X = 1\n",
    "L = [1, 2]                # Caller:\n",
    "changer(X, L)             # Pass immutable and mutable objects\n",
    "X, L "
   ]
  },
  {
   "cell_type": "code",
   "execution_count": null,
   "id": "99275466",
   "metadata": {},
   "outputs": [],
   "source": [
    "#minmax.py\n",
    "def minmax(test, *args):\n",
    "    res = args[0]\n",
    "    for arg in args[1:]:\n",
    "        if test(arg, res):\n",
    "            res = arg\n",
    "    return res\n",
    "\n",
    "def lessthan(x, y): return x < y                # See also: lambda\n",
    "def grtrthan(x, y): return x > y\n",
    "\n",
    "print(minmax(lessthan, 4, 2, 1, 5, 6, 3))       # Self-test code\n",
    "print(minmax(grtrthan, 4, 2, 1, 5, 6, 3))\n"
   ]
  },
  {
   "cell_type": "code",
   "execution_count": 12,
   "id": "39cb4621",
   "metadata": {},
   "outputs": [
    {
     "name": "stdout",
     "output_type": "stream",
     "text": [
      "1\n",
      "6\n"
     ]
    }
   ],
   "source": [
    "!python minmax.py"
   ]
  },
  {
   "cell_type": "code",
   "execution_count": null,
   "id": "59c45e0c",
   "metadata": {},
   "outputs": [],
   "source": [
    "#inter2.py\n",
    "def intersect(*args):\n",
    "    res = []\n",
    "    for x in args[0]:                  # Scan first sequence\n",
    "        if x in res: continue          # Skip duplicates\n",
    "        for other in args[1:]:         # For all other args\n",
    "            if x not in other: break   # Item in each one?\n",
    "        else:                          # No: break out of loop\n",
    "            res.append(x)              # Yes: add items to end\n",
    "    return res\n",
    "\n",
    "def union(*args):\n",
    "    res = []\n",
    "    for seq in args:                   # For all args\n",
    "        for x in seq:                  # For all nodes\n",
    "            if not x in res:\n",
    "                res.append(x)          # Add new items to result\n",
    "    return res"
   ]
  },
  {
   "cell_type": "code",
   "execution_count": 13,
   "id": "a18c05ac",
   "metadata": {},
   "outputs": [
    {
     "data": {
      "text/plain": [
       "(['S', 'A', 'M'], ['S', 'P', 'A', 'M', 'C'])"
      ]
     },
     "execution_count": 13,
     "metadata": {},
     "output_type": "execute_result"
    }
   ],
   "source": [
    "from inter2 import intersect, union\n",
    "s1, s2, s3 = \"SPAM\", \"SCAM\", \"SLAM\"\n",
    "\n",
    "intersect(s1, s2), union(s1, s2)"
   ]
  },
  {
   "cell_type": "code",
   "execution_count": 14,
   "id": "269c7da9",
   "metadata": {},
   "outputs": [
    {
     "data": {
      "text/plain": [
       "[1]"
      ]
     },
     "execution_count": 14,
     "metadata": {},
     "output_type": "execute_result"
    }
   ],
   "source": [
    "intersect([1, 2, 3], (1, 4))  "
   ]
  },
  {
   "cell_type": "code",
   "execution_count": 15,
   "id": "770ed80c",
   "metadata": {},
   "outputs": [
    {
     "data": {
      "text/plain": [
       "['S', 'A', 'M']"
      ]
     },
     "execution_count": 15,
     "metadata": {},
     "output_type": "execute_result"
    }
   ],
   "source": [
    "intersect(s1, s2, s3)   "
   ]
  },
  {
   "cell_type": "code",
   "execution_count": 16,
   "id": "ba7843ab",
   "metadata": {},
   "outputs": [
    {
     "data": {
      "text/plain": [
       "['S', 'P', 'A', 'M', 'C', 'L']"
      ]
     },
     "execution_count": 16,
     "metadata": {},
     "output_type": "execute_result"
    }
   ],
   "source": [
    "union(s1, s2, s3)"
   ]
  },
  {
   "cell_type": "code",
   "execution_count": 17,
   "id": "b3d4de80",
   "metadata": {},
   "outputs": [
    {
     "name": "stdout",
     "output_type": "stream",
     "text": [
      "('abcdefg', 'abdst', 'albmcnd', 'a')\n",
      "['a']\n",
      "('abdst', 'albmcnd', 'a', 'abcdefg')\n",
      "['a']\n",
      "('albmcnd', 'a', 'abcdefg', 'abdst')\n",
      "['a']\n",
      "('a', 'abcdefg', 'abdst', 'albmcnd')\n",
      "['a']\n"
     ]
    }
   ],
   "source": [
    "def tester(func, items, trace=True):\n",
    "       for i in range(len(items)):\n",
    "           items = items[1:] + items[:1]\n",
    "           if trace: print(items)\n",
    "           print(sorted(func(*items)))\n",
    "\n",
    "tester(intersect, ('a', 'abcdefg', 'abdst', 'albmcnd'))"
   ]
  },
  {
   "cell_type": "code",
   "execution_count": null,
   "id": "2789c505",
   "metadata": {},
   "outputs": [],
   "source": [
    "#print3.py\n",
    "#!python\n",
    "\"\"\"\n",
    "Emulate most of the 3.X print function for use in 2.X (and 3.X).\n",
    "Call signature: print3(*args, sep=' ', end='\\n', file=sys.stdout)\n",
    "\"\"\"\n",
    "import sys\n",
    "\n",
    "def print3(*args, **kargs):\n",
    "    sep  = kargs.get('sep', ' ')            # Keyword arg defaults\n",
    "    end  = kargs.get('end', '\\n')\n",
    "    file = kargs.get('file', sys.stdout)\n",
    "    output = ''\n",
    "    first  = True\n",
    "    for arg in args:\n",
    "        output += ('' if first else sep) + str(arg)\n",
    "        first = False\n",
    "    file.write(output + end)\n"
   ]
  },
  {
   "cell_type": "code",
   "execution_count": 18,
   "id": "abcab942",
   "metadata": {},
   "outputs": [
    {
     "name": "stdout",
     "output_type": "stream",
     "text": [
      "1 2 3\n",
      "123\n",
      "1...2...3\n",
      "1...[2]...(3,)\n",
      "4567 8 9\n",
      "\n"
     ]
    },
    {
     "name": "stderr",
     "output_type": "stream",
     "text": [
      "1??2??3.\n"
     ]
    }
   ],
   "source": [
    "from print3 import print3\n",
    "print3(1, 2, 3)\n",
    "print3(1, 2, 3, sep='')                     # Suppress separator\n",
    "print3(1, 2, 3, sep='...')\n",
    "print3(1, [2], (3,), sep='...')             # Various object types\n",
    "\n",
    "print3(4, 5, 6, sep='', end='')             # Suppress newline\n",
    "print3(7, 8, 9)\n",
    "print3()                                    # Add newline (or blank line)\n",
    "\n",
    "import sys\n",
    "print3(1, 2, 3, sep='??', end='.\\n', file=sys.stderr)    # Redirect to file"
   ]
  },
  {
   "cell_type": "code",
   "execution_count": null,
   "id": "4df2e134",
   "metadata": {},
   "outputs": [],
   "source": [
    "#print3_alt1.py\n",
    "#!python3\n",
    "\"Use 3.X only keyword-only args\"\n",
    "import sys\n",
    "\n",
    "def print3(*args, sep=' ', end='\\n', file=sys.stdout):\n",
    "    output = ''\n",
    "    first  = True\n",
    "    for arg in args:\n",
    "        output += ('' if first else sep) + str(arg)\n",
    "        first = False\n",
    "    file.write(output + end)"
   ]
  },
  {
   "cell_type": "code",
   "execution_count": 3,
   "id": "637313f0",
   "metadata": {},
   "outputs": [
    {
     "ename": "TypeError",
     "evalue": "print3() got an unexpected keyword argument 'name'",
     "output_type": "error",
     "traceback": [
      "\u001b[1;31m---------------------------------------------------------------------------\u001b[0m",
      "\u001b[1;31mTypeError\u001b[0m                                 Traceback (most recent call last)",
      "\u001b[1;32m~\\AppData\\Local\\Temp/ipykernel_2208/2248154148.py\u001b[0m in \u001b[0;36m<module>\u001b[1;34m\u001b[0m\n\u001b[0;32m      1\u001b[0m \u001b[1;32mfrom\u001b[0m \u001b[0mprint3_alt1\u001b[0m \u001b[1;32mimport\u001b[0m \u001b[0mprint3\u001b[0m\u001b[1;33m\u001b[0m\u001b[1;33m\u001b[0m\u001b[0m\n\u001b[1;32m----> 2\u001b[1;33m \u001b[0mprint3\u001b[0m\u001b[1;33m(\u001b[0m\u001b[1;36m99\u001b[0m\u001b[1;33m,\u001b[0m \u001b[0mname\u001b[0m\u001b[1;33m=\u001b[0m\u001b[1;34m'bob'\u001b[0m\u001b[1;33m)\u001b[0m\u001b[1;33m\u001b[0m\u001b[1;33m\u001b[0m\u001b[0m\n\u001b[0m",
      "\u001b[1;31mTypeError\u001b[0m: print3() got an unexpected keyword argument 'name'"
     ]
    }
   ],
   "source": [
    "from print3_alt1 import print3\n",
    "print3(99, name='bob')"
   ]
  },
  {
   "cell_type": "code",
   "execution_count": null,
   "id": "234acea9",
   "metadata": {},
   "outputs": [],
   "source": [
    "#print3_alt2.py\n",
    "#!python\n",
    "\"Use 2.X/3.X keyword args deletion with defaults\"\n",
    "import sys\n",
    "\n",
    "def print3(*args, **kargs):\n",
    "    sep  = kargs.pop('sep', ' ')\n",
    "    end  = kargs.pop('end', '\\n')\n",
    "    file = kargs.pop('file', sys.stdout)\n",
    "    if kargs: raise TypeError('extra keywords: %s' % kargs)\n",
    "    output = ''\n",
    "    first  = True\n",
    "    for arg in args:\n",
    "        output += ('' if first else sep) + str(arg)\n",
    "        first = False\n",
    "    file.write(output + end)\n"
   ]
  },
  {
   "cell_type": "code",
   "execution_count": 4,
   "id": "24179a5b",
   "metadata": {},
   "outputs": [
    {
     "ename": "TypeError",
     "evalue": "extra keywords: {'name': 'bob'}",
     "output_type": "error",
     "traceback": [
      "\u001b[1;31m---------------------------------------------------------------------------\u001b[0m",
      "\u001b[1;31mTypeError\u001b[0m                                 Traceback (most recent call last)",
      "\u001b[1;32m~\\AppData\\Local\\Temp/ipykernel_2208/4099906969.py\u001b[0m in \u001b[0;36m<module>\u001b[1;34m\u001b[0m\n\u001b[0;32m      1\u001b[0m \u001b[1;32mfrom\u001b[0m \u001b[0mprint3_alt2\u001b[0m \u001b[1;32mimport\u001b[0m \u001b[0mprint3\u001b[0m\u001b[1;33m\u001b[0m\u001b[1;33m\u001b[0m\u001b[0m\n\u001b[1;32m----> 2\u001b[1;33m \u001b[0mprint3\u001b[0m\u001b[1;33m(\u001b[0m\u001b[1;36m99\u001b[0m\u001b[1;33m,\u001b[0m \u001b[0mname\u001b[0m\u001b[1;33m=\u001b[0m\u001b[1;34m'bob'\u001b[0m\u001b[1;33m)\u001b[0m\u001b[1;33m\u001b[0m\u001b[1;33m\u001b[0m\u001b[0m\n\u001b[0m",
      "\u001b[1;32mD:\\books\\python\\0. Learning Python\\print3_alt2.py\u001b[0m in \u001b[0;36mprint3\u001b[1;34m(*args, **kargs)\u001b[0m\n\u001b[0;32m      7\u001b[0m     \u001b[0mend\u001b[0m  \u001b[1;33m=\u001b[0m \u001b[0mkargs\u001b[0m\u001b[1;33m.\u001b[0m\u001b[0mpop\u001b[0m\u001b[1;33m(\u001b[0m\u001b[1;34m'end'\u001b[0m\u001b[1;33m,\u001b[0m \u001b[1;34m'\\n'\u001b[0m\u001b[1;33m)\u001b[0m\u001b[1;33m\u001b[0m\u001b[1;33m\u001b[0m\u001b[0m\n\u001b[0;32m      8\u001b[0m     \u001b[0mfile\u001b[0m \u001b[1;33m=\u001b[0m \u001b[0mkargs\u001b[0m\u001b[1;33m.\u001b[0m\u001b[0mpop\u001b[0m\u001b[1;33m(\u001b[0m\u001b[1;34m'file'\u001b[0m\u001b[1;33m,\u001b[0m \u001b[0msys\u001b[0m\u001b[1;33m.\u001b[0m\u001b[0mstdout\u001b[0m\u001b[1;33m)\u001b[0m\u001b[1;33m\u001b[0m\u001b[1;33m\u001b[0m\u001b[0m\n\u001b[1;32m----> 9\u001b[1;33m     \u001b[1;32mif\u001b[0m \u001b[0mkargs\u001b[0m\u001b[1;33m:\u001b[0m \u001b[1;32mraise\u001b[0m \u001b[0mTypeError\u001b[0m\u001b[1;33m(\u001b[0m\u001b[1;34m'extra keywords: %s'\u001b[0m \u001b[1;33m%\u001b[0m \u001b[0mkargs\u001b[0m\u001b[1;33m)\u001b[0m\u001b[1;33m\u001b[0m\u001b[1;33m\u001b[0m\u001b[0m\n\u001b[0m\u001b[0;32m     10\u001b[0m     \u001b[0moutput\u001b[0m \u001b[1;33m=\u001b[0m \u001b[1;34m''\u001b[0m\u001b[1;33m\u001b[0m\u001b[1;33m\u001b[0m\u001b[0m\n\u001b[0;32m     11\u001b[0m     \u001b[0mfirst\u001b[0m  \u001b[1;33m=\u001b[0m \u001b[1;32mTrue\u001b[0m\u001b[1;33m\u001b[0m\u001b[1;33m\u001b[0m\u001b[0m\n",
      "\u001b[1;31mTypeError\u001b[0m: extra keywords: {'name': 'bob'}"
     ]
    }
   ],
   "source": [
    "from print3_alt2 import print3\n",
    "print3(99, name='bob')"
   ]
  },
  {
   "cell_type": "code",
   "execution_count": 5,
   "id": "91f2b3da",
   "metadata": {},
   "outputs": [
    {
     "name": "stdout",
     "output_type": "stream",
     "text": [
      "1 {'c': 3, 'b': 2}\n"
     ]
    }
   ],
   "source": [
    "def func(a, **kargs):\n",
    "        print(a, kargs)\n",
    "\n",
    "func(a=1, c=3, b=2)"
   ]
  },
  {
   "cell_type": "code",
   "execution_count": 6,
   "id": "2ebd3d2e",
   "metadata": {},
   "outputs": [
    {
     "name": "stdout",
     "output_type": "stream",
     "text": [
      "1 (2, 3)\n"
     ]
    }
   ],
   "source": [
    "def func(a, *pargs):\n",
    "        print(a, pargs)\n",
    "\n",
    "func(1, 2, 3)"
   ]
  },
  {
   "cell_type": "code",
   "execution_count": 7,
   "id": "a87002d5",
   "metadata": {},
   "outputs": [
    {
     "name": "stdout",
     "output_type": "stream",
     "text": [
      "1 5 6 4\n"
     ]
    }
   ],
   "source": [
    "def func(a, b, c=3, d=4): print(a, b, c, d)\n",
    "\n",
    "func(1, *(5, 6))"
   ]
  },
  {
   "cell_type": "markdown",
   "id": "e0ecfd81",
   "metadata": {},
   "source": [
    "# Chapter 19. Advanced Function Topics\n",
    "\n",
    "### def statement"
   ]
  },
  {
   "cell_type": "code",
   "execution_count": 1,
   "id": "1529aa43",
   "metadata": {},
   "outputs": [
    {
     "data": {
      "text/plain": [
       "15"
      ]
     },
     "execution_count": 1,
     "metadata": {},
     "output_type": "execute_result"
    }
   ],
   "source": [
    "def mysum(L):\n",
    "        if not L:\n",
    "            return 0\n",
    "        else:\n",
    "            return L[0] + mysum(L[1:])           # Call myself recursively\n",
    "\n",
    "mysum([1, 2, 3, 4, 5])"
   ]
  },
  {
   "cell_type": "code",
   "execution_count": 6,
   "id": "57de5c49",
   "metadata": {},
   "outputs": [
    {
     "data": {
      "text/plain": [
       "('a', ['b', 'c'], 'ab')"
      ]
     },
     "execution_count": 6,
     "metadata": {},
     "output_type": "execute_result"
    }
   ],
   "source": [
    "L = ['a', 'b', 'c']\n",
    "L[0], L[1:], L[0] + L[1]"
   ]
  },
  {
   "cell_type": "code",
   "execution_count": 7,
   "id": "8213a5eb",
   "metadata": {},
   "outputs": [
    {
     "name": "stdout",
     "output_type": "stream",
     "text": [
      "[1, 2, 3, 4, 5]\n",
      "[2, 3, 4, 5]\n",
      "[3, 4, 5]\n",
      "[4, 5]\n",
      "[5]\n",
      "[]\n"
     ]
    },
    {
     "data": {
      "text/plain": [
       "15"
      ]
     },
     "execution_count": 7,
     "metadata": {},
     "output_type": "execute_result"
    }
   ],
   "source": [
    "def mysum(L):\n",
    "        print(L)                                 # Trace recursive levels\n",
    "        if not L:                                # L shorter at each level\n",
    "            return 0\n",
    "        else:\n",
    "            return L[0] + mysum(L[1:])\n",
    "\n",
    "mysum([1, 2, 3, 4, 5])"
   ]
  },
  {
   "cell_type": "code",
   "execution_count": 8,
   "id": "42735ae9",
   "metadata": {},
   "outputs": [
    {
     "data": {
      "text/plain": [
       "11.0"
      ]
     },
     "execution_count": 8,
     "metadata": {},
     "output_type": "execute_result"
    }
   ],
   "source": [
    "def mysum(L):\n",
    "        if not L: return 0\n",
    "        return nonempty(L)                  # Call a function that calls me\n",
    "\n",
    "def nonempty(L):\n",
    "        return L[0] + mysum(L[1:])          # Indirectly recursive\n",
    "\n",
    "mysum([1.1, 2.2, 3.3, 4.4])"
   ]
  },
  {
   "cell_type": "code",
   "execution_count": 9,
   "id": "76205186",
   "metadata": {},
   "outputs": [
    {
     "data": {
      "text/plain": [
       "0"
      ]
     },
     "execution_count": 9,
     "metadata": {},
     "output_type": "execute_result"
    }
   ],
   "source": [
    "mysum([])"
   ]
  },
  {
   "cell_type": "code",
   "execution_count": 10,
   "id": "b82d87c3",
   "metadata": {},
   "outputs": [
    {
     "data": {
      "text/plain": [
       "0"
      ]
     },
     "execution_count": 10,
     "metadata": {},
     "output_type": "execute_result"
    }
   ],
   "source": [
    "mysum([0])"
   ]
  },
  {
   "cell_type": "code",
   "execution_count": 12,
   "id": "25839dee",
   "metadata": {},
   "outputs": [
    {
     "data": {
      "text/plain": [
       "15"
      ]
     },
     "execution_count": 12,
     "metadata": {},
     "output_type": "execute_result"
    }
   ],
   "source": [
    "L = [1, 2, 3, 4, 5]\n",
    "sum = 0\n",
    "while L:\n",
    "        sum += L[0]\n",
    "        L = L[1:]\n",
    "\n",
    "sum"
   ]
  },
  {
   "cell_type": "code",
   "execution_count": 13,
   "id": "e81eeada",
   "metadata": {},
   "outputs": [
    {
     "data": {
      "text/plain": [
       "15"
      ]
     },
     "execution_count": 13,
     "metadata": {},
     "output_type": "execute_result"
    }
   ],
   "source": [
    "L = [1, 2, 3, 4, 5]\n",
    "sum = 0\n",
    "for x in L: sum += x\n",
    "\n",
    "sum"
   ]
  },
  {
   "cell_type": "code",
   "execution_count": 14,
   "id": "7fc7f6c8",
   "metadata": {},
   "outputs": [
    {
     "name": "stdout",
     "output_type": "stream",
     "text": [
      "36\n",
      "15\n",
      "15\n"
     ]
    }
   ],
   "source": [
    "#sumtree.py\n",
    "def sumtree(L):\n",
    "    tot = 0\n",
    "    for x in L:                                  # For each item at this level\n",
    "        if not isinstance(x, list):\n",
    "            tot += x                             # Add numbers directly\n",
    "        else:\n",
    "            tot += sumtree(x)                    # Recur for sublists\n",
    "    return tot\n",
    "\n",
    "L = [1, [2, [3, 4], 5], 6, [7, 8]]               # Arbitrary nesting\n",
    "print(sumtree(L))                                # Prints 36\n",
    "\n",
    "# Pathological cases\n",
    "print(sumtree([1, [2, [3, [4, [5]]]]]))          # Prints 15 (right-heavy)\n",
    "print(sumtree([[[[[1], 2], 3], 4], 5]))          # Prints 15 (left-heavy)"
   ]
  },
  {
   "cell_type": "code",
   "execution_count": 16,
   "id": "18d6b5a8",
   "metadata": {},
   "outputs": [
    {
     "name": "stdout",
     "output_type": "stream",
     "text": [
      "1, 6, 2, 5, 7, 8, 3, 4, 36\n",
      "1, 2, 3, 4, 5, 15\n",
      "5, 4, 3, 2, 1, 15\n",
      "----------------------------------------\n"
     ]
    }
   ],
   "source": [
    "#sumtree2.py\n",
    "trace = lambda x: None               # or print\n",
    "visit = lambda x: print(x, end=', ')\n",
    "\n",
    "\n",
    "# breadth-first by items: add to end\n",
    "\n",
    "def sumtree(L):                                  # Breadth-first, explicit queue\n",
    "    tot = 0\n",
    "    items = list(L)                              # Start with copy of top level\n",
    "    while items:\n",
    "        trace(items)\n",
    "        front = items.pop(0)                     # Fetch/delete front item\n",
    "        if not isinstance(front, list):\n",
    "            tot += front                         # Add numbers directly\n",
    "            visit(front)\n",
    "        else:\n",
    "            items.extend(front)                  # <== Append all in nested list\n",
    "    return tot\n",
    "\n",
    "L = [1, [2, [3, 4], 5], 6, [7, 8]]               # Arbitrary nesting\n",
    "print(sumtree(L))                                # Prints 36\n",
    "\n",
    "# Pathological cases\n",
    "print(sumtree([1, [2, [3, [4, [5]]]]]))          # Prints 15 (right-heavy)\n",
    "print(sumtree([[[[[1], 2], 3], 4], 5]))          # Prints 15 (left-heavy)\n",
    "print('-'*40)"
   ]
  },
  {
   "cell_type": "code",
   "execution_count": 17,
   "id": "a3711750",
   "metadata": {},
   "outputs": [
    {
     "name": "stdout",
     "output_type": "stream",
     "text": [
      "1, 2, 3, 4, 5, 6, 7, 8, 36\n",
      "1, 2, 3, 4, 5, 15\n",
      "1, 2, 3, 4, 5, 15\n",
      "----------------------------------------\n",
      "1, 6, 2, 5, 7, 8, 3, 4, 36\n",
      "1, 2, 3, 4, 5, 15\n",
      "5, 4, 3, 2, 1, 15\n",
      "----------------------------------------\n"
     ]
    }
   ],
   "source": [
    "# depth-first by items: add to front (like recursive calls version)\n",
    "\n",
    "def sumtree(L):                                  # Depth-first, explicit stack\n",
    "    tot = 0\n",
    "    items = list(L)                              # Start with copy of top level\n",
    "    while items:\n",
    "        trace(items)\n",
    "        front = items.pop(0)                     # Fetch/delete front item\n",
    "        if not isinstance(front, list):\n",
    "            tot += front                         # Add numbers directly\n",
    "            visit(front)\n",
    "        else:\n",
    "            items[:0] = front                    # <== Prepend all in nested list\n",
    "    return tot\n",
    "\n",
    "L = [1, [2, [3, 4], 5], 6, [7, 8]]               # Arbitrary nesting\n",
    "print(sumtree(L))                                # Prints 36\n",
    "\n",
    "# Pathological cases\n",
    "print(sumtree([1, [2, [3, [4, [5]]]]]))          # Prints 15 (right-heavy)\n",
    "print(sumtree([[[[[1], 2], 3], 4], 5]))          # Prints 15 (left-heavy)\n",
    "print('-'*40)\n",
    "\n",
    "\n",
    "\n",
    "# Breadth-first by levels\n",
    "\n",
    "def sumtree(L):\n",
    "    tot = 0\n",
    "    levels = [L]\n",
    "    while levels:\n",
    "        trace(levels)\n",
    "        front = levels.pop(0)                    # Fetch/delete front path\n",
    "        for x in front:\n",
    "            if not isinstance(x, list):\n",
    "                tot += x                         # Add numbers directly\n",
    "                visit(x)\n",
    "            else:\n",
    "                levels.append(x)                 # Push/schedule nested lists\n",
    "    return tot\n",
    "\n",
    "L = [1, [2, [3, 4], 5], 6, [7, 8]]               # Arbitrary nesting\n",
    "print(sumtree(L))                                # Prints 36\n",
    "\n",
    "# Pathological cases\n",
    "print(sumtree([1, [2, [3, [4, [5]]]]]))          # Prints 15 (right-heavy)\n",
    "print(sumtree([[[[[1], 2], 3], 4], 5]))          # Prints 15 (left-heavy)\n",
    "print('-'*40)\n",
    "\n",
    "\n"
   ]
  },
  {
   "cell_type": "code",
   "execution_count": 19,
   "id": "514fd4a8",
   "metadata": {},
   "outputs": [
    {
     "data": {
      "text/plain": [
       "3000"
      ]
     },
     "execution_count": 19,
     "metadata": {},
     "output_type": "execute_result"
    }
   ],
   "source": [
    "import sys\n",
    "sys.getrecursionlimit()"
   ]
  },
  {
   "cell_type": "code",
   "execution_count": 20,
   "id": "27585e9c",
   "metadata": {},
   "outputs": [
    {
     "name": "stdout",
     "output_type": "stream",
     "text": [
      "Help on built-in function setrecursionlimit in module sys:\n",
      "\n",
      "setrecursionlimit(limit, /)\n",
      "    Set the maximum depth of the Python interpreter stack to n.\n",
      "    \n",
      "    This limit prevents infinite recursion from causing an overflow of the C\n",
      "    stack and crashing Python.  The highest possible limit is platform-\n",
      "    dependent.\n",
      "\n"
     ]
    }
   ],
   "source": [
    "help(sys.setrecursionlimit)  "
   ]
  },
  {
   "cell_type": "code",
   "execution_count": 21,
   "id": "cd2daae6",
   "metadata": {},
   "outputs": [],
   "source": [
    "sys.setrecursionlimit(10000) "
   ]
  },
  {
   "cell_type": "code",
   "execution_count": 22,
   "id": "d140ad0d",
   "metadata": {},
   "outputs": [
    {
     "data": {
      "text/plain": [
       "'spamspamspamspamspamspamspamspam'"
      ]
     },
     "execution_count": 22,
     "metadata": {},
     "output_type": "execute_result"
    }
   ],
   "source": [
    "def func(a):\n",
    "        b = 'spam'\n",
    "        return b * a\n",
    "\n",
    "func(8)"
   ]
  },
  {
   "cell_type": "code",
   "execution_count": 23,
   "id": "a3634eee",
   "metadata": {},
   "outputs": [
    {
     "data": {
      "text/plain": [
       "'func'"
      ]
     },
     "execution_count": 23,
     "metadata": {},
     "output_type": "execute_result"
    }
   ],
   "source": [
    "func.__name__"
   ]
  },
  {
   "cell_type": "code",
   "execution_count": 24,
   "id": "621116b5",
   "metadata": {},
   "outputs": [
    {
     "data": {
      "text/plain": [
       "['__annotations__',\n",
       " '__call__',\n",
       " '__class__',\n",
       " '__closure__',\n",
       " '__code__',\n",
       " '__defaults__',\n",
       " '__delattr__',\n",
       " '__dict__',\n",
       " '__dir__',\n",
       " '__doc__',\n",
       " '__eq__',\n",
       " '__format__',\n",
       " '__ge__',\n",
       " '__get__',\n",
       " '__getattribute__',\n",
       " '__globals__',\n",
       " '__gt__',\n",
       " '__hash__',\n",
       " '__init__',\n",
       " '__init_subclass__',\n",
       " '__kwdefaults__',\n",
       " '__le__',\n",
       " '__lt__',\n",
       " '__module__',\n",
       " '__name__',\n",
       " '__ne__',\n",
       " '__new__',\n",
       " '__qualname__',\n",
       " '__reduce__',\n",
       " '__reduce_ex__',\n",
       " '__repr__',\n",
       " '__setattr__',\n",
       " '__sizeof__',\n",
       " '__str__',\n",
       " '__subclasshook__']"
      ]
     },
     "execution_count": 24,
     "metadata": {},
     "output_type": "execute_result"
    }
   ],
   "source": [
    "dir(func)"
   ]
  },
  {
   "cell_type": "code",
   "execution_count": 25,
   "id": "b230d5aa",
   "metadata": {},
   "outputs": [
    {
     "data": {
      "text/plain": [
       "35"
      ]
     },
     "execution_count": 25,
     "metadata": {},
     "output_type": "execute_result"
    }
   ],
   "source": [
    "len(dir(func))"
   ]
  },
  {
   "cell_type": "code",
   "execution_count": 27,
   "id": "7f92cca3",
   "metadata": {},
   "outputs": [
    {
     "data": {
      "text/plain": [
       "(['__class__',\n",
       "  '__delattr__',\n",
       "  '__dir__',\n",
       "  '__doc__',\n",
       "  '__eq__',\n",
       "  '__format__',\n",
       "  '__ge__',\n",
       "  '__getattribute__',\n",
       "  '__gt__',\n",
       "  '__hash__',\n",
       "  '__init__',\n",
       "  '__init_subclass__',\n",
       "  '__le__',\n",
       "  '__lt__',\n",
       "  '__ne__',\n",
       "  '__new__',\n",
       "  '__reduce__',\n",
       "  '__reduce_ex__',\n",
       "  '__repr__',\n",
       "  '__setattr__',\n",
       "  '__sizeof__',\n",
       "  '__str__',\n",
       "  '__subclasshook__',\n",
       "  'co_argcount',\n",
       "  'co_cellvars',\n",
       "  'co_code',\n",
       "  'co_consts',\n",
       "  'co_filename',\n",
       "  'co_firstlineno',\n",
       "  'co_flags',\n",
       "  'co_freevars',\n",
       "  'co_kwonlyargcount',\n",
       "  'co_lnotab',\n",
       "  'co_name',\n",
       "  'co_names',\n",
       "  'co_nlocals',\n",
       "  'co_posonlyargcount',\n",
       "  'co_stacksize',\n",
       "  'co_varnames',\n",
       "  'replace'],\n",
       " 40)"
      ]
     },
     "execution_count": 27,
     "metadata": {},
     "output_type": "execute_result"
    }
   ],
   "source": [
    "dir(func.__code__), len(dir(func.__code__))"
   ]
  },
  {
   "cell_type": "code",
   "execution_count": 29,
   "id": "0c80166e",
   "metadata": {},
   "outputs": [
    {
     "data": {
      "text/plain": [
       "(('a', 'b'), 1)"
      ]
     },
     "execution_count": 29,
     "metadata": {},
     "output_type": "execute_result"
    }
   ],
   "source": [
    "func.__code__.co_varnames, func.__code__.co_argcount"
   ]
  },
  {
   "cell_type": "code",
   "execution_count": 30,
   "id": "c999ef7b",
   "metadata": {},
   "outputs": [
    {
     "ename": "AttributeError",
     "evalue": "'function' object has no attribute 'count'",
     "output_type": "error",
     "traceback": [
      "\u001b[1;31m---------------------------------------------------------------------------\u001b[0m",
      "\u001b[1;31mAttributeError\u001b[0m                            Traceback (most recent call last)",
      "\u001b[1;32m~\\AppData\\Local\\Temp/ipykernel_23100/648735926.py\u001b[0m in \u001b[0;36m<module>\u001b[1;34m\u001b[0m\n\u001b[1;32m----> 1\u001b[1;33m \u001b[0mfunc\u001b[0m\u001b[1;33m.\u001b[0m\u001b[0mcount\u001b[0m\u001b[1;33m\u001b[0m\u001b[1;33m\u001b[0m\u001b[0m\n\u001b[0m",
      "\u001b[1;31mAttributeError\u001b[0m: 'function' object has no attribute 'count'"
     ]
    }
   ],
   "source": [
    "func.count"
   ]
  },
  {
   "cell_type": "code",
   "execution_count": 31,
   "id": "7e68a42a",
   "metadata": {},
   "outputs": [
    {
     "data": {
      "text/plain": [
       "1"
      ]
     },
     "execution_count": 31,
     "metadata": {},
     "output_type": "execute_result"
    }
   ],
   "source": [
    "func.count = 0\n",
    "func.count += 1\n",
    "func.count"
   ]
  },
  {
   "cell_type": "code",
   "execution_count": 32,
   "id": "98058c39",
   "metadata": {},
   "outputs": [
    {
     "data": {
      "text/plain": [
       "['__annotations__',\n",
       " '__call__',\n",
       " '__class__',\n",
       " '__closure__',\n",
       " '__code__',\n",
       " '__defaults__',\n",
       " '__delattr__',\n",
       " '__dict__',\n",
       " '__dir__',\n",
       " '__doc__',\n",
       " '__eq__',\n",
       " '__format__',\n",
       " '__ge__',\n",
       " '__get__',\n",
       " '__getattribute__',\n",
       " '__globals__',\n",
       " '__gt__',\n",
       " '__hash__',\n",
       " '__init__',\n",
       " '__init_subclass__',\n",
       " '__kwdefaults__',\n",
       " '__le__',\n",
       " '__lt__',\n",
       " '__module__',\n",
       " '__name__',\n",
       " '__ne__',\n",
       " '__new__',\n",
       " '__qualname__',\n",
       " '__reduce__',\n",
       " '__reduce_ex__',\n",
       " '__repr__',\n",
       " '__setattr__',\n",
       " '__sizeof__',\n",
       " '__str__',\n",
       " '__subclasshook__',\n",
       " 'count']"
      ]
     },
     "execution_count": 32,
     "metadata": {},
     "output_type": "execute_result"
    }
   ],
   "source": [
    "dir(func)"
   ]
  },
  {
   "cell_type": "code",
   "execution_count": 33,
   "id": "4af285da",
   "metadata": {},
   "outputs": [
    {
     "data": {
      "text/plain": [
       "35"
      ]
     },
     "execution_count": 33,
     "metadata": {},
     "output_type": "execute_result"
    }
   ],
   "source": [
    "def f(): pass\n",
    "len(dir(f))"
   ]
  },
  {
   "cell_type": "code",
   "execution_count": 34,
   "id": "fb552701",
   "metadata": {},
   "outputs": [
    {
     "data": {
      "text/plain": [
       "[]"
      ]
     },
     "execution_count": 34,
     "metadata": {},
     "output_type": "execute_result"
    }
   ],
   "source": [
    "[x for x in dir(f) if not x.startswith('__')]"
   ]
  },
  {
   "cell_type": "markdown",
   "id": "52033a09",
   "metadata": {},
   "source": [
    "### Function Annotations"
   ]
  },
  {
   "cell_type": "code",
   "execution_count": 35,
   "id": "ccb44efc",
   "metadata": {},
   "outputs": [
    {
     "data": {
      "text/plain": [
       "6"
      ]
     },
     "execution_count": 35,
     "metadata": {},
     "output_type": "execute_result"
    }
   ],
   "source": [
    "def func(a, b, c):\n",
    "        return a + b + c\n",
    "\n",
    "func(1, 2, 3)"
   ]
  },
  {
   "cell_type": "code",
   "execution_count": 36,
   "id": "ce2c5fdc",
   "metadata": {},
   "outputs": [
    {
     "data": {
      "text/plain": [
       "{}"
      ]
     },
     "execution_count": 36,
     "metadata": {},
     "output_type": "execute_result"
    }
   ],
   "source": [
    "func.__annotations__"
   ]
  },
  {
   "cell_type": "code",
   "execution_count": 37,
   "id": "fdff2157",
   "metadata": {},
   "outputs": [
    {
     "data": {
      "text/plain": [
       "6"
      ]
     },
     "execution_count": 37,
     "metadata": {},
     "output_type": "execute_result"
    }
   ],
   "source": [
    "def func(a: 'spam', b: (1, 10), c: float) -> int:\n",
    "        return a + b + c\n",
    "\n",
    "func(1, 2, 3)"
   ]
  },
  {
   "cell_type": "code",
   "execution_count": 38,
   "id": "31b2b337",
   "metadata": {},
   "outputs": [
    {
     "data": {
      "text/plain": [
       "{'a': 'spam', 'b': (1, 10), 'c': float, 'return': int}"
      ]
     },
     "execution_count": 38,
     "metadata": {},
     "output_type": "execute_result"
    }
   ],
   "source": [
    "func.__annotations__"
   ]
  },
  {
   "cell_type": "code",
   "execution_count": 39,
   "id": "a5a7d4dd",
   "metadata": {},
   "outputs": [
    {
     "name": "stdout",
     "output_type": "stream",
     "text": [
      "a => spam\n",
      "b => (1, 10)\n",
      "c => <class 'float'>\n",
      "return => <class 'int'>\n"
     ]
    }
   ],
   "source": [
    "for arg in func.__annotations__:\n",
    "       print(arg, '=>', func.__annotations__[arg])"
   ]
  },
  {
   "cell_type": "code",
   "execution_count": 41,
   "id": "836ea7ff",
   "metadata": {},
   "outputs": [
    {
     "data": {
      "text/plain": [
       "33.5"
      ]
     },
     "execution_count": 41,
     "metadata": {},
     "output_type": "execute_result"
    }
   ],
   "source": [
    "func(10, 20, 3.5)"
   ]
  },
  {
   "cell_type": "code",
   "execution_count": 42,
   "id": "069b8e72",
   "metadata": {},
   "outputs": [
    {
     "ename": "TypeError",
     "evalue": "func() missing 3 required positional arguments: 'a', 'b', and 'c'",
     "output_type": "error",
     "traceback": [
      "\u001b[1;31m---------------------------------------------------------------------------\u001b[0m",
      "\u001b[1;31mTypeError\u001b[0m                                 Traceback (most recent call last)",
      "\u001b[1;32m~\\AppData\\Local\\Temp/ipykernel_23100/2078144611.py\u001b[0m in \u001b[0;36m<module>\u001b[1;34m\u001b[0m\n\u001b[1;32m----> 1\u001b[1;33m \u001b[0mfunc\u001b[0m\u001b[1;33m(\u001b[0m\u001b[1;33m)\u001b[0m\u001b[1;33m\u001b[0m\u001b[1;33m\u001b[0m\u001b[0m\n\u001b[0m",
      "\u001b[1;31mTypeError\u001b[0m: func() missing 3 required positional arguments: 'a', 'b', and 'c'"
     ]
    }
   ],
   "source": [
    "func()"
   ]
  },
  {
   "cell_type": "markdown",
   "id": "8d2da193",
   "metadata": {},
   "source": [
    "### lambda expression"
   ]
  },
  {
   "cell_type": "code",
   "execution_count": 43,
   "id": "88bd51c5",
   "metadata": {},
   "outputs": [
    {
     "data": {
      "text/plain": [
       "9"
      ]
     },
     "execution_count": 43,
     "metadata": {},
     "output_type": "execute_result"
    }
   ],
   "source": [
    "f = lambda x, y, z: x + y + z\n",
    "f(2, 3, 4)"
   ]
  },
  {
   "cell_type": "code",
   "execution_count": 44,
   "id": "1bf8e3bf",
   "metadata": {},
   "outputs": [
    {
     "data": {
      "text/plain": [
       "'weefiefoe'"
      ]
     },
     "execution_count": 44,
     "metadata": {},
     "output_type": "execute_result"
    }
   ],
   "source": [
    "x = (lambda a=\"fee\", b=\"fie\", c=\"foe\": a + b + c)\n",
    "x(\"wee\")"
   ]
  },
  {
   "cell_type": "code",
   "execution_count": 45,
   "id": "b7a1c562",
   "metadata": {},
   "outputs": [
    {
     "data": {
      "text/plain": [
       "10"
      ]
     },
     "execution_count": 45,
     "metadata": {},
     "output_type": "execute_result"
    }
   ],
   "source": [
    "from functools import reduce                         # Import in 3.X, not in 2.X\n",
    "reduce((lambda x, y: x + y), [1, 2, 3, 4])"
   ]
  },
  {
   "cell_type": "code",
   "execution_count": 46,
   "id": "40263ac4",
   "metadata": {},
   "outputs": [
    {
     "data": {
      "text/plain": [
       "15"
      ]
     },
     "execution_count": 46,
     "metadata": {},
     "output_type": "execute_result"
    }
   ],
   "source": [
    "def myreduce(function, sequence):\n",
    "        tally = sequence[0]\n",
    "        for next in sequence[1:]:\n",
    "            tally = function(tally, next)\n",
    "        return tally\n",
    "\n",
    "myreduce((lambda x, y: x + y), [1, 2, 3, 4, 5])"
   ]
  },
  {
   "cell_type": "markdown",
   "id": "f78d9cb1",
   "metadata": {},
   "source": [
    "# Chapter 20. Comprehensions and Generations"
   ]
  },
  {
   "cell_type": "code",
   "execution_count": 1,
   "id": "eeff6535",
   "metadata": {},
   "outputs": [
    {
     "data": {
      "text/plain": [
       "[0, 1, 4, 9, 16, 25, 36, 49, 64, 81]"
      ]
     },
     "execution_count": 1,
     "metadata": {},
     "output_type": "execute_result"
    }
   ],
   "source": [
    "[x ** 2 for x in range(10)]"
   ]
  },
  {
   "cell_type": "code",
   "execution_count": 2,
   "id": "d89a7c4a",
   "metadata": {},
   "outputs": [
    {
     "data": {
      "text/plain": [
       "[0, 1, 4, 9, 16, 25, 36, 49, 64, 81]"
      ]
     },
     "execution_count": 2,
     "metadata": {},
     "output_type": "execute_result"
    }
   ],
   "source": [
    "list(map((lambda x: x ** 2), range(10)))"
   ]
  },
  {
   "cell_type": "code",
   "execution_count": 3,
   "id": "aa411678",
   "metadata": {},
   "outputs": [
    {
     "data": {
      "text/plain": [
       "[0, 2, 4]"
      ]
     },
     "execution_count": 3,
     "metadata": {},
     "output_type": "execute_result"
    }
   ],
   "source": [
    "[x for x in range(5) if x % 2 == 0]"
   ]
  },
  {
   "cell_type": "code",
   "execution_count": 4,
   "id": "6e71410a",
   "metadata": {},
   "outputs": [
    {
     "data": {
      "text/plain": [
       "[0, 2, 4]"
      ]
     },
     "execution_count": 4,
     "metadata": {},
     "output_type": "execute_result"
    }
   ],
   "source": [
    "list(filter((lambda x: x % 2 == 0), range(5)))"
   ]
  },
  {
   "cell_type": "code",
   "execution_count": 5,
   "id": "67310cfe",
   "metadata": {},
   "outputs": [
    {
     "data": {
      "text/plain": [
       "[0, 4, 16, 36, 64]"
      ]
     },
     "execution_count": 5,
     "metadata": {},
     "output_type": "execute_result"
    }
   ],
   "source": [
    "list( map((lambda x: x**2), filter((lambda x: x % 2 == 0), range(10))) )"
   ]
  },
  {
   "cell_type": "code",
   "execution_count": 6,
   "id": "6a8a6c16",
   "metadata": {},
   "outputs": [],
   "source": [
    "M = [[1, 2, 3],\n",
    "         [4, 5, 6],\n",
    "         [7, 8, 9]]\n",
    "\n",
    "N = [[2, 2, 2],\n",
    "         [3, 3, 3],\n",
    "         [4, 4, 4]]"
   ]
  },
  {
   "cell_type": "code",
   "execution_count": 7,
   "id": "7d6f8c7d",
   "metadata": {},
   "outputs": [
    {
     "data": {
      "text/plain": [
       "[2, 5, 8]"
      ]
     },
     "execution_count": 7,
     "metadata": {},
     "output_type": "execute_result"
    }
   ],
   "source": [
    "[row[1] for row in M] # Column 2"
   ]
  },
  {
   "cell_type": "code",
   "execution_count": 8,
   "id": "f8185227",
   "metadata": {},
   "outputs": [
    {
     "data": {
      "text/plain": [
       "[2, 5, 8]"
      ]
     },
     "execution_count": 8,
     "metadata": {},
     "output_type": "execute_result"
    }
   ],
   "source": [
    "[M[row][1] for row in (0, 1, 2)]  # Using offsets"
   ]
  },
  {
   "cell_type": "code",
   "execution_count": 9,
   "id": "f48ca775",
   "metadata": {},
   "outputs": [
    {
     "data": {
      "text/plain": [
       "[2, 4, 6, 12, 15, 18, 28, 32, 36]"
      ]
     },
     "execution_count": 9,
     "metadata": {},
     "output_type": "execute_result"
    }
   ],
   "source": [
    "[M[row][col] * N[row][col] for row in range(3) for col in range(3)]"
   ]
  },
  {
   "cell_type": "code",
   "execution_count": 10,
   "id": "a1a5cbe2",
   "metadata": {},
   "outputs": [
    {
     "data": {
      "text/plain": [
       "[[2, 4, 6], [12, 15, 18], [28, 32, 36]]"
      ]
     },
     "execution_count": 10,
     "metadata": {},
     "output_type": "execute_result"
    }
   ],
   "source": [
    "[[col1 * col2 for (col1, col2) in zip(row1, row2)] for (row1, row2) in zip(M, N)]"
   ]
  },
  {
   "cell_type": "code",
   "execution_count": 11,
   "id": "a4344f4d",
   "metadata": {},
   "outputs": [
    {
     "data": {
      "text/plain": [
       "[[2, 4, 6], [12, 15, 18], [28, 32, 36]]"
      ]
     },
     "execution_count": 11,
     "metadata": {},
     "output_type": "execute_result"
    }
   ],
   "source": [
    "[[a * b for (a, b) in zip(row1, row2)] for (row1, row2) in zip(M, N)]"
   ]
  },
  {
   "cell_type": "markdown",
   "id": "aa4c5ab0",
   "metadata": {},
   "source": [
    "### GENERATOR FUNCTIONS"
   ]
  },
  {
   "cell_type": "code",
   "execution_count": 13,
   "id": "cb7075cd",
   "metadata": {},
   "outputs": [
    {
     "data": {
      "text/plain": [
       "[0, 1, 4, 9, 16]"
      ]
     },
     "execution_count": 13,
     "metadata": {},
     "output_type": "execute_result"
    }
   ],
   "source": [
    "def gensquares(N):\n",
    "        for i in range(N):\n",
    "            yield i ** 2 \n",
    "\n",
    "list(gensquares(5))"
   ]
  },
  {
   "cell_type": "code",
   "execution_count": 14,
   "id": "787b47c3",
   "metadata": {},
   "outputs": [
    {
     "data": {
      "text/plain": [
       "0"
      ]
     },
     "execution_count": 14,
     "metadata": {},
     "output_type": "execute_result"
    }
   ],
   "source": [
    "x = gensquares(4)\n",
    "next(x)   "
   ]
  },
  {
   "cell_type": "code",
   "execution_count": 15,
   "id": "1dd0502c",
   "metadata": {},
   "outputs": [
    {
     "data": {
      "text/plain": [
       "1"
      ]
     },
     "execution_count": 15,
     "metadata": {},
     "output_type": "execute_result"
    }
   ],
   "source": [
    "next(x)   "
   ]
  },
  {
   "cell_type": "code",
   "execution_count": 16,
   "id": "50c09f5a",
   "metadata": {},
   "outputs": [
    {
     "data": {
      "text/plain": [
       "4"
      ]
     },
     "execution_count": 16,
     "metadata": {},
     "output_type": "execute_result"
    }
   ],
   "source": [
    "next(x)   "
   ]
  },
  {
   "cell_type": "code",
   "execution_count": 17,
   "id": "c48626db",
   "metadata": {},
   "outputs": [
    {
     "data": {
      "text/plain": [
       "9"
      ]
     },
     "execution_count": 17,
     "metadata": {},
     "output_type": "execute_result"
    }
   ],
   "source": [
    "next(x)   "
   ]
  },
  {
   "cell_type": "code",
   "execution_count": 18,
   "id": "b73a25eb",
   "metadata": {},
   "outputs": [
    {
     "ename": "StopIteration",
     "evalue": "",
     "output_type": "error",
     "traceback": [
      "\u001b[1;31m---------------------------------------------------------------------------\u001b[0m",
      "\u001b[1;31mStopIteration\u001b[0m                             Traceback (most recent call last)",
      "\u001b[1;32m~\\AppData\\Local\\Temp/ipykernel_4120/3163494582.py\u001b[0m in \u001b[0;36m<module>\u001b[1;34m\u001b[0m\n\u001b[1;32m----> 1\u001b[1;33m \u001b[0mnext\u001b[0m\u001b[1;33m(\u001b[0m\u001b[0mx\u001b[0m\u001b[1;33m)\u001b[0m\u001b[1;33m\u001b[0m\u001b[1;33m\u001b[0m\u001b[0m\n\u001b[0m",
      "\u001b[1;31mStopIteration\u001b[0m: "
     ]
    }
   ],
   "source": [
    "next(x)   "
   ]
  },
  {
   "cell_type": "markdown",
   "id": "4fa48070",
   "metadata": {},
   "source": [
    "### SEND VERSUS NEXT"
   ]
  },
  {
   "cell_type": "code",
   "execution_count": 20,
   "id": "74caf1a2",
   "metadata": {},
   "outputs": [
    {
     "data": {
      "text/plain": [
       "0"
      ]
     },
     "execution_count": 20,
     "metadata": {},
     "output_type": "execute_result"
    }
   ],
   "source": [
    "def gen():\n",
    "       for i in range(10):\n",
    "           X = yield i\n",
    "           print(X)\n",
    "\n",
    "G = gen()\n",
    "next(G)  "
   ]
  },
  {
   "cell_type": "code",
   "execution_count": 21,
   "id": "0f988597",
   "metadata": {},
   "outputs": [
    {
     "name": "stdout",
     "output_type": "stream",
     "text": [
      "None\n"
     ]
    },
    {
     "data": {
      "text/plain": [
       "1"
      ]
     },
     "execution_count": 21,
     "metadata": {},
     "output_type": "execute_result"
    }
   ],
   "source": [
    "next(G)  "
   ]
  },
  {
   "cell_type": "code",
   "execution_count": 22,
   "id": "dd419dfe",
   "metadata": {},
   "outputs": [
    {
     "name": "stdout",
     "output_type": "stream",
     "text": [
      "77\n"
     ]
    },
    {
     "data": {
      "text/plain": [
       "2"
      ]
     },
     "execution_count": 22,
     "metadata": {},
     "output_type": "execute_result"
    }
   ],
   "source": [
    "G.send(77) "
   ]
  },
  {
   "cell_type": "code",
   "execution_count": 23,
   "id": "bfdc3444",
   "metadata": {},
   "outputs": [
    {
     "name": "stdout",
     "output_type": "stream",
     "text": [
      "88\n"
     ]
    },
    {
     "data": {
      "text/plain": [
       "3"
      ]
     },
     "execution_count": 23,
     "metadata": {},
     "output_type": "execute_result"
    }
   ],
   "source": [
    "G.send(88)"
   ]
  },
  {
   "cell_type": "code",
   "execution_count": 24,
   "id": "36d4ab5d",
   "metadata": {},
   "outputs": [
    {
     "name": "stdout",
     "output_type": "stream",
     "text": [
      "None\n"
     ]
    },
    {
     "data": {
      "text/plain": [
       "4"
      ]
     },
     "execution_count": 24,
     "metadata": {},
     "output_type": "execute_result"
    }
   ],
   "source": [
    "next(G)"
   ]
  },
  {
   "cell_type": "markdown",
   "id": "12419620",
   "metadata": {},
   "source": [
    "### Generator Expressions: Iterables Meet Comprehensions"
   ]
  },
  {
   "cell_type": "code",
   "execution_count": 25,
   "id": "7d5abd12",
   "metadata": {},
   "outputs": [
    {
     "data": {
      "text/plain": [
       "[0, 1, 4, 9]"
      ]
     },
     "execution_count": 25,
     "metadata": {},
     "output_type": "execute_result"
    }
   ],
   "source": [
    "[x ** 2 for x in range(4)]          # List comprehension: build a list"
   ]
  },
  {
   "cell_type": "code",
   "execution_count": 26,
   "id": "f3c5b711",
   "metadata": {},
   "outputs": [
    {
     "data": {
      "text/plain": [
       "<generator object <genexpr> at 0x0000026D622F9C80>"
      ]
     },
     "execution_count": 26,
     "metadata": {},
     "output_type": "execute_result"
    }
   ],
   "source": [
    "(x ** 2 for x in range(4))          # Generator expression: make an iterable"
   ]
  },
  {
   "cell_type": "code",
   "execution_count": 27,
   "id": "bed8c01c",
   "metadata": {},
   "outputs": [
    {
     "data": {
      "text/plain": [
       "[0, 1, 4, 9]"
      ]
     },
     "execution_count": 27,
     "metadata": {},
     "output_type": "execute_result"
    }
   ],
   "source": [
    "list(x ** 2 for x in range(4))      # List comprehension equivalence"
   ]
  },
  {
   "cell_type": "code",
   "execution_count": 31,
   "id": "44f21df4",
   "metadata": {},
   "outputs": [
    {
     "data": {
      "text/plain": [
       "True"
      ]
     },
     "execution_count": 31,
     "metadata": {},
     "output_type": "execute_result"
    }
   ],
   "source": [
    "G = (x ** 2 for x in range(4))\n",
    "iter(G) is G                       # iter(G) optional: __iter__ returns self"
   ]
  },
  {
   "cell_type": "code",
   "execution_count": 32,
   "id": "72d05045",
   "metadata": {},
   "outputs": [
    {
     "data": {
      "text/plain": [
       "(0, 1, 4, 9)"
      ]
     },
     "execution_count": 32,
     "metadata": {},
     "output_type": "execute_result"
    }
   ],
   "source": [
    "next(G), next(G), next(G), next(G)"
   ]
  },
  {
   "cell_type": "code",
   "execution_count": 33,
   "id": "bd949ffa",
   "metadata": {},
   "outputs": [
    {
     "ename": "StopIteration",
     "evalue": "",
     "output_type": "error",
     "traceback": [
      "\u001b[1;31m---------------------------------------------------------------------------\u001b[0m",
      "\u001b[1;31mStopIteration\u001b[0m                             Traceback (most recent call last)",
      "\u001b[1;32m~\\AppData\\Local\\Temp/ipykernel_4120/2339742978.py\u001b[0m in \u001b[0;36m<module>\u001b[1;34m\u001b[0m\n\u001b[1;32m----> 1\u001b[1;33m \u001b[0mnext\u001b[0m\u001b[1;33m(\u001b[0m\u001b[0mG\u001b[0m\u001b[1;33m)\u001b[0m\u001b[1;33m\u001b[0m\u001b[1;33m\u001b[0m\u001b[0m\n\u001b[0m",
      "\u001b[1;31mStopIteration\u001b[0m: "
     ]
    }
   ],
   "source": [
    "next(G)"
   ]
  },
  {
   "cell_type": "code",
   "execution_count": 34,
   "id": "11365511",
   "metadata": {},
   "outputs": [
    {
     "name": "stdout",
     "output_type": "stream",
     "text": [
      "0, 0.0\n",
      "1, 0.5\n",
      "4, 2.0\n",
      "9, 4.5\n"
     ]
    }
   ],
   "source": [
    "for num in (x ** 2 for x in range(4)):          # Calls next() automatically\n",
    "        print('%s, %s' % (num, num / 2.0))"
   ]
  },
  {
   "cell_type": "code",
   "execution_count": 35,
   "id": "b5587cec",
   "metadata": {},
   "outputs": [
    {
     "data": {
      "text/plain": [
       "'AAABBBCCC'"
      ]
     },
     "execution_count": 35,
     "metadata": {},
     "output_type": "execute_result"
    }
   ],
   "source": [
    "''.join(x.upper() for x in 'aaa,bbb,ccc'.split(','))"
   ]
  },
  {
   "cell_type": "code",
   "execution_count": 36,
   "id": "f2f6cef4",
   "metadata": {},
   "outputs": [
    {
     "data": {
      "text/plain": [
       "[0, 1, 4, 9]"
      ]
     },
     "execution_count": 36,
     "metadata": {},
     "output_type": "execute_result"
    }
   ],
   "source": [
    "sorted(x ** 2 for x in range(4))                        # Parens optional"
   ]
  },
  {
   "cell_type": "code",
   "execution_count": 37,
   "id": "aa035f84",
   "metadata": {},
   "outputs": [
    {
     "data": {
      "text/plain": [
       "[9, 4, 1, 0]"
      ]
     },
     "execution_count": 37,
     "metadata": {},
     "output_type": "execute_result"
    }
   ],
   "source": [
    "sorted((x ** 2 for x in range(4)), reverse=True)        # Parens required"
   ]
  },
  {
   "cell_type": "markdown",
   "id": "35a4a7a9",
   "metadata": {},
   "source": [
    "# Chapter 21. The Benchmarking Interlude"
   ]
  },
  {
   "cell_type": "code",
   "execution_count": null,
   "id": "aab99d27",
   "metadata": {},
   "outputs": [],
   "source": [
    "# File timer.py\n",
    "\"\"\"\n",
    "Homegrown timing tools for function calls.\n",
    "Does total time, best-of time, and best-of-totals time\n",
    "\"\"\"\n",
    "\n",
    "import time, sys\n",
    "timer = time.perf_counter if sys.platform[:3] == 'win' else time.time\n",
    "\n",
    "def total(reps, func, *pargs, **kargs):          \n",
    "    \"\"\"\n",
    "    Total time to run func() reps times.\n",
    "    Returns (total time, last result)\n",
    "    \"\"\"\n",
    "    repslist = list(range(reps))                 # Hoist out, equalize 2.x, 3.x\n",
    "    start = timer()                              # Or perf_counter/other in 3.3+\n",
    "    for i in repslist:\n",
    "        ret = func(*pargs, **kargs)\n",
    "    elapsed = timer() - start\n",
    "    return (elapsed, ret)                       \n",
    "\n",
    "def bestof(reps, func, *pargs, **kargs):         \n",
    "    \"\"\"\n",
    "    Quickest func() among reps runs.\n",
    "    Returns (best time, last result)\n",
    "    \"\"\" \n",
    "    best = 2 ** 32                               # 136 years seems large enough\n",
    "    for i in range(reps):                        # range usage not timed here\n",
    "        start = timer()\n",
    "        ret = func(*pargs, **kargs)\n",
    "        elapsed = timer() - start                # Or call total() with reps=1\n",
    "        if elapsed < best: best = elapsed        # Or add to list and take min()\n",
    "    return (best, ret)                     \n",
    "\n",
    "def bestoftotal(reps1, reps2, func, *pargs, **kargs):\n",
    "    \"\"\"\n",
    "    Best of totals: \n",
    "    (best of reps1 runs of (total of reps2 runs of func))\n",
    "    \"\"\"\n",
    "    return bestof(reps1, total, reps2, func, *pargs, **kargs)\n"
   ]
  },
  {
   "cell_type": "code",
   "execution_count": 1,
   "id": "5f1e873d",
   "metadata": {},
   "outputs": [
    {
     "data": {
      "text/plain": [
       "[0, 1, 2, 3, 4]"
      ]
     },
     "execution_count": 1,
     "metadata": {},
     "output_type": "execute_result"
    }
   ],
   "source": [
    "list(range(5)) "
   ]
  },
  {
   "cell_type": "code",
   "execution_count": 2,
   "id": "b8cc69b0",
   "metadata": {},
   "outputs": [
    {
     "data": {
      "text/plain": [
       "0.10026139999999906"
      ]
     },
     "execution_count": 2,
     "metadata": {},
     "output_type": "execute_result"
    }
   ],
   "source": [
    "import timer\n",
    "timer.total(100000, pow, 2, 1000)[0]          # Compare to timer0 results above"
   ]
  },
  {
   "cell_type": "code",
   "execution_count": 3,
   "id": "6fabd64e",
   "metadata": {},
   "outputs": [
    {
     "data": {
      "text/plain": [
       "(9.99999993922529e-08, 'SPAM')"
      ]
     },
     "execution_count": 3,
     "metadata": {},
     "output_type": "execute_result"
    }
   ],
   "source": [
    "timer.bestof(1000, str.upper, 'spam')       # 1/1000 as long as total time"
   ]
  },
  {
   "cell_type": "code",
   "execution_count": 4,
   "id": "f6bf0789",
   "metadata": {},
   "outputs": [
    {
     "data": {
      "text/plain": [
       "0.002970200000000034"
      ]
     },
     "execution_count": 4,
     "metadata": {},
     "output_type": "execute_result"
    }
   ],
   "source": [
    "timer.bestof(1000, pow, 2, 1000000)[0]"
   ]
  },
  {
   "cell_type": "code",
   "execution_count": 1,
   "id": "ab2acb10",
   "metadata": {},
   "outputs": [
    {
     "name": "stdout",
     "output_type": "stream",
     "text": [
      "3.8.5 (default, Sep  3 2020, 21:29:08) [MSC v.1916 64 bit (AMD64)]\n",
      "forLoop  : 0.73906 => [0...9999]\n",
      "listComp : 0.43188 => [0...9999]\n",
      "mapCall  : 0.15807 => [0...9999]\n",
      "genExpr  : 0.62454 => [0...9999]\n",
      "genFunc  : 0.61965 => [0...9999]\n"
     ]
    }
   ],
   "source": [
    "# File timeseqs.py\n",
    "\"Test the relative speed of iteration tool alternatives.\"\n",
    "\n",
    "import sys, timer                                # Import timer functions\n",
    "reps = 10000\n",
    "repslist = list(range(reps))                     # Hoist out, list in both 2.X/3.X\n",
    "\n",
    "def forLoop():\n",
    "    res = []\n",
    "    for x in repslist:\n",
    "        res.append(abs(x))\n",
    "    return res\n",
    "\n",
    "def listComp():\n",
    "    return [abs(x) for x in repslist]\n",
    "\n",
    "def mapCall():\n",
    "    return list(map(abs, repslist))              # Use list() here in 3.X only!\n",
    "  # return map(abs, repslist)\n",
    "\n",
    "def genExpr():\n",
    "    return list(abs(x) for x in repslist)        # list() required to force results\n",
    "\n",
    "def genFunc():\n",
    "    def gen():\n",
    "        for x in repslist:\n",
    "            yield abs(x)\n",
    "    return list(gen())                           # list() required to force results\n",
    "\n",
    "print(sys.version)\n",
    "for test in (forLoop, listComp, mapCall, genExpr, genFunc):\n",
    "    (bestof, (total, result)) = timer.bestoftotal(5, 1000, test)\n",
    "    print ('%-9s: %.5f => [%s...%s]' %\n",
    "           (test.__name__, bestof, result[0], result[-1]))"
   ]
  },
  {
   "cell_type": "code",
   "execution_count": null,
   "id": "c006ebe2",
   "metadata": {},
   "outputs": [],
   "source": [
    "!C:\\Users\\lidan\\pypy\\pypy.exe timeseqs.py"
   ]
  },
  {
   "cell_type": "code",
   "execution_count": null,
   "id": "edd3d6a4",
   "metadata": {},
   "outputs": [],
   "source": [
    "# File timer2.py (2.X and 3.X)\n",
    "\"\"\"\n",
    "total(spam, 1, 2, a=3, b=4, _reps=1000) calls and times spam(1, 2, a=3, b=4)\n",
    "_reps times, and returns total time for all runs, with final result.\n",
    "\n",
    "bestof(spam, 1, 2, a=3, b=4, _reps=5) runs best-of-N timer to attempt to\n",
    "filter out system load variation, and returns best time among _reps tests.\n",
    "\n",
    "bestoftotal(spam 1, 2, a=3, b=4, _rep1=5, reps=1000) runs best-of-totals\n",
    "test, which takes the best among _reps1 runs of (the total of _reps runs);\n",
    "\"\"\"\n",
    "\n",
    "import time, sys\n",
    "timer = time.perf_counter if sys.platform[:3] == 'win' else time.time\n",
    "\n",
    "def total(func, *pargs, **kargs):\n",
    "    _reps = kargs.pop('_reps', 1000)    # Passed-in or default reps\n",
    "    repslist = list(range(_reps))       # Hoist range out for 2.6 lists\n",
    "    start = timer()\n",
    "    for i in repslist:\n",
    "        ret = func(*pargs, **kargs)\n",
    "    elapsed = timer() - start\n",
    "    return (elapsed, ret)\n",
    "\n",
    "def bestof(func, *pargs, **kargs):\n",
    "    _reps = kargs.pop('_reps', 5)\n",
    "    best = 2 ** 32\n",
    "    for i in range(_reps):\n",
    "        start = timer()\n",
    "        ret = func(*pargs, **kargs)\n",
    "        elapsed = timer() - start\n",
    "        if elapsed < best: best = elapsed\n",
    "    return (best, ret)\n",
    "\n",
    "def bestoftotal(func, *pargs, **kargs):\n",
    "    _reps1 = kargs.pop('_reps1', 5)\n",
    "    return min(total(func, *pargs, **kargs) for i in range(_reps1))\n"
   ]
  },
  {
   "cell_type": "code",
   "execution_count": 1,
   "id": "b8c1bf8c",
   "metadata": {},
   "outputs": [
    {
     "name": "stdout",
     "output_type": "stream",
     "text": [
      "3.8.5 (default, Sep  3 2020, 21:29:08) [MSC v.1916 64 bit (AMD64)]\n",
      "forLoop  : 0.75503 => [0...9999]\n",
      "listComp : 0.43615 => [0...9999]\n",
      "mapCall  : 0.15751 => [0...9999]\n",
      "genExpr  : 0.63888 => [0...9999]\n",
      "genFunc  : 0.64569 => [0...9999]\n"
     ]
    }
   ],
   "source": [
    "# File timeseqs_timer2.py\n",
    "\"Test the relative speed of iteration tool alternatives: timer2 version\"\n",
    "\n",
    "import sys, timer2                               # <==differs\n",
    "reps = 10000\n",
    "repslist = list(range(reps))                     # Hoist out, list in both 2.X/3.X\n",
    "\n",
    "def forLoop():\n",
    "    res = []\n",
    "    for x in repslist:\n",
    "        res.append(abs(x))\n",
    "    return res\n",
    "\n",
    "def listComp():\n",
    "    return [abs(x) for x in repslist]\n",
    "\n",
    "def mapCall():\n",
    "    return list(map(abs, repslist))              # Use list here in 3.0 only!\n",
    "  # return map(abs, repslist)\n",
    "\n",
    "def genExpr():\n",
    "    return list(abs(x) for x in repslist)        # list required to force results\n",
    "\n",
    "def genFunc():\n",
    "    def gen():\n",
    "        for x in repslist:\n",
    "            yield abs(x)\n",
    "    return list(gen())                           # list required to force results\n",
    "\n",
    "print(sys.version)\n",
    "for test in (forLoop, listComp, mapCall, genExpr, genFunc):\n",
    "    (total, result) = timer2.bestoftotal(test, _reps1=5, _reps=1000)\n",
    "# Or:\n",
    "#   (total, result) = timer2.bestoftotal(test)\n",
    "#   (total, result) = timer2.bestof(test, _reps=5)  \n",
    "#   (total, result) = timer2.total(test, _reps=1000)  \n",
    "#   (bestof, (total, result)) = timer2.bestof(timer2.total, test, _reps=5)  \n",
    "\n",
    "    print ('%-9s: %.5f => [%s...%s]' %\n",
    "           (test.__name__, total, result[0], result[-1]))\n"
   ]
  },
  {
   "cell_type": "code",
   "execution_count": 2,
   "id": "5aebbd53",
   "metadata": {},
   "outputs": [
    {
     "data": {
      "text/plain": [
       "0.001037800000176503"
      ]
     },
     "execution_count": 2,
     "metadata": {},
     "output_type": "execute_result"
    }
   ],
   "source": [
    "import timer\n",
    "timer.total(1000, pow, 2, 1000)[0]  # Compare to timer0 results above"
   ]
  },
  {
   "cell_type": "code",
   "execution_count": 3,
   "id": "40b1c988",
   "metadata": {},
   "outputs": [
    {
     "data": {
      "text/plain": [
       "(7.569999979750719e-05, 'SPAM')"
      ]
     },
     "execution_count": 3,
     "metadata": {},
     "output_type": "execute_result"
    }
   ],
   "source": [
    "timer.total(1000, str.upper, 'spam')   # Returns (time, last call's result)"
   ]
  },
  {
   "cell_type": "code",
   "execution_count": 4,
   "id": "8cfd2160",
   "metadata": {},
   "outputs": [
    {
     "data": {
      "text/plain": [
       "(1.9999970390927047e-07, 'SPAM')"
      ]
     },
     "execution_count": 4,
     "metadata": {},
     "output_type": "execute_result"
    }
   ],
   "source": [
    "timer.bestof(1000, str.upper, 'spam')       # 1/1000 as long as total time"
   ]
  },
  {
   "cell_type": "code",
   "execution_count": 5,
   "id": "5034548f",
   "metadata": {},
   "outputs": [
    {
     "data": {
      "text/plain": [
       "0.0012846999998146202"
      ]
     },
     "execution_count": 5,
     "metadata": {},
     "output_type": "execute_result"
    }
   ],
   "source": [
    "from timer2 import total, bestof, bestoftotal\n",
    "total(pow, 2, 1000)[0]                                 # 2 ** 1000, 1K dflt reps"
   ]
  },
  {
   "cell_type": "code",
   "execution_count": 6,
   "id": "2ec22af4",
   "metadata": {},
   "outputs": [
    {
     "data": {
      "text/plain": [
       "0.001530699999875651"
      ]
     },
     "execution_count": 6,
     "metadata": {},
     "output_type": "execute_result"
    }
   ],
   "source": [
    "total(pow, 2, 1000, _reps=1000)[0]                     # 2 ** 1000, 1K reps"
   ]
  },
  {
   "cell_type": "code",
   "execution_count": 7,
   "id": "b91c0ab7",
   "metadata": {},
   "outputs": [
    {
     "data": {
      "text/plain": [
       "0.9432596999999987"
      ]
     },
     "execution_count": 7,
     "metadata": {},
     "output_type": "execute_result"
    }
   ],
   "source": [
    "total(pow, 2, 1000, _reps=1000000)[0]                  # 2 ** 1000, 1M reps"
   ]
  },
  {
   "cell_type": "code",
   "execution_count": 8,
   "id": "a3349b49",
   "metadata": {},
   "outputs": [
    {
     "data": {
      "text/plain": [
       "0.0002616000001580687"
      ]
     },
     "execution_count": 8,
     "metadata": {},
     "output_type": "execute_result"
    }
   ],
   "source": [
    "bestof(pow, 2, 100000)[0]                              # 2 ** 100K, 5 dflt reps"
   ]
  },
  {
   "cell_type": "code",
   "execution_count": 9,
   "id": "0a2c8afb",
   "metadata": {},
   "outputs": [
    {
     "data": {
      "text/plain": [
       "0.0030494999996335537"
      ]
     },
     "execution_count": 9,
     "metadata": {},
     "output_type": "execute_result"
    }
   ],
   "source": [
    "bestof(pow, 2, 1000000, _reps=30)[0]                   # 2 ** 1M, best of 30"
   ]
  },
  {
   "cell_type": "code",
   "execution_count": 10,
   "id": "db02cdb8",
   "metadata": {},
   "outputs": [
    {
     "data": {
      "text/plain": [
       "(7.060000007186318e-05, 'SPAM')"
      ]
     },
     "execution_count": 10,
     "metadata": {},
     "output_type": "execute_result"
    }
   ],
   "source": [
    "bestoftotal(str.upper, 'spam', _reps1=30, _reps=1000)  # Best of 30, tot of 1K"
   ]
  },
  {
   "cell_type": "code",
   "execution_count": 11,
   "id": "f80d798b",
   "metadata": {},
   "outputs": [
    {
     "data": {
      "text/plain": [
       "(8.429999979853164e-05, (7.349999987127376e-05, 'SPAM'))"
      ]
     },
     "execution_count": 11,
     "metadata": {},
     "output_type": "execute_result"
    }
   ],
   "source": [
    "bestof(total, str.upper, 'spam', _reps=30)             # Nested calls work too"
   ]
  },
  {
   "cell_type": "code",
   "execution_count": null,
   "id": "7917e8fe",
   "metadata": {},
   "outputs": [],
   "source": [
    "# File timer3.py (3.X only)\n",
    "\"\"\"\n",
    "Same usage as timer2.py, but uses 3.X keyword-only default arguments\n",
    "instead of dict pops for simpler code.  No need to hoist range() out \n",
    "of tests in 3.X: always a generator in 3.X, and this can't run on 2.X.\n",
    "\"\"\"\n",
    "import time, sys\n",
    "timer = time.perf_counter if sys.platform[:3] == 'win' else time.time\n",
    "\n",
    "def total(func, *pargs, _reps=1000, **kargs):\n",
    "    start = timer()\n",
    "    for i in range(_reps):\n",
    "        ret = func(*pargs, **kargs)\n",
    "    elapsed = timer() - start\n",
    "    return (elapsed, ret)\n",
    "\n",
    "def bestof(func, *pargs, _reps=5, **kargs):\n",
    "    best = 2 ** 32\n",
    "    for i in range(_reps):\n",
    "        start = timer()\n",
    "        ret = func(*pargs, **kargs)\n",
    "        elapsed = timer() - start\n",
    "        if elapsed < best: best = elapsed\n",
    "    return (best, ret)\n",
    "\n",
    "def bestoftotal(func, *pargs, _reps1=5, **kargs):\n",
    "    return min(total(func, *pargs, **kargs) for i in range(_reps1)) \n"
   ]
  },
  {
   "cell_type": "code",
   "execution_count": null,
   "id": "497041fd",
   "metadata": {},
   "outputs": [],
   "source": [
    "import sys, timer3                             # <==differs\n",
    "reps = 10000\n",
    "repslist = list(range(reps))                     # Hoist out, list in both 2.X/3.X\n",
    "\n",
    "def forLoop():\n",
    "    res = []\n",
    "    for x in repslist:\n",
    "        res.append(abs(x))\n",
    "    return res\n",
    "\n",
    "def listComp():\n",
    "    return [abs(x) for x in repslist]\n",
    "\n",
    "def mapCall():\n",
    "    return list(map(abs, repslist))              # Use list here in 3.0 only!\n",
    "  # return map(abs, repslist)\n",
    "\n",
    "def genExpr():\n",
    "    return list(abs(x) for x in repslist)        # list required to force results\n",
    "\n",
    "def genFunc():\n",
    "    def gen():\n",
    "        for x in repslist:\n",
    "            yield abs(x)\n",
    "    return list(gen())                           # list required to force results\n",
    "\n",
    "print(sys.version)\n",
    "for test in (forLoop, listComp, mapCall, genExpr, genFunc):\n",
    "    (total, result) = timer3.bestoftotal(test, _reps1=5, _reps=1000)\n",
    "\n",
    "    print ('%-9s: %.5f => [%s...%s]' %\n",
    "           (test.__name__, total, result[0], result[-1]))\n"
   ]
  },
  {
   "cell_type": "code",
   "execution_count": 1,
   "id": "b15c3e18",
   "metadata": {},
   "outputs": [
    {
     "data": {
      "text/plain": [
       "0.21200890000000072"
      ]
     },
     "execution_count": 1,
     "metadata": {},
     "output_type": "execute_result"
    }
   ],
   "source": [
    "import timeit\n",
    "min(timeit.repeat(stmt=\"[x ** 2 for x in range(1000)]\", number=1000, repeat=5))"
   ]
  },
  {
   "cell_type": "code",
   "execution_count": 6,
   "id": "af4594c0",
   "metadata": {},
   "outputs": [
    {
     "name": "stdout",
     "output_type": "stream",
     "text": [
      "0.21181310000000053\n"
     ]
    }
   ],
   "source": [
    "#timeit.py\n",
    "import timeit \n",
    "print(min(timeit.repeat(stmt=\"[x ** 2 for x in range(1000)]\", number=1000, repeat=5)))"
   ]
  },
  {
   "cell_type": "code",
   "execution_count": 5,
   "id": "2fe6e76f",
   "metadata": {},
   "outputs": [
    {
     "name": "stdout",
     "output_type": "stream",
     "text": [
      "0.0015264000000000007\n"
     ]
    }
   ],
   "source": [
    "!C:\\Users\\lidan\\pypy\\pypy.exe mytimeit.py"
   ]
  },
  {
   "cell_type": "code",
   "execution_count": null,
   "id": "98d988bc",
   "metadata": {},
   "outputs": [],
   "source": [
    "\"\"\"\n",
    "pybench.py: Test speed of one or more Pythons on a set of simple \n",
    "code-string benchmarks.  A function, to allow stmts to vary.\n",
    "This system itself runs on both 2.X and 3.X, and may spawn both.\n",
    "\n",
    "Uses timeit to test either the Python running this script by API\n",
    "calls, or a set of Pythons by reading spawned command-line outputs\n",
    "(os.popen) with Python's -m flag to find timeit on module search path.\n",
    "\n",
    "Replaces $listif3 with a list() around generators for 3.X and an \n",
    "empty string for 2.X, so 3.X does same work as 2.X.  In command-line\n",
    "mode only, must split multiline statements into one separate quoted \n",
    "argument per line so all will be run (else might run/time first line\n",
    "only), and replace all \\t in indentation with 4 spaces for uniformity.\n",
    "\n",
    "Caveats: command-line mode (only) may fail if test stmt embeds double\n",
    "quotes, quoted stmt string is incompatible with shell in general, or\n",
    "command-line exceeds a length limit on platform's shell--use API call\n",
    "mode or homegrown timer; does not yet support a setup statement: as is,\n",
    "time of all statements in the test stmt are charged to the total time.\n",
    "\"\"\"\n",
    "\n",
    "import sys, os, timeit\n",
    "defnum, defrep= 1000, 5   # may vary per stmt\n",
    "\n",
    "def runner(stmts, pythons=None, tracecmd=False):\n",
    "    \"\"\"\n",
    "    Main logic: run tests per input lists, caller handles usage modes.\n",
    "    stmts:   [(number?, repeat?, stmt-string)], replaces $listif3 in stmt\n",
    "    pythons: None=this python only, or [(ispy3?, python-executable-path)]\n",
    "    \"\"\"\n",
    "    print(sys.version)\n",
    "    for (number, repeat, stmt) in stmts:\n",
    "        number = number or defnum\n",
    "        repeat = repeat or defrep  # 0=default\n",
    "\n",
    "        if not pythons:\n",
    "            # run stmt on this python: API call\n",
    "            # no need to split lines or quote here\n",
    "            ispy3 = sys.version[0] == '3'\n",
    "            stmt  = stmt.replace('$listif3', 'list' if ispy3 else '')\n",
    "            best  = min(timeit.repeat(stmt=stmt, number=number, repeat=repeat))\n",
    "            print('%.4f  [%r]' % (best, stmt[:70]))\n",
    "\n",
    "        else:\n",
    "            # run stmt on all pythons: command line\n",
    "            # split lines into quoted arguments\n",
    "            print('-' * 80)\n",
    "            print('[%r]' % stmt)\n",
    "            for (ispy3, python) in pythons:\n",
    "                stmt1 = stmt.replace('$listif3', 'list' if ispy3 else '')\n",
    "                stmt1 = stmt1.replace('\\t', ' ' * 4)\n",
    "                lines = stmt1.split('\\n')\n",
    "                args  = ' '.join('\"%s\"' % line for line in lines)\n",
    "                cmd = '%s -m timeit -n %s -r %s %s' % (python, number, repeat, args)\n",
    "                print(python)\n",
    "                if tracecmd: print(cmd)\n",
    "                print('\\t' + os.popen(cmd).read().rstrip())\n"
   ]
  },
  {
   "cell_type": "code",
   "execution_count": 8,
   "id": "cd554dbe",
   "metadata": {},
   "outputs": [
    {
     "name": "stdout",
     "output_type": "stream",
     "text": [
      "3.8.5 (default, Sep  3 2020, 21:29:08) [MSC v.1916 64 bit (AMD64)]\n",
      "0.2125  ['[x ** 2 for x in range(1000)]']\n",
      "0.2436  ['res=[]\\nfor x in range(1000): res.append(x ** 2)']\n",
      "0.2638  ['list(map(lambda x: x ** 2, range(1000)))']\n",
      "0.2284  ['list(x ** 2 for x in range(1000))']\n",
      "0.5216  [\"s = 'spam' * 2500\\nx = [s[i] for i in range(10000)]\"]\n",
      "1.6616  [\"s = '?'\\nfor i in range(10000): s += '?'\"]\n"
     ]
    }
   ],
   "source": [
    "#pybench_cases.py\n",
    "\"\"\"\n",
    "pybench_cases.py: Run pybench on a set of pythons and statements.\n",
    "\n",
    "Select modes by editing this script or using command-line arguments (in\n",
    "sys.argv): e.g., run a \"C:\\python27\\python pybench_cases.py\" to test just \n",
    "one specific version on stmts, \"pybench_cases.py -a\" to test all pythons \n",
    "listed, or a \"py -3 pybench_cases.py -a -t\" to trace command lines too.\n",
    "\"\"\"\n",
    "\n",
    "import pybench, sys\n",
    "\n",
    "pythons = [                                                         # (ispy3?, path)\n",
    "    (1, 'C:\\python33\\python'),\n",
    "    (0, 'C:\\python27\\python'),\n",
    "    (0, 'C:\\pypy\\pypy-1.9\\pypy')\n",
    "]\n",
    "\n",
    "stmts = [                                                           # (num,rpt,stmt)\n",
    "    (0, 0, \"[x ** 2 for x in range(1000)]\"),                        # Iterations                        \n",
    "    (0, 0, \"res=[]\\nfor x in range(1000): res.append(x ** 2)\"),     # \\n=multistmt\n",
    "    (0, 0, \"$listif3(map(lambda x: x ** 2, range(1000)))\"),         # \\n\\t=indent\n",
    "    (0, 0, \"list(x ** 2 for x in range(1000))\"),                    # $=list or ''\n",
    "    (0, 0, \"s = 'spam' * 2500\\nx = [s[i] for i in range(10000)]\"),  # String ops\n",
    "    (0, 0, \"s = '?'\\nfor i in range(10000): s += '?'\"),\n",
    "]\n",
    "\n",
    "tracecmd = '-t' in sys.argv                           # -t: trace commmand lines?\n",
    "pythons  = pythons if '-a' in sys.argv else None      # -a: all in list, else one?\n",
    "pybench.runner(stmts, pythons, tracecmd)\n"
   ]
  },
  {
   "cell_type": "code",
   "execution_count": 24,
   "id": "f20ce6bd",
   "metadata": {},
   "outputs": [
    {
     "name": "stdout",
     "output_type": "stream",
     "text": [
      "3.8.5 (default, Sep  3 2020, 21:29:08) [MSC v.1916 64 bit (AMD64)]\n",
      "0.2183  ['[x ** 2 for x in range(1000)]']\n",
      "0.2438  ['res=[]\\nfor x in range(1000): res.append(x ** 2)']\n",
      "0.2640  ['list(map(lambda x: x ** 2, range(1000)))']\n",
      "0.2287  ['list(x ** 2 for x in range(1000))']\n",
      "0.5318  [\"s = 'spam' * 2500\\nx = [s[i] for i in range(10000)]\"]\n",
      "2.5906  [\"s = '?'\\nfor i in range(10000): s += '?'\"]\n"
     ]
    },
    {
     "data": {
      "text/plain": [
       "<module 'pybench_cases' from 'D:\\\\books\\\\python\\\\0. Learning Python\\\\pybench_cases.py'>"
      ]
     },
     "execution_count": 24,
     "metadata": {},
     "output_type": "execute_result"
    }
   ],
   "source": [
    "import pybench_cases\n",
    "pybench_cases"
   ]
  },
  {
   "cell_type": "code",
   "execution_count": 7,
   "id": "42ec20ec",
   "metadata": {},
   "outputs": [
    {
     "name": "stdout",
     "output_type": "stream",
     "text": [
      "3.8.5 (default, Sep  3 2020, 21:29:08) [MSC v.1916 64 bit (AMD64)]\n",
      "0.2069  ['[x ** 2 for x in range(1000)]']\n",
      "0.2395  ['res=[]\\nfor x in range(1000): res.append(x ** 2)']\n",
      "0.2646  ['list(map(lambda x: x ** 2, range(1000)))']\n",
      "0.2316  ['list(x ** 2 for x in range(1000))']\n",
      "0.5238  [\"s = 'spam' * 2500\\nx = [s[i] for i in range(10000)]\"]\n",
      "1.0431  [\"s = '?'\\nfor i in range(10000): s += '?'\"]\n"
     ]
    }
   ],
   "source": [
    "!python pybench_cases.py"
   ]
  },
  {
   "cell_type": "code",
   "execution_count": 9,
   "id": "c86d66ad",
   "metadata": {},
   "outputs": [
    {
     "name": "stdout",
     "output_type": "stream",
     "text": [
      "3.8.12 (0089b4a7ab2306925a251b35912885d52ead1aba, Mar 16 2022, 13:51:04)\n",
      "[PyPy 7.3.9 with MSC v.1929 64 bit (AMD64)]\n",
      "0.0015  ['[x ** 2 for x in range(1000)]']\n",
      "0.0040  ['res=[]\\nfor x in range(1000): res.append(x ** 2)']\n",
      "0.0039  ['list(map(lambda x: x ** 2, range(1000)))']\n",
      "0.0092  ['list(x ** 2 for x in range(1000))']\n",
      "0.2515  [\"s = 'spam' * 2500\\nx = [s[i] for i in range(10000)]\"]\n",
      "1.6062  [\"s = '?'\\nfor i in range(10000): s += '?'\"]\n"
     ]
    }
   ],
   "source": [
    "!C:\\Users\\lidan\\pypy\\pypy.exe pybench_cases.py"
   ]
  },
  {
   "cell_type": "markdown",
   "id": "2ea10c4a",
   "metadata": {},
   "source": [
    "###  function attributes"
   ]
  },
  {
   "cell_type": "code",
   "execution_count": 10,
   "id": "79856b70",
   "metadata": {},
   "outputs": [
    {
     "name": "stdout",
     "output_type": "stream",
     "text": [
      "[1]\n"
     ]
    }
   ],
   "source": [
    "def saver():\n",
    "        saver.x.append(1)\n",
    "        print(saver.x)\n",
    "\n",
    "saver.x = []\n",
    "saver()"
   ]
  },
  {
   "cell_type": "code",
   "execution_count": 11,
   "id": "d3df9e36",
   "metadata": {},
   "outputs": [
    {
     "name": "stdout",
     "output_type": "stream",
     "text": [
      "[1, 1]\n"
     ]
    }
   ],
   "source": [
    "saver()"
   ]
  },
  {
   "cell_type": "code",
   "execution_count": 12,
   "id": "ca161aae",
   "metadata": {},
   "outputs": [
    {
     "data": {
      "text/plain": [
       "['__annotations__',\n",
       " '__call__',\n",
       " '__class__',\n",
       " '__closure__',\n",
       " '__code__',\n",
       " '__defaults__',\n",
       " '__delattr__',\n",
       " '__dict__',\n",
       " '__dir__',\n",
       " '__doc__',\n",
       " '__eq__',\n",
       " '__format__',\n",
       " '__ge__',\n",
       " '__get__',\n",
       " '__getattribute__',\n",
       " '__globals__',\n",
       " '__gt__',\n",
       " '__hash__',\n",
       " '__init__',\n",
       " '__init_subclass__',\n",
       " '__kwdefaults__',\n",
       " '__le__',\n",
       " '__lt__',\n",
       " '__module__',\n",
       " '__name__',\n",
       " '__ne__',\n",
       " '__new__',\n",
       " '__qualname__',\n",
       " '__reduce__',\n",
       " '__reduce_ex__',\n",
       " '__repr__',\n",
       " '__setattr__',\n",
       " '__sizeof__',\n",
       " '__str__',\n",
       " '__subclasshook__',\n",
       " 'x']"
      ]
     },
     "execution_count": 12,
     "metadata": {},
     "output_type": "execute_result"
    }
   ],
   "source": [
    "dir(saver)"
   ]
  },
  {
   "cell_type": "markdown",
   "id": "2560e7d6",
   "metadata": {},
   "source": [
    "### Functions Without returns  \n",
    "\n",
    "\n",
    "Technically, all functions return a value; if you don’t provide a return statement, your function returns the `None` object automatically:"
   ]
  },
  {
   "cell_type": "code",
   "execution_count": 13,
   "id": "54b9ad5c",
   "metadata": {},
   "outputs": [
    {
     "name": "stdout",
     "output_type": "stream",
     "text": [
      "testing 123...\n",
      "None\n"
     ]
    }
   ],
   "source": [
    "def proc(x):\n",
    "        print(x)                 # No return is a None return\n",
    "\n",
    "x = proc('testing 123...')\n",
    "print(x)"
   ]
  },
  {
   "cell_type": "code",
   "execution_count": 14,
   "id": "cebb18d4",
   "metadata": {},
   "outputs": [
    {
     "name": "stdout",
     "output_type": "stream",
     "text": [
      "None\n"
     ]
    }
   ],
   "source": [
    "list = [1, 2, 3]\n",
    "list = list.append(4)        # append is a \"procedure\"\n",
    "print(list)                  # append changes list in place"
   ]
  },
  {
   "cell_type": "code",
   "execution_count": 17,
   "id": "8265490b",
   "metadata": {},
   "outputs": [
    {
     "data": {
      "text/plain": [
       "[1, 2, 3, 4]"
      ]
     },
     "execution_count": 17,
     "metadata": {},
     "output_type": "execute_result"
    }
   ],
   "source": [
    "list = [1, 2, 3]\n",
    "list.append(4)\n",
    "list"
   ]
  },
  {
   "cell_type": "markdown",
   "id": "d090c4be",
   "metadata": {},
   "source": [
    "# Chapter 22. Modules: The Big Picture"
   ]
  },
  {
   "cell_type": "code",
   "execution_count": 11,
   "id": "ded69307",
   "metadata": {},
   "outputs": [
    {
     "data": {
      "text/plain": [
       "['D:\\\\books\\\\python\\\\0. Learning Python',\n",
       " 'D:\\\\books\\\\python\\\\0. Learning Python\\\\code',\n",
       " 'C:\\\\Users\\\\lidan\\\\miniconda3\\\\python38.zip',\n",
       " 'C:\\\\Users\\\\lidan\\\\miniconda3\\\\DLLs',\n",
       " 'C:\\\\Users\\\\lidan\\\\miniconda3\\\\lib',\n",
       " 'C:\\\\Users\\\\lidan\\\\miniconda3',\n",
       " '',\n",
       " 'C:\\\\Users\\\\lidan\\\\AppData\\\\Roaming\\\\Python\\\\Python38\\\\site-packages',\n",
       " 'C:\\\\Users\\\\lidan\\\\miniconda3\\\\lib\\\\site-packages',\n",
       " 'C:\\\\Users\\\\lidan\\\\miniconda3\\\\lib\\\\site-packages\\\\magic_impute-2.0.4-py3.8.egg',\n",
       " 'd:\\\\r\\\\seurat\\\\etv4-13ewt\\\\batchglm',\n",
       " 'C:\\\\Users\\\\lidan\\\\miniconda3\\\\lib\\\\site-packages\\\\win32',\n",
       " 'C:\\\\Users\\\\lidan\\\\miniconda3\\\\lib\\\\site-packages\\\\win32\\\\lib',\n",
       " 'C:\\\\Users\\\\lidan\\\\miniconda3\\\\lib\\\\site-packages\\\\Pythonwin',\n",
       " 'C:\\\\Users\\\\lidan\\\\miniconda3\\\\lib\\\\site-packages\\\\IPython\\\\extensions',\n",
       " 'C:\\\\Users\\\\lidan\\\\.ipython']"
      ]
     },
     "execution_count": 11,
     "metadata": {},
     "output_type": "execute_result"
    }
   ],
   "source": [
    "import sys\n",
    "sys.path"
   ]
  },
  {
   "cell_type": "markdown",
   "id": "d4bdd78c",
   "metadata": {},
   "source": [
    "# Chapter 23. Module Coding Basics"
   ]
  },
  {
   "cell_type": "code",
   "execution_count": 4,
   "id": "0d487f72",
   "metadata": {},
   "outputs": [
    {
     "data": {
      "text/plain": [
       "(1, [1, 2])"
      ]
     },
     "execution_count": 4,
     "metadata": {},
     "output_type": "execute_result"
    }
   ],
   "source": [
    "from small import x, y \n",
    "x,y"
   ]
  },
  {
   "cell_type": "code",
   "execution_count": 5,
   "id": "42cbb0e4",
   "metadata": {},
   "outputs": [],
   "source": [
    "x = 42                         # Changes local x only\n",
    "y[0] = 42"
   ]
  },
  {
   "cell_type": "code",
   "execution_count": 6,
   "id": "a0bca5ef",
   "metadata": {},
   "outputs": [
    {
     "data": {
      "text/plain": [
       "(42, [42, 2])"
      ]
     },
     "execution_count": 6,
     "metadata": {},
     "output_type": "execute_result"
    }
   ],
   "source": [
    "x,y"
   ]
  },
  {
   "cell_type": "code",
   "execution_count": 7,
   "id": "9af1e180",
   "metadata": {},
   "outputs": [
    {
     "data": {
      "text/plain": [
       "(1, [42, 2])"
      ]
     },
     "execution_count": 7,
     "metadata": {},
     "output_type": "execute_result"
    }
   ],
   "source": [
    "from small import x, y \n",
    "x,y"
   ]
  },
  {
   "cell_type": "code",
   "execution_count": 8,
   "id": "38951c99",
   "metadata": {},
   "outputs": [
    {
     "name": "stdout",
     "output_type": "stream",
     "text": [
      "x = 1\n",
      "y = [1, 2]\n"
     ]
    }
   ],
   "source": [
    "!cat code/small.py"
   ]
  },
  {
   "cell_type": "code",
   "execution_count": 10,
   "id": "5fb6baff",
   "metadata": {},
   "outputs": [
    {
     "data": {
      "text/plain": [
       "{'__name__': 'small',\n",
       " '__doc__': None,\n",
       " '__package__': '',\n",
       " '__loader__': <_frozen_importlib_external.SourceFileLoader at 0x2d9e7ca4580>,\n",
       " '__spec__': ModuleSpec(name='small', loader=<_frozen_importlib_external.SourceFileLoader object at 0x000002D9E7CA4580>, origin='D:\\\\books\\\\python\\\\0. Learning Python\\\\code\\\\small.py'),\n",
       " '__file__': 'D:\\\\books\\\\python\\\\0. Learning Python\\\\code\\\\small.py',\n",
       " '__cached__': 'D:\\\\books\\\\python\\\\0. Learning Python\\\\code\\\\__pycache__\\\\small.cpython-38.pyc',\n",
       " '__builtins__': {'__name__': 'builtins',\n",
       "  '__doc__': \"Built-in functions, exceptions, and other objects.\\n\\nNoteworthy: None is the `nil' object; Ellipsis represents `...' in slices.\",\n",
       "  '__package__': '',\n",
       "  '__loader__': _frozen_importlib.BuiltinImporter,\n",
       "  '__spec__': ModuleSpec(name='builtins', loader=<class '_frozen_importlib.BuiltinImporter'>),\n",
       "  '__build_class__': <function __build_class__>,\n",
       "  '__import__': <function __import__>,\n",
       "  'abs': <function abs(x, /)>,\n",
       "  'all': <function all(iterable, /)>,\n",
       "  'any': <function any(iterable, /)>,\n",
       "  'ascii': <function ascii(obj, /)>,\n",
       "  'bin': <function bin(number, /)>,\n",
       "  'breakpoint': <function breakpoint>,\n",
       "  'callable': <function callable(obj, /)>,\n",
       "  'chr': <function chr(i, /)>,\n",
       "  'compile': <function compile(source, filename, mode, flags=0, dont_inherit=False, optimize=-1, *, _feature_version=-1)>,\n",
       "  'delattr': <function delattr(obj, name, /)>,\n",
       "  'dir': <function dir>,\n",
       "  'divmod': <function divmod(x, y, /)>,\n",
       "  'eval': <function eval(source, globals=None, locals=None, /)>,\n",
       "  'exec': <function exec(source, globals=None, locals=None, /)>,\n",
       "  'format': <function format(value, format_spec='', /)>,\n",
       "  'getattr': <function getattr>,\n",
       "  'globals': <function globals()>,\n",
       "  'hasattr': <function hasattr(obj, name, /)>,\n",
       "  'hash': <function hash(obj, /)>,\n",
       "  'hex': <function hex(number, /)>,\n",
       "  'id': <function id(obj, /)>,\n",
       "  'input': <bound method Kernel.raw_input of <ipykernel.ipkernel.IPythonKernel object at 0x000002D9E7C19B20>>,\n",
       "  'isinstance': <function isinstance(obj, class_or_tuple, /)>,\n",
       "  'issubclass': <function issubclass(cls, class_or_tuple, /)>,\n",
       "  'iter': <function iter>,\n",
       "  'len': <function len(obj, /)>,\n",
       "  'locals': <function locals()>,\n",
       "  'max': <function max>,\n",
       "  'min': <function min>,\n",
       "  'next': <function next>,\n",
       "  'oct': <function oct(number, /)>,\n",
       "  'ord': <function ord(c, /)>,\n",
       "  'pow': <function pow(base, exp, mod=None)>,\n",
       "  'print': <function print>,\n",
       "  'repr': <function repr(obj, /)>,\n",
       "  'round': <function round(number, ndigits=None)>,\n",
       "  'setattr': <function setattr(obj, name, value, /)>,\n",
       "  'sorted': <function sorted(iterable, /, *, key=None, reverse=False)>,\n",
       "  'sum': <function sum(iterable, /, start=0)>,\n",
       "  'vars': <function vars>,\n",
       "  'None': None,\n",
       "  'Ellipsis': Ellipsis,\n",
       "  'NotImplemented': NotImplemented,\n",
       "  'False': False,\n",
       "  'True': True,\n",
       "  'bool': bool,\n",
       "  'memoryview': memoryview,\n",
       "  'bytearray': bytearray,\n",
       "  'bytes': bytes,\n",
       "  'classmethod': classmethod,\n",
       "  'complex': complex,\n",
       "  'dict': dict,\n",
       "  'enumerate': enumerate,\n",
       "  'filter': filter,\n",
       "  'float': float,\n",
       "  'frozenset': frozenset,\n",
       "  'property': property,\n",
       "  'int': int,\n",
       "  'list': list,\n",
       "  'map': map,\n",
       "  'object': object,\n",
       "  'range': range,\n",
       "  'reversed': reversed,\n",
       "  'set': set,\n",
       "  'slice': slice,\n",
       "  'staticmethod': staticmethod,\n",
       "  'str': str,\n",
       "  'super': super,\n",
       "  'tuple': tuple,\n",
       "  'type': type,\n",
       "  'zip': zip,\n",
       "  '__debug__': True,\n",
       "  'BaseException': BaseException,\n",
       "  'Exception': Exception,\n",
       "  'TypeError': TypeError,\n",
       "  'StopAsyncIteration': StopAsyncIteration,\n",
       "  'StopIteration': StopIteration,\n",
       "  'GeneratorExit': GeneratorExit,\n",
       "  'SystemExit': SystemExit,\n",
       "  'KeyboardInterrupt': KeyboardInterrupt,\n",
       "  'ImportError': ImportError,\n",
       "  'ModuleNotFoundError': ModuleNotFoundError,\n",
       "  'OSError': OSError,\n",
       "  'EnvironmentError': OSError,\n",
       "  'IOError': OSError,\n",
       "  'WindowsError': OSError,\n",
       "  'EOFError': EOFError,\n",
       "  'RuntimeError': RuntimeError,\n",
       "  'RecursionError': RecursionError,\n",
       "  'NotImplementedError': NotImplementedError,\n",
       "  'NameError': NameError,\n",
       "  'UnboundLocalError': UnboundLocalError,\n",
       "  'AttributeError': AttributeError,\n",
       "  'SyntaxError': SyntaxError,\n",
       "  'IndentationError': IndentationError,\n",
       "  'TabError': TabError,\n",
       "  'LookupError': LookupError,\n",
       "  'IndexError': IndexError,\n",
       "  'KeyError': KeyError,\n",
       "  'ValueError': ValueError,\n",
       "  'UnicodeError': UnicodeError,\n",
       "  'UnicodeEncodeError': UnicodeEncodeError,\n",
       "  'UnicodeDecodeError': UnicodeDecodeError,\n",
       "  'UnicodeTranslateError': UnicodeTranslateError,\n",
       "  'AssertionError': AssertionError,\n",
       "  'ArithmeticError': ArithmeticError,\n",
       "  'FloatingPointError': FloatingPointError,\n",
       "  'OverflowError': OverflowError,\n",
       "  'ZeroDivisionError': ZeroDivisionError,\n",
       "  'SystemError': SystemError,\n",
       "  'ReferenceError': ReferenceError,\n",
       "  'MemoryError': MemoryError,\n",
       "  'BufferError': BufferError,\n",
       "  'Warning': Warning,\n",
       "  'UserWarning': UserWarning,\n",
       "  'DeprecationWarning': DeprecationWarning,\n",
       "  'PendingDeprecationWarning': PendingDeprecationWarning,\n",
       "  'SyntaxWarning': SyntaxWarning,\n",
       "  'RuntimeWarning': RuntimeWarning,\n",
       "  'FutureWarning': FutureWarning,\n",
       "  'ImportWarning': ImportWarning,\n",
       "  'UnicodeWarning': UnicodeWarning,\n",
       "  'BytesWarning': BytesWarning,\n",
       "  'ResourceWarning': ResourceWarning,\n",
       "  'ConnectionError': ConnectionError,\n",
       "  'BlockingIOError': BlockingIOError,\n",
       "  'BrokenPipeError': BrokenPipeError,\n",
       "  'ChildProcessError': ChildProcessError,\n",
       "  'ConnectionAbortedError': ConnectionAbortedError,\n",
       "  'ConnectionRefusedError': ConnectionRefusedError,\n",
       "  'ConnectionResetError': ConnectionResetError,\n",
       "  'FileExistsError': FileExistsError,\n",
       "  'FileNotFoundError': FileNotFoundError,\n",
       "  'IsADirectoryError': IsADirectoryError,\n",
       "  'NotADirectoryError': NotADirectoryError,\n",
       "  'InterruptedError': InterruptedError,\n",
       "  'PermissionError': PermissionError,\n",
       "  'ProcessLookupError': ProcessLookupError,\n",
       "  'TimeoutError': TimeoutError,\n",
       "  'open': <function io.open(file, mode='r', buffering=-1, encoding=None, errors=None, newline=None, closefd=True, opener=None)>,\n",
       "  'copyright': Copyright (c) 2001-2020 Python Software Foundation.\n",
       "  All Rights Reserved.\n",
       "  \n",
       "  Copyright (c) 2000 BeOpen.com.\n",
       "  All Rights Reserved.\n",
       "  \n",
       "  Copyright (c) 1995-2001 Corporation for National Research Initiatives.\n",
       "  All Rights Reserved.\n",
       "  \n",
       "  Copyright (c) 1991-1995 Stichting Mathematisch Centrum, Amsterdam.\n",
       "  All Rights Reserved.,\n",
       "  'credits':     Thanks to CWI, CNRI, BeOpen.com, Zope Corporation and a cast of thousands\n",
       "      for supporting Python development.  See www.python.org for more information.,\n",
       "  'license': See https://www.python.org/psf/license/,\n",
       "  'help': Type help() for interactive help, or help(object) for help about object.,\n",
       "  'execfile': <function _pydev_imps._pydev_execfile.execfile(file, glob=None, loc=None)>,\n",
       "  'runfile': <function _pydev_bundle.pydev_umd.runfile(filename, args=None, wdir=None, namespace=None)>,\n",
       "  '__IPYTHON__': True,\n",
       "  'display': <function IPython.core.display.display(*objs, include=None, exclude=None, metadata=None, transient=None, display_id=None, **kwargs)>,\n",
       "  'get_ipython': <bound method InteractiveShell.get_ipython of <ipykernel.zmqshell.ZMQInteractiveShell object at 0x000002D9E7C19CD0>>},\n",
       " 'x': 1,\n",
       " 'y': [42, 2]}"
      ]
     },
     "execution_count": 10,
     "metadata": {},
     "output_type": "execute_result"
    }
   ],
   "source": [
    "import small\n",
    "small.__dict__"
   ]
  },
  {
   "cell_type": "code",
   "execution_count": 11,
   "id": "eb2da508",
   "metadata": {},
   "outputs": [
    {
     "data": {
      "text/plain": [
       "['__builtins__',\n",
       " '__cached__',\n",
       " '__doc__',\n",
       " '__file__',\n",
       " '__loader__',\n",
       " '__name__',\n",
       " '__package__',\n",
       " '__spec__',\n",
       " 'x',\n",
       " 'y']"
      ]
     },
     "execution_count": 11,
     "metadata": {},
     "output_type": "execute_result"
    }
   ],
   "source": [
    "dir(small)"
   ]
  },
  {
   "cell_type": "code",
   "execution_count": 12,
   "id": "c7a74996",
   "metadata": {},
   "outputs": [
    {
     "name": "stdout",
     "output_type": "stream",
     "text": [
      "print('starting to load...')\n",
      "import sys\n",
      "name = 42\n",
      "\n",
      "def func(): pass\n",
      "\n",
      "class klass: pass\n",
      "\n",
      "print('done loading.')\n"
     ]
    }
   ],
   "source": [
    "!cat code/module2.py"
   ]
  },
  {
   "cell_type": "code",
   "execution_count": 13,
   "id": "7def4f55",
   "metadata": {},
   "outputs": [
    {
     "name": "stdout",
     "output_type": "stream",
     "text": [
      "starting to load...\n",
      "done loading.\n"
     ]
    },
    {
     "data": {
      "text/plain": [
       "<module 'sys' (built-in)>"
      ]
     },
     "execution_count": 13,
     "metadata": {},
     "output_type": "execute_result"
    }
   ],
   "source": [
    "import module2\n",
    "module2.sys"
   ]
  },
  {
   "cell_type": "code",
   "execution_count": 14,
   "id": "37868880",
   "metadata": {},
   "outputs": [
    {
     "data": {
      "text/plain": [
       "42"
      ]
     },
     "execution_count": 14,
     "metadata": {},
     "output_type": "execute_result"
    }
   ],
   "source": [
    "module2.name"
   ]
  },
  {
   "cell_type": "code",
   "execution_count": 15,
   "id": "ad2abe66",
   "metadata": {},
   "outputs": [
    {
     "data": {
      "text/plain": [
       "<function module2.func()>"
      ]
     },
     "execution_count": 15,
     "metadata": {},
     "output_type": "execute_result"
    }
   ],
   "source": [
    "module2.func"
   ]
  },
  {
   "cell_type": "code",
   "execution_count": 16,
   "id": "572a9b5c",
   "metadata": {},
   "outputs": [
    {
     "data": {
      "text/plain": [
       "module2.klass"
      ]
     },
     "execution_count": 16,
     "metadata": {},
     "output_type": "execute_result"
    }
   ],
   "source": [
    "module2.klass"
   ]
  },
  {
   "cell_type": "markdown",
   "id": "ab67db99",
   "metadata": {},
   "source": [
    "### In fact, internally, module namespaces are stored as dictionary objects."
   ]
  },
  {
   "cell_type": "code",
   "execution_count": 17,
   "id": "b0ae6201",
   "metadata": {},
   "outputs": [
    {
     "data": {
      "text/plain": [
       "{'__name__': 'module2',\n",
       " '__doc__': None,\n",
       " '__package__': '',\n",
       " '__loader__': <_frozen_importlib_external.SourceFileLoader at 0x2d9e7ceb790>,\n",
       " '__spec__': ModuleSpec(name='module2', loader=<_frozen_importlib_external.SourceFileLoader object at 0x000002D9E7CEB790>, origin='D:\\\\books\\\\python\\\\0. Learning Python\\\\code\\\\module2.py'),\n",
       " '__file__': 'D:\\\\books\\\\python\\\\0. Learning Python\\\\code\\\\module2.py',\n",
       " '__cached__': 'D:\\\\books\\\\python\\\\0. Learning Python\\\\code\\\\__pycache__\\\\module2.cpython-38.pyc',\n",
       " '__builtins__': {'__name__': 'builtins',\n",
       "  '__doc__': \"Built-in functions, exceptions, and other objects.\\n\\nNoteworthy: None is the `nil' object; Ellipsis represents `...' in slices.\",\n",
       "  '__package__': '',\n",
       "  '__loader__': _frozen_importlib.BuiltinImporter,\n",
       "  '__spec__': ModuleSpec(name='builtins', loader=<class '_frozen_importlib.BuiltinImporter'>),\n",
       "  '__build_class__': <function __build_class__>,\n",
       "  '__import__': <function __import__>,\n",
       "  'abs': <function abs(x, /)>,\n",
       "  'all': <function all(iterable, /)>,\n",
       "  'any': <function any(iterable, /)>,\n",
       "  'ascii': <function ascii(obj, /)>,\n",
       "  'bin': <function bin(number, /)>,\n",
       "  'breakpoint': <function breakpoint>,\n",
       "  'callable': <function callable(obj, /)>,\n",
       "  'chr': <function chr(i, /)>,\n",
       "  'compile': <function compile(source, filename, mode, flags=0, dont_inherit=False, optimize=-1, *, _feature_version=-1)>,\n",
       "  'delattr': <function delattr(obj, name, /)>,\n",
       "  'dir': <function dir>,\n",
       "  'divmod': <function divmod(x, y, /)>,\n",
       "  'eval': <function eval(source, globals=None, locals=None, /)>,\n",
       "  'exec': <function exec(source, globals=None, locals=None, /)>,\n",
       "  'format': <function format(value, format_spec='', /)>,\n",
       "  'getattr': <function getattr>,\n",
       "  'globals': <function globals()>,\n",
       "  'hasattr': <function hasattr(obj, name, /)>,\n",
       "  'hash': <function hash(obj, /)>,\n",
       "  'hex': <function hex(number, /)>,\n",
       "  'id': <function id(obj, /)>,\n",
       "  'input': <bound method Kernel.raw_input of <ipykernel.ipkernel.IPythonKernel object at 0x000002D9E7C19B20>>,\n",
       "  'isinstance': <function isinstance(obj, class_or_tuple, /)>,\n",
       "  'issubclass': <function issubclass(cls, class_or_tuple, /)>,\n",
       "  'iter': <function iter>,\n",
       "  'len': <function len(obj, /)>,\n",
       "  'locals': <function locals()>,\n",
       "  'max': <function max>,\n",
       "  'min': <function min>,\n",
       "  'next': <function next>,\n",
       "  'oct': <function oct(number, /)>,\n",
       "  'ord': <function ord(c, /)>,\n",
       "  'pow': <function pow(base, exp, mod=None)>,\n",
       "  'print': <function print>,\n",
       "  'repr': <function repr(obj, /)>,\n",
       "  'round': <function round(number, ndigits=None)>,\n",
       "  'setattr': <function setattr(obj, name, value, /)>,\n",
       "  'sorted': <function sorted(iterable, /, *, key=None, reverse=False)>,\n",
       "  'sum': <function sum(iterable, /, start=0)>,\n",
       "  'vars': <function vars>,\n",
       "  'None': None,\n",
       "  'Ellipsis': Ellipsis,\n",
       "  'NotImplemented': NotImplemented,\n",
       "  'False': False,\n",
       "  'True': True,\n",
       "  'bool': bool,\n",
       "  'memoryview': memoryview,\n",
       "  'bytearray': bytearray,\n",
       "  'bytes': bytes,\n",
       "  'classmethod': classmethod,\n",
       "  'complex': complex,\n",
       "  'dict': dict,\n",
       "  'enumerate': enumerate,\n",
       "  'filter': filter,\n",
       "  'float': float,\n",
       "  'frozenset': frozenset,\n",
       "  'property': property,\n",
       "  'int': int,\n",
       "  'list': list,\n",
       "  'map': map,\n",
       "  'object': object,\n",
       "  'range': range,\n",
       "  'reversed': reversed,\n",
       "  'set': set,\n",
       "  'slice': slice,\n",
       "  'staticmethod': staticmethod,\n",
       "  'str': str,\n",
       "  'super': super,\n",
       "  'tuple': tuple,\n",
       "  'type': type,\n",
       "  'zip': zip,\n",
       "  '__debug__': True,\n",
       "  'BaseException': BaseException,\n",
       "  'Exception': Exception,\n",
       "  'TypeError': TypeError,\n",
       "  'StopAsyncIteration': StopAsyncIteration,\n",
       "  'StopIteration': StopIteration,\n",
       "  'GeneratorExit': GeneratorExit,\n",
       "  'SystemExit': SystemExit,\n",
       "  'KeyboardInterrupt': KeyboardInterrupt,\n",
       "  'ImportError': ImportError,\n",
       "  'ModuleNotFoundError': ModuleNotFoundError,\n",
       "  'OSError': OSError,\n",
       "  'EnvironmentError': OSError,\n",
       "  'IOError': OSError,\n",
       "  'WindowsError': OSError,\n",
       "  'EOFError': EOFError,\n",
       "  'RuntimeError': RuntimeError,\n",
       "  'RecursionError': RecursionError,\n",
       "  'NotImplementedError': NotImplementedError,\n",
       "  'NameError': NameError,\n",
       "  'UnboundLocalError': UnboundLocalError,\n",
       "  'AttributeError': AttributeError,\n",
       "  'SyntaxError': SyntaxError,\n",
       "  'IndentationError': IndentationError,\n",
       "  'TabError': TabError,\n",
       "  'LookupError': LookupError,\n",
       "  'IndexError': IndexError,\n",
       "  'KeyError': KeyError,\n",
       "  'ValueError': ValueError,\n",
       "  'UnicodeError': UnicodeError,\n",
       "  'UnicodeEncodeError': UnicodeEncodeError,\n",
       "  'UnicodeDecodeError': UnicodeDecodeError,\n",
       "  'UnicodeTranslateError': UnicodeTranslateError,\n",
       "  'AssertionError': AssertionError,\n",
       "  'ArithmeticError': ArithmeticError,\n",
       "  'FloatingPointError': FloatingPointError,\n",
       "  'OverflowError': OverflowError,\n",
       "  'ZeroDivisionError': ZeroDivisionError,\n",
       "  'SystemError': SystemError,\n",
       "  'ReferenceError': ReferenceError,\n",
       "  'MemoryError': MemoryError,\n",
       "  'BufferError': BufferError,\n",
       "  'Warning': Warning,\n",
       "  'UserWarning': UserWarning,\n",
       "  'DeprecationWarning': DeprecationWarning,\n",
       "  'PendingDeprecationWarning': PendingDeprecationWarning,\n",
       "  'SyntaxWarning': SyntaxWarning,\n",
       "  'RuntimeWarning': RuntimeWarning,\n",
       "  'FutureWarning': FutureWarning,\n",
       "  'ImportWarning': ImportWarning,\n",
       "  'UnicodeWarning': UnicodeWarning,\n",
       "  'BytesWarning': BytesWarning,\n",
       "  'ResourceWarning': ResourceWarning,\n",
       "  'ConnectionError': ConnectionError,\n",
       "  'BlockingIOError': BlockingIOError,\n",
       "  'BrokenPipeError': BrokenPipeError,\n",
       "  'ChildProcessError': ChildProcessError,\n",
       "  'ConnectionAbortedError': ConnectionAbortedError,\n",
       "  'ConnectionRefusedError': ConnectionRefusedError,\n",
       "  'ConnectionResetError': ConnectionResetError,\n",
       "  'FileExistsError': FileExistsError,\n",
       "  'FileNotFoundError': FileNotFoundError,\n",
       "  'IsADirectoryError': IsADirectoryError,\n",
       "  'NotADirectoryError': NotADirectoryError,\n",
       "  'InterruptedError': InterruptedError,\n",
       "  'PermissionError': PermissionError,\n",
       "  'ProcessLookupError': ProcessLookupError,\n",
       "  'TimeoutError': TimeoutError,\n",
       "  'open': <function io.open(file, mode='r', buffering=-1, encoding=None, errors=None, newline=None, closefd=True, opener=None)>,\n",
       "  'copyright': Copyright (c) 2001-2020 Python Software Foundation.\n",
       "  All Rights Reserved.\n",
       "  \n",
       "  Copyright (c) 2000 BeOpen.com.\n",
       "  All Rights Reserved.\n",
       "  \n",
       "  Copyright (c) 1995-2001 Corporation for National Research Initiatives.\n",
       "  All Rights Reserved.\n",
       "  \n",
       "  Copyright (c) 1991-1995 Stichting Mathematisch Centrum, Amsterdam.\n",
       "  All Rights Reserved.,\n",
       "  'credits':     Thanks to CWI, CNRI, BeOpen.com, Zope Corporation and a cast of thousands\n",
       "      for supporting Python development.  See www.python.org for more information.,\n",
       "  'license': See https://www.python.org/psf/license/,\n",
       "  'help': Type help() for interactive help, or help(object) for help about object.,\n",
       "  'execfile': <function _pydev_imps._pydev_execfile.execfile(file, glob=None, loc=None)>,\n",
       "  'runfile': <function _pydev_bundle.pydev_umd.runfile(filename, args=None, wdir=None, namespace=None)>,\n",
       "  '__IPYTHON__': True,\n",
       "  'display': <function IPython.core.display.display(*objs, include=None, exclude=None, metadata=None, transient=None, display_id=None, **kwargs)>,\n",
       "  'get_ipython': <bound method InteractiveShell.get_ipython of <ipykernel.zmqshell.ZMQInteractiveShell object at 0x000002D9E7C19CD0>>},\n",
       " 'sys': <module 'sys' (built-in)>,\n",
       " 'name': 42,\n",
       " 'func': <function module2.func()>,\n",
       " 'klass': module2.klass}"
      ]
     },
     "execution_count": 17,
     "metadata": {},
     "output_type": "execute_result"
    }
   ],
   "source": [
    "module2.__dict__"
   ]
  },
  {
   "cell_type": "code",
   "execution_count": 18,
   "id": "b78516a1",
   "metadata": {},
   "outputs": [
    {
     "data": {
      "text/plain": [
       "dict_keys(['__name__', '__doc__', '__package__', '__loader__', '__spec__', '__file__', '__cached__', '__builtins__', 'sys', 'name', 'func', 'klass'])"
      ]
     },
     "execution_count": 18,
     "metadata": {},
     "output_type": "execute_result"
    }
   ],
   "source": [
    "module2.__dict__.keys()"
   ]
  },
  {
   "cell_type": "code",
   "execution_count": 19,
   "id": "d279925a",
   "metadata": {},
   "outputs": [
    {
     "data": {
      "text/plain": [
       "['__name__',\n",
       " '__doc__',\n",
       " '__package__',\n",
       " '__loader__',\n",
       " '__spec__',\n",
       " '__file__',\n",
       " '__cached__',\n",
       " '__builtins__',\n",
       " 'sys',\n",
       " 'name',\n",
       " 'func',\n",
       " 'klass']"
      ]
     },
     "execution_count": 19,
     "metadata": {},
     "output_type": "execute_result"
    }
   ],
   "source": [
    "list(module2.__dict__.keys())"
   ]
  },
  {
   "cell_type": "code",
   "execution_count": 20,
   "id": "fd9477ec",
   "metadata": {},
   "outputs": [
    {
     "data": {
      "text/plain": [
       "['module2',\n",
       " None,\n",
       " '',\n",
       " <_frozen_importlib_external.SourceFileLoader at 0x2d9e7ceb790>,\n",
       " ModuleSpec(name='module2', loader=<_frozen_importlib_external.SourceFileLoader object at 0x000002D9E7CEB790>, origin='D:\\\\books\\\\python\\\\0. Learning Python\\\\code\\\\module2.py'),\n",
       " 'D:\\\\books\\\\python\\\\0. Learning Python\\\\code\\\\module2.py',\n",
       " 'D:\\\\books\\\\python\\\\0. Learning Python\\\\code\\\\__pycache__\\\\module2.cpython-38.pyc',\n",
       " {'__name__': 'builtins',\n",
       "  '__doc__': \"Built-in functions, exceptions, and other objects.\\n\\nNoteworthy: None is the `nil' object; Ellipsis represents `...' in slices.\",\n",
       "  '__package__': '',\n",
       "  '__loader__': _frozen_importlib.BuiltinImporter,\n",
       "  '__spec__': ModuleSpec(name='builtins', loader=<class '_frozen_importlib.BuiltinImporter'>),\n",
       "  '__build_class__': <function __build_class__>,\n",
       "  '__import__': <function __import__>,\n",
       "  'abs': <function abs(x, /)>,\n",
       "  'all': <function all(iterable, /)>,\n",
       "  'any': <function any(iterable, /)>,\n",
       "  'ascii': <function ascii(obj, /)>,\n",
       "  'bin': <function bin(number, /)>,\n",
       "  'breakpoint': <function breakpoint>,\n",
       "  'callable': <function callable(obj, /)>,\n",
       "  'chr': <function chr(i, /)>,\n",
       "  'compile': <function compile(source, filename, mode, flags=0, dont_inherit=False, optimize=-1, *, _feature_version=-1)>,\n",
       "  'delattr': <function delattr(obj, name, /)>,\n",
       "  'dir': <function dir>,\n",
       "  'divmod': <function divmod(x, y, /)>,\n",
       "  'eval': <function eval(source, globals=None, locals=None, /)>,\n",
       "  'exec': <function exec(source, globals=None, locals=None, /)>,\n",
       "  'format': <function format(value, format_spec='', /)>,\n",
       "  'getattr': <function getattr>,\n",
       "  'globals': <function globals()>,\n",
       "  'hasattr': <function hasattr(obj, name, /)>,\n",
       "  'hash': <function hash(obj, /)>,\n",
       "  'hex': <function hex(number, /)>,\n",
       "  'id': <function id(obj, /)>,\n",
       "  'input': <bound method Kernel.raw_input of <ipykernel.ipkernel.IPythonKernel object at 0x000002D9E7C19B20>>,\n",
       "  'isinstance': <function isinstance(obj, class_or_tuple, /)>,\n",
       "  'issubclass': <function issubclass(cls, class_or_tuple, /)>,\n",
       "  'iter': <function iter>,\n",
       "  'len': <function len(obj, /)>,\n",
       "  'locals': <function locals()>,\n",
       "  'max': <function max>,\n",
       "  'min': <function min>,\n",
       "  'next': <function next>,\n",
       "  'oct': <function oct(number, /)>,\n",
       "  'ord': <function ord(c, /)>,\n",
       "  'pow': <function pow(base, exp, mod=None)>,\n",
       "  'print': <function print>,\n",
       "  'repr': <function repr(obj, /)>,\n",
       "  'round': <function round(number, ndigits=None)>,\n",
       "  'setattr': <function setattr(obj, name, value, /)>,\n",
       "  'sorted': <function sorted(iterable, /, *, key=None, reverse=False)>,\n",
       "  'sum': <function sum(iterable, /, start=0)>,\n",
       "  'vars': <function vars>,\n",
       "  'None': None,\n",
       "  'Ellipsis': Ellipsis,\n",
       "  'NotImplemented': NotImplemented,\n",
       "  'False': False,\n",
       "  'True': True,\n",
       "  'bool': bool,\n",
       "  'memoryview': memoryview,\n",
       "  'bytearray': bytearray,\n",
       "  'bytes': bytes,\n",
       "  'classmethod': classmethod,\n",
       "  'complex': complex,\n",
       "  'dict': dict,\n",
       "  'enumerate': enumerate,\n",
       "  'filter': filter,\n",
       "  'float': float,\n",
       "  'frozenset': frozenset,\n",
       "  'property': property,\n",
       "  'int': int,\n",
       "  'list': list,\n",
       "  'map': map,\n",
       "  'object': object,\n",
       "  'range': range,\n",
       "  'reversed': reversed,\n",
       "  'set': set,\n",
       "  'slice': slice,\n",
       "  'staticmethod': staticmethod,\n",
       "  'str': str,\n",
       "  'super': super,\n",
       "  'tuple': tuple,\n",
       "  'type': type,\n",
       "  'zip': zip,\n",
       "  '__debug__': True,\n",
       "  'BaseException': BaseException,\n",
       "  'Exception': Exception,\n",
       "  'TypeError': TypeError,\n",
       "  'StopAsyncIteration': StopAsyncIteration,\n",
       "  'StopIteration': StopIteration,\n",
       "  'GeneratorExit': GeneratorExit,\n",
       "  'SystemExit': SystemExit,\n",
       "  'KeyboardInterrupt': KeyboardInterrupt,\n",
       "  'ImportError': ImportError,\n",
       "  'ModuleNotFoundError': ModuleNotFoundError,\n",
       "  'OSError': OSError,\n",
       "  'EnvironmentError': OSError,\n",
       "  'IOError': OSError,\n",
       "  'WindowsError': OSError,\n",
       "  'EOFError': EOFError,\n",
       "  'RuntimeError': RuntimeError,\n",
       "  'RecursionError': RecursionError,\n",
       "  'NotImplementedError': NotImplementedError,\n",
       "  'NameError': NameError,\n",
       "  'UnboundLocalError': UnboundLocalError,\n",
       "  'AttributeError': AttributeError,\n",
       "  'SyntaxError': SyntaxError,\n",
       "  'IndentationError': IndentationError,\n",
       "  'TabError': TabError,\n",
       "  'LookupError': LookupError,\n",
       "  'IndexError': IndexError,\n",
       "  'KeyError': KeyError,\n",
       "  'ValueError': ValueError,\n",
       "  'UnicodeError': UnicodeError,\n",
       "  'UnicodeEncodeError': UnicodeEncodeError,\n",
       "  'UnicodeDecodeError': UnicodeDecodeError,\n",
       "  'UnicodeTranslateError': UnicodeTranslateError,\n",
       "  'AssertionError': AssertionError,\n",
       "  'ArithmeticError': ArithmeticError,\n",
       "  'FloatingPointError': FloatingPointError,\n",
       "  'OverflowError': OverflowError,\n",
       "  'ZeroDivisionError': ZeroDivisionError,\n",
       "  'SystemError': SystemError,\n",
       "  'ReferenceError': ReferenceError,\n",
       "  'MemoryError': MemoryError,\n",
       "  'BufferError': BufferError,\n",
       "  'Warning': Warning,\n",
       "  'UserWarning': UserWarning,\n",
       "  'DeprecationWarning': DeprecationWarning,\n",
       "  'PendingDeprecationWarning': PendingDeprecationWarning,\n",
       "  'SyntaxWarning': SyntaxWarning,\n",
       "  'RuntimeWarning': RuntimeWarning,\n",
       "  'FutureWarning': FutureWarning,\n",
       "  'ImportWarning': ImportWarning,\n",
       "  'UnicodeWarning': UnicodeWarning,\n",
       "  'BytesWarning': BytesWarning,\n",
       "  'ResourceWarning': ResourceWarning,\n",
       "  'ConnectionError': ConnectionError,\n",
       "  'BlockingIOError': BlockingIOError,\n",
       "  'BrokenPipeError': BrokenPipeError,\n",
       "  'ChildProcessError': ChildProcessError,\n",
       "  'ConnectionAbortedError': ConnectionAbortedError,\n",
       "  'ConnectionRefusedError': ConnectionRefusedError,\n",
       "  'ConnectionResetError': ConnectionResetError,\n",
       "  'FileExistsError': FileExistsError,\n",
       "  'FileNotFoundError': FileNotFoundError,\n",
       "  'IsADirectoryError': IsADirectoryError,\n",
       "  'NotADirectoryError': NotADirectoryError,\n",
       "  'InterruptedError': InterruptedError,\n",
       "  'PermissionError': PermissionError,\n",
       "  'ProcessLookupError': ProcessLookupError,\n",
       "  'TimeoutError': TimeoutError,\n",
       "  'open': <function io.open(file, mode='r', buffering=-1, encoding=None, errors=None, newline=None, closefd=True, opener=None)>,\n",
       "  'copyright': Copyright (c) 2001-2020 Python Software Foundation.\n",
       "  All Rights Reserved.\n",
       "  \n",
       "  Copyright (c) 2000 BeOpen.com.\n",
       "  All Rights Reserved.\n",
       "  \n",
       "  Copyright (c) 1995-2001 Corporation for National Research Initiatives.\n",
       "  All Rights Reserved.\n",
       "  \n",
       "  Copyright (c) 1991-1995 Stichting Mathematisch Centrum, Amsterdam.\n",
       "  All Rights Reserved.,\n",
       "  'credits':     Thanks to CWI, CNRI, BeOpen.com, Zope Corporation and a cast of thousands\n",
       "      for supporting Python development.  See www.python.org for more information.,\n",
       "  'license': See https://www.python.org/psf/license/,\n",
       "  'help': Type help() for interactive help, or help(object) for help about object.,\n",
       "  'execfile': <function _pydev_imps._pydev_execfile.execfile(file, glob=None, loc=None)>,\n",
       "  'runfile': <function _pydev_bundle.pydev_umd.runfile(filename, args=None, wdir=None, namespace=None)>,\n",
       "  '__IPYTHON__': True,\n",
       "  'display': <function IPython.core.display.display(*objs, include=None, exclude=None, metadata=None, transient=None, display_id=None, **kwargs)>,\n",
       "  'get_ipython': <bound method InteractiveShell.get_ipython of <ipykernel.zmqshell.ZMQInteractiveShell object at 0x000002D9E7C19CD0>>},\n",
       " <module 'sys' (built-in)>,\n",
       " 42,\n",
       " <function module2.func()>,\n",
       " module2.klass]"
      ]
     },
     "execution_count": 20,
     "metadata": {},
     "output_type": "execute_result"
    }
   ],
   "source": [
    "list(module2.__dict__.values())"
   ]
  },
  {
   "cell_type": "code",
   "execution_count": 21,
   "id": "3e9e6402",
   "metadata": {},
   "outputs": [
    {
     "data": {
      "text/plain": [
       "['sys', 'name', 'func', 'klass']"
      ]
     },
     "execution_count": 21,
     "metadata": {},
     "output_type": "execute_result"
    }
   ],
   "source": [
    "list(name for name in module2.__dict__.keys() if not name.startswith('__'))"
   ]
  },
  {
   "cell_type": "code",
   "execution_count": 22,
   "id": "0c09159a",
   "metadata": {},
   "outputs": [
    {
     "data": {
      "text/plain": [
       "['sys', 'name', 'func', 'klass']"
      ]
     },
     "execution_count": 22,
     "metadata": {},
     "output_type": "execute_result"
    }
   ],
   "source": [
    "list(name for name in module2.__dict__ if not name.startswith('__'))"
   ]
  },
  {
   "cell_type": "code",
   "execution_count": 26,
   "id": "19f998a7",
   "metadata": {},
   "outputs": [
    {
     "data": {
      "text/plain": [
       "['abs',\n",
       " 'all',\n",
       " 'any',\n",
       " 'ascii',\n",
       " 'bin',\n",
       " 'breakpoint',\n",
       " 'callable',\n",
       " 'chr',\n",
       " 'compile',\n",
       " 'delattr',\n",
       " 'dir',\n",
       " 'divmod',\n",
       " 'eval',\n",
       " 'exec',\n",
       " 'format',\n",
       " 'getattr',\n",
       " 'globals',\n",
       " 'hasattr',\n",
       " 'hash',\n",
       " 'hex',\n",
       " 'id',\n",
       " 'input',\n",
       " 'isinstance',\n",
       " 'issubclass',\n",
       " 'iter',\n",
       " 'len',\n",
       " 'locals',\n",
       " 'max',\n",
       " 'min',\n",
       " 'next',\n",
       " 'oct',\n",
       " 'ord',\n",
       " 'pow',\n",
       " 'print',\n",
       " 'repr',\n",
       " 'round',\n",
       " 'setattr',\n",
       " 'sorted',\n",
       " 'sum',\n",
       " 'vars',\n",
       " 'None',\n",
       " 'Ellipsis',\n",
       " 'NotImplemented',\n",
       " 'False',\n",
       " 'True',\n",
       " 'bool',\n",
       " 'memoryview',\n",
       " 'bytearray',\n",
       " 'bytes',\n",
       " 'classmethod',\n",
       " 'complex',\n",
       " 'dict',\n",
       " 'enumerate',\n",
       " 'filter',\n",
       " 'float',\n",
       " 'frozenset',\n",
       " 'property',\n",
       " 'int',\n",
       " 'list',\n",
       " 'map',\n",
       " 'object',\n",
       " 'range',\n",
       " 'reversed',\n",
       " 'set',\n",
       " 'slice',\n",
       " 'staticmethod',\n",
       " 'str',\n",
       " 'super',\n",
       " 'tuple',\n",
       " 'type',\n",
       " 'zip',\n",
       " 'BaseException',\n",
       " 'Exception',\n",
       " 'TypeError',\n",
       " 'StopAsyncIteration',\n",
       " 'StopIteration',\n",
       " 'GeneratorExit',\n",
       " 'SystemExit',\n",
       " 'KeyboardInterrupt',\n",
       " 'ImportError',\n",
       " 'ModuleNotFoundError',\n",
       " 'OSError',\n",
       " 'EnvironmentError',\n",
       " 'IOError',\n",
       " 'WindowsError',\n",
       " 'EOFError',\n",
       " 'RuntimeError',\n",
       " 'RecursionError',\n",
       " 'NotImplementedError',\n",
       " 'NameError',\n",
       " 'UnboundLocalError',\n",
       " 'AttributeError',\n",
       " 'SyntaxError',\n",
       " 'IndentationError',\n",
       " 'TabError',\n",
       " 'LookupError',\n",
       " 'IndexError',\n",
       " 'KeyError',\n",
       " 'ValueError',\n",
       " 'UnicodeError',\n",
       " 'UnicodeEncodeError',\n",
       " 'UnicodeDecodeError',\n",
       " 'UnicodeTranslateError',\n",
       " 'AssertionError',\n",
       " 'ArithmeticError',\n",
       " 'FloatingPointError',\n",
       " 'OverflowError',\n",
       " 'ZeroDivisionError',\n",
       " 'SystemError',\n",
       " 'ReferenceError',\n",
       " 'MemoryError',\n",
       " 'BufferError',\n",
       " 'Warning',\n",
       " 'UserWarning',\n",
       " 'DeprecationWarning',\n",
       " 'PendingDeprecationWarning',\n",
       " 'SyntaxWarning',\n",
       " 'RuntimeWarning',\n",
       " 'FutureWarning',\n",
       " 'ImportWarning',\n",
       " 'UnicodeWarning',\n",
       " 'BytesWarning',\n",
       " 'ResourceWarning',\n",
       " 'ConnectionError',\n",
       " 'BlockingIOError',\n",
       " 'BrokenPipeError',\n",
       " 'ChildProcessError',\n",
       " 'ConnectionAbortedError',\n",
       " 'ConnectionRefusedError',\n",
       " 'ConnectionResetError',\n",
       " 'FileExistsError',\n",
       " 'FileNotFoundError',\n",
       " 'IsADirectoryError',\n",
       " 'NotADirectoryError',\n",
       " 'InterruptedError',\n",
       " 'PermissionError',\n",
       " 'ProcessLookupError',\n",
       " 'TimeoutError',\n",
       " 'open',\n",
       " 'copyright',\n",
       " 'credits',\n",
       " 'license',\n",
       " 'help',\n",
       " 'execfile',\n",
       " 'runfile',\n",
       " 'display',\n",
       " 'get_ipython']"
      ]
     },
     "execution_count": 26,
     "metadata": {},
     "output_type": "execute_result"
    }
   ],
   "source": [
    "list(name for name in module2.__dict__['__builtins__'] if not name.startswith('__'))"
   ]
  },
  {
   "cell_type": "code",
   "execution_count": 27,
   "id": "94a6245e",
   "metadata": {},
   "outputs": [
    {
     "data": {
      "text/plain": [
       "['__name__',\n",
       " '__doc__',\n",
       " '__package__',\n",
       " '__loader__',\n",
       " '__spec__',\n",
       " '__build_class__',\n",
       " '__import__',\n",
       " '__debug__',\n",
       " '__IPYTHON__']"
      ]
     },
     "execution_count": 27,
     "metadata": {},
     "output_type": "execute_result"
    }
   ],
   "source": [
    "list(name for name in module2.__dict__['__builtins__'] if name.startswith('__'))"
   ]
  },
  {
   "cell_type": "code",
   "execution_count": 29,
   "id": "f520292f",
   "metadata": {},
   "outputs": [
    {
     "data": {
      "text/plain": [
       "('builtins', True)"
      ]
     },
     "execution_count": 29,
     "metadata": {},
     "output_type": "execute_result"
    }
   ],
   "source": [
    "module2.__dict__['__builtins__']['__name__'], module2.__dict__['__builtins__']['__IPYTHON__']"
   ]
  },
  {
   "cell_type": "code",
   "execution_count": 30,
   "id": "6ae1b352",
   "metadata": {},
   "outputs": [
    {
     "name": "stdout",
     "output_type": "stream",
     "text": [
      "X = 3\n"
     ]
    }
   ],
   "source": [
    "!cat code/mod3.py"
   ]
  },
  {
   "cell_type": "code",
   "execution_count": 31,
   "id": "1687a1f7",
   "metadata": {},
   "outputs": [
    {
     "name": "stdout",
     "output_type": "stream",
     "text": [
      "X = 2\n",
      "import mod3\n",
      "\n",
      "print(X, end=' ')             # My global X\n",
      "print(mod3.X)                 # mod3's X\n"
     ]
    }
   ],
   "source": [
    "!cat code/mod2.py"
   ]
  },
  {
   "cell_type": "code",
   "execution_count": 32,
   "id": "84d86797",
   "metadata": {},
   "outputs": [
    {
     "name": "stdout",
     "output_type": "stream",
     "text": [
      "X = 1\n",
      "import mod2\n",
      "\n",
      "print(X, end=' ')             # My global X\n",
      "print(mod2.X, end=' ')        # mod2's X\n",
      "print(mod2.mod3.X)            # Nested mod3's X\n"
     ]
    }
   ],
   "source": [
    "!cat code/mod1.py"
   ]
  },
  {
   "cell_type": "code",
   "execution_count": 33,
   "id": "7f8625d3",
   "metadata": {},
   "outputs": [
    {
     "name": "stdout",
     "output_type": "stream",
     "text": [
      "2 3\n",
      "1 2 3\n"
     ]
    }
   ],
   "source": [
    "import mod1"
   ]
  },
  {
   "cell_type": "code",
   "execution_count": 39,
   "id": "d19f6035",
   "metadata": {},
   "outputs": [],
   "source": [
    "import mod1"
   ]
  },
  {
   "cell_type": "code",
   "execution_count": 38,
   "id": "461e4262",
   "metadata": {},
   "outputs": [
    {
     "name": "stdout",
     "output_type": "stream",
     "text": [
      "1 2 3\n"
     ]
    },
    {
     "data": {
      "text/plain": [
       "<module 'mod1' from 'D:\\\\books\\\\python\\\\0. Learning Python\\\\code\\\\mod1.py'>"
      ]
     },
     "execution_count": 38,
     "metadata": {},
     "output_type": "execute_result"
    }
   ],
   "source": [
    "import imp\n",
    "imp.reload(mod1)"
   ]
  },
  {
   "cell_type": "code",
   "execution_count": 45,
   "id": "4785e11b",
   "metadata": {},
   "outputs": [
    {
     "name": "stdout",
     "output_type": "stream",
     "text": [
      "1\n"
     ]
    }
   ],
   "source": [
    "print(mod1.X)"
   ]
  },
  {
   "cell_type": "code",
   "execution_count": 46,
   "id": "a9f83a3e",
   "metadata": {},
   "outputs": [
    {
     "name": "stdout",
     "output_type": "stream",
     "text": [
      "2\n"
     ]
    }
   ],
   "source": [
    "print(mod1.mod2.X)"
   ]
  },
  {
   "cell_type": "code",
   "execution_count": 47,
   "id": "a86bdcd9",
   "metadata": {},
   "outputs": [
    {
     "name": "stdout",
     "output_type": "stream",
     "text": [
      "3\n"
     ]
    }
   ],
   "source": [
    "print(mod1.mod2.mod3.X)"
   ]
  },
  {
   "cell_type": "markdown",
   "id": "fbc37425",
   "metadata": {},
   "source": [
    "# Chapter 24: Module Packages"
   ]
  },
  {
   "cell_type": "code",
   "execution_count": 4,
   "id": "75c14c39",
   "metadata": {},
   "outputs": [
    {
     "name": "stdout",
     "output_type": "stream",
     "text": [
      "2 3\n",
      "1 2 3\n"
     ]
    }
   ],
   "source": [
    "import mod1"
   ]
  },
  {
   "cell_type": "code",
   "execution_count": 5,
   "id": "5db3c6f6",
   "metadata": {},
   "outputs": [
    {
     "name": "stdout",
     "output_type": "stream",
     "text": [
      "print('dir1 init')\n",
      "x = 1\n"
     ]
    }
   ],
   "source": [
    "!cat code/dir1/__init__.py"
   ]
  },
  {
   "cell_type": "code",
   "execution_count": 6,
   "id": "055497b2",
   "metadata": {},
   "outputs": [
    {
     "name": "stdout",
     "output_type": "stream",
     "text": [
      "print('dir2 init')\n",
      "y = 2\n"
     ]
    }
   ],
   "source": [
    "!cat code/dir1/dir2/__init__.py"
   ]
  },
  {
   "cell_type": "code",
   "execution_count": 7,
   "id": "0dfd8719",
   "metadata": {},
   "outputs": [
    {
     "name": "stdout",
     "output_type": "stream",
     "text": [
      "print('in mod.py')\n",
      "z = 3\n"
     ]
    }
   ],
   "source": [
    "!cat code/dir1/dir2/mod.py"
   ]
  },
  {
   "cell_type": "code",
   "execution_count": 9,
   "id": "0a2972ca",
   "metadata": {},
   "outputs": [
    {
     "name": "stdout",
     "output_type": "stream",
     "text": [
      "dir1 init\n",
      "dir2 init\n",
      "in mod.py\n"
     ]
    }
   ],
   "source": [
    "import dir1.dir2.mod # First imports run init files"
   ]
  },
  {
   "cell_type": "code",
   "execution_count": 11,
   "id": "1d602436",
   "metadata": {},
   "outputs": [
    {
     "data": {
      "text/plain": [
       "<module 'dir1' from 'D:\\\\books\\\\python\\\\0. Learning Python\\\\code\\\\dir1\\\\__init__.py'>"
      ]
     },
     "execution_count": 11,
     "metadata": {},
     "output_type": "execute_result"
    }
   ],
   "source": [
    "import dir1\n",
    "dir1"
   ]
  },
  {
   "cell_type": "code",
   "execution_count": 12,
   "id": "576c9dd5",
   "metadata": {},
   "outputs": [
    {
     "data": {
      "text/plain": [
       "<module 'dir1.dir2' from 'D:\\\\books\\\\python\\\\0. Learning Python\\\\code\\\\dir1\\\\dir2\\\\__init__.py'>"
      ]
     },
     "execution_count": 12,
     "metadata": {},
     "output_type": "execute_result"
    }
   ],
   "source": [
    "import dir1.dir2\n",
    "dir1.dir2"
   ]
  },
  {
   "cell_type": "code",
   "execution_count": 13,
   "id": "7ad5dbfa",
   "metadata": {},
   "outputs": [
    {
     "data": {
      "text/plain": [
       "<module 'dir1.dir2.mod' from 'D:\\\\books\\\\python\\\\0. Learning Python\\\\code\\\\dir1\\\\dir2\\\\mod.py'>"
      ]
     },
     "execution_count": 13,
     "metadata": {},
     "output_type": "execute_result"
    }
   ],
   "source": [
    "dir1.dir2.mod"
   ]
  },
  {
   "cell_type": "code",
   "execution_count": 14,
   "id": "029275aa",
   "metadata": {},
   "outputs": [
    {
     "data": {
      "text/plain": [
       "1"
      ]
     },
     "execution_count": 14,
     "metadata": {},
     "output_type": "execute_result"
    }
   ],
   "source": [
    "dir1.x"
   ]
  },
  {
   "cell_type": "code",
   "execution_count": 15,
   "id": "c4717b1d",
   "metadata": {},
   "outputs": [
    {
     "data": {
      "text/plain": [
       "2"
      ]
     },
     "execution_count": 15,
     "metadata": {},
     "output_type": "execute_result"
    }
   ],
   "source": [
    "dir1.dir2.y"
   ]
  },
  {
   "cell_type": "code",
   "execution_count": 16,
   "id": "86c0e87e",
   "metadata": {},
   "outputs": [
    {
     "data": {
      "text/plain": [
       "3"
      ]
     },
     "execution_count": 16,
     "metadata": {},
     "output_type": "execute_result"
    }
   ],
   "source": [
    "dir1.dir2.mod.z"
   ]
  },
  {
   "cell_type": "code",
   "execution_count": 17,
   "id": "244fd6ff",
   "metadata": {},
   "outputs": [
    {
     "name": "stdout",
     "output_type": "stream",
     "text": [
      "dir1 init\n"
     ]
    },
    {
     "data": {
      "text/plain": [
       "<module 'dir1' from 'D:\\\\books\\\\python\\\\0. Learning Python\\\\code\\\\dir1\\\\__init__.py'>"
      ]
     },
     "execution_count": 17,
     "metadata": {},
     "output_type": "execute_result"
    }
   ],
   "source": [
    "from imp import reload # from needed in 3.X only\n",
    "reload(dir1)"
   ]
  },
  {
   "cell_type": "code",
   "execution_count": 18,
   "id": "21431cff",
   "metadata": {},
   "outputs": [
    {
     "data": {
      "text/plain": [
       "1"
      ]
     },
     "execution_count": 18,
     "metadata": {},
     "output_type": "execute_result"
    }
   ],
   "source": [
    "from dir1 import x\n",
    "x"
   ]
  },
  {
   "cell_type": "markdown",
   "id": "bd093f0d",
   "metadata": {},
   "source": [
    "# Chapter 25. Advanced Module Topics "
   ]
  },
  {
   "cell_type": "code",
   "execution_count": 4,
   "id": "6a3a2a10",
   "metadata": {},
   "outputs": [
    {
     "name": "stdout",
     "output_type": "stream",
     "text": [
      "a, _b, c, _d = 1, 2, 3, 4\n"
     ]
    }
   ],
   "source": [
    "!cat code/unders.py"
   ]
  },
  {
   "cell_type": "code",
   "execution_count": 7,
   "id": "e5b6d3bb",
   "metadata": {},
   "outputs": [
    {
     "data": {
      "text/plain": [
       "(1, 3)"
      ]
     },
     "execution_count": 7,
     "metadata": {},
     "output_type": "execute_result"
    }
   ],
   "source": [
    "from unders import *                 # Load non _X names only\n",
    "a, c"
   ]
  },
  {
   "cell_type": "code",
   "execution_count": 9,
   "id": "07cf185d",
   "metadata": {},
   "outputs": [
    {
     "ename": "NameError",
     "evalue": "name '_b' is not defined",
     "output_type": "error",
     "traceback": [
      "\u001b[1;31m---------------------------------------------------------------------------\u001b[0m",
      "\u001b[1;31mNameError\u001b[0m                                 Traceback (most recent call last)",
      "\u001b[1;32m~\\AppData\\Local\\Temp/ipykernel_23760/51891953.py\u001b[0m in \u001b[0;36m<module>\u001b[1;34m\u001b[0m\n\u001b[1;32m----> 1\u001b[1;33m \u001b[0m_b\u001b[0m\u001b[1;33m\u001b[0m\u001b[1;33m\u001b[0m\u001b[0m\n\u001b[0m",
      "\u001b[1;31mNameError\u001b[0m: name '_b' is not defined"
     ]
    }
   ],
   "source": [
    "_b"
   ]
  },
  {
   "cell_type": "code",
   "execution_count": 10,
   "id": "19f5d159",
   "metadata": {},
   "outputs": [
    {
     "data": {
      "text/plain": [
       "2"
      ]
     },
     "execution_count": 10,
     "metadata": {},
     "output_type": "execute_result"
    }
   ],
   "source": [
    "import unders                        # But other importers get every name\n",
    "unders._b"
   ]
  },
  {
   "cell_type": "code",
   "execution_count": 11,
   "id": "0a16b612",
   "metadata": {},
   "outputs": [
    {
     "name": "stdout",
     "output_type": "stream",
     "text": [
      "__all__ = ['a', '_c']\n",
      "a, b, _c, _d = 1, 2, 3, 4 \n"
     ]
    }
   ],
   "source": [
    "!cat code/alls.py"
   ]
  },
  {
   "cell_type": "code",
   "execution_count": 12,
   "id": "0dbf8209",
   "metadata": {},
   "outputs": [
    {
     "data": {
      "text/plain": [
       "(1, 3)"
      ]
     },
     "execution_count": 12,
     "metadata": {},
     "output_type": "execute_result"
    }
   ],
   "source": [
    "from alls import *                   # Load __all__ names only\n",
    "a, _c"
   ]
  },
  {
   "cell_type": "code",
   "execution_count": 13,
   "id": "b21288fa",
   "metadata": {},
   "outputs": [
    {
     "ename": "NameError",
     "evalue": "name '_d' is not defined",
     "output_type": "error",
     "traceback": [
      "\u001b[1;31m---------------------------------------------------------------------------\u001b[0m",
      "\u001b[1;31mNameError\u001b[0m                                 Traceback (most recent call last)",
      "\u001b[1;32m~\\AppData\\Local\\Temp/ipykernel_23760/3077851649.py\u001b[0m in \u001b[0;36m<module>\u001b[1;34m\u001b[0m\n\u001b[1;32m----> 1\u001b[1;33m \u001b[0m_d\u001b[0m\u001b[1;33m\u001b[0m\u001b[1;33m\u001b[0m\u001b[0m\n\u001b[0m",
      "\u001b[1;31mNameError\u001b[0m: name '_d' is not defined"
     ]
    }
   ],
   "source": [
    "_d"
   ]
  },
  {
   "cell_type": "code",
   "execution_count": 14,
   "id": "b72f9b8d",
   "metadata": {},
   "outputs": [
    {
     "data": {
      "text/plain": [
       "(1, 2, 3, 4)"
      ]
     },
     "execution_count": 14,
     "metadata": {},
     "output_type": "execute_result"
    }
   ],
   "source": [
    "from alls import a, b, _c, _d        # But other importers get every name\n",
    "a, b, _c, _d"
   ]
  },
  {
   "cell_type": "code",
   "execution_count": 15,
   "id": "d6a08769",
   "metadata": {},
   "outputs": [
    {
     "data": {
      "text/plain": [
       "(1, 2, 3, 4)"
      ]
     },
     "execution_count": 15,
     "metadata": {},
     "output_type": "execute_result"
    }
   ],
   "source": [
    "import alls\n",
    "alls.a, alls.b, alls._c, alls._d"
   ]
  },
  {
   "cell_type": "code",
   "execution_count": 17,
   "id": "6ad0a76c",
   "metadata": {},
   "outputs": [
    {
     "name": "stdout",
     "output_type": "stream",
     "text": [
      "def tester():\n",
      "    print(\"It's Christmas in Heaven...\")\n",
      "\n",
      "if __name__ == '__main__':           # Only when run\n",
      "    tester()                         # Not when imported\n"
     ]
    }
   ],
   "source": [
    "!cat code/runme.py"
   ]
  },
  {
   "cell_type": "code",
   "execution_count": 18,
   "id": "b87235a6",
   "metadata": {},
   "outputs": [
    {
     "name": "stdout",
     "output_type": "stream",
     "text": [
      "It's Christmas in Heaven...\n"
     ]
    }
   ],
   "source": [
    "import runme\n",
    "runme.tester()"
   ]
  },
  {
   "cell_type": "code",
   "execution_count": 19,
   "id": "54e5f188",
   "metadata": {},
   "outputs": [
    {
     "name": "stdout",
     "output_type": "stream",
     "text": [
      "It's Christmas in Heaven...\n"
     ]
    }
   ],
   "source": [
    "!python code/runme.py"
   ]
  },
  {
   "cell_type": "code",
   "execution_count": 20,
   "id": "2d187bae",
   "metadata": {},
   "outputs": [
    {
     "name": "stdout",
     "output_type": "stream",
     "text": [
      "print('I am:', __name__)\n",
      "\n",
      "def minmax(test, *args):\n",
      "    res = args[0]\n",
      "    for arg in args[1:]:\n",
      "        if test(arg, res):\n",
      "            res = arg\n",
      "    return res\n",
      "\n",
      "def lessthan(x, y): return x < y\n",
      "def grtrthan(x, y): return x > y\n",
      "\n",
      "if __name__ == '__main__':\n",
      "    print(minmax(lessthan, 4, 2, 1, 5, 6, 3))    # Self-test code\n",
      "    print(minmax(grtrthan, 4, 2, 1, 5, 6, 3))\n"
     ]
    }
   ],
   "source": [
    "!cat code/minmax2.py"
   ]
  },
  {
   "cell_type": "code",
   "execution_count": 25,
   "id": "5903bdeb",
   "metadata": {},
   "outputs": [
    {
     "name": "stdout",
     "output_type": "stream",
     "text": [
      "I am: __main__\n",
      "1\n",
      "6\n"
     ]
    }
   ],
   "source": [
    "!python code/minmax2.py"
   ]
  },
  {
   "cell_type": "code",
   "execution_count": 21,
   "id": "d8c05a2b",
   "metadata": {},
   "outputs": [
    {
     "name": "stdout",
     "output_type": "stream",
     "text": [
      "I am: minmax2\n"
     ]
    }
   ],
   "source": [
    "import minmax2"
   ]
  },
  {
   "cell_type": "code",
   "execution_count": 22,
   "id": "e176dba1",
   "metadata": {},
   "outputs": [
    {
     "data": {
      "text/plain": [
       "'a'"
      ]
     },
     "execution_count": 22,
     "metadata": {},
     "output_type": "execute_result"
    }
   ],
   "source": [
    "minmax2.minmax(minmax2.lessthan, 's', 'p', 'a', 'a')"
   ]
  },
  {
   "cell_type": "code",
   "execution_count": 23,
   "id": "3040eae0",
   "metadata": {},
   "outputs": [
    {
     "data": {
      "text/plain": [
       "'s'"
      ]
     },
     "execution_count": 23,
     "metadata": {},
     "output_type": "execute_result"
    }
   ],
   "source": [
    "minmax2.minmax(minmax2.grtrthan, 's', 'p', 'a', 'a')"
   ]
  },
  {
   "cell_type": "code",
   "execution_count": 26,
   "id": "6a5a00d5",
   "metadata": {},
   "outputs": [
    {
     "name": "stdout",
     "output_type": "stream",
     "text": [
      "#!python\n",
      "\"\"\"\n",
      "File: formats.py (2.X and 3.X)\n",
      "Various specialized string display formatting utilities.\n",
      "Test me with canned self-test or command-line arguments.\n",
      "To do: add parens for negative money, add more features.\n",
      "\"\"\"\n",
      "\n",
      "def commas(N):\n",
      "    \"\"\"\n",
      "    Format positive integer-like N for display with\n",
      "    commas between digit groupings: \"xxx,yyy,zzz\".\n",
      "    \"\"\"\n",
      "    digits = str(N)\n",
      "    assert(digits.isdigit())\n",
      "    result = ''\n",
      "    while digits:\n",
      "        digits, last3 = digits[:-3], digits[-3:]\n",
      "        result = (last3 + ',' + result) if result else last3\n",
      "    return result\n",
      "\n",
      "def money(N, numwidth=0, currency='$'):\n",
      "    \"\"\"\n",
      "    Format number N for display with commas, 2 decimal digits,\n",
      "    leading $ and sign, and optional padding: \"$  -xxx,yyy.zz\".\n",
      "    numwidth=0 for no space padding, currency='' to omit symbol,\n",
      "    and non-ASCII for others (e.g., pound=u'\\xA3' or u'\\u00A3').\n",
      "    \"\"\"\n",
      "    sign   = '-' if N < 0 else ''\n",
      "    N      = abs(N)\n",
      "    whole  = commas(int(N))\n",
      "    fract  = ('%.2f' % N)[-2:]\n",
      "    number = '%s%s.%s' % (sign, whole, fract)\n",
      "    return '%s%*s' % (currency, numwidth, number)\n",
      "\n",
      "if __name__ == '__main__':\n",
      "    def selftest():\n",
      "        tests  = 0, 1        # fails: -1, 1.23\n",
      "        tests += 12, 123, 1234, 12345, 123456, 1234567\n",
      "        tests += 2 ** 32, 2 ** 100\n",
      "        for test in tests:\n",
      "            print(commas(test))\n",
      "\n",
      "        print('')\n",
      "        tests  = 0, 1, -1, 1.23, 1., 1.2, 3.14159\n",
      "        tests += 12.34, 12.344, 12.345, 12.346\n",
      "        tests += 2 ** 32, (2 ** 32 + .2345)\n",
      "        tests += 1.2345, 1.2, 0.2345\n",
      "        tests += -1.2345, -1.2, -0.2345\n",
      "        tests += -(2 ** 32), -(2**32 + .2345)\n",
      "        tests += (2 ** 100), -(2 ** 100)\n",
      "        for test in tests:\n",
      "            print('%s [%s]' % (money(test, 17), test))\n",
      "\n",
      "    import sys\n",
      "    if len(sys.argv) == 1:\n",
      "        selftest()\n",
      "    else:\n",
      "        print(money(float(sys.argv[1]), int(sys.argv[2])))\n"
     ]
    }
   ],
   "source": [
    "!cat code/formats.py"
   ]
  },
  {
   "cell_type": "code",
   "execution_count": 47,
   "id": "a2623418",
   "metadata": {},
   "outputs": [
    {
     "name": "stdout",
     "output_type": "stream",
     "text": [
      "Help on module formats:\n",
      "\n",
      "NAME\n",
      "    formats\n",
      "\n",
      "DESCRIPTION\n",
      "    File: formats.py (2.X and 3.X)\n",
      "    Various specialized string display formatting utilities.\n",
      "    Test me with canned self-test or command-line arguments.\n",
      "    To do: add parens for negative money, add more features.\n",
      "\n",
      "FUNCTIONS\n",
      "    commas(N)\n",
      "        Format positive integer-like N for display with\n",
      "        commas between digit groupings: \"xxx,yyy,zzz\".\n",
      "    \n",
      "    money(N, numwidth=0, currency='$')\n",
      "        Format number N for display with commas, 2 decimal digits,\n",
      "        leading $ and sign, and optional padding: \"$  -xxx,yyy.zz\".\n",
      "        numwidth=0 for no space padding, currency='' to omit symbol,\n",
      "        and non-ASCII for others (e.g., pound=u'£' or u'£').\n",
      "\n",
      "FILE\n",
      "    d:\\books\\python\\0. learning python\\code\\formats.py\n",
      "\n",
      "\n"
     ]
    }
   ],
   "source": [
    "import formats\n",
    "help(formats)"
   ]
  },
  {
   "cell_type": "code",
   "execution_count": 27,
   "id": "e9631df6",
   "metadata": {},
   "outputs": [
    {
     "name": "stdout",
     "output_type": "stream",
     "text": [
      "0\n",
      "1\n",
      "12\n",
      "123\n",
      "1,234\n",
      "12,345\n",
      "123,456\n",
      "1,234,567\n",
      "4,294,967,296\n",
      "1,267,650,600,228,229,401,496,703,205,376\n",
      "\n",
      "$             0.00 [0]\n",
      "$             1.00 [1]\n",
      "$            -1.00 [-1]\n",
      "$             1.23 [1.23]\n",
      "$             1.00 [1.0]\n",
      "$             1.20 [1.2]\n",
      "$             3.14 [3.14159]\n",
      "$            12.34 [12.34]\n",
      "$            12.34 [12.344]\n",
      "$            12.35 [12.345]\n",
      "$            12.35 [12.346]\n",
      "$ 4,294,967,296.00 [4294967296]\n",
      "$ 4,294,967,296.23 [4294967296.2345]\n",
      "$             1.23 [1.2345]\n",
      "$             1.20 [1.2]\n",
      "$             0.23 [0.2345]\n",
      "$            -1.23 [-1.2345]\n",
      "$            -1.20 [-1.2]\n",
      "$            -0.23 [-0.2345]\n",
      "$-4,294,967,296.00 [-4294967296]\n",
      "$-4,294,967,296.23 [-4294967296.2345]\n",
      "$1,267,650,600,228,229,401,496,703,205,376.00 [1267650600228229401496703205376]\n",
      "$-1,267,650,600,228,229,401,496,703,205,376.00 [-1267650600228229401496703205376]\n"
     ]
    }
   ],
   "source": [
    "!python code/formats.py"
   ]
  },
  {
   "cell_type": "code",
   "execution_count": 28,
   "id": "0c509b30",
   "metadata": {},
   "outputs": [
    {
     "name": "stdout",
     "output_type": "stream",
     "text": [
      "$123.46\n"
     ]
    }
   ],
   "source": [
    "!python code/formats.py 123.456 0"
   ]
  },
  {
   "cell_type": "code",
   "execution_count": 33,
   "id": "ee4cc482",
   "metadata": {},
   "outputs": [
    {
     "data": {
      "text/plain": [
       "True"
      ]
     },
     "execution_count": 33,
     "metadata": {},
     "output_type": "execute_result"
    }
   ],
   "source": [
    "digits = str('4294967')\n",
    "digits.isdigit()"
   ]
  },
  {
   "cell_type": "code",
   "execution_count": 34,
   "id": "b14defc8",
   "metadata": {},
   "outputs": [
    {
     "data": {
      "text/plain": [
       "'$123.46'"
      ]
     },
     "execution_count": 34,
     "metadata": {},
     "output_type": "execute_result"
    }
   ],
   "source": [
    "from formats import money, commas\n",
    "money(123.456)"
   ]
  },
  {
   "cell_type": "code",
   "execution_count": 35,
   "id": "328b17df",
   "metadata": {},
   "outputs": [
    {
     "name": "stdout",
     "output_type": "stream",
     "text": [
      "from __future__ import print_function # 2.X\n",
      "from formats import money\n",
      "X = 54321.987\n",
      "\n",
      "print(money(X), money(X, 0, ''))   \n",
      "print(money(X, currency=u'\\xA3'), money(X, currency=u'\\u00A5'))\n",
      "print(money(X, currency=b'\\xA3'.decode('latin-1')))\n",
      "\n",
      "print(money(X, currency=u'\\u20AC'), money(X, 0, b'\\xA4'.decode('iso-8859-15')))\n",
      "print(money(X, currency=b'\\xA4'.decode('latin-1')))\n"
     ]
    }
   ],
   "source": [
    "!cat code/formats_currency.py"
   ]
  },
  {
   "cell_type": "code",
   "execution_count": 36,
   "id": "59ee9df1",
   "metadata": {},
   "outputs": [
    {
     "name": "stdout",
     "output_type": "stream",
     "text": [
      "$54,321.99 54,321.99\n",
      "£54,321.99 ¥54,321.99\n",
      "£54,321.99\n",
      "€54,321.99 €54,321.99\n",
      "¤54,321.99\n"
     ]
    }
   ],
   "source": [
    "!python code/formats_currency.py"
   ]
  },
  {
   "cell_type": "code",
   "execution_count": 46,
   "id": "1a4765d0",
   "metadata": {},
   "outputs": [
    {
     "name": "stdout",
     "output_type": "stream",
     "text": [
      "¥\n",
      "¥\n"
     ]
    },
    {
     "data": {
      "text/plain": [
       "(None, None)"
      ]
     },
     "execution_count": 46,
     "metadata": {},
     "output_type": "execute_result"
    }
   ],
   "source": [
    "print(u'\\xA5'), print('\\xA5')"
   ]
  },
  {
   "cell_type": "code",
   "execution_count": 42,
   "id": "85fee718",
   "metadata": {},
   "outputs": [
    {
     "name": "stdout",
     "output_type": "stream",
     "text": [
      "¥\n"
     ]
    }
   ],
   "source": [
    "print(u'\\u00A5')"
   ]
  },
  {
   "cell_type": "code",
   "execution_count": 45,
   "id": "e2964f94",
   "metadata": {},
   "outputs": [
    {
     "name": "stdout",
     "output_type": "stream",
     "text": [
      "¥\n"
     ]
    }
   ],
   "source": [
    "print('\\u00A5')"
   ]
  },
  {
   "cell_type": "code",
   "execution_count": 40,
   "id": "eeec4f16",
   "metadata": {},
   "outputs": [
    {
     "name": "stdout",
     "output_type": "stream",
     "text": [
      "¤\n"
     ]
    }
   ],
   "source": [
    "print(b'\\xA4'.decode('latin-1'))"
   ]
  },
  {
   "cell_type": "code",
   "execution_count": 48,
   "id": "01a91b20",
   "metadata": {},
   "outputs": [
    {
     "name": "stdout",
     "output_type": "stream",
     "text": [
      "#!python\n",
      "\"\"\"\n",
      "mydir.py: a module that lists the namespaces of other modules\n",
      "\"\"\"\n",
      "from __future__ import print_function  # 2.X compatibility\n",
      "\n",
      "seplen = 60\n",
      "sepchr = '-'\n",
      "\n",
      "def listing(module, verbose=True):\n",
      "    sepline = sepchr * seplen\n",
      "    if verbose:\n",
      "        print(sepline)\n",
      "        print('name:', module.__name__, 'file:', module.__file__)\n",
      "        print(sepline)\n",
      "\n",
      "    count = 0\n",
      "    for attr in sorted(module.__dict__):      # Scan namespace keys (or enumerate)\n",
      "        print('%02d) %s' % (count, attr), end = ' ')\n",
      "        if attr.startswith('__'):\n",
      "            print('<built-in name>')          # Skip __file__, etc.\n",
      "        else:\n",
      "            print(getattr(module, attr))      # Same as .__dict__[attr]\n",
      "        count += 1\n",
      "\n",
      "    if verbose:\n",
      "        print(sepline)\n",
      "        print(module.__name__, 'has %d names' % count)\n",
      "        print(sepline)\n",
      "\n",
      "if __name__ == '__main__':\n",
      "    import mydir\n",
      "    listing(mydir)                            # Self-test code: list myself\n"
     ]
    }
   ],
   "source": [
    "!cat code/mydir.py"
   ]
  },
  {
   "cell_type": "code",
   "execution_count": 49,
   "id": "ae870da7",
   "metadata": {},
   "outputs": [
    {
     "name": "stdout",
     "output_type": "stream",
     "text": [
      "------------------------------------------------------------\n",
      "name: mydir file: D:\\books\\python\\0. Learning Python\\code\\mydir.py\n",
      "------------------------------------------------------------\n",
      "00) __builtins__ <built-in name>\n",
      "01) __cached__ <built-in name>\n",
      "02) __doc__ <built-in name>\n",
      "03) __file__ <built-in name>\n",
      "04) __loader__ <built-in name>\n",
      "05) __name__ <built-in name>\n",
      "06) __package__ <built-in name>\n",
      "07) __spec__ <built-in name>\n",
      "08) listing <function listing at 0x000001DEBA34D9D0>\n",
      "09) print_function _Feature((2, 6, 0, 'alpha', 2), (3, 0, 0, 'alpha', 0), 1048576)\n",
      "10) sepchr -\n",
      "11) seplen 60\n",
      "------------------------------------------------------------\n",
      "mydir has 12 names\n",
      "------------------------------------------------------------\n"
     ]
    }
   ],
   "source": [
    "!python code/mydir.py"
   ]
  },
  {
   "cell_type": "code",
   "execution_count": 50,
   "id": "1442e069",
   "metadata": {},
   "outputs": [
    {
     "name": "stdout",
     "output_type": "stream",
     "text": [
      "------------------------------------------------------------\n",
      "name: tkinter file: C:\\Users\\lidan\\miniconda3\\lib\\tkinter\\__init__.py\n",
      "------------------------------------------------------------\n",
      "00) ACTIVE active\n",
      "01) ALL all\n",
      "02) ANCHOR anchor\n",
      "03) ARC arc\n",
      "04) BASELINE baseline\n",
      "05) BEVEL bevel\n",
      "06) BOTH both\n",
      "07) BOTTOM bottom\n",
      "08) BROWSE browse\n",
      "09) BUTT butt\n",
      "10) BaseWidget <class 'tkinter.BaseWidget'>\n",
      "11) BitmapImage <class 'tkinter.BitmapImage'>\n",
      "12) BooleanVar <class 'tkinter.BooleanVar'>\n",
      "13) Button <class 'tkinter.Button'>\n",
      "14) CASCADE cascade\n",
      "15) CENTER center\n",
      "16) CHAR char\n",
      "17) CHECKBUTTON checkbutton\n",
      "18) CHORD chord\n",
      "19) COMMAND command\n",
      "20) CURRENT current\n",
      "21) CallWrapper <class 'tkinter.CallWrapper'>\n",
      "22) Canvas <class 'tkinter.Canvas'>\n",
      "23) Checkbutton <class 'tkinter.Checkbutton'>\n",
      "24) DISABLED disabled\n",
      "25) DOTBOX dotbox\n",
      "26) DoubleVar <class 'tkinter.DoubleVar'>\n",
      "27) E e\n",
      "28) END end\n",
      "29) EW ew\n",
      "30) EXCEPTION 8\n",
      "31) EXTENDED extended\n",
      "32) Entry <class 'tkinter.Entry'>\n",
      "33) Event <class 'tkinter.Event'>\n",
      "34) EventType <enum 'EventType'>\n",
      "35) FALSE 0\n",
      "36) FIRST first\n",
      "37) FLAT flat\n",
      "38) Frame <class 'tkinter.Frame'>\n",
      "39) GROOVE groove\n",
      "40) Grid <class 'tkinter.Grid'>\n",
      "41) HIDDEN hidden\n",
      "42) HORIZONTAL horizontal\n",
      "43) INSERT insert\n",
      "44) INSIDE inside\n",
      "45) Image <class 'tkinter.Image'>\n",
      "46) IntVar <class 'tkinter.IntVar'>\n",
      "47) LAST last\n",
      "48) LEFT left\n",
      "49) Label <class 'tkinter.Label'>\n",
      "50) LabelFrame <class 'tkinter.LabelFrame'>\n",
      "51) Listbox <class 'tkinter.Listbox'>\n",
      "52) MITER miter\n",
      "53) MOVETO moveto\n",
      "54) MULTIPLE multiple\n",
      "55) Menu <class 'tkinter.Menu'>\n",
      "56) Menubutton <class 'tkinter.Menubutton'>\n",
      "57) Message <class 'tkinter.Message'>\n",
      "58) Misc <class 'tkinter.Misc'>\n",
      "59) N n\n",
      "60) NE ne\n",
      "61) NO 0\n",
      "62) NONE none\n",
      "63) NORMAL normal\n",
      "64) NS ns\n",
      "65) NSEW nsew\n",
      "66) NUMERIC numeric\n",
      "67) NW nw\n",
      "68) NoDefaultRoot <function NoDefaultRoot at 0x0000017E96E22700>\n",
      "69) OFF 0\n",
      "70) ON 1\n",
      "71) OUTSIDE outside\n",
      "72) OptionMenu <class 'tkinter.OptionMenu'>\n",
      "73) PAGES pages\n",
      "74) PIESLICE pieslice\n",
      "75) PROJECTING projecting\n",
      "76) Pack <class 'tkinter.Pack'>\n",
      "77) PanedWindow <class 'tkinter.PanedWindow'>\n",
      "78) PhotoImage <class 'tkinter.PhotoImage'>\n",
      "79) Place <class 'tkinter.Place'>\n",
      "80) RADIOBUTTON radiobutton\n",
      "81) RAISED raised\n",
      "82) READABLE 2\n",
      "83) RIDGE ridge\n",
      "84) RIGHT right\n",
      "85) ROUND round\n",
      "86) Radiobutton <class 'tkinter.Radiobutton'>\n",
      "87) S s\n",
      "88) SCROLL scroll\n",
      "89) SE se\n",
      "90) SEL sel\n",
      "91) SEL_FIRST sel.first\n",
      "92) SEL_LAST sel.last\n",
      "93) SEPARATOR separator\n",
      "94) SINGLE single\n",
      "95) SOLID solid\n",
      "96) SUNKEN sunken\n",
      "97) SW sw\n",
      "98) Scale <class 'tkinter.Scale'>\n",
      "99) Scrollbar <class 'tkinter.Scrollbar'>\n",
      "100) Spinbox <class 'tkinter.Spinbox'>\n",
      "101) StringVar <class 'tkinter.StringVar'>\n",
      "102) TOP top\n",
      "103) TRUE 1\n",
      "104) Tcl <function Tcl at 0x0000017E96E36790>\n",
      "105) TclError <class '_tkinter.TclError'>\n",
      "106) TclVersion 8.6\n",
      "107) Text <class 'tkinter.Text'>\n",
      "108) Tk <class 'tkinter.Tk'>\n",
      "109) TkVersion 8.6\n",
      "110) Toplevel <class 'tkinter.Toplevel'>\n",
      "111) UNDERLINE underline\n",
      "112) UNITS units\n",
      "113) VERTICAL vertical\n",
      "114) Variable <class 'tkinter.Variable'>\n",
      "115) W w\n",
      "116) WORD word\n",
      "117) WRITABLE 4\n",
      "118) Widget <class 'tkinter.Widget'>\n",
      "119) Wm <class 'tkinter.Wm'>\n",
      "120) X x\n",
      "121) XView <class 'tkinter.XView'>\n",
      "122) Y y\n",
      "123) YES 1\n",
      "124) YView <class 'tkinter.YView'>\n",
      "125) __builtins__ <built-in name>\n",
      "126) __cached__ <built-in name>\n",
      "127) __doc__ <built-in name>\n",
      "128) __file__ <built-in name>\n",
      "129) __loader__ <built-in name>\n",
      "130) __name__ <built-in name>\n",
      "131) __package__ <built-in name>\n",
      "132) __path__ <built-in name>\n",
      "133) __spec__ <built-in name>\n",
      "134) _cnfmerge <function _cnfmerge at 0x0000017E96E225E0>\n",
      "135) _default_root None\n",
      "136) _exit <function _exit at 0x0000017E96E22940>\n",
      "137) _flatten <built-in function _flatten>\n",
      "138) _join <function _join at 0x0000017E96E224C0>\n",
      "139) _magic_re re.compile('([\\\\\\\\{}])')\n",
      "140) _setit <class 'tkinter._setit'>\n",
      "141) _space_re re.compile('([\\\\s])', re.ASCII)\n",
      "142) _splitdict <function _splitdict at 0x0000017E96E22670>\n",
      "143) _stringify <function _stringify at 0x0000017E96E22550>\n",
      "144) _support_default_root 1\n",
      "145) _test <function _test at 0x0000017E96E49040>\n",
      "146) _tkerror <function _tkerror at 0x0000017E96E228B0>\n",
      "147) _tkinter <module '_tkinter' from 'C:\\\\Users\\\\lidan\\\\miniconda3\\\\DLLs\\\\_tkinter.pyd'>\n",
      "148) _varnum 0\n",
      "149) constants <module 'tkinter.constants' from 'C:\\\\Users\\\\lidan\\\\miniconda3\\\\lib\\\\tkinter\\\\constants.py'>\n",
      "150) enum <module 'enum' from 'C:\\\\Users\\\\lidan\\\\miniconda3\\\\lib\\\\enum.py'>\n",
      "151) getboolean <function getboolean at 0x0000017E96E36700>\n",
      "152) getdouble <class 'float'>\n",
      "153) getint <class 'int'>\n",
      "154) image_names <function image_names at 0x0000017E96E3D670>\n",
      "155) image_types <function image_types at 0x0000017E96E47F70>\n",
      "156) mainloop <function mainloop at 0x0000017E96E229D0>\n",
      "157) re <module 're' from 'C:\\\\Users\\\\lidan\\\\miniconda3\\\\lib\\\\re.py'>\n",
      "158) sys <module 'sys' (built-in)>\n",
      "159) wantobjects 1\n",
      "------------------------------------------------------------\n",
      "tkinter has 160 names\n",
      "------------------------------------------------------------\n"
     ]
    }
   ],
   "source": [
    "import mydir\n",
    "import tkinter\n",
    "mydir.listing(tkinter)"
   ]
  },
  {
   "cell_type": "code",
   "execution_count": 52,
   "id": "00f75883",
   "metadata": {},
   "outputs": [
    {
     "data": {
      "text/plain": [
       "dict_keys(['__name__', '__doc__', '__package__', '__loader__', '__spec__', '__file__', '__cached__', '__builtins__', 'print_function', 'seplen', 'sepchr', 'listing'])"
      ]
     },
     "execution_count": 52,
     "metadata": {},
     "output_type": "execute_result"
    }
   ],
   "source": [
    "mydir.__dict__.keys()"
   ]
  },
  {
   "cell_type": "code",
   "execution_count": 53,
   "id": "ce54bbc6",
   "metadata": {},
   "outputs": [
    {
     "data": {
      "text/plain": [
       "dict_keys(['__name__', '__doc__', '__package__', '__loader__', '__spec__', '__path__', '__file__', '__cached__', '__builtins__', 'enum', 'sys', '_tkinter', 'TclError', 'constants', 'NO', 'FALSE', 'OFF', 'YES', 'TRUE', 'ON', 'N', 'S', 'W', 'E', 'NW', 'SW', 'NE', 'SE', 'NS', 'EW', 'NSEW', 'CENTER', 'NONE', 'X', 'Y', 'BOTH', 'LEFT', 'TOP', 'RIGHT', 'BOTTOM', 'RAISED', 'SUNKEN', 'FLAT', 'RIDGE', 'GROOVE', 'SOLID', 'HORIZONTAL', 'VERTICAL', 'NUMERIC', 'CHAR', 'WORD', 'BASELINE', 'INSIDE', 'OUTSIDE', 'SEL', 'SEL_FIRST', 'SEL_LAST', 'END', 'INSERT', 'CURRENT', 'ANCHOR', 'ALL', 'NORMAL', 'DISABLED', 'ACTIVE', 'HIDDEN', 'CASCADE', 'CHECKBUTTON', 'COMMAND', 'RADIOBUTTON', 'SEPARATOR', 'SINGLE', 'BROWSE', 'MULTIPLE', 'EXTENDED', 'DOTBOX', 'UNDERLINE', 'PIESLICE', 'CHORD', 'ARC', 'FIRST', 'LAST', 'BUTT', 'PROJECTING', 'ROUND', 'BEVEL', 'MITER', 'MOVETO', 'SCROLL', 'UNITS', 'PAGES', 're', 'wantobjects', 'TkVersion', 'TclVersion', 'READABLE', 'WRITABLE', 'EXCEPTION', '_magic_re', '_space_re', '_join', '_stringify', '_flatten', '_cnfmerge', '_splitdict', 'EventType', 'Event', '_support_default_root', '_default_root', 'NoDefaultRoot', '_tkerror', '_exit', '_varnum', 'Variable', 'StringVar', 'IntVar', 'DoubleVar', 'BooleanVar', 'mainloop', 'getint', 'getdouble', 'getboolean', 'Misc', 'CallWrapper', 'XView', 'YView', 'Wm', 'Tk', 'Tcl', 'Pack', 'Place', 'Grid', 'BaseWidget', 'Widget', 'Toplevel', 'Button', 'Canvas', 'Checkbutton', 'Entry', 'Frame', 'Label', 'Listbox', 'Menu', 'Menubutton', 'Message', 'Radiobutton', 'Scale', 'Scrollbar', 'Text', '_setit', 'OptionMenu', 'Image', 'PhotoImage', 'BitmapImage', 'image_names', 'image_types', 'Spinbox', 'LabelFrame', 'PanedWindow', '_test'])"
      ]
     },
     "execution_count": 53,
     "metadata": {},
     "output_type": "execute_result"
    }
   ],
   "source": [
    "tkinter.__dict__.keys()"
   ]
  },
  {
   "cell_type": "code",
   "execution_count": 54,
   "id": "cc6ff532",
   "metadata": {},
   "outputs": [
    {
     "data": {
      "text/plain": [
       "<module 'string' from 'C:\\\\Users\\\\lidan\\\\miniconda3\\\\lib\\\\string.py'>"
      ]
     },
     "execution_count": 54,
     "metadata": {},
     "output_type": "execute_result"
    }
   ],
   "source": [
    "modname = 'string'\n",
    "exec('import ' + modname)      # Run a string of code\n",
    "string"
   ]
  },
  {
   "cell_type": "code",
   "execution_count": 55,
   "id": "b63d78fe",
   "metadata": {},
   "outputs": [
    {
     "data": {
      "text/plain": [
       "<module 'string' from 'C:\\\\Users\\\\lidan\\\\miniconda3\\\\lib\\\\string.py'>"
      ]
     },
     "execution_count": 55,
     "metadata": {},
     "output_type": "execute_result"
    }
   ],
   "source": [
    "modname = 'string'\n",
    "string = __import__(modname)\n",
    "string"
   ]
  },
  {
   "cell_type": "code",
   "execution_count": 56,
   "id": "29afcbf5",
   "metadata": {},
   "outputs": [
    {
     "data": {
      "text/plain": [
       "<module 'string' from 'C:\\\\Users\\\\lidan\\\\miniconda3\\\\lib\\\\string.py'>"
      ]
     },
     "execution_count": 56,
     "metadata": {},
     "output_type": "execute_result"
    }
   ],
   "source": [
    "import importlib\n",
    "modname = 'string'\n",
    "string = importlib.import_module(modname)\n",
    "string"
   ]
  },
  {
   "cell_type": "code",
   "execution_count": 59,
   "id": "5e1c1a2a",
   "metadata": {},
   "outputs": [
    {
     "name": "stdout",
     "output_type": "stream",
     "text": [
      "#!python\n",
      "\"\"\"\n",
      "reloadall.py: transitively reload nested modules (2.X + 3.X).\n",
      "Call reload_all with one or more imported module module objects.\n",
      "\"\"\"\n",
      "\n",
      "import types\n",
      "from imp import reload                                   # from required in 3.X\n",
      "\n",
      "def status(module):\n",
      "    print('reloading ' + module.__name__)\n",
      "\n",
      "def tryreload(module):\n",
      "    try:\n",
      "        reload(module)                                   # 3.3 (only?) fails on some\n",
      "    except:\n",
      "        print('FAILED: %s' % module)\n",
      "\n",
      "def transitive_reload(module, visited):\n",
      "    if not module in visited:                            # Trap cycles, duplicates\n",
      "        status(module)                                   # Reload this module\n",
      "        tryreload(module)                                # And visit children\n",
      "        visited[module] = True\n",
      "        for attrobj in module.__dict__.values():         # For all attrs\n",
      "            if type(attrobj) == types.ModuleType:        # Recur if module\n",
      "                transitive_reload(attrobj, visited)\n",
      "\n",
      "def reload_all(*args):                                 \n",
      "    visited = {}                                         # Main entry point\n",
      "    for arg in args:                                     # For all passed in\n",
      "        if type(arg) == types.ModuleType:\n",
      "            transitive_reload(arg, visited)\n",
      "\n",
      "def tester(reloader, modname):                           # Self-test code\n",
      "    import importlib, sys                                # Import on tests only\n",
      "    if len(sys.argv) > 1: modname = sys.argv[1]          # command line (or passed)\n",
      "    module  = importlib.import_module(modname)           # Import by name string\n",
      "    reloader(module)                                     # Test passed-in reloader\n",
      "    \n",
      "if __name__ == '__main__':\n",
      "    tester(reload_all, 'reloadall')                      # Test: reload myself?\n"
     ]
    }
   ],
   "source": [
    "!cat code\\reloadall.py"
   ]
  },
  {
   "cell_type": "code",
   "execution_count": 61,
   "id": "60b21b2c",
   "metadata": {},
   "outputs": [
    {
     "name": "stdout",
     "output_type": "stream",
     "text": [
      "reloading reloadall\n",
      "reloading types\n"
     ]
    },
    {
     "name": "stderr",
     "output_type": "stream",
     "text": [
      "code/reloadall.py:8: DeprecationWarning: the imp module is deprecated in favour of importlib; see the module's documentation for alternative uses\n",
      "  from imp import reload                                   # from required in 3.X\n"
     ]
    }
   ],
   "source": [
    "!python code/reloadall.py"
   ]
  },
  {
   "cell_type": "code",
   "execution_count": 63,
   "id": "9db962aa",
   "metadata": {},
   "outputs": [],
   "source": [
    "import pybench"
   ]
  },
  {
   "cell_type": "code",
   "execution_count": 65,
   "id": "dd8f6d97",
   "metadata": {},
   "outputs": [
    {
     "name": "stdout",
     "output_type": "stream",
     "text": [
      "reloading pybench\n",
      "reloading sys\n",
      "reloading os\n",
      "reloading abc\n",
      "reloading stat\n",
      "reloading ntpath\n",
      "reloading genericpath\n",
      "reloading timeit\n",
      "reloading gc\n",
      "reloading time\n",
      "reloading itertools\n"
     ]
    },
    {
     "name": "stderr",
     "output_type": "stream",
     "text": [
      "code/reloadall.py:8: DeprecationWarning: the imp module is deprecated in favour of importlib; see the module's documentation for alternative uses\n",
      "  from imp import reload                                   # from required in 3.X\n"
     ]
    }
   ],
   "source": [
    "!python code/reloadall.py pybench"
   ]
  },
  {
   "cell_type": "code",
   "execution_count": 2,
   "id": "cd9be508",
   "metadata": {},
   "outputs": [
    {
     "name": "stdout",
     "output_type": "stream",
     "text": [
      "import b     # File a.py\n",
      "X = 1\n"
     ]
    }
   ],
   "source": [
    "!cat code/a.py"
   ]
  },
  {
   "cell_type": "code",
   "execution_count": 3,
   "id": "cdf62c0d",
   "metadata": {},
   "outputs": [
    {
     "name": "stdout",
     "output_type": "stream",
     "text": [
      "import c     # File b.py\n",
      "Y = 2\n"
     ]
    }
   ],
   "source": [
    "!cat code/b.py"
   ]
  },
  {
   "cell_type": "code",
   "execution_count": 4,
   "id": "8ce8e000",
   "metadata": {},
   "outputs": [
    {
     "name": "stdout",
     "output_type": "stream",
     "text": [
      "Z = 3      # File c.py\n"
     ]
    }
   ],
   "source": [
    "!cat code/c.py"
   ]
  },
  {
   "cell_type": "code",
   "execution_count": 9,
   "id": "70b63cd8",
   "metadata": {},
   "outputs": [
    {
     "data": {
      "text/plain": [
       "(1, 2, 3)"
      ]
     },
     "execution_count": 9,
     "metadata": {},
     "output_type": "execute_result"
    }
   ],
   "source": [
    "import a\n",
    "a.X, a.b.Y, a.b.c.Z"
   ]
  },
  {
   "cell_type": "code",
   "execution_count": 10,
   "id": "3d6532c5",
   "metadata": {},
   "outputs": [
    {
     "name": "stdout",
     "output_type": "stream",
     "text": [
      "import b     # File a.py\n",
      "X = 111\n"
     ]
    }
   ],
   "source": [
    "# change the values in a.py\n",
    "!cat code/a.py"
   ]
  },
  {
   "cell_type": "code",
   "execution_count": 11,
   "id": "0146d91d",
   "metadata": {},
   "outputs": [
    {
     "name": "stdout",
     "output_type": "stream",
     "text": [
      "import c     # File b.py\n",
      "Y = 222\n"
     ]
    }
   ],
   "source": [
    "# change the values in b.py\n",
    "!cat code/b.py"
   ]
  },
  {
   "cell_type": "code",
   "execution_count": 12,
   "id": "c763ec69",
   "metadata": {},
   "outputs": [
    {
     "name": "stdout",
     "output_type": "stream",
     "text": [
      "Z = 333      # File c.py\n"
     ]
    }
   ],
   "source": [
    "# change the values in c.py\n",
    "!cat code/c.py"
   ]
  },
  {
   "cell_type": "code",
   "execution_count": 13,
   "id": "e84490df",
   "metadata": {},
   "outputs": [
    {
     "data": {
      "text/plain": [
       "(1, 2, 3)"
      ]
     },
     "execution_count": 13,
     "metadata": {},
     "output_type": "execute_result"
    }
   ],
   "source": [
    "import a\n",
    "a.X, a.b.Y, a.b.c.Z"
   ]
  },
  {
   "cell_type": "code",
   "execution_count": 14,
   "id": "7f281a1d",
   "metadata": {},
   "outputs": [
    {
     "data": {
      "text/plain": [
       "(111, 2, 3)"
      ]
     },
     "execution_count": 14,
     "metadata": {},
     "output_type": "execute_result"
    }
   ],
   "source": [
    "from imp import reload\n",
    "reload(a) \n",
    "a.X, a.b.Y, a.b.c.Z"
   ]
  },
  {
   "cell_type": "code",
   "execution_count": 15,
   "id": "535c0360",
   "metadata": {},
   "outputs": [
    {
     "name": "stdout",
     "output_type": "stream",
     "text": [
      "reloading a\n",
      "reloading b\n",
      "reloading c\n"
     ]
    },
    {
     "data": {
      "text/plain": [
       "(111, 222, 333)"
      ]
     },
     "execution_count": 15,
     "metadata": {},
     "output_type": "execute_result"
    }
   ],
   "source": [
    "from reloadall import reload_all\n",
    "reload_all(a)\n",
    "a.X, a.b.Y, a.b.c.Z"
   ]
  },
  {
   "cell_type": "code",
   "execution_count": 16,
   "id": "ed4a8624",
   "metadata": {},
   "outputs": [
    {
     "name": "stdout",
     "output_type": "stream",
     "text": [
      "\"\"\"\n",
      "reloadall2.py: transitively reload nested modules (alternative coding)\n",
      "\"\"\"\n",
      "\n",
      "import types\n",
      "from imp import reload                              # from required in 3.X\n",
      "from reloadall import status, tryreload, tester\n",
      "\n",
      "def transitive_reload(objects, visited):\n",
      "    for obj in objects:\n",
      "        if type(obj) == types.ModuleType and obj not in visited:\n",
      "            status(obj)\n",
      "            tryreload(obj)                          # Reload this, recur to attrs\n",
      "            visited.add(obj)\n",
      "            transitive_reload(obj.__dict__.values(), visited)\n",
      "\n",
      "def reload_all(*args): \n",
      "    transitive_reload(args, set())\n",
      "\n",
      "if __name__ == '__main__':\n",
      "    tester(reload_all, 'reloadall2')                # Test code: reload myself?\n"
     ]
    }
   ],
   "source": [
    "!cat code/reloadall2.py"
   ]
  },
  {
   "cell_type": "code",
   "execution_count": 17,
   "id": "551df89b",
   "metadata": {},
   "outputs": [
    {
     "name": "stdout",
     "output_type": "stream",
     "text": [
      "\"\"\"\n",
      "reloadall3.py: transitively reload nested modules (explicit stack)\n",
      "\"\"\"\n",
      "\n",
      "import types\n",
      "from imp import reload                              # from required in 3.X\n",
      "from reloadall import status, tryreload, tester\n",
      "\n",
      "def transitive_reload(modules, visited):\n",
      "    while modules:\n",
      "        next = modules.pop()                        # Delete next item at end\n",
      "        status(next)                                # Reload this, push attrs\n",
      "        tryreload(next)\n",
      "        visited.add(next)\n",
      "        modules.extend(x for x in next.__dict__.values()\n",
      "            if type(x) == types.ModuleType and x not in visited)\n",
      "\n",
      "def reload_all(*modules):\n",
      "    transitive_reload(list(modules), set())\n",
      "\n",
      "if __name__ == '__main__':\n",
      "    tester(reload_all, 'reloadall3')                # Test code: reload myself?\n"
     ]
    }
   ],
   "source": [
    "!cat code/reloadall3.py"
   ]
  },
  {
   "cell_type": "code",
   "execution_count": 18,
   "id": "184bc6e5",
   "metadata": {},
   "outputs": [
    {
     "name": "stdout",
     "output_type": "stream",
     "text": [
      "X = 99\n",
      "def printer(): print(X)\n"
     ]
    }
   ],
   "source": [
    "!cat code/nested1.py"
   ]
  },
  {
   "cell_type": "code",
   "execution_count": 23,
   "id": "4d262416",
   "metadata": {},
   "outputs": [
    {
     "name": "stdout",
     "output_type": "stream",
     "text": [
      "99\n"
     ]
    }
   ],
   "source": [
    "import nested1\n",
    "nested1.printer()"
   ]
  },
  {
   "cell_type": "code",
   "execution_count": 19,
   "id": "b9d096ba",
   "metadata": {},
   "outputs": [
    {
     "name": "stdout",
     "output_type": "stream",
     "text": [
      "from nested1 import X, printer    # Copy names out\n",
      "X = 88                            # Changes my \"X\" only!\n",
      "printer()                         # nested1's X is still 99\n"
     ]
    }
   ],
   "source": [
    "!cat code/nested2.py"
   ]
  },
  {
   "cell_type": "code",
   "execution_count": 24,
   "id": "92861515",
   "metadata": {},
   "outputs": [
    {
     "name": "stdout",
     "output_type": "stream",
     "text": [
      "99\n"
     ]
    }
   ],
   "source": [
    "import nested2"
   ]
  },
  {
   "cell_type": "code",
   "execution_count": 6,
   "id": "92bab77d",
   "metadata": {},
   "outputs": [
    {
     "name": "stdout",
     "output_type": "stream",
     "text": [
      "import nested1                    # Get module as a whole\n",
      "nested1.X = 88                    # OK: change nested1's X\n",
      "nested1.printer()\n"
     ]
    }
   ],
   "source": [
    "!cat code/nested3.py"
   ]
  },
  {
   "cell_type": "code",
   "execution_count": 7,
   "id": "4a77dbbd",
   "metadata": {},
   "outputs": [
    {
     "name": "stdout",
     "output_type": "stream",
     "text": [
      "88\n"
     ]
    }
   ],
   "source": [
    "import nested3"
   ]
  },
  {
   "cell_type": "code",
   "execution_count": 4,
   "id": "3a491baa",
   "metadata": {},
   "outputs": [
    {
     "name": "stdout",
     "output_type": "stream",
     "text": [
      "import nested1                    # Get module as a whole\n",
      "X = 88                    # OK: change nested1's X\n",
      "nested1.printer()\n"
     ]
    }
   ],
   "source": [
    "!cat code/nested4.py"
   ]
  },
  {
   "cell_type": "code",
   "execution_count": 5,
   "id": "70ec0f02",
   "metadata": {},
   "outputs": [
    {
     "name": "stdout",
     "output_type": "stream",
     "text": [
      "99\n"
     ]
    }
   ],
   "source": [
    "import nested4"
   ]
  },
  {
   "cell_type": "markdown",
   "id": "0b11263e",
   "metadata": {},
   "source": [
    "# Chapter 26. OOP: The Big Picture"
   ]
  },
  {
   "cell_type": "markdown",
   "id": "a9f17532",
   "metadata": {},
   "source": [
    "# Chapter 27. Class Coding Basics"
   ]
  },
  {
   "cell_type": "code",
   "execution_count": 4,
   "id": "59ff2b28",
   "metadata": {},
   "outputs": [],
   "source": [
    "class FirstClass:               # Define a class object\n",
    "        def setdata(self, value):   # Define class's methods\n",
    "            self.data = value       # self is the instance\n",
    "        def display(self):\n",
    "            print(self.data)        # self.data: per instance"
   ]
  },
  {
   "cell_type": "code",
   "execution_count": 5,
   "id": "1290233e",
   "metadata": {},
   "outputs": [],
   "source": [
    "x = FirstClass()                # Make two instances\n",
    "y = FirstClass()                # Each is a new namespace"
   ]
  },
  {
   "cell_type": "code",
   "execution_count": 6,
   "id": "a54e28bc",
   "metadata": {},
   "outputs": [],
   "source": [
    "x.setdata(\"King Arthur\")        # Call methods: self is x\n",
    "y.setdata(3.14159)              # Runs: FirstClass.setdata(y, 3.14159)"
   ]
  },
  {
   "cell_type": "code",
   "execution_count": 7,
   "id": "93c4f1d7",
   "metadata": {},
   "outputs": [
    {
     "name": "stdout",
     "output_type": "stream",
     "text": [
      "King Arthur\n"
     ]
    }
   ],
   "source": [
    "x.display()"
   ]
  },
  {
   "cell_type": "code",
   "execution_count": 8,
   "id": "3c892600",
   "metadata": {},
   "outputs": [
    {
     "name": "stdout",
     "output_type": "stream",
     "text": [
      "3.14159\n"
     ]
    }
   ],
   "source": [
    "y.display()"
   ]
  },
  {
   "cell_type": "code",
   "execution_count": 9,
   "id": "fca50a14",
   "metadata": {},
   "outputs": [
    {
     "name": "stdout",
     "output_type": "stream",
     "text": [
      "3.14159\n"
     ]
    }
   ],
   "source": [
    "FirstClass.display(y)"
   ]
  },
  {
   "cell_type": "code",
   "execution_count": 10,
   "id": "9ca0866f",
   "metadata": {},
   "outputs": [
    {
     "name": "stdout",
     "output_type": "stream",
     "text": [
      "New value\n"
     ]
    }
   ],
   "source": [
    "x.data = \"New value\"            # Can get/set attributes\n",
    "x.display()                     # Outside the class too"
   ]
  },
  {
   "cell_type": "code",
   "execution_count": 11,
   "id": "69889a12",
   "metadata": {},
   "outputs": [],
   "source": [
    "class SecondClass(FirstClass):                   # Inherits setdata\n",
    "        def display(self):                           # Changes display\n",
    "            print('Current value = \"%s\"' % self.data)"
   ]
  },
  {
   "cell_type": "code",
   "execution_count": 12,
   "id": "7f0938dc",
   "metadata": {},
   "outputs": [
    {
     "name": "stdout",
     "output_type": "stream",
     "text": [
      "Current value = \"42\"\n"
     ]
    }
   ],
   "source": [
    "z = SecondClass()\n",
    "z.setdata(42)           # Finds setdata in FirstClass\n",
    "z.display()             # Finds overridden method in SecondClass"
   ]
  },
  {
   "cell_type": "code",
   "execution_count": 13,
   "id": "1b3ab81f",
   "metadata": {},
   "outputs": [],
   "source": [
    "class ThirdClass(SecondClass):                     # Inherit from SecondClass\n",
    "        def __init__(self, value):                     # On \"ThirdClass(value)\"\n",
    "            self.data = value\n",
    "        def __add__(self, other):                      # On \"self + other\"\n",
    "            return ThirdClass(self.data + other)\n",
    "        def __str__(self):                             # On \"print(self)\", \"str()\"\n",
    "            return '[ThirdClass: %s]' % self.data\n",
    "        def mul(self, other):                          # In-place change: named\n",
    "            self.data *= other"
   ]
  },
  {
   "cell_type": "code",
   "execution_count": 14,
   "id": "bbf6ab8b",
   "metadata": {},
   "outputs": [
    {
     "name": "stdout",
     "output_type": "stream",
     "text": [
      "Current value = \"abc\"\n"
     ]
    }
   ],
   "source": [
    "a = ThirdClass('abc')           # __init__ called\n",
    "a.display()                     # Inherited method called"
   ]
  },
  {
   "cell_type": "code",
   "execution_count": 15,
   "id": "e1ec95bf",
   "metadata": {},
   "outputs": [
    {
     "name": "stdout",
     "output_type": "stream",
     "text": [
      "[ThirdClass: abc]\n"
     ]
    }
   ],
   "source": [
    "print(a)                        # __str__: returns display string"
   ]
  },
  {
   "cell_type": "code",
   "execution_count": 16,
   "id": "62a13e13",
   "metadata": {},
   "outputs": [
    {
     "name": "stdout",
     "output_type": "stream",
     "text": [
      "Current value = \"abcxyz\"\n"
     ]
    }
   ],
   "source": [
    "b = a + 'xyz'                   # __add__: makes a new instance\n",
    "b.display()                     # b has all ThirdClass methods"
   ]
  },
  {
   "cell_type": "code",
   "execution_count": 17,
   "id": "b5d3864e",
   "metadata": {},
   "outputs": [
    {
     "name": "stdout",
     "output_type": "stream",
     "text": [
      "[ThirdClass: abcxyz]\n"
     ]
    }
   ],
   "source": [
    "print(b)                        # __str__: returns display string\n"
   ]
  },
  {
   "cell_type": "code",
   "execution_count": 18,
   "id": "8cc52008",
   "metadata": {},
   "outputs": [
    {
     "name": "stdout",
     "output_type": "stream",
     "text": [
      "[ThirdClass: abcabcabc]\n"
     ]
    }
   ],
   "source": [
    "a.mul(3)                        # mul: changes instance in place\n",
    "print(a)"
   ]
  },
  {
   "cell_type": "code",
   "execution_count": 19,
   "id": "c1682219",
   "metadata": {},
   "outputs": [
    {
     "name": "stdout",
     "output_type": "stream",
     "text": [
      "Current value = \"abcabcabc\"\n"
     ]
    }
   ],
   "source": [
    "a.display() "
   ]
  },
  {
   "cell_type": "code",
   "execution_count": 20,
   "id": "b487737c",
   "metadata": {},
   "outputs": [
    {
     "data": {
      "text/plain": [
       "'abcabcabc'"
      ]
     },
     "execution_count": 20,
     "metadata": {},
     "output_type": "execute_result"
    }
   ],
   "source": [
    "a.data"
   ]
  },
  {
   "cell_type": "code",
   "execution_count": 21,
   "id": "f28b7c82",
   "metadata": {},
   "outputs": [
    {
     "name": "stdout",
     "output_type": "stream",
     "text": [
      "None\n"
     ]
    }
   ],
   "source": [
    "a = ThirdClass('abc')           # __init__ called\n",
    "c = a.mul(3)                        # mul: changes instance in place\n",
    "print(c)  "
   ]
  },
  {
   "cell_type": "code",
   "execution_count": 4,
   "id": "3b8cd4cc",
   "metadata": {},
   "outputs": [],
   "source": [
    "class rec: pass              # Empty namespace object"
   ]
  },
  {
   "cell_type": "code",
   "execution_count": 5,
   "id": "b8472e21",
   "metadata": {},
   "outputs": [],
   "source": [
    "rec.name = 'Bob'             # Just objects with attributes\n",
    "rec.age  = 40"
   ]
  },
  {
   "cell_type": "code",
   "execution_count": 6,
   "id": "02bc3fc5",
   "metadata": {},
   "outputs": [
    {
     "name": "stdout",
     "output_type": "stream",
     "text": [
      "Bob\n"
     ]
    }
   ],
   "source": [
    "print(rec.name)              # Like a C struct or a record"
   ]
  },
  {
   "cell_type": "code",
   "execution_count": 7,
   "id": "5c9cedc9",
   "metadata": {},
   "outputs": [],
   "source": [
    "x = rec()                    # Instances inherit class names\n",
    "y = rec()"
   ]
  },
  {
   "cell_type": "code",
   "execution_count": 8,
   "id": "9556e342",
   "metadata": {},
   "outputs": [
    {
     "data": {
      "text/plain": [
       "('Bob', 'Bob')"
      ]
     },
     "execution_count": 8,
     "metadata": {},
     "output_type": "execute_result"
    }
   ],
   "source": [
    "x.name, y.name               # name is stored on the class only"
   ]
  },
  {
   "cell_type": "code",
   "execution_count": 9,
   "id": "4fc9f4f7",
   "metadata": {},
   "outputs": [
    {
     "data": {
      "text/plain": [
       "(40, 40)"
      ]
     },
     "execution_count": 9,
     "metadata": {},
     "output_type": "execute_result"
    }
   ],
   "source": [
    "x.age, y.age               # name is stored on the class only"
   ]
  },
  {
   "cell_type": "code",
   "execution_count": 10,
   "id": "4bba6a41",
   "metadata": {},
   "outputs": [
    {
     "data": {
      "text/plain": [
       "('Bob', 'Sue', 'Bob')"
      ]
     },
     "execution_count": 10,
     "metadata": {},
     "output_type": "execute_result"
    }
   ],
   "source": [
    "x.name = 'Sue'               # But assignment changes x only\n",
    "rec.name, x.name, y.name"
   ]
  },
  {
   "cell_type": "code",
   "execution_count": 11,
   "id": "726c49d6",
   "metadata": {},
   "outputs": [
    {
     "data": {
      "text/plain": [
       "['__module__', '__dict__', '__weakref__', '__doc__', 'name', 'age']"
      ]
     },
     "execution_count": 11,
     "metadata": {},
     "output_type": "execute_result"
    }
   ],
   "source": [
    "list(rec.__dict__.keys())"
   ]
  },
  {
   "cell_type": "code",
   "execution_count": 12,
   "id": "2b8358ed",
   "metadata": {},
   "outputs": [
    {
     "data": {
      "text/plain": [
       "['name']"
      ]
     },
     "execution_count": 12,
     "metadata": {},
     "output_type": "execute_result"
    }
   ],
   "source": [
    "list(x.__dict__.keys())"
   ]
  },
  {
   "cell_type": "code",
   "execution_count": 13,
   "id": "f4007f1c",
   "metadata": {},
   "outputs": [
    {
     "data": {
      "text/plain": [
       "[]"
      ]
     },
     "execution_count": 13,
     "metadata": {},
     "output_type": "execute_result"
    }
   ],
   "source": [
    "list(y.__dict__.keys())           # list() not required in Python 2.X"
   ]
  },
  {
   "cell_type": "code",
   "execution_count": 14,
   "id": "8222cf72",
   "metadata": {},
   "outputs": [
    {
     "data": {
      "text/plain": [
       "['name']"
      ]
     },
     "execution_count": 14,
     "metadata": {},
     "output_type": "execute_result"
    }
   ],
   "source": [
    "y.name = 'Sue2'  \n",
    "list(y.__dict__.keys())  "
   ]
  },
  {
   "cell_type": "markdown",
   "id": "27b08609",
   "metadata": {},
   "source": [
    "### attribute notation kicks off inheritance search, but indexing looks in the single object only "
   ]
  },
  {
   "cell_type": "code",
   "execution_count": 15,
   "id": "d6ce82a1",
   "metadata": {},
   "outputs": [
    {
     "data": {
      "text/plain": [
       "('Sue', 'Sue')"
      ]
     },
     "execution_count": 15,
     "metadata": {},
     "output_type": "execute_result"
    }
   ],
   "source": [
    "x.name, x.__dict__['name']        # Attributes present here are dict keys"
   ]
  },
  {
   "cell_type": "code",
   "execution_count": 16,
   "id": "1a0358d9",
   "metadata": {},
   "outputs": [
    {
     "data": {
      "text/plain": [
       "40"
      ]
     },
     "execution_count": 16,
     "metadata": {},
     "output_type": "execute_result"
    }
   ],
   "source": [
    "x.age                             # But attribute fetch checks classes too"
   ]
  },
  {
   "cell_type": "code",
   "execution_count": 17,
   "id": "1d7411cf",
   "metadata": {},
   "outputs": [
    {
     "ename": "KeyError",
     "evalue": "'age'",
     "output_type": "error",
     "traceback": [
      "\u001b[1;31m---------------------------------------------------------------------------\u001b[0m",
      "\u001b[1;31mKeyError\u001b[0m                                  Traceback (most recent call last)",
      "\u001b[1;32m~\\AppData\\Local\\Temp/ipykernel_7364/924007790.py\u001b[0m in \u001b[0;36m<module>\u001b[1;34m\u001b[0m\n\u001b[1;32m----> 1\u001b[1;33m \u001b[0mx\u001b[0m\u001b[1;33m.\u001b[0m\u001b[0m__dict__\u001b[0m\u001b[1;33m[\u001b[0m\u001b[1;34m'age'\u001b[0m\u001b[1;33m]\u001b[0m\u001b[1;33m\u001b[0m\u001b[1;33m\u001b[0m\u001b[0m\n\u001b[0m",
      "\u001b[1;31mKeyError\u001b[0m: 'age'"
     ]
    }
   ],
   "source": [
    "x.__dict__['age']     "
   ]
  },
  {
   "cell_type": "code",
   "execution_count": 18,
   "id": "4c152767",
   "metadata": {},
   "outputs": [
    {
     "data": {
      "text/plain": [
       "__main__.rec"
      ]
     },
     "execution_count": 18,
     "metadata": {},
     "output_type": "execute_result"
    }
   ],
   "source": [
    "x.__class__                       # Instance to class link"
   ]
  },
  {
   "cell_type": "code",
   "execution_count": 19,
   "id": "3757962a",
   "metadata": {},
   "outputs": [
    {
     "data": {
      "text/plain": [
       "(object,)"
      ]
     },
     "execution_count": 19,
     "metadata": {},
     "output_type": "execute_result"
    }
   ],
   "source": [
    "rec.__bases__                     # Class to superclasses link, () in 2.X"
   ]
  },
  {
   "cell_type": "code",
   "execution_count": 20,
   "id": "27595253",
   "metadata": {},
   "outputs": [],
   "source": [
    "def uppername(obj):\n",
    "        return obj.name.upper()       # Still needs a self argument (obj)"
   ]
  },
  {
   "cell_type": "code",
   "execution_count": 21,
   "id": "d27b5ea5",
   "metadata": {},
   "outputs": [
    {
     "data": {
      "text/plain": [
       "'SUE'"
      ]
     },
     "execution_count": 21,
     "metadata": {},
     "output_type": "execute_result"
    }
   ],
   "source": [
    "uppername(x)                      # Call as a simple function"
   ]
  },
  {
   "cell_type": "code",
   "execution_count": 22,
   "id": "fc14ea38",
   "metadata": {},
   "outputs": [
    {
     "data": {
      "text/plain": [
       "'SUE'"
      ]
     },
     "execution_count": 22,
     "metadata": {},
     "output_type": "execute_result"
    }
   ],
   "source": [
    "rec.method = uppername            # Now it's a class's method!\n",
    "\n",
    "x.method()                        # Run  method to process x"
   ]
  },
  {
   "cell_type": "code",
   "execution_count": 23,
   "id": "86b4da7d",
   "metadata": {},
   "outputs": [
    {
     "data": {
      "text/plain": [
       "'SUE2'"
      ]
     },
     "execution_count": 23,
     "metadata": {},
     "output_type": "execute_result"
    }
   ],
   "source": [
    "y.method()                        # Same, but pass y to self"
   ]
  },
  {
   "cell_type": "code",
   "execution_count": 24,
   "id": "c8a7fcfb",
   "metadata": {},
   "outputs": [
    {
     "data": {
      "text/plain": [
       "'SUE'"
      ]
     },
     "execution_count": 24,
     "metadata": {},
     "output_type": "execute_result"
    }
   ],
   "source": [
    "rec.method(x)                     # Can call through instance or class"
   ]
  },
  {
   "cell_type": "markdown",
   "id": "8d280ac4",
   "metadata": {},
   "source": [
    "# Chapter 28. A More Realistic Example"
   ]
  },
  {
   "cell_type": "code",
   "execution_count": 29,
   "id": "39ef6dd9",
   "metadata": {},
   "outputs": [
    {
     "name": "stdout",
     "output_type": "stream",
     "text": [
      "class Person:\n",
      "    def __init__(self, name, job=None, pay=0):\n",
      "        self.name = name\n",
      "        self.job  = job\n",
      "        self.pay  = pay\n",
      "    def lastName(self):\n",
      "        return self.name.split()[-1]\n",
      "    def giveRaise(self, percent):\n",
      "        self.pay = int(self.pay * (1 + percent))\n",
      "    def __repr__(self):\n",
      "        return '[Person: %s, %s]' % (self.name, self.pay)\n",
      "\n",
      "class Manager:\n",
      "    def __init__(self, name, pay):\n",
      "        self.person = Person(name, 'mgr', pay)      # Embed a Person object\n",
      "    def giveRaise(self, percent, bonus=.10):\n",
      "        self.person.giveRaise(percent + bonus)      # Intercept and delegate\n",
      "    def __getattr__(self, attr):\n",
      "        return getattr(self.person, attr)           # Delegate all other attrs\n",
      "    def __repr__(self):\n",
      "        return str(self.person)                     # Must overload again (in 3.X)\n",
      "\n",
      "if __name__ == '__main__':\n",
      "    bob = Person('Bob Smith')\n",
      "    sue = Person('Sue Jones', job='dev', pay=100000)\n",
      "    print(bob)\n",
      "    print(sue)\n",
      "    print(bob.lastName(), sue.lastName())\n",
      "    sue.giveRaise(.10)\n",
      "    print(sue)\n",
      "    tom = Manager('Tom Jones', 50000)                   # Job name not needed:\n",
      "    tom.giveRaise(.10)                                  # Implied/set by class\n",
      "    print(tom.lastName())\n",
      "    print(tom)\n"
     ]
    }
   ],
   "source": [
    "!cat code/person_composite.py"
   ]
  },
  {
   "cell_type": "code",
   "execution_count": 28,
   "id": "1a164394",
   "metadata": {},
   "outputs": [
    {
     "name": "stdout",
     "output_type": "stream",
     "text": [
      "[Person: Bob Smith, 0]\n",
      "[Person: Sue Jones, 100000]\n",
      "Smith Jones\n",
      "[Person: Sue Jones, 110000]\n",
      "Jones\n",
      "[Person: Tom Jones, 60000]\n"
     ]
    }
   ],
   "source": [
    "!python code/person_composite.py"
   ]
  },
  {
   "cell_type": "code",
   "execution_count": 26,
   "id": "d690f876",
   "metadata": {},
   "outputs": [
    {
     "name": "stdout",
     "output_type": "stream",
     "text": [
      "class Person:\n",
      "    def __init__(self, name, job=None, pay=0):\n",
      "        self.name = name\n",
      "        self.job  = job\n",
      "        self.pay  = pay\n",
      "    def lastName(self):\n",
      "        return self.name.split()[-1]\n",
      "    def giveRaise(self, percent):\n",
      "        self.pay = int(self.pay * (1 + percent))\n",
      "    def __repr__(self):\n",
      "        return '[Person: %s, %s]' % (self.name, self.pay)\n",
      "\n",
      "class Manager(Person):\n",
      "    def __init__(self, name, pay):                     # Redefine constructor\n",
      "        Person.__init__(self, name, 'mgr', pay)        # Run original with 'mgr'\n",
      "    def giveRaise(self, percent, bonus=.10):\n",
      "        Person.giveRaise(self, percent + bonus)\n",
      "\n",
      "class Department:\n",
      "    def __init__(self, *args):\n",
      "        self.members = list(args)\n",
      "    def addMember(self, person):\n",
      "        self.members.append(person)\n",
      "    def giveRaises(self, percent):\n",
      "        for person in self.members:\n",
      "            person.giveRaise(percent)\n",
      "    def showAll(self):\n",
      "        for person in self.members:\n",
      "            print(person)\n",
      "\n",
      "if __name__ == '__main__':\n",
      "    bob = Person('Bob Smith')\n",
      "    sue = Person('Sue Jones', job='dev', pay=100000)\n",
      "    tom = Manager('Tom Jones', 50000) \n",
      "\n",
      "    development = Department(bob, sue)          # Embed objects in a composite\n",
      "    development.addMember(tom)\n",
      "    development.giveRaises(.10)                 # Runs embedded objects' giveRaise\n",
      "    development.showAll()                       # Runs embedded objects' __repr__\n"
     ]
    }
   ],
   "source": [
    "!cat code/person_department.py"
   ]
  },
  {
   "cell_type": "code",
   "execution_count": 27,
   "id": "47d3ab02",
   "metadata": {},
   "outputs": [
    {
     "name": "stdout",
     "output_type": "stream",
     "text": [
      "[Person: Bob Smith, 0]\n",
      "[Person: Sue Jones, 110000]\n",
      "[Person: Tom Jones, 60000]\n"
     ]
    }
   ],
   "source": [
    "!python code/person_department.py"
   ]
  },
  {
   "cell_type": "code",
   "execution_count": 7,
   "id": "f8dc1381",
   "metadata": {},
   "outputs": [
    {
     "name": "stdout",
     "output_type": "stream",
     "text": [
      "[Person: Bob Smith, 0]\n",
      "[Person: Sue Jones, 110000]\n",
      "[Person: Tom Jones, 60000]\n"
     ]
    }
   ],
   "source": [
    "#person_department.py\n",
    "class Person:\n",
    "    def __init__(self, name, job=None, pay=0):\n",
    "        self.name = name\n",
    "        self.job  = job\n",
    "        self.pay  = pay\n",
    "    def lastName(self):\n",
    "        return self.name.split()[-1]\n",
    "    def giveRaise(self, percent):\n",
    "        self.pay = int(self.pay * (1 + percent))\n",
    "    def __repr__(self):\n",
    "        return '[Person: %s, %s]' % (self.name, self.pay)\n",
    "\n",
    "class Manager(Person):\n",
    "    def __init__(self, name, pay):                     # Redefine constructor\n",
    "        Person.__init__(self, name, 'mgr', pay)        # Run original with 'mgr'\n",
    "    def giveRaise(self, percent, bonus=.10):\n",
    "        Person.giveRaise(self, percent + bonus)\n",
    "\n",
    "class Department:\n",
    "    def __init__(self, *args):\n",
    "        self.members = list(args)\n",
    "    def addMember(self, person):\n",
    "        self.members.append(person)\n",
    "    def giveRaises(self, percent):\n",
    "        for person in self.members:\n",
    "            person.giveRaise(percent)\n",
    "    def showAll(self):\n",
    "        for person in self.members:\n",
    "            print(person)\n",
    "\n",
    "if __name__ == '__main__':\n",
    "    bob = Person('Bob Smith')\n",
    "    sue = Person('Sue Jones', job='dev', pay=100000)\n",
    "    tom = Manager('Tom Jones', 50000) \n",
    "\n",
    "    development = Department(bob, sue)          # Embed objects in a composite\n",
    "    development.addMember(tom)\n",
    "    development.giveRaises(.10)                 # Runs embedded objects' giveRaise\n",
    "    development.showAll()                       # Runs embedded objects' __repr__"
   ]
  },
  {
   "cell_type": "code",
   "execution_count": 15,
   "id": "bb5ed1cf",
   "metadata": {},
   "outputs": [
    {
     "data": {
      "text/plain": [
       "(__main__.Person, __main__.Person, __main__.Manager)"
      ]
     },
     "execution_count": 15,
     "metadata": {},
     "output_type": "execute_result"
    }
   ],
   "source": [
    "bob = Person('Bob Smith')\n",
    "sue = Person('Sue Jones', job='dev', pay=100000)\n",
    "tom = Manager('Tom Jones', 50000) \n",
    "    \n",
    "bob.__class__, sue.__class__, tom.__class__"
   ]
  },
  {
   "cell_type": "code",
   "execution_count": 16,
   "id": "e010f227",
   "metadata": {},
   "outputs": [
    {
     "data": {
      "text/plain": [
       "{'name': 'Bob Smith', 'job': None, 'pay': 0}"
      ]
     },
     "execution_count": 16,
     "metadata": {},
     "output_type": "execute_result"
    }
   ],
   "source": [
    "bob.__dict__"
   ]
  },
  {
   "cell_type": "code",
   "execution_count": 14,
   "id": "64aeed84",
   "metadata": {},
   "outputs": [
    {
     "data": {
      "text/plain": [
       "('Person', (object,), (object,))"
      ]
     },
     "execution_count": 14,
     "metadata": {},
     "output_type": "execute_result"
    }
   ],
   "source": [
    "Person.__name__, Person.__bases__, Person.__bases__"
   ]
  },
  {
   "cell_type": "code",
   "execution_count": 17,
   "id": "682a1a6c",
   "metadata": {},
   "outputs": [
    {
     "data": {
      "text/plain": [
       "mappingproxy({'__module__': '__main__',\n",
       "              '__init__': <function __main__.Person.__init__(self, name, job=None, pay=0)>,\n",
       "              'lastName': <function __main__.Person.lastName(self)>,\n",
       "              'giveRaise': <function __main__.Person.giveRaise(self, percent)>,\n",
       "              '__repr__': <function __main__.Person.__repr__(self)>,\n",
       "              '__dict__': <attribute '__dict__' of 'Person' objects>,\n",
       "              '__weakref__': <attribute '__weakref__' of 'Person' objects>,\n",
       "              '__doc__': None})"
      ]
     },
     "execution_count": 17,
     "metadata": {},
     "output_type": "execute_result"
    }
   ],
   "source": [
    "Person.__dict__"
   ]
  },
  {
   "cell_type": "code",
   "execution_count": 13,
   "id": "c5cd9363",
   "metadata": {},
   "outputs": [
    {
     "data": {
      "text/plain": [
       "((object,), (__main__.Person,), (object,))"
      ]
     },
     "execution_count": 13,
     "metadata": {},
     "output_type": "execute_result"
    }
   ],
   "source": [
    "Person.__bases__, Manager.__bases__, Department.__bases__"
   ]
  },
  {
   "cell_type": "code",
   "execution_count": 23,
   "id": "b57c6520",
   "metadata": {},
   "outputs": [
    {
     "data": {
      "text/plain": [
       "dict_keys(['__module__', '__init__', 'giveRaise', '__doc__'])"
      ]
     },
     "execution_count": 23,
     "metadata": {},
     "output_type": "execute_result"
    }
   ],
   "source": [
    "Manager.__dict__.keys()"
   ]
  },
  {
   "cell_type": "code",
   "execution_count": 22,
   "id": "fcf6ad75",
   "metadata": {},
   "outputs": [
    {
     "data": {
      "text/plain": [
       "dict_keys(['__module__', '__init__', 'addMember', 'giveRaises', 'showAll', '__dict__', '__weakref__', '__doc__'])"
      ]
     },
     "execution_count": 22,
     "metadata": {},
     "output_type": "execute_result"
    }
   ],
   "source": [
    "Department.__dict__.keys()"
   ]
  },
  {
   "cell_type": "code",
   "execution_count": 33,
   "id": "1fef2baf",
   "metadata": {},
   "outputs": [
    {
     "data": {
      "text/plain": [
       "[Person: Bob Smith, 0]"
      ]
     },
     "execution_count": 33,
     "metadata": {},
     "output_type": "execute_result"
    }
   ],
   "source": [
    "from person_department import Person\n",
    "bob = Person('Bob Smith')\n",
    "bob                                        # Show bob's __repr__ (not __str__)"
   ]
  },
  {
   "cell_type": "code",
   "execution_count": 34,
   "id": "ab389be6",
   "metadata": {},
   "outputs": [
    {
     "name": "stdout",
     "output_type": "stream",
     "text": [
      "[Person: Bob Smith, 0]\n"
     ]
    }
   ],
   "source": [
    "print(bob)                                 # Ditto: print => __str__ or __repr__"
   ]
  },
  {
   "cell_type": "code",
   "execution_count": 35,
   "id": "2783e60d",
   "metadata": {},
   "outputs": [
    {
     "data": {
      "text/plain": [
       "person_department.Person"
      ]
     },
     "execution_count": 35,
     "metadata": {},
     "output_type": "execute_result"
    }
   ],
   "source": [
    "bob.__class__                              # Show bob's class and its name"
   ]
  },
  {
   "cell_type": "code",
   "execution_count": 36,
   "id": "e18a84cf",
   "metadata": {},
   "outputs": [
    {
     "data": {
      "text/plain": [
       "'Person'"
      ]
     },
     "execution_count": 36,
     "metadata": {},
     "output_type": "execute_result"
    }
   ],
   "source": [
    "bob.__class__.__name__"
   ]
  },
  {
   "cell_type": "code",
   "execution_count": 37,
   "id": "bafe6add",
   "metadata": {},
   "outputs": [
    {
     "data": {
      "text/plain": [
       "['name', 'job', 'pay']"
      ]
     },
     "execution_count": 37,
     "metadata": {},
     "output_type": "execute_result"
    }
   ],
   "source": [
    "list(bob.__dict__.keys())                  # Attributes are really dict keys"
   ]
  },
  {
   "cell_type": "code",
   "execution_count": 38,
   "id": "cb35ea38",
   "metadata": {},
   "outputs": [
    {
     "name": "stdout",
     "output_type": "stream",
     "text": [
      "name => Bob Smith\n",
      "job => None\n",
      "pay => 0\n"
     ]
    }
   ],
   "source": [
    "for key in bob.__dict__:\n",
    "        print(key, '=>', bob.__dict__[key])    # Index manually"
   ]
  },
  {
   "cell_type": "code",
   "execution_count": 39,
   "id": "e318ef79",
   "metadata": {},
   "outputs": [
    {
     "name": "stdout",
     "output_type": "stream",
     "text": [
      "name => Bob Smith\n",
      "job => None\n",
      "pay => 0\n"
     ]
    }
   ],
   "source": [
    "for key in bob.__dict__:\n",
    "        print(key, '=>', getattr(bob, key))    # obj.attr, but attr is a var"
   ]
  },
  {
   "cell_type": "code",
   "execution_count": 40,
   "id": "1d68f053",
   "metadata": {},
   "outputs": [
    {
     "name": "stdout",
     "output_type": "stream",
     "text": [
      "# File classtools.py (new)\n",
      "\"Assorted class utilities and tools\"\n",
      "\n",
      "class AttrDisplay:\n",
      "    \"\"\"\n",
      "    Provides an inheritable display overload method that shows\n",
      "    instances with their class names and a name=value pair for\n",
      "    each attribute stored on the instance itself (but not attrs\n",
      "    inherited from its classes). Can be mixed into any class,\n",
      "    and will work on any instance.\n",
      "    \"\"\"\n",
      "    def gatherAttrs(self):\n",
      "        attrs = []\n",
      "        for key in sorted(self.__dict__):\n",
      "            attrs.append('%s=%s' % (key, getattr(self, key)))\n",
      "        return ', '.join(attrs)\n",
      "\n",
      "    def __repr__(self):\n",
      "        return '[%s: %s]' % (self.__class__.__name__, self.gatherAttrs())\n",
      "\n",
      "if __name__ == '__main__':\n",
      "\n",
      "    class TopTest(AttrDisplay):\n",
      "        count = 0\n",
      "        def __init__(self):\n",
      "            self.attr1 = TopTest.count\n",
      "            self.attr2 = TopTest.count+1\n",
      "            TopTest.count += 2\n",
      "\n",
      "    class SubTest(TopTest):\n",
      "        pass\n",
      "\n",
      "    X, Y = TopTest(), SubTest()      # Make two instances\n",
      "    print(X)                         # Show all instance attrs\n",
      "    print(Y)                         # Show lowest class name\n"
     ]
    }
   ],
   "source": [
    "!cat code/classtools.py"
   ]
  },
  {
   "cell_type": "code",
   "execution_count": 41,
   "id": "57128427",
   "metadata": {},
   "outputs": [
    {
     "name": "stdout",
     "output_type": "stream",
     "text": [
      "[TopTest: attr1=0, attr2=1]\n",
      "[SubTest: attr1=2, attr2=3]\n"
     ]
    }
   ],
   "source": [
    "!python code/classtools.py"
   ]
  },
  {
   "cell_type": "code",
   "execution_count": 44,
   "id": "2b4e59df",
   "metadata": {},
   "outputs": [
    {
     "data": {
      "text/plain": [
       "dict_keys(['name', 'job', 'pay'])"
      ]
     },
     "execution_count": 44,
     "metadata": {},
     "output_type": "execute_result"
    }
   ],
   "source": [
    "from person_department import Person           # 2.X: keys is list, dir shows less\n",
    "bob = Person('Bob Smith')\n",
    "bob.__dict__.keys()                 # Instance attrs only"
   ]
  },
  {
   "cell_type": "code",
   "execution_count": 43,
   "id": "60144af6",
   "metadata": {},
   "outputs": [
    {
     "data": {
      "text/plain": [
       "['__class__',\n",
       " '__delattr__',\n",
       " '__dict__',\n",
       " '__dir__',\n",
       " '__doc__',\n",
       " '__eq__',\n",
       " '__format__',\n",
       " '__ge__',\n",
       " '__getattribute__',\n",
       " '__gt__',\n",
       " '__hash__',\n",
       " '__init__',\n",
       " '__init_subclass__',\n",
       " '__le__',\n",
       " '__lt__',\n",
       " '__module__',\n",
       " '__ne__',\n",
       " '__new__',\n",
       " '__reduce__',\n",
       " '__reduce_ex__',\n",
       " '__repr__',\n",
       " '__setattr__',\n",
       " '__sizeof__',\n",
       " '__str__',\n",
       " '__subclasshook__',\n",
       " '__weakref__',\n",
       " 'gatherAttrs',\n",
       " 'giveRaise',\n",
       " 'job',\n",
       " 'lastName',\n",
       " 'name',\n",
       " 'pay']"
      ]
     },
     "execution_count": 43,
     "metadata": {},
     "output_type": "execute_result"
    }
   ],
   "source": [
    "dir(bob)                            # Plus inherited attrs in classes"
   ]
  },
  {
   "cell_type": "code",
   "execution_count": 46,
   "id": "c44991fc",
   "metadata": {},
   "outputs": [
    {
     "data": {
      "text/plain": [
       "dict_keys(['name', 'job', 'pay'])"
      ]
     },
     "execution_count": 46,
     "metadata": {},
     "output_type": "execute_result"
    }
   ],
   "source": [
    "bob.__dict__.keys()  # 3.X keys is a view, not a list"
   ]
  },
  {
   "cell_type": "code",
   "execution_count": 45,
   "id": "83902021",
   "metadata": {},
   "outputs": [
    {
     "data": {
      "text/plain": [
       "['name', 'job', 'pay']"
      ]
     },
     "execution_count": 45,
     "metadata": {},
     "output_type": "execute_result"
    }
   ],
   "source": [
    "list(bob.__dict__.keys())           # 3.X keys is a view, not a list"
   ]
  },
  {
   "cell_type": "code",
   "execution_count": 48,
   "id": "fd4bff94",
   "metadata": {},
   "outputs": [
    {
     "data": {
      "text/plain": [
       "31"
      ]
     },
     "execution_count": 48,
     "metadata": {},
     "output_type": "execute_result"
    }
   ],
   "source": [
    "len(dir(bob))                           # 3.X includes class type methods"
   ]
  },
  {
   "cell_type": "code",
   "execution_count": 49,
   "id": "c392ca54",
   "metadata": {},
   "outputs": [
    {
     "data": {
      "text/plain": [
       "['giveRaise', 'job', 'lastName', 'name', 'pay']"
      ]
     },
     "execution_count": 49,
     "metadata": {},
     "output_type": "execute_result"
    }
   ],
   "source": [
    "list(name for name in dir(bob) if not name.startswith('__'))"
   ]
  },
  {
   "cell_type": "code",
   "execution_count": 4,
   "id": "45868d7c",
   "metadata": {},
   "outputs": [
    {
     "name": "stdout",
     "output_type": "stream",
     "text": [
      "# File person.py (final)\n",
      "\"\"\"\n",
      "Record and process information about people.\n",
      "Run this file directly to test its classes.\n",
      "\"\"\"\n",
      "from classtools import AttrDisplay                    # Use generic display tool\n",
      "\n",
      "class Person(AttrDisplay):                            # Mix in a repr at this level\n",
      "    \"\"\"\n",
      "    Create and process person records\n",
      "    \"\"\"\n",
      "    def __init__(self, name, job=None, pay=0):\n",
      "        self.name = name\n",
      "        self.job  = job\n",
      "        self.pay  = pay\n",
      "\n",
      "    def lastName(self):                               # Assumes last is last\n",
      "        return self.name.split()[-1]\n",
      "\n",
      "    def giveRaise(self, percent):                     # Percent must be 0..1\n",
      "        self.pay = int(self.pay * (1 + percent))\n",
      "\n",
      "class Manager(Person):\n",
      "    \"\"\"\n",
      "    A customized Person with special requirements\n",
      "    \"\"\"\n",
      "    def __init__(self, name, pay):\n",
      "        Person.__init__(self, name, 'mgr', pay)       # Job name is implied\n",
      "\n",
      "    def giveRaise(self, percent, bonus=.10):\n",
      "        Person.giveRaise(self, percent + bonus)\n",
      "\n",
      "if __name__ == '__main__':\n",
      "    bob = Person('Bob Smith')\n",
      "    sue = Person('Sue Jones', job='dev', pay=100000)\n",
      "    print(bob)\n",
      "    print(sue)\n",
      "    print(bob.lastName(), sue.lastName())\n",
      "    sue.giveRaise(.10)\n",
      "    print(sue)\n",
      "    tom = Manager('Tom Jones', 50000)\n",
      "    tom.giveRaise(.10)\n",
      "    print(tom.lastName())\n",
      "    print(tom)\n"
     ]
    }
   ],
   "source": [
    "!cat code/person.py"
   ]
  },
  {
   "cell_type": "code",
   "execution_count": 50,
   "id": "59b2b7ad",
   "metadata": {},
   "outputs": [
    {
     "name": "stdout",
     "output_type": "stream",
     "text": [
      "[Person: job=None, name=Bob Smith, pay=0]\n",
      "[Person: job=dev, name=Sue Jones, pay=100000]\n",
      "Smith Jones\n",
      "[Person: job=dev, name=Sue Jones, pay=110000]\n",
      "Jones\n",
      "[Manager: job=mgr, name=Tom Jones, pay=60000]\n"
     ]
    }
   ],
   "source": [
    "!python code/person.py"
   ]
  },
  {
   "cell_type": "code",
   "execution_count": 52,
   "id": "a326668a",
   "metadata": {},
   "outputs": [
    {
     "name": "stdout",
     "output_type": "stream",
     "text": [
      "# File makedb.py: store Person objects on a shelve database\n",
      "\n",
      "from person import Person, Manager               # Load our classes\n",
      "bob = Person('Bob Smith')                        # Re-create objects to be stored\n",
      "sue = Person('Sue Jones', job='dev', pay=100000)\n",
      "tom = Manager('Tom Jones', 50000)\n",
      "\n",
      "import shelve\n",
      "db = shelve.open('persondb')                     # Filename where objects are stored\n",
      "for object in (bob, sue, tom):                   # Use object's name attr as key\n",
      "    db[object.name] = object                     # Store object on shelve by key\n",
      "db.close()                                       # Close after making changes\n"
     ]
    }
   ],
   "source": [
    "!cat code/makedb.py"
   ]
  },
  {
   "cell_type": "code",
   "execution_count": 53,
   "id": "be2497fa",
   "metadata": {},
   "outputs": [],
   "source": [
    "!python code/makedb.py"
   ]
  },
  {
   "cell_type": "code",
   "execution_count": 54,
   "id": "dcd96942",
   "metadata": {},
   "outputs": [
    {
     "data": {
      "text/plain": [
       "['persondb.bak', 'persondb.dat', 'persondb.dir']"
      ]
     },
     "execution_count": 54,
     "metadata": {},
     "output_type": "execute_result"
    }
   ],
   "source": [
    "import glob\n",
    "glob.glob('person*')"
   ]
  },
  {
   "cell_type": "code",
   "execution_count": 55,
   "id": "3c36695b",
   "metadata": {},
   "outputs": [
    {
     "name": "stdout",
     "output_type": "stream",
     "text": [
      "'Bob Smith', (0, 80)\n",
      "'Sue Jones', (512, 92)\n",
      "'Tom Jones', (1024, 91)\n",
      "\n"
     ]
    }
   ],
   "source": [
    "print(open('persondb.dir').read())"
   ]
  },
  {
   "cell_type": "code",
   "execution_count": 56,
   "id": "2ba5a560",
   "metadata": {},
   "outputs": [
    {
     "name": "stdout",
     "output_type": "stream",
     "text": [
      "b'\\x80\\x03cperson\\nPerson\\nq\\x00)\\x81q\\x01}q\\x02(X\\x04\\x00\\x00\\x00nameq\\x03X\\t\\x00\\x00\\x00Bob Smithq\\x04X\\x03\\x00\\x00\\x00jobq\\x05NX\\x03\\x00\\x00\\x00payq\\x06K\\x00ub.\\x00\\x00\\x00\\x00\\x00\\x00\\x00\\x00\\x00\\x00\\x00\\x00\\x00\\x00\\x00\\x00\\x00\\x00\\x00\\x00\\x00\\x00\\x00\\x00\\x00\\x00\\x00\\x00\\x00\\x00\\x00\\x00\\x00\\x00\\x00\\x00\\x00\\x00\\x00\\x00\\x00\\x00\\x00\\x00\\x00\\x00\\x00\\x00\\x00\\x00\\x00\\x00\\x00\\x00\\x00\\x00\\x00\\x00\\x00\\x00\\x00\\x00\\x00\\x00\\x00\\x00\\x00\\x00\\x00\\x00\\x00\\x00\\x00\\x00\\x00\\x00\\x00\\x00\\x00\\x00\\x00\\x00\\x00\\x00\\x00\\x00\\x00\\x00\\x00\\x00\\x00\\x00\\x00\\x00\\x00\\x00\\x00\\x00\\x00\\x00\\x00\\x00\\x00\\x00\\x00\\x00\\x00\\x00\\x00\\x00\\x00\\x00\\x00\\x00\\x00\\x00\\x00\\x00\\x00\\x00\\x00\\x00\\x00\\x00\\x00\\x00\\x00\\x00\\x00\\x00\\x00\\x00\\x00\\x00\\x00\\x00\\x00\\x00\\x00\\x00\\x00\\x00\\x00\\x00\\x00\\x00\\x00\\x00\\x00\\x00\\x00\\x00\\x00\\x00\\x00\\x00\\x00\\x00\\x00\\x00\\x00\\x00\\x00\\x00\\x00\\x00\\x00\\x00\\x00\\x00\\x00\\x00\\x00\\x00\\x00\\x00\\x00\\x00\\x00\\x00\\x00\\x00\\x00\\x00\\x00\\x00\\x00\\x00\\x00\\x00\\x00\\x00\\x00\\x00\\x00\\x00\\x00\\x00\\x00\\x00\\x00\\x00\\x00\\x00\\x00\\x00\\x00\\x00\\x00\\x00\\x00\\x00\\x00\\x00\\x00\\x00\\x00\\x00\\x00\\x00\\x00\\x00\\x00\\x00\\x00\\x00\\x00\\x00\\x00\\x00\\x00\\x00\\x00\\x00\\x00\\x00\\x00\\x00\\x00\\x00\\x00\\x00\\x00\\x00\\x00\\x00\\x00\\x00\\x00\\x00\\x00\\x00\\x00\\x00\\x00\\x00\\x00\\x00\\x00\\x00\\x00\\x00\\x00\\x00\\x00\\x00\\x00\\x00\\x00\\x00\\x00\\x00\\x00\\x00\\x00\\x00\\x00\\x00\\x00\\x00\\x00\\x00\\x00\\x00\\x00\\x00\\x00\\x00\\x00\\x00\\x00\\x00\\x00\\x00\\x00\\x00\\x00\\x00\\x00\\x00\\x00\\x00\\x00\\x00\\x00\\x00\\x00\\x00\\x00\\x00\\x00\\x00\\x00\\x00\\x00\\x00\\x00\\x00\\x00\\x00\\x00\\x00\\x00\\x00\\x00\\x00\\x00\\x00\\x00\\x00\\x00\\x00\\x00\\x00\\x00\\x00\\x00\\x00\\x00\\x00\\x00\\x00\\x00\\x00\\x00\\x00\\x00\\x00\\x00\\x00\\x00\\x00\\x00\\x00\\x00\\x00\\x00\\x00\\x00\\x00\\x00\\x00\\x00\\x00\\x00\\x00\\x00\\x00\\x00\\x00\\x00\\x00\\x00\\x00\\x00\\x00\\x00\\x00\\x00\\x00\\x00\\x00\\x00\\x00\\x00\\x00\\x00\\x00\\x00\\x00\\x00\\x00\\x00\\x00\\x00\\x00\\x00\\x00\\x00\\x00\\x00\\x00\\x00\\x00\\x00\\x00\\x00\\x00\\x00\\x00\\x00\\x00\\x00\\x00\\x00\\x00\\x00\\x00\\x00\\x00\\x00\\x00\\x00\\x00\\x00\\x00\\x00\\x00\\x00\\x00\\x00\\x00\\x80\\x03cperson\\nPerson\\nq\\x00)\\x81q\\x01}q\\x02(X\\x04\\x00\\x00\\x00nameq\\x03X\\t\\x00\\x00\\x00Sue Jonesq\\x04X\\x03\\x00\\x00\\x00jobq\\x05X\\x03\\x00\\x00\\x00devq\\x06X\\x03\\x00\\x00\\x00payq\\x07J\\xa0\\x86\\x01\\x00ub.\\x00\\x00\\x00\\x00\\x00\\x00\\x00\\x00\\x00\\x00\\x00\\x00\\x00\\x00\\x00\\x00\\x00\\x00\\x00\\x00\\x00\\x00\\x00\\x00\\x00\\x00\\x00\\x00\\x00\\x00\\x00\\x00\\x00\\x00\\x00\\x00\\x00\\x00\\x00\\x00\\x00\\x00\\x00\\x00\\x00\\x00\\x00\\x00\\x00\\x00\\x00\\x00\\x00\\x00\\x00\\x00\\x00\\x00\\x00\\x00\\x00\\x00\\x00\\x00\\x00\\x00\\x00\\x00\\x00\\x00\\x00\\x00\\x00\\x00\\x00\\x00\\x00\\x00\\x00\\x00\\x00\\x00\\x00\\x00\\x00\\x00\\x00\\x00\\x00\\x00\\x00\\x00\\x00\\x00\\x00\\x00\\x00\\x00\\x00\\x00\\x00\\x00\\x00\\x00\\x00\\x00\\x00\\x00\\x00\\x00\\x00\\x00\\x00\\x00\\x00\\x00\\x00\\x00\\x00\\x00\\x00\\x00\\x00\\x00\\x00\\x00\\x00\\x00\\x00\\x00\\x00\\x00\\x00\\x00\\x00\\x00\\x00\\x00\\x00\\x00\\x00\\x00\\x00\\x00\\x00\\x00\\x00\\x00\\x00\\x00\\x00\\x00\\x00\\x00\\x00\\x00\\x00\\x00\\x00\\x00\\x00\\x00\\x00\\x00\\x00\\x00\\x00\\x00\\x00\\x00\\x00\\x00\\x00\\x00\\x00\\x00\\x00\\x00\\x00\\x00\\x00\\x00\\x00\\x00\\x00\\x00\\x00\\x00\\x00\\x00\\x00\\x00\\x00\\x00\\x00\\x00\\x00\\x00\\x00\\x00\\x00\\x00\\x00\\x00\\x00\\x00\\x00\\x00\\x00\\x00\\x00\\x00\\x00\\x00\\x00\\x00\\x00\\x00\\x00\\x00\\x00\\x00\\x00\\x00\\x00\\x00\\x00\\x00\\x00\\x00\\x00\\x00\\x00\\x00\\x00\\x00\\x00\\x00\\x00\\x00\\x00\\x00\\x00\\x00\\x00\\x00\\x00\\x00\\x00\\x00\\x00\\x00\\x00\\x00\\x00\\x00\\x00\\x00\\x00\\x00\\x00\\x00\\x00\\x00\\x00\\x00\\x00\\x00\\x00\\x00\\x00\\x00\\x00\\x00\\x00\\x00\\x00\\x00\\x00\\x00\\x00\\x00\\x00\\x00\\x00\\x00\\x00\\x00\\x00\\x00\\x00\\x00\\x00\\x00\\x00\\x00\\x00\\x00\\x00\\x00\\x00\\x00\\x00\\x00\\x00\\x00\\x00\\x00\\x00\\x00\\x00\\x00\\x00\\x00\\x00\\x00\\x00\\x00\\x00\\x00\\x00\\x00\\x00\\x00\\x00\\x00\\x00\\x00\\x00\\x00\\x00\\x00\\x00\\x00\\x00\\x00\\x00\\x00\\x00\\x00\\x00\\x00\\x00\\x00\\x00\\x00\\x00\\x00\\x00\\x00\\x00\\x00\\x00\\x00\\x00\\x00\\x00\\x00\\x00\\x00\\x00\\x00\\x00\\x00\\x00\\x00\\x00\\x00\\x00\\x00\\x00\\x00\\x00\\x00\\x00\\x00\\x00\\x00\\x00\\x00\\x00\\x00\\x00\\x00\\x00\\x00\\x00\\x00\\x00\\x00\\x00\\x00\\x00\\x00\\x00\\x00\\x00\\x00\\x00\\x00\\x00\\x00\\x00\\x00\\x00\\x00\\x00\\x00\\x00\\x00\\x00\\x00\\x00\\x00\\x00\\x00\\x00\\x00\\x00\\x00\\x80\\x03cperson\\nManager\\nq\\x00)\\x81q\\x01}q\\x02(X\\x04\\x00\\x00\\x00nameq\\x03X\\t\\x00\\x00\\x00Tom Jonesq\\x04X\\x03\\x00\\x00\\x00jobq\\x05X\\x03\\x00\\x00\\x00mgrq\\x06X\\x03\\x00\\x00\\x00payq\\x07MP\\xc3ub.'\n"
     ]
    }
   ],
   "source": [
    "print(open('persondb.dat','rb').read())"
   ]
  },
  {
   "cell_type": "code",
   "execution_count": 5,
   "id": "d3008305",
   "metadata": {},
   "outputs": [
    {
     "data": {
      "text/plain": [
       "3"
      ]
     },
     "execution_count": 5,
     "metadata": {},
     "output_type": "execute_result"
    }
   ],
   "source": [
    "import shelve\n",
    "db = shelve.open('persondb')                 # Reopen the shelve\n",
    "len(db)  # Three 'records' stored"
   ]
  },
  {
   "cell_type": "code",
   "execution_count": 5,
   "id": "9d0cb598",
   "metadata": {},
   "outputs": [
    {
     "data": {
      "text/plain": [
       "['Bob Smith', 'Sue Jones', 'Tom Jones']"
      ]
     },
     "execution_count": 5,
     "metadata": {},
     "output_type": "execute_result"
    }
   ],
   "source": [
    "list(db.keys())                              # keys is the index"
   ]
  },
  {
   "cell_type": "code",
   "execution_count": 6,
   "id": "e85ff5a3",
   "metadata": {},
   "outputs": [
    {
     "data": {
      "text/plain": [
       "[Person: job=None, name=Bob Smith, pay=0]"
      ]
     },
     "execution_count": 6,
     "metadata": {},
     "output_type": "execute_result"
    }
   ],
   "source": [
    "bob = db['Bob Smith']                        # Fetch bob by key\n",
    "bob"
   ]
  },
  {
   "cell_type": "code",
   "execution_count": 7,
   "id": "43f1ddac",
   "metadata": {},
   "outputs": [
    {
     "data": {
      "text/plain": [
       "'Smith'"
      ]
     },
     "execution_count": 7,
     "metadata": {},
     "output_type": "execute_result"
    }
   ],
   "source": [
    "bob.lastName()                               # Runs lastName from Person"
   ]
  },
  {
   "cell_type": "code",
   "execution_count": 8,
   "id": "b16a2ef5",
   "metadata": {},
   "outputs": [
    {
     "name": "stdout",
     "output_type": "stream",
     "text": [
      "Bob Smith => [Person: job=None, name=Bob Smith, pay=0]\n",
      "Sue Jones => [Person: job=dev, name=Sue Jones, pay=110000]\n",
      "Tom Jones => [Manager: job=mgr, name=Tom Jones, pay=50000]\n"
     ]
    }
   ],
   "source": [
    "for key in db:                               # Iterate, fetch, print\n",
    "        print(key, '=>', db[key])"
   ]
  },
  {
   "cell_type": "code",
   "execution_count": 9,
   "id": "5fc97971",
   "metadata": {},
   "outputs": [
    {
     "name": "stdout",
     "output_type": "stream",
     "text": [
      "Bob Smith => [Person: job=None, name=Bob Smith, pay=0]\n",
      "Sue Jones => [Person: job=dev, name=Sue Jones, pay=110000]\n",
      "Tom Jones => [Manager: job=mgr, name=Tom Jones, pay=50000]\n"
     ]
    }
   ],
   "source": [
    "for key in sorted(db):\n",
    "        print(key, '=>', db[key])                # Iterate by sorted keys\n"
   ]
  },
  {
   "cell_type": "code",
   "execution_count": 66,
   "id": "7baf7339",
   "metadata": {},
   "outputs": [
    {
     "name": "stdout",
     "output_type": "stream",
     "text": [
      "# File updatedb.py: update Person object on database\n",
      "\n",
      "import shelve\n",
      "db = shelve.open('persondb')               # Reopen shelve with same filename\n",
      "\n",
      "for key in sorted(db):                     # Iterate to display database objects\n",
      "    print(key, '\\t=>', db[key])            # Prints with custom format\n",
      "\n",
      "sue = db['Sue Jones']                      # Index by key to fetch\n",
      "sue.giveRaise(.10)                         # Update in memory using class's method\n",
      "db['Sue Jones'] = sue                      # Assign to key to update in shelve\n",
      "db.close()                                 # Close after making changes\n"
     ]
    }
   ],
   "source": [
    "!cat code/updatedb.py"
   ]
  },
  {
   "cell_type": "code",
   "execution_count": 67,
   "id": "a38d7c10",
   "metadata": {},
   "outputs": [
    {
     "name": "stdout",
     "output_type": "stream",
     "text": [
      "Bob Smith \t=> [Person: job=None, name=Bob Smith, pay=0]\n",
      "Sue Jones \t=> [Person: job=dev, name=Sue Jones, pay=100000]\n",
      "Tom Jones \t=> [Manager: job=mgr, name=Tom Jones, pay=50000]\n"
     ]
    }
   ],
   "source": [
    "!python code/updatedb.py"
   ]
  },
  {
   "cell_type": "code",
   "execution_count": 68,
   "id": "ec017904",
   "metadata": {},
   "outputs": [
    {
     "name": "stdout",
     "output_type": "stream",
     "text": [
      "Bob Smith => [Person: job=None, name=Bob Smith, pay=0]\n",
      "Sue Jones => [Person: job=dev, name=Sue Jones, pay=110000]\n",
      "Tom Jones => [Manager: job=mgr, name=Tom Jones, pay=50000]\n"
     ]
    }
   ],
   "source": [
    "for key in sorted(db):\n",
    "        print(key, '=>', db[key])                # Iterate by sorted keys\n"
   ]
  },
  {
   "cell_type": "code",
   "execution_count": 10,
   "id": "c4c992e6",
   "metadata": {},
   "outputs": [
    {
     "name": "stdout",
     "output_type": "stream",
     "text": [
      "Bob Smith \t=> [Person: job=None, name=Bob Smith, pay=0]\n",
      "Sue Jones \t=> [Person: job=dev, name=Sue Jones, pay=110000]\n",
      "Tom Jones \t=> [Manager: job=mgr, name=Tom Jones, pay=50000]\n"
     ]
    }
   ],
   "source": [
    "!python code/updatedb.py"
   ]
  },
  {
   "cell_type": "code",
   "execution_count": 6,
   "id": "5b66daaa",
   "metadata": {},
   "outputs": [
    {
     "name": "stdout",
     "output_type": "stream",
     "text": [
      "Bob Smith => [Person: job=None, name=Bob Smith, pay=0]\n",
      "Sue Jones => [Person: job=dev, name=Sue Jones, pay=121000]\n",
      "Tom Jones => [Manager: job=mgr, name=Tom Jones, pay=50000]\n"
     ]
    }
   ],
   "source": [
    "for key in sorted(db):\n",
    "        print(key, '=>', db[key])                # Iterate by sorted keys"
   ]
  },
  {
   "cell_type": "markdown",
   "id": "473645a2",
   "metadata": {},
   "source": [
    "# Chapter 29. Class Coding Details"
   ]
  },
  {
   "cell_type": "code",
   "execution_count": 7,
   "id": "b84f8297",
   "metadata": {},
   "outputs": [
    {
     "data": {
      "text/plain": [
       "(42, 42)"
      ]
     },
     "execution_count": 7,
     "metadata": {},
     "output_type": "execute_result"
    }
   ],
   "source": [
    "class SharedData:\n",
    "        spam = 42          # Generates a class data attribute\n",
    "\n",
    "x = SharedData()       # Make two instances\n",
    "y = SharedData()\n",
    "x.spam, y.spam         # They inherit and share 'spam' (a.k.a. SharedData.spam)"
   ]
  },
  {
   "cell_type": "code",
   "execution_count": 8,
   "id": "36d2ad7c",
   "metadata": {},
   "outputs": [
    {
     "data": {
      "text/plain": [
       "(100, 42)"
      ]
     },
     "execution_count": 8,
     "metadata": {},
     "output_type": "execute_result"
    }
   ],
   "source": [
    "x.spam = 100\n",
    "x.spam, y.spam  "
   ]
  },
  {
   "cell_type": "code",
   "execution_count": 9,
   "id": "804ba5d7",
   "metadata": {},
   "outputs": [
    {
     "data": {
      "text/plain": [
       "(100, 99, 99)"
      ]
     },
     "execution_count": 9,
     "metadata": {},
     "output_type": "execute_result"
    }
   ],
   "source": [
    "SharedData.spam = 99\n",
    "x.spam, y.spam, SharedData.spam"
   ]
  },
  {
   "cell_type": "code",
   "execution_count": 10,
   "id": "af5e386a",
   "metadata": {},
   "outputs": [],
   "source": [
    "class MixedNames:                            # Define class\n",
    "    data = 'spam'                            # Assign class attr\n",
    "    def __init__(self, value):               # Assign method name\n",
    "        self.data = value                    # Assign instance attr\n",
    "    def display(self):\n",
    "        print(self.data, MixedNames.data)    # Instance attr, class attr"
   ]
  },
  {
   "cell_type": "code",
   "execution_count": 11,
   "id": "1421efe5",
   "metadata": {},
   "outputs": [
    {
     "name": "stdout",
     "output_type": "stream",
     "text": [
      "1 spam\n",
      "2 spam\n"
     ]
    }
   ],
   "source": [
    "x = MixedNames(1)          # Make two instance objects\n",
    "y = MixedNames(2)          # Each has its own data\n",
    "x.display(); y.display()   # self.data differs, MixedNames.data is the same"
   ]
  },
  {
   "cell_type": "code",
   "execution_count": 13,
   "id": "7711d233",
   "metadata": {},
   "outputs": [],
   "source": [
    "class NextClass:                            # Define class\n",
    "    def printer(self, text):                # Define method\n",
    "        self.message = text                 # Change instance\n",
    "        print(self.message)                 # Access instance"
   ]
  },
  {
   "cell_type": "code",
   "execution_count": 14,
   "id": "5e111179",
   "metadata": {},
   "outputs": [
    {
     "name": "stdout",
     "output_type": "stream",
     "text": [
      "instance call\n"
     ]
    }
   ],
   "source": [
    "x = NextClass()                         # Make instance\n",
    "x.printer('instance call')              # Call its method"
   ]
  },
  {
   "cell_type": "code",
   "execution_count": 15,
   "id": "39cc7d0e",
   "metadata": {},
   "outputs": [
    {
     "data": {
      "text/plain": [
       "'instance call'"
      ]
     },
     "execution_count": 15,
     "metadata": {},
     "output_type": "execute_result"
    }
   ],
   "source": [
    "x.message                               # Instance changed"
   ]
  },
  {
   "cell_type": "code",
   "execution_count": 16,
   "id": "11086b58",
   "metadata": {},
   "outputs": [
    {
     "name": "stdout",
     "output_type": "stream",
     "text": [
      "class call\n"
     ]
    }
   ],
   "source": [
    "NextClass.printer(x, 'class call')      # Direct class call"
   ]
  },
  {
   "cell_type": "code",
   "execution_count": 17,
   "id": "78c601fb",
   "metadata": {},
   "outputs": [
    {
     "data": {
      "text/plain": [
       "'class call'"
      ]
     },
     "execution_count": 17,
     "metadata": {},
     "output_type": "execute_result"
    }
   ],
   "source": [
    "x.message                               # Instance changed again"
   ]
  },
  {
   "cell_type": "code",
   "execution_count": 18,
   "id": "0f460482",
   "metadata": {},
   "outputs": [
    {
     "ename": "TypeError",
     "evalue": "printer() missing 1 required positional argument: 'text'",
     "output_type": "error",
     "traceback": [
      "\u001b[1;31m---------------------------------------------------------------------------\u001b[0m",
      "\u001b[1;31mTypeError\u001b[0m                                 Traceback (most recent call last)",
      "\u001b[1;32m~\\AppData\\Local\\Temp/ipykernel_12052/3946778523.py\u001b[0m in \u001b[0;36m<module>\u001b[1;34m\u001b[0m\n\u001b[1;32m----> 1\u001b[1;33m \u001b[0mNextClass\u001b[0m\u001b[1;33m.\u001b[0m\u001b[0mprinter\u001b[0m\u001b[1;33m(\u001b[0m\u001b[1;34m'bad call'\u001b[0m\u001b[1;33m)\u001b[0m\u001b[1;33m\u001b[0m\u001b[1;33m\u001b[0m\u001b[0m\n\u001b[0m",
      "\u001b[1;31mTypeError\u001b[0m: printer() missing 1 required positional argument: 'text'"
     ]
    }
   ],
   "source": [
    "NextClass.printer('bad call')"
   ]
  },
  {
   "cell_type": "code",
   "execution_count": 20,
   "id": "483d4199",
   "metadata": {},
   "outputs": [],
   "source": [
    "class Super:\n",
    "        def method(self):\n",
    "            print('in Super.method')\n",
    "\n",
    "class Sub(Super):\n",
    "        def method(self):                    # Override method\n",
    "            print('starting Sub.method')     # Add actions here\n",
    "            Super.method(self)               # Run default action\n",
    "            print('ending Sub.method')"
   ]
  },
  {
   "cell_type": "code",
   "execution_count": 21,
   "id": "ff9287b7",
   "metadata": {},
   "outputs": [
    {
     "name": "stdout",
     "output_type": "stream",
     "text": [
      "in Super.method\n"
     ]
    }
   ],
   "source": [
    "x = Super()                              # Make a Super instance\n",
    "x.method()                               # Runs Super.method"
   ]
  },
  {
   "cell_type": "code",
   "execution_count": 22,
   "id": "a8594cad",
   "metadata": {},
   "outputs": [
    {
     "name": "stdout",
     "output_type": "stream",
     "text": [
      "starting Sub.method\n",
      "in Super.method\n",
      "ending Sub.method\n"
     ]
    }
   ],
   "source": [
    "x = Sub()                                # Make a Sub instance\n",
    "x.method()                               # Runs Sub.method, calls Super.method"
   ]
  },
  {
   "cell_type": "code",
   "execution_count": 23,
   "id": "3032f28f",
   "metadata": {},
   "outputs": [
    {
     "name": "stdout",
     "output_type": "stream",
     "text": [
      "class Super:\n",
      "    def method(self):\n",
      "        print('in Super.method')           # Default behavior\n",
      "    def delegate(self):\n",
      "        self.action()                      # Expected to be defined\n",
      "\n",
      "class Inheritor(Super):                    # Inherit method verbatim\n",
      "    pass\n",
      "\n",
      "class Replacer(Super):                     # Replace method completely\n",
      "    def method(self):\n",
      "        print('in Replacer.method')\n",
      "\n",
      "class Extender(Super):                     # Extend method behavior\n",
      "    def method(self):\n",
      "        print('starting Extender.method')\n",
      "        Super.method(self)\n",
      "        print('ending Extender.method')\n",
      "\n",
      "class Provider(Super):                     # Fill in a required method\n",
      "    def action(self):\n",
      "        print('in Provider.action')\n",
      "\n",
      "if __name__ == '__main__':\n",
      "    for klass in (Inheritor, Replacer, Extender):\n",
      "        print('\\n' + klass.__name__ + '...')\n",
      "        klass().method()\n",
      "    print('\\nProvider...')\n",
      "    x = Provider()\n",
      "    x.delegate()\n"
     ]
    }
   ],
   "source": [
    "!cat code/specialize.py"
   ]
  },
  {
   "cell_type": "code",
   "execution_count": 4,
   "id": "36df853d",
   "metadata": {},
   "outputs": [
    {
     "name": "stdout",
     "output_type": "stream",
     "text": [
      "\n",
      "Inheritor...\n",
      "in Super.method\n",
      "\n",
      "Replacer...\n",
      "in Replacer.method\n",
      "\n",
      "Extender...\n",
      "starting Extender.method\n",
      "in Super.method\n",
      "ending Extender.method\n",
      "\n",
      "Provider...\n",
      "in Provider.action\n"
     ]
    }
   ],
   "source": [
    "!python code/specialize.py"
   ]
  },
  {
   "cell_type": "code",
   "execution_count": 25,
   "id": "6a6a1416",
   "metadata": {},
   "outputs": [
    {
     "ename": "AssertionError",
     "evalue": "action must be defined!",
     "output_type": "error",
     "traceback": [
      "\u001b[1;31m---------------------------------------------------------------------------\u001b[0m",
      "\u001b[1;31mAssertionError\u001b[0m                            Traceback (most recent call last)",
      "\u001b[1;32m~\\AppData\\Local\\Temp/ipykernel_12052/4131573178.py\u001b[0m in \u001b[0;36m<module>\u001b[1;34m\u001b[0m\n\u001b[0;32m      6\u001b[0m \u001b[1;33m\u001b[0m\u001b[0m\n\u001b[0;32m      7\u001b[0m \u001b[0mX\u001b[0m \u001b[1;33m=\u001b[0m \u001b[0mSuper\u001b[0m\u001b[1;33m(\u001b[0m\u001b[1;33m)\u001b[0m\u001b[1;33m\u001b[0m\u001b[1;33m\u001b[0m\u001b[0m\n\u001b[1;32m----> 8\u001b[1;33m \u001b[0mX\u001b[0m\u001b[1;33m.\u001b[0m\u001b[0mdelegate\u001b[0m\u001b[1;33m(\u001b[0m\u001b[1;33m)\u001b[0m\u001b[1;33m\u001b[0m\u001b[1;33m\u001b[0m\u001b[0m\n\u001b[0m",
      "\u001b[1;32m~\\AppData\\Local\\Temp/ipykernel_12052/4131573178.py\u001b[0m in \u001b[0;36mdelegate\u001b[1;34m(self)\u001b[0m\n\u001b[0;32m      1\u001b[0m \u001b[1;32mclass\u001b[0m \u001b[0mSuper\u001b[0m\u001b[1;33m:\u001b[0m\u001b[1;33m\u001b[0m\u001b[1;33m\u001b[0m\u001b[0m\n\u001b[0;32m      2\u001b[0m     \u001b[1;32mdef\u001b[0m \u001b[0mdelegate\u001b[0m\u001b[1;33m(\u001b[0m\u001b[0mself\u001b[0m\u001b[1;33m)\u001b[0m\u001b[1;33m:\u001b[0m\u001b[1;33m\u001b[0m\u001b[1;33m\u001b[0m\u001b[0m\n\u001b[1;32m----> 3\u001b[1;33m         \u001b[0mself\u001b[0m\u001b[1;33m.\u001b[0m\u001b[0maction\u001b[0m\u001b[1;33m(\u001b[0m\u001b[1;33m)\u001b[0m\u001b[1;33m\u001b[0m\u001b[1;33m\u001b[0m\u001b[0m\n\u001b[0m\u001b[0;32m      4\u001b[0m     \u001b[1;32mdef\u001b[0m \u001b[0maction\u001b[0m\u001b[1;33m(\u001b[0m\u001b[0mself\u001b[0m\u001b[1;33m)\u001b[0m\u001b[1;33m:\u001b[0m\u001b[1;33m\u001b[0m\u001b[1;33m\u001b[0m\u001b[0m\n\u001b[0;32m      5\u001b[0m         \u001b[1;32massert\u001b[0m \u001b[1;32mFalse\u001b[0m\u001b[1;33m,\u001b[0m \u001b[1;34m'action must be defined!'\u001b[0m      \u001b[1;31m# If this version is called\u001b[0m\u001b[1;33m\u001b[0m\u001b[1;33m\u001b[0m\u001b[0m\n",
      "\u001b[1;32m~\\AppData\\Local\\Temp/ipykernel_12052/4131573178.py\u001b[0m in \u001b[0;36maction\u001b[1;34m(self)\u001b[0m\n\u001b[0;32m      3\u001b[0m         \u001b[0mself\u001b[0m\u001b[1;33m.\u001b[0m\u001b[0maction\u001b[0m\u001b[1;33m(\u001b[0m\u001b[1;33m)\u001b[0m\u001b[1;33m\u001b[0m\u001b[1;33m\u001b[0m\u001b[0m\n\u001b[0;32m      4\u001b[0m     \u001b[1;32mdef\u001b[0m \u001b[0maction\u001b[0m\u001b[1;33m(\u001b[0m\u001b[0mself\u001b[0m\u001b[1;33m)\u001b[0m\u001b[1;33m:\u001b[0m\u001b[1;33m\u001b[0m\u001b[1;33m\u001b[0m\u001b[0m\n\u001b[1;32m----> 5\u001b[1;33m         \u001b[1;32massert\u001b[0m \u001b[1;32mFalse\u001b[0m\u001b[1;33m,\u001b[0m \u001b[1;34m'action must be defined!'\u001b[0m      \u001b[1;31m# If this version is called\u001b[0m\u001b[1;33m\u001b[0m\u001b[1;33m\u001b[0m\u001b[0m\n\u001b[0m\u001b[0;32m      6\u001b[0m \u001b[1;33m\u001b[0m\u001b[0m\n\u001b[0;32m      7\u001b[0m \u001b[0mX\u001b[0m \u001b[1;33m=\u001b[0m \u001b[0mSuper\u001b[0m\u001b[1;33m(\u001b[0m\u001b[1;33m)\u001b[0m\u001b[1;33m\u001b[0m\u001b[1;33m\u001b[0m\u001b[0m\n",
      "\u001b[1;31mAssertionError\u001b[0m: action must be defined!"
     ]
    }
   ],
   "source": [
    "class Super:\n",
    "    def delegate(self):\n",
    "        self.action()\n",
    "    def action(self):\n",
    "        assert False, 'action must be defined!'      # If this version is called\n",
    "\n",
    "X = Super()\n",
    "X.delegate()"
   ]
  },
  {
   "cell_type": "code",
   "execution_count": 26,
   "id": "0f711568",
   "metadata": {},
   "outputs": [
    {
     "ename": "NotImplementedError",
     "evalue": "action must be defined!",
     "output_type": "error",
     "traceback": [
      "\u001b[1;31m---------------------------------------------------------------------------\u001b[0m",
      "\u001b[1;31mNotImplementedError\u001b[0m                       Traceback (most recent call last)",
      "\u001b[1;32m~\\AppData\\Local\\Temp/ipykernel_12052/1294224753.py\u001b[0m in \u001b[0;36m<module>\u001b[1;34m\u001b[0m\n\u001b[0;32m      6\u001b[0m \u001b[1;33m\u001b[0m\u001b[0m\n\u001b[0;32m      7\u001b[0m \u001b[0mX\u001b[0m \u001b[1;33m=\u001b[0m \u001b[0mSuper\u001b[0m\u001b[1;33m(\u001b[0m\u001b[1;33m)\u001b[0m\u001b[1;33m\u001b[0m\u001b[1;33m\u001b[0m\u001b[0m\n\u001b[1;32m----> 8\u001b[1;33m \u001b[0mX\u001b[0m\u001b[1;33m.\u001b[0m\u001b[0mdelegate\u001b[0m\u001b[1;33m(\u001b[0m\u001b[1;33m)\u001b[0m\u001b[1;33m\u001b[0m\u001b[1;33m\u001b[0m\u001b[0m\n\u001b[0m",
      "\u001b[1;32m~\\AppData\\Local\\Temp/ipykernel_12052/1294224753.py\u001b[0m in \u001b[0;36mdelegate\u001b[1;34m(self)\u001b[0m\n\u001b[0;32m      1\u001b[0m \u001b[1;32mclass\u001b[0m \u001b[0mSuper\u001b[0m\u001b[1;33m:\u001b[0m\u001b[1;33m\u001b[0m\u001b[1;33m\u001b[0m\u001b[0m\n\u001b[0;32m      2\u001b[0m     \u001b[1;32mdef\u001b[0m \u001b[0mdelegate\u001b[0m\u001b[1;33m(\u001b[0m\u001b[0mself\u001b[0m\u001b[1;33m)\u001b[0m\u001b[1;33m:\u001b[0m\u001b[1;33m\u001b[0m\u001b[1;33m\u001b[0m\u001b[0m\n\u001b[1;32m----> 3\u001b[1;33m         \u001b[0mself\u001b[0m\u001b[1;33m.\u001b[0m\u001b[0maction\u001b[0m\u001b[1;33m(\u001b[0m\u001b[1;33m)\u001b[0m\u001b[1;33m\u001b[0m\u001b[1;33m\u001b[0m\u001b[0m\n\u001b[0m\u001b[0;32m      4\u001b[0m     \u001b[1;32mdef\u001b[0m \u001b[0maction\u001b[0m\u001b[1;33m(\u001b[0m\u001b[0mself\u001b[0m\u001b[1;33m)\u001b[0m\u001b[1;33m:\u001b[0m\u001b[1;33m\u001b[0m\u001b[1;33m\u001b[0m\u001b[0m\n\u001b[0;32m      5\u001b[0m         \u001b[1;32mraise\u001b[0m \u001b[0mNotImplementedError\u001b[0m\u001b[1;33m(\u001b[0m\u001b[1;34m'action must be defined!'\u001b[0m\u001b[1;33m)\u001b[0m\u001b[1;33m\u001b[0m\u001b[1;33m\u001b[0m\u001b[0m\n",
      "\u001b[1;32m~\\AppData\\Local\\Temp/ipykernel_12052/1294224753.py\u001b[0m in \u001b[0;36maction\u001b[1;34m(self)\u001b[0m\n\u001b[0;32m      3\u001b[0m         \u001b[0mself\u001b[0m\u001b[1;33m.\u001b[0m\u001b[0maction\u001b[0m\u001b[1;33m(\u001b[0m\u001b[1;33m)\u001b[0m\u001b[1;33m\u001b[0m\u001b[1;33m\u001b[0m\u001b[0m\n\u001b[0;32m      4\u001b[0m     \u001b[1;32mdef\u001b[0m \u001b[0maction\u001b[0m\u001b[1;33m(\u001b[0m\u001b[0mself\u001b[0m\u001b[1;33m)\u001b[0m\u001b[1;33m:\u001b[0m\u001b[1;33m\u001b[0m\u001b[1;33m\u001b[0m\u001b[0m\n\u001b[1;32m----> 5\u001b[1;33m         \u001b[1;32mraise\u001b[0m \u001b[0mNotImplementedError\u001b[0m\u001b[1;33m(\u001b[0m\u001b[1;34m'action must be defined!'\u001b[0m\u001b[1;33m)\u001b[0m\u001b[1;33m\u001b[0m\u001b[1;33m\u001b[0m\u001b[0m\n\u001b[0m\u001b[0;32m      6\u001b[0m \u001b[1;33m\u001b[0m\u001b[0m\n\u001b[0;32m      7\u001b[0m \u001b[0mX\u001b[0m \u001b[1;33m=\u001b[0m \u001b[0mSuper\u001b[0m\u001b[1;33m(\u001b[0m\u001b[1;33m)\u001b[0m\u001b[1;33m\u001b[0m\u001b[1;33m\u001b[0m\u001b[0m\n",
      "\u001b[1;31mNotImplementedError\u001b[0m: action must be defined!"
     ]
    }
   ],
   "source": [
    "class Super:\n",
    "    def delegate(self):\n",
    "        self.action()\n",
    "    def action(self):\n",
    "        raise NotImplementedError('action must be defined!')\n",
    "\n",
    "X = Super()\n",
    "X.delegate()"
   ]
  },
  {
   "cell_type": "code",
   "execution_count": 27,
   "id": "251a104b",
   "metadata": {},
   "outputs": [
    {
     "ename": "NotImplementedError",
     "evalue": "action must be defined!",
     "output_type": "error",
     "traceback": [
      "\u001b[1;31m---------------------------------------------------------------------------\u001b[0m",
      "\u001b[1;31mNotImplementedError\u001b[0m                       Traceback (most recent call last)",
      "\u001b[1;32m~\\AppData\\Local\\Temp/ipykernel_12052/2151219125.py\u001b[0m in \u001b[0;36m<module>\u001b[1;34m\u001b[0m\n\u001b[0;32m      2\u001b[0m \u001b[1;33m\u001b[0m\u001b[0m\n\u001b[0;32m      3\u001b[0m \u001b[0mX\u001b[0m \u001b[1;33m=\u001b[0m \u001b[0mSub\u001b[0m\u001b[1;33m(\u001b[0m\u001b[1;33m)\u001b[0m\u001b[1;33m\u001b[0m\u001b[1;33m\u001b[0m\u001b[0m\n\u001b[1;32m----> 4\u001b[1;33m \u001b[0mX\u001b[0m\u001b[1;33m.\u001b[0m\u001b[0mdelegate\u001b[0m\u001b[1;33m(\u001b[0m\u001b[1;33m)\u001b[0m\u001b[1;33m\u001b[0m\u001b[1;33m\u001b[0m\u001b[0m\n\u001b[0m",
      "\u001b[1;32m~\\AppData\\Local\\Temp/ipykernel_12052/1294224753.py\u001b[0m in \u001b[0;36mdelegate\u001b[1;34m(self)\u001b[0m\n\u001b[0;32m      1\u001b[0m \u001b[1;32mclass\u001b[0m \u001b[0mSuper\u001b[0m\u001b[1;33m:\u001b[0m\u001b[1;33m\u001b[0m\u001b[1;33m\u001b[0m\u001b[0m\n\u001b[0;32m      2\u001b[0m     \u001b[1;32mdef\u001b[0m \u001b[0mdelegate\u001b[0m\u001b[1;33m(\u001b[0m\u001b[0mself\u001b[0m\u001b[1;33m)\u001b[0m\u001b[1;33m:\u001b[0m\u001b[1;33m\u001b[0m\u001b[1;33m\u001b[0m\u001b[0m\n\u001b[1;32m----> 3\u001b[1;33m         \u001b[0mself\u001b[0m\u001b[1;33m.\u001b[0m\u001b[0maction\u001b[0m\u001b[1;33m(\u001b[0m\u001b[1;33m)\u001b[0m\u001b[1;33m\u001b[0m\u001b[1;33m\u001b[0m\u001b[0m\n\u001b[0m\u001b[0;32m      4\u001b[0m     \u001b[1;32mdef\u001b[0m \u001b[0maction\u001b[0m\u001b[1;33m(\u001b[0m\u001b[0mself\u001b[0m\u001b[1;33m)\u001b[0m\u001b[1;33m:\u001b[0m\u001b[1;33m\u001b[0m\u001b[1;33m\u001b[0m\u001b[0m\n\u001b[0;32m      5\u001b[0m         \u001b[1;32mraise\u001b[0m \u001b[0mNotImplementedError\u001b[0m\u001b[1;33m(\u001b[0m\u001b[1;34m'action must be defined!'\u001b[0m\u001b[1;33m)\u001b[0m\u001b[1;33m\u001b[0m\u001b[1;33m\u001b[0m\u001b[0m\n",
      "\u001b[1;32m~\\AppData\\Local\\Temp/ipykernel_12052/1294224753.py\u001b[0m in \u001b[0;36maction\u001b[1;34m(self)\u001b[0m\n\u001b[0;32m      3\u001b[0m         \u001b[0mself\u001b[0m\u001b[1;33m.\u001b[0m\u001b[0maction\u001b[0m\u001b[1;33m(\u001b[0m\u001b[1;33m)\u001b[0m\u001b[1;33m\u001b[0m\u001b[1;33m\u001b[0m\u001b[0m\n\u001b[0;32m      4\u001b[0m     \u001b[1;32mdef\u001b[0m \u001b[0maction\u001b[0m\u001b[1;33m(\u001b[0m\u001b[0mself\u001b[0m\u001b[1;33m)\u001b[0m\u001b[1;33m:\u001b[0m\u001b[1;33m\u001b[0m\u001b[1;33m\u001b[0m\u001b[0m\n\u001b[1;32m----> 5\u001b[1;33m         \u001b[1;32mraise\u001b[0m \u001b[0mNotImplementedError\u001b[0m\u001b[1;33m(\u001b[0m\u001b[1;34m'action must be defined!'\u001b[0m\u001b[1;33m)\u001b[0m\u001b[1;33m\u001b[0m\u001b[1;33m\u001b[0m\u001b[0m\n\u001b[0m\u001b[0;32m      6\u001b[0m \u001b[1;33m\u001b[0m\u001b[0m\n\u001b[0;32m      7\u001b[0m \u001b[0mX\u001b[0m \u001b[1;33m=\u001b[0m \u001b[0mSuper\u001b[0m\u001b[1;33m(\u001b[0m\u001b[1;33m)\u001b[0m\u001b[1;33m\u001b[0m\u001b[1;33m\u001b[0m\u001b[0m\n",
      "\u001b[1;31mNotImplementedError\u001b[0m: action must be defined!"
     ]
    }
   ],
   "source": [
    "class Sub(Super): pass\n",
    "\n",
    "X = Sub()\n",
    "X.delegate()"
   ]
  },
  {
   "cell_type": "code",
   "execution_count": 28,
   "id": "12688410",
   "metadata": {},
   "outputs": [
    {
     "name": "stdout",
     "output_type": "stream",
     "text": [
      "spam\n"
     ]
    }
   ],
   "source": [
    "class Sub(Super):\n",
    "        def action(self): print('spam')\n",
    "\n",
    "X = Sub()\n",
    "X.delegate()"
   ]
  },
  {
   "cell_type": "code",
   "execution_count": 6,
   "id": "adfbdffd",
   "metadata": {},
   "outputs": [
    {
     "ename": "TypeError",
     "evalue": "Can't instantiate abstract class Super with abstract methods action",
     "output_type": "error",
     "traceback": [
      "\u001b[1;31m---------------------------------------------------------------------------\u001b[0m",
      "\u001b[1;31mTypeError\u001b[0m                                 Traceback (most recent call last)",
      "\u001b[1;32m~\\AppData\\Local\\Temp/ipykernel_22680/1065174124.py\u001b[0m in \u001b[0;36m<module>\u001b[1;34m\u001b[0m\n\u001b[0;32m      8\u001b[0m             \u001b[1;32mpass\u001b[0m\u001b[1;33m\u001b[0m\u001b[1;33m\u001b[0m\u001b[0m\n\u001b[0;32m      9\u001b[0m \u001b[1;33m\u001b[0m\u001b[0m\n\u001b[1;32m---> 10\u001b[1;33m \u001b[0mX\u001b[0m \u001b[1;33m=\u001b[0m \u001b[0mSuper\u001b[0m\u001b[1;33m(\u001b[0m\u001b[1;33m)\u001b[0m\u001b[1;33m\u001b[0m\u001b[1;33m\u001b[0m\u001b[0m\n\u001b[0m",
      "\u001b[1;31mTypeError\u001b[0m: Can't instantiate abstract class Super with abstract methods action"
     ]
    }
   ],
   "source": [
    "from abc import ABCMeta, abstractmethod\n",
    "\n",
    "class Super(metaclass=ABCMeta):\n",
    "        def delegate(self):\n",
    "            self.action()\n",
    "        @abstractmethod\n",
    "        def action(self):\n",
    "            pass\n",
    "\n",
    "X = Super()"
   ]
  },
  {
   "cell_type": "code",
   "execution_count": 7,
   "id": "9259bf9c",
   "metadata": {},
   "outputs": [
    {
     "ename": "TypeError",
     "evalue": "Can't instantiate abstract class Sub with abstract methods action",
     "output_type": "error",
     "traceback": [
      "\u001b[1;31m---------------------------------------------------------------------------\u001b[0m",
      "\u001b[1;31mTypeError\u001b[0m                                 Traceback (most recent call last)",
      "\u001b[1;32m~\\AppData\\Local\\Temp/ipykernel_22680/1752493331.py\u001b[0m in \u001b[0;36m<module>\u001b[1;34m\u001b[0m\n\u001b[0;32m      1\u001b[0m \u001b[1;32mclass\u001b[0m \u001b[0mSub\u001b[0m\u001b[1;33m(\u001b[0m\u001b[0mSuper\u001b[0m\u001b[1;33m)\u001b[0m\u001b[1;33m:\u001b[0m \u001b[1;32mpass\u001b[0m\u001b[1;33m\u001b[0m\u001b[1;33m\u001b[0m\u001b[0m\n\u001b[0;32m      2\u001b[0m \u001b[1;33m\u001b[0m\u001b[0m\n\u001b[1;32m----> 3\u001b[1;33m \u001b[0mX\u001b[0m \u001b[1;33m=\u001b[0m \u001b[0mSub\u001b[0m\u001b[1;33m(\u001b[0m\u001b[1;33m)\u001b[0m\u001b[1;33m\u001b[0m\u001b[1;33m\u001b[0m\u001b[0m\n\u001b[0m",
      "\u001b[1;31mTypeError\u001b[0m: Can't instantiate abstract class Sub with abstract methods action"
     ]
    }
   ],
   "source": [
    "class Sub(Super): pass\n",
    "\n",
    "X = Sub()"
   ]
  },
  {
   "cell_type": "code",
   "execution_count": 8,
   "id": "2e436585",
   "metadata": {},
   "outputs": [
    {
     "name": "stdout",
     "output_type": "stream",
     "text": [
      "spam\n"
     ]
    }
   ],
   "source": [
    "class Sub(Super):\n",
    "        def action(self): print('spam')\n",
    "\n",
    "X = Sub()\n",
    "X.delegate()"
   ]
  },
  {
   "cell_type": "code",
   "execution_count": 32,
   "id": "b93694d5",
   "metadata": {},
   "outputs": [
    {
     "name": "stdout",
     "output_type": "stream",
     "text": [
      "X = 11                       # Global (module) name/attribute (X, or manynames.X)\n",
      "\n",
      "def f():\n",
      "    print(X)                 # Access global X (11)\n",
      "\n",
      "def g():\n",
      "    X = 22                   # Local (function) variable (X, hides module X)\n",
      "    print(X)\n",
      "\n",
      "class C:\n",
      "    X = 33                   # Class attribute (C.X)\n",
      "    def m(self):\n",
      "        X = 44               # Local variable in method (X)\n",
      "        self.X = 55          # Instance attribute (instance.X)\n",
      "\n",
      "if __name__ == '__main__':\n",
      "    print(X)                 # 11: module (a.k.a. manynames.X outside file)\n",
      "    f()                      # 11: global\n",
      "    g()                      # 22: local\n",
      "    print(X)                 # 11: module name unchanged\n",
      "\n",
      "    obj = C()                # Make instance\n",
      "    print(obj.X)             # 33: class name inherited by instance\n",
      "\n",
      "    obj.m()                  # Attach attribute name X to instance now\n",
      "    print(obj.X)             # 55: instance\n",
      "    print(C.X)               # 33: class (a.k.a. obj.X if no X in instance)\n",
      "\n",
      "    #print(C.m.X)            # FAILS: only visible in method\n",
      "    #print(g.X)              # FAILS: only visible in function\n"
     ]
    }
   ],
   "source": [
    "!cat code/manynames.py"
   ]
  },
  {
   "cell_type": "code",
   "execution_count": 33,
   "id": "56f73034",
   "metadata": {},
   "outputs": [
    {
     "name": "stdout",
     "output_type": "stream",
     "text": [
      "11\n",
      "11\n",
      "22\n",
      "11\n",
      "33\n",
      "55\n",
      "33\n"
     ]
    }
   ],
   "source": [
    "!python code/manynames.py"
   ]
  },
  {
   "cell_type": "code",
   "execution_count": 9,
   "id": "2cc819db",
   "metadata": {},
   "outputs": [],
   "source": [
    "X = 11                       # Global (module) name/attribute (X, or manynames.X)\n",
    "\n",
    "def f():\n",
    "    print(X)                 # Access global X (11)\n",
    "\n",
    "def g():\n",
    "    X = 22                   # Local (function) variable (X, hides module X)\n",
    "    print(X)\n",
    "\n",
    "class C:\n",
    "    X = 33                   # Class attribute (C.X)\n",
    "    def m(self):\n",
    "        X = 44               # Local variable in method (X)\n",
    "        self.X = 55          # Instance attribute (instance.X)"
   ]
  },
  {
   "cell_type": "code",
   "execution_count": 10,
   "id": "12915658",
   "metadata": {},
   "outputs": [
    {
     "ename": "AttributeError",
     "evalue": "'function' object has no attribute 'X'",
     "output_type": "error",
     "traceback": [
      "\u001b[1;31m---------------------------------------------------------------------------\u001b[0m",
      "\u001b[1;31mAttributeError\u001b[0m                            Traceback (most recent call last)",
      "\u001b[1;32m~\\AppData\\Local\\Temp/ipykernel_22680/808688492.py\u001b[0m in \u001b[0;36m<module>\u001b[1;34m\u001b[0m\n\u001b[1;32m----> 1\u001b[1;33m \u001b[0mprint\u001b[0m\u001b[1;33m(\u001b[0m\u001b[0mC\u001b[0m\u001b[1;33m.\u001b[0m\u001b[0mm\u001b[0m\u001b[1;33m.\u001b[0m\u001b[0mX\u001b[0m\u001b[1;33m)\u001b[0m\u001b[1;33m\u001b[0m\u001b[1;33m\u001b[0m\u001b[0m\n\u001b[0m",
      "\u001b[1;31mAttributeError\u001b[0m: 'function' object has no attribute 'X'"
     ]
    }
   ],
   "source": [
    "print(C.m.X)"
   ]
  },
  {
   "cell_type": "code",
   "execution_count": 34,
   "id": "1c6c0614",
   "metadata": {},
   "outputs": [
    {
     "name": "stdout",
     "output_type": "stream",
     "text": [
      "import manynames\n",
      "\n",
      "X = 66\n",
      "print(X)                     # 66: the global here\n",
      "print(manynames.X)           # 11: globals become attributes after imports\n",
      "\n",
      "manynames.f()                # 11: manynames's X, not the one here!\n",
      "manynames.g()                # 22: local in other file's function\n",
      "\n",
      "print(manynames.C.X)         # 33: attribute of class in other module\n",
      "I = manynames.C()\n",
      "print(I.X)                   # 33: still from class here\n",
      "I.m()\n",
      "print(I.X)                   # 55: now from instance!\n"
     ]
    }
   ],
   "source": [
    "!cat code/otherfile.py"
   ]
  },
  {
   "cell_type": "code",
   "execution_count": 35,
   "id": "abbe00e1",
   "metadata": {},
   "outputs": [
    {
     "name": "stdout",
     "output_type": "stream",
     "text": [
      "66\n",
      "11\n",
      "11\n",
      "22\n",
      "33\n",
      "33\n",
      "55\n"
     ]
    }
   ],
   "source": [
    "!python code/otherfile.py"
   ]
  },
  {
   "cell_type": "code",
   "execution_count": 11,
   "id": "8bcd6bb2",
   "metadata": {},
   "outputs": [],
   "source": [
    "X = 11                       # Global in module\n",
    "\n",
    "def g1():\n",
    "    print(X)                 # Reference global in module (11)\n",
    "\n",
    "def g2():\n",
    "    global X\n",
    "    X = 22                   # Change global in module\n",
    "\n",
    "def h1():\n",
    "    X = 33                   # Local in function\n",
    "    def nested():\n",
    "        print(X)             # Reference local in enclosing scope (33)\n",
    "\n",
    "def h2():\n",
    "    X = 33                   # Local in function\n",
    "    def nested():\n",
    "        nonlocal X           # Python 3.X statement\n",
    "        X = 44               # Change local in enclosing scope"
   ]
  },
  {
   "cell_type": "code",
   "execution_count": 12,
   "id": "fb18b2fc",
   "metadata": {},
   "outputs": [
    {
     "name": "stdout",
     "output_type": "stream",
     "text": [
      "11\n"
     ]
    }
   ],
   "source": [
    "g1()"
   ]
  },
  {
   "cell_type": "code",
   "execution_count": 13,
   "id": "86955227",
   "metadata": {},
   "outputs": [
    {
     "data": {
      "text/plain": [
       "22"
      ]
     },
     "execution_count": 13,
     "metadata": {},
     "output_type": "execute_result"
    }
   ],
   "source": [
    "g2()\n",
    "X"
   ]
  },
  {
   "cell_type": "code",
   "execution_count": 23,
   "id": "72b1f98e",
   "metadata": {},
   "outputs": [
    {
     "name": "stdout",
     "output_type": "stream",
     "text": [
      "# File classscope.py\n",
      "\n",
      "X = 1\n",
      "\n",
      "def nester():\n",
      "   print(X)                 # Global: 1\n",
      "   class C:\n",
      "       print(X)             # Global: 1\n",
      "       def method1(self):\n",
      "           print(X)         # Global: 1 \n",
      "       def method2(self):\n",
      "           X = 3            # Hides gobal\n",
      "           print(X)         # Local: 3\n",
      "   I = C()\n",
      "   I.method1()\n",
      "   I.method2()    \n",
      "\n",
      "print(X)                    # Global: 1\n",
      "nester()                    # Rest: 1, 1, 1, 3\n",
      "print('-'*40)\n",
      "\n",
      "\n",
      "\n",
      "X = 1\n",
      "\n",
      "def nester():\n",
      "   X = 2                    # Hides global\n",
      "   print(X)                 # Local: 2\n",
      "   class C:\n",
      "       print(X)             # In enclosing def (nester): 2\n",
      "       def method1(self):\n",
      "           print(X)         # In enclosing def (nester): 2 \n",
      "       def method2(self):\n",
      "           X = 3            # Hides enclosing (nester)\n",
      "           print(X)         # Local: 3\n",
      "   I = C()\n",
      "   I.method1()\n",
      "   I.method2()    \n",
      "\n",
      "print(X)                    # Global: 1\n",
      "nester()                    # Rest: 2, 2, 2, 3\n",
      "print('-'*40)\n",
      "\n",
      "\n",
      "\n",
      "X = 1\n",
      "\n",
      "def nester():\n",
      "   X = 2                    # Hides global\n",
      "   print(X)                 # Local: 2\n",
      "   class C:\n",
      "       X = 3                # Class local hides nester's: C.X or I.X (not scoped)\n",
      "       print(X)             # Local: 3\n",
      "       def method1(self):\n",
      "           print(X)         # In enclosing def (not class!): 2 \n",
      "           print(self.X)    # Inherited class local: 3\n",
      "       def method2(self):\n",
      "           X = 4            # Hides enclosing (nester, not class)\n",
      "           print(X)         # Local: 4\n",
      "           self.X = 5       # Hides class\n",
      "           print(self.X)    # Located in instance: 5\n",
      "   I = C()\n",
      "   I.method1()\n",
      "   I.method2()    \n",
      "\n",
      "print(X)                    # Global: 1\n",
      "nester()                    # Rest: 2, 3, 2, 3, 4, 5 \n",
      "print('-'*40)\n"
     ]
    }
   ],
   "source": [
    "!cat code/classscope.py"
   ]
  },
  {
   "cell_type": "code",
   "execution_count": 24,
   "id": "ad1d64b2",
   "metadata": {},
   "outputs": [
    {
     "name": "stdout",
     "output_type": "stream",
     "text": [
      "1\n",
      "1\n",
      "1\n",
      "1\n",
      "3\n",
      "----------------------------------------\n",
      "1\n",
      "2\n",
      "2\n",
      "2\n",
      "3\n",
      "----------------------------------------\n",
      "1\n",
      "2\n",
      "3\n",
      "2\n",
      "3\n",
      "4\n",
      "5\n",
      "----------------------------------------\n"
     ]
    }
   ],
   "source": [
    "!python code/classscope.py"
   ]
  },
  {
   "cell_type": "code",
   "execution_count": 4,
   "id": "582c6667",
   "metadata": {},
   "outputs": [
    {
     "name": "stdout",
     "output_type": "stream",
     "text": [
      "#!python\n",
      "\"\"\"\n",
      "classtree.py: Climb inheritance trees using namespace links,\n",
      "displaying higher superclasses with indentation for height\n",
      "\"\"\"\n",
      "\n",
      "def classtree(cls, indent):\n",
      "    print('.' * indent + cls.__name__)    # Print class name here\n",
      "    for supercls in cls.__bases__:        # Recur to all superclasses\n",
      "        classtree(supercls, indent+3)     # May visit super > once\n",
      "\n",
      "def instancetree(inst):\n",
      "    print('Tree of %s' % inst)            # Show instance\n",
      "    classtree(inst.__class__, 3)          # Climb to its class\n",
      "\n",
      "def selftest():\n",
      "    class A:      pass\n",
      "    class B(A):   pass\n",
      "    class C(A):   pass\n",
      "    class D(B,C): pass\n",
      "    class E:      pass\n",
      "    class F(D,E): pass\n",
      "    instancetree(B())\n",
      "    instancetree(F())\n",
      "\n",
      "if __name__ == '__main__': selftest()\n"
     ]
    }
   ],
   "source": [
    "!cat code/classtree.py"
   ]
  },
  {
   "cell_type": "code",
   "execution_count": 5,
   "id": "bf60e159",
   "metadata": {},
   "outputs": [
    {
     "name": "stdout",
     "output_type": "stream",
     "text": [
      "Tree of <__main__.selftest.<locals>.B object at 0x0000012BBA904790>\n",
      "...B\n",
      "......A\n",
      ".........object\n",
      "Tree of <__main__.selftest.<locals>.F object at 0x0000012BBA904790>\n",
      "...F\n",
      "......D\n",
      ".........B\n",
      "............A\n",
      "...............object\n",
      ".........C\n",
      "............A\n",
      "...............object\n",
      "......E\n",
      ".........object\n"
     ]
    }
   ],
   "source": [
    "!python code/classtree.py"
   ]
  },
  {
   "cell_type": "code",
   "execution_count": 4,
   "id": "76336b30",
   "metadata": {},
   "outputs": [
    {
     "name": "stdout",
     "output_type": "stream",
     "text": [
      "Tree of <__main__.Person object at 0x0000018CC3A4DC10>\n",
      "...Person\n",
      "......Emp\n",
      ".........object\n"
     ]
    }
   ],
   "source": [
    "class Emp: pass\n",
    "\n",
    "class Person(Emp): pass\n",
    "\n",
    "bob = Person()\n",
    "\n",
    "import classtree\n",
    "classtree.instancetree(bob)"
   ]
  },
  {
   "cell_type": "code",
   "execution_count": 5,
   "id": "53ac0a5a",
   "metadata": {},
   "outputs": [
    {
     "name": "stdout",
     "output_type": "stream",
     "text": [
      "\"I am: docstr.__doc__\"\n",
      "\n",
      "def func(args):\n",
      "    \"I am: docstr.func.__doc__\"\n",
      "    pass\n",
      "\n",
      "class spam:\n",
      "    \"I am: spam.__doc__ or docstr.spam.__doc__ or self.__doc__\"\n",
      "    def method(self):\n",
      "        \"I am: spam.method.__doc__ or self.method.__doc__\"\n",
      "        print(self.__doc__)\n",
      "        print(self.method.__doc__)\n"
     ]
    }
   ],
   "source": [
    "!cat code/docstr.py"
   ]
  },
  {
   "cell_type": "code",
   "execution_count": 6,
   "id": "37af9ac3",
   "metadata": {},
   "outputs": [],
   "source": [
    "!python code/docstr.py"
   ]
  },
  {
   "cell_type": "code",
   "execution_count": 7,
   "id": "c0255861",
   "metadata": {},
   "outputs": [
    {
     "data": {
      "text/plain": [
       "'I am: docstr.__doc__'"
      ]
     },
     "execution_count": 7,
     "metadata": {},
     "output_type": "execute_result"
    }
   ],
   "source": [
    "import docstr\n",
    "docstr.__doc__"
   ]
  },
  {
   "cell_type": "code",
   "execution_count": 8,
   "id": "290101aa",
   "metadata": {},
   "outputs": [
    {
     "data": {
      "text/plain": [
       "'I am: docstr.func.__doc__'"
      ]
     },
     "execution_count": 8,
     "metadata": {},
     "output_type": "execute_result"
    }
   ],
   "source": [
    "docstr.func.__doc__"
   ]
  },
  {
   "cell_type": "code",
   "execution_count": 9,
   "id": "1b139d17",
   "metadata": {},
   "outputs": [
    {
     "data": {
      "text/plain": [
       "'I am: spam.__doc__ or docstr.spam.__doc__ or self.__doc__'"
      ]
     },
     "execution_count": 9,
     "metadata": {},
     "output_type": "execute_result"
    }
   ],
   "source": [
    "docstr.spam.__doc__"
   ]
  },
  {
   "cell_type": "code",
   "execution_count": 10,
   "id": "9448a0dc",
   "metadata": {},
   "outputs": [
    {
     "data": {
      "text/plain": [
       "'I am: spam.method.__doc__ or self.method.__doc__'"
      ]
     },
     "execution_count": 10,
     "metadata": {},
     "output_type": "execute_result"
    }
   ],
   "source": [
    "docstr.spam.method.__doc__"
   ]
  },
  {
   "cell_type": "code",
   "execution_count": 11,
   "id": "b5aea5e1",
   "metadata": {},
   "outputs": [
    {
     "name": "stdout",
     "output_type": "stream",
     "text": [
      "I am: spam.__doc__ or docstr.spam.__doc__ or self.__doc__\n",
      "I am: spam.method.__doc__ or self.method.__doc__\n"
     ]
    }
   ],
   "source": [
    "x = docstr.spam()\n",
    "x.method()"
   ]
  },
  {
   "cell_type": "code",
   "execution_count": 12,
   "id": "56223694",
   "metadata": {},
   "outputs": [
    {
     "name": "stdout",
     "output_type": "stream",
     "text": [
      "I am: spam.__doc__ or docstr.spam.__doc__ or self.__doc__\n",
      "I am: spam.method.__doc__ or self.method.__doc__\n"
     ]
    }
   ],
   "source": [
    "docstr.spam().method()"
   ]
  },
  {
   "cell_type": "code",
   "execution_count": 13,
   "id": "a190e8a3",
   "metadata": {},
   "outputs": [
    {
     "name": "stdout",
     "output_type": "stream",
     "text": [
      "Help on module docstr:\n",
      "\n",
      "NAME\n",
      "    docstr - I am: docstr.__doc__\n",
      "\n",
      "CLASSES\n",
      "    builtins.object\n",
      "        spam\n",
      "    \n",
      "    class spam(builtins.object)\n",
      "     |  I am: spam.__doc__ or docstr.spam.__doc__ or self.__doc__\n",
      "     |  \n",
      "     |  Methods defined here:\n",
      "     |  \n",
      "     |  method(self)\n",
      "     |      I am: spam.method.__doc__ or self.method.__doc__\n",
      "     |  \n",
      "     |  ----------------------------------------------------------------------\n",
      "     |  Data descriptors defined here:\n",
      "     |  \n",
      "     |  __dict__\n",
      "     |      dictionary for instance variables (if defined)\n",
      "     |  \n",
      "     |  __weakref__\n",
      "     |      list of weak references to the object (if defined)\n",
      "\n",
      "FUNCTIONS\n",
      "    func(args)\n",
      "        I am: docstr.func.__doc__\n",
      "\n",
      "FILE\n",
      "    d:\\books\\python\\0. learning python\\code\\docstr.py\n",
      "\n",
      "\n"
     ]
    }
   ],
   "source": [
    "help(docstr)"
   ]
  },
  {
   "cell_type": "code",
   "execution_count": 14,
   "id": "cd978e38",
   "metadata": {},
   "outputs": [
    {
     "data": {
      "text/plain": [
       "'I am: docstr.__doc__'"
      ]
     },
     "execution_count": 14,
     "metadata": {},
     "output_type": "execute_result"
    }
   ],
   "source": [
    "docstr.__doc__"
   ]
  },
  {
   "cell_type": "code",
   "execution_count": 15,
   "id": "d1e77dc4",
   "metadata": {},
   "outputs": [
    {
     "data": {
      "text/plain": [
       "['__builtins__',\n",
       " '__cached__',\n",
       " '__doc__',\n",
       " '__file__',\n",
       " '__loader__',\n",
       " '__name__',\n",
       " '__package__',\n",
       " '__spec__',\n",
       " 'func',\n",
       " 'spam']"
      ]
     },
     "execution_count": 15,
     "metadata": {},
     "output_type": "execute_result"
    }
   ],
   "source": [
    "dir(docstr)"
   ]
  },
  {
   "cell_type": "markdown",
   "id": "fa0f932a",
   "metadata": {},
   "source": [
    "# Chapter 30. Operator Overloading"
   ]
  },
  {
   "cell_type": "code",
   "execution_count": 16,
   "id": "f32a9a84",
   "metadata": {},
   "outputs": [
    {
     "name": "stdout",
     "output_type": "stream",
     "text": [
      "class Number:\n",
      "    def __init__(self, start):                  # On Number(start)\n",
      "        self.data = start\n",
      "    def __sub__(self, other):                   # On instance - other\n",
      "        return Number(self.data - other)        # Result is a new instance\n"
     ]
    }
   ],
   "source": [
    "!cat code/number.py"
   ]
  },
  {
   "cell_type": "code",
   "execution_count": 4,
   "id": "34b18529",
   "metadata": {},
   "outputs": [
    {
     "data": {
      "text/plain": [
       "3"
      ]
     },
     "execution_count": 4,
     "metadata": {},
     "output_type": "execute_result"
    }
   ],
   "source": [
    "from number import Number                   # Fetch class from module\n",
    "X = Number(5)                               # Number.__init__(X, 5)\n",
    "Y = X - 2                                   # Number.__sub__(X, 2)\n",
    "Y.data  "
   ]
  },
  {
   "cell_type": "code",
   "execution_count": 5,
   "id": "b4cee69c",
   "metadata": {},
   "outputs": [
    {
     "data": {
      "text/plain": [
       "4"
      ]
     },
     "execution_count": 5,
     "metadata": {},
     "output_type": "execute_result"
    }
   ],
   "source": [
    "class Indexer:\n",
    "        def __getitem__(self, index):\n",
    "            return index ** 2\n",
    "\n",
    "X = Indexer()\n",
    "X[2]      # X[i] calls X.__getitem__(i)"
   ]
  },
  {
   "cell_type": "code",
   "execution_count": 6,
   "id": "76b54d02",
   "metadata": {},
   "outputs": [
    {
     "name": "stdout",
     "output_type": "stream",
     "text": [
      "0 1 4 9 16 "
     ]
    }
   ],
   "source": [
    "for i in range(5):\n",
    "        print(X[i], end=' ')            # Runs __getitem__(X, i) each time"
   ]
  },
  {
   "cell_type": "code",
   "execution_count": 7,
   "id": "6994a631",
   "metadata": {},
   "outputs": [
    {
     "data": {
      "text/plain": [
       "[7, 8]"
      ]
     },
     "execution_count": 7,
     "metadata": {},
     "output_type": "execute_result"
    }
   ],
   "source": [
    "L = [5, 6, 7, 8, 9]\n",
    "L[2:4]                              # Slice with slice syntax: 2..(4-1)"
   ]
  },
  {
   "cell_type": "code",
   "execution_count": 9,
   "id": "b8cc607b",
   "metadata": {},
   "outputs": [
    {
     "data": {
      "text/plain": [
       "[5, 6, 7, 8, 9]"
      ]
     },
     "execution_count": 9,
     "metadata": {},
     "output_type": "execute_result"
    }
   ],
   "source": [
    "L[::1]"
   ]
  },
  {
   "cell_type": "code",
   "execution_count": 8,
   "id": "46fef080",
   "metadata": {},
   "outputs": [
    {
     "data": {
      "text/plain": [
       "[9, 8, 7, 6, 5]"
      ]
     },
     "execution_count": 8,
     "metadata": {},
     "output_type": "execute_result"
    }
   ],
   "source": [
    "L[::-1]"
   ]
  },
  {
   "cell_type": "code",
   "execution_count": 10,
   "id": "7e65c99a",
   "metadata": {},
   "outputs": [
    {
     "data": {
      "text/plain": [
       "[7, 8]"
      ]
     },
     "execution_count": 10,
     "metadata": {},
     "output_type": "execute_result"
    }
   ],
   "source": [
    "L[slice(2, 4)]                      # Slice with slice objects"
   ]
  },
  {
   "cell_type": "code",
   "execution_count": 11,
   "id": "d31872f4",
   "metadata": {},
   "outputs": [
    {
     "data": {
      "text/plain": [
       "[6, 7, 8, 9]"
      ]
     },
     "execution_count": 11,
     "metadata": {},
     "output_type": "execute_result"
    }
   ],
   "source": [
    "L[slice(1, None)]"
   ]
  },
  {
   "cell_type": "code",
   "execution_count": 13,
   "id": "a245fd45",
   "metadata": {},
   "outputs": [
    {
     "data": {
      "text/plain": [
       "[5, 7, 9]"
      ]
     },
     "execution_count": 13,
     "metadata": {},
     "output_type": "execute_result"
    }
   ],
   "source": [
    "L[slice(None, None, 2)]"
   ]
  },
  {
   "cell_type": "code",
   "execution_count": 23,
   "id": "3604c062",
   "metadata": {},
   "outputs": [
    {
     "data": {
      "text/plain": [
       "[5, 6, 7, 8]"
      ]
     },
     "execution_count": 23,
     "metadata": {},
     "output_type": "execute_result"
    }
   ],
   "source": [
    "L[slice(None, -1, None)]"
   ]
  },
  {
   "cell_type": "code",
   "execution_count": 17,
   "id": "003fcc39",
   "metadata": {},
   "outputs": [
    {
     "name": "stdout",
     "output_type": "stream",
     "text": [
      "getitem: 0\n"
     ]
    },
    {
     "data": {
      "text/plain": [
       "5"
      ]
     },
     "execution_count": 17,
     "metadata": {},
     "output_type": "execute_result"
    }
   ],
   "source": [
    "class Indexer:\n",
    "        data = [5, 6, 7, 8, 9]\n",
    "        def __getitem__(self, index):   # Called for index or slice\n",
    "            print('getitem:', index)\n",
    "            return self.data[index]     # Perform index or slice\n",
    "\n",
    "X = Indexer()\n",
    "X[0]                                # Indexing sends __getitem__ an integer"
   ]
  },
  {
   "cell_type": "code",
   "execution_count": 18,
   "id": "7347362f",
   "metadata": {},
   "outputs": [
    {
     "name": "stdout",
     "output_type": "stream",
     "text": [
      "getitem: 1\n"
     ]
    },
    {
     "data": {
      "text/plain": [
       "6"
      ]
     },
     "execution_count": 18,
     "metadata": {},
     "output_type": "execute_result"
    }
   ],
   "source": [
    "X[1]"
   ]
  },
  {
   "cell_type": "code",
   "execution_count": 19,
   "id": "b5a084ec",
   "metadata": {},
   "outputs": [
    {
     "name": "stdout",
     "output_type": "stream",
     "text": [
      "getitem: -1\n"
     ]
    },
    {
     "data": {
      "text/plain": [
       "9"
      ]
     },
     "execution_count": 19,
     "metadata": {},
     "output_type": "execute_result"
    }
   ],
   "source": [
    "X[-1]"
   ]
  },
  {
   "cell_type": "code",
   "execution_count": 20,
   "id": "8de4f526",
   "metadata": {},
   "outputs": [
    {
     "name": "stdout",
     "output_type": "stream",
     "text": [
      "getitem: slice(2, 4, None)\n"
     ]
    },
    {
     "data": {
      "text/plain": [
       "[7, 8]"
      ]
     },
     "execution_count": 20,
     "metadata": {},
     "output_type": "execute_result"
    }
   ],
   "source": [
    "X[2:4]                              # Slicing sends __getitem__ a slice object"
   ]
  },
  {
   "cell_type": "code",
   "execution_count": 21,
   "id": "4ceae91d",
   "metadata": {},
   "outputs": [
    {
     "name": "stdout",
     "output_type": "stream",
     "text": [
      "getitem: slice(1, None, None)\n"
     ]
    },
    {
     "data": {
      "text/plain": [
       "[6, 7, 8, 9]"
      ]
     },
     "execution_count": 21,
     "metadata": {},
     "output_type": "execute_result"
    }
   ],
   "source": [
    "X[1:]"
   ]
  },
  {
   "cell_type": "code",
   "execution_count": 22,
   "id": "218661d0",
   "metadata": {},
   "outputs": [
    {
     "name": "stdout",
     "output_type": "stream",
     "text": [
      "getitem: slice(None, -1, None)\n"
     ]
    },
    {
     "data": {
      "text/plain": [
       "[5, 6, 7, 8]"
      ]
     },
     "execution_count": 22,
     "metadata": {},
     "output_type": "execute_result"
    }
   ],
   "source": [
    "X[:-1]"
   ]
  },
  {
   "cell_type": "code",
   "execution_count": 24,
   "id": "5578f279",
   "metadata": {},
   "outputs": [
    {
     "name": "stdout",
     "output_type": "stream",
     "text": [
      "getitem: slice(None, None, 2)\n"
     ]
    },
    {
     "data": {
      "text/plain": [
       "[5, 7, 9]"
      ]
     },
     "execution_count": 24,
     "metadata": {},
     "output_type": "execute_result"
    }
   ],
   "source": [
    "X[::2]"
   ]
  },
  {
   "cell_type": "code",
   "execution_count": 25,
   "id": "035e2563",
   "metadata": {},
   "outputs": [
    {
     "name": "stdout",
     "output_type": "stream",
     "text": [
      "indexing 99\n"
     ]
    }
   ],
   "source": [
    "class Indexer:\n",
    "        def __getitem__(self, index):\n",
    "            if isinstance(index, int):               # Test usage mode\n",
    "                print('indexing', index)\n",
    "            else:\n",
    "                print('slicing', index.start, index.stop, index.step)\n",
    "\n",
    "X = Indexer()\n",
    "X[99]"
   ]
  },
  {
   "cell_type": "code",
   "execution_count": 26,
   "id": "4acec249",
   "metadata": {},
   "outputs": [
    {
     "name": "stdout",
     "output_type": "stream",
     "text": [
      "slicing 1 99 2\n"
     ]
    }
   ],
   "source": [
    "X[1:99:2]"
   ]
  },
  {
   "cell_type": "code",
   "execution_count": 27,
   "id": "12873100",
   "metadata": {},
   "outputs": [
    {
     "name": "stdout",
     "output_type": "stream",
     "text": [
      "slicing 1 None None\n"
     ]
    }
   ],
   "source": [
    "X[1:]"
   ]
  },
  {
   "cell_type": "code",
   "execution_count": 4,
   "id": "c12c9276",
   "metadata": {},
   "outputs": [
    {
     "data": {
      "text/plain": [
       "'p'"
      ]
     },
     "execution_count": 4,
     "metadata": {},
     "output_type": "execute_result"
    }
   ],
   "source": [
    "class StepperIndex:\n",
    "        def __getitem__(self, i):\n",
    "            return self.data[i]\n",
    "\n",
    "X = StepperIndex()                # X is a StepperIndex object\n",
    "X.data = \"Spam\"\n",
    "\n",
    "X[1]                              # Indexing calls __getitem__"
   ]
  },
  {
   "cell_type": "code",
   "execution_count": 5,
   "id": "061b8120",
   "metadata": {},
   "outputs": [
    {
     "name": "stdout",
     "output_type": "stream",
     "text": [
      "S p a m "
     ]
    }
   ],
   "source": [
    "for item in X:                    # for loops call __getitem__\n",
    "        print(item, end=' ')          # for indexes items 0..N"
   ]
  },
  {
   "cell_type": "code",
   "execution_count": 6,
   "id": "f2aa90f6",
   "metadata": {},
   "outputs": [
    {
     "data": {
      "text/plain": [
       "True"
      ]
     },
     "execution_count": 6,
     "metadata": {},
     "output_type": "execute_result"
    }
   ],
   "source": [
    "'p' in X                          # All call __getitem__ too"
   ]
  },
  {
   "cell_type": "code",
   "execution_count": 7,
   "id": "c3978df3",
   "metadata": {},
   "outputs": [
    {
     "data": {
      "text/plain": [
       "['S', 'p', 'a', 'm']"
      ]
     },
     "execution_count": 7,
     "metadata": {},
     "output_type": "execute_result"
    }
   ],
   "source": [
    "[c for c in X]                    # List comprehension"
   ]
  },
  {
   "cell_type": "code",
   "execution_count": 8,
   "id": "63750d17",
   "metadata": {},
   "outputs": [
    {
     "data": {
      "text/plain": [
       "['S', 'P', 'A', 'M']"
      ]
     },
     "execution_count": 8,
     "metadata": {},
     "output_type": "execute_result"
    }
   ],
   "source": [
    "list(map(str.upper, X))           # map calls (use list() in 3.X)"
   ]
  },
  {
   "cell_type": "code",
   "execution_count": 9,
   "id": "0ce9f009",
   "metadata": {},
   "outputs": [
    {
     "data": {
      "text/plain": [
       "('S', 'a', 'm')"
      ]
     },
     "execution_count": 9,
     "metadata": {},
     "output_type": "execute_result"
    }
   ],
   "source": [
    "(a, b, c, d) = X                  # Sequence assignments\n",
    "a, c, d"
   ]
  },
  {
   "cell_type": "code",
   "execution_count": 11,
   "id": "9fcdaff8",
   "metadata": {},
   "outputs": [
    {
     "data": {
      "text/plain": [
       "['S', 'p', 'a', 'm']"
      ]
     },
     "execution_count": 11,
     "metadata": {},
     "output_type": "execute_result"
    }
   ],
   "source": [
    "list(X)"
   ]
  },
  {
   "cell_type": "code",
   "execution_count": 10,
   "id": "e93e7532",
   "metadata": {},
   "outputs": [
    {
     "data": {
      "text/plain": [
       "(['S', 'p', 'a', 'm'], ('S', 'p', 'a', 'm'), 'Spam')"
      ]
     },
     "execution_count": 10,
     "metadata": {},
     "output_type": "execute_result"
    }
   ],
   "source": [
    "list(X), tuple(X), ''.join(X)     # And so on..."
   ]
  },
  {
   "cell_type": "code",
   "execution_count": 12,
   "id": "5f54b258",
   "metadata": {},
   "outputs": [
    {
     "data": {
      "text/plain": [
       "<__main__.StepperIndex at 0x2985cb606d0>"
      ]
     },
     "execution_count": 12,
     "metadata": {},
     "output_type": "execute_result"
    }
   ],
   "source": [
    "X"
   ]
  },
  {
   "cell_type": "code",
   "execution_count": 13,
   "id": "afa1ac8e",
   "metadata": {},
   "outputs": [
    {
     "name": "stdout",
     "output_type": "stream",
     "text": [
      "# File squares.py\n",
      "\n",
      "class Squares:\n",
      "    def __init__(self, start, stop):    # Save state when created\n",
      "        self.value = start - 1\n",
      "        self.stop  = stop\n",
      "    def __iter__(self):                 # Get iterator object on iter\n",
      "        return self\n",
      "    def __next__(self):                 # Return a square on each iteration\n",
      "        if self.value == self.stop:     # Also called by next built-in\n",
      "            raise StopIteration\n",
      "        self.value += 1\n",
      "        return self.value ** 2\n"
     ]
    }
   ],
   "source": [
    "!cat code/squares.py"
   ]
  },
  {
   "cell_type": "code",
   "execution_count": 15,
   "id": "142cc409",
   "metadata": {},
   "outputs": [
    {
     "name": "stdout",
     "output_type": "stream",
     "text": [
      "1 4 9 16 25 "
     ]
    }
   ],
   "source": [
    "from squares import Squares\n",
    "for i in Squares(1, 5):             # for calls iter, which calls __iter__\n",
    "    print(i, end=' ')               # Each iteration calls __next__\n"
   ]
  },
  {
   "cell_type": "code",
   "execution_count": 17,
   "id": "23fb99c5",
   "metadata": {},
   "outputs": [
    {
     "data": {
      "text/plain": [
       "[1, 4, 9, 16, 25]"
      ]
     },
     "execution_count": 17,
     "metadata": {},
     "output_type": "execute_result"
    }
   ],
   "source": [
    "list(Squares(1, 5))"
   ]
  },
  {
   "cell_type": "code",
   "execution_count": 18,
   "id": "52478fca",
   "metadata": {},
   "outputs": [
    {
     "data": {
      "text/plain": [
       "1"
      ]
     },
     "execution_count": 18,
     "metadata": {},
     "output_type": "execute_result"
    }
   ],
   "source": [
    "X = Squares(1, 5)                   # Iterate manually: what loops do\n",
    "I = iter(X)                         # iter calls __iter__\n",
    "next(I)                             # next calls __next__ (in 3.X)"
   ]
  },
  {
   "cell_type": "code",
   "execution_count": 19,
   "id": "74d7bf1b",
   "metadata": {},
   "outputs": [
    {
     "data": {
      "text/plain": [
       "[4, 9, 16, 25]"
      ]
     },
     "execution_count": 19,
     "metadata": {},
     "output_type": "execute_result"
    }
   ],
   "source": [
    "list(I)"
   ]
  },
  {
   "cell_type": "code",
   "execution_count": 20,
   "id": "78c24553",
   "metadata": {},
   "outputs": [
    {
     "ename": "StopIteration",
     "evalue": "",
     "output_type": "error",
     "traceback": [
      "\u001b[1;31m---------------------------------------------------------------------------\u001b[0m",
      "\u001b[1;31mStopIteration\u001b[0m                             Traceback (most recent call last)",
      "\u001b[1;32m~\\AppData\\Local\\Temp/ipykernel_23944/2009349043.py\u001b[0m in \u001b[0;36m<module>\u001b[1;34m\u001b[0m\n\u001b[1;32m----> 1\u001b[1;33m \u001b[0mnext\u001b[0m\u001b[1;33m(\u001b[0m\u001b[0mI\u001b[0m\u001b[1;33m)\u001b[0m                             \u001b[1;31m# Can catch this in try statement\u001b[0m\u001b[1;33m\u001b[0m\u001b[1;33m\u001b[0m\u001b[0m\n\u001b[0m",
      "\u001b[1;32mD:\\books\\python\\0. Learning Python\\code\\squares.py\u001b[0m in \u001b[0;36m__next__\u001b[1;34m(self)\u001b[0m\n\u001b[0;32m      9\u001b[0m     \u001b[1;32mdef\u001b[0m \u001b[0m__next__\u001b[0m\u001b[1;33m(\u001b[0m\u001b[0mself\u001b[0m\u001b[1;33m)\u001b[0m\u001b[1;33m:\u001b[0m                 \u001b[1;31m# Return a square on each iteration\u001b[0m\u001b[1;33m\u001b[0m\u001b[1;33m\u001b[0m\u001b[0m\n\u001b[0;32m     10\u001b[0m         \u001b[1;32mif\u001b[0m \u001b[0mself\u001b[0m\u001b[1;33m.\u001b[0m\u001b[0mvalue\u001b[0m \u001b[1;33m==\u001b[0m \u001b[0mself\u001b[0m\u001b[1;33m.\u001b[0m\u001b[0mstop\u001b[0m\u001b[1;33m:\u001b[0m     \u001b[1;31m# Also called by next built-in\u001b[0m\u001b[1;33m\u001b[0m\u001b[1;33m\u001b[0m\u001b[0m\n\u001b[1;32m---> 11\u001b[1;33m             \u001b[1;32mraise\u001b[0m \u001b[0mStopIteration\u001b[0m\u001b[1;33m\u001b[0m\u001b[1;33m\u001b[0m\u001b[0m\n\u001b[0m\u001b[0;32m     12\u001b[0m         \u001b[0mself\u001b[0m\u001b[1;33m.\u001b[0m\u001b[0mvalue\u001b[0m \u001b[1;33m+=\u001b[0m \u001b[1;36m1\u001b[0m\u001b[1;33m\u001b[0m\u001b[1;33m\u001b[0m\u001b[0m\n\u001b[0;32m     13\u001b[0m         \u001b[1;32mreturn\u001b[0m \u001b[0mself\u001b[0m\u001b[1;33m.\u001b[0m\u001b[0mvalue\u001b[0m \u001b[1;33m**\u001b[0m \u001b[1;36m2\u001b[0m\u001b[1;33m\u001b[0m\u001b[1;33m\u001b[0m\u001b[0m\n",
      "\u001b[1;31mStopIteration\u001b[0m: "
     ]
    }
   ],
   "source": [
    "next(I)                             # Can catch this in try statement"
   ]
  },
  {
   "cell_type": "code",
   "execution_count": 21,
   "id": "f9e0af58",
   "metadata": {},
   "outputs": [
    {
     "ename": "TypeError",
     "evalue": "'Squares' object is not subscriptable",
     "output_type": "error",
     "traceback": [
      "\u001b[1;31m---------------------------------------------------------------------------\u001b[0m",
      "\u001b[1;31mTypeError\u001b[0m                                 Traceback (most recent call last)",
      "\u001b[1;32m~\\AppData\\Local\\Temp/ipykernel_23944/2281099373.py\u001b[0m in \u001b[0;36m<module>\u001b[1;34m\u001b[0m\n\u001b[0;32m      1\u001b[0m \u001b[0mX\u001b[0m \u001b[1;33m=\u001b[0m \u001b[0mSquares\u001b[0m\u001b[1;33m(\u001b[0m\u001b[1;36m1\u001b[0m\u001b[1;33m,\u001b[0m \u001b[1;36m5\u001b[0m\u001b[1;33m)\u001b[0m\u001b[1;33m\u001b[0m\u001b[1;33m\u001b[0m\u001b[0m\n\u001b[1;32m----> 2\u001b[1;33m \u001b[0mX\u001b[0m\u001b[1;33m[\u001b[0m\u001b[1;36m1\u001b[0m\u001b[1;33m]\u001b[0m\u001b[1;33m\u001b[0m\u001b[1;33m\u001b[0m\u001b[0m\n\u001b[0m",
      "\u001b[1;31mTypeError\u001b[0m: 'Squares' object is not subscriptable"
     ]
    }
   ],
   "source": [
    "X = Squares(1, 5)\n",
    "X[1]"
   ]
  },
  {
   "cell_type": "code",
   "execution_count": 22,
   "id": "8599d586",
   "metadata": {},
   "outputs": [
    {
     "data": {
      "text/plain": [
       "[1, 4, 9, 16, 25]"
      ]
     },
     "execution_count": 22,
     "metadata": {},
     "output_type": "execute_result"
    }
   ],
   "source": [
    "list(X)"
   ]
  },
  {
   "cell_type": "code",
   "execution_count": 24,
   "id": "64b54327",
   "metadata": {},
   "outputs": [
    {
     "data": {
      "text/plain": [
       "[]"
      ]
     },
     "execution_count": 24,
     "metadata": {},
     "output_type": "execute_result"
    }
   ],
   "source": [
    "list(X)"
   ]
  },
  {
   "cell_type": "code",
   "execution_count": 25,
   "id": "34327146",
   "metadata": {},
   "outputs": [
    {
     "data": {
      "text/plain": [
       "[1, 4, 9, 16, 25]"
      ]
     },
     "execution_count": 25,
     "metadata": {},
     "output_type": "execute_result"
    }
   ],
   "source": [
    "X = Squares(1, 5)                   # Make an iterable with state\n",
    "[n for n in X]                      # Exhausts items: __iter__ returns self"
   ]
  },
  {
   "cell_type": "code",
   "execution_count": 26,
   "id": "6a0af5d0",
   "metadata": {},
   "outputs": [
    {
     "data": {
      "text/plain": [
       "[]"
      ]
     },
     "execution_count": 26,
     "metadata": {},
     "output_type": "execute_result"
    }
   ],
   "source": [
    "[n for n in X]                      # Now it's empty: __iter__ returns same self"
   ]
  },
  {
   "cell_type": "code",
   "execution_count": 27,
   "id": "99e128f5",
   "metadata": {},
   "outputs": [
    {
     "data": {
      "text/plain": [
       "[1, 4, 9, 16, 25]"
      ]
     },
     "execution_count": 27,
     "metadata": {},
     "output_type": "execute_result"
    }
   ],
   "source": [
    "[n for n in Squares(1, 5)]          # Make a new iterable object"
   ]
  },
  {
   "cell_type": "code",
   "execution_count": 28,
   "id": "ade1ce3d",
   "metadata": {},
   "outputs": [
    {
     "data": {
      "text/plain": [
       "[1, 4, 9]"
      ]
     },
     "execution_count": 28,
     "metadata": {},
     "output_type": "execute_result"
    }
   ],
   "source": [
    "list(Squares(1, 3))                 # A new object for each new __iter__ call"
   ]
  },
  {
   "cell_type": "code",
   "execution_count": 29,
   "id": "1de9e7b5",
   "metadata": {},
   "outputs": [
    {
     "data": {
      "text/plain": [
       "True"
      ]
     },
     "execution_count": 29,
     "metadata": {},
     "output_type": "execute_result"
    }
   ],
   "source": [
    "36 in Squares(1, 10)                # Other iteration contexts"
   ]
  },
  {
   "cell_type": "code",
   "execution_count": 30,
   "id": "db9daa30",
   "metadata": {},
   "outputs": [
    {
     "data": {
      "text/plain": [
       "(1, 4, 9)"
      ]
     },
     "execution_count": 30,
     "metadata": {},
     "output_type": "execute_result"
    }
   ],
   "source": [
    "a, b, c = Squares(1, 3)             # Each calls __iter__ and then __next__\n",
    "a, b, c"
   ]
  },
  {
   "cell_type": "code",
   "execution_count": 31,
   "id": "fb537446",
   "metadata": {},
   "outputs": [
    {
     "data": {
      "text/plain": [
       "(1, 4, 9)"
      ]
     },
     "execution_count": 31,
     "metadata": {},
     "output_type": "execute_result"
    }
   ],
   "source": [
    "a, b, c"
   ]
  },
  {
   "cell_type": "code",
   "execution_count": 32,
   "id": "831125ac",
   "metadata": {},
   "outputs": [
    {
     "data": {
      "text/plain": [
       "'1:4:9:16:25'"
      ]
     },
     "execution_count": 32,
     "metadata": {},
     "output_type": "execute_result"
    }
   ],
   "source": [
    "':'.join(map(str, Squares(1, 5)))"
   ]
  },
  {
   "cell_type": "code",
   "execution_count": 33,
   "id": "fb98b8bd",
   "metadata": {},
   "outputs": [
    {
     "data": {
      "text/plain": [
       "((1, 4, 9, 16, 25), ())"
      ]
     },
     "execution_count": 33,
     "metadata": {},
     "output_type": "execute_result"
    }
   ],
   "source": [
    "X = Squares(1, 5)\n",
    "tuple(X), tuple(X)                  # Iterator exhausted in second tuple()"
   ]
  },
  {
   "cell_type": "code",
   "execution_count": 34,
   "id": "85abf513",
   "metadata": {},
   "outputs": [
    {
     "data": {
      "text/plain": [
       "((1, 4, 9, 16, 25), (1, 4, 9, 16, 25))"
      ]
     },
     "execution_count": 34,
     "metadata": {},
     "output_type": "execute_result"
    }
   ],
   "source": [
    "X = list(Squares(1, 5))\n",
    "tuple(X), tuple(X)"
   ]
  },
  {
   "cell_type": "code",
   "execution_count": 35,
   "id": "c5727d3d",
   "metadata": {},
   "outputs": [
    {
     "name": "stdout",
     "output_type": "stream",
     "text": [
      "1 4 9 16 25 "
     ]
    }
   ],
   "source": [
    "def gsquares(start, stop):\n",
    "        for i in range(start, stop + 1):\n",
    "            yield i ** 2\n",
    "\n",
    "for i in gsquares(1, 5):\n",
    "        print(i, end=' ')"
   ]
  },
  {
   "cell_type": "code",
   "execution_count": 36,
   "id": "9d65e6e6",
   "metadata": {},
   "outputs": [
    {
     "name": "stdout",
     "output_type": "stream",
     "text": [
      "1 4 9 16 25 "
     ]
    }
   ],
   "source": [
    "for i in (x ** 2 for x in range(1, 6)):\n",
    "        print(i, end=' ')"
   ]
  },
  {
   "cell_type": "code",
   "execution_count": 37,
   "id": "91eb094f",
   "metadata": {},
   "outputs": [
    {
     "data": {
      "text/plain": [
       "[1, 4, 9, 16, 25]"
      ]
     },
     "execution_count": 37,
     "metadata": {},
     "output_type": "execute_result"
    }
   ],
   "source": [
    "[x ** 2 for x in range(1, 6)]"
   ]
  },
  {
   "cell_type": "code",
   "execution_count": 38,
   "id": "9b8e2c9f",
   "metadata": {},
   "outputs": [
    {
     "name": "stdout",
     "output_type": "stream",
     "text": [
      "aa ac ae ca cc ce ea ec ee "
     ]
    }
   ],
   "source": [
    "S = 'ace'\n",
    "for x in S:\n",
    "        for y in S:\n",
    "            print(x + y, end=' ')"
   ]
  },
  {
   "cell_type": "code",
   "execution_count": 7,
   "id": "a69bf1db",
   "metadata": {},
   "outputs": [
    {
     "name": "stdout",
     "output_type": "stream",
     "text": [
      "#!python3\n",
      "# File skipper.py\n",
      "\n",
      "class SkipObject:\n",
      "    def __init__(self, wrapped):                  # Save item to be used\n",
      "        self.wrapped = wrapped\n",
      "    def __iter__(self):\n",
      "        return SkipIterator(self.wrapped)         # New iterator each time\n",
      "\n",
      "class SkipIterator:\n",
      "    def __init__(self, wrapped):\n",
      "        self.wrapped = wrapped                    # Iterator state information\n",
      "        self.offset  = 0\n",
      "    def __next__(self):\n",
      "        if self.offset >= len(self.wrapped):      # Terminate iterations\n",
      "            raise StopIteration\n",
      "        else:\n",
      "            item = self.wrapped[self.offset]      # else return and skip\n",
      "            self.offset += 2\n",
      "            return item\n",
      "\n",
      "if __name__ == '__main__':\n",
      "    alpha = 'abcdef'\n",
      "    skipper = SkipObject(alpha)                   # Make container object\n",
      "    I = iter(skipper)                             # Make an iterator on it\n",
      "    print(next(I), next(I), next(I))              # Visit offsets 0, 2, 4\n",
      "\n",
      "    for x in skipper:               # for calls __iter__ automatically\n",
      "        for y in skipper:           # Nested fors call __iter__ again each time\n",
      "            print(x + y, end=' ')   # Each iterator has its own state, offset\n"
     ]
    }
   ],
   "source": [
    "!cat code/skipper.py"
   ]
  },
  {
   "cell_type": "code",
   "execution_count": 8,
   "id": "92b5556c",
   "metadata": {},
   "outputs": [
    {
     "name": "stdout",
     "output_type": "stream",
     "text": [
      "a c e\n",
      "aa ac ae ca cc ce ea ec ee \n"
     ]
    }
   ],
   "source": [
    "!python code/skipper.py"
   ]
  },
  {
   "cell_type": "code",
   "execution_count": 41,
   "id": "3baff4e1",
   "metadata": {},
   "outputs": [
    {
     "name": "stdout",
     "output_type": "stream",
     "text": [
      "aa ac ae ca cc ce ea ec ee "
     ]
    }
   ],
   "source": [
    "S = 'abcdef'\n",
    "for x in S[::2]:  # a c e\n",
    "        for y in S[::2]:            # New objects on each iteration # a c e\n",
    "            print(x + y, end=' ')"
   ]
  },
  {
   "cell_type": "code",
   "execution_count": 42,
   "id": "ce4aca96",
   "metadata": {},
   "outputs": [
    {
     "data": {
      "text/plain": [
       "'ace'"
      ]
     },
     "execution_count": 42,
     "metadata": {},
     "output_type": "execute_result"
    }
   ],
   "source": [
    "S = 'abcdef'\n",
    "S = S[::2]\n",
    "S"
   ]
  },
  {
   "cell_type": "code",
   "execution_count": 43,
   "id": "340463c6",
   "metadata": {},
   "outputs": [
    {
     "name": "stdout",
     "output_type": "stream",
     "text": [
      "aa ac ae ca cc ce ea ec ee "
     ]
    }
   ],
   "source": [
    "for x in S:\n",
    "        for y in S:                 # Same object, new iterators\n",
    "            print(x + y, end=' ')"
   ]
  },
  {
   "cell_type": "code",
   "execution_count": 44,
   "id": "5b84ae7b",
   "metadata": {},
   "outputs": [
    {
     "data": {
      "text/plain": [
       "True"
      ]
     },
     "execution_count": 44,
     "metadata": {},
     "output_type": "execute_result"
    }
   ],
   "source": [
    "def gen(x):\n",
    "       for i in range(x): yield i ** 2\n",
    "\n",
    "G = gen(5)               # Create a generator with __iter__ and __next__\n",
    "G.__iter__() == G        # Both methods exist on the same object"
   ]
  },
  {
   "cell_type": "code",
   "execution_count": 45,
   "id": "0870b448",
   "metadata": {},
   "outputs": [
    {
     "data": {
      "text/plain": [
       "(0, 1)"
      ]
     },
     "execution_count": 45,
     "metadata": {},
     "output_type": "execute_result"
    }
   ],
   "source": [
    "I = iter(G)              # Runs __iter__: generator returns itself\n",
    "next(I), next(I)         # Runs __next__ (next in 2.X)"
   ]
  },
  {
   "cell_type": "code",
   "execution_count": 47,
   "id": "ad6498eb",
   "metadata": {},
   "outputs": [
    {
     "data": {
      "text/plain": [
       "[4, 9, 16]"
      ]
     },
     "execution_count": 47,
     "metadata": {},
     "output_type": "execute_result"
    }
   ],
   "source": [
    "list(I)"
   ]
  },
  {
   "cell_type": "code",
   "execution_count": 46,
   "id": "04fc7b40",
   "metadata": {},
   "outputs": [
    {
     "data": {
      "text/plain": [
       "[0, 1, 4, 9, 16]"
      ]
     },
     "execution_count": 46,
     "metadata": {},
     "output_type": "execute_result"
    }
   ],
   "source": [
    "list(gen(5))             # Iteration contexts automatically run iter and next"
   ]
  },
  {
   "cell_type": "code",
   "execution_count": 48,
   "id": "4f563dda",
   "metadata": {},
   "outputs": [
    {
     "name": "stdout",
     "output_type": "stream",
     "text": [
      "# File squares_yield.py\n",
      "\n",
      "class Squares:                                   # __iter__ + yield generator\n",
      "    def __init__(self, start, stop):             # __next__ is automatic/implied\n",
      "        self.start = start\n",
      "        self.stop  = stop\n",
      "    def __iter__(self):\n",
      "        for value in range(self.start, self.stop + 1):\n",
      "            yield value ** 2\n"
     ]
    }
   ],
   "source": [
    "!cat code/squares_yield.py"
   ]
  },
  {
   "cell_type": "code",
   "execution_count": 25,
   "id": "66ec99a5",
   "metadata": {},
   "outputs": [
    {
     "name": "stdout",
     "output_type": "stream",
     "text": [
      "1 4 9 16 25 "
     ]
    }
   ],
   "source": [
    "from squares_yield import Squares\n",
    "for i in Squares(1, 5): print(i, end=' ')"
   ]
  },
  {
   "cell_type": "code",
   "execution_count": 26,
   "id": "6e85bb65",
   "metadata": {},
   "outputs": [
    {
     "name": "stdout",
     "output_type": "stream",
     "text": [
      "1:1 1:4 1:9 4:1 4:4 4:9 9:1 9:4 9:9 "
     ]
    }
   ],
   "source": [
    "S = Squares(1, 3)\n",
    "for i in S:                         # Each for calls __iter__\n",
    "        for j in S:\n",
    "            print('%s:%s' % (i, j), end=' ')"
   ]
  },
  {
   "cell_type": "code",
   "execution_count": 52,
   "id": "d2d5884c",
   "metadata": {},
   "outputs": [
    {
     "name": "stdout",
     "output_type": "stream",
     "text": [
      "class Squares:                                   # manual generator function calls\n",
      "    def __init__(self, start, stop):             # __next__ is automatic/implied\n",
      "        self.start = start\n",
      "        self.stop  = stop\n",
      "    def gen(self):\n",
      "        for value in range(self.start, self.stop + 1):\n",
      "            yield value ** 2\n"
     ]
    }
   ],
   "source": [
    "!cat code/squares_manual.py"
   ]
  },
  {
   "cell_type": "code",
   "execution_count": 4,
   "id": "4dcef8a5",
   "metadata": {},
   "outputs": [
    {
     "name": "stdout",
     "output_type": "stream",
     "text": [
      "1 4 9 16 25 "
     ]
    }
   ],
   "source": [
    "from squares_manual import Squares\n",
    "for i in Squares(1, 5).gen(): print(i, end=' ')"
   ]
  },
  {
   "cell_type": "code",
   "execution_count": 5,
   "id": "0271017b",
   "metadata": {},
   "outputs": [
    {
     "data": {
      "text/plain": [
       "1"
      ]
     },
     "execution_count": 5,
     "metadata": {},
     "output_type": "execute_result"
    }
   ],
   "source": [
    "S = Squares(1, 5)\n",
    "I = iter(S.gen())          # Call generator manually for iterable/iterator\n",
    "next(I)"
   ]
  },
  {
   "cell_type": "code",
   "execution_count": 6,
   "id": "006dc3ef",
   "metadata": {},
   "outputs": [
    {
     "data": {
      "text/plain": [
       "4"
      ]
     },
     "execution_count": 6,
     "metadata": {},
     "output_type": "execute_result"
    }
   ],
   "source": [
    "next(I)"
   ]
  },
  {
   "cell_type": "code",
   "execution_count": 7,
   "id": "4d5fd104",
   "metadata": {},
   "outputs": [
    {
     "data": {
      "text/plain": [
       "(9, 16, 25)"
      ]
     },
     "execution_count": 7,
     "metadata": {},
     "output_type": "execute_result"
    }
   ],
   "source": [
    "next(I), next(I), next(I)"
   ]
  },
  {
   "cell_type": "code",
   "execution_count": 8,
   "id": "400fee41",
   "metadata": {},
   "outputs": [
    {
     "ename": "StopIteration",
     "evalue": "",
     "output_type": "error",
     "traceback": [
      "\u001b[1;31m---------------------------------------------------------------------------\u001b[0m",
      "\u001b[1;31mStopIteration\u001b[0m                             Traceback (most recent call last)",
      "\u001b[1;32m~\\AppData\\Local\\Temp/ipykernel_20548/1643842136.py\u001b[0m in \u001b[0;36m<module>\u001b[1;34m\u001b[0m\n\u001b[1;32m----> 1\u001b[1;33m \u001b[0mnext\u001b[0m\u001b[1;33m(\u001b[0m\u001b[0mI\u001b[0m\u001b[1;33m)\u001b[0m\u001b[1;33m\u001b[0m\u001b[1;33m\u001b[0m\u001b[0m\n\u001b[0m",
      "\u001b[1;31mStopIteration\u001b[0m: "
     ]
    }
   ],
   "source": [
    "next(I)"
   ]
  },
  {
   "cell_type": "code",
   "execution_count": 18,
   "id": "5cb48ee5",
   "metadata": {},
   "outputs": [
    {
     "name": "stdout",
     "output_type": "stream",
     "text": [
      "# File squares_nonyield.py\n",
      "\n",
      "class Squares:\n",
      "    def __init__(self, start, stop):                 # Non-yield generator \n",
      "        self.start = start                           # Multi scans: extra object\n",
      "        self.stop  = stop\n",
      "    def __iter__(self):\n",
      "        return SquaresIter(self.start, self.stop)\n",
      "\n",
      "class SquaresIter:\n",
      "    def __init__(self, start, stop):\n",
      "        self.value = start - 1\n",
      "        self.stop  = stop\n",
      "    def __next__(self):\n",
      "        if self.value == self.stop:\n",
      "            raise StopIteration\n",
      "        self.value += 1\n",
      "        return self.value ** 2\n"
     ]
    }
   ],
   "source": [
    "!cat code/squares_nonyield.py"
   ]
  },
  {
   "cell_type": "code",
   "execution_count": 20,
   "id": "ceef0b99",
   "metadata": {},
   "outputs": [
    {
     "name": "stdout",
     "output_type": "stream",
     "text": [
      "1 4 9 16 25 "
     ]
    }
   ],
   "source": [
    "from squares_nonyield import Squares\n",
    "for i in Squares(1, 5): print(i, end=' ')"
   ]
  },
  {
   "cell_type": "code",
   "execution_count": 21,
   "id": "6ed8d7d9",
   "metadata": {},
   "outputs": [
    {
     "data": {
      "text/plain": [
       "4"
      ]
     },
     "execution_count": 21,
     "metadata": {},
     "output_type": "execute_result"
    }
   ],
   "source": [
    "S = Squares(1, 5)\n",
    "I = iter(S)\n",
    "next(I); next(I)"
   ]
  },
  {
   "cell_type": "code",
   "execution_count": 22,
   "id": "c54926d1",
   "metadata": {},
   "outputs": [
    {
     "data": {
      "text/plain": [
       "1"
      ]
     },
     "execution_count": 22,
     "metadata": {},
     "output_type": "execute_result"
    }
   ],
   "source": [
    "J = iter(S)                         # Multiple iterators without yield\n",
    "next(J)"
   ]
  },
  {
   "cell_type": "code",
   "execution_count": 23,
   "id": "4d073dbd",
   "metadata": {},
   "outputs": [
    {
     "data": {
      "text/plain": [
       "9"
      ]
     },
     "execution_count": 23,
     "metadata": {},
     "output_type": "execute_result"
    }
   ],
   "source": [
    "next(I)"
   ]
  },
  {
   "cell_type": "code",
   "execution_count": 24,
   "id": "0d6a6e5d",
   "metadata": {},
   "outputs": [
    {
     "name": "stdout",
     "output_type": "stream",
     "text": [
      "1:1 1:4 1:9 4:1 4:4 4:9 9:1 9:4 9:9 "
     ]
    }
   ],
   "source": [
    "S = Squares(1, 3)\n",
    "for i in S:                         # Each for calls __iter__\n",
    "    for j in S:\n",
    "        print('%s:%s' % (i, j), end=' ')"
   ]
  },
  {
   "cell_type": "code",
   "execution_count": 27,
   "id": "be15fc1d",
   "metadata": {},
   "outputs": [
    {
     "name": "stdout",
     "output_type": "stream",
     "text": [
      "# File skipper_yield.py\n",
      "\n",
      "class SkipObject:                           # Another __iter__ + yield generator\n",
      "    def __init__(self, wrapped):            # Instance scope retained normally \n",
      "        self.wrapped = wrapped              # Local scope state saved auto\n",
      "    def __iter__(self):\n",
      "        offset = 0\n",
      "        while offset < len(self.wrapped):\n",
      "            item = self.wrapped[offset]\n",
      "            offset += 2\n",
      "            yield item\n"
     ]
    }
   ],
   "source": [
    "!cat code/skipper_yield.py"
   ]
  },
  {
   "cell_type": "code",
   "execution_count": 28,
   "id": "78655789",
   "metadata": {},
   "outputs": [
    {
     "data": {
      "text/plain": [
       "('a', 'c', 'e')"
      ]
     },
     "execution_count": 28,
     "metadata": {},
     "output_type": "execute_result"
    }
   ],
   "source": [
    "from skipper_yield import SkipObject\n",
    "skipper = SkipObject('abcdef')\n",
    "I = iter(skipper)\n",
    "next(I), next(I), next(I)"
   ]
  },
  {
   "cell_type": "code",
   "execution_count": 29,
   "id": "8fd1ce6a",
   "metadata": {},
   "outputs": [
    {
     "name": "stdout",
     "output_type": "stream",
     "text": [
      "aa ac ae ca cc ce ea ec ee "
     ]
    }
   ],
   "source": [
    "for x in skipper:                 # Each for calls __iter__: new auto generator\n",
    "        for y in skipper:\n",
    "            print(x + y, end=' ')"
   ]
  },
  {
   "cell_type": "code",
   "execution_count": 30,
   "id": "ad95b23e",
   "metadata": {},
   "outputs": [
    {
     "name": "stdout",
     "output_type": "stream",
     "text": [
      "# File contains.py\n",
      "from __future__ import print_function         # 2.X/3.X compatibility\n",
      "\n",
      "class Iters:\n",
      "    def __init__(self, value):\n",
      "        self.data = value\n",
      "    def __getitem__(self, i):                 # Fallback for iteration\n",
      "        print('get[%s]:' % i, end='')         # Also for index, slice\n",
      "        return self.data[i]\n",
      "    def __iter__(self):                       # Preferred for iteration\n",
      "        print('iter=> ', end='')              # Allows only 1 active iterator\n",
      "        self.ix = 0\n",
      "        return self\n",
      "    def __next__(self):\n",
      "        print('next:', end='')\n",
      "        if self.ix == len(self.data): raise StopIteration\n",
      "        item = self.data[self.ix]\n",
      "        self.ix += 1\n",
      "        return item\n",
      "    def __contains__(self, x):                # Preferred for 'in'\n",
      "        print('contains: ', end='')\n",
      "        return x in self.data\n",
      "    next = __next__                           # 2.X/3.X compatibility\n",
      "\n",
      "if __name__ == '__main__':\n",
      "    X = Iters([1, 2, 3, 4, 5])        # Make instance\n",
      "    print(3 in X)                     # Membership \n",
      "    for i in X:                       # for loops\n",
      "        print(i, end=' | ')\n",
      "\n",
      "    print()\n",
      "    print([i ** 2 for i in X])        # Other iteration contexts\n",
      "    print( list(map(bin, X)) )\n",
      "\n",
      "    I = iter(X)                       # Manual iteration (what other contexts do)\n",
      "    while True:\n",
      "        try:\n",
      "            print(next(I), end=' @ ')\n",
      "        except StopIteration:\n",
      "            break\n"
     ]
    }
   ],
   "source": [
    "!cat code/contains.py"
   ]
  },
  {
   "cell_type": "code",
   "execution_count": 31,
   "id": "481799d1",
   "metadata": {},
   "outputs": [
    {
     "name": "stdout",
     "output_type": "stream",
     "text": [
      "contains: True\n",
      "iter=> next:1 | next:2 | next:3 | next:4 | next:5 | next:\n",
      "iter=> next:next:next:next:next:next:[1, 4, 9, 16, 25]\n",
      "iter=> next:next:next:next:next:next:['0b1', '0b10', '0b11', '0b100', '0b101']\n",
      "iter=> next:1 @ next:2 @ next:3 @ next:4 @ next:5 @ next:\n"
     ]
    }
   ],
   "source": [
    "!python code/contains.py"
   ]
  },
  {
   "cell_type": "code",
   "execution_count": 5,
   "id": "36ac4d3b",
   "metadata": {},
   "outputs": [
    {
     "name": "stdout",
     "output_type": "stream",
     "text": [
      "# File contains_yield.py\n",
      "from __future__ import print_function         # 2.X/3.X compatibility\n",
      "\n",
      "class Iters:\n",
      "    def __init__(self, value):\n",
      "        self.data = value\n",
      "    def __getitem__(self, i):                 # Fallback for iteration\n",
      "        print('get[%s]:' % i, end='')         # Also for index, slice\n",
      "        return self.data[i]\n",
      "    def __iter__(self):                       # Preferred for iteration\n",
      "        print('iter=> next:', end='')         # Allows multiple active iterators\n",
      "        for x in self.data:                   # no __next__ to alias to next\n",
      "            yield x\n",
      "            print('next:', end='')\n",
      "    def __contains__(self, x):                # Preferred for 'in'\n",
      "        print('contains: ', end='')\n",
      "        return x in self.data\n",
      "\n",
      "if __name__ == '__main__':\n",
      "    X = Iters([1, 2, 3, 4, 5])        # Make instance\n",
      "    print(3 in X)                     # Membership \n",
      "    for i in X:                       # for loops\n",
      "        print(i, end=' | ')\n",
      "\n",
      "    print()\n",
      "    print([i ** 2 for i in X])        # Other iteration contexts\n",
      "    print( list(map(bin, X)) )\n",
      "\n",
      "    I = iter(X)                       # Manual iteration (what other contexts do)\n",
      "    while True:\n",
      "        try:\n",
      "            print(next(I), end=' @ ')\n",
      "        except StopIteration:\n",
      "            break\n"
     ]
    }
   ],
   "source": [
    "!cat code/contains_yield.py"
   ]
  },
  {
   "cell_type": "code",
   "execution_count": 6,
   "id": "0a417f6c",
   "metadata": {},
   "outputs": [
    {
     "name": "stdout",
     "output_type": "stream",
     "text": [
      "contains: True\n",
      "iter=> next:1 | next:2 | next:3 | next:4 | next:5 | next:\n",
      "iter=> next:next:next:next:next:next:[1, 4, 9, 16, 25]\n",
      "iter=> next:next:next:next:next:next:['0b1', '0b10', '0b11', '0b100', '0b101']\n",
      "iter=> next:1 @ next:2 @ next:3 @ next:4 @ next:5 @ next:\n"
     ]
    }
   ],
   "source": [
    "!python code/contains_yield.py"
   ]
  },
  {
   "cell_type": "code",
   "execution_count": 7,
   "id": "3d297635",
   "metadata": {},
   "outputs": [
    {
     "name": "stdout",
     "output_type": "stream",
     "text": [
      "get[0]:"
     ]
    },
    {
     "data": {
      "text/plain": [
       "'s'"
      ]
     },
     "execution_count": 7,
     "metadata": {},
     "output_type": "execute_result"
    }
   ],
   "source": [
    "from contains import Iters\n",
    "X = Iters('spam')               # Indexing\n",
    "X[0]                            # __getitem__(0)"
   ]
  },
  {
   "cell_type": "code",
   "execution_count": 8,
   "id": "50f75118",
   "metadata": {},
   "outputs": [
    {
     "data": {
      "text/plain": [
       "'pam'"
      ]
     },
     "execution_count": 8,
     "metadata": {},
     "output_type": "execute_result"
    }
   ],
   "source": [
    "'spam'[1:]                      # Slice syntax"
   ]
  },
  {
   "cell_type": "code",
   "execution_count": 9,
   "id": "496c8482",
   "metadata": {},
   "outputs": [
    {
     "data": {
      "text/plain": [
       "'pam'"
      ]
     },
     "execution_count": 9,
     "metadata": {},
     "output_type": "execute_result"
    }
   ],
   "source": [
    "'spam'[slice(1, None)]          # Slice object"
   ]
  },
  {
   "cell_type": "code",
   "execution_count": 10,
   "id": "aecdbab2",
   "metadata": {},
   "outputs": [
    {
     "name": "stdout",
     "output_type": "stream",
     "text": [
      "get[slice(1, None, None)]:"
     ]
    },
    {
     "data": {
      "text/plain": [
       "'pam'"
      ]
     },
     "execution_count": 10,
     "metadata": {},
     "output_type": "execute_result"
    }
   ],
   "source": [
    "X[1:]                           # __getitem__(slice(..))"
   ]
  },
  {
   "cell_type": "code",
   "execution_count": 11,
   "id": "8c1adfb1",
   "metadata": {},
   "outputs": [
    {
     "name": "stdout",
     "output_type": "stream",
     "text": [
      "get[slice(None, -1, None)]:"
     ]
    },
    {
     "data": {
      "text/plain": [
       "'spa'"
      ]
     },
     "execution_count": 11,
     "metadata": {},
     "output_type": "execute_result"
    }
   ],
   "source": [
    "X[:-1]"
   ]
  },
  {
   "cell_type": "code",
   "execution_count": 12,
   "id": "b5c130ee",
   "metadata": {},
   "outputs": [
    {
     "name": "stdout",
     "output_type": "stream",
     "text": [
      "iter=> next:next:next:next:next:"
     ]
    },
    {
     "data": {
      "text/plain": [
       "['s', 'p', 'a', 'm']"
      ]
     },
     "execution_count": 12,
     "metadata": {},
     "output_type": "execute_result"
    }
   ],
   "source": [
    "list(X)                         # And iteration too!"
   ]
  },
  {
   "cell_type": "code",
   "execution_count": 13,
   "id": "32311ada",
   "metadata": {},
   "outputs": [
    {
     "data": {
      "text/plain": [
       "50"
      ]
     },
     "execution_count": 13,
     "metadata": {},
     "output_type": "execute_result"
    }
   ],
   "source": [
    "class Accesscontrol:\n",
    "        def __setattr__(self, attr, value):\n",
    "            if attr == 'age':\n",
    "                self.__dict__[attr] = value + 10      # Not self.name=val or setattr\n",
    "            else:\n",
    "                raise AttributeError(attr + ' not allowed')\n",
    "\n",
    "X = Accesscontrol()\n",
    "X.age = 40                                        # Calls __setattr__\n",
    "X.age"
   ]
  },
  {
   "cell_type": "code",
   "execution_count": 14,
   "id": "4319de54",
   "metadata": {},
   "outputs": [
    {
     "ename": "AttributeError",
     "evalue": "name not allowed",
     "output_type": "error",
     "traceback": [
      "\u001b[1;31m---------------------------------------------------------------------------\u001b[0m",
      "\u001b[1;31mAttributeError\u001b[0m                            Traceback (most recent call last)",
      "\u001b[1;32m~\\AppData\\Local\\Temp/ipykernel_7008/3121279009.py\u001b[0m in \u001b[0;36m<module>\u001b[1;34m\u001b[0m\n\u001b[1;32m----> 1\u001b[1;33m \u001b[0mX\u001b[0m\u001b[1;33m.\u001b[0m\u001b[0mname\u001b[0m \u001b[1;33m=\u001b[0m \u001b[1;34m'Bob'\u001b[0m\u001b[1;33m\u001b[0m\u001b[1;33m\u001b[0m\u001b[0m\n\u001b[0m",
      "\u001b[1;32m~\\AppData\\Local\\Temp/ipykernel_7008/3098499378.py\u001b[0m in \u001b[0;36m__setattr__\u001b[1;34m(self, attr, value)\u001b[0m\n\u001b[0;32m      4\u001b[0m                 \u001b[0mself\u001b[0m\u001b[1;33m.\u001b[0m\u001b[0m__dict__\u001b[0m\u001b[1;33m[\u001b[0m\u001b[0mattr\u001b[0m\u001b[1;33m]\u001b[0m \u001b[1;33m=\u001b[0m \u001b[0mvalue\u001b[0m \u001b[1;33m+\u001b[0m \u001b[1;36m10\u001b[0m      \u001b[1;31m# Not self.name=val or setattr\u001b[0m\u001b[1;33m\u001b[0m\u001b[1;33m\u001b[0m\u001b[0m\n\u001b[0;32m      5\u001b[0m             \u001b[1;32melse\u001b[0m\u001b[1;33m:\u001b[0m\u001b[1;33m\u001b[0m\u001b[1;33m\u001b[0m\u001b[0m\n\u001b[1;32m----> 6\u001b[1;33m                 \u001b[1;32mraise\u001b[0m \u001b[0mAttributeError\u001b[0m\u001b[1;33m(\u001b[0m\u001b[0mattr\u001b[0m \u001b[1;33m+\u001b[0m \u001b[1;34m' not allowed'\u001b[0m\u001b[1;33m)\u001b[0m\u001b[1;33m\u001b[0m\u001b[1;33m\u001b[0m\u001b[0m\n\u001b[0m\u001b[0;32m      7\u001b[0m \u001b[1;33m\u001b[0m\u001b[0m\n\u001b[0;32m      8\u001b[0m \u001b[0mX\u001b[0m \u001b[1;33m=\u001b[0m \u001b[0mAccesscontrol\u001b[0m\u001b[1;33m(\u001b[0m\u001b[1;33m)\u001b[0m\u001b[1;33m\u001b[0m\u001b[1;33m\u001b[0m\u001b[0m\n",
      "\u001b[1;31mAttributeError\u001b[0m: name not allowed"
     ]
    }
   ],
   "source": [
    "X.name = 'Bob'"
   ]
  },
  {
   "cell_type": "code",
   "execution_count": 15,
   "id": "da0febd5",
   "metadata": {},
   "outputs": [
    {
     "name": "stdout",
     "output_type": "stream",
     "text": [
      "class PrivateExc(Exception): pass                   # More on exceptions in Part VII\n",
      "\n",
      "class Privacy:\n",
      "    def __setattr__(self, attrname, value):         # On self.attrname = value\n",
      "        if attrname in self.privates:\n",
      "            raise PrivateExc(attrname, self)        # Make, raise user-define except\n",
      "        else:\n",
      "            self.__dict__[attrname] = value         # Avoid loops by using dict key\n",
      "\n",
      "class Test1(Privacy):\n",
      "    privates = ['age']\n",
      "\n",
      "class Test2(Privacy):\n",
      "    privates = ['name', 'pay']\n",
      "    def __init__(self):\n",
      "        self.__dict__['name'] = 'Tom'               # To do better, see Chapter 39!\n",
      "\n",
      "if __name__ == '__main__':\n",
      "    x = Test1()\n",
      "    y = Test2()\n",
      "\n",
      "    x.name = 'Bob'      # Works\n",
      "   #y.name = 'Sue'      # Fails\n",
      "    print(x.name)\n",
      "\n",
      "    y.age  = 30         # Works\n",
      "   #x.age  = 40         # Fails\n",
      "    print(y.age)\n",
      "\n"
     ]
    }
   ],
   "source": [
    "!cat code/private0.py"
   ]
  },
  {
   "cell_type": "code",
   "execution_count": 16,
   "id": "1b3ed81a",
   "metadata": {},
   "outputs": [
    {
     "name": "stdout",
     "output_type": "stream",
     "text": [
      "Bob\n",
      "30\n"
     ]
    }
   ],
   "source": [
    "!python code/private0.py"
   ]
  },
  {
   "cell_type": "code",
   "execution_count": 17,
   "id": "e1d77e11",
   "metadata": {},
   "outputs": [
    {
     "name": "stdout",
     "output_type": "stream",
     "text": [
      "2\n",
      "3\n"
     ]
    }
   ],
   "source": [
    "class Printer:\n",
    "        def __init__(self, val):\n",
    "            self.val = val\n",
    "        def __repr__(self):                 # __repr__ used by print if no __str__\n",
    "            return str(self.val)            # __repr__ used if echoed or nested\n",
    "\n",
    "objs = [Printer(2), Printer(3)]\n",
    "for x in objs: print(x)                 # No __str__: runs __repr__"
   ]
  },
  {
   "cell_type": "code",
   "execution_count": 18,
   "id": "1e1e48b0",
   "metadata": {},
   "outputs": [
    {
     "name": "stdout",
     "output_type": "stream",
     "text": [
      "[2, 3]\n"
     ]
    }
   ],
   "source": [
    "print(objs)                             # Runs __repr__, not __str__"
   ]
  },
  {
   "cell_type": "code",
   "execution_count": 19,
   "id": "6891c734",
   "metadata": {},
   "outputs": [
    {
     "data": {
      "text/plain": [
       "[2, 3]"
      ]
     },
     "execution_count": 19,
     "metadata": {},
     "output_type": "execute_result"
    }
   ],
   "source": [
    "objs"
   ]
  },
  {
   "cell_type": "code",
   "execution_count": 20,
   "id": "878eef18",
   "metadata": {},
   "outputs": [
    {
     "name": "stdout",
     "output_type": "stream",
     "text": [
      "#!python\n",
      "from __future__ import print_function           # 2.X/3.X compatibility\n",
      "\n",
      "class Commuter1:\n",
      "    def __init__(self, val):\n",
      "        self.val = val\n",
      "    def __add__(self, other):\n",
      "        print('add', self.val, other)\n",
      "        return self.val + other\n",
      "    def __radd__(self, other):\n",
      "        print('radd', self.val, other)\n",
      "        return other + self.val\n",
      "\n",
      "class Commuter2:\n",
      "    def __init__(self, val):\n",
      "        self.val = val\n",
      "    def __add__(self, other):\n",
      "        print('add', self.val, other)\n",
      "        return self.val + other\n",
      "    def __radd__(self, other):\n",
      "        return self.__add__(other)              # Call __add__ explicitly\n",
      "\n",
      "class Commuter3:\n",
      "    def __init__(self, val):\n",
      "        self.val = val\n",
      "    def __add__(self, other):\n",
      "        print('add', self.val, other)\n",
      "        return self.val + other\n",
      "    def __radd__(self, other):\n",
      "        return self + other                     # Swap order and readd \n",
      "\n",
      "class Commuter4:\n",
      "    def __init__(self, val):\n",
      "        self.val = val\n",
      "    def __add__(self, other):\n",
      "        print('add', self.val, other)\n",
      "        return self.val + other\n",
      "    __radd__ = __add__                          # Alias: cut out the middleman\n",
      "\n",
      "class Commuter5:                                # Propagate class type in results\n",
      "    def __init__(self, val):\n",
      "        self.val = val\n",
      "    def __add__(self, other):\n",
      "        if isinstance(other, Commuter5):        # Type test to avoid object nesting\n",
      "            other = other.val\n",
      "        return Commuter5(self.val + other)      # Else + result is another Commuter\n",
      "    def __radd__(self, other):\n",
      "        return Commuter5(other + self.val)\n",
      "    def __str__(self):\n",
      "        return '<Commuter5: %s>' % self.val\n",
      "\n",
      "\n",
      "if __name__ == '__main__':\n",
      "    for klass in (Commuter1, Commuter2, Commuter3, Commuter4, Commuter5):\n",
      "        print('-' * 60)\n",
      "        x = klass(88)\n",
      "        y = klass(99)\n",
      "        print(x + 1)\n",
      "        print(1 + y)\n",
      "        print(x + y)\n",
      "   \n"
     ]
    }
   ],
   "source": [
    "!cat code/commuter.py"
   ]
  },
  {
   "cell_type": "code",
   "execution_count": 21,
   "id": "c9634ee6",
   "metadata": {},
   "outputs": [
    {
     "name": "stdout",
     "output_type": "stream",
     "text": [
      "------------------------------------------------------------\n",
      "add 88 1\n",
      "89\n",
      "radd 99 1\n",
      "100\n",
      "add 88 <__main__.Commuter1 object at 0x0000020782583280>\n",
      "radd 99 88\n",
      "187\n",
      "------------------------------------------------------------\n",
      "add 88 1\n",
      "89\n",
      "add 99 1\n",
      "100\n",
      "add 88 <__main__.Commuter2 object at 0x00000207822438E0>\n",
      "add 99 88\n",
      "187\n",
      "------------------------------------------------------------\n",
      "add 88 1\n",
      "89\n",
      "add 99 1\n",
      "100\n",
      "add 88 <__main__.Commuter3 object at 0x0000020782590040>\n",
      "add 99 88\n",
      "187\n",
      "------------------------------------------------------------\n",
      "add 88 1\n",
      "89\n",
      "add 99 1\n",
      "100\n",
      "add 88 <__main__.Commuter4 object at 0x00000207825905E0>\n",
      "add 99 88\n",
      "187\n",
      "------------------------------------------------------------\n",
      "<Commuter5: 89>\n",
      "<Commuter5: 100>\n",
      "<Commuter5: 187>\n"
     ]
    }
   ],
   "source": [
    "!python code/commuter.py"
   ]
  },
  {
   "cell_type": "code",
   "execution_count": 5,
   "id": "86906bc0",
   "metadata": {},
   "outputs": [
    {
     "name": "stdout",
     "output_type": "stream",
     "text": [
      "Called: (1, 2, 3) {}\n"
     ]
    }
   ],
   "source": [
    "class Callee:\n",
    "        def __call__(self, *pargs, **kargs):       # Intercept instance calls\n",
    "            print('Called:', pargs, kargs)         # Accept arbitrary arguments\n",
    "\n",
    "C = Callee()\n",
    "C(1, 2, 3)                                     # C is a callable object"
   ]
  },
  {
   "cell_type": "code",
   "execution_count": 6,
   "id": "7cce25ea",
   "metadata": {},
   "outputs": [
    {
     "name": "stdout",
     "output_type": "stream",
     "text": [
      "Called: (1, 2, 3) {'x': 4, 'y': 5}\n"
     ]
    }
   ],
   "source": [
    "C(1, 2, 3, x=4, y=5)"
   ]
  },
  {
   "cell_type": "code",
   "execution_count": 9,
   "id": "1f03eac4",
   "metadata": {},
   "outputs": [
    {
     "name": "stdout",
     "output_type": "stream",
     "text": [
      "Called: (1, 2) {'c': 3, 'd': 4}\n"
     ]
    }
   ],
   "source": [
    "class C:\n",
    "        def __call__(self, *pargs, **kargs):        # Normals and defaults\n",
    "            print('Called:', pargs, kargs)         # Accept arbitrary arguments\n",
    "\n",
    "X = C()\n",
    "\n",
    "X(1, *(2,), c=3, **dict(d=4))                      # Mixed modes"
   ]
  },
  {
   "cell_type": "code",
   "execution_count": 10,
   "id": "f0280a82",
   "metadata": {},
   "outputs": [
    {
     "name": "stdout",
     "output_type": "stream",
     "text": [
      "Called: (1, 2) {'c': 3, 'd': 4}\n"
     ]
    }
   ],
   "source": [
    "X(*[1, 2], **dict(c=3, d=4))                       # Unpack arbitrary arguments"
   ]
  },
  {
   "cell_type": "code",
   "execution_count": 11,
   "id": "f2fcba28",
   "metadata": {},
   "outputs": [
    {
     "name": "stdout",
     "output_type": "stream",
     "text": [
      "Called: () {'a': 1, 'b': 2, 'd': 4}\n"
     ]
    }
   ],
   "source": [
    "X(a=1, b=2, d=4)                                   # Keywords"
   ]
  },
  {
   "cell_type": "code",
   "execution_count": 12,
   "id": "11a2393b",
   "metadata": {},
   "outputs": [
    {
     "name": "stdout",
     "output_type": "stream",
     "text": [
      "Called: (1, 2, 3, 4) {}\n"
     ]
    }
   ],
   "source": [
    "X(1, 2, 3, 4)                                      # Positionals"
   ]
  },
  {
   "cell_type": "code",
   "execution_count": 13,
   "id": "f0ad3337",
   "metadata": {},
   "outputs": [
    {
     "name": "stdout",
     "output_type": "stream",
     "text": [
      "Called: (1, 2) {}\n"
     ]
    }
   ],
   "source": [
    "X(1, 2)                                            # Omit defaults"
   ]
  },
  {
   "cell_type": "code",
   "execution_count": 14,
   "id": "5761f202",
   "metadata": {},
   "outputs": [
    {
     "data": {
      "text/plain": [
       "6"
      ]
     },
     "execution_count": 14,
     "metadata": {},
     "output_type": "execute_result"
    }
   ],
   "source": [
    "class Prod:\n",
    "        def __init__(self, value):                 # Accept just one argument\n",
    "            self.value = value\n",
    "        def __call__(self, other):\n",
    "            return self.value * other\n",
    "\n",
    "x = Prod(2)                                    # \"Remembers\" 2 in state\n",
    "x(3)                                           # 3 (passed) * 2 (state)"
   ]
  },
  {
   "cell_type": "code",
   "execution_count": 15,
   "id": "fbaa48b5",
   "metadata": {},
   "outputs": [
    {
     "data": {
      "text/plain": [
       "8"
      ]
     },
     "execution_count": 15,
     "metadata": {},
     "output_type": "execute_result"
    }
   ],
   "source": [
    "x(4)"
   ]
  },
  {
   "cell_type": "code",
   "execution_count": 16,
   "id": "b47de22d",
   "metadata": {},
   "outputs": [
    {
     "name": "stdout",
     "output_type": "stream",
     "text": [
      "turn yellow\n"
     ]
    }
   ],
   "source": [
    "def callback(color):                         # Enclosing scope versus attrs\n",
    "    def oncall():\n",
    "        print('turn', color)\n",
    "    return oncall\n",
    "\n",
    "cb3 = callback('yellow')                     # Handler to be registered\n",
    "cb3()                                        # On event: prints 'turn yellow'"
   ]
  },
  {
   "cell_type": "code",
   "execution_count": 17,
   "id": "f7d3ad6b",
   "metadata": {},
   "outputs": [
    {
     "name": "stdout",
     "output_type": "stream",
     "text": [
      "turn red\n"
     ]
    }
   ],
   "source": [
    "cb4 = (lambda color='red': 'turn ' + color)  # Defaults retain state too\n",
    "print(cb4())"
   ]
  },
  {
   "cell_type": "code",
   "execution_count": 18,
   "id": "8bdd5621",
   "metadata": {},
   "outputs": [
    {
     "name": "stdout",
     "output_type": "stream",
     "text": [
      "turn yellow\n"
     ]
    }
   ],
   "source": [
    "print(cb4('yellow'))"
   ]
  },
  {
   "cell_type": "code",
   "execution_count": 20,
   "id": "8bd88f66",
   "metadata": {},
   "outputs": [],
   "source": [
    "class Callback:\n",
    "    def __init__(self, color):               # Class with state information\n",
    "        self.color = color\n",
    "    def changeColor(self):                   # A normal named method\n",
    "        print('turn', self.color)\n",
    "\n",
    "cb1 = Callback('blue')\n",
    "cb2 = Callback('yellow')\n",
    "\n",
    "#B1 = Button(command=cb1.changeColor)         # Bound method: reference, don't call\n",
    "#B2 = Button(command=cb2.changeColor)         # Remembers function + self pair"
   ]
  },
  {
   "cell_type": "code",
   "execution_count": 21,
   "id": "5dbd328b",
   "metadata": {},
   "outputs": [
    {
     "name": "stdout",
     "output_type": "stream",
     "text": [
      "turn blue\n"
     ]
    }
   ],
   "source": [
    "cb1 = Callback('blue')\n",
    "obj = cb1.changeColor                        # Registered event handler\n",
    "obj()                                        # On event prints 'turn blue'"
   ]
  },
  {
   "cell_type": "code",
   "execution_count": 22,
   "id": "3b27abec",
   "metadata": {},
   "outputs": [
    {
     "name": "stdout",
     "output_type": "stream",
     "text": [
      "True\n"
     ]
    }
   ],
   "source": [
    "class C:\n",
    "    data = 'spam'\n",
    "    def __gt__(self, other):               # 3.X and 2.X version\n",
    "        return self.data > other\n",
    "    def __lt__(self, other):\n",
    "        return self.data < other\n",
    "\n",
    "X = C()\n",
    "print(X > 'ham')                           # True  (runs __gt__)"
   ]
  },
  {
   "cell_type": "code",
   "execution_count": 23,
   "id": "552c656f",
   "metadata": {},
   "outputs": [
    {
     "name": "stdout",
     "output_type": "stream",
     "text": [
      "False\n"
     ]
    }
   ],
   "source": [
    "print(X < 'ham')                           # False (runs __lt__)"
   ]
  },
  {
   "cell_type": "code",
   "execution_count": 24,
   "id": "dff43412",
   "metadata": {},
   "outputs": [
    {
     "name": "stdout",
     "output_type": "stream",
     "text": [
      "no!\n"
     ]
    }
   ],
   "source": [
    "class Truth:\n",
    "       def __len__(self): return 0\n",
    "\n",
    "X = Truth()\n",
    "if not X: print('no!')"
   ]
  },
  {
   "cell_type": "code",
   "execution_count": 26,
   "id": "2c5a71d3",
   "metadata": {},
   "outputs": [
    {
     "name": "stdout",
     "output_type": "stream",
     "text": [
      "yes!\n"
     ]
    }
   ],
   "source": [
    " class Truth:\n",
    "        def __bool__(self): return True            # 3.X tries __bool__ first\n",
    "        def __len__(self): return 0                # 2.X tries __len__ first\n",
    "\n",
    "X = Truth()\n",
    "if X: print('yes!')"
   ]
  },
  {
   "cell_type": "code",
   "execution_count": 27,
   "id": "e53555ae",
   "metadata": {},
   "outputs": [
    {
     "name": "stdout",
     "output_type": "stream",
     "text": [
      "Hello Brian\n"
     ]
    }
   ],
   "source": [
    "class Life:\n",
    "        def __init__(self, name='unknown'):\n",
    "            print('Hello ' + name)\n",
    "            self.name = name\n",
    "        def live(self):\n",
    "            print(self.name)\n",
    "        def __del__(self):\n",
    "            print('Goodbye ' + self.name)\n",
    "\n",
    "brian = Life('Brian')"
   ]
  },
  {
   "cell_type": "code",
   "execution_count": 28,
   "id": "97c66619",
   "metadata": {},
   "outputs": [
    {
     "name": "stdout",
     "output_type": "stream",
     "text": [
      "Brian\n"
     ]
    }
   ],
   "source": [
    "brian.live()"
   ]
  },
  {
   "cell_type": "code",
   "execution_count": 29,
   "id": "865a6a00",
   "metadata": {},
   "outputs": [
    {
     "name": "stdout",
     "output_type": "stream",
     "text": [
      "Goodbye Brian\n"
     ]
    }
   ],
   "source": [
    "brian = 'loretta'"
   ]
  },
  {
   "cell_type": "code",
   "execution_count": 30,
   "id": "062136e0",
   "metadata": {},
   "outputs": [
    {
     "data": {
      "text/plain": [
       "'loretta'"
      ]
     },
     "execution_count": 30,
     "metadata": {},
     "output_type": "execute_result"
    }
   ],
   "source": [
    "brian"
   ]
  },
  {
   "cell_type": "markdown",
   "id": "272744c8",
   "metadata": {},
   "source": [
    "# Chapter 31. Designing with Classes"
   ]
  },
  {
   "cell_type": "code",
   "execution_count": 31,
   "id": "3e0c9ae5",
   "metadata": {},
   "outputs": [
    {
     "name": "stdout",
     "output_type": "stream",
     "text": [
      "# File employees.py (2.X + 3.X)\n",
      "from __future__ import print_function\n",
      "\n",
      "class Employee:\n",
      "    def __init__(self, name, salary=0):\n",
      "        self.name   = name\n",
      "        self.salary = salary\n",
      "    def giveRaise(self, percent):\n",
      "        self.salary = self.salary + (self.salary * percent)\n",
      "    def work(self):\n",
      "        print(self.name, \"does stuff\")\n",
      "    def __repr__(self):\n",
      "        return \"<Employee: name=%s, salary=%s>\" % (self.name, self.salary)\n",
      "\n",
      "class Chef(Employee):\n",
      "    def __init__(self, name):\n",
      "        Employee.__init__(self, name, 50000)\n",
      "    def work(self):\n",
      "        print(self.name, \"makes food\")\n",
      "\n",
      "class Server(Employee):\n",
      "    def __init__(self, name):\n",
      "        Employee.__init__(self, name, 40000)\n",
      "    def work(self):\n",
      "        print(self.name, \"interfaces with customer\")\n",
      "\n",
      "class PizzaRobot(Chef):\n",
      "    def __init__(self, name):\n",
      "        Chef.__init__(self, name)\n",
      "    def work(self):\n",
      "        print(self.name, \"makes pizza\")\n",
      "\n",
      "if __name__ == \"__main__\":\n",
      "    bob = PizzaRobot('bob')       # Make a robot named bob\n",
      "    print(bob)                    # Run inherited __repr__\n",
      "    bob.work()                    # Run type-specific action\n",
      "    bob.giveRaise(0.20)           # Give bob a 20% raise\n",
      "    print(bob); print()\n",
      "\n",
      "    for klass in Employee, Chef, Server, PizzaRobot:\n",
      "        obj = klass(klass.__name__)\n",
      "        obj.work()\n"
     ]
    }
   ],
   "source": [
    "!cat code/employees.py"
   ]
  },
  {
   "cell_type": "code",
   "execution_count": 32,
   "id": "e8f421bc",
   "metadata": {},
   "outputs": [
    {
     "name": "stdout",
     "output_type": "stream",
     "text": [
      "<Employee: name=bob, salary=50000>\n",
      "bob makes pizza\n",
      "<Employee: name=bob, salary=60000.0>\n",
      "\n",
      "Employee does stuff\n",
      "Chef makes food\n",
      "Server interfaces with customer\n",
      "PizzaRobot makes pizza\n"
     ]
    }
   ],
   "source": [
    "!python code/employees.py"
   ]
  }
 ],
 "metadata": {
  "kernelspec": {
   "display_name": "Python 3 (ipykernel)",
   "language": "python",
   "name": "python3"
  },
  "language_info": {
   "codemirror_mode": {
    "name": "ipython",
    "version": 3
   },
   "file_extension": ".py",
   "mimetype": "text/x-python",
   "name": "python",
   "nbconvert_exporter": "python",
   "pygments_lexer": "ipython3",
   "version": "3.8.5"
  }
 },
 "nbformat": 4,
 "nbformat_minor": 5
}
