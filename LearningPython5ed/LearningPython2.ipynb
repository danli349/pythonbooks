{
 "cells": [
  {
   "cell_type": "markdown",
   "id": "f48725f9",
   "metadata": {},
   "source": [
    "## Chapter 31. Designing with Classes"
   ]
  },
  {
   "cell_type": "code",
   "execution_count": 1,
   "id": "b0aa61ce",
   "metadata": {},
   "outputs": [
    {
     "data": {
      "text/plain": [
       "['D:\\\\books\\\\python\\\\0. Learning Python',\n",
       " 'C:\\\\Users\\\\lidan\\\\miniconda3\\\\python38.zip',\n",
       " 'C:\\\\Users\\\\lidan\\\\miniconda3\\\\DLLs',\n",
       " 'C:\\\\Users\\\\lidan\\\\miniconda3\\\\lib',\n",
       " 'C:\\\\Users\\\\lidan\\\\miniconda3',\n",
       " '',\n",
       " 'C:\\\\Users\\\\lidan\\\\AppData\\\\Roaming\\\\Python\\\\Python38\\\\site-packages',\n",
       " 'C:\\\\Users\\\\lidan\\\\miniconda3\\\\lib\\\\site-packages',\n",
       " 'C:\\\\Users\\\\lidan\\\\miniconda3\\\\lib\\\\site-packages\\\\magic_impute-2.0.4-py3.8.egg',\n",
       " 'd:\\\\r\\\\seurat\\\\etv4-13ewt\\\\batchglm',\n",
       " 'C:\\\\Users\\\\lidan\\\\miniconda3\\\\lib\\\\site-packages\\\\seqc-0.2.0-py3.8.egg',\n",
       " 'C:\\\\Users\\\\lidan\\\\miniconda3\\\\lib\\\\site-packages\\\\weasyprint-56.1-py3.8.egg',\n",
       " 'C:\\\\Users\\\\lidan\\\\miniconda3\\\\lib\\\\site-packages\\\\cairocffi-1.3.0-py3.8.egg',\n",
       " 'C:\\\\Users\\\\lidan\\\\miniconda3\\\\lib\\\\site-packages\\\\win32',\n",
       " 'C:\\\\Users\\\\lidan\\\\miniconda3\\\\lib\\\\site-packages\\\\win32\\\\lib',\n",
       " 'C:\\\\Users\\\\lidan\\\\miniconda3\\\\lib\\\\site-packages\\\\Pythonwin',\n",
       " 'C:\\\\Users\\\\lidan\\\\miniconda3\\\\lib\\\\site-packages\\\\IPython\\\\extensions',\n",
       " 'C:\\\\Users\\\\lidan\\\\.ipython']"
      ]
     },
     "execution_count": 1,
     "metadata": {},
     "output_type": "execute_result"
    }
   ],
   "source": [
    "import sys\n",
    "sys.path"
   ]
  },
  {
   "cell_type": "code",
   "execution_count": 2,
   "id": "263f8250",
   "metadata": {},
   "outputs": [],
   "source": [
    "sys.path.insert(1, 'D:\\\\books\\\\python\\\\0. Learning Python\\code')"
   ]
  },
  {
   "cell_type": "code",
   "execution_count": 3,
   "id": "e4ba9db9",
   "metadata": {},
   "outputs": [
    {
     "data": {
      "text/plain": [
       "['D:\\\\books\\\\python\\\\0. Learning Python',\n",
       " 'D:\\\\books\\\\python\\\\0. Learning Python\\\\code',\n",
       " 'C:\\\\Users\\\\lidan\\\\miniconda3\\\\python38.zip',\n",
       " 'C:\\\\Users\\\\lidan\\\\miniconda3\\\\DLLs',\n",
       " 'C:\\\\Users\\\\lidan\\\\miniconda3\\\\lib',\n",
       " 'C:\\\\Users\\\\lidan\\\\miniconda3',\n",
       " '',\n",
       " 'C:\\\\Users\\\\lidan\\\\AppData\\\\Roaming\\\\Python\\\\Python38\\\\site-packages',\n",
       " 'C:\\\\Users\\\\lidan\\\\miniconda3\\\\lib\\\\site-packages',\n",
       " 'C:\\\\Users\\\\lidan\\\\miniconda3\\\\lib\\\\site-packages\\\\magic_impute-2.0.4-py3.8.egg',\n",
       " 'd:\\\\r\\\\seurat\\\\etv4-13ewt\\\\batchglm',\n",
       " 'C:\\\\Users\\\\lidan\\\\miniconda3\\\\lib\\\\site-packages\\\\seqc-0.2.0-py3.8.egg',\n",
       " 'C:\\\\Users\\\\lidan\\\\miniconda3\\\\lib\\\\site-packages\\\\weasyprint-56.1-py3.8.egg',\n",
       " 'C:\\\\Users\\\\lidan\\\\miniconda3\\\\lib\\\\site-packages\\\\cairocffi-1.3.0-py3.8.egg',\n",
       " 'C:\\\\Users\\\\lidan\\\\miniconda3\\\\lib\\\\site-packages\\\\win32',\n",
       " 'C:\\\\Users\\\\lidan\\\\miniconda3\\\\lib\\\\site-packages\\\\win32\\\\lib',\n",
       " 'C:\\\\Users\\\\lidan\\\\miniconda3\\\\lib\\\\site-packages\\\\Pythonwin',\n",
       " 'C:\\\\Users\\\\lidan\\\\miniconda3\\\\lib\\\\site-packages\\\\IPython\\\\extensions',\n",
       " 'C:\\\\Users\\\\lidan\\\\.ipython']"
      ]
     },
     "execution_count": 3,
     "metadata": {},
     "output_type": "execute_result"
    }
   ],
   "source": [
    "sys.path"
   ]
  },
  {
   "cell_type": "code",
   "execution_count": 15,
   "id": "e795f2d9",
   "metadata": {},
   "outputs": [
    {
     "data": {
      "text/plain": [
       "'D:\\\\books\\\\python\\\\0. Learning Python'"
      ]
     },
     "execution_count": 15,
     "metadata": {},
     "output_type": "execute_result"
    }
   ],
   "source": [
    "import os\n",
    "cwd = os.getcwd()\n",
    "cwd"
   ]
  },
  {
   "cell_type": "code",
   "execution_count": 17,
   "id": "5ec40c66",
   "metadata": {},
   "outputs": [],
   "source": [
    "os.chdir('D:\\\\books\\\\python\\\\0. Learning Python\\\\code')"
   ]
  },
  {
   "cell_type": "markdown",
   "id": "23423b78",
   "metadata": {},
   "source": [
    "### OOP and Inheritance: “Is-a” Relationships"
   ]
  },
  {
   "cell_type": "code",
   "execution_count": 4,
   "id": "e255232d",
   "metadata": {},
   "outputs": [
    {
     "name": "stdout",
     "output_type": "stream",
     "text": [
      "# File employees.py (2.X + 3.X)\n",
      "from __future__ import print_function\n",
      "\n",
      "class Employee:\n",
      "    def __init__(self, name, salary=0):\n",
      "        self.name   = name\n",
      "        self.salary = salary\n",
      "    def giveRaise(self, percent):\n",
      "        self.salary = self.salary + (self.salary * percent)\n",
      "    def work(self):\n",
      "        print(self.name, \"does stuff\")\n",
      "    def __repr__(self):\n",
      "        return \"<Employee: name=%s, salary=%s>\" % (self.name, self.salary)\n",
      "\n",
      "class Chef(Employee):\n",
      "    def __init__(self, name):\n",
      "        Employee.__init__(self, name, 50000)\n",
      "    def work(self):\n",
      "        print(self.name, \"makes food\")\n",
      "\n",
      "class Server(Employee):\n",
      "    def __init__(self, name):\n",
      "        Employee.__init__(self, name, 40000)\n",
      "    def work(self):\n",
      "        print(self.name, \"interfaces with customer\")\n",
      "\n",
      "class PizzaRobot(Chef):\n",
      "    def __init__(self, name):\n",
      "        Chef.__init__(self, name)\n",
      "    def work(self):\n",
      "        print(self.name, \"makes pizza\")\n",
      "\n",
      "if __name__ == \"__main__\":\n",
      "    bob = PizzaRobot('bob')       # Make a robot named bob\n",
      "    print(bob)                    # Run inherited __repr__\n",
      "    bob.work()                    # Run type-specific action\n",
      "    bob.giveRaise(0.20)           # Give bob a 20% raise\n",
      "    print(bob); print()\n",
      "\n",
      "    for klass in Employee, Chef, Server, PizzaRobot:\n",
      "        obj = klass(klass.__name__)\n",
      "        obj.work()\n"
     ]
    }
   ],
   "source": [
    "!cat code/employees.py"
   ]
  },
  {
   "cell_type": "code",
   "execution_count": 5,
   "id": "4340af98",
   "metadata": {},
   "outputs": [
    {
     "name": "stdout",
     "output_type": "stream",
     "text": [
      "<Employee: name=bob, salary=50000>\n",
      "bob makes pizza\n",
      "<Employee: name=bob, salary=60000.0>\n",
      "\n",
      "Employee does stuff\n",
      "Chef makes food\n",
      "Server interfaces with customer\n",
      "PizzaRobot makes pizza\n"
     ]
    }
   ],
   "source": [
    "!python code/employees.py"
   ]
  },
  {
   "cell_type": "markdown",
   "id": "a22cf442",
   "metadata": {},
   "source": [
    "### OOP and Composition: “Has-a” Relationships"
   ]
  },
  {
   "cell_type": "code",
   "execution_count": 6,
   "id": "98782b1b",
   "metadata": {},
   "outputs": [
    {
     "name": "stdout",
     "output_type": "stream",
     "text": [
      "# File pizzashop.py (2.X + 3.X)\n",
      "from __future__ import print_function\n",
      "from employees import PizzaRobot, Server\n",
      "\n",
      "class Customer:\n",
      "    def __init__(self, name):\n",
      "        self.name = name\n",
      "    def order(self, server):\n",
      "        print(self.name, \"orders from\", server)\n",
      "    def pay(self, server):\n",
      "        print(self.name, \"pays for item to\", server)\n",
      "\n",
      "class Oven:\n",
      "    def bake(self):\n",
      "        print(\"oven bakes\")\n",
      "\n",
      "class PizzaShop:\n",
      "    def __init__(self):\n",
      "        self.server = Server('Pat')         # Embed other objects\n",
      "        self.chef   = PizzaRobot('Bob')     # A robot named bob\n",
      "        self.oven   = Oven()\n",
      "\n",
      "    def order(self, name):\n",
      "        customer = Customer(name)           # Activate other objects\n",
      "        customer.order(self.server)         # Customer orders from server\n",
      "        self.chef.work()\n",
      "        self.oven.bake()\n",
      "        customer.pay(self.server)\n",
      "\n",
      "if __name__ == \"__main__\":\n",
      "    scene = PizzaShop()                     # Make the composite\n",
      "    scene.order('Homer')                    # Simulate Homer's order\n",
      "    print('...')\n",
      "    scene.order('Shaggy')                   # Simulate Shaggy's order\n"
     ]
    }
   ],
   "source": [
    "!cat code/pizzashop.py"
   ]
  },
  {
   "cell_type": "code",
   "execution_count": 7,
   "id": "7359627b",
   "metadata": {},
   "outputs": [
    {
     "name": "stdout",
     "output_type": "stream",
     "text": [
      "Homer orders from <Employee: name=Pat, salary=40000>\n",
      "Bob makes pizza\n",
      "oven bakes\n",
      "Homer pays for item to <Employee: name=Pat, salary=40000>\n",
      "...\n",
      "Shaggy orders from <Employee: name=Pat, salary=40000>\n",
      "Bob makes pizza\n",
      "oven bakes\n",
      "Shaggy pays for item to <Employee: name=Pat, salary=40000>\n"
     ]
    }
   ],
   "source": [
    "!python code/pizzashop.py"
   ]
  },
  {
   "cell_type": "code",
   "execution_count": 9,
   "id": "0520857c",
   "metadata": {},
   "outputs": [
    {
     "name": "stdout",
     "output_type": "stream",
     "text": [
      "class Processor:\n",
      "    def __init__(self, reader, writer):\n",
      "        self.reader = reader\n",
      "        self.writer = writer\n",
      "\n",
      "    def process(self):\n",
      "        while True:\n",
      "            data = self.reader.readline()\n",
      "            if not data: break\n",
      "            data = self.converter(data)\n",
      "            self.writer.write(data)\n",
      "\n",
      "    def converter(self, data):\n",
      "        assert False, 'converter must be defined'       # Or raise exception\n"
     ]
    }
   ],
   "source": [
    "!cat code/streams.py"
   ]
  },
  {
   "cell_type": "code",
   "execution_count": 12,
   "id": "cae4c8b7",
   "metadata": {},
   "outputs": [
    {
     "name": "stdout",
     "output_type": "stream",
     "text": [
      "from streams import Processor\n",
      "\n",
      "class Uppercase(Processor):\n",
      "    def converter(self, data):\n",
      "        return data.upper()\n",
      "\n",
      "if __name__ == '__main__':\n",
      "    import sys\n",
      "    obj = Uppercase(open('code/trispam.txt'), sys.stdout)\n",
      "    obj.process()\n"
     ]
    }
   ],
   "source": [
    "!cat code/converters.py"
   ]
  },
  {
   "cell_type": "code",
   "execution_count": 13,
   "id": "366379d3",
   "metadata": {},
   "outputs": [
    {
     "name": "stdout",
     "output_type": "stream",
     "text": [
      "SPAM\n",
      "SPAM\n",
      "SPAM!\n"
     ]
    }
   ],
   "source": [
    "!python code/converters.py"
   ]
  },
  {
   "cell_type": "code",
   "execution_count": 14,
   "id": "ef4ccfbc",
   "metadata": {},
   "outputs": [
    {
     "name": "stdout",
     "output_type": "stream",
     "text": [
      "<PRE>SPAM</PRE>\n",
      "<PRE>SPAM</PRE>\n",
      "<PRE>SPAM!</PRE>\n"
     ]
    }
   ],
   "source": [
    "from converters import Uppercase\n",
    "\n",
    "class HTMLize:\n",
    "         def write(self, line):\n",
    "            print('<PRE>%s</PRE>' % line.rstrip())\n",
    "\n",
    "Uppercase(open('code/trispam.txt'), HTMLize()).process()"
   ]
  },
  {
   "cell_type": "code",
   "execution_count": 15,
   "id": "123ebc5a",
   "metadata": {},
   "outputs": [
    {
     "data": {
      "text/plain": [
       "(<Employee: name=Pat, salary=40000>, <Employee: name=Bob, salary=50000>)"
      ]
     },
     "execution_count": 15,
     "metadata": {},
     "output_type": "execute_result"
    }
   ],
   "source": [
    "from pizzashop import PizzaShop\n",
    "shop = PizzaShop()\n",
    "shop.server, shop.chef"
   ]
  },
  {
   "cell_type": "markdown",
   "id": "c9edce25",
   "metadata": {},
   "source": [
    "### OOP and Delegation: “Wrapper” Proxy Objects"
   ]
  },
  {
   "cell_type": "code",
   "execution_count": 16,
   "id": "8ad054f5",
   "metadata": {},
   "outputs": [
    {
     "name": "stdout",
     "output_type": "stream",
     "text": [
      "class Wrapper:\n",
      "    def __init__(self, object):\n",
      "        self.wrapped = object                    # Save object\n",
      "    def __getattr__(self, attrname):\n",
      "        print('Trace: ' + attrname)              # Trace fetch\n",
      "        return getattr(self.wrapped, attrname)   # Delegate fetch\n"
     ]
    }
   ],
   "source": [
    "!cat code/trace.py"
   ]
  },
  {
   "cell_type": "code",
   "execution_count": 17,
   "id": "a6918079",
   "metadata": {},
   "outputs": [
    {
     "name": "stdout",
     "output_type": "stream",
     "text": [
      "Trace: append\n"
     ]
    }
   ],
   "source": [
    "from trace import Wrapper\n",
    "x = Wrapper([1, 2, 3])                       # Wrap a list\n",
    "x.append(4)                                  # Delegate to list method"
   ]
  },
  {
   "cell_type": "code",
   "execution_count": 18,
   "id": "a9805ff8",
   "metadata": {},
   "outputs": [
    {
     "data": {
      "text/plain": [
       "[1, 2, 3, 4]"
      ]
     },
     "execution_count": 18,
     "metadata": {},
     "output_type": "execute_result"
    }
   ],
   "source": [
    "x.wrapped"
   ]
  },
  {
   "cell_type": "code",
   "execution_count": 19,
   "id": "380a0bdc",
   "metadata": {},
   "outputs": [
    {
     "name": "stdout",
     "output_type": "stream",
     "text": [
      "Trace: keys\n"
     ]
    },
    {
     "data": {
      "text/plain": [
       "['a', 'b']"
      ]
     },
     "execution_count": 19,
     "metadata": {},
     "output_type": "execute_result"
    }
   ],
   "source": [
    "x = Wrapper({'a': 1, 'b': 2})                # Wrap a dictionary\n",
    "list(x.keys())                               # Delegate to dictionary method"
   ]
  },
  {
   "cell_type": "code",
   "execution_count": 20,
   "id": "9079aacb",
   "metadata": {},
   "outputs": [
    {
     "data": {
      "text/plain": [
       "{'a': 1, 'b': 2}"
      ]
     },
     "execution_count": 20,
     "metadata": {},
     "output_type": "execute_result"
    }
   ],
   "source": [
    "x.wrapped"
   ]
  },
  {
   "cell_type": "code",
   "execution_count": 22,
   "id": "6d6390af",
   "metadata": {},
   "outputs": [
    {
     "name": "stdout",
     "output_type": "stream",
     "text": [
      "Trace: update\n"
     ]
    },
    {
     "data": {
      "text/plain": [
       "{'a': 1, 'b': 2, 'c': 4}"
      ]
     },
     "execution_count": 22,
     "metadata": {},
     "output_type": "execute_result"
    }
   ],
   "source": [
    "x.update({'c':4})\n",
    "x.wrapped"
   ]
  },
  {
   "cell_type": "markdown",
   "id": "1558ac6f",
   "metadata": {},
   "source": [
    "### Pseudoprivate Class Attributes"
   ]
  },
  {
   "cell_type": "code",
   "execution_count": 23,
   "id": "b171957a",
   "metadata": {},
   "outputs": [
    {
     "name": "stdout",
     "output_type": "stream",
     "text": [
      "class C1:\n",
      "    def meth1(self): self.__X = 88       # Now X is mine\n",
      "    def meth2(self): print(self.__X)     # Becomes _C1__X in I\n",
      "class C2:\n",
      "    def metha(self): self.__X = 99       # Me too\n",
      "    def methb(self): print(self.__X)     # Becomes _C2__X in I\n",
      "\n",
      "class C3(C1, C2): pass\n",
      "I = C3()                                 # Two X names in I\n",
      "\n",
      "I.meth1(); I.metha()\n",
      "print(I.__dict__)\n",
      "I.meth2(); I.methb()\n"
     ]
    }
   ],
   "source": [
    "!cat code/pseudoprivate.py"
   ]
  },
  {
   "cell_type": "code",
   "execution_count": 24,
   "id": "4b52deec",
   "metadata": {},
   "outputs": [
    {
     "name": "stdout",
     "output_type": "stream",
     "text": [
      "{'_C1__X': 88, '_C2__X': 99}\n",
      "88\n",
      "99\n"
     ]
    }
   ],
   "source": [
    "!python code/pseudoprivate.py"
   ]
  },
  {
   "cell_type": "markdown",
   "id": "038762e5",
   "metadata": {},
   "source": [
    "### Methods Are Objects: Bound or Unbound"
   ]
  },
  {
   "cell_type": "code",
   "execution_count": 25,
   "id": "eb61a784",
   "metadata": {},
   "outputs": [
    {
     "data": {
      "text/plain": [
       "9"
      ]
     },
     "execution_count": 25,
     "metadata": {},
     "output_type": "execute_result"
    }
   ],
   "source": [
    "class Selfless:\n",
    "        def __init__(self, data):\n",
    "            self.data = data\n",
    "        def selfless(arg1, arg2):               # A simple function in 3.X\n",
    "            return arg1 + arg2\n",
    "        def normal(self, arg1, arg2):           # Instance expected when called\n",
    "            return self.data + arg1 + arg2\n",
    "\n",
    "X = Selfless(2)\n",
    "X.normal(3, 4)                  # Instance passed to self automatically: 2+(3+4)"
   ]
  },
  {
   "cell_type": "code",
   "execution_count": 26,
   "id": "9938a0d2",
   "metadata": {},
   "outputs": [
    {
     "data": {
      "text/plain": [
       "9"
      ]
     },
     "execution_count": 26,
     "metadata": {},
     "output_type": "execute_result"
    }
   ],
   "source": [
    "Selfless.normal(X, 3, 4)        # self expected by method: pass manually"
   ]
  },
  {
   "cell_type": "code",
   "execution_count": 27,
   "id": "f6ec5bec",
   "metadata": {},
   "outputs": [
    {
     "data": {
      "text/plain": [
       "7"
      ]
     },
     "execution_count": 27,
     "metadata": {},
     "output_type": "execute_result"
    }
   ],
   "source": [
    "Selfless.selfless(3, 4)         # No instance: works in 3.X, fails in 2.X!"
   ]
  },
  {
   "cell_type": "code",
   "execution_count": 28,
   "id": "9f6f5b73",
   "metadata": {},
   "outputs": [
    {
     "data": {
      "text/plain": [
       "4"
      ]
     },
     "execution_count": 28,
     "metadata": {},
     "output_type": "execute_result"
    }
   ],
   "source": [
    "class Number:\n",
    "        def __init__(self, base):\n",
    "            self.base = base\n",
    "        def double(self):\n",
    "            return self.base * 2\n",
    "        def triple(self):\n",
    "            return self.base * 3\n",
    "\n",
    "x = Number(2)                                       # Class instance objects\n",
    "y = Number(3)                                       # State + methods\n",
    "z = Number(4)\n",
    "x.double()                                          # Normal immediate calls"
   ]
  },
  {
   "cell_type": "code",
   "execution_count": 29,
   "id": "7e307c2f",
   "metadata": {},
   "outputs": [
    {
     "name": "stdout",
     "output_type": "stream",
     "text": [
      "4\n",
      "6\n",
      "9\n",
      "8\n"
     ]
    }
   ],
   "source": [
    "acts = [x.double, y.double, y.triple, z.double]     # List of bound methods\n",
    "for act in acts:                                    # Calls are deferred\n",
    "        print(act())                                    # Call as though functions"
   ]
  },
  {
   "cell_type": "code",
   "execution_count": 32,
   "id": "831f3485",
   "metadata": {},
   "outputs": [
    {
     "data": {
      "text/plain": [
       "4"
      ]
     },
     "execution_count": 32,
     "metadata": {},
     "output_type": "execute_result"
    }
   ],
   "source": [
    "x.double()"
   ]
  },
  {
   "cell_type": "code",
   "execution_count": 33,
   "id": "f3329a59",
   "metadata": {},
   "outputs": [
    {
     "data": {
      "text/plain": [
       "(<__main__.Number at 0x267767e78e0>, <function __main__.Number.double(self)>)"
      ]
     },
     "execution_count": 33,
     "metadata": {},
     "output_type": "execute_result"
    }
   ],
   "source": [
    "bound = x.double\n",
    "bound.__self__, bound.__func__"
   ]
  },
  {
   "cell_type": "code",
   "execution_count": 34,
   "id": "4832e071",
   "metadata": {},
   "outputs": [
    {
     "data": {
      "text/plain": [
       "2"
      ]
     },
     "execution_count": 34,
     "metadata": {},
     "output_type": "execute_result"
    }
   ],
   "source": [
    "bound.__self__.base"
   ]
  },
  {
   "cell_type": "code",
   "execution_count": 35,
   "id": "b7ea53fd",
   "metadata": {},
   "outputs": [
    {
     "data": {
      "text/plain": [
       "4"
      ]
     },
     "execution_count": 35,
     "metadata": {},
     "output_type": "execute_result"
    }
   ],
   "source": [
    "bound()                   # Calls bound.__func__(bound.__self__, ...)"
   ]
  },
  {
   "cell_type": "code",
   "execution_count": 36,
   "id": "0cebfecd",
   "metadata": {},
   "outputs": [
    {
     "name": "stdout",
     "output_type": "stream",
     "text": [
      "25\n",
      "7\n",
      "15\n"
     ]
    }
   ],
   "source": [
    "def square(arg):\n",
    "        return arg ** 2                          # Simple functions (def or lambda)\n",
    "\n",
    "class Sum:\n",
    "        def __init__(self, val):                 # Callable instances\n",
    "            self.val = val\n",
    "        def __call__(self, arg):\n",
    "            return self.val + arg\n",
    "\n",
    "class Product:\n",
    "        def __init__(self, val):                 # Bound methods\n",
    "            self.val = val\n",
    "        def method(self, arg):\n",
    "            return self.val * arg\n",
    "\n",
    "sobject = Sum(2)\n",
    "pobject = Product(3)\n",
    "actions = [square, sobject, pobject.method]  # Function, instance, method\n",
    "\n",
    "for act in actions:                          # All three called same way\n",
    "        print(act(5))                            # Call any one-arg callable"
   ]
  },
  {
   "cell_type": "code",
   "execution_count": 37,
   "id": "41559220",
   "metadata": {},
   "outputs": [
    {
     "data": {
      "text/plain": [
       "15"
      ]
     },
     "execution_count": 37,
     "metadata": {},
     "output_type": "execute_result"
    }
   ],
   "source": [
    "actions[-1](5)                               # Index, comprehensions, maps"
   ]
  },
  {
   "cell_type": "code",
   "execution_count": 38,
   "id": "e98cd751",
   "metadata": {},
   "outputs": [
    {
     "data": {
      "text/plain": [
       "[25, 7, 15]"
      ]
     },
     "execution_count": 38,
     "metadata": {},
     "output_type": "execute_result"
    }
   ],
   "source": [
    "[act(5) for act in actions]"
   ]
  },
  {
   "cell_type": "code",
   "execution_count": 39,
   "id": "7cdbde92",
   "metadata": {},
   "outputs": [
    {
     "data": {
      "text/plain": [
       "[25, 7, 15]"
      ]
     },
     "execution_count": 39,
     "metadata": {},
     "output_type": "execute_result"
    }
   ],
   "source": [
    "list(map(lambda act: act(5), actions))"
   ]
  },
  {
   "cell_type": "code",
   "execution_count": 40,
   "id": "365bb8e6",
   "metadata": {},
   "outputs": [
    {
     "name": "stdout",
     "output_type": "stream",
     "text": [
      "25\n",
      "7\n",
      "15\n",
      "-5\n"
     ]
    }
   ],
   "source": [
    "class Negate:\n",
    "        def __init__(self, val):                 # Classes are callables too\n",
    "            self.val = -val                      # But called for object, not work\n",
    "        def __repr__(self):                      # Instance print format\n",
    "            return str(self.val)\n",
    "\n",
    "actions = [square, sobject, pobject.method, Negate]     # Call a class too\n",
    "for act in actions:\n",
    "        print(act(5))"
   ]
  },
  {
   "cell_type": "code",
   "execution_count": 41,
   "id": "2c8ca9b5",
   "metadata": {},
   "outputs": [
    {
     "data": {
      "text/plain": [
       "[25, 7, 15, -5]"
      ]
     },
     "execution_count": 41,
     "metadata": {},
     "output_type": "execute_result"
    }
   ],
   "source": [
    "[act(5) for act in actions]                     # Runs __repr__ not __str__!"
   ]
  },
  {
   "cell_type": "code",
   "execution_count": 43,
   "id": "3445887f",
   "metadata": {},
   "outputs": [
    {
     "data": {
      "text/plain": [
       "{25: <function __main__.square(arg)>,\n",
       " 7: <__main__.Sum at 0x26776802100>,\n",
       " 15: <bound method Product.method of <__main__.Product object at 0x0000026776802160>>,\n",
       " -5: __main__.Negate}"
      ]
     },
     "execution_count": 43,
     "metadata": {},
     "output_type": "execute_result"
    }
   ],
   "source": [
    "table = {act(5): act for act in actions}        # 3.X/2.7 dict comprehension\n",
    "table"
   ]
  },
  {
   "cell_type": "code",
   "execution_count": 45,
   "id": "9dd2cf37",
   "metadata": {},
   "outputs": [
    {
     "name": "stdout",
     "output_type": "stream",
     "text": [
      "25 => <function square at 0x00000267767DAC10>\n",
      "7 => <__main__.Sum object at 0x0000026776802100>\n",
      "15 => <bound method Product.method of <__main__.Product object at 0x0000026776802160>>\n",
      "-5 => <class '__main__.Negate'>\n"
     ]
    }
   ],
   "source": [
    "for (key, value) in table.items():\n",
    "    print('{0} => {1}'.format(key, value))    # 2.6+/3.X str.format"
   ]
  },
  {
   "cell_type": "markdown",
   "id": "9bfb6fb8",
   "metadata": {},
   "source": [
    "### Classes Are Objects: Generic Object Factories"
   ]
  },
  {
   "cell_type": "code",
   "execution_count": 46,
   "id": "947f29b1",
   "metadata": {},
   "outputs": [
    {
     "name": "stdout",
     "output_type": "stream",
     "text": [
      "def factory(aClass, *pargs, **kargs):        # Varargs tuple, dict\n",
      "    return aClass(*pargs, **kargs)           # Call aClass (or apply in 2.X only)\n",
      "\n",
      "class Spam:\n",
      "    def doit(self, message):\n",
      "        print(message)\n",
      "\n",
      "class Person:\n",
      "    def __init__(self, name, job=None):\n",
      "        self.name = name\n",
      "        self.job  = job\n",
      "\n",
      "object1 = factory(Spam)                      # Make a Spam object\n",
      "object2 = factory(Person, \"Arthur\", \"King\")  # Make a Person object\n",
      "object3 = factory(Person, name='Brian')      # Ditto, with keywords and default\n"
     ]
    }
   ],
   "source": [
    "!cat code/factory.py"
   ]
  },
  {
   "cell_type": "markdown",
   "id": "49d7c3c6",
   "metadata": {},
   "source": [
    "### Multiple Inheritance: “Mix-in” Classes"
   ]
  },
  {
   "cell_type": "code",
   "execution_count": 7,
   "id": "b5f850f7",
   "metadata": {},
   "outputs": [
    {
     "name": "stdout",
     "output_type": "stream",
     "text": [
      "# File testmixin0.py\n",
      "from listinstance import ListInstance # Get lister tool class\n",
      "\n",
      "class Super:\n",
      "    def __init__(self):               # Superclass __init__\n",
      "        self.data1 = 'spam'           # Create instance attrs\n",
      "    def ham(self):\n",
      "        pass\n",
      "\n",
      "class Sub(Super, ListInstance):       # Mix in ham and a __str__\n",
      "    def __init__(self):               # Listers have access to self\n",
      "        Super.__init__(self)\n",
      "        self.data2 = 'eggs'           # More instance attrs\n",
      "        self.data3 = 42\n",
      "    def spam(self):                   # Define another method here\n",
      "        pass\n",
      "\n",
      "if __name__ == '__main__':\n",
      "    X = Sub()\n",
      "    print(X)                          # Run mixed-in __str__\n"
     ]
    }
   ],
   "source": [
    "!cat code/testmixin0.py"
   ]
  },
  {
   "cell_type": "code",
   "execution_count": 8,
   "id": "56c787b2",
   "metadata": {},
   "outputs": [
    {
     "name": "stdout",
     "output_type": "stream",
     "text": [
      "<Instance of Sub, address 2483659028800:\n",
      "\tdata1=spam\n",
      "\tdata2=eggs\n",
      "\tdata3=42\n",
      ">\n"
     ]
    }
   ],
   "source": [
    "!python code/testmixin0.py"
   ]
  },
  {
   "cell_type": "code",
   "execution_count": 10,
   "id": "6b5eb854",
   "metadata": {},
   "outputs": [
    {
     "name": "stdout",
     "output_type": "stream",
     "text": [
      "#!python\n",
      "# File listinstance.py (2.X + 3.X)\n",
      "\n",
      "class ListInstance:\n",
      "    \"\"\"\n",
      "    Mix-in class that provides a formatted print() or str() of instances via \n",
      "    inheritance of __str__ coded here;  displays instance attrs only;  self is\n",
      "    instance of lowest class; __X names avoid clashing with client's attrs\n",
      "    \"\"\"\n",
      "    def __attrnames(self):\n",
      "        result = ''\n",
      "        for attr in sorted(self.__dict__):\n",
      "            result += '\\t%s=%s\\n' % (attr, self.__dict__[attr])\n",
      "        return result\n",
      "\n",
      "    def __str__(self):\n",
      "        return '<Instance of %s, address %s:\\n%s>' % (\n",
      "                           self.__class__.__name__,         # My class's name\n",
      "                           id(self),                        # My address\n",
      "                           self.__attrnames())              # name=value list\n",
      "\n",
      "if __name__ == '__main__': \n",
      "    import testmixin\n",
      "    testmixin.tester(ListInstance)\n"
     ]
    }
   ],
   "source": [
    "!cat code/listinstance.py"
   ]
  },
  {
   "cell_type": "code",
   "execution_count": 11,
   "id": "0128be09",
   "metadata": {},
   "outputs": [
    {
     "name": "stdout",
     "output_type": "stream",
     "text": [
      "#!python\n",
      "# File listinherited.py (2.X + 3.X)\n",
      "\n",
      "class ListInherited:\n",
      "    \"\"\"\n",
      "    Use dir() to collect both instance attrs and names inherited from \n",
      "    its classes;  Python 3.X shows more names than 2.X because of the \n",
      "    implied object superclass in the new-style class model;  getattr() \n",
      "    fetches inherited names not in self.__dict__;  use __str__, not \n",
      "    __repr__, or else this loops when printing bound methods!\n",
      "    \"\"\"\n",
      "    def __attrnames(self):\n",
      "        result = ''\n",
      "        for attr in dir(self):                              # Instance dir()\n",
      "            if attr[:2] == '__' and attr[-2:] == '__':      # Skip internals\n",
      "                result += '\\t%s\\n' % attr\n",
      "            else:\n",
      "                result += '\\t%s=%s\\n' % (attr, getattr(self, attr))\n",
      "        return result\n",
      "\n",
      "    def __str__(self):\n",
      "        return '<Instance of %s, address %s:\\n%s>' % (\n",
      "                           self.__class__.__name__,         # My class's name\n",
      "                           id(self),                        # My address\n",
      "                           self.__attrnames())              # name=value list\n",
      "\n",
      "if __name__ == '__main__': \n",
      "    import testmixin\n",
      "    testmixin.tester(ListInherited)\n"
     ]
    }
   ],
   "source": [
    "!cat code/listinherited.py"
   ]
  },
  {
   "cell_type": "code",
   "execution_count": 12,
   "id": "64fd9dd4",
   "metadata": {},
   "outputs": [
    {
     "name": "stdout",
     "output_type": "stream",
     "text": [
      "#!python\n",
      "# File listtree.py (2.X + 3.X)\n",
      "\n",
      "class ListTree:\n",
      "    \"\"\"\n",
      "    Mix-in that returns an __str__ trace of the entire class tree and all \n",
      "    its objects' attrs at and above self;  run by print(), str() returns \n",
      "    constructed string;  uses __X attr names to avoid impacting clients;  \n",
      "    recurses to superclasses explicitly, uses str.format() for clarity;\n",
      "    \"\"\"\n",
      "    def __attrnames(self, obj, indent):\n",
      "        spaces = ' ' * (indent + 1)\n",
      "        result = ''\n",
      "        for attr in sorted(obj.__dict__):\n",
      "            if attr.startswith('__') and attr.endswith('__'):\n",
      "                result += spaces + '{0}\\n'.format(attr)\n",
      "            else:\n",
      "                result += spaces + '{0}={1}\\n'.format(attr, getattr(obj, attr))\n",
      "        return result\n",
      "\n",
      "    def __listclass(self, aClass, indent):\n",
      "        dots = '.' * indent\n",
      "        if aClass in self.__visited:\n",
      "            return '\\n{0}<Class {1}:, address {2}: (see above)>\\n'.format(\n",
      "                           dots, \n",
      "                           aClass.__name__, \n",
      "                           id(aClass))\n",
      "        else:\n",
      "            self.__visited[aClass] = True\n",
      "            here  = self.__attrnames(aClass, indent)\n",
      "            above = ''\n",
      "            for super in aClass.__bases__:\n",
      "                above += self.__listclass(super, indent+4)\n",
      "            return '\\n{0}<Class {1}, address {2}:\\n{3}{4}{5}>\\n'.format(\n",
      "                           dots, \n",
      "                           aClass.__name__, \n",
      "                           id(aClass), \n",
      "                           here, above, \n",
      "                           dots)\n",
      "\n",
      "    def __str__(self):\n",
      "        self.__visited = {}\n",
      "        here  = self.__attrnames(self, 0)\n",
      "        above = self.__listclass(self.__class__, 4)\n",
      "        return '<Instance of {0}, address {1}:\\n{2}{3}>'.format(\n",
      "                           self.__class__.__name__,\n",
      "                           id(self),\n",
      "                           here, above)\n",
      "\n",
      "if __name__ == '__main__': \n",
      "    import testmixin\n",
      "    testmixin.tester(ListTree)\n"
     ]
    }
   ],
   "source": [
    "!cat code/listtree.py"
   ]
  },
  {
   "cell_type": "code",
   "execution_count": 50,
   "id": "a9d17c19",
   "metadata": {},
   "outputs": [
    {
     "name": "stdout",
     "output_type": "stream",
     "text": [
      "#!python\n",
      "# File testmixin.py (2.X + 3.X)\n",
      "\"\"\"\n",
      "Generic lister mixin tester: similar to transitive reloader in \n",
      "Chapter 25, but passes a class object to tester (not function),\n",
      "and testByNames adds loading of both module and class by name \n",
      "strings here, in keeping with Chapter 31's factories pattern.\n",
      "\"\"\"\n",
      "import importlib\n",
      "\n",
      "def tester(listerclass, sept=False):\n",
      "\n",
      "    class Super:\n",
      "        def __init__(self):            # Superclass __init__\n",
      "            self.data1 = 'spam'        # Create instance attrs\n",
      "        def ham(self):\n",
      "            pass\n",
      "\n",
      "    class Sub(Super, listerclass):     # Mix in ham and a __str__\n",
      "        def __init__(self):            # Listers have access to self\n",
      "            Super.__init__(self)\n",
      "            self.data2 = 'eggs'        # More instance attrs\n",
      "            self.data3 = 42\n",
      "        def spam(self):                # Define another method here\n",
      "            pass\n",
      "\n",
      "    instance = Sub()                   # Return instance with lister's __str__\n",
      "    print(instance)                    # Run mixed-in __str__ (or via str(x))\n",
      "    if sept: print('-' * 80)\n",
      "\n",
      "def testByNames(modname, classname, sept=False):\n",
      "    modobject   = importlib.import_module(modname)  # Import by namestring\n",
      "    listerclass = getattr(modobject, classname)     # Fetch attr by namestring\n",
      "    tester(listerclass, sept)\n",
      "\n",
      "if __name__ == '__main__':\n",
      "    testByNames('listinstance',  'ListInstance',  True)      # Test all 3 here\n",
      "    testByNames('listinherited', 'ListInherited', True)\n",
      "    testByNames('listtree',      'ListTree',      False)\n"
     ]
    }
   ],
   "source": [
    "!cat code/testmixin.py"
   ]
  },
  {
   "cell_type": "code",
   "execution_count": 51,
   "id": "87336aab",
   "metadata": {},
   "outputs": [
    {
     "name": "stdout",
     "output_type": "stream",
     "text": [
      "<Instance of Sub, address 2384579802688:\n",
      "\tdata1=spam\n",
      "\tdata2=eggs\n",
      "\tdata3=42\n",
      ">\n",
      "--------------------------------------------------------------------------------\n",
      "<Instance of Sub, address 2384583209744:\n",
      "\t_ListInherited__attrnames=<bound method ListInherited.__attrnames of <__main__.tester.<locals>.Sub object at 0x0000022B343C3310>>\n",
      "\t__class__\n",
      "\t__delattr__\n",
      "\t__dict__\n",
      "\t__dir__\n",
      "\t__doc__\n",
      "\t__eq__\n",
      "\t__format__\n",
      "\t__ge__\n",
      "\t__getattribute__\n",
      "\t__gt__\n",
      "\t__hash__\n",
      "\t__init__\n",
      "\t__init_subclass__\n",
      "\t__le__\n",
      "\t__lt__\n",
      "\t__module__\n",
      "\t__ne__\n",
      "\t__new__\n",
      "\t__reduce__\n",
      "\t__reduce_ex__\n",
      "\t__repr__\n",
      "\t__setattr__\n",
      "\t__sizeof__\n",
      "\t__str__\n",
      "\t__subclasshook__\n",
      "\t__weakref__\n",
      "\tdata1=spam\n",
      "\tdata2=eggs\n",
      "\tdata3=42\n",
      "\tham=<bound method tester.<locals>.Super.ham of <__main__.tester.<locals>.Sub object at 0x0000022B343C3310>>\n",
      "\tspam=<bound method tester.<locals>.Sub.spam of <__main__.tester.<locals>.Sub object at 0x0000022B343C3310>>\n",
      ">\n",
      "--------------------------------------------------------------------------------\n",
      "<Instance of Sub, address 2384583340528:\n",
      " _ListTree__visited={}\n",
      " data1=spam\n",
      " data2=eggs\n",
      " data3=42\n",
      "\n",
      "....<Class Sub, address 2384582333824:\n",
      "     __doc__\n",
      "     __init__\n",
      "     __module__\n",
      "     spam=<function tester.<locals>.Sub.spam at 0x0000022B343E43A0>\n",
      "\n",
      "........<Class Super, address 2384582315888:\n",
      "         __dict__\n",
      "         __doc__\n",
      "         __init__\n",
      "         __module__\n",
      "         __weakref__\n",
      "         ham=<function tester.<locals>.Super.ham at 0x0000022B343E4280>\n",
      "\n",
      "............<Class object, address 140726052436816:\n",
      "             __class__\n",
      "             __delattr__\n",
      "             __dir__\n",
      "             __doc__\n",
      "             __eq__\n",
      "             __format__\n",
      "             __ge__\n",
      "             __getattribute__\n",
      "             __gt__\n",
      "             __hash__\n",
      "             __init__\n",
      "             __init_subclass__\n",
      "             __le__\n",
      "             __lt__\n",
      "             __ne__\n",
      "             __new__\n",
      "             __reduce__\n",
      "             __reduce_ex__\n",
      "             __repr__\n",
      "             __setattr__\n",
      "             __sizeof__\n",
      "             __str__\n",
      "             __subclasshook__\n",
      "............>\n",
      "........>\n",
      "\n",
      "........<Class ListTree, address 2384582338544:\n",
      "         _ListTree__attrnames=<function ListTree.__attrnames at 0x0000022B343E40D0>\n",
      "         _ListTree__listclass=<function ListTree.__listclass at 0x0000022B343E4160>\n",
      "         __dict__\n",
      "         __doc__\n",
      "         __module__\n",
      "         __str__\n",
      "         __weakref__\n",
      "\n",
      "............<Class object:, address 140726052436816: (see above)>\n",
      "........>\n",
      "....>\n",
      ">\n"
     ]
    }
   ],
   "source": [
    "!python code/testmixin.py"
   ]
  },
  {
   "cell_type": "code",
   "execution_count": 47,
   "id": "4b3e5578",
   "metadata": {},
   "outputs": [
    {
     "name": "stdout",
     "output_type": "stream",
     "text": [
      "#!python\n",
      "# File listinstance.py (2.X + 3.X)\n",
      "\n",
      "class ListInstance:\n",
      "    \"\"\"\n",
      "    Mix-in class that provides a formatted print() or str() of instances via \n",
      "    inheritance of __str__ coded here;  displays instance attrs only;  self is\n",
      "    instance of lowest class; __X names avoid clashing with client's attrs\n",
      "    \"\"\"\n",
      "    def __attrnames(self):\n",
      "        result = ''\n",
      "        for attr in sorted(self.__dict__):\n",
      "            result += '\\t%s=%s\\n' % (attr, self.__dict__[attr])\n",
      "        return result\n",
      "\n",
      "    def __str__(self):\n",
      "        return '<Instance of %s, address %s:\\n%s>' % (\n",
      "                           self.__class__.__name__,         # My class's name\n",
      "                           id(self),                        # My address\n",
      "                           self.__attrnames())              # name=value list\n",
      "\n",
      "if __name__ == '__main__': \n",
      "    import testmixin\n",
      "    testmixin.tester(ListInstance)\n"
     ]
    }
   ],
   "source": [
    "!cat code/listinstance.py"
   ]
  },
  {
   "cell_type": "code",
   "execution_count": 48,
   "id": "2bbbea4b",
   "metadata": {},
   "outputs": [
    {
     "name": "stdout",
     "output_type": "stream",
     "text": [
      "<Instance of Sub, address 2453406240528:\n",
      "\tdata1=spam\n",
      "\tdata2=eggs\n",
      "\tdata3=42\n",
      ">\n"
     ]
    }
   ],
   "source": [
    "!python code/listinstance.py"
   ]
  },
  {
   "cell_type": "code",
   "execution_count": 6,
   "id": "71deaaac",
   "metadata": {},
   "outputs": [
    {
     "name": "stdout",
     "output_type": "stream",
     "text": [
      "<Instance of Spam, address 1646341761200:\n",
      "\tdata1=food\n",
      ">\n"
     ]
    }
   ],
   "source": [
    "from listinstance import ListInstance\n",
    "class Spam(ListInstance):                    # Inherit a __str__ method\n",
    "        def __init__(self):\n",
    "            self.data1 = 'food'\n",
    "\n",
    "x = Spam()\n",
    "print(x)                                     # print() and str() run __str__"
   ]
  },
  {
   "cell_type": "code",
   "execution_count": 8,
   "id": "4480cb0f",
   "metadata": {},
   "outputs": [
    {
     "data": {
      "text/plain": [
       "['_ListInstance__attrnames',\n",
       " '__class__',\n",
       " '__delattr__',\n",
       " '__dict__',\n",
       " '__dir__',\n",
       " '__doc__',\n",
       " '__eq__',\n",
       " '__format__',\n",
       " '__ge__',\n",
       " '__getattribute__',\n",
       " '__gt__',\n",
       " '__hash__',\n",
       " '__init__',\n",
       " '__init_subclass__',\n",
       " '__le__',\n",
       " '__lt__',\n",
       " '__module__',\n",
       " '__ne__',\n",
       " '__new__',\n",
       " '__reduce__',\n",
       " '__reduce_ex__',\n",
       " '__repr__',\n",
       " '__setattr__',\n",
       " '__sizeof__',\n",
       " '__str__',\n",
       " '__subclasshook__',\n",
       " '__weakref__',\n",
       " 'data1']"
      ]
     },
     "execution_count": 8,
     "metadata": {},
     "output_type": "execute_result"
    }
   ],
   "source": [
    "dir(x)"
   ]
  },
  {
   "cell_type": "code",
   "execution_count": 9,
   "id": "19944824",
   "metadata": {},
   "outputs": [
    {
     "data": {
      "text/plain": [
       "'food'"
      ]
     },
     "execution_count": 9,
     "metadata": {},
     "output_type": "execute_result"
    }
   ],
   "source": [
    "getattr(x, 'data1')"
   ]
  },
  {
   "cell_type": "code",
   "execution_count": 10,
   "id": "1218c23a",
   "metadata": {},
   "outputs": [
    {
     "data": {
      "text/plain": [
       "__main__.Spam"
      ]
     },
     "execution_count": 10,
     "metadata": {},
     "output_type": "execute_result"
    }
   ],
   "source": [
    "getattr(x, '__class__')"
   ]
  },
  {
   "cell_type": "code",
   "execution_count": 15,
   "id": "1d52b065",
   "metadata": {},
   "outputs": [],
   "source": [
    "getattr(x, '__doc__')"
   ]
  },
  {
   "cell_type": "code",
   "execution_count": 14,
   "id": "64795ad6",
   "metadata": {},
   "outputs": [
    {
     "data": {
      "text/plain": [
       "<function Spam.__reduce__()>"
      ]
     },
     "execution_count": 14,
     "metadata": {},
     "output_type": "execute_result"
    }
   ],
   "source": [
    "getattr(x, '__reduce__')"
   ]
  },
  {
   "cell_type": "code",
   "execution_count": 16,
   "id": "f9d5827e",
   "metadata": {},
   "outputs": [
    {
     "data": {
      "text/plain": [
       "'<built-in method __reduce__ of Spam object at 0x0000017F519DA8B0>'"
      ]
     },
     "execution_count": 16,
     "metadata": {},
     "output_type": "execute_result"
    }
   ],
   "source": [
    "'{0}'.format(x.__reduce__)"
   ]
  },
  {
   "cell_type": "code",
   "execution_count": 17,
   "id": "8de291e5",
   "metadata": {},
   "outputs": [
    {
     "data": {
      "text/plain": [
       "'<built-in method __reduce__ of Spam object at 0x0000017F519DA8B0>'"
      ]
     },
     "execution_count": 17,
     "metadata": {},
     "output_type": "execute_result"
    }
   ],
   "source": [
    "'{0!s}'.format(x.__reduce__)"
   ]
  },
  {
   "cell_type": "code",
   "execution_count": 12,
   "id": "601dda72",
   "metadata": {},
   "outputs": [],
   "source": [
    "x.__doc__"
   ]
  },
  {
   "cell_type": "code",
   "execution_count": 13,
   "id": "2279aba2",
   "metadata": {},
   "outputs": [
    {
     "data": {
      "text/plain": [
       "'food'"
      ]
     },
     "execution_count": 13,
     "metadata": {},
     "output_type": "execute_result"
    }
   ],
   "source": [
    "x.data1"
   ]
  },
  {
   "cell_type": "code",
   "execution_count": 52,
   "id": "1ecbaa76",
   "metadata": {},
   "outputs": [
    {
     "name": "stdout",
     "output_type": "stream",
     "text": [
      "#!python\n",
      "# File listinherited.py (2.X + 3.X)\n",
      "\n",
      "class ListInherited:\n",
      "    \"\"\"\n",
      "    Use dir() to collect both instance attrs and names inherited from \n",
      "    its classes;  Python 3.X shows more names than 2.X because of the \n",
      "    implied object superclass in the new-style class model;  getattr() \n",
      "    fetches inherited names not in self.__dict__;  use __str__, not \n",
      "    __repr__, or else this loops when printing bound methods!\n",
      "    \"\"\"\n",
      "    def __attrnames(self):\n",
      "        result = ''\n",
      "        for attr in dir(self):                              # Instance dir()\n",
      "            if attr[:2] == '__' and attr[-2:] == '__':      # Skip internals\n",
      "                result += '\\t%s\\n' % attr\n",
      "            else:\n",
      "                result += '\\t%s=%s\\n' % (attr, getattr(self, attr))\n",
      "        return result\n",
      "\n",
      "    def __str__(self):\n",
      "        return '<Instance of %s, address %s:\\n%s>' % (\n",
      "                           self.__class__.__name__,         # My class's name\n",
      "                           id(self),                        # My address\n",
      "                           self.__attrnames())              # name=value list\n",
      "\n",
      "if __name__ == '__main__': \n",
      "    import testmixin\n",
      "    testmixin.tester(ListInherited)\n"
     ]
    }
   ],
   "source": [
    "!cat code/listinherited.py"
   ]
  },
  {
   "cell_type": "code",
   "execution_count": 53,
   "id": "c3eecc0e",
   "metadata": {},
   "outputs": [
    {
     "name": "stdout",
     "output_type": "stream",
     "text": [
      "<Instance of Sub, address 1723721862928:\n",
      "\t_ListInherited__attrnames=<bound method ListInherited.__attrnames of <testmixin.tester.<locals>.Sub object at 0x0000019155D44F10>>\n",
      "\t__class__\n",
      "\t__delattr__\n",
      "\t__dict__\n",
      "\t__dir__\n",
      "\t__doc__\n",
      "\t__eq__\n",
      "\t__format__\n",
      "\t__ge__\n",
      "\t__getattribute__\n",
      "\t__gt__\n",
      "\t__hash__\n",
      "\t__init__\n",
      "\t__init_subclass__\n",
      "\t__le__\n",
      "\t__lt__\n",
      "\t__module__\n",
      "\t__ne__\n",
      "\t__new__\n",
      "\t__reduce__\n",
      "\t__reduce_ex__\n",
      "\t__repr__\n",
      "\t__setattr__\n",
      "\t__sizeof__\n",
      "\t__str__\n",
      "\t__subclasshook__\n",
      "\t__weakref__\n",
      "\tdata1=spam\n",
      "\tdata2=eggs\n",
      "\tdata3=42\n",
      "\tham=<bound method tester.<locals>.Super.ham of <testmixin.tester.<locals>.Sub object at 0x0000019155D44F10>>\n",
      "\tspam=<bound method tester.<locals>.Sub.spam of <testmixin.tester.<locals>.Sub object at 0x0000019155D44F10>>\n",
      ">\n"
     ]
    }
   ],
   "source": [
    "!python code/listinherited.py"
   ]
  },
  {
   "cell_type": "code",
   "execution_count": 54,
   "id": "37a3b17c",
   "metadata": {},
   "outputs": [
    {
     "name": "stdout",
     "output_type": "stream",
     "text": [
      "#!python\n",
      "# File listinherited.py (2.X + 3.X)\n",
      "\n",
      "class ListInherited:\n",
      "    \"\"\"\n",
      "    Use dir() to collect both instance attrs and names inherited from \n",
      "    its classes;  Python 3.X shows more names than 2.X because of the \n",
      "    implied object superclass in the new-style class model;  getattr() \n",
      "    fetches inherited names not in self.__dict__;  use __str__, not \n",
      "    __repr__, or else this loops when printing bound methods!\n",
      "    \"\"\"\n",
      "    def __attrnames(self, indent=' '*4):\n",
      "        result  = 'Unders%s\\n%s%%s\\nOthers%s\\n' % ('-'*77, indent, '-'*77)\n",
      "        unders = []\n",
      "        for attr in dir(self):                              # Instance dir()\n",
      "            if attr[:2] == '__' and attr[-2:] == '__':      # Skip internals\n",
      "                unders.append(attr)\n",
      "            else:\n",
      "                display = str(getattr(self, attr))[:82-(len(indent) + len(attr))]\n",
      "                result += '%s%s=%s\\n' % (indent, attr, display)\n",
      "        return result % ', '.join(unders)\n",
      "\n",
      "    def __str__(self):\n",
      "        return '<Instance of %s, address %s:\\n%s>' % (\n",
      "                           self.__class__.__name__,         # My class's name\n",
      "                           id(self),                        # My address\n",
      "                           self.__attrnames())              # name=value list\n",
      "\n",
      "if __name__ == '__main__': \n",
      "    import testmixin\n",
      "    testmixin.tester(ListInherited)\n"
     ]
    }
   ],
   "source": [
    "!cat code/listinherited2.py"
   ]
  },
  {
   "cell_type": "code",
   "execution_count": 55,
   "id": "49706f61",
   "metadata": {},
   "outputs": [
    {
     "name": "stdout",
     "output_type": "stream",
     "text": [
      "<Instance of Sub, address 1323263872784:\n",
      "Unders-----------------------------------------------------------------------------\n",
      "    __class__, __delattr__, __dict__, __dir__, __doc__, __eq__, __format__, __ge__, __getattribute__, __gt__, __hash__, __init__, __init_subclass__, __le__, __lt__, __module__, __ne__, __new__, __reduce__, __reduce_ex__, __repr__, __setattr__, __sizeof__, __str__, __subclasshook__, __weakref__\n",
      "Others-----------------------------------------------------------------------------\n",
      "    _ListInherited__attrnames=<bound method ListInherited.__attrnames of <testmixin\n",
      "    data1=spam\n",
      "    data2=eggs\n",
      "    data3=42\n",
      "    ham=<bound method tester.<locals>.Super.ham of <testmixin.tester.<locals>.Sub o\n",
      "    spam=<bound method tester.<locals>.Sub.spam of <testmixin.tester.<locals>.Sub o\n",
      ">\n"
     ]
    }
   ],
   "source": [
    "!python code/listinherited2.py"
   ]
  },
  {
   "cell_type": "code",
   "execution_count": 56,
   "id": "701f88e4",
   "metadata": {},
   "outputs": [
    {
     "name": "stdout",
     "output_type": "stream",
     "text": [
      "#!python\n",
      "# File listtree.py (2.X + 3.X)\n",
      "\n",
      "class ListTree:\n",
      "    \"\"\"\n",
      "    Mix-in that returns an __str__ trace of the entire class tree and all \n",
      "    its objects' attrs at and above self;  run by print(), str() returns \n",
      "    constructed string;  uses __X attr names to avoid impacting clients;  \n",
      "    recurses to superclasses explicitly, uses str.format() for clarity;\n",
      "    \"\"\"\n",
      "    def __attrnames(self, obj, indent):\n",
      "        spaces = ' ' * (indent + 1)\n",
      "        result = ''\n",
      "        for attr in sorted(obj.__dict__):\n",
      "            if attr.startswith('__') and attr.endswith('__'):\n",
      "                result += spaces + '{0}\\n'.format(attr)\n",
      "            else:\n",
      "                result += spaces + '{0}={1}\\n'.format(attr, getattr(obj, attr))\n",
      "        return result\n",
      "\n",
      "    def __listclass(self, aClass, indent):\n",
      "        dots = '.' * indent\n",
      "        if aClass in self.__visited:\n",
      "            return '\\n{0}<Class {1}:, address {2}: (see above)>\\n'.format(\n",
      "                           dots, \n",
      "                           aClass.__name__, \n",
      "                           id(aClass))\n",
      "        else:\n",
      "            self.__visited[aClass] = True\n",
      "            here  = self.__attrnames(aClass, indent)\n",
      "            above = ''\n",
      "            for super in aClass.__bases__:\n",
      "                above += self.__listclass(super, indent+4)\n",
      "            return '\\n{0}<Class {1}, address {2}:\\n{3}{4}{5}>\\n'.format(\n",
      "                           dots, \n",
      "                           aClass.__name__, \n",
      "                           id(aClass), \n",
      "                           here, above, \n",
      "                           dots)\n",
      "\n",
      "    def __str__(self):\n",
      "        self.__visited = {}\n",
      "        here  = self.__attrnames(self, 0)\n",
      "        above = self.__listclass(self.__class__, 4)\n",
      "        return '<Instance of {0}, address {1}:\\n{2}{3}>'.format(\n",
      "                           self.__class__.__name__,\n",
      "                           id(self),\n",
      "                           here, above)\n",
      "\n",
      "if __name__ == '__main__': \n",
      "    import testmixin\n",
      "    testmixin.tester(ListTree)\n"
     ]
    }
   ],
   "source": [
    "!cat code/listtree.py"
   ]
  },
  {
   "cell_type": "code",
   "execution_count": 57,
   "id": "f398b4e6",
   "metadata": {},
   "outputs": [
    {
     "name": "stdout",
     "output_type": "stream",
     "text": [
      "<Instance of Sub, address 2220457676752:\n",
      " _ListTree__visited={}\n",
      " data1=spam\n",
      " data2=eggs\n",
      " data3=42\n",
      "\n",
      "....<Class Sub, address 2220448108688:\n",
      "     __doc__\n",
      "     __init__\n",
      "     __module__\n",
      "     spam=<function tester.<locals>.Sub.spam at 0x00000204FD99DE50>\n",
      "\n",
      "........<Class Super, address 2220448115296:\n",
      "         __dict__\n",
      "         __doc__\n",
      "         __init__\n",
      "         __module__\n",
      "         __weakref__\n",
      "         ham=<function tester.<locals>.Super.ham at 0x00000204FD99DD30>\n",
      "\n",
      "............<Class object, address 140726052436816:\n",
      "             __class__\n",
      "             __delattr__\n",
      "             __dir__\n",
      "             __doc__\n",
      "             __eq__\n",
      "             __format__\n",
      "             __ge__\n",
      "             __getattribute__\n",
      "             __gt__\n",
      "             __hash__\n",
      "             __init__\n",
      "             __init_subclass__\n",
      "             __le__\n",
      "             __lt__\n",
      "             __ne__\n",
      "             __new__\n",
      "             __reduce__\n",
      "             __reduce_ex__\n",
      "             __repr__\n",
      "             __setattr__\n",
      "             __sizeof__\n",
      "             __str__\n",
      "             __subclasshook__\n",
      "............>\n",
      "........>\n",
      "\n",
      "........<Class ListTree, address 2220448110576:\n",
      "         _ListTree__attrnames=<function ListTree.__attrnames at 0x00000204FD99D940>\n",
      "         _ListTree__listclass=<function ListTree.__listclass at 0x00000204FD99D9D0>\n",
      "         __dict__\n",
      "         __doc__\n",
      "         __module__\n",
      "         __str__\n",
      "         __weakref__\n",
      "\n",
      "............<Class object:, address 140726052436816: (see above)>\n",
      "........>\n",
      "....>\n",
      ">\n"
     ]
    }
   ],
   "source": [
    "!python code/listtree.py"
   ]
  },
  {
   "cell_type": "code",
   "execution_count": 13,
   "id": "498dfe69",
   "metadata": {},
   "outputs": [
    {
     "name": "stdout",
     "output_type": "stream",
     "text": [
      "<Instance of C, address 1636303971616:\n",
      "\ta=1\n",
      "\tb=2\n",
      "\tc=3\n",
      ">\n"
     ]
    }
   ],
   "source": [
    "import listinstance\n",
    "class C(listinstance.ListInstance): pass\n",
    "\n",
    "x = C()\n",
    "x.a, x.b, x.c = 1, 2, 3\n",
    "print(x)"
   ]
  },
  {
   "cell_type": "code",
   "execution_count": 4,
   "id": "a4abb24a",
   "metadata": {},
   "outputs": [
    {
     "data": {
      "text/plain": [
       "(object,)"
      ]
     },
     "execution_count": 4,
     "metadata": {},
     "output_type": "execute_result"
    }
   ],
   "source": [
    "class C: pass\n",
    "class B(C): pass\n",
    "C.__bases__"
   ]
  },
  {
   "cell_type": "code",
   "execution_count": 5,
   "id": "097a32de",
   "metadata": {},
   "outputs": [
    {
     "data": {
      "text/plain": [
       "(__main__.C,)"
      ]
     },
     "execution_count": 5,
     "metadata": {},
     "output_type": "execute_result"
    }
   ],
   "source": [
    "B.__bases__"
   ]
  },
  {
   "cell_type": "code",
   "execution_count": 20,
   "id": "89497190",
   "metadata": {},
   "outputs": [
    {
     "data": {
      "text/plain": [
       "20252"
      ]
     },
     "execution_count": 20,
     "metadata": {},
     "output_type": "execute_result"
    }
   ],
   "source": [
    "from listtree import ListTree\n",
    "from tkinter import Button                  # Both classes have a __str__\n",
    "class MyButton(ListTree, Button): pass      # ListTree first: use its __str__\n",
    "\n",
    "B = MyButton(text='spam')\n",
    "open('code/savetree.txt', 'w').write(str(B))     # Save to a file for later viewing"
   ]
  },
  {
   "cell_type": "code",
   "execution_count": 22,
   "id": "dae9e8a0",
   "metadata": {},
   "outputs": [
    {
     "data": {
      "text/plain": [
       "320"
      ]
     },
     "execution_count": 22,
     "metadata": {},
     "output_type": "execute_result"
    }
   ],
   "source": [
    "len(open('code/savetree.txt').readlines())       # Lines in the file"
   ]
  },
  {
   "cell_type": "code",
   "execution_count": 23,
   "id": "6ed8d83d",
   "metadata": {},
   "outputs": [
    {
     "name": "stdout",
     "output_type": "stream",
     "text": [
      "<Instance of MyButton, address 1646342028160:\n",
      " _ListTree__visited={}\n",
      " _name=!mybutton\n",
      " _tclCommands=[]\n",
      " _w=.!mybutton\n",
      " children={}\n",
      " master=.\n",
      " tk=<_tkinter.tkapp object at 0x0000017F51B0A7B0>\n",
      " widgetName=button\n",
      "\n",
      "....<Class MyButton, address 1646324878960:\n",
      "     __doc__\n",
      "     __module__\n",
      "\n",
      "........<Class ListTree, address 1646325090416:\n",
      "         _ListTree__attrnames=<function ListTree.__attrnames at 0x0000017F519FCD30>\n",
      "         _ListTree__listclass=<function ListTree.__listclass at 0x0000017F519FCF70>\n",
      "         __dict__\n",
      "         __doc__\n",
      "         __module__\n",
      "         __str__\n",
      "         __weakref__\n",
      "\n",
      "............<Class object, address 140726206053200:\n",
      "             __class__\n",
      "             __delattr__\n",
      "             __dir__\n",
      "             __doc__\n",
      "             __eq__\n",
      "             __format__\n",
      "             __ge__\n",
      "             __getattribute__\n",
      "             __gt__\n",
      "             __hash__\n",
      "             __init__\n",
      "             __init_subclass__\n",
      "             __le__\n",
      "             __lt__\n",
      "             __ne__\n",
      "             __new__\n",
      "             __reduce__\n",
      "             __reduce_ex__\n",
      "             __repr__\n",
      "             __setattr__\n",
      "             __sizeof__\n",
      "             __str__\n",
      "             __subclasshook__\n",
      "............>\n",
      "........>\n",
      "\n",
      "........<Class Button, address 1646324867632:\n",
      "         __doc__\n",
      "         __init__\n",
      "         __module__\n",
      "         flash=<function Button.flash at 0x0000017F51B86D30>\n",
      "         invoke=<function Button.invoke at 0x0000017F51B86DC0>\n",
      "\n",
      "............<Class Widget, address 1646324864800:\n",
      "             __doc__\n",
      "             __module__\n",
      "\n",
      "................<Class BaseWidget, address 1646325099856:\n",
      "                 __doc__\n",
      "                 __init__\n",
      "                 __module__\n",
      "                 _do=<function BaseWidget._do at 0x0000017F51B86B80>\n",
      "                 _setup=<function BaseWidget._setup at 0x0000017F51B869D0>\n",
      "                 destroy=<function BaseWidget.destroy at 0x0000017F51B86AF0>\n",
      "\n",
      "....................<Class Misc, address 1646325092304:\n",
      "                     _Misc__winfo_getint=<function Misc.__winfo_getint at 0x0000017F51B82790>\n",
      "                     _Misc__winfo_parseitem=<function Misc.__winfo_parseitem at 0x0000017F51B82700>\n",
      "                     __dict__\n",
      "                     __doc__\n",
      "                     __getitem__\n",
      "                     __module__\n",
      "                     __repr__\n",
      "                     __setitem__\n",
      "                     __str__\n",
      "                     __weakref__\n",
      "                     _bind=<function Misc._bind at 0x0000017F51B82DC0>\n",
      "                     _configure=<function Misc._configure at 0x0000017F51B83A60>\n",
      "                     _displayof=<function Misc._displayof at 0x0000017F51B834C0>\n",
      "                     _getboolean=<function Misc._getboolean at 0x0000017F51B83430>\n",
      "                     _getconfigure=<function Misc._getconfigure at 0x0000017F51B83940>\n",
      "                     _getconfigure1=<function Misc._getconfigure1 at 0x0000017F51B839D0>\n",
      "                     _getdoubles=<function Misc._getdoubles at 0x0000017F51B833A0>\n",
      "                     _getints=<function Misc._getints at 0x0000017F51B83310>\n",
      "                     _grid_configure=<function Misc._grid_configure at 0x0000017F51B841F0>\n",
      "                     _gridconvvalue=<function Misc._gridconvvalue at 0x0000017F51B84160>\n",
      "                     _last_child_ids=None\n",
      "                     _nametowidget=<function Misc.nametowidget at 0x0000017F51B83670>\n",
      "                     _noarg_=['_noarg_']\n",
      "                     _options=<function Misc._options at 0x0000017F51B835E0>\n",
      "                     _register=<function Misc._register at 0x0000017F51B83700>\n",
      "                     _report_exception=<function Misc._report_exception at 0x0000017F51B838B0>\n",
      "                     _root=<function Misc._root at 0x0000017F51B83790>\n",
      "                     _subst_format=('%#', '%b', '%f', '%h', '%k', '%s', '%t', '%w', '%x', '%y', '%A', '%E', '%K', '%N', '%W', '%T', '%X', '%Y', '%D')\n",
      "                     _subst_format_str=%# %b %f %h %k %s %t %w %x %y %A %E %K %N %W %T %X %Y %D\n",
      "                     _substitute=<function Misc._substitute at 0x0000017F51B83820>\n",
      "                     _tclCommands=None\n",
      "                     _windowingsystem=<property object at 0x0000017F51A295E0>\n",
      "                     after=<function Misc.after at 0x0000017F51B80160>\n",
      "                     after_cancel=<function Misc.after_cancel at 0x0000017F51B80280>\n",
      "                     after_idle=<function Misc.after_idle at 0x0000017F51B801F0>\n",
      "                     anchor=<function Misc.grid_anchor at 0x0000017F51B84040>\n",
      "                     bbox=<function Misc.grid_bbox at 0x0000017F51B840D0>\n",
      "                     bell=<function Misc.bell at 0x0000017F51B80310>\n",
      "                     bind=<function Misc.bind at 0x0000017F51B82E50>\n",
      "                     bind_all=<function Misc.bind_all at 0x0000017F51B82F70>\n",
      "                     bind_class=<function Misc.bind_class at 0x0000017F51B830D0>\n",
      "                     bindtags=<function Misc.bindtags at 0x0000017F51B82D30>\n",
      "                     cget=<function Misc.cget at 0x0000017F51B83B80>\n",
      "                     clipboard_append=<function Misc.clipboard_append at 0x0000017F51B804C0>\n",
      "                     clipboard_clear=<function Misc.clipboard_clear at 0x0000017F51B80430>\n",
      "                     clipboard_get=<function Misc.clipboard_get at 0x0000017F51B803A0>\n",
      "                     columnconfigure=<function Misc.grid_columnconfigure at 0x0000017F51B84280>\n",
      "                     config=<function Misc.configure at 0x0000017F51B83AF0>\n",
      "                     configure=<function Misc.configure at 0x0000017F51B83AF0>\n",
      "                     deletecommand=<function Misc.deletecommand at 0x0000017F51B7F5E0>\n",
      "                     destroy=<function Misc.destroy at 0x0000017F51B7F550>\n",
      "                     event_add=<function Misc.event_add at 0x0000017F51B845E0>\n",
      "                     event_delete=<function Misc.event_delete at 0x0000017F51B84670>\n",
      "                     event_generate=<function Misc.event_generate at 0x0000017F51B84700>\n",
      "                     event_info=<function Misc.event_info at 0x0000017F51B84790>\n",
      "                     focus=<function Misc.focus_set at 0x0000017F51B7FCA0>\n",
      "                     focus_displayof=<function Misc.focus_displayof at 0x0000017F51B7FE50>\n",
      "                     focus_force=<function Misc.focus_force at 0x0000017F51B7FD30>\n",
      "                     focus_get=<function Misc.focus_get at 0x0000017F51B7FDC0>\n",
      "                     focus_lastfor=<function Misc.focus_lastfor at 0x0000017F51B7FEE0>\n",
      "                     focus_set=<function Misc.focus_set at 0x0000017F51B7FCA0>\n",
      "                     getboolean=<function Misc.getboolean at 0x0000017F51B7FC10>\n",
      "                     getdouble=<function Misc.getdouble at 0x0000017F51B7FB80>\n",
      "                     getint=<function Misc.getint at 0x0000017F51B7FAF0>\n",
      "                     getvar=<function Misc.getvar at 0x0000017F51B7FA60>\n",
      "                     grab_current=<function Misc.grab_current at 0x0000017F51B80550>\n",
      "                     grab_release=<function Misc.grab_release at 0x0000017F51B805E0>\n",
      "                     grab_set=<function Misc.grab_set at 0x0000017F51B80670>\n",
      "                     grab_set_global=<function Misc.grab_set_global at 0x0000017F51B80700>\n",
      "                     grab_status=<function Misc.grab_status at 0x0000017F51B80790>\n",
      "                     grid_anchor=<function Misc.grid_anchor at 0x0000017F51B84040>\n",
      "                     grid_bbox=<function Misc.grid_bbox at 0x0000017F51B840D0>\n",
      "                     grid_columnconfigure=<function Misc.grid_columnconfigure at 0x0000017F51B84280>\n",
      "                     grid_location=<function Misc.grid_location at 0x0000017F51B84310>\n",
      "                     grid_propagate=<function Misc.grid_propagate at 0x0000017F51B843A0>\n",
      "                     grid_rowconfigure=<function Misc.grid_rowconfigure at 0x0000017F51B84430>\n",
      "                     grid_size=<function Misc.grid_size at 0x0000017F51B844C0>\n",
      "                     grid_slaves=<function Misc.grid_slaves at 0x0000017F51B84550>\n",
      "                     image_names=<function Misc.image_names at 0x0000017F51B84820>\n",
      "                     image_types=<function Misc.image_types at 0x0000017F51B848B0>\n",
      "                     keys=<function Misc.keys at 0x0000017F51B83CA0>\n",
      "                     lift=<function Misc.tkraise at 0x0000017F51B80E50>\n",
      "                     lower=<function Misc.lower at 0x0000017F51B80DC0>\n",
      "                     mainloop=<function Misc.mainloop at 0x0000017F51B831F0>\n",
      "                     nametowidget=<function Misc.nametowidget at 0x0000017F51B83670>\n",
      "                     option_add=<function Misc.option_add at 0x0000017F51B80820>\n",
      "                     option_clear=<function Misc.option_clear at 0x0000017F51B808B0>\n",
      "                     option_get=<function Misc.option_get at 0x0000017F51B80940>\n",
      "                     option_readfile=<function Misc.option_readfile at 0x0000017F51B809D0>\n",
      "                     pack_propagate=<function Misc.pack_propagate at 0x0000017F51B83E50>\n",
      "                     pack_slaves=<function Misc.pack_slaves at 0x0000017F51B83EE0>\n",
      "                     place_slaves=<function Misc.place_slaves at 0x0000017F51B83F70>\n",
      "                     propagate=<function Misc.pack_propagate at 0x0000017F51B83E50>\n",
      "                     quit=<function Misc.quit at 0x0000017F51B83280>\n",
      "                     register=<function Misc._register at 0x0000017F51B83700>\n",
      "                     rowconfigure=<function Misc.grid_rowconfigure at 0x0000017F51B84430>\n",
      "                     selection_clear=<function Misc.selection_clear at 0x0000017F51B80A60>\n",
      "                     selection_get=<function Misc.selection_get at 0x0000017F51B80AF0>\n",
      "                     selection_handle=<function Misc.selection_handle at 0x0000017F51B80B80>\n",
      "                     selection_own=<function Misc.selection_own at 0x0000017F51B80C10>\n",
      "                     selection_own_get=<function Misc.selection_own_get at 0x0000017F51B80CA0>\n",
      "                     send=<function Misc.send at 0x0000017F51B80D30>\n",
      "                     setvar=<function Misc.setvar at 0x0000017F51B7F9D0>\n",
      "                     size=<function Misc.grid_size at 0x0000017F51B844C0>\n",
      "                     slaves=<function Misc.pack_slaves at 0x0000017F51B83EE0>\n",
      "                     tk_bisque=<function Misc.tk_bisque at 0x0000017F51B7F700>\n",
      "                     tk_focusFollowsMouse=<function Misc.tk_focusFollowsMouse at 0x0000017F51B7FF70>\n",
      "                     tk_focusNext=<function Misc.tk_focusNext at 0x0000017F51B80040>\n",
      "                     tk_focusPrev=<function Misc.tk_focusPrev at 0x0000017F51B800D0>\n",
      "                     tk_setPalette=<function Misc.tk_setPalette at 0x0000017F51B7F790>\n",
      "                     tk_strictMotif=<function Misc.tk_strictMotif at 0x0000017F51B7F670>\n",
      "                     tkraise=<function Misc.tkraise at 0x0000017F51B80E50>\n",
      "                     unbind=<function Misc.unbind at 0x0000017F51B82EE0>\n",
      "                     unbind_all=<function Misc.unbind_all at 0x0000017F51B83040>\n",
      "                     unbind_class=<function Misc.unbind_class at 0x0000017F51B83160>\n",
      "                     update=<function Misc.update at 0x0000017F51B82C10>\n",
      "                     update_idletasks=<function Misc.update_idletasks at 0x0000017F51B82CA0>\n",
      "                     wait_variable=<function Misc.wait_variable at 0x0000017F51B7F820>\n",
      "                     wait_visibility=<function Misc.wait_visibility at 0x0000017F51B7F940>\n",
      "                     wait_window=<function Misc.wait_window at 0x0000017F51B7F8B0>\n",
      "                     waitvar=<function Misc.wait_variable at 0x0000017F51B7F820>\n",
      "                     winfo_atom=<function Misc.winfo_atom at 0x0000017F51B80EE0>\n",
      "                     winfo_atomname=<function Misc.winfo_atomname at 0x0000017F51B80F70>\n",
      "                     winfo_cells=<function Misc.winfo_cells at 0x0000017F51B81040>\n",
      "                     winfo_children=<function Misc.winfo_children at 0x0000017F51B810D0>\n",
      "                     winfo_class=<function Misc.winfo_class at 0x0000017F51B81160>\n",
      "                     winfo_colormapfull=<function Misc.winfo_colormapfull at 0x0000017F51B811F0>\n",
      "                     winfo_containing=<function Misc.winfo_containing at 0x0000017F51B81280>\n",
      "                     winfo_depth=<function Misc.winfo_depth at 0x0000017F51B81310>\n",
      "                     winfo_exists=<function Misc.winfo_exists at 0x0000017F51B813A0>\n",
      "                     winfo_fpixels=<function Misc.winfo_fpixels at 0x0000017F51B81430>\n",
      "                     winfo_geometry=<function Misc.winfo_geometry at 0x0000017F51B814C0>\n",
      "                     winfo_height=<function Misc.winfo_height at 0x0000017F51B81550>\n",
      "                     winfo_id=<function Misc.winfo_id at 0x0000017F51B815E0>\n",
      "                     winfo_interps=<function Misc.winfo_interps at 0x0000017F51B81670>\n",
      "                     winfo_ismapped=<function Misc.winfo_ismapped at 0x0000017F51B81700>\n",
      "                     winfo_manager=<function Misc.winfo_manager at 0x0000017F51B81790>\n",
      "                     winfo_name=<function Misc.winfo_name at 0x0000017F51B81820>\n",
      "                     winfo_parent=<function Misc.winfo_parent at 0x0000017F51B818B0>\n",
      "                     winfo_pathname=<function Misc.winfo_pathname at 0x0000017F51B81940>\n",
      "                     winfo_pixels=<function Misc.winfo_pixels at 0x0000017F51B819D0>\n",
      "                     winfo_pointerx=<function Misc.winfo_pointerx at 0x0000017F51B81A60>\n",
      "                     winfo_pointerxy=<function Misc.winfo_pointerxy at 0x0000017F51B81AF0>\n",
      "                     winfo_pointery=<function Misc.winfo_pointery at 0x0000017F51B81B80>\n",
      "                     winfo_reqheight=<function Misc.winfo_reqheight at 0x0000017F51B81C10>\n",
      "                     winfo_reqwidth=<function Misc.winfo_reqwidth at 0x0000017F51B81CA0>\n",
      "                     winfo_rgb=<function Misc.winfo_rgb at 0x0000017F51B81D30>\n",
      "                     winfo_rootx=<function Misc.winfo_rootx at 0x0000017F51B81DC0>\n",
      "                     winfo_rooty=<function Misc.winfo_rooty at 0x0000017F51B81E50>\n",
      "                     winfo_screen=<function Misc.winfo_screen at 0x0000017F51B81EE0>\n",
      "                     winfo_screencells=<function Misc.winfo_screencells at 0x0000017F51B81F70>\n",
      "                     winfo_screendepth=<function Misc.winfo_screendepth at 0x0000017F51B82040>\n",
      "                     winfo_screenheight=<function Misc.winfo_screenheight at 0x0000017F51B820D0>\n",
      "                     winfo_screenmmheight=<function Misc.winfo_screenmmheight at 0x0000017F51B82160>\n",
      "                     winfo_screenmmwidth=<function Misc.winfo_screenmmwidth at 0x0000017F51B821F0>\n",
      "                     winfo_screenvisual=<function Misc.winfo_screenvisual at 0x0000017F51B82280>\n",
      "                     winfo_screenwidth=<function Misc.winfo_screenwidth at 0x0000017F51B82310>\n",
      "                     winfo_server=<function Misc.winfo_server at 0x0000017F51B823A0>\n",
      "                     winfo_toplevel=<function Misc.winfo_toplevel at 0x0000017F51B82430>\n",
      "                     winfo_viewable=<function Misc.winfo_viewable at 0x0000017F51B824C0>\n",
      "                     winfo_visual=<function Misc.winfo_visual at 0x0000017F51B82550>\n",
      "                     winfo_visualid=<function Misc.winfo_visualid at 0x0000017F51B825E0>\n",
      "                     winfo_visualsavailable=<function Misc.winfo_visualsavailable at 0x0000017F51B82670>\n",
      "                     winfo_vrootheight=<function Misc.winfo_vrootheight at 0x0000017F51B82820>\n",
      "                     winfo_vrootwidth=<function Misc.winfo_vrootwidth at 0x0000017F51B828B0>\n",
      "                     winfo_vrootx=<function Misc.winfo_vrootx at 0x0000017F51B82940>\n",
      "                     winfo_vrooty=<function Misc.winfo_vrooty at 0x0000017F51B829D0>\n",
      "                     winfo_width=<function Misc.winfo_width at 0x0000017F51B82A60>\n",
      "                     winfo_x=<function Misc.winfo_x at 0x0000017F51B82AF0>\n",
      "                     winfo_y=<function Misc.winfo_y at 0x0000017F51B82B80>\n",
      "\n",
      "........................<Class object:, address 140726206053200: (see above)>\n",
      "....................>\n",
      "................>\n",
      "\n",
      "................<Class Pack, address 1646325110240:\n",
      "                 __dict__\n",
      "                 __doc__\n",
      "                 __module__\n",
      "                 __weakref__\n",
      "                 config=<function Pack.pack_configure at 0x0000017F51B86430>\n",
      "                 configure=<function Pack.pack_configure at 0x0000017F51B86430>\n",
      "                 forget=<function Pack.pack_forget at 0x0000017F51B864C0>\n",
      "                 info=<function Pack.pack_info at 0x0000017F51B86550>\n",
      "                 pack=<function Pack.pack_configure at 0x0000017F51B86430>\n",
      "                 pack_configure=<function Pack.pack_configure at 0x0000017F51B86430>\n",
      "                 pack_forget=<function Pack.pack_forget at 0x0000017F51B864C0>\n",
      "                 pack_info=<function Pack.pack_info at 0x0000017F51B86550>\n",
      "                 pack_propagate=<function Misc.pack_propagate at 0x0000017F51B83E50>\n",
      "                 pack_slaves=<function Misc.pack_slaves at 0x0000017F51B83EE0>\n",
      "                 propagate=<function Misc.pack_propagate at 0x0000017F51B83E50>\n",
      "                 slaves=<function Misc.pack_slaves at 0x0000017F51B83EE0>\n",
      "\n",
      "....................<Class object:, address 140726206053200: (see above)>\n",
      "................>\n",
      "\n",
      "................<Class Place, address 1646325096080:\n",
      "                 __dict__\n",
      "                 __doc__\n",
      "                 __module__\n",
      "                 __weakref__\n",
      "                 config=<function Place.place_configure at 0x0000017F51B865E0>\n",
      "                 configure=<function Place.place_configure at 0x0000017F51B865E0>\n",
      "                 forget=<function Place.place_forget at 0x0000017F51B86670>\n",
      "                 info=<function Place.place_info at 0x0000017F51B86700>\n",
      "                 place=<function Place.place_configure at 0x0000017F51B865E0>\n",
      "                 place_configure=<function Place.place_configure at 0x0000017F51B865E0>\n",
      "                 place_forget=<function Place.place_forget at 0x0000017F51B86670>\n",
      "                 place_info=<function Place.place_info at 0x0000017F51B86700>\n",
      "                 place_slaves=<function Misc.place_slaves at 0x0000017F51B83F70>\n",
      "                 slaves=<function Misc.place_slaves at 0x0000017F51B83F70>\n",
      "\n",
      "....................<Class object:, address 140726206053200: (see above)>\n",
      "................>\n",
      "\n",
      "................<Class Grid, address 1646325093248:\n",
      "                 __dict__\n",
      "                 __doc__\n",
      "                 __module__\n",
      "                 __weakref__\n",
      "                 bbox=<function Misc.grid_bbox at 0x0000017F51B840D0>\n",
      "                 columnconfigure=<function Misc.grid_columnconfigure at 0x0000017F51B84280>\n",
      "                 config=<function Grid.grid_configure at 0x0000017F51B86790>\n",
      "                 configure=<function Grid.grid_configure at 0x0000017F51B86790>\n",
      "                 forget=<function Grid.grid_forget at 0x0000017F51B86820>\n",
      "                 grid=<function Grid.grid_configure at 0x0000017F51B86790>\n",
      "                 grid_bbox=<function Misc.grid_bbox at 0x0000017F51B840D0>\n",
      "                 grid_columnconfigure=<function Misc.grid_columnconfigure at 0x0000017F51B84280>\n",
      "                 grid_configure=<function Grid.grid_configure at 0x0000017F51B86790>\n",
      "                 grid_forget=<function Grid.grid_forget at 0x0000017F51B86820>\n",
      "                 grid_info=<function Grid.grid_info at 0x0000017F51B86940>\n",
      "                 grid_location=<function Misc.grid_location at 0x0000017F51B84310>\n",
      "                 grid_propagate=<function Misc.grid_propagate at 0x0000017F51B843A0>\n",
      "                 grid_remove=<function Grid.grid_remove at 0x0000017F51B868B0>\n",
      "                 grid_rowconfigure=<function Misc.grid_rowconfigure at 0x0000017F51B84430>\n",
      "                 grid_size=<function Misc.grid_size at 0x0000017F51B844C0>\n",
      "                 grid_slaves=<function Misc.grid_slaves at 0x0000017F51B84550>\n",
      "                 info=<function Grid.grid_info at 0x0000017F51B86940>\n",
      "                 location=<function Misc.grid_location at 0x0000017F51B84310>\n",
      "                 propagate=<function Misc.grid_propagate at 0x0000017F51B843A0>\n",
      "                 rowconfigure=<function Misc.grid_rowconfigure at 0x0000017F51B84430>\n",
      "                 size=<function Misc.grid_size at 0x0000017F51B844C0>\n",
      "                 slaves=<function Misc.grid_slaves at 0x0000017F51B84550>\n",
      "\n",
      "....................<Class object:, address 140726206053200: (see above)>\n",
      "................>\n",
      "............>\n",
      "........>\n",
      "....>\n",
      ">\n"
     ]
    }
   ],
   "source": [
    "print(B)    "
   ]
  },
  {
   "cell_type": "code",
   "execution_count": 24,
   "id": "7d49af50",
   "metadata": {},
   "outputs": [
    {
     "name": "stdout",
     "output_type": "stream",
     "text": [
      "# File lister.py\n",
      "# Collect all three listers in one module for convenience\n",
      "\n",
      "from listinstance  import ListInstance\n",
      "from listinherited import ListInherited\n",
      "from listtree      import ListTree\n",
      "\n",
      "Lister = ListTree  # choose a default lister\n",
      "\n"
     ]
    }
   ],
   "source": [
    "!cat code/lister.py"
   ]
  },
  {
   "cell_type": "code",
   "execution_count": 26,
   "id": "e107f96d",
   "metadata": {},
   "outputs": [
    {
     "data": {
      "text/plain": [
       "listinstance.ListInstance"
      ]
     },
     "execution_count": 26,
     "metadata": {},
     "output_type": "execute_result"
    }
   ],
   "source": [
    "import lister\n",
    "lister.ListInstance                          # Use a specific lister"
   ]
  },
  {
   "cell_type": "code",
   "execution_count": 27,
   "id": "f2cdce07",
   "metadata": {},
   "outputs": [
    {
     "data": {
      "text/plain": [
       "listtree.ListTree"
      ]
     },
     "execution_count": 27,
     "metadata": {},
     "output_type": "execute_result"
    }
   ],
   "source": [
    "lister.Lister                                # Use Lister default"
   ]
  },
  {
   "cell_type": "code",
   "execution_count": 28,
   "id": "f697b1cb",
   "metadata": {},
   "outputs": [
    {
     "data": {
      "text/plain": [
       "listtree.ListTree"
      ]
     },
     "execution_count": 28,
     "metadata": {},
     "output_type": "execute_result"
    }
   ],
   "source": [
    "from lister import Lister                    # Use Lister default\n",
    "Lister"
   ]
  },
  {
   "cell_type": "code",
   "execution_count": 29,
   "id": "8120edb0",
   "metadata": {},
   "outputs": [
    {
     "data": {
      "text/plain": [
       "listinstance.ListInstance"
      ]
     },
     "execution_count": 29,
     "metadata": {},
     "output_type": "execute_result"
    }
   ],
   "source": [
    "from lister import ListInstance as Lister    # Use Lister alias\n",
    "Lister"
   ]
  },
  {
   "cell_type": "markdown",
   "id": "1a817971",
   "metadata": {},
   "source": [
    "## Chapter 32. Advanced Class Topics"
   ]
  },
  {
   "cell_type": "markdown",
   "id": "cb915de2",
   "metadata": {},
   "source": [
    "### Extending Built-in Types"
   ]
  },
  {
   "cell_type": "code",
   "execution_count": 30,
   "id": "2fd67b67",
   "metadata": {},
   "outputs": [
    {
     "name": "stdout",
     "output_type": "stream",
     "text": [
      "class Set:\n",
      "   def __init__(self, value = []):    # Constructor\n",
      "       self.data = []                 # Manages a list\n",
      "       self.concat(value)\n",
      "\n",
      "   def intersect(self, other):        # other is any sequence\n",
      "       res = []                       # self is the subject\n",
      "       for x in self.data:\n",
      "           if x in other:             # Pick common items\n",
      "               res.append(x)\n",
      "       return Set(res)                # Return a new Set\n",
      "\n",
      "   def union(self, other):            # other is any sequence\n",
      "       res = self.data[:]             # Copy of my list\n",
      "       for x in other:                # Add items in other\n",
      "           if not x in res:\n",
      "               res.append(x)\n",
      "       return Set(res)\n",
      "\n",
      "   def concat(self, value):           # value: list, Set...\n",
      "       for x in value:                # Removes duplicates\n",
      "          if not x in self.data:\n",
      "               self.data.append(x)\n",
      "\n",
      "   def __len__(self):          return len(self.data)            # len(self), if self\n",
      "   def __getitem__(self, key): return self.data[key]            # self[i], self[i:j]\n",
      "   def __and__(self, other):   return self.intersect(other)     # self & other\n",
      "   def __or__(self, other):    return self.union(other)         # self | other\n",
      "   def __repr__(self):         return 'Set:' + repr(self.data)  # print(self),...\n",
      "   def __iter__(self):         return iter(self.data)           # for x in self,...\n"
     ]
    }
   ],
   "source": [
    "!cat code/setwrapper.py"
   ]
  },
  {
   "cell_type": "code",
   "execution_count": 5,
   "id": "03b2a874",
   "metadata": {},
   "outputs": [
    {
     "name": "stdout",
     "output_type": "stream",
     "text": [
      "Set:[1, 3, 5, 7, 4]\n",
      "Set:[1, 3, 5, 7, 4, 6]\n"
     ]
    }
   ],
   "source": [
    "from setwrapper import Set\n",
    "x = Set([1, 3, 5, 7])\n",
    "print(x.union(Set([1, 4, 7])))       # prints Set:[1, 3, 5, 7, 4]\n",
    "print(x | Set([1, 4, 6]))            # prints Set:[1, 3, 5, 7, 4, 6]"
   ]
  },
  {
   "cell_type": "code",
   "execution_count": 10,
   "id": "0aa7bb90",
   "metadata": {},
   "outputs": [
    {
     "name": "stdout",
     "output_type": "stream",
     "text": [
      "Set:[1]\n"
     ]
    }
   ],
   "source": [
    "print(x & Set([1, 4, 6]))"
   ]
  },
  {
   "cell_type": "code",
   "execution_count": 9,
   "id": "e46072f7",
   "metadata": {},
   "outputs": [
    {
     "name": "stdout",
     "output_type": "stream",
     "text": [
      "Set:[1]\n"
     ]
    }
   ],
   "source": [
    "print(x.intersect(Set([1, 4, 6]))) "
   ]
  },
  {
   "cell_type": "code",
   "execution_count": 33,
   "id": "821470c2",
   "metadata": {},
   "outputs": [
    {
     "name": "stdout",
     "output_type": "stream",
     "text": [
      "# Subclass built-in list type/class\n",
      "# Map 1..N to 0..N-1; call back to built-in version.\n",
      "\n",
      "class MyList(list):\n",
      "    def __getitem__(self, offset):\n",
      "        print('(indexing %s at %s)' % (self, offset))\n",
      "        return list.__getitem__(self, offset - 1)\n",
      "\n",
      "if __name__ == '__main__':\n",
      "    print(list('abc'))\n",
      "    x = MyList('abc')               # __init__ inherited from list\n",
      "    print(x)                        # __repr__ inherited from list\n",
      "\n",
      "    print(x[1])                     # MyList.__getitem__\n",
      "    print(x[3])                     # Customizes list superclass method\n",
      "\n",
      "    x.append('spam'); print(x)      # Attributes from list superclass\n",
      "    x.reverse();      print(x)\n"
     ]
    }
   ],
   "source": [
    "!cat code/typesubclass.py"
   ]
  },
  {
   "cell_type": "code",
   "execution_count": 4,
   "id": "46f388ba",
   "metadata": {},
   "outputs": [
    {
     "name": "stdout",
     "output_type": "stream",
     "text": [
      "['a', 'b', 'c']\n",
      "['a', 'b', 'c']\n",
      "(indexing ['a', 'b', 'c'] at 1)\n",
      "a\n",
      "(indexing ['a', 'b', 'c'] at 3)\n",
      "c\n",
      "['a', 'b', 'c', 'spam']\n",
      "['spam', 'c', 'b', 'a']\n"
     ]
    }
   ],
   "source": [
    "!python code/typesubclass.py"
   ]
  },
  {
   "cell_type": "code",
   "execution_count": 11,
   "id": "68bf0275",
   "metadata": {},
   "outputs": [
    {
     "name": "stdout",
     "output_type": "stream",
     "text": [
      "from __future__ import print_function    # 2.X compatibility\n",
      "\n",
      "class Set(list):\n",
      "    def __init__(self, value = []):      # Constructor\n",
      "        list.__init__([])                # Customizes list\n",
      "        self.concat(value)               # Copies mutable defaults\n",
      "\n",
      "    def intersect(self, other):          # other is any sequence\n",
      "        res = []                         # self is the subject\n",
      "        for x in self:\n",
      "            if x in other:               # Pick common items\n",
      "                res.append(x)\n",
      "        return Set(res)                  # Return a new Set\n",
      "\n",
      "    def union(self, other):              # other is any sequence\n",
      "        res = Set(self)                  # Copy me and my list\n",
      "        res.concat(other)\n",
      "        return res\n",
      "\n",
      "    def concat(self, value):             # value: list, Set, etc.\n",
      "        for x in value:                  # Removes duplicates\n",
      "            if not x in self:\n",
      "                self.append(x)\n",
      "\n",
      "    def __and__(self, other): return self.intersect(other)\n",
      "    def __or__(self, other):  return self.union(other)\n",
      "    def __repr__(self):       return 'Set:' + list.__repr__(self)\n",
      "\n",
      "if __name__ == '__main__':\n",
      "    x = Set([1,3,5,7])\n",
      "    y = Set([2,1,4,5,6])\n",
      "    print(x, y, len(x))\n",
      "    print(x.intersect(y), y.union(x))\n",
      "    print(x & y, x | y)\n",
      "    x.reverse(); print(x)\n"
     ]
    }
   ],
   "source": [
    "!cat code/setsubclass.py"
   ]
  },
  {
   "cell_type": "code",
   "execution_count": 12,
   "id": "74167df8",
   "metadata": {},
   "outputs": [
    {
     "name": "stdout",
     "output_type": "stream",
     "text": [
      "Set:[1, 3, 5, 7] Set:[2, 1, 4, 5, 6] 4\n",
      "Set:[1, 5] Set:[2, 1, 4, 5, 6, 3, 7]\n",
      "Set:[1, 5] Set:[1, 3, 5, 7, 2, 4, 6]\n",
      "Set:[7, 5, 3, 1]\n"
     ]
    }
   ],
   "source": [
    "!python code/setsubclass.py"
   ]
  },
  {
   "cell_type": "markdown",
   "id": "353c80c4",
   "metadata": {},
   "source": [
    "### The “New Style” Class Model"
   ]
  },
  {
   "cell_type": "markdown",
   "id": "e898b839",
   "metadata": {},
   "source": [
    "### New-Style Class Changes"
   ]
  },
  {
   "cell_type": "code",
   "execution_count": 4,
   "id": "636c2e85",
   "metadata": {},
   "outputs": [
    {
     "data": {
      "text/plain": [
       "(__main__.D, __main__.B, __main__.C, __main__.A, object)"
      ]
     },
     "execution_count": 4,
     "metadata": {},
     "output_type": "execute_result"
    }
   ],
   "source": [
    "class A: pass\n",
    "class B(A): pass         # Diamonds: order differs for newstyle\n",
    "class C(A): pass         # Breadth-first across lower levels\n",
    "class D(B, C): pass\n",
    "D.__mro__"
   ]
  },
  {
   "cell_type": "code",
   "execution_count": 5,
   "id": "61f7c27b",
   "metadata": {},
   "outputs": [
    {
     "data": {
      "text/plain": [
       "(__main__.D, __main__.B, __main__.C, __main__.A, object)"
      ]
     },
     "execution_count": 5,
     "metadata": {},
     "output_type": "execute_result"
    }
   ],
   "source": [
    "class A: pass\n",
    "class B: pass            # Another nondiamond: DFLR\n",
    "class C(A): pass\n",
    "class D(B, C): pass\n",
    "D.__mro__"
   ]
  },
  {
   "cell_type": "code",
   "execution_count": 6,
   "id": "4c1ed62e",
   "metadata": {},
   "outputs": [
    {
     "data": {
      "text/plain": [
       "(object,)"
      ]
     },
     "execution_count": 6,
     "metadata": {},
     "output_type": "execute_result"
    }
   ],
   "source": [
    "A.__bases__              # Superclass links: object at two roots"
   ]
  },
  {
   "cell_type": "code",
   "execution_count": 7,
   "id": "bd0667c3",
   "metadata": {},
   "outputs": [
    {
     "data": {
      "text/plain": [
       "(object,)"
      ]
     },
     "execution_count": 7,
     "metadata": {},
     "output_type": "execute_result"
    }
   ],
   "source": [
    "B.__bases__"
   ]
  },
  {
   "cell_type": "code",
   "execution_count": 8,
   "id": "0507012e",
   "metadata": {},
   "outputs": [
    {
     "data": {
      "text/plain": [
       "(__main__.A,)"
      ]
     },
     "execution_count": 8,
     "metadata": {},
     "output_type": "execute_result"
    }
   ],
   "source": [
    "C.__bases__"
   ]
  },
  {
   "cell_type": "code",
   "execution_count": 9,
   "id": "3ab85bd7",
   "metadata": {},
   "outputs": [
    {
     "data": {
      "text/plain": [
       "(__main__.B, __main__.C)"
      ]
     },
     "execution_count": 9,
     "metadata": {},
     "output_type": "execute_result"
    }
   ],
   "source": [
    "D.__bases__"
   ]
  },
  {
   "cell_type": "code",
   "execution_count": 13,
   "id": "b2e02450",
   "metadata": {},
   "outputs": [
    {
     "data": {
      "text/plain": [
       "(type, type, type, type)"
      ]
     },
     "execution_count": 13,
     "metadata": {},
     "output_type": "execute_result"
    }
   ],
   "source": [
    "D.__class__, C.__class__, B.__class__, A.__class__"
   ]
  },
  {
   "cell_type": "code",
   "execution_count": 14,
   "id": "2eff20a2",
   "metadata": {},
   "outputs": [
    {
     "data": {
      "text/plain": [
       "[__main__.D, __main__.A, __main__.X, __main__.B, __main__.Y, object]"
      ]
     },
     "execution_count": 14,
     "metadata": {},
     "output_type": "execute_result"
    }
   ],
   "source": [
    "class X: pass\n",
    "class Y: pass\n",
    "class A(X): pass         # Nondiamond: depth first then left to right\n",
    "class B(Y): pass         # Though implied \"object\" always forms a diamond\n",
    "class D(A, B): pass\n",
    "D.mro()"
   ]
  },
  {
   "cell_type": "code",
   "execution_count": 15,
   "id": "691ac77b",
   "metadata": {},
   "outputs": [
    {
     "data": {
      "text/plain": [
       "((object,), (object,), (__main__.X,), (__main__.Y,))"
      ]
     },
     "execution_count": 15,
     "metadata": {},
     "output_type": "execute_result"
    }
   ],
   "source": [
    "X.__bases__, Y.__bases__, A.__bases__, B.__bases__"
   ]
  },
  {
   "cell_type": "code",
   "execution_count": 21,
   "id": "48ace1b5",
   "metadata": {},
   "outputs": [
    {
     "data": {
      "text/plain": [
       "(__main__.D, __main__.B, __main__.A, __main__.C, object)"
      ]
     },
     "execution_count": 21,
     "metadata": {},
     "output_type": "execute_result"
    }
   ],
   "source": [
    "class A: pass\n",
    "class B(A): pass         # Nondiamonds: order same as classic\n",
    "class C: pass            # Depth first, then left to right\n",
    "class D(B, C): pass\n",
    "D.__mro__"
   ]
  },
  {
   "cell_type": "code",
   "execution_count": 25,
   "id": "2a56ce08",
   "metadata": {},
   "outputs": [],
   "source": [
    "I = D()"
   ]
  },
  {
   "cell_type": "code",
   "execution_count": 26,
   "id": "144d44b1",
   "metadata": {},
   "outputs": [
    {
     "data": {
      "text/plain": [
       "(type, __main__.D)"
      ]
     },
     "execution_count": 26,
     "metadata": {},
     "output_type": "execute_result"
    }
   ],
   "source": [
    "D.__class__, I.__class__"
   ]
  },
  {
   "cell_type": "code",
   "execution_count": 41,
   "id": "0aa3bf93",
   "metadata": {},
   "outputs": [
    {
     "data": {
      "text/plain": [
       "__main__.D"
      ]
     },
     "execution_count": 41,
     "metadata": {},
     "output_type": "execute_result"
    }
   ],
   "source": [
    "I.__class__"
   ]
  },
  {
   "cell_type": "code",
   "execution_count": 40,
   "id": "afea7b62",
   "metadata": {},
   "outputs": [
    {
     "data": {
      "text/plain": [
       "mappingproxy({'__module__': '__main__', '__doc__': None})"
      ]
     },
     "execution_count": 40,
     "metadata": {},
     "output_type": "execute_result"
    }
   ],
   "source": [
    "I.__class__.__dict__"
   ]
  },
  {
   "cell_type": "code",
   "execution_count": 27,
   "id": "6c241254",
   "metadata": {},
   "outputs": [
    {
     "data": {
      "text/plain": [
       "(__main__.D, __main__.B, __main__.A, __main__.C, object)"
      ]
     },
     "execution_count": 27,
     "metadata": {},
     "output_type": "execute_result"
    }
   ],
   "source": [
    "I.__class__.__mro__"
   ]
  },
  {
   "cell_type": "code",
   "execution_count": 29,
   "id": "e26b0db8",
   "metadata": {},
   "outputs": [
    {
     "data": {
      "text/plain": [
       "__main__.D"
      ]
     },
     "execution_count": 29,
     "metadata": {},
     "output_type": "execute_result"
    }
   ],
   "source": [
    "I.__class__"
   ]
  },
  {
   "cell_type": "code",
   "execution_count": 30,
   "id": "cad3fad9",
   "metadata": {},
   "outputs": [
    {
     "data": {
      "text/plain": [
       "(__main__.B, __main__.C)"
      ]
     },
     "execution_count": 30,
     "metadata": {},
     "output_type": "execute_result"
    }
   ],
   "source": [
    "I.__class__.__bases__"
   ]
  },
  {
   "cell_type": "code",
   "execution_count": 32,
   "id": "9e914178",
   "metadata": {},
   "outputs": [
    {
     "data": {
      "text/plain": [
       "(__main__.A,)"
      ]
     },
     "execution_count": 32,
     "metadata": {},
     "output_type": "execute_result"
    }
   ],
   "source": [
    "I.__class__.__bases__[0].__bases__"
   ]
  },
  {
   "cell_type": "code",
   "execution_count": 35,
   "id": "cc6040c2",
   "metadata": {},
   "outputs": [
    {
     "data": {
      "text/plain": [
       "(object,)"
      ]
     },
     "execution_count": 35,
     "metadata": {},
     "output_type": "execute_result"
    }
   ],
   "source": [
    "I.__class__.__bases__[0].__bases__[0].__bases__"
   ]
  },
  {
   "cell_type": "code",
   "execution_count": 37,
   "id": "9ab36030",
   "metadata": {},
   "outputs": [
    {
     "data": {
      "text/plain": [
       "()"
      ]
     },
     "execution_count": 37,
     "metadata": {},
     "output_type": "execute_result"
    }
   ],
   "source": [
    "I.__class__.__bases__[0].__bases__[0].__bases__[0].__bases__"
   ]
  },
  {
   "cell_type": "code",
   "execution_count": 46,
   "id": "8f2c711d",
   "metadata": {},
   "outputs": [
    {
     "data": {
      "text/plain": [
       "mappingproxy({'__module__': '__main__', '__doc__': None})"
      ]
     },
     "execution_count": 46,
     "metadata": {},
     "output_type": "execute_result"
    }
   ],
   "source": [
    "I.__class__.__dict__"
   ]
  },
  {
   "cell_type": "code",
   "execution_count": 43,
   "id": "f04ec194",
   "metadata": {},
   "outputs": [
    {
     "data": {
      "text/plain": [
       "True"
      ]
     },
     "execution_count": 43,
     "metadata": {},
     "output_type": "execute_result"
    }
   ],
   "source": [
    "hasattr(I.__class__, '__mro__')"
   ]
  },
  {
   "cell_type": "code",
   "execution_count": 48,
   "id": "85c14386",
   "metadata": {},
   "outputs": [
    {
     "data": {
      "text/plain": [
       "(__main__.D, __main__.B, __main__.A, __main__.C, object)"
      ]
     },
     "execution_count": 48,
     "metadata": {},
     "output_type": "execute_result"
    }
   ],
   "source": [
    "getattr(I.__class__, '__mro__')"
   ]
  },
  {
   "cell_type": "code",
   "execution_count": 50,
   "id": "695f856e",
   "metadata": {},
   "outputs": [
    {
     "data": {
      "text/plain": [
       "(__main__.D, __main__.B, __main__.A, __main__.C, object)"
      ]
     },
     "execution_count": 50,
     "metadata": {},
     "output_type": "execute_result"
    }
   ],
   "source": [
    "I.__class__.__mro__"
   ]
  },
  {
   "cell_type": "code",
   "execution_count": 52,
   "id": "8c22a1de",
   "metadata": {},
   "outputs": [
    {
     "data": {
      "text/plain": [
       "(<__main__.D at 0x1ea41bf0370>,)"
      ]
     },
     "execution_count": 52,
     "metadata": {},
     "output_type": "execute_result"
    }
   ],
   "source": [
    "(I,)"
   ]
  },
  {
   "cell_type": "code",
   "execution_count": 51,
   "id": "ded3ad4c",
   "metadata": {},
   "outputs": [
    {
     "data": {
      "text/plain": [
       "(<__main__.D at 0x1ea41bf0370>,\n",
       " __main__.D,\n",
       " __main__.B,\n",
       " __main__.A,\n",
       " __main__.C,\n",
       " object)"
      ]
     },
     "execution_count": 51,
     "metadata": {},
     "output_type": "execute_result"
    }
   ],
   "source": [
    "(I,)+I.__class__.__mro__"
   ]
  },
  {
   "cell_type": "code",
   "execution_count": 56,
   "id": "f8ca4154",
   "metadata": {},
   "outputs": [
    {
     "name": "stdout",
     "output_type": "stream",
     "text": [
      "True\n",
      "True\n",
      "True\n",
      "True\n",
      "True\n",
      "True\n"
     ]
    }
   ],
   "source": [
    "for obj in (I,)+I.__class__.__mro__:\n",
    "    print(hasattr(obj, '__dict__'))"
   ]
  },
  {
   "cell_type": "code",
   "execution_count": 57,
   "id": "f4df72c2",
   "metadata": {},
   "outputs": [
    {
     "name": "stdout",
     "output_type": "stream",
     "text": [
      "{}\n",
      "{'__module__': '__main__', '__doc__': None}\n",
      "{'__module__': '__main__', '__doc__': None}\n",
      "{'__module__': '__main__', '__dict__': <attribute '__dict__' of 'A' objects>, '__weakref__': <attribute '__weakref__' of 'A' objects>, '__doc__': None}\n",
      "{'__module__': '__main__', '__dict__': <attribute '__dict__' of 'C' objects>, '__weakref__': <attribute '__weakref__' of 'C' objects>, '__doc__': None}\n",
      "{'__repr__': <slot wrapper '__repr__' of 'object' objects>, '__hash__': <slot wrapper '__hash__' of 'object' objects>, '__str__': <slot wrapper '__str__' of 'object' objects>, '__getattribute__': <slot wrapper '__getattribute__' of 'object' objects>, '__setattr__': <slot wrapper '__setattr__' of 'object' objects>, '__delattr__': <slot wrapper '__delattr__' of 'object' objects>, '__lt__': <slot wrapper '__lt__' of 'object' objects>, '__le__': <slot wrapper '__le__' of 'object' objects>, '__eq__': <slot wrapper '__eq__' of 'object' objects>, '__ne__': <slot wrapper '__ne__' of 'object' objects>, '__gt__': <slot wrapper '__gt__' of 'object' objects>, '__ge__': <slot wrapper '__ge__' of 'object' objects>, '__init__': <slot wrapper '__init__' of 'object' objects>, '__new__': <built-in method __new__ of type object at 0x00007FFD518EBB50>, '__reduce_ex__': <method '__reduce_ex__' of 'object' objects>, '__reduce__': <method '__reduce__' of 'object' objects>, '__subclasshook__': <method '__subclasshook__' of 'object' objects>, '__init_subclass__': <method '__init_subclass__' of 'object' objects>, '__format__': <method '__format__' of 'object' objects>, '__sizeof__': <method '__sizeof__' of 'object' objects>, '__dir__': <method '__dir__' of 'object' objects>, '__class__': <attribute '__class__' of 'object' objects>, '__doc__': 'The base class of the class hierarchy.\\n\\nWhen called, it accepts no arguments and returns a new featureless\\ninstance that has no instance attributes and cannot be given any.\\n'}\n"
     ]
    }
   ],
   "source": [
    "for obj in (I,)+I.__class__.__mro__:\n",
    "    print(obj.__dict__)"
   ]
  },
  {
   "cell_type": "code",
   "execution_count": 28,
   "id": "8c92fc19",
   "metadata": {},
   "outputs": [
    {
     "data": {
      "text/plain": [
       "['__class__',\n",
       " '__delattr__',\n",
       " '__dict__',\n",
       " '__dir__',\n",
       " '__doc__',\n",
       " '__eq__',\n",
       " '__format__',\n",
       " '__ge__',\n",
       " '__getattribute__',\n",
       " '__gt__',\n",
       " '__hash__',\n",
       " '__init__',\n",
       " '__init_subclass__',\n",
       " '__le__',\n",
       " '__lt__',\n",
       " '__module__',\n",
       " '__ne__',\n",
       " '__new__',\n",
       " '__reduce__',\n",
       " '__reduce_ex__',\n",
       " '__repr__',\n",
       " '__setattr__',\n",
       " '__sizeof__',\n",
       " '__str__',\n",
       " '__subclasshook__',\n",
       " '__weakref__']"
      ]
     },
     "execution_count": 28,
     "metadata": {},
     "output_type": "execute_result"
    }
   ],
   "source": [
    "dir(I)"
   ]
  },
  {
   "cell_type": "code",
   "execution_count": 17,
   "id": "450401e0",
   "metadata": {},
   "outputs": [
    {
     "data": {
      "text/plain": [
       "True"
      ]
     },
     "execution_count": 17,
     "metadata": {},
     "output_type": "execute_result"
    }
   ],
   "source": [
    "D.mro() == list(D.__mro__)"
   ]
  },
  {
   "cell_type": "code",
   "execution_count": 18,
   "id": "f648f88a",
   "metadata": {},
   "outputs": [
    {
     "data": {
      "text/plain": [
       "['D', 'B', 'A', 'C', 'object']"
      ]
     },
     "execution_count": 18,
     "metadata": {},
     "output_type": "execute_result"
    }
   ],
   "source": [
    "[cls.__name__ for cls in D.__mro__]"
   ]
  },
  {
   "cell_type": "code",
   "execution_count": 19,
   "id": "2a517920",
   "metadata": {},
   "outputs": [
    {
     "name": "stdout",
     "output_type": "stream",
     "text": [
      "\"\"\"\n",
      "File mapattrs.py (3.X + 2.X)\n",
      "\n",
      "Main tool: mapattrs() maps all attributes on or inherited by an \n",
      "instance to the instance or class from which they are inherited.  \n",
      "\n",
      "Assumes dir() gives all attributes of an instance.  To simulate \n",
      "inheritance, uses either the class's MRO tuple, which gives the \n",
      "search order for new-style classes (and all in 3.X), or a recursive\n",
      "traversal to infer the DFLR order of classic classes in 2.X.  \n",
      "\n",
      "Also here: inheritance() gives version-neutral class ordering; \n",
      "assorted dictionary tools using 3.X/2.7 comprehensions.\n",
      "\"\"\"\n",
      "\n",
      "import pprint\n",
      "def trace(X, label='', end='\\n'): \n",
      "    print(label + pprint.pformat(X) + end)  # print nicely\n",
      "\n",
      "def filterdictvals(D, V):\n",
      "    \"\"\"\n",
      "    dict D with entries for value V removed.\n",
      "    filterdictvals(dict(a=1, b=2, c=1), 1) => {'b': 2}\n",
      "    \"\"\"\n",
      "    return {K: V2 for (K, V2) in D.items() if V2 != V}\n",
      "\n",
      "def invertdict(D):\n",
      "    \"\"\"\n",
      "    dict D with values changed to keys (grouped by values).\n",
      "    Values must all be hashable to work as dict/set keys.\n",
      "    invertdict(dict(a=1, b=2, c=1)) => {1: ['a', 'c'], 2: ['b']}\n",
      "    \"\"\"\n",
      "    def keysof(V):\n",
      "        return sorted(K for K in D.keys() if D[K] == V)\n",
      "    return {V: keysof(V) for V in set(D.values())}    \n",
      "\n",
      "def dflr(cls):\n",
      "    \"\"\"\n",
      "    Classic depth-first left-to-right order of class tree at cls.\n",
      "    Cycles not possible: Python disallows on __bases__ changes. \n",
      "    \"\"\"\n",
      "    here = [cls]\n",
      "    for sup in cls.__bases__:\n",
      "        here += dflr(sup)\n",
      "    return here \n",
      "\n",
      "def inheritance(instance):\n",
      "    \"\"\"\n",
      "    Inheritance order sequence: new-style (MRO) or classic (DFLR)\n",
      "    \"\"\"\n",
      "    if hasattr(instance.__class__, '__mro__'):\n",
      "        return (instance,) + instance.__class__.__mro__\n",
      "    else:\n",
      "        return [instance] + dflr(instance.__class__)\n",
      "\n",
      "def mapattrs(instance, withobject=False, bysource=False):\n",
      "    \"\"\"\n",
      "    dict with keys giving all inherited attributes of instance,\n",
      "    with values giving the object that each is inherited from.\n",
      "    withobject: False=remove object built-in class attributes.\n",
      "    bysource:   True=group result by objects instead of attributes.\n",
      "    Supports classes with slots that preclude __dict__ in instances.\n",
      "    \"\"\"\n",
      "    attr2obj = {}\n",
      "    inherits = inheritance(instance)\n",
      "    for attr in dir(instance):\n",
      "        for obj in inherits:\n",
      "             if hasattr(obj, '__dict__') and attr in obj.__dict__:      # See slots\n",
      "               attr2obj[attr] = obj\n",
      "               break\n",
      "\n",
      "    if not withobject: \n",
      "        attr2obj = filterdictvals(attr2obj, object)\n",
      "    return attr2obj if not bysource else invertdict(attr2obj)\n",
      "\n",
      "if __name__ == '__main__':   \n",
      "    print('Classic classes in 2.X, new-style in 3.X')\n",
      "    class A:         attr1 = 1\n",
      "    class B(A):      attr2 = 2\n",
      "    class C(A):      attr1 = 3\n",
      "    class D(B, C):   pass\n",
      "    I = D()\n",
      "    print('Py=>%s' % I.attr1)                        # Python's search == ours?\n",
      "    trace(inheritance(I),             'INH\\n')       # [Inheritance order]\n",
      "    trace(mapattrs(I),                'ATTRS\\n')     # Attrs  => Source\n",
      "    trace(mapattrs(I, bysource=True), 'OBJS\\n')      # Source => [Attrs]\n",
      "\n",
      "    print('New-style classes in 2.X and 3.X')\n",
      "    class A(object): attr1 = 1                       # \"(object)\" optional in 3.X\n",
      "    class B(A):      attr2 = 2\n",
      "    class C(A):      attr1 = 3\n",
      "    class D(B, C):   pass\n",
      "    I = D()\n",
      "    print('Py=>%s' % I.attr1)\n",
      "    trace(inheritance(I),             'INH\\n')\n",
      "    trace(mapattrs(I),                'ATTRS\\n')\n",
      "    trace(mapattrs(I, bysource=True), 'OBJS\\n')\n"
     ]
    }
   ],
   "source": [
    "!cat code/mapattrs.py"
   ]
  },
  {
   "cell_type": "code",
   "execution_count": 20,
   "id": "1f1bbe6e",
   "metadata": {},
   "outputs": [
    {
     "name": "stdout",
     "output_type": "stream",
     "text": [
      "Classic classes in 2.X, new-style in 3.X\n",
      "Py=>3\n",
      "INH\n",
      "(<__main__.D object at 0x000001EDA1E83640>,\n",
      " <class '__main__.D'>,\n",
      " <class '__main__.B'>,\n",
      " <class '__main__.C'>,\n",
      " <class '__main__.A'>,\n",
      " <class 'object'>)\n",
      "\n",
      "ATTRS\n",
      "{'__dict__': <class '__main__.A'>,\n",
      " '__doc__': <class '__main__.D'>,\n",
      " '__module__': <class '__main__.D'>,\n",
      " '__weakref__': <class '__main__.A'>,\n",
      " 'attr1': <class '__main__.C'>,\n",
      " 'attr2': <class '__main__.B'>}\n",
      "\n",
      "OBJS\n",
      "{<class '__main__.B'>: ['attr2'],\n",
      " <class '__main__.C'>: ['attr1'],\n",
      " <class '__main__.A'>: ['__dict__', '__weakref__'],\n",
      " <class '__main__.D'>: ['__doc__', '__module__']}\n",
      "\n",
      "New-style classes in 2.X and 3.X\n",
      "Py=>3\n",
      "INH\n",
      "(<__main__.D object at 0x000001EDA2647D60>,\n",
      " <class '__main__.D'>,\n",
      " <class '__main__.B'>,\n",
      " <class '__main__.C'>,\n",
      " <class '__main__.A'>,\n",
      " <class 'object'>)\n",
      "\n",
      "ATTRS\n",
      "{'__dict__': <class '__main__.A'>,\n",
      " '__doc__': <class '__main__.D'>,\n",
      " '__module__': <class '__main__.D'>,\n",
      " '__weakref__': <class '__main__.A'>,\n",
      " 'attr1': <class '__main__.C'>,\n",
      " 'attr2': <class '__main__.B'>}\n",
      "\n",
      "OBJS\n",
      "{<class '__main__.A'>: ['__dict__', '__weakref__'],\n",
      " <class '__main__.C'>: ['attr1'],\n",
      " <class '__main__.B'>: ['attr2'],\n",
      " <class '__main__.D'>: ['__doc__', '__module__']}\n",
      "\n"
     ]
    }
   ],
   "source": [
    "!python code/mapattrs.py"
   ]
  },
  {
   "cell_type": "code",
   "execution_count": 42,
   "id": "da700eb1",
   "metadata": {},
   "outputs": [
    {
     "name": "stdout",
     "output_type": "stream",
     "text": [
      "# mapattrs-slots.py: test __slots__ attribute inheritance\n",
      "from mapattrs import mapattrs, trace\n",
      "\n",
      "class A(object): __slots__ = ['a', 'b']; x = 1; y = 2\n",
      "class B(A):      __slots__ = ['b', 'c']\n",
      "class C(A):      x = 2\n",
      "class D(B, C): \n",
      "    z = 3\n",
      "    def __init__(self): self.name = 'Bob';\n",
      "\n",
      "I = D()\n",
      "trace(mapattrs(I, bysource=True))     # Also: trace(mapattrs(I))\n",
      "\n"
     ]
    }
   ],
   "source": [
    "!cat code/mapattrs-slots.py"
   ]
  },
  {
   "cell_type": "markdown",
   "id": "524c9123",
   "metadata": {},
   "source": [
    "### New-Style Class Extensions"
   ]
  },
  {
   "cell_type": "code",
   "execution_count": 4,
   "id": "32bddd4c",
   "metadata": {},
   "outputs": [
    {
     "ename": "AttributeError",
     "evalue": "age",
     "output_type": "error",
     "traceback": [
      "\u001b[1;31m---------------------------------------------------------------------------\u001b[0m",
      "\u001b[1;31mAttributeError\u001b[0m                            Traceback (most recent call last)",
      "\u001b[1;32m~\\AppData\\Local\\Temp/ipykernel_26468/3524523676.py\u001b[0m in \u001b[0;36m<module>\u001b[1;34m\u001b[0m\n\u001b[0;32m      3\u001b[0m \u001b[1;33m\u001b[0m\u001b[0m\n\u001b[0;32m      4\u001b[0m \u001b[0mx\u001b[0m \u001b[1;33m=\u001b[0m \u001b[0mlimiter\u001b[0m\u001b[1;33m(\u001b[0m\u001b[1;33m)\u001b[0m\u001b[1;33m\u001b[0m\u001b[1;33m\u001b[0m\u001b[0m\n\u001b[1;32m----> 5\u001b[1;33m \u001b[0mx\u001b[0m\u001b[1;33m.\u001b[0m\u001b[0mage\u001b[0m                                           \u001b[1;31m# Must assign before use\u001b[0m\u001b[1;33m\u001b[0m\u001b[1;33m\u001b[0m\u001b[0m\n\u001b[0m",
      "\u001b[1;31mAttributeError\u001b[0m: age"
     ]
    }
   ],
   "source": [
    "class limiter(object):\n",
    "        __slots__ = ['age', 'name', 'job']\n",
    "\n",
    "x = limiter()\n",
    "x.age                                           # Must assign before use"
   ]
  },
  {
   "cell_type": "code",
   "execution_count": 5,
   "id": "37cf4231",
   "metadata": {},
   "outputs": [
    {
     "data": {
      "text/plain": [
       "40"
      ]
     },
     "execution_count": 5,
     "metadata": {},
     "output_type": "execute_result"
    }
   ],
   "source": [
    "x.age = 40                                      # Looks like instance data\n",
    "x.age"
   ]
  },
  {
   "cell_type": "code",
   "execution_count": 6,
   "id": "d341cbe0",
   "metadata": {},
   "outputs": [
    {
     "data": {
      "text/plain": [
       "50"
      ]
     },
     "execution_count": 6,
     "metadata": {},
     "output_type": "execute_result"
    }
   ],
   "source": [
    "x.age = 50                                      # Looks like instance data\n",
    "x.age"
   ]
  },
  {
   "cell_type": "code",
   "execution_count": 7,
   "id": "2250886c",
   "metadata": {},
   "outputs": [
    {
     "ename": "AttributeError",
     "evalue": "'limiter' object has no attribute 'ape'",
     "output_type": "error",
     "traceback": [
      "\u001b[1;31m---------------------------------------------------------------------------\u001b[0m",
      "\u001b[1;31mAttributeError\u001b[0m                            Traceback (most recent call last)",
      "\u001b[1;32m~\\AppData\\Local\\Temp/ipykernel_26468/3435917443.py\u001b[0m in \u001b[0;36m<module>\u001b[1;34m\u001b[0m\n\u001b[1;32m----> 1\u001b[1;33m \u001b[0mx\u001b[0m\u001b[1;33m.\u001b[0m\u001b[0mape\u001b[0m \u001b[1;33m=\u001b[0m \u001b[1;36m1000\u001b[0m                                    \u001b[1;31m# Illegal: not in __slots__\u001b[0m\u001b[1;33m\u001b[0m\u001b[1;33m\u001b[0m\u001b[0m\n\u001b[0m",
      "\u001b[1;31mAttributeError\u001b[0m: 'limiter' object has no attribute 'ape'"
     ]
    }
   ],
   "source": [
    "x.ape = 1000                                    # Illegal: not in __slots__"
   ]
  },
  {
   "cell_type": "code",
   "execution_count": 31,
   "id": "6b5eaa90",
   "metadata": {},
   "outputs": [
    {
     "data": {
      "text/plain": [
       "1"
      ]
     },
     "execution_count": 31,
     "metadata": {},
     "output_type": "execute_result"
    }
   ],
   "source": [
    "class C:                             # Requires \"(object)\" in 2.X only\n",
    "        __slots__ = ['a', 'b']           # __slots__ means no __dict__ by default\n",
    "\n",
    "X = C()\n",
    "X.a = 1\n",
    "X.a"
   ]
  },
  {
   "cell_type": "code",
   "execution_count": 32,
   "id": "7d1d2014",
   "metadata": {},
   "outputs": [
    {
     "ename": "AttributeError",
     "evalue": "'C' object has no attribute '__dict__'",
     "output_type": "error",
     "traceback": [
      "\u001b[1;31m---------------------------------------------------------------------------\u001b[0m",
      "\u001b[1;31mAttributeError\u001b[0m                            Traceback (most recent call last)",
      "\u001b[1;32m~\\AppData\\Local\\Temp/ipykernel_26468/931959676.py\u001b[0m in \u001b[0;36m<module>\u001b[1;34m\u001b[0m\n\u001b[1;32m----> 1\u001b[1;33m \u001b[0mX\u001b[0m\u001b[1;33m.\u001b[0m\u001b[0m__dict__\u001b[0m\u001b[1;33m\u001b[0m\u001b[1;33m\u001b[0m\u001b[0m\n\u001b[0m",
      "\u001b[1;31mAttributeError\u001b[0m: 'C' object has no attribute '__dict__'"
     ]
    }
   ],
   "source": [
    "X.__dict__"
   ]
  },
  {
   "cell_type": "code",
   "execution_count": 33,
   "id": "82c8e377",
   "metadata": {},
   "outputs": [
    {
     "data": {
      "text/plain": [
       "1"
      ]
     },
     "execution_count": 33,
     "metadata": {},
     "output_type": "execute_result"
    }
   ],
   "source": [
    "getattr(X, 'a')"
   ]
  },
  {
   "cell_type": "code",
   "execution_count": 34,
   "id": "de7bad74",
   "metadata": {},
   "outputs": [
    {
     "data": {
      "text/plain": [
       "2"
      ]
     },
     "execution_count": 34,
     "metadata": {},
     "output_type": "execute_result"
    }
   ],
   "source": [
    "setattr(X, 'b', 2)                   # But getattr() and setattr() still work\n",
    "X.b"
   ]
  },
  {
   "cell_type": "code",
   "execution_count": 36,
   "id": "7d6fa3e8",
   "metadata": {},
   "outputs": [
    {
     "ename": "AttributeError",
     "evalue": "'C' object has no attribute '__dict__'",
     "output_type": "error",
     "traceback": [
      "\u001b[1;31m---------------------------------------------------------------------------\u001b[0m",
      "\u001b[1;31mAttributeError\u001b[0m                            Traceback (most recent call last)",
      "\u001b[1;32m~\\AppData\\Local\\Temp/ipykernel_26468/2173458175.py\u001b[0m in \u001b[0;36m<module>\u001b[1;34m\u001b[0m\n\u001b[1;32m----> 1\u001b[1;33m \u001b[0mgetattr\u001b[0m\u001b[1;33m(\u001b[0m\u001b[0mX\u001b[0m\u001b[1;33m,\u001b[0m \u001b[1;34m'__dict__'\u001b[0m\u001b[1;33m)\u001b[0m\u001b[1;33m\u001b[0m\u001b[1;33m\u001b[0m\u001b[0m\n\u001b[0m",
      "\u001b[1;31mAttributeError\u001b[0m: 'C' object has no attribute '__dict__'"
     ]
    }
   ],
   "source": [
    "getattr(X, '__dict__')"
   ]
  },
  {
   "cell_type": "code",
   "execution_count": 37,
   "id": "04d14066",
   "metadata": {},
   "outputs": [
    {
     "data": {
      "text/plain": [
       "[]"
      ]
     },
     "execution_count": 37,
     "metadata": {},
     "output_type": "execute_result"
    }
   ],
   "source": [
    "getattr(X, '__dict__',[]) #[] def : The default value that need to be printed in case attribute is not found."
   ]
  },
  {
   "cell_type": "code",
   "execution_count": 38,
   "id": "5bbb56fa",
   "metadata": {},
   "outputs": [
    {
     "data": {
      "text/plain": [
       "['none']"
      ]
     },
     "execution_count": 38,
     "metadata": {},
     "output_type": "execute_result"
    }
   ],
   "source": [
    "getattr(X, '__dict__', ['none'])"
   ]
  },
  {
   "cell_type": "code",
   "execution_count": 12,
   "id": "d57ee102",
   "metadata": {},
   "outputs": [
    {
     "data": {
      "text/plain": [
       "True"
      ]
     },
     "execution_count": 12,
     "metadata": {},
     "output_type": "execute_result"
    }
   ],
   "source": [
    "'a' in dir(X)                        # And dir() finds slot attributes too"
   ]
  },
  {
   "cell_type": "code",
   "execution_count": 13,
   "id": "f4eb32f5",
   "metadata": {},
   "outputs": [
    {
     "data": {
      "text/plain": [
       "True"
      ]
     },
     "execution_count": 13,
     "metadata": {},
     "output_type": "execute_result"
    }
   ],
   "source": [
    "'b' in dir(X)"
   ]
  },
  {
   "cell_type": "code",
   "execution_count": 14,
   "id": "3ffcb57f",
   "metadata": {},
   "outputs": [
    {
     "ename": "AttributeError",
     "evalue": "'D' object has no attribute 'd'",
     "output_type": "error",
     "traceback": [
      "\u001b[1;31m---------------------------------------------------------------------------\u001b[0m",
      "\u001b[1;31mAttributeError\u001b[0m                            Traceback (most recent call last)",
      "\u001b[1;32m~\\AppData\\Local\\Temp/ipykernel_26468/3178310368.py\u001b[0m in \u001b[0;36m<module>\u001b[1;34m\u001b[0m\n\u001b[0;32m      4\u001b[0m             \u001b[0mself\u001b[0m\u001b[1;33m.\u001b[0m\u001b[0md\u001b[0m \u001b[1;33m=\u001b[0m \u001b[1;36m4\u001b[0m                   \u001b[1;31m# Cannot add new names if no __dict__\u001b[0m\u001b[1;33m\u001b[0m\u001b[1;33m\u001b[0m\u001b[0m\n\u001b[0;32m      5\u001b[0m \u001b[1;33m\u001b[0m\u001b[0m\n\u001b[1;32m----> 6\u001b[1;33m \u001b[0mX\u001b[0m \u001b[1;33m=\u001b[0m \u001b[0mD\u001b[0m\u001b[1;33m(\u001b[0m\u001b[1;33m)\u001b[0m\u001b[1;33m\u001b[0m\u001b[1;33m\u001b[0m\u001b[0m\n\u001b[0m",
      "\u001b[1;32m~\\AppData\\Local\\Temp/ipykernel_26468/3178310368.py\u001b[0m in \u001b[0;36m__init__\u001b[1;34m(self)\u001b[0m\n\u001b[0;32m      2\u001b[0m         \u001b[0m__slots__\u001b[0m \u001b[1;33m=\u001b[0m \u001b[1;33m[\u001b[0m\u001b[1;34m'a'\u001b[0m\u001b[1;33m,\u001b[0m \u001b[1;34m'b'\u001b[0m\u001b[1;33m]\u001b[0m\u001b[1;33m\u001b[0m\u001b[1;33m\u001b[0m\u001b[0m\n\u001b[0;32m      3\u001b[0m         \u001b[1;32mdef\u001b[0m \u001b[0m__init__\u001b[0m\u001b[1;33m(\u001b[0m\u001b[0mself\u001b[0m\u001b[1;33m)\u001b[0m\u001b[1;33m:\u001b[0m\u001b[1;33m\u001b[0m\u001b[1;33m\u001b[0m\u001b[0m\n\u001b[1;32m----> 4\u001b[1;33m             \u001b[0mself\u001b[0m\u001b[1;33m.\u001b[0m\u001b[0md\u001b[0m \u001b[1;33m=\u001b[0m \u001b[1;36m4\u001b[0m                   \u001b[1;31m# Cannot add new names if no __dict__\u001b[0m\u001b[1;33m\u001b[0m\u001b[1;33m\u001b[0m\u001b[0m\n\u001b[0m\u001b[0;32m      5\u001b[0m \u001b[1;33m\u001b[0m\u001b[0m\n\u001b[0;32m      6\u001b[0m \u001b[0mX\u001b[0m \u001b[1;33m=\u001b[0m \u001b[0mD\u001b[0m\u001b[1;33m(\u001b[0m\u001b[1;33m)\u001b[0m\u001b[1;33m\u001b[0m\u001b[1;33m\u001b[0m\u001b[0m\n",
      "\u001b[1;31mAttributeError\u001b[0m: 'D' object has no attribute 'd'"
     ]
    }
   ],
   "source": [
    "class D:                             # Use D(object) for same result in 2.X\n",
    "        __slots__ = ['a', 'b']\n",
    "        def __init__(self):\n",
    "            self.d = 4                   # Cannot add new names if no __dict__\n",
    "\n",
    "X = D()"
   ]
  },
  {
   "cell_type": "code",
   "execution_count": 39,
   "id": "271d7fc5",
   "metadata": {},
   "outputs": [
    {
     "data": {
      "text/plain": [
       "4"
      ]
     },
     "execution_count": 39,
     "metadata": {},
     "output_type": "execute_result"
    }
   ],
   "source": [
    "class D:\n",
    "        __slots__ = ['a', 'b', '__dict__']    # Name __dict__ to include one too\n",
    "        c = 3                                 # Class attrs work normally\n",
    "        def __init__(self):\n",
    "            self.d = 4                        # d stored in __dict__, a is a slot\n",
    "\n",
    "X = D()\n",
    "X.d"
   ]
  },
  {
   "cell_type": "code",
   "execution_count": 40,
   "id": "abe4ce1b",
   "metadata": {},
   "outputs": [
    {
     "data": {
      "text/plain": [
       "3"
      ]
     },
     "execution_count": 40,
     "metadata": {},
     "output_type": "execute_result"
    }
   ],
   "source": [
    "X.c"
   ]
  },
  {
   "cell_type": "code",
   "execution_count": 41,
   "id": "1dfa2a48",
   "metadata": {},
   "outputs": [
    {
     "ename": "AttributeError",
     "evalue": "a",
     "output_type": "error",
     "traceback": [
      "\u001b[1;31m---------------------------------------------------------------------------\u001b[0m",
      "\u001b[1;31mAttributeError\u001b[0m                            Traceback (most recent call last)",
      "\u001b[1;32m~\\AppData\\Local\\Temp/ipykernel_26468/2069960341.py\u001b[0m in \u001b[0;36m<module>\u001b[1;34m\u001b[0m\n\u001b[1;32m----> 1\u001b[1;33m \u001b[0mX\u001b[0m\u001b[1;33m.\u001b[0m\u001b[0ma\u001b[0m\u001b[1;33m\u001b[0m\u001b[1;33m\u001b[0m\u001b[0m\n\u001b[0m",
      "\u001b[1;31mAttributeError\u001b[0m: a"
     ]
    }
   ],
   "source": [
    "X.a"
   ]
  },
  {
   "cell_type": "code",
   "execution_count": 48,
   "id": "d77ce31e",
   "metadata": {},
   "outputs": [],
   "source": [
    "X.a = 1\n",
    "X.b = 2"
   ]
  },
  {
   "cell_type": "code",
   "execution_count": 49,
   "id": "54ed589e",
   "metadata": {},
   "outputs": [
    {
     "data": {
      "text/plain": [
       "2"
      ]
     },
     "execution_count": 49,
     "metadata": {},
     "output_type": "execute_result"
    }
   ],
   "source": [
    "X.b"
   ]
  },
  {
   "cell_type": "code",
   "execution_count": 50,
   "id": "36a52354",
   "metadata": {},
   "outputs": [
    {
     "data": {
      "text/plain": [
       "{'d': 4}"
      ]
     },
     "execution_count": 50,
     "metadata": {},
     "output_type": "execute_result"
    }
   ],
   "source": [
    "X.__dict__                   # Some objects have both __dict__ and slot names"
   ]
  },
  {
   "cell_type": "code",
   "execution_count": 51,
   "id": "0e129d16",
   "metadata": {},
   "outputs": [
    {
     "data": {
      "text/plain": [
       "['a', 'b', '__dict__']"
      ]
     },
     "execution_count": 51,
     "metadata": {},
     "output_type": "execute_result"
    }
   ],
   "source": [
    "X.__slots__"
   ]
  },
  {
   "cell_type": "code",
   "execution_count": 52,
   "id": "5d648964",
   "metadata": {},
   "outputs": [
    {
     "data": {
      "text/plain": [
       "(1, 3, 4, 2)"
      ]
     },
     "execution_count": 52,
     "metadata": {},
     "output_type": "execute_result"
    }
   ],
   "source": [
    "getattr(X, 'a'), getattr(X, 'c'), getattr(X, 'd'), getattr(X, 'b')    # Fetches all 4 forms"
   ]
  },
  {
   "cell_type": "code",
   "execution_count": 53,
   "id": "e287b778",
   "metadata": {},
   "outputs": [
    {
     "data": {
      "text/plain": [
       "{'d': 4}"
      ]
     },
     "execution_count": 53,
     "metadata": {},
     "output_type": "execute_result"
    }
   ],
   "source": [
    "getattr(X, '__dict__')    #"
   ]
  },
  {
   "cell_type": "code",
   "execution_count": 54,
   "id": "eece1669",
   "metadata": {},
   "outputs": [
    {
     "data": {
      "text/plain": [
       "{'d': 4}"
      ]
     },
     "execution_count": 54,
     "metadata": {},
     "output_type": "execute_result"
    }
   ],
   "source": [
    "getattr(X, '__dict__', [])"
   ]
  },
  {
   "cell_type": "code",
   "execution_count": 55,
   "id": "bebaa160",
   "metadata": {},
   "outputs": [
    {
     "data": {
      "text/plain": [
       "['d']"
      ]
     },
     "execution_count": 55,
     "metadata": {},
     "output_type": "execute_result"
    }
   ],
   "source": [
    "list(X.__dict__)"
   ]
  },
  {
   "cell_type": "code",
   "execution_count": 56,
   "id": "e32fae15",
   "metadata": {},
   "outputs": [
    {
     "data": {
      "text/plain": [
       "['a', 'b', '__dict__']"
      ]
     },
     "execution_count": 56,
     "metadata": {},
     "output_type": "execute_result"
    }
   ],
   "source": [
    "X.__slots__"
   ]
  },
  {
   "cell_type": "code",
   "execution_count": 57,
   "id": "5ee4b7ff",
   "metadata": {},
   "outputs": [
    {
     "name": "stdout",
     "output_type": "stream",
     "text": [
      "d => 4\n",
      "a => 1\n",
      "b => 2\n",
      "__dict__ => {'d': 4}\n"
     ]
    }
   ],
   "source": [
    "for attr in list(X.__dict__) + X.__slots__:          # Wrong...\n",
    "        print(attr, '=>', getattr(X, attr))"
   ]
  },
  {
   "cell_type": "code",
   "execution_count": 58,
   "id": "e6d64628",
   "metadata": {},
   "outputs": [
    {
     "name": "stdout",
     "output_type": "stream",
     "text": [
      "d => 4\n",
      "a => 1\n",
      "b => 2\n",
      "__dict__ => {'d': 4}\n"
     ]
    }
   ],
   "source": [
    "for attr in list(getattr(X, '__dict__', [])) + getattr(X, '__slots__', []):\n",
    "        print(attr, '=>', getattr(X, attr))"
   ]
  },
  {
   "cell_type": "code",
   "execution_count": 59,
   "id": "d496b56c",
   "metadata": {},
   "outputs": [
    {
     "data": {
      "text/plain": [
       "(1, 3)"
      ]
     },
     "execution_count": 59,
     "metadata": {},
     "output_type": "execute_result"
    }
   ],
   "source": [
    "class E:\n",
    "    __slots__ = ['c', 'd']            # Superclass has slots\n",
    "class D(E):\n",
    "    __slots__ = ['a', '__dict__']     # But so does its subclass\n",
    "\n",
    "X = D()\n",
    "X.a = 1; X.b = 2; X.c = 3             # The instance is the union (slots: a, c)\n",
    "X.a, X.c"
   ]
  },
  {
   "cell_type": "code",
   "execution_count": 60,
   "id": "62715d92",
   "metadata": {},
   "outputs": [
    {
     "data": {
      "text/plain": [
       "['c', 'd']"
      ]
     },
     "execution_count": 60,
     "metadata": {},
     "output_type": "execute_result"
    }
   ],
   "source": [
    "E.__slots__                           # But slots are not concatenated"
   ]
  },
  {
   "cell_type": "code",
   "execution_count": 61,
   "id": "6b0595d0",
   "metadata": {},
   "outputs": [
    {
     "data": {
      "text/plain": [
       "['a', '__dict__']"
      ]
     },
     "execution_count": 61,
     "metadata": {},
     "output_type": "execute_result"
    }
   ],
   "source": [
    "D.__slots__"
   ]
  },
  {
   "cell_type": "code",
   "execution_count": 62,
   "id": "40c7662f",
   "metadata": {},
   "outputs": [
    {
     "data": {
      "text/plain": [
       "['a', '__dict__']"
      ]
     },
     "execution_count": 62,
     "metadata": {},
     "output_type": "execute_result"
    }
   ],
   "source": [
    "X.__slots__                           # Instance inherits *lowest* __slots__, c in class E, and can't find in class D and instance X"
   ]
  },
  {
   "cell_type": "code",
   "execution_count": 63,
   "id": "0416a226",
   "metadata": {},
   "outputs": [
    {
     "data": {
      "text/plain": [
       "{'b': 2}"
      ]
     },
     "execution_count": 63,
     "metadata": {},
     "output_type": "execute_result"
    }
   ],
   "source": [
    "X.__dict__                            # And has its own an attr dict"
   ]
  },
  {
   "cell_type": "code",
   "execution_count": 64,
   "id": "35be6518",
   "metadata": {},
   "outputs": [
    {
     "name": "stdout",
     "output_type": "stream",
     "text": [
      "b => 2\n",
      "a => 1\n",
      "__dict__ => {'b': 2}\n"
     ]
    }
   ],
   "source": [
    "for attr in list(getattr(X, '__dict__', [])) + getattr(X, '__slots__', []):\n",
    "        print(attr, '=>', getattr(X, attr))"
   ]
  },
  {
   "cell_type": "code",
   "execution_count": 66,
   "id": "4861c212",
   "metadata": {},
   "outputs": [],
   "source": [
    "X.e = 5"
   ]
  },
  {
   "cell_type": "code",
   "execution_count": 67,
   "id": "91eb34eb",
   "metadata": {},
   "outputs": [
    {
     "data": {
      "text/plain": [
       "{'b': 2, 'e': 5}"
      ]
     },
     "execution_count": 67,
     "metadata": {},
     "output_type": "execute_result"
    }
   ],
   "source": [
    "X.__dict__ "
   ]
  },
  {
   "cell_type": "code",
   "execution_count": 65,
   "id": "6b462f1b",
   "metadata": {},
   "outputs": [
    {
     "data": {
      "text/plain": [
       "['__class__',\n",
       " '__delattr__',\n",
       " '__dict__',\n",
       " '__dir__',\n",
       " '__doc__',\n",
       " '__eq__',\n",
       " '__format__',\n",
       " '__ge__',\n",
       " '__getattribute__',\n",
       " '__gt__',\n",
       " '__hash__',\n",
       " '__init__',\n",
       " '__init_subclass__',\n",
       " '__le__',\n",
       " '__lt__',\n",
       " '__module__',\n",
       " '__ne__',\n",
       " '__new__',\n",
       " '__reduce__',\n",
       " '__reduce_ex__',\n",
       " '__repr__',\n",
       " '__setattr__',\n",
       " '__sizeof__',\n",
       " '__slots__',\n",
       " '__str__',\n",
       " '__subclasshook__',\n",
       " 'a',\n",
       " 'b',\n",
       " 'c',\n",
       " 'd']"
      ]
     },
     "execution_count": 65,
     "metadata": {},
     "output_type": "execute_result"
    }
   ],
   "source": [
    "dir(X)                                # But dir() includes all slot names"
   ]
  },
  {
   "cell_type": "code",
   "execution_count": 68,
   "id": "5c4d6cda",
   "metadata": {},
   "outputs": [
    {
     "data": {
      "text/plain": [
       "(1, 2, 3)"
      ]
     },
     "execution_count": 68,
     "metadata": {},
     "output_type": "execute_result"
    }
   ],
   "source": [
    "class Slotful:\n",
    "        __slots__ = ['a', 'b', '__dict__']\n",
    "        def __init__(self, data):\n",
    "            self.c = data\n",
    "\n",
    "I = Slotful(3)\n",
    "I.a, I.b = 1, 2\n",
    "I.a, I.b, I.c                            # Normal attribute fetch"
   ]
  },
  {
   "cell_type": "code",
   "execution_count": 69,
   "id": "1a582d4e",
   "metadata": {},
   "outputs": [
    {
     "data": {
      "text/plain": [
       "{'c': 3}"
      ]
     },
     "execution_count": 69,
     "metadata": {},
     "output_type": "execute_result"
    }
   ],
   "source": [
    "I.__dict__                               # Both __dict__ and slots storage"
   ]
  },
  {
   "cell_type": "code",
   "execution_count": 70,
   "id": "136785dd",
   "metadata": {},
   "outputs": [
    {
     "data": {
      "text/plain": [
       "['a', 'b', 'c']"
      ]
     },
     "execution_count": 70,
     "metadata": {},
     "output_type": "execute_result"
    }
   ],
   "source": [
    "[x for x in dir(I) if not x.startswith('__')]"
   ]
  },
  {
   "cell_type": "code",
   "execution_count": 71,
   "id": "7e32ab77",
   "metadata": {},
   "outputs": [
    {
     "data": {
      "text/plain": [
       "3"
      ]
     },
     "execution_count": 71,
     "metadata": {},
     "output_type": "execute_result"
    }
   ],
   "source": [
    "I.__dict__['c']                          # __dict__ is only one attr source"
   ]
  },
  {
   "cell_type": "code",
   "execution_count": 74,
   "id": "11dff52f",
   "metadata": {},
   "outputs": [
    {
     "data": {
      "text/plain": [
       "(3, 1, 2)"
      ]
     },
     "execution_count": 74,
     "metadata": {},
     "output_type": "execute_result"
    }
   ],
   "source": [
    "getattr(I, 'c'), getattr(I, 'a'), getattr(I, 'b')          # dir+getattr is broader than __dict__"
   ]
  },
  {
   "cell_type": "code",
   "execution_count": 73,
   "id": "9e3ba416",
   "metadata": {},
   "outputs": [
    {
     "name": "stdout",
     "output_type": "stream",
     "text": [
      "a 1\n",
      "b 2\n",
      "c 3\n"
     ]
    }
   ],
   "source": [
    "for a in (x for x in dir(I) if not x.startswith('__')):\n",
    "        print(a, getattr(I, a))"
   ]
  },
  {
   "cell_type": "code",
   "execution_count": 75,
   "id": "ca67bb39",
   "metadata": {},
   "outputs": [
    {
     "data": {
      "text/plain": [
       "{'b': 2}"
      ]
     },
     "execution_count": 75,
     "metadata": {},
     "output_type": "execute_result"
    }
   ],
   "source": [
    "class C: pass                        # Bullet 1: slots in sub but not super\n",
    "class D(C): __slots__ = ['a']        # Makes instance dict for nonslots\n",
    "X = D()                              # But slot name still managed in class\n",
    "X.a = 1; X.b = 2\n",
    "X.__dict__"
   ]
  },
  {
   "cell_type": "code",
   "execution_count": 77,
   "id": "2d424b26",
   "metadata": {},
   "outputs": [
    {
     "data": {
      "text/plain": [
       "dict_keys(['__module__', '__slots__', 'a', '__doc__'])"
      ]
     },
     "execution_count": 77,
     "metadata": {},
     "output_type": "execute_result"
    }
   ],
   "source": [
    "D.__dict__.keys()"
   ]
  },
  {
   "cell_type": "code",
   "execution_count": 78,
   "id": "44da40ff",
   "metadata": {},
   "outputs": [
    {
     "data": {
      "text/plain": [
       "dict_keys(['b'])"
      ]
     },
     "execution_count": 78,
     "metadata": {},
     "output_type": "execute_result"
    }
   ],
   "source": [
    "X.__dict__.keys()"
   ]
  },
  {
   "cell_type": "code",
   "execution_count": 76,
   "id": "d5b31b16",
   "metadata": {},
   "outputs": [
    {
     "data": {
      "text/plain": [
       "['a']"
      ]
     },
     "execution_count": 76,
     "metadata": {},
     "output_type": "execute_result"
    }
   ],
   "source": [
    "X.__slots__"
   ]
  },
  {
   "cell_type": "code",
   "execution_count": 79,
   "id": "e55f27f5",
   "metadata": {},
   "outputs": [
    {
     "data": {
      "text/plain": [
       "{'b': 2}"
      ]
     },
     "execution_count": 79,
     "metadata": {},
     "output_type": "execute_result"
    }
   ],
   "source": [
    "class C: __slots__ = ['a']           # Bullet 2: slots in super but not sub\n",
    "class D(C): pass                     # Makes instance dict for nonslots\n",
    "X = D()                              # But slot name still managed in class\n",
    "X.a = 1; X.b = 2\n",
    "X.__dict__"
   ]
  },
  {
   "cell_type": "code",
   "execution_count": 80,
   "id": "71c8744e",
   "metadata": {},
   "outputs": [
    {
     "data": {
      "text/plain": [
       "dict_keys(['__module__', '__slots__', 'a', '__doc__'])"
      ]
     },
     "execution_count": 80,
     "metadata": {},
     "output_type": "execute_result"
    }
   ],
   "source": [
    "C.__dict__.keys()"
   ]
  },
  {
   "cell_type": "code",
   "execution_count": 81,
   "id": "c1fc20e9",
   "metadata": {},
   "outputs": [
    {
     "ename": "ValueError",
     "evalue": "'a' in __slots__ conflicts with class variable",
     "output_type": "error",
     "traceback": [
      "\u001b[1;31m---------------------------------------------------------------------------\u001b[0m",
      "\u001b[1;31mValueError\u001b[0m                                Traceback (most recent call last)",
      "\u001b[1;32m~\\AppData\\Local\\Temp/ipykernel_26468/3765956811.py\u001b[0m in \u001b[0;36m<module>\u001b[1;34m\u001b[0m\n\u001b[0;32m      2\u001b[0m \u001b[1;32mclass\u001b[0m \u001b[0mD\u001b[0m\u001b[1;33m(\u001b[0m\u001b[0mC\u001b[0m\u001b[1;33m)\u001b[0m\u001b[1;33m:\u001b[0m \u001b[0m__slots__\u001b[0m \u001b[1;33m=\u001b[0m \u001b[1;33m[\u001b[0m\u001b[1;34m'a'\u001b[0m\u001b[1;33m]\u001b[0m\u001b[1;33m\u001b[0m\u001b[1;33m\u001b[0m\u001b[0m\n\u001b[0;32m      3\u001b[0m \u001b[1;33m\u001b[0m\u001b[0m\n\u001b[1;32m----> 4\u001b[1;33m \u001b[1;32mclass\u001b[0m \u001b[0mC\u001b[0m\u001b[1;33m:\u001b[0m \u001b[0m__slots__\u001b[0m \u001b[1;33m=\u001b[0m \u001b[1;33m[\u001b[0m\u001b[1;34m'a'\u001b[0m\u001b[1;33m]\u001b[0m\u001b[1;33m;\u001b[0m \u001b[0ma\u001b[0m \u001b[1;33m=\u001b[0m \u001b[1;36m99\u001b[0m   \u001b[1;31m# Bullet 4: no class-level defaults\u001b[0m\u001b[1;33m\u001b[0m\u001b[1;33m\u001b[0m\u001b[0m\n\u001b[0m",
      "\u001b[1;31mValueError\u001b[0m: 'a' in __slots__ conflicts with class variable"
     ]
    }
   ],
   "source": [
    "class C: __slots__ = ['a']           # Bullet 3: only lowest slot accessible\n",
    "class D(C): __slots__ = ['a']\n",
    "\n",
    "class C: __slots__ = ['a']; a = 99   # Bullet 4: no class-level defaults"
   ]
  },
  {
   "cell_type": "code",
   "execution_count": 84,
   "id": "26f7e847",
   "metadata": {},
   "outputs": [],
   "source": [
    "class D(C): \n",
    "    __slots__ = ['a']\n",
    "    \n",
    "X = D()    \n",
    "X.a = 99 "
   ]
  },
  {
   "cell_type": "code",
   "execution_count": 85,
   "id": "91d08bb5",
   "metadata": {},
   "outputs": [
    {
     "data": {
      "text/plain": [
       "99"
      ]
     },
     "execution_count": 85,
     "metadata": {},
     "output_type": "execute_result"
    }
   ],
   "source": [
    "X.a"
   ]
  },
  {
   "cell_type": "code",
   "execution_count": 89,
   "id": "db4e173f",
   "metadata": {},
   "outputs": [
    {
     "ename": "AttributeError",
     "evalue": "'D' object has no attribute '__dict__'",
     "output_type": "error",
     "traceback": [
      "\u001b[1;31m---------------------------------------------------------------------------\u001b[0m",
      "\u001b[1;31mAttributeError\u001b[0m                            Traceback (most recent call last)",
      "\u001b[1;32m~\\AppData\\Local\\Temp/ipykernel_26468/931959676.py\u001b[0m in \u001b[0;36m<module>\u001b[1;34m\u001b[0m\n\u001b[1;32m----> 1\u001b[1;33m \u001b[0mX\u001b[0m\u001b[1;33m.\u001b[0m\u001b[0m__dict__\u001b[0m\u001b[1;33m\u001b[0m\u001b[1;33m\u001b[0m\u001b[0m\n\u001b[0m",
      "\u001b[1;31mAttributeError\u001b[0m: 'D' object has no attribute '__dict__'"
     ]
    }
   ],
   "source": [
    "X.__dict__"
   ]
  },
  {
   "cell_type": "code",
   "execution_count": 90,
   "id": "887847af",
   "metadata": {},
   "outputs": [
    {
     "data": {
      "text/plain": [
       "['a']"
      ]
     },
     "execution_count": 90,
     "metadata": {},
     "output_type": "execute_result"
    }
   ],
   "source": [
    "X.__slots__"
   ]
  },
  {
   "cell_type": "code",
   "execution_count": 86,
   "id": "ef401e8d",
   "metadata": {},
   "outputs": [],
   "source": [
    "Y = C()\n",
    "Y.a = 100"
   ]
  },
  {
   "cell_type": "code",
   "execution_count": 87,
   "id": "4f73e32b",
   "metadata": {},
   "outputs": [
    {
     "data": {
      "text/plain": [
       "100"
      ]
     },
     "execution_count": 87,
     "metadata": {},
     "output_type": "execute_result"
    }
   ],
   "source": [
    "Y.a"
   ]
  },
  {
   "cell_type": "code",
   "execution_count": 88,
   "id": "16650898",
   "metadata": {},
   "outputs": [
    {
     "data": {
      "text/plain": [
       "99"
      ]
     },
     "execution_count": 88,
     "metadata": {},
     "output_type": "execute_result"
    }
   ],
   "source": [
    "X.a"
   ]
  },
  {
   "cell_type": "code",
   "execution_count": 92,
   "id": "1eff3b70",
   "metadata": {},
   "outputs": [
    {
     "data": {
      "text/plain": [
       "['a']"
      ]
     },
     "execution_count": 92,
     "metadata": {},
     "output_type": "execute_result"
    }
   ],
   "source": [
    "X.__slots__"
   ]
  },
  {
   "cell_type": "code",
   "execution_count": 91,
   "id": "fb1f4680",
   "metadata": {},
   "outputs": [
    {
     "data": {
      "text/plain": [
       "['a']"
      ]
     },
     "execution_count": 91,
     "metadata": {},
     "output_type": "execute_result"
    }
   ],
   "source": [
    "Y.__slots__"
   ]
  },
  {
   "cell_type": "code",
   "execution_count": 93,
   "id": "b4c4aac8",
   "metadata": {},
   "outputs": [
    {
     "ename": "AttributeError",
     "evalue": "'D' object has no attribute '__dict__'",
     "output_type": "error",
     "traceback": [
      "\u001b[1;31m---------------------------------------------------------------------------\u001b[0m",
      "\u001b[1;31mAttributeError\u001b[0m                            Traceback (most recent call last)",
      "\u001b[1;32m~\\AppData\\Local\\Temp/ipykernel_26468/1851642148.py\u001b[0m in \u001b[0;36m<module>\u001b[1;34m\u001b[0m\n\u001b[0;32m      3\u001b[0m \u001b[0mX\u001b[0m \u001b[1;33m=\u001b[0m \u001b[0mD\u001b[0m\u001b[1;33m(\u001b[0m\u001b[1;33m)\u001b[0m\u001b[1;33m\u001b[0m\u001b[1;33m\u001b[0m\u001b[0m\n\u001b[0;32m      4\u001b[0m \u001b[0mX\u001b[0m\u001b[1;33m.\u001b[0m\u001b[0ma\u001b[0m \u001b[1;33m=\u001b[0m \u001b[1;36m1\u001b[0m\u001b[1;33m;\u001b[0m \u001b[0mX\u001b[0m\u001b[1;33m.\u001b[0m\u001b[0mb\u001b[0m \u001b[1;33m=\u001b[0m \u001b[1;36m2\u001b[0m\u001b[1;33m\u001b[0m\u001b[1;33m\u001b[0m\u001b[0m\n\u001b[1;32m----> 5\u001b[1;33m \u001b[0mX\u001b[0m\u001b[1;33m.\u001b[0m\u001b[0m__dict__\u001b[0m\u001b[1;33m\u001b[0m\u001b[1;33m\u001b[0m\u001b[0m\n\u001b[0m",
      "\u001b[1;31mAttributeError\u001b[0m: 'D' object has no attribute '__dict__'"
     ]
    }
   ],
   "source": [
    "class C: __slots__ = ['a']           # Assumes universal use, differing names\n",
    "class D(C): __slots__ = ['b']\n",
    "X = D()\n",
    "X.a = 1; X.b = 2\n",
    "X.__dict__"
   ]
  },
  {
   "cell_type": "code",
   "execution_count": 94,
   "id": "99d64cf3",
   "metadata": {},
   "outputs": [
    {
     "data": {
      "text/plain": [
       "(dict_keys(['__module__', '__slots__', 'a', '__doc__']),\n",
       " dict_keys(['__module__', '__slots__', 'b', '__doc__']))"
      ]
     },
     "execution_count": 94,
     "metadata": {},
     "output_type": "execute_result"
    }
   ],
   "source": [
    "C.__dict__.keys(), D.__dict__.keys()"
   ]
  },
  {
   "cell_type": "code",
   "execution_count": 95,
   "id": "33ab0cdf",
   "metadata": {},
   "outputs": [
    {
     "name": "stdout",
     "output_type": "stream",
     "text": [
      "# File slots-test.py\n",
      "from __future__ import print_function\n",
      "import timeit\n",
      "base = \"\"\"\n",
      "Is = []\n",
      "for i in range(1000):\n",
      "    X = C()\n",
      "    X.a = 1; X.b = 2; X.c = 3; X.d = 4\n",
      "    t = X.a + X.b + X.c + X.d  \n",
      "    Is.append(X)\n",
      "\"\"\"\n",
      "\n",
      "stmt = \"\"\"\n",
      "class C:\n",
      "    __slots__ = ['a', 'b', 'c', 'd']\n",
      "\"\"\" + base\n",
      "print('Slots   =>', end=' ')\n",
      "print(min(timeit.repeat(stmt, number=1000, repeat=3)))\n",
      "\n",
      "stmt = \"\"\"\n",
      "class C:\n",
      "    pass\n",
      "\"\"\" + base\n",
      "print('Nonslots=>', end=' ')\n",
      "print(min(timeit.repeat(stmt, number=1000, repeat=3)))\n",
      "\n",
      "\n",
      "\n"
     ]
    }
   ],
   "source": [
    "!cat code/slots-test.py"
   ]
  },
  {
   "cell_type": "code",
   "execution_count": 96,
   "id": "f7657ce4",
   "metadata": {},
   "outputs": [
    {
     "name": "stdout",
     "output_type": "stream",
     "text": [
      "Slots   => 0.3789501\n",
      "Nonslots=> 0.45945389999999997\n"
     ]
    }
   ],
   "source": [
    "!python code/slots-test.py"
   ]
  },
  {
   "cell_type": "markdown",
   "id": "03fd1ae4",
   "metadata": {},
   "source": [
    "### PROPERTY BASICS"
   ]
  },
  {
   "cell_type": "code",
   "execution_count": 97,
   "id": "6bad1890",
   "metadata": {},
   "outputs": [
    {
     "data": {
      "text/plain": [
       "40"
      ]
     },
     "execution_count": 97,
     "metadata": {},
     "output_type": "execute_result"
    }
   ],
   "source": [
    "class operators:\n",
    "        def __getattr__(self, name):\n",
    "            if name == 'age':\n",
    "                return 40\n",
    "            else:\n",
    "                raise AttributeError(name)\n",
    "\n",
    "x = operators()\n",
    "x.age                                         # Runs __getattr__"
   ]
  },
  {
   "cell_type": "code",
   "execution_count": 98,
   "id": "2fe0a707",
   "metadata": {},
   "outputs": [
    {
     "ename": "AttributeError",
     "evalue": "name",
     "output_type": "error",
     "traceback": [
      "\u001b[1;31m---------------------------------------------------------------------------\u001b[0m",
      "\u001b[1;31mAttributeError\u001b[0m                            Traceback (most recent call last)",
      "\u001b[1;32m~\\AppData\\Local\\Temp/ipykernel_26468/2486961287.py\u001b[0m in \u001b[0;36m<module>\u001b[1;34m\u001b[0m\n\u001b[1;32m----> 1\u001b[1;33m \u001b[0mx\u001b[0m\u001b[1;33m.\u001b[0m\u001b[0mname\u001b[0m                                        \u001b[1;31m# Runs __getattr__\u001b[0m\u001b[1;33m\u001b[0m\u001b[1;33m\u001b[0m\u001b[0m\n\u001b[0m",
      "\u001b[1;32m~\\AppData\\Local\\Temp/ipykernel_26468/815586770.py\u001b[0m in \u001b[0;36m__getattr__\u001b[1;34m(self, name)\u001b[0m\n\u001b[0;32m      4\u001b[0m                 \u001b[1;32mreturn\u001b[0m \u001b[1;36m40\u001b[0m\u001b[1;33m\u001b[0m\u001b[1;33m\u001b[0m\u001b[0m\n\u001b[0;32m      5\u001b[0m             \u001b[1;32melse\u001b[0m\u001b[1;33m:\u001b[0m\u001b[1;33m\u001b[0m\u001b[1;33m\u001b[0m\u001b[0m\n\u001b[1;32m----> 6\u001b[1;33m                 \u001b[1;32mraise\u001b[0m \u001b[0mAttributeError\u001b[0m\u001b[1;33m(\u001b[0m\u001b[0mname\u001b[0m\u001b[1;33m)\u001b[0m\u001b[1;33m\u001b[0m\u001b[1;33m\u001b[0m\u001b[0m\n\u001b[0m\u001b[0;32m      7\u001b[0m \u001b[1;33m\u001b[0m\u001b[0m\n\u001b[0;32m      8\u001b[0m \u001b[0mx\u001b[0m \u001b[1;33m=\u001b[0m \u001b[0moperators\u001b[0m\u001b[1;33m(\u001b[0m\u001b[1;33m)\u001b[0m\u001b[1;33m\u001b[0m\u001b[1;33m\u001b[0m\u001b[0m\n",
      "\u001b[1;31mAttributeError\u001b[0m: name"
     ]
    }
   ],
   "source": [
    "x.name                                        # Runs __getattr__"
   ]
  },
  {
   "cell_type": "code",
   "execution_count": 99,
   "id": "f2603bbd",
   "metadata": {},
   "outputs": [
    {
     "data": {
      "text/plain": [
       "40"
      ]
     },
     "execution_count": 99,
     "metadata": {},
     "output_type": "execute_result"
    }
   ],
   "source": [
    "class properties(object):                     # Need object in 2.X for setters\n",
    "        def getage(self):\n",
    "            return 40\n",
    "        age = property(getage, None, None, None)  # (get, set, del, docs), or use @\n",
    "\n",
    "x = properties()\n",
    "x.age                                         # Runs getage"
   ]
  },
  {
   "cell_type": "code",
   "execution_count": 100,
   "id": "e6dfbab7",
   "metadata": {},
   "outputs": [
    {
     "ename": "AttributeError",
     "evalue": "'properties' object has no attribute 'name'",
     "output_type": "error",
     "traceback": [
      "\u001b[1;31m---------------------------------------------------------------------------\u001b[0m",
      "\u001b[1;31mAttributeError\u001b[0m                            Traceback (most recent call last)",
      "\u001b[1;32m~\\AppData\\Local\\Temp/ipykernel_26468/327964352.py\u001b[0m in \u001b[0;36m<module>\u001b[1;34m\u001b[0m\n\u001b[1;32m----> 1\u001b[1;33m \u001b[0mx\u001b[0m\u001b[1;33m.\u001b[0m\u001b[0mname\u001b[0m                                        \u001b[1;31m# Normal fetch\u001b[0m\u001b[1;33m\u001b[0m\u001b[1;33m\u001b[0m\u001b[0m\n\u001b[0m",
      "\u001b[1;31mAttributeError\u001b[0m: 'properties' object has no attribute 'name'"
     ]
    }
   ],
   "source": [
    "x.name                                        # Normal fetch"
   ]
  },
  {
   "cell_type": "code",
   "execution_count": 101,
   "id": "224f7b5f",
   "metadata": {},
   "outputs": [
    {
     "data": {
      "text/plain": [
       "40"
      ]
     },
     "execution_count": 101,
     "metadata": {},
     "output_type": "execute_result"
    }
   ],
   "source": [
    "class properties(object):                     # Need object in 2.X for setters\n",
    "        def getage(self):\n",
    "            return 40\n",
    "        def setage(self, value):\n",
    "            print('set age: %s' % value)\n",
    "            self._age = value\n",
    "        age = property(getage, setage, None, None)\n",
    "\n",
    "x = properties()\n",
    "x.age                                         # Runs getage"
   ]
  },
  {
   "cell_type": "code",
   "execution_count": 102,
   "id": "7e26c8ea",
   "metadata": {},
   "outputs": [
    {
     "name": "stdout",
     "output_type": "stream",
     "text": [
      "set age: 41\n"
     ]
    }
   ],
   "source": [
    "x.age  = 41"
   ]
  },
  {
   "cell_type": "code",
   "execution_count": 103,
   "id": "d3fb77ab",
   "metadata": {},
   "outputs": [
    {
     "data": {
      "text/plain": [
       "40"
      ]
     },
     "execution_count": 103,
     "metadata": {},
     "output_type": "execute_result"
    }
   ],
   "source": [
    "x.age"
   ]
  },
  {
   "cell_type": "code",
   "execution_count": 104,
   "id": "88c4aca4",
   "metadata": {},
   "outputs": [
    {
     "data": {
      "text/plain": [
       "41"
      ]
     },
     "execution_count": 104,
     "metadata": {},
     "output_type": "execute_result"
    }
   ],
   "source": [
    "x._age"
   ]
  },
  {
   "cell_type": "code",
   "execution_count": 105,
   "id": "f98ba07e",
   "metadata": {},
   "outputs": [
    {
     "data": {
      "text/plain": [
       "'trainer'"
      ]
     },
     "execution_count": 105,
     "metadata": {},
     "output_type": "execute_result"
    }
   ],
   "source": [
    "x.job = 'trainer'                             # Normal assign: no setage call\n",
    "x.job                                         # Normal fetch:  no getage call"
   ]
  },
  {
   "cell_type": "code",
   "execution_count": 106,
   "id": "b8f8cd25",
   "metadata": {},
   "outputs": [
    {
     "data": {
      "text/plain": [
       "40"
      ]
     },
     "execution_count": 106,
     "metadata": {},
     "output_type": "execute_result"
    }
   ],
   "source": [
    "class operators:\n",
    "        def __getattr__(self, name):              # On undefined reference\n",
    "            if name == 'age':\n",
    "                return 40\n",
    "            else:\n",
    "                raise AttributeError(name)\n",
    "        def __setattr__(self, name, value):       # On all assignments\n",
    "            print('set: %s %s' % (name, value))\n",
    "            if name == 'age':\n",
    "                self.__dict__['_age'] = value     # Or object.__setattr__()\n",
    "            else:\n",
    "                self.__dict__[name] = value\n",
    "\n",
    "x = operators()\n",
    "x.age                                         # Runs __getattr__"
   ]
  },
  {
   "cell_type": "code",
   "execution_count": 107,
   "id": "85a2eeb3",
   "metadata": {},
   "outputs": [
    {
     "name": "stdout",
     "output_type": "stream",
     "text": [
      "set: age 41\n"
     ]
    }
   ],
   "source": [
    "x.age = 41                                    # Runs __setattr__"
   ]
  },
  {
   "cell_type": "code",
   "execution_count": 108,
   "id": "891adef5",
   "metadata": {},
   "outputs": [
    {
     "data": {
      "text/plain": [
       "41"
      ]
     },
     "execution_count": 108,
     "metadata": {},
     "output_type": "execute_result"
    }
   ],
   "source": [
    "x._age                                        # Defined: no __getattr__ call"
   ]
  },
  {
   "cell_type": "code",
   "execution_count": 109,
   "id": "076f04a5",
   "metadata": {},
   "outputs": [
    {
     "data": {
      "text/plain": [
       "40"
      ]
     },
     "execution_count": 109,
     "metadata": {},
     "output_type": "execute_result"
    }
   ],
   "source": [
    "x.age                                         # Runs __getattr__"
   ]
  },
  {
   "cell_type": "code",
   "execution_count": 110,
   "id": "2a63ff20",
   "metadata": {},
   "outputs": [
    {
     "name": "stdout",
     "output_type": "stream",
     "text": [
      "set: job trainer\n"
     ]
    }
   ],
   "source": [
    "x.job = 'trainer'                             # Runs __setattr__ again"
   ]
  },
  {
   "cell_type": "code",
   "execution_count": 111,
   "id": "d850c623",
   "metadata": {},
   "outputs": [
    {
     "data": {
      "text/plain": [
       "'trainer'"
      ]
     },
     "execution_count": 111,
     "metadata": {},
     "output_type": "execute_result"
    }
   ],
   "source": [
    "x.job                                         # Defined: no __getattr__ call"
   ]
  },
  {
   "cell_type": "code",
   "execution_count": 112,
   "id": "51534e45",
   "metadata": {},
   "outputs": [
    {
     "data": {
      "text/plain": [
       "{'_age': 41, 'job': 'trainer'}"
      ]
     },
     "execution_count": 112,
     "metadata": {},
     "output_type": "execute_result"
    }
   ],
   "source": [
    "x.__dict__"
   ]
  },
  {
   "cell_type": "code",
   "execution_count": 113,
   "id": "dbbaf281",
   "metadata": {},
   "outputs": [
    {
     "data": {
      "text/plain": [
       "40"
      ]
     },
     "execution_count": 113,
     "metadata": {},
     "output_type": "execute_result"
    }
   ],
   "source": [
    "class AgeDesc(object):\n",
    "        def __get__(self, instance, owner): return 40\n",
    "        def __set__(self, instance, value): instance._age = value\n",
    "\n",
    "class descriptors(object):\n",
    "    age = AgeDesc()\n",
    "\n",
    "x = descriptors()\n",
    "x.age                                         # Runs AgeDesc.__get__"
   ]
  },
  {
   "cell_type": "code",
   "execution_count": 114,
   "id": "0b754c0c",
   "metadata": {},
   "outputs": [],
   "source": [
    "x.age = 42                                    # Runs AgeDesc.__set__"
   ]
  },
  {
   "cell_type": "code",
   "execution_count": 115,
   "id": "c181f50e",
   "metadata": {},
   "outputs": [
    {
     "data": {
      "text/plain": [
       "42"
      ]
     },
     "execution_count": 115,
     "metadata": {},
     "output_type": "execute_result"
    }
   ],
   "source": [
    "x._age                                        # Normal fetch: no AgeDesc call"
   ]
  },
  {
   "cell_type": "markdown",
   "id": "0a3598d0",
   "metadata": {},
   "source": [
    "### Static and Class Methods  \n",
    "\n",
    "In Python 3.X, calls to self-less methods made through classes work, but calls from instances fail:"
   ]
  },
  {
   "cell_type": "code",
   "execution_count": 117,
   "id": "3a89f12b",
   "metadata": {},
   "outputs": [
    {
     "name": "stdout",
     "output_type": "stream",
     "text": [
      "class Spam:\n",
      "    numInstances = 0\n",
      "    def __init__(self):\n",
      "        Spam.numInstances = Spam.numInstances + 1\n",
      "    def printNumInstances():\n",
      "        print(\"Number of instances created: %s\" % Spam.numInstances)\n"
     ]
    }
   ],
   "source": [
    "!cat code/spam.py"
   ]
  },
  {
   "cell_type": "code",
   "execution_count": 118,
   "id": "611f329f",
   "metadata": {},
   "outputs": [
    {
     "name": "stdout",
     "output_type": "stream",
     "text": [
      "Number of instances created: 3\n"
     ]
    }
   ],
   "source": [
    "from spam import Spam\n",
    "a = Spam()                       # Cannot call unbound class methods in 2.X\n",
    "b = Spam()                       # Methods expect a self object by default\n",
    "c = Spam()\n",
    "\n",
    "Spam.printNumInstances()"
   ]
  },
  {
   "cell_type": "code",
   "execution_count": 119,
   "id": "0ede056a",
   "metadata": {},
   "outputs": [
    {
     "ename": "TypeError",
     "evalue": "printNumInstances() takes 0 positional arguments but 1 was given",
     "output_type": "error",
     "traceback": [
      "\u001b[1;31m---------------------------------------------------------------------------\u001b[0m",
      "\u001b[1;31mTypeError\u001b[0m                                 Traceback (most recent call last)",
      "\u001b[1;32m~\\AppData\\Local\\Temp/ipykernel_26468/2624921784.py\u001b[0m in \u001b[0;36m<module>\u001b[1;34m\u001b[0m\n\u001b[1;32m----> 1\u001b[1;33m \u001b[0ma\u001b[0m\u001b[1;33m.\u001b[0m\u001b[0mprintNumInstances\u001b[0m\u001b[1;33m(\u001b[0m\u001b[1;33m)\u001b[0m\u001b[1;33m\u001b[0m\u001b[1;33m\u001b[0m\u001b[0m\n\u001b[0m",
      "\u001b[1;31mTypeError\u001b[0m: printNumInstances() takes 0 positional arguments but 1 was given"
     ]
    }
   ],
   "source": [
    "a.printNumInstances()"
   ]
  },
  {
   "cell_type": "code",
   "execution_count": 122,
   "id": "0a5da0ba",
   "metadata": {},
   "outputs": [
    {
     "name": "stdout",
     "output_type": "stream",
     "text": [
      "def printNumInstances():\n",
      "    print(\"Number of instances created: %s\" % Spam.numInstances)\n",
      "\n",
      "class Spam:\n",
      "    numInstances = 0\n",
      "    def __init__(self):\n",
      "        Spam.numInstances = Spam.numInstances + 1\n"
     ]
    }
   ],
   "source": [
    "!cat code/spam2.py"
   ]
  },
  {
   "cell_type": "code",
   "execution_count": 126,
   "id": "42e1d1e1",
   "metadata": {},
   "outputs": [
    {
     "name": "stdout",
     "output_type": "stream",
     "text": [
      "Number of instances created: 3\n"
     ]
    }
   ],
   "source": [
    "import spam2\n",
    "a = spam2.Spam()\n",
    "b = spam2.Spam()\n",
    "c = spam2.Spam()\n",
    "spam2.printNumInstances()           # But function may be too far removed  "
   ]
  },
  {
   "cell_type": "code",
   "execution_count": 127,
   "id": "3229c959",
   "metadata": {},
   "outputs": [
    {
     "data": {
      "text/plain": [
       "3"
      ]
     },
     "execution_count": 127,
     "metadata": {},
     "output_type": "execute_result"
    }
   ],
   "source": [
    "import spam2\n",
    "spam2.Spam.numInstances"
   ]
  },
  {
   "cell_type": "code",
   "execution_count": 129,
   "id": "758d1d9b",
   "metadata": {},
   "outputs": [
    {
     "data": {
      "text/plain": [
       "(3, 3, 3)"
      ]
     },
     "execution_count": 129,
     "metadata": {},
     "output_type": "execute_result"
    }
   ],
   "source": [
    "a.numInstances, b.numInstances, c.numInstances"
   ]
  },
  {
   "cell_type": "markdown",
   "id": "5f8d0f9b",
   "metadata": {},
   "source": [
    "#### Using Static and Class Methods"
   ]
  },
  {
   "cell_type": "code",
   "execution_count": 130,
   "id": "91c6149f",
   "metadata": {},
   "outputs": [
    {
     "name": "stdout",
     "output_type": "stream",
     "text": [
      "# File bothmethods.py\n",
      "\n",
      "class Methods:\n",
      "    def imeth(self, x):            # Normal instance method: passed a self\n",
      "        print([self, x])\n",
      "\n",
      "    def smeth(x):                  # Static: no instance passed\n",
      "        print([x])\n",
      "\n",
      "    def cmeth(cls, x):             # Class: gets class, not instance\n",
      "        print([cls, x])\n",
      "\n",
      "    smeth = staticmethod(smeth)    # Make smeth a static method (or @: ahead)\n",
      "    cmeth = classmethod(cmeth)     # Make cmeth a class method (or @: ahead)\n"
     ]
    }
   ],
   "source": [
    "!cat code/bothmethods.py"
   ]
  },
  {
   "cell_type": "code",
   "execution_count": 131,
   "id": "de155636",
   "metadata": {},
   "outputs": [
    {
     "name": "stdout",
     "output_type": "stream",
     "text": [
      "[<bothmethods.Methods object at 0x000002317A5DE580>, 1]\n"
     ]
    }
   ],
   "source": [
    "from bothmethods import Methods    # Normal instance methods\n",
    "obj = Methods()                    # Callable through instance or class\n",
    "obj.imeth(1)"
   ]
  },
  {
   "cell_type": "code",
   "execution_count": 132,
   "id": "c4641319",
   "metadata": {},
   "outputs": [
    {
     "name": "stdout",
     "output_type": "stream",
     "text": [
      "[<bothmethods.Methods object at 0x000002317A5DE580>, 2]\n"
     ]
    }
   ],
   "source": [
    "Methods.imeth(obj, 2)"
   ]
  },
  {
   "cell_type": "code",
   "execution_count": 133,
   "id": "4eb4a536",
   "metadata": {},
   "outputs": [
    {
     "name": "stdout",
     "output_type": "stream",
     "text": [
      "[3]\n"
     ]
    }
   ],
   "source": [
    "Methods.smeth(3)                   # Static method: call through class"
   ]
  },
  {
   "cell_type": "code",
   "execution_count": 134,
   "id": "3ed4ca6f",
   "metadata": {},
   "outputs": [
    {
     "name": "stdout",
     "output_type": "stream",
     "text": [
      "[4]\n"
     ]
    }
   ],
   "source": [
    "obj.smeth(4)                       # Static method: call through instance # Instance not passed"
   ]
  },
  {
   "cell_type": "code",
   "execution_count": 136,
   "id": "5594a562",
   "metadata": {},
   "outputs": [
    {
     "name": "stdout",
     "output_type": "stream",
     "text": [
      "[5]\n"
     ]
    }
   ],
   "source": [
    "Methods().smeth(5)   "
   ]
  },
  {
   "cell_type": "code",
   "execution_count": 138,
   "id": "ef378b26",
   "metadata": {},
   "outputs": [
    {
     "name": "stdout",
     "output_type": "stream",
     "text": [
      "[5]\n"
     ]
    }
   ],
   "source": [
    "Methods.smeth(5)  "
   ]
  },
  {
   "cell_type": "code",
   "execution_count": 137,
   "id": "04a07893",
   "metadata": {},
   "outputs": [
    {
     "name": "stdout",
     "output_type": "stream",
     "text": [
      "[<class 'bothmethods.Methods'>, 5]\n"
     ]
    }
   ],
   "source": [
    "Methods.cmeth(5)                   # Class method: call through class"
   ]
  },
  {
   "cell_type": "code",
   "execution_count": 139,
   "id": "bbb48da1",
   "metadata": {},
   "outputs": [
    {
     "name": "stdout",
     "output_type": "stream",
     "text": [
      "[<class 'bothmethods.Methods'>, 6]\n"
     ]
    }
   ],
   "source": [
    "obj.cmeth(6)                       # Class method: call through instance"
   ]
  },
  {
   "cell_type": "markdown",
   "id": "d98bca13",
   "metadata": {},
   "source": [
    "#### Counting Instances with Static Methods"
   ]
  },
  {
   "cell_type": "code",
   "execution_count": 140,
   "id": "b89b9bce",
   "metadata": {},
   "outputs": [
    {
     "name": "stdout",
     "output_type": "stream",
     "text": [
      "class Spam:\n",
      "    numInstances = 0                         # Use static method for class data\n",
      "    def __init__(self):\n",
      "        Spam.numInstances += 1\n",
      "    def printNumInstances():\n",
      "        print(\"Number of instances: %s\" % Spam.numInstances)\n",
      "    printNumInstances = staticmethod(printNumInstances)\n",
      "\n",
      "class Sub(Spam):\n",
      "    def printNumInstances():                 # Override a static method\n",
      "        print(\"Extra stuff...\")              # But call back to original\n",
      "        Spam.printNumInstances()\n",
      "    printNumInstances = staticmethod(printNumInstances)\n"
     ]
    }
   ],
   "source": [
    "!cat code/spam_static.py"
   ]
  },
  {
   "cell_type": "code",
   "execution_count": 141,
   "id": "3d00483b",
   "metadata": {},
   "outputs": [
    {
     "name": "stdout",
     "output_type": "stream",
     "text": [
      "Number of instances: 3\n"
     ]
    }
   ],
   "source": [
    "from spam_static import Spam\n",
    "a = Spam()\n",
    "b = Spam()\n",
    "c = Spam()\n",
    "Spam.printNumInstances()                 # Call as simple function"
   ]
  },
  {
   "cell_type": "code",
   "execution_count": 142,
   "id": "73c0dd4d",
   "metadata": {},
   "outputs": [
    {
     "name": "stdout",
     "output_type": "stream",
     "text": [
      "Number of instances: 3\n"
     ]
    }
   ],
   "source": [
    "a.printNumInstances()                    # Instance argument not passed"
   ]
  },
  {
   "cell_type": "code",
   "execution_count": 143,
   "id": "1b37464e",
   "metadata": {},
   "outputs": [
    {
     "name": "stdout",
     "output_type": "stream",
     "text": [
      "Extra stuff...\n",
      "Number of instances: 5\n"
     ]
    }
   ],
   "source": [
    "from spam_static import Spam, Sub\n",
    "a = Sub()\n",
    "b = Sub()\n",
    "a.printNumInstances()                    # Call from subclass instance"
   ]
  },
  {
   "cell_type": "code",
   "execution_count": 144,
   "id": "7a520b4e",
   "metadata": {},
   "outputs": [
    {
     "name": "stdout",
     "output_type": "stream",
     "text": [
      "Extra stuff...\n",
      "Number of instances: 5\n"
     ]
    }
   ],
   "source": [
    "a.printNumInstances()                    # Call from subclass instance"
   ]
  },
  {
   "cell_type": "code",
   "execution_count": 145,
   "id": "27fe9a61",
   "metadata": {},
   "outputs": [
    {
     "name": "stdout",
     "output_type": "stream",
     "text": [
      "Extra stuff...\n",
      "Number of instances: 5\n"
     ]
    }
   ],
   "source": [
    "b.printNumInstances()                    # Call from subclass instance"
   ]
  },
  {
   "cell_type": "code",
   "execution_count": 146,
   "id": "7f0775d0",
   "metadata": {},
   "outputs": [
    {
     "name": "stdout",
     "output_type": "stream",
     "text": [
      "Extra stuff...\n",
      "Number of instances: 5\n"
     ]
    }
   ],
   "source": [
    "Sub.printNumInstances()                  # Call from subclass itself"
   ]
  },
  {
   "cell_type": "code",
   "execution_count": 147,
   "id": "38801db1",
   "metadata": {},
   "outputs": [
    {
     "name": "stdout",
     "output_type": "stream",
     "text": [
      "Number of instances: 5\n"
     ]
    }
   ],
   "source": [
    "Spam.printNumInstances()                 # Call original version"
   ]
  },
  {
   "cell_type": "code",
   "execution_count": 148,
   "id": "8a9dbe70",
   "metadata": {},
   "outputs": [
    {
     "name": "stdout",
     "output_type": "stream",
     "text": [
      "Number of instances: 6\n"
     ]
    }
   ],
   "source": [
    "Spam().printNumInstances()                 # Call original version"
   ]
  },
  {
   "cell_type": "markdown",
   "id": "2cdba878",
   "metadata": {},
   "source": [
    "Moreover, classes can inherit the static method without redefining it—it is run without an instance, regardless of where it is defined in a class tree:"
   ]
  },
  {
   "cell_type": "code",
   "execution_count": 149,
   "id": "ece78119",
   "metadata": {},
   "outputs": [
    {
     "name": "stdout",
     "output_type": "stream",
     "text": [
      "Number of instances: 7\n"
     ]
    }
   ],
   "source": [
    "class Other(Spam): pass                  # Inherit static method verbatim\n",
    "\n",
    "c = Other()\n",
    "c.printNumInstances()"
   ]
  },
  {
   "cell_type": "code",
   "execution_count": 150,
   "id": "f7a4386b",
   "metadata": {},
   "outputs": [
    {
     "name": "stdout",
     "output_type": "stream",
     "text": [
      "Number of instances: 7\n"
     ]
    }
   ],
   "source": [
    "Other.printNumInstances()"
   ]
  },
  {
   "cell_type": "code",
   "execution_count": 151,
   "id": "664ec051",
   "metadata": {},
   "outputs": [
    {
     "name": "stdout",
     "output_type": "stream",
     "text": [
      "Number of instances: 8\n"
     ]
    }
   ],
   "source": [
    "Other().printNumInstances()"
   ]
  },
  {
   "cell_type": "code",
   "execution_count": 152,
   "id": "9f43e3c8",
   "metadata": {},
   "outputs": [
    {
     "name": "stdout",
     "output_type": "stream",
     "text": [
      "class Spam:\n",
      "    numInstances = 0                         # Trace class passed in\n",
      "    def __init__(self):\n",
      "        Spam.numInstances += 1\n",
      "    def printNumInstances(cls):\n",
      "        print(\"Number of instances: %s %s\" % (cls.numInstances, cls))\n",
      "    printNumInstances = classmethod(printNumInstances)\n",
      "\n",
      "class Sub(Spam):\n",
      "    def printNumInstances(cls):              # Override a class method\n",
      "        print(\"Extra stuff...\", cls)         # But call back to original\n",
      "        Spam.printNumInstances()\n",
      "    printNumInstances = classmethod(printNumInstances)\n",
      "\n",
      "class Other(Spam): pass                      # Inherit class method verbatim\n"
     ]
    }
   ],
   "source": [
    "!cat code/spam_class.py"
   ]
  },
  {
   "cell_type": "code",
   "execution_count": 4,
   "id": "2796d095",
   "metadata": {},
   "outputs": [
    {
     "name": "stdout",
     "output_type": "stream",
     "text": [
      "Number of instances: 2 <class 'spam_class.Spam'>\n"
     ]
    }
   ],
   "source": [
    "from spam_class import Spam\n",
    "a, b = Spam(), Spam()\n",
    "a.printNumInstances()                    # Passes class to first argument"
   ]
  },
  {
   "cell_type": "code",
   "execution_count": 5,
   "id": "d98ac739",
   "metadata": {},
   "outputs": [
    {
     "name": "stdout",
     "output_type": "stream",
     "text": [
      "Number of instances: 2 <class 'spam_class.Spam'>\n"
     ]
    }
   ],
   "source": [
    "b.printNumInstances() "
   ]
  },
  {
   "cell_type": "code",
   "execution_count": 6,
   "id": "f0dcf20b",
   "metadata": {},
   "outputs": [
    {
     "name": "stdout",
     "output_type": "stream",
     "text": [
      "Number of instances: 2 <class 'spam_class.Spam'>\n"
     ]
    }
   ],
   "source": [
    "Spam.printNumInstances()                 # Also passes class to first argument"
   ]
  },
  {
   "cell_type": "code",
   "execution_count": 7,
   "id": "8933494b",
   "metadata": {},
   "outputs": [
    {
     "name": "stdout",
     "output_type": "stream",
     "text": [
      "Extra stuff... <class 'spam_class.Sub'>\n",
      "Number of instances: 4 <class 'spam_class.Spam'>\n"
     ]
    }
   ],
   "source": [
    "from spam_class import Spam, Sub, Other\n",
    "x = Sub()\n",
    "y = Spam()\n",
    "x.printNumInstances()                           # Call from subclass instance"
   ]
  },
  {
   "cell_type": "code",
   "execution_count": 8,
   "id": "6ef3fd20",
   "metadata": {},
   "outputs": [
    {
     "name": "stdout",
     "output_type": "stream",
     "text": [
      "Number of instances: 4 <class 'spam_class.Spam'>\n"
     ]
    }
   ],
   "source": [
    "y.printNumInstances()   "
   ]
  },
  {
   "cell_type": "code",
   "execution_count": 9,
   "id": "5e0b5048",
   "metadata": {},
   "outputs": [
    {
     "name": "stdout",
     "output_type": "stream",
     "text": [
      "Extra stuff... <class 'spam_class.Sub'>\n",
      "Number of instances: 4 <class 'spam_class.Spam'>\n"
     ]
    }
   ],
   "source": [
    "Sub.printNumInstances()                         # Call from subclass itself"
   ]
  },
  {
   "cell_type": "code",
   "execution_count": 10,
   "id": "bd7ec1ac",
   "metadata": {},
   "outputs": [
    {
     "name": "stdout",
     "output_type": "stream",
     "text": [
      "Number of instances: 4 <class 'spam_class.Spam'>\n"
     ]
    }
   ],
   "source": [
    "Spam.printNumInstances()                         # Call from superclass itself"
   ]
  },
  {
   "cell_type": "code",
   "execution_count": 11,
   "id": "4819c8ad",
   "metadata": {},
   "outputs": [
    {
     "name": "stdout",
     "output_type": "stream",
     "text": [
      "Number of instances: 5 <class 'spam_class.Other'>\n"
     ]
    }
   ],
   "source": [
    "z = Other()                                     # Call from lower sub's instance\n",
    "z.printNumInstances()"
   ]
  },
  {
   "cell_type": "code",
   "execution_count": 12,
   "id": "47ec2830",
   "metadata": {},
   "outputs": [
    {
     "name": "stdout",
     "output_type": "stream",
     "text": [
      "Number of instances: 5 <class 'spam_class.Other'>\n"
     ]
    }
   ],
   "source": [
    "Other.printNumInstances()"
   ]
  },
  {
   "cell_type": "code",
   "execution_count": 13,
   "id": "532e0a6e",
   "metadata": {},
   "outputs": [
    {
     "name": "stdout",
     "output_type": "stream",
     "text": [
      "Extra stuff... <class 'spam_class.Sub'>\n",
      "Number of instances: 5 <class 'spam_class.Spam'>\n"
     ]
    }
   ],
   "source": [
    "x.printNumInstances()   "
   ]
  },
  {
   "cell_type": "code",
   "execution_count": 14,
   "id": "a4624c72",
   "metadata": {},
   "outputs": [
    {
     "name": "stdout",
     "output_type": "stream",
     "text": [
      "Number of instances: 5 <class 'spam_class.Spam'>\n"
     ]
    }
   ],
   "source": [
    "y.printNumInstances()   "
   ]
  },
  {
   "cell_type": "code",
   "execution_count": 15,
   "id": "ce37a889",
   "metadata": {},
   "outputs": [
    {
     "name": "stdout",
     "output_type": "stream",
     "text": [
      "Number of instances: 5 <class 'spam_class.Other'>\n"
     ]
    }
   ],
   "source": [
    "z.printNumInstances()"
   ]
  },
  {
   "cell_type": "code",
   "execution_count": 19,
   "id": "29c50c91",
   "metadata": {},
   "outputs": [
    {
     "data": {
      "text/plain": [
       "(spam_class.Spam, spam_class.Sub, spam_class.Other)"
      ]
     },
     "execution_count": 19,
     "metadata": {},
     "output_type": "execute_result"
    }
   ],
   "source": [
    "Spam, Sub, Other"
   ]
  },
  {
   "cell_type": "code",
   "execution_count": 20,
   "id": "5d9cdf5c",
   "metadata": {},
   "outputs": [
    {
     "name": "stdout",
     "output_type": "stream",
     "text": [
      "<class 'spam_class.Spam'>\n",
      "<class 'spam_class.Sub'>\n",
      "<class 'spam_class.Other'>\n"
     ]
    },
    {
     "data": {
      "text/plain": [
       "(None, None, None)"
      ]
     },
     "execution_count": 20,
     "metadata": {},
     "output_type": "execute_result"
    }
   ],
   "source": [
    "print(Spam), print(Sub), print(Other)"
   ]
  },
  {
   "cell_type": "code",
   "execution_count": 17,
   "id": "3e54e10b",
   "metadata": {},
   "outputs": [
    {
     "data": {
      "text/plain": [
       "(<spam_class.Sub at 0x26aa89be490>,\n",
       " <spam_class.Spam at 0x26aa89be760>,\n",
       " <spam_class.Other at 0x26aa89beb80>)"
      ]
     },
     "execution_count": 17,
     "metadata": {},
     "output_type": "execute_result"
    }
   ],
   "source": [
    "x, y, z"
   ]
  },
  {
   "cell_type": "code",
   "execution_count": 24,
   "id": "5613ff99",
   "metadata": {},
   "outputs": [
    {
     "name": "stdout",
     "output_type": "stream",
     "text": [
      "Extra stuff... <class 'spam_class.Sub'>\n",
      "Number of instances: 5 <class 'spam_class.Spam'>\n"
     ]
    }
   ],
   "source": [
    "f = x\n",
    "f.printNumInstances()"
   ]
  },
  {
   "cell_type": "code",
   "execution_count": 23,
   "id": "f6e6bac2",
   "metadata": {},
   "outputs": [
    {
     "data": {
      "text/plain": [
       "<spam_class.Sub at 0x26aa89be490>"
      ]
     },
     "execution_count": 23,
     "metadata": {},
     "output_type": "execute_result"
    }
   ],
   "source": [
    "f"
   ]
  },
  {
   "cell_type": "code",
   "execution_count": 25,
   "id": "b6d7380c",
   "metadata": {},
   "outputs": [
    {
     "name": "stdout",
     "output_type": "stream",
     "text": [
      "class Spam:\n",
      "    numInstances = 0\n",
      "    def count(cls):                    # Per-class instance counters\n",
      "        cls.numInstances += 1          # cls is lowest class above instance\n",
      "    def __init__(self):\n",
      "        self.count()                   # Passes self.__class__ to count\n",
      "    count = classmethod(count)\n",
      "\n",
      "class Sub(Spam):\n",
      "    numInstances = 0\n",
      "    def __init__(self):                # Redefines __init__\n",
      "        Spam.__init__(self)\n",
      "\n",
      "class Other(Spam):                     # Inherits __init__\n",
      "    numInstances = 0\n"
     ]
    }
   ],
   "source": [
    "!cat code/spam_class2.py"
   ]
  },
  {
   "cell_type": "code",
   "execution_count": 26,
   "id": "cac125fa",
   "metadata": {},
   "outputs": [
    {
     "data": {
      "text/plain": [
       "(1, 2, 3)"
      ]
     },
     "execution_count": 26,
     "metadata": {},
     "output_type": "execute_result"
    }
   ],
   "source": [
    "from spam_class2 import Spam, Sub, Other\n",
    "x = Spam()\n",
    "y1, y2 = Sub(), Sub()\n",
    "z1, z2, z3 = Other(), Other(), Other()\n",
    "x.numInstances, y1.numInstances, z1.numInstances             # Per-class data!"
   ]
  },
  {
   "cell_type": "code",
   "execution_count": 27,
   "id": "88a0c950",
   "metadata": {},
   "outputs": [
    {
     "data": {
      "text/plain": [
       "(2, 3, 3)"
      ]
     },
     "execution_count": 27,
     "metadata": {},
     "output_type": "execute_result"
    }
   ],
   "source": [
    "y2.numInstances, z2.numInstances, z3.numInstances"
   ]
  },
  {
   "cell_type": "markdown",
   "id": "7e0ca12c",
   "metadata": {},
   "source": [
    "### Decorators and Metaclasses: Part 1"
   ]
  },
  {
   "cell_type": "code",
   "execution_count": 28,
   "id": "b6b8e19a",
   "metadata": {},
   "outputs": [
    {
     "name": "stdout",
     "output_type": "stream",
     "text": [
      "class Spam:\n",
      "    numInstances = 0\n",
      "    def __init__(self):\n",
      "        Spam.numInstances = Spam.numInstances + 1\n",
      "\n",
      "    @staticmethod\n",
      "    def printNumInstances():\n",
      "        print(\"Number of instances created: %s\" % Spam.numInstances)\n"
     ]
    }
   ],
   "source": [
    "!cat code/spam_static_deco.py"
   ]
  },
  {
   "cell_type": "code",
   "execution_count": 29,
   "id": "6cd3ccb0",
   "metadata": {},
   "outputs": [
    {
     "name": "stdout",
     "output_type": "stream",
     "text": [
      "Number of instances created: 3\n"
     ]
    }
   ],
   "source": [
    "from spam_static_deco import Spam\n",
    "a = Spam()\n",
    "b = Spam()\n",
    "c = Spam()\n",
    "Spam.printNumInstances()            # Calls from classes and instances work"
   ]
  },
  {
   "cell_type": "code",
   "execution_count": 30,
   "id": "afe0102b",
   "metadata": {},
   "outputs": [
    {
     "name": "stdout",
     "output_type": "stream",
     "text": [
      "Number of instances created: 3\n",
      "Number of instances created: 3\n",
      "Number of instances created: 3\n"
     ]
    },
    {
     "data": {
      "text/plain": [
       "(None, None, None)"
      ]
     },
     "execution_count": 30,
     "metadata": {},
     "output_type": "execute_result"
    }
   ],
   "source": [
    "a.printNumInstances(), b.printNumInstances(), c.printNumInstances()"
   ]
  },
  {
   "cell_type": "code",
   "execution_count": 31,
   "id": "5b1cc6f4",
   "metadata": {},
   "outputs": [
    {
     "name": "stdout",
     "output_type": "stream",
     "text": [
      "# File bothmethods_decorators.py\n",
      "\n",
      "class Methods(object):             # object needed in 2.X for property setters\n",
      "    def imeth(self, x):            # Normal instance method: passed a self\n",
      "        print([self, x])\n",
      "\n",
      "    @staticmethod\n",
      "    def smeth(x):                  # Static: no instance passed\n",
      "        print([x])\n",
      "\n",
      "    @classmethod\n",
      "    def cmeth(cls, x):             # Class: gets class, not instance\n",
      "        print([cls, x])\n",
      "\n",
      "    @property                      # Property: computed on fetch\n",
      "    def name(self):\n",
      "        return 'Bob ' + self.__class__.__name__\n"
     ]
    }
   ],
   "source": [
    "!cat code/bothmethods_decorators.py"
   ]
  },
  {
   "cell_type": "code",
   "execution_count": 32,
   "id": "00936dca",
   "metadata": {},
   "outputs": [
    {
     "name": "stdout",
     "output_type": "stream",
     "text": [
      "[<bothmethods_decorators.Methods object at 0x0000026AA897E280>, 1]\n"
     ]
    }
   ],
   "source": [
    "from bothmethods_decorators import Methods\n",
    "obj = Methods()\n",
    "obj.imeth(1)"
   ]
  },
  {
   "cell_type": "code",
   "execution_count": 33,
   "id": "3084b8a1",
   "metadata": {},
   "outputs": [
    {
     "name": "stdout",
     "output_type": "stream",
     "text": [
      "[2]\n"
     ]
    }
   ],
   "source": [
    "obj.smeth(2)"
   ]
  },
  {
   "cell_type": "code",
   "execution_count": 34,
   "id": "3395ef74",
   "metadata": {},
   "outputs": [
    {
     "name": "stdout",
     "output_type": "stream",
     "text": [
      "[<class 'bothmethods_decorators.Methods'>, 3]\n"
     ]
    }
   ],
   "source": [
    "obj.cmeth(3)"
   ]
  },
  {
   "cell_type": "code",
   "execution_count": 35,
   "id": "d7639430",
   "metadata": {},
   "outputs": [
    {
     "data": {
      "text/plain": [
       "'Bob Methods'"
      ]
     },
     "execution_count": 35,
     "metadata": {},
     "output_type": "execute_result"
    }
   ],
   "source": [
    "obj.name"
   ]
  },
  {
   "cell_type": "markdown",
   "id": "aacea3e6",
   "metadata": {},
   "source": [
    "#### A First Look at User-Defined Function Decorators"
   ]
  },
  {
   "cell_type": "code",
   "execution_count": 40,
   "id": "23716524",
   "metadata": {},
   "outputs": [
    {
     "name": "stdout",
     "output_type": "stream",
     "text": [
      "class tracer:\n",
      "    def __init__(self, func):          # Remember original, init counter\n",
      "        self.calls = 0\n",
      "        self.func  = func\n",
      "    def __call__(self, *args):         # On later calls: add logic, run original\n",
      "        self.calls += 1\n",
      "        print('call %s to %s' % (self.calls, self.func.__name__))\n",
      "        return self.func(*args)\n",
      "\n",
      "@tracer                                # Same as spam = tracer(spam)\n",
      "def spam(a, b, c):                     # Wrap spam in a decorator object\n",
      "    return a + b + c\n",
      "\n",
      "print(spam(1, 2, 3))                   # Really calls the tracer wrapper object\n",
      "print(spam('a', 'b', 'c'))             # Invokes __call__ in class\n"
     ]
    }
   ],
   "source": [
    "!cat code/tracer1.py"
   ]
  },
  {
   "cell_type": "code",
   "execution_count": 41,
   "id": "dce971b3",
   "metadata": {},
   "outputs": [
    {
     "name": "stdout",
     "output_type": "stream",
     "text": [
      "call 1 to spam\n",
      "6\n",
      "call 2 to spam\n",
      "abc\n"
     ]
    }
   ],
   "source": [
    "!python code/tracer1.py"
   ]
  },
  {
   "cell_type": "code",
   "execution_count": 39,
   "id": "e5ef2b16",
   "metadata": {},
   "outputs": [
    {
     "name": "stdout",
     "output_type": "stream",
     "text": [
      "call 1 to spam\n",
      "6\n",
      "call 2 to spam\n",
      "abc\n"
     ]
    }
   ],
   "source": [
    "class tracer:\n",
    "    def __init__(self, func):          # Remember original, init counter\n",
    "        self.calls = 0\n",
    "        self.func  = func\n",
    "    def __call__(self, *args):         # On later calls: add logic, run original\n",
    "        self.calls += 1\n",
    "        print('call %s to %s' % (self.calls, self.func.__name__))\n",
    "        return self.func(*args)\n",
    "\n",
    "@tracer                                # Same as spam = tracer(spam)\n",
    "def spam(a, b, c):                     # Wrap spam in a decorator object\n",
    "    return a + b + c\n",
    "\n",
    "print(spam(1, 2, 3))                   # Really calls the tracer wrapper object\n",
    "print(spam('a', 'b', 'c'))             # Invokes __call__ in class"
   ]
  },
  {
   "cell_type": "code",
   "execution_count": 42,
   "id": "d8ec5390",
   "metadata": {},
   "outputs": [
    {
     "name": "stdout",
     "output_type": "stream",
     "text": [
      "def tracer(func):                      # Remember original\n",
      "    def oncall(*args):                 # On later calls\n",
      "        oncall.calls += 1           \n",
      "        print('call %s to %s' % (oncall.calls, func.__name__))\n",
      "        return func(*args)\n",
      "    oncall.calls = 0\n",
      "    return oncall\n",
      "\n",
      "class C:\n",
      "    @tracer\n",
      "    def spam(self,a, b, c): return a + b + c\n",
      "\n",
      "x = C()\n",
      "print(x.spam(1, 2, 3))\n",
      "print(x.spam('a', 'b', 'c'))           # Same output as tracer1 (in tracer2.py)\n"
     ]
    }
   ],
   "source": [
    "!cat code/tracer2.py"
   ]
  },
  {
   "cell_type": "code",
   "execution_count": 43,
   "id": "cd08dea6",
   "metadata": {},
   "outputs": [
    {
     "name": "stdout",
     "output_type": "stream",
     "text": [
      "call 1 to spam\n",
      "6\n",
      "call 2 to spam\n",
      "abc\n"
     ]
    }
   ],
   "source": [
    "!python code/tracer2.py"
   ]
  },
  {
   "cell_type": "markdown",
   "id": "81aaa932",
   "metadata": {},
   "source": [
    "### The super Built-in Function: For Better or Worse?"
   ]
  },
  {
   "cell_type": "markdown",
   "id": "3e5c1d8d",
   "metadata": {},
   "source": [
    "#### Traditional Superclass Call Form: Portable, General"
   ]
  },
  {
   "cell_type": "code",
   "execution_count": 44,
   "id": "f013985e",
   "metadata": {},
   "outputs": [],
   "source": [
    "class C:                    # In Python 2.X and 3.X\n",
    "        def act(self):\n",
    "            print('spam')\n",
    "\n",
    "class D(C):\n",
    "        def act(self):\n",
    "            C.act(self)         # Name superclass explicitly, pass self\n",
    "            print('eggs')\n",
    "\n",
    "X = D()"
   ]
  },
  {
   "cell_type": "code",
   "execution_count": 45,
   "id": "d0bdcaf8",
   "metadata": {},
   "outputs": [
    {
     "name": "stdout",
     "output_type": "stream",
     "text": [
      "spam\n",
      "eggs\n"
     ]
    }
   ],
   "source": [
    "X.act()"
   ]
  },
  {
   "cell_type": "code",
   "execution_count": 46,
   "id": "72592943",
   "metadata": {},
   "outputs": [
    {
     "name": "stdout",
     "output_type": "stream",
     "text": [
      "spam\n"
     ]
    }
   ],
   "source": [
    "Y = C()\n",
    "Y.act()"
   ]
  },
  {
   "cell_type": "code",
   "execution_count": 47,
   "id": "fc02f547",
   "metadata": {},
   "outputs": [
    {
     "name": "stdout",
     "output_type": "stream",
     "text": [
      "spam\n",
      "eggs\n"
     ]
    }
   ],
   "source": [
    "class C:                    # In Python 3.X (only: see 2.X super form ahead)\n",
    "        def act(self):\n",
    "            print('spam')\n",
    "\n",
    "class D(C):\n",
    "        def act(self):\n",
    "            super().act()       # Reference superclass generically, omit self\n",
    "            print('eggs')\n",
    "\n",
    "X = D()\n",
    "X.act()"
   ]
  },
  {
   "cell_type": "code",
   "execution_count": 49,
   "id": "42eebb05",
   "metadata": {},
   "outputs": [
    {
     "data": {
      "text/plain": [
       "super"
      ]
     },
     "execution_count": 49,
     "metadata": {},
     "output_type": "execute_result"
    }
   ],
   "source": [
    "super                       # A \"magic\" proxy object that routes later calls"
   ]
  },
  {
   "cell_type": "code",
   "execution_count": 50,
   "id": "de2afd11",
   "metadata": {},
   "outputs": [
    {
     "ename": "RuntimeError",
     "evalue": "super(): no arguments",
     "output_type": "error",
     "traceback": [
      "\u001b[1;31m---------------------------------------------------------------------------\u001b[0m",
      "\u001b[1;31mRuntimeError\u001b[0m                              Traceback (most recent call last)",
      "\u001b[1;32m~\\AppData\\Local\\Temp/ipykernel_24600/2093822921.py\u001b[0m in \u001b[0;36m<module>\u001b[1;34m\u001b[0m\n\u001b[1;32m----> 1\u001b[1;33m \u001b[0msuper\u001b[0m\u001b[1;33m(\u001b[0m\u001b[1;33m)\u001b[0m\u001b[1;33m\u001b[0m\u001b[1;33m\u001b[0m\u001b[0m\n\u001b[0m",
      "\u001b[1;31mRuntimeError\u001b[0m: super(): no arguments"
     ]
    }
   ],
   "source": [
    "super()"
   ]
  },
  {
   "cell_type": "code",
   "execution_count": 51,
   "id": "2aadfa40",
   "metadata": {},
   "outputs": [
    {
     "name": "stdout",
     "output_type": "stream",
     "text": [
      "<super: <class 'E'>, <E object>>\n",
      "spam\n"
     ]
    }
   ],
   "source": [
    "class E(C):\n",
    "        def method(self):       # self is implicit in super...only!\n",
    "            proxy = super()     # This form has no meaning outside a method\n",
    "            print(proxy)        # Show the normally hidden proxy object\n",
    "            proxy.act()         # No arguments: implicitly calls superclass method!\n",
    "\n",
    "E().method()"
   ]
  },
  {
   "cell_type": "code",
   "execution_count": 52,
   "id": "0f2a23a0",
   "metadata": {},
   "outputs": [
    {
     "name": "stdout",
     "output_type": "stream",
     "text": [
      "A\n"
     ]
    }
   ],
   "source": [
    "class A:                      # In Python 3.X\n",
    "        def act(self): print('A')\n",
    "class B:\n",
    "        def act(self): print('B')\n",
    "\n",
    "class C(A):\n",
    "        def act(self):\n",
    "            super().act()         # super applied to a single-inheritance tree\n",
    "X = C()\n",
    "X.act()"
   ]
  },
  {
   "cell_type": "code",
   "execution_count": 53,
   "id": "05f23b73",
   "metadata": {},
   "outputs": [
    {
     "name": "stdout",
     "output_type": "stream",
     "text": [
      "A\n"
     ]
    }
   ],
   "source": [
    "class C(A, B):                # Add a B mix-in class with the same method\n",
    "        def act(self):\n",
    "            super().act()         # Doesn't fail on multi-inher, but picks just one!\n",
    "X = C()\n",
    "X.act()"
   ]
  },
  {
   "cell_type": "code",
   "execution_count": 54,
   "id": "9b78d7a0",
   "metadata": {},
   "outputs": [
    {
     "name": "stdout",
     "output_type": "stream",
     "text": [
      "B\n"
     ]
    }
   ],
   "source": [
    "class C(B, A):\n",
    "        def act(self):\n",
    "            super().act()         # If B is listed first, A.act() is no longer run!\n",
    "X = C()\n",
    "X.act()"
   ]
  },
  {
   "cell_type": "code",
   "execution_count": 55,
   "id": "1019ae8f",
   "metadata": {},
   "outputs": [
    {
     "name": "stdout",
     "output_type": "stream",
     "text": [
      "A\n",
      "B\n"
     ]
    }
   ],
   "source": [
    "class C(A, B):                # Traditional form\n",
    "        def act(self):            # You probably need to be more explicit here\n",
    "            A.act(self)           # This form handles both single and multiple inher\n",
    "            B.act(self)           # And works the same in both Python 3.X and 2.X\n",
    "X = C()                       # So why use the super() special case at all?\n",
    "X.act()"
   ]
  },
  {
   "cell_type": "code",
   "execution_count": 56,
   "id": "41184b1a",
   "metadata": {},
   "outputs": [
    {
     "name": "stdout",
     "output_type": "stream",
     "text": [
      "C index\n"
     ]
    }
   ],
   "source": [
    "class C:                            # In Python 3.X\n",
    "        def __getitem__(self, ix):      # Indexing overload method\n",
    "            print('C index')\n",
    "\n",
    "class D(C):\n",
    "        def __getitem__(self, ix):      # Redefine to extend here\n",
    "            print('D index')\n",
    "            C.__getitem__(self, ix)     # Traditional call form works\n",
    "            super().__getitem__(ix)     # Direct name calls work too\n",
    "            super()[ix]                 # But operators do not! (__getattribute__)\n",
    "\n",
    "X = C()\n",
    "X[99]"
   ]
  },
  {
   "cell_type": "code",
   "execution_count": 57,
   "id": "a544c6c0",
   "metadata": {},
   "outputs": [
    {
     "name": "stdout",
     "output_type": "stream",
     "text": [
      "D index\n",
      "C index\n",
      "C index\n"
     ]
    },
    {
     "ename": "TypeError",
     "evalue": "'super' object is not subscriptable",
     "output_type": "error",
     "traceback": [
      "\u001b[1;31m---------------------------------------------------------------------------\u001b[0m",
      "\u001b[1;31mTypeError\u001b[0m                                 Traceback (most recent call last)",
      "\u001b[1;32m~\\AppData\\Local\\Temp/ipykernel_24600/3006211436.py\u001b[0m in \u001b[0;36m<module>\u001b[1;34m\u001b[0m\n\u001b[0;32m      1\u001b[0m \u001b[0mX\u001b[0m \u001b[1;33m=\u001b[0m \u001b[0mD\u001b[0m\u001b[1;33m(\u001b[0m\u001b[1;33m)\u001b[0m\u001b[1;33m\u001b[0m\u001b[1;33m\u001b[0m\u001b[0m\n\u001b[1;32m----> 2\u001b[1;33m \u001b[0mX\u001b[0m\u001b[1;33m[\u001b[0m\u001b[1;36m99\u001b[0m\u001b[1;33m]\u001b[0m\u001b[1;33m\u001b[0m\u001b[1;33m\u001b[0m\u001b[0m\n\u001b[0m",
      "\u001b[1;32m~\\AppData\\Local\\Temp/ipykernel_24600/2687542446.py\u001b[0m in \u001b[0;36m__getitem__\u001b[1;34m(self, ix)\u001b[0m\n\u001b[0;32m      8\u001b[0m             \u001b[0mC\u001b[0m\u001b[1;33m.\u001b[0m\u001b[0m__getitem__\u001b[0m\u001b[1;33m(\u001b[0m\u001b[0mself\u001b[0m\u001b[1;33m,\u001b[0m \u001b[0mix\u001b[0m\u001b[1;33m)\u001b[0m     \u001b[1;31m# Traditional call form works\u001b[0m\u001b[1;33m\u001b[0m\u001b[1;33m\u001b[0m\u001b[0m\n\u001b[0;32m      9\u001b[0m             \u001b[0msuper\u001b[0m\u001b[1;33m(\u001b[0m\u001b[1;33m)\u001b[0m\u001b[1;33m.\u001b[0m\u001b[0m__getitem__\u001b[0m\u001b[1;33m(\u001b[0m\u001b[0mix\u001b[0m\u001b[1;33m)\u001b[0m     \u001b[1;31m# Direct name calls work too\u001b[0m\u001b[1;33m\u001b[0m\u001b[1;33m\u001b[0m\u001b[0m\n\u001b[1;32m---> 10\u001b[1;33m             \u001b[0msuper\u001b[0m\u001b[1;33m(\u001b[0m\u001b[1;33m)\u001b[0m\u001b[1;33m[\u001b[0m\u001b[0mix\u001b[0m\u001b[1;33m]\u001b[0m                 \u001b[1;31m# But operators do not! (__getattribute__)\u001b[0m\u001b[1;33m\u001b[0m\u001b[1;33m\u001b[0m\u001b[0m\n\u001b[0m\u001b[0;32m     11\u001b[0m \u001b[1;33m\u001b[0m\u001b[0m\n\u001b[0;32m     12\u001b[0m \u001b[0mX\u001b[0m \u001b[1;33m=\u001b[0m \u001b[0mC\u001b[0m\u001b[1;33m(\u001b[0m\u001b[1;33m)\u001b[0m\u001b[1;33m\u001b[0m\u001b[1;33m\u001b[0m\u001b[0m\n",
      "\u001b[1;31mTypeError\u001b[0m: 'super' object is not subscriptable"
     ]
    }
   ],
   "source": [
    "X = D()\n",
    "X[99]"
   ]
  },
  {
   "cell_type": "code",
   "execution_count": 58,
   "id": "d861edb1",
   "metadata": {},
   "outputs": [
    {
     "name": "stdout",
     "output_type": "stream",
     "text": [
      "spam\n",
      "eggs\n"
     ]
    }
   ],
   "source": [
    "class C(object):                # In Python 2.X: for new-style classes only\n",
    "        def act(self):\n",
    "            print('spam')\n",
    "\n",
    "class D(C):\n",
    "        def act(self):\n",
    "            super(D, self).act()    # 2.X: different call format - seems too complex\n",
    "            print('eggs')           # \"D\" may be just as much to type/change as \"C\"!\n",
    "\n",
    "X = D()\n",
    "X.act()"
   ]
  },
  {
   "cell_type": "code",
   "execution_count": 63,
   "id": "a39892d0",
   "metadata": {},
   "outputs": [
    {
     "name": "stdout",
     "output_type": "stream",
     "text": [
      "spam\n",
      "eggs\n"
     ]
    }
   ],
   "source": [
    "class C(object):                # In Python 2.X: for new-style classes only\n",
    "        def act(self):\n",
    "            print('spam')\n",
    "\n",
    "class D(C):\n",
    "        def act(self):\n",
    "            super().act()    # 2.X: different call format - seems too complex\n",
    "            print('eggs')           # \"D\" may be just as much to type/change as \"C\"!\n",
    "\n",
    "X = D()\n",
    "X.act()"
   ]
  },
  {
   "cell_type": "code",
   "execution_count": 64,
   "id": "8ec7ace0",
   "metadata": {},
   "outputs": [
    {
     "name": "stdout",
     "output_type": "stream",
     "text": [
      "spam\n",
      "eggs\n"
     ]
    }
   ],
   "source": [
    "class D(C):\n",
    "        def act(self):\n",
    "            C.act(self)             # But traditional pattern works portably\n",
    "            print('eggs')           # And may often be simpler in 2.X code\n",
    "\n",
    "X = D()\n",
    "X.act()"
   ]
  },
  {
   "cell_type": "code",
   "execution_count": 4,
   "id": "023089cd",
   "metadata": {},
   "outputs": [
    {
     "name": "stdout",
     "output_type": "stream",
     "text": [
      "X.m\n"
     ]
    }
   ],
   "source": [
    "class X:\n",
    "        def m(self): print('X.m')\n",
    "class Y:\n",
    "        def m(self): print('Y.m')\n",
    "class C(X):                                 # Start out inheriting from X\n",
    "        def m(self): super().m()                # Can't hardcode class name here\n",
    "\n",
    "i = C()\n",
    "i.m()"
   ]
  },
  {
   "cell_type": "code",
   "execution_count": 5,
   "id": "b73d5cfa",
   "metadata": {},
   "outputs": [
    {
     "name": "stdout",
     "output_type": "stream",
     "text": [
      "Y.m\n"
     ]
    }
   ],
   "source": [
    "class D(Y):                                 # Start out inheriting from X\n",
    "        def m(self): super().m()                # Can't hardcode class name here\n",
    "\n",
    "i = D()\n",
    "i.m()"
   ]
  },
  {
   "cell_type": "code",
   "execution_count": 6,
   "id": "295ed2d5",
   "metadata": {},
   "outputs": [
    {
     "name": "stdout",
     "output_type": "stream",
     "text": [
      "Y.m\n"
     ]
    }
   ],
   "source": [
    "C.__bases__ = (Y,)                          # Change superclass at runtime!\n",
    "i.m()"
   ]
  },
  {
   "cell_type": "code",
   "execution_count": 7,
   "id": "0db9e3ec",
   "metadata": {},
   "outputs": [
    {
     "name": "stdout",
     "output_type": "stream",
     "text": [
      "X.m\n"
     ]
    }
   ],
   "source": [
    "class C(X):\n",
    "        def m(self): C.__bases__[0].m(self)     # Special code for a special case\n",
    "\n",
    "i = C()\n",
    "i.m()"
   ]
  },
  {
   "cell_type": "code",
   "execution_count": 8,
   "id": "a29bcabc",
   "metadata": {},
   "outputs": [
    {
     "name": "stdout",
     "output_type": "stream",
     "text": [
      "Y.m\n"
     ]
    }
   ],
   "source": [
    "C.__bases__ = (Y,)                          # Same effect, without super()\n",
    "i.m()"
   ]
  },
  {
   "cell_type": "code",
   "execution_count": 9,
   "id": "40b7431e",
   "metadata": {},
   "outputs": [
    {
     "name": "stdout",
     "output_type": "stream",
     "text": [
      "B.__init__\n"
     ]
    }
   ],
   "source": [
    "class B:\n",
    "        def __init__(self): print('B.__init__')      # Disjoint class tree branches\n",
    "class C:\n",
    "        def __init__(self): print('C.__init__')\n",
    "class D(B, C): pass\n",
    "\n",
    "x = D()                                          # Runs leftmost only by default"
   ]
  },
  {
   "cell_type": "code",
   "execution_count": 10,
   "id": "07327b92",
   "metadata": {},
   "outputs": [
    {
     "name": "stdout",
     "output_type": "stream",
     "text": [
      "B.__init__\n",
      "A.__init__\n"
     ]
    }
   ],
   "source": [
    "class A:\n",
    "        def __init__(self): print('A.__init__')\n",
    "class B(A):\n",
    "        def __init__(self): print('B.__init__'); A.__init__(self)\n",
    "class C(A):\n",
    "        def __init__(self): print('C.__init__'); A.__init__(self)\n",
    "\n",
    "x = B()"
   ]
  },
  {
   "cell_type": "code",
   "execution_count": 11,
   "id": "bb2ca286",
   "metadata": {},
   "outputs": [
    {
     "name": "stdout",
     "output_type": "stream",
     "text": [
      "C.__init__\n",
      "A.__init__\n"
     ]
    }
   ],
   "source": [
    "x = C()                                # Each super works by itself"
   ]
  },
  {
   "cell_type": "code",
   "execution_count": 12,
   "id": "113f5e94",
   "metadata": {},
   "outputs": [
    {
     "name": "stdout",
     "output_type": "stream",
     "text": [
      "B.__init__\n",
      "A.__init__\n"
     ]
    }
   ],
   "source": [
    "class D(B, C): pass                    # Still runs leftmost only\n",
    "x = D()"
   ]
  },
  {
   "cell_type": "code",
   "execution_count": 13,
   "id": "9d08cd1b",
   "metadata": {},
   "outputs": [
    {
     "name": "stdout",
     "output_type": "stream",
     "text": [
      "B.__init__\n",
      "A.__init__\n",
      "C.__init__\n",
      "A.__init__\n"
     ]
    }
   ],
   "source": [
    "class D(B, C):\n",
    "        def __init__(self):                # Traditional form\n",
    "            B.__init__(self)               # Invoke both supers by name\n",
    "            C.__init__(self)\n",
    "\n",
    "x = D()                                # But this now invokes A twice!"
   ]
  },
  {
   "cell_type": "markdown",
   "id": "02413a51",
   "metadata": {},
   "source": [
    "By contrast, if all classes use super, or are appropriately coerced by proxies to behave as if they do, the method calls are dispatched according to class order in the MRO, such that the top-level class’s method is run just once:"
   ]
  },
  {
   "cell_type": "code",
   "execution_count": 14,
   "id": "8032ef47",
   "metadata": {},
   "outputs": [
    {
     "name": "stdout",
     "output_type": "stream",
     "text": [
      "B.__init__\n",
      "A.__init__\n"
     ]
    }
   ],
   "source": [
    "class A:\n",
    "        def __init__(self): print('A.__init__')\n",
    "class B(A):\n",
    "        def __init__(self): print('B.__init__'); super().__init__()\n",
    "class C(A):\n",
    "        def __init__(self): print('C.__init__'); super().__init__()\n",
    "\n",
    "x = B()                   # Runs B.__init__, A is next super in self's B MRO"
   ]
  },
  {
   "cell_type": "code",
   "execution_count": 15,
   "id": "7453b01e",
   "metadata": {},
   "outputs": [
    {
     "name": "stdout",
     "output_type": "stream",
     "text": [
      "C.__init__\n",
      "A.__init__\n"
     ]
    }
   ],
   "source": [
    "x = C()"
   ]
  },
  {
   "cell_type": "code",
   "execution_count": 16,
   "id": "cdd86a6f",
   "metadata": {},
   "outputs": [
    {
     "name": "stdout",
     "output_type": "stream",
     "text": [
      "B.__init__\n",
      "C.__init__\n",
      "A.__init__\n"
     ]
    }
   ],
   "source": [
    "class D(B, C): pass\n",
    "x = D()                   # Runs B.__init__, C is next super in self's D MRO!"
   ]
  },
  {
   "cell_type": "code",
   "execution_count": 17,
   "id": "882871a8",
   "metadata": {},
   "outputs": [
    {
     "data": {
      "text/plain": [
       "(__main__.B, __main__.A, object)"
      ]
     },
     "execution_count": 17,
     "metadata": {},
     "output_type": "execute_result"
    }
   ],
   "source": [
    "B.__mro__"
   ]
  },
  {
   "cell_type": "code",
   "execution_count": 18,
   "id": "155caf88",
   "metadata": {},
   "outputs": [
    {
     "data": {
      "text/plain": [
       "(__main__.D, __main__.B, __main__.C, __main__.A, object)"
      ]
     },
     "execution_count": 18,
     "metadata": {},
     "output_type": "execute_result"
    }
   ],
   "source": [
    "D.__mro__"
   ]
  },
  {
   "cell_type": "code",
   "execution_count": 19,
   "id": "4759fa69",
   "metadata": {},
   "outputs": [
    {
     "name": "stdout",
     "output_type": "stream",
     "text": [
      "B.__init__\n"
     ]
    }
   ],
   "source": [
    "class B:\n",
    "        def __init__(self): print('B.__init__'); super().__init__()\n",
    "class C:\n",
    "        def __init__(self): print('C.__init__'); super().__init__()\n",
    "\n",
    "x = B()                   # object is an implied super at the end of MRO"
   ]
  },
  {
   "cell_type": "code",
   "execution_count": 20,
   "id": "16555a02",
   "metadata": {},
   "outputs": [
    {
     "data": {
      "text/plain": [
       "(__main__.B, object)"
      ]
     },
     "execution_count": 20,
     "metadata": {},
     "output_type": "execute_result"
    }
   ],
   "source": [
    "B.__mro__"
   ]
  },
  {
   "cell_type": "code",
   "execution_count": 22,
   "id": "c649de58",
   "metadata": {},
   "outputs": [
    {
     "name": "stdout",
     "output_type": "stream",
     "text": [
      "C.__init__\n"
     ]
    }
   ],
   "source": [
    "x = C()"
   ]
  },
  {
   "cell_type": "code",
   "execution_count": 23,
   "id": "8962e970",
   "metadata": {},
   "outputs": [
    {
     "data": {
      "text/plain": [
       "(__main__.C, object)"
      ]
     },
     "execution_count": 23,
     "metadata": {},
     "output_type": "execute_result"
    }
   ],
   "source": [
    "C.__mro__"
   ]
  },
  {
   "cell_type": "code",
   "execution_count": 24,
   "id": "9a5e9a52",
   "metadata": {},
   "outputs": [
    {
     "name": "stdout",
     "output_type": "stream",
     "text": [
      "B.__init__\n",
      "C.__init__\n"
     ]
    }
   ],
   "source": [
    "class D(B, C): pass       # Inherits B.__init__ but B's MRO differs for D\n",
    "x = D()                   # Runs B.__init__, C is next super in self's D MRO!"
   ]
  },
  {
   "cell_type": "code",
   "execution_count": 25,
   "id": "f31116cb",
   "metadata": {},
   "outputs": [
    {
     "data": {
      "text/plain": [
       "(__main__.D, __main__.B, __main__.C, object)"
      ]
     },
     "execution_count": 25,
     "metadata": {},
     "output_type": "execute_result"
    }
   ],
   "source": [
    "D.__mro__"
   ]
  },
  {
   "cell_type": "code",
   "execution_count": 26,
   "id": "e5296894",
   "metadata": {},
   "outputs": [
    {
     "name": "stdout",
     "output_type": "stream",
     "text": [
      "B.__init__\n",
      "C.__init__\n"
     ]
    }
   ],
   "source": [
    "class B:\n",
    "        def __init__(self): print('B.__init__')\n",
    "class C:\n",
    "        def __init__(self): print('C.__init__')\n",
    "class D(B, C):\n",
    "        def __init__(self): B.__init__(self); C.__init__(self)\n",
    "\n",
    "x = D()"
   ]
  },
  {
   "cell_type": "code",
   "execution_count": 4,
   "id": "f98942bc",
   "metadata": {},
   "outputs": [
    {
     "name": "stdout",
     "output_type": "stream",
     "text": [
      "D.__init__\n",
      "C.__init__\n",
      "B.__init__\n",
      "C.__init__\n"
     ]
    }
   ],
   "source": [
    "class B:\n",
    "        def __init__(self): print('B.__init__'); super().__init__()\n",
    "class C:\n",
    "        def __init__(self): print('C.__init__'); super().__init__()\n",
    "class D(B, C):\n",
    "        def __init__(self): print('D.__init__'); C.__init__(self); B.__init__(self)\n",
    "X = D()"
   ]
  },
  {
   "cell_type": "code",
   "execution_count": 5,
   "id": "9149d6ef",
   "metadata": {},
   "outputs": [
    {
     "data": {
      "text/plain": [
       "(__main__.C, object)"
      ]
     },
     "execution_count": 5,
     "metadata": {},
     "output_type": "execute_result"
    }
   ],
   "source": [
    "C.__mro__"
   ]
  },
  {
   "cell_type": "code",
   "execution_count": 6,
   "id": "44b581de",
   "metadata": {},
   "outputs": [
    {
     "data": {
      "text/plain": [
       "(__main__.D, __main__.B, __main__.C, object)"
      ]
     },
     "execution_count": 6,
     "metadata": {},
     "output_type": "execute_result"
    }
   ],
   "source": [
    "D.__mro__"
   ]
  },
  {
   "cell_type": "code",
   "execution_count": 7,
   "id": "79ab26b3",
   "metadata": {},
   "outputs": [
    {
     "name": "stdout",
     "output_type": "stream",
     "text": [
      "D.__init__\n",
      "C.__init__\n"
     ]
    }
   ],
   "source": [
    "class D(B, C):\n",
    "        def __init__(self): \n",
    "            print('D.__init__') \n",
    "            C.__init__(self)\n",
    "X = D()"
   ]
  },
  {
   "cell_type": "code",
   "execution_count": 8,
   "id": "fc3efbb3",
   "metadata": {},
   "outputs": [
    {
     "name": "stdout",
     "output_type": "stream",
     "text": [
      "D.__init__\n",
      "B.__init__\n",
      "C.__init__\n"
     ]
    }
   ],
   "source": [
    "class D(B, C):\n",
    "        def __init__(self): \n",
    "            print('D.__init__') \n",
    "            B.__init__(self)\n",
    "X = D()"
   ]
  },
  {
   "cell_type": "code",
   "execution_count": 9,
   "id": "ad5c4d23",
   "metadata": {},
   "outputs": [
    {
     "name": "stdout",
     "output_type": "stream",
     "text": [
      "D.__init__\n",
      "B.__init__\n",
      "C.__init__\n",
      "B.__init__\n",
      "C.__init__\n"
     ]
    }
   ],
   "source": [
    "class D(B, C):\n",
    "        def __init__(self): \n",
    "            print('D.__init__') \n",
    "            B.__init__(self)\n",
    "            B.__init__(self)\n",
    "X = D()"
   ]
  },
  {
   "cell_type": "code",
   "execution_count": 10,
   "id": "f6189095",
   "metadata": {},
   "outputs": [
    {
     "name": "stdout",
     "output_type": "stream",
     "text": [
      "D.__init__\n",
      "B.__init__\n",
      "C.__init__\n",
      "C.__init__\n"
     ]
    }
   ],
   "source": [
    "class D(B, C):\n",
    "        def __init__(self): \n",
    "            print('D.__init__') \n",
    "            B.__init__(self)\n",
    "            C.__init__(self)\n",
    "X = D()"
   ]
  },
  {
   "cell_type": "code",
   "execution_count": 11,
   "id": "35302fce",
   "metadata": {},
   "outputs": [
    {
     "name": "stdout",
     "output_type": "stream",
     "text": [
      "D.__init__\n",
      "B.__init__\n",
      "C.__init__\n",
      "B.__init__\n"
     ]
    }
   ],
   "source": [
    "class D(C, B):\n",
    "        def __init__(self): \n",
    "            print('D.__init__') \n",
    "            B.__init__(self)\n",
    "            C.__init__(self)\n",
    "X = D()"
   ]
  },
  {
   "cell_type": "code",
   "execution_count": 12,
   "id": "4b4dde23",
   "metadata": {},
   "outputs": [
    {
     "name": "stdout",
     "output_type": "stream",
     "text": [
      "D.method\n",
      "B.method\n",
      "A.method\n",
      "C.method\n"
     ]
    }
   ],
   "source": [
    "class A:\n",
    "        def method(self): print('A.method'); super().method()\n",
    "class B(A):\n",
    "        def method(self): print('B.method'); super().method()\n",
    "class C:\n",
    "        def method(self): print('C.method')       # No super: must anchor the chain!\n",
    "class D(B, C):\n",
    "        def method(self): print('D.method'); super().method()\n",
    "X = D()\n",
    "X.method()"
   ]
  },
  {
   "cell_type": "code",
   "execution_count": 13,
   "id": "23f1e636",
   "metadata": {},
   "outputs": [
    {
     "name": "stdout",
     "output_type": "stream",
     "text": [
      "D.method\n"
     ]
    }
   ],
   "source": [
    "class D(B, C):\n",
    "        def method(self): print('D.method')\n",
    "X = D()\n",
    "X.method()"
   ]
  },
  {
   "cell_type": "code",
   "execution_count": 16,
   "id": "f686cf26",
   "metadata": {},
   "outputs": [
    {
     "name": "stdout",
     "output_type": "stream",
     "text": [
      "D.method\n",
      "B.method\n"
     ]
    }
   ],
   "source": [
    "class A:\n",
    "        def method(self): print('A.method'); super().method()\n",
    "class B(A):\n",
    "        def method(self): print('B.method')\n",
    "class C:\n",
    "        def method(self): print('C.method'); super().method()\n",
    "class D(B, C):\n",
    "        def method(self): print('D.method'); super().method()\n",
    "X = D()\n",
    "X.method()"
   ]
  },
  {
   "cell_type": "code",
   "execution_count": 18,
   "id": "a6ce435b",
   "metadata": {},
   "outputs": [
    {
     "name": "stdout",
     "output_type": "stream",
     "text": [
      "D.method\n",
      "B.method\n",
      "C.method\n",
      "A.method\n"
     ]
    }
   ],
   "source": [
    "class A:\n",
    "        def method(self): print('A.method')\n",
    "class B(A):\n",
    "        def method(self): print('B.method'); super().method()\n",
    "class C(A):\n",
    "        def method(self): print('C.method'); super().method()\n",
    "class D(B, C):\n",
    "        def method(self): print('D.method'); super().method()\n",
    "X = D()\n",
    "X.method()"
   ]
  },
  {
   "cell_type": "code",
   "execution_count": 19,
   "id": "3328cc86",
   "metadata": {},
   "outputs": [
    {
     "name": "stdout",
     "output_type": "stream",
     "text": [
      "D.method\n",
      "B.method\n"
     ]
    }
   ],
   "source": [
    "class B(A):\n",
    "        def method(self): print('B.method')       # Drop super to replace A's method\n",
    "class D(B, C):\n",
    "        def method(self): print('D.method'); super().method()\n",
    "X = D()\n",
    "X.method()"
   ]
  },
  {
   "cell_type": "code",
   "execution_count": 20,
   "id": "160c45ab",
   "metadata": {},
   "outputs": [
    {
     "name": "stdout",
     "output_type": "stream",
     "text": [
      "D.method\n",
      "B.method\n",
      "C.method\n",
      "A.method\n"
     ]
    }
   ],
   "source": [
    "class D(B, C):\n",
    "        def method(self): print('D.method'); B.method(self); C.method(self)\n",
    "D().method()"
   ]
  },
  {
   "cell_type": "code",
   "execution_count": 21,
   "id": "afa23eec",
   "metadata": {},
   "outputs": [
    {
     "name": "stdout",
     "output_type": "stream",
     "text": [
      "C.method\n",
      "A.method\n"
     ]
    }
   ],
   "source": [
    "C().method()"
   ]
  },
  {
   "cell_type": "code",
   "execution_count": 22,
   "id": "0fcdbdfe",
   "metadata": {},
   "outputs": [
    {
     "name": "stdout",
     "output_type": "stream",
     "text": [
      "C.method\n",
      "Mixin.other\n",
      "A.other\n",
      "B.method\n"
     ]
    }
   ],
   "source": [
    "# Mix-ins work for disjoint method sets\n",
    "class A:\n",
    "        def other(self): print('A.other')\n",
    "class Mixin(A):\n",
    "        def other(self): print('Mixin.other'); super().other()\n",
    "class B:\n",
    "        def method(self): print('B.method')\n",
    "class C(Mixin, B):\n",
    "        def method(self): print('C.method'); super().other(); super().method()\n",
    "\n",
    "C().method()"
   ]
  },
  {
   "cell_type": "code",
   "execution_count": 23,
   "id": "c9f8a579",
   "metadata": {},
   "outputs": [
    {
     "data": {
      "text/plain": [
       "(__main__.C, __main__.Mixin, __main__.A, __main__.B, object)"
      ]
     },
     "execution_count": 23,
     "metadata": {},
     "output_type": "execute_result"
    }
   ],
   "source": [
    "C.__mro__"
   ]
  },
  {
   "cell_type": "code",
   "execution_count": 24,
   "id": "12a9d6bc",
   "metadata": {},
   "outputs": [
    {
     "name": "stdout",
     "output_type": "stream",
     "text": [
      "C.method\n",
      "Mixin.other\n",
      "A.other\n",
      "B.method\n"
     ]
    }
   ],
   "source": [
    "class C(B, Mixin):\n",
    "        def method(self): print('C.method'); super().other(); super().method()\n",
    "\n",
    "C().method()"
   ]
  },
  {
   "cell_type": "code",
   "execution_count": 25,
   "id": "ad84a94f",
   "metadata": {},
   "outputs": [
    {
     "data": {
      "text/plain": [
       "(__main__.C, __main__.B, __main__.Mixin, __main__.A, object)"
      ]
     },
     "execution_count": 25,
     "metadata": {},
     "output_type": "execute_result"
    }
   ],
   "source": [
    "C.__mro__"
   ]
  },
  {
   "cell_type": "code",
   "execution_count": 26,
   "id": "4046af65",
   "metadata": {},
   "outputs": [
    {
     "name": "stdout",
     "output_type": "stream",
     "text": [
      "C.method\n",
      "Mixin.other\n",
      "A.other\n",
      "B.method\n"
     ]
    }
   ],
   "source": [
    "# Explicit diamonds work too\n",
    "\n",
    "class A:\n",
    "        def other(self): print('A.other')\n",
    "class Mixin(A):\n",
    "        def other(self): print('Mixin.other'); super().other()\n",
    "\n",
    "class B(A):\n",
    "        def method(self): print('B.method')\n",
    "class C(Mixin, B):\n",
    "        def method(self): print('C.method'); super().other(); super().method()\n",
    "\n",
    "C().method()"
   ]
  },
  {
   "cell_type": "code",
   "execution_count": 27,
   "id": "e771df99",
   "metadata": {},
   "outputs": [
    {
     "name": "stdout",
     "output_type": "stream",
     "text": [
      "C.method\n",
      "Mixin.other\n",
      "A.other\n",
      "B.method\n",
      "A.other\n"
     ]
    }
   ],
   "source": [
    "# Explicit diamonds work too\n",
    "\n",
    "class A:\n",
    "        def other(self): print('A.other')\n",
    "class Mixin(A):\n",
    "        def other(self): print('Mixin.other'); super().other()\n",
    "\n",
    "class B(A):\n",
    "        def method(self): print('B.method'); super().other()\n",
    "class C(Mixin, B):\n",
    "        def method(self): print('C.method'); super().other(); super().method()\n",
    "\n",
    "C().method()"
   ]
  },
  {
   "cell_type": "code",
   "execution_count": 32,
   "id": "89268ae0",
   "metadata": {},
   "outputs": [
    {
     "data": {
      "text/plain": [
       "(__main__.C, __main__.Mixin, __main__.B, __main__.A, object)"
      ]
     },
     "execution_count": 32,
     "metadata": {},
     "output_type": "execute_result"
    }
   ],
   "source": [
    "C.__mro__"
   ]
  },
  {
   "cell_type": "code",
   "execution_count": 33,
   "id": "5f6ab0d4",
   "metadata": {},
   "outputs": [
    {
     "name": "stdout",
     "output_type": "stream",
     "text": [
      "C.method\n",
      "Mixin.other\n",
      "A.other\n",
      "B.method\n"
     ]
    }
   ],
   "source": [
    "# Other mix-in orderings work too\n",
    "\n",
    "class C(B, Mixin):\n",
    "        def method(self): print('C.method'); super().other(); super().method()\n",
    "\n",
    "C().method()"
   ]
  },
  {
   "cell_type": "code",
   "execution_count": 34,
   "id": "89f2828b",
   "metadata": {},
   "outputs": [
    {
     "data": {
      "text/plain": [
       "(50000, 40000)"
      ]
     },
     "execution_count": 34,
     "metadata": {},
     "output_type": "execute_result"
    }
   ],
   "source": [
    "class Employee:\n",
    "        def __init__(self, name, salary):                  # Common superclass\n",
    "            self.name = name\n",
    "            self.salary = salary\n",
    "\n",
    "class Chef1(Employee):\n",
    "        def __init__(self, name):                          # Differing arguments\n",
    "            Employee.__init__(self, name, 50000)           # Dispatch by direct call\n",
    "\n",
    "class Server1(Employee):\n",
    "        def __init__(self, name):\n",
    "            Employee.__init__(self, name, 40000)\n",
    "\n",
    "bob = Chef1('Bob')\n",
    "sue = Server1('Sue')\n",
    "bob.salary, sue.salary"
   ]
  },
  {
   "cell_type": "code",
   "execution_count": 36,
   "id": "b2a458cd",
   "metadata": {},
   "outputs": [
    {
     "data": {
      "text/plain": [
       "50000"
      ]
     },
     "execution_count": 36,
     "metadata": {},
     "output_type": "execute_result"
    }
   ],
   "source": [
    "class TwoJobs(Chef1, Server1): pass\n",
    "\n",
    "tom = TwoJobs('Tom')\n",
    "tom.salary"
   ]
  },
  {
   "cell_type": "code",
   "execution_count": 35,
   "id": "4f65ce5a",
   "metadata": {},
   "outputs": [
    {
     "data": {
      "text/plain": [
       "(50000, 40000)"
      ]
     },
     "execution_count": 35,
     "metadata": {},
     "output_type": "execute_result"
    }
   ],
   "source": [
    "class Chef2(Employee):\n",
    "        def __init__(self, name):\n",
    "            super().__init__(name, 50000)                  # Dispatch by super()\n",
    "\n",
    "class Server2(Employee):\n",
    "        def __init__(self, name):\n",
    "            super().__init__(name, 40000)\n",
    "\n",
    "bob = Chef2('Bob')\n",
    "sue = Server2('Sue')\n",
    "bob.salary, sue.salary"
   ]
  },
  {
   "cell_type": "code",
   "execution_count": 37,
   "id": "95e94c42",
   "metadata": {},
   "outputs": [
    {
     "ename": "TypeError",
     "evalue": "__init__() takes 2 positional arguments but 3 were given",
     "output_type": "error",
     "traceback": [
      "\u001b[1;31m---------------------------------------------------------------------------\u001b[0m",
      "\u001b[1;31mTypeError\u001b[0m                                 Traceback (most recent call last)",
      "\u001b[1;32m~\\AppData\\Local\\Temp/ipykernel_12440/2797173769.py\u001b[0m in \u001b[0;36m<module>\u001b[1;34m\u001b[0m\n\u001b[0;32m      1\u001b[0m \u001b[1;32mclass\u001b[0m \u001b[0mTwoJobs\u001b[0m\u001b[1;33m(\u001b[0m\u001b[0mChef2\u001b[0m\u001b[1;33m,\u001b[0m \u001b[0mServer2\u001b[0m\u001b[1;33m)\u001b[0m\u001b[1;33m:\u001b[0m \u001b[1;32mpass\u001b[0m\u001b[1;33m\u001b[0m\u001b[1;33m\u001b[0m\u001b[0m\n\u001b[0;32m      2\u001b[0m \u001b[1;33m\u001b[0m\u001b[0m\n\u001b[1;32m----> 3\u001b[1;33m \u001b[0mtom\u001b[0m \u001b[1;33m=\u001b[0m \u001b[0mTwoJobs\u001b[0m\u001b[1;33m(\u001b[0m\u001b[1;34m'Tom'\u001b[0m\u001b[1;33m)\u001b[0m\u001b[1;33m\u001b[0m\u001b[1;33m\u001b[0m\u001b[0m\n\u001b[0m\u001b[0;32m      4\u001b[0m \u001b[0mtom\u001b[0m\u001b[1;33m.\u001b[0m\u001b[0msalary\u001b[0m\u001b[1;33m\u001b[0m\u001b[1;33m\u001b[0m\u001b[0m\n",
      "\u001b[1;32m~\\AppData\\Local\\Temp/ipykernel_12440/2523785265.py\u001b[0m in \u001b[0;36m__init__\u001b[1;34m(self, name)\u001b[0m\n\u001b[0;32m      1\u001b[0m \u001b[1;32mclass\u001b[0m \u001b[0mChef2\u001b[0m\u001b[1;33m(\u001b[0m\u001b[0mEmployee\u001b[0m\u001b[1;33m)\u001b[0m\u001b[1;33m:\u001b[0m\u001b[1;33m\u001b[0m\u001b[1;33m\u001b[0m\u001b[0m\n\u001b[0;32m      2\u001b[0m         \u001b[1;32mdef\u001b[0m \u001b[0m__init__\u001b[0m\u001b[1;33m(\u001b[0m\u001b[0mself\u001b[0m\u001b[1;33m,\u001b[0m \u001b[0mname\u001b[0m\u001b[1;33m)\u001b[0m\u001b[1;33m:\u001b[0m\u001b[1;33m\u001b[0m\u001b[1;33m\u001b[0m\u001b[0m\n\u001b[1;32m----> 3\u001b[1;33m             \u001b[0msuper\u001b[0m\u001b[1;33m(\u001b[0m\u001b[1;33m)\u001b[0m\u001b[1;33m.\u001b[0m\u001b[0m__init__\u001b[0m\u001b[1;33m(\u001b[0m\u001b[0mname\u001b[0m\u001b[1;33m,\u001b[0m \u001b[1;36m50000\u001b[0m\u001b[1;33m)\u001b[0m                  \u001b[1;31m# Dispatch by super()\u001b[0m\u001b[1;33m\u001b[0m\u001b[1;33m\u001b[0m\u001b[0m\n\u001b[0m\u001b[0;32m      4\u001b[0m \u001b[1;33m\u001b[0m\u001b[0m\n\u001b[0;32m      5\u001b[0m \u001b[1;32mclass\u001b[0m \u001b[0mServer2\u001b[0m\u001b[1;33m(\u001b[0m\u001b[0mEmployee\u001b[0m\u001b[1;33m)\u001b[0m\u001b[1;33m:\u001b[0m\u001b[1;33m\u001b[0m\u001b[1;33m\u001b[0m\u001b[0m\n",
      "\u001b[1;31mTypeError\u001b[0m: __init__() takes 2 positional arguments but 3 were given"
     ]
    }
   ],
   "source": [
    "class TwoJobs(Chef2, Server2): pass\n",
    "\n",
    "tom = TwoJobs('Tom')\n",
    "tom.salary"
   ]
  },
  {
   "cell_type": "markdown",
   "id": "59810194",
   "metadata": {},
   "source": [
    "### Changing Class Attributes Can Have Side Effects"
   ]
  },
  {
   "cell_type": "code",
   "execution_count": 38,
   "id": "0bdf8585",
   "metadata": {},
   "outputs": [
    {
     "name": "stdout",
     "output_type": "stream",
     "text": [
      "0\n",
      "1\n",
      "2\n",
      "3\n",
      "4\n",
      "5\n"
     ]
    }
   ],
   "source": [
    "class X: pass                       # Make a few attribute namespaces\n",
    "class Y: pass\n",
    "\n",
    "X.a = 1                             # Use class attributes as variables\n",
    "X.b = 2                             # No instances anywhere to be found\n",
    "X.c = 3\n",
    "Y.a = X.a + X.b + X.c\n",
    "\n",
    "for X.i in range(Y.a): print(X.i)   # Prints 0..5"
   ]
  },
  {
   "cell_type": "code",
   "execution_count": 41,
   "id": "eaf5783e",
   "metadata": {},
   "outputs": [
    {
     "data": {
      "text/plain": [
       "6"
      ]
     },
     "execution_count": 41,
     "metadata": {},
     "output_type": "execute_result"
    }
   ],
   "source": [
    "Y.a"
   ]
  },
  {
   "cell_type": "code",
   "execution_count": 40,
   "id": "2a5b893e",
   "metadata": {},
   "outputs": [
    {
     "name": "stdout",
     "output_type": "stream",
     "text": [
      "0\n",
      "1\n",
      "2\n",
      "3\n",
      "4\n",
      "5\n"
     ]
    }
   ],
   "source": [
    "for a in range(Y.a): print(a)   # Prints 0..5"
   ]
  },
  {
   "cell_type": "code",
   "execution_count": 42,
   "id": "9d286d64",
   "metadata": {},
   "outputs": [
    {
     "data": {
      "text/plain": [
       "([], [])"
      ]
     },
     "execution_count": 42,
     "metadata": {},
     "output_type": "execute_result"
    }
   ],
   "source": [
    "class C:\n",
    "        shared = []                 # Class attribute\n",
    "        def __init__(self):\n",
    "            self.perobj = []        # Instance attribute\n",
    "\n",
    "x = C()                         # Two instances\n",
    "y = C()                         # Implicitly share class attrs\n",
    "y.shared, y.perobj"
   ]
  },
  {
   "cell_type": "code",
   "execution_count": 43,
   "id": "307b512c",
   "metadata": {},
   "outputs": [
    {
     "data": {
      "text/plain": [
       "(['spam'], ['spam'])"
      ]
     },
     "execution_count": 43,
     "metadata": {},
     "output_type": "execute_result"
    }
   ],
   "source": [
    "x.shared.append('spam')         # Impacts y's view too!\n",
    "x.perobj.append('spam')         # Impacts x's data only\n",
    "x.shared, x.perobj"
   ]
  },
  {
   "cell_type": "code",
   "execution_count": 44,
   "id": "390e7e52",
   "metadata": {},
   "outputs": [
    {
     "data": {
      "text/plain": [
       "(['spam'], [])"
      ]
     },
     "execution_count": 44,
     "metadata": {},
     "output_type": "execute_result"
    }
   ],
   "source": [
    "y.shared, y.perobj              # y sees change made through x"
   ]
  },
  {
   "cell_type": "code",
   "execution_count": 45,
   "id": "2bc01d1d",
   "metadata": {},
   "outputs": [
    {
     "data": {
      "text/plain": [
       "['spam']"
      ]
     },
     "execution_count": 45,
     "metadata": {},
     "output_type": "execute_result"
    }
   ],
   "source": [
    "C.shared                        # Stored on class and shared"
   ]
  },
  {
   "cell_type": "code",
   "execution_count": 46,
   "id": "92b7d0f1",
   "metadata": {},
   "outputs": [
    {
     "ename": "AttributeError",
     "evalue": "type object 'C' has no attribute 'perobj'",
     "output_type": "error",
     "traceback": [
      "\u001b[1;31m---------------------------------------------------------------------------\u001b[0m",
      "\u001b[1;31mAttributeError\u001b[0m                            Traceback (most recent call last)",
      "\u001b[1;32m~\\AppData\\Local\\Temp/ipykernel_12440/3981332024.py\u001b[0m in \u001b[0;36m<module>\u001b[1;34m\u001b[0m\n\u001b[1;32m----> 1\u001b[1;33m \u001b[0mC\u001b[0m\u001b[1;33m.\u001b[0m\u001b[0mperobj\u001b[0m\u001b[1;33m\u001b[0m\u001b[1;33m\u001b[0m\u001b[0m\n\u001b[0m",
      "\u001b[1;31mAttributeError\u001b[0m: type object 'C' has no attribute 'perobj'"
     ]
    }
   ],
   "source": [
    "C.perobj"
   ]
  },
  {
   "cell_type": "code",
   "execution_count": 47,
   "id": "96b45c17",
   "metadata": {},
   "outputs": [
    {
     "name": "stdout",
     "output_type": "stream",
     "text": [
      "1\n"
     ]
    }
   ],
   "source": [
    "def generate():\n",
    "    class Spam:                  # Spam is a name in generate's local scope\n",
    "        count = 1\n",
    "        def method(self):\n",
    "            print(Spam.count)    # Visible in generate's scope, per LEGB rule (E)\n",
    "    return Spam()\n",
    "\n",
    "generate().method()"
   ]
  },
  {
   "cell_type": "code",
   "execution_count": 48,
   "id": "51f47eb5",
   "metadata": {},
   "outputs": [],
   "source": [
    "class Spam:                  # Spam is a name in generate's local scope\n",
    "        count = 1\n",
    "        def method(self):\n",
    "            print(Spam.count)    # Visible in generate's scope, per LEGB rule (E)"
   ]
  },
  {
   "cell_type": "code",
   "execution_count": 49,
   "id": "6b629006",
   "metadata": {},
   "outputs": [
    {
     "name": "stdout",
     "output_type": "stream",
     "text": [
      "1\n"
     ]
    }
   ],
   "source": [
    "Spam().method()"
   ]
  },
  {
   "cell_type": "code",
   "execution_count": 51,
   "id": "001965fe",
   "metadata": {},
   "outputs": [
    {
     "name": "stdout",
     "output_type": "stream",
     "text": [
      "1\n"
     ]
    }
   ],
   "source": [
    "class Spam:                  # Spam is a name in generate's local scope\n",
    "        count = 1\n",
    "        def method(self):\n",
    "            print(self.count)    # Visible in generate's scope, per LEGB rule (E)\n",
    "            \n",
    "Spam().method()"
   ]
  },
  {
   "cell_type": "code",
   "execution_count": 50,
   "id": "a4bde755",
   "metadata": {},
   "outputs": [
    {
     "ename": "NameError",
     "evalue": "name 'count' is not defined",
     "output_type": "error",
     "traceback": [
      "\u001b[1;31m---------------------------------------------------------------------------\u001b[0m",
      "\u001b[1;31mNameError\u001b[0m                                 Traceback (most recent call last)",
      "\u001b[1;32m~\\AppData\\Local\\Temp/ipykernel_12440/3314434125.py\u001b[0m in \u001b[0;36m<module>\u001b[1;34m\u001b[0m\n\u001b[0;32m      4\u001b[0m             \u001b[0mprint\u001b[0m\u001b[1;33m(\u001b[0m\u001b[0mcount\u001b[0m\u001b[1;33m)\u001b[0m    \u001b[1;31m# Visible in generate's scope, per LEGB rule (E)\u001b[0m\u001b[1;33m\u001b[0m\u001b[1;33m\u001b[0m\u001b[0m\n\u001b[0;32m      5\u001b[0m \u001b[1;33m\u001b[0m\u001b[0m\n\u001b[1;32m----> 6\u001b[1;33m \u001b[0mSpam\u001b[0m\u001b[1;33m(\u001b[0m\u001b[1;33m)\u001b[0m\u001b[1;33m.\u001b[0m\u001b[0mmethod\u001b[0m\u001b[1;33m(\u001b[0m\u001b[1;33m)\u001b[0m\u001b[1;33m\u001b[0m\u001b[1;33m\u001b[0m\u001b[0m\n\u001b[0m",
      "\u001b[1;32m~\\AppData\\Local\\Temp/ipykernel_12440/3314434125.py\u001b[0m in \u001b[0;36mmethod\u001b[1;34m(self)\u001b[0m\n\u001b[0;32m      2\u001b[0m         \u001b[0mcount\u001b[0m \u001b[1;33m=\u001b[0m \u001b[1;36m1\u001b[0m\u001b[1;33m\u001b[0m\u001b[1;33m\u001b[0m\u001b[0m\n\u001b[0;32m      3\u001b[0m         \u001b[1;32mdef\u001b[0m \u001b[0mmethod\u001b[0m\u001b[1;33m(\u001b[0m\u001b[0mself\u001b[0m\u001b[1;33m)\u001b[0m\u001b[1;33m:\u001b[0m\u001b[1;33m\u001b[0m\u001b[1;33m\u001b[0m\u001b[0m\n\u001b[1;32m----> 4\u001b[1;33m             \u001b[0mprint\u001b[0m\u001b[1;33m(\u001b[0m\u001b[0mcount\u001b[0m\u001b[1;33m)\u001b[0m    \u001b[1;31m# Visible in generate's scope, per LEGB rule (E)\u001b[0m\u001b[1;33m\u001b[0m\u001b[1;33m\u001b[0m\u001b[0m\n\u001b[0m\u001b[0;32m      5\u001b[0m \u001b[1;33m\u001b[0m\u001b[0m\n\u001b[0;32m      6\u001b[0m \u001b[0mSpam\u001b[0m\u001b[1;33m(\u001b[0m\u001b[1;33m)\u001b[0m\u001b[1;33m.\u001b[0m\u001b[0mmethod\u001b[0m\u001b[1;33m(\u001b[0m\u001b[1;33m)\u001b[0m\u001b[1;33m\u001b[0m\u001b[1;33m\u001b[0m\u001b[0m\n",
      "\u001b[1;31mNameError\u001b[0m: name 'count' is not defined"
     ]
    }
   ],
   "source": [
    "class Spam:                  # Spam is a name in generate's local scope\n",
    "        count = 1\n",
    "        def method(self):\n",
    "            print(count)    # Visible in generate's scope, per LEGB rule (E)\n",
    "            \n",
    "Spam().method()"
   ]
  },
  {
   "cell_type": "markdown",
   "id": "1dea23da",
   "metadata": {},
   "source": [
    "This example works in Python since version 2.2 because the local scopes of all enclosing function defs are automatically visible to nested defs (including nested method defs, as in this example).\n",
    "\n",
    "Even so, keep in mind that method defs cannot see the local scope of the enclosing class; they can see only the local scopes of enclosing defs. That’s why methods must go through the self instance or the class name to reference methods and other attributes defined in the enclosing class statement. For example, code in the method must use self.count or Spam.count, not just count. \n",
    "\n",
    "To avoid nesting, we could restructure this code such that the class Spam is defined at the top level of the module: the nested method function and the top-level generate will then both find Spam in their global scopes; it’s not localized to a function’s scope, but is still local to a single module:"
   ]
  },
  {
   "cell_type": "code",
   "execution_count": 52,
   "id": "2b1f7dd2",
   "metadata": {},
   "outputs": [
    {
     "name": "stdout",
     "output_type": "stream",
     "text": [
      "1\n"
     ]
    }
   ],
   "source": [
    "def generate():\n",
    "    return Spam()\n",
    "\n",
    "class Spam:                    # Define at top level of module\n",
    "    count = 1\n",
    "    def method(self):\n",
    "        print(Spam.count)      # Works: in global (enclosing module)\n",
    "\n",
    "generate().method()"
   ]
  },
  {
   "cell_type": "code",
   "execution_count": 53,
   "id": "023f0b04",
   "metadata": {},
   "outputs": [
    {
     "name": "stdout",
     "output_type": "stream",
     "text": [
      "Gotchas=1\n"
     ]
    }
   ],
   "source": [
    "def generate(label):       # Returns a class instead of an instance\n",
    "        class Spam:\n",
    "            count = 1\n",
    "            def method(self):\n",
    "                print(\"%s=%s\" % (label, Spam.count))\n",
    "        return Spam\n",
    "\n",
    "aclass = generate('Gotchas')\n",
    "I = aclass()\n",
    "I.method()"
   ]
  },
  {
   "cell_type": "code",
   "execution_count": 58,
   "id": "95ea290d",
   "metadata": {},
   "outputs": [
    {
     "name": "stdout",
     "output_type": "stream",
     "text": [
      "Gotchas=1\n"
     ]
    }
   ],
   "source": [
    "def generate(label):       # Returns a class instead of an instance\n",
    "        class Spam:\n",
    "            count = 1\n",
    "            def method(self):\n",
    "                print(\"%s=%s\" % (label, Spam.count))\n",
    "        return Spam()\n",
    "\n",
    "generate('Gotchas').method()"
   ]
  },
  {
   "cell_type": "markdown",
   "id": "f6faec33",
   "metadata": {},
   "source": [
    "## Chapter 33. Exception Basics"
   ]
  },
  {
   "cell_type": "code",
   "execution_count": 59,
   "id": "8b97517e",
   "metadata": {},
   "outputs": [
    {
     "data": {
      "text/plain": [
       "'m'"
      ]
     },
     "execution_count": 59,
     "metadata": {},
     "output_type": "execute_result"
    }
   ],
   "source": [
    "def fetcher(obj, index):\n",
    "        return obj[index]\n",
    "x = 'spam'\n",
    "fetcher(x, 3)                           # Like x[3]"
   ]
  },
  {
   "cell_type": "code",
   "execution_count": 60,
   "id": "d69a9f9c",
   "metadata": {},
   "outputs": [
    {
     "ename": "IndexError",
     "evalue": "string index out of range",
     "output_type": "error",
     "traceback": [
      "\u001b[1;31m---------------------------------------------------------------------------\u001b[0m",
      "\u001b[1;31mIndexError\u001b[0m                                Traceback (most recent call last)",
      "\u001b[1;32m~\\AppData\\Local\\Temp/ipykernel_12440/2550285518.py\u001b[0m in \u001b[0;36m<module>\u001b[1;34m\u001b[0m\n\u001b[1;32m----> 1\u001b[1;33m \u001b[0mfetcher\u001b[0m\u001b[1;33m(\u001b[0m\u001b[0mx\u001b[0m\u001b[1;33m,\u001b[0m \u001b[1;36m4\u001b[0m\u001b[1;33m)\u001b[0m                           \u001b[1;31m# Default handler - shell interface\u001b[0m\u001b[1;33m\u001b[0m\u001b[1;33m\u001b[0m\u001b[0m\n\u001b[0m",
      "\u001b[1;32m~\\AppData\\Local\\Temp/ipykernel_12440/2568006500.py\u001b[0m in \u001b[0;36mfetcher\u001b[1;34m(obj, index)\u001b[0m\n\u001b[0;32m      1\u001b[0m \u001b[1;32mdef\u001b[0m \u001b[0mfetcher\u001b[0m\u001b[1;33m(\u001b[0m\u001b[0mobj\u001b[0m\u001b[1;33m,\u001b[0m \u001b[0mindex\u001b[0m\u001b[1;33m)\u001b[0m\u001b[1;33m:\u001b[0m\u001b[1;33m\u001b[0m\u001b[1;33m\u001b[0m\u001b[0m\n\u001b[1;32m----> 2\u001b[1;33m         \u001b[1;32mreturn\u001b[0m \u001b[0mobj\u001b[0m\u001b[1;33m[\u001b[0m\u001b[0mindex\u001b[0m\u001b[1;33m]\u001b[0m\u001b[1;33m\u001b[0m\u001b[1;33m\u001b[0m\u001b[0m\n\u001b[0m\u001b[0;32m      3\u001b[0m \u001b[0mx\u001b[0m \u001b[1;33m=\u001b[0m \u001b[1;34m'spam'\u001b[0m\u001b[1;33m\u001b[0m\u001b[1;33m\u001b[0m\u001b[0m\n\u001b[0;32m      4\u001b[0m \u001b[0mfetcher\u001b[0m\u001b[1;33m(\u001b[0m\u001b[0mx\u001b[0m\u001b[1;33m,\u001b[0m \u001b[1;36m3\u001b[0m\u001b[1;33m)\u001b[0m                           \u001b[1;31m# Like x[3]\u001b[0m\u001b[1;33m\u001b[0m\u001b[1;33m\u001b[0m\u001b[0m\n",
      "\u001b[1;31mIndexError\u001b[0m: string index out of range"
     ]
    }
   ],
   "source": [
    "fetcher(x, 4)                           # Default handler - shell interface"
   ]
  },
  {
   "cell_type": "code",
   "execution_count": 63,
   "id": "8551a1c9",
   "metadata": {},
   "outputs": [
    {
     "name": "stdout",
     "output_type": "stream",
     "text": [
      "got exception\n"
     ]
    }
   ],
   "source": [
    "try: \n",
    "    fetcher(x, 4)\n",
    "except IndexError:                      # Catch and recover\n",
    "    print('got exception')"
   ]
  },
  {
   "cell_type": "code",
   "execution_count": 64,
   "id": "84f0189f",
   "metadata": {},
   "outputs": [
    {
     "name": "stdout",
     "output_type": "stream",
     "text": [
      "got exception\n",
      "continuing\n"
     ]
    }
   ],
   "source": [
    "def catcher():\n",
    "        try:\n",
    "            fetcher(x, 4)\n",
    "        except IndexError:\n",
    "            print('got exception')\n",
    "        print('continuing')\n",
    "\n",
    "catcher()"
   ]
  },
  {
   "cell_type": "code",
   "execution_count": 65,
   "id": "7ea2cd04",
   "metadata": {},
   "outputs": [
    {
     "name": "stdout",
     "output_type": "stream",
     "text": [
      "got exception\n"
     ]
    }
   ],
   "source": [
    "try:\n",
    "     raise IndexError                    # Trigger exception manually\n",
    "except IndexError:\n",
    "    print('got exception')"
   ]
  },
  {
   "cell_type": "code",
   "execution_count": 66,
   "id": "6d940e4d",
   "metadata": {},
   "outputs": [
    {
     "ename": "IndexError",
     "evalue": "",
     "output_type": "error",
     "traceback": [
      "\u001b[1;31m---------------------------------------------------------------------------\u001b[0m",
      "\u001b[1;31mIndexError\u001b[0m                                Traceback (most recent call last)",
      "\u001b[1;32m~\\AppData\\Local\\Temp/ipykernel_12440/3102017834.py\u001b[0m in \u001b[0;36m<module>\u001b[1;34m\u001b[0m\n\u001b[1;32m----> 1\u001b[1;33m \u001b[1;32mraise\u001b[0m \u001b[0mIndexError\u001b[0m\u001b[1;33m\u001b[0m\u001b[1;33m\u001b[0m\u001b[0m\n\u001b[0m",
      "\u001b[1;31mIndexError\u001b[0m: "
     ]
    }
   ],
   "source": [
    "raise IndexError"
   ]
  },
  {
   "cell_type": "code",
   "execution_count": 67,
   "id": "091d3b1b",
   "metadata": {},
   "outputs": [
    {
     "data": {
      "text/plain": [
       "(BaseException,)"
      ]
     },
     "execution_count": 67,
     "metadata": {},
     "output_type": "execute_result"
    }
   ],
   "source": [
    "Exception.__bases__"
   ]
  },
  {
   "cell_type": "code",
   "execution_count": 68,
   "id": "b93afe9e",
   "metadata": {},
   "outputs": [
    {
     "data": {
      "text/plain": [
       "type"
      ]
     },
     "execution_count": 68,
     "metadata": {},
     "output_type": "execute_result"
    }
   ],
   "source": [
    "Exception.__class__"
   ]
  },
  {
   "cell_type": "code",
   "execution_count": 69,
   "id": "8611dd07",
   "metadata": {},
   "outputs": [
    {
     "name": "stdout",
     "output_type": "stream",
     "text": [
      "got exception\n"
     ]
    }
   ],
   "source": [
    "class AlreadyGotOne(Exception): pass    # User-defined exception\n",
    "\n",
    "def grail():\n",
    "        raise AlreadyGotOne()               # Raise an instance\n",
    "\n",
    "try:\n",
    "     grail()\n",
    "except AlreadyGotOne:                   # Catch class name\n",
    "     print('got exception')"
   ]
  },
  {
   "cell_type": "code",
   "execution_count": 70,
   "id": "96f3ca6c",
   "metadata": {},
   "outputs": [
    {
     "ename": "AlreadyGotOne",
     "evalue": "",
     "output_type": "error",
     "traceback": [
      "\u001b[1;31m---------------------------------------------------------------------------\u001b[0m",
      "\u001b[1;31mAlreadyGotOne\u001b[0m                             Traceback (most recent call last)",
      "\u001b[1;32m~\\AppData\\Local\\Temp/ipykernel_12440/2661080384.py\u001b[0m in \u001b[0;36m<module>\u001b[1;34m\u001b[0m\n\u001b[1;32m----> 1\u001b[1;33m \u001b[1;32mraise\u001b[0m \u001b[0mAlreadyGotOne\u001b[0m\u001b[1;33m(\u001b[0m\u001b[1;33m)\u001b[0m\u001b[1;33m\u001b[0m\u001b[1;33m\u001b[0m\u001b[0m\n\u001b[0m",
      "\u001b[1;31mAlreadyGotOne\u001b[0m: "
     ]
    }
   ],
   "source": [
    "raise AlreadyGotOne()"
   ]
  },
  {
   "cell_type": "code",
   "execution_count": 71,
   "id": "5a08c616",
   "metadata": {},
   "outputs": [
    {
     "ename": "Career",
     "evalue": "So I became a waiter...",
     "output_type": "error",
     "traceback": [
      "\u001b[1;31m---------------------------------------------------------------------------\u001b[0m",
      "\u001b[1;31mCareer\u001b[0m                                    Traceback (most recent call last)",
      "\u001b[1;32m~\\AppData\\Local\\Temp/ipykernel_12440/945420752.py\u001b[0m in \u001b[0;36m<module>\u001b[1;34m\u001b[0m\n\u001b[0;32m      2\u001b[0m         \u001b[1;32mdef\u001b[0m \u001b[0m__str__\u001b[0m\u001b[1;33m(\u001b[0m\u001b[0mself\u001b[0m\u001b[1;33m)\u001b[0m\u001b[1;33m:\u001b[0m \u001b[1;32mreturn\u001b[0m \u001b[1;34m'So I became a waiter...'\u001b[0m\u001b[1;33m\u001b[0m\u001b[1;33m\u001b[0m\u001b[0m\n\u001b[0;32m      3\u001b[0m \u001b[1;33m\u001b[0m\u001b[0m\n\u001b[1;32m----> 4\u001b[1;33m \u001b[1;32mraise\u001b[0m \u001b[0mCareer\u001b[0m\u001b[1;33m(\u001b[0m\u001b[1;33m)\u001b[0m\u001b[1;33m\u001b[0m\u001b[1;33m\u001b[0m\u001b[0m\n\u001b[0m",
      "\u001b[1;31mCareer\u001b[0m: So I became a waiter..."
     ]
    }
   ],
   "source": [
    "class Career(Exception):\n",
    "        def __str__(self): return 'So I became a waiter...'\n",
    "\n",
    "raise Career()"
   ]
  },
  {
   "cell_type": "code",
   "execution_count": 72,
   "id": "ce3fd66a",
   "metadata": {},
   "outputs": [
    {
     "name": "stdout",
     "output_type": "stream",
     "text": [
      "after fetch\n"
     ]
    }
   ],
   "source": [
    "try:\n",
    "     fetcher(x, 3)\n",
    "finally:                                # Termination actions\n",
    "     print('after fetch')"
   ]
  },
  {
   "cell_type": "code",
   "execution_count": 73,
   "id": "68ba70c5",
   "metadata": {},
   "outputs": [
    {
     "name": "stdout",
     "output_type": "stream",
     "text": [
      "after fetch\n"
     ]
    },
    {
     "ename": "IndexError",
     "evalue": "string index out of range",
     "output_type": "error",
     "traceback": [
      "\u001b[1;31m---------------------------------------------------------------------------\u001b[0m",
      "\u001b[1;31mIndexError\u001b[0m                                Traceback (most recent call last)",
      "\u001b[1;32m~\\AppData\\Local\\Temp/ipykernel_12440/1768698407.py\u001b[0m in \u001b[0;36m<module>\u001b[1;34m\u001b[0m\n\u001b[0;32m      1\u001b[0m \u001b[1;32mtry\u001b[0m\u001b[1;33m:\u001b[0m\u001b[1;33m\u001b[0m\u001b[1;33m\u001b[0m\u001b[0m\n\u001b[1;32m----> 2\u001b[1;33m      \u001b[0mfetcher\u001b[0m\u001b[1;33m(\u001b[0m\u001b[0mx\u001b[0m\u001b[1;33m,\u001b[0m \u001b[1;36m4\u001b[0m\u001b[1;33m)\u001b[0m\u001b[1;33m\u001b[0m\u001b[1;33m\u001b[0m\u001b[0m\n\u001b[0m\u001b[0;32m      3\u001b[0m \u001b[1;32mfinally\u001b[0m\u001b[1;33m:\u001b[0m                                \u001b[1;31m# Termination actions\u001b[0m\u001b[1;33m\u001b[0m\u001b[1;33m\u001b[0m\u001b[0m\n\u001b[0;32m      4\u001b[0m      \u001b[0mprint\u001b[0m\u001b[1;33m(\u001b[0m\u001b[1;34m'after fetch'\u001b[0m\u001b[1;33m)\u001b[0m\u001b[1;33m\u001b[0m\u001b[1;33m\u001b[0m\u001b[0m\n",
      "\u001b[1;32m~\\AppData\\Local\\Temp/ipykernel_12440/2568006500.py\u001b[0m in \u001b[0;36mfetcher\u001b[1;34m(obj, index)\u001b[0m\n\u001b[0;32m      1\u001b[0m \u001b[1;32mdef\u001b[0m \u001b[0mfetcher\u001b[0m\u001b[1;33m(\u001b[0m\u001b[0mobj\u001b[0m\u001b[1;33m,\u001b[0m \u001b[0mindex\u001b[0m\u001b[1;33m)\u001b[0m\u001b[1;33m:\u001b[0m\u001b[1;33m\u001b[0m\u001b[1;33m\u001b[0m\u001b[0m\n\u001b[1;32m----> 2\u001b[1;33m         \u001b[1;32mreturn\u001b[0m \u001b[0mobj\u001b[0m\u001b[1;33m[\u001b[0m\u001b[0mindex\u001b[0m\u001b[1;33m]\u001b[0m\u001b[1;33m\u001b[0m\u001b[1;33m\u001b[0m\u001b[0m\n\u001b[0m\u001b[0;32m      3\u001b[0m \u001b[0mx\u001b[0m \u001b[1;33m=\u001b[0m \u001b[1;34m'spam'\u001b[0m\u001b[1;33m\u001b[0m\u001b[1;33m\u001b[0m\u001b[0m\n\u001b[0;32m      4\u001b[0m \u001b[0mfetcher\u001b[0m\u001b[1;33m(\u001b[0m\u001b[0mx\u001b[0m\u001b[1;33m,\u001b[0m \u001b[1;36m3\u001b[0m\u001b[1;33m)\u001b[0m                           \u001b[1;31m# Like x[3]\u001b[0m\u001b[1;33m\u001b[0m\u001b[1;33m\u001b[0m\u001b[0m\n",
      "\u001b[1;31mIndexError\u001b[0m: string index out of range"
     ]
    }
   ],
   "source": [
    "try:\n",
    "     fetcher(x, 4)\n",
    "finally:                                # Termination actions\n",
    "     print('after fetch')"
   ]
  },
  {
   "cell_type": "markdown",
   "id": "e6864c91",
   "metadata": {},
   "source": [
    "## Chapter 34. Exception Coding Details"
   ]
  },
  {
   "cell_type": "markdown",
   "id": "053c47d0",
   "metadata": {},
   "source": [
    "### The try/except/else Statement"
   ]
  },
  {
   "cell_type": "code",
   "execution_count": 4,
   "id": "4c3c90b7",
   "metadata": {},
   "outputs": [
    {
     "name": "stdout",
     "output_type": "stream",
     "text": [
      "def gobad(x, y):\n",
      "    return x / y\n",
      "\n",
      "def gosouth(x):\n",
      "    print(gobad(x, 0))\n",
      "\n",
      "gosouth(1)\n"
     ]
    }
   ],
   "source": [
    "!cat code/bad.py"
   ]
  },
  {
   "cell_type": "code",
   "execution_count": 5,
   "id": "39e13929",
   "metadata": {},
   "outputs": [
    {
     "name": "stderr",
     "output_type": "stream",
     "text": [
      "Traceback (most recent call last):\n",
      "  File \"code/bad.py\", line 7, in <module>\n",
      "    gosouth(1)\n",
      "  File \"code/bad.py\", line 5, in gosouth\n",
      "    print(gobad(x, 0))\n",
      "  File \"code/bad.py\", line 2, in gobad\n",
      "    return x / y\n",
      "ZeroDivisionError: division by zero\n"
     ]
    }
   ],
   "source": [
    "!python code/bad.py"
   ]
  },
  {
   "cell_type": "code",
   "execution_count": 6,
   "id": "d3bbdf71",
   "metadata": {},
   "outputs": [
    {
     "name": "stdout",
     "output_type": "stream",
     "text": [
      "def kaboom(x, y):\n",
      "    print(x + y)               # Trigger TypeError\n",
      "\n",
      "try:\n",
      "    kaboom([0, 1, 2], 'spam')\n",
      "except TypeError:              # Catch and recover here\n",
      "    print('Hello world!')\n",
      "print('resuming here')         # Continue here if exception or not\n"
     ]
    }
   ],
   "source": [
    "!cat code/kaboom.py"
   ]
  },
  {
   "cell_type": "code",
   "execution_count": 7,
   "id": "ab589e81",
   "metadata": {},
   "outputs": [
    {
     "name": "stdout",
     "output_type": "stream",
     "text": [
      "Hello world!\n",
      "resuming here\n"
     ]
    }
   ],
   "source": [
    "!python code/kaboom.py"
   ]
  },
  {
   "cell_type": "markdown",
   "id": "d0467409",
   "metadata": {},
   "source": [
    "### The try/finally Statement"
   ]
  },
  {
   "cell_type": "code",
   "execution_count": 8,
   "id": "76b40408",
   "metadata": {},
   "outputs": [
    {
     "ename": "MyError",
     "evalue": "",
     "output_type": "error",
     "traceback": [
      "\u001b[1;31m---------------------------------------------------------------------------\u001b[0m",
      "\u001b[1;31mMyError\u001b[0m                                   Traceback (most recent call last)",
      "\u001b[1;32m~\\AppData\\Local\\Temp/ipykernel_17240/419024135.py\u001b[0m in \u001b[0;36m<module>\u001b[1;34m\u001b[0m\n\u001b[0;32m      6\u001b[0m \u001b[0mfile\u001b[0m \u001b[1;33m=\u001b[0m \u001b[0mopen\u001b[0m\u001b[1;33m(\u001b[0m\u001b[1;34m'data'\u001b[0m\u001b[1;33m,\u001b[0m \u001b[1;34m'w'\u001b[0m\u001b[1;33m)\u001b[0m     \u001b[1;31m# Open an output file (this can fail too)\u001b[0m\u001b[1;33m\u001b[0m\u001b[1;33m\u001b[0m\u001b[0m\n\u001b[0;32m      7\u001b[0m \u001b[1;32mtry\u001b[0m\u001b[1;33m:\u001b[0m\u001b[1;33m\u001b[0m\u001b[1;33m\u001b[0m\u001b[0m\n\u001b[1;32m----> 8\u001b[1;33m     \u001b[0mstuff\u001b[0m\u001b[1;33m(\u001b[0m\u001b[0mfile\u001b[0m\u001b[1;33m)\u001b[0m              \u001b[1;31m# Raises exception\u001b[0m\u001b[1;33m\u001b[0m\u001b[1;33m\u001b[0m\u001b[0m\n\u001b[0m\u001b[0;32m      9\u001b[0m \u001b[1;32mfinally\u001b[0m\u001b[1;33m:\u001b[0m\u001b[1;33m\u001b[0m\u001b[1;33m\u001b[0m\u001b[0m\n\u001b[0;32m     10\u001b[0m     \u001b[0mfile\u001b[0m\u001b[1;33m.\u001b[0m\u001b[0mclose\u001b[0m\u001b[1;33m(\u001b[0m\u001b[1;33m)\u001b[0m             \u001b[1;31m# Always close file to flush output buffers\u001b[0m\u001b[1;33m\u001b[0m\u001b[1;33m\u001b[0m\u001b[0m\n",
      "\u001b[1;32m~\\AppData\\Local\\Temp/ipykernel_17240/419024135.py\u001b[0m in \u001b[0;36mstuff\u001b[1;34m(file)\u001b[0m\n\u001b[0;32m      2\u001b[0m \u001b[1;33m\u001b[0m\u001b[0m\n\u001b[0;32m      3\u001b[0m \u001b[1;32mdef\u001b[0m \u001b[0mstuff\u001b[0m\u001b[1;33m(\u001b[0m\u001b[0mfile\u001b[0m\u001b[1;33m)\u001b[0m\u001b[1;33m:\u001b[0m\u001b[1;33m\u001b[0m\u001b[1;33m\u001b[0m\u001b[0m\n\u001b[1;32m----> 4\u001b[1;33m     \u001b[1;32mraise\u001b[0m \u001b[0mMyError\u001b[0m\u001b[1;33m(\u001b[0m\u001b[1;33m)\u001b[0m\u001b[1;33m\u001b[0m\u001b[1;33m\u001b[0m\u001b[0m\n\u001b[0m\u001b[0;32m      5\u001b[0m \u001b[1;33m\u001b[0m\u001b[0m\n\u001b[0;32m      6\u001b[0m \u001b[0mfile\u001b[0m \u001b[1;33m=\u001b[0m \u001b[0mopen\u001b[0m\u001b[1;33m(\u001b[0m\u001b[1;34m'data'\u001b[0m\u001b[1;33m,\u001b[0m \u001b[1;34m'w'\u001b[0m\u001b[1;33m)\u001b[0m     \u001b[1;31m# Open an output file (this can fail too)\u001b[0m\u001b[1;33m\u001b[0m\u001b[1;33m\u001b[0m\u001b[0m\n",
      "\u001b[1;31mMyError\u001b[0m: "
     ]
    }
   ],
   "source": [
    "class MyError(Exception): pass\n",
    "\n",
    "def stuff(file):\n",
    "    raise MyError()\n",
    "\n",
    "file = open('data', 'w')     # Open an output file (this can fail too)\n",
    "try:\n",
    "    stuff(file)              # Raises exception\n",
    "finally:\n",
    "    file.close()             # Always close file to flush output buffers\n",
    "print('not reached')         # Continue here only if no exception"
   ]
  },
  {
   "cell_type": "markdown",
   "id": "33934d51",
   "metadata": {},
   "source": [
    "### Unified try/except/finally"
   ]
  },
  {
   "cell_type": "code",
   "execution_count": 9,
   "id": "3d8c3e88",
   "metadata": {},
   "outputs": [
    {
     "name": "stdout",
     "output_type": "stream",
     "text": [
      "# File mergedexc.py (Python 3.X + 2.X)\n",
      "sep = '-' * 45 + '\\n'\n",
      "\n",
      "\n",
      "print(sep + 'EXCEPTION RAISED AND CAUGHT')\n",
      "try:\n",
      "    x = 'spam'[99]\n",
      "except IndexError:\n",
      "    print('except run')\n",
      "finally:\n",
      "    print('finally run')\n",
      "print('after run')\n",
      "\n",
      "\n",
      "print(sep + 'NO EXCEPTION RAISED')\n",
      "try:\n",
      "    x = 'spam'[3]\n",
      "except IndexError:\n",
      "    print('except run')\n",
      "finally:\n",
      "    print('finally run')\n",
      "print('after run')\n",
      "\n",
      "\n",
      "print(sep + 'NO EXCEPTION RAISED, WITH ELSE')\n",
      "try:\n",
      "    x = 'spam'[3]\n",
      "except IndexError:\n",
      "    print('except run')\n",
      "else:\n",
      "    print('else run')\n",
      "finally:\n",
      "    print('finally run')\n",
      "print('after run')\n",
      "\n",
      "\n",
      "print(sep + 'EXCEPTION RAISED BUT NOT CAUGHT')\n",
      "try:\n",
      "    x = 1 / 0\n",
      "except IndexError:\n",
      "    print('except run')\n",
      "finally:\n",
      "    print('finally run')\n",
      "print('after run')\n"
     ]
    }
   ],
   "source": [
    "!cat code/mergedexc.py"
   ]
  },
  {
   "cell_type": "code",
   "execution_count": 10,
   "id": "abb40d72",
   "metadata": {},
   "outputs": [
    {
     "name": "stdout",
     "output_type": "stream",
     "text": [
      "---------------------------------------------\n",
      "EXCEPTION RAISED AND CAUGHT\n",
      "except run\n",
      "finally run\n",
      "after run\n",
      "---------------------------------------------\n",
      "NO EXCEPTION RAISED\n",
      "finally run\n",
      "after run\n",
      "---------------------------------------------\n",
      "NO EXCEPTION RAISED, WITH ELSE\n",
      "else run\n",
      "finally run\n",
      "after run\n",
      "---------------------------------------------\n",
      "EXCEPTION RAISED BUT NOT CAUGHT\n",
      "finally run\n"
     ]
    },
    {
     "name": "stderr",
     "output_type": "stream",
     "text": [
      "Traceback (most recent call last):\n",
      "  File \"code/mergedexc.py\", line 39, in <module>\n",
      "    x = 1 / 0\n",
      "ZeroDivisionError: division by zero\n"
     ]
    }
   ],
   "source": [
    "!python code/mergedexc.py"
   ]
  },
  {
   "cell_type": "markdown",
   "id": "c5258eb4",
   "metadata": {},
   "source": [
    "### The raise Statement \n",
    "\n",
    "By contrast, Python 3.X localizes the exception reference name to the except block—the variable is not available after the block exits, "
   ]
  },
  {
   "cell_type": "code",
   "execution_count": 12,
   "id": "98160db3",
   "metadata": {},
   "outputs": [
    {
     "name": "stdout",
     "output_type": "stream",
     "text": [
      "division by zero\n"
     ]
    }
   ],
   "source": [
    "try:\n",
    "    1 / 0\n",
    "except Exception as X:               # 2.X does not localize X either way\n",
    "    print(X)"
   ]
  },
  {
   "cell_type": "code",
   "execution_count": 13,
   "id": "bc0b911e",
   "metadata": {},
   "outputs": [
    {
     "ename": "NameError",
     "evalue": "name 'X' is not defined",
     "output_type": "error",
     "traceback": [
      "\u001b[1;31m---------------------------------------------------------------------------\u001b[0m",
      "\u001b[1;31mNameError\u001b[0m                                 Traceback (most recent call last)",
      "\u001b[1;32m~\\AppData\\Local\\Temp/ipykernel_17240/3777217377.py\u001b[0m in \u001b[0;36m<module>\u001b[1;34m\u001b[0m\n\u001b[1;32m----> 1\u001b[1;33m \u001b[0mX\u001b[0m\u001b[1;33m\u001b[0m\u001b[1;33m\u001b[0m\u001b[0m\n\u001b[0m",
      "\u001b[1;31mNameError\u001b[0m: name 'X' is not defined"
     ]
    }
   ],
   "source": [
    "X"
   ]
  },
  {
   "cell_type": "code",
   "execution_count": 14,
   "id": "c69f2070",
   "metadata": {},
   "outputs": [
    {
     "name": "stdout",
     "output_type": "stream",
     "text": [
      "division by zero\n"
     ]
    }
   ],
   "source": [
    "try:\n",
    "    1 / 0\n",
    "except Exception as X:               # 2.X does not localize X either way\n",
    "    print(X)\n",
    "    Saveit = X                       # Assign exc to retain exc if needed"
   ]
  },
  {
   "cell_type": "code",
   "execution_count": 15,
   "id": "e468628b",
   "metadata": {},
   "outputs": [
    {
     "ename": "NameError",
     "evalue": "name 'X' is not defined",
     "output_type": "error",
     "traceback": [
      "\u001b[1;31m---------------------------------------------------------------------------\u001b[0m",
      "\u001b[1;31mNameError\u001b[0m                                 Traceback (most recent call last)",
      "\u001b[1;32m~\\AppData\\Local\\Temp/ipykernel_17240/3777217377.py\u001b[0m in \u001b[0;36m<module>\u001b[1;34m\u001b[0m\n\u001b[1;32m----> 1\u001b[1;33m \u001b[0mX\u001b[0m\u001b[1;33m\u001b[0m\u001b[1;33m\u001b[0m\u001b[0m\n\u001b[0m",
      "\u001b[1;31mNameError\u001b[0m: name 'X' is not defined"
     ]
    }
   ],
   "source": [
    "X"
   ]
  },
  {
   "cell_type": "code",
   "execution_count": 16,
   "id": "812ff21b",
   "metadata": {},
   "outputs": [
    {
     "data": {
      "text/plain": [
       "ZeroDivisionError('division by zero')"
      ]
     },
     "execution_count": 16,
     "metadata": {},
     "output_type": "execute_result"
    }
   ],
   "source": [
    "Saveit"
   ]
  },
  {
   "cell_type": "code",
   "execution_count": 18,
   "id": "ff2dd9c4",
   "metadata": {},
   "outputs": [
    {
     "name": "stdout",
     "output_type": "stream",
     "text": [
      "propagating\n"
     ]
    }
   ],
   "source": [
    "try:\n",
    "    raise IndexError('spam')         # Exceptions remember arguments\n",
    "except IndexError:\n",
    "    print('propagating')"
   ]
  },
  {
   "cell_type": "code",
   "execution_count": 17,
   "id": "cd6f2839",
   "metadata": {},
   "outputs": [
    {
     "name": "stdout",
     "output_type": "stream",
     "text": [
      "propagating\n"
     ]
    },
    {
     "ename": "IndexError",
     "evalue": "spam",
     "output_type": "error",
     "traceback": [
      "\u001b[1;31m---------------------------------------------------------------------------\u001b[0m",
      "\u001b[1;31mIndexError\u001b[0m                                Traceback (most recent call last)",
      "\u001b[1;32m~\\AppData\\Local\\Temp/ipykernel_17240/389881999.py\u001b[0m in \u001b[0;36m<module>\u001b[1;34m\u001b[0m\n\u001b[0;32m      1\u001b[0m \u001b[1;32mtry\u001b[0m\u001b[1;33m:\u001b[0m\u001b[1;33m\u001b[0m\u001b[1;33m\u001b[0m\u001b[0m\n\u001b[1;32m----> 2\u001b[1;33m     \u001b[1;32mraise\u001b[0m \u001b[0mIndexError\u001b[0m\u001b[1;33m(\u001b[0m\u001b[1;34m'spam'\u001b[0m\u001b[1;33m)\u001b[0m         \u001b[1;31m# Exceptions remember arguments\u001b[0m\u001b[1;33m\u001b[0m\u001b[1;33m\u001b[0m\u001b[0m\n\u001b[0m\u001b[0;32m      3\u001b[0m \u001b[1;32mexcept\u001b[0m \u001b[0mIndexError\u001b[0m\u001b[1;33m:\u001b[0m\u001b[1;33m\u001b[0m\u001b[1;33m\u001b[0m\u001b[0m\n\u001b[0;32m      4\u001b[0m     \u001b[0mprint\u001b[0m\u001b[1;33m(\u001b[0m\u001b[1;34m'propagating'\u001b[0m\u001b[1;33m)\u001b[0m\u001b[1;33m\u001b[0m\u001b[1;33m\u001b[0m\u001b[0m\n\u001b[0;32m      5\u001b[0m     \u001b[1;32mraise\u001b[0m                            \u001b[1;31m# Reraise most recent exception\u001b[0m\u001b[1;33m\u001b[0m\u001b[1;33m\u001b[0m\u001b[0m\n",
      "\u001b[1;31mIndexError\u001b[0m: spam"
     ]
    }
   ],
   "source": [
    "try:\n",
    "    raise IndexError('spam')         # Exceptions remember arguments\n",
    "except IndexError:\n",
    "    print('propagating')\n",
    "    raise                            # Reraise most recent exception"
   ]
  },
  {
   "cell_type": "code",
   "execution_count": 19,
   "id": "30ddc60e",
   "metadata": {},
   "outputs": [
    {
     "ename": "RuntimeError",
     "evalue": "No active exception to reraise",
     "output_type": "error",
     "traceback": [
      "\u001b[1;31m---------------------------------------------------------------------------\u001b[0m",
      "\u001b[1;31mRuntimeError\u001b[0m                              Traceback (most recent call last)",
      "\u001b[1;32m~\\AppData\\Local\\Temp/ipykernel_17240/2235509928.py\u001b[0m in \u001b[0;36m<module>\u001b[1;34m\u001b[0m\n\u001b[1;32m----> 1\u001b[1;33m \u001b[1;32mraise\u001b[0m\u001b[1;33m\u001b[0m\u001b[1;33m\u001b[0m\u001b[0m\n\u001b[0m",
      "\u001b[1;31mRuntimeError\u001b[0m: No active exception to reraise"
     ]
    }
   ],
   "source": [
    "raise"
   ]
  },
  {
   "cell_type": "code",
   "execution_count": 20,
   "id": "87e530f5",
   "metadata": {},
   "outputs": [
    {
     "ename": "TypeError",
     "evalue": "Bad",
     "output_type": "error",
     "traceback": [
      "\u001b[1;31m---------------------------------------------------------------------------\u001b[0m",
      "\u001b[1;31mZeroDivisionError\u001b[0m                         Traceback (most recent call last)",
      "\u001b[1;32m~\\AppData\\Local\\Temp/ipykernel_17240/3706971885.py\u001b[0m in \u001b[0;36m<module>\u001b[1;34m\u001b[0m\n\u001b[0;32m      1\u001b[0m \u001b[1;32mtry\u001b[0m\u001b[1;33m:\u001b[0m\u001b[1;33m\u001b[0m\u001b[1;33m\u001b[0m\u001b[0m\n\u001b[1;32m----> 2\u001b[1;33m     \u001b[1;36m1\u001b[0m \u001b[1;33m/\u001b[0m \u001b[1;36m0\u001b[0m\u001b[1;33m\u001b[0m\u001b[1;33m\u001b[0m\u001b[0m\n\u001b[0m\u001b[0;32m      3\u001b[0m \u001b[1;32mexcept\u001b[0m \u001b[0mException\u001b[0m \u001b[1;32mas\u001b[0m \u001b[0mE\u001b[0m\u001b[1;33m:\u001b[0m\u001b[1;33m\u001b[0m\u001b[1;33m\u001b[0m\u001b[0m\n",
      "\u001b[1;31mZeroDivisionError\u001b[0m: division by zero",
      "\nThe above exception was the direct cause of the following exception:\n",
      "\u001b[1;31mTypeError\u001b[0m                                 Traceback (most recent call last)",
      "\u001b[1;32m~\\AppData\\Local\\Temp/ipykernel_17240/3706971885.py\u001b[0m in \u001b[0;36m<module>\u001b[1;34m\u001b[0m\n\u001b[0;32m      2\u001b[0m     \u001b[1;36m1\u001b[0m \u001b[1;33m/\u001b[0m \u001b[1;36m0\u001b[0m\u001b[1;33m\u001b[0m\u001b[1;33m\u001b[0m\u001b[0m\n\u001b[0;32m      3\u001b[0m \u001b[1;32mexcept\u001b[0m \u001b[0mException\u001b[0m \u001b[1;32mas\u001b[0m \u001b[0mE\u001b[0m\u001b[1;33m:\u001b[0m\u001b[1;33m\u001b[0m\u001b[1;33m\u001b[0m\u001b[0m\n\u001b[1;32m----> 4\u001b[1;33m     \u001b[1;32mraise\u001b[0m \u001b[0mTypeError\u001b[0m\u001b[1;33m(\u001b[0m\u001b[1;34m'Bad'\u001b[0m\u001b[1;33m)\u001b[0m \u001b[1;32mfrom\u001b[0m \u001b[0mE\u001b[0m              \u001b[1;31m# Explicitly chained exceptions\u001b[0m\u001b[1;33m\u001b[0m\u001b[1;33m\u001b[0m\u001b[0m\n\u001b[0m",
      "\u001b[1;31mTypeError\u001b[0m: Bad"
     ]
    }
   ],
   "source": [
    "try:\n",
    "    1 / 0\n",
    "except Exception as E:\n",
    "    raise TypeError('Bad') from E              # Explicitly chained exceptions"
   ]
  },
  {
   "cell_type": "markdown",
   "id": "49e6d1ce",
   "metadata": {},
   "source": [
    "### The assert Statement"
   ]
  },
  {
   "cell_type": "code",
   "execution_count": 21,
   "id": "ab4a316e",
   "metadata": {},
   "outputs": [
    {
     "name": "stdout",
     "output_type": "stream",
     "text": [
      "def f(x):\n",
      "    assert x < 0, 'x must be negative'\n",
      "    return x ** 2\n"
     ]
    }
   ],
   "source": [
    "!cat code/asserter.py"
   ]
  },
  {
   "cell_type": "code",
   "execution_count": 23,
   "id": "6ebf98e7",
   "metadata": {},
   "outputs": [
    {
     "data": {
      "text/plain": [
       "1"
      ]
     },
     "execution_count": 23,
     "metadata": {},
     "output_type": "execute_result"
    }
   ],
   "source": [
    "import asserter\n",
    "asserter.f(-1)"
   ]
  },
  {
   "cell_type": "code",
   "execution_count": 22,
   "id": "f303e2fd",
   "metadata": {},
   "outputs": [
    {
     "ename": "AssertionError",
     "evalue": "x must be negative",
     "output_type": "error",
     "traceback": [
      "\u001b[1;31m---------------------------------------------------------------------------\u001b[0m",
      "\u001b[1;31mAssertionError\u001b[0m                            Traceback (most recent call last)",
      "\u001b[1;32m~\\AppData\\Local\\Temp/ipykernel_17240/4257456816.py\u001b[0m in \u001b[0;36m<module>\u001b[1;34m\u001b[0m\n\u001b[0;32m      1\u001b[0m \u001b[1;32mimport\u001b[0m \u001b[0masserter\u001b[0m\u001b[1;33m\u001b[0m\u001b[1;33m\u001b[0m\u001b[0m\n\u001b[1;32m----> 2\u001b[1;33m \u001b[0masserter\u001b[0m\u001b[1;33m.\u001b[0m\u001b[0mf\u001b[0m\u001b[1;33m(\u001b[0m\u001b[1;36m1\u001b[0m\u001b[1;33m)\u001b[0m\u001b[1;33m\u001b[0m\u001b[1;33m\u001b[0m\u001b[0m\n\u001b[0m",
      "\u001b[1;32mD:\\books\\python\\0. Learning Python\\code\\asserter.py\u001b[0m in \u001b[0;36mf\u001b[1;34m(x)\u001b[0m\n\u001b[0;32m      1\u001b[0m \u001b[1;32mdef\u001b[0m \u001b[0mf\u001b[0m\u001b[1;33m(\u001b[0m\u001b[0mx\u001b[0m\u001b[1;33m)\u001b[0m\u001b[1;33m:\u001b[0m\u001b[1;33m\u001b[0m\u001b[1;33m\u001b[0m\u001b[0m\n\u001b[1;32m----> 2\u001b[1;33m     \u001b[1;32massert\u001b[0m \u001b[0mx\u001b[0m \u001b[1;33m<\u001b[0m \u001b[1;36m0\u001b[0m\u001b[1;33m,\u001b[0m \u001b[1;34m'x must be negative'\u001b[0m\u001b[1;33m\u001b[0m\u001b[1;33m\u001b[0m\u001b[0m\n\u001b[0m\u001b[0;32m      3\u001b[0m     \u001b[1;32mreturn\u001b[0m \u001b[0mx\u001b[0m \u001b[1;33m**\u001b[0m \u001b[1;36m2\u001b[0m\u001b[1;33m\u001b[0m\u001b[1;33m\u001b[0m\u001b[0m\n",
      "\u001b[1;31mAssertionError\u001b[0m: x must be negative"
     ]
    }
   ],
   "source": [
    "import asserter\n",
    "asserter.f(1)"
   ]
  },
  {
   "cell_type": "markdown",
   "id": "95ce855d",
   "metadata": {},
   "source": [
    "### with/as Context Managers"
   ]
  },
  {
   "cell_type": "code",
   "execution_count": 24,
   "id": "24880597",
   "metadata": {},
   "outputs": [
    {
     "name": "stdout",
     "output_type": "stream",
     "text": [
      "class TraceBlock:\n",
      "    def message(self, arg):\n",
      "        print('running ' + arg)\n",
      "    def __enter__(self):\n",
      "        print('starting with block')\n",
      "        return self\n",
      "    def __exit__(self, exc_type, exc_value, exc_tb):\n",
      "        if exc_type is None:\n",
      "            print('exited normally\\n')\n",
      "        else:\n",
      "            print('raise an exception! ' + str(exc_type))\n",
      "            return False    # Propagate\n",
      "\n",
      "if __name__ == '__main__':\n",
      "    with TraceBlock() as action:  \n",
      "        action.message('test 1')\n",
      "        print('reached')\n",
      "\n",
      "    with TraceBlock() as action:\n",
      "        action.message('test 2')\n",
      "        raise TypeError\n",
      "        print('not reached')\n"
     ]
    }
   ],
   "source": [
    "!cat code/withas.py"
   ]
  },
  {
   "cell_type": "code",
   "execution_count": 25,
   "id": "eab517b2",
   "metadata": {},
   "outputs": [
    {
     "name": "stdout",
     "output_type": "stream",
     "text": [
      "starting with block\n",
      "running test 1\n",
      "reached\n",
      "exited normally\n",
      "\n",
      "starting with block\n",
      "running test 2\n",
      "raise an exception! <class 'TypeError'>\n"
     ]
    },
    {
     "name": "stderr",
     "output_type": "stream",
     "text": [
      "Traceback (most recent call last):\n",
      "  File \"code/withas.py\", line 21, in <module>\n",
      "    raise TypeError\n",
      "TypeError\n"
     ]
    }
   ],
   "source": [
    "!python code/withas.py"
   ]
  },
  {
   "cell_type": "code",
   "execution_count": 4,
   "id": "8b06605c",
   "metadata": {},
   "outputs": [
    {
     "name": "stdout",
     "output_type": "stream",
     "text": [
      "('# A first Python script\\n', 'import sys\\n')\n",
      "('import sys                  # Load a library module\\n', 'print(sys.path)\\n')\n",
      "('print(sys.platform)\\n', 'x = 2\\n')\n",
      "('print(2 ** 32)              # Raise 2 to a power\\n', 'print(x ** 32)\\n')\n"
     ]
    }
   ],
   "source": [
    "with open('code/script1.py') as f1, open('code/script2.py') as f2:\n",
    "    for pair in zip(f1, f2):\n",
    "        print(pair)"
   ]
  },
  {
   "cell_type": "markdown",
   "id": "416c90d5",
   "metadata": {},
   "source": [
    "## Chapter 35 Exception Objects"
   ]
  },
  {
   "cell_type": "code",
   "execution_count": 5,
   "id": "0ec8abae",
   "metadata": {},
   "outputs": [
    {
     "ename": "TypeError",
     "evalue": "catching classes that do not inherit from BaseException is not allowed",
     "output_type": "error",
     "traceback": [
      "\u001b[1;31m---------------------------------------------------------------------------\u001b[0m",
      "\u001b[1;31mTypeError\u001b[0m                                 Traceback (most recent call last)",
      "\u001b[1;32m~\\AppData\\Local\\Temp/ipykernel_16976/3318532581.py\u001b[0m in \u001b[0;36m<module>\u001b[1;34m\u001b[0m\n\u001b[0;32m      2\u001b[0m \u001b[1;32mtry\u001b[0m\u001b[1;33m:\u001b[0m\u001b[1;33m\u001b[0m\u001b[1;33m\u001b[0m\u001b[0m\n\u001b[1;32m----> 3\u001b[1;33m     \u001b[1;32mraise\u001b[0m \u001b[0mmyexc\u001b[0m\u001b[1;33m\u001b[0m\u001b[1;33m\u001b[0m\u001b[0m\n\u001b[0m\u001b[0;32m      4\u001b[0m \u001b[1;32mexcept\u001b[0m \u001b[0mmyexc\u001b[0m\u001b[1;33m:\u001b[0m\u001b[1;33m\u001b[0m\u001b[1;33m\u001b[0m\u001b[0m\n",
      "\u001b[1;31mTypeError\u001b[0m: exceptions must derive from BaseException",
      "\nDuring handling of the above exception, another exception occurred:\n",
      "\u001b[1;31mTypeError\u001b[0m                                 Traceback (most recent call last)",
      "\u001b[1;32m~\\AppData\\Local\\Temp/ipykernel_16976/3318532581.py\u001b[0m in \u001b[0;36m<module>\u001b[1;34m\u001b[0m\n\u001b[0;32m      2\u001b[0m \u001b[1;32mtry\u001b[0m\u001b[1;33m:\u001b[0m\u001b[1;33m\u001b[0m\u001b[1;33m\u001b[0m\u001b[0m\n\u001b[0;32m      3\u001b[0m     \u001b[1;32mraise\u001b[0m \u001b[0mmyexc\u001b[0m\u001b[1;33m\u001b[0m\u001b[1;33m\u001b[0m\u001b[0m\n\u001b[1;32m----> 4\u001b[1;33m \u001b[1;32mexcept\u001b[0m \u001b[0mmyexc\u001b[0m\u001b[1;33m:\u001b[0m\u001b[1;33m\u001b[0m\u001b[1;33m\u001b[0m\u001b[0m\n\u001b[0m\u001b[0;32m      5\u001b[0m     \u001b[0mprint\u001b[0m\u001b[1;33m(\u001b[0m\u001b[1;34m'caught'\u001b[0m\u001b[1;33m)\u001b[0m\u001b[1;33m\u001b[0m\u001b[1;33m\u001b[0m\u001b[0m\n",
      "\u001b[1;31mTypeError\u001b[0m: catching classes that do not inherit from BaseException is not allowed"
     ]
    }
   ],
   "source": [
    "myexc = \"My exception string\" # Were we ever this young?...\n",
    "try:\n",
    "    raise myexc\n",
    "except myexc:\n",
    "    print('caught')"
   ]
  },
  {
   "cell_type": "code",
   "execution_count": 6,
   "id": "5d522ac2",
   "metadata": {},
   "outputs": [
    {
     "ename": "TypeError",
     "evalue": "exceptions must derive from BaseException",
     "output_type": "error",
     "traceback": [
      "\u001b[1;31m---------------------------------------------------------------------------\u001b[0m",
      "\u001b[1;31mTypeError\u001b[0m                                 Traceback (most recent call last)",
      "\u001b[1;32m~\\AppData\\Local\\Temp/ipykernel_16976/3742125352.py\u001b[0m in \u001b[0;36m<module>\u001b[1;34m\u001b[0m\n\u001b[1;32m----> 1\u001b[1;33m \u001b[1;32mraise\u001b[0m \u001b[1;34m'spam'\u001b[0m\u001b[1;33m\u001b[0m\u001b[1;33m\u001b[0m\u001b[0m\n\u001b[0m",
      "\u001b[1;31mTypeError\u001b[0m: exceptions must derive from BaseException"
     ]
    }
   ],
   "source": [
    "raise 'spam'"
   ]
  },
  {
   "cell_type": "code",
   "execution_count": 7,
   "id": "c182533d",
   "metadata": {},
   "outputs": [
    {
     "name": "stdout",
     "output_type": "stream",
     "text": [
      "class General(Exception): pass\n",
      "class Specific1(General): pass\n",
      "class Specific2(General): pass\n",
      "\n",
      "def raiser0():\n",
      "    X = General()          # Raise superclass instance\n",
      "    raise X\n",
      "\n",
      "def raiser1():\n",
      "    X = Specific1()        # Raise subclass instance\n",
      "    raise X\n",
      "\n",
      "def raiser2():\n",
      "    X = Specific2()        # Raise different subclass instance\n",
      "    raise X\n",
      "\n",
      "for func in (raiser0, raiser1, raiser2):\n",
      "    try:\n",
      "        func()\n",
      "    except General:        # Match General or any subclass of it\n",
      "        import sys\n",
      "        print('caught: %s' % sys.exc_info()[0])\n"
     ]
    }
   ],
   "source": [
    "!cat code/classexc.py"
   ]
  },
  {
   "cell_type": "code",
   "execution_count": 8,
   "id": "a611160a",
   "metadata": {},
   "outputs": [
    {
     "name": "stdout",
     "output_type": "stream",
     "text": [
      "caught: <class '__main__.General'>\n",
      "caught: <class '__main__.Specific1'>\n",
      "caught: <class '__main__.Specific2'>\n"
     ]
    }
   ],
   "source": [
    "!python code/classexc.py"
   ]
  },
  {
   "cell_type": "code",
   "execution_count": 9,
   "id": "5360f05a",
   "metadata": {},
   "outputs": [
    {
     "name": "stdout",
     "output_type": "stream",
     "text": [
      "class General(Exception): pass\n",
      "class Specific1(General): pass\n",
      "class Specific2(General): pass\n",
      "\n",
      "def raiser0(): raise General()\n",
      "def raiser1(): raise Specific1()\n",
      "def raiser2(): raise Specific2()\n",
      "\n",
      "for func in (raiser0, raiser1, raiser2):\n",
      "    try:\n",
      "        func()\n",
      "    except General as X:                     # X is the raised instance\n",
      "        print('caught: %s' % X.__class__)    # Same as sys.exc_info()[0\n"
     ]
    }
   ],
   "source": [
    "!cat code/classexc2.py"
   ]
  },
  {
   "cell_type": "code",
   "execution_count": 10,
   "id": "62f1e51e",
   "metadata": {},
   "outputs": [
    {
     "name": "stdout",
     "output_type": "stream",
     "text": [
      "caught: <class '__main__.General'>\n",
      "caught: <class '__main__.Specific1'>\n",
      "caught: <class '__main__.Specific2'>\n"
     ]
    }
   ],
   "source": [
    "!python code/classexc2.py"
   ]
  },
  {
   "cell_type": "code",
   "execution_count": 11,
   "id": "0527e3c4",
   "metadata": {},
   "outputs": [
    {
     "name": "stderr",
     "output_type": "stream",
     "text": [
      "cat: code/mathlib.py: No such file or directory\n"
     ]
    }
   ],
   "source": [
    "!cat code/mathlib.py"
   ]
  },
  {
   "cell_type": "code",
   "execution_count": 12,
   "id": "f57138b6",
   "metadata": {},
   "outputs": [
    {
     "ename": "ModuleNotFoundError",
     "evalue": "No module named 'exceptions'",
     "output_type": "error",
     "traceback": [
      "\u001b[1;31m---------------------------------------------------------------------------\u001b[0m",
      "\u001b[1;31mModuleNotFoundError\u001b[0m                       Traceback (most recent call last)",
      "\u001b[1;32m~\\AppData\\Local\\Temp/ipykernel_16976/671144928.py\u001b[0m in \u001b[0;36m<module>\u001b[1;34m\u001b[0m\n\u001b[1;32m----> 1\u001b[1;33m \u001b[1;32mimport\u001b[0m \u001b[0mexceptions\u001b[0m\u001b[1;33m\u001b[0m\u001b[1;33m\u001b[0m\u001b[0m\n\u001b[0m\u001b[0;32m      2\u001b[0m \u001b[0mhelp\u001b[0m\u001b[1;33m(\u001b[0m\u001b[0mexceptions\u001b[0m\u001b[1;33m)\u001b[0m\u001b[1;33m\u001b[0m\u001b[1;33m\u001b[0m\u001b[0m\n",
      "\u001b[1;31mModuleNotFoundError\u001b[0m: No module named 'exceptions'"
     ]
    }
   ],
   "source": [
    "import exceptions\n",
    "help(exceptions)"
   ]
  },
  {
   "cell_type": "code",
   "execution_count": 13,
   "id": "4bfbd1d3",
   "metadata": {},
   "outputs": [
    {
     "name": "stdout",
     "output_type": "stream",
     "text": [
      "No such file\n"
     ]
    }
   ],
   "source": [
    "try:\n",
    "    f = open('nonesuch.txt')\n",
    "except FileNotFoundError:\n",
    "    print('No such file')"
   ]
  },
  {
   "cell_type": "code",
   "execution_count": 14,
   "id": "d9ba57c9",
   "metadata": {},
   "outputs": [
    {
     "ename": "IndexError",
     "evalue": "",
     "output_type": "error",
     "traceback": [
      "\u001b[1;31m---------------------------------------------------------------------------\u001b[0m",
      "\u001b[1;31mIndexError\u001b[0m                                Traceback (most recent call last)",
      "\u001b[1;32m~\\AppData\\Local\\Temp/ipykernel_16976/3102017834.py\u001b[0m in \u001b[0;36m<module>\u001b[1;34m\u001b[0m\n\u001b[1;32m----> 1\u001b[1;33m \u001b[1;32mraise\u001b[0m \u001b[0mIndexError\u001b[0m\u001b[1;33m\u001b[0m\u001b[1;33m\u001b[0m\u001b[0m\n\u001b[0m",
      "\u001b[1;31mIndexError\u001b[0m: "
     ]
    }
   ],
   "source": [
    "raise IndexError # Same as IndexError(): no arguments"
   ]
  },
  {
   "cell_type": "code",
   "execution_count": 15,
   "id": "2525ec54",
   "metadata": {},
   "outputs": [
    {
     "ename": "IndexError",
     "evalue": "spam",
     "output_type": "error",
     "traceback": [
      "\u001b[1;31m---------------------------------------------------------------------------\u001b[0m",
      "\u001b[1;31mIndexError\u001b[0m                                Traceback (most recent call last)",
      "\u001b[1;32m~\\AppData\\Local\\Temp/ipykernel_16976/3952949685.py\u001b[0m in \u001b[0;36m<module>\u001b[1;34m\u001b[0m\n\u001b[1;32m----> 1\u001b[1;33m \u001b[1;32mraise\u001b[0m \u001b[0mIndexError\u001b[0m\u001b[1;33m(\u001b[0m\u001b[1;34m'spam'\u001b[0m\u001b[1;33m)\u001b[0m \u001b[1;31m# Constructor argument attached, printed\u001b[0m\u001b[1;33m\u001b[0m\u001b[1;33m\u001b[0m\u001b[0m\n\u001b[0m",
      "\u001b[1;31mIndexError\u001b[0m: spam"
     ]
    }
   ],
   "source": [
    "raise IndexError('spam') # Constructor argument attached, printed"
   ]
  },
  {
   "cell_type": "code",
   "execution_count": 16,
   "id": "f90be69c",
   "metadata": {},
   "outputs": [
    {
     "data": {
      "text/plain": [
       "('spam',)"
      ]
     },
     "execution_count": 16,
     "metadata": {},
     "output_type": "execute_result"
    }
   ],
   "source": [
    "I = IndexError('spam') # Available in object attribute\n",
    "I.args"
   ]
  },
  {
   "cell_type": "code",
   "execution_count": 17,
   "id": "49efbfbd",
   "metadata": {},
   "outputs": [
    {
     "name": "stdout",
     "output_type": "stream",
     "text": [
      "spam\n"
     ]
    }
   ],
   "source": [
    "print(I) # Displays args when printed manually"
   ]
  },
  {
   "cell_type": "code",
   "execution_count": 18,
   "id": "ade6c8f2",
   "metadata": {},
   "outputs": [
    {
     "ename": "E",
     "evalue": "",
     "output_type": "error",
     "traceback": [
      "\u001b[1;31m---------------------------------------------------------------------------\u001b[0m",
      "\u001b[1;31mE\u001b[0m                                         Traceback (most recent call last)",
      "\u001b[1;32m~\\AppData\\Local\\Temp/ipykernel_16976/3007105715.py\u001b[0m in \u001b[0;36m<module>\u001b[1;34m\u001b[0m\n\u001b[0;32m      1\u001b[0m \u001b[1;32mclass\u001b[0m \u001b[0mE\u001b[0m\u001b[1;33m(\u001b[0m\u001b[0mException\u001b[0m\u001b[1;33m)\u001b[0m\u001b[1;33m:\u001b[0m \u001b[1;32mpass\u001b[0m\u001b[1;33m\u001b[0m\u001b[1;33m\u001b[0m\u001b[0m\n\u001b[1;32m----> 2\u001b[1;33m \u001b[1;32mraise\u001b[0m \u001b[0mE\u001b[0m\u001b[1;33m\u001b[0m\u001b[1;33m\u001b[0m\u001b[0m\n\u001b[0m",
      "\u001b[1;31mE\u001b[0m: "
     ]
    }
   ],
   "source": [
    "class E(Exception): pass\n",
    "raise E"
   ]
  },
  {
   "cell_type": "code",
   "execution_count": 19,
   "id": "ae8a74cf",
   "metadata": {},
   "outputs": [
    {
     "ename": "E",
     "evalue": "spam",
     "output_type": "error",
     "traceback": [
      "\u001b[1;31m---------------------------------------------------------------------------\u001b[0m",
      "\u001b[1;31mE\u001b[0m                                         Traceback (most recent call last)",
      "\u001b[1;32m~\\AppData\\Local\\Temp/ipykernel_16976/3448678978.py\u001b[0m in \u001b[0;36m<module>\u001b[1;34m\u001b[0m\n\u001b[1;32m----> 1\u001b[1;33m \u001b[1;32mraise\u001b[0m \u001b[0mE\u001b[0m\u001b[1;33m(\u001b[0m\u001b[1;34m'spam'\u001b[0m\u001b[1;33m)\u001b[0m\u001b[1;33m\u001b[0m\u001b[1;33m\u001b[0m\u001b[0m\n\u001b[0m",
      "\u001b[1;31mE\u001b[0m: spam"
     ]
    }
   ],
   "source": [
    "raise E('spam')"
   ]
  },
  {
   "cell_type": "code",
   "execution_count": 20,
   "id": "f3862422",
   "metadata": {},
   "outputs": [
    {
     "data": {
      "text/plain": [
       "('spam',)"
      ]
     },
     "execution_count": 20,
     "metadata": {},
     "output_type": "execute_result"
    }
   ],
   "source": [
    "I = E('spam')\n",
    "I.args"
   ]
  },
  {
   "cell_type": "code",
   "execution_count": 21,
   "id": "6d947d6a",
   "metadata": {},
   "outputs": [
    {
     "name": "stdout",
     "output_type": "stream",
     "text": [
      "spam\n"
     ]
    }
   ],
   "source": [
    "print(I)"
   ]
  },
  {
   "cell_type": "code",
   "execution_count": 22,
   "id": "696376ec",
   "metadata": {},
   "outputs": [
    {
     "name": "stdout",
     "output_type": "stream",
     "text": [
      "Sorry--my mistake!\n"
     ]
    }
   ],
   "source": [
    "class MyBad(Exception): pass\n",
    "\n",
    "try:\n",
    "    raise MyBad('Sorry--my mistake!')\n",
    "except MyBad as X:\n",
    "    print(X)"
   ]
  },
  {
   "cell_type": "code",
   "execution_count": 25,
   "id": "d778a674",
   "metadata": {},
   "outputs": [
    {
     "name": "stdout",
     "output_type": "stream",
     "text": [
      "Always look on the bright side of life...\n"
     ]
    }
   ],
   "source": [
    "class MyBad(Exception):\n",
    "    def __str__(self):\n",
    "        return 'Always look on the bright side of life...'\n",
    "\n",
    "try:\n",
    "    raise MyBad()\n",
    "except MyBad as X:\n",
    "    print(X)"
   ]
  },
  {
   "cell_type": "code",
   "execution_count": 23,
   "id": "1767e2a8",
   "metadata": {},
   "outputs": [
    {
     "name": "stdout",
     "output_type": "stream",
     "text": [
      "from __future__ import print_function  # 2.X compatibility\n",
      "\n",
      "class FormatError(Exception):\n",
      "    logfile = 'formaterror.txt'\n",
      "    def __init__(self, line, file):\n",
      "        self.line = line\n",
      "        self.file = file\n",
      "    def logerror(self):\n",
      "        log = open(self.logfile, 'a')\n",
      "        print('Error at:', self.file, self.line, file=log)\n",
      "\n",
      "def parser():\n",
      "    raise FormatError(40, 'spam.txt')\n",
      "\n",
      "if __name__ == '__main__':\n",
      "    try:\n",
      "        parser()\n",
      "    except FormatError as exc:\n",
      "        exc.logerror()\n"
     ]
    }
   ],
   "source": [
    "!cat code/excparse.py"
   ]
  },
  {
   "cell_type": "code",
   "execution_count": 24,
   "id": "39fcd00a",
   "metadata": {},
   "outputs": [],
   "source": [
    "!python code/excparse.py"
   ]
  },
  {
   "cell_type": "markdown",
   "id": "58865662",
   "metadata": {},
   "source": [
    "## Chapter 36. Designing with Exceptions"
   ]
  },
  {
   "cell_type": "code",
   "execution_count": 26,
   "id": "052a2323",
   "metadata": {},
   "outputs": [
    {
     "name": "stdout",
     "output_type": "stream",
     "text": [
      "def action2():\n",
      "    print(1 + [])            # Generate TypeError\n",
      "\n",
      "def action1():\n",
      "    try:\n",
      "        action2()\n",
      "    except TypeError:        # Most recent matching try\n",
      "        print('inner try')\n",
      "\n",
      "try:\n",
      "    action1()\n",
      "except TypeError:            # Here, only if action1 re-raises\n",
      "    print('outer try')\n"
     ]
    }
   ],
   "source": [
    "!cat code/nestexc.py"
   ]
  },
  {
   "cell_type": "code",
   "execution_count": 27,
   "id": "aec74f70",
   "metadata": {},
   "outputs": [
    {
     "name": "stdout",
     "output_type": "stream",
     "text": [
      "inner try\n"
     ]
    }
   ],
   "source": [
    "!python code/nestexc.py"
   ]
  },
  {
   "cell_type": "code",
   "execution_count": 4,
   "id": "8d3fdbc1",
   "metadata": {},
   "outputs": [
    {
     "name": "stdout",
     "output_type": "stream",
     "text": [
      "def raise1():  raise IndexError\n",
      "def noraise(): return\n",
      "def raise2():  raise SyntaxError\n",
      "\n",
      "for func in (raise1, noraise, raise2):\n",
      "    print('<%s>' % func.__name__)\n",
      "    try:\n",
      "        try:\n",
      "            func()\n",
      "        except IndexError:\n",
      "            print('caught IndexError')\n",
      "    finally:\n",
      "        print('finally run')\n",
      "    print('...')\n"
     ]
    }
   ],
   "source": [
    "!cat code/except-finally.py"
   ]
  },
  {
   "cell_type": "code",
   "execution_count": 5,
   "id": "2cedc2e7",
   "metadata": {},
   "outputs": [
    {
     "name": "stdout",
     "output_type": "stream",
     "text": [
      "<raise1>\n",
      "caught IndexError\n",
      "finally run\n",
      "...\n",
      "<noraise>\n",
      "finally run\n",
      "...\n",
      "<raise2>\n",
      "finally run\n"
     ]
    },
    {
     "name": "stderr",
     "output_type": "stream",
     "text": [
      "Traceback (most recent call last):\n",
      "  File \"code/except-finally.py\", line 9, in <module>\n",
      "    func()\n",
      "  File \"code/except-finally.py\", line 3, in raise2\n",
      "    def raise2():  raise SyntaxError\n",
      "SyntaxError: None\n"
     ]
    }
   ],
   "source": [
    "!python code/except-finally.py"
   ]
  },
  {
   "cell_type": "markdown",
   "id": "a5d95255",
   "metadata": {},
   "source": [
    "### Exception Idioms"
   ]
  },
  {
   "cell_type": "code",
   "execution_count": 6,
   "id": "6052d523",
   "metadata": {},
   "outputs": [
    {
     "name": "stdout",
     "output_type": "stream",
     "text": [
      "import traceback\n",
      "\n",
      "def inverse(x):\n",
      "    return 1 / x\n",
      "\n",
      "try:\n",
      "    inverse(0)\n",
      "except Exception:\n",
      "    traceback.print_exc(file=open('badly.exc', 'w'))\n",
      "print('Bye')\n"
     ]
    }
   ],
   "source": [
    "!cat code/badly.py"
   ]
  },
  {
   "cell_type": "code",
   "execution_count": 7,
   "id": "1da5c6a1",
   "metadata": {},
   "outputs": [
    {
     "name": "stdout",
     "output_type": "stream",
     "text": [
      "Bye\n"
     ]
    }
   ],
   "source": [
    "!python code/badly.py"
   ]
  },
  {
   "cell_type": "code",
   "execution_count": 9,
   "id": "722c22f5",
   "metadata": {},
   "outputs": [
    {
     "name": "stdout",
     "output_type": "stream",
     "text": [
      "Traceback (most recent call last):\n",
      "  File \"code/badly.py\", line 7, in <module>\n",
      "    inverse(0)\n",
      "  File \"code/badly.py\", line 4, in inverse\n",
      "    return 1 / x\n",
      "ZeroDivisionError: division by zero\n"
     ]
    }
   ],
   "source": [
    "!type badly.exc"
   ]
  },
  {
   "cell_type": "code",
   "execution_count": 10,
   "id": "a4d1c8b7",
   "metadata": {},
   "outputs": [
    {
     "data": {
      "text/plain": [
       "(None, None, None)"
      ]
     },
     "execution_count": 10,
     "metadata": {},
     "output_type": "execute_result"
    }
   ],
   "source": [
    "sys.exc_info()"
   ]
  },
  {
   "cell_type": "markdown",
   "id": "8f0531ec",
   "metadata": {},
   "source": [
    "### Exception Design Tips and Gotchas"
   ]
  },
  {
   "cell_type": "code",
   "execution_count": 12,
   "id": "53798d16",
   "metadata": {},
   "outputs": [
    {
     "ename": "SystemExit",
     "evalue": "40",
     "output_type": "error",
     "traceback": [
      "An exception has occurred, use %tb to see the full traceback.\n",
      "\u001b[1;31mSystemExit\u001b[0m\u001b[1;31m:\u001b[0m 40\n"
     ]
    }
   ],
   "source": [
    "sys.exit(40) "
   ]
  },
  {
   "cell_type": "code",
   "execution_count": 13,
   "id": "75bb8bbc",
   "metadata": {},
   "outputs": [
    {
     "name": "stdout",
     "output_type": "stream",
     "text": [
      "import sys\n",
      "def bye():\n",
      "    sys.exit(40)                 # Crucial error: abort now!\n",
      "try:\n",
      "    bye()\n",
      "except:\n",
      "    print('got it')              # Oops--we ignored the exit\n",
      "print('continuing...')\n"
     ]
    }
   ],
   "source": [
    "!cat code/exiter.py"
   ]
  },
  {
   "cell_type": "code",
   "execution_count": 14,
   "id": "0c19ddbb",
   "metadata": {},
   "outputs": [
    {
     "name": "stdout",
     "output_type": "stream",
     "text": [
      "got it\n",
      "continuing...\n"
     ]
    }
   ],
   "source": [
    "!python code/exiter.py"
   ]
  },
  {
   "cell_type": "markdown",
   "id": "14b3abc8",
   "metadata": {},
   "source": [
    "You simply might not expect all the kinds of exceptions that could occur during an operation. Using the built-in exception classes of the prior chapter can help in this particular case, because the `Exception` superclass is not a superclass of `SystemExit`:"
   ]
  },
  {
   "cell_type": "code",
   "execution_count": 15,
   "id": "46214735",
   "metadata": {},
   "outputs": [
    {
     "name": "stdout",
     "output_type": "stream",
     "text": [
      "Help on built-in module sys:\n",
      "\n",
      "NAME\n",
      "    sys\n",
      "\n",
      "MODULE REFERENCE\n",
      "    https://docs.python.org/3.8/library/sys\n",
      "    \n",
      "    The following documentation is automatically generated from the Python\n",
      "    source files.  It may be incomplete, incorrect or include features that\n",
      "    are considered implementation detail and may vary between Python\n",
      "    implementations.  When in doubt, consult the module reference at the\n",
      "    location listed above.\n",
      "\n",
      "DESCRIPTION\n",
      "    This module provides access to some objects used or maintained by the\n",
      "    interpreter and to functions that interact strongly with the interpreter.\n",
      "    \n",
      "    Dynamic objects:\n",
      "    \n",
      "    argv -- command line arguments; argv[0] is the script pathname if known\n",
      "    path -- module search path; path[0] is the script directory, else ''\n",
      "    modules -- dictionary of loaded modules\n",
      "    \n",
      "    displayhook -- called to show results in an interactive session\n",
      "    excepthook -- called to handle any uncaught exception other than SystemExit\n",
      "      To customize printing in an interactive session or to install a custom\n",
      "      top-level exception handler, assign other functions to replace these.\n",
      "    \n",
      "    stdin -- standard input file object; used by input()\n",
      "    stdout -- standard output file object; used by print()\n",
      "    stderr -- standard error object; used for error messages\n",
      "      By assigning other file objects (or objects that behave like files)\n",
      "      to these, it is possible to redirect all of the interpreter's I/O.\n",
      "    \n",
      "    last_type -- type of last uncaught exception\n",
      "    last_value -- value of last uncaught exception\n",
      "    last_traceback -- traceback of last uncaught exception\n",
      "      These three are only available in an interactive session after a\n",
      "      traceback has been printed.\n",
      "    \n",
      "    Static objects:\n",
      "    \n",
      "    builtin_module_names -- tuple of module names built into this interpreter\n",
      "    copyright -- copyright notice pertaining to this interpreter\n",
      "    exec_prefix -- prefix used to find the machine-specific Python library\n",
      "    executable -- absolute path of the executable binary of the Python interpreter\n",
      "    float_info -- a named tuple with information about the float implementation.\n",
      "    float_repr_style -- string indicating the style of repr() output for floats\n",
      "    hash_info -- a named tuple with information about the hash algorithm.\n",
      "    hexversion -- version information encoded as a single integer\n",
      "    implementation -- Python implementation information.\n",
      "    int_info -- a named tuple with information about the int implementation.\n",
      "    maxsize -- the largest supported length of containers.\n",
      "    maxunicode -- the value of the largest Unicode code point\n",
      "    platform -- platform identifier\n",
      "    prefix -- prefix used to find the Python library\n",
      "    thread_info -- a named tuple with information about the thread implementation.\n",
      "    version -- the version of this interpreter as a string\n",
      "    version_info -- version information as a named tuple\n",
      "    dllhandle -- [Windows only] integer handle of the Python DLL\n",
      "    winver -- [Windows only] version number of the Python DLL\n",
      "    _enablelegacywindowsfsencoding -- [Windows only]\n",
      "    __stdin__ -- the original stdin; don't touch!\n",
      "    __stdout__ -- the original stdout; don't touch!\n",
      "    __stderr__ -- the original stderr; don't touch!\n",
      "    __displayhook__ -- the original displayhook; don't touch!\n",
      "    __excepthook__ -- the original excepthook; don't touch!\n",
      "    \n",
      "    Functions:\n",
      "    \n",
      "    displayhook() -- print an object to the screen, and save it in builtins._\n",
      "    excepthook() -- print an exception and its traceback to sys.stderr\n",
      "    exc_info() -- return thread-safe information about the current exception\n",
      "    exit() -- exit the interpreter by raising SystemExit\n",
      "    getdlopenflags() -- returns flags to be used for dlopen() calls\n",
      "    getprofile() -- get the global profiling function\n",
      "    getrefcount() -- return the reference count for an object (plus one :-)\n",
      "    getrecursionlimit() -- return the max recursion depth for the interpreter\n",
      "    getsizeof() -- return the size of an object in bytes\n",
      "    gettrace() -- get the global debug tracing function\n",
      "    setcheckinterval() -- control how often the interpreter checks for events\n",
      "    setdlopenflags() -- set the flags to be used for dlopen() calls\n",
      "    setprofile() -- set the global profiling function\n",
      "    setrecursionlimit() -- set the max recursion depth for the interpreter\n",
      "    settrace() -- set the global debug tracing function\n",
      "\n",
      "FUNCTIONS\n",
      "    __breakpointhook__ = breakpointhook(...)\n",
      "        breakpointhook(*args, **kws)\n",
      "        \n",
      "        This hook function is called by built-in breakpoint().\n",
      "    \n",
      "    __displayhook__ = displayhook(object, /)\n",
      "        Print an object to sys.stdout and also save it in builtins._\n",
      "    \n",
      "    __excepthook__ = excepthook(exctype, value, traceback, /)\n",
      "        Handle an exception by displaying it with a traceback on sys.stderr.\n",
      "    \n",
      "    __unraisablehook__ = unraisablehook(unraisable, /)\n",
      "        Handle an unraisable exception.\n",
      "        \n",
      "        The unraisable argument has the following attributes:\n",
      "        \n",
      "        * exc_type: Exception type.\n",
      "        * exc_value: Exception value, can be None.\n",
      "        * exc_traceback: Exception traceback, can be None.\n",
      "        * err_msg: Error message, can be None.\n",
      "        * object: Object causing the exception, can be None.\n",
      "    \n",
      "    addaudithook(hook)\n",
      "        Adds a new audit hook callback.\n",
      "    \n",
      "    audit(...)\n",
      "        audit(event, *args)\n",
      "        \n",
      "        Passes the event to any audit hooks that are attached.\n",
      "    \n",
      "    call_tracing(func, args, /)\n",
      "        Call func(*args), while tracing is enabled.\n",
      "        \n",
      "        The tracing state is saved, and restored afterwards.  This is intended\n",
      "        to be called from a debugger from a checkpoint, to recursively debug\n",
      "        some other code.\n",
      "    \n",
      "    callstats()\n",
      "        Return a tuple of function call statistics.\n",
      "        \n",
      "        A tuple is returned only if CALL_PROFILE was defined when Python was\n",
      "        built.  Otherwise, this returns None.\n",
      "        \n",
      "        When enabled, this function returns detailed, implementation-specific\n",
      "        details about the number of function calls executed. The return value\n",
      "        is a 11-tuple where the entries in the tuple are counts of:\n",
      "        0. all function calls\n",
      "        1. calls to PyFunction_Type objects\n",
      "        2. PyFunction calls that do not create an argument tuple\n",
      "        3. PyFunction calls that do not create an argument tuple\n",
      "           and bypass PyEval_EvalCodeEx()\n",
      "        4. PyMethod calls\n",
      "        5. PyMethod calls on bound methods\n",
      "        6. PyType calls\n",
      "        7. PyCFunction calls\n",
      "        8. generator calls\n",
      "        9. All other calls\n",
      "        10. Number of stack pops performed by call_function()\n",
      "    \n",
      "    exc_info()\n",
      "        Return current exception information: (type, value, traceback).\n",
      "        \n",
      "        Return information about the most recent exception caught by an except\n",
      "        clause in the current stack frame or in an older stack frame.\n",
      "    \n",
      "    exit(status=None, /)\n",
      "        Exit the interpreter by raising SystemExit(status).\n",
      "        \n",
      "        If the status is omitted or None, it defaults to zero (i.e., success).\n",
      "        If the status is an integer, it will be used as the system exit status.\n",
      "        If it is another kind of object, it will be printed and the system\n",
      "        exit status will be one (i.e., failure).\n",
      "    \n",
      "    get_asyncgen_hooks()\n",
      "        Return the installed asynchronous generators hooks.\n",
      "        \n",
      "        This returns a namedtuple of the form (firstiter, finalizer).\n",
      "    \n",
      "    get_coroutine_origin_tracking_depth()\n",
      "        Check status of origin tracking for coroutine objects in this thread.\n",
      "    \n",
      "    getallocatedblocks()\n",
      "        Return the number of memory blocks currently allocated.\n",
      "    \n",
      "    getcheckinterval()\n",
      "        Return the current check interval; see sys.setcheckinterval().\n",
      "    \n",
      "    getdefaultencoding()\n",
      "        Return the current default encoding used by the Unicode implementation.\n",
      "    \n",
      "    getfilesystemencodeerrors()\n",
      "        Return the error mode used Unicode to OS filename conversion.\n",
      "    \n",
      "    getfilesystemencoding()\n",
      "        Return the encoding used to convert Unicode filenames to OS filenames.\n",
      "    \n",
      "    getprofile()\n",
      "        Return the profiling function set with sys.setprofile.\n",
      "        \n",
      "        See the profiler chapter in the library manual.\n",
      "    \n",
      "    getrecursionlimit()\n",
      "        Return the current value of the recursion limit.\n",
      "        \n",
      "        The recursion limit is the maximum depth of the Python interpreter\n",
      "        stack.  This limit prevents infinite recursion from causing an overflow\n",
      "        of the C stack and crashing Python.\n",
      "    \n",
      "    getrefcount(object, /)\n",
      "        Return the reference count of object.\n",
      "        \n",
      "        The count returned is generally one higher than you might expect,\n",
      "        because it includes the (temporary) reference as an argument to\n",
      "        getrefcount().\n",
      "    \n",
      "    getsizeof(...)\n",
      "        getsizeof(object [, default]) -> int\n",
      "        \n",
      "        Return the size of object in bytes.\n",
      "    \n",
      "    getswitchinterval()\n",
      "        Return the current thread switch interval; see sys.setswitchinterval().\n",
      "    \n",
      "    gettrace()\n",
      "        Return the global debug tracing function set with sys.settrace.\n",
      "        \n",
      "        See the debugger chapter in the library manual.\n",
      "    \n",
      "    getwindowsversion()\n",
      "        Return info about the running version of Windows as a named tuple.\n",
      "        \n",
      "        The members are named: major, minor, build, platform, service_pack,\n",
      "        service_pack_major, service_pack_minor, suite_mask, product_type and\n",
      "        platform_version. For backward compatibility, only the first 5 items\n",
      "        are available by indexing. All elements are numbers, except\n",
      "        service_pack and platform_type which are strings, and platform_version\n",
      "        which is a 3-tuple. Platform is always 2. Product_type may be 1 for a\n",
      "        workstation, 2 for a domain controller, 3 for a server.\n",
      "        Platform_version is a 3-tuple containing a version number that is\n",
      "        intended for identifying the OS rather than feature detection.\n",
      "    \n",
      "    intern(string, /)\n",
      "        ``Intern'' the given string.\n",
      "        \n",
      "        This enters the string in the (global) table of interned strings whose\n",
      "        purpose is to speed up dictionary lookups. Return the string itself or\n",
      "        the previously interned string object with the same value.\n",
      "    \n",
      "    is_finalizing()\n",
      "        Return True if Python is exiting.\n",
      "    \n",
      "    set_asyncgen_hooks(...)\n",
      "        set_asyncgen_hooks(* [, firstiter] [, finalizer])\n",
      "        \n",
      "        Set a finalizer for async generators objects.\n",
      "    \n",
      "    set_coroutine_origin_tracking_depth(depth)\n",
      "        Enable or disable origin tracking for coroutine objects in this thread.\n",
      "        \n",
      "        Coroutine objects will track 'depth' frames of traceback information\n",
      "        about where they came from, available in their cr_origin attribute.\n",
      "        \n",
      "        Set a depth of 0 to disable.\n",
      "    \n",
      "    setcheckinterval(n, /)\n",
      "        Set the async event check interval to n instructions.\n",
      "        \n",
      "        This tells the Python interpreter to check for asynchronous events\n",
      "        every n instructions.\n",
      "        \n",
      "        This also affects how often thread switches occur.\n",
      "    \n",
      "    setprofile(...)\n",
      "        setprofile(function)\n",
      "        \n",
      "        Set the profiling function.  It will be called on each function call\n",
      "        and return.  See the profiler chapter in the library manual.\n",
      "    \n",
      "    setrecursionlimit(limit, /)\n",
      "        Set the maximum depth of the Python interpreter stack to n.\n",
      "        \n",
      "        This limit prevents infinite recursion from causing an overflow of the C\n",
      "        stack and crashing Python.  The highest possible limit is platform-\n",
      "        dependent.\n",
      "    \n",
      "    setswitchinterval(interval, /)\n",
      "        Set the ideal thread switching delay inside the Python interpreter.\n",
      "        \n",
      "        The actual frequency of switching threads can be lower if the\n",
      "        interpreter executes long sequences of uninterruptible code\n",
      "        (this is implementation-specific and workload-dependent).\n",
      "        \n",
      "        The parameter must represent the desired switching delay in seconds\n",
      "        A typical value is 0.005 (5 milliseconds).\n",
      "    \n",
      "    settrace(...)\n",
      "        settrace(function)\n",
      "        \n",
      "        Set the global debug tracing function.  It will be called on each\n",
      "        function call.  See the debugger chapter in the library manual.\n",
      "    \n",
      "    unraisablehook(unraisable, /)\n",
      "        Handle an unraisable exception.\n",
      "        \n",
      "        The unraisable argument has the following attributes:\n",
      "        \n",
      "        * exc_type: Exception type.\n",
      "        * exc_value: Exception value, can be None.\n",
      "        * exc_traceback: Exception traceback, can be None.\n",
      "        * err_msg: Error message, can be None.\n",
      "        * object: Object causing the exception, can be None.\n",
      "\n",
      "DATA\n",
      "    __stderr__ = <_io.TextIOWrapper name='<stderr>' mode='w' encoding='utf...\n",
      "    __stdin__ = <_io.TextIOWrapper name='<stdin>' mode='r' encoding='cp125...\n",
      "    __stdout__ = <_io.TextIOWrapper name='<stdout>' mode='w' encoding='utf...\n",
      "    __warningregistry__ = {'version': 228}\n",
      "    api_version = 1013\n",
      "    argv = [r'C:\\Users\\lidan\\miniconda3\\lib\\site-packages\\ipykernel_launch...\n",
      "    base_exec_prefix = r'C:\\Users\\lidan\\miniconda3'\n",
      "    base_prefix = r'C:\\Users\\lidan\\miniconda3'\n",
      "    builtin_module_names = ('_abc', '_ast', '_bisect', '_blake2', '_codecs...\n",
      "    byteorder = 'little'\n",
      "    copyright = 'Copyright (c) 2001-2020 Python Software Foundati...ematis...\n",
      "    displayhook = <ipykernel.displayhook.ZMQShellDisplayHook object>\n",
      "    dllhandle = 140726192046080\n",
      "    dont_write_bytecode = False\n",
      "    exec_prefix = r'C:\\Users\\lidan\\miniconda3'\n",
      "    executable = r'C:\\Users\\lidan\\miniconda3\\python.exe'\n",
      "    flags = sys.flags(debug=0, inspect=0, interactive=0, opt...ation=1, is...\n",
      "    float_info = sys.float_info(max=1.7976931348623157e+308, max_...epsilo...\n",
      "    float_repr_style = 'short'\n",
      "    hash_info = sys.hash_info(width=64, modulus=2305843009213693...iphash2...\n",
      "    hexversion = 50857456\n",
      "    implementation = namespace(cache_tag='cpython-38', hexversion=508...in...\n",
      "    int_info = sys.int_info(bits_per_digit=30, sizeof_digit=4)\n",
      "    last_value = SystemExit(40)\n",
      "    maxsize = 9223372036854775807\n",
      "    maxunicode = 1114111\n",
      "    meta_path = [<class '_frozen_importlib.BuiltinImporter'>, <class '_fro...\n",
      "    modules = {'IPython': <module 'IPython' from 'C:\\\\Users\\\\lidan\\\\minico...\n",
      "    path = [r'D:\\books\\python\\0. Learning Python', r'D:\\books\\python\\0. Le...\n",
      "    path_hooks = [<class 'zipimport.zipimporter'>, <function FileFinder.pa...\n",
      "    path_importer_cache = {r'C:\\Users\\lidan\\.ipython': FileFinder('C:\\\\Use...\n",
      "    platform = 'win32'\n",
      "    prefix = r'C:\\Users\\lidan\\miniconda3'\n",
      "    ps1 = 'In : '\n",
      "    ps2 = '...: '\n",
      "    ps3 = 'Out: '\n",
      "    pycache_prefix = None\n",
      "    stderr = <ipykernel.iostream.OutStream object>\n",
      "    stdin = <_io.TextIOWrapper name='<stdin>' mode='r' encoding='cp1252'>\n",
      "    stdout = <ipykernel.iostream.OutStream object>\n",
      "    thread_info = sys.thread_info(name='nt', lock=None, version=None)\n",
      "    version = '3.8.5 (default, Sep  3 2020, 21:29:08) [MSC v.1916 64 bit (...\n",
      "    version_info = sys.version_info(major=3, minor=8, micro=5, releaseleve...\n",
      "    warnoptions = []\n",
      "    winver = '3.8'\n",
      "\n",
      "FILE\n",
      "    (built-in)\n",
      "\n",
      "\n"
     ]
    }
   ],
   "source": [
    "help(sys)"
   ]
  },
  {
   "cell_type": "code",
   "execution_count": 18,
   "id": "d27fa293",
   "metadata": {},
   "outputs": [
    {
     "name": "stdout",
     "output_type": "stream",
     "text": [
      "Help on module timeit:\n",
      "\n",
      "NAME\n",
      "    timeit - Tool for measuring execution time of small code snippets.\n",
      "\n",
      "MODULE REFERENCE\n",
      "    https://docs.python.org/3.8/library/timeit\n",
      "    \n",
      "    The following documentation is automatically generated from the Python\n",
      "    source files.  It may be incomplete, incorrect or include features that\n",
      "    are considered implementation detail and may vary between Python\n",
      "    implementations.  When in doubt, consult the module reference at the\n",
      "    location listed above.\n",
      "\n",
      "DESCRIPTION\n",
      "    This module avoids a number of common traps for measuring execution\n",
      "    times.  See also Tim Peters' introduction to the Algorithms chapter in\n",
      "    the Python Cookbook, published by O'Reilly.\n",
      "    \n",
      "    Library usage: see the Timer class.\n",
      "    \n",
      "    Command line usage:\n",
      "        python timeit.py [-n N] [-r N] [-s S] [-p] [-h] [--] [statement]\n",
      "    \n",
      "    Options:\n",
      "      -n/--number N: how many times to execute 'statement' (default: see below)\n",
      "      -r/--repeat N: how many times to repeat the timer (default 5)\n",
      "      -s/--setup S: statement to be executed once initially (default 'pass').\n",
      "                    Execution time of this setup statement is NOT timed.\n",
      "      -p/--process: use time.process_time() (default is time.perf_counter())\n",
      "      -v/--verbose: print raw timing results; repeat for more digits precision\n",
      "      -u/--unit: set the output time unit (nsec, usec, msec, or sec)\n",
      "      -h/--help: print this usage message and exit\n",
      "      --: separate options from statement, use when statement starts with -\n",
      "      statement: statement to be timed (default 'pass')\n",
      "    \n",
      "    A multi-line statement may be given by specifying each line as a\n",
      "    separate argument; indented lines are possible by enclosing an\n",
      "    argument in quotes and using leading spaces.  Multiple -s options are\n",
      "    treated similarly.\n",
      "    \n",
      "    If -n is not given, a suitable number of loops is calculated by trying\n",
      "    increasing numbers from the sequence 1, 2, 5, 10, 20, 50, ... until the\n",
      "    total time is at least 0.2 seconds.\n",
      "    \n",
      "    Note: there is a certain baseline overhead associated with executing a\n",
      "    pass statement.  It differs between versions.  The code here doesn't try\n",
      "    to hide it, but you should be aware of it.  The baseline overhead can be\n",
      "    measured by invoking the program without arguments.\n",
      "    \n",
      "    Classes:\n",
      "    \n",
      "        Timer\n",
      "    \n",
      "    Functions:\n",
      "    \n",
      "        timeit(string, string) -> float\n",
      "        repeat(string, string) -> list\n",
      "        default_timer() -> float\n",
      "\n",
      "CLASSES\n",
      "    builtins.object\n",
      "        Timer\n",
      "    \n",
      "    class Timer(builtins.object)\n",
      "     |  Timer(stmt='pass', setup='pass', timer=<built-in function perf_counter>, globals=None)\n",
      "     |  \n",
      "     |  Class for timing execution speed of small code snippets.\n",
      "     |  \n",
      "     |  The constructor takes a statement to be timed, an additional\n",
      "     |  statement used for setup, and a timer function.  Both statements\n",
      "     |  default to 'pass'; the timer function is platform-dependent (see\n",
      "     |  module doc string).  If 'globals' is specified, the code will be\n",
      "     |  executed within that namespace (as opposed to inside timeit's\n",
      "     |  namespace).\n",
      "     |  \n",
      "     |  To measure the execution time of the first statement, use the\n",
      "     |  timeit() method.  The repeat() method is a convenience to call\n",
      "     |  timeit() multiple times and return a list of results.\n",
      "     |  \n",
      "     |  The statements may contain newlines, as long as they don't contain\n",
      "     |  multi-line string literals.\n",
      "     |  \n",
      "     |  Methods defined here:\n",
      "     |  \n",
      "     |  __init__(self, stmt='pass', setup='pass', timer=<built-in function perf_counter>, globals=None)\n",
      "     |      Constructor.  See class doc string.\n",
      "     |  \n",
      "     |  autorange(self, callback=None)\n",
      "     |      Return the number of loops and time taken so that total time >= 0.2.\n",
      "     |      \n",
      "     |      Calls the timeit method with increasing numbers from the sequence\n",
      "     |      1, 2, 5, 10, 20, 50, ... until the time taken is at least 0.2\n",
      "     |      second.  Returns (number, time_taken).\n",
      "     |      \n",
      "     |      If *callback* is given and is not None, it will be called after\n",
      "     |      each trial with two arguments: ``callback(number, time_taken)``.\n",
      "     |  \n",
      "     |  print_exc(self, file=None)\n",
      "     |      Helper to print a traceback from the timed code.\n",
      "     |      \n",
      "     |      Typical use:\n",
      "     |      \n",
      "     |          t = Timer(...)       # outside the try/except\n",
      "     |          try:\n",
      "     |              t.timeit(...)    # or t.repeat(...)\n",
      "     |          except:\n",
      "     |              t.print_exc()\n",
      "     |      \n",
      "     |      The advantage over the standard traceback is that source lines\n",
      "     |      in the compiled template will be displayed.\n",
      "     |      \n",
      "     |      The optional file argument directs where the traceback is\n",
      "     |      sent; it defaults to sys.stderr.\n",
      "     |  \n",
      "     |  repeat(self, repeat=5, number=1000000)\n",
      "     |      Call timeit() a few times.\n",
      "     |      \n",
      "     |      This is a convenience function that calls the timeit()\n",
      "     |      repeatedly, returning a list of results.  The first argument\n",
      "     |      specifies how many times to call timeit(), defaulting to 5;\n",
      "     |      the second argument specifies the timer argument, defaulting\n",
      "     |      to one million.\n",
      "     |      \n",
      "     |      Note: it's tempting to calculate mean and standard deviation\n",
      "     |      from the result vector and report these.  However, this is not\n",
      "     |      very useful.  In a typical case, the lowest value gives a\n",
      "     |      lower bound for how fast your machine can run the given code\n",
      "     |      snippet; higher values in the result vector are typically not\n",
      "     |      caused by variability in Python's speed, but by other\n",
      "     |      processes interfering with your timing accuracy.  So the min()\n",
      "     |      of the result is probably the only number you should be\n",
      "     |      interested in.  After that, you should look at the entire\n",
      "     |      vector and apply common sense rather than statistics.\n",
      "     |  \n",
      "     |  timeit(self, number=1000000)\n",
      "     |      Time 'number' executions of the main statement.\n",
      "     |      \n",
      "     |      To be precise, this executes the setup statement once, and\n",
      "     |      then returns the time it takes to execute the main statement\n",
      "     |      a number of times, as a float measured in seconds.  The\n",
      "     |      argument is the number of times through the loop, defaulting\n",
      "     |      to one million.  The main statement, the setup statement and\n",
      "     |      the timer function to be used are passed to the constructor.\n",
      "     |  \n",
      "     |  ----------------------------------------------------------------------\n",
      "     |  Data descriptors defined here:\n",
      "     |  \n",
      "     |  __dict__\n",
      "     |      dictionary for instance variables (if defined)\n",
      "     |  \n",
      "     |  __weakref__\n",
      "     |      list of weak references to the object (if defined)\n",
      "\n",
      "FUNCTIONS\n",
      "    default_timer = perf_counter(...)\n",
      "        perf_counter() -> float\n",
      "        \n",
      "        Performance counter for benchmarking.\n",
      "    \n",
      "    repeat(stmt='pass', setup='pass', timer=<built-in function perf_counter>, repeat=5, number=1000000, globals=None)\n",
      "        Convenience function to create Timer object and call repeat method.\n",
      "    \n",
      "    timeit(stmt='pass', setup='pass', timer=<built-in function perf_counter>, number=1000000, globals=None)\n",
      "        Convenience function to create Timer object and call timeit method.\n",
      "\n",
      "DATA\n",
      "    __all__ = ['Timer', 'timeit', 'repeat', 'default_timer']\n",
      "\n",
      "FILE\n",
      "    c:\\users\\lidan\\miniconda3\\lib\\timeit.py\n",
      "\n",
      "\n"
     ]
    }
   ],
   "source": [
    "import timeit\n",
    "help(timeit)"
   ]
  },
  {
   "cell_type": "code",
   "execution_count": 19,
   "id": "58c4b262",
   "metadata": {},
   "outputs": [
    {
     "name": "stdout",
     "output_type": "stream",
     "text": [
      "Help on module profile:\n",
      "\n",
      "NAME\n",
      "    profile - Class for profiling Python code.\n",
      "\n",
      "MODULE REFERENCE\n",
      "    https://docs.python.org/3.8/library/profile\n",
      "    \n",
      "    The following documentation is automatically generated from the Python\n",
      "    source files.  It may be incomplete, incorrect or include features that\n",
      "    are considered implementation detail and may vary between Python\n",
      "    implementations.  When in doubt, consult the module reference at the\n",
      "    location listed above.\n",
      "\n",
      "CLASSES\n",
      "    builtins.object\n",
      "        Profile\n",
      "    \n",
      "    class Profile(builtins.object)\n",
      "     |  Profile(timer=None, bias=None)\n",
      "     |  \n",
      "     |  Profiler class.\n",
      "     |  \n",
      "     |  self.cur is always a tuple.  Each such tuple corresponds to a stack\n",
      "     |  frame that is currently active (self.cur[-2]).  The following are the\n",
      "     |  definitions of its members.  We use this external \"parallel stack\" to\n",
      "     |  avoid contaminating the program that we are profiling. (old profiler\n",
      "     |  used to write into the frames local dictionary!!) Derived classes\n",
      "     |  can change the definition of some entries, as long as they leave\n",
      "     |  [-2:] intact (frame and previous tuple).  In case an internal error is\n",
      "     |  detected, the -3 element is used as the function name.\n",
      "     |  \n",
      "     |  [ 0] = Time that needs to be charged to the parent frame's function.\n",
      "     |         It is used so that a function call will not have to access the\n",
      "     |         timing data for the parent frame.\n",
      "     |  [ 1] = Total time spent in this frame's function, excluding time in\n",
      "     |         subfunctions (this latter is tallied in cur[2]).\n",
      "     |  [ 2] = Total time spent in subfunctions, excluding time executing the\n",
      "     |         frame's function (this latter is tallied in cur[1]).\n",
      "     |  [-3] = Name of the function that corresponds to this frame.\n",
      "     |  [-2] = Actual frame that we correspond to (used to sync exception handling).\n",
      "     |  [-1] = Our parent 6-tuple (corresponds to frame.f_back).\n",
      "     |  \n",
      "     |  Timing data for each function is stored as a 5-tuple in the dictionary\n",
      "     |  self.timings[].  The index is always the name stored in self.cur[-3].\n",
      "     |  The following are the definitions of the members:\n",
      "     |  \n",
      "     |  [0] = The number of times this function was called, not counting direct\n",
      "     |        or indirect recursion,\n",
      "     |  [1] = Number of times this function appears on the stack, minus one\n",
      "     |  [2] = Total time spent internal to this function\n",
      "     |  [3] = Cumulative time that this function was present on the stack.  In\n",
      "     |        non-recursive functions, this is the total execution time from start\n",
      "     |        to finish of each invocation of a function, including time spent in\n",
      "     |        all subfunctions.\n",
      "     |  [4] = A dictionary indicating for each function name, the number of times\n",
      "     |        it was called by us.\n",
      "     |  \n",
      "     |  Methods defined here:\n",
      "     |  \n",
      "     |  __init__(self, timer=None, bias=None)\n",
      "     |      Initialize self.  See help(type(self)) for accurate signature.\n",
      "     |  \n",
      "     |  calibrate(self, m, verbose=0)\n",
      "     |  \n",
      "     |  create_stats(self)\n",
      "     |  \n",
      "     |  dump_stats(self, file)\n",
      "     |  \n",
      "     |  print_stats(self, sort=-1)\n",
      "     |  \n",
      "     |  run(self, cmd)\n",
      "     |  \n",
      "     |  runcall(self, func, /, *args, **kw)\n",
      "     |      # This method is more useful to profile a single function call.\n",
      "     |  \n",
      "     |  runctx(self, cmd, globals, locals)\n",
      "     |  \n",
      "     |  set_cmd(self, cmd)\n",
      "     |  \n",
      "     |  simulate_call(self, name)\n",
      "     |  \n",
      "     |  simulate_cmd_complete(self)\n",
      "     |  \n",
      "     |  snapshot_stats(self)\n",
      "     |  \n",
      "     |  trace_dispatch(self, frame, event, arg)\n",
      "     |  \n",
      "     |  trace_dispatch_c_call(self, frame, t)\n",
      "     |  \n",
      "     |  trace_dispatch_call(self, frame, t)\n",
      "     |  \n",
      "     |  trace_dispatch_exception(self, frame, t)\n",
      "     |  \n",
      "     |  trace_dispatch_i(self, frame, event, arg)\n",
      "     |  \n",
      "     |  trace_dispatch_l(self, frame, event, arg)\n",
      "     |  \n",
      "     |  trace_dispatch_mac(self, frame, event, arg)\n",
      "     |  \n",
      "     |  trace_dispatch_return(self, frame, t)\n",
      "     |  \n",
      "     |  ----------------------------------------------------------------------\n",
      "     |  Data descriptors defined here:\n",
      "     |  \n",
      "     |  __dict__\n",
      "     |      dictionary for instance variables (if defined)\n",
      "     |  \n",
      "     |  __weakref__\n",
      "     |      list of weak references to the object (if defined)\n",
      "     |  \n",
      "     |  ----------------------------------------------------------------------\n",
      "     |  Data and other attributes defined here:\n",
      "     |  \n",
      "     |  bias = 0\n",
      "     |  \n",
      "     |  dispatch = {'c_call': <function Profile.trace_dispatch_c_call>, 'c_exc...\n",
      "     |  \n",
      "     |  fake_code = <class 'profile.Profile.fake_code'>\n",
      "     |  \n",
      "     |  \n",
      "     |  fake_frame = <class 'profile.Profile.fake_frame'>\n",
      "\n",
      "FUNCTIONS\n",
      "    run(statement, filename=None, sort=-1)\n",
      "        Run statement under profiler optionally saving results in filename\n",
      "        \n",
      "        This function takes a single argument that can be passed to the\n",
      "        \"exec\" statement, and an optional file name.  In all cases this\n",
      "        routine attempts to \"exec\" its first argument and gather profiling\n",
      "        statistics from the execution. If no file name is present, then this\n",
      "        function automatically prints a simple profiling report, sorted by the\n",
      "        standard name string (file/line/function-name) that is presented in\n",
      "        each line.\n",
      "    \n",
      "    runctx(statement, globals, locals, filename=None, sort=-1)\n",
      "        Run statement under profiler, supplying your own globals and locals,\n",
      "        optionally saving results in filename.\n",
      "        \n",
      "        statement and filename have the same semantics as profile.run\n",
      "\n",
      "DATA\n",
      "    __all__ = ['run', 'runctx', 'Profile']\n",
      "\n",
      "FILE\n",
      "    c:\\users\\lidan\\miniconda3\\lib\\profile.py\n",
      "\n",
      "\n"
     ]
    }
   ],
   "source": [
    "import profile\n",
    "help(profile)"
   ]
  },
  {
   "cell_type": "markdown",
   "id": "68e8a127",
   "metadata": {},
   "source": [
    "## Chapter 37. Unicode and Byte Strings"
   ]
  },
  {
   "cell_type": "code",
   "execution_count": 21,
   "id": "aae341c6",
   "metadata": {},
   "outputs": [
    {
     "data": {
      "text/plain": [
       "'a'"
      ]
     },
     "execution_count": 21,
     "metadata": {},
     "output_type": "execute_result"
    }
   ],
   "source": [
    "chr(97)"
   ]
  },
  {
   "cell_type": "code",
   "execution_count": 22,
   "id": "dd37b5b2",
   "metadata": {},
   "outputs": [
    {
     "data": {
      "text/plain": [
       "97"
      ]
     },
     "execution_count": 22,
     "metadata": {},
     "output_type": "execute_result"
    }
   ],
   "source": [
    "ord('a')"
   ]
  },
  {
   "cell_type": "code",
   "execution_count": 23,
   "id": "d2119dfe",
   "metadata": {},
   "outputs": [
    {
     "data": {
      "text/plain": [
       "'0x61'"
      ]
     },
     "execution_count": 23,
     "metadata": {},
     "output_type": "execute_result"
    }
   ],
   "source": [
    "hex(97)"
   ]
  },
  {
   "cell_type": "code",
   "execution_count": 5,
   "id": "cb901ae5",
   "metadata": {},
   "outputs": [
    {
     "data": {
      "text/plain": [
       "'Ä'"
      ]
     },
     "execution_count": 5,
     "metadata": {},
     "output_type": "execute_result"
    }
   ],
   "source": [
    "chr(196)"
   ]
  },
  {
   "cell_type": "code",
   "execution_count": 6,
   "id": "d5f55017",
   "metadata": {},
   "outputs": [
    {
     "data": {
      "text/plain": [
       "(b'ni', b'ni', b'ni')"
      ]
     },
     "execution_count": 6,
     "metadata": {},
     "output_type": "execute_result"
    }
   ],
   "source": [
    "S = 'ni'\n",
    "S.encode('ascii'), S.encode('latin1'), S.encode('utf8')"
   ]
  },
  {
   "cell_type": "code",
   "execution_count": 9,
   "id": "51a49106",
   "metadata": {},
   "outputs": [
    {
     "data": {
      "text/plain": [
       "2"
      ]
     },
     "execution_count": 9,
     "metadata": {},
     "output_type": "execute_result"
    }
   ],
   "source": [
    "len(S.encode('utf8'))"
   ]
  },
  {
   "cell_type": "code",
   "execution_count": 7,
   "id": "9f7c7dcc",
   "metadata": {},
   "outputs": [
    {
     "data": {
      "text/plain": [
       "(b'\\xff\\xfen\\x00i\\x00', 6)"
      ]
     },
     "execution_count": 7,
     "metadata": {},
     "output_type": "execute_result"
    }
   ],
   "source": [
    "S.encode('utf16'), len(S.encode('utf16'))"
   ]
  },
  {
   "cell_type": "code",
   "execution_count": 8,
   "id": "29ab8ba7",
   "metadata": {},
   "outputs": [
    {
     "data": {
      "text/plain": [
       "(b'\\xff\\xfe\\x00\\x00n\\x00\\x00\\x00i\\x00\\x00\\x00', 12)"
      ]
     },
     "execution_count": 8,
     "metadata": {},
     "output_type": "execute_result"
    }
   ],
   "source": [
    "S.encode('utf32'), len(S.encode('utf32'))"
   ]
  },
  {
   "cell_type": "code",
   "execution_count": 4,
   "id": "7e4c8ef7",
   "metadata": {},
   "outputs": [
    {
     "data": {
      "text/plain": [
       "b'\\xc4\\xe8'"
      ]
     },
     "execution_count": 4,
     "metadata": {},
     "output_type": "execute_result"
    }
   ],
   "source": [
    "B = b'\\xc4\\xe8'                  # Text encoded per Latin-1\n",
    "B"
   ]
  },
  {
   "cell_type": "code",
   "execution_count": 5,
   "id": "4e75401d",
   "metadata": {},
   "outputs": [
    {
     "data": {
      "text/plain": [
       "2"
      ]
     },
     "execution_count": 5,
     "metadata": {},
     "output_type": "execute_result"
    }
   ],
   "source": [
    "len(B)                           # 2 raw bytes, two encoded characters"
   ]
  },
  {
   "cell_type": "code",
   "execution_count": 6,
   "id": "5763ed1f",
   "metadata": {},
   "outputs": [
    {
     "data": {
      "text/plain": [
       "'Äè'"
      ]
     },
     "execution_count": 6,
     "metadata": {},
     "output_type": "execute_result"
    }
   ],
   "source": [
    "B.decode('latin-1')              # Decode to text per Latin-1"
   ]
  },
  {
   "cell_type": "code",
   "execution_count": 7,
   "id": "8016bacd",
   "metadata": {},
   "outputs": [
    {
     "data": {
      "text/plain": [
       "'Äè'"
      ]
     },
     "execution_count": 7,
     "metadata": {},
     "output_type": "execute_result"
    }
   ],
   "source": [
    "B.decode('latin1')              # Decode to text per Latin-1"
   ]
  },
  {
   "cell_type": "code",
   "execution_count": 8,
   "id": "d986a664",
   "metadata": {},
   "outputs": [
    {
     "data": {
      "text/plain": [
       "4"
      ]
     },
     "execution_count": 8,
     "metadata": {},
     "output_type": "execute_result"
    }
   ],
   "source": [
    "B = b'\\xc3\\x84\\xc3\\xa8'          # Text encoded per UTF-8\n",
    "len(B)                           # 4 raw bytes, two encoded characters"
   ]
  },
  {
   "cell_type": "code",
   "execution_count": 9,
   "id": "1eae305f",
   "metadata": {},
   "outputs": [
    {
     "data": {
      "text/plain": [
       "'Äè'"
      ]
     },
     "execution_count": 9,
     "metadata": {},
     "output_type": "execute_result"
    }
   ],
   "source": [
    "B.decode('utf8')                # Decode to text per UTF-8"
   ]
  },
  {
   "cell_type": "code",
   "execution_count": 15,
   "id": "20264f79",
   "metadata": {},
   "outputs": [
    {
     "data": {
      "text/plain": [
       "b'\\xff\\xfe\\xc4\\x00\\xe8\\x00'"
      ]
     },
     "execution_count": 15,
     "metadata": {},
     "output_type": "execute_result"
    }
   ],
   "source": [
    "'Äè'.encode('utf16')            "
   ]
  },
  {
   "cell_type": "code",
   "execution_count": 19,
   "id": "62b588c7",
   "metadata": {},
   "outputs": [
    {
     "data": {
      "text/plain": [
       "b'A'"
      ]
     },
     "execution_count": 19,
     "metadata": {},
     "output_type": "execute_result"
    }
   ],
   "source": [
    "'A'.encode('utf-8')  "
   ]
  },
  {
   "cell_type": "code",
   "execution_count": 21,
   "id": "c308b0cc",
   "metadata": {},
   "outputs": [
    {
     "data": {
      "text/plain": [
       "b'\\xff\\xfe\\xc4\\x00'"
      ]
     },
     "execution_count": 21,
     "metadata": {},
     "output_type": "execute_result"
    }
   ],
   "source": [
    "'Ä'.encode('utf-16')   "
   ]
  },
  {
   "cell_type": "code",
   "execution_count": 23,
   "id": "e3f18784",
   "metadata": {},
   "outputs": [
    {
     "data": {
      "text/plain": [
       "b'\\xff\\xfea\\x00b\\x00'"
      ]
     },
     "execution_count": 23,
     "metadata": {},
     "output_type": "execute_result"
    }
   ],
   "source": [
    "'ab'.encode('utf-16')  "
   ]
  },
  {
   "cell_type": "code",
   "execution_count": 29,
   "id": "2273a61a",
   "metadata": {},
   "outputs": [
    {
     "data": {
      "text/plain": [
       "b'\\xc4\\xe8'"
      ]
     },
     "execution_count": 29,
     "metadata": {},
     "output_type": "execute_result"
    }
   ],
   "source": [
    "'Äè'.encode('latin1')"
   ]
  },
  {
   "cell_type": "code",
   "execution_count": 28,
   "id": "6ec8d013",
   "metadata": {},
   "outputs": [
    {
     "data": {
      "text/plain": [
       "b'\\xc3\\x84\\xc3\\xa8'"
      ]
     },
     "execution_count": 28,
     "metadata": {},
     "output_type": "execute_result"
    }
   ],
   "source": [
    "'Äè'.encode('utf-8')"
   ]
  },
  {
   "cell_type": "code",
   "execution_count": 36,
   "id": "fff16bf2",
   "metadata": {},
   "outputs": [
    {
     "data": {
      "text/plain": [
       "'Äè'"
      ]
     },
     "execution_count": 36,
     "metadata": {},
     "output_type": "execute_result"
    }
   ],
   "source": [
    "b'\\xc3\\x84\\xc3\\xa8'.decode('utf8')"
   ]
  },
  {
   "cell_type": "code",
   "execution_count": 35,
   "id": "cf0ca2b2",
   "metadata": {},
   "outputs": [
    {
     "data": {
      "text/plain": [
       "'Ã\\x84Ã¨'"
      ]
     },
     "execution_count": 35,
     "metadata": {},
     "output_type": "execute_result"
    }
   ],
   "source": [
    "b'\\xc3\\x84\\xc3\\xa8'.decode('latin1')"
   ]
  },
  {
   "cell_type": "code",
   "execution_count": 34,
   "id": "943cb471",
   "metadata": {},
   "outputs": [
    {
     "data": {
      "text/plain": [
       "b'ab'"
      ]
     },
     "execution_count": 34,
     "metadata": {},
     "output_type": "execute_result"
    }
   ],
   "source": [
    "'ab'.encode('utf-8')"
   ]
  },
  {
   "cell_type": "code",
   "execution_count": 33,
   "id": "0d845c04",
   "metadata": {},
   "outputs": [
    {
     "data": {
      "text/plain": [
       "2"
      ]
     },
     "execution_count": 33,
     "metadata": {},
     "output_type": "execute_result"
    }
   ],
   "source": [
    "len('ab'.encode('utf-8'))"
   ]
  },
  {
   "cell_type": "code",
   "execution_count": 32,
   "id": "bd3fe122",
   "metadata": {},
   "outputs": [
    {
     "data": {
      "text/plain": [
       "4"
      ]
     },
     "execution_count": 32,
     "metadata": {},
     "output_type": "execute_result"
    }
   ],
   "source": [
    "len('Äè'.encode('utf-8'))"
   ]
  },
  {
   "cell_type": "code",
   "execution_count": 31,
   "id": "ab4b7c5e",
   "metadata": {},
   "outputs": [
    {
     "data": {
      "text/plain": [
       "6"
      ]
     },
     "execution_count": 31,
     "metadata": {},
     "output_type": "execute_result"
    }
   ],
   "source": [
    "len('Äè'.encode('utf-16'))"
   ]
  },
  {
   "cell_type": "code",
   "execution_count": 22,
   "id": "c069feff",
   "metadata": {},
   "outputs": [
    {
     "data": {
      "text/plain": [
       "b'\\xff\\xfe\\xc4\\x00\\xe8\\x00'"
      ]
     },
     "execution_count": 22,
     "metadata": {},
     "output_type": "execute_result"
    }
   ],
   "source": [
    "'Äè'.encode('utf-16')   "
   ]
  },
  {
   "cell_type": "code",
   "execution_count": 25,
   "id": "b675e8f9",
   "metadata": {},
   "outputs": [
    {
     "data": {
      "text/plain": [
       "6"
      ]
     },
     "execution_count": 25,
     "metadata": {},
     "output_type": "execute_result"
    }
   ],
   "source": [
    "len('Äè'.encode('utf-16'))"
   ]
  },
  {
   "cell_type": "code",
   "execution_count": 26,
   "id": "5e0c293b",
   "metadata": {},
   "outputs": [
    {
     "data": {
      "text/plain": [
       "b'\\xff\\xfe\\x00\\x00\\xc4\\x00\\x00\\x00\\xe8\\x00\\x00\\x00'"
      ]
     },
     "execution_count": 26,
     "metadata": {},
     "output_type": "execute_result"
    }
   ],
   "source": [
    "'Äè'.encode('utf-32')   "
   ]
  },
  {
   "cell_type": "code",
   "execution_count": 27,
   "id": "03cc087c",
   "metadata": {},
   "outputs": [
    {
     "data": {
      "text/plain": [
       "12"
      ]
     },
     "execution_count": 27,
     "metadata": {},
     "output_type": "execute_result"
    }
   ],
   "source": [
    "len('Äè'.encode('utf-32'))"
   ]
  },
  {
   "cell_type": "code",
   "execution_count": 17,
   "id": "bd9de4a6",
   "metadata": {},
   "outputs": [
    {
     "data": {
      "text/plain": [
       "4"
      ]
     },
     "execution_count": 17,
     "metadata": {},
     "output_type": "execute_result"
    }
   ],
   "source": [
    "len('A'.encode('utf16'))"
   ]
  },
  {
   "cell_type": "code",
   "execution_count": 11,
   "id": "44a69e77",
   "metadata": {},
   "outputs": [
    {
     "data": {
      "text/plain": [
       "2"
      ]
     },
     "execution_count": 11,
     "metadata": {},
     "output_type": "execute_result"
    }
   ],
   "source": [
    "len(B.decode('utf8'))           # Two Unicode characters in memory"
   ]
  },
  {
   "cell_type": "code",
   "execution_count": 12,
   "id": "e0f373ad",
   "metadata": {},
   "outputs": [
    {
     "data": {
      "text/plain": [
       "2"
      ]
     },
     "execution_count": 12,
     "metadata": {},
     "output_type": "execute_result"
    }
   ],
   "source": [
    "len(B.decode('utf16'))           # Two Unicode characters in memory"
   ]
  },
  {
   "cell_type": "code",
   "execution_count": 39,
   "id": "1d35e4b0",
   "metadata": {},
   "outputs": [
    {
     "name": "stdout",
     "output_type": "stream",
     "text": [
      "Default encoding: utf-8\n"
     ]
    }
   ],
   "source": [
    "import sys\n",
    "print('Default encoding:', sys.getdefaultencoding())"
   ]
  },
  {
   "cell_type": "code",
   "execution_count": 37,
   "id": "14bbcb2f",
   "metadata": {},
   "outputs": [
    {
     "name": "stdout",
     "output_type": "stream",
     "text": [
      "# -*- coding: latin-1 -*-\n",
      "# Any of the following string literal forms work in latin-1.\n",
      "# Changing the encoding above to either ascii or utf-8 fails,\n",
      "# because the 0xc4 and 0xe8 in myStr1 are not valid in either.\n",
      "\n",
      "myStr1 = 'aÄBèC'\n",
      "\n",
      "myStr2 = 'A\\u00c4B\\U000000e8C'\n",
      "\n",
      "myStr3 = 'A' + chr(0xC4) + 'B' + chr(0xE8) + 'C'\n",
      "\n",
      "import sys\n",
      "print('Default encoding:', sys.getdefaultencoding())\n",
      "\n",
      "for aStr in myStr1, myStr2, myStr3:\n",
      "    print('{0}, strlen={1}, '.format(aStr, len(aStr)), end='')\n",
      "\n",
      "    bytes1 = aStr.encode()              # Per default utf-8: 2 bytes for non-ASCII\n",
      "    bytes2 = aStr.encode('latin-1')     # One byte per char\n",
      "   #bytes3 = aStr.encode('ascii')       # ASCII fails: outside 0..127 range\n",
      "\n",
      "    print('byteslen1={0}, byteslen2={1}'.format(len(bytes1), len(bytes2)))\n"
     ]
    }
   ],
   "source": [
    "!cat code/text.py"
   ]
  },
  {
   "cell_type": "code",
   "execution_count": 38,
   "id": "03c6617a",
   "metadata": {},
   "outputs": [
    {
     "name": "stdout",
     "output_type": "stream",
     "text": [
      "Default encoding: utf-8\n",
      "aÄBèC, strlen=5, byteslen1=7, byteslen2=5\n",
      "AÄBèC, strlen=5, byteslen1=7, byteslen2=5\n",
      "AÄBèC, strlen=5, byteslen1=7, byteslen2=5\n"
     ]
    }
   ],
   "source": [
    "!python code/text.py"
   ]
  },
  {
   "cell_type": "markdown",
   "id": "d931dceb",
   "metadata": {},
   "source": [
    "### Using Unicode Files"
   ]
  },
  {
   "cell_type": "code",
   "execution_count": 4,
   "id": "f25aa0af",
   "metadata": {},
   "outputs": [
    {
     "data": {
      "text/plain": [
       "'AÄBèC'"
      ]
     },
     "execution_count": 4,
     "metadata": {},
     "output_type": "execute_result"
    }
   ],
   "source": [
    "S = 'A\\xc4B\\xe8C'           # Five-character decoded string, non-ASCII\n",
    "S"
   ]
  },
  {
   "cell_type": "code",
   "execution_count": 5,
   "id": "6918c6f0",
   "metadata": {},
   "outputs": [
    {
     "data": {
      "text/plain": [
       "5"
      ]
     },
     "execution_count": 5,
     "metadata": {},
     "output_type": "execute_result"
    }
   ],
   "source": [
    "len(S)"
   ]
  },
  {
   "cell_type": "code",
   "execution_count": 6,
   "id": "9b1421e2",
   "metadata": {},
   "outputs": [
    {
     "data": {
      "text/plain": [
       "b'A\\xc4B\\xe8C'"
      ]
     },
     "execution_count": 6,
     "metadata": {},
     "output_type": "execute_result"
    }
   ],
   "source": [
    "L = S.encode('latin-1')     # 5 bytes when encoded as latin-1\n",
    "L"
   ]
  },
  {
   "cell_type": "code",
   "execution_count": 7,
   "id": "4c72929e",
   "metadata": {},
   "outputs": [
    {
     "data": {
      "text/plain": [
       "5"
      ]
     },
     "execution_count": 7,
     "metadata": {},
     "output_type": "execute_result"
    }
   ],
   "source": [
    "len(L)"
   ]
  },
  {
   "cell_type": "code",
   "execution_count": 8,
   "id": "9865bf3b",
   "metadata": {},
   "outputs": [
    {
     "data": {
      "text/plain": [
       "b'A\\xc3\\x84B\\xc3\\xa8C'"
      ]
     },
     "execution_count": 8,
     "metadata": {},
     "output_type": "execute_result"
    }
   ],
   "source": [
    "U = S.encode('utf-8')       # 7 bytes when encoded as utf-8\n",
    "U"
   ]
  },
  {
   "cell_type": "code",
   "execution_count": 10,
   "id": "f10aa592",
   "metadata": {},
   "outputs": [
    {
     "data": {
      "text/plain": [
       "7"
      ]
     },
     "execution_count": 10,
     "metadata": {},
     "output_type": "execute_result"
    }
   ],
   "source": [
    "len(U)"
   ]
  },
  {
   "cell_type": "code",
   "execution_count": 12,
   "id": "9cf07021",
   "metadata": {},
   "outputs": [
    {
     "data": {
      "text/plain": [
       "('AÄBèC', 'AÃ\\x84BÃ¨C')"
      ]
     },
     "execution_count": 12,
     "metadata": {},
     "output_type": "execute_result"
    }
   ],
   "source": [
    "b'A\\xc3\\x84B\\xc3\\xa8C'.decode('utf-8'), b'A\\xc3\\x84B\\xc3\\xa8C'.decode('latin-1')"
   ]
  },
  {
   "cell_type": "code",
   "execution_count": 15,
   "id": "25870f80",
   "metadata": {},
   "outputs": [
    {
     "data": {
      "text/plain": [
       "'cp1252'"
      ]
     },
     "execution_count": 15,
     "metadata": {},
     "output_type": "execute_result"
    }
   ],
   "source": [
    "import sys, locale\n",
    "locale.getpreferredencoding()"
   ]
  },
  {
   "cell_type": "code",
   "execution_count": 17,
   "id": "8c88186b",
   "metadata": {},
   "outputs": [
    {
     "data": {
      "text/plain": [
       "'utf-8'"
      ]
     },
     "execution_count": 17,
     "metadata": {},
     "output_type": "execute_result"
    }
   ],
   "source": [
    "sys.getdefaultencoding()"
   ]
  },
  {
   "cell_type": "code",
   "execution_count": 18,
   "id": "983f47c1",
   "metadata": {},
   "outputs": [
    {
     "data": {
      "text/plain": [
       "b'spam\\r\\nSPAM\\r\\n'"
      ]
     },
     "execution_count": 18,
     "metadata": {},
     "output_type": "execute_result"
    }
   ],
   "source": [
    "open('code/spam_ansi.txt', 'rb').read()         # ASCII (UTF-8) text file"
   ]
  },
  {
   "cell_type": "code",
   "execution_count": 19,
   "id": "42dec487",
   "metadata": {},
   "outputs": [
    {
     "data": {
      "text/plain": [
       "'spam\\nSPAM\\n'"
      ]
     },
     "execution_count": 19,
     "metadata": {},
     "output_type": "execute_result"
    }
   ],
   "source": [
    "open('code/spam_ansi.txt', 'r').read()          # Text mode translates line end"
   ]
  },
  {
   "cell_type": "code",
   "execution_count": 20,
   "id": "c18b3d76",
   "metadata": {},
   "outputs": [
    {
     "data": {
      "text/plain": [
       "'spam\\nSPAM\\n'"
      ]
     },
     "execution_count": 20,
     "metadata": {},
     "output_type": "execute_result"
    }
   ],
   "source": [
    "open('code/spam_ansi.txt', 'r', encoding='utf-8').read()"
   ]
  },
  {
   "cell_type": "markdown",
   "id": "94740cb8",
   "metadata": {},
   "source": [
    "If this file is instead saved as UTF-8 in Notepad"
   ]
  },
  {
   "cell_type": "code",
   "execution_count": 21,
   "id": "cd9f9888",
   "metadata": {},
   "outputs": [
    {
     "data": {
      "text/plain": [
       "b'\\xef\\xbb\\xbfspam\\r\\nSPAM\\r\\n'"
      ]
     },
     "execution_count": 21,
     "metadata": {},
     "output_type": "execute_result"
    }
   ],
   "source": [
    "open('code/spam_utf8.txt', 'rb').read()         # UTF-8 with 3-byte BOM"
   ]
  },
  {
   "cell_type": "code",
   "execution_count": 22,
   "id": "4b9c7fea",
   "metadata": {},
   "outputs": [
    {
     "data": {
      "text/plain": [
       "'ï»¿spam\\nSPAM\\n'"
      ]
     },
     "execution_count": 22,
     "metadata": {},
     "output_type": "execute_result"
    }
   ],
   "source": [
    "open('code/spam_utf8.txt', 'r').read()"
   ]
  },
  {
   "cell_type": "code",
   "execution_count": 23,
   "id": "ed2abb48",
   "metadata": {},
   "outputs": [
    {
     "data": {
      "text/plain": [
       "'\\ufeffspam\\nSPAM\\n'"
      ]
     },
     "execution_count": 23,
     "metadata": {},
     "output_type": "execute_result"
    }
   ],
   "source": [
    "open('code/spam_utf8.txt', 'r', encoding='utf-8').read()"
   ]
  },
  {
   "cell_type": "code",
   "execution_count": 24,
   "id": "585d3084",
   "metadata": {},
   "outputs": [
    {
     "data": {
      "text/plain": [
       "'spam\\nSPAM\\n'"
      ]
     },
     "execution_count": 24,
     "metadata": {},
     "output_type": "execute_result"
    }
   ],
   "source": [
    "open('code/spam_utf8.txt', 'r', encoding='utf-8-sig').read()"
   ]
  },
  {
   "cell_type": "markdown",
   "id": "476933d1",
   "metadata": {},
   "source": [
    "If the file is stored as Unicode big endian in Notepad, we get UTF-16-format data in the file, with 2-byte (16-bit) characters prepended with a 2-byte BOM sequence"
   ]
  },
  {
   "cell_type": "code",
   "execution_count": 25,
   "id": "9e1debf7",
   "metadata": {},
   "outputs": [
    {
     "data": {
      "text/plain": [
       "b'\\xfe\\xff\\x00s\\x00p\\x00a\\x00m\\x00\\r\\x00\\n\\x00S\\x00P\\x00A\\x00M\\x00\\r\\x00\\n'"
      ]
     },
     "execution_count": 25,
     "metadata": {},
     "output_type": "execute_result"
    }
   ],
   "source": [
    "open('code/spam_utf16be.txt', 'rb').read()"
   ]
  },
  {
   "cell_type": "code",
   "execution_count": 26,
   "id": "156def3e",
   "metadata": {},
   "outputs": [
    {
     "data": {
      "text/plain": [
       "'þÿ\\x00s\\x00p\\x00a\\x00m\\x00\\n\\x00\\n\\x00S\\x00P\\x00A\\x00M\\x00\\n\\x00\\n'"
      ]
     },
     "execution_count": 26,
     "metadata": {},
     "output_type": "execute_result"
    }
   ],
   "source": [
    "open('code/spam_utf16be.txt', 'r').read()"
   ]
  },
  {
   "cell_type": "code",
   "execution_count": 27,
   "id": "a50cbfc2",
   "metadata": {},
   "outputs": [
    {
     "data": {
      "text/plain": [
       "'spam\\nSPAM\\n'"
      ]
     },
     "execution_count": 27,
     "metadata": {},
     "output_type": "execute_result"
    }
   ],
   "source": [
    "open('code/spam_utf16be.txt', 'r', encoding='utf-16').read()"
   ]
  },
  {
   "cell_type": "code",
   "execution_count": 28,
   "id": "36f59f56",
   "metadata": {},
   "outputs": [
    {
     "data": {
      "text/plain": [
       "'\\ufeffspam\\nSPAM\\n'"
      ]
     },
     "execution_count": 28,
     "metadata": {},
     "output_type": "execute_result"
    }
   ],
   "source": [
    "open('code/spam_utf16be.txt', 'r', encoding='utf-16-be').read()"
   ]
  },
  {
   "cell_type": "markdown",
   "id": "7d8cc66a",
   "metadata": {},
   "source": [
    "### Other String Tool Changes in 3.X"
   ]
  },
  {
   "cell_type": "markdown",
   "id": "b1dcbc23",
   "metadata": {},
   "source": [
    "#### The re Pattern-Matching Module"
   ]
  },
  {
   "cell_type": "code",
   "execution_count": 29,
   "id": "cdc873af",
   "metadata": {},
   "outputs": [
    {
     "data": {
      "text/plain": [
       "('Bugger all', 'here', 'earth!')"
      ]
     },
     "execution_count": 29,
     "metadata": {},
     "output_type": "execute_result"
    }
   ],
   "source": [
    "import re\n",
    "S = 'Bugger all down here on earth!'               # Line of text\n",
    "B = b'Bugger all down here on earth!'              # Usually from a file\n",
    "\n",
    "re.match('(.*) down (.*) on (.*)', S).groups()     # Match line to pattern"
   ]
  },
  {
   "cell_type": "code",
   "execution_count": 30,
   "id": "0a94a0a2",
   "metadata": {},
   "outputs": [
    {
     "data": {
      "text/plain": [
       "<re.Match object; span=(0, 30), match='Bugger all down here on earth!'>"
      ]
     },
     "execution_count": 30,
     "metadata": {},
     "output_type": "execute_result"
    }
   ],
   "source": [
    "re.match('(.*) down (.*) on (.*)', S)"
   ]
  },
  {
   "cell_type": "code",
   "execution_count": 31,
   "id": "32f39eef",
   "metadata": {},
   "outputs": [
    {
     "data": {
      "text/plain": [
       "(b'Bugger all', b'here', b'earth!')"
      ]
     },
     "execution_count": 31,
     "metadata": {},
     "output_type": "execute_result"
    }
   ],
   "source": [
    "re.match(b'(.*) down (.*) on (.*)', B).groups()    # bytes substrings"
   ]
  },
  {
   "cell_type": "markdown",
   "id": "9fc72fdd",
   "metadata": {},
   "source": [
    "#### XML Parsing Tools"
   ]
  },
  {
   "cell_type": "code",
   "execution_count": 15,
   "id": "c5a6ac76",
   "metadata": {},
   "outputs": [
    {
     "data": {
      "text/plain": [
       "'D:\\\\books\\\\python\\\\0. Learning Python'"
      ]
     },
     "execution_count": 15,
     "metadata": {},
     "output_type": "execute_result"
    }
   ],
   "source": [
    "import os\n",
    "cwd = os.getcwd()\n",
    "cwd"
   ]
  },
  {
   "cell_type": "code",
   "execution_count": 17,
   "id": "e16f6f52",
   "metadata": {},
   "outputs": [],
   "source": [
    "os.chdir('D:\\\\books\\\\python\\\\0. Learning Python\\\\code')"
   ]
  },
  {
   "cell_type": "code",
   "execution_count": 19,
   "id": "88f11d7c",
   "metadata": {},
   "outputs": [
    {
     "name": "stdout",
     "output_type": "stream",
     "text": [
      "<books>\n",
      "    <date>1995~2013</date>\n",
      "    <title>Learning Python</title>\n",
      "    <title>Programming Python</title>\n",
      "    <title>Python Pocket Reference</title>\n",
      "    <publisher>O'Reilly Media</publisher>\n",
      "</books>\n"
     ]
    }
   ],
   "source": [
    "!cat mybooks.xml"
   ]
  },
  {
   "cell_type": "code",
   "execution_count": 20,
   "id": "4f06e071",
   "metadata": {},
   "outputs": [
    {
     "name": "stdout",
     "output_type": "stream",
     "text": [
      "import re\n",
      "text  = open('code/mybooks.xml').read()\n",
      "found = re.findall('<title>(.*)</title>', text)\n",
      "for title in found: print(title)\n"
     ]
    }
   ],
   "source": [
    "!cat patternparse.py"
   ]
  },
  {
   "cell_type": "code",
   "execution_count": 22,
   "id": "afa22884",
   "metadata": {},
   "outputs": [
    {
     "name": "stdout",
     "output_type": "stream",
     "text": [
      "Learning Python\n",
      "Programming Python\n",
      "Python Pocket Reference\n"
     ]
    }
   ],
   "source": [
    "!python patternparse.py"
   ]
  },
  {
   "cell_type": "code",
   "execution_count": 23,
   "id": "30eb7c4c",
   "metadata": {},
   "outputs": [
    {
     "name": "stdout",
     "output_type": "stream",
     "text": [
      "from xml.dom.minidom import parse, Node\n",
      "xmltree = parse('mybooks.xml')\n",
      "for node1 in xmltree.getElementsByTagName('title'):\n",
      "    for node2 in node1.childNodes:\n",
      "         if node2.nodeType == Node.TEXT_NODE:\n",
      "             print(node2.data)\n"
     ]
    }
   ],
   "source": [
    "!cat domparse.py"
   ]
  },
  {
   "cell_type": "code",
   "execution_count": 24,
   "id": "4b24b84f",
   "metadata": {},
   "outputs": [
    {
     "name": "stdout",
     "output_type": "stream",
     "text": [
      "Learning Python\n",
      "Programming Python\n",
      "Python Pocket Reference\n"
     ]
    }
   ],
   "source": [
    "!python domparse.py"
   ]
  },
  {
   "cell_type": "code",
   "execution_count": 25,
   "id": "02828f77",
   "metadata": {},
   "outputs": [
    {
     "name": "stdout",
     "output_type": "stream",
     "text": [
      "import xml.sax.handler\n",
      "class BookHandler(xml.sax.handler.ContentHandler):\n",
      "    def __init__(self):\n",
      "        self.inTitle = False\n",
      "    def startElement(self, name, attributes):\n",
      "        if name == 'title':\n",
      "            self.inTitle = True\n",
      "    def characters(self, data):\n",
      "        if self.inTitle:\n",
      "            print(data)\n",
      "    def endElement(self, name):\n",
      "        if name == 'title':\n",
      "            self.inTitle = False\n",
      "\n",
      "import xml.sax\n",
      "parser = xml.sax.make_parser()\n",
      "handler = BookHandler()\n",
      "parser.setContentHandler(handler)\n",
      "parser.parse('mybooks.xml')\n"
     ]
    }
   ],
   "source": [
    "!cat saxparse.py"
   ]
  },
  {
   "cell_type": "code",
   "execution_count": 26,
   "id": "4f1993b3",
   "metadata": {},
   "outputs": [
    {
     "name": "stdout",
     "output_type": "stream",
     "text": [
      "Learning Python\n",
      "Programming Python\n",
      "Python Pocket Reference\n"
     ]
    }
   ],
   "source": [
    "!python saxparse.py"
   ]
  },
  {
   "cell_type": "code",
   "execution_count": 27,
   "id": "e4c27403",
   "metadata": {},
   "outputs": [
    {
     "name": "stdout",
     "output_type": "stream",
     "text": [
      "from xml.etree.ElementTree import parse\n",
      "tree = parse('mybooks.xml')\n",
      "for E in tree.findall('title'):\n",
      "    print(E.text)\n"
     ]
    }
   ],
   "source": [
    "!cat etreeparse.py"
   ]
  },
  {
   "cell_type": "code",
   "execution_count": 28,
   "id": "f70d7f38",
   "metadata": {},
   "outputs": [
    {
     "name": "stdout",
     "output_type": "stream",
     "text": [
      "Learning Python\n",
      "Programming Python\n",
      "Python Pocket Reference\n"
     ]
    }
   ],
   "source": [
    "!python etreeparse.py"
   ]
  }
 ],
 "metadata": {
  "kernelspec": {
   "display_name": "Python 3 (ipykernel)",
   "language": "python",
   "name": "python3"
  },
  "language_info": {
   "codemirror_mode": {
    "name": "ipython",
    "version": 3
   },
   "file_extension": ".py",
   "mimetype": "text/x-python",
   "name": "python",
   "nbconvert_exporter": "python",
   "pygments_lexer": "ipython3",
   "version": "3.8.5"
  }
 },
 "nbformat": 4,
 "nbformat_minor": 5
}
