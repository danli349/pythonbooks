{
 "cells": [
  {
   "cell_type": "code",
   "execution_count": 1,
   "id": "723cb71c",
   "metadata": {},
   "outputs": [
    {
     "data": {
      "text/plain": [
       "['D:\\\\books\\\\python\\\\0.   Fluent Python, 2nd Edition',\n",
       " 'D:/books/python/0.   Fluent Python, 2nd Edition/example-code-2e/24-class-metaprog/',\n",
       " 'C:\\\\Users\\\\lidan\\\\miniconda3\\\\python38.zip',\n",
       " 'C:\\\\Users\\\\lidan\\\\miniconda3\\\\DLLs',\n",
       " 'C:\\\\Users\\\\lidan\\\\miniconda3\\\\lib',\n",
       " 'C:\\\\Users\\\\lidan\\\\miniconda3',\n",
       " '',\n",
       " 'C:\\\\Users\\\\lidan\\\\AppData\\\\Roaming\\\\Python\\\\Python38\\\\site-packages',\n",
       " 'C:\\\\Users\\\\lidan\\\\miniconda3\\\\lib\\\\site-packages',\n",
       " 'C:\\\\Users\\\\lidan\\\\miniconda3\\\\lib\\\\site-packages\\\\magic_impute-2.0.4-py3.8.egg',\n",
       " 'C:\\\\Users\\\\lidan\\\\miniconda3\\\\lib\\\\site-packages\\\\seqc-0.2.0-py3.8.egg',\n",
       " 'C:\\\\Users\\\\lidan\\\\miniconda3\\\\lib\\\\site-packages\\\\weasyprint-56.1-py3.8.egg',\n",
       " 'C:\\\\Users\\\\lidan\\\\miniconda3\\\\lib\\\\site-packages\\\\cairocffi-1.3.0-py3.8.egg',\n",
       " 'C:\\\\Users\\\\lidan\\\\miniconda3\\\\lib\\\\site-packages\\\\win32',\n",
       " 'C:\\\\Users\\\\lidan\\\\miniconda3\\\\lib\\\\site-packages\\\\win32\\\\lib',\n",
       " 'C:\\\\Users\\\\lidan\\\\miniconda3\\\\lib\\\\site-packages\\\\Pythonwin']"
      ]
     },
     "execution_count": 1,
     "metadata": {},
     "output_type": "execute_result"
    }
   ],
   "source": [
    "from __future__ import annotations\n",
    "import sys\n",
    "    # caution: path[0] is reserved for script path (or '' in REPL)\n",
    "sys.path.insert(1, 'D:/books/python/0.   Fluent Python, 2nd Edition/example-code-2e/24-class-metaprog/')\n",
    "sys.path"
   ]
  },
  {
   "cell_type": "code",
   "execution_count": 2,
   "id": "5de30c6b",
   "metadata": {},
   "outputs": [
    {
     "name": "stdout",
     "output_type": "stream",
     "text": [
      "Python 3.8.13\n"
     ]
    }
   ],
   "source": [
    "!python --version"
   ]
  },
  {
   "cell_type": "code",
   "execution_count": 3,
   "id": "f9ae0fb4",
   "metadata": {},
   "outputs": [],
   "source": [
    "\"\"\"\n",
    "record_factory: create simple classes just for holding data fields\n",
    "\n",
    "# tag::RECORD_FACTORY_DEMO[]\n",
    "    >>> Dog = record_factory('Dog', 'name weight owner')  # <1>\n",
    "    >>> rex = Dog('Rex', 30, 'Bob')\n",
    "    >>> rex  # <2>\n",
    "    Dog(name='Rex', weight=30, owner='Bob')\n",
    "    >>> name, weight, _ = rex  # <3>\n",
    "    >>> name, weight\n",
    "    ('Rex', 30)\n",
    "    >>> \"{2}'s dog weighs {1}kg\".format(*rex)  # <4>\n",
    "    \"Bob's dog weighs 30kg\"\n",
    "    >>> rex.weight = 32  # <5>\n",
    "    >>> rex\n",
    "    Dog(name='Rex', weight=32, owner='Bob')\n",
    "    >>> Dog.__mro__  # <6>\n",
    "    (<class 'factories.Dog'>, <class 'object'>)\n",
    "\n",
    "# end::RECORD_FACTORY_DEMO[]\n",
    "\n",
    "The factory also accepts a list or tuple of identifiers:\n",
    "\n",
    "    >>> Dog = record_factory('Dog', ['name', 'weight', 'owner'])\n",
    "    >>> Dog.__slots__\n",
    "    ('name', 'weight', 'owner')\n",
    "\n",
    "\"\"\"\n",
    "\n",
    "\n",
    "# tag::RECORD_FACTORY[]\n",
    "from __future__ import annotations\n",
    "from typing import Union, Any, Iterable\n",
    "from collections.abc import Iterator\n",
    "\n",
    "FieldNames = Union[str, Iterable[str]]  # <1>\n",
    "\n",
    "def record_factory(cls_name: str, field_names: FieldNames) -> type[tuple]:  # <2>\n",
    "\n",
    "    slots = parse_identifiers(field_names)  # <3>\n",
    "\n",
    "    def __init__(self, *args, **kwargs) -> None:  # <4>\n",
    "        attrs = dict(zip(self.__slots__, args))\n",
    "        attrs.update(kwargs)\n",
    "        for name, value in attrs.items():\n",
    "            setattr(self, name, value)\n",
    "\n",
    "    def __iter__(self) -> Iterator[Any]:  # <5>\n",
    "        for name in self.__slots__:\n",
    "            yield getattr(self, name)\n",
    "\n",
    "    def __repr__(self):  # <6>\n",
    "        values = ', '.join(f'{name}={value!r}'\n",
    "            for name, value in zip(self.__slots__, self))\n",
    "        cls_name = self.__class__.__name__\n",
    "        return f'{cls_name}({values})'\n",
    "\n",
    "    cls_attrs = dict(  # <7>\n",
    "        __slots__=slots,\n",
    "        __init__=__init__,\n",
    "        __iter__=__iter__,\n",
    "        __repr__=__repr__,\n",
    "    )\n",
    "\n",
    "    return type(cls_name, (object,), cls_attrs)  # <8>\n",
    "\n",
    "\n",
    "def parse_identifiers(names: FieldNames) -> tuple[str, ...]:\n",
    "    if isinstance(names, str):\n",
    "        names = names.replace(',', ' ').split()  # <9>\n",
    "    if not all(s.isidentifier() for s in names):\n",
    "        raise ValueError('names must all be valid identifiers')\n",
    "    return tuple(names)\n",
    "# end::RECORD_FACTORY[]\n"
   ]
  },
  {
   "cell_type": "code",
   "execution_count": 4,
   "id": "e15a5736",
   "metadata": {},
   "outputs": [
    {
     "data": {
      "text/plain": [
       "Dog(name='Rex', weight=30, owner='Bob')"
      ]
     },
     "execution_count": 4,
     "metadata": {},
     "output_type": "execute_result"
    }
   ],
   "source": [
    "Dog = record_factory('Dog', 'name weight owner')  # <1>\n",
    "rex = Dog('Rex', 30, 'Bob')\n",
    "rex  # <2>"
   ]
  },
  {
   "cell_type": "code",
   "execution_count": 5,
   "id": "58a7c85a",
   "metadata": {},
   "outputs": [
    {
     "data": {
      "text/plain": [
       "('Rex', 30)"
      ]
     },
     "execution_count": 5,
     "metadata": {},
     "output_type": "execute_result"
    }
   ],
   "source": [
    "name, weight, _ = rex  # <3>\n",
    "name, weight"
   ]
  },
  {
   "cell_type": "code",
   "execution_count": 6,
   "id": "bc23328b",
   "metadata": {},
   "outputs": [
    {
     "data": {
      "text/plain": [
       "\"Bob's dog weighs 30kg\""
      ]
     },
     "execution_count": 6,
     "metadata": {},
     "output_type": "execute_result"
    }
   ],
   "source": [
    "\"{2}'s dog weighs {1}kg\".format(*rex)  # <4>"
   ]
  },
  {
   "cell_type": "code",
   "execution_count": 7,
   "id": "3e0748cf",
   "metadata": {},
   "outputs": [
    {
     "data": {
      "text/plain": [
       "Dog(name='Rex', weight=32, owner='Bob')"
      ]
     },
     "execution_count": 7,
     "metadata": {},
     "output_type": "execute_result"
    }
   ],
   "source": [
    "rex.weight = 32  # <5>\n",
    "rex"
   ]
  },
  {
   "cell_type": "code",
   "execution_count": 8,
   "id": "594221a3",
   "metadata": {},
   "outputs": [
    {
     "data": {
      "text/plain": [
       "(__main__.Dog, object)"
      ]
     },
     "execution_count": 8,
     "metadata": {},
     "output_type": "execute_result"
    }
   ],
   "source": [
    "Dog.__mro__  # <6>"
   ]
  },
  {
   "cell_type": "code",
   "execution_count": 9,
   "id": "0860a12d",
   "metadata": {},
   "outputs": [
    {
     "data": {
      "text/plain": [
       "(object, type, 'Dog')"
      ]
     },
     "execution_count": 9,
     "metadata": {},
     "output_type": "execute_result"
    }
   ],
   "source": [
    "Dog.__base__, Dog.__class__, Dog.__name__, "
   ]
  },
  {
   "cell_type": "code",
   "execution_count": 10,
   "id": "ea10ee9e",
   "metadata": {},
   "outputs": [
    {
     "data": {
      "text/plain": [
       "mappingproxy({'__slots__': ('name', 'weight', 'owner'),\n",
       "              '__init__': <function __main__.record_factory.<locals>.__init__(self, *args, **kwargs) -> 'None'>,\n",
       "              '__iter__': <function __main__.record_factory.<locals>.__iter__(self) -> 'Iterator[Any]'>,\n",
       "              '__repr__': <function __main__.record_factory.<locals>.__repr__(self)>,\n",
       "              '__module__': '__main__',\n",
       "              'name': <member 'name' of 'Dog' objects>,\n",
       "              'owner': <member 'owner' of 'Dog' objects>,\n",
       "              'weight': <member 'weight' of 'Dog' objects>,\n",
       "              '__doc__': None})"
      ]
     },
     "execution_count": 10,
     "metadata": {},
     "output_type": "execute_result"
    }
   ],
   "source": [
    "Dog.__dict__"
   ]
  },
  {
   "cell_type": "code",
   "execution_count": 11,
   "id": "a9a846a0",
   "metadata": {},
   "outputs": [
    {
     "data": {
      "text/plain": [
       "('name', 'weight', 'owner')"
      ]
     },
     "execution_count": 11,
     "metadata": {},
     "output_type": "execute_result"
    }
   ],
   "source": [
    "Dog = record_factory('Dog', ['name', 'weight', 'owner'])\n",
    "Dog.__slots__"
   ]
  },
  {
   "cell_type": "code",
   "execution_count": 12,
   "id": "2c1e53fb",
   "metadata": {},
   "outputs": [],
   "source": [
    "\"\"\"\n",
    "A ``Checked`` subclass definition requires that keyword arguments are\n",
    "used to create an instance, and provides a nice ``__repr__``::\n",
    "\n",
    "# tag::MOVIE_DEFINITION[]\n",
    "\n",
    "    >>> class Movie(Checked):  # <1>\n",
    "    ...     title: str  # <2>\n",
    "    ...     year: int\n",
    "    ...     box_office: float\n",
    "    ...\n",
    "    >>> movie = Movie(title='The Godfather', year=1972, box_office=137)  # <3>\n",
    "    >>> movie.title\n",
    "    'The Godfather'\n",
    "    >>> movie  # <4>\n",
    "    Movie(title='The Godfather', year=1972, box_office=137.0)\n",
    "\n",
    "# end::MOVIE_DEFINITION[]\n",
    "\n",
    "The type of arguments is runtime checked during instantiation\n",
    "and when an attribute is set::\n",
    "\n",
    "# tag::MOVIE_TYPE_VALIDATION[]\n",
    "\n",
    "    >>> blockbuster = Movie(title='Avatar', year=2009, box_office='billions')\n",
    "    Traceback (most recent call last):\n",
    "      ...\n",
    "    TypeError: 'billions' is not compatible with box_office:float\n",
    "    >>> movie.year = 'MCMLXXII'\n",
    "    Traceback (most recent call last):\n",
    "      ...\n",
    "    TypeError: 'MCMLXXII' is not compatible with year:int\n",
    "\n",
    "# end::MOVIE_TYPE_VALIDATION[]\n",
    "\n",
    "Attributes not passed as arguments to the constructor are initialized with\n",
    "default values::\n",
    "\n",
    "# tag::MOVIE_DEFAULTS[]\n",
    "\n",
    "    >>> Movie(title='Life of Brian')\n",
    "    Movie(title='Life of Brian', year=0, box_office=0.0)\n",
    "\n",
    "# end::MOVIE_DEFAULTS[]\n",
    "\n",
    "Providing extra arguments to the constructor is not allowed::\n",
    "\n",
    "    >>> blockbuster = Movie(title='Avatar', year=2009, box_office=2000,\n",
    "    ...                     director='James Cameron')\n",
    "    Traceback (most recent call last):\n",
    "      ...\n",
    "    AttributeError: 'Movie' object has no attribute 'director'\n",
    "\n",
    "Creating new attributes at runtime is restricted as well::\n",
    "\n",
    "    >>> movie.director = 'Francis Ford Coppola'\n",
    "    Traceback (most recent call last):\n",
    "      ...\n",
    "    AttributeError: 'Movie' object has no attribute 'director'\n",
    "\n",
    "The `_asdict` instance method creates a `dict` from the attributes\n",
    "of a `Movie` object::\n",
    "\n",
    "    >>> movie._asdict()\n",
    "    {'title': 'The Godfather', 'year': 1972, 'box_office': 137.0}\n",
    "\n",
    "\"\"\"\n",
    "\n",
    "# tag::CHECKED_FIELD[]\n",
    "from collections.abc import Callable  # <1>\n",
    "from typing import Any, NoReturn, get_type_hints\n",
    "\n",
    "\n",
    "class Field:\n",
    "    def __init__(self, name: str, constructor: Callable) -> None:  # <2>\n",
    "        if not callable(constructor) or constructor is type(None):  # <3>\n",
    "            raise TypeError(f'{name!r} type hint must be callable')\n",
    "        self.name = name\n",
    "        self.constructor = constructor\n",
    "\n",
    "    def __set__(self, instance: Any, value: Any) -> None:\n",
    "        if value is ...:  # <4>\n",
    "            value = self.constructor()\n",
    "        else:\n",
    "            try:\n",
    "                value = self.constructor(value)  # <5>\n",
    "            except (TypeError, ValueError) as e:  # <6>\n",
    "                type_name = self.constructor.__name__\n",
    "                msg = f'{value!r} is not compatible with {self.name}:{type_name}'\n",
    "                raise TypeError(msg) from e\n",
    "        instance.__dict__[self.name] = value  # <7>\n",
    "# end::CHECKED_FIELD[]\n",
    "\n",
    "# tag::CHECKED_TOP[]\n",
    "class Checked:\n",
    "    @classmethod\n",
    "    def _fields(cls) -> dict[str, type]:  # <1>\n",
    "        return get_type_hints(cls)\n",
    "\n",
    "    def __init_subclass__(subclass) -> None:  # <2>\n",
    "        super().__init_subclass__()           # <3>\n",
    "        for name, constructor in subclass._fields().items():   # <4>\n",
    "            setattr(subclass, name, Field(name, constructor))  # <5>\n",
    "\n",
    "    def __init__(self, **kwargs: Any) -> None:\n",
    "        for name in self._fields():             # <6>\n",
    "            value = kwargs.pop(name, ...)       # <7>\n",
    "            setattr(self, name, value)          # <8>\n",
    "        if kwargs:                              # <9>\n",
    "            self.__flag_unknown_attrs(*kwargs)  # <10>\n",
    "\n",
    "    # end::CHECKED_TOP[]\n",
    "\n",
    "    # tag::CHECKED_BOTTOM[]\n",
    "    def __setattr__(self, name: str, value: Any) -> None:  # <1>\n",
    "        if name in self._fields():              # <2>\n",
    "            cls = self.__class__\n",
    "            descriptor = getattr(cls, name)\n",
    "            descriptor.__set__(self, value)     # <3>\n",
    "        else:                                   # <4>\n",
    "            self.__flag_unknown_attrs(name)\n",
    "\n",
    "    def __flag_unknown_attrs(self, *names: str) -> NoReturn:  # <5>\n",
    "        plural = 's' if len(names) > 1 else ''\n",
    "        extra = ', '.join(f'{name!r}' for name in names)\n",
    "        cls_name = repr(self.__class__.__name__)\n",
    "        raise AttributeError(f'{cls_name} object has no attribute{plural} {extra}')\n",
    "\n",
    "    def _asdict(self) -> dict[str, Any]:  # <6>\n",
    "        return {\n",
    "            name: getattr(self, name)\n",
    "            for name, attr in self.__class__.__dict__.items()\n",
    "            if isinstance(attr, Field)\n",
    "        }\n",
    "\n",
    "    def __repr__(self) -> str:  # <7>\n",
    "        kwargs = ', '.join(\n",
    "            f'{key}={value!r}' for key, value in self._asdict().items()\n",
    "        )\n",
    "        return f'{self.__class__.__name__}({kwargs})'\n",
    "\n",
    "# end::CHECKED_BOTTOM[]\n"
   ]
  },
  {
   "cell_type": "code",
   "execution_count": 13,
   "id": "af8a5a32",
   "metadata": {},
   "outputs": [
    {
     "data": {
      "text/plain": [
       "{}"
      ]
     },
     "execution_count": 13,
     "metadata": {},
     "output_type": "execute_result"
    }
   ],
   "source": [
    "get_type_hints(Checked)"
   ]
  },
  {
   "cell_type": "code",
   "execution_count": 14,
   "id": "e5fa9c02",
   "metadata": {},
   "outputs": [
    {
     "data": {
      "text/plain": [
       "{}"
      ]
     },
     "execution_count": 14,
     "metadata": {},
     "output_type": "execute_result"
    }
   ],
   "source": [
    "get_type_hints(Field)"
   ]
  },
  {
   "cell_type": "code",
   "execution_count": 15,
   "id": "c0b281eb",
   "metadata": {},
   "outputs": [
    {
     "name": "stdout",
     "output_type": "stream",
     "text": [
      "Help on function get_type_hints in module typing:\n",
      "\n",
      "get_type_hints(obj, globalns=None, localns=None)\n",
      "    Return type hints for an object.\n",
      "    \n",
      "    This is often the same as obj.__annotations__, but it handles\n",
      "    forward references encoded as string literals, and if necessary\n",
      "    adds Optional[t] if a default value equal to None is set.\n",
      "    \n",
      "    The argument may be a module, class, method, or function. The annotations\n",
      "    are returned as a dictionary. For classes, annotations include also\n",
      "    inherited members.\n",
      "    \n",
      "    TypeError is raised if the argument is not of a type that can contain\n",
      "    annotations, and an empty dictionary is returned if no annotations are\n",
      "    present.\n",
      "    \n",
      "    BEWARE -- the behavior of globalns and localns is counterintuitive\n",
      "    (unless you are familiar with how eval() and exec() work).  The\n",
      "    search order is locals first, then globals.\n",
      "    \n",
      "    - If no dict arguments are passed, an attempt is made to use the\n",
      "      globals from obj (or the respective module's globals for classes),\n",
      "      and these are also used as the locals.  If the object does not appear\n",
      "      to have globals, an empty dictionary is used.\n",
      "    \n",
      "    - If one dict argument is passed, it is used for both globals and\n",
      "      locals.\n",
      "    \n",
      "    - If two dict arguments are passed, they specify globals and\n",
      "      locals, respectively.\n",
      "\n"
     ]
    }
   ],
   "source": [
    "help(get_type_hints)"
   ]
  },
  {
   "cell_type": "code",
   "execution_count": 16,
   "id": "f902e638",
   "metadata": {},
   "outputs": [
    {
     "data": {
      "text/plain": [
       "'The Godfather'"
      ]
     },
     "execution_count": 16,
     "metadata": {},
     "output_type": "execute_result"
    }
   ],
   "source": [
    "class Movie(Checked):  # <1>\n",
    "    title: str  # <2>\n",
    "    year: int\n",
    "    box_office: float\n",
    "\n",
    "movie = Movie(title='The Godfather', year=1972, box_office=137)  # <3>\n",
    "movie.title"
   ]
  },
  {
   "cell_type": "code",
   "execution_count": 17,
   "id": "50db9c17",
   "metadata": {},
   "outputs": [
    {
     "data": {
      "text/plain": [
       "Movie(title='The Godfather', year=1972, box_office=137.0)"
      ]
     },
     "execution_count": 17,
     "metadata": {},
     "output_type": "execute_result"
    }
   ],
   "source": [
    "movie  # <4>"
   ]
  },
  {
   "cell_type": "code",
   "execution_count": 18,
   "id": "aec1ba6d",
   "metadata": {},
   "outputs": [
    {
     "data": {
      "text/plain": [
       "Movie(title='Life of Brian', year=0, box_office=0.0)"
      ]
     },
     "execution_count": 18,
     "metadata": {},
     "output_type": "execute_result"
    }
   ],
   "source": [
    "Movie(title='Life of Brian')"
   ]
  },
  {
   "cell_type": "code",
   "execution_count": 19,
   "id": "dc89f6f4",
   "metadata": {},
   "outputs": [
    {
     "data": {
      "text/plain": [
       "{'title': 'The Godfather', 'year': 1972, 'box_office': 137.0}"
      ]
     },
     "execution_count": 19,
     "metadata": {},
     "output_type": "execute_result"
    }
   ],
   "source": [
    "movie._asdict()"
   ]
  },
  {
   "cell_type": "code",
   "execution_count": 20,
   "id": "7d04bd25",
   "metadata": {},
   "outputs": [
    {
     "data": {
      "text/plain": [
       "{'title': str, 'year': int, 'box_office': float}"
      ]
     },
     "execution_count": 20,
     "metadata": {},
     "output_type": "execute_result"
    }
   ],
   "source": [
    "get_type_hints(Movie)"
   ]
  },
  {
   "cell_type": "code",
   "execution_count": 21,
   "id": "fedf6dbc",
   "metadata": {},
   "outputs": [
    {
     "data": {
      "text/plain": [
       "{'title': str, 'year': int, 'box_office': float}"
      ]
     },
     "execution_count": 21,
     "metadata": {},
     "output_type": "execute_result"
    }
   ],
   "source": [
    "get_type_hints(movie)"
   ]
  },
  {
   "cell_type": "code",
   "execution_count": 22,
   "id": "44448a94",
   "metadata": {},
   "outputs": [
    {
     "name": "stdout",
     "output_type": "stream",
     "text": [
      "title\n",
      "year\n",
      "box_office\n"
     ]
    }
   ],
   "source": [
    "for name, constructor in get_type_hints(movie).items():\n",
    "    print(name)"
   ]
  },
  {
   "cell_type": "code",
   "execution_count": 23,
   "id": "f6a55418",
   "metadata": {},
   "outputs": [
    {
     "name": "stdout",
     "output_type": "stream",
     "text": [
      "<class 'str'>\n",
      "<class 'int'>\n",
      "<class 'float'>\n"
     ]
    }
   ],
   "source": [
    "for name, constructor in get_type_hints(movie).items():\n",
    "    print(constructor)"
   ]
  },
  {
   "cell_type": "code",
   "execution_count": 24,
   "id": "8feb06bf",
   "metadata": {},
   "outputs": [
    {
     "name": "stdout",
     "output_type": "stream",
     "text": [
      "<__main__.Field object at 0x000001D951ECC1F0>\n",
      "<__main__.Field object at 0x000001D951ECC1F0>\n",
      "<__main__.Field object at 0x000001D951ECC1F0>\n"
     ]
    }
   ],
   "source": [
    "for name, constructor in get_type_hints(movie).items():\n",
    "    print(Field(name, constructor))"
   ]
  },
  {
   "cell_type": "code",
   "execution_count": 25,
   "id": "4a7de11e",
   "metadata": {},
   "outputs": [],
   "source": [
    "\"\"\"\n",
    "A ``Checked`` subclass definition requires that keyword arguments are\n",
    "used to create an instance, and provides a nice ``__repr__``::\n",
    "\n",
    "# tag::MOVIE_DEFINITION[]\n",
    "\n",
    "    >>> @checked\n",
    "    ... class Movie:\n",
    "    ...     title: str\n",
    "    ...     year: int\n",
    "    ...     box_office: float\n",
    "    ...\n",
    "    >>> movie = Movie(title='The Godfather', year=1972, box_office=137)\n",
    "    >>> movie.title\n",
    "    'The Godfather'\n",
    "    >>> movie\n",
    "    Movie(title='The Godfather', year=1972, box_office=137.0)\n",
    "\n",
    "# end::MOVIE_DEFINITION[]\n",
    "\n",
    "The type of arguments is runtime checked when an attribute is set,\n",
    "including during instantiation::\n",
    "\n",
    "# tag::MOVIE_TYPE_VALIDATION[]\n",
    "\n",
    "    >>> blockbuster = Movie(title='Avatar', year=2009, box_office='billions')\n",
    "    Traceback (most recent call last):\n",
    "      ...\n",
    "    TypeError: 'billions' is not compatible with box_office:float\n",
    "    >>> movie.year = 'MCMLXXII'\n",
    "    Traceback (most recent call last):\n",
    "      ...\n",
    "    TypeError: 'MCMLXXII' is not compatible with year:int\n",
    "\n",
    "# end::MOVIE_TYPE_VALIDATION[]\n",
    "\n",
    "Attributes not passed as arguments to the constructor are initialized with\n",
    "default values::\n",
    "\n",
    "# tag::MOVIE_DEFAULTS[]\n",
    "\n",
    "    >>> Movie(title='Life of Brian')\n",
    "    Movie(title='Life of Brian', year=0, box_office=0.0)\n",
    "\n",
    "# end::MOVIE_DEFAULTS[]\n",
    "\n",
    "Providing extra arguments to the constructor is not allowed::\n",
    "\n",
    "    >>> blockbuster = Movie(title='Avatar', year=2009, box_office=2000,\n",
    "    ...                     director='James Cameron')\n",
    "    Traceback (most recent call last):\n",
    "      ...\n",
    "    AttributeError: 'Movie' has no attribute 'director'\n",
    "\n",
    "Creating new attributes at runtime is restricted as well::\n",
    "\n",
    "    >>> movie.director = 'Francis Ford Coppola'\n",
    "    Traceback (most recent call last):\n",
    "      ...\n",
    "    AttributeError: 'Movie' has no attribute 'director'\n",
    "\n",
    "The `_asdict` instance method creates a `dict` from the attributes\n",
    "of a `Movie` object::\n",
    "\n",
    "    >>> movie._asdict()\n",
    "    {'title': 'The Godfather', 'year': 1972, 'box_office': 137.0}\n",
    "\n",
    "\"\"\"\n",
    "\n",
    "from collections.abc import Callable  # <1>\n",
    "from typing import Any, NoReturn, get_type_hints\n",
    "\n",
    "class Field:\n",
    "    def __init__(self, name: str, constructor: Callable) -> None:  # <2>\n",
    "        if not callable(constructor) or constructor is type(None):\n",
    "            raise TypeError(f'{name!r} type hint must be callable')\n",
    "        self.name = name\n",
    "        self.constructor = constructor\n",
    "\n",
    "    def __set__(self, instance: Any, value: Any) -> None:  # <3>\n",
    "        if value is ...:  # <4>\n",
    "            value = self.constructor()\n",
    "        else:\n",
    "            try:\n",
    "                value = self.constructor(value)  # <5>\n",
    "            except (TypeError, ValueError) as e:\n",
    "                type_name = self.constructor.__name__\n",
    "                msg = (\n",
    "                    f'{value!r} is not compatible with {self.name}:{type_name}'\n",
    "                )\n",
    "                raise TypeError(msg) from e\n",
    "        instance.__dict__[self.name] = value  # <6>\n",
    "\n",
    "\n",
    "# tag::CHECKED_DECORATOR[]\n",
    "def checked(cls: type) -> type:  # <1>\n",
    "    for name, constructor in _fields(cls).items():    # <2>\n",
    "        setattr(cls, name, Field(name, constructor))  # <3>\n",
    "\n",
    "    cls._fields = classmethod(_fields)  # type: ignore  # <4>\n",
    "\n",
    "    instance_methods = (  # <5>\n",
    "        __init__,\n",
    "        __repr__,\n",
    "        __setattr__,\n",
    "        _asdict,\n",
    "        __flag_unknown_attrs,\n",
    "    )\n",
    "    for method in instance_methods:  # <6>\n",
    "        setattr(cls, method.__name__, method)\n",
    "\n",
    "    return cls  # <7>\n",
    "# end::CHECKED_DECORATOR[]\n",
    "\n",
    "# tag::CHECKED_METHODS[]\n",
    "def _fields(cls: type) -> dict[str, type]:\n",
    "    return get_type_hints(cls)\n",
    "\n",
    "def __init__(self: Any, **kwargs: Any) -> None:\n",
    "    for name in self._fields():\n",
    "        value = kwargs.pop(name, ...)\n",
    "        setattr(self, name, value)\n",
    "    if kwargs:\n",
    "        self.__flag_unknown_attrs(*kwargs)\n",
    "\n",
    "def __setattr__(self: Any, name: str, value: Any) -> None:\n",
    "    if name in self._fields():\n",
    "        cls = self.__class__\n",
    "        descriptor = getattr(cls, name)\n",
    "        descriptor.__set__(self, value)\n",
    "    else:\n",
    "        self.__flag_unknown_attrs(name)\n",
    "\n",
    "def __flag_unknown_attrs(self: Any, *names: str) -> NoReturn:\n",
    "    plural = 's' if len(names) > 1 else ''\n",
    "    extra = ', '.join(f'{name!r}' for name in names)\n",
    "    cls_name = repr(self.__class__.__name__)\n",
    "    raise AttributeError(f'{cls_name} has no attribute{plural} {extra}')\n",
    "\n",
    "def _asdict(self: Any) -> dict[str, Any]:\n",
    "    return {\n",
    "        name: getattr(self, name)\n",
    "        for name, attr in self.__class__.__dict__.items()\n",
    "        if isinstance(attr, Field)\n",
    "    }\n",
    "\n",
    "def __repr__(self: Any) -> str:\n",
    "    kwargs = ', '.join(\n",
    "        f'{key}={value!r}' for key, value in self._asdict().items()\n",
    "    )\n",
    "    return f'{self.__class__.__name__}({kwargs})'\n",
    "# end::CHECKED_METHODS[]\n"
   ]
  },
  {
   "cell_type": "code",
   "execution_count": 26,
   "id": "2959b23e",
   "metadata": {},
   "outputs": [
    {
     "data": {
      "text/plain": [
       "'The Godfather'"
      ]
     },
     "execution_count": 26,
     "metadata": {},
     "output_type": "execute_result"
    }
   ],
   "source": [
    "@checked\n",
    "class Movie:\n",
    "    title: str\n",
    "    year: int\n",
    "    box_office: float\n",
    "\n",
    "movie = Movie(title='The Godfather', year=1972, box_office=137)\n",
    "movie.title"
   ]
  },
  {
   "cell_type": "code",
   "execution_count": 27,
   "id": "b79cbbb6",
   "metadata": {},
   "outputs": [
    {
     "data": {
      "text/plain": [
       "Movie(title='The Godfather', year=1972, box_office=137.0)"
      ]
     },
     "execution_count": 27,
     "metadata": {},
     "output_type": "execute_result"
    }
   ],
   "source": [
    "movie"
   ]
  },
  {
   "cell_type": "code",
   "execution_count": 28,
   "id": "5f1ebb10",
   "metadata": {},
   "outputs": [
    {
     "data": {
      "text/plain": [
       "Movie(title='Life of Brian', year=0, box_office=0.0)"
      ]
     },
     "execution_count": 28,
     "metadata": {},
     "output_type": "execute_result"
    }
   ],
   "source": [
    "Movie(title='Life of Brian')"
   ]
  },
  {
   "cell_type": "code",
   "execution_count": 29,
   "id": "b813073a",
   "metadata": {},
   "outputs": [
    {
     "data": {
      "text/plain": [
       "{'title': 'The Godfather', 'year': 1972, 'box_office': 137.0}"
      ]
     },
     "execution_count": 29,
     "metadata": {},
     "output_type": "execute_result"
    }
   ],
   "source": [
    "movie._asdict()"
   ]
  },
  {
   "cell_type": "code",
   "execution_count": 30,
   "id": "e1c470e0",
   "metadata": {},
   "outputs": [
    {
     "name": "stdout",
     "output_type": "stream",
     "text": [
      "@ builderlib module start\n",
      "@ Builder body\n",
      "@ Descriptor body\n",
      "@ builderlib module end\n"
     ]
    }
   ],
   "source": [
    "# tag::BUILDERLIB_TOP[]\n",
    "print('@ builderlib module start')\n",
    "\n",
    "class Builder:  # <1>\n",
    "    print('@ Builder body')\n",
    "\n",
    "    def __init_subclass__(cls):  # <2>\n",
    "        print(f'@ Builder.__init_subclass__({cls!r})')\n",
    "\n",
    "        def inner_0(self):  # <3>\n",
    "            print(f'@ SuperA.__init_subclass__:inner_0({self!r})')\n",
    "\n",
    "        cls.method_a = inner_0\n",
    "\n",
    "    def __init__(self):\n",
    "        super().__init__()\n",
    "        print(f'@ Builder.__init__({self!r})')\n",
    "\n",
    "\n",
    "def deco(cls):  # <4>\n",
    "    print(f'@ deco({cls!r})')\n",
    "\n",
    "    def inner_1(self):  # <5>\n",
    "        print(f'@ deco:inner_1({self!r})')\n",
    "\n",
    "    cls.method_b = inner_1\n",
    "    return cls  # <6>\n",
    "# end::BUILDERLIB_TOP[]\n",
    "\n",
    "# tag::BUILDERLIB_BOTTOM[]\n",
    "class Descriptor:  # <1>\n",
    "    print('@ Descriptor body')\n",
    "\n",
    "    def __init__(self):  # <2>\n",
    "        print(f'@ Descriptor.__init__({self!r})')\n",
    "\n",
    "    def __set_name__(self, owner, name):  # <3>\n",
    "        args = (self, owner, name)\n",
    "        print(f'@ Descriptor.__set_name__{args!r}')\n",
    "\n",
    "    def __set__(self, instance, value):  # <4>\n",
    "        args = (self, instance, value)\n",
    "        print(f'@ Descriptor.__set__{args!r}')\n",
    "\n",
    "    def __repr__(self):\n",
    "        return '<Descriptor instance>'\n",
    "\n",
    "\n",
    "print('@ builderlib module end')\n",
    "# end::BUILDERLIB_BOTTOM[]\n"
   ]
  },
  {
   "cell_type": "code",
   "execution_count": 31,
   "id": "47682280",
   "metadata": {},
   "outputs": [
    {
     "data": {
      "text/plain": [
       "['D:\\\\books\\\\python\\\\0.   Fluent Python, 2nd Edition',\n",
       " 'D:/books/python/0.   Fluent Python, 2nd Edition/example-code-2e/24-class-metaprog/evaltime/',\n",
       " 'D:/books/python/0.   Fluent Python, 2nd Edition/example-code-2e/24-class-metaprog/',\n",
       " 'C:\\\\Users\\\\lidan\\\\miniconda3\\\\python38.zip',\n",
       " 'C:\\\\Users\\\\lidan\\\\miniconda3\\\\DLLs',\n",
       " 'C:\\\\Users\\\\lidan\\\\miniconda3\\\\lib',\n",
       " 'C:\\\\Users\\\\lidan\\\\miniconda3',\n",
       " '',\n",
       " 'C:\\\\Users\\\\lidan\\\\AppData\\\\Roaming\\\\Python\\\\Python38\\\\site-packages',\n",
       " 'C:\\\\Users\\\\lidan\\\\miniconda3\\\\lib\\\\site-packages',\n",
       " 'C:\\\\Users\\\\lidan\\\\miniconda3\\\\lib\\\\site-packages\\\\magic_impute-2.0.4-py3.8.egg',\n",
       " 'C:\\\\Users\\\\lidan\\\\miniconda3\\\\lib\\\\site-packages\\\\seqc-0.2.0-py3.8.egg',\n",
       " 'C:\\\\Users\\\\lidan\\\\miniconda3\\\\lib\\\\site-packages\\\\weasyprint-56.1-py3.8.egg',\n",
       " 'C:\\\\Users\\\\lidan\\\\miniconda3\\\\lib\\\\site-packages\\\\cairocffi-1.3.0-py3.8.egg',\n",
       " 'C:\\\\Users\\\\lidan\\\\miniconda3\\\\lib\\\\site-packages\\\\win32',\n",
       " 'C:\\\\Users\\\\lidan\\\\miniconda3\\\\lib\\\\site-packages\\\\win32\\\\lib',\n",
       " 'C:\\\\Users\\\\lidan\\\\miniconda3\\\\lib\\\\site-packages\\\\Pythonwin']"
      ]
     },
     "execution_count": 31,
     "metadata": {},
     "output_type": "execute_result"
    }
   ],
   "source": [
    "import sys\n",
    "    # caution: path[0] is reserved for script path (or '' in REPL)\n",
    "sys.path.insert(1, 'D:/books/python/0.   Fluent Python, 2nd Edition/example-code-2e/24-class-metaprog/evaltime/')\n",
    "sys.path"
   ]
  },
  {
   "cell_type": "code",
   "execution_count": 32,
   "id": "823b9c56",
   "metadata": {},
   "outputs": [
    {
     "name": "stdout",
     "output_type": "stream",
     "text": [
      "@ builderlib module start\n",
      "@ Builder body\n",
      "@ Descriptor body\n",
      "@ builderlib module end\n",
      "# evaldemo module start\n",
      "# Klass body\n",
      "@ Descriptor.__init__(<Descriptor instance>)\n",
      "@ Descriptor.__set_name__(<Descriptor instance>, <class '__main__.Klass'>, 'attr')\n",
      "@ Builder.__init_subclass__(<class '__main__.Klass'>)\n",
      "@ deco(<class '__main__.Klass'>)\n",
      "@ Builder.__init__(<Klass instance>)\n",
      "# Klass.__init__(<Klass instance>)\n",
      "@ SuperA.__init_subclass__:inner_0(<Klass instance>)\n",
      "@ deco:inner_1(<Klass instance>)\n",
      "@ Descriptor.__set__(<Descriptor instance>, <Klass instance>, 999)\n",
      "# evaldemo module end\n"
     ]
    }
   ],
   "source": [
    "#!/usr/bin/env python3\n",
    "\n",
    "from builderlib import Builder, deco, Descriptor\n",
    "\n",
    "print('# evaldemo module start')\n",
    "\n",
    "@deco  # <1>\n",
    "class Klass(Builder):  # <2>\n",
    "    print('# Klass body')\n",
    "\n",
    "    attr = Descriptor()  # <3>\n",
    "\n",
    "    def __init__(self):\n",
    "        super().__init__()\n",
    "        print(f'# Klass.__init__({self!r})')\n",
    "\n",
    "    def __repr__(self):\n",
    "        return '<Klass instance>'\n",
    "\n",
    "\n",
    "def main():  # <4>\n",
    "    obj = Klass()\n",
    "    obj.method_a()\n",
    "    obj.method_b()\n",
    "    obj.attr = 999\n",
    "\n",
    "if __name__ == '__main__':\n",
    "    main()\n",
    "\n",
    "print('# evaldemo module end')\n"
   ]
  },
  {
   "cell_type": "code",
   "execution_count": 33,
   "id": "6530707f",
   "metadata": {},
   "outputs": [
    {
     "data": {
      "text/plain": [
       "abc.ABCMeta"
      ]
     },
     "execution_count": 33,
     "metadata": {},
     "output_type": "execute_result"
    }
   ],
   "source": [
    "from collections.abc import Iterable\n",
    "Iterable.__class__"
   ]
  },
  {
   "cell_type": "code",
   "execution_count": 34,
   "id": "89b803da",
   "metadata": {},
   "outputs": [
    {
     "data": {
      "text/plain": [
       "type"
      ]
     },
     "execution_count": 34,
     "metadata": {},
     "output_type": "execute_result"
    }
   ],
   "source": [
    "import abc\n",
    "from abc import ABCMeta\n",
    "ABCMeta.__class__"
   ]
  },
  {
   "cell_type": "code",
   "execution_count": 45,
   "id": "8e9502e7",
   "metadata": {},
   "outputs": [
    {
     "data": {
      "text/plain": [
       "type"
      ]
     },
     "execution_count": 45,
     "metadata": {},
     "output_type": "execute_result"
    }
   ],
   "source": [
    "ABCMeta.__class__"
   ]
  },
  {
   "cell_type": "code",
   "execution_count": 40,
   "id": "125df040",
   "metadata": {},
   "outputs": [
    {
     "data": {
      "text/plain": [
       "(type,)"
      ]
     },
     "execution_count": 40,
     "metadata": {},
     "output_type": "execute_result"
    }
   ],
   "source": [
    "ABCMeta.__bases__"
   ]
  },
  {
   "cell_type": "code",
   "execution_count": null,
   "id": "29811f6c",
   "metadata": {},
   "outputs": [],
   "source": [
    "type.__class__"
   ]
  },
  {
   "cell_type": "code",
   "execution_count": 44,
   "id": "9ed74062",
   "metadata": {},
   "outputs": [
    {
     "data": {
      "text/plain": [
       "type"
      ]
     },
     "execution_count": 44,
     "metadata": {},
     "output_type": "execute_result"
    }
   ],
   "source": [
    "type.__class__.__class__"
   ]
  },
  {
   "cell_type": "code",
   "execution_count": 35,
   "id": "faa1fb86",
   "metadata": {},
   "outputs": [
    {
     "data": {
      "text/plain": [
       "type"
      ]
     },
     "execution_count": 35,
     "metadata": {},
     "output_type": "execute_result"
    }
   ],
   "source": [
    "Iterable.__class__.__class__"
   ]
  },
  {
   "cell_type": "code",
   "execution_count": 39,
   "id": "1f4c3ae7",
   "metadata": {},
   "outputs": [
    {
     "data": {
      "text/plain": [
       "(object,)"
      ]
     },
     "execution_count": 39,
     "metadata": {},
     "output_type": "execute_result"
    }
   ],
   "source": [
    "Iterable.__bases__"
   ]
  },
  {
   "cell_type": "code",
   "execution_count": 41,
   "id": "0d17a246",
   "metadata": {},
   "outputs": [
    {
     "data": {
      "text/plain": [
       "(object,)"
      ]
     },
     "execution_count": 41,
     "metadata": {},
     "output_type": "execute_result"
    }
   ],
   "source": [
    "type.__bases__"
   ]
  },
  {
   "cell_type": "code",
   "execution_count": 42,
   "id": "5646b46f",
   "metadata": {},
   "outputs": [
    {
     "data": {
      "text/plain": [
       "()"
      ]
     },
     "execution_count": 42,
     "metadata": {},
     "output_type": "execute_result"
    }
   ],
   "source": [
    "object.__bases__"
   ]
  },
  {
   "cell_type": "code",
   "execution_count": 46,
   "id": "ddf92f86",
   "metadata": {},
   "outputs": [
    {
     "data": {
      "text/plain": [
       "<function type.__new__(*args, **kwargs)>"
      ]
     },
     "execution_count": 46,
     "metadata": {},
     "output_type": "execute_result"
    }
   ],
   "source": [
    "type.__new__"
   ]
  },
  {
   "cell_type": "code",
   "execution_count": 48,
   "id": "68ec55da",
   "metadata": {},
   "outputs": [],
   "source": [
    "\"\"\"\n",
    "The `MetaBunch` metaclass is a simplified version of the\n",
    "last example in the _How a Metaclass Creates a Class_ section\n",
    "of _Chapter 4: Object Oriented Python_ from\n",
    "[_Python in a Nutshell, 3rd edition_](https://learning.oreilly.com/library/view/python-in-a/9781491913833)\n",
    "by Alex Martelli, Anna Ravenscroft, and Steve Holden.\n",
    "\n",
    "Here are a few tests. ``bunch_test.py`` has a few more.\n",
    "\n",
    "# tag::BUNCH_POINT_DEMO_1[]\n",
    "    >>> class Point(Bunch):\n",
    "    ...     x = 0.0\n",
    "    ...     y = 0.0\n",
    "    ...     color = 'gray'\n",
    "    ...\n",
    "    >>> Point(x=1.2, y=3, color='green')\n",
    "    Point(x=1.2, y=3, color='green')\n",
    "    >>> p = Point()\n",
    "    >>> p.x, p.y, p.color\n",
    "    (0.0, 0.0, 'gray')\n",
    "    >>> p\n",
    "    Point()\n",
    "\n",
    "# end::BUNCH_POINT_DEMO_1[]\n",
    "\n",
    "# tag::BUNCH_POINT_DEMO_2[]\n",
    "\n",
    "    >>> Point(x=1, y=2, z=3)\n",
    "    Traceback (most recent call last):\n",
    "      ...\n",
    "    AttributeError: No slots left for: 'z'\n",
    "    >>> p = Point(x=21)\n",
    "    >>> p.y = 42\n",
    "    >>> p\n",
    "    Point(x=21, y=42)\n",
    "    >>> p.flavor = 'banana'\n",
    "    Traceback (most recent call last):\n",
    "      ...\n",
    "    AttributeError: 'Point' object has no attribute 'flavor'\n",
    "\n",
    "# end::BUNCH_POINT_DEMO_2[]\n",
    "\"\"\"\n",
    "\n",
    "# tag::METABUNCH[]\n",
    "class MetaBunch(type):  # <1>\n",
    "    def __new__(meta_cls, cls_name, bases, cls_dict):  # <2>\n",
    "\n",
    "        defaults = {}  # <3>\n",
    "\n",
    "        def __init__(self, **kwargs):  # <4>\n",
    "            for name, default in defaults.items():  # <5>\n",
    "                setattr(self, name, kwargs.pop(name, default))\n",
    "            if kwargs:  # <6>\n",
    "                extra = ', '.join(kwargs)\n",
    "                raise AttributeError(f'No slots left for: {extra!r}')\n",
    "\n",
    "        def __repr__(self):  # <7>\n",
    "            rep = ', '.join(f'{name}={value!r}'\n",
    "                            for name, default in defaults.items()\n",
    "                            if (value := getattr(self, name)) != default)\n",
    "            return f'{cls_name}({rep})'\n",
    "\n",
    "        new_dict = dict(__slots__=[], __init__=__init__, __repr__=__repr__)  # <8>\n",
    "\n",
    "        for name, value in cls_dict.items():  # <9>\n",
    "            if name.startswith('__') and name.endswith('__'):  # <10>\n",
    "                if name in new_dict:\n",
    "                    raise AttributeError(f\"Can't set {name!r} in {cls_name!r}\")\n",
    "                new_dict[name] = value\n",
    "            else:  # <11>\n",
    "                new_dict['__slots__'].append(name)\n",
    "                defaults[name] = value\n",
    "        return super().__new__(meta_cls, cls_name, bases, new_dict)  # <12>\n",
    "\n",
    "\n",
    "class Bunch(metaclass=MetaBunch):  # <13>\n",
    "    pass\n",
    "# end::METABUNCH[]\n"
   ]
  },
  {
   "cell_type": "code",
   "execution_count": 49,
   "id": "6b61e02e",
   "metadata": {},
   "outputs": [
    {
     "data": {
      "text/plain": [
       "Point(x=1.2, y=3, color='green')"
      ]
     },
     "execution_count": 49,
     "metadata": {},
     "output_type": "execute_result"
    }
   ],
   "source": [
    "class Point(Bunch):\n",
    "    x = 0.0\n",
    "    y = 0.0\n",
    "    color = 'gray'\n",
    "Point(x=1.2, y=3, color='green')"
   ]
  },
  {
   "cell_type": "code",
   "execution_count": 50,
   "id": "e2de4692",
   "metadata": {},
   "outputs": [
    {
     "data": {
      "text/plain": [
       "(0.0, 0.0, 'gray')"
      ]
     },
     "execution_count": 50,
     "metadata": {},
     "output_type": "execute_result"
    }
   ],
   "source": [
    "p = Point()\n",
    "p.x, p.y, p.color"
   ]
  },
  {
   "cell_type": "code",
   "execution_count": 51,
   "id": "577e64d8",
   "metadata": {},
   "outputs": [
    {
     "data": {
      "text/plain": [
       "Point()"
      ]
     },
     "execution_count": 51,
     "metadata": {},
     "output_type": "execute_result"
    }
   ],
   "source": [
    "p"
   ]
  },
  {
   "cell_type": "code",
   "execution_count": 52,
   "id": "b058e696",
   "metadata": {},
   "outputs": [
    {
     "name": "stdout",
     "output_type": "stream",
     "text": [
      "Point()\n"
     ]
    }
   ],
   "source": [
    "print(p)"
   ]
  },
  {
   "cell_type": "code",
   "execution_count": 53,
   "id": "9fe49069",
   "metadata": {},
   "outputs": [
    {
     "data": {
      "text/plain": [
       "Point(x=21, y=42)"
      ]
     },
     "execution_count": 53,
     "metadata": {},
     "output_type": "execute_result"
    }
   ],
   "source": [
    "p = Point(x=21)\n",
    "p.y = 42\n",
    "p"
   ]
  },
  {
   "cell_type": "code",
   "execution_count": 54,
   "id": "399ccd95",
   "metadata": {},
   "outputs": [
    {
     "name": "stdout",
     "output_type": "stream",
     "text": [
      "# evaldemo module start\n",
      "# Klass body\n",
      "@ Descriptor.__init__(<Descriptor instance>)\n",
      "@ Descriptor.__set_name__(<Descriptor instance>, <class '__main__.Klass'>, 'attr')\n",
      "@ Builder.__init_subclass__(<class '__main__.Klass'>)\n",
      "@ deco(<class '__main__.Klass'>)\n",
      "@ Builder.__init__(<Klass instance>)\n",
      "# Klass.__init__(<Klass instance>)\n",
      "@ SuperA.__init_subclass__:inner_0(<Klass instance>)\n",
      "@ deco:inner_1(<Klass instance>)\n",
      "@ Descriptor.__set__(<Descriptor instance>, <Klass instance>, 999)\n",
      "# evaldemo module end\n"
     ]
    }
   ],
   "source": [
    "#!/usr/bin/env python3\n",
    "\n",
    "from builderlib import Builder, deco, Descriptor\n",
    "\n",
    "print('# evaldemo module start')\n",
    "\n",
    "@deco  # <1>\n",
    "class Klass(Builder):  # <2>\n",
    "    print('# Klass body')\n",
    "\n",
    "    attr = Descriptor()  # <3>\n",
    "\n",
    "    def __init__(self):\n",
    "        super().__init__()\n",
    "        print(f'# Klass.__init__({self!r})')\n",
    "\n",
    "    def __repr__(self):\n",
    "        return '<Klass instance>'\n",
    "\n",
    "\n",
    "def main():  # <4>\n",
    "    obj = Klass()\n",
    "    obj.method_a()\n",
    "    obj.method_b()\n",
    "    obj.attr = 999\n",
    "\n",
    "if __name__ == '__main__':\n",
    "    main()\n",
    "\n",
    "print('# evaldemo module end')\n"
   ]
  },
  {
   "cell_type": "code",
   "execution_count": 57,
   "id": "404d9be8",
   "metadata": {},
   "outputs": [
    {
     "data": {
      "text/plain": [
       "(object,)"
      ]
     },
     "execution_count": 57,
     "metadata": {},
     "output_type": "execute_result"
    }
   ],
   "source": [
    "Builder.__bases__"
   ]
  },
  {
   "cell_type": "code",
   "execution_count": 58,
   "id": "368e4948",
   "metadata": {},
   "outputs": [
    {
     "name": "stdout",
     "output_type": "stream",
     "text": [
      "% metalib module start\n",
      "% MetaKlass body\n",
      "% metalib module end\n"
     ]
    }
   ],
   "source": [
    "# tag::METALIB_TOP[]\n",
    "print('% metalib module start')\n",
    "\n",
    "import collections\n",
    "\n",
    "class NosyDict(collections.UserDict):\n",
    "    def __setitem__(self, key, value):\n",
    "        args = (self, key, value)\n",
    "        print(f'% NosyDict.__setitem__{args!r}')\n",
    "        super().__setitem__(key, value)\n",
    "\n",
    "    def __repr__(self):\n",
    "        return '<NosyDict instance>'\n",
    "# end::METALIB_TOP[]\n",
    "\n",
    "# tag::METALIB_BOTTOM[]\n",
    "class MetaKlass(type):\n",
    "    print('% MetaKlass body')\n",
    "\n",
    "    @classmethod  # <1>\n",
    "    def __prepare__(meta_cls, cls_name, bases):  # <2>\n",
    "        args = (meta_cls, cls_name, bases)\n",
    "        print(f'% MetaKlass.__prepare__{args!r}')\n",
    "        return NosyDict()  # <3>\n",
    "\n",
    "    def __new__(meta_cls, cls_name, bases, cls_dict):  # <4>\n",
    "        args = (meta_cls, cls_name, bases, cls_dict)\n",
    "        print(f'% MetaKlass.__new__{args!r}')\n",
    "        def inner_2(self):\n",
    "            print(f'% MetaKlass.__new__:inner_2({self!r})')\n",
    "\n",
    "        cls = super().__new__(meta_cls, cls_name, bases, cls_dict.data)  # <5>\n",
    "\n",
    "        cls.method_c = inner_2  # <6>\n",
    "\n",
    "        return cls  # <7>\n",
    "\n",
    "    def __repr__(cls):  # <8>\n",
    "        cls_name = cls.__name__\n",
    "        return f\"<class {cls_name!r} built by MetaKlass>\"\n",
    "\n",
    "print('% metalib module end')\n",
    "# end::METALIB_BOTTOM[]\n"
   ]
  },
  {
   "cell_type": "code",
   "execution_count": 59,
   "id": "50f1f7cb",
   "metadata": {},
   "outputs": [
    {
     "name": "stdout",
     "output_type": "stream",
     "text": [
      "# evaldemo_meta module start\n",
      "% MetaKlass.__prepare__(<class 'metalib.MetaKlass'>, 'Klass', (<class 'builderlib.Builder'>,))\n",
      "% NosyDict.__setitem__(<NosyDict instance>, '__module__', '__main__')\n",
      "% NosyDict.__setitem__(<NosyDict instance>, '__qualname__', 'Klass')\n",
      "# Klass body\n",
      "@ Descriptor.__init__(<Descriptor instance>)\n",
      "% NosyDict.__setitem__(<NosyDict instance>, 'attr', <Descriptor instance>)\n",
      "% NosyDict.__setitem__(<NosyDict instance>, '__init__', <function Klass.__init__ at 0x000001D953A90AF0>)\n",
      "% NosyDict.__setitem__(<NosyDict instance>, '__repr__', <function Klass.__repr__ at 0x000001D953A90B80>)\n",
      "% NosyDict.__setitem__(<NosyDict instance>, '__classcell__', <cell at 0x000001D9530633A0: empty>)\n",
      "% MetaKlass.__new__(<class 'metalib.MetaKlass'>, 'Klass', (<class 'builderlib.Builder'>,), <NosyDict instance>)\n",
      "@ Descriptor.__set_name__(<Descriptor instance>, <class 'Klass' built by MetaKlass>, 'attr')\n",
      "@ Builder.__init_subclass__(<class 'Klass' built by MetaKlass>)\n",
      "@ deco(<class 'Klass' built by MetaKlass>)\n",
      "@ Builder.__init__(<Klass instance>)\n",
      "# Klass.__init__(<Klass instance>)\n",
      "@ SuperA.__init_subclass__:inner_0(<Klass instance>)\n",
      "@ deco:inner_1(<Klass instance>)\n",
      "% MetaKlass.__new__:inner_2(<Klass instance>)\n",
      "@ Descriptor.__set__(<Descriptor instance>, <Klass instance>, 999)\n",
      "# evaldemo_meta module end\n"
     ]
    }
   ],
   "source": [
    "#!/usr/bin/env python3\n",
    "\n",
    "from builderlib import Builder, deco, Descriptor\n",
    "from metalib import MetaKlass  # <1>\n",
    "\n",
    "print('# evaldemo_meta module start')\n",
    "\n",
    "@deco\n",
    "class Klass(Builder, metaclass=MetaKlass):  # <2>\n",
    "    print('# Klass body')\n",
    "\n",
    "    attr = Descriptor()\n",
    "\n",
    "    def __init__(self):\n",
    "        super().__init__()\n",
    "        print(f'# Klass.__init__({self!r})')\n",
    "\n",
    "    def __repr__(self):\n",
    "        return '<Klass instance>'\n",
    "\n",
    "\n",
    "def main():\n",
    "    obj = Klass()\n",
    "    obj.method_a()\n",
    "    obj.method_b()\n",
    "    obj.method_c()  # <3>\n",
    "    obj.attr = 999\n",
    "\n",
    "\n",
    "if __name__ == '__main__':\n",
    "    main()\n",
    "\n",
    "print('# evaldemo_meta module end')\n"
   ]
  },
  {
   "cell_type": "code",
   "execution_count": 60,
   "id": "3653cc99",
   "metadata": {},
   "outputs": [],
   "source": [
    "\"\"\"\n",
    "A ``Checked`` subclass definition requires that keyword arguments are\n",
    "used to create an instance, and provides a nice ``__repr__``::\n",
    "\n",
    "# tag::MOVIE_DEFINITION[]\n",
    "\n",
    "    >>> class Movie(Checked):  # <1>\n",
    "    ...     title: str  # <2>\n",
    "    ...     year: int\n",
    "    ...     box_office: float\n",
    "    ...\n",
    "    >>> movie = Movie(title='The Godfather', year=1972, box_office=137)  # <3>\n",
    "    >>> movie.title\n",
    "    'The Godfather'\n",
    "    >>> movie  # <4>\n",
    "    Movie(title='The Godfather', year=1972, box_office=137.0)\n",
    "\n",
    "# end::MOVIE_DEFINITION[]\n",
    "\n",
    "The type of arguments is runtime checked during instantiation\n",
    "and when an attribute is set::\n",
    "\n",
    "# tag::MOVIE_TYPE_VALIDATION[]\n",
    "\n",
    "    >>> blockbuster = Movie(title='Avatar', year=2009, box_office='billions')\n",
    "    Traceback (most recent call last):\n",
    "      ...\n",
    "    TypeError: 'billions' is not compatible with box_office:float\n",
    "    >>> movie.year = 'MCMLXXII'\n",
    "    Traceback (most recent call last):\n",
    "      ...\n",
    "    TypeError: 'MCMLXXII' is not compatible with year:int\n",
    "\n",
    "# end::MOVIE_TYPE_VALIDATION[]\n",
    "\n",
    "Attributes not passed as arguments to the constructor are initialized with\n",
    "default values::\n",
    "\n",
    "# tag::MOVIE_DEFAULTS[]\n",
    "\n",
    "    >>> Movie(title='Life of Brian')\n",
    "    Movie(title='Life of Brian', year=0, box_office=0.0)\n",
    "\n",
    "# end::MOVIE_DEFAULTS[]\n",
    "\n",
    "Providing extra arguments to the constructor is not allowed::\n",
    "\n",
    "    >>> blockbuster = Movie(title='Avatar', year=2009, box_office=2000,\n",
    "    ...                     director='James Cameron')\n",
    "    Traceback (most recent call last):\n",
    "      ...\n",
    "    AttributeError: 'Movie' object has no attribute 'director'\n",
    "\n",
    "Creating new attributes at runtime is restricted as well::\n",
    "\n",
    "    >>> movie.director = 'Francis Ford Coppola'\n",
    "    Traceback (most recent call last):\n",
    "      ...\n",
    "    AttributeError: 'Movie' object has no attribute 'director'\n",
    "\n",
    "The `_asdict` instance method creates a `dict` from the attributes\n",
    "of a `Movie` object::\n",
    "\n",
    "    >>> movie._asdict()\n",
    "    {'title': 'The Godfather', 'year': 1972, 'box_office': 137.0}\n",
    "\n",
    "\"\"\"\n",
    "\n",
    "from collections.abc import Callable\n",
    "from typing import Any, NoReturn, get_type_hints\n",
    "\n",
    "# tag::CHECKED_FIELD[]\n",
    "class Field:\n",
    "    def __init__(self, name: str, constructor: Callable) -> None:\n",
    "        if not callable(constructor) or constructor is type(None):\n",
    "            raise TypeError(f'{name!r} type hint must be callable')\n",
    "        self.name = name\n",
    "        self.storage_name = '_' + name  # <1>\n",
    "        self.constructor = constructor\n",
    "\n",
    "    def __get__(self, instance, owner=None):\n",
    "        if instance is None:  # <2>\n",
    "            return self\n",
    "        return getattr(instance, self.storage_name)  # <3>\n",
    "\n",
    "    def __set__(self, instance: Any, value: Any) -> None:\n",
    "        if value is ...:\n",
    "            value = self.constructor()\n",
    "        else:\n",
    "            try:\n",
    "                value = self.constructor(value)\n",
    "            except (TypeError, ValueError) as e:\n",
    "                type_name = self.constructor.__name__\n",
    "                msg = f'{value!r} is not compatible with {self.name}:{type_name}'\n",
    "                raise TypeError(msg) from e\n",
    "        setattr(instance, self.storage_name, value)  # <4>\n",
    "# end::CHECKED_FIELD[]\n",
    "\n",
    "# tag::CHECKED_META[]\n",
    "class CheckedMeta(type):\n",
    "\n",
    "    def __new__(meta_cls, cls_name, bases, cls_dict):  # <1>\n",
    "        if '__slots__' not in cls_dict:  # <2>\n",
    "            slots = []\n",
    "            type_hints = cls_dict.get('__annotations__', {})  # <3>\n",
    "            for name, constructor in type_hints.items():   # <4>\n",
    "                field = Field(name, constructor)  # <5>\n",
    "                cls_dict[name] = field  # <6>\n",
    "                slots.append(field.storage_name)  # <7>\n",
    "\n",
    "            cls_dict['__slots__'] = slots  # <8>\n",
    "\n",
    "        return super().__new__(\n",
    "                meta_cls, cls_name, bases, cls_dict)  # <9>\n",
    "# end::CHECKED_META[]\n",
    "\n",
    "# tag::CHECKED_CLASS[]\n",
    "class Checked(metaclass=CheckedMeta):\n",
    "    __slots__ = ()  # skip CheckedMeta.__new__ processing\n",
    "\n",
    "    @classmethod\n",
    "    def _fields(cls) -> dict[str, type]:\n",
    "        return get_type_hints(cls)\n",
    "\n",
    "    def __init__(self, **kwargs: Any) -> None:\n",
    "        for name in self._fields():\n",
    "            value = kwargs.pop(name, ...)\n",
    "            setattr(self, name, value)\n",
    "        if kwargs:\n",
    "            self.__flag_unknown_attrs(*kwargs)\n",
    "\n",
    "    def __flag_unknown_attrs(self, *names: str) -> NoReturn:\n",
    "        plural = 's' if len(names) > 1 else ''\n",
    "        extra = ', '.join(f'{name!r}' for name in names)\n",
    "        cls_name = repr(self.__class__.__name__)\n",
    "        raise AttributeError(f'{cls_name} object has no attribute{plural} {extra}')\n",
    "\n",
    "    def _asdict(self) -> dict[str, Any]:\n",
    "        return {\n",
    "            name: getattr(self, name)\n",
    "            for name, attr in self.__class__.__dict__.items()\n",
    "            if isinstance(attr, Field)\n",
    "        }\n",
    "\n",
    "    def __repr__(self) -> str:\n",
    "        kwargs = ', '.join(\n",
    "            f'{key}={value!r}' for key, value in self._asdict().items()\n",
    "        )\n",
    "        return f'{self.__class__.__name__}({kwargs})'\n",
    "\n",
    "# end::CHECKED_CLASS[]\n"
   ]
  },
  {
   "cell_type": "code",
   "execution_count": 1,
   "id": "1fbb2a70",
   "metadata": {},
   "outputs": [
    {
     "data": {
      "text/plain": [
       "['D:\\\\books\\\\python\\\\0.   Fluent Python, 2nd Edition',\n",
       " 'D:/books/python/0.   Fluent Python, 2nd Edition/example-code-2e/24-class-metaprog/checked/metaclass/',\n",
       " 'C:\\\\Users\\\\lidan\\\\miniconda3\\\\python38.zip',\n",
       " 'C:\\\\Users\\\\lidan\\\\miniconda3\\\\DLLs',\n",
       " 'C:\\\\Users\\\\lidan\\\\miniconda3\\\\lib',\n",
       " 'C:\\\\Users\\\\lidan\\\\miniconda3',\n",
       " '',\n",
       " 'C:\\\\Users\\\\lidan\\\\AppData\\\\Roaming\\\\Python\\\\Python38\\\\site-packages',\n",
       " 'C:\\\\Users\\\\lidan\\\\miniconda3\\\\lib\\\\site-packages',\n",
       " 'C:\\\\Users\\\\lidan\\\\miniconda3\\\\lib\\\\site-packages\\\\magic_impute-2.0.4-py3.8.egg',\n",
       " 'C:\\\\Users\\\\lidan\\\\miniconda3\\\\lib\\\\site-packages\\\\seqc-0.2.0-py3.8.egg',\n",
       " 'C:\\\\Users\\\\lidan\\\\miniconda3\\\\lib\\\\site-packages\\\\weasyprint-56.1-py3.8.egg',\n",
       " 'C:\\\\Users\\\\lidan\\\\miniconda3\\\\lib\\\\site-packages\\\\cairocffi-1.3.0-py3.8.egg',\n",
       " 'C:\\\\Users\\\\lidan\\\\miniconda3\\\\lib\\\\site-packages\\\\win32',\n",
       " 'C:\\\\Users\\\\lidan\\\\miniconda3\\\\lib\\\\site-packages\\\\win32\\\\lib',\n",
       " 'C:\\\\Users\\\\lidan\\\\miniconda3\\\\lib\\\\site-packages\\\\Pythonwin']"
      ]
     },
     "execution_count": 1,
     "metadata": {},
     "output_type": "execute_result"
    }
   ],
   "source": [
    "from __future__ import annotations\n",
    "import sys\n",
    "    # caution: path[0] is reserved for script path (or '' in REPL)\n",
    "sys.path.insert(1, 'D:/books/python/0.   Fluent Python, 2nd Edition/example-code-2e/24-class-metaprog/checked/metaclass/')\n",
    "sys.path"
   ]
  },
  {
   "cell_type": "code",
   "execution_count": 2,
   "id": "ec957d2d",
   "metadata": {},
   "outputs": [
    {
     "ename": "TypeError",
     "evalue": "'title' type hint must be callable",
     "output_type": "error",
     "traceback": [
      "\u001b[1;31m---------------------------------------------------------------------------\u001b[0m",
      "\u001b[1;31mTypeError\u001b[0m                                 Traceback (most recent call last)",
      "Input \u001b[1;32mIn [2]\u001b[0m, in \u001b[0;36m<cell line: 6>\u001b[1;34m()\u001b[0m\n\u001b[0;32m      1\u001b[0m \u001b[38;5;66;03m#!/usr/bin/env python3\u001b[39;00m\n\u001b[0;32m      2\u001b[0m \n\u001b[0;32m      3\u001b[0m \u001b[38;5;66;03m# tag::MOVIE_DEMO[]\u001b[39;00m\n\u001b[0;32m      4\u001b[0m \u001b[38;5;28;01mfrom\u001b[39;00m \u001b[38;5;21;01mcheckedlib\u001b[39;00m \u001b[38;5;28;01mimport\u001b[39;00m Checked\n\u001b[1;32m----> 6\u001b[0m \u001b[38;5;28;01mclass\u001b[39;00m \u001b[38;5;21;01mMovie\u001b[39;00m(Checked):\n\u001b[0;32m      7\u001b[0m     title: \u001b[38;5;28mstr\u001b[39m\n\u001b[0;32m      8\u001b[0m     year: \u001b[38;5;28mint\u001b[39m\n",
      "File \u001b[1;32mD:\\books/python/0.   Fluent Python, 2nd Edition/example-code-2e/24-class-metaprog/checked/metaclass\\checkedlib.py:107\u001b[0m, in \u001b[0;36mCheckedMeta.__new__\u001b[1;34m(meta_cls, cls_name, bases, cls_dict)\u001b[0m\n\u001b[0;32m    105\u001b[0m type_hints \u001b[38;5;241m=\u001b[39m cls_dict\u001b[38;5;241m.\u001b[39mget(\u001b[38;5;124m'\u001b[39m\u001b[38;5;124m__annotations__\u001b[39m\u001b[38;5;124m'\u001b[39m, {})  \u001b[38;5;66;03m# <3>\u001b[39;00m\n\u001b[0;32m    106\u001b[0m \u001b[38;5;28;01mfor\u001b[39;00m name, constructor \u001b[38;5;129;01min\u001b[39;00m type_hints\u001b[38;5;241m.\u001b[39mitems():   \u001b[38;5;66;03m# <4>\u001b[39;00m\n\u001b[1;32m--> 107\u001b[0m     field \u001b[38;5;241m=\u001b[39m \u001b[43mField\u001b[49m\u001b[43m(\u001b[49m\u001b[43mname\u001b[49m\u001b[43m,\u001b[49m\u001b[43m \u001b[49m\u001b[43mconstructor\u001b[49m\u001b[43m)\u001b[49m  \u001b[38;5;66;03m# <5>\u001b[39;00m\n\u001b[0;32m    108\u001b[0m     cls_dict[name] \u001b[38;5;241m=\u001b[39m field  \u001b[38;5;66;03m# <6>\u001b[39;00m\n\u001b[0;32m    109\u001b[0m     slots\u001b[38;5;241m.\u001b[39mappend(field\u001b[38;5;241m.\u001b[39mstorage_name)  \u001b[38;5;66;03m# <7>\u001b[39;00m\n",
      "File \u001b[1;32mD:\\books/python/0.   Fluent Python, 2nd Edition/example-code-2e/24-class-metaprog/checked/metaclass\\checkedlib.py:76\u001b[0m, in \u001b[0;36mField.__init__\u001b[1;34m(self, name, constructor)\u001b[0m\n\u001b[0;32m     74\u001b[0m \u001b[38;5;28;01mdef\u001b[39;00m \u001b[38;5;21m__init__\u001b[39m(\u001b[38;5;28mself\u001b[39m, name: \u001b[38;5;28mstr\u001b[39m, constructor: Callable) \u001b[38;5;241m-\u001b[39m\u001b[38;5;241m>\u001b[39m \u001b[38;5;28;01mNone\u001b[39;00m:\n\u001b[0;32m     75\u001b[0m     \u001b[38;5;28;01mif\u001b[39;00m \u001b[38;5;129;01mnot\u001b[39;00m callable(constructor) \u001b[38;5;129;01mor\u001b[39;00m constructor \u001b[38;5;129;01mis\u001b[39;00m \u001b[38;5;28mtype\u001b[39m(\u001b[38;5;28;01mNone\u001b[39;00m):\n\u001b[1;32m---> 76\u001b[0m         \u001b[38;5;28;01mraise\u001b[39;00m \u001b[38;5;167;01mTypeError\u001b[39;00m(\u001b[38;5;124mf\u001b[39m\u001b[38;5;124m'\u001b[39m\u001b[38;5;132;01m{\u001b[39;00mname\u001b[38;5;132;01m!r}\u001b[39;00m\u001b[38;5;124m type hint must be callable\u001b[39m\u001b[38;5;124m'\u001b[39m)\n\u001b[0;32m     77\u001b[0m     \u001b[38;5;28mself\u001b[39m\u001b[38;5;241m.\u001b[39mname \u001b[38;5;241m=\u001b[39m name\n\u001b[0;32m     78\u001b[0m     \u001b[38;5;28mself\u001b[39m\u001b[38;5;241m.\u001b[39mstorage_name \u001b[38;5;241m=\u001b[39m \u001b[38;5;124m'\u001b[39m\u001b[38;5;124m_\u001b[39m\u001b[38;5;124m'\u001b[39m \u001b[38;5;241m+\u001b[39m name  \u001b[38;5;66;03m# <1>\u001b[39;00m\n",
      "\u001b[1;31mTypeError\u001b[0m: 'title' type hint must be callable"
     ]
    }
   ],
   "source": [
    "#!/usr/bin/env python3\n",
    "\n",
    "# tag::MOVIE_DEMO[]\n",
    "from checkedlib import Checked\n",
    "\n",
    "class Movie(Checked):\n",
    "    title: str\n",
    "    year: int\n",
    "    box_office: float\n",
    "\n",
    "if __name__ == '__main__':\n",
    "    movie = Movie(title='The Godfather', year=1972, box_office=137)\n",
    "    print(movie)\n",
    "    print(movie.title)\n",
    "    # end::MOVIE_DEMO[]\n",
    "\n",
    "    try:\n",
    "        # remove the \"type: ignore\" comment to see Mypy error\n",
    "        movie.year = 'MCMLXXII'  # type: ignore\n",
    "    except TypeError as e:\n",
    "        print(e)\n",
    "    try:\n",
    "        blockbuster = Movie(title='Avatar', year=2009, box_office='billions')\n",
    "    except TypeError as e:\n",
    "        print(e)\n"
   ]
  },
  {
   "cell_type": "code",
   "execution_count": 3,
   "id": "917b1364",
   "metadata": {},
   "outputs": [
    {
     "name": "stdout",
     "output_type": "stream",
     "text": [
      "Python 3.8.13\n"
     ]
    }
   ],
   "source": [
    "!python --version"
   ]
  },
  {
   "cell_type": "code",
   "execution_count": 5,
   "id": "26491ce9",
   "metadata": {},
   "outputs": [
    {
     "data": {
      "text/plain": [
       "['D:\\\\books\\\\python\\\\0.   Fluent Python, 2nd Edition',\n",
       " 'D:/books/python/0.   Fluent Python, 2nd Edition/example-code-2e/24-class-metaprog/autoconst/',\n",
       " 'D:/books/python/0.   Fluent Python, 2nd Edition/example-code-2e/24-class-metaprog/checked/metaclass/',\n",
       " 'C:\\\\Users\\\\lidan\\\\miniconda3\\\\python38.zip',\n",
       " 'C:\\\\Users\\\\lidan\\\\miniconda3\\\\DLLs',\n",
       " 'C:\\\\Users\\\\lidan\\\\miniconda3\\\\lib',\n",
       " 'C:\\\\Users\\\\lidan\\\\miniconda3',\n",
       " '',\n",
       " 'C:\\\\Users\\\\lidan\\\\AppData\\\\Roaming\\\\Python\\\\Python38\\\\site-packages',\n",
       " 'C:\\\\Users\\\\lidan\\\\miniconda3\\\\lib\\\\site-packages',\n",
       " 'C:\\\\Users\\\\lidan\\\\miniconda3\\\\lib\\\\site-packages\\\\magic_impute-2.0.4-py3.8.egg',\n",
       " 'C:\\\\Users\\\\lidan\\\\miniconda3\\\\lib\\\\site-packages\\\\seqc-0.2.0-py3.8.egg',\n",
       " 'C:\\\\Users\\\\lidan\\\\miniconda3\\\\lib\\\\site-packages\\\\weasyprint-56.1-py3.8.egg',\n",
       " 'C:\\\\Users\\\\lidan\\\\miniconda3\\\\lib\\\\site-packages\\\\cairocffi-1.3.0-py3.8.egg',\n",
       " 'C:\\\\Users\\\\lidan\\\\miniconda3\\\\lib\\\\site-packages\\\\win32',\n",
       " 'C:\\\\Users\\\\lidan\\\\miniconda3\\\\lib\\\\site-packages\\\\win32\\\\lib',\n",
       " 'C:\\\\Users\\\\lidan\\\\miniconda3\\\\lib\\\\site-packages\\\\Pythonwin']"
      ]
     },
     "execution_count": 5,
     "metadata": {},
     "output_type": "execute_result"
    }
   ],
   "source": [
    "from __future__ import annotations\n",
    "import sys\n",
    "    # caution: path[0] is reserved for script path (or '' in REPL)\n",
    "sys.path.insert(1, 'D:/books/python/0.   Fluent Python, 2nd Edition/example-code-2e/24-class-metaprog/autoconst/')\n",
    "sys.path"
   ]
  },
  {
   "cell_type": "code",
   "execution_count": 4,
   "id": "c3ccf0cb",
   "metadata": {},
   "outputs": [],
   "source": [
    "# tag::WilyDict[]\n",
    "class WilyDict(dict):\n",
    "    def __init__(self, *args, **kwargs):\n",
    "        super().__init__(*args, **kwargs)\n",
    "        self.__next_value = 0\n",
    "\n",
    "    def __missing__(self, key):\n",
    "        if key.startswith('__') and key.endswith('__'):\n",
    "            raise KeyError(key)\n",
    "        self[key] = value = self.__next_value\n",
    "        self.__next_value += 1\n",
    "        return value\n",
    "# end::WilyDict[]\n",
    "\n",
    "# tag::AUTOCONST[]\n",
    "class AutoConstMeta(type):\n",
    "    def __prepare__(name, bases, **kwargs):\n",
    "        return WilyDict()\n",
    "\n",
    "class AutoConst(metaclass=AutoConstMeta):\n",
    "    pass\n",
    "# end::AUTOCONST[]\n"
   ]
  },
  {
   "cell_type": "code",
   "execution_count": 6,
   "id": "1824a2ef",
   "metadata": {},
   "outputs": [
    {
     "name": "stdout",
     "output_type": "stream",
     "text": [
      "Flavor.vanilla == 2\n"
     ]
    }
   ],
   "source": [
    "#!/usr/bin/env python3\n",
    "\n",
    "\"\"\"\n",
    "Testing ``WilyDict``::\n",
    "\n",
    "    >>> from autoconst import WilyDict\n",
    "    >>> wd = WilyDict()\n",
    "    >>> len(wd)\n",
    "    0\n",
    "    >>> wd['first']\n",
    "    0\n",
    "    >>> wd\n",
    "    {'first': 0}\n",
    "    >>> wd['second']\n",
    "    1\n",
    "    >>> wd['third']\n",
    "    2\n",
    "    >>> len(wd)\n",
    "    3\n",
    "    >>> wd\n",
    "    {'first': 0, 'second': 1, 'third': 2}\n",
    "    >>> wd['__magic__']\n",
    "    Traceback (most recent call last):\n",
    "      ...\n",
    "    KeyError: '__magic__'\n",
    "\n",
    "Testing ``AutoConst``::\n",
    "\n",
    "    >>> from autoconst import AutoConst\n",
    "\n",
    "# tag::AUTOCONST[]\n",
    "    >>> class Flavor(AutoConst):\n",
    "    ...     banana\n",
    "    ...     coconut\n",
    "    ...     vanilla\n",
    "    ...\n",
    "    >>> Flavor.vanilla\n",
    "    2\n",
    "    >>> Flavor.banana, Flavor.coconut\n",
    "    (0, 1)\n",
    "\n",
    "# end::AUTOCONST[]\n",
    "\n",
    "\"\"\"\n",
    "\n",
    "from autoconst import AutoConst\n",
    "\n",
    "\n",
    "class Flavor(AutoConst):\n",
    "    banana\n",
    "    coconut\n",
    "    vanilla\n",
    "\n",
    "\n",
    "print('Flavor.vanilla ==', Flavor.vanilla)"
   ]
  },
  {
   "cell_type": "code",
   "execution_count": 7,
   "id": "f9dd0647",
   "metadata": {},
   "outputs": [
    {
     "data": {
      "text/plain": [
       "0"
      ]
     },
     "execution_count": 7,
     "metadata": {},
     "output_type": "execute_result"
    }
   ],
   "source": [
    "from autoconst import WilyDict\n",
    "wd = WilyDict()\n",
    "len(wd)"
   ]
  },
  {
   "cell_type": "code",
   "execution_count": 8,
   "id": "bdfaf1b5",
   "metadata": {},
   "outputs": [
    {
     "data": {
      "text/plain": [
       "0"
      ]
     },
     "execution_count": 8,
     "metadata": {},
     "output_type": "execute_result"
    }
   ],
   "source": [
    "wd['first']"
   ]
  },
  {
   "cell_type": "code",
   "execution_count": 9,
   "id": "d8d2360f",
   "metadata": {},
   "outputs": [
    {
     "data": {
      "text/plain": [
       "{'first': 0}"
      ]
     },
     "execution_count": 9,
     "metadata": {},
     "output_type": "execute_result"
    }
   ],
   "source": [
    "wd"
   ]
  },
  {
   "cell_type": "code",
   "execution_count": 10,
   "id": "7774982d",
   "metadata": {},
   "outputs": [
    {
     "data": {
      "text/plain": [
       "1"
      ]
     },
     "execution_count": 10,
     "metadata": {},
     "output_type": "execute_result"
    }
   ],
   "source": [
    "wd['second']"
   ]
  },
  {
   "cell_type": "code",
   "execution_count": 11,
   "id": "5b143a93",
   "metadata": {},
   "outputs": [
    {
     "data": {
      "text/plain": [
       "2"
      ]
     },
     "execution_count": 11,
     "metadata": {},
     "output_type": "execute_result"
    }
   ],
   "source": [
    "len(wd)"
   ]
  },
  {
   "cell_type": "code",
   "execution_count": 12,
   "id": "ce9ec94d",
   "metadata": {},
   "outputs": [
    {
     "data": {
      "text/plain": [
       "2"
      ]
     },
     "execution_count": 12,
     "metadata": {},
     "output_type": "execute_result"
    }
   ],
   "source": [
    "wd['third']"
   ]
  },
  {
   "cell_type": "code",
   "execution_count": 13,
   "id": "580fbc79",
   "metadata": {},
   "outputs": [
    {
     "data": {
      "text/plain": [
       "3"
      ]
     },
     "execution_count": 13,
     "metadata": {},
     "output_type": "execute_result"
    }
   ],
   "source": [
    "len(wd)"
   ]
  },
  {
   "cell_type": "code",
   "execution_count": 14,
   "id": "d3051270",
   "metadata": {},
   "outputs": [
    {
     "data": {
      "text/plain": [
       "2"
      ]
     },
     "execution_count": 14,
     "metadata": {},
     "output_type": "execute_result"
    }
   ],
   "source": [
    "class Flavor(AutoConst):\n",
    "    banana\n",
    "    coconut\n",
    "    vanilla\n",
    "\n",
    "Flavor.vanilla"
   ]
  },
  {
   "cell_type": "code",
   "execution_count": 15,
   "id": "3294f581",
   "metadata": {},
   "outputs": [
    {
     "data": {
      "text/plain": [
       "(0, 1)"
      ]
     },
     "execution_count": 15,
     "metadata": {},
     "output_type": "execute_result"
    }
   ],
   "source": [
    "Flavor.banana, Flavor.coconut"
   ]
  },
  {
   "cell_type": "code",
   "execution_count": 17,
   "id": "accd1b64",
   "metadata": {},
   "outputs": [
    {
     "ename": "TypeError",
     "evalue": "'AutoConstMeta' object is not subscriptable",
     "output_type": "error",
     "traceback": [
      "\u001b[1;31m---------------------------------------------------------------------------\u001b[0m",
      "\u001b[1;31mTypeError\u001b[0m                                 Traceback (most recent call last)",
      "Input \u001b[1;32mIn [17]\u001b[0m, in \u001b[0;36m<cell line: 1>\u001b[1;34m()\u001b[0m\n\u001b[1;32m----> 1\u001b[0m \u001b[43mFlavor\u001b[49m\u001b[43m[\u001b[49m\u001b[38;5;241;43m2\u001b[39;49m\u001b[43m]\u001b[49m\n",
      "\u001b[1;31mTypeError\u001b[0m: 'AutoConstMeta' object is not subscriptable"
     ]
    }
   ],
   "source": [
    "Flavor[2]"
   ]
  },
  {
   "cell_type": "code",
   "execution_count": 16,
   "id": "d6d7507d",
   "metadata": {},
   "outputs": [
    {
     "data": {
      "text/plain": [
       "['__class__',\n",
       " '__delattr__',\n",
       " '__dict__',\n",
       " '__dir__',\n",
       " '__doc__',\n",
       " '__eq__',\n",
       " '__format__',\n",
       " '__ge__',\n",
       " '__getattribute__',\n",
       " '__gt__',\n",
       " '__hash__',\n",
       " '__init__',\n",
       " '__init_subclass__',\n",
       " '__le__',\n",
       " '__lt__',\n",
       " '__module__',\n",
       " '__ne__',\n",
       " '__new__',\n",
       " '__reduce__',\n",
       " '__reduce_ex__',\n",
       " '__repr__',\n",
       " '__setattr__',\n",
       " '__sizeof__',\n",
       " '__str__',\n",
       " '__subclasshook__',\n",
       " '__weakref__',\n",
       " 'banana',\n",
       " 'coconut',\n",
       " 'vanilla']"
      ]
     },
     "execution_count": 16,
     "metadata": {},
     "output_type": "execute_result"
    }
   ],
   "source": [
    "dir(Flavor)"
   ]
  }
 ],
 "metadata": {
  "kernelspec": {
   "display_name": "Python 3 (ipykernel)",
   "language": "python",
   "name": "python3"
  },
  "language_info": {
   "codemirror_mode": {
    "name": "ipython",
    "version": 3
   },
   "file_extension": ".py",
   "mimetype": "text/x-python",
   "name": "python",
   "nbconvert_exporter": "python",
   "pygments_lexer": "ipython3",
   "version": "3.8.13"
  }
 },
 "nbformat": 4,
 "nbformat_minor": 5
}
