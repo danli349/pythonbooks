{
 "cells": [
  {
   "cell_type": "code",
   "execution_count": 1,
   "id": "7c8fd907",
   "metadata": {},
   "outputs": [
    {
     "data": {
      "text/plain": [
       "['D:\\\\books\\\\python\\\\0.   Fluent Python, 2nd Edition',\n",
       " 'D:/books/python/0.   Fluent Python, 2nd Edition/example-code-2e/05-data-classes/',\n",
       " 'C:\\\\Users\\\\lidan\\\\miniconda3\\\\python38.zip',\n",
       " 'C:\\\\Users\\\\lidan\\\\miniconda3\\\\DLLs',\n",
       " 'C:\\\\Users\\\\lidan\\\\miniconda3\\\\lib',\n",
       " 'C:\\\\Users\\\\lidan\\\\miniconda3',\n",
       " '',\n",
       " 'C:\\\\Users\\\\lidan\\\\AppData\\\\Roaming\\\\Python\\\\Python38\\\\site-packages',\n",
       " 'C:\\\\Users\\\\lidan\\\\miniconda3\\\\lib\\\\site-packages',\n",
       " 'C:\\\\Users\\\\lidan\\\\miniconda3\\\\lib\\\\site-packages\\\\magic_impute-2.0.4-py3.8.egg',\n",
       " 'C:\\\\Users\\\\lidan\\\\miniconda3\\\\lib\\\\site-packages\\\\seqc-0.2.0-py3.8.egg',\n",
       " 'C:\\\\Users\\\\lidan\\\\miniconda3\\\\lib\\\\site-packages\\\\weasyprint-56.1-py3.8.egg',\n",
       " 'C:\\\\Users\\\\lidan\\\\miniconda3\\\\lib\\\\site-packages\\\\cairocffi-1.3.0-py3.8.egg',\n",
       " 'C:\\\\Users\\\\lidan\\\\miniconda3\\\\lib\\\\site-packages\\\\win32',\n",
       " 'C:\\\\Users\\\\lidan\\\\miniconda3\\\\lib\\\\site-packages\\\\win32\\\\lib',\n",
       " 'C:\\\\Users\\\\lidan\\\\miniconda3\\\\lib\\\\site-packages\\\\Pythonwin',\n",
       " 'C:\\\\Users\\\\lidan\\\\miniconda3\\\\lib\\\\site-packages\\\\IPython\\\\extensions',\n",
       " 'C:\\\\Users\\\\lidan\\\\.ipython']"
      ]
     },
     "execution_count": 1,
     "metadata": {},
     "output_type": "execute_result"
    }
   ],
   "source": [
    "import sys\n",
    "    # caution: path[0] is reserved for script path (or '' in REPL)\n",
    "sys.path.insert(1, 'D:/books/python/0.   Fluent Python, 2nd Edition/example-code-2e/05-data-classes/')\n",
    "sys.path"
   ]
  },
  {
   "cell_type": "code",
   "execution_count": 3,
   "id": "da229536",
   "metadata": {},
   "outputs": [
    {
     "name": "stdout",
     "output_type": "stream",
     "text": [
      "Python 3.10.0\n"
     ]
    }
   ],
   "source": [
    "!python --version"
   ]
  },
  {
   "cell_type": "code",
   "execution_count": 2,
   "id": "e1861175",
   "metadata": {},
   "outputs": [],
   "source": [
    "\"\"\"\n",
    "``Coordinate``: a simple class with a custom ``__str__``::\n",
    "\n",
    "    >>> moscow = Coordinate(55.756, 37.617)\n",
    "    >>> print(moscow)  # doctest:+ELLIPSIS\n",
    "    <coordinates.Coordinate object at 0x...>\n",
    "\"\"\"\n",
    "\n",
    "# tag::COORDINATE[]\n",
    "class Coordinate:\n",
    "\n",
    "    def __init__(self, lat, lon):\n",
    "        self.lat = lat\n",
    "        self.lon = lon\n",
    "\n",
    "# end::COORDINATE[]"
   ]
  },
  {
   "cell_type": "code",
   "execution_count": 3,
   "id": "32fb64de",
   "metadata": {},
   "outputs": [
    {
     "data": {
      "text/plain": [
       "<__main__.Coordinate at 0x2c8fc0a9b20>"
      ]
     },
     "execution_count": 3,
     "metadata": {},
     "output_type": "execute_result"
    }
   ],
   "source": [
    "moscow = Coordinate(55.76, 37.62)\n",
    "moscow"
   ]
  },
  {
   "cell_type": "code",
   "execution_count": 4,
   "id": "5ffdfc54",
   "metadata": {},
   "outputs": [
    {
     "data": {
      "text/plain": [
       "False"
      ]
     },
     "execution_count": 4,
     "metadata": {},
     "output_type": "execute_result"
    }
   ],
   "source": [
    "location = Coordinate(55.76, 37.62)\n",
    "location == moscow"
   ]
  },
  {
   "cell_type": "code",
   "execution_count": 5,
   "id": "6f7e14f2",
   "metadata": {},
   "outputs": [
    {
     "ename": "AttributeError",
     "evalue": "'Coordinate' object has no attribute 'eq'",
     "output_type": "error",
     "traceback": [
      "\u001b[1;31m---------------------------------------------------------------------------\u001b[0m",
      "\u001b[1;31mAttributeError\u001b[0m                            Traceback (most recent call last)",
      "\u001b[1;32m~\\AppData\\Local\\Temp/ipykernel_15268/3238837063.py\u001b[0m in \u001b[0;36m<module>\u001b[1;34m\u001b[0m\n\u001b[1;32m----> 1\u001b[1;33m \u001b[0mlocation\u001b[0m\u001b[1;33m.\u001b[0m\u001b[0meq\u001b[0m\u001b[1;33m(\u001b[0m\u001b[0mmoscow\u001b[0m\u001b[1;33m)\u001b[0m\u001b[1;33m\u001b[0m\u001b[1;33m\u001b[0m\u001b[0m\n\u001b[0m",
      "\u001b[1;31mAttributeError\u001b[0m: 'Coordinate' object has no attribute 'eq'"
     ]
    }
   ],
   "source": [
    "location.eq(moscow)"
   ]
  },
  {
   "cell_type": "code",
   "execution_count": null,
   "id": "c1fa49c7",
   "metadata": {},
   "outputs": [],
   "source": [
    "(location.lat, location.lon) == (moscow.lat, moscow.lon)"
   ]
  },
  {
   "cell_type": "code",
   "execution_count": 6,
   "id": "1c49de28",
   "metadata": {},
   "outputs": [
    {
     "data": {
      "text/plain": [
       "True"
      ]
     },
     "execution_count": 6,
     "metadata": {},
     "output_type": "execute_result"
    }
   ],
   "source": [
    "import typing\n",
    "Coordinate = typing.NamedTuple('Coordinate',\n",
    "                               [('lat', float), ('lon', float)])\n",
    "issubclass(Coordinate, tuple)"
   ]
  },
  {
   "cell_type": "code",
   "execution_count": 7,
   "id": "74923b99",
   "metadata": {},
   "outputs": [
    {
     "data": {
      "text/plain": [
       "{'lat': float, 'lon': float}"
      ]
     },
     "execution_count": 7,
     "metadata": {},
     "output_type": "execute_result"
    }
   ],
   "source": [
    "typing.get_type_hints(Coordinate)"
   ]
  },
  {
   "cell_type": "code",
   "execution_count": 8,
   "id": "fe953261",
   "metadata": {},
   "outputs": [
    {
     "name": "stdout",
     "output_type": "stream",
     "text": [
      "Coordinate(lat='Ni!', lon=None)\n"
     ]
    }
   ],
   "source": [
    "import typing\n",
    "\n",
    "class Coordinate(typing.NamedTuple):\n",
    "    lat: float\n",
    "    lon: float\n",
    "\n",
    "trash = Coordinate('Ni!', None)  # <1>\n",
    "print(trash)\n"
   ]
  },
  {
   "cell_type": "code",
   "execution_count": 9,
   "id": "f7fd2d5f",
   "metadata": {},
   "outputs": [
    {
     "data": {
      "text/plain": [
       "True"
      ]
     },
     "execution_count": 9,
     "metadata": {},
     "output_type": "execute_result"
    }
   ],
   "source": [
    "issubclass(Coordinate, tuple)"
   ]
  },
  {
   "cell_type": "code",
   "execution_count": 10,
   "id": "7d33d5f5",
   "metadata": {},
   "outputs": [],
   "source": [
    "\"\"\"\n",
    "``Coordinate``: a simple ``NamedTuple`` subclass\n",
    "\n",
    "This version has a field with a default value::\n",
    "\n",
    "    >>> moscow = Coordinate(55.756, 37.617)\n",
    "    >>> moscow\n",
    "    Coordinate(lat=55.756, lon=37.617, reference='WGS84')\n",
    "\n",
    "\"\"\"\n",
    "\n",
    "# tag::COORDINATE[]\n",
    "from typing import NamedTuple\n",
    "\n",
    "class Coordinate(NamedTuple):\n",
    "    lat: float                # <1>\n",
    "    lon: float\n",
    "    reference: str = 'WGS84'  # <2>\n",
    "# end::COORDINATE[]\n"
   ]
  },
  {
   "cell_type": "code",
   "execution_count": 11,
   "id": "57668e36",
   "metadata": {},
   "outputs": [],
   "source": [
    "\"\"\"\n",
    "``Coordinate``: a simple ``NamedTuple`` subclass with a custom ``__str__``::\n",
    "\n",
    "    >>> moscow = Coordinate(55.756, 37.617)\n",
    "    >>> print(moscow)\n",
    "    55.8°N, 37.6°E\n",
    "\n",
    "\"\"\"\n",
    "\n",
    "# tag::COORDINATE[]\n",
    "from typing import NamedTuple\n",
    "\n",
    "class Coordinate(NamedTuple):\n",
    "    lat: float\n",
    "    lon: float\n",
    "\n",
    "    def __str__(self):\n",
    "        ns = 'N' if self.lat >= 0 else 'S'\n",
    "        we = 'E' if self.lon >= 0 else 'W'\n",
    "        return f'{abs(self.lat):.1f}°{ns}, {abs(self.lon):.1f}°{we}'\n",
    "# end::COORDINATE[]\n"
   ]
  },
  {
   "cell_type": "code",
   "execution_count": 12,
   "id": "22bce042",
   "metadata": {},
   "outputs": [],
   "source": [
    "\"\"\"\n",
    "``Coordinate``: simple class decorated with ``dataclass`` and a custom ``__str__``::\n",
    "\n",
    "    >>> moscow = Coordinate(55.756, 37.617)\n",
    "    >>> print(moscow)\n",
    "    55.8°N, 37.6°E\n",
    "\n",
    "\"\"\"\n",
    "\n",
    "# tag::COORDINATE[]\n",
    "\n",
    "from dataclasses import dataclass\n",
    "\n",
    "@dataclass(frozen=True)\n",
    "class Coordinate:\n",
    "    lat: float\n",
    "    lon: float\n",
    "\n",
    "    def __str__(self):\n",
    "        ns = 'N' if self.lat >= 0 else 'S'\n",
    "        we = 'E' if self.lon >= 0 else 'W'\n",
    "        return f'{abs(self.lat):.1f}°{ns}, {abs(self.lon):.1f}°{we}'\n",
    "# end::COORDINATE[]\n"
   ]
  },
  {
   "cell_type": "code",
   "execution_count": 13,
   "id": "481e6f6e",
   "metadata": {},
   "outputs": [
    {
     "name": "stdout",
     "output_type": "stream",
     "text": [
      "55.8°N, 37.6°E\n"
     ]
    }
   ],
   "source": [
    "moscow = Coordinate(55.756, 37.617)\n",
    "print(moscow)"
   ]
  },
  {
   "cell_type": "code",
   "execution_count": 14,
   "id": "7cbd67f4",
   "metadata": {},
   "outputs": [
    {
     "data": {
      "text/plain": [
       "City(name='Tokyo', country='JP', population=36.933, coordinates=(35.689722, 139.691667))"
      ]
     },
     "execution_count": 14,
     "metadata": {},
     "output_type": "execute_result"
    }
   ],
   "source": [
    "from collections import namedtuple\n",
    "City = namedtuple('City', 'name country population coordinates')\n",
    "tokyo = City('Tokyo', 'JP', 36.933, (35.689722, 139.691667))\n",
    "tokyo"
   ]
  },
  {
   "cell_type": "code",
   "execution_count": 15,
   "id": "3cb08376",
   "metadata": {},
   "outputs": [
    {
     "data": {
      "text/plain": [
       "36.933"
      ]
     },
     "execution_count": 15,
     "metadata": {},
     "output_type": "execute_result"
    }
   ],
   "source": [
    "tokyo.population"
   ]
  },
  {
   "cell_type": "code",
   "execution_count": 16,
   "id": "9cafbac2",
   "metadata": {},
   "outputs": [
    {
     "data": {
      "text/plain": [
       "(35.689722, 139.691667)"
      ]
     },
     "execution_count": 16,
     "metadata": {},
     "output_type": "execute_result"
    }
   ],
   "source": [
    "tokyo.coordinates"
   ]
  },
  {
   "cell_type": "code",
   "execution_count": 17,
   "id": "30e69d9e",
   "metadata": {},
   "outputs": [
    {
     "data": {
      "text/plain": [
       "('name', 'country', 'population', 'coordinates')"
      ]
     },
     "execution_count": 17,
     "metadata": {},
     "output_type": "execute_result"
    }
   ],
   "source": [
    "City._fields"
   ]
  },
  {
   "cell_type": "code",
   "execution_count": 18,
   "id": "287ab9f9",
   "metadata": {},
   "outputs": [
    {
     "data": {
      "text/plain": [
       "City(name='Delhi NCR', country='IN', population=21.935, coordinates=Coordinate(lat=28.613889, lon=77.208889))"
      ]
     },
     "execution_count": 18,
     "metadata": {},
     "output_type": "execute_result"
    }
   ],
   "source": [
    "Coordinate = namedtuple('Coordinate', 'lat lon')\n",
    "delhi_data = ('Delhi NCR', 'IN', 21.935, Coordinate(28.613889, 77.208889))\n",
    "delhi = City._make(delhi_data)\n",
    "delhi"
   ]
  },
  {
   "cell_type": "code",
   "execution_count": 19,
   "id": "9e5ac104",
   "metadata": {},
   "outputs": [
    {
     "data": {
      "text/plain": [
       "{'name': 'Delhi NCR',\n",
       " 'country': 'IN',\n",
       " 'population': 21.935,\n",
       " 'coordinates': Coordinate(lat=28.613889, lon=77.208889)}"
      ]
     },
     "execution_count": 19,
     "metadata": {},
     "output_type": "execute_result"
    }
   ],
   "source": [
    "delhi._asdict()"
   ]
  },
  {
   "cell_type": "code",
   "execution_count": 22,
   "id": "9cd3b753",
   "metadata": {},
   "outputs": [
    {
     "data": {
      "text/plain": [
       "OrderedDict([('name', 'Delhi NCR'),\n",
       "             ('country', 'IN'),\n",
       "             ('population', 21.935),\n",
       "             ('coordinates', Coordinate(lat=28.613889, lon=77.208889))])"
      ]
     },
     "execution_count": 22,
     "metadata": {},
     "output_type": "execute_result"
    }
   ],
   "source": [
    "from collections import OrderedDict\n",
    "OrderedDict(delhi._asdict())"
   ]
  },
  {
   "cell_type": "code",
   "execution_count": 23,
   "id": "6ff3cf1a",
   "metadata": {},
   "outputs": [
    {
     "data": {
      "text/plain": [
       "Coordinate(lat=0, lon=0, reference='WGS84')"
      ]
     },
     "execution_count": 23,
     "metadata": {},
     "output_type": "execute_result"
    }
   ],
   "source": [
    "Coordinate = namedtuple('Coordinate', 'lat lon reference', defaults=['WGS84'])\n",
    "Coordinate(0, 0)"
   ]
  },
  {
   "cell_type": "code",
   "execution_count": 24,
   "id": "837b342f",
   "metadata": {},
   "outputs": [
    {
     "data": {
      "text/plain": [
       "{'reference': 'WGS84'}"
      ]
     },
     "execution_count": 24,
     "metadata": {},
     "output_type": "execute_result"
    }
   ],
   "source": [
    "Coordinate._field_defaults"
   ]
  },
  {
   "cell_type": "code",
   "execution_count": 29,
   "id": "92fa7393",
   "metadata": {},
   "outputs": [
    {
     "data": {
      "text/plain": [
       "['2', '3', '4', '5', '6', '7', '8', '9', '10', 'J', 'Q', 'K', 'A']"
      ]
     },
     "execution_count": 29,
     "metadata": {},
     "output_type": "execute_result"
    }
   ],
   "source": [
    "[str(n) for n in range(2, 11)] + list('JQKA')"
   ]
  },
  {
   "cell_type": "code",
   "execution_count": 38,
   "id": "9e05c837",
   "metadata": {},
   "outputs": [
    {
     "data": {
      "text/plain": [
       "['2', '3', '4', '5', '6', '7', '8', '9', '10', 'J', 'Q', 'K', 'A']"
      ]
     },
     "execution_count": 38,
     "metadata": {},
     "output_type": "execute_result"
    }
   ],
   "source": [
    "([str(n) for n in range(2, 11)] + list('JQKA'))"
   ]
  },
  {
   "cell_type": "code",
   "execution_count": 40,
   "id": "634a162c",
   "metadata": {},
   "outputs": [
    {
     "data": {
      "text/plain": [
       "10"
      ]
     },
     "execution_count": 40,
     "metadata": {},
     "output_type": "execute_result"
    }
   ],
   "source": [
    "([str(n) for n in range(2, 11)] + list('JQKA')).index('Q')"
   ]
  },
  {
   "cell_type": "code",
   "execution_count": 37,
   "id": "9c69a813",
   "metadata": {},
   "outputs": [
    {
     "data": {
      "text/plain": [
       "0"
      ]
     },
     "execution_count": 37,
     "metadata": {},
     "output_type": "execute_result"
    }
   ],
   "source": [
    "([str(n) for n in range(2, 11)] + list('JQKA')).index('2')"
   ]
  },
  {
   "cell_type": "code",
   "execution_count": 26,
   "id": "923722c7",
   "metadata": {},
   "outputs": [],
   "source": [
    "import collections\n",
    "\n",
    "Card = collections.namedtuple('Card', ['rank', 'suit'])\n",
    "\n",
    "class FrenchDeck:\n",
    "    ranks = [str(n) for n in range(2, 11)] + list('JQKA')\n",
    "    suits = 'spades diamonds clubs hearts'.split()\n",
    "\n",
    "    def __init__(self):\n",
    "        self._cards = [Card(rank, suit) for suit in self.suits\n",
    "                                        for rank in self.ranks]\n",
    "\n",
    "    def __len__(self):\n",
    "        return len(self._cards)\n",
    "\n",
    "    def __getitem__(self, position):\n",
    "        return self._cards[position]\n"
   ]
  },
  {
   "cell_type": "code",
   "execution_count": 43,
   "id": "b9daf5ca",
   "metadata": {},
   "outputs": [
    {
     "data": {
      "text/plain": [
       "{'spades': 3, 'hearts': 2, 'diamonds': 1, 'clubs': 0}"
      ]
     },
     "execution_count": 43,
     "metadata": {},
     "output_type": "execute_result"
    }
   ],
   "source": [
    "Card('2', 'clubs').suit_values"
   ]
  },
  {
   "cell_type": "code",
   "execution_count": 46,
   "id": "c9628ca1",
   "metadata": {},
   "outputs": [
    {
     "data": {
      "text/plain": [
       "1"
      ]
     },
     "execution_count": 46,
     "metadata": {},
     "output_type": "execute_result"
    }
   ],
   "source": [
    "Card('2', 'clubs').suit_values['diamonds']"
   ]
  },
  {
   "cell_type": "code",
   "execution_count": 42,
   "id": "58255225",
   "metadata": {},
   "outputs": [
    {
     "data": {
      "text/plain": [
       "4"
      ]
     },
     "execution_count": 42,
     "metadata": {},
     "output_type": "execute_result"
    }
   ],
   "source": [
    "len(Card('2', 'clubs').suit_values)"
   ]
  },
  {
   "cell_type": "code",
   "execution_count": 27,
   "id": "503324d2",
   "metadata": {},
   "outputs": [
    {
     "data": {
      "text/plain": [
       "0"
      ]
     },
     "execution_count": 27,
     "metadata": {},
     "output_type": "execute_result"
    }
   ],
   "source": [
    "Card.suit_values = dict(spades=3, hearts=2, diamonds=1, clubs=0)\n",
    "def spades_high(card):\n",
    "    rank_value = FrenchDeck.ranks.index(card.rank)\n",
    "    suit_value = card.suit_values[card.suit]\n",
    "    return rank_value * len(card.suit_values) + suit_value\n",
    "\n",
    "Card.overall_rank = spades_high\n",
    "lowest_card = Card('2', 'clubs')\n",
    "highest_card = Card('A', 'spades')\n",
    "lowest_card.overall_rank()"
   ]
  },
  {
   "cell_type": "code",
   "execution_count": 28,
   "id": "0b001aaa",
   "metadata": {},
   "outputs": [
    {
     "data": {
      "text/plain": [
       "51"
      ]
     },
     "execution_count": 28,
     "metadata": {},
     "output_type": "execute_result"
    }
   ],
   "source": [
    "highest_card.overall_rank()"
   ]
  },
  {
   "cell_type": "code",
   "execution_count": 47,
   "id": "8a42411f",
   "metadata": {},
   "outputs": [],
   "source": [
    "\"\"\"\n",
    "``Coordinate``: a simple ``NamedTuple`` subclass with a custom ``__str__``::\n",
    "\n",
    "    >>> moscow = Coordinate(55.756, 37.617)\n",
    "    >>> print(moscow)\n",
    "    55.8°N, 37.6°E\n",
    "\n",
    "\"\"\"\n",
    "\n",
    "# tag::COORDINATE[]\n",
    "from typing import NamedTuple\n",
    "\n",
    "class Coordinate(NamedTuple):\n",
    "    lat: float\n",
    "    lon: float\n",
    "\n",
    "    def __str__(self):\n",
    "        ns = 'N' if self.lat >= 0 else 'S'\n",
    "        we = 'E' if self.lon >= 0 else 'W'\n",
    "        return f'{abs(self.lat):.1f}°{ns}, {abs(self.lon):.1f}°{we}'\n",
    "# end::COORDINATE[]\n"
   ]
  },
  {
   "cell_type": "code",
   "execution_count": 48,
   "id": "709aa222",
   "metadata": {},
   "outputs": [],
   "source": [
    "\"\"\"\n",
    "``Coordinate``: a simple ``NamedTuple`` subclass\n",
    "\n",
    "This version has a field with a default value::\n",
    "\n",
    "    >>> moscow = Coordinate(55.756, 37.617)\n",
    "    >>> moscow\n",
    "    Coordinate(lat=55.756, lon=37.617, reference='WGS84')\n",
    "\n",
    "\"\"\"\n",
    "\n",
    "# tag::COORDINATE[]\n",
    "from typing import NamedTuple\n",
    "\n",
    "class Coordinate(NamedTuple):\n",
    "    lat: float                # <1>\n",
    "    lon: float\n",
    "    reference: str = 'WGS84'  # <2>\n",
    "# end::COORDINATE[]\n"
   ]
  },
  {
   "cell_type": "code",
   "execution_count": 49,
   "id": "9756caf4",
   "metadata": {},
   "outputs": [
    {
     "name": "stdout",
     "output_type": "stream",
     "text": [
      "Coordinate(lat='Ni!', lon=None)\n"
     ]
    }
   ],
   "source": [
    "import typing\n",
    "\n",
    "class Coordinate(typing.NamedTuple):\n",
    "    lat: float\n",
    "    lon: float\n",
    "\n",
    "trash = Coordinate('Ni!', None)  # <1>\n",
    "print(trash)\n"
   ]
  },
  {
   "cell_type": "code",
   "execution_count": 4,
   "id": "5441ed8f",
   "metadata": {},
   "outputs": [
    {
     "name": "stdout",
     "output_type": "stream",
     "text": [
      "example-code-2e\\05-data-classes\\typing_namedtuple\\nocheck_demo.py:7: error: Argument 1 to \"Coordinate\" has incompatible type \"str\"; expected \"float\"\n",
      "example-code-2e\\05-data-classes\\typing_namedtuple\\nocheck_demo.py:7: error: Argument 2 to \"Coordinate\" has incompatible type \"None\"; expected \"float\"\n",
      "Found 2 errors in 1 file (checked 1 source file)\n"
     ]
    }
   ],
   "source": [
    "!mypy example-code-2e/05-data-classes/typing_namedtuple/nocheck_demo.py"
   ]
  },
  {
   "cell_type": "code",
   "execution_count": 2,
   "id": "661662d8",
   "metadata": {},
   "outputs": [],
   "source": [
    "class DemoPlainClass:\n",
    "    a: int           # <1>\n",
    "    b: float = 1.1   # <2>\n",
    "    c = 'spam'       # <3>\n"
   ]
  },
  {
   "cell_type": "code",
   "execution_count": 6,
   "id": "5e48dff8",
   "metadata": {},
   "outputs": [
    {
     "data": {
      "text/plain": [
       "{'a': int, 'b': float}"
      ]
     },
     "execution_count": 6,
     "metadata": {},
     "output_type": "execute_result"
    }
   ],
   "source": [
    "DemoPlainClass.__annotations__"
   ]
  },
  {
   "cell_type": "code",
   "execution_count": 7,
   "id": "00a0ef88",
   "metadata": {},
   "outputs": [
    {
     "ename": "AttributeError",
     "evalue": "type object 'DemoPlainClass' has no attribute 'a'",
     "output_type": "error",
     "traceback": [
      "\u001b[1;31m---------------------------------------------------------------------------\u001b[0m",
      "\u001b[1;31mAttributeError\u001b[0m                            Traceback (most recent call last)",
      "\u001b[1;32m~\\AppData\\Local\\Temp/ipykernel_3200/1944608959.py\u001b[0m in \u001b[0;36m<module>\u001b[1;34m\u001b[0m\n\u001b[1;32m----> 1\u001b[1;33m \u001b[0mDemoPlainClass\u001b[0m\u001b[1;33m.\u001b[0m\u001b[0ma\u001b[0m\u001b[1;33m\u001b[0m\u001b[1;33m\u001b[0m\u001b[0m\n\u001b[0m",
      "\u001b[1;31mAttributeError\u001b[0m: type object 'DemoPlainClass' has no attribute 'a'"
     ]
    }
   ],
   "source": [
    "DemoPlainClass.a"
   ]
  },
  {
   "cell_type": "code",
   "execution_count": 8,
   "id": "71b3a82d",
   "metadata": {},
   "outputs": [
    {
     "data": {
      "text/plain": [
       "1.1"
      ]
     },
     "execution_count": 8,
     "metadata": {},
     "output_type": "execute_result"
    }
   ],
   "source": [
    "DemoPlainClass.b"
   ]
  },
  {
   "cell_type": "code",
   "execution_count": 9,
   "id": "d8619508",
   "metadata": {},
   "outputs": [
    {
     "data": {
      "text/plain": [
       "'spam'"
      ]
     },
     "execution_count": 9,
     "metadata": {},
     "output_type": "execute_result"
    }
   ],
   "source": [
    "DemoPlainClass.c"
   ]
  },
  {
   "cell_type": "code",
   "execution_count": 10,
   "id": "67cd083c",
   "metadata": {},
   "outputs": [],
   "source": [
    "o = DemoPlainClass()"
   ]
  },
  {
   "cell_type": "code",
   "execution_count": 11,
   "id": "039f3534",
   "metadata": {},
   "outputs": [
    {
     "ename": "AttributeError",
     "evalue": "'DemoPlainClass' object has no attribute 'a'",
     "output_type": "error",
     "traceback": [
      "\u001b[1;31m---------------------------------------------------------------------------\u001b[0m",
      "\u001b[1;31mAttributeError\u001b[0m                            Traceback (most recent call last)",
      "\u001b[1;32m~\\AppData\\Local\\Temp/ipykernel_3200/1467817899.py\u001b[0m in \u001b[0;36m<module>\u001b[1;34m\u001b[0m\n\u001b[1;32m----> 1\u001b[1;33m \u001b[0mo\u001b[0m\u001b[1;33m.\u001b[0m\u001b[0ma\u001b[0m\u001b[1;33m\u001b[0m\u001b[1;33m\u001b[0m\u001b[0m\n\u001b[0m",
      "\u001b[1;31mAttributeError\u001b[0m: 'DemoPlainClass' object has no attribute 'a'"
     ]
    }
   ],
   "source": [
    "o.a"
   ]
  },
  {
   "cell_type": "code",
   "execution_count": 12,
   "id": "871a1025",
   "metadata": {},
   "outputs": [
    {
     "data": {
      "text/plain": [
       "1.1"
      ]
     },
     "execution_count": 12,
     "metadata": {},
     "output_type": "execute_result"
    }
   ],
   "source": [
    "o.b"
   ]
  },
  {
   "cell_type": "code",
   "execution_count": 13,
   "id": "50aee9c1",
   "metadata": {},
   "outputs": [
    {
     "data": {
      "text/plain": [
       "'spam'"
      ]
     },
     "execution_count": 13,
     "metadata": {},
     "output_type": "execute_result"
    }
   ],
   "source": [
    "o.c"
   ]
  },
  {
   "cell_type": "code",
   "execution_count": 14,
   "id": "e17c7160",
   "metadata": {},
   "outputs": [],
   "source": [
    "o.c = 'sppam'"
   ]
  },
  {
   "cell_type": "code",
   "execution_count": 15,
   "id": "8ca8f373",
   "metadata": {},
   "outputs": [
    {
     "data": {
      "text/plain": [
       "'sppam'"
      ]
     },
     "execution_count": 15,
     "metadata": {},
     "output_type": "execute_result"
    }
   ],
   "source": [
    "o.c"
   ]
  },
  {
   "cell_type": "code",
   "execution_count": 16,
   "id": "bac6630d",
   "metadata": {},
   "outputs": [
    {
     "data": {
      "text/plain": [
       "'spam'"
      ]
     },
     "execution_count": 16,
     "metadata": {},
     "output_type": "execute_result"
    }
   ],
   "source": [
    "DemoPlainClass.c"
   ]
  },
  {
   "cell_type": "code",
   "execution_count": 18,
   "id": "8ff00ff2",
   "metadata": {},
   "outputs": [
    {
     "data": {
      "text/plain": [
       "{'a': int, 'b': float}"
      ]
     },
     "execution_count": 18,
     "metadata": {},
     "output_type": "execute_result"
    }
   ],
   "source": [
    "o.__annotations__"
   ]
  },
  {
   "cell_type": "code",
   "execution_count": 19,
   "id": "dfe1f076",
   "metadata": {},
   "outputs": [],
   "source": [
    "import typing\n",
    "\n",
    "class DemoNTClass(typing.NamedTuple):\n",
    "    a: int           # <1>\n",
    "    b: float = 1.1   # <2>\n",
    "    c = 'spam'       # <3>\n"
   ]
  },
  {
   "cell_type": "code",
   "execution_count": 20,
   "id": "59bf13c6",
   "metadata": {},
   "outputs": [
    {
     "data": {
      "text/plain": [
       "{'a': int, 'b': float}"
      ]
     },
     "execution_count": 20,
     "metadata": {},
     "output_type": "execute_result"
    }
   ],
   "source": [
    "DemoNTClass.__annotations__"
   ]
  },
  {
   "cell_type": "code",
   "execution_count": 21,
   "id": "8d9b80f2",
   "metadata": {},
   "outputs": [
    {
     "data": {
      "text/plain": [
       "<_collections._tuplegetter at 0x1d78c648b50>"
      ]
     },
     "execution_count": 21,
     "metadata": {},
     "output_type": "execute_result"
    }
   ],
   "source": [
    "DemoNTClass.a"
   ]
  },
  {
   "cell_type": "code",
   "execution_count": 22,
   "id": "b34968b9",
   "metadata": {},
   "outputs": [
    {
     "data": {
      "text/plain": [
       "<_collections._tuplegetter at 0x1d78c648b20>"
      ]
     },
     "execution_count": 22,
     "metadata": {},
     "output_type": "execute_result"
    }
   ],
   "source": [
    "DemoNTClass.b"
   ]
  },
  {
   "cell_type": "code",
   "execution_count": 23,
   "id": "7acb0390",
   "metadata": {},
   "outputs": [
    {
     "data": {
      "text/plain": [
       "'spam'"
      ]
     },
     "execution_count": 23,
     "metadata": {},
     "output_type": "execute_result"
    }
   ],
   "source": [
    "DemoNTClass.c"
   ]
  },
  {
   "cell_type": "code",
   "execution_count": 24,
   "id": "b1c786ba",
   "metadata": {},
   "outputs": [
    {
     "data": {
      "text/plain": [
       "'DemoNTClass(a, b)'"
      ]
     },
     "execution_count": 24,
     "metadata": {},
     "output_type": "execute_result"
    }
   ],
   "source": [
    "DemoNTClass.__doc__"
   ]
  },
  {
   "cell_type": "code",
   "execution_count": 25,
   "id": "c2ab834b",
   "metadata": {},
   "outputs": [
    {
     "data": {
      "text/plain": [
       "8"
      ]
     },
     "execution_count": 25,
     "metadata": {},
     "output_type": "execute_result"
    }
   ],
   "source": [
    "nt = DemoNTClass(8)\n",
    "nt.a"
   ]
  },
  {
   "cell_type": "code",
   "execution_count": 28,
   "id": "757cbe08",
   "metadata": {},
   "outputs": [
    {
     "data": {
      "text/plain": [
       "<_collections._tuplegetter at 0x1d78c648b50>"
      ]
     },
     "execution_count": 28,
     "metadata": {},
     "output_type": "execute_result"
    }
   ],
   "source": [
    "DemoNTClass.a"
   ]
  },
  {
   "cell_type": "code",
   "execution_count": 26,
   "id": "b7bf8928",
   "metadata": {},
   "outputs": [
    {
     "data": {
      "text/plain": [
       "1.1"
      ]
     },
     "execution_count": 26,
     "metadata": {},
     "output_type": "execute_result"
    }
   ],
   "source": [
    "nt.b"
   ]
  },
  {
   "cell_type": "code",
   "execution_count": 27,
   "id": "ac3bac6d",
   "metadata": {},
   "outputs": [
    {
     "data": {
      "text/plain": [
       "'spam'"
      ]
     },
     "execution_count": 27,
     "metadata": {},
     "output_type": "execute_result"
    }
   ],
   "source": [
    "nt.c"
   ]
  },
  {
   "cell_type": "code",
   "execution_count": 29,
   "id": "a2d35a3c",
   "metadata": {},
   "outputs": [
    {
     "data": {
      "text/plain": [
       "8.0"
      ]
     },
     "execution_count": 29,
     "metadata": {},
     "output_type": "execute_result"
    }
   ],
   "source": [
    "nt = DemoNTClass(8.0)\n",
    "nt.a"
   ]
  },
  {
   "cell_type": "code",
   "execution_count": 30,
   "id": "38aad48c",
   "metadata": {},
   "outputs": [
    {
     "data": {
      "text/plain": [
       "1.1"
      ]
     },
     "execution_count": 30,
     "metadata": {},
     "output_type": "execute_result"
    }
   ],
   "source": [
    "nt.b"
   ]
  },
  {
   "cell_type": "code",
   "execution_count": 31,
   "id": "5a1aa1ba",
   "metadata": {},
   "outputs": [
    {
     "data": {
      "text/plain": [
       "8"
      ]
     },
     "execution_count": 31,
     "metadata": {},
     "output_type": "execute_result"
    }
   ],
   "source": [
    "nt = DemoNTClass(8, 2.0)\n",
    "nt.a"
   ]
  },
  {
   "cell_type": "code",
   "execution_count": 32,
   "id": "d159823e",
   "metadata": {},
   "outputs": [
    {
     "data": {
      "text/plain": [
       "2.0"
      ]
     },
     "execution_count": 32,
     "metadata": {},
     "output_type": "execute_result"
    }
   ],
   "source": [
    "nt.b"
   ]
  },
  {
   "cell_type": "code",
   "execution_count": 34,
   "id": "b09a8d0d",
   "metadata": {},
   "outputs": [
    {
     "ename": "AttributeError",
     "evalue": "can't set attribute",
     "output_type": "error",
     "traceback": [
      "\u001b[1;31m---------------------------------------------------------------------------\u001b[0m",
      "\u001b[1;31mAttributeError\u001b[0m                            Traceback (most recent call last)",
      "\u001b[1;32m~\\AppData\\Local\\Temp/ipykernel_3200/3118507152.py\u001b[0m in \u001b[0;36m<module>\u001b[1;34m\u001b[0m\n\u001b[1;32m----> 1\u001b[1;33m \u001b[0mnt\u001b[0m\u001b[1;33m.\u001b[0m\u001b[0mb\u001b[0m \u001b[1;33m=\u001b[0m \u001b[1;36m3.0\u001b[0m\u001b[1;33m\u001b[0m\u001b[1;33m\u001b[0m\u001b[0m\n\u001b[0m",
      "\u001b[1;31mAttributeError\u001b[0m: can't set attribute"
     ]
    }
   ],
   "source": [
    "nt.b = 3.0"
   ]
  },
  {
   "cell_type": "code",
   "execution_count": 33,
   "id": "e14d7c57",
   "metadata": {},
   "outputs": [
    {
     "data": {
      "text/plain": [
       "'spam'"
      ]
     },
     "execution_count": 33,
     "metadata": {},
     "output_type": "execute_result"
    }
   ],
   "source": [
    "nt.c"
   ]
  },
  {
   "cell_type": "code",
   "execution_count": 36,
   "id": "47034638",
   "metadata": {},
   "outputs": [],
   "source": [
    "from dataclasses import dataclass\n",
    "\n",
    "@dataclass\n",
    "class DemoDataClass:\n",
    "    a: int           # <1>\n",
    "    b: float = 1.1   # <2>\n",
    "    c = 'spam'       # <3>\n"
   ]
  },
  {
   "cell_type": "code",
   "execution_count": 37,
   "id": "8d4f9cb1",
   "metadata": {},
   "outputs": [
    {
     "ename": "AttributeError",
     "evalue": "type object 'DemoDataClass' has no attribute 'a'",
     "output_type": "error",
     "traceback": [
      "\u001b[1;31m---------------------------------------------------------------------------\u001b[0m",
      "\u001b[1;31mAttributeError\u001b[0m                            Traceback (most recent call last)",
      "\u001b[1;32m~\\AppData\\Local\\Temp/ipykernel_3200/3309639985.py\u001b[0m in \u001b[0;36m<module>\u001b[1;34m\u001b[0m\n\u001b[1;32m----> 1\u001b[1;33m \u001b[0mDemoDataClass\u001b[0m\u001b[1;33m.\u001b[0m\u001b[0ma\u001b[0m\u001b[1;33m\u001b[0m\u001b[1;33m\u001b[0m\u001b[0m\n\u001b[0m",
      "\u001b[1;31mAttributeError\u001b[0m: type object 'DemoDataClass' has no attribute 'a'"
     ]
    }
   ],
   "source": [
    "DemoDataClass.a"
   ]
  },
  {
   "cell_type": "code",
   "execution_count": 38,
   "id": "cefa8946",
   "metadata": {},
   "outputs": [
    {
     "data": {
      "text/plain": [
       "1.1"
      ]
     },
     "execution_count": 38,
     "metadata": {},
     "output_type": "execute_result"
    }
   ],
   "source": [
    "DemoDataClass.b"
   ]
  },
  {
   "cell_type": "code",
   "execution_count": 39,
   "id": "619af6ea",
   "metadata": {},
   "outputs": [
    {
     "data": {
      "text/plain": [
       "'spam'"
      ]
     },
     "execution_count": 39,
     "metadata": {},
     "output_type": "execute_result"
    }
   ],
   "source": [
    "DemoDataClass.c"
   ]
  },
  {
   "cell_type": "code",
   "execution_count": 40,
   "id": "d58cdb60",
   "metadata": {},
   "outputs": [
    {
     "data": {
      "text/plain": [
       "{'a': int, 'b': float}"
      ]
     },
     "execution_count": 40,
     "metadata": {},
     "output_type": "execute_result"
    }
   ],
   "source": [
    "DemoDataClass.__annotations__"
   ]
  },
  {
   "cell_type": "code",
   "execution_count": 41,
   "id": "01be0d06",
   "metadata": {},
   "outputs": [
    {
     "data": {
      "text/plain": [
       "'DemoDataClass(a: int, b: float = 1.1)'"
      ]
     },
     "execution_count": 41,
     "metadata": {},
     "output_type": "execute_result"
    }
   ],
   "source": [
    "DemoDataClass.__doc__"
   ]
  },
  {
   "cell_type": "code",
   "execution_count": 42,
   "id": "1e5dfbfc",
   "metadata": {},
   "outputs": [
    {
     "data": {
      "text/plain": [
       "9"
      ]
     },
     "execution_count": 42,
     "metadata": {},
     "output_type": "execute_result"
    }
   ],
   "source": [
    "dc = DemoDataClass(9)\n",
    "dc.a"
   ]
  },
  {
   "cell_type": "code",
   "execution_count": 43,
   "id": "6cf39cb9",
   "metadata": {},
   "outputs": [
    {
     "data": {
      "text/plain": [
       "1.1"
      ]
     },
     "execution_count": 43,
     "metadata": {},
     "output_type": "execute_result"
    }
   ],
   "source": [
    "dc.b"
   ]
  },
  {
   "cell_type": "code",
   "execution_count": 44,
   "id": "5bc617c9",
   "metadata": {},
   "outputs": [
    {
     "data": {
      "text/plain": [
       "'spam'"
      ]
     },
     "execution_count": 44,
     "metadata": {},
     "output_type": "execute_result"
    }
   ],
   "source": [
    "dc.c"
   ]
  },
  {
   "cell_type": "code",
   "execution_count": 45,
   "id": "e0434e4c",
   "metadata": {},
   "outputs": [],
   "source": [
    "dc.a = 10"
   ]
  },
  {
   "cell_type": "code",
   "execution_count": 46,
   "id": "165e292f",
   "metadata": {},
   "outputs": [
    {
     "data": {
      "text/plain": [
       "10"
      ]
     },
     "execution_count": 46,
     "metadata": {},
     "output_type": "execute_result"
    }
   ],
   "source": [
    "dc.a"
   ]
  },
  {
   "cell_type": "code",
   "execution_count": 47,
   "id": "a3289648",
   "metadata": {},
   "outputs": [],
   "source": [
    "dc.c = 'whatever'\n",
    "dc.z = 'secret stash'"
   ]
  },
  {
   "cell_type": "code",
   "execution_count": 48,
   "id": "5bebc04b",
   "metadata": {},
   "outputs": [
    {
     "data": {
      "text/plain": [
       "'whatever'"
      ]
     },
     "execution_count": 48,
     "metadata": {},
     "output_type": "execute_result"
    }
   ],
   "source": [
    "dc.c"
   ]
  },
  {
   "cell_type": "code",
   "execution_count": 49,
   "id": "b4e9d1a4",
   "metadata": {},
   "outputs": [
    {
     "data": {
      "text/plain": [
       "'secret stash'"
      ]
     },
     "execution_count": 49,
     "metadata": {},
     "output_type": "execute_result"
    }
   ],
   "source": [
    "dc.z"
   ]
  },
  {
   "cell_type": "code",
   "execution_count": 7,
   "id": "f05024fc",
   "metadata": {},
   "outputs": [
    {
     "ename": "ValueError",
     "evalue": "mutable default <class 'list'> for field guests is not allowed: use default_factory",
     "output_type": "error",
     "traceback": [
      "\u001b[1;31m---------------------------------------------------------------------------\u001b[0m",
      "\u001b[1;31mValueError\u001b[0m                                Traceback (most recent call last)",
      "\u001b[1;32m~\\AppData\\Local\\Temp/ipykernel_24528/2908214677.py\u001b[0m in \u001b[0;36m<module>\u001b[1;34m\u001b[0m\n\u001b[0;32m      3\u001b[0m \u001b[1;31m# tag::CLUBMEMBER[]\u001b[0m\u001b[1;33m\u001b[0m\u001b[1;33m\u001b[0m\u001b[1;33m\u001b[0m\u001b[0m\n\u001b[0;32m      4\u001b[0m \u001b[1;33m@\u001b[0m\u001b[0mdataclass\u001b[0m\u001b[1;33m\u001b[0m\u001b[1;33m\u001b[0m\u001b[0m\n\u001b[1;32m----> 5\u001b[1;33m \u001b[1;32mclass\u001b[0m \u001b[0mClubMember\u001b[0m\u001b[1;33m:\u001b[0m\u001b[1;33m\u001b[0m\u001b[1;33m\u001b[0m\u001b[0m\n\u001b[0m\u001b[0;32m      6\u001b[0m     \u001b[0mname\u001b[0m\u001b[1;33m:\u001b[0m \u001b[0mstr\u001b[0m\u001b[1;33m\u001b[0m\u001b[1;33m\u001b[0m\u001b[0m\n\u001b[0;32m      7\u001b[0m     \u001b[0mguests\u001b[0m\u001b[1;33m:\u001b[0m \u001b[0mlist\u001b[0m \u001b[1;33m=\u001b[0m \u001b[1;33m[\u001b[0m\u001b[1;33m]\u001b[0m\u001b[1;33m\u001b[0m\u001b[1;33m\u001b[0m\u001b[0m\n",
      "\u001b[1;32m~\\miniconda3\\lib\\dataclasses.py\u001b[0m in \u001b[0;36mdataclass\u001b[1;34m(cls, init, repr, eq, order, unsafe_hash, frozen)\u001b[0m\n\u001b[0;32m   1017\u001b[0m \u001b[1;33m\u001b[0m\u001b[0m\n\u001b[0;32m   1018\u001b[0m     \u001b[1;31m# We're called as @dataclass without parens.\u001b[0m\u001b[1;33m\u001b[0m\u001b[1;33m\u001b[0m\u001b[1;33m\u001b[0m\u001b[0m\n\u001b[1;32m-> 1019\u001b[1;33m     \u001b[1;32mreturn\u001b[0m \u001b[0mwrap\u001b[0m\u001b[1;33m(\u001b[0m\u001b[0mcls\u001b[0m\u001b[1;33m)\u001b[0m\u001b[1;33m\u001b[0m\u001b[1;33m\u001b[0m\u001b[0m\n\u001b[0m\u001b[0;32m   1020\u001b[0m \u001b[1;33m\u001b[0m\u001b[0m\n\u001b[0;32m   1021\u001b[0m \u001b[1;33m\u001b[0m\u001b[0m\n",
      "\u001b[1;32m~\\miniconda3\\lib\\dataclasses.py\u001b[0m in \u001b[0;36mwrap\u001b[1;34m(cls)\u001b[0m\n\u001b[0;32m   1009\u001b[0m \u001b[1;33m\u001b[0m\u001b[0m\n\u001b[0;32m   1010\u001b[0m     \u001b[1;32mdef\u001b[0m \u001b[0mwrap\u001b[0m\u001b[1;33m(\u001b[0m\u001b[0mcls\u001b[0m\u001b[1;33m)\u001b[0m\u001b[1;33m:\u001b[0m\u001b[1;33m\u001b[0m\u001b[1;33m\u001b[0m\u001b[0m\n\u001b[1;32m-> 1011\u001b[1;33m         \u001b[1;32mreturn\u001b[0m \u001b[0m_process_class\u001b[0m\u001b[1;33m(\u001b[0m\u001b[0mcls\u001b[0m\u001b[1;33m,\u001b[0m \u001b[0minit\u001b[0m\u001b[1;33m,\u001b[0m \u001b[0mrepr\u001b[0m\u001b[1;33m,\u001b[0m \u001b[0meq\u001b[0m\u001b[1;33m,\u001b[0m \u001b[0morder\u001b[0m\u001b[1;33m,\u001b[0m \u001b[0munsafe_hash\u001b[0m\u001b[1;33m,\u001b[0m \u001b[0mfrozen\u001b[0m\u001b[1;33m)\u001b[0m\u001b[1;33m\u001b[0m\u001b[1;33m\u001b[0m\u001b[0m\n\u001b[0m\u001b[0;32m   1012\u001b[0m \u001b[1;33m\u001b[0m\u001b[0m\n\u001b[0;32m   1013\u001b[0m     \u001b[1;31m# See if we're being called as @dataclass or @dataclass().\u001b[0m\u001b[1;33m\u001b[0m\u001b[1;33m\u001b[0m\u001b[1;33m\u001b[0m\u001b[0m\n",
      "\u001b[1;32m~\\miniconda3\\lib\\dataclasses.py\u001b[0m in \u001b[0;36m_process_class\u001b[1;34m(cls, init, repr, eq, order, unsafe_hash, frozen)\u001b[0m\n\u001b[0;32m    859\u001b[0m     \u001b[1;31m# things, and set the default values (as class attributes) where\u001b[0m\u001b[1;33m\u001b[0m\u001b[1;33m\u001b[0m\u001b[1;33m\u001b[0m\u001b[0m\n\u001b[0;32m    860\u001b[0m     \u001b[1;31m# we can.\u001b[0m\u001b[1;33m\u001b[0m\u001b[1;33m\u001b[0m\u001b[1;33m\u001b[0m\u001b[0m\n\u001b[1;32m--> 861\u001b[1;33m     cls_fields = [_get_field(cls, name, type)\n\u001b[0m\u001b[0;32m    862\u001b[0m                   for name, type in cls_annotations.items()]\n\u001b[0;32m    863\u001b[0m     \u001b[1;32mfor\u001b[0m \u001b[0mf\u001b[0m \u001b[1;32min\u001b[0m \u001b[0mcls_fields\u001b[0m\u001b[1;33m:\u001b[0m\u001b[1;33m\u001b[0m\u001b[1;33m\u001b[0m\u001b[0m\n",
      "\u001b[1;32m~\\miniconda3\\lib\\dataclasses.py\u001b[0m in \u001b[0;36m<listcomp>\u001b[1;34m(.0)\u001b[0m\n\u001b[0;32m    859\u001b[0m     \u001b[1;31m# things, and set the default values (as class attributes) where\u001b[0m\u001b[1;33m\u001b[0m\u001b[1;33m\u001b[0m\u001b[1;33m\u001b[0m\u001b[0m\n\u001b[0;32m    860\u001b[0m     \u001b[1;31m# we can.\u001b[0m\u001b[1;33m\u001b[0m\u001b[1;33m\u001b[0m\u001b[1;33m\u001b[0m\u001b[0m\n\u001b[1;32m--> 861\u001b[1;33m     cls_fields = [_get_field(cls, name, type)\n\u001b[0m\u001b[0;32m    862\u001b[0m                   for name, type in cls_annotations.items()]\n\u001b[0;32m    863\u001b[0m     \u001b[1;32mfor\u001b[0m \u001b[0mf\u001b[0m \u001b[1;32min\u001b[0m \u001b[0mcls_fields\u001b[0m\u001b[1;33m:\u001b[0m\u001b[1;33m\u001b[0m\u001b[1;33m\u001b[0m\u001b[0m\n",
      "\u001b[1;32m~\\miniconda3\\lib\\dataclasses.py\u001b[0m in \u001b[0;36m_get_field\u001b[1;34m(cls, a_name, a_type)\u001b[0m\n\u001b[0;32m    743\u001b[0m     \u001b[1;31m# For real fields, disallow mutable defaults for known types.\u001b[0m\u001b[1;33m\u001b[0m\u001b[1;33m\u001b[0m\u001b[1;33m\u001b[0m\u001b[0m\n\u001b[0;32m    744\u001b[0m     \u001b[1;32mif\u001b[0m \u001b[0mf\u001b[0m\u001b[1;33m.\u001b[0m\u001b[0m_field_type\u001b[0m \u001b[1;32mis\u001b[0m \u001b[0m_FIELD\u001b[0m \u001b[1;32mand\u001b[0m \u001b[0misinstance\u001b[0m\u001b[1;33m(\u001b[0m\u001b[0mf\u001b[0m\u001b[1;33m.\u001b[0m\u001b[0mdefault\u001b[0m\u001b[1;33m,\u001b[0m \u001b[1;33m(\u001b[0m\u001b[0mlist\u001b[0m\u001b[1;33m,\u001b[0m \u001b[0mdict\u001b[0m\u001b[1;33m,\u001b[0m \u001b[0mset\u001b[0m\u001b[1;33m)\u001b[0m\u001b[1;33m)\u001b[0m\u001b[1;33m:\u001b[0m\u001b[1;33m\u001b[0m\u001b[1;33m\u001b[0m\u001b[0m\n\u001b[1;32m--> 745\u001b[1;33m         raise ValueError(f'mutable default {type(f.default)} for field '\n\u001b[0m\u001b[0;32m    746\u001b[0m                          f'{f.name} is not allowed: use default_factory')\n\u001b[0;32m    747\u001b[0m \u001b[1;33m\u001b[0m\u001b[0m\n",
      "\u001b[1;31mValueError\u001b[0m: mutable default <class 'list'> for field guests is not allowed: use default_factory"
     ]
    }
   ],
   "source": [
    "from dataclasses import dataclass\n",
    "\n",
    "# tag::CLUBMEMBER[]\n",
    "@dataclass\n",
    "class ClubMember:\n",
    "    name: str\n",
    "    guests: list = []\n",
    "# end::CLUBMEMBER[]\n"
   ]
  },
  {
   "cell_type": "code",
   "execution_count": 4,
   "id": "f832fa83",
   "metadata": {},
   "outputs": [],
   "source": [
    "from dataclasses import dataclass, field\n",
    "\n",
    "@dataclass\n",
    "class ClubMember:\n",
    "    name: str\n",
    "    guests: list = field(default_factory=list)\n",
    "\n"
   ]
  },
  {
   "cell_type": "code",
   "execution_count": 5,
   "id": "2c3ab425",
   "metadata": {},
   "outputs": [],
   "source": [
    "from dataclasses import dataclass, field\n",
    "from typing import List\n",
    "@dataclass\n",
    "class ClubMember:\n",
    "    name: str\n",
    "    guests: List[str] = field(default_factory=list)  # <1>\n"
   ]
  },
  {
   "cell_type": "code",
   "execution_count": 6,
   "id": "676d7664",
   "metadata": {},
   "outputs": [],
   "source": [
    "# tag::DOCTESTS[]\n",
    "\"\"\"\n",
    "``HackerClubMember`` objects accept an optional ``handle`` argument::\n",
    "\n",
    "    >>> anna = HackerClubMember('Anna Ravenscroft', handle='AnnaRaven')\n",
    "    >>> anna\n",
    "    HackerClubMember(name='Anna Ravenscroft', guests=[], handle='AnnaRaven')\n",
    "\n",
    "If ``handle`` is omitted, it's set to the first part of the member's name::\n",
    "\n",
    "    >>> leo = HackerClubMember('Leo Rochael')\n",
    "    >>> leo\n",
    "    HackerClubMember(name='Leo Rochael', guests=[], handle='Leo')\n",
    "\n",
    "Members must have a unique handle. The following ``leo2`` will not be created,\n",
    "because its ``handle`` would be 'Leo', which was taken by ``leo``::\n",
    "\n",
    "    >>> leo2 = HackerClubMember('Leo DaVinci')\n",
    "    Traceback (most recent call last):\n",
    "      ...\n",
    "    ValueError: handle 'Leo' already exists.\n",
    "\n",
    "To fix, ``leo2`` must be created with an explicit ``handle``::\n",
    "\n",
    "    >>> leo2 = HackerClubMember('Leo DaVinci', handle='Neo')\n",
    "    >>> leo2\n",
    "    HackerClubMember(name='Leo DaVinci', guests=[], handle='Neo')\n",
    "\"\"\"\n",
    "# end::DOCTESTS[]\n",
    "\n",
    "# tag::HACKERCLUB[]\n",
    "from dataclasses import dataclass\n",
    "\n",
    "@dataclass\n",
    "class HackerClubMember(ClubMember):                         # <1>\n",
    "    all_handles = set()                                     # <2>\n",
    "    handle: str = ''                                        # <3>\n",
    "\n",
    "    def __post_init__(self):\n",
    "        cls = self.__class__                                # <4>\n",
    "        if self.handle == '':                               # <5>\n",
    "            self.handle = self.name.split()[0]\n",
    "        if self.handle in cls.all_handles:                  # <6>\n",
    "            msg = f'handle {self.handle!r} already exists.'\n",
    "            raise ValueError(msg)\n",
    "        cls.all_handles.add(self.handle)                    # <7>\n",
    "# end::HACKERCLUB[]\n"
   ]
  },
  {
   "cell_type": "code",
   "execution_count": 9,
   "id": "1017c5cd",
   "metadata": {},
   "outputs": [
    {
     "data": {
      "text/plain": [
       "HackerClubMember(name='Anna Ravenscroft', guests=[], handle='AnnaRaven')"
      ]
     },
     "execution_count": 9,
     "metadata": {},
     "output_type": "execute_result"
    }
   ],
   "source": [
    "anna = HackerClubMember('Anna Ravenscroft', handle='AnnaRaven')\n",
    "anna"
   ]
  },
  {
   "cell_type": "code",
   "execution_count": 10,
   "id": "a361b6e6",
   "metadata": {},
   "outputs": [
    {
     "data": {
      "text/plain": [
       "HackerClubMember(name='Leo Rochael', guests=[], handle='Leo')"
      ]
     },
     "execution_count": 10,
     "metadata": {},
     "output_type": "execute_result"
    }
   ],
   "source": [
    "leo = HackerClubMember('Leo Rochael')\n",
    "leo"
   ]
  },
  {
   "cell_type": "code",
   "execution_count": 11,
   "id": "27598a44",
   "metadata": {},
   "outputs": [
    {
     "ename": "ValueError",
     "evalue": "handle 'Leo' already exists.",
     "output_type": "error",
     "traceback": [
      "\u001b[1;31m---------------------------------------------------------------------------\u001b[0m",
      "\u001b[1;31mValueError\u001b[0m                                Traceback (most recent call last)",
      "\u001b[1;32m~\\AppData\\Local\\Temp/ipykernel_24528/1507665927.py\u001b[0m in \u001b[0;36m<module>\u001b[1;34m\u001b[0m\n\u001b[1;32m----> 1\u001b[1;33m \u001b[0mleo2\u001b[0m \u001b[1;33m=\u001b[0m \u001b[0mHackerClubMember\u001b[0m\u001b[1;33m(\u001b[0m\u001b[1;34m'Leo DaVinci'\u001b[0m\u001b[1;33m)\u001b[0m\u001b[1;33m\u001b[0m\u001b[1;33m\u001b[0m\u001b[0m\n\u001b[0m",
      "\u001b[1;32m<string>\u001b[0m in \u001b[0;36m__init__\u001b[1;34m(self, name, guests, handle)\u001b[0m\n",
      "\u001b[1;32m~\\AppData\\Local\\Temp/ipykernel_24528/263877496.py\u001b[0m in \u001b[0;36m__post_init__\u001b[1;34m(self)\u001b[0m\n\u001b[0;32m     43\u001b[0m         \u001b[1;32mif\u001b[0m \u001b[0mself\u001b[0m\u001b[1;33m.\u001b[0m\u001b[0mhandle\u001b[0m \u001b[1;32min\u001b[0m \u001b[0mcls\u001b[0m\u001b[1;33m.\u001b[0m\u001b[0mall_handles\u001b[0m\u001b[1;33m:\u001b[0m                  \u001b[1;31m# <6>\u001b[0m\u001b[1;33m\u001b[0m\u001b[1;33m\u001b[0m\u001b[0m\n\u001b[0;32m     44\u001b[0m             \u001b[0mmsg\u001b[0m \u001b[1;33m=\u001b[0m \u001b[1;34mf'handle {self.handle!r} already exists.'\u001b[0m\u001b[1;33m\u001b[0m\u001b[1;33m\u001b[0m\u001b[0m\n\u001b[1;32m---> 45\u001b[1;33m             \u001b[1;32mraise\u001b[0m \u001b[0mValueError\u001b[0m\u001b[1;33m(\u001b[0m\u001b[0mmsg\u001b[0m\u001b[1;33m)\u001b[0m\u001b[1;33m\u001b[0m\u001b[1;33m\u001b[0m\u001b[0m\n\u001b[0m\u001b[0;32m     46\u001b[0m         \u001b[0mcls\u001b[0m\u001b[1;33m.\u001b[0m\u001b[0mall_handles\u001b[0m\u001b[1;33m.\u001b[0m\u001b[0madd\u001b[0m\u001b[1;33m(\u001b[0m\u001b[0mself\u001b[0m\u001b[1;33m.\u001b[0m\u001b[0mhandle\u001b[0m\u001b[1;33m)\u001b[0m                    \u001b[1;31m# <7>\u001b[0m\u001b[1;33m\u001b[0m\u001b[1;33m\u001b[0m\u001b[0m\n\u001b[0;32m     47\u001b[0m \u001b[1;31m# end::HACKERCLUB[]\u001b[0m\u001b[1;33m\u001b[0m\u001b[1;33m\u001b[0m\u001b[1;33m\u001b[0m\u001b[0m\n",
      "\u001b[1;31mValueError\u001b[0m: handle 'Leo' already exists."
     ]
    }
   ],
   "source": [
    "leo2 = HackerClubMember('Leo DaVinci')"
   ]
  },
  {
   "cell_type": "code",
   "execution_count": 12,
   "id": "770757b9",
   "metadata": {},
   "outputs": [
    {
     "data": {
      "text/plain": [
       "HackerClubMember(name='Leo DaVinci', guests=[], handle='Neo')"
      ]
     },
     "execution_count": 12,
     "metadata": {},
     "output_type": "execute_result"
    }
   ],
   "source": [
    "leo2 = HackerClubMember('Leo DaVinci', handle='Neo')\n",
    "leo2"
   ]
  },
  {
   "cell_type": "code",
   "execution_count": 13,
   "id": "6cb694bf",
   "metadata": {},
   "outputs": [
    {
     "data": {
      "text/plain": [
       "\"HackerClubMember(name: str, guests: List[str] = <factory>, handle: str = '')\""
      ]
     },
     "execution_count": 13,
     "metadata": {},
     "output_type": "execute_result"
    }
   ],
   "source": [
    "HackerClubMember.__doc__"
   ]
  },
  {
   "cell_type": "code",
   "execution_count": 16,
   "id": "043c977b",
   "metadata": {},
   "outputs": [],
   "source": [
    "# tag::DOCTESTS[]\n",
    "\"\"\"\n",
    "``HackerClubMember`` objects can be created with a ``name`` and an optional ``handle``::\n",
    "\n",
    "    >>> anna = HackerClubMember('Anna Ravenscroft', handle='AnnaRaven')\n",
    "    >>> anna\n",
    "    HackerClubMember(name='Anna Ravenscroft', guests=[], handle='AnnaRaven')\n",
    "\n",
    "If ``handle`` is omitted, it's set to the first part of the member's name::\n",
    "\n",
    "    >>> leo = HackerClubMember('Leo Rochael')\n",
    "    >>> leo\n",
    "    HackerClubMember(name='Leo Rochael', guests=[], handle='Leo')\n",
    "\n",
    "Members must have a unique handle. This ``leo2`` will not be created,\n",
    "because its ``handle`` would be 'Leo', which was taken by ``leo``::\n",
    "\n",
    "    >>> leo2 = HackerClubMember('Leo DaVinci')\n",
    "    Traceback (most recent call last):\n",
    "      ...\n",
    "    ValueError: handle 'Leo' already exists.\n",
    "\n",
    "To fix, ``leo2`` must be created with an explicit ``handle``::\n",
    "\n",
    "    >>> leo2 = HackerClubMember('Leo DaVinci', handle='Neo')\n",
    "    >>> leo2\n",
    "    HackerClubMember(name='Leo DaVinci', guests=[], handle='Neo')\n",
    "\"\"\"\n",
    "# end::DOCTESTS[]\n",
    "\n",
    "# tag::HACKERCLUB[]\n",
    "from dataclasses import dataclass\n",
    "from typing import ClassVar\n",
    "from typing import Set\n",
    "\n",
    "@dataclass\n",
    "class HackerClubMember(ClubMember):\n",
    "    all_handles: ClassVar[Set[str]] = set()\n",
    "    handle: str = ''\n",
    "\n",
    "    def __post_init__(self):\n",
    "        cls = self.__class__\n",
    "        if self.handle == '':\n",
    "            self.handle = self.name.split()[0]\n",
    "        if self.handle in cls.all_handles:\n",
    "            msg = f'handle {self.handle!r} already exists.'\n",
    "            raise ValueError(msg)\n",
    "        cls.all_handles.add(self.handle)\n",
    "# end::HACKERCLUB[]\n"
   ]
  },
  {
   "cell_type": "code",
   "execution_count": 5,
   "id": "82cbbf84",
   "metadata": {},
   "outputs": [
    {
     "name": "stdout",
     "output_type": "stream",
     "text": [
      "Resource(identifier='978-0-13-475759-9', title='Refactoring, 2nd Edition', creators=['Martin Fowler', 'Kent Beck'], date=datetime.date(2018, 11, 19), type=<ResourceType.BOOK: 1>, description='Improving the design of existing code', language='EN', subjects=['computer programming', 'OOP'])\n",
      "True\n"
     ]
    }
   ],
   "source": [
    "\"\"\"\n",
    "Media resource description class with subset of the Dublin Core fields.\n",
    "\n",
    "Default field values:\n",
    "\n",
    "    >>> r = Resource('0')\n",
    "    >>> r  # doctest: +NORMALIZE_WHITESPACE\n",
    "    Resource(identifier='0', title='<untitled>', creators=[], date=None,\n",
    "    type=<ResourceType.BOOK: 1>, description='', language='', subjects=[])\n",
    "\n",
    "A complete resource record:\n",
    "# tag::DOCTEST[]\n",
    "\n",
    "    >>> description = 'Improving the design of existing code'\n",
    "    >>> book = Resource('978-0-13-475759-9', 'Refactoring, 2nd Edition',\n",
    "    ...     ['Martin Fowler', 'Kent Beck'], date(2018, 11, 19),\n",
    "    ...     ResourceType.BOOK, description, 'EN',\n",
    "    ...     ['computer programming', 'OOP'])\n",
    "    >>> book  # doctest: +NORMALIZE_WHITESPACE\n",
    "    Resource(identifier='978-0-13-475759-9', title='Refactoring, 2nd Edition',\n",
    "    creators=['Martin Fowler', 'Kent Beck'], date=datetime.date(2018, 11, 19),\n",
    "    type=<ResourceType.BOOK: 1>, description='Improving the design of existing code',\n",
    "    language='EN', subjects=['computer programming', 'OOP'])\n",
    "\n",
    "# end::DOCTEST[]\n",
    "\"\"\"\n",
    "\n",
    "# tag::DATACLASS[]\n",
    "from dataclasses import dataclass, field\n",
    "from typing import Optional\n",
    "from enum import Enum, auto\n",
    "from datetime import date\n",
    "from typing import List\n",
    "\n",
    "\n",
    "class ResourceType(Enum):  # <1>\n",
    "    BOOK = auto()\n",
    "    EBOOK = auto()\n",
    "    VIDEO = auto()\n",
    "\n",
    "\n",
    "@dataclass\n",
    "class Resource:\n",
    "    \"\"\"Media resource description.\"\"\"\n",
    "    identifier: str                                    # <2>\n",
    "    title: str = '<untitled>'                          # <3>\n",
    "    creators: List[str] = field(default_factory=list)\n",
    "    date: Optional[date] = None                        # <4>\n",
    "    type: ResourceType = ResourceType.BOOK             # <5>\n",
    "    description: str = ''\n",
    "    language: str = ''\n",
    "    subjects: List[str] = field(default_factory=list)\n",
    "# end::DATACLASS[]\n",
    "\n",
    "\n",
    "from typing import TypedDict\n",
    "\n",
    "\n",
    "class ResourceDict(TypedDict):\n",
    "    identifier: str\n",
    "    title: str\n",
    "    creators: List[str]\n",
    "    date: Optional[date]\n",
    "    type: ResourceType\n",
    "    description: str\n",
    "    language: str\n",
    "    subjects: List[str]\n",
    "\n",
    "\n",
    "if __name__ == '__main__':\n",
    "    r = Resource('0')\n",
    "    description = 'Improving the design of existing code'\n",
    "    book = Resource('978-0-13-475759-9', 'Refactoring, 2nd Edition',\n",
    "                    ['Martin Fowler', 'Kent Beck'], date(2018, 11, 19),\n",
    "                    ResourceType.BOOK, description,\n",
    "                    'EN', ['computer programming', 'OOP'])\n",
    "    print(book)\n",
    "    book_dict: ResourceDict = {\n",
    "        'identifier': '978-0-13-475759-9',\n",
    "        'title': 'Refactoring, 2nd Edition',\n",
    "        'creators': ['Martin Fowler', 'Kent Beck'],\n",
    "        'date': date(2018, 11, 19),\n",
    "        'type': ResourceType.BOOK,\n",
    "        'description': 'Improving the design of existing code',\n",
    "        'language': 'EN',\n",
    "        'subjects': ['computer programming', 'OOP']}\n",
    "    book2 = Resource(**book_dict)\n",
    "    print(book == book2)\n"
   ]
  },
  {
   "cell_type": "code",
   "execution_count": 2,
   "id": "08d6642a",
   "metadata": {},
   "outputs": [
    {
     "name": "stdout",
     "output_type": "stream",
     "text": [
      "Resource(identifier='978-0-13-475759-9', title='Refactoring, 2nd Edition', creators=['Martin Fowler', 'Kent Beck'], date=datetime.date(2018, 11, 19), type=<ResourceType.BOOK: 1>, description='Improving the design of existing code', language='EN', subjects=['computer programming', 'OOP'])\n",
      "True\n"
     ]
    }
   ],
   "source": [
    "!python example-code-2e/05-data-classes/dataclass/resource.py"
   ]
  },
  {
   "cell_type": "code",
   "execution_count": 6,
   "id": "1177cd20",
   "metadata": {},
   "outputs": [
    {
     "data": {
      "text/plain": [
       "Resource(identifier='978-0-13-475759-9', title='Refactoring, 2nd Edition', creators=['Martin Fowler', 'Kent Beck'], date=datetime.date(2018, 11, 19), type=<ResourceType.BOOK: 1>, description='Improving the design of existing code', language='EN', subjects=['computer programming', 'OOP'])"
      ]
     },
     "execution_count": 6,
     "metadata": {},
     "output_type": "execute_result"
    }
   ],
   "source": [
    "book = Resource('978-0-13-475759-9', 'Refactoring, 2nd Edition',\n",
    "                    ['Martin Fowler', 'Kent Beck'], date(2018, 11, 19),\n",
    "                    ResourceType.BOOK, description,\n",
    "                    'EN', ['computer programming', 'OOP'])\n",
    "book"
   ]
  },
  {
   "cell_type": "code",
   "execution_count": 7,
   "id": "4ab415f6",
   "metadata": {},
   "outputs": [
    {
     "name": "stdout",
     "output_type": "stream",
     "text": [
      "Resource(\n",
      "    identifier = '978-0-13-475759-9',\n",
      "    title = 'Refactoring, 2nd Edition',\n",
      "    creators = ['Martin Fowler', 'Kent Beck'],\n",
      "    date = datetime.date(2018, 11, 19),\n",
      "    type = <ResourceType.BOOK: 1>,\n",
      "    description = 'Improving the design of existing code',\n",
      "    language = 'EN',\n",
      "    subjects = ['computer programming', 'OOP'],\n",
      ")\n",
      "True\n"
     ]
    }
   ],
   "source": [
    "\"\"\"\n",
    "Media resource description class with subset of the Dublin Core fields.\n",
    "\n",
    "Default field values:\n",
    "\n",
    "    >>> r = Resource('0')\n",
    "    >>> r  # doctest: +NORMALIZE_WHITESPACE\n",
    "    Resource(\n",
    "        identifier = '0',\n",
    "        title = '<untitled>',\n",
    "        creators = [],\n",
    "        date = None,\n",
    "        type = <ResourceType.BOOK: 1>,\n",
    "        description = '',\n",
    "        language = '',\n",
    "        subjects = [],\n",
    "    )\n",
    "\n",
    "A complete resource record:\n",
    "\n",
    "    >>> description = 'Improving the design of existing code'\n",
    "    >>> book = Resource('978-0-13-475759-9', 'Refactoring, 2nd Edition',\n",
    "    ...     ['Martin Fowler', 'Kent Beck'], date(2018, 11, 19),\n",
    "    ...     ResourceType.BOOK, description, 'EN',\n",
    "    ...     ['computer programming', 'OOP'])\n",
    "\n",
    "# tag::DOCTEST[]\n",
    "    >>> book  # doctest: +NORMALIZE_WHITESPACE\n",
    "    Resource(\n",
    "        identifier = '978-0-13-475759-9',\n",
    "        title = 'Refactoring, 2nd Edition',\n",
    "        creators = ['Martin Fowler', 'Kent Beck'],\n",
    "        date = datetime.date(2018, 11, 19),\n",
    "        type = <ResourceType.BOOK: 1>,\n",
    "        description = 'Improving the design of existing code',\n",
    "        language = 'EN',\n",
    "        subjects = ['computer programming', 'OOP'],\n",
    "    )\n",
    "\n",
    "# end::DOCTEST[]\n",
    "\"\"\"\n",
    "\n",
    "from dataclasses import dataclass, field, fields\n",
    "from typing import Optional, TypedDict\n",
    "from enum import Enum, auto\n",
    "from datetime import date\n",
    "from typing import List\n",
    "\n",
    "class ResourceType(Enum):\n",
    "    BOOK = auto()\n",
    "    EBOOK = auto()\n",
    "    VIDEO = auto()\n",
    "\n",
    "\n",
    "@dataclass\n",
    "class Resource:\n",
    "    \"\"\"Media resource description.\"\"\"\n",
    "    identifier: str\n",
    "    title: str = '<untitled>'\n",
    "    creators: List[str] = field(default_factory=list)\n",
    "    date: Optional[date] = None\n",
    "    type: ResourceType = ResourceType.BOOK\n",
    "    description: str = ''\n",
    "    language: str = ''\n",
    "    subjects: List[str] = field(default_factory=list)\n",
    "\n",
    "# tag::REPR[]\n",
    "    def __repr__(self):\n",
    "        cls = self.__class__\n",
    "        cls_name = cls.__name__\n",
    "        indent = ' ' * 4\n",
    "        res = [f'{cls_name}(']                            # <1>\n",
    "        for f in fields(cls):                             # <2>\n",
    "            value = getattr(self, f.name)                 # <3>\n",
    "            res.append(f'{indent}{f.name} = {value!r},')  # <4>\n",
    "\n",
    "        res.append(')')                                   # <5>\n",
    "        return '\\n'.join(res)                             # <6>\n",
    "# end::REPR[]\n",
    "\n",
    "\n",
    "class ResourceDict(TypedDict):\n",
    "    identifier: str\n",
    "    title: str\n",
    "    creators: List[str]\n",
    "    date: Optional[date]\n",
    "    type: ResourceType\n",
    "    description: str\n",
    "    language: str\n",
    "    subjects: List[str]\n",
    "\n",
    "\n",
    "if __name__ == '__main__':\n",
    "    r = Resource('0')\n",
    "    description = 'Improving the design of existing code'\n",
    "    book = Resource('978-0-13-475759-9', 'Refactoring, 2nd Edition',\n",
    "                    ['Martin Fowler', 'Kent Beck'], date(2018, 11, 19),\n",
    "                    ResourceType.BOOK, description,\n",
    "                    'EN', ['computer programming', 'OOP'])\n",
    "    print(book)\n",
    "    book_dict: ResourceDict = {\n",
    "        'identifier': '978-0-13-475759-9',\n",
    "        'title': 'Refactoring, 2nd Edition',\n",
    "        'creators': ['Martin Fowler', 'Kent Beck'],\n",
    "        'date': date(2018, 11, 19),\n",
    "        'type': ResourceType.BOOK,\n",
    "        'description': 'Improving the design of existing code',\n",
    "        'language': 'EN',\n",
    "        'subjects': ['computer programming', 'OOP']}\n",
    "    book2 = Resource(**book_dict)\n",
    "    print(book == book2)\n"
   ]
  },
  {
   "cell_type": "code",
   "execution_count": 9,
   "id": "c053855f",
   "metadata": {},
   "outputs": [
    {
     "data": {
      "text/plain": [
       "__main__.Resource"
      ]
     },
     "execution_count": 9,
     "metadata": {},
     "output_type": "execute_result"
    }
   ],
   "source": [
    "book.__class__"
   ]
  },
  {
   "cell_type": "code",
   "execution_count": 10,
   "id": "47b808c3",
   "metadata": {},
   "outputs": [
    {
     "data": {
      "text/plain": [
       "'Resource'"
      ]
     },
     "execution_count": 10,
     "metadata": {},
     "output_type": "execute_result"
    }
   ],
   "source": [
    "book.__class__.__name__"
   ]
  },
  {
   "cell_type": "code",
   "execution_count": 11,
   "id": "8b4edade",
   "metadata": {},
   "outputs": [
    {
     "data": {
      "text/plain": [
       "(Field(name='identifier',type=<class 'str'>,default=<dataclasses._MISSING_TYPE object at 0x0000015FDEA7DE20>,default_factory=<dataclasses._MISSING_TYPE object at 0x0000015FDEA7DE20>,init=True,repr=True,hash=None,compare=True,metadata=mappingproxy({}),_field_type=_FIELD),\n",
       " Field(name='title',type=<class 'str'>,default='<untitled>',default_factory=<dataclasses._MISSING_TYPE object at 0x0000015FDEA7DE20>,init=True,repr=True,hash=None,compare=True,metadata=mappingproxy({}),_field_type=_FIELD),\n",
       " Field(name='creators',type=typing.List[str],default=<dataclasses._MISSING_TYPE object at 0x0000015FDEA7DE20>,default_factory=<class 'list'>,init=True,repr=True,hash=None,compare=True,metadata=mappingproxy({}),_field_type=_FIELD),\n",
       " Field(name='date',type=<class 'NoneType'>,default=None,default_factory=<dataclasses._MISSING_TYPE object at 0x0000015FDEA7DE20>,init=True,repr=True,hash=None,compare=True,metadata=mappingproxy({}),_field_type=_FIELD),\n",
       " Field(name='type',type=<enum 'ResourceType'>,default=<ResourceType.BOOK: 1>,default_factory=<dataclasses._MISSING_TYPE object at 0x0000015FDEA7DE20>,init=True,repr=True,hash=None,compare=True,metadata=mappingproxy({}),_field_type=_FIELD),\n",
       " Field(name='description',type=<class 'str'>,default='',default_factory=<dataclasses._MISSING_TYPE object at 0x0000015FDEA7DE20>,init=True,repr=True,hash=None,compare=True,metadata=mappingproxy({}),_field_type=_FIELD),\n",
       " Field(name='language',type=<class 'str'>,default='',default_factory=<dataclasses._MISSING_TYPE object at 0x0000015FDEA7DE20>,init=True,repr=True,hash=None,compare=True,metadata=mappingproxy({}),_field_type=_FIELD),\n",
       " Field(name='subjects',type=typing.List[str],default=<dataclasses._MISSING_TYPE object at 0x0000015FDEA7DE20>,default_factory=<class 'list'>,init=True,repr=True,hash=None,compare=True,metadata=mappingproxy({}),_field_type=_FIELD))"
      ]
     },
     "execution_count": 11,
     "metadata": {},
     "output_type": "execute_result"
    }
   ],
   "source": [
    "fields(book.__class__)"
   ]
  },
  {
   "cell_type": "code",
   "execution_count": 14,
   "id": "a1685d8d",
   "metadata": {},
   "outputs": [
    {
     "name": "stdout",
     "output_type": "stream",
     "text": [
      "identifier\n",
      "title\n",
      "creators\n",
      "date\n",
      "type\n",
      "description\n",
      "language\n",
      "subjects\n"
     ]
    }
   ],
   "source": [
    "for f in fields(book.__class__):\n",
    "    print(f.name)"
   ]
  },
  {
   "cell_type": "code",
   "execution_count": 16,
   "id": "44bc65da",
   "metadata": {},
   "outputs": [
    {
     "name": "stdout",
     "output_type": "stream",
     "text": [
      "978-0-13-475759-9\n",
      "Refactoring, 2nd Edition\n",
      "['Martin Fowler', 'Kent Beck']\n",
      "2018-11-19\n",
      "ResourceType.BOOK\n",
      "Improving the design of existing code\n",
      "EN\n",
      "['computer programming', 'OOP']\n"
     ]
    }
   ],
   "source": [
    "for f in fields(book.__class__):\n",
    "    print(getattr(book, f.name))"
   ]
  },
  {
   "cell_type": "code",
   "execution_count": 17,
   "id": "ec382865",
   "metadata": {},
   "outputs": [
    {
     "name": "stdout",
     "output_type": "stream",
     "text": [
      "978-0-13-475759-9\n"
     ]
    }
   ],
   "source": [
    "print(getattr(book, 'identifier'))"
   ]
  },
  {
   "cell_type": "code",
   "execution_count": 20,
   "id": "8272d936",
   "metadata": {},
   "outputs": [
    {
     "data": {
      "text/plain": [
       "'978-0-13-475759-9'"
      ]
     },
     "execution_count": 20,
     "metadata": {},
     "output_type": "execute_result"
    }
   ],
   "source": [
    "getattr(book, 'identifier')"
   ]
  },
  {
   "cell_type": "code",
   "execution_count": 21,
   "id": "47367a47",
   "metadata": {},
   "outputs": [
    {
     "data": {
      "text/plain": [
       "Resource(\n",
       "    identifier = '978-0-13-475759-9',\n",
       "    title = 'Refactoring, 2nd Edition',\n",
       "    creators = ['Martin Fowler', 'Kent Beck'],\n",
       "    date = datetime.date(2018, 11, 19),\n",
       "    type = <ResourceType.BOOK: 1>,\n",
       "    description = 'Improving the design of existing code',\n",
       "    language = 'EN',\n",
       "    subjects = ['computer programming', 'OOP'],\n",
       ")"
      ]
     },
     "execution_count": 21,
     "metadata": {},
     "output_type": "execute_result"
    }
   ],
   "source": [
    "book"
   ]
  },
  {
   "cell_type": "code",
   "execution_count": 22,
   "id": "357d1eee",
   "metadata": {},
   "outputs": [
    {
     "name": "stdout",
     "output_type": "stream",
     "text": [
      "Resource(\n",
      "    identifier = '978-0-13-475759-9',\n",
      "    title = 'Refactoring, 2nd Edition',\n",
      "    creators = ['Martin Fowler', 'Kent Beck'],\n",
      "    date = datetime.date(2018, 11, 19),\n",
      "    type = <ResourceType.BOOK: 1>,\n",
      "    description = 'Improving the design of existing code',\n",
      "    language = 'EN',\n",
      "    subjects = ['computer programming', 'OOP'],\n",
      ")\n"
     ]
    }
   ],
   "source": [
    "print(book)"
   ]
  },
  {
   "cell_type": "code",
   "execution_count": 5,
   "id": "d4870520",
   "metadata": {},
   "outputs": [
    {
     "ename": "SyntaxError",
     "evalue": "invalid syntax (Temp/ipykernel_15524/1313792159.py, line 27)",
     "output_type": "error",
     "traceback": [
      "\u001b[1;36m  File \u001b[1;32m\"C:\\Users\\lidan\\AppData\\Local\\Temp/ipykernel_15524/1313792159.py\"\u001b[1;36m, line \u001b[1;32m27\u001b[0m\n\u001b[1;33m    match city:\u001b[0m\n\u001b[1;37m          ^\u001b[0m\n\u001b[1;31mSyntaxError\u001b[0m\u001b[1;31m:\u001b[0m invalid syntax\n"
     ]
    }
   ],
   "source": [
    "\"\"\"\n",
    "match_cities.py\n",
    "\"\"\"\n",
    "\n",
    "# tag::CITY[]\n",
    "import typing\n",
    "\n",
    "class City(typing.NamedTuple):\n",
    "    continent: str\n",
    "    name: str\n",
    "    country: str\n",
    "\n",
    "\n",
    "cities = [\n",
    "    City('Asia', 'Tokyo', 'JP'),\n",
    "    City('Asia', 'Delhi', 'IN'),\n",
    "    City('North America', 'Mexico City', 'MX'),\n",
    "    City('North America', 'New York', 'US'),\n",
    "    City('South America', 'São Paulo', 'BR'),\n",
    "]\n",
    "# end::CITY[]\n",
    "\n",
    "# tag::ASIA[]\n",
    "def match_asian_cities():\n",
    "    results = []\n",
    "    for city in cities:\n",
    "        match city:\n",
    "            case City(continent='Asia'):\n",
    "                results.append(city)\n",
    "    return results\n",
    "# end::ASIA[]\n",
    "\n",
    "# tag::ASIA_POSITIONAL[]\n",
    "def match_asian_cities_pos():\n",
    "    results = []\n",
    "    for city in cities:\n",
    "        match city:\n",
    "            case City('Asia'):\n",
    "                results.append(city)\n",
    "    return results\n",
    "# end::ASIA_POSITIONAL[]\n",
    "\n",
    "\n",
    "# tag::ASIA_COUNTRIES[]\n",
    "def match_asian_countries():\n",
    "    results = []\n",
    "    for city in cities:\n",
    "        match city:\n",
    "            case City(continent='Asia', country=cc):\n",
    "                results.append(cc)\n",
    "    return results\n",
    "# end::ASIA_COUNTRIES[]\n",
    "\n",
    "# tag::ASIA_COUNTRIES_POSITIONAL[]\n",
    "def match_asian_countries_pos():\n",
    "    results = []\n",
    "    for city in cities:\n",
    "        match city:\n",
    "            case City('Asia', _, country):\n",
    "                results.append(country)\n",
    "    return results\n",
    "# end::ASIA_COUNTRIES_POSITIONAL[]\n",
    "\n",
    "\n",
    "def match_india():\n",
    "    results = []\n",
    "    for city in cities:\n",
    "        match city:\n",
    "            case City(_, name, 'IN'):\n",
    "                results.append(name)\n",
    "    return results\n",
    "\n",
    "\n",
    "def match_brazil():\n",
    "    results = []\n",
    "    for city in cities:\n",
    "        match city:\n",
    "            case City(country='BR', name=name):\n",
    "                results.append(name)\n",
    "    return results\n",
    "\n",
    "\n",
    "\n",
    "def main():\n",
    "    tests = ((n, f) for n, f in globals().items() if n.startswith('match_'))\n",
    "\n",
    "    for name, func in tests:\n",
    "        print(f'{name:15}\\t{func()}')\n",
    "\n",
    "\n",
    "if __name__ == '__main__':\n",
    "    main()\n"
   ]
  },
  {
   "cell_type": "code",
   "execution_count": null,
   "id": "11c64be2",
   "metadata": {},
   "outputs": [],
   "source": []
  }
 ],
 "metadata": {
  "kernelspec": {
   "display_name": "Python 3 (ipykernel)",
   "language": "python",
   "name": "python3"
  },
  "language_info": {
   "codemirror_mode": {
    "name": "ipython",
    "version": 3
   },
   "file_extension": ".py",
   "mimetype": "text/x-python",
   "name": "python",
   "nbconvert_exporter": "python",
   "pygments_lexer": "ipython3",
   "version": "3.8.5"
  }
 },
 "nbformat": 4,
 "nbformat_minor": 5
}
