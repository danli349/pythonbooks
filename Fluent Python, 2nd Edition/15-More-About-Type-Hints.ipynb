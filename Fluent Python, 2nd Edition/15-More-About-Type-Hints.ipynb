{
 "cells": [
  {
   "cell_type": "code",
   "execution_count": 1,
   "id": "acdef3a7",
   "metadata": {},
   "outputs": [
    {
     "data": {
      "text/plain": [
       "['D:\\\\books\\\\python\\\\0.   Fluent Python, 2nd Edition',\n",
       " 'D:/books/python/0.   Fluent Python, 2nd Edition/example-code-2e/15-more-types/',\n",
       " 'C:\\\\Users\\\\lidan\\\\miniconda3\\\\python38.zip',\n",
       " 'C:\\\\Users\\\\lidan\\\\miniconda3\\\\DLLs',\n",
       " 'C:\\\\Users\\\\lidan\\\\miniconda3\\\\lib',\n",
       " 'C:\\\\Users\\\\lidan\\\\miniconda3',\n",
       " '',\n",
       " 'C:\\\\Users\\\\lidan\\\\AppData\\\\Roaming\\\\Python\\\\Python38\\\\site-packages',\n",
       " 'C:\\\\Users\\\\lidan\\\\miniconda3\\\\lib\\\\site-packages',\n",
       " 'C:\\\\Users\\\\lidan\\\\miniconda3\\\\lib\\\\site-packages\\\\magic_impute-2.0.4-py3.8.egg',\n",
       " 'C:\\\\Users\\\\lidan\\\\miniconda3\\\\lib\\\\site-packages\\\\seqc-0.2.0-py3.8.egg',\n",
       " 'C:\\\\Users\\\\lidan\\\\miniconda3\\\\lib\\\\site-packages\\\\weasyprint-56.1-py3.8.egg',\n",
       " 'C:\\\\Users\\\\lidan\\\\miniconda3\\\\lib\\\\site-packages\\\\cairocffi-1.3.0-py3.8.egg',\n",
       " 'C:\\\\Users\\\\lidan\\\\miniconda3\\\\lib\\\\site-packages\\\\win32',\n",
       " 'C:\\\\Users\\\\lidan\\\\miniconda3\\\\lib\\\\site-packages\\\\win32\\\\lib',\n",
       " 'C:\\\\Users\\\\lidan\\\\miniconda3\\\\lib\\\\site-packages\\\\Pythonwin']"
      ]
     },
     "execution_count": 1,
     "metadata": {},
     "output_type": "execute_result"
    }
   ],
   "source": [
    "import sys\n",
    "    # caution: path[0] is reserved for script path (or '' in REPL)\n",
    "sys.path.insert(1, 'D:/books/python/0.   Fluent Python, 2nd Edition/example-code-2e/15-more-types/')\n",
    "sys.path"
   ]
  },
  {
   "cell_type": "code",
   "execution_count": 2,
   "id": "309e76da",
   "metadata": {},
   "outputs": [
    {
     "data": {
      "text/plain": [
       "3"
      ]
     },
     "execution_count": 2,
     "metadata": {},
     "output_type": "execute_result"
    }
   ],
   "source": [
    "sum((1,2))"
   ]
  },
  {
   "cell_type": "code",
   "execution_count": 3,
   "id": "ac595f0a",
   "metadata": {},
   "outputs": [
    {
     "data": {
      "text/plain": [
       "15"
      ]
     },
     "execution_count": 3,
     "metadata": {},
     "output_type": "execute_result"
    }
   ],
   "source": [
    "import numpy as np\n",
    "np.sum(range(6))"
   ]
  },
  {
   "cell_type": "code",
   "execution_count": 4,
   "id": "da53b06b",
   "metadata": {},
   "outputs": [
    {
     "data": {
      "text/plain": [
       "16"
      ]
     },
     "execution_count": 4,
     "metadata": {},
     "output_type": "execute_result"
    }
   ],
   "source": [
    "sum(range(6), 1)"
   ]
  },
  {
   "cell_type": "code",
   "execution_count": 5,
   "id": "c19c1709",
   "metadata": {},
   "outputs": [
    {
     "data": {
      "text/plain": [
       "4951"
      ]
     },
     "execution_count": 5,
     "metadata": {},
     "output_type": "execute_result"
    }
   ],
   "source": [
    "sum(range(100), 1)"
   ]
  },
  {
   "cell_type": "code",
   "execution_count": 6,
   "id": "b96779e8",
   "metadata": {},
   "outputs": [
    {
     "data": {
      "text/plain": [
       "5950"
      ]
     },
     "execution_count": 6,
     "metadata": {},
     "output_type": "execute_result"
    }
   ],
   "source": [
    "sum(range(100), 1000)"
   ]
  },
  {
   "cell_type": "code",
   "execution_count": 7,
   "id": "37d9f389",
   "metadata": {},
   "outputs": [
    {
     "name": "stdout",
     "output_type": "stream",
     "text": [
      "Help on built-in function sum in module builtins:\n",
      "\n",
      "sum(iterable, /, start=0)\n",
      "    Return the sum of a 'start' value (default: 0) plus an iterable of numbers\n",
      "    \n",
      "    When the iterable is empty, return the start value.\n",
      "    This function is intended specifically for use with numeric values and may\n",
      "    reject non-numeric types.\n",
      "\n"
     ]
    }
   ],
   "source": [
    "help(sum)"
   ]
  },
  {
   "cell_type": "code",
   "execution_count": 8,
   "id": "9ce0488a",
   "metadata": {},
   "outputs": [
    {
     "data": {
      "text/plain": [
       "16"
      ]
     },
     "execution_count": 8,
     "metadata": {},
     "output_type": "execute_result"
    }
   ],
   "source": [
    "np.sum([*range(6), 1])"
   ]
  },
  {
   "cell_type": "code",
   "execution_count": 9,
   "id": "d8479d6a",
   "metadata": {},
   "outputs": [
    {
     "name": "stdout",
     "output_type": "stream",
     "text": [
      "Help on function sum in module numpy:\n",
      "\n",
      "sum(a, axis=None, dtype=None, out=None, keepdims=<no value>, initial=<no value>, where=<no value>)\n",
      "    Sum of array elements over a given axis.\n",
      "    \n",
      "    Parameters\n",
      "    ----------\n",
      "    a : array_like\n",
      "        Elements to sum.\n",
      "    axis : None or int or tuple of ints, optional\n",
      "        Axis or axes along which a sum is performed.  The default,\n",
      "        axis=None, will sum all of the elements of the input array.  If\n",
      "        axis is negative it counts from the last to the first axis.\n",
      "    \n",
      "        .. versionadded:: 1.7.0\n",
      "    \n",
      "        If axis is a tuple of ints, a sum is performed on all of the axes\n",
      "        specified in the tuple instead of a single axis or all the axes as\n",
      "        before.\n",
      "    dtype : dtype, optional\n",
      "        The type of the returned array and of the accumulator in which the\n",
      "        elements are summed.  The dtype of `a` is used by default unless `a`\n",
      "        has an integer dtype of less precision than the default platform\n",
      "        integer.  In that case, if `a` is signed then the platform integer\n",
      "        is used while if `a` is unsigned then an unsigned integer of the\n",
      "        same precision as the platform integer is used.\n",
      "    out : ndarray, optional\n",
      "        Alternative output array in which to place the result. It must have\n",
      "        the same shape as the expected output, but the type of the output\n",
      "        values will be cast if necessary.\n",
      "    keepdims : bool, optional\n",
      "        If this is set to True, the axes which are reduced are left\n",
      "        in the result as dimensions with size one. With this option,\n",
      "        the result will broadcast correctly against the input array.\n",
      "    \n",
      "        If the default value is passed, then `keepdims` will not be\n",
      "        passed through to the `sum` method of sub-classes of\n",
      "        `ndarray`, however any non-default value will be.  If the\n",
      "        sub-class' method does not implement `keepdims` any\n",
      "        exceptions will be raised.\n",
      "    initial : scalar, optional\n",
      "        Starting value for the sum. See `~numpy.ufunc.reduce` for details.\n",
      "    \n",
      "        .. versionadded:: 1.15.0\n",
      "    \n",
      "    where : array_like of bool, optional\n",
      "        Elements to include in the sum. See `~numpy.ufunc.reduce` for details.\n",
      "    \n",
      "        .. versionadded:: 1.17.0\n",
      "    \n",
      "    Returns\n",
      "    -------\n",
      "    sum_along_axis : ndarray\n",
      "        An array with the same shape as `a`, with the specified\n",
      "        axis removed.   If `a` is a 0-d array, or if `axis` is None, a scalar\n",
      "        is returned.  If an output array is specified, a reference to\n",
      "        `out` is returned.\n",
      "    \n",
      "    See Also\n",
      "    --------\n",
      "    ndarray.sum : Equivalent method.\n",
      "    \n",
      "    add.reduce : Equivalent functionality of `add`.\n",
      "    \n",
      "    cumsum : Cumulative sum of array elements.\n",
      "    \n",
      "    trapz : Integration of array values using the composite trapezoidal rule.\n",
      "    \n",
      "    mean, average\n",
      "    \n",
      "    Notes\n",
      "    -----\n",
      "    Arithmetic is modular when using integer types, and no error is\n",
      "    raised on overflow.\n",
      "    \n",
      "    The sum of an empty array is the neutral element 0:\n",
      "    \n",
      "    >>> np.sum([])\n",
      "    0.0\n",
      "    \n",
      "    For floating point numbers the numerical precision of sum (and\n",
      "    ``np.add.reduce``) is in general limited by directly adding each number\n",
      "    individually to the result causing rounding errors in every step.\n",
      "    However, often numpy will use a  numerically better approach (partial\n",
      "    pairwise summation) leading to improved precision in many use-cases.\n",
      "    This improved precision is always provided when no ``axis`` is given.\n",
      "    When ``axis`` is given, it will depend on which axis is summed.\n",
      "    Technically, to provide the best speed possible, the improved precision\n",
      "    is only used when the summation is along the fast axis in memory.\n",
      "    Note that the exact precision may vary depending on other parameters.\n",
      "    In contrast to NumPy, Python's ``math.fsum`` function uses a slower but\n",
      "    more precise approach to summation.\n",
      "    Especially when summing a large number of lower precision floating point\n",
      "    numbers, such as ``float32``, numerical errors can become significant.\n",
      "    In such cases it can be advisable to use `dtype=\"float64\"` to use a higher\n",
      "    precision for the output.\n",
      "    \n",
      "    Examples\n",
      "    --------\n",
      "    >>> np.sum([0.5, 1.5])\n",
      "    2.0\n",
      "    >>> np.sum([0.5, 0.7, 0.2, 1.5], dtype=np.int32)\n",
      "    1\n",
      "    >>> np.sum([[0, 1], [0, 5]])\n",
      "    6\n",
      "    >>> np.sum([[0, 1], [0, 5]], axis=0)\n",
      "    array([0, 6])\n",
      "    >>> np.sum([[0, 1], [0, 5]], axis=1)\n",
      "    array([1, 5])\n",
      "    >>> np.sum([[0, 1], [np.nan, 5]], where=[False, True], axis=1)\n",
      "    array([1., 5.])\n",
      "    \n",
      "    If the accumulator is too small, overflow occurs:\n",
      "    \n",
      "    >>> np.ones(128, dtype=np.int8).sum(dtype=np.int8)\n",
      "    -128\n",
      "    \n",
      "    You can also start the sum with a value other than zero:\n",
      "    \n",
      "    >>> np.sum([10], initial=5)\n",
      "    15\n",
      "\n"
     ]
    }
   ],
   "source": [
    "help(np.sum)"
   ]
  },
  {
   "cell_type": "code",
   "execution_count": 10,
   "id": "567882b5",
   "metadata": {},
   "outputs": [],
   "source": [
    "#mysum\n",
    "from __future__ import annotations\n",
    "import functools\n",
    "import operator\n",
    "from collections.abc import Iterable\n",
    "from typing import overload, Union, TypeVar\n",
    "\n",
    "T = TypeVar('T')\n",
    "S = TypeVar('S')  # <1>\n",
    "\n",
    "@overload\n",
    "def sum(it: Iterable[T]) -> Union[T, int]: ...  # <2>\n",
    "@overload\n",
    "def sum(it: Iterable[T], /, start: S) -> Union[T, S]: ...  # <3>\n",
    "def sum(it, /, start=0):  # <4>\n",
    "    return functools.reduce(operator.add, it, start)\n"
   ]
  },
  {
   "cell_type": "code",
   "execution_count": 11,
   "id": "44bbbe91",
   "metadata": {},
   "outputs": [
    {
     "data": {
      "text/plain": [
       "5950"
      ]
     },
     "execution_count": 11,
     "metadata": {},
     "output_type": "execute_result"
    }
   ],
   "source": [
    "sum(range(100), 1000)"
   ]
  },
  {
   "cell_type": "code",
   "execution_count": 12,
   "id": "f0249206",
   "metadata": {},
   "outputs": [
    {
     "data": {
      "text/plain": [
       "15"
      ]
     },
     "execution_count": 12,
     "metadata": {},
     "output_type": "execute_result"
    }
   ],
   "source": [
    "functools.reduce(operator.add, range(6), 0)"
   ]
  },
  {
   "cell_type": "code",
   "execution_count": 13,
   "id": "981e7084",
   "metadata": {},
   "outputs": [
    {
     "name": "stdout",
     "output_type": "stream",
     "text": [
      "Help on _Feature in module __future__ object:\n",
      "\n",
      "class _Feature(builtins.object)\n",
      " |  _Feature(optionalRelease, mandatoryRelease, compiler_flag)\n",
      " |  \n",
      " |  Methods defined here:\n",
      " |  \n",
      " |  __init__(self, optionalRelease, mandatoryRelease, compiler_flag)\n",
      " |      Initialize self.  See help(type(self)) for accurate signature.\n",
      " |  \n",
      " |  __repr__(self)\n",
      " |      Return repr(self).\n",
      " |  \n",
      " |  getMandatoryRelease(self)\n",
      " |      Return release in which this feature will become mandatory.\n",
      " |      \n",
      " |      This is a 5-tuple, of the same form as sys.version_info, or, if\n",
      " |      the feature was dropped, is None.\n",
      " |  \n",
      " |  getOptionalRelease(self)\n",
      " |      Return first release in which this feature was recognized.\n",
      " |      \n",
      " |      This is a 5-tuple, of the same form as sys.version_info.\n",
      " |  \n",
      " |  ----------------------------------------------------------------------\n",
      " |  Data descriptors defined here:\n",
      " |  \n",
      " |  __dict__\n",
      " |      dictionary for instance variables (if defined)\n",
      " |  \n",
      " |  __weakref__\n",
      " |      list of weak references to the object (if defined)\n",
      "\n"
     ]
    }
   ],
   "source": [
    "help(annotations)"
   ]
  },
  {
   "cell_type": "code",
   "execution_count": 14,
   "id": "b136798b",
   "metadata": {},
   "outputs": [
    {
     "name": "stdout",
     "output_type": "stream",
     "text": [
      "Help on built-in function add in module _operator:\n",
      "\n",
      "add(a, b, /)\n",
      "    Same as a + b.\n",
      "\n"
     ]
    }
   ],
   "source": [
    "help(operator.add)"
   ]
  },
  {
   "cell_type": "code",
   "execution_count": 15,
   "id": "faca5daf",
   "metadata": {},
   "outputs": [
    {
     "name": "stdout",
     "output_type": "stream",
     "text": [
      "Help on built-in function reduce in module _functools:\n",
      "\n",
      "reduce(...)\n",
      "    reduce(function, sequence[, initial]) -> value\n",
      "    \n",
      "    Apply a function of two arguments cumulatively to the items of a sequence,\n",
      "    from left to right, so as to reduce the sequence to a single value.\n",
      "    For example, reduce(lambda x, y: x+y, [1, 2, 3, 4, 5]) calculates\n",
      "    ((((1+2)+3)+4)+5).  If initial is present, it is placed before the items\n",
      "    of the sequence in the calculation, and serves as a default when the\n",
      "    sequence is empty.\n",
      "\n"
     ]
    }
   ],
   "source": [
    "help(functools.reduce)"
   ]
  },
  {
   "cell_type": "code",
   "execution_count": 16,
   "id": "2ac0e71a",
   "metadata": {},
   "outputs": [
    {
     "name": "stdout",
     "output_type": "stream",
     "text": [
      "Help on class TypeVar in module typing:\n",
      "\n",
      "class TypeVar(_Final, _Immutable)\n",
      " |  TypeVar(name, *constraints, bound=None, covariant=False, contravariant=False)\n",
      " |  \n",
      " |  Type variable.\n",
      " |  \n",
      " |  Usage::\n",
      " |  \n",
      " |    T = TypeVar('T')  # Can be anything\n",
      " |    A = TypeVar('A', str, bytes)  # Must be str or bytes\n",
      " |  \n",
      " |  Type variables exist primarily for the benefit of static type\n",
      " |  checkers.  They serve as the parameters for generic types as well\n",
      " |  as for generic function definitions.  See class Generic for more\n",
      " |  information on generic types.  Generic functions work as follows:\n",
      " |  \n",
      " |    def repeat(x: T, n: int) -> List[T]:\n",
      " |        '''Return a list containing n references to x.'''\n",
      " |        return [x]*n\n",
      " |  \n",
      " |    def longest(x: A, y: A) -> A:\n",
      " |        '''Return the longest of two strings.'''\n",
      " |        return x if len(x) >= len(y) else y\n",
      " |  \n",
      " |  The latter example's signature is essentially the overloading\n",
      " |  of (str, str) -> str and (bytes, bytes) -> bytes.  Also note\n",
      " |  that if the arguments are instances of some subclass of str,\n",
      " |  the return type is still plain str.\n",
      " |  \n",
      " |  At runtime, isinstance(x, T) and issubclass(C, T) will raise TypeError.\n",
      " |  \n",
      " |  Type variables defined with covariant=True or contravariant=True\n",
      " |  can be used to declare covariant or contravariant generic types.\n",
      " |  See PEP 484 for more details. By default generic types are invariant\n",
      " |  in all type variables.\n",
      " |  \n",
      " |  Type variables can be introspected. e.g.:\n",
      " |  \n",
      " |    T.__name__ == 'T'\n",
      " |    T.__constraints__ == ()\n",
      " |    T.__covariant__ == False\n",
      " |    T.__contravariant__ = False\n",
      " |    A.__constraints__ == (str, bytes)\n",
      " |  \n",
      " |  Note that only type variables defined in global scope can be pickled.\n",
      " |  \n",
      " |  Method resolution order:\n",
      " |      TypeVar\n",
      " |      _Final\n",
      " |      _Immutable\n",
      " |      builtins.object\n",
      " |  \n",
      " |  Methods defined here:\n",
      " |  \n",
      " |  __init__(self, name, *constraints, bound=None, covariant=False, contravariant=False)\n",
      " |      Initialize self.  See help(type(self)) for accurate signature.\n",
      " |  \n",
      " |  __reduce__(self)\n",
      " |      Helper for pickle.\n",
      " |  \n",
      " |  __repr__(self)\n",
      " |      Return repr(self).\n",
      " |  \n",
      " |  ----------------------------------------------------------------------\n",
      " |  Data descriptors defined here:\n",
      " |  \n",
      " |  __bound__\n",
      " |  \n",
      " |  __constraints__\n",
      " |  \n",
      " |  __contravariant__\n",
      " |  \n",
      " |  __covariant__\n",
      " |  \n",
      " |  __dict__\n",
      " |      dictionary for instance variables (if defined)\n",
      " |  \n",
      " |  ----------------------------------------------------------------------\n",
      " |  Class methods inherited from _Final:\n",
      " |  \n",
      " |  __init_subclass__(*args, **kwds) from builtins.type\n",
      " |      This method is called when a class is subclassed.\n",
      " |      \n",
      " |      The default implementation does nothing. It may be\n",
      " |      overridden to extend subclasses.\n",
      " |  \n",
      " |  ----------------------------------------------------------------------\n",
      " |  Data descriptors inherited from _Final:\n",
      " |  \n",
      " |  __weakref__\n",
      " |      list of weak references to the object (if defined)\n",
      " |  \n",
      " |  ----------------------------------------------------------------------\n",
      " |  Methods inherited from _Immutable:\n",
      " |  \n",
      " |  __copy__(self)\n",
      " |  \n",
      " |  __deepcopy__(self, memo)\n",
      "\n"
     ]
    }
   ],
   "source": [
    "help(TypeVar)"
   ]
  },
  {
   "cell_type": "code",
   "execution_count": 17,
   "id": "fa2106c5",
   "metadata": {},
   "outputs": [
    {
     "name": "stdout",
     "output_type": "stream",
     "text": [
      "Help on function overload in module typing:\n",
      "\n",
      "overload(func)\n",
      "    Decorator for overloaded functions/methods.\n",
      "    \n",
      "    In a stub file, place two or more stub definitions for the same\n",
      "    function in a row, each decorated with @overload.  For example:\n",
      "    \n",
      "      @overload\n",
      "      def utf8(value: None) -> None: ...\n",
      "      @overload\n",
      "      def utf8(value: bytes) -> bytes: ...\n",
      "      @overload\n",
      "      def utf8(value: str) -> bytes: ...\n",
      "    \n",
      "    In a non-stub file (i.e. a regular .py file), do the same but\n",
      "    follow it with an implementation.  The implementation should *not*\n",
      "    be decorated with @overload.  For example:\n",
      "    \n",
      "      @overload\n",
      "      def utf8(value: None) -> None: ...\n",
      "      @overload\n",
      "      def utf8(value: bytes) -> bytes: ...\n",
      "      @overload\n",
      "      def utf8(value: str) -> bytes: ...\n",
      "      def utf8(value):\n",
      "          # implementation goes here\n",
      "\n"
     ]
    }
   ],
   "source": [
    "help(overload)"
   ]
  },
  {
   "cell_type": "code",
   "execution_count": 18,
   "id": "068d5eb2",
   "metadata": {},
   "outputs": [],
   "source": [
    "#Example 15-2. mymax.py: Python rewrite of max function\n",
    "# imports and definitions omitted, see next listing\n",
    "MISSING = object()\n",
    "EMPTY_MSG = 'max() arg is an empty sequence'\n",
    "# overloaded type hints omitted, see next listing\n",
    "def max(first, *args, key=None, default=MISSING):\n",
    "    if args:\n",
    "        series = args\n",
    "        candidate = first\n",
    "    else:\n",
    "        series = iter(first)\n",
    "        try:\n",
    "            candidate = next(series)\n",
    "        except StopIteration:\n",
    "            if default is not MISSING:\n",
    "                return default\n",
    "            raise ValueError(EMPTY_MSG) from None\n",
    "    if key is None:\n",
    "        for current in series:\n",
    "            if candidate < current:\n",
    "                candidate = current\n",
    "            else:\n",
    "                candidate_key = key(candidate)\n",
    "                for current in series:\n",
    "                    current_key = key(current)\n",
    "                    if candidate_key < current_key:\n",
    "                        candidate = current\n",
    "                        candidate_key = current_key\n",
    "            return candidate"
   ]
  },
  {
   "cell_type": "code",
   "execution_count": 19,
   "id": "a8065274",
   "metadata": {},
   "outputs": [],
   "source": [
    "import json\n",
    "# tag::BOOKDICT[]\n",
    "from typing import TypedDict\n",
    "\n",
    "class BookDict(TypedDict):\n",
    "    isbn: str\n",
    "    title: str\n",
    "    authors: list[str]\n",
    "    pagecount: int\n",
    "# end::BOOKDICT[]\n",
    "\n",
    "# tag::TOXML[]\n",
    "AUTHOR_ELEMENT = '<AUTHOR>{}</AUTHOR>'\n",
    "\n",
    "def to_xml(book: BookDict) -> str:  # <1>\n",
    "    elements: list[str] = []  # <2>\n",
    "    for key, value in book.items():\n",
    "        if isinstance(value, list):  # <3>\n",
    "            elements.extend(\n",
    "                AUTHOR_ELEMENT.format(n) for n in value)  # <4>\n",
    "        else:\n",
    "            tag = key.upper()\n",
    "            elements.append(f'<{tag}>{value}</{tag}>')\n",
    "    xml = '\\n\\t'.join(elements)\n",
    "    return f'<BOOK>\\n\\t{xml}\\n</BOOK>'\n",
    "# end::TOXML[]\n",
    "\n",
    "# tag::FROMJSON[]\n",
    "def from_json(data: str) -> BookDict:\n",
    "    whatever: BookDict = json.loads(data)  # <1>\n",
    "    return whatever  # <2>\n",
    "# end::FROMJSON[]\n"
   ]
  },
  {
   "cell_type": "code",
   "execution_count": 20,
   "id": "eeed2b91",
   "metadata": {},
   "outputs": [
    {
     "data": {
      "text/plain": [
       "{'title': 'Programming Pearls',\n",
       " 'authors': 'Jon Bentley',\n",
       " 'isbn': '0201657880',\n",
       " 'pagecount': 256}"
      ]
     },
     "execution_count": 20,
     "metadata": {},
     "output_type": "execute_result"
    }
   ],
   "source": [
    "pp = BookDict(title='Programming Pearls',\n",
    "              authors='Jon Bentley',\n",
    "              isbn='0201657880',\n",
    "              pagecount=256)\n",
    "pp"
   ]
  },
  {
   "cell_type": "code",
   "execution_count": 21,
   "id": "9d5a5773",
   "metadata": {},
   "outputs": [
    {
     "data": {
      "text/plain": [
       "'Programming Pearls'"
      ]
     },
     "execution_count": 21,
     "metadata": {},
     "output_type": "execute_result"
    }
   ],
   "source": [
    "pp['title']"
   ]
  },
  {
   "cell_type": "code",
   "execution_count": 22,
   "id": "592ca4a0",
   "metadata": {},
   "outputs": [
    {
     "data": {
      "text/plain": [
       "dict"
      ]
     },
     "execution_count": 22,
     "metadata": {},
     "output_type": "execute_result"
    }
   ],
   "source": [
    "type(pp)"
   ]
  },
  {
   "cell_type": "code",
   "execution_count": 23,
   "id": "1c668b47",
   "metadata": {},
   "outputs": [
    {
     "data": {
      "text/plain": [
       "{'isbn': ForwardRef('str'),\n",
       " 'title': ForwardRef('str'),\n",
       " 'authors': ForwardRef('list[str]'),\n",
       " 'pagecount': ForwardRef('int')}"
      ]
     },
     "execution_count": 23,
     "metadata": {},
     "output_type": "execute_result"
    }
   ],
   "source": [
    "BookDict.__annotations__"
   ]
  },
  {
   "cell_type": "code",
   "execution_count": 24,
   "id": "497d370b",
   "metadata": {},
   "outputs": [
    {
     "data": {
      "text/plain": [
       "True"
      ]
     },
     "execution_count": 24,
     "metadata": {},
     "output_type": "execute_result"
    }
   ],
   "source": [
    "BookDict.__total__"
   ]
  },
  {
   "cell_type": "code",
   "execution_count": 25,
   "id": "aaf5a3dd",
   "metadata": {},
   "outputs": [
    {
     "data": {
      "text/plain": [
       "mappingproxy({'__module__': '__main__',\n",
       "              '__annotations__': {'isbn': ForwardRef('str'),\n",
       "               'title': ForwardRef('str'),\n",
       "               'authors': ForwardRef('list[str]'),\n",
       "               'pagecount': ForwardRef('int')},\n",
       "              '__new__': <staticmethod at 0x2afe2642fa0>,\n",
       "              '__dict__': <attribute '__dict__' of 'BookDict' objects>,\n",
       "              '__weakref__': <attribute '__weakref__' of 'BookDict' objects>,\n",
       "              '__doc__': None,\n",
       "              '__total__': True})"
      ]
     },
     "execution_count": 25,
     "metadata": {},
     "output_type": "execute_result"
    }
   ],
   "source": [
    "BookDict.__dict__"
   ]
  },
  {
   "cell_type": "code",
   "execution_count": 26,
   "id": "ff51c94f",
   "metadata": {},
   "outputs": [],
   "source": [
    "BookDict.__doc__"
   ]
  },
  {
   "cell_type": "code",
   "execution_count": 27,
   "id": "1baa7483",
   "metadata": {},
   "outputs": [],
   "source": [
    "from typing import TYPE_CHECKING\n",
    "\n",
    "def demo() -> None:  # <1>\n",
    "    book = BookDict(  # <2>\n",
    "        isbn='0134757599',\n",
    "        title='Refactoring, 2e',\n",
    "        authors=['Martin Fowler', 'Kent Beck'],\n",
    "        pagecount=478\n",
    "    )\n",
    "    authors = book['authors'] # <3>\n",
    "    if TYPE_CHECKING:  # <4>\n",
    "        reveal_type(authors)  # <5>\n",
    "    authors = 'Bob'  # <6>\n",
    "    book['weight'] = 4.2\n",
    "    del book['title']\n",
    "\n",
    "\n",
    "if __name__ == '__main__':\n",
    "    demo()\n"
   ]
  },
  {
   "cell_type": "code",
   "execution_count": 28,
   "id": "92b5a90a",
   "metadata": {},
   "outputs": [],
   "source": [
    "demo()"
   ]
  },
  {
   "cell_type": "code",
   "execution_count": 29,
   "id": "94aa210b",
   "metadata": {},
   "outputs": [
    {
     "name": "stdout",
     "output_type": "stream",
     "text": [
      "example-code-2e\\15-more-types\\typeddict\\books.py:8: error: \"list\" is not subscriptable, use \"typing.List\" instead\n",
      "example-code-2e\\15-more-types\\typeddict\\books.py:16: error: \"list\" is not subscriptable, use \"typing.List\" instead\n",
      "example-code-2e\\15-more-types\\typeddict\\demo_books.py:13: note: Revealed type is \"builtins.list[builtins.str]\"\n",
      "example-code-2e\\15-more-types\\typeddict\\demo_books.py:14: error: Incompatible types in assignment (expression has type \"str\", variable has type \"List[str]\")\n",
      "example-code-2e\\15-more-types\\typeddict\\demo_books.py:15: error: TypedDict \"BookDict\" has no key \"weight\"\n",
      "example-code-2e\\15-more-types\\typeddict\\demo_books.py:16: error: Key \"title\" of TypedDict \"BookDict\" cannot be deleted\n",
      "Found 5 errors in 2 files (checked 1 source file)\n"
     ]
    }
   ],
   "source": [
    "!mypy example-code-2e/15-more-types/typeddict/demo_books.py"
   ]
  },
  {
   "cell_type": "code",
   "execution_count": 30,
   "id": "fa12a2ef",
   "metadata": {},
   "outputs": [
    {
     "name": "stdout",
     "output_type": "stream",
     "text": [
      "{'title': 'Andromeda Strain', 'flavor': 'pistachio', 'authors': True}\n",
      "pistachio\n",
      "<BOOK>\n",
      "\t<TITLE>Andromeda Strain</TITLE>\n",
      "\t<FLAVOR>pistachio</FLAVOR>\n",
      "\t<AUTHORS>True</AUTHORS>\n",
      "</BOOK>\n"
     ]
    }
   ],
   "source": [
    "from typing import TYPE_CHECKING\n",
    "\n",
    "def demo() -> None:\n",
    "    NOT_BOOK_JSON = \"\"\"\n",
    "        {\"title\": \"Andromeda Strain\",\n",
    "         \"flavor\": \"pistachio\",\n",
    "         \"authors\": true}\n",
    "    \"\"\"\n",
    "    not_book = from_json(NOT_BOOK_JSON)  # <1>\n",
    "    if TYPE_CHECKING:  # <2>\n",
    "        reveal_type(not_book)\n",
    "        reveal_type(not_book['authors'])\n",
    "\n",
    "    print(not_book)  # <3>\n",
    "    print(not_book['flavor'])  # <4>\n",
    "\n",
    "    xml = to_xml(not_book)  # <5>\n",
    "    print(xml)  # <6>\n",
    "\n",
    "\n",
    "if __name__ == '__main__':\n",
    "    demo()\n"
   ]
  },
  {
   "cell_type": "code",
   "execution_count": 31,
   "id": "676e085b",
   "metadata": {},
   "outputs": [
    {
     "name": "stdout",
     "output_type": "stream",
     "text": [
      "example-code-2e\\15-more-types\\typeddict\\books.py:8: error: \"list\" is not subscriptable, use \"typing.List\" instead\n",
      "example-code-2e\\15-more-types\\typeddict\\books.py:16: error: \"list\" is not subscriptable, use \"typing.List\" instead\n",
      "example-code-2e\\15-more-types\\typeddict\\demo_not_book.py:12: note: Revealed type is \"TypedDict('books.BookDict', {'isbn': builtins.str, 'title': builtins.str, 'authors': builtins.list[builtins.str], 'pagecount': builtins.int})\"\n",
      "example-code-2e\\15-more-types\\typeddict\\demo_not_book.py:13: note: Revealed type is \"builtins.list[builtins.str]\"\n",
      "example-code-2e\\15-more-types\\typeddict\\demo_not_book.py:16: error: TypedDict \"BookDict\" has no key \"flavor\"\n",
      "Found 3 errors in 2 files (checked 1 source file)\n"
     ]
    }
   ],
   "source": [
    "!mypy example-code-2e/15-more-types/typeddict/demo_not_book.py"
   ]
  },
  {
   "cell_type": "code",
   "execution_count": 32,
   "id": "66d7ce6b",
   "metadata": {},
   "outputs": [
    {
     "name": "stdout",
     "output_type": "stream",
     "text": [
      "Help on class TypedDict in module typing:\n",
      "\n",
      "class TypedDict(builtins.dict)\n",
      " |  TypedDict(typename, fields=None, /, *, total=True, **kwargs)\n",
      " |  \n",
      " |  A simple typed namespace. At runtime it is equivalent to a plain dict.\n",
      " |  \n",
      " |  TypedDict creates a dictionary type that expects all of its\n",
      " |  instances to have a certain set of keys, where each key is\n",
      " |  associated with a value of a consistent type. This expectation\n",
      " |  is not checked at runtime but is only enforced by type checkers.\n",
      " |  Usage::\n",
      " |  \n",
      " |      class Point2D(TypedDict):\n",
      " |          x: int\n",
      " |          y: int\n",
      " |          label: str\n",
      " |  \n",
      " |      a: Point2D = {'x': 1, 'y': 2, 'label': 'good'}  # OK\n",
      " |      b: Point2D = {'z': 3, 'label': 'bad'}           # Fails type check\n",
      " |  \n",
      " |      assert Point2D(x=1, y=2, label='first') == dict(x=1, y=2, label='first')\n",
      " |  \n",
      " |  The type info can be accessed via Point2D.__annotations__. TypedDict\n",
      " |  supports two additional equivalent forms::\n",
      " |  \n",
      " |      Point2D = TypedDict('Point2D', x=int, y=int, label=str)\n",
      " |      Point2D = TypedDict('Point2D', {'x': int, 'y': int, 'label': str})\n",
      " |  \n",
      " |  By default, all keys must be present in a TypedDict. It is possible\n",
      " |  to override this by specifying totality.\n",
      " |  Usage::\n",
      " |  \n",
      " |      class point2D(TypedDict, total=False):\n",
      " |          x: int\n",
      " |          y: int\n",
      " |  \n",
      " |  This means that a point2D TypedDict can have any of the keys omitted.A type\n",
      " |  checker is only expected to support a literal False or True as the value of\n",
      " |  the total argument. True is the default, and makes all items defined in the\n",
      " |  class body be required.\n",
      " |  \n",
      " |  The class syntax is only supported in Python 3.6+, while two other\n",
      " |  syntax forms work for Python 2.7 and 3.2+\n",
      " |  \n",
      " |  Method resolution order:\n",
      " |      TypedDict\n",
      " |      builtins.dict\n",
      " |      builtins.object\n",
      " |  \n",
      " |  Static methods defined here:\n",
      " |  \n",
      " |  __new__ = _typeddict_new(cls, typename, fields=None, /, *, total=True, **kwargs)\n",
      " |  \n",
      " |  ----------------------------------------------------------------------\n",
      " |  Data descriptors defined here:\n",
      " |  \n",
      " |  __dict__\n",
      " |      dictionary for instance variables (if defined)\n",
      " |  \n",
      " |  __weakref__\n",
      " |      list of weak references to the object (if defined)\n",
      " |  \n",
      " |  ----------------------------------------------------------------------\n",
      " |  Data and other attributes defined here:\n",
      " |  \n",
      " |  __annotations__ = {}\n",
      " |  \n",
      " |  __total__ = True\n",
      " |  \n",
      " |  ----------------------------------------------------------------------\n",
      " |  Methods inherited from builtins.dict:\n",
      " |  \n",
      " |  __contains__(self, key, /)\n",
      " |      True if the dictionary has the specified key, else False.\n",
      " |  \n",
      " |  __delitem__(self, key, /)\n",
      " |      Delete self[key].\n",
      " |  \n",
      " |  __eq__(self, value, /)\n",
      " |      Return self==value.\n",
      " |  \n",
      " |  __ge__(self, value, /)\n",
      " |      Return self>=value.\n",
      " |  \n",
      " |  __getattribute__(self, name, /)\n",
      " |      Return getattr(self, name).\n",
      " |  \n",
      " |  __getitem__(...)\n",
      " |      x.__getitem__(y) <==> x[y]\n",
      " |  \n",
      " |  __gt__(self, value, /)\n",
      " |      Return self>value.\n",
      " |  \n",
      " |  __init__(self, /, *args, **kwargs)\n",
      " |      Initialize self.  See help(type(self)) for accurate signature.\n",
      " |  \n",
      " |  __iter__(self, /)\n",
      " |      Implement iter(self).\n",
      " |  \n",
      " |  __le__(self, value, /)\n",
      " |      Return self<=value.\n",
      " |  \n",
      " |  __len__(self, /)\n",
      " |      Return len(self).\n",
      " |  \n",
      " |  __lt__(self, value, /)\n",
      " |      Return self<value.\n",
      " |  \n",
      " |  __ne__(self, value, /)\n",
      " |      Return self!=value.\n",
      " |  \n",
      " |  __repr__(self, /)\n",
      " |      Return repr(self).\n",
      " |  \n",
      " |  __reversed__(self, /)\n",
      " |      Return a reverse iterator over the dict keys.\n",
      " |  \n",
      " |  __setitem__(self, key, value, /)\n",
      " |      Set self[key] to value.\n",
      " |  \n",
      " |  __sizeof__(...)\n",
      " |      D.__sizeof__() -> size of D in memory, in bytes\n",
      " |  \n",
      " |  clear(...)\n",
      " |      D.clear() -> None.  Remove all items from D.\n",
      " |  \n",
      " |  copy(...)\n",
      " |      D.copy() -> a shallow copy of D\n",
      " |  \n",
      " |  get(self, key, default=None, /)\n",
      " |      Return the value for key if key is in the dictionary, else default.\n",
      " |  \n",
      " |  items(...)\n",
      " |      D.items() -> a set-like object providing a view on D's items\n",
      " |  \n",
      " |  keys(...)\n",
      " |      D.keys() -> a set-like object providing a view on D's keys\n",
      " |  \n",
      " |  pop(...)\n",
      " |      D.pop(k[,d]) -> v, remove specified key and return the corresponding value.\n",
      " |      If key is not found, d is returned if given, otherwise KeyError is raised\n",
      " |  \n",
      " |  popitem(self, /)\n",
      " |      Remove and return a (key, value) pair as a 2-tuple.\n",
      " |      \n",
      " |      Pairs are returned in LIFO (last-in, first-out) order.\n",
      " |      Raises KeyError if the dict is empty.\n",
      " |  \n",
      " |  setdefault(self, key, default=None, /)\n",
      " |      Insert key with a value of default if key is not in the dictionary.\n",
      " |      \n",
      " |      Return the value for key if key is in the dictionary, else default.\n",
      " |  \n",
      " |  update(...)\n",
      " |      D.update([E, ]**F) -> None.  Update D from dict/iterable E and F.\n",
      " |      If E is present and has a .keys() method, then does:  for k in E: D[k] = E[k]\n",
      " |      If E is present and lacks a .keys() method, then does:  for k, v in E: D[k] = v\n",
      " |      In either case, this is followed by: for k in F:  D[k] = F[k]\n",
      " |  \n",
      " |  values(...)\n",
      " |      D.values() -> an object providing a view on D's values\n",
      " |  \n",
      " |  ----------------------------------------------------------------------\n",
      " |  Class methods inherited from builtins.dict:\n",
      " |  \n",
      " |  fromkeys(iterable, value=None, /) from typing._TypedDictMeta\n",
      " |      Create a new dictionary with keys from iterable and values set to value.\n",
      " |  \n",
      " |  ----------------------------------------------------------------------\n",
      " |  Data and other attributes inherited from builtins.dict:\n",
      " |  \n",
      " |  __hash__ = None\n",
      "\n"
     ]
    }
   ],
   "source": [
    "help(TypedDict)"
   ]
  },
  {
   "cell_type": "code",
   "execution_count": 33,
   "id": "c6f16a66",
   "metadata": {},
   "outputs": [
    {
     "name": "stdout",
     "output_type": "stream",
     "text": [
      "thirty\n",
      "StopIteration()\n"
     ]
    }
   ],
   "source": [
    "# tag::CAST[]\n",
    "from typing import cast\n",
    "\n",
    "def find_first_str(a: list[object]) -> str:\n",
    "    index = next(i for i, x in enumerate(a) if isinstance(x, str))\n",
    "    # We only get here if there's at least one string\n",
    "    return cast(str, a[index])\n",
    "# end::CAST[]\n",
    "\n",
    "\n",
    "from typing import TYPE_CHECKING\n",
    "\n",
    "l1 = [10, 20, 'thirty', 40]\n",
    "if TYPE_CHECKING:\n",
    "    reveal_type(l1)\n",
    "\n",
    "print(find_first_str(l1))\n",
    "\n",
    "l2 = [0, ()]\n",
    "try:\n",
    "    find_first_str(l2)\n",
    "except StopIteration as e:\n",
    "    print(repr(e))\n"
   ]
  },
  {
   "cell_type": "code",
   "execution_count": 34,
   "id": "91e42128",
   "metadata": {},
   "outputs": [
    {
     "name": "stdout",
     "output_type": "stream",
     "text": [
      "Help on function cast in module typing:\n",
      "\n",
      "cast(typ, val)\n",
      "    Cast a value to a type.\n",
      "    \n",
      "    This returns the value unchanged.  To the type checker this\n",
      "    signals that the return value has the designated type, but at\n",
      "    runtime we intentionally don't check anything (we want this\n",
      "    to be as fast as possible).\n",
      "\n"
     ]
    }
   ],
   "source": [
    "help(cast)"
   ]
  },
  {
   "cell_type": "code",
   "execution_count": 35,
   "id": "6ca7cb1e",
   "metadata": {},
   "outputs": [
    {
     "name": "stdout",
     "output_type": "stream",
     "text": [
      "example-code-2e\\15-more-types\\cast\\find.py:4: error: \"list\" is not subscriptable, use \"typing.List\" instead\n",
      "example-code-2e\\15-more-types\\cast\\find.py:15: note: Revealed type is \"builtins.list[builtins.object]\"\n",
      "Found 1 error in 1 file (checked 1 source file)\n"
     ]
    }
   ],
   "source": [
    "!mypy example-code-2e/15-more-types/cast/find.py"
   ]
  },
  {
   "cell_type": "code",
   "execution_count": 37,
   "id": "dccd6e21",
   "metadata": {},
   "outputs": [],
   "source": [
    "from __future__ import annotations\n",
    "\n",
    "\"\"\"\n",
    "    >>> clip('banana ', 6)\n",
    "    'banana'\n",
    "    >>> clip('banana ', 7)\n",
    "    'banana'\n",
    "    >>> clip('banana ', 5)\n",
    "    'banana'\n",
    "    >>> clip('banana split', 6)\n",
    "    'banana'\n",
    "    >>> clip('banana split', 7)\n",
    "    'banana'\n",
    "    >>> clip('banana split', 10)\n",
    "    'banana'\n",
    "    >>> clip('banana split', 11)\n",
    "    'banana'\n",
    "    >>> clip('banana split', 12)\n",
    "    'banana split'\n",
    "\"\"\"\n",
    "\n",
    "# tag::CLIP_ANNOT[]\n",
    "def clip(text: str, max_len: int = 80) -> str:\n",
    "    \"\"\"Return new ``str`` clipped at last space before or after ``max_len``.\n",
    "       Return full ``text`` if no space found.\n",
    "    \"\"\"\n",
    "    end = None\n",
    "    if len(text) > max_len:\n",
    "        space_before = text.rfind(' ', 0, max_len)\n",
    "        if space_before >= 0:\n",
    "            end = space_before\n",
    "        else:\n",
    "            space_after = text.rfind(' ', max_len)\n",
    "            if space_after >= 0:\n",
    "                end = space_after\n",
    "    if end is None:\n",
    "        end = len(text)\n",
    "    return text[:end].rstrip()\n",
    "\n",
    "# end::CLIP_ANNOT[]\n"
   ]
  },
  {
   "cell_type": "code",
   "execution_count": 41,
   "id": "715bdb1e",
   "metadata": {},
   "outputs": [
    {
     "name": "stdout",
     "output_type": "stream",
     "text": [
      "Help on method_descriptor:\n",
      "\n",
      "rfind(...)\n",
      "    S.rfind(sub[, start[, end]]) -> int\n",
      "    \n",
      "    Return the highest index in S where substring sub is found,\n",
      "    such that sub is contained within S[start:end].  Optional\n",
      "    arguments start and end are interpreted as in slice notation.\n",
      "    \n",
      "    Return -1 on failure.\n",
      "\n"
     ]
    }
   ],
   "source": [
    "help(str.rfind)"
   ]
  },
  {
   "cell_type": "code",
   "execution_count": 38,
   "id": "363ce752",
   "metadata": {},
   "outputs": [
    {
     "data": {
      "text/plain": [
       "6"
      ]
     },
     "execution_count": 38,
     "metadata": {},
     "output_type": "execute_result"
    }
   ],
   "source": [
    "'banana split'.rfind(' ', 0, 80)"
   ]
  },
  {
   "cell_type": "code",
   "execution_count": 46,
   "id": "12eab6d3",
   "metadata": {},
   "outputs": [
    {
     "data": {
      "text/plain": [
       "6"
      ]
     },
     "execution_count": 46,
     "metadata": {},
     "output_type": "execute_result"
    }
   ],
   "source": [
    "'banana split'.rfind(' ', 5)"
   ]
  },
  {
   "cell_type": "code",
   "execution_count": 45,
   "id": "d298c1f1",
   "metadata": {},
   "outputs": [
    {
     "data": {
      "text/plain": [
       "-1"
      ]
     },
     "execution_count": 45,
     "metadata": {},
     "output_type": "execute_result"
    }
   ],
   "source": [
    "'banana split'.rfind(' ', 80)"
   ]
  },
  {
   "cell_type": "code",
   "execution_count": 36,
   "id": "e543fe69",
   "metadata": {},
   "outputs": [
    {
     "name": "stdout",
     "output_type": "stream",
     "text": [
      "{'text': 'str', 'max_len': 'int', 'return': 'str'}\n"
     ]
    }
   ],
   "source": [
    "from clip_annot_post import clip\n",
    "\n",
    "print(clip.__annotations__)\n"
   ]
  },
  {
   "cell_type": "code",
   "execution_count": 47,
   "id": "ac4abe2c",
   "metadata": {},
   "outputs": [
    {
     "data": {
      "text/plain": [
       "{'text': str, 'max_len': int, 'return': str}"
      ]
     },
     "execution_count": 47,
     "metadata": {},
     "output_type": "execute_result"
    }
   ],
   "source": [
    "from clip_annot_post import clip\n",
    "from typing import get_type_hints\n",
    "get_type_hints(clip)"
   ]
  },
  {
   "cell_type": "code",
   "execution_count": 49,
   "id": "590d8ffb",
   "metadata": {},
   "outputs": [],
   "source": [
    "# tag::TOMBOLA_ABC[]\n",
    "\n",
    "import abc\n",
    "\n",
    "class Tombola(abc.ABC):  # <1>\n",
    "\n",
    "    @abc.abstractmethod\n",
    "    def load(self, iterable):  # <2>\n",
    "        \"\"\"Add items from an iterable.\"\"\"\n",
    "\n",
    "    @abc.abstractmethod\n",
    "    def pick(self):  # <3>\n",
    "        \"\"\"Remove item at random, returning it.\n",
    "\n",
    "        This method should raise `LookupError` when the instance is empty.\n",
    "        \"\"\"\n",
    "\n",
    "    def loaded(self):  # <4>\n",
    "        \"\"\"Return `True` if there's at least 1 item, `False` otherwise.\"\"\"\n",
    "        return bool(self.inspect())  # <5>\n",
    "\n",
    "    def inspect(self):\n",
    "        \"\"\"Return a sorted tuple with the items currently inside.\"\"\"\n",
    "        items = []\n",
    "        while True:  # <6>\n",
    "            try:\n",
    "                items.append(self.pick())\n",
    "            except LookupError:\n",
    "                break\n",
    "        self.load(items)  # <7>\n",
    "        return tuple(items)\n",
    "\n",
    "\n",
    "# end::TOMBOLA_ABC[]\n"
   ]
  },
  {
   "cell_type": "code",
   "execution_count": 58,
   "id": "ffd165f2",
   "metadata": {},
   "outputs": [],
   "source": [
    "from __future__ import annotations\n",
    "\n",
    "import random\n",
    "\n",
    "from collections.abc import Iterable\n",
    "from typing import TypeVar, Generic\n",
    "from typing import List\n",
    "\n",
    "T = TypeVar('T')\n",
    "\n",
    "class LottoBlower(Tombola, Generic[T]):  # <1>\n",
    "\n",
    "    def __init__(self, items: Iterable[T]) -> None:  # <2>\n",
    "        self._balls = list[T](items)\n",
    "\n",
    "    def load(self, items: Iterable[T]) -> None:  # <3>\n",
    "        self._balls.extend(items)\n",
    "\n",
    "    def pick(self) -> T:  # <4>\n",
    "        try:\n",
    "            position = random.randrange(len(self._balls))\n",
    "        except ValueError:\n",
    "            raise LookupError('pick from empty LottoBlower')\n",
    "        return self._balls.pop(position)\n",
    "\n",
    "    def loaded(self) -> bool:  # <5>\n",
    "        return bool(self._balls)\n",
    "\n",
    "    def inspect(self) -> tuple[T, ...]:  # <6>\n",
    "        return tuple(self._balls)\n"
   ]
  },
  {
   "cell_type": "code",
   "execution_count": 59,
   "id": "3819c891",
   "metadata": {},
   "outputs": [
    {
     "ename": "TypeError",
     "evalue": "'type' object is not subscriptable",
     "output_type": "error",
     "traceback": [
      "\u001b[1;31m---------------------------------------------------------------------------\u001b[0m",
      "\u001b[1;31mTypeError\u001b[0m                                 Traceback (most recent call last)",
      "Input \u001b[1;32mIn [59]\u001b[0m, in \u001b[0;36m<cell line: 1>\u001b[1;34m()\u001b[0m\n\u001b[1;32m----> 1\u001b[0m machine \u001b[38;5;241m=\u001b[39m \u001b[43mLottoBlower\u001b[49m\u001b[43m[\u001b[49m\u001b[38;5;28;43mint\u001b[39;49m\u001b[43m]\u001b[49m\u001b[43m(\u001b[49m\u001b[43m[\u001b[49m\u001b[38;5;241;43m1\u001b[39;49m\u001b[43m,\u001b[49m\u001b[43m \u001b[49m\u001b[38;5;241;43m.2\u001b[39;49m\u001b[43m]\u001b[49m\u001b[43m)\u001b[49m\n",
      "File \u001b[1;32m~\\miniconda3\\lib\\typing.py:729\u001b[0m, in \u001b[0;36m_GenericAlias.__call__\u001b[1;34m(self, *args, **kwargs)\u001b[0m\n\u001b[0;32m    726\u001b[0m \u001b[38;5;28;01mif\u001b[39;00m \u001b[38;5;129;01mnot\u001b[39;00m \u001b[38;5;28mself\u001b[39m\u001b[38;5;241m.\u001b[39m_inst:\n\u001b[0;32m    727\u001b[0m     \u001b[38;5;28;01mraise\u001b[39;00m \u001b[38;5;167;01mTypeError\u001b[39;00m(\u001b[38;5;124mf\u001b[39m\u001b[38;5;124m\"\u001b[39m\u001b[38;5;124mType \u001b[39m\u001b[38;5;132;01m{\u001b[39;00m\u001b[38;5;28mself\u001b[39m\u001b[38;5;241m.\u001b[39m_name\u001b[38;5;132;01m}\u001b[39;00m\u001b[38;5;124m cannot be instantiated; \u001b[39m\u001b[38;5;124m\"\u001b[39m\n\u001b[0;32m    728\u001b[0m                     \u001b[38;5;124mf\u001b[39m\u001b[38;5;124m\"\u001b[39m\u001b[38;5;124muse \u001b[39m\u001b[38;5;132;01m{\u001b[39;00m\u001b[38;5;28mself\u001b[39m\u001b[38;5;241m.\u001b[39m_name\u001b[38;5;241m.\u001b[39mlower()\u001b[38;5;132;01m}\u001b[39;00m\u001b[38;5;124m() instead\u001b[39m\u001b[38;5;124m\"\u001b[39m)\n\u001b[1;32m--> 729\u001b[0m result \u001b[38;5;241m=\u001b[39m \u001b[38;5;28;43mself\u001b[39;49m\u001b[38;5;241;43m.\u001b[39;49m\u001b[43m__origin__\u001b[49m\u001b[43m(\u001b[49m\u001b[38;5;241;43m*\u001b[39;49m\u001b[43margs\u001b[49m\u001b[43m,\u001b[49m\u001b[43m \u001b[49m\u001b[38;5;241;43m*\u001b[39;49m\u001b[38;5;241;43m*\u001b[39;49m\u001b[43mkwargs\u001b[49m\u001b[43m)\u001b[49m\n\u001b[0;32m    730\u001b[0m \u001b[38;5;28;01mtry\u001b[39;00m:\n\u001b[0;32m    731\u001b[0m     result\u001b[38;5;241m.\u001b[39m__orig_class__ \u001b[38;5;241m=\u001b[39m \u001b[38;5;28mself\u001b[39m\n",
      "Input \u001b[1;32mIn [58]\u001b[0m, in \u001b[0;36mLottoBlower.__init__\u001b[1;34m(self, items)\u001b[0m\n\u001b[0;32m     13\u001b[0m \u001b[38;5;28;01mdef\u001b[39;00m \u001b[38;5;21m__init__\u001b[39m(\u001b[38;5;28mself\u001b[39m, items: Iterable[T]) \u001b[38;5;241m-\u001b[39m\u001b[38;5;241m>\u001b[39m \u001b[38;5;28;01mNone\u001b[39;00m:  \u001b[38;5;66;03m# <2>\u001b[39;00m\n\u001b[1;32m---> 14\u001b[0m     \u001b[38;5;28mself\u001b[39m\u001b[38;5;241m.\u001b[39m_balls \u001b[38;5;241m=\u001b[39m \u001b[38;5;28;43mlist\u001b[39;49m\u001b[43m[\u001b[49m\u001b[43mT\u001b[49m\u001b[43m]\u001b[49m(items)\n",
      "\u001b[1;31mTypeError\u001b[0m: 'type' object is not subscriptable"
     ]
    }
   ],
   "source": [
    "machine = LottoBlower[int]([1, .2])\n",
    "## error: List item 1 has incompatible type \"float\";  # <1>\n",
    "##        expected \"int\""
   ]
  },
  {
   "cell_type": "code",
   "execution_count": 60,
   "id": "af4d3cea",
   "metadata": {},
   "outputs": [
    {
     "ename": "TypeError",
     "evalue": "'type' object is not subscriptable",
     "output_type": "error",
     "traceback": [
      "\u001b[1;31m---------------------------------------------------------------------------\u001b[0m",
      "\u001b[1;31mTypeError\u001b[0m                                 Traceback (most recent call last)",
      "Input \u001b[1;32mIn [60]\u001b[0m, in \u001b[0;36m<cell line: 1>\u001b[1;34m()\u001b[0m\n\u001b[1;32m----> 1\u001b[0m machine \u001b[38;5;241m=\u001b[39m \u001b[43mLottoBlower\u001b[49m\u001b[43m[\u001b[49m\u001b[38;5;28;43mint\u001b[39;49m\u001b[43m]\u001b[49m\u001b[43m(\u001b[49m\u001b[43m[\u001b[49m\u001b[38;5;241;43m1\u001b[39;49m\u001b[43m,\u001b[49m\u001b[43m \u001b[49m\u001b[38;5;241;43m2\u001b[39;49m\u001b[43m]\u001b[49m\u001b[43m)\u001b[49m\n",
      "File \u001b[1;32m~\\miniconda3\\lib\\typing.py:729\u001b[0m, in \u001b[0;36m_GenericAlias.__call__\u001b[1;34m(self, *args, **kwargs)\u001b[0m\n\u001b[0;32m    726\u001b[0m \u001b[38;5;28;01mif\u001b[39;00m \u001b[38;5;129;01mnot\u001b[39;00m \u001b[38;5;28mself\u001b[39m\u001b[38;5;241m.\u001b[39m_inst:\n\u001b[0;32m    727\u001b[0m     \u001b[38;5;28;01mraise\u001b[39;00m \u001b[38;5;167;01mTypeError\u001b[39;00m(\u001b[38;5;124mf\u001b[39m\u001b[38;5;124m\"\u001b[39m\u001b[38;5;124mType \u001b[39m\u001b[38;5;132;01m{\u001b[39;00m\u001b[38;5;28mself\u001b[39m\u001b[38;5;241m.\u001b[39m_name\u001b[38;5;132;01m}\u001b[39;00m\u001b[38;5;124m cannot be instantiated; \u001b[39m\u001b[38;5;124m\"\u001b[39m\n\u001b[0;32m    728\u001b[0m                     \u001b[38;5;124mf\u001b[39m\u001b[38;5;124m\"\u001b[39m\u001b[38;5;124muse \u001b[39m\u001b[38;5;132;01m{\u001b[39;00m\u001b[38;5;28mself\u001b[39m\u001b[38;5;241m.\u001b[39m_name\u001b[38;5;241m.\u001b[39mlower()\u001b[38;5;132;01m}\u001b[39;00m\u001b[38;5;124m() instead\u001b[39m\u001b[38;5;124m\"\u001b[39m)\n\u001b[1;32m--> 729\u001b[0m result \u001b[38;5;241m=\u001b[39m \u001b[38;5;28;43mself\u001b[39;49m\u001b[38;5;241;43m.\u001b[39;49m\u001b[43m__origin__\u001b[49m\u001b[43m(\u001b[49m\u001b[38;5;241;43m*\u001b[39;49m\u001b[43margs\u001b[49m\u001b[43m,\u001b[49m\u001b[43m \u001b[49m\u001b[38;5;241;43m*\u001b[39;49m\u001b[38;5;241;43m*\u001b[39;49m\u001b[43mkwargs\u001b[49m\u001b[43m)\u001b[49m\n\u001b[0;32m    730\u001b[0m \u001b[38;5;28;01mtry\u001b[39;00m:\n\u001b[0;32m    731\u001b[0m     result\u001b[38;5;241m.\u001b[39m__orig_class__ \u001b[38;5;241m=\u001b[39m \u001b[38;5;28mself\u001b[39m\n",
      "Input \u001b[1;32mIn [58]\u001b[0m, in \u001b[0;36mLottoBlower.__init__\u001b[1;34m(self, items)\u001b[0m\n\u001b[0;32m     13\u001b[0m \u001b[38;5;28;01mdef\u001b[39;00m \u001b[38;5;21m__init__\u001b[39m(\u001b[38;5;28mself\u001b[39m, items: Iterable[T]) \u001b[38;5;241m-\u001b[39m\u001b[38;5;241m>\u001b[39m \u001b[38;5;28;01mNone\u001b[39;00m:  \u001b[38;5;66;03m# <2>\u001b[39;00m\n\u001b[1;32m---> 14\u001b[0m     \u001b[38;5;28mself\u001b[39m\u001b[38;5;241m.\u001b[39m_balls \u001b[38;5;241m=\u001b[39m \u001b[38;5;28;43mlist\u001b[39;49m\u001b[43m[\u001b[49m\u001b[43mT\u001b[49m\u001b[43m]\u001b[49m(items)\n",
      "\u001b[1;31mTypeError\u001b[0m: 'type' object is not subscriptable"
     ]
    }
   ],
   "source": [
    "machine = LottoBlower[int]([1, 2])"
   ]
  },
  {
   "cell_type": "code",
   "execution_count": 52,
   "id": "fdb51124",
   "metadata": {},
   "outputs": [
    {
     "ename": "TypeError",
     "evalue": "'type' object is not subscriptable",
     "output_type": "error",
     "traceback": [
      "\u001b[1;31m---------------------------------------------------------------------------\u001b[0m",
      "\u001b[1;31mTypeError\u001b[0m                                 Traceback (most recent call last)",
      "Input \u001b[1;32mIn [52]\u001b[0m, in \u001b[0;36m<cell line: 1>\u001b[1;34m()\u001b[0m\n\u001b[1;32m----> 1\u001b[0m machine \u001b[38;5;241m=\u001b[39m \u001b[43mLottoBlower\u001b[49m\u001b[43m[\u001b[49m\u001b[38;5;28;43mint\u001b[39;49m\u001b[43m]\u001b[49m\u001b[43m(\u001b[49m\u001b[38;5;28;43mrange\u001b[39;49m\u001b[43m(\u001b[49m\u001b[38;5;241;43m1\u001b[39;49m\u001b[43m,\u001b[49m\u001b[43m \u001b[49m\u001b[38;5;241;43m11\u001b[39;49m\u001b[43m)\u001b[49m\u001b[43m)\u001b[49m\n",
      "File \u001b[1;32m~\\miniconda3\\lib\\typing.py:729\u001b[0m, in \u001b[0;36m_GenericAlias.__call__\u001b[1;34m(self, *args, **kwargs)\u001b[0m\n\u001b[0;32m    726\u001b[0m \u001b[38;5;28;01mif\u001b[39;00m \u001b[38;5;129;01mnot\u001b[39;00m \u001b[38;5;28mself\u001b[39m\u001b[38;5;241m.\u001b[39m_inst:\n\u001b[0;32m    727\u001b[0m     \u001b[38;5;28;01mraise\u001b[39;00m \u001b[38;5;167;01mTypeError\u001b[39;00m(\u001b[38;5;124mf\u001b[39m\u001b[38;5;124m\"\u001b[39m\u001b[38;5;124mType \u001b[39m\u001b[38;5;132;01m{\u001b[39;00m\u001b[38;5;28mself\u001b[39m\u001b[38;5;241m.\u001b[39m_name\u001b[38;5;132;01m}\u001b[39;00m\u001b[38;5;124m cannot be instantiated; \u001b[39m\u001b[38;5;124m\"\u001b[39m\n\u001b[0;32m    728\u001b[0m                     \u001b[38;5;124mf\u001b[39m\u001b[38;5;124m\"\u001b[39m\u001b[38;5;124muse \u001b[39m\u001b[38;5;132;01m{\u001b[39;00m\u001b[38;5;28mself\u001b[39m\u001b[38;5;241m.\u001b[39m_name\u001b[38;5;241m.\u001b[39mlower()\u001b[38;5;132;01m}\u001b[39;00m\u001b[38;5;124m() instead\u001b[39m\u001b[38;5;124m\"\u001b[39m)\n\u001b[1;32m--> 729\u001b[0m result \u001b[38;5;241m=\u001b[39m \u001b[38;5;28;43mself\u001b[39;49m\u001b[38;5;241;43m.\u001b[39;49m\u001b[43m__origin__\u001b[49m\u001b[43m(\u001b[49m\u001b[38;5;241;43m*\u001b[39;49m\u001b[43margs\u001b[49m\u001b[43m,\u001b[49m\u001b[43m \u001b[49m\u001b[38;5;241;43m*\u001b[39;49m\u001b[38;5;241;43m*\u001b[39;49m\u001b[43mkwargs\u001b[49m\u001b[43m)\u001b[49m\n\u001b[0;32m    730\u001b[0m \u001b[38;5;28;01mtry\u001b[39;00m:\n\u001b[0;32m    731\u001b[0m     result\u001b[38;5;241m.\u001b[39m__orig_class__ \u001b[38;5;241m=\u001b[39m \u001b[38;5;28mself\u001b[39m\n",
      "Input \u001b[1;32mIn [50]\u001b[0m, in \u001b[0;36mLottoBlower.__init__\u001b[1;34m(self, items)\u001b[0m\n\u001b[0;32m     10\u001b[0m \u001b[38;5;28;01mdef\u001b[39;00m \u001b[38;5;21m__init__\u001b[39m(\u001b[38;5;28mself\u001b[39m, items: Iterable[T]) \u001b[38;5;241m-\u001b[39m\u001b[38;5;241m>\u001b[39m \u001b[38;5;28;01mNone\u001b[39;00m:  \u001b[38;5;66;03m# <2>\u001b[39;00m\n\u001b[1;32m---> 11\u001b[0m     \u001b[38;5;28mself\u001b[39m\u001b[38;5;241m.\u001b[39m_balls \u001b[38;5;241m=\u001b[39m \u001b[38;5;28;43mlist\u001b[39;49m\u001b[43m[\u001b[49m\u001b[43mT\u001b[49m\u001b[43m]\u001b[49m(items)\n",
      "\u001b[1;31mTypeError\u001b[0m: 'type' object is not subscriptable"
     ]
    }
   ],
   "source": [
    "machine = LottoBlower[int](range(1, 11))"
   ]
  },
  {
   "cell_type": "code",
   "execution_count": 53,
   "id": "81ba4388",
   "metadata": {},
   "outputs": [
    {
     "ename": "NameError",
     "evalue": "name 'machine' is not defined",
     "output_type": "error",
     "traceback": [
      "\u001b[1;31m---------------------------------------------------------------------------\u001b[0m",
      "\u001b[1;31mNameError\u001b[0m                                 Traceback (most recent call last)",
      "Input \u001b[1;32mIn [53]\u001b[0m, in \u001b[0;36m<cell line: 1>\u001b[1;34m()\u001b[0m\n\u001b[1;32m----> 1\u001b[0m \u001b[43mmachine\u001b[49m\u001b[38;5;241m.\u001b[39mload(\u001b[38;5;124m'\u001b[39m\u001b[38;5;124mABC\u001b[39m\u001b[38;5;124m'\u001b[39m)\n",
      "\u001b[1;31mNameError\u001b[0m: name 'machine' is not defined"
     ]
    }
   ],
   "source": [
    "machine.load('ABC')\n",
    "## error: Argument 1 to \"load\" of \"LottoBlower\"  # <2>\n",
    "##        has incompatible type \"str\";\n",
    "##        expected \"Iterable[int]\"\n",
    "## note:  Following member(s) of \"str\" have conflicts:\n",
    "## note:      Expected:\n",
    "## note:          def __iter__(self) -> Iterator[int]\n",
    "## note:      Got:\n",
    "## note:          def __iter__(self) -> Iterator[str]"
   ]
  },
  {
   "cell_type": "code",
   "execution_count": 61,
   "id": "a8f4f026",
   "metadata": {},
   "outputs": [],
   "source": [
    "# tag::BEVERAGE_TYPES[]\n",
    "from typing import TypeVar, Generic\n",
    "\n",
    "class Beverage:  # <1>\n",
    "    \"\"\"Any beverage.\"\"\"\n",
    "\n",
    "class Juice(Beverage):\n",
    "    \"\"\"Any fruit juice.\"\"\"\n",
    "\n",
    "class OrangeJuice(Juice):\n",
    "    \"\"\"Delicious juice from Brazilian oranges.\"\"\"\n",
    "\n",
    "T = TypeVar('T')  # <2>\n",
    "\n",
    "class BeverageDispenser(Generic[T]):  # <3>\n",
    "    \"\"\"A dispenser parameterized on the beverage type.\"\"\"\n",
    "    def __init__(self, beverage: T) -> None:\n",
    "        self.beverage = beverage\n",
    "\n",
    "    def dispense(self) -> T:\n",
    "        return self.beverage\n",
    "\n",
    "def install(dispenser: BeverageDispenser[Juice]) -> None:  # <4>\n",
    "    \"\"\"Install a fruit juice dispenser.\"\"\"\n",
    "# end::BEVERAGE_TYPES[]\n",
    "\n",
    "################################################ exact type\n",
    "\n",
    "# tag::INSTALL_JUICE_DISPENSER[]\n",
    "juice_dispenser = BeverageDispenser(Juice())\n",
    "install(juice_dispenser)\n",
    "# end::INSTALL_JUICE_DISPENSER[]\n",
    "\n",
    "\n",
    "################################################ variant dispenser\n",
    "\n",
    "# tag::INSTALL_BEVERAGE_DISPENSER[]\n",
    "beverage_dispenser = BeverageDispenser(Beverage())\n",
    "install(beverage_dispenser)\n",
    "## mypy: Argument 1 to \"install\" has\n",
    "## incompatible type \"BeverageDispenser[Beverage]\"\n",
    "##          expected \"BeverageDispenser[Juice]\"\n",
    "# end::INSTALL_BEVERAGE_DISPENSER[]\n",
    "\n",
    "\n",
    "################################################ variant dispenser\n",
    "\n",
    "# tag::INSTALL_ORANGE_JUICE_DISPENSER[]\n",
    "orange_juice_dispenser = BeverageDispenser(OrangeJuice())\n",
    "install(orange_juice_dispenser)\n",
    "## mypy: Argument 1 to \"install\" has\n",
    "## incompatible type \"BeverageDispenser[OrangeJuice]\"\n",
    "##          expected \"BeverageDispenser[Juice]\"\n",
    "# end::INSTALL_ORANGE_JUICE_DISPENSER[]\n"
   ]
  },
  {
   "cell_type": "code",
   "execution_count": 62,
   "id": "11acce99",
   "metadata": {},
   "outputs": [
    {
     "name": "stdout",
     "output_type": "stream",
     "text": [
      "Help on class Generic in module typing:\n",
      "\n",
      "class Generic(builtins.object)\n",
      " |  Generic(*args, **kwds)\n",
      " |  \n",
      " |  Abstract base class for generic types.\n",
      " |  \n",
      " |  A generic type is typically declared by inheriting from\n",
      " |  this class parameterized with one or more type variables.\n",
      " |  For example, a generic mapping type might be defined as::\n",
      " |  \n",
      " |    class Mapping(Generic[KT, VT]):\n",
      " |        def __getitem__(self, key: KT) -> VT:\n",
      " |            ...\n",
      " |        # Etc.\n",
      " |  \n",
      " |  This class can then be used as follows::\n",
      " |  \n",
      " |    def lookup_name(mapping: Mapping[KT, VT], key: KT, default: VT) -> VT:\n",
      " |        try:\n",
      " |            return mapping[key]\n",
      " |        except KeyError:\n",
      " |            return default\n",
      " |  \n",
      " |  Class methods defined here:\n",
      " |  \n",
      " |  __class_getitem__(params) from builtins.type\n",
      " |  \n",
      " |  __init_subclass__(*args, **kwargs) from builtins.type\n",
      " |      This method is called when a class is subclassed.\n",
      " |      \n",
      " |      The default implementation does nothing. It may be\n",
      " |      overridden to extend subclasses.\n",
      " |  \n",
      " |  ----------------------------------------------------------------------\n",
      " |  Static methods defined here:\n",
      " |  \n",
      " |  __new__(cls, *args, **kwds)\n",
      " |      Create and return a new object.  See help(type) for accurate signature.\n",
      "\n"
     ]
    }
   ],
   "source": [
    "help(Generic)"
   ]
  },
  {
   "cell_type": "code",
   "execution_count": 63,
   "id": "4f9ce33b",
   "metadata": {},
   "outputs": [],
   "source": [
    "from typing import TypeVar, Generic\n",
    "\n",
    "\n",
    "class Beverage:\n",
    "    \"\"\"Any beverage.\"\"\"\n",
    "\n",
    "\n",
    "class Juice(Beverage):\n",
    "    \"\"\"Any fruit juice.\"\"\"\n",
    "\n",
    "\n",
    "class OrangeJuice(Juice):\n",
    "    \"\"\"Delicious juice from Brazilian oranges.\"\"\"\n",
    "\n",
    "\n",
    "# tag::BEVERAGE_TYPES[]\n",
    "T_co = TypeVar('T_co', covariant=True)  # <1>\n",
    "\n",
    "\n",
    "class BeverageDispenser(Generic[T_co]):  # <2>\n",
    "    def __init__(self, beverage: T_co) -> None:\n",
    "        self.beverage = beverage\n",
    "\n",
    "    def dispense(self) -> T_co:\n",
    "        return self.beverage\n",
    "\n",
    "def install(dispenser: BeverageDispenser[Juice]) -> None:  # <3>\n",
    "    \"\"\"Install a fruit juice dispenser.\"\"\"\n",
    "# end::BEVERAGE_TYPES[]\n",
    "\n",
    "################################################ covariant dispenser\n",
    "\n",
    "# tag::INSTALL_JUICE_DISPENSERS[]\n",
    "juice_dispenser = BeverageDispenser(Juice())\n",
    "install(juice_dispenser)\n",
    "\n",
    "orange_juice_dispenser = BeverageDispenser(OrangeJuice())\n",
    "install(orange_juice_dispenser)\n",
    "# end::INSTALL_JUICE_DISPENSERS[]\n",
    "\n",
    "################################################ more general dispenser\n",
    "\n",
    "# tag::INSTALL_BEVERAGE_DISPENSER[]\n",
    "beverage_dispenser = BeverageDispenser(Beverage())\n",
    "install(beverage_dispenser)\n",
    "## mypy: Argument 1 to \"install\" has\n",
    "## incompatible type \"BeverageDispenser[Beverage]\"\n",
    "##          expected \"BeverageDispenser[Juice]\"\n",
    "# end::INSTALL_BEVERAGE_DISPENSER[]\n"
   ]
  },
  {
   "cell_type": "code",
   "execution_count": 64,
   "id": "727f15d9",
   "metadata": {},
   "outputs": [
    {
     "name": "stdout",
     "output_type": "stream",
     "text": [
      "OK\n"
     ]
    }
   ],
   "source": [
    "import math\n",
    "from typing import NamedTuple, SupportsAbs\n",
    "\n",
    "class Vector2d(NamedTuple):\n",
    "    x: float\n",
    "    y: float\n",
    "\n",
    "    def __abs__(self) -> float:  # <1>\n",
    "        return math.hypot(self.x, self.y)\n",
    "\n",
    "def is_unit(v: SupportsAbs[float]) -> bool:  # <2>\n",
    "    \"\"\"'True' if the magnitude of 'v' is close to 1.\"\"\"\n",
    "    return math.isclose(abs(v), 1.0)  # <3>\n",
    "\n",
    "assert issubclass(Vector2d, SupportsAbs)  # <4>\n",
    "\n",
    "v0 = Vector2d(0, 1)  # <5>\n",
    "sqrt2 = math.sqrt(2)\n",
    "v1 = Vector2d(sqrt2 / 2, sqrt2 / 2)\n",
    "v2 = Vector2d(1, 1)\n",
    "v3 = complex(.5, math.sqrt(3) / 2)\n",
    "v4 = 1  # <6>\n",
    "\n",
    "assert is_unit(v0)\n",
    "assert is_unit(v1)\n",
    "assert not is_unit(v2)\n",
    "assert is_unit(v3)\n",
    "assert is_unit(v4)\n",
    "\n",
    "print('OK')\n"
   ]
  },
  {
   "cell_type": "code",
   "execution_count": 65,
   "id": "43aaf12a",
   "metadata": {},
   "outputs": [],
   "source": [
    "assert issubclass(Vector2d, SupportsAbs)  # <4>"
   ]
  }
 ],
 "metadata": {
  "kernelspec": {
   "display_name": "Python 3 (ipykernel)",
   "language": "python",
   "name": "python3"
  },
  "language_info": {
   "codemirror_mode": {
    "name": "ipython",
    "version": 3
   },
   "file_extension": ".py",
   "mimetype": "text/x-python",
   "name": "python",
   "nbconvert_exporter": "python",
   "pygments_lexer": "ipython3",
   "version": "3.8.13"
  }
 },
 "nbformat": 4,
 "nbformat_minor": 5
}
