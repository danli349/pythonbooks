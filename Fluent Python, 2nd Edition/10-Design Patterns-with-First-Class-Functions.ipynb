{
 "cells": [
  {
   "cell_type": "code",
   "execution_count": 1,
   "id": "a91bdf9d",
   "metadata": {},
   "outputs": [
    {
     "data": {
      "text/plain": [
       "['D:\\\\books\\\\python\\\\0.   Fluent Python, 2nd Edition',\n",
       " 'D:/books/python/0.   Fluent Python, 2nd Edition/example-code-2e/10-dp-1class-func/',\n",
       " 'C:\\\\Users\\\\lidan\\\\miniconda3\\\\python38.zip',\n",
       " 'C:\\\\Users\\\\lidan\\\\miniconda3\\\\DLLs',\n",
       " 'C:\\\\Users\\\\lidan\\\\miniconda3\\\\lib',\n",
       " 'C:\\\\Users\\\\lidan\\\\miniconda3',\n",
       " '',\n",
       " 'C:\\\\Users\\\\lidan\\\\AppData\\\\Roaming\\\\Python\\\\Python38\\\\site-packages',\n",
       " 'C:\\\\Users\\\\lidan\\\\miniconda3\\\\lib\\\\site-packages',\n",
       " 'C:\\\\Users\\\\lidan\\\\miniconda3\\\\lib\\\\site-packages\\\\magic_impute-2.0.4-py3.8.egg',\n",
       " 'C:\\\\Users\\\\lidan\\\\miniconda3\\\\lib\\\\site-packages\\\\seqc-0.2.0-py3.8.egg',\n",
       " 'C:\\\\Users\\\\lidan\\\\miniconda3\\\\lib\\\\site-packages\\\\weasyprint-56.1-py3.8.egg',\n",
       " 'C:\\\\Users\\\\lidan\\\\miniconda3\\\\lib\\\\site-packages\\\\cairocffi-1.3.0-py3.8.egg',\n",
       " 'C:\\\\Users\\\\lidan\\\\miniconda3\\\\lib\\\\site-packages\\\\win32',\n",
       " 'C:\\\\Users\\\\lidan\\\\miniconda3\\\\lib\\\\site-packages\\\\win32\\\\lib',\n",
       " 'C:\\\\Users\\\\lidan\\\\miniconda3\\\\lib\\\\site-packages\\\\Pythonwin',\n",
       " 'C:\\\\Users\\\\lidan\\\\miniconda3\\\\lib\\\\site-packages\\\\IPython\\\\extensions',\n",
       " 'C:\\\\Users\\\\lidan\\\\.ipython']"
      ]
     },
     "execution_count": 1,
     "metadata": {},
     "output_type": "execute_result"
    }
   ],
   "source": [
    "import sys\n",
    "    # caution: path[0] is reserved for script path (or '' in REPL)\n",
    "sys.path.insert(1, 'D:/books/python/0.   Fluent Python, 2nd Edition/example-code-2e/10-dp-1class-func/')\n",
    "sys.path"
   ]
  },
  {
   "cell_type": "code",
   "execution_count": 2,
   "id": "ca9ae177",
   "metadata": {},
   "outputs": [
    {
     "name": "stdout",
     "output_type": "stream",
     "text": [
      "# classic_strategy.py\n",
      "# Strategy pattern -- classic implementation\n",
      "\n",
      "\"\"\"\n",
      "# BEGIN CLASSIC_STRATEGY_TESTS\n",
      "\n",
      "    >>> joe = Customer('John Doe', 0)  # <1>\n",
      "    >>> ann = Customer('Ann Smith', 1100)\n",
      "    >>> cart = [LineItem('banana', 4, .5),  # <2>\n",
      "    ...         LineItem('apple', 10, 1.5),\n",
      "    ...         LineItem('watermellon', 5, 5.0)]\n",
      "    >>> Order(joe, cart, FidelityPromo())  # <3>\n",
      "    <Order total: 42.00 due: 42.00>\n",
      "    >>> Order(ann, cart, FidelityPromo())  # <4>\n",
      "    <Order total: 42.00 due: 39.90>\n",
      "    >>> banana_cart = [LineItem('banana', 30, .5),  # <5>\n",
      "    ...                LineItem('apple', 10, 1.5)]\n",
      "    >>> Order(joe, banana_cart, BulkItemPromo())  # <6>\n",
      "    <Order total: 30.00 due: 28.50>\n",
      "    >>> long_order = [LineItem(str(item_code), 1, 1.0) # <7>\n",
      "    ...               for item_code in range(10)]\n",
      "    >>> Order(joe, long_order, LargeOrderPromo())  # <8>\n",
      "    <Order total: 10.00 due: 9.30>\n",
      "    >>> Order(joe, cart, LargeOrderPromo())\n",
      "    <Order total: 42.00 due: 42.00>\n",
      "\n",
      "# END CLASSIC_STRATEGY_TESTS\n",
      "\"\"\"\n",
      "# BEGIN CLASSIC_STRATEGY\n",
      "\n",
      "from abc import ABC, abstractmethod\n",
      "from collections import namedtuple\n",
      "\n",
      "Customer = namedtuple('Customer', 'name fidelity')\n",
      "\n",
      "\n",
      "class LineItem:\n",
      "\n",
      "    def __init__(self, product, quantity, price):\n",
      "        self.product = product\n",
      "        self.quantity = quantity\n",
      "        self.price = price\n",
      "\n",
      "    def total(self):\n",
      "        return self.price * self.quantity\n",
      "\n",
      "\n",
      "class Order:  # the Context\n",
      "\n",
      "    def __init__(self, customer, cart, promotion=None):\n",
      "        self.customer = customer\n",
      "        self.cart = list(cart)\n",
      "        self.promotion = promotion\n",
      "\n",
      "    def total(self):\n",
      "        if not hasattr(self, '__total'):\n",
      "            self.__total = sum(item.total() for item in self.cart)\n",
      "        return self.__total\n",
      "\n",
      "    def due(self):\n",
      "        if self.promotion is None:\n",
      "            discount = 0\n",
      "        else:\n",
      "            discount = self.promotion.discount(self)\n",
      "        return self.total() - discount\n",
      "\n",
      "    def __repr__(self):\n",
      "        fmt = '<Order total: {:.2f} due: {:.2f}>'\n",
      "        return fmt.format(self.total(), self.due())\n",
      "\n",
      "\n",
      "class Promotion(ABC):  # the Strategy: an Abstract Base Class\n",
      "\n",
      "    @abstractmethod\n",
      "    def discount(self, order):\n",
      "        \"\"\"Return discount as a positive dollar amount\"\"\"\n",
      "\n",
      "\n",
      "class FidelityPromo(Promotion):  # first Concrete Strategy\n",
      "    \"\"\"5% discount for customers with 1000 or more fidelity points\"\"\"\n",
      "\n",
      "    def discount(self, order):\n",
      "        return order.total() * .05 if order.customer.fidelity >= 1000 else 0\n",
      "\n",
      "\n",
      "class BulkItemPromo(Promotion):  # second Concrete Strategy\n",
      "    \"\"\"10% discount for each LineItem with 20 or more units\"\"\"\n",
      "\n",
      "    def discount(self, order):\n",
      "        discount = 0\n",
      "        for item in order.cart:\n",
      "            if item.quantity >= 20:\n",
      "                discount += item.total() * .1\n",
      "        return discount\n",
      "\n",
      "\n",
      "class LargeOrderPromo(Promotion):  # third Concrete Strategy\n",
      "    \"\"\"7% discount for orders with 10 or more distinct items\"\"\"\n",
      "\n",
      "    def discount(self, order):\n",
      "        distinct_items = {item.product for item in order.cart}\n",
      "        if len(distinct_items) >= 10:\n",
      "            return order.total() * .07\n",
      "        return 0\n",
      "\n",
      "# END CLASSIC_STRATEGY\n"
     ]
    }
   ],
   "source": [
    "!cat ./example-code/06-dp-1class-func/classic_strategy.py"
   ]
  },
  {
   "cell_type": "code",
   "execution_count": 4,
   "id": "d5ddd9a0",
   "metadata": {},
   "outputs": [
    {
     "name": "stdout",
     "output_type": "stream",
     "text": [
      "Help on class Sequence in module collections.abc:\n",
      "\n",
      "class Sequence(Reversible, Collection)\n",
      " |  All the operations on a read-only sequence.\n",
      " |  \n",
      " |  Concrete subclasses must override __new__ or __init__,\n",
      " |  __getitem__, and __len__.\n",
      " |  \n",
      " |  Method resolution order:\n",
      " |      Sequence\n",
      " |      Reversible\n",
      " |      Collection\n",
      " |      Sized\n",
      " |      Iterable\n",
      " |      Container\n",
      " |      builtins.object\n",
      " |  \n",
      " |  Methods defined here:\n",
      " |  \n",
      " |  __contains__(self, value)\n",
      " |  \n",
      " |  __getitem__(self, index)\n",
      " |  \n",
      " |  __iter__(self)\n",
      " |  \n",
      " |  __reversed__(self)\n",
      " |  \n",
      " |  count(self, value)\n",
      " |      S.count(value) -> integer -- return number of occurrences of value\n",
      " |  \n",
      " |  index(self, value, start=0, stop=None)\n",
      " |      S.index(value, [start, [stop]]) -> integer -- return first index of value.\n",
      " |      Raises ValueError if the value is not present.\n",
      " |      \n",
      " |      Supporting start and stop arguments is optional, but\n",
      " |      recommended.\n",
      " |  \n",
      " |  ----------------------------------------------------------------------\n",
      " |  Data and other attributes defined here:\n",
      " |  \n",
      " |  __abstractmethods__ = frozenset({'__getitem__', '__len__'})\n",
      " |  \n",
      " |  ----------------------------------------------------------------------\n",
      " |  Class methods inherited from Reversible:\n",
      " |  \n",
      " |  __subclasshook__(C) from abc.ABCMeta\n",
      " |      Abstract classes can override this to customize issubclass().\n",
      " |      \n",
      " |      This is invoked early on by abc.ABCMeta.__subclasscheck__().\n",
      " |      It should return True, False or NotImplemented.  If it returns\n",
      " |      NotImplemented, the normal algorithm is used.  Otherwise, it\n",
      " |      overrides the normal algorithm (and the outcome is cached).\n",
      " |  \n",
      " |  ----------------------------------------------------------------------\n",
      " |  Methods inherited from Sized:\n",
      " |  \n",
      " |  __len__(self)\n",
      "\n"
     ]
    }
   ],
   "source": [
    "import collections\n",
    "help(collections.abc.Sequence)"
   ]
  },
  {
   "cell_type": "code",
   "execution_count": 5,
   "id": "02a9484f",
   "metadata": {},
   "outputs": [],
   "source": [
    "# classic_strategy.py\n",
    "# Strategy pattern -- classic implementation\n",
    "\n",
    "\"\"\"\n",
    "# tag::CLASSIC_STRATEGY_TESTS[]\n",
    "\n",
    "    >>> joe = Customer('John Doe', 0)  # <1>\n",
    "    >>> ann = Customer('Ann Smith', 1100)\n",
    "    >>> cart = (LineItem('banana', 4, Decimal('.5')),  # <2>\n",
    "    ...         LineItem('apple', 10, Decimal('1.5')),\n",
    "    ...         LineItem('watermelon', 5, Decimal(5)))\n",
    "    >>> Order(joe, cart, FidelityPromo())  # <3>\n",
    "    <Order total: 42.00 due: 42.00>\n",
    "    >>> Order(ann, cart, FidelityPromo())  # <4>\n",
    "    <Order total: 42.00 due: 39.90>\n",
    "    >>> banana_cart = (LineItem('banana', 30, Decimal('.5')),  # <5>\n",
    "    ...                LineItem('apple', 10, Decimal('1.5')))\n",
    "    >>> Order(joe, banana_cart, BulkItemPromo())  # <6>\n",
    "    <Order total: 30.00 due: 28.50>\n",
    "    >>> long_cart = tuple(LineItem(str(sku), 1, Decimal(1)) # <7>\n",
    "    ...                  for sku in range(10))\n",
    "    >>> Order(joe, long_cart, LargeOrderPromo())  # <8>\n",
    "    <Order total: 10.00 due: 9.30>\n",
    "    >>> Order(joe, cart, LargeOrderPromo())\n",
    "    <Order total: 42.00 due: 42.00>\n",
    "\n",
    "# end::CLASSIC_STRATEGY_TESTS[]\n",
    "\"\"\"\n",
    "# tag::CLASSIC_STRATEGY[]\n",
    "\n",
    "from abc import ABC, abstractmethod\n",
    "from collections.abc import Sequence\n",
    "from decimal import Decimal\n",
    "from typing import NamedTuple, Optional\n",
    "from __future__ import annotations\n",
    "\n",
    "class Customer(NamedTuple):\n",
    "    name: str\n",
    "    fidelity: int\n",
    "\n",
    "\n",
    "class LineItem(NamedTuple):\n",
    "    product: str\n",
    "    quantity: int\n",
    "    price: Decimal\n",
    "\n",
    "    def total(self) -> Decimal:\n",
    "        return self.price * self.quantity\n",
    "\n",
    "\n",
    "class Order(NamedTuple):  # the Context\n",
    "    customer: Customer\n",
    "    cart: Sequence[LineItem]\n",
    "    promotion: Optional['Promotion'] = None\n",
    "\n",
    "    def total(self) -> Decimal:\n",
    "        totals = (item.total() for item in self.cart)\n",
    "        return sum(totals, start=Decimal(0))\n",
    "\n",
    "    def due(self) -> Decimal:\n",
    "        if self.promotion is None:\n",
    "            discount = Decimal(0)\n",
    "        else:\n",
    "            discount = self.promotion.discount(self)\n",
    "        return self.total() - discount\n",
    "\n",
    "    def __repr__(self):\n",
    "        return f'<Order total: {self.total():.2f} due: {self.due():.2f}>'\n",
    "\n",
    "\n",
    "class Promotion(ABC):  # the Strategy: an abstract base class\n",
    "    @abstractmethod\n",
    "    def discount(self, order: Order) -> Decimal:\n",
    "        \"\"\"Return discount as a positive dollar amount\"\"\"\n",
    "\n",
    "\n",
    "class FidelityPromo(Promotion):  # first Concrete Strategy\n",
    "    \"\"\"5% discount for customers with 1000 or more fidelity points\"\"\"\n",
    "\n",
    "    def discount(self, order: Order) -> Decimal:\n",
    "        rate = Decimal('0.05')\n",
    "        if order.customer.fidelity >= 1000:\n",
    "            return order.total() * rate\n",
    "        return Decimal(0)\n",
    "\n",
    "\n",
    "class BulkItemPromo(Promotion):  # second Concrete Strategy\n",
    "    \"\"\"10% discount for each LineItem with 20 or more units\"\"\"\n",
    "\n",
    "    def discount(self, order: Order) -> Decimal:\n",
    "        discount = Decimal(0)\n",
    "        for item in order.cart:\n",
    "            if item.quantity >= 20:\n",
    "                discount += item.total() * Decimal('0.1')\n",
    "        return discount\n",
    "\n",
    "\n",
    "class LargeOrderPromo(Promotion):  # third Concrete Strategy\n",
    "    \"\"\"7% discount for orders with 10 or more distinct items\"\"\"\n",
    "\n",
    "    def discount(self, order: Order) -> Decimal:\n",
    "        distinct_items = {item.product for item in order.cart}\n",
    "        if len(distinct_items) >= 10:\n",
    "            return order.total() * Decimal('0.07')\n",
    "        return Decimal(0)\n",
    "# end::CLASSIC_STRATEGY[]\n"
   ]
  },
  {
   "cell_type": "code",
   "execution_count": 7,
   "id": "a9085a7e",
   "metadata": {},
   "outputs": [
    {
     "data": {
      "text/plain": [
       "<Order total: 42.00 due: 42.00>"
      ]
     },
     "execution_count": 7,
     "metadata": {},
     "output_type": "execute_result"
    }
   ],
   "source": [
    "ann = Customer('Ann Smith', 1100)\n",
    "cart = (LineItem('banana', 4, Decimal('.5')),\n",
    "        LineItem('apple', 10, Decimal('1.5')),\n",
    "        LineItem('watermelon', 5, Decimal(5)))\n",
    "Order(joe, cart, FidelityPromo())"
   ]
  },
  {
   "cell_type": "code",
   "execution_count": 10,
   "id": "5888ba75",
   "metadata": {},
   "outputs": [
    {
     "data": {
      "text/plain": [
       "<Order total: 42.00 due: 39.90>"
      ]
     },
     "execution_count": 10,
     "metadata": {},
     "output_type": "execute_result"
    }
   ],
   "source": [
    "Order(ann, cart, FidelityPromo())"
   ]
  },
  {
   "cell_type": "code",
   "execution_count": 11,
   "id": "2f569eb6",
   "metadata": {},
   "outputs": [
    {
     "data": {
      "text/plain": [
       "<Order total: 30.00 due: 28.50>"
      ]
     },
     "execution_count": 11,
     "metadata": {},
     "output_type": "execute_result"
    }
   ],
   "source": [
    "banana_cart = (LineItem('banana', 30, Decimal('.5')),\n",
    "               LineItem('apple', 10, Decimal('1.5')))\n",
    "Order(joe, banana_cart, BulkItemPromo())"
   ]
  },
  {
   "cell_type": "code",
   "execution_count": 15,
   "id": "6030a859",
   "metadata": {},
   "outputs": [
    {
     "data": {
      "text/plain": [
       "['0', '1', '2', '3', '4', '5', '6', '7', '8', '9']"
      ]
     },
     "execution_count": 15,
     "metadata": {},
     "output_type": "execute_result"
    }
   ],
   "source": [
    "[str(sku) for sku in range(10)]"
   ]
  },
  {
   "cell_type": "code",
   "execution_count": 12,
   "id": "5966b02b",
   "metadata": {},
   "outputs": [
    {
     "data": {
      "text/plain": [
       "<Order total: 10.00 due: 9.30>"
      ]
     },
     "execution_count": 12,
     "metadata": {},
     "output_type": "execute_result"
    }
   ],
   "source": [
    "long_cart = tuple(LineItem(str(sku), 1, Decimal(1))\n",
    "                  for sku in range(10))\n",
    "Order(joe, long_cart, LargeOrderPromo())"
   ]
  },
  {
   "cell_type": "code",
   "execution_count": 13,
   "id": "ed2b21d6",
   "metadata": {},
   "outputs": [
    {
     "data": {
      "text/plain": [
       "<Order total: 42.00 due: 42.00>"
      ]
     },
     "execution_count": 13,
     "metadata": {},
     "output_type": "execute_result"
    }
   ],
   "source": [
    "Order(joe, cart, LargeOrderPromo())"
   ]
  },
  {
   "cell_type": "code",
   "execution_count": 4,
   "id": "09455b57",
   "metadata": {},
   "outputs": [],
   "source": [
    "# strategy.py\n",
    "# Strategy pattern -- function-based implementation\n",
    "\n",
    "\"\"\"\n",
    "# tag::STRATEGY_TESTS[]\n",
    "\n",
    "    >>> joe = Customer('John Doe', 0)  # <1>\n",
    "    >>> ann = Customer('Ann Smith', 1100)\n",
    "    >>> cart = [LineItem('banana', 4, Decimal('.5')),\n",
    "    ...         LineItem('apple', 10, Decimal('1.5')),\n",
    "    ...         LineItem('watermelon', 5, Decimal(5))]\n",
    "    >>> Order(joe, cart, fidelity_promo)  # <2>\n",
    "    <Order total: 42.00 due: 42.00>\n",
    "    >>> Order(ann, cart, fidelity_promo)\n",
    "    <Order total: 42.00 due: 39.90>\n",
    "    >>> banana_cart = [LineItem('banana', 30, Decimal('.5')),\n",
    "    ...                LineItem('apple', 10, Decimal('1.5'))]\n",
    "    >>> Order(joe, banana_cart, bulk_item_promo)  # <3>\n",
    "    <Order total: 30.00 due: 28.50>\n",
    "    >>> long_cart = [LineItem(str(item_code), 1, Decimal(1))\n",
    "    ...               for item_code in range(10)]\n",
    "    >>> Order(joe, long_cart, large_order_promo)\n",
    "    <Order total: 10.00 due: 9.30>\n",
    "    >>> Order(joe, cart, large_order_promo)\n",
    "    <Order total: 42.00 due: 42.00>\n",
    "\n",
    "# end::STRATEGY_TESTS[]\n",
    "\"\"\"\n",
    "# tag::STRATEGY[]\n",
    "\n",
    "from collections.abc import Sequence\n",
    "from dataclasses import dataclass\n",
    "from decimal import Decimal\n",
    "from typing import Optional, Callable, NamedTuple\n",
    "from __future__ import annotations\n",
    "\n",
    "class Customer(NamedTuple):\n",
    "    name: str\n",
    "    fidelity: int\n",
    "\n",
    "\n",
    "class LineItem(NamedTuple):\n",
    "    product: str\n",
    "    quantity: int\n",
    "    price: Decimal\n",
    "\n",
    "    def total(self):\n",
    "        return self.price * self.quantity\n",
    "\n",
    "@dataclass(frozen=True)\n",
    "class Order:  # the Context\n",
    "    customer: Customer\n",
    "    cart: Sequence[LineItem]\n",
    "    promotion: Optional[Callable[['Order'], Decimal]] = None  # <1>\n",
    "\n",
    "    def total(self) -> Decimal:\n",
    "        totals = (item.total() for item in self.cart)\n",
    "        return sum(totals, start=Decimal(0))\n",
    "\n",
    "    def due(self) -> Decimal:\n",
    "        if self.promotion is None:\n",
    "            discount = Decimal(0)\n",
    "        else:\n",
    "            discount = self.promotion(self)  # <2>\n",
    "        return self.total() - discount\n",
    "\n",
    "    def __repr__(self):\n",
    "        return f'<Order total: {self.total():.2f} due: {self.due():.2f}>'\n",
    "\n",
    "\n",
    "# <3>\n",
    "\n",
    "\n",
    "def fidelity_promo(order: Order) -> Decimal:  # <4>\n",
    "    \"\"\"5% discount for customers with 1000 or more fidelity points\"\"\"\n",
    "    if order.customer.fidelity >= 1000:\n",
    "        return order.total() * Decimal('0.05')\n",
    "    return Decimal(0)\n",
    "\n",
    "\n",
    "def bulk_item_promo(order: Order) -> Decimal:\n",
    "    \"\"\"10% discount for each LineItem with 20 or more units\"\"\"\n",
    "    discount = Decimal(0)\n",
    "    for item in order.cart:\n",
    "        if item.quantity >= 20:\n",
    "            discount += item.total() * Decimal('0.1')\n",
    "    return discount\n",
    "\n",
    "\n",
    "def large_order_promo(order: Order) -> Decimal:\n",
    "    \"\"\"7% discount for orders with 10 or more distinct items\"\"\"\n",
    "    distinct_items = {item.product for item in order.cart}\n",
    "    if len(distinct_items) >= 10:\n",
    "        return order.total() * Decimal('0.07')\n",
    "    return Decimal(0)\n",
    "\n",
    "\n",
    "# end::STRATEGY[]\n"
   ]
  },
  {
   "cell_type": "code",
   "execution_count": 7,
   "id": "158fe18b",
   "metadata": {},
   "outputs": [
    {
     "data": {
      "text/plain": [
       "<Order total: 42.00 due: 42.00>"
      ]
     },
     "execution_count": 7,
     "metadata": {},
     "output_type": "execute_result"
    }
   ],
   "source": [
    "joe = Customer('John Doe', 0)\n",
    "ann = Customer('Ann Smith', 1100)\n",
    "cart = (LineItem('banana', 4, Decimal('.5')),\n",
    "        LineItem('apple', 10, Decimal('1.5')),\n",
    "        LineItem('watermelon', 5, Decimal(5)))\n",
    "Order(joe, cart, fidelity_promo)"
   ]
  },
  {
   "cell_type": "code",
   "execution_count": 8,
   "id": "a29313e9",
   "metadata": {},
   "outputs": [
    {
     "data": {
      "text/plain": [
       "<Order total: 42.00 due: 39.90>"
      ]
     },
     "execution_count": 8,
     "metadata": {},
     "output_type": "execute_result"
    }
   ],
   "source": [
    "Order(ann, cart, fidelity_promo)"
   ]
  },
  {
   "cell_type": "code",
   "execution_count": 9,
   "id": "df2f5b26",
   "metadata": {},
   "outputs": [
    {
     "data": {
      "text/plain": [
       "<Order total: 30.00 due: 28.50>"
      ]
     },
     "execution_count": 9,
     "metadata": {},
     "output_type": "execute_result"
    }
   ],
   "source": [
    "banana_cart = (LineItem('banana', 30, Decimal('.5')),\n",
    "               LineItem('apple', 10, Decimal('1.5')))\n",
    "Order(joe, banana_cart, bulk_item_promo)"
   ]
  },
  {
   "cell_type": "code",
   "execution_count": 15,
   "id": "5ca9117a",
   "metadata": {},
   "outputs": [
    {
     "data": {
      "text/plain": [
       "['0', '1', '2', '3', '4', '5', '6', '7', '8', '9']"
      ]
     },
     "execution_count": 15,
     "metadata": {},
     "output_type": "execute_result"
    }
   ],
   "source": [
    "[str(sku) for sku in range(10)]"
   ]
  },
  {
   "cell_type": "code",
   "execution_count": 10,
   "id": "322feabb",
   "metadata": {},
   "outputs": [
    {
     "data": {
      "text/plain": [
       "<Order total: 10.00 due: 9.30>"
      ]
     },
     "execution_count": 10,
     "metadata": {},
     "output_type": "execute_result"
    }
   ],
   "source": [
    "long_cart = tuple(LineItem(str(sku), 1, Decimal(1))\n",
    "                  for sku in range(10))\n",
    "Order(joe, long_cart, large_order_promo)"
   ]
  },
  {
   "cell_type": "code",
   "execution_count": 11,
   "id": "21af4bad",
   "metadata": {},
   "outputs": [
    {
     "data": {
      "text/plain": [
       "<Order total: 42.00 due: 42.00>"
      ]
     },
     "execution_count": 11,
     "metadata": {},
     "output_type": "execute_result"
    }
   ],
   "source": [
    "Order(joe, cart, large_order_promo)"
   ]
  },
  {
   "cell_type": "code",
   "execution_count": 17,
   "id": "6805aa52",
   "metadata": {},
   "outputs": [],
   "source": [
    "# strategy_best.py\n",
    "# Strategy pattern -- function-based implementation\n",
    "# selecting best promotion from static list of functions\n",
    "\n",
    "\"\"\"\n",
    "    >>> from strategy import Customer, LineItem\n",
    "    >>> joe = Customer('John Doe', 0)\n",
    "    >>> ann = Customer('Ann Smith', 1100)\n",
    "    >>> cart = [LineItem('banana', 4, Decimal('.5')),\n",
    "    ...         LineItem('apple', 10, Decimal('1.5')),\n",
    "    ...         LineItem('watermelon', 5, Decimal(5))]\n",
    "    >>> banana_cart = [LineItem('banana', 30, Decimal('.5')),\n",
    "    ...                LineItem('apple', 10, Decimal('1.5'))]\n",
    "    >>> long_cart = [LineItem(str(item_code), 1, Decimal(1))\n",
    "    ...               for item_code in range(10)]\n",
    "\n",
    "# tag::STRATEGY_BEST_TESTS[]\n",
    "\n",
    "    >>> Order(joe, long_cart, best_promo)  # <1>\n",
    "    <Order total: 10.00 due: 9.30>\n",
    "    >>> Order(joe, banana_cart, best_promo)  # <2>\n",
    "    <Order total: 30.00 due: 28.50>\n",
    "    >>> Order(ann, cart, best_promo)  # <3>\n",
    "    <Order total: 42.00 due: 39.90>\n",
    "\n",
    "# end::STRATEGY_BEST_TESTS[]\n",
    "\"\"\"\n",
    "\n",
    "from decimal import Decimal\n",
    "\n",
    "from strategy import Order\n",
    "from strategy import fidelity_promo, bulk_item_promo, large_order_promo\n",
    "\n",
    "# tag::STRATEGY_BEST[]\n",
    "\n",
    "promos = [fidelity_promo, bulk_item_promo, large_order_promo]  # <1>\n",
    "\n",
    "\n",
    "def best_promo(order: Order) -> Decimal:  # <2>\n",
    "    \"\"\"Compute the best discount available\"\"\"\n",
    "    return max(promo(order) for promo in promos)  # <3>\n",
    "\n",
    "\n",
    "# end::STRATEGY_BEST[]\n"
   ]
  },
  {
   "cell_type": "code",
   "execution_count": 18,
   "id": "91fddfaf",
   "metadata": {},
   "outputs": [
    {
     "data": {
      "text/plain": [
       "<Order total: 10.00 due: 9.30>"
      ]
     },
     "execution_count": 18,
     "metadata": {},
     "output_type": "execute_result"
    }
   ],
   "source": [
    "Order(joe, long_cart, best_promo)"
   ]
  },
  {
   "cell_type": "code",
   "execution_count": 19,
   "id": "8afdc704",
   "metadata": {},
   "outputs": [
    {
     "data": {
      "text/plain": [
       "<Order total: 30.00 due: 28.50>"
      ]
     },
     "execution_count": 19,
     "metadata": {},
     "output_type": "execute_result"
    }
   ],
   "source": [
    "Order(joe, banana_cart, best_promo)"
   ]
  },
  {
   "cell_type": "code",
   "execution_count": 20,
   "id": "584f3a98",
   "metadata": {},
   "outputs": [
    {
     "data": {
      "text/plain": [
       "<Order total: 42.00 due: 39.90>"
      ]
     },
     "execution_count": 20,
     "metadata": {},
     "output_type": "execute_result"
    }
   ],
   "source": [
    "Order(ann, cart, best_promo)"
   ]
  },
  {
   "cell_type": "code",
   "execution_count": 21,
   "id": "5e1ba604",
   "metadata": {},
   "outputs": [],
   "source": [
    "# strategy_best2.py\n",
    "# Strategy pattern -- function-based implementation\n",
    "# selecting best promotion from current module globals\n",
    "\n",
    "\"\"\"\n",
    "    >>> from decimal import Decimal\n",
    "    >>> from strategy import Customer, LineItem, Order\n",
    "    >>> joe = Customer('John Doe', 0)\n",
    "    >>> ann = Customer('Ann Smith', 1100)\n",
    "    >>> cart = [LineItem('banana', 4, Decimal('.5')),\n",
    "    ...         LineItem('apple', 10, Decimal('1.5')),\n",
    "    ...         LineItem('watermelon', 5, Decimal(5))]\n",
    "    >>> Order(joe, cart, fidelity_promo)\n",
    "    <Order total: 42.00 due: 42.00>\n",
    "    >>> Order(ann, cart, fidelity_promo)\n",
    "    <Order total: 42.00 due: 39.90>\n",
    "    >>> banana_cart = [LineItem('banana', 30, Decimal('.5')),\n",
    "    ...                LineItem('apple', 10, Decimal('1.5'))]\n",
    "    >>> Order(joe, banana_cart, bulk_item_promo)\n",
    "    <Order total: 30.00 due: 28.50>\n",
    "    >>> long_cart = [LineItem(str(item_code), 1, Decimal(1))\n",
    "    ...               for item_code in range(10)]\n",
    "    >>> Order(joe, long_cart, large_order_promo)\n",
    "    <Order total: 10.00 due: 9.30>\n",
    "    >>> Order(joe, cart, large_order_promo)\n",
    "    <Order total: 42.00 due: 42.00>\n",
    "\n",
    "# tag::STRATEGY_BEST_TESTS[]\n",
    "\n",
    "    >>> Order(joe, long_cart, best_promo)\n",
    "    <Order total: 10.00 due: 9.30>\n",
    "    >>> Order(joe, banana_cart, best_promo)\n",
    "    <Order total: 30.00 due: 28.50>\n",
    "    >>> Order(ann, cart, best_promo)\n",
    "    <Order total: 42.00 due: 39.90>\n",
    "\n",
    "# end::STRATEGY_BEST_TESTS[]\n",
    "\"\"\"\n",
    "\n",
    "# tag::STRATEGY_BEST2[]\n",
    "from decimal import Decimal\n",
    "from strategy import Order\n",
    "from strategy import (\n",
    "    fidelity_promo, bulk_item_promo, large_order_promo  # <1>\n",
    ")\n",
    "\n",
    "promos = [promo for name, promo in globals().items()  # <2>\n",
    "                if name.endswith('_promo') and        # <3>\n",
    "                   name != 'best_promo'               # <4>\n",
    "]\n",
    "\n",
    "\n",
    "def best_promo(order: Order) -> Decimal:              # <5>\n",
    "    \"\"\"Compute the best discount available\"\"\"\n",
    "    return max(promo(order) for promo in promos)\n",
    "\n",
    "# end::STRATEGY_BEST2[]\n"
   ]
  },
  {
   "cell_type": "code",
   "execution_count": 22,
   "id": "8bc380dd",
   "metadata": {},
   "outputs": [],
   "source": [
    "#promotions.py\n",
    "from decimal import Decimal\n",
    "from strategy import Order\n",
    "\n",
    "def fidelity_promo(order: Order) -> Decimal:  # <3>\n",
    "    \"\"\"5% discount for customers with 1000 or more fidelity points\"\"\"\n",
    "    if order.customer.fidelity >= 1000:\n",
    "        return order.total() * Decimal('0.05')\n",
    "    return Decimal(0)\n",
    "\n",
    "\n",
    "def bulk_item_promo(order: Order) -> Decimal:\n",
    "    \"\"\"10% discount for each LineItem with 20 or more units\"\"\"\n",
    "    discount = Decimal(0)\n",
    "    for item in order.cart:\n",
    "        if item.quantity >= 20:\n",
    "            discount += item.total() * Decimal('0.1')\n",
    "    return discount\n",
    "\n",
    "\n",
    "def large_order_promo(order: Order) -> Decimal:\n",
    "    \"\"\"7% discount for orders with 10 or more distinct items\"\"\"\n",
    "    distinct_items = {item.product for item in order.cart}\n",
    "    if len(distinct_items) >= 10:\n",
    "        return order.total() * Decimal('0.07')\n",
    "    return Decimal(0)\n"
   ]
  },
  {
   "cell_type": "code",
   "execution_count": 23,
   "id": "8842ce62",
   "metadata": {},
   "outputs": [],
   "source": [
    "# strategy_best3.py\n",
    "# Strategy pattern -- function-based implementation\n",
    "# selecting best promotion from imported module\n",
    "\n",
    "\"\"\"\n",
    "    >>> from decimal import Decimal\n",
    "    >>> from strategy import Customer, LineItem, Order\n",
    "    >>> from promotions import *\n",
    "    >>> joe = Customer('John Doe', 0)\n",
    "    >>> ann = Customer('Ann Smith', 1100)\n",
    "    >>> cart = [LineItem('banana', 4, Decimal('.5')),\n",
    "    ...         LineItem('apple', 10, Decimal('1.5')),\n",
    "    ...         LineItem('watermelon', 5, Decimal(5))]\n",
    "    >>> Order(joe, cart, fidelity_promo)\n",
    "    <Order total: 42.00 due: 42.00>\n",
    "    >>> Order(ann, cart, fidelity_promo)\n",
    "    <Order total: 42.00 due: 39.90>\n",
    "    >>> banana_cart = [LineItem('banana', 30, Decimal('.5')),\n",
    "    ...                LineItem('apple', 10, Decimal('1.5'))]\n",
    "    >>> Order(joe, banana_cart, bulk_item_promo)\n",
    "    <Order total: 30.00 due: 28.50>\n",
    "    >>> long_cart = [LineItem(str(item_code), 1, Decimal(1))\n",
    "    ...               for item_code in range(10)]\n",
    "    >>> Order(joe, long_cart, large_order_promo)\n",
    "    <Order total: 10.00 due: 9.30>\n",
    "    >>> Order(joe, cart, large_order_promo)\n",
    "    <Order total: 42.00 due: 42.00>\n",
    "\n",
    "# tag::STRATEGY_BEST_TESTS[]\n",
    "\n",
    "    >>> Order(joe, long_cart, best_promo)\n",
    "    <Order total: 10.00 due: 9.30>\n",
    "    >>> Order(joe, banana_cart, best_promo)\n",
    "    <Order total: 30.00 due: 28.50>\n",
    "    >>> Order(ann, cart, best_promo)\n",
    "    <Order total: 42.00 due: 39.90>\n",
    "\n",
    "# end::STRATEGY_BEST_TESTS[]\n",
    "\"\"\"\n",
    "\n",
    "# tag::STRATEGY_BEST3[]\n",
    "\n",
    "from decimal import Decimal\n",
    "import inspect\n",
    "\n",
    "from strategy import Order\n",
    "import promotions\n",
    "\n",
    "\n",
    "promos = [func for _, func in inspect.getmembers(promotions, inspect.isfunction)]\n",
    "\n",
    "\n",
    "def best_promo(order: Order) -> Decimal:\n",
    "    \"\"\"Compute the best discount available\"\"\"\n",
    "    return max(promo(order) for promo in promos)\n",
    "\n",
    "# end::STRATEGY_BEST3[]\n"
   ]
  },
  {
   "cell_type": "code",
   "execution_count": 24,
   "id": "c26ecddd",
   "metadata": {},
   "outputs": [
    {
     "data": {
      "text/plain": [
       "[('bulk_item_promo',\n",
       "  <function promotions.bulk_item_promo(order: strategy.Order) -> decimal.Decimal>),\n",
       " ('fidelity_promo',\n",
       "  <function promotions.fidelity_promo(order: strategy.Order) -> decimal.Decimal>),\n",
       " ('large_order_promo',\n",
       "  <function promotions.large_order_promo(order: strategy.Order) -> decimal.Decimal>)]"
      ]
     },
     "execution_count": 24,
     "metadata": {},
     "output_type": "execute_result"
    }
   ],
   "source": [
    "inspect.getmembers(promotions, inspect.isfunction)"
   ]
  },
  {
   "cell_type": "code",
   "execution_count": 30,
   "id": "4a9cc242",
   "metadata": {},
   "outputs": [
    {
     "name": "stdout",
     "output_type": "stream",
     "text": [
      "Help on function getmembers in module inspect:\n",
      "\n",
      "getmembers(object, predicate=None)\n",
      "    Return all members of an object as (name, value) pairs sorted by name.\n",
      "    Optionally, only return members that satisfy a given predicate.\n",
      "\n"
     ]
    }
   ],
   "source": [
    "help(inspect.getmembers)"
   ]
  },
  {
   "cell_type": "code",
   "execution_count": 31,
   "id": "cc935aa6",
   "metadata": {},
   "outputs": [
    {
     "name": "stdout",
     "output_type": "stream",
     "text": [
      "Help on function isfunction in module inspect:\n",
      "\n",
      "isfunction(object)\n",
      "    Return true if the object is a user-defined function.\n",
      "    \n",
      "    Function objects provide these attributes:\n",
      "        __doc__         documentation string\n",
      "        __name__        name with which this function was defined\n",
      "        __code__        code object containing compiled function bytecode\n",
      "        __defaults__    tuple of any default values for arguments\n",
      "        __globals__     global namespace in which this function was defined\n",
      "        __annotations__ dict of parameter annotations\n",
      "        __kwdefaults__  dict of keyword only parameters with defaults\n",
      "\n"
     ]
    }
   ],
   "source": [
    "help(inspect.isfunction)"
   ]
  },
  {
   "cell_type": "code",
   "execution_count": 28,
   "id": "87849aed",
   "metadata": {},
   "outputs": [
    {
     "data": {
      "text/plain": [
       "[('Decimal', decimal.Decimal),\n",
       " ('Order', strategy.Order),\n",
       " ('__builtins__',\n",
       "  {'__name__': 'builtins',\n",
       "   '__doc__': \"Built-in functions, exceptions, and other objects.\\n\\nNoteworthy: None is the `nil' object; Ellipsis represents `...' in slices.\",\n",
       "   '__package__': '',\n",
       "   '__loader__': _frozen_importlib.BuiltinImporter,\n",
       "   '__spec__': ModuleSpec(name='builtins', loader=<class '_frozen_importlib.BuiltinImporter'>),\n",
       "   '__build_class__': <function __build_class__>,\n",
       "   '__import__': <function __import__>,\n",
       "   'abs': <function abs(x, /)>,\n",
       "   'all': <function all(iterable, /)>,\n",
       "   'any': <function any(iterable, /)>,\n",
       "   'ascii': <function ascii(obj, /)>,\n",
       "   'bin': <function bin(number, /)>,\n",
       "   'breakpoint': <function breakpoint>,\n",
       "   'callable': <function callable(obj, /)>,\n",
       "   'chr': <function chr(i, /)>,\n",
       "   'compile': <function compile(source, filename, mode, flags=0, dont_inherit=False, optimize=-1, *, _feature_version=-1)>,\n",
       "   'delattr': <function delattr(obj, name, /)>,\n",
       "   'dir': <function dir>,\n",
       "   'divmod': <function divmod(x, y, /)>,\n",
       "   'eval': <function eval(source, globals=None, locals=None, /)>,\n",
       "   'exec': <function exec(source, globals=None, locals=None, /)>,\n",
       "   'format': <function format(value, format_spec='', /)>,\n",
       "   'getattr': <function getattr>,\n",
       "   'globals': <function globals()>,\n",
       "   'hasattr': <function hasattr(obj, name, /)>,\n",
       "   'hash': <function hash(obj, /)>,\n",
       "   'hex': <function hex(number, /)>,\n",
       "   'id': <function id(obj, /)>,\n",
       "   'input': <bound method Kernel.raw_input of <ipykernel.ipkernel.IPythonKernel object at 0x000001E5E89A9220>>,\n",
       "   'isinstance': <function isinstance(obj, class_or_tuple, /)>,\n",
       "   'issubclass': <function issubclass(cls, class_or_tuple, /)>,\n",
       "   'iter': <function iter>,\n",
       "   'len': <function len(obj, /)>,\n",
       "   'locals': <function locals()>,\n",
       "   'max': <function max>,\n",
       "   'min': <function min>,\n",
       "   'next': <function next>,\n",
       "   'oct': <function oct(number, /)>,\n",
       "   'ord': <function ord(c, /)>,\n",
       "   'pow': <function pow(base, exp, mod=None)>,\n",
       "   'print': <function print>,\n",
       "   'repr': <function repr(obj, /)>,\n",
       "   'round': <function round(number, ndigits=None)>,\n",
       "   'setattr': <function setattr(obj, name, value, /)>,\n",
       "   'sorted': <function sorted(iterable, /, *, key=None, reverse=False)>,\n",
       "   'sum': <function sum(iterable, /, start=0)>,\n",
       "   'vars': <function vars>,\n",
       "   'None': None,\n",
       "   'Ellipsis': Ellipsis,\n",
       "   'NotImplemented': NotImplemented,\n",
       "   'False': False,\n",
       "   'True': True,\n",
       "   'bool': bool,\n",
       "   'memoryview': memoryview,\n",
       "   'bytearray': bytearray,\n",
       "   'bytes': bytes,\n",
       "   'classmethod': classmethod,\n",
       "   'complex': complex,\n",
       "   'dict': dict,\n",
       "   'enumerate': enumerate,\n",
       "   'filter': filter,\n",
       "   'float': float,\n",
       "   'frozenset': frozenset,\n",
       "   'property': property,\n",
       "   'int': int,\n",
       "   'list': list,\n",
       "   'map': map,\n",
       "   'object': object,\n",
       "   'range': range,\n",
       "   'reversed': reversed,\n",
       "   'set': set,\n",
       "   'slice': slice,\n",
       "   'staticmethod': staticmethod,\n",
       "   'str': str,\n",
       "   'super': super,\n",
       "   'tuple': tuple,\n",
       "   'type': type,\n",
       "   'zip': zip,\n",
       "   '__debug__': True,\n",
       "   'BaseException': BaseException,\n",
       "   'Exception': Exception,\n",
       "   'TypeError': TypeError,\n",
       "   'StopAsyncIteration': StopAsyncIteration,\n",
       "   'StopIteration': StopIteration,\n",
       "   'GeneratorExit': GeneratorExit,\n",
       "   'SystemExit': SystemExit,\n",
       "   'KeyboardInterrupt': KeyboardInterrupt,\n",
       "   'ImportError': ImportError,\n",
       "   'ModuleNotFoundError': ModuleNotFoundError,\n",
       "   'OSError': OSError,\n",
       "   'EnvironmentError': OSError,\n",
       "   'IOError': OSError,\n",
       "   'WindowsError': OSError,\n",
       "   'EOFError': EOFError,\n",
       "   'RuntimeError': RuntimeError,\n",
       "   'RecursionError': RecursionError,\n",
       "   'NotImplementedError': NotImplementedError,\n",
       "   'NameError': NameError,\n",
       "   'UnboundLocalError': UnboundLocalError,\n",
       "   'AttributeError': AttributeError,\n",
       "   'SyntaxError': SyntaxError,\n",
       "   'IndentationError': IndentationError,\n",
       "   'TabError': TabError,\n",
       "   'LookupError': LookupError,\n",
       "   'IndexError': IndexError,\n",
       "   'KeyError': KeyError,\n",
       "   'ValueError': ValueError,\n",
       "   'UnicodeError': UnicodeError,\n",
       "   'UnicodeEncodeError': UnicodeEncodeError,\n",
       "   'UnicodeDecodeError': UnicodeDecodeError,\n",
       "   'UnicodeTranslateError': UnicodeTranslateError,\n",
       "   'AssertionError': AssertionError,\n",
       "   'ArithmeticError': ArithmeticError,\n",
       "   'FloatingPointError': FloatingPointError,\n",
       "   'OverflowError': OverflowError,\n",
       "   'ZeroDivisionError': ZeroDivisionError,\n",
       "   'SystemError': SystemError,\n",
       "   'ReferenceError': ReferenceError,\n",
       "   'MemoryError': MemoryError,\n",
       "   'BufferError': BufferError,\n",
       "   'Warning': Warning,\n",
       "   'UserWarning': UserWarning,\n",
       "   'DeprecationWarning': DeprecationWarning,\n",
       "   'PendingDeprecationWarning': PendingDeprecationWarning,\n",
       "   'SyntaxWarning': SyntaxWarning,\n",
       "   'RuntimeWarning': RuntimeWarning,\n",
       "   'FutureWarning': FutureWarning,\n",
       "   'ImportWarning': ImportWarning,\n",
       "   'UnicodeWarning': UnicodeWarning,\n",
       "   'BytesWarning': BytesWarning,\n",
       "   'ResourceWarning': ResourceWarning,\n",
       "   'ConnectionError': ConnectionError,\n",
       "   'BlockingIOError': BlockingIOError,\n",
       "   'BrokenPipeError': BrokenPipeError,\n",
       "   'ChildProcessError': ChildProcessError,\n",
       "   'ConnectionAbortedError': ConnectionAbortedError,\n",
       "   'ConnectionRefusedError': ConnectionRefusedError,\n",
       "   'ConnectionResetError': ConnectionResetError,\n",
       "   'FileExistsError': FileExistsError,\n",
       "   'FileNotFoundError': FileNotFoundError,\n",
       "   'IsADirectoryError': IsADirectoryError,\n",
       "   'NotADirectoryError': NotADirectoryError,\n",
       "   'InterruptedError': InterruptedError,\n",
       "   'PermissionError': PermissionError,\n",
       "   'ProcessLookupError': ProcessLookupError,\n",
       "   'TimeoutError': TimeoutError,\n",
       "   'open': <function io.open(file, mode='r', buffering=-1, encoding=None, errors=None, newline=None, closefd=True, opener=None)>,\n",
       "   'copyright': Copyright (c) 2001-2020 Python Software Foundation.\n",
       "   All Rights Reserved.\n",
       "   \n",
       "   Copyright (c) 2000 BeOpen.com.\n",
       "   All Rights Reserved.\n",
       "   \n",
       "   Copyright (c) 1995-2001 Corporation for National Research Initiatives.\n",
       "   All Rights Reserved.\n",
       "   \n",
       "   Copyright (c) 1991-1995 Stichting Mathematisch Centrum, Amsterdam.\n",
       "   All Rights Reserved.,\n",
       "   'credits':     Thanks to CWI, CNRI, BeOpen.com, Zope Corporation and a cast of thousands\n",
       "       for supporting Python development.  See www.python.org for more information.,\n",
       "   'license': See https://www.python.org/psf/license/,\n",
       "   'help': Type help() for interactive help, or help(object) for help about object.,\n",
       "   'execfile': <function _pydev_imps._pydev_execfile.execfile(file, glob=None, loc=None)>,\n",
       "   'runfile': <function _pydev_bundle.pydev_umd.runfile(filename, args=None, wdir=None, namespace=None)>,\n",
       "   '__IPYTHON__': True,\n",
       "   'display': <function IPython.core.display.display(*objs, include=None, exclude=None, metadata=None, transient=None, display_id=None, **kwargs)>,\n",
       "   'get_ipython': <bound method InteractiveShell.get_ipython of <ipykernel.zmqshell.ZMQInteractiveShell object at 0x000001E5E89A9280>>}),\n",
       " ('__cached__',\n",
       "  'D:/books/python/0.   Fluent Python, 2nd Edition/example-code-2e/10-dp-1class-func\\\\__pycache__\\\\promotions.cpython-38.pyc'),\n",
       " ('__doc__', None),\n",
       " ('__file__',\n",
       "  'D:/books/python/0.   Fluent Python, 2nd Edition/example-code-2e/10-dp-1class-func\\\\promotions.py'),\n",
       " ('__loader__',\n",
       "  <_frozen_importlib_external.SourceFileLoader at 0x1e5e89e6a60>),\n",
       " ('__name__', 'promotions'),\n",
       " ('__package__', ''),\n",
       " ('__spec__',\n",
       "  ModuleSpec(name='promotions', loader=<_frozen_importlib_external.SourceFileLoader object at 0x000001E5E89E6A60>, origin='D:/books/python/0.   Fluent Python, 2nd Edition/example-code-2e/10-dp-1class-func\\\\promotions.py')),\n",
       " ('bulk_item_promo',\n",
       "  <function promotions.bulk_item_promo(order: strategy.Order) -> decimal.Decimal>),\n",
       " ('fidelity_promo',\n",
       "  <function promotions.fidelity_promo(order: strategy.Order) -> decimal.Decimal>),\n",
       " ('large_order_promo',\n",
       "  <function promotions.large_order_promo(order: strategy.Order) -> decimal.Decimal>)]"
      ]
     },
     "execution_count": 28,
     "metadata": {},
     "output_type": "execute_result"
    }
   ],
   "source": [
    "inspect.getmembers(promotions)"
   ]
  },
  {
   "cell_type": "code",
   "execution_count": 25,
   "id": "a70c1bb5",
   "metadata": {},
   "outputs": [
    {
     "data": {
      "text/plain": [
       "<Order total: 10.00 due: 9.30>"
      ]
     },
     "execution_count": 25,
     "metadata": {},
     "output_type": "execute_result"
    }
   ],
   "source": [
    "Order(joe, long_cart, best_promo)"
   ]
  },
  {
   "cell_type": "code",
   "execution_count": 26,
   "id": "172d18c0",
   "metadata": {},
   "outputs": [
    {
     "data": {
      "text/plain": [
       "<Order total: 30.00 due: 28.50>"
      ]
     },
     "execution_count": 26,
     "metadata": {},
     "output_type": "execute_result"
    }
   ],
   "source": [
    "Order(joe, banana_cart, best_promo)"
   ]
  },
  {
   "cell_type": "code",
   "execution_count": 27,
   "id": "de9274b5",
   "metadata": {},
   "outputs": [
    {
     "data": {
      "text/plain": [
       "<Order total: 42.00 due: 39.90>"
      ]
     },
     "execution_count": 27,
     "metadata": {},
     "output_type": "execute_result"
    }
   ],
   "source": [
    "Order(ann, cart, best_promo)"
   ]
  },
  {
   "cell_type": "code",
   "execution_count": 4,
   "id": "822f0e54",
   "metadata": {},
   "outputs": [],
   "source": [
    "# strategy_best4.py\n",
    "# Strategy pattern -- function-based implementation\n",
    "# selecting best promotion from list of functions\n",
    "# registered by a decorator\n",
    "\n",
    "\"\"\"\n",
    "    >>> from decimal import Decimal\n",
    "    >>> from strategy import Customer, LineItem, Order\n",
    "    >>> from promotions import *\n",
    "    >>> joe = Customer('John Doe', 0)\n",
    "    >>> ann = Customer('Ann Smith', 1100)\n",
    "    >>> cart = [LineItem('banana', 4, Decimal('.5')),\n",
    "    ...         LineItem('apple', 10, Decimal('1.5')),\n",
    "    ...         LineItem('watermelon', 5, Decimal(5))]\n",
    "    >>> Order(joe, cart, fidelity_promo)\n",
    "    <Order total: 42.00 due: 42.00>\n",
    "    >>> Order(ann, cart, fidelity_promo)\n",
    "    <Order total: 42.00 due: 39.90>\n",
    "    >>> banana_cart = [LineItem('banana', 30, Decimal('.5')),\n",
    "    ...                LineItem('apple', 10, Decimal('1.5'))]\n",
    "    >>> Order(joe, banana_cart, bulk_item_promo)\n",
    "    <Order total: 30.00 due: 28.50>\n",
    "    >>> long_cart = [LineItem(str(item_code), 1, Decimal(1))\n",
    "    ...               for item_code in range(10)]\n",
    "    >>> Order(joe, long_cart, large_order_promo)\n",
    "    <Order total: 10.00 due: 9.30>\n",
    "    >>> Order(joe, cart, large_order_promo)\n",
    "    <Order total: 42.00 due: 42.00>\n",
    "\n",
    "# tag::STRATEGY_BEST_TESTS[]\n",
    "\n",
    "    >>> Order(joe, long_cart, best_promo)\n",
    "    <Order total: 10.00 due: 9.30>\n",
    "    >>> Order(joe, banana_cart, best_promo)\n",
    "    <Order total: 30.00 due: 28.50>\n",
    "    >>> Order(ann, cart, best_promo)\n",
    "    <Order total: 42.00 due: 39.90>\n",
    "\n",
    "# end::STRATEGY_BEST_TESTS[]\n",
    "\"\"\"\n",
    "\n",
    "from __future__ import annotations\n",
    "from decimal import Decimal\n",
    "from typing import Callable\n",
    "from strategy import Order\n",
    "\n",
    "# tag::STRATEGY_BEST4[]\n",
    "\n",
    "Promotion = Callable[[Order], Decimal]\n",
    "\n",
    "promos: list[Promotion] = []  # <1>\n",
    "\n",
    "\n",
    "def promotion(promo: Promotion) -> Promotion:  # <2>\n",
    "    promos.append(promo)\n",
    "    return promo\n",
    "\n",
    "\n",
    "def best_promo(order: Order) -> Decimal:\n",
    "    \"\"\"Compute the best discount available\"\"\"\n",
    "    return max(promo(order) for promo in promos)  # <3>\n",
    "\n",
    "\n",
    "@promotion  # <4>\n",
    "def fidelity(order: Order) -> Decimal:\n",
    "    \"\"\"5% discount for customers with 1000 or more fidelity points\"\"\"\n",
    "    if order.customer.fidelity >= 1000:\n",
    "        return order.total() * Decimal('0.05')\n",
    "    return Decimal(0)\n",
    "\n",
    "\n",
    "@promotion\n",
    "def bulk_item(order: Order) -> Decimal:\n",
    "    \"\"\"10% discount for each LineItem with 20 or more units\"\"\"\n",
    "    discount = Decimal(0)\n",
    "    for item in order.cart:\n",
    "        if item.quantity >= 20:\n",
    "            discount += item.total() * Decimal('0.1')\n",
    "    return discount\n",
    "\n",
    "\n",
    "@promotion\n",
    "def large_order(order: Order) -> Decimal:\n",
    "    \"\"\"7% discount for orders with 10 or more distinct items\"\"\"\n",
    "    distinct_items = {item.product for item in order.cart}\n",
    "    if len(distinct_items) >= 10:\n",
    "        return order.total() * Decimal('0.07')\n",
    "    return Decimal(0)\n",
    "\n",
    "# end::STRATEGY_BEST4[]\n"
   ]
  },
  {
   "cell_type": "code",
   "execution_count": 8,
   "id": "b1727de1",
   "metadata": {},
   "outputs": [],
   "source": [
    "from abc import ABC, abstractmethod\n",
    "from collections import namedtuple\n",
    "\n",
    "Customer = namedtuple('Customer', 'name fidelity')\n",
    "\n",
    "\n",
    "class LineItem:\n",
    "\n",
    "    def __init__(self, product, quantity, price):\n",
    "        self.product = product\n",
    "        self.quantity = quantity\n",
    "        self.price = price\n",
    "\n",
    "    def total(self):\n",
    "        return self.price * self.quantity\n",
    "\n",
    "\n",
    "class Order:  # the Context\n",
    "\n",
    "    def __init__(self, customer, cart, promotion=None):\n",
    "        self.customer = customer\n",
    "        self.cart = list(cart)\n",
    "        self.promotion = promotion\n",
    "\n",
    "    def total(self):\n",
    "        if not hasattr(self, '__total'):\n",
    "            self.__total = sum(item.total() for item in self.cart)\n",
    "        return self.__total\n",
    "\n",
    "    def due(self):\n",
    "        if self.promotion is None:\n",
    "            discount = 0\n",
    "        else:\n",
    "            discount = self.promotion.discount(self)\n",
    "        return self.total() - discount\n",
    "\n",
    "    def __repr__(self):\n",
    "        fmt = '<Order total: {:.2f} due: {:.2f}>'\n",
    "        return fmt.format(self.total(), self.due())\n",
    "\n",
    "\n",
    "class Promotion(ABC):  # the Strategy: an Abstract Base Class\n",
    "\n",
    "    @abstractmethod\n",
    "    def discount(self, order):\n",
    "        \"\"\"Return discount as a positive dollar amount\"\"\"\n",
    "\n",
    "\n",
    "class FidelityPromo(Promotion):  # first Concrete Strategy\n",
    "    \"\"\"5% discount for customers with 1000 or more fidelity points\"\"\"\n",
    "\n",
    "    def discount(self, order):\n",
    "        return order.total() * .05 if order.customer.fidelity >= 1000 else 0\n",
    "\n",
    "\n",
    "class BulkItemPromo(Promotion):  # second Concrete Strategy\n",
    "    \"\"\"10% discount for each LineItem with 20 or more units\"\"\"\n",
    "\n",
    "    def discount(self, order):\n",
    "        discount = 0\n",
    "        for item in order.cart:\n",
    "            if item.quantity >= 20:\n",
    "                discount += item.total() * .1\n",
    "        return discount\n",
    "\n",
    "\n",
    "class LargeOrderPromo(Promotion):  # third Concrete Strategy\n",
    "    \"\"\"7% discount for orders with 10 or more distinct items\"\"\"\n",
    "\n",
    "    def discount(self, order):\n",
    "        distinct_items = {item.product for item in order.cart}\n",
    "        if len(distinct_items) >= 10:\n",
    "            return order.total() * .07\n",
    "        return 0"
   ]
  },
  {
   "cell_type": "code",
   "execution_count": 8,
   "id": "b6935ac5",
   "metadata": {},
   "outputs": [
    {
     "data": {
      "text/plain": [
       "LineItem(product='banana', quantity=4, price=Decimal('0.5'))"
      ]
     },
     "execution_count": 8,
     "metadata": {},
     "output_type": "execute_result"
    }
   ],
   "source": [
    "LineItem('banana', 4, Decimal('.5'))"
   ]
  },
  {
   "cell_type": "code",
   "execution_count": 9,
   "id": "e7699524",
   "metadata": {},
   "outputs": [
    {
     "data": {
      "text/plain": [
       "Decimal('2.0')"
      ]
     },
     "execution_count": 9,
     "metadata": {},
     "output_type": "execute_result"
    }
   ],
   "source": [
    "LineItem('banana', 4, Decimal('.5')).total()"
   ]
  },
  {
   "cell_type": "code",
   "execution_count": 9,
   "id": "79c64557",
   "metadata": {},
   "outputs": [
    {
     "data": {
      "text/plain": [
       "<Order total: 42.00 due: 42.00>"
      ]
     },
     "execution_count": 9,
     "metadata": {},
     "output_type": "execute_result"
    }
   ],
   "source": [
    "joe = Customer('John Doe', 0)\n",
    "ann = Customer('Ann Smith', 1100)\n",
    "cart = [LineItem('banana', 4, .5),\n",
    "        LineItem('apple', 10, 1.5),\n",
    "        LineItem('watermellon', 5, 5.0)]\n",
    "Order(joe, cart, FidelityPromo())"
   ]
  },
  {
   "cell_type": "code",
   "execution_count": 10,
   "id": "784eadb6",
   "metadata": {},
   "outputs": [
    {
     "data": {
      "text/plain": [
       "Customer(name='John Doe', fidelity=0)"
      ]
     },
     "execution_count": 10,
     "metadata": {},
     "output_type": "execute_result"
    }
   ],
   "source": [
    "joe"
   ]
  },
  {
   "cell_type": "code",
   "execution_count": 11,
   "id": "723146bb",
   "metadata": {},
   "outputs": [
    {
     "data": {
      "text/plain": [
       "Customer(name='Ann Smith', fidelity=1100)"
      ]
     },
     "execution_count": 11,
     "metadata": {},
     "output_type": "execute_result"
    }
   ],
   "source": [
    "ann"
   ]
  },
  {
   "cell_type": "code",
   "execution_count": 12,
   "id": "568a96dd",
   "metadata": {},
   "outputs": [
    {
     "data": {
      "text/plain": [
       "[<__main__.LineItem at 0x276c3a3a940>,\n",
       " <__main__.LineItem at 0x276c3a3a610>,\n",
       " <__main__.LineItem at 0x276c3a3aac0>]"
      ]
     },
     "execution_count": 12,
     "metadata": {},
     "output_type": "execute_result"
    }
   ],
   "source": [
    "cart"
   ]
  },
  {
   "cell_type": "code",
   "execution_count": 21,
   "id": "e790cb74",
   "metadata": {},
   "outputs": [
    {
     "data": {
      "text/plain": [
       "42.0"
      ]
     },
     "execution_count": 21,
     "metadata": {},
     "output_type": "execute_result"
    }
   ],
   "source": [
    "sum(item.total() for item in cart)"
   ]
  },
  {
   "cell_type": "code",
   "execution_count": 19,
   "id": "04d55d5e",
   "metadata": {},
   "outputs": [
    {
     "data": {
      "text/plain": [
       "[<__main__.LineItem at 0x276c3a3a940>,\n",
       " <__main__.LineItem at 0x276c3a3a610>,\n",
       " <__main__.LineItem at 0x276c3a3aac0>]"
      ]
     },
     "execution_count": 19,
     "metadata": {},
     "output_type": "execute_result"
    }
   ],
   "source": [
    "list(cart)"
   ]
  },
  {
   "cell_type": "code",
   "execution_count": 16,
   "id": "9080384d",
   "metadata": {},
   "outputs": [
    {
     "data": {
      "text/plain": [
       "2.0"
      ]
     },
     "execution_count": 16,
     "metadata": {},
     "output_type": "execute_result"
    }
   ],
   "source": [
    "LineItem('banana', 4, .5).total()"
   ]
  },
  {
   "cell_type": "code",
   "execution_count": 17,
   "id": "1c33ac4c",
   "metadata": {},
   "outputs": [
    {
     "data": {
      "text/plain": [
       "'banana'"
      ]
     },
     "execution_count": 17,
     "metadata": {},
     "output_type": "execute_result"
    }
   ],
   "source": [
    "LineItem('banana', 4, .5).product"
   ]
  },
  {
   "cell_type": "code",
   "execution_count": 18,
   "id": "0d6fc51c",
   "metadata": {},
   "outputs": [
    {
     "data": {
      "text/plain": [
       "4"
      ]
     },
     "execution_count": 18,
     "metadata": {},
     "output_type": "execute_result"
    }
   ],
   "source": [
    "LineItem('banana', 4, .5).quantity"
   ]
  },
  {
   "cell_type": "code",
   "execution_count": 22,
   "id": "6b63f10e",
   "metadata": {},
   "outputs": [
    {
     "name": "stdout",
     "output_type": "stream",
     "text": [
      "<Order total: 42.00 due: 42.00>\n"
     ]
    }
   ],
   "source": [
    "print(Order(joe, cart, FidelityPromo()))"
   ]
  },
  {
   "cell_type": "code",
   "execution_count": 23,
   "id": "64d9a2da",
   "metadata": {},
   "outputs": [
    {
     "data": {
      "text/plain": [
       "<Order total: 42.00 due: 39.90>"
      ]
     },
     "execution_count": 23,
     "metadata": {},
     "output_type": "execute_result"
    }
   ],
   "source": [
    "Order(ann, cart, FidelityPromo())"
   ]
  },
  {
   "cell_type": "code",
   "execution_count": 24,
   "id": "67ba3e8e",
   "metadata": {},
   "outputs": [
    {
     "data": {
      "text/plain": [
       "39.9"
      ]
     },
     "execution_count": 24,
     "metadata": {},
     "output_type": "execute_result"
    }
   ],
   "source": [
    "42*0.95"
   ]
  },
  {
   "cell_type": "code",
   "execution_count": 25,
   "id": "b96993c2",
   "metadata": {},
   "outputs": [],
   "source": [
    "banana_cart = [LineItem('banana', 30, .5),\n",
    "               LineItem('apple', 10, 1.5)]"
   ]
  },
  {
   "cell_type": "code",
   "execution_count": 26,
   "id": "8ccde628",
   "metadata": {},
   "outputs": [
    {
     "data": {
      "text/plain": [
       "<Order total: 30.00 due: 28.50>"
      ]
     },
     "execution_count": 26,
     "metadata": {},
     "output_type": "execute_result"
    }
   ],
   "source": [
    "Order(joe, banana_cart, BulkItemPromo())"
   ]
  },
  {
   "cell_type": "code",
   "execution_count": 27,
   "id": "1a072e3b",
   "metadata": {},
   "outputs": [
    {
     "data": {
      "text/plain": [
       "<Order total: 10.00 due: 9.30>"
      ]
     },
     "execution_count": 27,
     "metadata": {},
     "output_type": "execute_result"
    }
   ],
   "source": [
    "long_order = [LineItem(str(item_code), 1, 1.0)\n",
    "              for item_code in range(10)]\n",
    "Order(joe, long_order, LargeOrderPromo())"
   ]
  },
  {
   "cell_type": "code",
   "execution_count": 28,
   "id": "a0a01df6",
   "metadata": {},
   "outputs": [
    {
     "data": {
      "text/plain": [
       "[<__main__.LineItem at 0x276c3a746a0>,\n",
       " <__main__.LineItem at 0x276c3a74c10>,\n",
       " <__main__.LineItem at 0x276c3a74400>,\n",
       " <__main__.LineItem at 0x276c3a74070>,\n",
       " <__main__.LineItem at 0x276c3a74b20>,\n",
       " <__main__.LineItem at 0x276c3a74fa0>,\n",
       " <__main__.LineItem at 0x276c3a74250>,\n",
       " <__main__.LineItem at 0x276c3a74760>,\n",
       " <__main__.LineItem at 0x276c3a748e0>,\n",
       " <__main__.LineItem at 0x276c3a74c70>]"
      ]
     },
     "execution_count": 28,
     "metadata": {},
     "output_type": "execute_result"
    }
   ],
   "source": [
    "long_order"
   ]
  },
  {
   "cell_type": "code",
   "execution_count": 30,
   "id": "74ad8694",
   "metadata": {},
   "outputs": [
    {
     "data": {
      "text/plain": [
       "[<__main__.LineItem at 0x276c3a746a0>,\n",
       " <__main__.LineItem at 0x276c3a74c10>,\n",
       " <__main__.LineItem at 0x276c3a74400>,\n",
       " <__main__.LineItem at 0x276c3a74070>,\n",
       " <__main__.LineItem at 0x276c3a74b20>,\n",
       " <__main__.LineItem at 0x276c3a74fa0>,\n",
       " <__main__.LineItem at 0x276c3a74250>,\n",
       " <__main__.LineItem at 0x276c3a74760>,\n",
       " <__main__.LineItem at 0x276c3a748e0>,\n",
       " <__main__.LineItem at 0x276c3a74c70>]"
      ]
     },
     "execution_count": 30,
     "metadata": {},
     "output_type": "execute_result"
    }
   ],
   "source": [
    "Order(joe, long_order, LargeOrderPromo()).cart"
   ]
  },
  {
   "cell_type": "code",
   "execution_count": 33,
   "id": "e696463a",
   "metadata": {},
   "outputs": [
    {
     "data": {
      "text/plain": [
       "10.0"
      ]
     },
     "execution_count": 33,
     "metadata": {},
     "output_type": "execute_result"
    }
   ],
   "source": [
    "Order(joe, long_order, LargeOrderPromo()).total()"
   ]
  },
  {
   "cell_type": "code",
   "execution_count": 31,
   "id": "5360f818",
   "metadata": {},
   "outputs": [
    {
     "data": {
      "text/plain": [
       "{'0', '1', '2', '3', '4', '5', '6', '7', '8', '9'}"
      ]
     },
     "execution_count": 31,
     "metadata": {},
     "output_type": "execute_result"
    }
   ],
   "source": [
    "{item.product for item in Order(joe, long_order, LargeOrderPromo()).cart}"
   ]
  },
  {
   "cell_type": "code",
   "execution_count": 34,
   "id": "d4d4e82e",
   "metadata": {},
   "outputs": [
    {
     "data": {
      "text/plain": [
       "<Order total: 42.00 due: 42.00>"
      ]
     },
     "execution_count": 34,
     "metadata": {},
     "output_type": "execute_result"
    }
   ],
   "source": [
    "Order(joe, cart, LargeOrderPromo())"
   ]
  },
  {
   "cell_type": "code",
   "execution_count": 3,
   "id": "948261cc",
   "metadata": {},
   "outputs": [],
   "source": [
    "def fidelity_promo(order):\n",
    "    \"\"\"5% discount for customers with 1000 or more fidelity points\"\"\"\n",
    "    return order.total() * .05 if order.customer.fidelity >= 1000 else 0\n",
    "\n",
    "\n",
    "def bulk_item_promo(order):\n",
    "    \"\"\"10% discount for each LineItem with 20 or more units\"\"\"\n",
    "    discount = 0\n",
    "    for item in order.cart:\n",
    "        if item.quantity >= 20:\n",
    "            discount += item.total() * .1\n",
    "    return discount\n",
    "\n",
    "def large_order_promo(order):\n",
    "    \"\"\"7% discount for orders with 10 or more distinct items\"\"\"\n",
    "    distinct_items = {item.product for item in order.cart}\n",
    "    if len(distinct_items) >= 10:\n",
    "        return order.total() * .07\n",
    "    return 0\n"
   ]
  },
  {
   "cell_type": "code",
   "execution_count": 4,
   "id": "ba0029f3",
   "metadata": {},
   "outputs": [],
   "source": [
    "# strategy_best.py\n",
    "# Strategy pattern -- function-based implementation\n",
    "# selecting best promotion from static list of functions\n",
    "\n",
    "\"\"\"\n",
    "    >>> joe = Customer('John Doe', 0)\n",
    "    >>> ann = Customer('Ann Smith', 1100)\n",
    "    >>> cart = [LineItem('banana', 4, .5),\n",
    "    ...         LineItem('apple', 10, 1.5),\n",
    "    ...         LineItem('watermellon', 5, 5.0)]\n",
    "    >>> Order(joe, cart, fidelity_promo)\n",
    "    <Order total: 42.00 due: 42.00>\n",
    "    >>> Order(ann, cart, fidelity_promo)\n",
    "    <Order total: 42.00 due: 39.90>\n",
    "    >>> banana_cart = [LineItem('banana', 30, .5),\n",
    "    ...                LineItem('apple', 10, 1.5)]\n",
    "    >>> Order(joe, banana_cart, bulk_item_promo)\n",
    "    <Order total: 30.00 due: 28.50>\n",
    "    >>> long_order = [LineItem(str(item_code), 1, 1.0)\n",
    "    ...               for item_code in range(10)]\n",
    "    >>> Order(joe, long_order, large_order_promo)\n",
    "    <Order total: 10.00 due: 9.30>\n",
    "    >>> Order(joe, cart, large_order_promo)\n",
    "    <Order total: 42.00 due: 42.00>\n",
    "\n",
    "# BEGIN STRATEGY_BEST_TESTS\n",
    "\n",
    "    >>> Order(joe, long_order, best_promo)  # <1>\n",
    "    <Order total: 10.00 due: 9.30>\n",
    "    >>> Order(joe, banana_cart, best_promo)  # <2>\n",
    "    <Order total: 30.00 due: 28.50>\n",
    "    >>> Order(ann, cart, best_promo)  # <3>\n",
    "    <Order total: 42.00 due: 39.90>\n",
    "\n",
    "# END STRATEGY_BEST_TESTS\n",
    "\"\"\"\n",
    "\n",
    "from collections import namedtuple\n",
    "\n",
    "Customer = namedtuple('Customer', 'name fidelity')\n",
    "\n",
    "\n",
    "class LineItem:\n",
    "\n",
    "    def __init__(self, product, quantity, price):\n",
    "        self.product = product\n",
    "        self.quantity = quantity\n",
    "        self.price = price\n",
    "\n",
    "    def total(self):\n",
    "        return self.price * self.quantity\n",
    "\n",
    "\n",
    "class Order:  # the Context\n",
    "\n",
    "    def __init__(self, customer, cart, promotion=None):\n",
    "        self.customer = customer\n",
    "        self.cart = list(cart)\n",
    "        self.promotion = promotion\n",
    "\n",
    "    def total(self):\n",
    "        if not hasattr(self, '__total'):\n",
    "            self.__total = sum(item.total() for item in self.cart)\n",
    "        return self.__total\n",
    "\n",
    "    def due(self):\n",
    "        if self.promotion is None:\n",
    "            discount = 0\n",
    "        else:\n",
    "            discount = self.promotion(self)\n",
    "        return self.total() - discount\n",
    "\n",
    "    def __repr__(self):\n",
    "        fmt = '<Order total: {:.2f} due: {:.2f}>'\n",
    "        return fmt.format(self.total(), self.due())\n",
    "\n",
    "\n",
    "def fidelity_promo(order):\n",
    "    \"\"\"5% discount for customers with 1000 or more fidelity points\"\"\"\n",
    "    return order.total() * .05 if order.customer.fidelity >= 1000 else 0\n",
    "\n",
    "\n",
    "def bulk_item_promo(order):\n",
    "    \"\"\"10% discount for each LineItem with 20 or more units\"\"\"\n",
    "    discount = 0\n",
    "    for item in order.cart:\n",
    "        if item.quantity >= 20:\n",
    "            discount += item.total() * .1\n",
    "    return discount\n",
    "\n",
    "\n",
    "def large_order_promo(order):\n",
    "    \"\"\"7% discount for orders with 10 or more distinct items\"\"\"\n",
    "    distinct_items = {item.product for item in order.cart}\n",
    "    if len(distinct_items) >= 10:\n",
    "        return order.total() * .07\n",
    "    return 0\n",
    "\n",
    "# BEGIN STRATEGY_BEST\n",
    "\n",
    "promos = [fidelity_promo, bulk_item_promo, large_order_promo]  # <1>\n",
    "\n",
    "def best_promo(order):  # <2>\n",
    "    \"\"\"Select best discount available\n",
    "    \"\"\"\n",
    "    return max(promo(order) for promo in promos)  # <3>\n",
    "\n",
    "# END STRATEGY_BEST\n"
   ]
  },
  {
   "cell_type": "code",
   "execution_count": 35,
   "id": "b046faa7",
   "metadata": {},
   "outputs": [],
   "source": [
    "# strategy_best2.py\n",
    "# Strategy pattern -- function-based implementation\n",
    "# selecting best promotion from current module globals\n",
    "\n",
    "\"\"\"\n",
    "    >>> joe = Customer('John Doe', 0)\n",
    "    >>> ann = Customer('Ann Smith', 1100)\n",
    "    >>> cart = [LineItem('banana', 4, .5),\n",
    "    ...         LineItem('apple', 10, 1.5),\n",
    "    ...         LineItem('watermellon', 5, 5.0)]\n",
    "    >>> Order(joe, cart, fidelity_promo)\n",
    "    <Order total: 42.00 due: 42.00>\n",
    "    >>> Order(ann, cart, fidelity_promo)\n",
    "    <Order total: 42.00 due: 39.90>\n",
    "    >>> banana_cart = [LineItem('banana', 30, .5),\n",
    "    ...                LineItem('apple', 10, 1.5)]\n",
    "    >>> Order(joe, banana_cart, bulk_item_promo)\n",
    "    <Order total: 30.00 due: 28.50>\n",
    "    >>> long_order = [LineItem(str(item_code), 1, 1.0)\n",
    "    ...               for item_code in range(10)]\n",
    "    >>> Order(joe, long_order, large_order_promo)\n",
    "    <Order total: 10.00 due: 9.30>\n",
    "    >>> Order(joe, cart, large_order_promo)\n",
    "    <Order total: 42.00 due: 42.00>\n",
    "\n",
    "# BEGIN STRATEGY_BEST_TESTS\n",
    "\n",
    "    >>> Order(joe, long_order, best_promo)\n",
    "    <Order total: 10.00 due: 9.30>\n",
    "    >>> Order(joe, banana_cart, best_promo)\n",
    "    <Order total: 30.00 due: 28.50>\n",
    "    >>> Order(ann, cart, best_promo)\n",
    "    <Order total: 42.00 due: 39.90>\n",
    "\n",
    "# END STRATEGY_BEST_TESTS\n",
    "\"\"\"\n",
    "\n",
    "from collections import namedtuple\n",
    "\n",
    "Customer = namedtuple('Customer', 'name fidelity')\n",
    "\n",
    "\n",
    "class LineItem:\n",
    "\n",
    "    def __init__(self, product, quantity, price):\n",
    "        self.product = product\n",
    "        self.quantity = quantity\n",
    "        self.price = price\n",
    "\n",
    "    def total(self):\n",
    "        return self.price * self.quantity\n",
    "\n",
    "\n",
    "class Order:  # the Context\n",
    "\n",
    "    def __init__(self, customer, cart, promotion=None):\n",
    "        self.customer = customer\n",
    "        self.cart = list(cart)\n",
    "        self.promotion = promotion\n",
    "\n",
    "    def total(self):\n",
    "        if not hasattr(self, '__total'):\n",
    "            self.__total = sum(item.total() for item in self.cart)\n",
    "        return self.__total\n",
    "\n",
    "    def due(self):\n",
    "        if self.promotion is None:\n",
    "            discount = 0\n",
    "        else:\n",
    "            discount = self.promotion(self)\n",
    "        return self.total() - discount\n",
    "\n",
    "    def __repr__(self):\n",
    "        fmt = '<Order total: {:.2f} due: {:.2f}>'\n",
    "        return fmt.format(self.total(), self.due())\n",
    "\n",
    "\n",
    "def fidelity_promo(order):\n",
    "    \"\"\"5% discount for customers with 1000 or more fidelity points\"\"\"\n",
    "    return order.total() * .05 if order.customer.fidelity >= 1000 else 0\n",
    "\n",
    "\n",
    "def bulk_item_promo(order):\n",
    "    \"\"\"10% discount for each LineItem with 20 or more units\"\"\"\n",
    "    discount = 0\n",
    "    for item in order.cart:\n",
    "        if item.quantity >= 20:\n",
    "            discount += item.total() * .1\n",
    "    return discount\n",
    "\n",
    "\n",
    "def large_order_promo(order):\n",
    "    \"\"\"7% discount for orders with 10 or more distinct items\"\"\"\n",
    "    distinct_items = {item.product for item in order.cart}\n",
    "    if len(distinct_items) >= 10:\n",
    "        return order.total() * .07\n",
    "    return 0\n",
    "\n",
    "# BEGIN STRATEGY_BEST2\n",
    "\n",
    "promos = [globals()[name] for name in globals()  # <1>\n",
    "            if name.endswith('_promo')  # <2>\n",
    "            and name != 'best_promo']   # <3>\n",
    "\n",
    "def best_promo(order):\n",
    "    \"\"\"Select best discount available\n",
    "    \"\"\"\n",
    "    return max(promo(order) for promo in promos)  # <4>\n",
    "\n",
    "# END STRATEGY_BEST2\n"
   ]
  },
  {
   "cell_type": "code",
   "execution_count": 36,
   "id": "4c08bb1e",
   "metadata": {},
   "outputs": [
    {
     "data": {
      "text/plain": [
       "<Order total: 42.00 due: 42.00>"
      ]
     },
     "execution_count": 36,
     "metadata": {},
     "output_type": "execute_result"
    }
   ],
   "source": [
    "joe = Customer('John Doe', 0)\n",
    "ann = Customer('Ann Smith', 1100)\n",
    "cart = [LineItem('banana', 4, .5),\n",
    "        LineItem('apple', 10, 1.5),\n",
    "        LineItem('watermellon', 5, 5.0)]\n",
    "Order(joe, cart, fidelity_promo)"
   ]
  },
  {
   "cell_type": "code",
   "execution_count": 37,
   "id": "80a10a0d",
   "metadata": {},
   "outputs": [
    {
     "data": {
      "text/plain": [
       "<Order total: 42.00 due: 39.90>"
      ]
     },
     "execution_count": 37,
     "metadata": {},
     "output_type": "execute_result"
    }
   ],
   "source": [
    "Order(ann, cart, fidelity_promo)"
   ]
  },
  {
   "cell_type": "code",
   "execution_count": 38,
   "id": "c0311f00",
   "metadata": {},
   "outputs": [
    {
     "data": {
      "text/plain": [
       "<Order total: 30.00 due: 28.50>"
      ]
     },
     "execution_count": 38,
     "metadata": {},
     "output_type": "execute_result"
    }
   ],
   "source": [
    "banana_cart = [LineItem('banana', 30, .5),\n",
    "               LineItem('apple', 10, 1.5)]\n",
    "Order(joe, banana_cart, bulk_item_promo)"
   ]
  },
  {
   "cell_type": "code",
   "execution_count": 39,
   "id": "f833d2a1",
   "metadata": {},
   "outputs": [
    {
     "data": {
      "text/plain": [
       "<Order total: 10.00 due: 9.30>"
      ]
     },
     "execution_count": 39,
     "metadata": {},
     "output_type": "execute_result"
    }
   ],
   "source": [
    "long_order = [LineItem(str(item_code), 1, 1.0)\n",
    "              for item_code in range(10)]\n",
    "Order(joe, long_order, large_order_promo)"
   ]
  },
  {
   "cell_type": "code",
   "execution_count": 40,
   "id": "7eac6f65",
   "metadata": {},
   "outputs": [
    {
     "data": {
      "text/plain": [
       "<Order total: 10.00 due: 9.30>"
      ]
     },
     "execution_count": 40,
     "metadata": {},
     "output_type": "execute_result"
    }
   ],
   "source": [
    "Order(joe, long_order, best_promo)"
   ]
  },
  {
   "cell_type": "code",
   "execution_count": 41,
   "id": "a3f42e93",
   "metadata": {},
   "outputs": [
    {
     "data": {
      "text/plain": [
       "<Order total: 30.00 due: 28.50>"
      ]
     },
     "execution_count": 41,
     "metadata": {},
     "output_type": "execute_result"
    }
   ],
   "source": [
    "Order(joe, banana_cart, best_promo)"
   ]
  },
  {
   "cell_type": "code",
   "execution_count": 42,
   "id": "c4b20817",
   "metadata": {},
   "outputs": [
    {
     "data": {
      "text/plain": [
       "<Order total: 42.00 due: 39.90>"
      ]
     },
     "execution_count": 42,
     "metadata": {},
     "output_type": "execute_result"
    }
   ],
   "source": [
    "Order(ann, cart, best_promo)"
   ]
  },
  {
   "cell_type": "code",
   "execution_count": 46,
   "id": "bd9dbf5b",
   "metadata": {},
   "outputs": [
    {
     "data": {
      "text/plain": [
       "['D:\\\\books\\\\python\\\\0.   Fluent Python, 2nd Edition',\n",
       " 'D:/books/python/0.   Fluent Python, 2nd Edition/example-code/06-dp-1class-func',\n",
       " 'C:\\\\Users\\\\lidan\\\\miniconda3\\\\python38.zip',\n",
       " 'C:\\\\Users\\\\lidan\\\\miniconda3\\\\DLLs',\n",
       " 'C:\\\\Users\\\\lidan\\\\miniconda3\\\\lib',\n",
       " 'C:\\\\Users\\\\lidan\\\\miniconda3',\n",
       " '',\n",
       " 'C:\\\\Users\\\\lidan\\\\AppData\\\\Roaming\\\\Python\\\\Python38\\\\site-packages',\n",
       " 'C:\\\\Users\\\\lidan\\\\miniconda3\\\\lib\\\\site-packages',\n",
       " 'C:\\\\Users\\\\lidan\\\\miniconda3\\\\lib\\\\site-packages\\\\magic_impute-2.0.4-py3.8.egg',\n",
       " 'C:\\\\Users\\\\lidan\\\\miniconda3\\\\lib\\\\site-packages\\\\seqc-0.2.0-py3.8.egg',\n",
       " 'C:\\\\Users\\\\lidan\\\\miniconda3\\\\lib\\\\site-packages\\\\weasyprint-56.1-py3.8.egg',\n",
       " 'C:\\\\Users\\\\lidan\\\\miniconda3\\\\lib\\\\site-packages\\\\cairocffi-1.3.0-py3.8.egg',\n",
       " 'C:\\\\Users\\\\lidan\\\\miniconda3\\\\lib\\\\site-packages\\\\win32',\n",
       " 'C:\\\\Users\\\\lidan\\\\miniconda3\\\\lib\\\\site-packages\\\\win32\\\\lib',\n",
       " 'C:\\\\Users\\\\lidan\\\\miniconda3\\\\lib\\\\site-packages\\\\Pythonwin',\n",
       " 'C:\\\\Users\\\\lidan\\\\miniconda3\\\\lib\\\\site-packages\\\\IPython\\\\extensions',\n",
       " 'C:\\\\Users\\\\lidan\\\\.ipython']"
      ]
     },
     "execution_count": 46,
     "metadata": {},
     "output_type": "execute_result"
    }
   ],
   "source": [
    "import sys\n",
    "    # caution: path[0] is reserved for script path (or '' in REPL)\n",
    "sys.path.insert(1, 'D:/books/python/0.   Fluent Python, 2nd Edition/example-code/06-dp-1class-func')\n",
    "sys.path"
   ]
  },
  {
   "cell_type": "code",
   "execution_count": 47,
   "id": "5b529771",
   "metadata": {},
   "outputs": [],
   "source": [
    "# strategy_best3.py\n",
    "# Strategy pattern -- function-based implementation\n",
    "# selecting best promotion from imported module\n",
    "\n",
    "\"\"\"\n",
    "    >>> from promotions import *\n",
    "    >>> joe = Customer('John Doe', 0)\n",
    "    >>> ann = Customer('Ann Smith', 1100)\n",
    "    >>> cart = [LineItem('banana', 4, .5),\n",
    "    ...         LineItem('apple', 10, 1.5),\n",
    "    ...         LineItem('watermellon', 5, 5.0)]\n",
    "    >>> Order(joe, cart, fidelity_promo)\n",
    "    <Order total: 42.00 due: 42.00>\n",
    "    >>> Order(ann, cart, fidelity_promo)\n",
    "    <Order total: 42.00 due: 39.90>\n",
    "    >>> banana_cart = [LineItem('banana', 30, .5),\n",
    "    ...                LineItem('apple', 10, 1.5)]\n",
    "    >>> Order(joe, banana_cart, bulk_item_promo)\n",
    "    <Order total: 30.00 due: 28.50>\n",
    "    >>> long_order = [LineItem(str(item_code), 1, 1.0)\n",
    "    ...               for item_code in range(10)]\n",
    "    >>> Order(joe, long_order, large_order_promo)\n",
    "    <Order total: 10.00 due: 9.30>\n",
    "    >>> Order(joe, cart, large_order_promo)\n",
    "    <Order total: 42.00 due: 42.00>\n",
    "\n",
    "# BEGIN STRATEGY_BEST_TESTS\n",
    "\n",
    "    >>> Order(joe, long_order, best_promo)\n",
    "    <Order total: 10.00 due: 9.30>\n",
    "    >>> Order(joe, banana_cart, best_promo)\n",
    "    <Order total: 30.00 due: 28.50>\n",
    "    >>> Order(ann, cart, best_promo)\n",
    "    <Order total: 42.00 due: 39.90>\n",
    "\n",
    "# END STRATEGY_BEST_TESTS\n",
    "\"\"\"\n",
    "\n",
    "from collections import namedtuple\n",
    "import inspect\n",
    "\n",
    "import promotions\n",
    "\n",
    "Customer = namedtuple('Customer', 'name fidelity')\n",
    "\n",
    "\n",
    "class LineItem:\n",
    "\n",
    "    def __init__(self, product, quantity, price):\n",
    "        self.product = product\n",
    "        self.quantity = quantity\n",
    "        self.price = price\n",
    "\n",
    "    def total(self):\n",
    "        return self.price * self.quantity\n",
    "\n",
    "\n",
    "class Order:  # the Context\n",
    "\n",
    "    def __init__(self, customer, cart, promotion=None):\n",
    "        self.customer = customer\n",
    "        self.cart = list(cart)\n",
    "        self.promotion = promotion\n",
    "\n",
    "    def total(self):\n",
    "        if not hasattr(self, '__total'):\n",
    "            self.__total = sum(item.total() for item in self.cart)\n",
    "        return self.__total\n",
    "\n",
    "    def due(self):\n",
    "        if self.promotion is None:\n",
    "            discount = 0\n",
    "        else:\n",
    "            discount = self.promotion(self)\n",
    "        return self.total() - discount\n",
    "\n",
    "    def __repr__(self):\n",
    "        fmt = '<Order total: {:.2f} due: {:.2f}>'\n",
    "        return fmt.format(self.total(), self.due())\n",
    "\n",
    "# BEGIN STRATEGY_BEST3\n",
    "\n",
    "promos = [func for name, func in\n",
    "                inspect.getmembers(promotions, inspect.isfunction)]\n",
    "\n",
    "def best_promo(order):\n",
    "    \"\"\"Select best discount available\n",
    "    \"\"\"\n",
    "    return max(promo(order) for promo in promos)\n",
    "\n",
    "# END STRATEGY_BEST3\n",
    "\n",
    "\n"
   ]
  },
  {
   "cell_type": "code",
   "execution_count": 48,
   "id": "029f25e3",
   "metadata": {},
   "outputs": [
    {
     "data": {
      "text/plain": [
       "[('bulk_item_promo', <function promotions.bulk_item_promo(order)>),\n",
       " ('fidelity_promo', <function promotions.fidelity_promo(order)>),\n",
       " ('large_order_promo', <function promotions.large_order_promo(order)>)]"
      ]
     },
     "execution_count": 48,
     "metadata": {},
     "output_type": "execute_result"
    }
   ],
   "source": [
    "inspect.getmembers(promotions, inspect.isfunction)"
   ]
  },
  {
   "cell_type": "code",
   "execution_count": 49,
   "id": "e690bc95",
   "metadata": {},
   "outputs": [
    {
     "data": {
      "text/plain": [
       "[<function promotions.bulk_item_promo(order)>,\n",
       " <function promotions.fidelity_promo(order)>,\n",
       " <function promotions.large_order_promo(order)>]"
      ]
     },
     "execution_count": 49,
     "metadata": {},
     "output_type": "execute_result"
    }
   ],
   "source": [
    "[func for name, func in inspect.getmembers(promotions, inspect.isfunction)]"
   ]
  },
  {
   "cell_type": "code",
   "execution_count": 54,
   "id": "68f245e4",
   "metadata": {},
   "outputs": [],
   "source": [
    "# strategy.py\n",
    "# Strategy pattern -- function-based implementation\n",
    "\n",
    "\"\"\"\n",
    "# BEGIN STRATEGY_TESTS\n",
    "\n",
    "    >>> joe = Customer('John Doe', 0)  # <1>\n",
    "    >>> ann = Customer('Ann Smith', 1100)\n",
    "    >>> cart = [LineItem('banana', 4, .5),\n",
    "    ...         LineItem('apple', 10, 1.5),\n",
    "    ...         LineItem('watermellon', 5, 5.0)]\n",
    "    >>> Order(joe, cart, fidelity_promo)  # <2>\n",
    "    <Order total: 42.00 due: 42.00>\n",
    "    >>> Order(ann, cart, fidelity_promo)\n",
    "    <Order total: 42.00 due: 39.90>\n",
    "    >>> banana_cart = [LineItem('banana', 30, .5),\n",
    "    ...                LineItem('apple', 10, 1.5)]\n",
    "    >>> Order(joe, banana_cart, bulk_item_promo)  # <3>\n",
    "    <Order total: 30.00 due: 28.50>\n",
    "    >>> long_order = [LineItem(str(item_code), 1, 1.0)\n",
    "    ...               for item_code in range(10)]\n",
    "    >>> Order(joe, long_order, large_order_promo)\n",
    "    <Order total: 10.00 due: 9.30>\n",
    "    >>> Order(joe, cart, large_order_promo)\n",
    "    <Order total: 42.00 due: 42.00>\n",
    "\n",
    "# END STRATEGY_TESTS\n",
    "\"\"\"\n",
    "# BEGIN STRATEGY\n",
    "\n",
    "from collections import namedtuple\n",
    "\n",
    "Customer = namedtuple('Customer', 'name fidelity')\n",
    "\n",
    "\n",
    "class LineItem:\n",
    "\n",
    "    def __init__(self, product, quantity, price):\n",
    "        self.product = product\n",
    "        self.quantity = quantity\n",
    "        self.price = price\n",
    "\n",
    "    def total(self):\n",
    "        return self.price * self.quantity\n",
    "\n",
    "\n",
    "class Order:  # the Context\n",
    "\n",
    "    def __init__(self, customer, cart, promotion=None):\n",
    "        self.customer = customer\n",
    "        self.cart = list(cart)\n",
    "        self.promotion = promotion\n",
    "\n",
    "    def total(self):\n",
    "        if not hasattr(self, '__total'):\n",
    "            self.__total = sum(item.total() for item in self.cart)\n",
    "        return self.__total\n",
    "\n",
    "    def due(self):\n",
    "        if self.promotion is None:\n",
    "            discount = 0\n",
    "        else:\n",
    "            discount = self.promotion(self)  # <1>\n",
    "        return self.total() - discount\n",
    "\n",
    "    def __repr__(self):\n",
    "        fmt = '<Order total: {:.2f} due: {:.2f}>'\n",
    "        return fmt.format(self.total(), self.due())\n",
    "\n",
    "# <2>\n",
    "\n",
    "def fidelity_promo(order):  # <3>\n",
    "    \"\"\"5% discount for customers with 1000 or more fidelity points\"\"\"\n",
    "    return order.total() * .05 if order.customer.fidelity >= 1000 else 0\n",
    "\n",
    "\n",
    "def bulk_item_promo(order):\n",
    "    \"\"\"10% discount for each LineItem with 20 or more units\"\"\"\n",
    "    discount = 0\n",
    "    for item in order.cart:\n",
    "        if item.quantity >= 20:\n",
    "            discount += item.total() * .1\n",
    "    return discount\n",
    "\n",
    "\n",
    "def large_order_promo(order):\n",
    "    \"\"\"7% discount for orders with 10 or more distinct items\"\"\"\n",
    "    distinct_items = {item.product for item in order.cart}\n",
    "    if len(distinct_items) >= 10:\n",
    "        return order.total() * .07\n",
    "    return 0\n",
    "\n",
    "# END STRATEGY\n",
    "promos = [globals()[name] for name in globals() if name.endswith('_promo') and name != 'best_promo']\n",
    "def best_promo(order):\n",
    "    \"\"\"Select best discount available\n",
    "    \"\"\"\n",
    "    return max(promo(order) for promo in promos)"
   ]
  },
  {
   "cell_type": "code",
   "execution_count": 52,
   "id": "237b8a5c",
   "metadata": {},
   "outputs": [
    {
     "data": {
      "text/plain": [
       "[<function __main__.fidelity_promo(order)>,\n",
       " <function __main__.bulk_item_promo(order)>,\n",
       " <function __main__.large_order_promo(order)>]"
      ]
     },
     "execution_count": 52,
     "metadata": {},
     "output_type": "execute_result"
    }
   ],
   "source": [
    "[globals()[name] for name in globals() if name.endswith('_promo') and name != 'best_promo']"
   ]
  },
  {
   "cell_type": "code",
   "execution_count": null,
   "id": "59e4ec6b",
   "metadata": {},
   "outputs": [],
   "source": []
  }
 ],
 "metadata": {
  "kernelspec": {
   "display_name": "Python 3 (ipykernel)",
   "language": "python",
   "name": "python3"
  },
  "language_info": {
   "codemirror_mode": {
    "name": "ipython",
    "version": 3
   },
   "file_extension": ".py",
   "mimetype": "text/x-python",
   "name": "python",
   "nbconvert_exporter": "python",
   "pygments_lexer": "ipython3",
   "version": "3.8.13"
  }
 },
 "nbformat": 4,
 "nbformat_minor": 5
}
