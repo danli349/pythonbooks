{
 "cells": [
  {
   "cell_type": "code",
   "execution_count": 1,
   "id": "c0801b7d",
   "metadata": {},
   "outputs": [
    {
     "data": {
      "text/plain": [
       "['D:\\\\books\\\\python\\\\0.   Fluent Python, 2nd Edition',\n",
       " 'D:/books/python/0.   Fluent Python, 2nd Edition/example-code-2e/12-seq-hacking/',\n",
       " 'C:\\\\Users\\\\lidan\\\\miniconda3\\\\python38.zip',\n",
       " 'C:\\\\Users\\\\lidan\\\\miniconda3\\\\DLLs',\n",
       " 'C:\\\\Users\\\\lidan\\\\miniconda3\\\\lib',\n",
       " 'C:\\\\Users\\\\lidan\\\\miniconda3',\n",
       " '',\n",
       " 'C:\\\\Users\\\\lidan\\\\AppData\\\\Roaming\\\\Python\\\\Python38\\\\site-packages',\n",
       " 'C:\\\\Users\\\\lidan\\\\miniconda3\\\\lib\\\\site-packages',\n",
       " 'C:\\\\Users\\\\lidan\\\\miniconda3\\\\lib\\\\site-packages\\\\magic_impute-2.0.4-py3.8.egg',\n",
       " 'C:\\\\Users\\\\lidan\\\\miniconda3\\\\lib\\\\site-packages\\\\seqc-0.2.0-py3.8.egg',\n",
       " 'C:\\\\Users\\\\lidan\\\\miniconda3\\\\lib\\\\site-packages\\\\weasyprint-56.1-py3.8.egg',\n",
       " 'C:\\\\Users\\\\lidan\\\\miniconda3\\\\lib\\\\site-packages\\\\cairocffi-1.3.0-py3.8.egg',\n",
       " 'C:\\\\Users\\\\lidan\\\\miniconda3\\\\lib\\\\site-packages\\\\win32',\n",
       " 'C:\\\\Users\\\\lidan\\\\miniconda3\\\\lib\\\\site-packages\\\\win32\\\\lib',\n",
       " 'C:\\\\Users\\\\lidan\\\\miniconda3\\\\lib\\\\site-packages\\\\Pythonwin']"
      ]
     },
     "execution_count": 1,
     "metadata": {},
     "output_type": "execute_result"
    }
   ],
   "source": [
    "import sys\n",
    "    # caution: path[0] is reserved for script path (or '' in REPL)\n",
    "sys.path.insert(1, 'D:/books/python/0.   Fluent Python, 2nd Edition/example-code-2e/12-seq-hacking/')\n",
    "sys.path"
   ]
  },
  {
   "cell_type": "code",
   "execution_count": 7,
   "id": "40ccb817",
   "metadata": {},
   "outputs": [],
   "source": [
    "\"\"\"\n",
    "A multi-dimensional ``Vector`` class, take 1\n",
    "\n",
    "A ``Vector`` is built from an iterable of numbers::\n",
    "\n",
    "    >>> Vector([3.1, 4.2])\n",
    "    Vector([3.1, 4.2])\n",
    "    >>> Vector((3, 4, 5))\n",
    "    Vector([3.0, 4.0, 5.0])\n",
    "    >>> Vector(range(10))\n",
    "    Vector([0.0, 1.0, 2.0, 3.0, 4.0, ...])\n",
    "\n",
    "\n",
    "Tests with 2-dimensions (same results as ``vector2d_v1.py``)::\n",
    "\n",
    "    >>> v1 = Vector([3, 4])\n",
    "    >>> x, y = v1\n",
    "    >>> x, y\n",
    "    (3.0, 4.0)\n",
    "    >>> v1\n",
    "    Vector([3.0, 4.0])\n",
    "    >>> v1_clone = eval(repr(v1))\n",
    "    >>> v1 == v1_clone\n",
    "    True\n",
    "    >>> print(v1)\n",
    "    (3.0, 4.0)\n",
    "    >>> octets = bytes(v1)\n",
    "    >>> octets\n",
    "    b'd\\\\x00\\\\x00\\\\x00\\\\x00\\\\x00\\\\x00\\\\x08@\\\\x00\\\\x00\\\\x00\\\\x00\\\\x00\\\\x00\\\\x10@'\n",
    "    >>> abs(v1)\n",
    "    5.0\n",
    "    >>> bool(v1), bool(Vector([0, 0]))\n",
    "    (True, False)\n",
    "\n",
    "\n",
    "Test of ``.frombytes()`` class method:\n",
    "\n",
    "    >>> v1_clone = Vector.frombytes(bytes(v1))\n",
    "    >>> v1_clone\n",
    "    Vector([3.0, 4.0])\n",
    "    >>> v1 == v1_clone\n",
    "    True\n",
    "\n",
    "\n",
    "Tests with 3-dimensions::\n",
    "\n",
    "    >>> v1 = Vector([3, 4, 5])\n",
    "    >>> x, y, z = v1\n",
    "    >>> x, y, z\n",
    "    (3.0, 4.0, 5.0)\n",
    "    >>> v1\n",
    "    Vector([3.0, 4.0, 5.0])\n",
    "    >>> v1_clone = eval(repr(v1))\n",
    "    >>> v1 == v1_clone\n",
    "    True\n",
    "    >>> print(v1)\n",
    "    (3.0, 4.0, 5.0)\n",
    "    >>> abs(v1)  # doctest:+ELLIPSIS\n",
    "    7.071067811...\n",
    "    >>> bool(v1), bool(Vector([0, 0, 0]))\n",
    "    (True, False)\n",
    "\n",
    "\n",
    "Tests with many dimensions::\n",
    "\n",
    "    >>> v7 = Vector(range(7))\n",
    "    >>> v7\n",
    "    Vector([0.0, 1.0, 2.0, 3.0, 4.0, ...])\n",
    "    >>> abs(v7)  # doctest:+ELLIPSIS\n",
    "    9.53939201...\n",
    "\n",
    "\n",
    "Test of ``.__bytes__`` and ``.frombytes()`` methods::\n",
    "\n",
    "    >>> v1 = Vector([3, 4, 5])\n",
    "    >>> v1_clone = Vector.frombytes(bytes(v1))\n",
    "    >>> v1_clone\n",
    "    Vector([3.0, 4.0, 5.0])\n",
    "    >>> v1 == v1_clone\n",
    "    True\n",
    "\n",
    "\n",
    "\"\"\"\n",
    "\n",
    "# tag::VECTOR_V1[]\n",
    "from array import array\n",
    "import reprlib\n",
    "import math\n",
    "\n",
    "\n",
    "class Vector:\n",
    "    typecode = 'd'\n",
    "\n",
    "    def __init__(self, components):\n",
    "        self._components = array(self.typecode, components)  # <1>\n",
    "\n",
    "    def __iter__(self):\n",
    "        return iter(self._components)  # <2>\n",
    "\n",
    "    def __repr__(self):\n",
    "        components = reprlib.repr(self._components)  # <3>\n",
    "        components = components[components.find('['):-1]  # <4>\n",
    "        return f'Vector({components})'\n",
    "\n",
    "    def __str__(self):\n",
    "        return str(tuple(self))\n",
    "\n",
    "    def __bytes__(self):\n",
    "        return (bytes([ord(self.typecode)]) +\n",
    "                bytes(self._components))  # <5>\n",
    "\n",
    "    def __eq__(self, other):\n",
    "        return tuple(self) == tuple(other)\n",
    "\n",
    "    def __abs__(self):\n",
    "        return math.hypot(*self)  # <6>\n",
    "\n",
    "    def __bool__(self):\n",
    "        return bool(abs(self))\n",
    "\n",
    "    @classmethod\n",
    "    def frombytes(cls, octets):\n",
    "        typecode = chr(octets[0])\n",
    "        memv = memoryview(octets[1:]).cast(typecode)\n",
    "        return cls(memv)  # <7>\n",
    "# end::VECTOR_V1[]\n"
   ]
  },
  {
   "cell_type": "code",
   "execution_count": 9,
   "id": "7a46f7b7",
   "metadata": {},
   "outputs": [
    {
     "data": {
      "text/plain": [
       "b'd'"
      ]
     },
     "execution_count": 9,
     "metadata": {},
     "output_type": "execute_result"
    }
   ],
   "source": [
    "bytes([ord('d')])"
   ]
  },
  {
   "cell_type": "code",
   "execution_count": 10,
   "id": "ea2a4b1a",
   "metadata": {},
   "outputs": [],
   "source": [
    "import collections\n",
    "Card = collections.namedtuple('Card', ['rank', 'suit'])\n",
    "class FrenchDeck:\n",
    "    ranks = [str(n) for n in range(2, 11)] + list('JQKA')\n",
    "    suits = 'spades diamonds clubs hearts'.split()\n",
    "    def __init__(self):\n",
    "        self._cards = [Card(rank, suit) for suit in self.suits\n",
    "                       for rank in self.ranks]\n",
    "    def __len__(self):\n",
    "        return len(self._cards)\n",
    "    def __getitem__(self, position):\n",
    "        return self._cards[position]"
   ]
  },
  {
   "cell_type": "code",
   "execution_count": 23,
   "id": "495f476a",
   "metadata": {},
   "outputs": [],
   "source": [
    "\"\"\"\n",
    "A multi-dimensional ``Vector`` class, take 2\n",
    "\n",
    "A ``Vector`` is built from an iterable of numbers::\n",
    "\n",
    "    >>> Vector([3.1, 4.2])\n",
    "    Vector([3.1, 4.2])\n",
    "    >>> Vector((3, 4, 5))\n",
    "    Vector([3.0, 4.0, 5.0])\n",
    "    >>> Vector(range(10))\n",
    "    Vector([0.0, 1.0, 2.0, 3.0, 4.0, ...])\n",
    "\n",
    "\n",
    "Tests with 2-dimensions (same results as ``vector2d_v1.py``)::\n",
    "\n",
    "    >>> v1 = Vector([3, 4])\n",
    "    >>> x, y = v1\n",
    "    >>> x, y\n",
    "    (3.0, 4.0)\n",
    "    >>> v1\n",
    "    Vector([3.0, 4.0])\n",
    "    >>> v1_clone = eval(repr(v1))\n",
    "    >>> v1 == v1_clone\n",
    "    True\n",
    "    >>> print(v1)\n",
    "    (3.0, 4.0)\n",
    "    >>> octets = bytes(v1)\n",
    "    >>> octets\n",
    "    b'd\\\\x00\\\\x00\\\\x00\\\\x00\\\\x00\\\\x00\\\\x08@\\\\x00\\\\x00\\\\x00\\\\x00\\\\x00\\\\x00\\\\x10@'\n",
    "    >>> abs(v1)\n",
    "    5.0\n",
    "    >>> bool(v1), bool(Vector([0, 0]))\n",
    "    (True, False)\n",
    "\n",
    "\n",
    "Test of ``.frombytes()`` class method:\n",
    "\n",
    "    >>> v1_clone = Vector.frombytes(bytes(v1))\n",
    "    >>> v1_clone\n",
    "    Vector([3.0, 4.0])\n",
    "    >>> v1 == v1_clone\n",
    "    True\n",
    "\n",
    "\n",
    "Tests with 3-dimensions::\n",
    "\n",
    "    >>> v1 = Vector([3, 4, 5])\n",
    "    >>> x, y, z = v1\n",
    "    >>> x, y, z\n",
    "    (3.0, 4.0, 5.0)\n",
    "    >>> v1\n",
    "    Vector([3.0, 4.0, 5.0])\n",
    "    >>> v1_clone = eval(repr(v1))\n",
    "    >>> v1 == v1_clone\n",
    "    True\n",
    "    >>> print(v1)\n",
    "    (3.0, 4.0, 5.0)\n",
    "    >>> abs(v1)  # doctest:+ELLIPSIS\n",
    "    7.071067811...\n",
    "    >>> bool(v1), bool(Vector([0, 0, 0]))\n",
    "    (True, False)\n",
    "\n",
    "\n",
    "Tests with many dimensions::\n",
    "\n",
    "    >>> v7 = Vector(range(7))\n",
    "    >>> v7\n",
    "    Vector([0.0, 1.0, 2.0, 3.0, 4.0, ...])\n",
    "    >>> abs(v7)  # doctest:+ELLIPSIS\n",
    "    9.53939201...\n",
    "\n",
    "\n",
    "Test of ``.__bytes__`` and ``.frombytes()`` methods::\n",
    "\n",
    "    >>> v1 = Vector([3, 4, 5])\n",
    "    >>> v1_clone = Vector.frombytes(bytes(v1))\n",
    "    >>> v1_clone\n",
    "    Vector([3.0, 4.0, 5.0])\n",
    "    >>> v1 == v1_clone\n",
    "    True\n",
    "\n",
    "\n",
    "Tests of sequence behavior::\n",
    "\n",
    "    >>> v1 = Vector([3, 4, 5])\n",
    "    >>> len(v1)\n",
    "    3\n",
    "    >>> v1[0], v1[len(v1)-1], v1[-1]\n",
    "    (3.0, 5.0, 5.0)\n",
    "\n",
    "\n",
    "Test of slicing::\n",
    "\n",
    "# tag::VECTOR_V2_DEMO[]\n",
    "\n",
    "    >>> v7 = Vector(range(7))\n",
    "    >>> v7[-1]  # <1>\n",
    "    6.0\n",
    "    >>> v7[1:4]  # <2>\n",
    "    Vector([1.0, 2.0, 3.0])\n",
    "    >>> v7[-1:]  # <3>\n",
    "    Vector([6.0])\n",
    "    >>> v7[1,2]  # <4>\n",
    "    Traceback (most recent call last):\n",
    "      ...\n",
    "    TypeError: 'tuple' object cannot be interpreted as an integer\n",
    "\n",
    "# end::VECTOR_V2_DEMO[]\n",
    "\n",
    "\"\"\"\n",
    "\n",
    "from array import array\n",
    "import reprlib\n",
    "import math\n",
    "import operator\n",
    "\n",
    "\n",
    "class Vector:\n",
    "    typecode = 'd'\n",
    "\n",
    "    def __init__(self, components):\n",
    "        self._components = array(self.typecode, components)\n",
    "\n",
    "    def __iter__(self):\n",
    "        return iter(self._components)\n",
    "\n",
    "    def __repr__(self):\n",
    "        components = reprlib.repr(self._components)\n",
    "        components = components[components.find('['):-1]\n",
    "        return f'Vector({components})'\n",
    "\n",
    "    def __str__(self):\n",
    "        return str(tuple(self))\n",
    "\n",
    "    def __bytes__(self):\n",
    "        return (bytes([ord(self.typecode)]) +\n",
    "                bytes(self._components))\n",
    "\n",
    "    def __eq__(self, other):\n",
    "        return tuple(self) == tuple(other)\n",
    "\n",
    "    def __abs__(self):\n",
    "        return math.hypot(*self)\n",
    "\n",
    "    def __bool__(self):\n",
    "        return bool(abs(self))\n",
    "\n",
    "# tag::VECTOR_V2[]\n",
    "    def __len__(self):\n",
    "        return len(self._components)\n",
    "\n",
    "    def __getitem__(self, key):\n",
    "        if isinstance(key, slice):  # <1>\n",
    "            cls = type(self)  # <2>\n",
    "            return cls(self._components[key])  # <3>\n",
    "        index = operator.index(key)  # <4>\n",
    "        return self._components[index]  # <5>\n",
    "# end::VECTOR_V2[]\n",
    "\n",
    "    @classmethod\n",
    "    def frombytes(cls, octets):\n",
    "        typecode = chr(octets[0])\n",
    "        memv = memoryview(octets[1:]).cast(typecode)\n",
    "        return cls(memv)\n"
   ]
  },
  {
   "cell_type": "code",
   "execution_count": 24,
   "id": "91dd313a",
   "metadata": {},
   "outputs": [
    {
     "data": {
      "text/plain": [
       "3"
      ]
     },
     "execution_count": 24,
     "metadata": {},
     "output_type": "execute_result"
    }
   ],
   "source": [
    "v1 = Vector([3, 4, 5])\n",
    "len(v1)"
   ]
  },
  {
   "cell_type": "code",
   "execution_count": 25,
   "id": "3bcb1f6e",
   "metadata": {},
   "outputs": [
    {
     "data": {
      "text/plain": [
       "(3.0, 5.0, 5.0)"
      ]
     },
     "execution_count": 25,
     "metadata": {},
     "output_type": "execute_result"
    }
   ],
   "source": [
    "v1[0], v1[len(v1)-1], v1[-1]"
   ]
  },
  {
   "cell_type": "code",
   "execution_count": 26,
   "id": "dbac0104",
   "metadata": {},
   "outputs": [
    {
     "data": {
      "text/plain": [
       "6.0"
      ]
     },
     "execution_count": 26,
     "metadata": {},
     "output_type": "execute_result"
    }
   ],
   "source": [
    "v7 = Vector(range(7))\n",
    "v7[-1]  # <1>"
   ]
  },
  {
   "cell_type": "code",
   "execution_count": 27,
   "id": "c5548d9a",
   "metadata": {},
   "outputs": [
    {
     "data": {
      "text/plain": [
       "Vector([0.0, 1.0, 2.0, 3.0, 4.0, ...])"
      ]
     },
     "execution_count": 27,
     "metadata": {},
     "output_type": "execute_result"
    }
   ],
   "source": [
    "v7"
   ]
  },
  {
   "cell_type": "code",
   "execution_count": 28,
   "id": "6bd6374f",
   "metadata": {},
   "outputs": [
    {
     "data": {
      "text/plain": [
       "Vector([1.0, 2.0, 3.0])"
      ]
     },
     "execution_count": 28,
     "metadata": {},
     "output_type": "execute_result"
    }
   ],
   "source": [
    "v7[1:4]  # <2>"
   ]
  },
  {
   "cell_type": "code",
   "execution_count": 29,
   "id": "384f0271",
   "metadata": {},
   "outputs": [
    {
     "data": {
      "text/plain": [
       "Vector([6.0])"
      ]
     },
     "execution_count": 29,
     "metadata": {},
     "output_type": "execute_result"
    }
   ],
   "source": [
    "v7[-1:]  # <3>"
   ]
  },
  {
   "cell_type": "code",
   "execution_count": 30,
   "id": "f913476e",
   "metadata": {},
   "outputs": [
    {
     "data": {
      "text/plain": [
       "(1.0, 2.0)"
      ]
     },
     "execution_count": 30,
     "metadata": {},
     "output_type": "execute_result"
    }
   ],
   "source": [
    "v7[1], v7[2]  "
   ]
  },
  {
   "cell_type": "code",
   "execution_count": 31,
   "id": "d5cb4aec",
   "metadata": {},
   "outputs": [
    {
     "data": {
      "text/plain": [
       "Vector([1.0])"
      ]
     },
     "execution_count": 31,
     "metadata": {},
     "output_type": "execute_result"
    }
   ],
   "source": [
    "v7[1:2]"
   ]
  },
  {
   "cell_type": "code",
   "execution_count": 32,
   "id": "846cfcf6",
   "metadata": {},
   "outputs": [
    {
     "ename": "TypeError",
     "evalue": "'tuple' object cannot be interpreted as an integer",
     "output_type": "error",
     "traceback": [
      "\u001b[1;31m---------------------------------------------------------------------------\u001b[0m",
      "\u001b[1;31mTypeError\u001b[0m                                 Traceback (most recent call last)",
      "Input \u001b[1;32mIn [32]\u001b[0m, in \u001b[0;36m<cell line: 1>\u001b[1;34m()\u001b[0m\n\u001b[1;32m----> 1\u001b[0m \u001b[43mv7\u001b[49m\u001b[43m[\u001b[49m\u001b[38;5;241;43m1\u001b[39;49m\u001b[43m,\u001b[49m\u001b[38;5;241;43m2\u001b[39;49m\u001b[43m]\u001b[49m\n",
      "Input \u001b[1;32mIn [23]\u001b[0m, in \u001b[0;36mVector.__getitem__\u001b[1;34m(self, key)\u001b[0m\n\u001b[0;32m    154\u001b[0m     \u001b[38;5;28mcls\u001b[39m \u001b[38;5;241m=\u001b[39m \u001b[38;5;28mtype\u001b[39m(\u001b[38;5;28mself\u001b[39m)  \u001b[38;5;66;03m# <2>\u001b[39;00m\n\u001b[0;32m    155\u001b[0m     \u001b[38;5;28;01mreturn\u001b[39;00m \u001b[38;5;28mcls\u001b[39m(\u001b[38;5;28mself\u001b[39m\u001b[38;5;241m.\u001b[39m_components[key])  \u001b[38;5;66;03m# <3>\u001b[39;00m\n\u001b[1;32m--> 156\u001b[0m index \u001b[38;5;241m=\u001b[39m \u001b[43moperator\u001b[49m\u001b[38;5;241;43m.\u001b[39;49m\u001b[43mindex\u001b[49m\u001b[43m(\u001b[49m\u001b[43mkey\u001b[49m\u001b[43m)\u001b[49m  \u001b[38;5;66;03m# <4>\u001b[39;00m\n\u001b[0;32m    157\u001b[0m \u001b[38;5;28;01mreturn\u001b[39;00m \u001b[38;5;28mself\u001b[39m\u001b[38;5;241m.\u001b[39m_components[index]\n",
      "\u001b[1;31mTypeError\u001b[0m: 'tuple' object cannot be interpreted as an integer"
     ]
    }
   ],
   "source": [
    "v7[1,2]  # <4>"
   ]
  },
  {
   "cell_type": "code",
   "execution_count": 33,
   "id": "6a05ef74",
   "metadata": {},
   "outputs": [
    {
     "data": {
      "text/plain": [
       "1"
      ]
     },
     "execution_count": 33,
     "metadata": {},
     "output_type": "execute_result"
    }
   ],
   "source": [
    "class MySeq:\n",
    "    def __getitem__(self, index):\n",
    "        return index\n",
    "\n",
    "s = MySeq()\n",
    "s[1]"
   ]
  },
  {
   "cell_type": "code",
   "execution_count": 34,
   "id": "beab9ab3",
   "metadata": {},
   "outputs": [
    {
     "data": {
      "text/plain": [
       "slice(1, 4, None)"
      ]
     },
     "execution_count": 34,
     "metadata": {},
     "output_type": "execute_result"
    }
   ],
   "source": [
    "s[1:4]"
   ]
  },
  {
   "cell_type": "code",
   "execution_count": 35,
   "id": "ef8d6d07",
   "metadata": {},
   "outputs": [
    {
     "data": {
      "text/plain": [
       "slice(1, 4, 2)"
      ]
     },
     "execution_count": 35,
     "metadata": {},
     "output_type": "execute_result"
    }
   ],
   "source": [
    "s[1:4:2]"
   ]
  },
  {
   "cell_type": "code",
   "execution_count": 36,
   "id": "472953ef",
   "metadata": {},
   "outputs": [
    {
     "data": {
      "text/plain": [
       "(slice(1, 4, 2), 9)"
      ]
     },
     "execution_count": 36,
     "metadata": {},
     "output_type": "execute_result"
    }
   ],
   "source": [
    "s[1:4:2, 9]"
   ]
  },
  {
   "cell_type": "code",
   "execution_count": 37,
   "id": "c00c90df",
   "metadata": {},
   "outputs": [
    {
     "data": {
      "text/plain": [
       "(slice(1, 4, 2), slice(7, 9, None))"
      ]
     },
     "execution_count": 37,
     "metadata": {},
     "output_type": "execute_result"
    }
   ],
   "source": [
    "s[1:4:2, 7:9]"
   ]
  },
  {
   "cell_type": "code",
   "execution_count": 40,
   "id": "ec48f4ba",
   "metadata": {},
   "outputs": [
    {
     "data": {
      "text/plain": [
       "type"
      ]
     },
     "execution_count": 40,
     "metadata": {},
     "output_type": "execute_result"
    }
   ],
   "source": [
    "type(slice)"
   ]
  },
  {
   "cell_type": "code",
   "execution_count": 39,
   "id": "3111a8a1",
   "metadata": {},
   "outputs": [
    {
     "data": {
      "text/plain": [
       "['__class__',\n",
       " '__delattr__',\n",
       " '__dir__',\n",
       " '__doc__',\n",
       " '__eq__',\n",
       " '__format__',\n",
       " '__ge__',\n",
       " '__getattribute__',\n",
       " '__gt__',\n",
       " '__hash__',\n",
       " '__init__',\n",
       " '__init_subclass__',\n",
       " '__le__',\n",
       " '__lt__',\n",
       " '__ne__',\n",
       " '__new__',\n",
       " '__reduce__',\n",
       " '__reduce_ex__',\n",
       " '__repr__',\n",
       " '__setattr__',\n",
       " '__sizeof__',\n",
       " '__str__',\n",
       " '__subclasshook__',\n",
       " 'indices',\n",
       " 'start',\n",
       " 'step',\n",
       " 'stop']"
      ]
     },
     "execution_count": 39,
     "metadata": {},
     "output_type": "execute_result"
    }
   ],
   "source": [
    "dir(slice)"
   ]
  },
  {
   "cell_type": "code",
   "execution_count": 41,
   "id": "8b0f4b0f",
   "metadata": {},
   "outputs": [
    {
     "name": "stdout",
     "output_type": "stream",
     "text": [
      "Help on method_descriptor:\n",
      "\n",
      "indices(...)\n",
      "    S.indices(len) -> (start, stop, stride)\n",
      "    \n",
      "    Assuming a sequence of length len, calculate the start and stop\n",
      "    indices, and the stride length of the extended slice described by\n",
      "    S. Out of bounds indices are clipped in a manner consistent with the\n",
      "    handling of normal slices.\n",
      "\n"
     ]
    }
   ],
   "source": [
    "help(slice.indices)"
   ]
  },
  {
   "cell_type": "code",
   "execution_count": 42,
   "id": "bbc1e989",
   "metadata": {},
   "outputs": [
    {
     "data": {
      "text/plain": [
       "(0, 5, 2)"
      ]
     },
     "execution_count": 42,
     "metadata": {},
     "output_type": "execute_result"
    }
   ],
   "source": [
    "slice(None, 10, 2).indices(5)"
   ]
  },
  {
   "cell_type": "code",
   "execution_count": 43,
   "id": "b9acef2a",
   "metadata": {},
   "outputs": [
    {
     "data": {
      "text/plain": [
       "(2, 5, 1)"
      ]
     },
     "execution_count": 43,
     "metadata": {},
     "output_type": "execute_result"
    }
   ],
   "source": [
    "slice(-3, None, None).indices(5)"
   ]
  },
  {
   "cell_type": "code",
   "execution_count": 47,
   "id": "45182806",
   "metadata": {},
   "outputs": [
    {
     "data": {
      "text/plain": [
       "True"
      ]
     },
     "execution_count": 47,
     "metadata": {},
     "output_type": "execute_result"
    }
   ],
   "source": [
    "isinstance(slice(None, 10, 2), slice)"
   ]
  },
  {
   "cell_type": "code",
   "execution_count": 49,
   "id": "dfaaeb09",
   "metadata": {},
   "outputs": [
    {
     "data": {
      "text/plain": [
       "True"
      ]
     },
     "execution_count": 49,
     "metadata": {},
     "output_type": "execute_result"
    }
   ],
   "source": [
    "isinstance(slice(2), slice)"
   ]
  },
  {
   "cell_type": "code",
   "execution_count": 50,
   "id": "38743054",
   "metadata": {},
   "outputs": [
    {
     "data": {
      "text/plain": [
       "Vector([1.0])"
      ]
     },
     "execution_count": 50,
     "metadata": {},
     "output_type": "execute_result"
    }
   ],
   "source": [
    "Vector([1.0])"
   ]
  },
  {
   "cell_type": "code",
   "execution_count": 55,
   "id": "f85c342e",
   "metadata": {},
   "outputs": [
    {
     "name": "stdout",
     "output_type": "stream",
     "text": [
      "Help on built-in function index in module _operator:\n",
      "\n",
      "index(a, /)\n",
      "    Same as a.__index__()\n",
      "\n"
     ]
    }
   ],
   "source": [
    "help(operator.index)"
   ]
  },
  {
   "cell_type": "code",
   "execution_count": 54,
   "id": "c21d8ecc",
   "metadata": {},
   "outputs": [
    {
     "data": {
      "text/plain": [
       "1"
      ]
     },
     "execution_count": 54,
     "metadata": {},
     "output_type": "execute_result"
    }
   ],
   "source": [
    "operator.index(1)"
   ]
  },
  {
   "cell_type": "code",
   "execution_count": 56,
   "id": "6bce40d3",
   "metadata": {},
   "outputs": [],
   "source": [
    "\"\"\"\n",
    "A multi-dimensional ``Vector`` class, take 3\n",
    "\n",
    "A ``Vector`` is built from an iterable of numbers::\n",
    "\n",
    "    >>> Vector([3.1, 4.2])\n",
    "    Vector([3.1, 4.2])\n",
    "    >>> Vector((3, 4, 5))\n",
    "    Vector([3.0, 4.0, 5.0])\n",
    "    >>> Vector(range(10))\n",
    "    Vector([0.0, 1.0, 2.0, 3.0, 4.0, ...])\n",
    "\n",
    "\n",
    "Tests with 2-dimensions (same results as ``vector2d_v1.py``)::\n",
    "\n",
    "    >>> v1 = Vector([3, 4])\n",
    "    >>> x, y = v1\n",
    "    >>> x, y\n",
    "    (3.0, 4.0)\n",
    "    >>> v1\n",
    "    Vector([3.0, 4.0])\n",
    "    >>> v1_clone = eval(repr(v1))\n",
    "    >>> v1 == v1_clone\n",
    "    True\n",
    "    >>> print(v1)\n",
    "    (3.0, 4.0)\n",
    "    >>> octets = bytes(v1)\n",
    "    >>> octets\n",
    "    b'd\\\\x00\\\\x00\\\\x00\\\\x00\\\\x00\\\\x00\\\\x08@\\\\x00\\\\x00\\\\x00\\\\x00\\\\x00\\\\x00\\\\x10@'\n",
    "    >>> abs(v1)\n",
    "    5.0\n",
    "    >>> bool(v1), bool(Vector([0, 0]))\n",
    "    (True, False)\n",
    "\n",
    "\n",
    "Test of ``.frombytes()`` class method:\n",
    "\n",
    "    >>> v1_clone = Vector.frombytes(bytes(v1))\n",
    "    >>> v1_clone\n",
    "    Vector([3.0, 4.0])\n",
    "    >>> v1 == v1_clone\n",
    "    True\n",
    "\n",
    "\n",
    "Tests with 3-dimensions::\n",
    "\n",
    "    >>> v1 = Vector([3, 4, 5])\n",
    "    >>> x, y, z = v1\n",
    "    >>> x, y, z\n",
    "    (3.0, 4.0, 5.0)\n",
    "    >>> v1\n",
    "    Vector([3.0, 4.0, 5.0])\n",
    "    >>> v1_clone = eval(repr(v1))\n",
    "    >>> v1 == v1_clone\n",
    "    True\n",
    "    >>> print(v1)\n",
    "    (3.0, 4.0, 5.0)\n",
    "    >>> abs(v1)  # doctest:+ELLIPSIS\n",
    "    7.071067811...\n",
    "    >>> bool(v1), bool(Vector([0, 0, 0]))\n",
    "    (True, False)\n",
    "\n",
    "\n",
    "Tests with many dimensions::\n",
    "\n",
    "    >>> v7 = Vector(range(7))\n",
    "    >>> v7\n",
    "    Vector([0.0, 1.0, 2.0, 3.0, 4.0, ...])\n",
    "    >>> abs(v7)  # doctest:+ELLIPSIS\n",
    "    9.53939201...\n",
    "\n",
    "\n",
    "Test of ``.__bytes__`` and ``.frombytes()`` methods::\n",
    "\n",
    "    >>> v1 = Vector([3, 4, 5])\n",
    "    >>> v1_clone = Vector.frombytes(bytes(v1))\n",
    "    >>> v1_clone\n",
    "    Vector([3.0, 4.0, 5.0])\n",
    "    >>> v1 == v1_clone\n",
    "    True\n",
    "\n",
    "\n",
    "Tests of sequence behavior::\n",
    "\n",
    "    >>> v1 = Vector([3, 4, 5])\n",
    "    >>> len(v1)\n",
    "    3\n",
    "    >>> v1[0], v1[len(v1)-1], v1[-1]\n",
    "    (3.0, 5.0, 5.0)\n",
    "\n",
    "\n",
    "Test of slicing::\n",
    "\n",
    "    >>> v7 = Vector(range(7))\n",
    "    >>> v7[-1]\n",
    "    6.0\n",
    "    >>> v7[1:4]\n",
    "    Vector([1.0, 2.0, 3.0])\n",
    "    >>> v7[-1:]\n",
    "    Vector([6.0])\n",
    "    >>> v7[1,2]\n",
    "    Traceback (most recent call last):\n",
    "      ...\n",
    "    TypeError: 'tuple' object cannot be interpreted as an integer\n",
    "\n",
    "\n",
    "Tests of dynamic attribute access::\n",
    "\n",
    "    >>> v7 = Vector(range(10))\n",
    "    >>> v7.x\n",
    "    0.0\n",
    "    >>> v7.y, v7.z, v7.t\n",
    "    (1.0, 2.0, 3.0)\n",
    "\n",
    "\n",
    "Dynamic attribute lookup failures::\n",
    "\n",
    "    >>> v7.k\n",
    "    Traceback (most recent call last):\n",
    "      ...\n",
    "    AttributeError: 'Vector' object has no attribute 'k'\n",
    "    >>> v3 = Vector(range(3))\n",
    "    >>> v3.t\n",
    "    Traceback (most recent call last):\n",
    "      ...\n",
    "    AttributeError: 'Vector' object has no attribute 't'\n",
    "    >>> v3.spam\n",
    "    Traceback (most recent call last):\n",
    "      ...\n",
    "    AttributeError: 'Vector' object has no attribute 'spam'\n",
    "\n",
    "\n",
    "Tests of preventing attributes from 'a' to 'z'::\n",
    "\n",
    "    >>> v1.x = 7\n",
    "    Traceback (most recent call last):\n",
    "      ...\n",
    "    AttributeError: readonly attribute 'x'\n",
    "    >>> v1.w = 7\n",
    "    Traceback (most recent call last):\n",
    "      ...\n",
    "    AttributeError: can't set attributes 'a' to 'z' in 'Vector'\n",
    "\n",
    "Other attributes can be set::\n",
    "\n",
    "    >>> v1.X = 'albatross'\n",
    "    >>> v1.X\n",
    "    'albatross'\n",
    "    >>> v1.ni = 'Ni!'\n",
    "    >>> v1.ni\n",
    "    'Ni!'\n",
    "\n",
    "\"\"\"\n",
    "\n",
    "from array import array\n",
    "import reprlib\n",
    "import math\n",
    "import operator\n",
    "\n",
    "\n",
    "class Vector:\n",
    "    typecode = 'd'\n",
    "\n",
    "    def __init__(self, components):\n",
    "        self._components = array(self.typecode, components)\n",
    "\n",
    "    def __iter__(self):\n",
    "        return iter(self._components)\n",
    "\n",
    "    def __repr__(self):\n",
    "        components = reprlib.repr(self._components)\n",
    "        components = components[components.find('['):-1]\n",
    "        return f'Vector({components})'\n",
    "\n",
    "    def __str__(self):\n",
    "        return str(tuple(self))\n",
    "\n",
    "    def __bytes__(self):\n",
    "        return (bytes([ord(self.typecode)]) +\n",
    "                bytes(self._components))\n",
    "\n",
    "    def __eq__(self, other):\n",
    "        return tuple(self) == tuple(other)\n",
    "\n",
    "    def __abs__(self):\n",
    "        return math.hypot(*self)\n",
    "\n",
    "    def __bool__(self):\n",
    "        return bool(abs(self))\n",
    "\n",
    "    def __len__(self):\n",
    "        return len(self._components)\n",
    "\n",
    "    def __getitem__(self, key):\n",
    "        if isinstance(key, slice):\n",
    "            cls = type(self)\n",
    "            return cls(self._components[key])\n",
    "        index = operator.index(key)\n",
    "        return self._components[index]\n",
    "\n",
    "# tag::VECTOR_V3_GETATTR[]\n",
    "    __match_args__ = ('x', 'y', 'z', 't')  # <1>\n",
    "\n",
    "    def __getattr__(self, name):\n",
    "        cls = type(self)  # <2>\n",
    "        try:\n",
    "            pos = cls.__match_args__.index(name)  # <3>\n",
    "        except ValueError:  # <4>\n",
    "            pos = -1\n",
    "        if 0 <= pos < len(self._components):  # <5>\n",
    "            return self._components[pos]\n",
    "        msg = f'{cls.__name__!r} object has no attribute {name!r}'  # <6>\n",
    "        raise AttributeError(msg)\n",
    "# end::VECTOR_V3_GETATTR[]\n",
    "\n",
    "# tag::VECTOR_V3_SETATTR[]\n",
    "    def __setattr__(self, name, value):\n",
    "        cls = type(self)\n",
    "        if len(name) == 1:  # <1>\n",
    "            if name in cls.__match_args__:  # <2>\n",
    "                error = 'readonly attribute {attr_name!r}'\n",
    "            elif name.islower():  # <3>\n",
    "                error = \"can't set attributes 'a' to 'z' in {cls_name!r}\"\n",
    "            else:\n",
    "                error = ''  # <4>\n",
    "            if error:  # <5>\n",
    "                msg = error.format(cls_name=cls.__name__, attr_name=name)\n",
    "                raise AttributeError(msg)\n",
    "        super().__setattr__(name, value)  # <6>\n",
    "\n",
    "# end::VECTOR_V3_SETATTR[]\n",
    "\n",
    "    @classmethod\n",
    "    def frombytes(cls, octets):\n",
    "        typecode = chr(octets[0])\n",
    "        memv = memoryview(octets[1:]).cast(typecode)\n",
    "        return cls(memv)\n"
   ]
  },
  {
   "cell_type": "code",
   "execution_count": 57,
   "id": "2c69166a",
   "metadata": {},
   "outputs": [
    {
     "data": {
      "text/plain": [
       "0"
      ]
     },
     "execution_count": 57,
     "metadata": {},
     "output_type": "execute_result"
    }
   ],
   "source": [
    "__match_args__ = ('x', 'y', 'z', 't')\n",
    "__match_args__.index('x')"
   ]
  },
  {
   "cell_type": "code",
   "execution_count": 58,
   "id": "b460c812",
   "metadata": {},
   "outputs": [
    {
     "data": {
      "text/plain": [
       "1"
      ]
     },
     "execution_count": 58,
     "metadata": {},
     "output_type": "execute_result"
    }
   ],
   "source": [
    "__match_args__.index('y')"
   ]
  },
  {
   "cell_type": "code",
   "execution_count": 59,
   "id": "dfa7af16",
   "metadata": {},
   "outputs": [],
   "source": [
    "\"\"\"\n",
    "A multi-dimensional ``Vector`` class, take 4\n",
    "\n",
    "A ``Vector`` is built from an iterable of numbers::\n",
    "\n",
    "    >>> Vector([3.1, 4.2])\n",
    "    Vector([3.1, 4.2])\n",
    "    >>> Vector((3, 4, 5))\n",
    "    Vector([3.0, 4.0, 5.0])\n",
    "    >>> Vector(range(10))\n",
    "    Vector([0.0, 1.0, 2.0, 3.0, 4.0, ...])\n",
    "\n",
    "\n",
    "Tests with 2-dimensions (same results as ``vector2d_v1.py``)::\n",
    "\n",
    "    >>> v1 = Vector([3, 4])\n",
    "    >>> x, y = v1\n",
    "    >>> x, y\n",
    "    (3.0, 4.0)\n",
    "    >>> v1\n",
    "    Vector([3.0, 4.0])\n",
    "    >>> v1_clone = eval(repr(v1))\n",
    "    >>> v1 == v1_clone\n",
    "    True\n",
    "    >>> print(v1)\n",
    "    (3.0, 4.0)\n",
    "    >>> octets = bytes(v1)\n",
    "    >>> octets\n",
    "    b'd\\\\x00\\\\x00\\\\x00\\\\x00\\\\x00\\\\x00\\\\x08@\\\\x00\\\\x00\\\\x00\\\\x00\\\\x00\\\\x00\\\\x10@'\n",
    "    >>> abs(v1)\n",
    "    5.0\n",
    "    >>> bool(v1), bool(Vector([0, 0]))\n",
    "    (True, False)\n",
    "\n",
    "\n",
    "Test of ``.frombytes()`` class method:\n",
    "\n",
    "    >>> v1_clone = Vector.frombytes(bytes(v1))\n",
    "    >>> v1_clone\n",
    "    Vector([3.0, 4.0])\n",
    "    >>> v1 == v1_clone\n",
    "    True\n",
    "\n",
    "\n",
    "Tests with 3-dimensions::\n",
    "\n",
    "    >>> v1 = Vector([3, 4, 5])\n",
    "    >>> x, y, z = v1\n",
    "    >>> x, y, z\n",
    "    (3.0, 4.0, 5.0)\n",
    "    >>> v1\n",
    "    Vector([3.0, 4.0, 5.0])\n",
    "    >>> v1_clone = eval(repr(v1))\n",
    "    >>> v1 == v1_clone\n",
    "    True\n",
    "    >>> print(v1)\n",
    "    (3.0, 4.0, 5.0)\n",
    "    >>> abs(v1)  # doctest:+ELLIPSIS\n",
    "    7.071067811...\n",
    "    >>> bool(v1), bool(Vector([0, 0, 0]))\n",
    "    (True, False)\n",
    "\n",
    "\n",
    "Tests with many dimensions::\n",
    "\n",
    "    >>> v7 = Vector(range(7))\n",
    "    >>> v7\n",
    "    Vector([0.0, 1.0, 2.0, 3.0, 4.0, ...])\n",
    "    >>> abs(v7)  # doctest:+ELLIPSIS\n",
    "    9.53939201...\n",
    "\n",
    "\n",
    "Test of ``.__bytes__`` and ``.frombytes()`` methods::\n",
    "\n",
    "    >>> v1 = Vector([3, 4, 5])\n",
    "    >>> v1_clone = Vector.frombytes(bytes(v1))\n",
    "    >>> v1_clone\n",
    "    Vector([3.0, 4.0, 5.0])\n",
    "    >>> v1 == v1_clone\n",
    "    True\n",
    "\n",
    "\n",
    "Tests of sequence behavior::\n",
    "\n",
    "    >>> v1 = Vector([3, 4, 5])\n",
    "    >>> len(v1)\n",
    "    3\n",
    "    >>> v1[0], v1[len(v1)-1], v1[-1]\n",
    "    (3.0, 5.0, 5.0)\n",
    "\n",
    "\n",
    "Test of slicing::\n",
    "\n",
    "    >>> v7 = Vector(range(7))\n",
    "    >>> v7[-1]\n",
    "    6.0\n",
    "    >>> v7[1:4]\n",
    "    Vector([1.0, 2.0, 3.0])\n",
    "    >>> v7[-1:]\n",
    "    Vector([6.0])\n",
    "    >>> v7[1,2]\n",
    "    Traceback (most recent call last):\n",
    "      ...\n",
    "    TypeError: 'tuple' object cannot be interpreted as an integer\n",
    "\n",
    "\n",
    "Tests of dynamic attribute access::\n",
    "\n",
    "    >>> v7 = Vector(range(10))\n",
    "    >>> v7.x\n",
    "    0.0\n",
    "    >>> v7.y, v7.z, v7.t\n",
    "    (1.0, 2.0, 3.0)\n",
    "\n",
    "Dynamic attribute lookup failures::\n",
    "\n",
    "    >>> v7.k\n",
    "    Traceback (most recent call last):\n",
    "      ...\n",
    "    AttributeError: 'Vector' object has no attribute 'k'\n",
    "    >>> v3 = Vector(range(3))\n",
    "    >>> v3.t\n",
    "    Traceback (most recent call last):\n",
    "      ...\n",
    "    AttributeError: 'Vector' object has no attribute 't'\n",
    "    >>> v3.spam\n",
    "    Traceback (most recent call last):\n",
    "      ...\n",
    "    AttributeError: 'Vector' object has no attribute 'spam'\n",
    "\n",
    "\n",
    "Tests of hashing::\n",
    "\n",
    "    >>> v1 = Vector([3, 4])\n",
    "    >>> v2 = Vector([3.1, 4.2])\n",
    "    >>> v3 = Vector([3, 4, 5])\n",
    "    >>> v6 = Vector(range(6))\n",
    "    >>> hash(v1), hash(v3), hash(v6)\n",
    "    (7, 2, 1)\n",
    "\n",
    "\n",
    "Most hash codes of non-integers vary from a 32-bit to 64-bit CPython build::\n",
    "\n",
    "    >>> import sys\n",
    "    >>> hash(v2) == (384307168202284039 if sys.maxsize > 2**32 else 357915986)\n",
    "    True\n",
    "\n",
    "\"\"\"\n",
    "\n",
    "from array import array\n",
    "import reprlib\n",
    "import math\n",
    "import functools\n",
    "import operator\n",
    "\n",
    "\n",
    "class Vector:\n",
    "    typecode = 'd'\n",
    "\n",
    "    def __init__(self, components):\n",
    "        self._components = array(self.typecode, components)\n",
    "\n",
    "    def __iter__(self):\n",
    "        return iter(self._components)\n",
    "\n",
    "    def __repr__(self):\n",
    "        components = reprlib.repr(self._components)\n",
    "        components = components[components.find('['):-1]\n",
    "        return f'Vector({components})'\n",
    "\n",
    "    def __str__(self):\n",
    "        return str(tuple(self))\n",
    "\n",
    "    def __bytes__(self):\n",
    "        return (bytes([ord(self.typecode)]) +\n",
    "                bytes(self._components))\n",
    "\n",
    "    def __eq__(self, other):\n",
    "        return (len(self) == len(other) and\n",
    "                all(a == b for a, b in zip(self, other)))\n",
    "\n",
    "    def __hash__(self):\n",
    "        hashes = (hash(x) for x in self)\n",
    "        return functools.reduce(operator.xor, hashes, 0)\n",
    "\n",
    "    def __abs__(self):\n",
    "        return math.hypot(*self)\n",
    "\n",
    "    def __bool__(self):\n",
    "        return bool(abs(self))\n",
    "\n",
    "    def __len__(self):\n",
    "        return len(self._components)\n",
    "\n",
    "    def __getitem__(self, key):\n",
    "        if isinstance(key, slice):\n",
    "            cls = type(self)\n",
    "            return cls(self._components[key])\n",
    "        index = operator.index(key)\n",
    "        return self._components[index]\n",
    "\n",
    "    __match_args__ = ('x', 'y', 'z', 't')\n",
    "\n",
    "    def __getattr__(self, name):\n",
    "        cls = type(self)\n",
    "        try:\n",
    "            pos = cls.__match_args__.index(name)\n",
    "        except ValueError:\n",
    "            pos = -1\n",
    "        if 0 <= pos < len(self._components):\n",
    "            return self._components[pos]\n",
    "        msg = f'{cls.__name__!r} object has no attribute {name!r}'\n",
    "        raise AttributeError(msg)\n",
    "\n",
    "    @classmethod\n",
    "    def frombytes(cls, octets):\n",
    "        typecode = chr(octets[0])\n",
    "        memv = memoryview(octets[1:]).cast(typecode)\n",
    "        return cls(memv)\n"
   ]
  },
  {
   "cell_type": "code",
   "execution_count": 60,
   "id": "0fd36ee9",
   "metadata": {},
   "outputs": [
    {
     "data": {
      "text/plain": [
       "120"
      ]
     },
     "execution_count": 60,
     "metadata": {},
     "output_type": "execute_result"
    }
   ],
   "source": [
    "import functools\n",
    "functools.reduce(lambda a,b: a*b, range(1, 6))"
   ]
  },
  {
   "cell_type": "code",
   "execution_count": 65,
   "id": "a7123d16",
   "metadata": {},
   "outputs": [
    {
     "name": "stdout",
     "output_type": "stream",
     "text": [
      "1 1\n",
      "3 2\n",
      "0 3\n",
      "4 4\n",
      "1 5\n"
     ]
    }
   ],
   "source": [
    "n = 0\n",
    "for i in range(1, 6):\n",
    "    n ^= i\n",
    "    print(n, i)"
   ]
  },
  {
   "cell_type": "code",
   "execution_count": 69,
   "id": "f7bed8f6",
   "metadata": {},
   "outputs": [
    {
     "data": {
      "text/plain": [
       "(1, 3, 0, 4, 1)"
      ]
     },
     "execution_count": 69,
     "metadata": {},
     "output_type": "execute_result"
    }
   ],
   "source": [
    "0^1, 1^2, 3^3, 0^4, 4^5"
   ]
  },
  {
   "cell_type": "code",
   "execution_count": 70,
   "id": "285f1548",
   "metadata": {},
   "outputs": [
    {
     "data": {
      "text/plain": [
       "1"
      ]
     },
     "execution_count": 70,
     "metadata": {},
     "output_type": "execute_result"
    }
   ],
   "source": [
    "import functools\n",
    "functools.reduce(lambda a, b: a^b, range(6))"
   ]
  },
  {
   "cell_type": "code",
   "execution_count": 71,
   "id": "5ad242dc",
   "metadata": {},
   "outputs": [
    {
     "data": {
      "text/plain": [
       "1"
      ]
     },
     "execution_count": 71,
     "metadata": {},
     "output_type": "execute_result"
    }
   ],
   "source": [
    "import operator\n",
    "functools.reduce(operator.xor, range(6))"
   ]
  },
  {
   "cell_type": "code",
   "execution_count": 6,
   "id": "2768017f",
   "metadata": {},
   "outputs": [],
   "source": [
    "# tag::VECTOR_V5[]\n",
    "\"\"\"\n",
    "A multidimensional ``Vector`` class, take 5\n",
    "\n",
    "A ``Vector`` is built from an iterable of numbers::\n",
    "\n",
    "    >>> Vector([3.1, 4.2])\n",
    "    Vector([3.1, 4.2])\n",
    "    >>> Vector((3, 4, 5))\n",
    "    Vector([3.0, 4.0, 5.0])\n",
    "    >>> Vector(range(10))\n",
    "    Vector([0.0, 1.0, 2.0, 3.0, 4.0, ...])\n",
    "\n",
    "\n",
    "Tests with two dimensions (same results as ``vector2d_v1.py``)::\n",
    "\n",
    "    >>> v1 = Vector([3, 4])\n",
    "    >>> x, y = v1\n",
    "    >>> x, y\n",
    "    (3.0, 4.0)\n",
    "    >>> v1\n",
    "    Vector([3.0, 4.0])\n",
    "    >>> v1_clone = eval(repr(v1))\n",
    "    >>> v1 == v1_clone\n",
    "    True\n",
    "    >>> print(v1)\n",
    "    (3.0, 4.0)\n",
    "    >>> octets = bytes(v1)\n",
    "    >>> octets\n",
    "    b'd\\\\x00\\\\x00\\\\x00\\\\x00\\\\x00\\\\x00\\\\x08@\\\\x00\\\\x00\\\\x00\\\\x00\\\\x00\\\\x00\\\\x10@'\n",
    "    >>> abs(v1)\n",
    "    5.0\n",
    "    >>> bool(v1), bool(Vector([0, 0]))\n",
    "    (True, False)\n",
    "\n",
    "\n",
    "Test of ``.frombytes()`` class method:\n",
    "\n",
    "    >>> v1_clone = Vector.frombytes(bytes(v1))\n",
    "    >>> v1_clone\n",
    "    Vector([3.0, 4.0])\n",
    "    >>> v1 == v1_clone\n",
    "    True\n",
    "\n",
    "\n",
    "Tests with three dimensions::\n",
    "\n",
    "    >>> v1 = Vector([3, 4, 5])\n",
    "    >>> x, y, z = v1\n",
    "    >>> x, y, z\n",
    "    (3.0, 4.0, 5.0)\n",
    "    >>> v1\n",
    "    Vector([3.0, 4.0, 5.0])\n",
    "    >>> v1_clone = eval(repr(v1))\n",
    "    >>> v1 == v1_clone\n",
    "    True\n",
    "    >>> print(v1)\n",
    "    (3.0, 4.0, 5.0)\n",
    "    >>> abs(v1)  # doctest:+ELLIPSIS\n",
    "    7.071067811...\n",
    "    >>> bool(v1), bool(Vector([0, 0, 0]))\n",
    "    (True, False)\n",
    "\n",
    "\n",
    "Tests with many dimensions::\n",
    "\n",
    "    >>> v7 = Vector(range(7))\n",
    "    >>> v7\n",
    "    Vector([0.0, 1.0, 2.0, 3.0, 4.0, ...])\n",
    "    >>> abs(v7)  # doctest:+ELLIPSIS\n",
    "    9.53939201...\n",
    "\n",
    "\n",
    "Test of ``.__bytes__`` and ``.frombytes()`` methods::\n",
    "\n",
    "    >>> v1 = Vector([3, 4, 5])\n",
    "    >>> v1_clone = Vector.frombytes(bytes(v1))\n",
    "    >>> v1_clone\n",
    "    Vector([3.0, 4.0, 5.0])\n",
    "    >>> v1 == v1_clone\n",
    "    True\n",
    "\n",
    "\n",
    "Tests of sequence behavior::\n",
    "\n",
    "    >>> v1 = Vector([3, 4, 5])\n",
    "    >>> len(v1)\n",
    "    3\n",
    "    >>> v1[0], v1[len(v1)-1], v1[-1]\n",
    "    (3.0, 5.0, 5.0)\n",
    "\n",
    "\n",
    "Test of slicing::\n",
    "\n",
    "    >>> v7 = Vector(range(7))\n",
    "    >>> v7[-1]\n",
    "    6.0\n",
    "    >>> v7[1:4]\n",
    "    Vector([1.0, 2.0, 3.0])\n",
    "    >>> v7[-1:]\n",
    "    Vector([6.0])\n",
    "    >>> v7[1,2]\n",
    "    Traceback (most recent call last):\n",
    "      ...\n",
    "    TypeError: 'tuple' object cannot be interpreted as an integer\n",
    "\n",
    "\n",
    "Tests of dynamic attribute access::\n",
    "\n",
    "    >>> v7 = Vector(range(10))\n",
    "    >>> v7.x\n",
    "    0.0\n",
    "    >>> v7.y, v7.z, v7.t\n",
    "    (1.0, 2.0, 3.0)\n",
    "\n",
    "Dynamic attribute lookup failures::\n",
    "\n",
    "    >>> v7.k\n",
    "    Traceback (most recent call last):\n",
    "      ...\n",
    "    AttributeError: 'Vector' object has no attribute 'k'\n",
    "    >>> v3 = Vector(range(3))\n",
    "    >>> v3.t\n",
    "    Traceback (most recent call last):\n",
    "      ...\n",
    "    AttributeError: 'Vector' object has no attribute 't'\n",
    "    >>> v3.spam\n",
    "    Traceback (most recent call last):\n",
    "      ...\n",
    "    AttributeError: 'Vector' object has no attribute 'spam'\n",
    "\n",
    "\n",
    "Tests of hashing::\n",
    "\n",
    "    >>> v1 = Vector([3, 4])\n",
    "    >>> v2 = Vector([3.1, 4.2])\n",
    "    >>> v3 = Vector([3, 4, 5])\n",
    "    >>> v6 = Vector(range(6))\n",
    "    >>> hash(v1), hash(v3), hash(v6)\n",
    "    (7, 2, 1)\n",
    "\n",
    "\n",
    "Most hash codes of non-integers vary from a 32-bit to 64-bit CPython build::\n",
    "\n",
    "    >>> import sys\n",
    "    >>> hash(v2) == (384307168202284039 if sys.maxsize > 2**32 else 357915986)\n",
    "    True\n",
    "\n",
    "\n",
    "Tests of ``format()`` with Cartesian coordinates in 2D::\n",
    "\n",
    "    >>> v1 = Vector([3, 4])\n",
    "    >>> format(v1)\n",
    "    '(3.0, 4.0)'\n",
    "    >>> format(v1, '.2f')\n",
    "    '(3.00, 4.00)'\n",
    "    >>> format(v1, '.3e')\n",
    "    '(3.000e+00, 4.000e+00)'\n",
    "\n",
    "\n",
    "Tests of ``format()`` with Cartesian coordinates in 3D and 7D::\n",
    "\n",
    "    >>> v3 = Vector([3, 4, 5])\n",
    "    >>> format(v3)\n",
    "    '(3.0, 4.0, 5.0)'\n",
    "    >>> format(Vector(range(7)))\n",
    "    '(0.0, 1.0, 2.0, 3.0, 4.0, 5.0, 6.0)'\n",
    "\n",
    "\n",
    "Tests of ``format()`` with spherical coordinates in 2D, 3D and 4D::\n",
    "\n",
    "    >>> format(Vector([1, 1]), 'h')  # doctest:+ELLIPSIS\n",
    "    '<1.414213..., 0.785398...>'\n",
    "    >>> format(Vector([1, 1]), '.3eh')\n",
    "    '<1.414e+00, 7.854e-01>'\n",
    "    >>> format(Vector([1, 1]), '0.5fh')\n",
    "    '<1.41421, 0.78540>'\n",
    "    >>> format(Vector([1, 1, 1]), 'h')  # doctest:+ELLIPSIS\n",
    "    '<1.73205..., 0.95531..., 0.78539...>'\n",
    "    >>> format(Vector([2, 2, 2]), '.3eh')\n",
    "    '<3.464e+00, 9.553e-01, 7.854e-01>'\n",
    "    >>> format(Vector([0, 0, 0]), '0.5fh')\n",
    "    '<0.00000, 0.00000, 0.00000>'\n",
    "    >>> format(Vector([-1, -1, -1, -1]), 'h')  # doctest:+ELLIPSIS\n",
    "    '<2.0, 2.09439..., 2.18627..., 3.92699...>'\n",
    "    >>> format(Vector([2, 2, 2, 2]), '.3eh')\n",
    "    '<4.000e+00, 1.047e+00, 9.553e-01, 7.854e-01>'\n",
    "    >>> format(Vector([0, 1, 0, 0]), '0.5fh')\n",
    "    '<1.00000, 1.57080, 0.00000, 0.00000>'\n",
    "\"\"\"\n",
    "\n",
    "from array import array\n",
    "import reprlib\n",
    "import math\n",
    "import functools\n",
    "import operator\n",
    "import itertools  # <1>\n",
    "\n",
    "\n",
    "class Vector:\n",
    "    typecode = 'd'\n",
    "\n",
    "    def __init__(self, components):\n",
    "        self._components = array(self.typecode, components)\n",
    "\n",
    "    def __iter__(self):\n",
    "        return iter(self._components)\n",
    "\n",
    "    def __repr__(self):\n",
    "        components = reprlib.repr(self._components)\n",
    "        components = components[components.find('['):-1]\n",
    "        return f'Vector({components})'\n",
    "\n",
    "    def __str__(self):\n",
    "        return str(tuple(self))\n",
    "\n",
    "    def __bytes__(self):\n",
    "        return (bytes([ord(self.typecode)]) +\n",
    "                bytes(self._components))\n",
    "\n",
    "    def __eq__(self, other):\n",
    "        return (len(self) == len(other) and\n",
    "                all(a == b for a, b in zip(self, other)))\n",
    "\n",
    "    def __hash__(self):\n",
    "        hashes = (hash(x) for x in self)\n",
    "        return functools.reduce(operator.xor, hashes, 0)\n",
    "\n",
    "    def __abs__(self):\n",
    "        return math.hypot(*self)\n",
    "\n",
    "    def __bool__(self):\n",
    "        return bool(abs(self))\n",
    "\n",
    "    def __len__(self):\n",
    "        return len(self._components)\n",
    "\n",
    "    def __getitem__(self, key):\n",
    "        if isinstance(key, slice):\n",
    "            cls = type(self)\n",
    "            return cls(self._components[key])\n",
    "        index = operator.index(key)\n",
    "        return self._components[index]\n",
    "\n",
    "    __match_args__ = ('x', 'y', 'z', 't')\n",
    "\n",
    "    def __getattr__(self, name):\n",
    "        cls = type(self)\n",
    "        try:\n",
    "            pos = cls.__match_args__.index(name)\n",
    "        except ValueError:\n",
    "            pos = -1\n",
    "        if 0 <= pos < len(self._components):\n",
    "            return self._components[pos]\n",
    "        msg = f'{cls.__name__!r} object has no attribute {name!r}'\n",
    "        raise AttributeError(msg)\n",
    "\n",
    "    def angle(self, n):  # <2>\n",
    "        r = math.hypot(*self[n:])\n",
    "        a = math.atan2(r, self[n-1])\n",
    "        if (n == len(self) - 1) and (self[-1] < 0):\n",
    "            return math.pi * 2 - a\n",
    "        else:\n",
    "            return a\n",
    "\n",
    "    def angles(self):  # <3>\n",
    "        return (self.angle(n) for n in range(1, len(self)))\n",
    "\n",
    "    def __format__(self, fmt_spec=''):\n",
    "        if fmt_spec.endswith('h'):  # hyperspherical coordinates\n",
    "            fmt_spec = fmt_spec[:-1]\n",
    "            coords = itertools.chain([abs(self)],\n",
    "                                     self.angles())  # <4>\n",
    "            outer_fmt = '<{}>'  # <5>\n",
    "        else:\n",
    "            coords = self\n",
    "            outer_fmt = '({})'  # <6>\n",
    "        components = (format(c, fmt_spec) for c in coords)  # <7>\n",
    "        return outer_fmt.format(', '.join(components))  # <8>\n",
    "\n",
    "    @classmethod\n",
    "    def frombytes(cls, octets):\n",
    "        typecode = chr(octets[0])\n",
    "        memv = memoryview(octets[1:]).cast(typecode)\n",
    "        return cls(memv)\n",
    "# end::VECTOR_V5[]\n"
   ]
  }
 ],
 "metadata": {
  "kernelspec": {
   "display_name": "Python 3 (ipykernel)",
   "language": "python",
   "name": "python3"
  },
  "language_info": {
   "codemirror_mode": {
    "name": "ipython",
    "version": 3
   },
   "file_extension": ".py",
   "mimetype": "text/x-python",
   "name": "python",
   "nbconvert_exporter": "python",
   "pygments_lexer": "ipython3",
   "version": "3.8.13"
  }
 },
 "nbformat": 4,
 "nbformat_minor": 5
}
