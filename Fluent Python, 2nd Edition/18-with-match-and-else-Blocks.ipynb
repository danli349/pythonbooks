{
 "cells": [
  {
   "cell_type": "code",
   "execution_count": 1,
   "id": "e8784982",
   "metadata": {},
   "outputs": [
    {
     "data": {
      "text/plain": [
       "['D:\\\\books\\\\python\\\\0.   Fluent Python, 2nd Edition',\n",
       " 'D:/books/python/0.   Fluent Python, 2nd Edition/example-code-2e/18-with-match/',\n",
       " 'C:\\\\Users\\\\lidan\\\\miniconda3\\\\python38.zip',\n",
       " 'C:\\\\Users\\\\lidan\\\\miniconda3\\\\DLLs',\n",
       " 'C:\\\\Users\\\\lidan\\\\miniconda3\\\\lib',\n",
       " 'C:\\\\Users\\\\lidan\\\\miniconda3',\n",
       " '',\n",
       " 'C:\\\\Users\\\\lidan\\\\AppData\\\\Roaming\\\\Python\\\\Python38\\\\site-packages',\n",
       " 'C:\\\\Users\\\\lidan\\\\miniconda3\\\\lib\\\\site-packages',\n",
       " 'C:\\\\Users\\\\lidan\\\\miniconda3\\\\lib\\\\site-packages\\\\magic_impute-2.0.4-py3.8.egg',\n",
       " 'C:\\\\Users\\\\lidan\\\\miniconda3\\\\lib\\\\site-packages\\\\seqc-0.2.0-py3.8.egg',\n",
       " 'C:\\\\Users\\\\lidan\\\\miniconda3\\\\lib\\\\site-packages\\\\weasyprint-56.1-py3.8.egg',\n",
       " 'C:\\\\Users\\\\lidan\\\\miniconda3\\\\lib\\\\site-packages\\\\cairocffi-1.3.0-py3.8.egg',\n",
       " 'C:\\\\Users\\\\lidan\\\\miniconda3\\\\lib\\\\site-packages\\\\win32',\n",
       " 'C:\\\\Users\\\\lidan\\\\miniconda3\\\\lib\\\\site-packages\\\\win32\\\\lib',\n",
       " 'C:\\\\Users\\\\lidan\\\\miniconda3\\\\lib\\\\site-packages\\\\Pythonwin']"
      ]
     },
     "execution_count": 1,
     "metadata": {},
     "output_type": "execute_result"
    }
   ],
   "source": [
    "import sys\n",
    "    # caution: path[0] is reserved for script path (or '' in REPL)\n",
    "sys.path.insert(1, 'D:/books/python/0.   Fluent Python, 2nd Edition/example-code-2e/18-with-match/')\n",
    "sys.path"
   ]
  },
  {
   "cell_type": "code",
   "execution_count": 2,
   "id": "884c5fcf",
   "metadata": {},
   "outputs": [],
   "source": [
    "\"\"\"\n",
    "A \"mirroring\" ``stdout`` context.\n",
    "\n",
    "While active, the context manager reverses text output to\n",
    "``stdout``::\n",
    "\n",
    "# tag::MIRROR_DEMO_1[]\n",
    "\n",
    "    >>> from mirror import LookingGlass\n",
    "    >>> with LookingGlass() as what:  # <1>\n",
    "    ...      print('Alice, Kitty and Snowdrop')  # <2>\n",
    "    ...      print(what)\n",
    "    ...\n",
    "    pordwonS dna yttiK ,ecilA\n",
    "    YKCOWREBBAJ\n",
    "    >>> what  # <3>\n",
    "    'JABBERWOCKY'\n",
    "    >>> print('Back to normal.')  # <4>\n",
    "    Back to normal.\n",
    "\n",
    "# end::MIRROR_DEMO_1[]\n",
    "\n",
    "\n",
    "This exposes the context manager operation::\n",
    "\n",
    "# tag::MIRROR_DEMO_2[]\n",
    "\n",
    "    >>> from mirror import LookingGlass\n",
    "    >>> manager = LookingGlass()  # <1>\n",
    "    >>> manager  # doctest: +ELLIPSIS\n",
    "    <mirror.LookingGlass object at 0x...>\n",
    "    >>> monster = manager.__enter__()  # <2>\n",
    "    >>> monster == 'JABBERWOCKY'  # <3>\n",
    "    eurT\n",
    "    >>> monster\n",
    "    'YKCOWREBBAJ'\n",
    "    >>> manager  # doctest: +ELLIPSIS\n",
    "    >... ta tcejbo ssalGgnikooL.rorrim<\n",
    "    >>> manager.__exit__(None, None, None)  # <4>\n",
    "    >>> monster\n",
    "    'JABBERWOCKY'\n",
    "\n",
    "# end::MIRROR_DEMO_2[]\n",
    "\n",
    "The context manager can handle and \"swallow\" exceptions.\n",
    "\n",
    "# tag::MIRROR_DEMO_3[]\n",
    "\n",
    "    >>> from mirror import LookingGlass\n",
    "    >>> with LookingGlass():\n",
    "    ...      print('Humpty Dumpty')\n",
    "    ...      x = 1/0  # <1>\n",
    "    ...      print('END')  # <2>\n",
    "    ...\n",
    "    ytpmuD ytpmuH\n",
    "    Please DO NOT divide by zero!\n",
    "    >>> with LookingGlass():\n",
    "    ...      print('Humpty Dumpty')\n",
    "    ...      x = no_such_name  # <1>\n",
    "    ...      print('END')  # <2>\n",
    "    ...\n",
    "    Traceback (most recent call last):\n",
    "      ...\n",
    "    NameError: name 'no_such_name' is not defined\n",
    "\n",
    "# end::MIRROR_DEMO_3[]\n",
    "\n",
    "\"\"\"\n",
    "\n",
    "\n",
    "# tag::MIRROR_EX[]\n",
    "import sys\n",
    "\n",
    "class LookingGlass:\n",
    "\n",
    "    def __enter__(self):  # <1>\n",
    "        self.original_write = sys.stdout.write  # <2>\n",
    "        sys.stdout.write = self.reverse_write  # <3>\n",
    "        return 'JABBERWOCKY'  # <4>\n",
    "\n",
    "    def reverse_write(self, text):  # <5>\n",
    "        self.original_write(text[::-1])\n",
    "\n",
    "    def __exit__(self, exc_type, exc_value, traceback):  # <6>\n",
    "        sys.stdout.write = self.original_write  # <7>\n",
    "        if exc_type is ZeroDivisionError:  # <8>\n",
    "            print('Please DO NOT divide by zero!')\n",
    "            return True  # <9>\n",
    "        # <10>\n",
    "# end::MIRROR_EX[]\n"
   ]
  },
  {
   "cell_type": "code",
   "execution_count": 2,
   "id": "8ecb4498",
   "metadata": {},
   "outputs": [
    {
     "name": "stdout",
     "output_type": "stream",
     "text": [
      "pordwonS dna yttiK ,ecilA\n",
      "YKCOWREBBAJ\n"
     ]
    }
   ],
   "source": [
    "from mirror import LookingGlass\n",
    "with LookingGlass() as what:  # <1>\n",
    "    print('Alice, Kitty and Snowdrop')  # <2>\n",
    "    print(what)"
   ]
  },
  {
   "cell_type": "code",
   "execution_count": 3,
   "id": "2990bdb4",
   "metadata": {},
   "outputs": [
    {
     "data": {
      "text/plain": [
       "'JABBERWOCKY'"
      ]
     },
     "execution_count": 3,
     "metadata": {},
     "output_type": "execute_result"
    }
   ],
   "source": [
    "what  # <3>"
   ]
  },
  {
   "cell_type": "code",
   "execution_count": 2,
   "id": "fe54cad5",
   "metadata": {},
   "outputs": [
    {
     "data": {
      "text/plain": [
       "<mirror.LookingGlass at 0x20dff029880>"
      ]
     },
     "execution_count": 2,
     "metadata": {},
     "output_type": "execute_result"
    }
   ],
   "source": [
    "from mirror import LookingGlass\n",
    "manager = LookingGlass()  # <1>\n",
    "manager  # doctest: +ELLIPSIS"
   ]
  },
  {
   "cell_type": "code",
   "execution_count": 3,
   "id": "dfcf0b72",
   "metadata": {},
   "outputs": [
    {
     "data": {
      "text/plain": [
       "True"
      ]
     },
     "execution_count": 3,
     "metadata": {},
     "output_type": "execute_result"
    }
   ],
   "source": [
    "monster = manager.__enter__()  # <2>\n",
    "monster == 'JABBERWOCKY'  # <3>"
   ]
  },
  {
   "cell_type": "code",
   "execution_count": 4,
   "id": "ece7f8d2",
   "metadata": {},
   "outputs": [
    {
     "data": {
      "text/plain": [
       "'JABBERWOCKY'"
      ]
     },
     "execution_count": 4,
     "metadata": {},
     "output_type": "execute_result"
    }
   ],
   "source": [
    "monster"
   ]
  },
  {
   "cell_type": "code",
   "execution_count": 5,
   "id": "f02f8e9b",
   "metadata": {},
   "outputs": [
    {
     "data": {
      "text/plain": [
       "<mirror.LookingGlass at 0x20dff029880>"
      ]
     },
     "execution_count": 5,
     "metadata": {},
     "output_type": "execute_result"
    }
   ],
   "source": [
    "manager  # doctest: +ELLIPSIS"
   ]
  },
  {
   "cell_type": "code",
   "execution_count": 6,
   "id": "b5a9bc7d",
   "metadata": {},
   "outputs": [
    {
     "data": {
      "text/plain": [
       "'JABBERWOCKY'"
      ]
     },
     "execution_count": 6,
     "metadata": {},
     "output_type": "execute_result"
    }
   ],
   "source": [
    "manager.__exit__(None, None, None)  # <4>\n",
    "monster"
   ]
  },
  {
   "cell_type": "code",
   "execution_count": 7,
   "id": "7baae6e8",
   "metadata": {},
   "outputs": [
    {
     "name": "stdout",
     "output_type": "stream",
     "text": [
      "ytpmuD ytpmuH\n",
      "Please DO NOT divide by zero!\n"
     ]
    }
   ],
   "source": [
    "from mirror import LookingGlass\n",
    "with LookingGlass():\n",
    "    print('Humpty Dumpty')\n",
    "    x = 1/0  # <1>\n",
    "    print('END')  # <2>"
   ]
  },
  {
   "cell_type": "code",
   "execution_count": 8,
   "id": "1ac3a27b",
   "metadata": {},
   "outputs": [],
   "source": [
    "\"\"\"\n",
    "A \"mirroring\" ``stdout`` context manager.\n",
    "\n",
    "While active, the context manager reverses text output to\n",
    "``stdout``::\n",
    "\n",
    "# tag::MIRROR_GEN_DEMO_1[]\n",
    "\n",
    "    >>> from mirror_gen import looking_glass\n",
    "    >>> with looking_glass() as what:  # <1>\n",
    "    ...      print('Alice, Kitty and Snowdrop')\n",
    "    ...      print(what)\n",
    "    ...\n",
    "    pordwonS dna yttiK ,ecilA\n",
    "    YKCOWREBBAJ\n",
    "    >>> what\n",
    "    'JABBERWOCKY'\n",
    "    >>> print('back to normal')\n",
    "    back to normal\n",
    "\n",
    "\n",
    "# end::MIRROR_GEN_DEMO_1[]\n",
    "\n",
    "\n",
    "This exposes the context manager operation::\n",
    "\n",
    "# tag::MIRROR_GEN_DEMO_2[]\n",
    "\n",
    "    >>> from mirror_gen import looking_glass\n",
    "    >>> manager = looking_glass()  # <1>\n",
    "    >>> manager  # doctest: +ELLIPSIS\n",
    "    <contextlib._GeneratorContextManager object at 0x...>\n",
    "    >>> monster = manager.__enter__()  # <2>\n",
    "    >>> monster == 'JABBERWOCKY'  # <3>\n",
    "    eurT\n",
    "    >>> monster\n",
    "    'YKCOWREBBAJ'\n",
    "    >>> manager  # doctest: +ELLIPSIS\n",
    "    >...x0 ta tcejbo reganaMtxetnoCrotareneG_.biltxetnoc<\n",
    "    >>> manager.__exit__(None, None, None)  # <4>\n",
    "    False\n",
    "    >>> monster\n",
    "    'JABBERWOCKY'\n",
    "\n",
    "# end::MIRROR_GEN_DEMO_2[]\n",
    "\n",
    "The decorated generator also works as a decorator:\n",
    "\n",
    "\n",
    "# tag::MIRROR_GEN_DECO[]\n",
    "    >>> @looking_glass()\n",
    "    ... def verse():\n",
    "    ...     print('The time has come')\n",
    "    ...\n",
    "    >>> verse()  # <1>\n",
    "    emoc sah emit ehT\n",
    "    >>> print('back to normal')  # <2>\n",
    "    back to normal\n",
    "\n",
    "# end::MIRROR_GEN_DECO[]\n",
    "\n",
    "\"\"\"\n",
    "\n",
    "\n",
    "# tag::MIRROR_GEN_EX[]\n",
    "import contextlib\n",
    "import sys\n",
    "\n",
    "@contextlib.contextmanager  # <1>\n",
    "def looking_glass():\n",
    "    original_write = sys.stdout.write  # <2>\n",
    "\n",
    "    def reverse_write(text):  # <3>\n",
    "        original_write(text[::-1])\n",
    "\n",
    "    sys.stdout.write = reverse_write  # <4>\n",
    "    yield 'JABBERWOCKY'  # <5>\n",
    "    sys.stdout.write = original_write  # <6>\n",
    "# end::MIRROR_GEN_EX[]\n"
   ]
  },
  {
   "cell_type": "code",
   "execution_count": 9,
   "id": "a78e8e0c",
   "metadata": {},
   "outputs": [
    {
     "name": "stdout",
     "output_type": "stream",
     "text": [
      "pordwonS dna yttiK ,ecilA\n",
      "YKCOWREBBAJ\n"
     ]
    }
   ],
   "source": [
    "from mirror_gen import looking_glass\n",
    "with looking_glass() as what:  # <1>\n",
    "    print('Alice, Kitty and Snowdrop')  # <2>\n",
    "    print(what)"
   ]
  },
  {
   "cell_type": "code",
   "execution_count": 10,
   "id": "8ac6de66",
   "metadata": {},
   "outputs": [
    {
     "data": {
      "text/plain": [
       "'JABBERWOCKY'"
      ]
     },
     "execution_count": 10,
     "metadata": {},
     "output_type": "execute_result"
    }
   ],
   "source": [
    "what  # <3>"
   ]
  },
  {
   "cell_type": "code",
   "execution_count": 11,
   "id": "0f9c8809",
   "metadata": {},
   "outputs": [
    {
     "name": "stdout",
     "output_type": "stream",
     "text": [
      "back to normal\n"
     ]
    }
   ],
   "source": [
    "print('back to normal')"
   ]
  },
  {
   "cell_type": "code",
   "execution_count": 20,
   "id": "79b587cc",
   "metadata": {},
   "outputs": [
    {
     "data": {
      "text/plain": [
       "True"
      ]
     },
     "execution_count": 20,
     "metadata": {},
     "output_type": "execute_result"
    }
   ],
   "source": [
    "from mirror_gen import looking_glass\n",
    "manager = looking_glass()  # <1>\n",
    "monster = manager.__enter__()  # <2>\n",
    "monster == 'JABBERWOCKY'  # <3>"
   ]
  },
  {
   "cell_type": "code",
   "execution_count": 21,
   "id": "bc70a4c0",
   "metadata": {},
   "outputs": [
    {
     "data": {
      "text/plain": [
       "'JABBERWOCKY'"
      ]
     },
     "execution_count": 21,
     "metadata": {},
     "output_type": "execute_result"
    }
   ],
   "source": [
    "monster"
   ]
  },
  {
   "cell_type": "code",
   "execution_count": 15,
   "id": "e046b6f0",
   "metadata": {},
   "outputs": [
    {
     "data": {
      "text/plain": [
       "<contextlib._GeneratorContextManager at 0x20dff0299a0>"
      ]
     },
     "execution_count": 15,
     "metadata": {},
     "output_type": "execute_result"
    }
   ],
   "source": [
    "manager  # doctest: +ELLIPSIS"
   ]
  },
  {
   "cell_type": "code",
   "execution_count": 16,
   "id": "fdb62338",
   "metadata": {},
   "outputs": [
    {
     "data": {
      "text/plain": [
       "'JABBERWOCKY'"
      ]
     },
     "execution_count": 16,
     "metadata": {},
     "output_type": "execute_result"
    }
   ],
   "source": [
    "manager.__exit__(None, None, None)  # <4>\n",
    "monster"
   ]
  },
  {
   "cell_type": "code",
   "execution_count": 17,
   "id": "4b5387b9",
   "metadata": {},
   "outputs": [
    {
     "name": "stdout",
     "output_type": "stream",
     "text": [
      "emoc sah emit ehT\n"
     ]
    }
   ],
   "source": [
    "@looking_glass()\n",
    "def verse():\n",
    "    print('The time has come')\n",
    "    \n",
    "verse()"
   ]
  },
  {
   "cell_type": "code",
   "execution_count": 18,
   "id": "cc28ea45",
   "metadata": {},
   "outputs": [
    {
     "name": "stdout",
     "output_type": "stream",
     "text": [
      "back to normal\n"
     ]
    }
   ],
   "source": [
    "print('back to normal')"
   ]
  },
  {
   "cell_type": "code",
   "execution_count": 22,
   "id": "d10b4d7b",
   "metadata": {},
   "outputs": [],
   "source": [
    "\"\"\"\n",
    "A \"mirroring\" ``stdout`` context manager.\n",
    "\n",
    "While active, the context manager reverses text output to\n",
    "``stdout``::\n",
    "\n",
    "# tag::MIRROR_GEN_DEMO_1[]\n",
    "\n",
    "    >>> from mirror_gen import looking_glass\n",
    "    >>> with looking_glass() as what:  # <1>\n",
    "    ...      print('Alice, Kitty and Snowdrop')\n",
    "    ...      print(what)\n",
    "    ...\n",
    "    pordwonS dna yttiK ,ecilA\n",
    "    YKCOWREBBAJ\n",
    "    >>> what\n",
    "    'JABBERWOCKY'\n",
    "\n",
    "# end::MIRROR_GEN_DEMO_1[]\n",
    "\n",
    "\n",
    "This exposes the context manager operation::\n",
    "\n",
    "# tag::MIRROR_GEN_DEMO_2[]\n",
    "\n",
    "    >>> from mirror_gen import looking_glass\n",
    "    >>> manager = looking_glass()  # <1>\n",
    "    >>> manager  # doctest: +ELLIPSIS\n",
    "    <contextlib._GeneratorContextManager object at 0x...>\n",
    "    >>> monster = manager.__enter__()  # <2>\n",
    "    >>> monster == 'JABBERWOCKY'  # <3>\n",
    "    eurT\n",
    "    >>> monster\n",
    "    'YKCOWREBBAJ'\n",
    "    >>> manager  # doctest: +ELLIPSIS\n",
    "    >...x0 ta tcejbo reganaMtxetnoCrotareneG_.biltxetnoc<\n",
    "    >>> manager.__exit__(None, None, None)  # <4>\n",
    "    False\n",
    "    >>> monster\n",
    "    'JABBERWOCKY'\n",
    "\n",
    "# end::MIRROR_GEN_DEMO_2[]\n",
    "\n",
    "The context manager can handle and \"swallow\" exceptions.\n",
    "The following test does not pass under doctest (a\n",
    "ZeroDivisionError is reported by doctest) but passes\n",
    "if executed by hand in the Python 3 console (the exception\n",
    "is handled by the context manager):\n",
    "\n",
    "# tag::MIRROR_GEN_DEMO_3[]\n",
    "\n",
    "    >>> from mirror_gen_exc import looking_glass\n",
    "    >>> with looking_glass():\n",
    "    ...      print('Humpty Dumpty')\n",
    "    ...      x = 1/0  # <1>\n",
    "    ...      print('END')  # <2>\n",
    "    ...\n",
    "    ytpmuD ytpmuH\n",
    "    Please DO NOT divide by zero!\n",
    "\n",
    "# end::MIRROR_GEN_DEMO_3[]\n",
    "\n",
    "    >>> with looking_glass():\n",
    "    ...      print('Humpty Dumpty')\n",
    "    ...      x = no_such_name  # <1>\n",
    "    ...      print('END')  # <2>\n",
    "    ...\n",
    "    Traceback (most recent call last):\n",
    "      ...\n",
    "    NameError: name 'no_such_name' is not defined\n",
    "\n",
    "\n",
    "\n",
    "\"\"\"\n",
    "\n",
    "\n",
    "# tag::MIRROR_GEN_EXC[]\n",
    "import contextlib\n",
    "import sys\n",
    "\n",
    "@contextlib.contextmanager\n",
    "def looking_glass():\n",
    "    original_write = sys.stdout.write\n",
    "\n",
    "    def reverse_write(text):\n",
    "        original_write(text[::-1])\n",
    "\n",
    "    sys.stdout.write = reverse_write\n",
    "    msg = ''  # <1>\n",
    "    try:\n",
    "        yield 'JABBERWOCKY'\n",
    "    except ZeroDivisionError:  # <2>\n",
    "        msg = 'Please DO NOT divide by zero!'\n",
    "    finally:\n",
    "        sys.stdout.write = original_write  # <3>\n",
    "        if msg:\n",
    "            print(msg)  # <4>\n",
    "# end::MIRROR_GEN_EXC[]\n"
   ]
  },
  {
   "cell_type": "code",
   "execution_count": 23,
   "id": "3e30d616",
   "metadata": {},
   "outputs": [
    {
     "name": "stdout",
     "output_type": "stream",
     "text": [
      "ytpmuD ytpmuH\n",
      "Please DO NOT divide by zero!\n"
     ]
    }
   ],
   "source": [
    "from mirror_gen_exc import looking_glass\n",
    "with looking_glass():\n",
    "    print('Humpty Dumpty') \n",
    "    x = 1/0  # <1>\n",
    "    print('END')  # <2>"
   ]
  },
  {
   "cell_type": "code",
   "execution_count": 24,
   "id": "03d7e060",
   "metadata": {},
   "outputs": [],
   "source": [
    "@looking_glass()\n",
    "def verse():\n",
    "    print('The time has come')"
   ]
  },
  {
   "cell_type": "code",
   "execution_count": 25,
   "id": "1effbd27",
   "metadata": {},
   "outputs": [
    {
     "name": "stdout",
     "output_type": "stream",
     "text": [
      "emoc sah emit ehT\n"
     ]
    }
   ],
   "source": [
    "verse()"
   ]
  },
  {
   "cell_type": "code",
   "execution_count": 26,
   "id": "f863a7d6",
   "metadata": {},
   "outputs": [
    {
     "name": "stdout",
     "output_type": "stream",
     "text": [
      "back to normal\n"
     ]
    }
   ],
   "source": [
    "print('back to normal')"
   ]
  },
  {
   "cell_type": "code",
   "execution_count": 32,
   "id": "6609c1ed",
   "metadata": {},
   "outputs": [
    {
     "name": "stdout",
     "output_type": "stream",
     "text": [
      "9\n"
     ]
    }
   ],
   "source": [
    "# for m >= n\n",
    "def mod(m, n):\n",
    "    return m - (m // n * n)\n",
    "def gcd(m, n):\n",
    "    if n == 0:\n",
    "        return m\n",
    "    else:\n",
    "        return gcd(n, mod(m, n))\n",
    "print(gcd(18, 45))"
   ]
  },
  {
   "cell_type": "code",
   "execution_count": 35,
   "id": "dbe0710f",
   "metadata": {},
   "outputs": [
    {
     "data": {
      "text/plain": [
       "18"
      ]
     },
     "execution_count": 35,
     "metadata": {},
     "output_type": "execute_result"
    }
   ],
   "source": [
    "mod(18, 45)"
   ]
  },
  {
   "cell_type": "code",
   "execution_count": 34,
   "id": "983b23da",
   "metadata": {},
   "outputs": [
    {
     "data": {
      "text/plain": [
       "9"
      ]
     },
     "execution_count": 34,
     "metadata": {},
     "output_type": "execute_result"
    }
   ],
   "source": [
    "mod(45, 18)"
   ]
  },
  {
   "cell_type": "code",
   "execution_count": 27,
   "id": "a459c27f",
   "metadata": {},
   "outputs": [],
   "source": [
    "################ Lispy: Scheme Interpreter in Python 3.3+\n",
    "\n",
    "## (c) Peter Norvig, 2010-18; See http://norvig.com/lispy.html\n",
    "\n",
    "################ Imports and Types\n",
    "\n",
    "import math\n",
    "import operator as op\n",
    "from collections import ChainMap as Environment\n",
    "\n",
    "Symbol = str          # A Lisp Symbol is implemented as a Python str\n",
    "List   = list         # A Lisp List   is implemented as a Python list\n",
    "Number = (int, float) # A Lisp Number is implemented as a Python int or float\n",
    "\n",
    "class Procedure(object):\n",
    "    \"A user-defined Scheme procedure.\"\n",
    "    def __init__(self, parms, body, env):\n",
    "        self.parms, self.body, self.env = parms, body, env\n",
    "    def __call__(self, *args):\n",
    "        env =  Environment(dict(zip(self.parms, args)), self.env)\n",
    "        return eval(self.body, env)\n",
    "\n",
    "################ Global Environment\n",
    "\n",
    "def standard_env():\n",
    "    \"An environment with some Scheme standard procedures.\"\n",
    "    env = {}\n",
    "    env.update(vars(math)) # sin, cos, sqrt, pi, ...\n",
    "    env.update({\n",
    "        '+':op.add, '-':op.sub, '*':op.mul, '/':op.truediv, \n",
    "        '>':op.gt, '<':op.lt, '>=':op.ge, '<=':op.le, '=':op.eq, \n",
    "        'abs':     abs,\n",
    "        'append':  op.add,  \n",
    "        'apply':   lambda proc, args: proc(*args),\n",
    "        'begin':   lambda *x: x[-1],\n",
    "        'car':     lambda x: x[0],\n",
    "        'cdr':     lambda x: x[1:], \n",
    "        'cons':    lambda x,y: [x] + y,\n",
    "        'eq?':     op.is_, \n",
    "        'equal?':  op.eq, \n",
    "        'length':  len, \n",
    "        'list':    lambda *x: list(x), \n",
    "        'list?':   lambda x: isinstance(x,list), \n",
    "        'map':     lambda *args: list(map(*args)),\n",
    "        'max':     max,\n",
    "        'min':     min,\n",
    "        'not':     op.not_,\n",
    "        'null?':   lambda x: x == [], \n",
    "        'number?': lambda x: isinstance(x, Number),   \n",
    "        'procedure?': callable,\n",
    "        'round':   round,\n",
    "        'symbol?': lambda x: isinstance(x, Symbol),\n",
    "    })\n",
    "    return env\n",
    "\n",
    "global_env = standard_env()\n",
    "\n",
    "################ Parsing: parse, tokenize, and read_from_tokens\n",
    "\n",
    "def parse(program):\n",
    "    \"Read a Scheme expression from a string.\"\n",
    "    return read_from_tokens(tokenize(program))\n",
    "\n",
    "def tokenize(s):\n",
    "    \"Convert a string into a list of tokens.\"\n",
    "    return s.replace('(',' ( ').replace(')',' ) ').split()\n",
    "\n",
    "def read_from_tokens(tokens):\n",
    "    \"Read an expression from a sequence of tokens.\"\n",
    "    if len(tokens) == 0:\n",
    "        raise SyntaxError('unexpected EOF while reading')\n",
    "    token = tokens.pop(0)\n",
    "    if '(' == token:\n",
    "        L = []\n",
    "        while tokens[0] != ')':\n",
    "            L.append(read_from_tokens(tokens))\n",
    "        tokens.pop(0) # pop off ')'\n",
    "        return L\n",
    "    elif ')' == token:\n",
    "        raise SyntaxError('unexpected )')\n",
    "    else:\n",
    "        return atom(token)\n",
    "\n",
    "def atom(token):\n",
    "    \"Numbers become numbers; every other token is a symbol.\"\n",
    "    try: return int(token)\n",
    "    except ValueError:\n",
    "        try: return float(token)\n",
    "        except ValueError:\n",
    "            return Symbol(token)\n",
    "\n",
    "################ Interaction: A REPL\n",
    "\n",
    "def repl(prompt='lis.py> '):\n",
    "    \"A prompt-read-eval-print loop.\"\n",
    "    while True:\n",
    "        val = eval(parse(input(prompt)))\n",
    "        if val is not None:\n",
    "            print(lispstr(val))\n",
    "\n",
    "def lispstr(exp):\n",
    "    \"Convert a Python object back into a Lisp-readable string.\"\n",
    "    if isinstance(exp, List):\n",
    "        return '(' + ' '.join(map(lispstr, exp)) + ')' \n",
    "    else:\n",
    "        return str(exp)\n",
    "\n",
    "################ eval\n",
    "\n",
    "def eval(x, env=global_env):\n",
    "    \"Evaluate an expression in an environment.\"\n",
    "    if isinstance(x, Symbol):      # variable reference\n",
    "        return env[x]\n",
    "    elif not isinstance(x, List):  # constant literal\n",
    "        return x                \n",
    "    elif x[0] == 'quote':          # (quote exp)\n",
    "        (_, exp) = x\n",
    "        return exp\n",
    "    elif x[0] == 'if':             # (if test conseq alt)\n",
    "        (_, test, conseq, alt) = x\n",
    "        exp = (conseq if eval(test, env) else alt)\n",
    "        return eval(exp, env)\n",
    "    elif x[0] == 'define':         # (define var exp)\n",
    "        (_, var, exp) = x\n",
    "        env[var] = eval(exp, env)\n",
    "    elif x[0] == 'lambda':         # (lambda (var...) body)\n",
    "        (_, parms, body) = x\n",
    "        return Procedure(parms, body, env)\n",
    "    else:                          # (proc arg...)\n",
    "        proc = eval(x[0], env)\n",
    "        args = [eval(exp, env) for exp in x[1:]]\n",
    "        return proc(*args)\n"
   ]
  },
  {
   "cell_type": "code",
   "execution_count": 28,
   "id": "6d104e4e",
   "metadata": {},
   "outputs": [
    {
     "name": "stderr",
     "output_type": "stream",
     "text": [
      "Lispy version 2.0\n",
      "lispy> "
     ]
    }
   ],
   "source": [
    "################ Scheme Interpreter in Python\n",
    "\n",
    "## (c) Peter Norvig, 2010; See http://norvig.com/lispy2.html\n",
    "\n",
    "################ Symbol, Procedure, classes\n",
    "\n",
    "import re, sys, io\n",
    "\n",
    "class Symbol(str): pass\n",
    "\n",
    "def Sym(s, symbol_table={}):\n",
    "    \"Find or create unique Symbol entry for str s in symbol table.\"\n",
    "    if s not in symbol_table: symbol_table[s] = Symbol(s)\n",
    "    return symbol_table[s]\n",
    "\n",
    "_quote, _if, _set, _define, _lambda, _begin, _definemacro, = map(Sym,\n",
    "\"quote   if   set!  define   lambda   begin   define-macro\".split())\n",
    "\n",
    "_quasiquote, _unquote, _unquotesplicing = map(Sym,\n",
    "\"quasiquote   unquote   unquote-splicing\".split())\n",
    "\n",
    "class Procedure:\n",
    "    \"A user-defined Scheme procedure.\"\n",
    "    def __init__(self, parms, exp, env):\n",
    "        self.parms, self.exp, self.env = parms, exp, env\n",
    "    def __call__(self, *args):\n",
    "        return eval(self.exp, Env(self.parms, args, self.env))\n",
    "\n",
    "################ parse, read, and user interaction\n",
    "\n",
    "def parse(inport):\n",
    "    \"Parse a program: read and expand/error-check it.\"\n",
    "    # Backwards compatibility: given a str, convert it to an InPort\n",
    "    if isinstance(inport, str): inport = InPort(io.StringIO(inport))\n",
    "    return expand(read(inport), toplevel=True)\n",
    "\n",
    "eof_object = Symbol('#<eof-object>') # Note: uninterned; can't be read\n",
    "\n",
    "class InPort:\n",
    "    \"An input port. Retains a line of chars.\"\n",
    "    tokenizer = r\"\"\"\\s*(,@|[('`,)]|\"(?:[\\\\].|[^\\\\\"])*\"|;.*|[^\\s('\"`,;)]*)(.*)\"\"\"\n",
    "    def __init__(self, file):\n",
    "        self.file = file; self.line = ''\n",
    "    def next_token(self):\n",
    "        \"Return the next token, reading new text into line buffer if needed.\"\n",
    "        while True:\n",
    "            if self.line == '': self.line = self.file.readline()\n",
    "            if self.line == '': return eof_object\n",
    "            token, self.line = re.match(InPort.tokenizer, self.line).groups()\n",
    "            if token != '' and not token.startswith(';'):\n",
    "                return token\n",
    "\n",
    "def readchar(inport):\n",
    "    \"Read the next character from an input port.\"\n",
    "    if inport.line != '':\n",
    "        ch, inport.line = inport.line[0], inport.line[1:]\n",
    "        return ch\n",
    "    else:\n",
    "        return inport.file.read(1) or eof_object\n",
    "\n",
    "def read(inport):\n",
    "    \"Read a Scheme expression from an input port.\"\n",
    "    def read_ahead(token):\n",
    "        if '(' == token:\n",
    "            L = []\n",
    "            while True:\n",
    "                token = inport.next_token()\n",
    "                if token == ')': return L\n",
    "                else: L.append(read_ahead(token))\n",
    "        elif ')' == token: raise SyntaxError('unexpected )')\n",
    "        elif token in quotes: return [quotes[token], read(inport)]\n",
    "        elif token is eof_object: raise SyntaxError('unexpected EOF in list')\n",
    "        else: return atom(token)\n",
    "    # body of read:\n",
    "    token1 = inport.next_token()\n",
    "    return eof_object if token1 is eof_object else read_ahead(token1)\n",
    "\n",
    "quotes = {\"'\":_quote, \"`\":_quasiquote, \",\":_unquote, \",@\":_unquotesplicing}\n",
    "\n",
    "def atom(token):\n",
    "    'Numbers become numbers; #t and #f are booleans; \"...\" string; otherwise Symbol.'\n",
    "    if token == '#t': return True\n",
    "    elif token == '#f': return False\n",
    "    elif token[0] == '\"': return token[1:-1]\n",
    "    try: return int(token)\n",
    "    except ValueError:\n",
    "        try: return float(token)\n",
    "        except ValueError:\n",
    "            try: return complex(token.replace('i', 'j', 1))\n",
    "            except ValueError:\n",
    "                return Sym(token)\n",
    "\n",
    "def to_string(x):\n",
    "    \"Convert a Python object back into a Lisp-readable string.\"\n",
    "    if x is True: return \"#t\"\n",
    "    elif x is False: return \"#f\"\n",
    "    elif isa(x, Symbol): return x\n",
    "    elif isa(x, str): return repr(x)\n",
    "    elif isa(x, list): return '('+' '.join(map(to_string, x))+')'\n",
    "    elif isa(x, complex): return str(x).replace('j', 'i')\n",
    "    else: return str(x)\n",
    "\n",
    "def load(filename):\n",
    "    \"Eval every expression from a file.\"\n",
    "    repl(None, InPort(open(filename)), None)\n",
    "\n",
    "def repl(prompt='lispy> ', inport=InPort(sys.stdin), out=sys.stdout):\n",
    "    \"A prompt-read-eval-print loop.\"\n",
    "    sys.stderr.write(\"Lispy version 2.0\\n\")\n",
    "    while True:\n",
    "        try:\n",
    "            if prompt: sys.stderr.write(prompt)\n",
    "            x = parse(inport)\n",
    "            if x is eof_object: return\n",
    "            val = eval(x)\n",
    "            if val is not None and out: print(to_string(val), file=out)\n",
    "        except Exception as e:\n",
    "            print('%s: %s' % (type(e).__name__, e))\n",
    "\n",
    "################ Environment class\n",
    "\n",
    "class Env(dict):\n",
    "    \"An environment: a dict of {'var':val} pairs, with an outer Env.\"\n",
    "    def __init__(self, parms=(), args=(), outer=None):\n",
    "        # Bind parm list to corresponding args, or single parm to list of args\n",
    "        self.outer = outer\n",
    "        if isa(parms, Symbol):\n",
    "            self.update({parms:list(args)})\n",
    "        else:\n",
    "            if len(args) != len(parms):\n",
    "                raise TypeError('expected %s, given %s, '\n",
    "                                % (to_string(parms), to_string(args)))\n",
    "            self.update(zip(parms,args))\n",
    "    def find(self, var):\n",
    "        \"Find the innermost Env where var appears.\"\n",
    "        if var in self: return self\n",
    "        elif self.outer is None: raise LookupError(var)\n",
    "        else: return self.outer.find(var)\n",
    "\n",
    "def is_pair(x): return x != [] and isa(x, list)\n",
    "def cons(x, y): return [x]+y\n",
    "\n",
    "def callcc(proc):\n",
    "    \"Call proc with current continuation; escape only\"\n",
    "    ball = RuntimeWarning(\"Sorry, can't continue this continuation any longer.\")\n",
    "    def throw(retval): ball.retval = retval; raise ball\n",
    "    try:\n",
    "        return proc(throw)\n",
    "    except RuntimeWarning as w:\n",
    "        if w is ball: return ball.retval\n",
    "        else: raise w\n",
    "\n",
    "def add_globals(self):\n",
    "    \"Add some Scheme standard procedures.\"\n",
    "    import math, cmath, operator as op\n",
    "    self.update(vars(math))\n",
    "    self.update(vars(cmath))\n",
    "    self.update({\n",
    "     '+':op.add, '-':op.sub, '*':op.mul, '/':op.truediv, 'not':op.not_,\n",
    "     '>':op.gt, '<':op.lt, '>=':op.ge, '<=':op.le, '=':op.eq,\n",
    "     'equal?':op.eq, 'eq?':op.is_, 'length':len, 'cons':cons,\n",
    "     'car':lambda x:x[0], 'cdr':lambda x:x[1:], 'append':op.add,\n",
    "     'list':lambda *x:list(x), 'list?': lambda x:isa(x,list),\n",
    "     'null?':lambda x:x==[], 'symbol?':lambda x: isa(x, Symbol),\n",
    "     'boolean?':lambda x: isa(x, bool), 'pair?':is_pair,\n",
    "     'port?': lambda x:isa(x,file), 'apply':lambda proc,l: proc(*l),\n",
    "     'eval':lambda x: eval(expand(x)), 'load':lambda fn: load(fn), 'call/cc':callcc,\n",
    "     'open-input-file':open,'close-input-port':lambda p: p.file.close(),\n",
    "     'open-output-file':lambda f:open(f,'w'), 'close-output-port':lambda p: p.close(),\n",
    "     'eof-object?':lambda x:x is eof_object, 'read-char':readchar,\n",
    "     'read':read, 'write':lambda x,port=sys.stdout:port.write(to_string(x)),\n",
    "     'display':lambda x,port=sys.stdout:port.write(x if isa(x,str) else to_string(x))})\n",
    "    return self\n",
    "\n",
    "isa = isinstance\n",
    "\n",
    "global_env = add_globals(Env())\n",
    "\n",
    "################ eval (tail recursive)\n",
    "\n",
    "def eval(x, env=global_env):\n",
    "    \"Evaluate an expression in an environment.\"\n",
    "    while True:\n",
    "        if isa(x, Symbol):       # variable reference\n",
    "            return env.find(x)[x]\n",
    "        elif not isa(x, list):   # constant literal\n",
    "            return x\n",
    "        elif x[0] is _quote:     # (quote exp)\n",
    "            (_, exp) = x\n",
    "            return exp\n",
    "        elif x[0] is _if:        # (if test conseq alt)\n",
    "            (_, test, conseq, alt) = x\n",
    "            x = (conseq if eval(test, env) else alt)\n",
    "        elif x[0] is _set:       # (set! var exp)\n",
    "            (_, var, exp) = x\n",
    "            env.find(var)[var] = eval(exp, env)\n",
    "            return None\n",
    "        elif x[0] is _define:    # (define var exp)\n",
    "            (_, var, exp) = x\n",
    "            env[var] = eval(exp, env)\n",
    "            return None\n",
    "        elif x[0] is _lambda:    # (lambda (var*) exp)\n",
    "            (_, vars, exp) = x\n",
    "            return Procedure(vars, exp, env)\n",
    "        elif x[0] is _begin:     # (begin exp+)\n",
    "            for exp in x[1:-1]:\n",
    "                eval(exp, env)\n",
    "            x = x[-1]\n",
    "        else:                    # (proc exp*)\n",
    "            exps = [eval(exp, env) for exp in x]\n",
    "            proc = exps.pop(0)\n",
    "            if isa(proc, Procedure):\n",
    "                x = proc.exp\n",
    "                env = Env(proc.parms, exps, proc.env)\n",
    "            else:\n",
    "                return proc(*exps)\n",
    "\n",
    "################ expand\n",
    "\n",
    "def expand(x, toplevel=False):\n",
    "    \"Walk tree of x, making optimizations/fixes, and signaling SyntaxError.\"\n",
    "    require(x, x!=[])                    # () => Error\n",
    "    if not isa(x, list):                 # constant => unchanged\n",
    "        return x\n",
    "    elif x[0] is _quote:                 # (quote exp)\n",
    "        require(x, len(x)==2)\n",
    "        return x\n",
    "    elif x[0] is _if:\n",
    "        if len(x)==3: x = x + [None]     # (if t c) => (if t c None)\n",
    "        require(x, len(x)==4)\n",
    "        return list(map(expand, x))\n",
    "    elif x[0] is _set:\n",
    "        require(x, len(x)==3);\n",
    "        var = x[1]                       # (set! non-var exp) => Error\n",
    "        require(x, isa(var, Symbol), \"can set! only a symbol\")\n",
    "        return [_set, var, expand(x[2])]\n",
    "    elif x[0] is _define or x[0] is _definemacro:\n",
    "        require(x, len(x)>=3)\n",
    "        _def, v, body = x[0], x[1], x[2:]\n",
    "        if isa(v, list) and v:           # (define (f args) body)\n",
    "            f, args = v[0], v[1:]        #  => (define f (lambda (args) body))\n",
    "            return expand([_def, f, [_lambda, args]+body])\n",
    "        else:\n",
    "            require(x, len(x)==3)        # (define non-var/list exp) => Error\n",
    "            require(x, isa(v, Symbol), \"can define only a symbol\")\n",
    "            exp = expand(x[2])\n",
    "            if _def is _definemacro:\n",
    "                require(x, toplevel, \"define-macro only allowed at top level\")\n",
    "                proc = eval(exp)\n",
    "                require(x, callable(proc), \"macro must be a procedure\")\n",
    "                macro_table[v] = proc    # (define-macro v proc)\n",
    "                return None              #  => None; add v:proc to macro_table\n",
    "            return [_define, v, exp]\n",
    "    elif x[0] is _begin:\n",
    "        if len(x)==1: return None        # (begin) => None\n",
    "        else: return [expand(xi, toplevel) for xi in x]\n",
    "    elif x[0] is _lambda:                # (lambda (x) e1 e2)\n",
    "        require(x, len(x)>=3)            #  => (lambda (x) (begin e1 e2))\n",
    "        vars, body = x[1], x[2:]\n",
    "        require(x, (isa(vars, list) and all(isa(v, Symbol) for v in vars))\n",
    "                or isa(vars, Symbol), \"illegal lambda argument list\")\n",
    "        exp = body[0] if len(body) == 1 else [_begin] + body\n",
    "        return [_lambda, vars, expand(exp)]\n",
    "    elif x[0] is _quasiquote:            # `x => expand_quasiquote(x)\n",
    "        require(x, len(x)==2)\n",
    "        return expand_quasiquote(x[1])\n",
    "    elif isa(x[0], Symbol) and x[0] in macro_table:\n",
    "        return expand(macro_table[x[0]](*x[1:]), toplevel) # (m arg...)\n",
    "    else:                                #        => macroexpand if m isa macro\n",
    "        return list(map(expand, x))            # (f arg...) => expand each\n",
    "\n",
    "def require(x, predicate, msg=\"wrong length\"):\n",
    "    \"Signal a syntax error if predicate is false.\"\n",
    "    if not predicate: raise SyntaxError(to_string(x)+': '+msg)\n",
    "\n",
    "_append, _cons, _let = map(Sym, \"append cons let\".split())\n",
    "\n",
    "def expand_quasiquote(x):\n",
    "    \"\"\"Expand `x => 'x; `,x => x; `(,@x y) => (append x y) \"\"\"\n",
    "    if not is_pair(x):\n",
    "        return [_quote, x]\n",
    "    require(x, x[0] is not _unquotesplicing, \"can't splice here\")\n",
    "    if x[0] is _unquote:\n",
    "        require(x, len(x)==2)\n",
    "        return x[1]\n",
    "    elif is_pair(x[0]) and x[0][0] is _unquotesplicing:\n",
    "        require(x[0], len(x[0])==2)\n",
    "        return [_append, x[0][1], expand_quasiquote(x[1:])]\n",
    "    else:\n",
    "        return [_cons, expand_quasiquote(x[0]), expand_quasiquote(x[1:])]\n",
    "\n",
    "def let(*args):\n",
    "    args = list(args)\n",
    "    x = cons(_let, args)\n",
    "    require(x, len(args)>1)\n",
    "    bindings, body = args[0], args[1:]\n",
    "    require(x, all(isa(b, list) and len(b)==2 and isa(b[0], Symbol)\n",
    "                   for b in bindings), \"illegal binding list\")\n",
    "    vars, vals = zip(*bindings)\n",
    "    return [[_lambda, list(vars)]+list(map(expand, body))] + list(map(expand, vals))\n",
    "\n",
    "macro_table = {_let:let} ## More macros can go here\n",
    "\n",
    "eval(parse(\"\"\"(begin\n",
    "\n",
    "(define-macro and (lambda args\n",
    "   (if (null? args) #t\n",
    "       (if (= (length args) 1) (car args)\n",
    "           `(if ,(car args) (and ,@(cdr args)) #f)))))\n",
    "\n",
    ";; More macros can also go here\n",
    "\n",
    ")\"\"\"))\n",
    "\n",
    "if __name__ == '__main__':\n",
    "    repl()\n"
   ]
  },
  {
   "cell_type": "code",
   "execution_count": 30,
   "id": "b8ea350c",
   "metadata": {},
   "outputs": [
    {
     "name": "stdout",
     "output_type": "stream",
     "text": [
      "(quote (testing 1 (2.0) -3.14e159)) => (testing 1 (2.0) -3.14e+159)\n",
      "(+ 2 2) => 4\n",
      "(+ (* 2 100) (* 1 10)) => 210\n",
      "(if (> 6 5) (+ 1 1) (+ 2 2)) => 2\n",
      "(if (< 6 5) (+ 1 1) (+ 2 2)) => 4\n",
      "(define x 3) => None\n",
      "x => 3\n",
      "(+ x x) => 6\n",
      "((lambda (x) (+ x x)) 5) => 10\n",
      "(define twice (lambda (x) (* 2 x))) => None\n",
      "(twice 5) => 10\n",
      "(define compose (lambda (f g) (lambda (x) (f (g x))))) => None\n",
      "((compose list twice) 5) => (10)\n",
      "(define repeat (lambda (f) (compose f f))) => None\n",
      "((repeat twice) 5) => 20\n",
      "((repeat (repeat twice)) 5) => 80\n",
      "(define fact (lambda (n) (if (<= n 1) 1 (* n (fact (- n 1)))))) => None\n",
      "(fact 3) => 6\n",
      "(fact 50) => 30414093201713378043612608166064768844377641568960512000000000000\n",
      "(define abs (lambda (n) ((if (> n 0) + -) 0 n))) => None\n",
      "(list (abs -3) (abs 0) (abs 3)) => (3 0 3)\n",
      "(define combine (lambda (f)\n",
      "    (lambda (x y)\n",
      "      (if (null? x) (quote ())\n",
      "          (f (list (car x) (car y))\n",
      "             ((combine f) (cdr x) (cdr y))))))) => None\n",
      "(define zip (combine cons)) => None\n",
      "(zip (list 1 2 3 4) (list 5 6 7 8)) => ((1 5) (2 6) (3 7) (4 8))\n",
      "(define riff-shuffle (lambda (deck) (begin\n",
      "    (define take (lambda (n seq) (if (<= n 0) (quote ()) (cons (car seq) (take (- n 1) (cdr seq))))))\n",
      "    (define drop (lambda (n seq) (if (<= n 0) seq (drop (- n 1) (cdr seq)))))\n",
      "    (define mid (lambda (seq) (/ (length seq) 2)))\n",
      "    ((combine append) (take (mid deck) deck) (drop (mid deck) deck))))) => None\n",
      "(riff-shuffle (list 1 2 3 4 5 6 7 8)) => (1 5 2 6 3 7 4 8)\n",
      "((repeat riff-shuffle) (list 1 2 3 4 5 6 7 8)) => (1 3 5 7 2 4 6 8)\n",
      "(riff-shuffle (riff-shuffle (riff-shuffle (list 1 2 3 4 5 6 7 8)))) => (1 2 3 4 5 6 7 8)\n",
      "********************************************* lis.py: 0 out of 28 tests fail.\n",
      "(quote (testing 1 (2.0) -3.14e159)) => (testing 1 (2.0) -3.14e+159)\n",
      "(+ 2 2) => 4\n",
      "(+ (* 2 100) (* 1 10)) => 210\n",
      "(if (> 6 5) (+ 1 1) (+ 2 2)) => 2\n",
      "(if (< 6 5) (+ 1 1) (+ 2 2)) => 4\n",
      "(define x 3) => None\n",
      "x => 3\n",
      "(+ x x) => 6\n",
      "((lambda (x) (+ x x)) 5) => 10\n",
      "(define twice (lambda (x) (* 2 x))) => None\n",
      "(twice 5) => 10\n",
      "(define compose (lambda (f g) (lambda (x) (f (g x))))) => None\n",
      "((compose list twice) 5) => (10)\n",
      "(define repeat (lambda (f) (compose f f))) => None\n",
      "((repeat twice) 5) => 20\n",
      "((repeat (repeat twice)) 5) => 80\n",
      "(define fact (lambda (n) (if (<= n 1) 1 (* n (fact (- n 1)))))) => None\n",
      "(fact 3) => 6\n",
      "(fact 50) => 30414093201713378043612608166064768844377641568960512000000000000\n",
      "(define abs (lambda (n) ((if (> n 0) + -) 0 n))) => None\n",
      "(list (abs -3) (abs 0) (abs 3)) => (3 0 3)\n",
      "(define combine (lambda (f)\n",
      "    (lambda (x y)\n",
      "      (if (null? x) (quote ())\n",
      "          (f (list (car x) (car y))\n",
      "             ((combine f) (cdr x) (cdr y))))))) => None\n",
      "(define zip (combine cons)) => None\n",
      "(zip (list 1 2 3 4) (list 5 6 7 8)) => ((1 5) (2 6) (3 7) (4 8))\n",
      "(define riff-shuffle (lambda (deck) (begin\n",
      "    (define take (lambda (n seq) (if (<= n 0) (quote ()) (cons (car seq) (take (- n 1) (cdr seq))))))\n",
      "    (define drop (lambda (n seq) (if (<= n 0) seq (drop (- n 1) (cdr seq)))))\n",
      "    (define mid (lambda (seq) (/ (length seq) 2)))\n",
      "    ((combine append) (take (mid deck) deck) (drop (mid deck) deck))))) => None\n",
      "(riff-shuffle (list 1 2 3 4 5 6 7 8)) => (1 5 2 6 3 7 4 8)\n",
      "((repeat riff-shuffle) (list 1 2 3 4 5 6 7 8)) => (1 3 5 7 2 4 6 8)\n",
      "(riff-shuffle (riff-shuffle (riff-shuffle (list 1 2 3 4 5 6 7 8)))) => (1 2 3 4 5 6 7 8)\n",
      "() =raises=> SyntaxError (): wrong length\n",
      "(set! x) =raises=> SyntaxError (set! x): wrong length\n",
      "(define 3 4) =raises=> SyntaxError (define 3 4): can define only a symbol\n",
      "(quote 1 2) =raises=> SyntaxError (quote 1 2): wrong length\n",
      "(if 1 2 3 4) =raises=> SyntaxError (if 1 2 3 4): wrong length\n",
      "(lambda 3 3) =raises=> SyntaxError (lambda 3 3): illegal lambda argument list\n",
      "(lambda (x)) =raises=> SyntaxError (lambda (x)): wrong length\n",
      "(if (= 1 2) (define-macro a 'a) \n",
      "     (define-macro a 'b)) =raises=> SyntaxError (define-macro a (quote a)): define-macro only allowed at top level\n",
      "(define (twice x) (* 2 x)) => None\n",
      "(twice 2) => 4\n",
      "(twice 2 2) =raises=> TypeError expected (x), given (2 2), \n",
      "(define lyst (lambda items items)) => None\n",
      "(lyst 1 2 3 (+ 2 2)) => (1 2 3 4)\n",
      "(if 1 2) => 2\n",
      "(if (= 3 4) 2) => None\n",
      "(begin (define x 1) (set! x (+ x 1)) (+ x 1)) => 3\n",
      "(define ((account bal) amt) (set! bal (+ bal amt)) bal) => None\n",
      "(define a1 (account 100)) => None\n",
      "(a1 0) => 100\n",
      "(a1 10) => 110\n",
      "(a1 10) => 120\n",
      "(define (newton guess function derivative epsilon)\n",
      "    (define guess2 (- guess (/ (function guess) (derivative guess))))\n",
      "    (if (< (abs (- guess guess2)) epsilon) guess2\n",
      "        (newton guess2 function derivative epsilon))) => None\n",
      "(define (square-root a)\n",
      "    (newton 1 (lambda (x) (- (* x x) a)) (lambda (x) (* 2 x)) 1e-8)) => None\n",
      "(> (square-root 200.) 14.14213) => True\n",
      "(< (square-root 200.) 14.14215) => True\n",
      "(= (square-root 200.) (sqrt 200.)) => True\n",
      "(define (sum-squares-range start end)\n",
      "         (define (sumsq-acc start end acc)\n",
      "            (if (> start end) acc (sumsq-acc (+ start 1) end (+ (* start start) acc))))\n",
      "         (sumsq-acc start end 0)) => None\n",
      "(sum-squares-range 1 3000) => 9004500500\n",
      "(call/cc (lambda (throw) (+ 5 (* 10 (throw 1))))) ;; throw => 1\n",
      "(call/cc (lambda (throw) (+ 5 (* 10 1)))) ;; do not throw => 15\n",
      "(call/cc (lambda (throw) \n",
      "         (+ 5 (* 10 (call/cc (lambda (escape) (* 100 (escape 3)))))))) ; 1 level => 35\n",
      "(call/cc (lambda (throw) \n",
      "         (+ 5 (* 10 (call/cc (lambda (escape) (* 100 (throw 3)))))))) ; 2 levels => 3\n",
      "(call/cc (lambda (throw) \n",
      "         (+ 5 (* 10 (call/cc (lambda (escape) (* 100 1))))))) ; 0 levels => 1005\n",
      "(* 1i 1i) => (-1+0j)\n",
      "(sqrt -1) => 1j\n",
      "(let ((a 1) (b 2)) (+ a b)) => 3\n",
      "(let ((a 1) (b 2 3)) (+ a b)) =raises=> SyntaxError (let ((a 1) (b 2 3)) (+ a b)): illegal binding list\n",
      "(and 1 2 3) => 3\n",
      "(and (> 2 1) 2 3) => 3\n",
      "(and) => True\n",
      "(and (> 2 1) (> 2 3)) => False\n",
      "(define-macro unless (lambda args `(if (not ,(car args)) (begin ,@(cdr args))))) ; test ` => None\n",
      "(unless (= 2 (+ 1 1)) (display 2) 3 4) => None\n",
      "2\\n(unless (= 4 (+ 1 1)) (display 2) (display \"\\n\") 3 4) => 4\n",
      "(quote x) => x\n",
      "(quote (1 2 three)) => (1 2 three)\n",
      "'x => x\n",
      "'(one 2 3) => (one 2 3)\n",
      "(define L (list 1 2 3)) => None\n",
      "`(testing ,@L testing) => (testing 1 2 3 testing)\n",
      "`(testing ,L testing) => (testing (1 2 3) testing)\n",
      "`,@L =raises=> SyntaxError (unquote-splicing L): can't splice here\n",
      "'(1 ;test comments '\n",
      "     ;skip this line\n",
      "     2 ; more ; comments ; ) )\n",
      "     3) ; final comment => (1 2 3)\n",
      "********************************************* lispy.py: 0 out of 81 tests fail.\n"
     ]
    }
   ],
   "source": [
    "from __future__ import print_function\n",
    "\n",
    "################ Tests for lis.py and lispy.py\n",
    "\n",
    "lis_tests = [\n",
    "    (\"(quote (testing 1 (2.0) -3.14e159))\", ['testing', 1, [2.0], -3.14e159]),\n",
    "    (\"(+ 2 2)\", 4),\n",
    "    (\"(+ (* 2 100) (* 1 10))\", 210),\n",
    "    (\"(if (> 6 5) (+ 1 1) (+ 2 2))\", 2),\n",
    "    (\"(if (< 6 5) (+ 1 1) (+ 2 2))\", 4),\n",
    "    (\"(define x 3)\", None), (\"x\", 3), (\"(+ x x)\", 6),\n",
    "    (\"((lambda (x) (+ x x)) 5)\", 10),\n",
    "    (\"(define twice (lambda (x) (* 2 x)))\", None), (\"(twice 5)\", 10),\n",
    "    (\"(define compose (lambda (f g) (lambda (x) (f (g x)))))\", None),\n",
    "    (\"((compose list twice) 5)\", [10]),\n",
    "    (\"(define repeat (lambda (f) (compose f f)))\", None),\n",
    "    (\"((repeat twice) 5)\", 20), (\"((repeat (repeat twice)) 5)\", 80),\n",
    "    (\"(define fact (lambda (n) (if (<= n 1) 1 (* n (fact (- n 1))))))\", None),\n",
    "    (\"(fact 3)\", 6),\n",
    "    (\"(fact 50)\", 30414093201713378043612608166064768844377641568960512000000000000),\n",
    "    (\"(define abs (lambda (n) ((if (> n 0) + -) 0 n)))\", None),\n",
    "    (\"(list (abs -3) (abs 0) (abs 3))\", [3, 0, 3]),\n",
    "    (\"\"\"(define combine (lambda (f)\n",
    "    (lambda (x y)\n",
    "      (if (null? x) (quote ())\n",
    "          (f (list (car x) (car y))\n",
    "             ((combine f) (cdr x) (cdr y)))))))\"\"\", None),\n",
    "    (\"(define zip (combine cons))\", None),\n",
    "    (\"(zip (list 1 2 3 4) (list 5 6 7 8))\", [[1, 5], [2, 6], [3, 7], [4, 8]]),\n",
    "    (\"\"\"(define riff-shuffle (lambda (deck) (begin\n",
    "    (define take (lambda (n seq) (if (<= n 0) (quote ()) (cons (car seq) (take (- n 1) (cdr seq))))))\n",
    "    (define drop (lambda (n seq) (if (<= n 0) seq (drop (- n 1) (cdr seq)))))\n",
    "    (define mid (lambda (seq) (/ (length seq) 2)))\n",
    "    ((combine append) (take (mid deck) deck) (drop (mid deck) deck)))))\"\"\", None),\n",
    "    (\"(riff-shuffle (list 1 2 3 4 5 6 7 8))\", [1, 5, 2, 6, 3, 7, 4, 8]),\n",
    "    (\"((repeat riff-shuffle) (list 1 2 3 4 5 6 7 8))\",  [1, 3, 5, 7, 2, 4, 6, 8]),\n",
    "    (\"(riff-shuffle (riff-shuffle (riff-shuffle (list 1 2 3 4 5 6 7 8))))\", [1,2,3,4,5,6,7,8]),\n",
    "    ]\n",
    "\n",
    "lispy_tests = [\n",
    "    (\"()\", SyntaxError), (\"(set! x)\", SyntaxError), \n",
    "    (\"(define 3 4)\", SyntaxError),\n",
    "    (\"(quote 1 2)\", SyntaxError), (\"(if 1 2 3 4)\", SyntaxError), \n",
    "    (\"(lambda 3 3)\", SyntaxError), (\"(lambda (x))\", SyntaxError),\n",
    "    (\"\"\"(if (= 1 2) (define-macro a 'a) \n",
    "     (define-macro a 'b))\"\"\", SyntaxError),\n",
    "    (\"(define (twice x) (* 2 x))\", None), (\"(twice 2)\", 4),\n",
    "    (\"(twice 2 2)\", TypeError),\n",
    "    (\"(define lyst (lambda items items))\", None),\n",
    "    (\"(lyst 1 2 3 (+ 2 2))\", [1,2,3,4]),\n",
    "    (\"(if 1 2)\", 2),\n",
    "    (\"(if (= 3 4) 2)\", None),\n",
    "    (\"(begin (define x 1) (set! x (+ x 1)) (+ x 1))\", 3),\n",
    "    (\"(define ((account bal) amt) (set! bal (+ bal amt)) bal)\", None),\n",
    "    (\"(define a1 (account 100))\", None),\n",
    "    (\"(a1 0)\", 100), (\"(a1 10)\", 110), (\"(a1 10)\", 120),\n",
    "    (\"\"\"(define (newton guess function derivative epsilon)\n",
    "    (define guess2 (- guess (/ (function guess) (derivative guess))))\n",
    "    (if (< (abs (- guess guess2)) epsilon) guess2\n",
    "        (newton guess2 function derivative epsilon)))\"\"\", None),\n",
    "    (\"\"\"(define (square-root a)\n",
    "    (newton 1 (lambda (x) (- (* x x) a)) (lambda (x) (* 2 x)) 1e-8))\"\"\", None),\n",
    "    (\"(> (square-root 200.) 14.14213)\", True),\n",
    "    (\"(< (square-root 200.) 14.14215)\", True),\n",
    "    (\"(= (square-root 200.) (sqrt 200.))\", True),\n",
    "    (\"\"\"(define (sum-squares-range start end)\n",
    "         (define (sumsq-acc start end acc)\n",
    "            (if (> start end) acc (sumsq-acc (+ start 1) end (+ (* start start) acc))))\n",
    "         (sumsq-acc start end 0))\"\"\", None),\n",
    "    (\"(sum-squares-range 1 3000)\", 9004500500), ## Tests tail recursion\n",
    "    (\"(call/cc (lambda (throw) (+ 5 (* 10 (throw 1))))) ;; throw\", 1),\n",
    "    (\"(call/cc (lambda (throw) (+ 5 (* 10 1)))) ;; do not throw\", 15),\n",
    "    (\"\"\"(call/cc (lambda (throw) \n",
    "         (+ 5 (* 10 (call/cc (lambda (escape) (* 100 (escape 3)))))))) ; 1 level\"\"\", 35),\n",
    "    (\"\"\"(call/cc (lambda (throw) \n",
    "         (+ 5 (* 10 (call/cc (lambda (escape) (* 100 (throw 3)))))))) ; 2 levels\"\"\", 3),\n",
    "    (\"\"\"(call/cc (lambda (throw) \n",
    "         (+ 5 (* 10 (call/cc (lambda (escape) (* 100 1))))))) ; 0 levels\"\"\", 1005),\n",
    "    (\"(* 1i 1i)\", -1), (\"(sqrt -1)\", 1j),\n",
    "    (\"(let ((a 1) (b 2)) (+ a b))\", 3),\n",
    "    (\"(let ((a 1) (b 2 3)) (+ a b))\", SyntaxError),\n",
    "    (\"(and 1 2 3)\", 3), (\"(and (> 2 1) 2 3)\", 3), (\"(and)\", True),\n",
    "    (\"(and (> 2 1) (> 2 3))\", False),\n",
    "    (\"(define-macro unless (lambda args `(if (not ,(car args)) (begin ,@(cdr args))))) ; test `\", None),\n",
    "    (\"(unless (= 2 (+ 1 1)) (display 2) 3 4)\", None),\n",
    "    (r'(unless (= 4 (+ 1 1)) (display 2) (display \"\\n\") 3 4)', 4),\n",
    "    (\"(quote x)\", 'x'), \n",
    "    (\"(quote (1 2 three))\", [1, 2, 'three']), \n",
    "    (\"'x\", 'x'),\n",
    "    (\"'(one 2 3)\", ['one', 2, 3]),\n",
    "    (\"(define L (list 1 2 3))\", None),\n",
    "    (\"`(testing ,@L testing)\", ['testing',1,2,3,'testing']),\n",
    "    (\"`(testing ,L testing)\", ['testing',[1,2,3],'testing']),\n",
    "    (\"`,@L\", SyntaxError),\n",
    "    (\"\"\"'(1 ;test comments '\n",
    "     ;skip this line\n",
    "     2 ; more ; comments ; ) )\n",
    "     3) ; final comment\"\"\", [1,2,3]),\n",
    "    ]\n",
    "\n",
    "def test(tests, name=''):\n",
    "    \"For each (exp, expected) test case, see if eval(parse(exp)) == expected.\"\n",
    "    fails = 0\n",
    "    for (x, expected) in tests:\n",
    "        try:\n",
    "            result = eval(parse(x))\n",
    "            print(x, '=>', lispstr(result))\n",
    "            ok = (result == expected)\n",
    "        except Exception as e:\n",
    "            print(x, '=raises=>', type(e).__name__, e)\n",
    "            ok = isinstance(expected, type) and issubclass(expected, Exception) and isinstance(e, expected)\n",
    "        if not ok:\n",
    "            fails += 1\n",
    "            print('FAIL!!!  Expected', expected)\n",
    "    print('%s %s: %d out of %d tests fail.' % ('*'*45, name, fails, len(tests)))\n",
    "\n",
    "if __name__ == '__main__':\n",
    "    #from lis import *\n",
    "    test(lis_tests, 'lis.py')\n",
    "    #from lispy import *\n",
    "    test(lis_tests+lispy_tests, 'lispy.py')\n",
    "    \n"
   ]
  },
  {
   "cell_type": "code",
   "execution_count": 36,
   "id": "737308e9",
   "metadata": {},
   "outputs": [
    {
     "data": {
      "text/plain": [
       "0.2857142857142857"
      ]
     },
     "execution_count": 36,
     "metadata": {},
     "output_type": "execute_result"
    }
   ],
   "source": [
    "4/14"
   ]
  }
 ],
 "metadata": {
  "kernelspec": {
   "display_name": "Python 3 (ipykernel)",
   "language": "python",
   "name": "python3"
  },
  "language_info": {
   "codemirror_mode": {
    "name": "ipython",
    "version": 3
   },
   "file_extension": ".py",
   "mimetype": "text/x-python",
   "name": "python",
   "nbconvert_exporter": "python",
   "pygments_lexer": "ipython3",
   "version": "3.8.13"
  }
 },
 "nbformat": 4,
 "nbformat_minor": 5
}
