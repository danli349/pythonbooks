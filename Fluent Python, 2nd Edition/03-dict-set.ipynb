{
 "cells": [
  {
   "cell_type": "code",
   "execution_count": 1,
   "metadata": {},
   "outputs": [
    {
     "name": "stdout",
     "output_type": "stream",
     "text": [
      "3.8.5 (default, Sep  3 2020, 21:29:08) [MSC v.1916 64 bit (AMD64)]\n"
     ]
    }
   ],
   "source": [
    "import sys\n",
    "print(sys.version)"
   ]
  },
  {
   "cell_type": "code",
   "execution_count": 2,
   "metadata": {},
   "outputs": [
    {
     "data": {
      "text/plain": [
       "True"
      ]
     },
     "execution_count": 2,
     "metadata": {},
     "output_type": "execute_result"
    }
   ],
   "source": [
    "from collections import abc\n",
    "my_dict = {}\n",
    "isinstance(my_dict, abc.Mapping)"
   ]
  },
  {
   "cell_type": "code",
   "execution_count": 3,
   "metadata": {},
   "outputs": [
    {
     "data": {
      "text/plain": [
       "True"
      ]
     },
     "execution_count": 3,
     "metadata": {},
     "output_type": "execute_result"
    }
   ],
   "source": [
    "isinstance(my_dict, abc.MutableMapping)"
   ]
  },
  {
   "cell_type": "code",
   "execution_count": 4,
   "metadata": {},
   "outputs": [
    {
     "data": {
      "text/plain": [
       "-3907003130834322577"
      ]
     },
     "execution_count": 4,
     "metadata": {},
     "output_type": "execute_result"
    }
   ],
   "source": [
    "tt = (1, 2, (30, 40))\n",
    "hash(tt)"
   ]
  },
  {
   "cell_type": "code",
   "execution_count": 5,
   "metadata": {},
   "outputs": [
    {
     "name": "stdout",
     "output_type": "stream",
     "text": [
      "unhashable type: 'list'\n"
     ]
    }
   ],
   "source": [
    "tl = (1, 2, [30, 40])\n",
    "try:\n",
    "    hash(tl)\n",
    "except TypeError as e:\n",
    "    print(e)"
   ]
  },
  {
   "cell_type": "code",
   "execution_count": 6,
   "metadata": {},
   "outputs": [
    {
     "data": {
      "text/plain": [
       "5149391500123939311"
      ]
     },
     "execution_count": 6,
     "metadata": {},
     "output_type": "execute_result"
    }
   ],
   "source": [
    "tf = (1, 2, frozenset([30, 40]))\n",
    "hash(tf)"
   ]
  },
  {
   "cell_type": "code",
   "execution_count": 7,
   "metadata": {},
   "outputs": [
    {
     "data": {
      "text/plain": [
       "True"
      ]
     },
     "execution_count": 7,
     "metadata": {},
     "output_type": "execute_result"
    }
   ],
   "source": [
    "a = dict(one=1, two=2, three=3)\n",
    "b = {'three': 3, 'two': 2, 'one': 1}\n",
    "c = dict([('two', 2), ('one', 1), ('three', 3)])\n",
    "d = dict(zip(['one', 'two', 'three'], [1, 2, 3]))\n",
    "e = dict({'three': 3, 'one': 1, 'two': 2})\n",
    "a == b == c == d == e"
   ]
  },
  {
   "cell_type": "code",
   "execution_count": 8,
   "metadata": {},
   "outputs": [
    {
     "data": {
      "text/plain": [
       "{'one': 1, 'two': 2, 'three': 3}"
      ]
     },
     "execution_count": 8,
     "metadata": {},
     "output_type": "execute_result"
    }
   ],
   "source": [
    "a"
   ]
  },
  {
   "cell_type": "code",
   "execution_count": 9,
   "metadata": {},
   "outputs": [
    {
     "data": {
      "text/plain": [
       "['one', 'two', 'three']"
      ]
     },
     "execution_count": 9,
     "metadata": {},
     "output_type": "execute_result"
    }
   ],
   "source": [
    "list(a.keys())"
   ]
  },
  {
   "cell_type": "code",
   "execution_count": 10,
   "metadata": {},
   "outputs": [
    {
     "data": {
      "text/plain": [
       "{'two': 2, 'one': 1, 'three': 3}"
      ]
     },
     "execution_count": 10,
     "metadata": {},
     "output_type": "execute_result"
    }
   ],
   "source": [
    "c"
   ]
  },
  {
   "cell_type": "code",
   "execution_count": 11,
   "metadata": {},
   "outputs": [
    {
     "data": {
      "text/plain": [
       "('three', 3)"
      ]
     },
     "execution_count": 11,
     "metadata": {},
     "output_type": "execute_result"
    }
   ],
   "source": [
    "c.popitem()"
   ]
  },
  {
   "cell_type": "code",
   "execution_count": 12,
   "metadata": {},
   "outputs": [
    {
     "data": {
      "text/plain": [
       "{'two': 2, 'one': 1}"
      ]
     },
     "execution_count": 12,
     "metadata": {},
     "output_type": "execute_result"
    }
   ],
   "source": [
    "c"
   ]
  },
  {
   "cell_type": "code",
   "execution_count": 1,
   "metadata": {},
   "outputs": [],
   "source": [
    "dial_codes = [                                                  # <1>\n",
    "    (880, 'Bangladesh'),\n",
    "    (55,  'Brazil'),\n",
    "    (86,  'China'),\n",
    "    (91,  'India'),\n",
    "    (62,  'Indonesia'),\n",
    "    (81,  'Japan'),\n",
    "    (234, 'Nigeria'),\n",
    "    (92,  'Pakistan'),\n",
    "    (7,   'Russia'),\n",
    "    (1,   'United States'),\n",
    "]"
   ]
  },
  {
   "cell_type": "code",
   "execution_count": 2,
   "metadata": {},
   "outputs": [
    {
     "data": {
      "text/plain": [
       "[(1, 'United States'),\n",
       " (7, 'Russia'),\n",
       " (55, 'Brazil'),\n",
       " (62, 'Indonesia'),\n",
       " (81, 'Japan'),\n",
       " (86, 'China'),\n",
       " (91, 'India'),\n",
       " (92, 'Pakistan'),\n",
       " (234, 'Nigeria'),\n",
       " (880, 'Bangladesh')]"
      ]
     },
     "execution_count": 2,
     "metadata": {},
     "output_type": "execute_result"
    }
   ],
   "source": [
    "sorted(dial_codes)"
   ]
  },
  {
   "cell_type": "code",
   "execution_count": 3,
   "metadata": {},
   "outputs": [
    {
     "data": {
      "text/plain": [
       "[(880, 'Bangladesh'),\n",
       " (55, 'Brazil'),\n",
       " (86, 'China'),\n",
       " (91, 'India'),\n",
       " (62, 'Indonesia'),\n",
       " (81, 'Japan'),\n",
       " (234, 'Nigeria'),\n",
       " (92, 'Pakistan'),\n",
       " (7, 'Russia'),\n",
       " (1, 'United States')]"
      ]
     },
     "execution_count": 3,
     "metadata": {},
     "output_type": "execute_result"
    }
   ],
   "source": [
    "dial_codes"
   ]
  },
  {
   "cell_type": "code",
   "execution_count": 5,
   "metadata": {},
   "outputs": [
    {
     "name": "stdout",
     "output_type": "stream",
     "text": [
      "d1: dict_keys([86, 91, 1, 62, 55, 92, 880, 234, 7, 81])\n"
     ]
    }
   ],
   "source": [
    "DIAL_CODES = [\n",
    "(86, 'China'),\n",
    "(91, 'India'),\n",
    "(1, 'United States'),\n",
    "(62, 'Indonesia'),\n",
    "(55, 'Brazil'),\n",
    "(92, 'Pakistan'),\n",
    "(880, 'Bangladesh'),\n",
    "(234, 'Nigeria'),\n",
    "(7, 'Russia'),\n",
    "(81, 'Japan'),\n",
    "]\n",
    "\n",
    "d1 = dict(DIAL_CODES)\n",
    "print('d1:', d1.keys())"
   ]
  },
  {
   "cell_type": "code",
   "execution_count": 7,
   "metadata": {},
   "outputs": [
    {
     "data": {
      "text/plain": [
       "[(1, 'United States'),\n",
       " (7, 'Russia'),\n",
       " (55, 'Brazil'),\n",
       " (62, 'Indonesia'),\n",
       " (81, 'Japan'),\n",
       " (86, 'China'),\n",
       " (91, 'India'),\n",
       " (92, 'Pakistan'),\n",
       " (234, 'Nigeria'),\n",
       " (880, 'Bangladesh')]"
      ]
     },
     "execution_count": 7,
     "metadata": {},
     "output_type": "execute_result"
    }
   ],
   "source": [
    "sorted(DIAL_CODES)"
   ]
  },
  {
   "cell_type": "code",
   "execution_count": 8,
   "metadata": {},
   "outputs": [
    {
     "name": "stdout",
     "output_type": "stream",
     "text": [
      "d2: dict_keys([1, 7, 55, 62, 81, 86, 91, 92, 234, 880])\n"
     ]
    }
   ],
   "source": [
    "d2 = dict(sorted(DIAL_CODES))\n",
    "print('d2:', d2.keys())"
   ]
  },
  {
   "cell_type": "code",
   "execution_count": 9,
   "metadata": {},
   "outputs": [
    {
     "data": {
      "text/plain": [
       "[(880, 'Bangladesh'),\n",
       " (55, 'Brazil'),\n",
       " (86, 'China'),\n",
       " (91, 'India'),\n",
       " (62, 'Indonesia'),\n",
       " (81, 'Japan'),\n",
       " (234, 'Nigeria'),\n",
       " (92, 'Pakistan'),\n",
       " (7, 'Russia'),\n",
       " (1, 'United States')]"
      ]
     },
     "execution_count": 9,
     "metadata": {},
     "output_type": "execute_result"
    }
   ],
   "source": [
    "sorted(DIAL_CODES, key=lambda x:x[1])"
   ]
  },
  {
   "cell_type": "code",
   "execution_count": 10,
   "metadata": {},
   "outputs": [
    {
     "name": "stdout",
     "output_type": "stream",
     "text": [
      "d3: dict_keys([880, 55, 86, 91, 62, 81, 234, 92, 7, 1])\n"
     ]
    }
   ],
   "source": [
    "d3 = dict(sorted(DIAL_CODES, key=lambda x:x[1]))\n",
    "print('d3:', d3.keys())"
   ]
  },
  {
   "cell_type": "code",
   "execution_count": 17,
   "metadata": {},
   "outputs": [
    {
     "data": {
      "text/plain": [
       "{86: 'China',\n",
       " 91: 'India',\n",
       " 1: 'United States',\n",
       " 62: 'Indonesia',\n",
       " 55: 'Brazil',\n",
       " 92: 'Pakistan',\n",
       " 880: 'Bangladesh',\n",
       " 234: 'Nigeria',\n",
       " 7: 'Russia',\n",
       " 81: 'Japan'}"
      ]
     },
     "execution_count": 17,
     "metadata": {},
     "output_type": "execute_result"
    }
   ],
   "source": [
    "d1"
   ]
  },
  {
   "cell_type": "code",
   "execution_count": 16,
   "metadata": {},
   "outputs": [
    {
     "data": {
      "text/plain": [
       "{1: 'United States',\n",
       " 7: 'Russia',\n",
       " 55: 'Brazil',\n",
       " 62: 'Indonesia',\n",
       " 81: 'Japan',\n",
       " 86: 'China',\n",
       " 91: 'India',\n",
       " 92: 'Pakistan',\n",
       " 234: 'Nigeria',\n",
       " 880: 'Bangladesh'}"
      ]
     },
     "execution_count": 16,
     "metadata": {},
     "output_type": "execute_result"
    }
   ],
   "source": [
    "d2"
   ]
  },
  {
   "cell_type": "code",
   "execution_count": 15,
   "metadata": {},
   "outputs": [
    {
     "data": {
      "text/plain": [
       "{880: 'Bangladesh',\n",
       " 55: 'Brazil',\n",
       " 86: 'China',\n",
       " 91: 'India',\n",
       " 62: 'Indonesia',\n",
       " 81: 'Japan',\n",
       " 234: 'Nigeria',\n",
       " 92: 'Pakistan',\n",
       " 7: 'Russia',\n",
       " 1: 'United States'}"
      ]
     },
     "execution_count": 15,
     "metadata": {},
     "output_type": "execute_result"
    }
   ],
   "source": [
    "d3"
   ]
  },
  {
   "cell_type": "code",
   "execution_count": 11,
   "metadata": {},
   "outputs": [],
   "source": [
    "assert d1 == d2 and d2 == d3"
   ]
  },
  {
   "cell_type": "code",
   "execution_count": 12,
   "metadata": {},
   "outputs": [
    {
     "data": {
      "text/plain": [
       "True"
      ]
     },
     "execution_count": 12,
     "metadata": {},
     "output_type": "execute_result"
    }
   ],
   "source": [
    "d1 == d2 and d2 == d3"
   ]
  },
  {
   "cell_type": "code",
   "execution_count": 13,
   "metadata": {},
   "outputs": [
    {
     "name": "stdout",
     "output_type": "stream",
     "text": [
      "# BEGIN DIALCODES\n",
      "# dial codes of the top 10 most populous countries\n",
      "DIAL_CODES = [\n",
      "        (86, 'China'),\n",
      "        (91, 'India'),\n",
      "        (1, 'United States'),\n",
      "        (62, 'Indonesia'),\n",
      "        (55, 'Brazil'),\n",
      "        (92, 'Pakistan'),\n",
      "        (880, 'Bangladesh'),\n",
      "        (234, 'Nigeria'),\n",
      "        (7, 'Russia'),\n",
      "        (81, 'Japan'),\n",
      "    ]\n",
      "\n",
      "d1 = dict(DIAL_CODES)  # <1>\n",
      "print('d1:', d1.keys())\n",
      "d2 = dict(sorted(DIAL_CODES))  # <2>\n",
      "print('d2:', d2.keys())\n",
      "d3 = dict(sorted(DIAL_CODES, key=lambda x:x[1]))  # <3>\n",
      "print('d3:', d3.keys())\n",
      "assert d1 == d2 and d2 == d3  # <4>\n",
      "# END DIALCODES\n",
      "\"\"\"\n",
      "# BEGIN DIALCODES_OUTPUT\n",
      "d1: dict_keys([880, 1, 86, 55, 7, 234, 91, 92, 62, 81])\n",
      "d2: dict_keys([880, 1, 91, 86, 81, 55, 234, 7, 92, 62])\n",
      "d3: dict_keys([880, 81, 1, 86, 55, 7, 234, 91, 92, 62])\n",
      "# END DIALCODES_OUTPUT\n",
      "\"\"\"\n"
     ]
    }
   ],
   "source": [
    "!cat example-code/03-dict-set/dialcodes.py"
   ]
  },
  {
   "cell_type": "code",
   "execution_count": 14,
   "metadata": {},
   "outputs": [
    {
     "name": "stdout",
     "output_type": "stream",
     "text": [
      "d1: dict_keys([86, 91, 1, 62, 55, 92, 880, 234, 7, 81])\n",
      "d2: dict_keys([1, 7, 55, 62, 81, 86, 91, 92, 234, 880])\n",
      "d3: dict_keys([880, 55, 86, 91, 62, 81, 234, 92, 7, 1])\n"
     ]
    }
   ],
   "source": [
    "!python example-code/03-dict-set/dialcodes.py"
   ]
  },
  {
   "cell_type": "code",
   "execution_count": 14,
   "metadata": {},
   "outputs": [
    {
     "data": {
      "text/plain": [
       "{'Bangladesh': 880,\n",
       " 'Brazil': 55,\n",
       " 'China': 86,\n",
       " 'India': 91,\n",
       " 'Indonesia': 62,\n",
       " 'Japan': 81,\n",
       " 'Nigeria': 234,\n",
       " 'Pakistan': 92,\n",
       " 'Russia': 7,\n",
       " 'United States': 1}"
      ]
     },
     "execution_count": 14,
     "metadata": {},
     "output_type": "execute_result"
    }
   ],
   "source": [
    "country_dial = {country: code for code, country in dial_codes}\n",
    "country_dial"
   ]
  },
  {
   "cell_type": "code",
   "execution_count": 15,
   "metadata": {},
   "outputs": [
    {
     "data": {
      "text/plain": [
       "{55: 'BRAZIL', 62: 'INDONESIA', 7: 'RUSSIA', 1: 'UNITED STATES'}"
      ]
     },
     "execution_count": 15,
     "metadata": {},
     "output_type": "execute_result"
    }
   ],
   "source": [
    "{code: country.upper() \n",
    "    for country, code in sorted(country_dial.items())\n",
    "    if code < 70}"
   ]
  },
  {
   "cell_type": "code",
   "execution_count": 16,
   "metadata": {},
   "outputs": [
    {
     "data": {
      "text/plain": [
       "{'United States': 1,\n",
       " 'Russia': 7,\n",
       " 'Japan': 81,\n",
       " 'Brazil': 55,\n",
       " 'Nigeria': 234,\n",
       " 'Pakistan': 92,\n",
       " 'Bangladesh': 880,\n",
       " 'Indonesia': 62,\n",
       " 'India': 91,\n",
       " 'China': 86}"
      ]
     },
     "execution_count": 16,
     "metadata": {},
     "output_type": "execute_result"
    }
   ],
   "source": [
    "from random import shuffle\n",
    "shuffle(dial_codes)\n",
    "country_dial = {country: code for code, country in dial_codes}\n",
    "country_dial"
   ]
  },
  {
   "cell_type": "code",
   "execution_count": 1,
   "metadata": {},
   "outputs": [
    {
     "name": "stdout",
     "output_type": "stream",
     "text": [
      "# adapted from Alex Martelli's example in \"Re-learning Python\"\n",
      "# http://www.aleax.it/Python/accu04_Relearn_Python_alex.pdf\n",
      "# (slide 41) Ex: lines-by-word file index\n",
      "\n",
      "# tag::INDEX0[]\n",
      "\"\"\"Build an index mapping word -> list of occurrences\"\"\"\n",
      "\n",
      "import re\n",
      "import sys\n",
      "\n",
      "WORD_RE = re.compile(r'\\w+')\n",
      "\n",
      "index = {}\n",
      "with open(sys.argv[1], encoding='utf-8') as fp:\n",
      "    for line_no, line in enumerate(fp, 1):\n",
      "        for match in WORD_RE.finditer(line):\n",
      "            word = match.group()\n",
      "            column_no = match.start() + 1\n",
      "            location = (line_no, column_no)\n",
      "            # this is ugly; coded like this to make a point\n",
      "            occurrences = index.get(word, [])  # <1>\n",
      "            occurrences.append(location)       # <2>\n",
      "            index[word] = occurrences          # <3>\n",
      "\n",
      "# display in alphabetical order\n",
      "for word in sorted(index, key=str.upper):  # <4>\n",
      "    print(word, index[word])\n",
      "# end::INDEX0[]\n"
     ]
    }
   ],
   "source": [
    "!cat example-code-2e/03-dict-set/index0.py"
   ]
  },
  {
   "cell_type": "code",
   "execution_count": 3,
   "metadata": {},
   "outputs": [
    {
     "name": "stdout",
     "output_type": "stream",
     "text": [
      "a [(19, 48), (20, 53)]\n",
      "Although [(11, 1), (16, 1), (18, 1)]\n",
      "ambiguity [(14, 16)]\n",
      "and [(15, 23)]\n",
      "are [(21, 12)]\n",
      "aren [(10, 15)]\n",
      "at [(16, 38)]\n",
      "bad [(19, 50)]\n",
      "be [(15, 14), (16, 27), (20, 50)]\n",
      "beats [(11, 23)]\n",
      "Beautiful [(3, 1)]\n",
      "better [(3, 14), (4, 13), (5, 11), (6, 12), (7, 9), (8, 11), (17, 8), (18, 25)]\n",
      "break [(10, 40)]\n",
      "by [(1, 20)]\n",
      "cases [(10, 9)]\n",
      "complex [(5, 23)]\n",
      "Complex [(6, 1)]\n",
      "complicated [(6, 24)]\n",
      "counts [(9, 13)]\n",
      "dense [(8, 23)]\n",
      "do [(15, 64), (21, 48)]\n",
      "Dutch [(16, 61)]\n",
      "easy [(20, 26)]\n",
      "enough [(10, 30)]\n",
      "Errors [(12, 1)]\n",
      "explain [(19, 34), (20, 34)]\n",
      "Explicit [(4, 1)]\n",
      "explicitly [(13, 8)]\n",
      "face [(14, 8)]\n",
      "first [(16, 41)]\n",
      "Flat [(7, 1)]\n",
      "good [(20, 55)]\n",
      "great [(21, 28)]\n",
      "guess [(14, 52)]\n",
      "hard [(19, 26)]\n",
      "honking [(21, 20)]\n",
      "idea [(19, 54), (20, 60), (21, 34)]\n",
      "If [(19, 1), (20, 1)]\n",
      "implementation [(19, 8), (20, 8)]\n",
      "implicit [(4, 25)]\n",
      "In [(14, 1)]\n",
      "is [(3, 11), (4, 10), (5, 8), (6, 9), (7, 6), (8, 8), (17, 5), (18, 16), (19, 23), (20, 23)]\n",
      "it [(15, 67), (19, 43), (20, 43)]\n",
      "let [(21, 42)]\n",
      "may [(16, 19), (20, 46)]\n",
      "more [(21, 51)]\n",
      "Namespaces [(21, 1)]\n",
      "nested [(7, 21)]\n",
      "never [(12, 15), (17, 20), (18, 10)]\n",
      "not [(16, 23)]\n",
      "Now [(17, 1)]\n",
      "now [(18, 45)]\n",
      "obvious [(15, 49), (16, 30)]\n",
      "of [(1, 9), (14, 13), (21, 56)]\n",
      "often [(18, 19)]\n",
      "one [(15, 17), (15, 43), (21, 16)]\n",
      "only [(15, 38)]\n",
      "pass [(12, 21)]\n",
      "Peters [(1, 27)]\n",
      "practicality [(11, 10)]\n",
      "preferably [(15, 27)]\n",
      "purity [(11, 29)]\n",
      "Python [(1, 12)]\n",
      "re [(16, 58)]\n",
      "Readability [(9, 1)]\n",
      "refuse [(14, 27)]\n",
      "right [(18, 38)]\n",
      "rules [(10, 50)]\n",
      "s [(19, 46), (21, 46)]\n",
      "should [(12, 8), (15, 7)]\n",
      "silenced [(13, 19)]\n",
      "silently [(12, 26)]\n",
      "Simple [(5, 1)]\n",
      "Sparse [(8, 1)]\n",
      "Special [(10, 1)]\n",
      "special [(10, 22)]\n",
      "t [(10, 20)]\n",
      "temptation [(14, 38)]\n",
      "than [(3, 21), (4, 20), (5, 18), (6, 19), (7, 16), (8, 18), (17, 15), (18, 32)]\n",
      "that [(16, 10)]\n",
      "The [(1, 1)]\n",
      "the [(10, 46), (14, 4), (14, 34), (19, 4), (20, 4)]\n",
      "There [(15, 1)]\n",
      "those [(21, 59)]\n",
      "Tim [(1, 23)]\n",
      "to [(10, 37), (14, 49), (15, 61), (19, 31), (20, 31)]\n",
      "ugly [(3, 26)]\n",
      "Unless [(13, 1)]\n",
      "unless [(16, 47)]\n",
      "way [(15, 57), (16, 15)]\n",
      "you [(16, 54)]\n",
      "Zen [(1, 5)]\n"
     ]
    }
   ],
   "source": [
    "!python example-code-2e/03-dict-set/index0.py example-code-2e/03-dict-set/zen.txt"
   ]
  },
  {
   "cell_type": "code",
   "execution_count": 8,
   "metadata": {},
   "outputs": [
    {
     "name": "stdout",
     "output_type": "stream",
     "text": [
      "[(1, 'The Zen of Python, by Tim Peters\\n'), (2, '\\n'), (3, 'Beautiful is better than ugly.\\n'), (4, 'Explicit is better than implicit.\\n'), (5, 'Simple is better than complex.\\n'), (6, 'Complex is better than complicated.\\n'), (7, 'Flat is better than nested.\\n'), (8, 'Sparse is better than dense.\\n'), (9, 'Readability counts.\\n'), (10, \"Special cases aren't special enough to break the rules.\\n\"), (11, 'Although practicality beats purity.\\n'), (12, 'Errors should never pass silently.\\n'), (13, 'Unless explicitly silenced.\\n'), (14, 'In the face of ambiguity, refuse the temptation to guess.\\n'), (15, 'There should be one-- and preferably only one --obvious way to do it.\\n'), (16, \"Although that way may not be obvious at first unless you're Dutch.\\n\"), (17, 'Now is better than never.\\n'), (18, 'Although never is often better than *right* now.\\n'), (19, \"If the implementation is hard to explain, it's a bad idea.\\n\"), (20, 'If the implementation is easy to explain, it may be a good idea.\\n'), (21, \"Namespaces are one honking great idea -- let's do more of those!\\n\")]\n"
     ]
    }
   ],
   "source": [
    "with open('example-code-2e/03-dict-set/zen.txt', encoding='utf-8') as fp:\n",
    "    print(list(enumerate(fp, start=1)))"
   ]
  },
  {
   "cell_type": "code",
   "execution_count": 9,
   "metadata": {},
   "outputs": [
    {
     "name": "stdout",
     "output_type": "stream",
     "text": [
      "[(0, 'The Zen of Python, by Tim Peters\\n'), (1, '\\n'), (2, 'Beautiful is better than ugly.\\n'), (3, 'Explicit is better than implicit.\\n'), (4, 'Simple is better than complex.\\n'), (5, 'Complex is better than complicated.\\n'), (6, 'Flat is better than nested.\\n'), (7, 'Sparse is better than dense.\\n'), (8, 'Readability counts.\\n'), (9, \"Special cases aren't special enough to break the rules.\\n\"), (10, 'Although practicality beats purity.\\n'), (11, 'Errors should never pass silently.\\n'), (12, 'Unless explicitly silenced.\\n'), (13, 'In the face of ambiguity, refuse the temptation to guess.\\n'), (14, 'There should be one-- and preferably only one --obvious way to do it.\\n'), (15, \"Although that way may not be obvious at first unless you're Dutch.\\n\"), (16, 'Now is better than never.\\n'), (17, 'Although never is often better than *right* now.\\n'), (18, \"If the implementation is hard to explain, it's a bad idea.\\n\"), (19, 'If the implementation is easy to explain, it may be a good idea.\\n'), (20, \"Namespaces are one honking great idea -- let's do more of those!\\n\")]\n"
     ]
    }
   ],
   "source": [
    "with open('example-code-2e/03-dict-set/zen.txt', encoding='utf-8') as fp:\n",
    "    print(list(enumerate(fp, start=0)))"
   ]
  },
  {
   "cell_type": "code",
   "execution_count": 11,
   "metadata": {},
   "outputs": [
    {
     "name": "stdout",
     "output_type": "stream",
     "text": [
      "[<re.Match object; span=(0, 3), match='The'>, <re.Match object; span=(4, 7), match='Zen'>, <re.Match object; span=(8, 10), match='of'>, <re.Match object; span=(11, 17), match='Python'>, <re.Match object; span=(19, 21), match='by'>, <re.Match object; span=(22, 25), match='Tim'>, <re.Match object; span=(26, 32), match='Peters'>]\n",
      "[]\n",
      "[<re.Match object; span=(0, 9), match='Beautiful'>, <re.Match object; span=(10, 12), match='is'>, <re.Match object; span=(13, 19), match='better'>, <re.Match object; span=(20, 24), match='than'>, <re.Match object; span=(25, 29), match='ugly'>]\n",
      "[<re.Match object; span=(0, 8), match='Explicit'>, <re.Match object; span=(9, 11), match='is'>, <re.Match object; span=(12, 18), match='better'>, <re.Match object; span=(19, 23), match='than'>, <re.Match object; span=(24, 32), match='implicit'>]\n",
      "[<re.Match object; span=(0, 6), match='Simple'>, <re.Match object; span=(7, 9), match='is'>, <re.Match object; span=(10, 16), match='better'>, <re.Match object; span=(17, 21), match='than'>, <re.Match object; span=(22, 29), match='complex'>]\n",
      "[<re.Match object; span=(0, 7), match='Complex'>, <re.Match object; span=(8, 10), match='is'>, <re.Match object; span=(11, 17), match='better'>, <re.Match object; span=(18, 22), match='than'>, <re.Match object; span=(23, 34), match='complicated'>]\n",
      "[<re.Match object; span=(0, 4), match='Flat'>, <re.Match object; span=(5, 7), match='is'>, <re.Match object; span=(8, 14), match='better'>, <re.Match object; span=(15, 19), match='than'>, <re.Match object; span=(20, 26), match='nested'>]\n",
      "[<re.Match object; span=(0, 6), match='Sparse'>, <re.Match object; span=(7, 9), match='is'>, <re.Match object; span=(10, 16), match='better'>, <re.Match object; span=(17, 21), match='than'>, <re.Match object; span=(22, 27), match='dense'>]\n",
      "[<re.Match object; span=(0, 11), match='Readability'>, <re.Match object; span=(12, 18), match='counts'>]\n",
      "[<re.Match object; span=(0, 7), match='Special'>, <re.Match object; span=(8, 13), match='cases'>, <re.Match object; span=(14, 18), match='aren'>, <re.Match object; span=(19, 20), match='t'>, <re.Match object; span=(21, 28), match='special'>, <re.Match object; span=(29, 35), match='enough'>, <re.Match object; span=(36, 38), match='to'>, <re.Match object; span=(39, 44), match='break'>, <re.Match object; span=(45, 48), match='the'>, <re.Match object; span=(49, 54), match='rules'>]\n",
      "[<re.Match object; span=(0, 8), match='Although'>, <re.Match object; span=(9, 21), match='practicality'>, <re.Match object; span=(22, 27), match='beats'>, <re.Match object; span=(28, 34), match='purity'>]\n",
      "[<re.Match object; span=(0, 6), match='Errors'>, <re.Match object; span=(7, 13), match='should'>, <re.Match object; span=(14, 19), match='never'>, <re.Match object; span=(20, 24), match='pass'>, <re.Match object; span=(25, 33), match='silently'>]\n",
      "[<re.Match object; span=(0, 6), match='Unless'>, <re.Match object; span=(7, 17), match='explicitly'>, <re.Match object; span=(18, 26), match='silenced'>]\n",
      "[<re.Match object; span=(0, 2), match='In'>, <re.Match object; span=(3, 6), match='the'>, <re.Match object; span=(7, 11), match='face'>, <re.Match object; span=(12, 14), match='of'>, <re.Match object; span=(15, 24), match='ambiguity'>, <re.Match object; span=(26, 32), match='refuse'>, <re.Match object; span=(33, 36), match='the'>, <re.Match object; span=(37, 47), match='temptation'>, <re.Match object; span=(48, 50), match='to'>, <re.Match object; span=(51, 56), match='guess'>]\n",
      "[<re.Match object; span=(0, 5), match='There'>, <re.Match object; span=(6, 12), match='should'>, <re.Match object; span=(13, 15), match='be'>, <re.Match object; span=(16, 19), match='one'>, <re.Match object; span=(22, 25), match='and'>, <re.Match object; span=(26, 36), match='preferably'>, <re.Match object; span=(37, 41), match='only'>, <re.Match object; span=(42, 45), match='one'>, <re.Match object; span=(48, 55), match='obvious'>, <re.Match object; span=(56, 59), match='way'>, <re.Match object; span=(60, 62), match='to'>, <re.Match object; span=(63, 65), match='do'>, <re.Match object; span=(66, 68), match='it'>]\n",
      "[<re.Match object; span=(0, 8), match='Although'>, <re.Match object; span=(9, 13), match='that'>, <re.Match object; span=(14, 17), match='way'>, <re.Match object; span=(18, 21), match='may'>, <re.Match object; span=(22, 25), match='not'>, <re.Match object; span=(26, 28), match='be'>, <re.Match object; span=(29, 36), match='obvious'>, <re.Match object; span=(37, 39), match='at'>, <re.Match object; span=(40, 45), match='first'>, <re.Match object; span=(46, 52), match='unless'>, <re.Match object; span=(53, 56), match='you'>, <re.Match object; span=(57, 59), match='re'>, <re.Match object; span=(60, 65), match='Dutch'>]\n",
      "[<re.Match object; span=(0, 3), match='Now'>, <re.Match object; span=(4, 6), match='is'>, <re.Match object; span=(7, 13), match='better'>, <re.Match object; span=(14, 18), match='than'>, <re.Match object; span=(19, 24), match='never'>]\n",
      "[<re.Match object; span=(0, 8), match='Although'>, <re.Match object; span=(9, 14), match='never'>, <re.Match object; span=(15, 17), match='is'>, <re.Match object; span=(18, 23), match='often'>, <re.Match object; span=(24, 30), match='better'>, <re.Match object; span=(31, 35), match='than'>, <re.Match object; span=(37, 42), match='right'>, <re.Match object; span=(44, 47), match='now'>]\n",
      "[<re.Match object; span=(0, 2), match='If'>, <re.Match object; span=(3, 6), match='the'>, <re.Match object; span=(7, 21), match='implementation'>, <re.Match object; span=(22, 24), match='is'>, <re.Match object; span=(25, 29), match='hard'>, <re.Match object; span=(30, 32), match='to'>, <re.Match object; span=(33, 40), match='explain'>, <re.Match object; span=(42, 44), match='it'>, <re.Match object; span=(45, 46), match='s'>, <re.Match object; span=(47, 48), match='a'>, <re.Match object; span=(49, 52), match='bad'>, <re.Match object; span=(53, 57), match='idea'>]\n",
      "[<re.Match object; span=(0, 2), match='If'>, <re.Match object; span=(3, 6), match='the'>, <re.Match object; span=(7, 21), match='implementation'>, <re.Match object; span=(22, 24), match='is'>, <re.Match object; span=(25, 29), match='easy'>, <re.Match object; span=(30, 32), match='to'>, <re.Match object; span=(33, 40), match='explain'>, <re.Match object; span=(42, 44), match='it'>, <re.Match object; span=(45, 48), match='may'>, <re.Match object; span=(49, 51), match='be'>, <re.Match object; span=(52, 53), match='a'>, <re.Match object; span=(54, 58), match='good'>, <re.Match object; span=(59, 63), match='idea'>]\n",
      "[<re.Match object; span=(0, 10), match='Namespaces'>, <re.Match object; span=(11, 14), match='are'>, <re.Match object; span=(15, 18), match='one'>, <re.Match object; span=(19, 26), match='honking'>, <re.Match object; span=(27, 32), match='great'>, <re.Match object; span=(33, 37), match='idea'>, <re.Match object; span=(41, 44), match='let'>, <re.Match object; span=(45, 46), match='s'>, <re.Match object; span=(47, 49), match='do'>, <re.Match object; span=(50, 54), match='more'>, <re.Match object; span=(55, 57), match='of'>, <re.Match object; span=(58, 63), match='those'>]\n"
     ]
    }
   ],
   "source": [
    "import re\n",
    "import sys\n",
    "\n",
    "WORD_RE = re.compile(r'\\w+')\n",
    "\n",
    "with open('example-code-2e/03-dict-set/zen.txt', encoding='utf-8') as fp:\n",
    "    for line_no, line in enumerate(fp, 1):\n",
    "        print(list(WORD_RE.finditer(line)))"
   ]
  },
  {
   "cell_type": "code",
   "execution_count": null,
   "metadata": {},
   "outputs": [],
   "source": [
    "import re\n",
    "import sys\n",
    "\n",
    "WORD_RE = re.compile(r'\\w+')\n",
    "\n",
    "index = {}\n",
    "with open(sys.argv[1], encoding='utf-8') as fp:\n",
    "    for line_no, line in enumerate(fp, 1):\n",
    "        for match in WORD_RE.finditer(line):"
   ]
  },
  {
   "cell_type": "code",
   "execution_count": 13,
   "metadata": {},
   "outputs": [
    {
     "name": "stdout",
     "output_type": "stream",
     "text": [
      "The\n",
      "0\n",
      "Zen\n",
      "4\n",
      "of\n",
      "8\n",
      "Python\n",
      "11\n",
      "by\n",
      "19\n",
      "Tim\n",
      "22\n",
      "Peters\n",
      "26\n",
      "Beautiful\n",
      "0\n",
      "is\n",
      "10\n",
      "better\n",
      "13\n",
      "than\n",
      "20\n",
      "ugly\n",
      "25\n",
      "Explicit\n",
      "0\n",
      "is\n",
      "9\n",
      "better\n",
      "12\n",
      "than\n",
      "19\n",
      "implicit\n",
      "24\n",
      "Simple\n",
      "0\n",
      "is\n",
      "7\n",
      "better\n",
      "10\n",
      "than\n",
      "17\n",
      "complex\n",
      "22\n",
      "Complex\n",
      "0\n",
      "is\n",
      "8\n",
      "better\n",
      "11\n",
      "than\n",
      "18\n",
      "complicated\n",
      "23\n",
      "Flat\n",
      "0\n",
      "is\n",
      "5\n",
      "better\n",
      "8\n",
      "than\n",
      "15\n",
      "nested\n",
      "20\n",
      "Sparse\n",
      "0\n",
      "is\n",
      "7\n",
      "better\n",
      "10\n",
      "than\n",
      "17\n",
      "dense\n",
      "22\n",
      "Readability\n",
      "0\n",
      "counts\n",
      "12\n",
      "Special\n",
      "0\n",
      "cases\n",
      "8\n",
      "aren\n",
      "14\n",
      "t\n",
      "19\n",
      "special\n",
      "21\n",
      "enough\n",
      "29\n",
      "to\n",
      "36\n",
      "break\n",
      "39\n",
      "the\n",
      "45\n",
      "rules\n",
      "49\n",
      "Although\n",
      "0\n",
      "practicality\n",
      "9\n",
      "beats\n",
      "22\n",
      "purity\n",
      "28\n",
      "Errors\n",
      "0\n",
      "should\n",
      "7\n",
      "never\n",
      "14\n",
      "pass\n",
      "20\n",
      "silently\n",
      "25\n",
      "Unless\n",
      "0\n",
      "explicitly\n",
      "7\n",
      "silenced\n",
      "18\n",
      "In\n",
      "0\n",
      "the\n",
      "3\n",
      "face\n",
      "7\n",
      "of\n",
      "12\n",
      "ambiguity\n",
      "15\n",
      "refuse\n",
      "26\n",
      "the\n",
      "33\n",
      "temptation\n",
      "37\n",
      "to\n",
      "48\n",
      "guess\n",
      "51\n",
      "There\n",
      "0\n",
      "should\n",
      "6\n",
      "be\n",
      "13\n",
      "one\n",
      "16\n",
      "and\n",
      "22\n",
      "preferably\n",
      "26\n",
      "only\n",
      "37\n",
      "one\n",
      "42\n",
      "obvious\n",
      "48\n",
      "way\n",
      "56\n",
      "to\n",
      "60\n",
      "do\n",
      "63\n",
      "it\n",
      "66\n",
      "Although\n",
      "0\n",
      "that\n",
      "9\n",
      "way\n",
      "14\n",
      "may\n",
      "18\n",
      "not\n",
      "22\n",
      "be\n",
      "26\n",
      "obvious\n",
      "29\n",
      "at\n",
      "37\n",
      "first\n",
      "40\n",
      "unless\n",
      "46\n",
      "you\n",
      "53\n",
      "re\n",
      "57\n",
      "Dutch\n",
      "60\n",
      "Now\n",
      "0\n",
      "is\n",
      "4\n",
      "better\n",
      "7\n",
      "than\n",
      "14\n",
      "never\n",
      "19\n",
      "Although\n",
      "0\n",
      "never\n",
      "9\n",
      "is\n",
      "15\n",
      "often\n",
      "18\n",
      "better\n",
      "24\n",
      "than\n",
      "31\n",
      "right\n",
      "37\n",
      "now\n",
      "44\n",
      "If\n",
      "0\n",
      "the\n",
      "3\n",
      "implementation\n",
      "7\n",
      "is\n",
      "22\n",
      "hard\n",
      "25\n",
      "to\n",
      "30\n",
      "explain\n",
      "33\n",
      "it\n",
      "42\n",
      "s\n",
      "45\n",
      "a\n",
      "47\n",
      "bad\n",
      "49\n",
      "idea\n",
      "53\n",
      "If\n",
      "0\n",
      "the\n",
      "3\n",
      "implementation\n",
      "7\n",
      "is\n",
      "22\n",
      "easy\n",
      "25\n",
      "to\n",
      "30\n",
      "explain\n",
      "33\n",
      "it\n",
      "42\n",
      "may\n",
      "45\n",
      "be\n",
      "49\n",
      "a\n",
      "52\n",
      "good\n",
      "54\n",
      "idea\n",
      "59\n",
      "Namespaces\n",
      "0\n",
      "are\n",
      "11\n",
      "one\n",
      "15\n",
      "honking\n",
      "19\n",
      "great\n",
      "27\n",
      "idea\n",
      "33\n",
      "let\n",
      "41\n",
      "s\n",
      "45\n",
      "do\n",
      "47\n",
      "more\n",
      "50\n",
      "of\n",
      "55\n",
      "those\n",
      "58\n"
     ]
    }
   ],
   "source": [
    "import re\n",
    "import sys\n",
    "\n",
    "WORD_RE = re.compile(r'\\w+')\n",
    "\n",
    "with open('example-code-2e/03-dict-set/zen.txt', encoding='utf-8') as fp:\n",
    "    for line_no, line in enumerate(fp, 1):\n",
    "        for match in WORD_RE.finditer(line):\n",
    "            print(match.group())\n",
    "            print(match.start())"
   ]
  },
  {
   "cell_type": "code",
   "execution_count": 14,
   "metadata": {},
   "outputs": [
    {
     "name": "stdout",
     "output_type": "stream",
     "text": [
      "# adapted from Alex Martelli's example in \"Re-learning Python\"\n",
      "# http://www.aleax.it/Python/accu04_Relearn_Python_alex.pdf\n",
      "# (slide 41) Ex: lines-by-word file index\n",
      "\n",
      "# tag::INDEX[]\n",
      "\"\"\"Build an index mapping word -> list of occurrences\"\"\"\n",
      "\n",
      "import re\n",
      "import sys\n",
      "\n",
      "WORD_RE = re.compile(r'\\w+')\n",
      "\n",
      "index = {}\n",
      "with open(sys.argv[1], encoding='utf-8') as fp:\n",
      "    for line_no, line in enumerate(fp, 1):\n",
      "        for match in WORD_RE.finditer(line):\n",
      "            word = match.group()\n",
      "            column_no = match.start() + 1\n",
      "            location = (line_no, column_no)\n",
      "            index.setdefault(word, []).append(location)  # <1>\n",
      "\n",
      "# display in alphabetical order\n",
      "for word in sorted(index, key=str.upper):\n",
      "    print(word, index[word])\n",
      "# end::INDEX[]\n"
     ]
    }
   ],
   "source": [
    "!cat example-code-2e/03-dict-set/index.py"
   ]
  },
  {
   "cell_type": "code",
   "execution_count": 15,
   "metadata": {},
   "outputs": [
    {
     "name": "stdout",
     "output_type": "stream",
     "text": [
      "a [(19, 48), (20, 53)]\n",
      "Although [(11, 1), (16, 1), (18, 1)]\n",
      "ambiguity [(14, 16)]\n",
      "and [(15, 23)]\n",
      "are [(21, 12)]\n",
      "aren [(10, 15)]\n",
      "at [(16, 38)]\n",
      "bad [(19, 50)]\n",
      "be [(15, 14), (16, 27), (20, 50)]\n",
      "beats [(11, 23)]\n",
      "Beautiful [(3, 1)]\n",
      "better [(3, 14), (4, 13), (5, 11), (6, 12), (7, 9), (8, 11), (17, 8), (18, 25)]\n",
      "break [(10, 40)]\n",
      "by [(1, 20)]\n",
      "cases [(10, 9)]\n",
      "complex [(5, 23)]\n",
      "Complex [(6, 1)]\n",
      "complicated [(6, 24)]\n",
      "counts [(9, 13)]\n",
      "dense [(8, 23)]\n",
      "do [(15, 64), (21, 48)]\n",
      "Dutch [(16, 61)]\n",
      "easy [(20, 26)]\n",
      "enough [(10, 30)]\n",
      "Errors [(12, 1)]\n",
      "explain [(19, 34), (20, 34)]\n",
      "Explicit [(4, 1)]\n",
      "explicitly [(13, 8)]\n",
      "face [(14, 8)]\n",
      "first [(16, 41)]\n",
      "Flat [(7, 1)]\n",
      "good [(20, 55)]\n",
      "great [(21, 28)]\n",
      "guess [(14, 52)]\n",
      "hard [(19, 26)]\n",
      "honking [(21, 20)]\n",
      "idea [(19, 54), (20, 60), (21, 34)]\n",
      "If [(19, 1), (20, 1)]\n",
      "implementation [(19, 8), (20, 8)]\n",
      "implicit [(4, 25)]\n",
      "In [(14, 1)]\n",
      "is [(3, 11), (4, 10), (5, 8), (6, 9), (7, 6), (8, 8), (17, 5), (18, 16), (19, 23), (20, 23)]\n",
      "it [(15, 67), (19, 43), (20, 43)]\n",
      "let [(21, 42)]\n",
      "may [(16, 19), (20, 46)]\n",
      "more [(21, 51)]\n",
      "Namespaces [(21, 1)]\n",
      "nested [(7, 21)]\n",
      "never [(12, 15), (17, 20), (18, 10)]\n",
      "not [(16, 23)]\n",
      "Now [(17, 1)]\n",
      "now [(18, 45)]\n",
      "obvious [(15, 49), (16, 30)]\n",
      "of [(1, 9), (14, 13), (21, 56)]\n",
      "often [(18, 19)]\n",
      "one [(15, 17), (15, 43), (21, 16)]\n",
      "only [(15, 38)]\n",
      "pass [(12, 21)]\n",
      "Peters [(1, 27)]\n",
      "practicality [(11, 10)]\n",
      "preferably [(15, 27)]\n",
      "purity [(11, 29)]\n",
      "Python [(1, 12)]\n",
      "re [(16, 58)]\n",
      "Readability [(9, 1)]\n",
      "refuse [(14, 27)]\n",
      "right [(18, 38)]\n",
      "rules [(10, 50)]\n",
      "s [(19, 46), (21, 46)]\n",
      "should [(12, 8), (15, 7)]\n",
      "silenced [(13, 19)]\n",
      "silently [(12, 26)]\n",
      "Simple [(5, 1)]\n",
      "Sparse [(8, 1)]\n",
      "Special [(10, 1)]\n",
      "special [(10, 22)]\n",
      "t [(10, 20)]\n",
      "temptation [(14, 38)]\n",
      "than [(3, 21), (4, 20), (5, 18), (6, 19), (7, 16), (8, 18), (17, 15), (18, 32)]\n",
      "that [(16, 10)]\n",
      "The [(1, 1)]\n",
      "the [(10, 46), (14, 4), (14, 34), (19, 4), (20, 4)]\n",
      "There [(15, 1)]\n",
      "those [(21, 59)]\n",
      "Tim [(1, 23)]\n",
      "to [(10, 37), (14, 49), (15, 61), (19, 31), (20, 31)]\n",
      "ugly [(3, 26)]\n",
      "Unless [(13, 1)]\n",
      "unless [(16, 47)]\n",
      "way [(15, 57), (16, 15)]\n",
      "you [(16, 54)]\n",
      "Zen [(1, 5)]\n"
     ]
    }
   ],
   "source": [
    "!python example-code-2e/03-dict-set/index.py example-code-2e/03-dict-set/zen.txt"
   ]
  },
  {
   "cell_type": "code",
   "execution_count": 16,
   "metadata": {},
   "outputs": [
    {
     "name": "stdout",
     "output_type": "stream",
     "text": [
      "# adapted from Alex Martelli's example in \"Re-learning Python\"\n",
      "# http://www.aleax.it/Python/accu04_Relearn_Python_alex.pdf\n",
      "# (slide 41) Ex: lines-by-word file index\n",
      "\n",
      "# tag::INDEX_DEFAULT[]\n",
      "\"\"\"Build an index mapping word -> list of occurrences\"\"\"\n",
      "\n",
      "import collections\n",
      "import re\n",
      "import sys\n",
      "\n",
      "WORD_RE = re.compile(r'\\w+')\n",
      "\n",
      "index = collections.defaultdict(list)     # <1>\n",
      "with open(sys.argv[1], encoding='utf-8') as fp:\n",
      "    for line_no, line in enumerate(fp, 1):\n",
      "        for match in WORD_RE.finditer(line):\n",
      "            word = match.group()\n",
      "            column_no = match.start() + 1\n",
      "            location = (line_no, column_no)\n",
      "            index[word].append(location)  # <2>\n",
      "\n",
      "# display in alphabetical order\n",
      "for word in sorted(index, key=str.upper):\n",
      "    print(word, index[word])\n",
      "# end::INDEX_DEFAULT[]\n"
     ]
    }
   ],
   "source": [
    "!cat example-code-2e/03-dict-set/index_default.py"
   ]
  },
  {
   "cell_type": "code",
   "execution_count": 18,
   "metadata": {},
   "outputs": [
    {
     "name": "stdout",
     "output_type": "stream",
     "text": [
      "a [(19, 48), (20, 53)]\n",
      "Although [(11, 1), (16, 1), (18, 1)]\n",
      "ambiguity [(14, 16)]\n",
      "and [(15, 23)]\n",
      "are [(21, 12)]\n",
      "aren [(10, 15)]\n",
      "at [(16, 38)]\n",
      "bad [(19, 50)]\n",
      "be [(15, 14), (16, 27), (20, 50)]\n",
      "beats [(11, 23)]\n",
      "Beautiful [(3, 1)]\n",
      "better [(3, 14), (4, 13), (5, 11), (6, 12), (7, 9), (8, 11), (17, 8), (18, 25)]\n",
      "break [(10, 40)]\n",
      "by [(1, 20)]\n",
      "cases [(10, 9)]\n",
      "complex [(5, 23)]\n",
      "Complex [(6, 1)]\n",
      "complicated [(6, 24)]\n",
      "counts [(9, 13)]\n",
      "dense [(8, 23)]\n",
      "do [(15, 64), (21, 48)]\n",
      "Dutch [(16, 61)]\n",
      "easy [(20, 26)]\n",
      "enough [(10, 30)]\n",
      "Errors [(12, 1)]\n",
      "explain [(19, 34), (20, 34)]\n",
      "Explicit [(4, 1)]\n",
      "explicitly [(13, 8)]\n",
      "face [(14, 8)]\n",
      "first [(16, 41)]\n",
      "Flat [(7, 1)]\n",
      "good [(20, 55)]\n",
      "great [(21, 28)]\n",
      "guess [(14, 52)]\n",
      "hard [(19, 26)]\n",
      "honking [(21, 20)]\n",
      "idea [(19, 54), (20, 60), (21, 34)]\n",
      "If [(19, 1), (20, 1)]\n",
      "implementation [(19, 8), (20, 8)]\n",
      "implicit [(4, 25)]\n",
      "In [(14, 1)]\n",
      "is [(3, 11), (4, 10), (5, 8), (6, 9), (7, 6), (8, 8), (17, 5), (18, 16), (19, 23), (20, 23)]\n",
      "it [(15, 67), (19, 43), (20, 43)]\n",
      "let [(21, 42)]\n",
      "may [(16, 19), (20, 46)]\n",
      "more [(21, 51)]\n",
      "Namespaces [(21, 1)]\n",
      "nested [(7, 21)]\n",
      "never [(12, 15), (17, 20), (18, 10)]\n",
      "not [(16, 23)]\n",
      "Now [(17, 1)]\n",
      "now [(18, 45)]\n",
      "obvious [(15, 49), (16, 30)]\n",
      "of [(1, 9), (14, 13), (21, 56)]\n",
      "often [(18, 19)]\n",
      "one [(15, 17), (15, 43), (21, 16)]\n",
      "only [(15, 38)]\n",
      "pass [(12, 21)]\n",
      "Peters [(1, 27)]\n",
      "practicality [(11, 10)]\n",
      "preferably [(15, 27)]\n",
      "purity [(11, 29)]\n",
      "Python [(1, 12)]\n",
      "re [(16, 58)]\n",
      "Readability [(9, 1)]\n",
      "refuse [(14, 27)]\n",
      "right [(18, 38)]\n",
      "rules [(10, 50)]\n",
      "s [(19, 46), (21, 46)]\n",
      "should [(12, 8), (15, 7)]\n",
      "silenced [(13, 19)]\n",
      "silently [(12, 26)]\n",
      "Simple [(5, 1)]\n",
      "Sparse [(8, 1)]\n",
      "Special [(10, 1)]\n",
      "special [(10, 22)]\n",
      "t [(10, 20)]\n",
      "temptation [(14, 38)]\n",
      "than [(3, 21), (4, 20), (5, 18), (6, 19), (7, 16), (8, 18), (17, 15), (18, 32)]\n",
      "that [(16, 10)]\n",
      "The [(1, 1)]\n",
      "the [(10, 46), (14, 4), (14, 34), (19, 4), (20, 4)]\n",
      "There [(15, 1)]\n",
      "those [(21, 59)]\n",
      "Tim [(1, 23)]\n",
      "to [(10, 37), (14, 49), (15, 61), (19, 31), (20, 31)]\n",
      "ugly [(3, 26)]\n",
      "Unless [(13, 1)]\n",
      "unless [(16, 47)]\n",
      "way [(15, 57), (16, 15)]\n",
      "you [(16, 54)]\n",
      "Zen [(1, 5)]\n"
     ]
    }
   ],
   "source": [
    "!python example-code-2e/03-dict-set/index_default.py example-code-2e/03-dict-set/zen.txt"
   ]
  },
  {
   "cell_type": "code",
   "execution_count": 21,
   "metadata": {},
   "outputs": [
    {
     "data": {
      "text/plain": [
       "{'2': 'two', '4': 'four'}"
      ]
     },
     "execution_count": 21,
     "metadata": {},
     "output_type": "execute_result"
    }
   ],
   "source": [
    "d = dict([('2', 'two'), ('4', 'four')])\n",
    "d"
   ]
  },
  {
   "cell_type": "code",
   "execution_count": 23,
   "metadata": {},
   "outputs": [
    {
     "data": {
      "text/plain": [
       "'two'"
      ]
     },
     "execution_count": 23,
     "metadata": {},
     "output_type": "execute_result"
    }
   ],
   "source": [
    "d['2']"
   ]
  },
  {
   "cell_type": "code",
   "execution_count": 24,
   "metadata": {},
   "outputs": [
    {
     "name": "stdout",
     "output_type": "stream",
     "text": [
      "\"\"\"StrKeyDict0 converts non-string keys to `str` on lookup\n",
      "\n",
      "# tag::STRKEYDICT0_TESTS[]\n",
      "\n",
      "Tests for item retrieval using `d[key]` notation::\n",
      "\n",
      "    >>> d = StrKeyDict0([('2', 'two'), ('4', 'four')])\n",
      "    >>> d['2']\n",
      "    'two'\n",
      "    >>> d[4]\n",
      "    'four'\n",
      "    >>> d[1]\n",
      "    Traceback (most recent call last):\n",
      "      ...\n",
      "    KeyError: '1'\n",
      "\n",
      "Tests for item retrieval using `d.get(key)` notation::\n",
      "\n",
      "    >>> d.get('2')\n",
      "    'two'\n",
      "    >>> d.get(4)\n",
      "    'four'\n",
      "    >>> d.get(1, 'N/A')\n",
      "    'N/A'\n",
      "\n",
      "\n",
      "Tests for the `in` operator::\n",
      "\n",
      "    >>> 2 in d\n",
      "    True\n",
      "    >>> 1 in d\n",
      "    False\n",
      "\n",
      "# end::STRKEYDICT0_TESTS[]\n",
      "\"\"\"\n",
      "\n",
      "\n",
      "# tag::STRKEYDICT0[]\n",
      "class StrKeyDict0(dict):  # <1>\n",
      "\n",
      "    def __missing__(self, key):\n",
      "        if isinstance(key, str):  # <2>\n",
      "            raise KeyError(key)\n",
      "        return self[str(key)]  # <3>\n",
      "\n",
      "    def get(self, key, default=None):\n",
      "        try:\n",
      "            return self[key]  # <4>\n",
      "        except KeyError:\n",
      "            return default  # <5>\n",
      "\n",
      "    def __contains__(self, key):\n",
      "        return key in self.keys() or str(key) in self.keys()  # <6>\n",
      "\n",
      "# end::STRKEYDICT0[]\n"
     ]
    }
   ],
   "source": [
    "!cat example-code-2e/03-dict-set/strkeydict0.py"
   ]
  },
  {
   "cell_type": "code",
   "execution_count": 25,
   "metadata": {},
   "outputs": [],
   "source": [
    "class StrKeyDict0(dict):  # <1>\n",
    "\n",
    "    def __missing__(self, key):\n",
    "        if isinstance(key, str):  # <2>\n",
    "            raise KeyError(key)\n",
    "        return self[str(key)]  # <3>\n",
    "\n",
    "    def get(self, key, default=None):\n",
    "        try:\n",
    "            return self[key]  # <4>\n",
    "        except KeyError:\n",
    "            return default  # <5>\n",
    "\n",
    "    def __contains__(self, key):\n",
    "        return key in self.keys() or str(key) in self.keys()  # <6>\n"
   ]
  },
  {
   "cell_type": "code",
   "execution_count": 26,
   "metadata": {},
   "outputs": [
    {
     "data": {
      "text/plain": [
       "{'2': 'two', '4': 'four'}"
      ]
     },
     "execution_count": 26,
     "metadata": {},
     "output_type": "execute_result"
    }
   ],
   "source": [
    "d = StrKeyDict0([('2', 'two'), ('4', 'four')])\n",
    "d"
   ]
  },
  {
   "cell_type": "code",
   "execution_count": 27,
   "metadata": {},
   "outputs": [
    {
     "data": {
      "text/plain": [
       "'two'"
      ]
     },
     "execution_count": 27,
     "metadata": {},
     "output_type": "execute_result"
    }
   ],
   "source": [
    "d[2]"
   ]
  },
  {
   "cell_type": "code",
   "execution_count": 28,
   "metadata": {},
   "outputs": [
    {
     "data": {
      "text/plain": [
       "'four'"
      ]
     },
     "execution_count": 28,
     "metadata": {},
     "output_type": "execute_result"
    }
   ],
   "source": [
    "d[4]"
   ]
  },
  {
   "cell_type": "code",
   "execution_count": 29,
   "metadata": {},
   "outputs": [
    {
     "name": "stdout",
     "output_type": "stream",
     "text": [
      "\"\"\"StrKeyDict always converts non-string keys to `str`\n",
      "\n",
      "Test for initializer: keys are converted to `str`.\n",
      "\n",
      "    >>> d = StrKeyDict([(2, 'two'), ('4', 'four')])\n",
      "    >>> sorted(d.keys())\n",
      "    ['2', '4']\n",
      "\n",
      "Tests for item retrieval using `d[key]` notation::\n",
      "\n",
      "    >>> d['2']\n",
      "    'two'\n",
      "    >>> d[4]\n",
      "    'four'\n",
      "    >>> d[1]\n",
      "    Traceback (most recent call last):\n",
      "      ...\n",
      "    KeyError: '1'\n",
      "\n",
      "Tests for item retrieval using `d.get(key)` notation::\n",
      "\n",
      "    >>> d.get('2')\n",
      "    'two'\n",
      "    >>> d.get(4)\n",
      "    'four'\n",
      "    >>> d.get(1, 'N/A')\n",
      "    'N/A'\n",
      "\n",
      "Tests for the `in` operator::\n",
      "\n",
      "    >>> 2 in d\n",
      "    True\n",
      "    >>> 1 in d\n",
      "    False\n",
      "\n",
      "Test for item assignment using non-string key::\n",
      "\n",
      "    >>> d[0] = 'zero'\n",
      "    >>> d['0']\n",
      "    'zero'\n",
      "\n",
      "Tests for update using a `dict` or a sequence of pairs::\n",
      "\n",
      "    >>> d.update({6:'six', '8':'eight'})\n",
      "    >>> sorted(d.keys())\n",
      "    ['0', '2', '4', '6', '8']\n",
      "    >>> d.update([(10, 'ten'), ('12', 'twelve')])\n",
      "    >>> sorted(d.keys())\n",
      "    ['0', '10', '12', '2', '4', '6', '8']\n",
      "    >>> d.update([1, 3, 5])\n",
      "    Traceback (most recent call last):\n",
      "      ...\n",
      "    TypeError: 'int' object is not iterable\n",
      "\n",
      "\"\"\"\n",
      "# tag::STRKEYDICT[]\n",
      "\n",
      "import collections\n",
      "\n",
      "\n",
      "class StrKeyDict(collections.UserDict):  # <1>\n",
      "\n",
      "    def __missing__(self, key):  # <2>\n",
      "        if isinstance(key, str):\n",
      "            raise KeyError(key)\n",
      "        return self[str(key)]\n",
      "\n",
      "    def __contains__(self, key):\n",
      "        return str(key) in self.data  # <3>\n",
      "\n",
      "    def __setitem__(self, key, item):\n",
      "        self.data[str(key)] = item   # <4>\n",
      "\n",
      "# end::STRKEYDICT[]\n"
     ]
    }
   ],
   "source": [
    "!cat example-code-2e/03-dict-set/strkeydict.py"
   ]
  },
  {
   "cell_type": "code",
   "execution_count": 1,
   "metadata": {},
   "outputs": [
    {
     "data": {
      "text/plain": [
       "set"
      ]
     },
     "execution_count": 1,
     "metadata": {},
     "output_type": "execute_result"
    }
   ],
   "source": [
    "s={1}\n",
    "type(s)"
   ]
  },
  {
   "cell_type": "code",
   "execution_count": 5,
   "metadata": {},
   "outputs": [
    {
     "data": {
      "text/plain": [
       "set"
      ]
     },
     "execution_count": 5,
     "metadata": {},
     "output_type": "execute_result"
    }
   ],
   "source": [
    "s={1, 2}\n",
    "type(s)"
   ]
  },
  {
   "cell_type": "code",
   "execution_count": 8,
   "metadata": {},
   "outputs": [
    {
     "data": {
      "text/plain": [
       "tuple"
      ]
     },
     "execution_count": 8,
     "metadata": {},
     "output_type": "execute_result"
    }
   ],
   "source": [
    "s=(1, 2)\n",
    "type(s)"
   ]
  },
  {
   "cell_type": "code",
   "execution_count": 9,
   "metadata": {},
   "outputs": [
    {
     "data": {
      "text/plain": [
       "tuple"
      ]
     },
     "execution_count": 9,
     "metadata": {},
     "output_type": "execute_result"
    }
   ],
   "source": [
    "s=()\n",
    "type(s)"
   ]
  },
  {
   "cell_type": "code",
   "execution_count": 10,
   "metadata": {},
   "outputs": [
    {
     "data": {
      "text/plain": [
       "list"
      ]
     },
     "execution_count": 10,
     "metadata": {},
     "output_type": "execute_result"
    }
   ],
   "source": [
    "s=[]\n",
    "type(s)"
   ]
  },
  {
   "cell_type": "code",
   "execution_count": 11,
   "metadata": {},
   "outputs": [
    {
     "data": {
      "text/plain": [
       "dict"
      ]
     },
     "execution_count": 11,
     "metadata": {},
     "output_type": "execute_result"
    }
   ],
   "source": [
    "s={}\n",
    "type(s)"
   ]
  },
  {
   "cell_type": "code",
   "execution_count": 6,
   "metadata": {},
   "outputs": [
    {
     "data": {
      "text/plain": [
       "dict"
      ]
     },
     "execution_count": 6,
     "metadata": {},
     "output_type": "execute_result"
    }
   ],
   "source": [
    "s={'one':1}\n",
    "type(s)"
   ]
  },
  {
   "cell_type": "code",
   "execution_count": 7,
   "metadata": {},
   "outputs": [
    {
     "data": {
      "text/plain": [
       "{'one': 1}"
      ]
     },
     "execution_count": 7,
     "metadata": {},
     "output_type": "execute_result"
    }
   ],
   "source": [
    "s"
   ]
  },
  {
   "cell_type": "code",
   "execution_count": 12,
   "metadata": {},
   "outputs": [
    {
     "data": {
      "text/plain": [
       "set"
      ]
     },
     "execution_count": 12,
     "metadata": {},
     "output_type": "execute_result"
    }
   ],
   "source": [
    "s={1,2,3}\n",
    "type(s)"
   ]
  },
  {
   "cell_type": "code",
   "execution_count": 13,
   "metadata": {},
   "outputs": [
    {
     "ename": "TypeError",
     "evalue": "unhashable type: 'list'",
     "output_type": "error",
     "traceback": [
      "\u001b[1;31m---------------------------------------------------------------------------\u001b[0m",
      "\u001b[1;31mTypeError\u001b[0m                                 Traceback (most recent call last)",
      "\u001b[1;32m~\\AppData\\Local\\Temp/ipykernel_13964/746434325.py\u001b[0m in \u001b[0;36m<module>\u001b[1;34m\u001b[0m\n\u001b[1;32m----> 1\u001b[1;33m \u001b[0ms\u001b[0m\u001b[1;33m=\u001b[0m\u001b[1;33m{\u001b[0m\u001b[1;33m[\u001b[0m\u001b[1;36m1\u001b[0m\u001b[1;33m,\u001b[0m\u001b[1;36m2\u001b[0m\u001b[1;33m,\u001b[0m\u001b[1;36m3\u001b[0m\u001b[1;33m]\u001b[0m\u001b[1;33m}\u001b[0m\u001b[1;33m\u001b[0m\u001b[1;33m\u001b[0m\u001b[0m\n\u001b[0m\u001b[0;32m      2\u001b[0m \u001b[0mtype\u001b[0m\u001b[1;33m(\u001b[0m\u001b[0ms\u001b[0m\u001b[1;33m)\u001b[0m\u001b[1;33m\u001b[0m\u001b[1;33m\u001b[0m\u001b[0m\n",
      "\u001b[1;31mTypeError\u001b[0m: unhashable type: 'list'"
     ]
    }
   ],
   "source": [
    "s={[1,2,3]}\n",
    "type(s)"
   ]
  },
  {
   "cell_type": "code",
   "execution_count": 15,
   "metadata": {},
   "outputs": [
    {
     "data": {
      "text/plain": [
       "set"
      ]
     },
     "execution_count": 15,
     "metadata": {},
     "output_type": "execute_result"
    }
   ],
   "source": [
    "s=set()\n",
    "type(s)"
   ]
  },
  {
   "cell_type": "code",
   "execution_count": 16,
   "metadata": {},
   "outputs": [
    {
     "data": {
      "text/plain": [
       "set"
      ]
     },
     "execution_count": 16,
     "metadata": {},
     "output_type": "execute_result"
    }
   ],
   "source": [
    "s=set([])\n",
    "type(s)"
   ]
  },
  {
   "cell_type": "code",
   "execution_count": 17,
   "metadata": {},
   "outputs": [
    {
     "data": {
      "text/plain": [
       "set"
      ]
     },
     "execution_count": 17,
     "metadata": {},
     "output_type": "execute_result"
    }
   ],
   "source": [
    "s=set({})\n",
    "type(s)"
   ]
  },
  {
   "cell_type": "code",
   "execution_count": 18,
   "metadata": {},
   "outputs": [
    {
     "data": {
      "text/plain": [
       "set"
      ]
     },
     "execution_count": 18,
     "metadata": {},
     "output_type": "execute_result"
    }
   ],
   "source": [
    "s=set({1})\n",
    "type(s)"
   ]
  },
  {
   "cell_type": "code",
   "execution_count": 19,
   "metadata": {},
   "outputs": [
    {
     "data": {
      "text/plain": [
       "set"
      ]
     },
     "execution_count": 19,
     "metadata": {},
     "output_type": "execute_result"
    }
   ],
   "source": [
    "s=set({'one':1})\n",
    "type(s)"
   ]
  },
  {
   "cell_type": "code",
   "execution_count": 20,
   "metadata": {},
   "outputs": [
    {
     "data": {
      "text/plain": [
       "{'one'}"
      ]
     },
     "execution_count": 20,
     "metadata": {},
     "output_type": "execute_result"
    }
   ],
   "source": [
    "s"
   ]
  },
  {
   "cell_type": "code",
   "execution_count": 21,
   "metadata": {},
   "outputs": [
    {
     "data": {
      "text/plain": [
       "dict"
      ]
     },
     "execution_count": 21,
     "metadata": {},
     "output_type": "execute_result"
    }
   ],
   "source": [
    "s=dict({'one':1})\n",
    "type(s)"
   ]
  },
  {
   "cell_type": "code",
   "execution_count": 22,
   "metadata": {},
   "outputs": [
    {
     "data": {
      "text/plain": [
       "{'one': 1}"
      ]
     },
     "execution_count": 22,
     "metadata": {},
     "output_type": "execute_result"
    }
   ],
   "source": [
    "s"
   ]
  },
  {
   "cell_type": "code",
   "execution_count": 14,
   "metadata": {},
   "outputs": [
    {
     "data": {
      "text/plain": [
       "set"
      ]
     },
     "execution_count": 14,
     "metadata": {},
     "output_type": "execute_result"
    }
   ],
   "source": [
    "s=set([1,2,3])\n",
    "type(s)"
   ]
  },
  {
   "cell_type": "code",
   "execution_count": 23,
   "metadata": {},
   "outputs": [
    {
     "ename": "TypeError",
     "evalue": "set expected at most 1 argument, got 3",
     "output_type": "error",
     "traceback": [
      "\u001b[1;31m---------------------------------------------------------------------------\u001b[0m",
      "\u001b[1;31mTypeError\u001b[0m                                 Traceback (most recent call last)",
      "\u001b[1;32m~\\AppData\\Local\\Temp/ipykernel_13964/374576485.py\u001b[0m in \u001b[0;36m<module>\u001b[1;34m\u001b[0m\n\u001b[1;32m----> 1\u001b[1;33m \u001b[0ms\u001b[0m\u001b[1;33m=\u001b[0m\u001b[0mset\u001b[0m\u001b[1;33m(\u001b[0m\u001b[1;36m1\u001b[0m\u001b[1;33m,\u001b[0m\u001b[1;36m2\u001b[0m\u001b[1;33m,\u001b[0m\u001b[1;36m3\u001b[0m\u001b[1;33m)\u001b[0m\u001b[1;33m\u001b[0m\u001b[1;33m\u001b[0m\u001b[0m\n\u001b[0m\u001b[0;32m      2\u001b[0m \u001b[0mtype\u001b[0m\u001b[1;33m(\u001b[0m\u001b[0ms\u001b[0m\u001b[1;33m)\u001b[0m\u001b[1;33m\u001b[0m\u001b[1;33m\u001b[0m\u001b[0m\n",
      "\u001b[1;31mTypeError\u001b[0m: set expected at most 1 argument, got 3"
     ]
    }
   ],
   "source": [
    "s=set(1,2,3)\n",
    "type(s)"
   ]
  },
  {
   "cell_type": "code",
   "execution_count": 24,
   "metadata": {},
   "outputs": [
    {
     "data": {
      "text/plain": [
       "tuple"
      ]
     },
     "execution_count": 24,
     "metadata": {},
     "output_type": "execute_result"
    }
   ],
   "source": [
    "s=(1,2,3)\n",
    "type(s)"
   ]
  },
  {
   "cell_type": "code",
   "execution_count": 2,
   "metadata": {},
   "outputs": [
    {
     "name": "stdout",
     "output_type": "stream",
     "text": [
      "  1           0 LOAD_CONST               0 (1)\n",
      "              2 BUILD_SET                1\n",
      "              4 RETURN_VALUE\n"
     ]
    }
   ],
   "source": [
    "from dis import dis\n",
    "dis('{1}')"
   ]
  },
  {
   "cell_type": "code",
   "execution_count": 3,
   "metadata": {},
   "outputs": [
    {
     "name": "stdout",
     "output_type": "stream",
     "text": [
      "  1           0 LOAD_NAME                0 (set)\n",
      "              2 LOAD_CONST               0 (1)\n",
      "              4 BUILD_LIST               1\n",
      "              6 CALL_FUNCTION            1\n",
      "              8 RETURN_VALUE\n"
     ]
    }
   ],
   "source": [
    "dis('set([1])')"
   ]
  },
  {
   "cell_type": "code",
   "execution_count": 4,
   "metadata": {},
   "outputs": [
    {
     "data": {
      "text/plain": [
       "{'#',\n",
       " '$',\n",
       " '%',\n",
       " '+',\n",
       " '<',\n",
       " '=',\n",
       " '>',\n",
       " '¢',\n",
       " '£',\n",
       " '¤',\n",
       " '¥',\n",
       " '§',\n",
       " '©',\n",
       " '¬',\n",
       " '®',\n",
       " '°',\n",
       " '±',\n",
       " 'µ',\n",
       " '¶',\n",
       " '×',\n",
       " '÷'}"
      ]
     },
     "execution_count": 4,
     "metadata": {},
     "output_type": "execute_result"
    }
   ],
   "source": [
    "from unicodedata import name\n",
    "{chr(i) for i in range(32, 256) if 'SIGN' in name(chr(i),'')}"
   ]
  },
  {
   "cell_type": "code",
   "execution_count": 6,
   "metadata": {},
   "outputs": [
    {
     "name": "stdout",
     "output_type": "stream",
     "text": [
      "Help on built-in function chr in module builtins:\n",
      "\n",
      "chr(i, /)\n",
      "    Return a Unicode string of one character with ordinal i; 0 <= i <= 0x10ffff.\n",
      "\n"
     ]
    }
   ],
   "source": [
    "help(chr)"
   ]
  },
  {
   "cell_type": "code",
   "execution_count": 5,
   "metadata": {},
   "outputs": [
    {
     "data": {
      "text/plain": [
       "'\\n'"
      ]
     },
     "execution_count": 5,
     "metadata": {},
     "output_type": "execute_result"
    }
   ],
   "source": [
    "chr(10)"
   ]
  },
  {
   "cell_type": "code",
   "execution_count": 8,
   "metadata": {},
   "outputs": [
    {
     "name": "stdout",
     "output_type": "stream",
     "text": [
      "Help on built-in function name in module unicodedata:\n",
      "\n",
      "name(...)\n",
      "    Returns the name assigned to the character chr as a string.\n",
      "    \n",
      "    If no name is defined, default is returned, or, if not given,\n",
      "    ValueError is raised.\n",
      "\n"
     ]
    }
   ],
   "source": [
    "help(name)"
   ]
  },
  {
   "cell_type": "code",
   "execution_count": 9,
   "metadata": {},
   "outputs": [
    {
     "data": {
      "text/plain": [
       "'SPACE'"
      ]
     },
     "execution_count": 9,
     "metadata": {},
     "output_type": "execute_result"
    }
   ],
   "source": [
    "name(chr(32),'')"
   ]
  },
  {
   "cell_type": "code",
   "execution_count": 10,
   "metadata": {},
   "outputs": [
    {
     "data": {
      "text/plain": [
       "['#',\n",
       " '$',\n",
       " '%',\n",
       " '+',\n",
       " '<',\n",
       " '=',\n",
       " '>',\n",
       " '¢',\n",
       " '£',\n",
       " '¤',\n",
       " '¥',\n",
       " '§',\n",
       " '©',\n",
       " '¬',\n",
       " '®',\n",
       " '°',\n",
       " '±',\n",
       " 'µ',\n",
       " '¶',\n",
       " '×',\n",
       " '÷']"
      ]
     },
     "execution_count": 10,
     "metadata": {},
     "output_type": "execute_result"
    }
   ],
   "source": [
    "[chr(i) for i in range(32, 256) if 'SIGN' in name(chr(i),'')]"
   ]
  },
  {
   "cell_type": "code",
   "execution_count": 13,
   "metadata": {},
   "outputs": [],
   "source": [
    "from collections import namedtuple\n",
    "Point = namedtuple('Point', 'x y')\n",
    "pt1 = Point(1.0, 5.0)\n",
    "pt2 = Point(2.5, 1.5)\n",
    "\n",
    "from math import sqrt\n",
    "line_length = sqrt((pt1.x-pt2.x)**2 + (pt1.y-pt2.y)**2)"
   ]
  },
  {
   "cell_type": "code",
   "execution_count": 15,
   "metadata": {},
   "outputs": [
    {
     "data": {
      "text/plain": [
       "__main__.Point"
      ]
     },
     "execution_count": 15,
     "metadata": {},
     "output_type": "execute_result"
    }
   ],
   "source": [
    "namedtuple('Point', 'x y')"
   ]
  },
  {
   "cell_type": "code",
   "execution_count": 16,
   "metadata": {},
   "outputs": [
    {
     "data": {
      "text/plain": [
       "Point(x=1.0, y=5.0)"
      ]
     },
     "execution_count": 16,
     "metadata": {},
     "output_type": "execute_result"
    }
   ],
   "source": [
    "pt1"
   ]
  }
 ],
 "metadata": {
  "kernelspec": {
   "display_name": "Python 3 (ipykernel)",
   "language": "python",
   "name": "python3"
  },
  "language_info": {
   "codemirror_mode": {
    "name": "ipython",
    "version": 3
   },
   "file_extension": ".py",
   "mimetype": "text/x-python",
   "name": "python",
   "nbconvert_exporter": "python",
   "pygments_lexer": "ipython3",
   "version": "3.8.5"
  }
 },
 "nbformat": 4,
 "nbformat_minor": 4
}
