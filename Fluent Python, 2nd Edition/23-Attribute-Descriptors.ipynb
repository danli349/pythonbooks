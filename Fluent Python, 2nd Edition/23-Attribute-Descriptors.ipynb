{
 "cells": [
  {
   "cell_type": "code",
   "execution_count": 1,
   "id": "ca23f9f2",
   "metadata": {},
   "outputs": [
    {
     "data": {
      "text/plain": [
       "['D:\\\\books\\\\python\\\\0.   Fluent Python, 2nd Edition',\n",
       " 'D:/books/python/0.   Fluent Python, 2nd Edition/example-code-2e/23-descriptor/',\n",
       " 'C:\\\\Users\\\\lidan\\\\miniconda3\\\\python38.zip',\n",
       " 'C:\\\\Users\\\\lidan\\\\miniconda3\\\\DLLs',\n",
       " 'C:\\\\Users\\\\lidan\\\\miniconda3\\\\lib',\n",
       " 'C:\\\\Users\\\\lidan\\\\miniconda3',\n",
       " '',\n",
       " 'C:\\\\Users\\\\lidan\\\\AppData\\\\Roaming\\\\Python\\\\Python38\\\\site-packages',\n",
       " 'C:\\\\Users\\\\lidan\\\\miniconda3\\\\lib\\\\site-packages',\n",
       " 'C:\\\\Users\\\\lidan\\\\miniconda3\\\\lib\\\\site-packages\\\\magic_impute-2.0.4-py3.8.egg',\n",
       " 'C:\\\\Users\\\\lidan\\\\miniconda3\\\\lib\\\\site-packages\\\\seqc-0.2.0-py3.8.egg',\n",
       " 'C:\\\\Users\\\\lidan\\\\miniconda3\\\\lib\\\\site-packages\\\\weasyprint-56.1-py3.8.egg',\n",
       " 'C:\\\\Users\\\\lidan\\\\miniconda3\\\\lib\\\\site-packages\\\\cairocffi-1.3.0-py3.8.egg',\n",
       " 'C:\\\\Users\\\\lidan\\\\miniconda3\\\\lib\\\\site-packages\\\\win32',\n",
       " 'C:\\\\Users\\\\lidan\\\\miniconda3\\\\lib\\\\site-packages\\\\win32\\\\lib',\n",
       " 'C:\\\\Users\\\\lidan\\\\miniconda3\\\\lib\\\\site-packages\\\\Pythonwin']"
      ]
     },
     "execution_count": 1,
     "metadata": {},
     "output_type": "execute_result"
    }
   ],
   "source": [
    "import sys\n",
    "    # caution: path[0] is reserved for script path (or '' in REPL)\n",
    "sys.path.insert(1, 'D:/books/python/0.   Fluent Python, 2nd Edition/example-code-2e/23-descriptor/')\n",
    "sys.path"
   ]
  },
  {
   "cell_type": "code",
   "execution_count": 2,
   "id": "825534d8",
   "metadata": {},
   "outputs": [],
   "source": [
    "\"\"\"\n",
    "\n",
    "A line item for a bulk food order has description, weight and price fields::\n",
    "\n",
    "    >>> raisins = LineItem('Golden raisins', 10, 6.95)\n",
    "    >>> raisins.weight, raisins.description, raisins.price\n",
    "    (10, 'Golden raisins', 6.95)\n",
    "\n",
    "A ``subtotal`` method gives the total price for that line item::\n",
    "\n",
    "    >>> raisins.subtotal()\n",
    "    69.5\n",
    "\n",
    "The weight of a ``LineItem`` must be greater than 0::\n",
    "\n",
    "    >>> raisins.weight = -20\n",
    "    Traceback (most recent call last):\n",
    "        ...\n",
    "    ValueError: weight must be > 0\n",
    "\n",
    "Negative or 0 price is not acceptable either::\n",
    "\n",
    "    >>> truffle = LineItem('White truffle', 100, 0)\n",
    "    Traceback (most recent call last):\n",
    "        ...\n",
    "    ValueError: price must be > 0\n",
    "\n",
    "No change was made::\n",
    "\n",
    "    >>> raisins.weight\n",
    "    10\n",
    "\n",
    "\"\"\"\n",
    "\n",
    "\n",
    "# tag::LINEITEM_QUANTITY_V3[]\n",
    "class Quantity:  # <1>\n",
    "\n",
    "    def __init__(self, storage_name):\n",
    "        self.storage_name = storage_name  # <2>\n",
    "\n",
    "    def __set__(self, instance, value):  # <3>\n",
    "        if value > 0:\n",
    "            instance.__dict__[self.storage_name] = value  # <4>\n",
    "        else:\n",
    "            msg = f'{self.storage_name} must be > 0'\n",
    "            raise ValueError(msg)\n",
    "\n",
    "    def __get__(self, instance, owner):  # <5>\n",
    "        return instance.__dict__[self.storage_name]\n",
    "\n",
    "\n",
    "# end::LINEITEM_QUANTITY_V3[]\n",
    "\n",
    "# tag::LINEITEM_V3[]\n",
    "class LineItem:\n",
    "    weight = Quantity('weight')  # <1>\n",
    "    price = Quantity('price')  # <2>\n",
    "\n",
    "    def __init__(self, description, weight, price):  # <3>\n",
    "        self.description = description\n",
    "        self.weight = weight\n",
    "        self.price = price\n",
    "\n",
    "    def subtotal(self):\n",
    "        return self.weight * self.price\n",
    "# end::LINEITEM_V3[]\n"
   ]
  },
  {
   "cell_type": "code",
   "execution_count": 3,
   "id": "bfad22cd",
   "metadata": {},
   "outputs": [
    {
     "data": {
      "text/plain": [
       "(10, 'Golden raisins', 6.95)"
      ]
     },
     "execution_count": 3,
     "metadata": {},
     "output_type": "execute_result"
    }
   ],
   "source": [
    "raisins = LineItem('Golden raisins', 10, 6.95)\n",
    "raisins.weight, raisins.description, raisins.price"
   ]
  },
  {
   "cell_type": "code",
   "execution_count": 4,
   "id": "856ddd1d",
   "metadata": {},
   "outputs": [
    {
     "data": {
      "text/plain": [
       "69.5"
      ]
     },
     "execution_count": 4,
     "metadata": {},
     "output_type": "execute_result"
    }
   ],
   "source": [
    "raisins.subtotal()"
   ]
  },
  {
   "cell_type": "code",
   "execution_count": 5,
   "id": "5dab0c76",
   "metadata": {},
   "outputs": [
    {
     "data": {
      "text/plain": [
       "10"
      ]
     },
     "execution_count": 5,
     "metadata": {},
     "output_type": "execute_result"
    }
   ],
   "source": [
    "raisins.weight"
   ]
  },
  {
   "cell_type": "code",
   "execution_count": 7,
   "id": "21c1aaad",
   "metadata": {},
   "outputs": [
    {
     "data": {
      "text/plain": [
       "139.0"
      ]
     },
     "execution_count": 7,
     "metadata": {},
     "output_type": "execute_result"
    }
   ],
   "source": [
    "raisins.weight = 20\n",
    "raisins.subtotal()"
   ]
  },
  {
   "cell_type": "code",
   "execution_count": 9,
   "id": "bc0ce517",
   "metadata": {},
   "outputs": [
    {
     "data": {
      "text/plain": [
       "(20, 'Golden raisins', 6.95)"
      ]
     },
     "execution_count": 9,
     "metadata": {},
     "output_type": "execute_result"
    }
   ],
   "source": [
    "raisins.weight, raisins.description, raisins.price"
   ]
  },
  {
   "cell_type": "code",
   "execution_count": 29,
   "id": "d48c3de2",
   "metadata": {},
   "outputs": [],
   "source": [
    "\"\"\"\n",
    "\n",
    "A line item for a bulk food order has description, weight and price fields::\n",
    "\n",
    "    >>> raisins = LineItem('Golden raisins', 10, 6.95)\n",
    "    >>> raisins.weight, raisins.description, raisins.price\n",
    "    (10, 'Golden raisins', 6.95)\n",
    "\n",
    "A ``subtotal`` method gives the total price for that line item::\n",
    "\n",
    "    >>> raisins.subtotal()\n",
    "    69.5\n",
    "\n",
    "The weight of a ``LineItem`` must be greater than 0::\n",
    "\n",
    "    >>> raisins.weight = -20\n",
    "    Traceback (most recent call last):\n",
    "        ...\n",
    "    ValueError: weight must be > 0\n",
    "\n",
    "No change was made::\n",
    "\n",
    "    >>> raisins.weight\n",
    "    10\n",
    "\n",
    "Negative or 0 price is not acceptable either::\n",
    "\n",
    "    >>> truffle = LineItem('White truffle', 100, 0)\n",
    "    Traceback (most recent call last):\n",
    "        ...\n",
    "    ValueError: price must be > 0\n",
    "\n",
    "If the descriptor is accessed in the class, the descriptor object is\n",
    "returned:\n",
    "\n",
    "    >>> LineItem.weight  # doctest: +ELLIPSIS\n",
    "    <bulkfood_v4.Quantity object at 0x...>\n",
    "    >>> LineItem.weight.storage_name\n",
    "    'weight'\n",
    "\n",
    "\"\"\"\n",
    "\n",
    "\n",
    "# tag::LINEITEM_V4[]\n",
    "class Quantity:\n",
    "\n",
    "    def __set_name__(self, owner, name):  # <1>\n",
    "        self.storage_name = name          # <2>\n",
    "\n",
    "    def __set__(self, instance, value):   # <3>\n",
    "        if value > 0:\n",
    "            instance.__dict__[self.storage_name] = value\n",
    "        else:\n",
    "            msg = f'{self.storage_name} must be > 0'\n",
    "            raise ValueError(msg)\n",
    "\n",
    "    # no __get__ needed  # <4>\n",
    "\n",
    "class LineItem:\n",
    "    weight = Quantity()  # <5>\n",
    "    price = Quantity()\n",
    "\n",
    "    def __init__(self, description, weight, price):\n",
    "        self.description = description\n",
    "        self.weight = weight\n",
    "        self.price = price\n",
    "\n",
    "    def subtotal(self):\n",
    "        return self.weight * self.price\n",
    "# end::LINEITEM_V4[]\n"
   ]
  },
  {
   "cell_type": "code",
   "execution_count": 30,
   "id": "b5e251f4",
   "metadata": {},
   "outputs": [
    {
     "data": {
      "text/plain": [
       "(10, 'Golden raisins', 6.95)"
      ]
     },
     "execution_count": 30,
     "metadata": {},
     "output_type": "execute_result"
    }
   ],
   "source": [
    "raisins = LineItem('Golden raisins', 10, 6.95)\n",
    "raisins.weight, raisins.description, raisins.price"
   ]
  },
  {
   "cell_type": "code",
   "execution_count": 31,
   "id": "f8ff94e3",
   "metadata": {},
   "outputs": [
    {
     "data": {
      "text/plain": [
       "69.5"
      ]
     },
     "execution_count": 31,
     "metadata": {},
     "output_type": "execute_result"
    }
   ],
   "source": [
    "raisins.subtotal()"
   ]
  },
  {
   "cell_type": "code",
   "execution_count": 32,
   "id": "9ed79619",
   "metadata": {},
   "outputs": [
    {
     "data": {
      "text/plain": [
       "<__main__.Quantity at 0x227eb6a56a0>"
      ]
     },
     "execution_count": 32,
     "metadata": {},
     "output_type": "execute_result"
    }
   ],
   "source": [
    "LineItem.weight  # doctest: +ELLIPSIS"
   ]
  },
  {
   "cell_type": "code",
   "execution_count": 33,
   "id": "2528ee08",
   "metadata": {},
   "outputs": [
    {
     "data": {
      "text/plain": [
       "'weight'"
      ]
     },
     "execution_count": 33,
     "metadata": {},
     "output_type": "execute_result"
    }
   ],
   "source": [
    "LineItem.weight.storage_name"
   ]
  },
  {
   "cell_type": "code",
   "execution_count": 34,
   "id": "cc0c0944",
   "metadata": {},
   "outputs": [
    {
     "data": {
      "text/plain": [
       "'price'"
      ]
     },
     "execution_count": 34,
     "metadata": {},
     "output_type": "execute_result"
    }
   ],
   "source": [
    "LineItem.price.storage_name"
   ]
  },
  {
   "cell_type": "code",
   "execution_count": 35,
   "id": "c0e8efef",
   "metadata": {},
   "outputs": [
    {
     "data": {
      "text/plain": [
       "<__main__.Quantity at 0x227e9baff70>"
      ]
     },
     "execution_count": 35,
     "metadata": {},
     "output_type": "execute_result"
    }
   ],
   "source": [
    "Quantity()"
   ]
  },
  {
   "cell_type": "code",
   "execution_count": 21,
   "id": "992b0f15",
   "metadata": {},
   "outputs": [],
   "source": [
    "# tag::MODEL_V5_VALIDATED_ABC[]\n",
    "import abc\n",
    "\n",
    "class Validated(abc.ABC):\n",
    "\n",
    "    def __set_name__(self, owner, name):\n",
    "        self.storage_name = name\n",
    "\n",
    "    def __set__(self, instance, value):\n",
    "        value = self.validate(self.storage_name, value)  # <1>\n",
    "        instance.__dict__[self.storage_name] = value  # <2>\n",
    "\n",
    "    @abc.abstractmethod\n",
    "    def validate(self, name, value):  # <3>\n",
    "        \"\"\"return validated value or raise ValueError\"\"\"\n",
    "# end::MODEL_V5_VALIDATED_ABC[]\n",
    "\n",
    "# tag::MODEL_V5_VALIDATED_SUB[]\n",
    "class Quantity(Validated):\n",
    "    \"\"\"a number greater than zero\"\"\"\n",
    "\n",
    "    def validate(self, name, value):  # <1>\n",
    "        if value <= 0:\n",
    "            raise ValueError(f'{name} must be > 0')\n",
    "        return value\n",
    "\n",
    "\n",
    "class NonBlank(Validated):\n",
    "    \"\"\"a string with at least one non-space character\"\"\"\n",
    "\n",
    "    def validate(self, name, value):\n",
    "        value = value.strip()\n",
    "        if not value:  # <2>\n",
    "            raise ValueError(f'{name} cannot be blank')\n",
    "        return value  # <3>\n",
    "# end::MODEL_V5_VALIDATED_SUB[]\n",
    "\n",
    "\n",
    "class LineItem:\n",
    "    description = NonBlank()  # <2>\n",
    "    weight = Quantity()\n",
    "    price = Quantity()\n",
    "\n",
    "    def __init__(self, description, weight, price):\n",
    "        self.description = description\n",
    "        self.weight = weight\n",
    "        self.price = price\n",
    "\n",
    "    def subtotal(self):\n",
    "        return self.weight * self.price\n",
    "# end::LINEITEM_V5[]"
   ]
  },
  {
   "cell_type": "code",
   "execution_count": 22,
   "id": "59be29aa",
   "metadata": {},
   "outputs": [
    {
     "data": {
      "text/plain": [
       "(10, 'Golden raisins', 6.95)"
      ]
     },
     "execution_count": 22,
     "metadata": {},
     "output_type": "execute_result"
    }
   ],
   "source": [
    "raisins = LineItem('Golden raisins', 10, 6.95)\n",
    "raisins.weight, raisins.description, raisins.price"
   ]
  },
  {
   "cell_type": "code",
   "execution_count": 23,
   "id": "507bbd93",
   "metadata": {},
   "outputs": [
    {
     "data": {
      "text/plain": [
       "69.5"
      ]
     },
     "execution_count": 23,
     "metadata": {},
     "output_type": "execute_result"
    }
   ],
   "source": [
    "raisins.subtotal()"
   ]
  },
  {
   "cell_type": "code",
   "execution_count": 24,
   "id": "6728b797",
   "metadata": {},
   "outputs": [
    {
     "data": {
      "text/plain": [
       "<__main__.Quantity at 0x227e9c2bd60>"
      ]
     },
     "execution_count": 24,
     "metadata": {},
     "output_type": "execute_result"
    }
   ],
   "source": [
    "LineItem.weight  # doctest: +ELLIPSIS"
   ]
  },
  {
   "cell_type": "code",
   "execution_count": 25,
   "id": "857ea820",
   "metadata": {},
   "outputs": [
    {
     "data": {
      "text/plain": [
       "'weight'"
      ]
     },
     "execution_count": 25,
     "metadata": {},
     "output_type": "execute_result"
    }
   ],
   "source": [
    "LineItem.weight.storage_name"
   ]
  },
  {
   "cell_type": "code",
   "execution_count": 26,
   "id": "08bf1e17",
   "metadata": {},
   "outputs": [
    {
     "data": {
      "text/plain": [
       "'Brazil Nuts'"
      ]
     },
     "execution_count": 26,
     "metadata": {},
     "output_type": "execute_result"
    }
   ],
   "source": [
    "br_nuts = LineItem('Brazil Nuts', 10, 34.95)\n",
    "br_nuts.description"
   ]
  },
  {
   "cell_type": "code",
   "execution_count": 27,
   "id": "6536e7ce",
   "metadata": {},
   "outputs": [
    {
     "ename": "ValueError",
     "evalue": "description cannot be blank",
     "output_type": "error",
     "traceback": [
      "\u001b[1;31m---------------------------------------------------------------------------\u001b[0m",
      "\u001b[1;31mValueError\u001b[0m                                Traceback (most recent call last)",
      "Input \u001b[1;32mIn [27]\u001b[0m, in \u001b[0;36m<cell line: 1>\u001b[1;34m()\u001b[0m\n\u001b[1;32m----> 1\u001b[0m br_nuts\u001b[38;5;241m.\u001b[39mdescription \u001b[38;5;241m=\u001b[39m \u001b[38;5;124m'\u001b[39m\u001b[38;5;124m \u001b[39m\u001b[38;5;124m'\u001b[39m\n",
      "Input \u001b[1;32mIn [21]\u001b[0m, in \u001b[0;36mValidated.__set__\u001b[1;34m(self, instance, value)\u001b[0m\n\u001b[0;32m      9\u001b[0m \u001b[38;5;28;01mdef\u001b[39;00m \u001b[38;5;21m__set__\u001b[39m(\u001b[38;5;28mself\u001b[39m, instance, value):\n\u001b[1;32m---> 10\u001b[0m     value \u001b[38;5;241m=\u001b[39m \u001b[38;5;28;43mself\u001b[39;49m\u001b[38;5;241;43m.\u001b[39;49m\u001b[43mvalidate\u001b[49m\u001b[43m(\u001b[49m\u001b[38;5;28;43mself\u001b[39;49m\u001b[38;5;241;43m.\u001b[39;49m\u001b[43mstorage_name\u001b[49m\u001b[43m,\u001b[49m\u001b[43m \u001b[49m\u001b[43mvalue\u001b[49m\u001b[43m)\u001b[49m  \u001b[38;5;66;03m# <1>\u001b[39;00m\n\u001b[0;32m     11\u001b[0m     instance\u001b[38;5;241m.\u001b[39m\u001b[38;5;18m__dict__\u001b[39m[\u001b[38;5;28mself\u001b[39m\u001b[38;5;241m.\u001b[39mstorage_name] \u001b[38;5;241m=\u001b[39m value\n",
      "Input \u001b[1;32mIn [21]\u001b[0m, in \u001b[0;36mNonBlank.validate\u001b[1;34m(self, name, value)\u001b[0m\n\u001b[0;32m     32\u001b[0m value \u001b[38;5;241m=\u001b[39m value\u001b[38;5;241m.\u001b[39mstrip()\n\u001b[0;32m     33\u001b[0m \u001b[38;5;28;01mif\u001b[39;00m \u001b[38;5;129;01mnot\u001b[39;00m value:  \u001b[38;5;66;03m# <2>\u001b[39;00m\n\u001b[1;32m---> 34\u001b[0m     \u001b[38;5;28;01mraise\u001b[39;00m \u001b[38;5;167;01mValueError\u001b[39;00m(\u001b[38;5;124mf\u001b[39m\u001b[38;5;124m'\u001b[39m\u001b[38;5;132;01m{\u001b[39;00mname\u001b[38;5;132;01m}\u001b[39;00m\u001b[38;5;124m cannot be blank\u001b[39m\u001b[38;5;124m'\u001b[39m)\n\u001b[0;32m     35\u001b[0m \u001b[38;5;28;01mreturn\u001b[39;00m value\n",
      "\u001b[1;31mValueError\u001b[0m: description cannot be blank"
     ]
    }
   ],
   "source": [
    "br_nuts.description = ' '"
   ]
  },
  {
   "cell_type": "code",
   "execution_count": 36,
   "id": "745fb980",
   "metadata": {},
   "outputs": [],
   "source": [
    "\"\"\"\n",
    "Overriding descriptor (a.k.a. data descriptor or enforced descriptor):\n",
    "\n",
    "# tag::DESCR_KINDS_DEMO1[]\n",
    "\n",
    "    >>> obj = Managed()  # <1>\n",
    "    >>> obj.over  # <2>\n",
    "    -> Overriding.__get__(<Overriding object>, <Managed object>, <class Managed>)\n",
    "    >>> Managed.over  # <3>\n",
    "    -> Overriding.__get__(<Overriding object>, None, <class Managed>)\n",
    "    >>> obj.over = 7  # <4>\n",
    "    -> Overriding.__set__(<Overriding object>, <Managed object>, 7)\n",
    "    >>> obj.over  # <5>\n",
    "    -> Overriding.__get__(<Overriding object>, <Managed object>, <class Managed>)\n",
    "    >>> obj.__dict__['over'] = 8  # <6>\n",
    "    >>> vars(obj)  # <7>\n",
    "    {'over': 8}\n",
    "    >>> obj.over  # <8>\n",
    "    -> Overriding.__get__(<Overriding object>, <Managed object>, <class Managed>)\n",
    "\n",
    "# end::DESCR_KINDS_DEMO1[]\n",
    "\n",
    "Overriding descriptor without ``__get__``:\n",
    "\n",
    "(these tests are reproduced below without +ELLIPSIS directives for inclusion in the book;\n",
    "look for DESCR_KINDS_DEMO2)\n",
    "\n",
    "    >>> obj.over_no_get  # doctest: +ELLIPSIS\n",
    "    <descriptorkinds.OverridingNoGet object at 0x...>\n",
    "    >>> Managed.over_no_get  # doctest: +ELLIPSIS\n",
    "    <descriptorkinds.OverridingNoGet object at 0x...>\n",
    "    >>> obj.over_no_get = 7\n",
    "    -> OverridingNoGet.__set__(<OverridingNoGet object>, <Managed object>, 7)\n",
    "    >>> obj.over_no_get  # doctest: +ELLIPSIS\n",
    "    <descriptorkinds.OverridingNoGet object at 0x...>\n",
    "    >>> obj.__dict__['over_no_get'] = 9\n",
    "    >>> obj.over_no_get\n",
    "    9\n",
    "    >>> obj.over_no_get = 7\n",
    "    -> OverridingNoGet.__set__(<OverridingNoGet object>, <Managed object>, 7)\n",
    "    >>> obj.over_no_get\n",
    "    9\n",
    "\n",
    "Non-overriding descriptor (a.k.a. non-data descriptor or shadowable descriptor):\n",
    "\n",
    "# tag::DESCR_KINDS_DEMO3[]\n",
    "\n",
    "    >>> obj = Managed()\n",
    "    >>> obj.non_over  # <1>\n",
    "    -> NonOverriding.__get__(<NonOverriding object>, <Managed object>, <class Managed>)\n",
    "    >>> obj.non_over = 7  # <2>\n",
    "    >>> obj.non_over  # <3>\n",
    "    7\n",
    "    >>> Managed.non_over  # <4>\n",
    "    -> NonOverriding.__get__(<NonOverriding object>, None, <class Managed>)\n",
    "    >>> del obj.non_over  # <5>\n",
    "    >>> obj.non_over  # <6>\n",
    "    -> NonOverriding.__get__(<NonOverriding object>, <Managed object>, <class Managed>)\n",
    "\n",
    "# end::DESCR_KINDS_DEMO3[]\n",
    "\n",
    "No descriptor type survives being overwritten on the class itself:\n",
    "\n",
    "# tag::DESCR_KINDS_DEMO4[]\n",
    "\n",
    "    >>> obj = Managed()  # <1>\n",
    "    >>> Managed.over = 1  # <2>\n",
    "    >>> Managed.over_no_get = 2\n",
    "    >>> Managed.non_over = 3\n",
    "    >>> obj.over, obj.over_no_get, obj.non_over  # <3>\n",
    "    (1, 2, 3)\n",
    "\n",
    "# end::DESCR_KINDS_DEMO4[]\n",
    "\n",
    "Methods are non-overriding descriptors:\n",
    "\n",
    "    >>> obj.spam  # doctest: +ELLIPSIS\n",
    "    <bound method Managed.spam of <descriptorkinds.Managed object at 0x...>>\n",
    "    >>> Managed.spam  # doctest: +ELLIPSIS\n",
    "    <function Managed.spam at 0x...>\n",
    "    >>> obj.spam()\n",
    "    -> Managed.spam(<Managed object>)\n",
    "    >>> Managed.spam()\n",
    "    Traceback (most recent call last):\n",
    "      ...\n",
    "    TypeError: Managed.spam() missing 1 required positional argument: 'self'\n",
    "    >>> Managed.spam(obj)\n",
    "    -> Managed.spam(<Managed object>)\n",
    "    >>> Managed.spam.__get__(obj)  # doctest: +ELLIPSIS\n",
    "    <bound method Managed.spam of <descriptorkinds.Managed object at 0x...>>\n",
    "    >>> obj.spam.__func__ is Managed.spam\n",
    "    True\n",
    "    >>> obj.spam = 7\n",
    "    >>> obj.spam\n",
    "    7\n",
    "\n",
    "\n",
    "\"\"\"\n",
    "\n",
    "\"\"\"\n",
    "NOTE: These tests are here because I can't add callouts after +ELLIPSIS\n",
    "directives and if doctest runs them without +ELLIPSIS I get test failures.\n",
    "\n",
    "# tag::DESCR_KINDS_DEMO2[]\n",
    "\n",
    "    >>> obj.over_no_get  # <1>\n",
    "    <__main__.OverridingNoGet object at 0x665bcc>\n",
    "    >>> Managed.over_no_get  # <2>\n",
    "    <__main__.OverridingNoGet object at 0x665bcc>\n",
    "    >>> obj.over_no_get = 7  # <3>\n",
    "    -> OverridingNoGet.__set__(<OverridingNoGet object>, <Managed object>, 7)\n",
    "    >>> obj.over_no_get  # <4>\n",
    "    <__main__.OverridingNoGet object at 0x665bcc>\n",
    "    >>> obj.__dict__['over_no_get'] = 9  # <5>\n",
    "    >>> obj.over_no_get  # <6>\n",
    "    9\n",
    "    >>> obj.over_no_get = 7  # <7>\n",
    "    -> OverridingNoGet.__set__(<OverridingNoGet object>, <Managed object>, 7)\n",
    "    >>> obj.over_no_get  # <8>\n",
    "    9\n",
    "\n",
    "# end::DESCR_KINDS_DEMO2[]\n",
    "\n",
    "Methods are non-overriding descriptors:\n",
    "\n",
    "# tag::DESCR_KINDS_DEMO5[]\n",
    "\n",
    "    >>> obj = Managed()\n",
    "    >>> obj.spam  # <1>\n",
    "    <bound method Managed.spam of <descriptorkinds.Managed object at 0x74c80c>>\n",
    "    >>> Managed.spam  # <2>\n",
    "    <function Managed.spam at 0x734734>\n",
    "    >>> obj.spam = 7  # <3>\n",
    "    >>> obj.spam\n",
    "    7\n",
    "\n",
    "# end::DESCR_KINDS_DEMO5[]\n",
    "\n",
    "\"\"\"\n",
    "\n",
    "# tag::DESCR_KINDS[]\n",
    "\n",
    "### auxiliary functions for display only ###\n",
    "\n",
    "def cls_name(obj_or_cls):\n",
    "    cls = type(obj_or_cls)\n",
    "    if cls is type:\n",
    "        cls = obj_or_cls\n",
    "    return cls.__name__.split('.')[-1]\n",
    "\n",
    "def display(obj):\n",
    "    cls = type(obj)\n",
    "    if cls is type:\n",
    "        return f'<class {obj.__name__}>'\n",
    "    elif cls in [type(None), int]:\n",
    "        return repr(obj)\n",
    "    else:\n",
    "        return f'<{cls_name(obj)} object>'\n",
    "\n",
    "def print_args(name, *args):\n",
    "    pseudo_args = ', '.join(display(x) for x in args)\n",
    "    print(f'-> {cls_name(args[0])}.__{name}__({pseudo_args})')\n",
    "\n",
    "\n",
    "### essential classes for this example ###\n",
    "\n",
    "class Overriding:  # <1>\n",
    "    \"\"\"a.k.a. data descriptor or enforced descriptor\"\"\"\n",
    "\n",
    "    def __get__(self, instance, owner):\n",
    "        print_args('get', self, instance, owner)  # <2>\n",
    "\n",
    "    def __set__(self, instance, value):\n",
    "        print_args('set', self, instance, value)\n",
    "\n",
    "\n",
    "class OverridingNoGet:  # <3>\n",
    "    \"\"\"an overriding descriptor without ``__get__``\"\"\"\n",
    "\n",
    "    def __set__(self, instance, value):\n",
    "        print_args('set', self, instance, value)\n",
    "\n",
    "\n",
    "class NonOverriding:  # <4>\n",
    "    \"\"\"a.k.a. non-data or shadowable descriptor\"\"\"\n",
    "\n",
    "    def __get__(self, instance, owner):\n",
    "        print_args('get', self, instance, owner)\n",
    "\n",
    "\n",
    "class Managed:  # <5>\n",
    "    over = Overriding()\n",
    "    over_no_get = OverridingNoGet()\n",
    "    non_over = NonOverriding()\n",
    "\n",
    "    def spam(self):  # <6>\n",
    "        print(f'-> Managed.spam({display(self)})')\n",
    "\n",
    "# end::DESCR_KINDS[]\n"
   ]
  },
  {
   "cell_type": "code",
   "execution_count": 37,
   "id": "2f64e438",
   "metadata": {},
   "outputs": [
    {
     "name": "stdout",
     "output_type": "stream",
     "text": [
      "-> Overriding.__get__(<Overriding object>, <Managed object>, <class Managed>)\n"
     ]
    }
   ],
   "source": [
    "obj = Managed()  # <1>\n",
    "obj.over  # <2>"
   ]
  },
  {
   "cell_type": "code",
   "execution_count": 38,
   "id": "f2ff9d46",
   "metadata": {},
   "outputs": [
    {
     "name": "stdout",
     "output_type": "stream",
     "text": [
      "-> Overriding.__get__(<Overriding object>, None, <class Managed>)\n"
     ]
    }
   ],
   "source": [
    "Managed.over  # <3>"
   ]
  },
  {
   "cell_type": "code",
   "execution_count": 39,
   "id": "d9ad7583",
   "metadata": {},
   "outputs": [
    {
     "name": "stdout",
     "output_type": "stream",
     "text": [
      "-> Overriding.__set__(<Overriding object>, <Managed object>, 7)\n"
     ]
    }
   ],
   "source": [
    "obj.over = 7  # <4>"
   ]
  },
  {
   "cell_type": "code",
   "execution_count": 40,
   "id": "c2ed4842",
   "metadata": {},
   "outputs": [
    {
     "name": "stdout",
     "output_type": "stream",
     "text": [
      "-> Overriding.__get__(<Overriding object>, <Managed object>, <class Managed>)\n"
     ]
    }
   ],
   "source": [
    "obj.over  # <5>"
   ]
  },
  {
   "cell_type": "code",
   "execution_count": 41,
   "id": "13f82357",
   "metadata": {},
   "outputs": [
    {
     "data": {
      "text/plain": [
       "{'over': 8}"
      ]
     },
     "execution_count": 41,
     "metadata": {},
     "output_type": "execute_result"
    }
   ],
   "source": [
    "obj.__dict__['over'] = 8  # <6>\n",
    "vars(obj)  # <7>"
   ]
  },
  {
   "cell_type": "code",
   "execution_count": 42,
   "id": "5980b631",
   "metadata": {},
   "outputs": [
    {
     "name": "stdout",
     "output_type": "stream",
     "text": [
      "-> Overriding.__get__(<Overriding object>, <Managed object>, <class Managed>)\n"
     ]
    }
   ],
   "source": [
    "obj.over  # <8>"
   ]
  },
  {
   "cell_type": "code",
   "execution_count": 43,
   "id": "ab4ee53c",
   "metadata": {},
   "outputs": [
    {
     "data": {
      "text/plain": [
       "<__main__.OverridingNoGet at 0x227eb779f40>"
      ]
     },
     "execution_count": 43,
     "metadata": {},
     "output_type": "execute_result"
    }
   ],
   "source": [
    "obj.over_no_get  # doctest: +ELLIPSIS"
   ]
  },
  {
   "cell_type": "code",
   "execution_count": 44,
   "id": "3dcfef37",
   "metadata": {},
   "outputs": [
    {
     "data": {
      "text/plain": [
       "<__main__.OverridingNoGet at 0x227eb779f40>"
      ]
     },
     "execution_count": 44,
     "metadata": {},
     "output_type": "execute_result"
    }
   ],
   "source": [
    "Managed.over_no_get  # doctest: +ELLIPSIS"
   ]
  },
  {
   "cell_type": "code",
   "execution_count": 45,
   "id": "e4cbc75f",
   "metadata": {},
   "outputs": [
    {
     "name": "stdout",
     "output_type": "stream",
     "text": [
      "-> OverridingNoGet.__set__(<OverridingNoGet object>, <Managed object>, 7)\n"
     ]
    }
   ],
   "source": [
    "obj.over_no_get = 7"
   ]
  },
  {
   "cell_type": "code",
   "execution_count": 46,
   "id": "1671fead",
   "metadata": {},
   "outputs": [
    {
     "data": {
      "text/plain": [
       "<__main__.OverridingNoGet at 0x227eb779f40>"
      ]
     },
     "execution_count": 46,
     "metadata": {},
     "output_type": "execute_result"
    }
   ],
   "source": [
    "obj.over_no_get  # doctest: +ELLIPSIS"
   ]
  },
  {
   "cell_type": "code",
   "execution_count": 47,
   "id": "4efb78ba",
   "metadata": {},
   "outputs": [
    {
     "data": {
      "text/plain": [
       "9"
      ]
     },
     "execution_count": 47,
     "metadata": {},
     "output_type": "execute_result"
    }
   ],
   "source": [
    "obj.__dict__['over_no_get'] = 9\n",
    "obj.over_no_get"
   ]
  },
  {
   "cell_type": "code",
   "execution_count": 48,
   "id": "ccb51f4d",
   "metadata": {},
   "outputs": [
    {
     "name": "stdout",
     "output_type": "stream",
     "text": [
      "-> OverridingNoGet.__set__(<OverridingNoGet object>, <Managed object>, 7)\n"
     ]
    }
   ],
   "source": [
    "obj.over_no_get = 7"
   ]
  },
  {
   "cell_type": "code",
   "execution_count": 49,
   "id": "a56c6789",
   "metadata": {},
   "outputs": [
    {
     "data": {
      "text/plain": [
       "9"
      ]
     },
     "execution_count": 49,
     "metadata": {},
     "output_type": "execute_result"
    }
   ],
   "source": [
    "obj.over_no_get"
   ]
  },
  {
   "cell_type": "code",
   "execution_count": 50,
   "id": "5dc83366",
   "metadata": {},
   "outputs": [
    {
     "name": "stdout",
     "output_type": "stream",
     "text": [
      "-> NonOverriding.__get__(<NonOverriding object>, <Managed object>, <class Managed>)\n"
     ]
    }
   ],
   "source": [
    "obj = Managed()\n",
    "obj.non_over  # <1>"
   ]
  },
  {
   "cell_type": "code",
   "execution_count": 51,
   "id": "ac9f86ad",
   "metadata": {},
   "outputs": [
    {
     "data": {
      "text/plain": [
       "7"
      ]
     },
     "execution_count": 51,
     "metadata": {},
     "output_type": "execute_result"
    }
   ],
   "source": [
    "obj.non_over = 7  # <2>\n",
    "obj.non_over  # <3>"
   ]
  },
  {
   "cell_type": "code",
   "execution_count": 52,
   "id": "f18b4333",
   "metadata": {},
   "outputs": [
    {
     "name": "stdout",
     "output_type": "stream",
     "text": [
      "-> NonOverriding.__get__(<NonOverriding object>, None, <class Managed>)\n"
     ]
    }
   ],
   "source": [
    "Managed.non_over  # <4>"
   ]
  },
  {
   "cell_type": "code",
   "execution_count": 53,
   "id": "de04c5b6",
   "metadata": {},
   "outputs": [
    {
     "name": "stdout",
     "output_type": "stream",
     "text": [
      "-> NonOverriding.__get__(<NonOverriding object>, <Managed object>, <class Managed>)\n"
     ]
    }
   ],
   "source": [
    "del obj.non_over  # <5>\n",
    "obj.non_over  # <6>"
   ]
  },
  {
   "cell_type": "code",
   "execution_count": 54,
   "id": "b53a5860",
   "metadata": {},
   "outputs": [
    {
     "data": {
      "text/plain": [
       "(1, 2, 3)"
      ]
     },
     "execution_count": 54,
     "metadata": {},
     "output_type": "execute_result"
    }
   ],
   "source": [
    "obj = Managed()  # <1>\n",
    "Managed.over = 1  # <2>\n",
    "Managed.over_no_get = 2\n",
    "Managed.non_over = 3\n",
    "obj.over, obj.over_no_get, obj.non_over  # <3>"
   ]
  },
  {
   "cell_type": "code",
   "execution_count": 55,
   "id": "051d3d5a",
   "metadata": {},
   "outputs": [
    {
     "data": {
      "text/plain": [
       "<bound method Managed.spam of <__main__.Managed object at 0x00000227E9BCEF70>>"
      ]
     },
     "execution_count": 55,
     "metadata": {},
     "output_type": "execute_result"
    }
   ],
   "source": [
    "obj.spam  # doctest: +ELLIPSIS"
   ]
  },
  {
   "cell_type": "code",
   "execution_count": 56,
   "id": "cf91a5d3",
   "metadata": {},
   "outputs": [
    {
     "data": {
      "text/plain": [
       "<function __main__.Managed.spam(self)>"
      ]
     },
     "execution_count": 56,
     "metadata": {},
     "output_type": "execute_result"
    }
   ],
   "source": [
    "Managed.spam  # doctest: +ELLIPSIS"
   ]
  },
  {
   "cell_type": "code",
   "execution_count": 57,
   "id": "71ea3d9a",
   "metadata": {},
   "outputs": [
    {
     "name": "stdout",
     "output_type": "stream",
     "text": [
      "-> Managed.spam(<Managed object>)\n"
     ]
    }
   ],
   "source": [
    "obj.spam()"
   ]
  },
  {
   "cell_type": "code",
   "execution_count": 58,
   "id": "12f4be4b",
   "metadata": {},
   "outputs": [
    {
     "ename": "TypeError",
     "evalue": "spam() missing 1 required positional argument: 'self'",
     "output_type": "error",
     "traceback": [
      "\u001b[1;31m---------------------------------------------------------------------------\u001b[0m",
      "\u001b[1;31mTypeError\u001b[0m                                 Traceback (most recent call last)",
      "Input \u001b[1;32mIn [58]\u001b[0m, in \u001b[0;36m<cell line: 1>\u001b[1;34m()\u001b[0m\n\u001b[1;32m----> 1\u001b[0m \u001b[43mManaged\u001b[49m\u001b[38;5;241;43m.\u001b[39;49m\u001b[43mspam\u001b[49m\u001b[43m(\u001b[49m\u001b[43m)\u001b[49m\n",
      "\u001b[1;31mTypeError\u001b[0m: spam() missing 1 required positional argument: 'self'"
     ]
    }
   ],
   "source": [
    "Managed.spam()"
   ]
  },
  {
   "cell_type": "code",
   "execution_count": 59,
   "id": "1216f607",
   "metadata": {},
   "outputs": [
    {
     "name": "stdout",
     "output_type": "stream",
     "text": [
      "-> Managed.spam(<Managed object>)\n"
     ]
    }
   ],
   "source": [
    "Managed.spam(obj)"
   ]
  },
  {
   "cell_type": "code",
   "execution_count": 60,
   "id": "a4d5fbfa",
   "metadata": {},
   "outputs": [
    {
     "data": {
      "text/plain": [
       "<bound method Managed.spam of <__main__.Managed object at 0x00000227E9BCEF70>>"
      ]
     },
     "execution_count": 60,
     "metadata": {},
     "output_type": "execute_result"
    }
   ],
   "source": [
    "Managed.spam.__get__(obj)  # doctest: +ELLIPSIS"
   ]
  },
  {
   "cell_type": "code",
   "execution_count": 61,
   "id": "bd9b8e0d",
   "metadata": {},
   "outputs": [
    {
     "data": {
      "text/plain": [
       "True"
      ]
     },
     "execution_count": 61,
     "metadata": {},
     "output_type": "execute_result"
    }
   ],
   "source": [
    "obj.spam.__func__ is Managed.spam"
   ]
  },
  {
   "cell_type": "code",
   "execution_count": 62,
   "id": "b4996fa4",
   "metadata": {},
   "outputs": [
    {
     "data": {
      "text/plain": [
       "7"
      ]
     },
     "execution_count": 62,
     "metadata": {},
     "output_type": "execute_result"
    }
   ],
   "source": [
    "obj.spam = 7\n",
    "obj.spam"
   ]
  },
  {
   "cell_type": "code",
   "execution_count": 63,
   "id": "b82f8991",
   "metadata": {},
   "outputs": [
    {
     "data": {
      "text/plain": [
       "2"
      ]
     },
     "execution_count": 63,
     "metadata": {},
     "output_type": "execute_result"
    }
   ],
   "source": [
    "obj.over_no_get  # <1>"
   ]
  },
  {
   "cell_type": "code",
   "execution_count": 64,
   "id": "efe06f69",
   "metadata": {},
   "outputs": [
    {
     "data": {
      "text/plain": [
       "2"
      ]
     },
     "execution_count": 64,
     "metadata": {},
     "output_type": "execute_result"
    }
   ],
   "source": [
    "Managed.over_no_get  # <2>"
   ]
  },
  {
   "cell_type": "code",
   "execution_count": 66,
   "id": "087b8df0",
   "metadata": {},
   "outputs": [
    {
     "data": {
      "text/plain": [
       "7"
      ]
     },
     "execution_count": 66,
     "metadata": {},
     "output_type": "execute_result"
    }
   ],
   "source": [
    "obj.over_no_get = 7  # <3>\n",
    "obj.over_no_get  # <4>"
   ]
  },
  {
   "cell_type": "code",
   "execution_count": 67,
   "id": "3f2687c3",
   "metadata": {},
   "outputs": [
    {
     "data": {
      "text/plain": [
       "9"
      ]
     },
     "execution_count": 67,
     "metadata": {},
     "output_type": "execute_result"
    }
   ],
   "source": [
    "obj.__dict__['over_no_get'] = 9  # <5>\n",
    "obj.over_no_get  # <6>"
   ]
  },
  {
   "cell_type": "code",
   "execution_count": 68,
   "id": "47cbbe7c",
   "metadata": {},
   "outputs": [],
   "source": [
    "obj.over_no_get = 7  # <7>"
   ]
  },
  {
   "cell_type": "code",
   "execution_count": 69,
   "id": "36c1e05c",
   "metadata": {},
   "outputs": [
    {
     "data": {
      "text/plain": [
       "7"
      ]
     },
     "execution_count": 69,
     "metadata": {},
     "output_type": "execute_result"
    }
   ],
   "source": [
    "obj.over_no_get  # <8>"
   ]
  },
  {
   "cell_type": "code",
   "execution_count": 70,
   "id": "ea30fd4f",
   "metadata": {},
   "outputs": [
    {
     "data": {
      "text/plain": [
       "<bound method Managed.spam of <__main__.Managed object at 0x00000227E9C06A90>>"
      ]
     },
     "execution_count": 70,
     "metadata": {},
     "output_type": "execute_result"
    }
   ],
   "source": [
    "obj = Managed()\n",
    "obj.spam  # <1>"
   ]
  },
  {
   "cell_type": "code",
   "execution_count": 71,
   "id": "6a482930",
   "metadata": {},
   "outputs": [
    {
     "data": {
      "text/plain": [
       "<function __main__.Managed.spam(self)>"
      ]
     },
     "execution_count": 71,
     "metadata": {},
     "output_type": "execute_result"
    }
   ],
   "source": [
    "Managed.spam  # <2>"
   ]
  },
  {
   "cell_type": "code",
   "execution_count": 72,
   "id": "1fa59d12",
   "metadata": {},
   "outputs": [
    {
     "data": {
      "text/plain": [
       "7"
      ]
     },
     "execution_count": 72,
     "metadata": {},
     "output_type": "execute_result"
    }
   ],
   "source": [
    "obj.spam = 7  # <3>\n",
    "obj.spam"
   ]
  },
  {
   "cell_type": "code",
   "execution_count": 73,
   "id": "ccf4f57c",
   "metadata": {},
   "outputs": [],
   "source": [
    "\"\"\"\n",
    "# tag::FUNC_DESCRIPTOR_DEMO[]\n",
    "\n",
    "    >>> word = Text('forward')\n",
    "    >>> word  # <1>\n",
    "    Text('forward')\n",
    "    >>> word.reverse()  # <2>\n",
    "    Text('drawrof')\n",
    "    >>> Text.reverse(Text('backward'))  # <3>\n",
    "    Text('drawkcab')\n",
    "    >>> type(Text.reverse), type(word.reverse)  # <4>\n",
    "    (<class 'function'>, <class 'method'>)\n",
    "    >>> list(map(Text.reverse, ['repaid', (10, 20, 30), Text('stressed')]))  # <5>\n",
    "    ['diaper', (30, 20, 10), Text('desserts')]\n",
    "    >>> Text.reverse.__get__(word)  # <6>\n",
    "    <bound method Text.reverse of Text('forward')>\n",
    "    >>> Text.reverse.__get__(None, Text)  # <7>\n",
    "    <function Text.reverse at 0x101244e18>\n",
    "    >>> word.reverse  # <8>\n",
    "    <bound method Text.reverse of Text('forward')>\n",
    "    >>> word.reverse.__self__  # <9>\n",
    "    Text('forward')\n",
    "    >>> word.reverse.__func__ is Text.reverse  # <10>\n",
    "    True\n",
    "\n",
    "# end::FUNC_DESCRIPTOR_DEMO[]\n",
    "\"\"\"\n",
    "\n",
    "# tag::FUNC_DESCRIPTOR_EX[]\n",
    "import collections\n",
    "\n",
    "\n",
    "class Text(collections.UserString):\n",
    "\n",
    "    def __repr__(self):\n",
    "        return 'Text({!r})'.format(self.data)\n",
    "\n",
    "    def reverse(self):\n",
    "        return self[::-1]\n",
    "\n",
    "# end::FUNC_DESCRIPTOR_EX[]\n"
   ]
  },
  {
   "cell_type": "code",
   "execution_count": 74,
   "id": "d40a252c",
   "metadata": {},
   "outputs": [
    {
     "data": {
      "text/plain": [
       "Text('forward')"
      ]
     },
     "execution_count": 74,
     "metadata": {},
     "output_type": "execute_result"
    }
   ],
   "source": [
    "word = Text('forward')\n",
    "word  # <1>"
   ]
  },
  {
   "cell_type": "code",
   "execution_count": 75,
   "id": "3114d1d1",
   "metadata": {},
   "outputs": [
    {
     "data": {
      "text/plain": [
       "Text('drawrof')"
      ]
     },
     "execution_count": 75,
     "metadata": {},
     "output_type": "execute_result"
    }
   ],
   "source": [
    "word.reverse()  # <2>"
   ]
  },
  {
   "cell_type": "code",
   "execution_count": 76,
   "id": "c09835a2",
   "metadata": {},
   "outputs": [
    {
     "data": {
      "text/plain": [
       "Text('drawkcab')"
      ]
     },
     "execution_count": 76,
     "metadata": {},
     "output_type": "execute_result"
    }
   ],
   "source": [
    "Text.reverse(Text('backward'))  # <3>"
   ]
  },
  {
   "cell_type": "code",
   "execution_count": 77,
   "id": "61637fe5",
   "metadata": {},
   "outputs": [
    {
     "data": {
      "text/plain": [
       "(function, method)"
      ]
     },
     "execution_count": 77,
     "metadata": {},
     "output_type": "execute_result"
    }
   ],
   "source": [
    "type(Text.reverse), type(word.reverse)  # <4>"
   ]
  },
  {
   "cell_type": "code",
   "execution_count": 78,
   "id": "f1690f86",
   "metadata": {},
   "outputs": [
    {
     "data": {
      "text/plain": [
       "['diaper', (30, 20, 10), Text('desserts')]"
      ]
     },
     "execution_count": 78,
     "metadata": {},
     "output_type": "execute_result"
    }
   ],
   "source": [
    "list(map(Text.reverse, ['repaid', (10, 20, 30), Text('stressed')]))  # <5>"
   ]
  },
  {
   "cell_type": "code",
   "execution_count": 79,
   "id": "98f1513b",
   "metadata": {},
   "outputs": [
    {
     "data": {
      "text/plain": [
       "<bound method Text.reverse of Text('forward')>"
      ]
     },
     "execution_count": 79,
     "metadata": {},
     "output_type": "execute_result"
    }
   ],
   "source": [
    "Text.reverse.__get__(word)  # <6>"
   ]
  },
  {
   "cell_type": "code",
   "execution_count": 80,
   "id": "2ca0e2a4",
   "metadata": {},
   "outputs": [
    {
     "data": {
      "text/plain": [
       "<function __main__.Text.reverse(self)>"
      ]
     },
     "execution_count": 80,
     "metadata": {},
     "output_type": "execute_result"
    }
   ],
   "source": [
    "Text.reverse.__get__(None, Text)  # <7>"
   ]
  },
  {
   "cell_type": "code",
   "execution_count": 81,
   "id": "b34aaa88",
   "metadata": {},
   "outputs": [
    {
     "data": {
      "text/plain": [
       "<bound method Text.reverse of Text('forward')>"
      ]
     },
     "execution_count": 81,
     "metadata": {},
     "output_type": "execute_result"
    }
   ],
   "source": [
    "word.reverse  # <8>"
   ]
  },
  {
   "cell_type": "code",
   "execution_count": 82,
   "id": "1c658eef",
   "metadata": {},
   "outputs": [
    {
     "data": {
      "text/plain": [
       "Text('forward')"
      ]
     },
     "execution_count": 82,
     "metadata": {},
     "output_type": "execute_result"
    }
   ],
   "source": [
    "word.reverse.__self__  # <9>"
   ]
  },
  {
   "cell_type": "code",
   "execution_count": 83,
   "id": "5764a4b6",
   "metadata": {},
   "outputs": [
    {
     "data": {
      "text/plain": [
       "True"
      ]
     },
     "execution_count": 83,
     "metadata": {},
     "output_type": "execute_result"
    }
   ],
   "source": [
    "word.reverse.__func__ is Text.reverse  # <10>"
   ]
  },
  {
   "cell_type": "code",
   "execution_count": 84,
   "id": "2117baf5",
   "metadata": {},
   "outputs": [
    {
     "data": {
      "text/plain": [
       "<method-wrapper '__call__' of method object at 0x00000227EB697900>"
      ]
     },
     "execution_count": 84,
     "metadata": {},
     "output_type": "execute_result"
    }
   ],
   "source": [
    "word.reverse.__call__"
   ]
  }
 ],
 "metadata": {
  "kernelspec": {
   "display_name": "Python 3 (ipykernel)",
   "language": "python",
   "name": "python3"
  },
  "language_info": {
   "codemirror_mode": {
    "name": "ipython",
    "version": 3
   },
   "file_extension": ".py",
   "mimetype": "text/x-python",
   "name": "python",
   "nbconvert_exporter": "python",
   "pygments_lexer": "ipython3",
   "version": "3.8.13"
  }
 },
 "nbformat": 4,
 "nbformat_minor": 5
}
