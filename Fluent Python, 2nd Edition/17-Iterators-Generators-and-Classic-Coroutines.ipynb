{
 "cells": [
  {
   "cell_type": "code",
   "execution_count": 1,
   "id": "35fb2115",
   "metadata": {},
   "outputs": [
    {
     "data": {
      "text/plain": [
       "['D:\\\\books\\\\python\\\\0.   Fluent Python, 2nd Edition',\n",
       " 'D:/books/python/0.   Fluent Python, 2nd Edition/example-code-2e/17-it-generator/',\n",
       " 'C:\\\\Users\\\\lidan\\\\miniconda3\\\\python38.zip',\n",
       " 'C:\\\\Users\\\\lidan\\\\miniconda3\\\\DLLs',\n",
       " 'C:\\\\Users\\\\lidan\\\\miniconda3\\\\lib',\n",
       " 'C:\\\\Users\\\\lidan\\\\miniconda3',\n",
       " '',\n",
       " 'C:\\\\Users\\\\lidan\\\\AppData\\\\Roaming\\\\Python\\\\Python38\\\\site-packages',\n",
       " 'C:\\\\Users\\\\lidan\\\\miniconda3\\\\lib\\\\site-packages',\n",
       " 'C:\\\\Users\\\\lidan\\\\miniconda3\\\\lib\\\\site-packages\\\\magic_impute-2.0.4-py3.8.egg',\n",
       " 'C:\\\\Users\\\\lidan\\\\miniconda3\\\\lib\\\\site-packages\\\\seqc-0.2.0-py3.8.egg',\n",
       " 'C:\\\\Users\\\\lidan\\\\miniconda3\\\\lib\\\\site-packages\\\\weasyprint-56.1-py3.8.egg',\n",
       " 'C:\\\\Users\\\\lidan\\\\miniconda3\\\\lib\\\\site-packages\\\\cairocffi-1.3.0-py3.8.egg',\n",
       " 'C:\\\\Users\\\\lidan\\\\miniconda3\\\\lib\\\\site-packages\\\\win32',\n",
       " 'C:\\\\Users\\\\lidan\\\\miniconda3\\\\lib\\\\site-packages\\\\win32\\\\lib',\n",
       " 'C:\\\\Users\\\\lidan\\\\miniconda3\\\\lib\\\\site-packages\\\\Pythonwin']"
      ]
     },
     "execution_count": 1,
     "metadata": {},
     "output_type": "execute_result"
    }
   ],
   "source": [
    "import sys\n",
    "    # caution: path[0] is reserved for script path (or '' in REPL)\n",
    "sys.path.insert(1, 'D:/books/python/0.   Fluent Python, 2nd Edition/example-code-2e/17-it-generator/')\n",
    "sys.path"
   ]
  },
  {
   "cell_type": "code",
   "execution_count": 2,
   "id": "3d4b195d",
   "metadata": {},
   "outputs": [],
   "source": [
    "\"\"\"\n",
    "Sentence: access words by index\n",
    "\n",
    "    >>> text = 'To be, or not to be, that is the question'\n",
    "    >>> s = Sentence(text)\n",
    "    >>> len(s)\n",
    "    10\n",
    "    >>> s[1], s[5]\n",
    "    ('be', 'be')\n",
    "    >>> s\n",
    "    Sentence('To be, or no... the question')\n",
    "\n",
    "\"\"\"\n",
    "\n",
    "# tag::SENTENCE_SEQ[]\n",
    "import re\n",
    "import reprlib\n",
    "\n",
    "RE_WORD = re.compile(r'\\w+')\n",
    "\n",
    "\n",
    "class Sentence:\n",
    "\n",
    "    def __init__(self, text):\n",
    "        self.text = text\n",
    "        self.words = RE_WORD.findall(text)  # <1>\n",
    "\n",
    "    def __getitem__(self, index):\n",
    "        return self.words[index]  # <2>\n",
    "\n",
    "    def __len__(self):  # <3>\n",
    "        return len(self.words)\n",
    "\n",
    "    def __repr__(self):\n",
    "        return 'Sentence(%s)' % reprlib.repr(self.text)  # <4>\n",
    "\n",
    "# end::SENTENCE_SEQ[]\n"
   ]
  },
  {
   "cell_type": "code",
   "execution_count": 3,
   "id": "c857a7ab",
   "metadata": {},
   "outputs": [
    {
     "name": "stdout",
     "output_type": "stream",
     "text": [
      "Help on function compile in module re:\n",
      "\n",
      "compile(pattern, flags=0)\n",
      "    Compile a regular expression pattern, returning a Pattern object.\n",
      "\n"
     ]
    }
   ],
   "source": [
    "help(re.compile)"
   ]
  },
  {
   "cell_type": "code",
   "execution_count": 4,
   "id": "40a97589",
   "metadata": {},
   "outputs": [
    {
     "name": "stdout",
     "output_type": "stream",
     "text": [
      "Help on built-in function findall:\n",
      "\n",
      "findall(string, pos=0, endpos=9223372036854775807) method of re.Pattern instance\n",
      "    Return a list of all non-overlapping matches of pattern in string.\n",
      "\n"
     ]
    }
   ],
   "source": [
    "help(re.compile(r'\\w+').findall)"
   ]
  },
  {
   "cell_type": "markdown",
   "id": "4d8fbca6",
   "metadata": {},
   "source": [
    "Regarding the specific regex expression, this searches for groups that have alphanumerics (that's the `\\w` part) or apostrophes (which is also in those square brackets) that are 1 or longer. Note that whitespace is not a match, so this, generally speaking, breaks a line into words."
   ]
  },
  {
   "cell_type": "code",
   "execution_count": 5,
   "id": "2a544ca3",
   "metadata": {},
   "outputs": [
    {
     "data": {
      "text/plain": [
       "10"
      ]
     },
     "execution_count": 5,
     "metadata": {},
     "output_type": "execute_result"
    }
   ],
   "source": [
    "text = 'To be, or not to be, that is the question'\n",
    "s = Sentence(text)\n",
    "len(s)"
   ]
  },
  {
   "cell_type": "code",
   "execution_count": 6,
   "id": "d0d9b4a9",
   "metadata": {},
   "outputs": [
    {
     "data": {
      "text/plain": [
       "('be', 'be')"
      ]
     },
     "execution_count": 6,
     "metadata": {},
     "output_type": "execute_result"
    }
   ],
   "source": [
    "s[1], s[5]"
   ]
  },
  {
   "cell_type": "code",
   "execution_count": 7,
   "id": "05f93de6",
   "metadata": {},
   "outputs": [
    {
     "data": {
      "text/plain": [
       "Sentence('To be, or no... the question')"
      ]
     },
     "execution_count": 7,
     "metadata": {},
     "output_type": "execute_result"
    }
   ],
   "source": [
    "s"
   ]
  },
  {
   "cell_type": "code",
   "execution_count": 8,
   "id": "b5ecec93",
   "metadata": {},
   "outputs": [],
   "source": [
    "\"\"\"\n",
    "Sentence: iterate over words using the Iterator Pattern, take #1\n",
    "\n",
    "WARNING: the Iterator Pattern is much simpler in idiomatic Python;\n",
    "see: sentence_gen*.py.\n",
    "\"\"\"\n",
    "\n",
    "# tag::SENTENCE_ITER[]\n",
    "import re\n",
    "import reprlib\n",
    "\n",
    "RE_WORD = re.compile(r'\\w+')\n",
    "\n",
    "\n",
    "class Sentence:\n",
    "\n",
    "    def __init__(self, text):\n",
    "        self.text = text\n",
    "        self.words = RE_WORD.findall(text)\n",
    "\n",
    "    def __repr__(self):\n",
    "        return f'Sentence({reprlib.repr(self.text)})'\n",
    "\n",
    "    def __iter__(self):  # <1>\n",
    "        return SentenceIterator(self.words)  # <2>\n",
    "\n",
    "\n",
    "class SentenceIterator:\n",
    "\n",
    "    def __init__(self, words):\n",
    "        self.words = words  # <3>\n",
    "        self.index = 0  # <4>\n",
    "\n",
    "    def __next__(self):\n",
    "        try:\n",
    "            word = self.words[self.index]  # <5>\n",
    "        except IndexError:\n",
    "            raise StopIteration()  # <6>\n",
    "        self.index += 1  # <7>\n",
    "        return word  # <8>\n",
    "\n",
    "    def __iter__(self):  # <9>\n",
    "        return self\n",
    "# end::SENTENCE_ITER[]\n"
   ]
  },
  {
   "cell_type": "code",
   "execution_count": 9,
   "id": "174c3819",
   "metadata": {},
   "outputs": [],
   "source": [
    "\"\"\"\n",
    "Sentence: iterate over words using the Iterator Pattern, take #2\n",
    "\n",
    "WARNING: the Iterator Pattern is much simpler in idiomatic Python;\n",
    "see: sentence_gen*.py.\n",
    "\"\"\"\n",
    "\n",
    "import re\n",
    "import reprlib\n",
    "\n",
    "RE_WORD = re.compile(r'\\w+')\n",
    "\n",
    "\n",
    "class Sentence:\n",
    "\n",
    "    def __init__(self, text):\n",
    "        self.text = text\n",
    "\n",
    "    def __repr__(self):\n",
    "        return f'Sentence({reprlib.repr(self.text)})'\n",
    "\n",
    "    def __iter__(self):\n",
    "        word_iter = RE_WORD.finditer(self.text)  # <1>\n",
    "        return SentenceIter(word_iter)  # <2>\n",
    "\n",
    "\n",
    "class SentenceIter:\n",
    "\n",
    "    def __init__(self, word_iter):\n",
    "        self.word_iter = word_iter  # <3>\n",
    "\n",
    "    def __next__(self):\n",
    "        match = next(self.word_iter)  # <4>\n",
    "        return match.group()  # <5>\n",
    "\n",
    "    def __iter__(self):\n",
    "        return self\n"
   ]
  },
  {
   "cell_type": "code",
   "execution_count": 10,
   "id": "54e74e5f",
   "metadata": {},
   "outputs": [
    {
     "data": {
      "text/plain": [
       "Sentence('To be, or no... the question')"
      ]
     },
     "execution_count": 10,
     "metadata": {},
     "output_type": "execute_result"
    }
   ],
   "source": [
    "text = 'To be, or not to be, that is the question'\n",
    "s = Sentence(text)\n",
    "s"
   ]
  },
  {
   "cell_type": "code",
   "execution_count": 11,
   "id": "ff18d116",
   "metadata": {},
   "outputs": [
    {
     "name": "stdout",
     "output_type": "stream",
     "text": [
      "Sentence('To be, or no... the question')\n"
     ]
    }
   ],
   "source": [
    "print(s)"
   ]
  },
  {
   "cell_type": "code",
   "execution_count": 12,
   "id": "e1bdb288",
   "metadata": {},
   "outputs": [
    {
     "name": "stdout",
     "output_type": "stream",
     "text": [
      "To\n",
      "be\n",
      "or\n",
      "not\n",
      "to\n",
      "be\n",
      "that\n",
      "is\n",
      "the\n",
      "question\n"
     ]
    }
   ],
   "source": [
    "for t in s:\n",
    "    print(t)"
   ]
  },
  {
   "cell_type": "code",
   "execution_count": 13,
   "id": "b8c797c5",
   "metadata": {},
   "outputs": [],
   "source": [
    "\"\"\"\n",
    "Sentence: iterate over words using a generator function\n",
    "\"\"\"\n",
    "\n",
    "# tag::SENTENCE_GEN2[]\n",
    "import re\n",
    "import reprlib\n",
    "\n",
    "RE_WORD = re.compile(r'\\w+')\n",
    "\n",
    "\n",
    "class Sentence:\n",
    "\n",
    "    def __init__(self, text):\n",
    "        self.text = text  # <1>\n",
    "\n",
    "    def __repr__(self):\n",
    "        return f'Sentence({reprlib.repr(self.text)})'\n",
    "\n",
    "    def __iter__(self):\n",
    "        for match in RE_WORD.finditer(self.text):  # <2>\n",
    "            yield match.group()  # <3>\n",
    "\n",
    "# end::SENTENCE_GEN2[]\n"
   ]
  },
  {
   "cell_type": "code",
   "execution_count": 14,
   "id": "dc60b0cd",
   "metadata": {},
   "outputs": [
    {
     "data": {
      "text/plain": [
       "Sentence('To be, or no... the question')"
      ]
     },
     "execution_count": 14,
     "metadata": {},
     "output_type": "execute_result"
    }
   ],
   "source": [
    "text = 'To be, or not to be, that is the question'\n",
    "s = Sentence(text)\n",
    "s"
   ]
  },
  {
   "cell_type": "code",
   "execution_count": 15,
   "id": "0e18cd5b",
   "metadata": {},
   "outputs": [
    {
     "name": "stdout",
     "output_type": "stream",
     "text": [
      "Sentence('To be, or no... the question')\n"
     ]
    }
   ],
   "source": [
    "print(s)"
   ]
  },
  {
   "cell_type": "code",
   "execution_count": 16,
   "id": "ff7a492f",
   "metadata": {},
   "outputs": [
    {
     "name": "stdout",
     "output_type": "stream",
     "text": [
      "To\n",
      "be\n",
      "or\n",
      "not\n",
      "to\n",
      "be\n",
      "that\n",
      "is\n",
      "the\n",
      "question\n"
     ]
    }
   ],
   "source": [
    "for t in s:\n",
    "    print(t)"
   ]
  },
  {
   "cell_type": "code",
   "execution_count": 17,
   "id": "e00f8338",
   "metadata": {},
   "outputs": [
    {
     "name": "stdout",
     "output_type": "stream",
     "text": [
      "<re.Match object; span=(0, 2), match='To'>\n",
      "<re.Match object; span=(3, 5), match='be'>\n",
      "<re.Match object; span=(7, 9), match='or'>\n",
      "<re.Match object; span=(10, 13), match='not'>\n",
      "<re.Match object; span=(14, 16), match='to'>\n",
      "<re.Match object; span=(17, 19), match='be'>\n",
      "<re.Match object; span=(21, 25), match='that'>\n",
      "<re.Match object; span=(26, 28), match='is'>\n",
      "<re.Match object; span=(29, 32), match='the'>\n",
      "<re.Match object; span=(33, 41), match='question'>\n"
     ]
    }
   ],
   "source": [
    "for match in re.compile(r'\\w+').finditer(text):\n",
    "    print(match)"
   ]
  },
  {
   "cell_type": "code",
   "execution_count": 18,
   "id": "96328a36",
   "metadata": {},
   "outputs": [
    {
     "name": "stdout",
     "output_type": "stream",
     "text": [
      "To\n",
      "be\n",
      "or\n",
      "not\n",
      "to\n",
      "be\n",
      "that\n",
      "is\n",
      "the\n",
      "question\n"
     ]
    }
   ],
   "source": [
    "for match in re.compile(r'\\w+').finditer(text):\n",
    "    print(match.group())"
   ]
  },
  {
   "cell_type": "code",
   "execution_count": 19,
   "id": "ced1135c",
   "metadata": {},
   "outputs": [],
   "source": [
    "\"\"\"\n",
    "Sentence: iterate over words using a generator expression\n",
    "\"\"\"\n",
    "\n",
    "# tag::SENTENCE_GENEXP[]\n",
    "import re\n",
    "import reprlib\n",
    "\n",
    "RE_WORD = re.compile(r'\\w+')\n",
    "\n",
    "\n",
    "class Sentence:\n",
    "\n",
    "    def __init__(self, text):\n",
    "        self.text = text\n",
    "\n",
    "    def __repr__(self):\n",
    "        return f'Sentence({reprlib.repr(self.text)})'\n",
    "\n",
    "    def __iter__(self):\n",
    "        return (match.group() for match in RE_WORD.finditer(self.text))\n",
    "# end::SENTENCE_GENEXP[]\n"
   ]
  },
  {
   "cell_type": "code",
   "execution_count": 20,
   "id": "c8fc8d43",
   "metadata": {},
   "outputs": [
    {
     "data": {
      "text/plain": [
       "Sentence('To be, or no... the question')"
      ]
     },
     "execution_count": 20,
     "metadata": {},
     "output_type": "execute_result"
    }
   ],
   "source": [
    "text = 'To be, or not to be, that is the question'\n",
    "s = Sentence(text)\n",
    "s"
   ]
  },
  {
   "cell_type": "code",
   "execution_count": 21,
   "id": "bca16530",
   "metadata": {},
   "outputs": [
    {
     "name": "stdout",
     "output_type": "stream",
     "text": [
      "Sentence('To be, or no... the question')\n"
     ]
    }
   ],
   "source": [
    "print(s)"
   ]
  },
  {
   "cell_type": "code",
   "execution_count": 22,
   "id": "377761c2",
   "metadata": {},
   "outputs": [
    {
     "name": "stdout",
     "output_type": "stream",
     "text": [
      "To\n",
      "be\n",
      "or\n",
      "not\n",
      "to\n",
      "be\n",
      "that\n",
      "is\n",
      "the\n",
      "question\n"
     ]
    }
   ],
   "source": [
    "for t in s:\n",
    "    print(t)"
   ]
  },
  {
   "cell_type": "code",
   "execution_count": 23,
   "id": "97a25b7b",
   "metadata": {},
   "outputs": [
    {
     "data": {
      "text/plain": [
       "<generator object <genexpr> at 0x0000019C58A88820>"
      ]
     },
     "execution_count": 23,
     "metadata": {},
     "output_type": "execute_result"
    }
   ],
   "source": [
    "(match.group() for match in RE_WORD.finditer(text))"
   ]
  },
  {
   "cell_type": "code",
   "execution_count": 24,
   "id": "b0f599aa",
   "metadata": {},
   "outputs": [
    {
     "name": "stdout",
     "output_type": "stream",
     "text": [
      "To\n",
      "be\n",
      "or\n",
      "not\n",
      "to\n",
      "be\n",
      "that\n",
      "is\n",
      "the\n",
      "question\n"
     ]
    }
   ],
   "source": [
    "for t in (match.group() for match in RE_WORD.finditer(text)):\n",
    "    print(t)"
   ]
  },
  {
   "cell_type": "code",
   "execution_count": 25,
   "id": "390fb8a1",
   "metadata": {},
   "outputs": [],
   "source": [
    "\"\"\"\n",
    "Arithmetic progression class\n",
    "\n",
    "    >>> ap = ArithmeticProgression(1, .5, 3)\n",
    "    >>> list(ap)\n",
    "    [1.0, 1.5, 2.0, 2.5]\n",
    "\n",
    "\n",
    "\"\"\"\n",
    "\n",
    "\n",
    "class ArithmeticProgression:\n",
    "\n",
    "    def __init__(self, begin, step, end=None):\n",
    "        self.begin = begin\n",
    "        self.step = step\n",
    "        self.end = end  # None -> \"infinite\" series\n",
    "\n",
    "    def __iter__(self):\n",
    "        result_type = type(self.begin + self.step)\n",
    "        result = result_type(self.begin)\n",
    "        forever = self.end is None\n",
    "        while forever or result < self.end:\n",
    "            yield result\n",
    "            result += self.step\n"
   ]
  },
  {
   "cell_type": "code",
   "execution_count": 26,
   "id": "c8edbbd1",
   "metadata": {},
   "outputs": [
    {
     "data": {
      "text/plain": [
       "[1.0, 1.5, 2.0, 2.5]"
      ]
     },
     "execution_count": 26,
     "metadata": {},
     "output_type": "execute_result"
    }
   ],
   "source": [
    "ap = ArithmeticProgression(1, .5, 3)\n",
    "list(ap)"
   ]
  },
  {
   "cell_type": "code",
   "execution_count": 27,
   "id": "f10f367e",
   "metadata": {},
   "outputs": [
    {
     "data": {
      "text/plain": [
       "[0, 1, 2]"
      ]
     },
     "execution_count": 27,
     "metadata": {},
     "output_type": "execute_result"
    }
   ],
   "source": [
    "ap = ArithmeticProgression(0, 1, 3)\n",
    "list(ap)"
   ]
  },
  {
   "cell_type": "code",
   "execution_count": 28,
   "id": "40746627",
   "metadata": {},
   "outputs": [
    {
     "data": {
      "text/plain": [
       "[1.0, 1.5, 2.0, 2.5]"
      ]
     },
     "execution_count": 28,
     "metadata": {},
     "output_type": "execute_result"
    }
   ],
   "source": [
    "ap = ArithmeticProgression(1, .5, 3)\n",
    "list(ap)"
   ]
  },
  {
   "cell_type": "code",
   "execution_count": 29,
   "id": "3897ce7f",
   "metadata": {},
   "outputs": [
    {
     "data": {
      "text/plain": [
       "[0.0, 0.3333333333333333, 0.6666666666666666]"
      ]
     },
     "execution_count": 29,
     "metadata": {},
     "output_type": "execute_result"
    }
   ],
   "source": [
    "ap = ArithmeticProgression(0, 1/3, 1)\n",
    "list(ap)"
   ]
  },
  {
   "cell_type": "code",
   "execution_count": 30,
   "id": "296718dd",
   "metadata": {},
   "outputs": [
    {
     "data": {
      "text/plain": [
       "[Fraction(0, 1), Fraction(1, 3), Fraction(2, 3)]"
      ]
     },
     "execution_count": 30,
     "metadata": {},
     "output_type": "execute_result"
    }
   ],
   "source": [
    "from fractions import Fraction\n",
    "ap = ArithmeticProgression(0, Fraction(1, 3), 1)\n",
    "list(ap)"
   ]
  },
  {
   "cell_type": "code",
   "execution_count": 31,
   "id": "1908cc94",
   "metadata": {},
   "outputs": [
    {
     "data": {
      "text/plain": [
       "[Decimal('0'), Decimal('0.1'), Decimal('0.2')]"
      ]
     },
     "execution_count": 31,
     "metadata": {},
     "output_type": "execute_result"
    }
   ],
   "source": [
    "from decimal import Decimal\n",
    "ap = ArithmeticProgression(0, Decimal('.1'), .3)\n",
    "list(ap)"
   ]
  },
  {
   "cell_type": "code",
   "execution_count": 32,
   "id": "cb681841",
   "metadata": {},
   "outputs": [],
   "source": [
    "\"\"\"\n",
    "Arithmetic progression class\n",
    "\n",
    "# tag::ARITPROG_CLASS_DEMO[]\n",
    "\n",
    "    >>> ap = ArithmeticProgression(0, 1, 3)\n",
    "    >>> list(ap)\n",
    "    [0, 1, 2]\n",
    "    >>> ap = ArithmeticProgression(1, .5, 3)\n",
    "    >>> list(ap)\n",
    "    [1.0, 1.5, 2.0, 2.5]\n",
    "    >>> ap = ArithmeticProgression(0, 1/3, 1)\n",
    "    >>> list(ap)\n",
    "    [0.0, 0.3333333333333333, 0.6666666666666666]\n",
    "    >>> from fractions import Fraction\n",
    "    >>> ap = ArithmeticProgression(0, Fraction(1, 3), 1)\n",
    "    >>> list(ap)\n",
    "    [Fraction(0, 1), Fraction(1, 3), Fraction(2, 3)]\n",
    "    >>> from decimal import Decimal\n",
    "    >>> ap = ArithmeticProgression(0, Decimal('.1'), .3)\n",
    "    >>> list(ap)\n",
    "    [Decimal('0'), Decimal('0.1'), Decimal('0.2')]\n",
    "\n",
    "# end::ARITPROG_CLASS_DEMO[]\n",
    "\"\"\"\n",
    "\n",
    "\n",
    "# tag::ARITPROG_CLASS[]\n",
    "class ArithmeticProgression:\n",
    "\n",
    "    def __init__(self, begin, step, end=None):       # <1>\n",
    "        self.begin = begin\n",
    "        self.step = step\n",
    "        self.end = end  # None -> \"infinite\" series\n",
    "\n",
    "    def __iter__(self):\n",
    "        result_type = type(self.begin + self.step)   # <2>\n",
    "        result = result_type(self.begin)             # <3>\n",
    "        forever = self.end is None                   # <4>\n",
    "        index = 0\n",
    "        while forever or result < self.end:          # <5>\n",
    "            yield result                             # <6>\n",
    "            index += 1\n",
    "            result = self.begin + self.step * index  # <7>\n",
    "# end::ARITPROG_CLASS[]\n"
   ]
  },
  {
   "cell_type": "code",
   "execution_count": 33,
   "id": "c7b00dde",
   "metadata": {},
   "outputs": [
    {
     "data": {
      "text/plain": [
       "[1.0, 1.5, 2.0, 2.5]"
      ]
     },
     "execution_count": 33,
     "metadata": {},
     "output_type": "execute_result"
    }
   ],
   "source": [
    "ap = ArithmeticProgression(1, .5, 3)\n",
    "list(ap)"
   ]
  },
  {
   "cell_type": "code",
   "execution_count": 34,
   "id": "61440d17",
   "metadata": {},
   "outputs": [
    {
     "data": {
      "text/plain": [
       "[0, 1, 2]"
      ]
     },
     "execution_count": 34,
     "metadata": {},
     "output_type": "execute_result"
    }
   ],
   "source": [
    "ap = ArithmeticProgression(0, 1, 3)\n",
    "list(ap)"
   ]
  },
  {
   "cell_type": "code",
   "execution_count": 35,
   "id": "9975830e",
   "metadata": {},
   "outputs": [
    {
     "data": {
      "text/plain": [
       "[1.0, 1.5, 2.0, 2.5]"
      ]
     },
     "execution_count": 35,
     "metadata": {},
     "output_type": "execute_result"
    }
   ],
   "source": [
    "ap = ArithmeticProgression(1, .5, 3)\n",
    "list(ap)"
   ]
  },
  {
   "cell_type": "code",
   "execution_count": 36,
   "id": "718e2024",
   "metadata": {},
   "outputs": [
    {
     "data": {
      "text/plain": [
       "[0.0, 0.3333333333333333, 0.6666666666666666]"
      ]
     },
     "execution_count": 36,
     "metadata": {},
     "output_type": "execute_result"
    }
   ],
   "source": [
    "ap = ArithmeticProgression(0, 1/3, 1)\n",
    "list(ap)"
   ]
  },
  {
   "cell_type": "code",
   "execution_count": 37,
   "id": "a5547da1",
   "metadata": {},
   "outputs": [
    {
     "data": {
      "text/plain": [
       "[Fraction(0, 1), Fraction(1, 3), Fraction(2, 3)]"
      ]
     },
     "execution_count": 37,
     "metadata": {},
     "output_type": "execute_result"
    }
   ],
   "source": [
    "from fractions import Fraction\n",
    "ap = ArithmeticProgression(0, Fraction(1, 3), 1)\n",
    "list(ap)"
   ]
  },
  {
   "cell_type": "code",
   "execution_count": 38,
   "id": "a62d4bb9",
   "metadata": {},
   "outputs": [
    {
     "data": {
      "text/plain": [
       "[Decimal('0'), Decimal('0.1'), Decimal('0.2')]"
      ]
     },
     "execution_count": 38,
     "metadata": {},
     "output_type": "execute_result"
    }
   ],
   "source": [
    "from decimal import Decimal\n",
    "ap = ArithmeticProgression(0, Decimal('.1'), .3)\n",
    "list(ap)"
   ]
  },
  {
   "cell_type": "code",
   "execution_count": 39,
   "id": "0c8d54b2",
   "metadata": {},
   "outputs": [],
   "source": [
    "\"\"\"\n",
    "Arithmetic progression generator function::\n",
    "\n",
    "    >>> ap = aritprog_gen(1, .5, 3)\n",
    "    >>> list(ap)\n",
    "    [1.0, 1.5, 2.0, 2.5]\n",
    "    >>> ap = aritprog_gen(0, 1/3, 1)\n",
    "    >>> list(ap)\n",
    "    [0.0, 0.3333333333333333, 0.6666666666666666]\n",
    "    >>> from fractions import Fraction\n",
    "    >>> ap = aritprog_gen(0, Fraction(1, 3), 1)\n",
    "    >>> list(ap)\n",
    "    [Fraction(0, 1), Fraction(1, 3), Fraction(2, 3)]\n",
    "    >>> from decimal import Decimal\n",
    "    >>> ap = aritprog_gen(0, Decimal('.1'), .3)\n",
    "    >>> list(ap)\n",
    "    [Decimal('0'), Decimal('0.1'), Decimal('0.2')]\n",
    "\n",
    "\"\"\"\n",
    "\n",
    "\n",
    "# tag::ARITPROG_GENFUNC[]\n",
    "def aritprog_gen(begin, step, end=None):\n",
    "    result = type(begin + step)(begin)\n",
    "    forever = end is None\n",
    "    index = 0\n",
    "    while forever or result < end:\n",
    "        yield result\n",
    "        index += 1\n",
    "        result = begin + step * index\n",
    "# end::ARITPROG_GENFUNC[]\n"
   ]
  },
  {
   "cell_type": "code",
   "execution_count": 40,
   "id": "5e0be96e",
   "metadata": {},
   "outputs": [
    {
     "data": {
      "text/plain": [
       "[1.0, 1.5, 2.0, 2.5]"
      ]
     },
     "execution_count": 40,
     "metadata": {},
     "output_type": "execute_result"
    }
   ],
   "source": [
    "ap = aritprog_gen(1, .5, 3)\n",
    "list(ap)"
   ]
  },
  {
   "cell_type": "code",
   "execution_count": 41,
   "id": "23233836",
   "metadata": {},
   "outputs": [
    {
     "data": {
      "text/plain": [
       "[0.0, 0.3333333333333333, 0.6666666666666666]"
      ]
     },
     "execution_count": 41,
     "metadata": {},
     "output_type": "execute_result"
    }
   ],
   "source": [
    "ap = aritprog_gen(0, 1/3, 1)\n",
    "list(ap)"
   ]
  },
  {
   "cell_type": "code",
   "execution_count": 42,
   "id": "1c30145d",
   "metadata": {},
   "outputs": [
    {
     "data": {
      "text/plain": [
       "[Fraction(0, 1), Fraction(1, 3), Fraction(2, 3)]"
      ]
     },
     "execution_count": 42,
     "metadata": {},
     "output_type": "execute_result"
    }
   ],
   "source": [
    "from fractions import Fraction\n",
    "ap = aritprog_gen(0, Fraction(1, 3), 1)\n",
    "list(ap)"
   ]
  },
  {
   "cell_type": "code",
   "execution_count": 43,
   "id": "7a6fb39f",
   "metadata": {},
   "outputs": [
    {
     "data": {
      "text/plain": [
       "[Decimal('0'), Decimal('0.1'), Decimal('0.2')]"
      ]
     },
     "execution_count": 43,
     "metadata": {},
     "output_type": "execute_result"
    }
   ],
   "source": [
    "from decimal import Decimal\n",
    "ap = aritprog_gen(0, Decimal('.1'), .3)\n",
    "list(ap)"
   ]
  },
  {
   "cell_type": "code",
   "execution_count": 44,
   "id": "8f765e8a",
   "metadata": {},
   "outputs": [
    {
     "data": {
      "text/plain": [
       "1"
      ]
     },
     "execution_count": 44,
     "metadata": {},
     "output_type": "execute_result"
    }
   ],
   "source": [
    "import itertools\n",
    "gen = itertools.count(1, .5)\n",
    "next(gen)"
   ]
  },
  {
   "cell_type": "code",
   "execution_count": 45,
   "id": "1fe4cfba",
   "metadata": {},
   "outputs": [
    {
     "data": {
      "text/plain": [
       "count(1, 0.5)"
      ]
     },
     "execution_count": 45,
     "metadata": {},
     "output_type": "execute_result"
    }
   ],
   "source": [
    "itertools.count(1, .5)"
   ]
  },
  {
   "cell_type": "code",
   "execution_count": 46,
   "id": "18d23dc9",
   "metadata": {},
   "outputs": [
    {
     "data": {
      "text/plain": [
       "1.5"
      ]
     },
     "execution_count": 46,
     "metadata": {},
     "output_type": "execute_result"
    }
   ],
   "source": [
    "next(gen)"
   ]
  },
  {
   "cell_type": "code",
   "execution_count": 47,
   "id": "a507af1b",
   "metadata": {},
   "outputs": [
    {
     "data": {
      "text/plain": [
       "[1, 1.5, 2.0, 2.5]"
      ]
     },
     "execution_count": 47,
     "metadata": {},
     "output_type": "execute_result"
    }
   ],
   "source": [
    "gen = itertools.takewhile(lambda n: n < 3, itertools.count(1, .5))\n",
    "list(gen)"
   ]
  },
  {
   "cell_type": "code",
   "execution_count": 48,
   "id": "a83bb3fe",
   "metadata": {},
   "outputs": [],
   "source": [
    "# tag::ARITPROG_ITERTOOLS[]\n",
    "import itertools\n",
    "\n",
    "\n",
    "def aritprog_gen(begin, step, end=None):\n",
    "    first = type(begin + step)(begin)\n",
    "    ap_gen = itertools.count(first, step)\n",
    "    if end is None:\n",
    "        return ap_gen\n",
    "    return itertools.takewhile(lambda n: n < end, ap_gen)\n",
    "# end::ARITPROG_ITERTOOLS[]\n"
   ]
  },
  {
   "cell_type": "code",
   "execution_count": 49,
   "id": "02728cc4",
   "metadata": {},
   "outputs": [],
   "source": [
    "def vowel(c):\n",
    "    return c.lower() in 'aeiou'"
   ]
  },
  {
   "cell_type": "code",
   "execution_count": 50,
   "id": "7fa36e35",
   "metadata": {},
   "outputs": [
    {
     "data": {
      "text/plain": [
       "['A', 'a', 'a']"
      ]
     },
     "execution_count": 50,
     "metadata": {},
     "output_type": "execute_result"
    }
   ],
   "source": [
    "list(filter(vowel, 'Aardvark'))"
   ]
  },
  {
   "cell_type": "code",
   "execution_count": 51,
   "id": "8aba265c",
   "metadata": {},
   "outputs": [
    {
     "data": {
      "text/plain": [
       "['r', 'd', 'v', 'r', 'k']"
      ]
     },
     "execution_count": 51,
     "metadata": {},
     "output_type": "execute_result"
    }
   ],
   "source": [
    "import itertools\n",
    "list(itertools.filterfalse(vowel, 'Aardvark'))"
   ]
  },
  {
   "cell_type": "markdown",
   "id": "588bd53d",
   "metadata": {},
   "source": [
    "The `drop-while` would stop dropping when reaching \"r\" which is not a vowel, and take the rest, and the `take-while` would stop taking when reaching \"r\" which is not a vowel, and drop the rest."
   ]
  },
  {
   "cell_type": "code",
   "execution_count": 52,
   "id": "df75a564",
   "metadata": {},
   "outputs": [
    {
     "data": {
      "text/plain": [
       "['r', 'd', 'v', 'a', 'r', 'k']"
      ]
     },
     "execution_count": 52,
     "metadata": {},
     "output_type": "execute_result"
    }
   ],
   "source": [
    "list(itertools.dropwhile(vowel, 'Aardvark'))"
   ]
  },
  {
   "cell_type": "code",
   "execution_count": 53,
   "id": "de33fcc2",
   "metadata": {},
   "outputs": [
    {
     "data": {
      "text/plain": [
       "['A', 'a']"
      ]
     },
     "execution_count": 53,
     "metadata": {},
     "output_type": "execute_result"
    }
   ],
   "source": [
    "list(itertools.takewhile(vowel, 'Aardvark'))"
   ]
  },
  {
   "cell_type": "code",
   "execution_count": 54,
   "id": "44b71aa4",
   "metadata": {},
   "outputs": [
    {
     "data": {
      "text/plain": [
       "['A', 'r', 'd', 'a']"
      ]
     },
     "execution_count": 54,
     "metadata": {},
     "output_type": "execute_result"
    }
   ],
   "source": [
    "list(itertools.compress('Aardvark', (1, 0, 1, 1, 0, 1)))"
   ]
  },
  {
   "cell_type": "code",
   "execution_count": 55,
   "id": "2a47bb8f",
   "metadata": {},
   "outputs": [
    {
     "data": {
      "text/plain": [
       "['A', 'a', 'r', 'd']"
      ]
     },
     "execution_count": 55,
     "metadata": {},
     "output_type": "execute_result"
    }
   ],
   "source": [
    "list(itertools.islice('Aardvark', 4))"
   ]
  },
  {
   "cell_type": "code",
   "execution_count": 56,
   "id": "fb487cb8",
   "metadata": {},
   "outputs": [
    {
     "data": {
      "text/plain": [
       "['v', 'a', 'r']"
      ]
     },
     "execution_count": 56,
     "metadata": {},
     "output_type": "execute_result"
    }
   ],
   "source": [
    "list(itertools.islice('Aardvark', 4, 7))"
   ]
  },
  {
   "cell_type": "code",
   "execution_count": 57,
   "id": "016b1a8d",
   "metadata": {},
   "outputs": [
    {
     "data": {
      "text/plain": [
       "[5, 9, 11, 19, 26, 32, 35, 35, 44, 45]"
      ]
     },
     "execution_count": 57,
     "metadata": {},
     "output_type": "execute_result"
    }
   ],
   "source": [
    "sample = [5, 4, 2, 8, 7, 6, 3, 0, 9, 1]\n",
    "import itertools\n",
    "list(itertools.accumulate(sample))"
   ]
  },
  {
   "cell_type": "code",
   "execution_count": 58,
   "id": "92e1f03c",
   "metadata": {},
   "outputs": [
    {
     "data": {
      "text/plain": [
       "[5, 4, 2, 2, 2, 2, 2, 0, 0, 0]"
      ]
     },
     "execution_count": 58,
     "metadata": {},
     "output_type": "execute_result"
    }
   ],
   "source": [
    "list(itertools.accumulate(sample, min))"
   ]
  },
  {
   "cell_type": "code",
   "execution_count": 59,
   "id": "c7e43889",
   "metadata": {},
   "outputs": [
    {
     "data": {
      "text/plain": [
       "[5, 5, 5, 8, 8, 8, 8, 8, 9, 9]"
      ]
     },
     "execution_count": 59,
     "metadata": {},
     "output_type": "execute_result"
    }
   ],
   "source": [
    "list(itertools.accumulate(sample, max))"
   ]
  },
  {
   "cell_type": "code",
   "execution_count": 60,
   "id": "a83f5bbf",
   "metadata": {},
   "outputs": [
    {
     "data": {
      "text/plain": [
       "[5, 20, 40, 320, 2240, 13440, 40320, 0, 0, 0]"
      ]
     },
     "execution_count": 60,
     "metadata": {},
     "output_type": "execute_result"
    }
   ],
   "source": [
    "import operator\n",
    "list(itertools.accumulate(sample, operator.mul))"
   ]
  },
  {
   "cell_type": "code",
   "execution_count": 61,
   "id": "b3375dee",
   "metadata": {},
   "outputs": [
    {
     "data": {
      "text/plain": [
       "[1, 2, 6, 24, 120, 720, 5040, 40320, 362880, 3628800]"
      ]
     },
     "execution_count": 61,
     "metadata": {},
     "output_type": "execute_result"
    }
   ],
   "source": [
    "list(itertools.accumulate(range(1, 11), operator.mul))"
   ]
  },
  {
   "cell_type": "code",
   "execution_count": 62,
   "id": "42f5deaa",
   "metadata": {},
   "outputs": [
    {
     "name": "stdout",
     "output_type": "stream",
     "text": [
      "BaseException\n"
     ]
    }
   ],
   "source": [
    "def tree(cls):\n",
    "    yield cls.__name__\n",
    "\n",
    "\n",
    "if __name__ == '__main__':\n",
    "    for cls_name in tree(BaseException):\n",
    "        print(cls_name)\n"
   ]
  },
  {
   "cell_type": "code",
   "execution_count": 63,
   "id": "8f52cae2",
   "metadata": {},
   "outputs": [
    {
     "data": {
      "text/plain": [
       "'BaseException'"
      ]
     },
     "execution_count": 63,
     "metadata": {},
     "output_type": "execute_result"
    }
   ],
   "source": [
    "BaseException.__name__"
   ]
  },
  {
   "cell_type": "code",
   "execution_count": 64,
   "id": "e94e2fc2",
   "metadata": {},
   "outputs": [
    {
     "data": {
      "text/plain": [
       "[Exception,\n",
       " GeneratorExit,\n",
       " SystemExit,\n",
       " KeyboardInterrupt,\n",
       " asyncio.exceptions.CancelledError,\n",
       " _pydev_imps._pydev_saved_modules.DebuggerInitializationError,\n",
       " pkg_resources._vendor.more_itertools.more.AbortThread,\n",
       " setuptools._vendor.more_itertools.more.AbortThread]"
      ]
     },
     "execution_count": 64,
     "metadata": {},
     "output_type": "execute_result"
    }
   ],
   "source": [
    "BaseException.__subclasses__()"
   ]
  },
  {
   "cell_type": "code",
   "execution_count": 65,
   "id": "421e9842",
   "metadata": {},
   "outputs": [
    {
     "data": {
      "text/plain": [
       "[TypeError,\n",
       " StopAsyncIteration,\n",
       " StopIteration,\n",
       " ImportError,\n",
       " OSError,\n",
       " EOFError,\n",
       " RuntimeError,\n",
       " NameError,\n",
       " AttributeError,\n",
       " SyntaxError,\n",
       " LookupError,\n",
       " ValueError,\n",
       " AssertionError,\n",
       " ArithmeticError,\n",
       " SystemError,\n",
       " ReferenceError,\n",
       " MemoryError,\n",
       " BufferError,\n",
       " Warning,\n",
       " locale.Error,\n",
       " warnings._OptionError,\n",
       " runpy._Error,\n",
       " re.error,\n",
       " sre_parse.Verbose,\n",
       " subprocess.SubprocessError,\n",
       " tokenize.TokenError,\n",
       " tokenize.StopTokenizing,\n",
       " inspect.EndOfBlock,\n",
       " traitlets.traitlets.TraitError,\n",
       " copy.Error,\n",
       " concurrent.futures._base.Error,\n",
       " socket._GiveupOnSendfile,\n",
       " struct.error,\n",
       " binascii.Incomplete,\n",
       " asyncio.exceptions.TimeoutError,\n",
       " asyncio.exceptions.InvalidStateError,\n",
       " asyncio.exceptions.LimitOverrunError,\n",
       " asyncio.queues.QueueEmpty,\n",
       " asyncio.queues.QueueFull,\n",
       " zlib.error,\n",
       " _lzma.LZMAError,\n",
       " shutil.RegistryError,\n",
       " shutil._GiveupOnFastCopy,\n",
       " _queue.Empty,\n",
       " queue.Full,\n",
       " zmq.error.ZMQBaseError,\n",
       " _pickle.PickleError,\n",
       " pickle._Stop,\n",
       " argparse.ArgumentError,\n",
       " argparse.ArgumentTypeError,\n",
       " traitlets.config.loader.ConfigError,\n",
       " traitlets.config.configurable.ConfigurableError,\n",
       " traitlets.config.application.ApplicationError,\n",
       " _ctypes.COMError,\n",
       " ctypes.ArgumentError,\n",
       " tornado.concurrent.ReturnValueIgnoredError,\n",
       " tornado.gen.KeyReuseError,\n",
       " tornado.gen.UnknownKeyError,\n",
       " tornado.gen.LeakedCallbackError,\n",
       " tornado.gen.BadYieldError,\n",
       " tornado.gen.ReturnValueIgnoredError,\n",
       " tornado.gen.Return,\n",
       " jupyter_client.channels.InvalidPortNumber,\n",
       " jupyter_client.localinterfaces.NoIPAddresses,\n",
       " zipfile.BadZipFile,\n",
       " zipfile.LargeZipFile,\n",
       " configparser.Error,\n",
       " entrypoints.BadEntryPoint,\n",
       " entrypoints.NoSuchEntryPoint,\n",
       " jupyter_client.multikernelmanager.DuplicateKernelError,\n",
       " pydoc.ErrorDuringImport,\n",
       " executing.executing.NotOneValueFound,\n",
       " pure_eval.utils.CannotEval,\n",
       " pygments.util.OptionError,\n",
       " bdb.BdbQuit,\n",
       " pdb.Restart,\n",
       " IPython.utils.process.FindCmdError,\n",
       " IPython.utils.path.HomeDirError,\n",
       " IPython.core.profiledir.ProfileDirError,\n",
       " IPython.core.error.IPythonCoreError,\n",
       " IPython.core.error.InputRejected,\n",
       " getopt.GetoptError,\n",
       " pygments.filters.ErrorToken,\n",
       " IPython.core.prefilter.PrefilterError,\n",
       " IPython.core.alias.AliasError,\n",
       " sqlite3.Error,\n",
       " sqlite3.Warning,\n",
       " IPython.core.interactiveshell.SpaceInInput,\n",
       " xml.dom.DOMException,\n",
       " prompt_toolkit.validation.ValidationError,\n",
       " prompt_toolkit.buffer.EditReadOnlyBuffer,\n",
       " prompt_toolkit.buffer._Retry,\n",
       " prompt_toolkit.layout.layout.InvalidLayoutError,\n",
       " prompt_toolkit.renderer.HeightIsUnknownError,\n",
       " parso.parser.ParserSyntaxError,\n",
       " parso.parser.InternalParseError,\n",
       " parso.python.diff._PositionUpdatingFinished,\n",
       " jedi.inference.helpers.SimpleGetItemNotFound,\n",
       " jedi.inference.utils.UncaughtAttributeError,\n",
       " jedi.inference.base_value.HasNoContext,\n",
       " jedi.inference.arguments.ParamIssue,\n",
       " jedi.api.exceptions._JediError,\n",
       " jedi.api.helpers.OnErrorLeaf,\n",
       " jedi.api.environment.InvalidPythonEnvironment,\n",
       " email.errors.MessageError,\n",
       " uu.Error,\n",
       " http.client.HTTPException,\n",
       " IPython.core.magics.code.InteractivelyDefined,\n",
       " IPython.terminal.embed.KillEmbedded,\n",
       " psutil.Error,\n",
       " _psutil_windows.Error,\n",
       " _psutil_windows.TimeoutExpired,\n",
       " _psutil_windows.TimeoutAbandoned,\n",
       " tornado.queues.QueueEmpty,\n",
       " tornado.queues.QueueFull,\n",
       " xml.parsers.expat.ExpatError,\n",
       " xmlrpc.client.Error,\n",
       " pywintypes.error,\n",
       " pywintypes.com_error,\n",
       " pythoncom.internal_error,\n",
       " pkg_resources._vendor.pyparsing.exceptions.ParseBaseException,\n",
       " pkg_resources._vendor.pyparsing.exceptions.RecursiveGrammarException,\n",
       " pkg_resources.ResolutionError,\n",
       " _pydevd_bundle.pydevd_resolver.UnableToResolveVariableException,\n",
       " _pydev_bundle.pydev_monkey.InvalidTypeInArgsException,\n",
       " distutils.errors.DistutilsError,\n",
       " distutils.errors.CCompilerError,\n",
       " _csv.Error,\n",
       " unittest.case.SkipTest,\n",
       " unittest.case._ShouldStop,\n",
       " unittest.case._UnexpectedSuccess]"
      ]
     },
     "execution_count": 65,
     "metadata": {},
     "output_type": "execute_result"
    }
   ],
   "source": [
    "Exception.__subclasses__()"
   ]
  },
  {
   "cell_type": "code",
   "execution_count": 66,
   "id": "5183f69b",
   "metadata": {},
   "outputs": [
    {
     "name": "stdout",
     "output_type": "stream",
     "text": [
      "BaseException\n",
      "    Exception\n",
      "    GeneratorExit\n",
      "    SystemExit\n",
      "    KeyboardInterrupt\n",
      "    CancelledError\n",
      "    DebuggerInitializationError\n",
      "    AbortThread\n",
      "    AbortThread\n"
     ]
    }
   ],
   "source": [
    "def tree(cls):\n",
    "    yield cls.__name__, 0\n",
    "    for sub_cls in cls.__subclasses__():\n",
    "        yield sub_cls.__name__, 1\n",
    "\n",
    "\n",
    "if __name__ == '__main__':\n",
    "    for cls_name, level in tree(BaseException):\n",
    "        indent = ' ' * 4 * level\n",
    "        print(f'{indent}{cls_name}')\n"
   ]
  },
  {
   "cell_type": "code",
   "execution_count": 67,
   "id": "f3e297ad",
   "metadata": {},
   "outputs": [
    {
     "name": "stdout",
     "output_type": "stream",
     "text": [
      "BaseException\n",
      "    Exception\n",
      "        TypeError\n",
      "        StopAsyncIteration\n",
      "        StopIteration\n",
      "        ImportError\n",
      "        OSError\n",
      "        EOFError\n",
      "        RuntimeError\n",
      "        NameError\n",
      "        AttributeError\n",
      "        SyntaxError\n",
      "        LookupError\n",
      "        ValueError\n",
      "        AssertionError\n",
      "        ArithmeticError\n",
      "        SystemError\n",
      "        ReferenceError\n",
      "        MemoryError\n",
      "        BufferError\n",
      "        Warning\n",
      "        Error\n",
      "        _OptionError\n",
      "        _Error\n",
      "        error\n",
      "        Verbose\n",
      "        SubprocessError\n",
      "        TokenError\n",
      "        StopTokenizing\n",
      "        EndOfBlock\n",
      "        TraitError\n",
      "        Error\n",
      "        Error\n",
      "        _GiveupOnSendfile\n",
      "        error\n",
      "        Incomplete\n",
      "        TimeoutError\n",
      "        InvalidStateError\n",
      "        LimitOverrunError\n",
      "        QueueEmpty\n",
      "        QueueFull\n",
      "        error\n",
      "        LZMAError\n",
      "        RegistryError\n",
      "        _GiveupOnFastCopy\n",
      "        Empty\n",
      "        Full\n",
      "        ZMQBaseError\n",
      "        PickleError\n",
      "        _Stop\n",
      "        ArgumentError\n",
      "        ArgumentTypeError\n",
      "        ConfigError\n",
      "        ConfigurableError\n",
      "        ApplicationError\n",
      "        COMError\n",
      "        ArgumentError\n",
      "        ReturnValueIgnoredError\n",
      "        KeyReuseError\n",
      "        UnknownKeyError\n",
      "        LeakedCallbackError\n",
      "        BadYieldError\n",
      "        ReturnValueIgnoredError\n",
      "        Return\n",
      "        InvalidPortNumber\n",
      "        NoIPAddresses\n",
      "        BadZipFile\n",
      "        LargeZipFile\n",
      "        Error\n",
      "        BadEntryPoint\n",
      "        NoSuchEntryPoint\n",
      "        DuplicateKernelError\n",
      "        ErrorDuringImport\n",
      "        NotOneValueFound\n",
      "        CannotEval\n",
      "        OptionError\n",
      "        BdbQuit\n",
      "        Restart\n",
      "        FindCmdError\n",
      "        HomeDirError\n",
      "        ProfileDirError\n",
      "        IPythonCoreError\n",
      "        InputRejected\n",
      "        GetoptError\n",
      "        ErrorToken\n",
      "        PrefilterError\n",
      "        AliasError\n",
      "        Error\n",
      "        Warning\n",
      "        SpaceInInput\n",
      "        DOMException\n",
      "        ValidationError\n",
      "        EditReadOnlyBuffer\n",
      "        _Retry\n",
      "        InvalidLayoutError\n",
      "        HeightIsUnknownError\n",
      "        ParserSyntaxError\n",
      "        InternalParseError\n",
      "        _PositionUpdatingFinished\n",
      "        SimpleGetItemNotFound\n",
      "        UncaughtAttributeError\n",
      "        HasNoContext\n",
      "        ParamIssue\n",
      "        _JediError\n",
      "        OnErrorLeaf\n",
      "        InvalidPythonEnvironment\n",
      "        MessageError\n",
      "        Error\n",
      "        HTTPException\n",
      "        InteractivelyDefined\n",
      "        KillEmbedded\n",
      "        Error\n",
      "        Error\n",
      "        TimeoutExpired\n",
      "        TimeoutAbandoned\n",
      "        QueueEmpty\n",
      "        QueueFull\n",
      "        ExpatError\n",
      "        Error\n",
      "        error\n",
      "        com_error\n",
      "        internal_error\n",
      "        ParseBaseException\n",
      "        RecursiveGrammarException\n",
      "        ResolutionError\n",
      "        UnableToResolveVariableException\n",
      "        InvalidTypeInArgsException\n",
      "        DistutilsError\n",
      "        CCompilerError\n",
      "        Error\n",
      "        SkipTest\n",
      "        _ShouldStop\n",
      "        _UnexpectedSuccess\n",
      "    GeneratorExit\n",
      "    SystemExit\n",
      "    KeyboardInterrupt\n",
      "    CancelledError\n",
      "    DebuggerInitializationError\n",
      "    AbortThread\n",
      "    AbortThread\n"
     ]
    }
   ],
   "source": [
    "def tree(cls):\n",
    "    yield cls.__name__, 0\n",
    "    for sub_cls in cls.__subclasses__():\n",
    "        yield sub_cls.__name__, 1\n",
    "        for sub_sub_cls in sub_cls.__subclasses__():\n",
    "            yield sub_sub_cls.__name__, 2\n",
    "\n",
    "\n",
    "if __name__ == '__main__':\n",
    "    for cls_name, level in tree(BaseException):\n",
    "        indent = ' ' * 4 * level\n",
    "        print(f'{indent}{cls_name}')\n"
   ]
  },
  {
   "cell_type": "code",
   "execution_count": 68,
   "id": "c1293d22",
   "metadata": {},
   "outputs": [
    {
     "data": {
      "text/plain": [
       "[]"
      ]
     },
     "execution_count": 68,
     "metadata": {},
     "output_type": "execute_result"
    }
   ],
   "source": [
    "GeneratorExit.__subclasses__()"
   ]
  },
  {
   "cell_type": "code",
   "execution_count": 69,
   "id": "1b37cf0b",
   "metadata": {},
   "outputs": [
    {
     "name": "stdout",
     "output_type": "stream",
     "text": [
      "BaseException\n",
      "    Exception\n",
      "        TypeError\n",
      "            FloatOperation\n",
      "            MultipartConversionError\n",
      "        StopAsyncIteration\n",
      "        StopIteration\n",
      "        ImportError\n",
      "            ModuleNotFoundError\n",
      "                PackageNotFoundError\n",
      "                PackageNotFoundError\n",
      "            ZipImportError\n",
      "        OSError\n",
      "            ConnectionError\n",
      "                BrokenPipeError\n",
      "                ConnectionAbortedError\n",
      "                ConnectionRefusedError\n",
      "                ConnectionResetError\n",
      "                    RemoteDisconnected\n",
      "            BlockingIOError\n",
      "            ChildProcessError\n",
      "            FileExistsError\n",
      "            FileNotFoundError\n",
      "            IsADirectoryError\n",
      "            NotADirectoryError\n",
      "            InterruptedError\n",
      "                InterruptedSystemCall\n",
      "            PermissionError\n",
      "            ProcessLookupError\n",
      "            TimeoutError\n",
      "            UnsupportedOperation\n",
      "            herror\n",
      "            gaierror\n",
      "            timeout\n",
      "            SSLError\n",
      "                SSLCertVerificationError\n",
      "                SSLZeroReturnError\n",
      "                SSLWantReadError\n",
      "                SSLWantWriteError\n",
      "                SSLSyscallError\n",
      "                SSLEOFError\n",
      "            Error\n",
      "                SameFileError\n",
      "            SpecialFileError\n",
      "            ExecError\n",
      "            ReadError\n",
      "            URLError\n",
      "                HTTPError\n",
      "                ContentTooShortError\n",
      "            BadGzipFile\n",
      "        EOFError\n",
      "            IncompleteReadError\n",
      "        RuntimeError\n",
      "            RecursionError\n",
      "            NotImplementedError\n",
      "                ZMQVersionError\n",
      "                StdinNotImplementedError\n",
      "            _DeadlockError\n",
      "            BrokenBarrierError\n",
      "            BrokenExecutor\n",
      "                BrokenThreadPool\n",
      "            SendfileNotAvailableError\n",
      "            ExtractionError\n",
      "            VariableError\n",
      "            RemovedCommandError\n",
      "            PackageDiscoveryError\n",
      "        NameError\n",
      "            UnboundLocalError\n",
      "        AttributeError\n",
      "        SyntaxError\n",
      "            IndentationError\n",
      "                TabError\n",
      "        LookupError\n",
      "            IndexError\n",
      "            KeyError\n",
      "                NoSuchKernel\n",
      "                UnknownBackend\n",
      "            CodecRegistryError\n",
      "        ValueError\n",
      "            UnicodeError\n",
      "                UnicodeEncodeError\n",
      "                UnicodeDecodeError\n",
      "                UnicodeTranslateError\n",
      "            UnsupportedOperation\n",
      "            JSONDecodeError\n",
      "            SSLCertVerificationError\n",
      "            Error\n",
      "            IllegalMonthError\n",
      "            IllegalWeekdayError\n",
      "            ParserError\n",
      "            ClassNotFound\n",
      "            ClipboardEmpty\n",
      "            MessageDefect\n",
      "                NoBoundaryInMultipartDefect\n",
      "                StartBoundaryNotFoundDefect\n",
      "                CloseBoundaryNotFoundDefect\n",
      "                FirstHeaderLineIsContinuationDefect\n",
      "                MisplacedEnvelopeHeaderDefect\n",
      "                MissingHeaderBodySeparatorDefect\n",
      "                MultipartInvariantViolationDefect\n",
      "                InvalidMultipartContentTransferEncodingDefect\n",
      "                UndecodableBytesDefect\n",
      "                InvalidBase64PaddingDefect\n",
      "                InvalidBase64CharactersDefect\n",
      "                InvalidBase64LengthDefect\n",
      "                HeaderDefect\n",
      "                    InvalidHeaderDefect\n",
      "                    HeaderMissingRequiredValue\n",
      "                    NonPrintableDefect\n",
      "                    ObsoleteHeaderDefect\n",
      "                    NonASCIILocalPartDefect\n",
      "            MacroToEdit\n",
      "            InvalidFileException\n",
      "            UnequalIterablesError\n",
      "            InvalidVersion\n",
      "            _InvalidELFFileHeader\n",
      "            InvalidWheelFilename\n",
      "            InvalidSdistFilename\n",
      "            InvalidSpecifier\n",
      "            InvalidMarker\n",
      "            UndefinedComparison\n",
      "            UndefinedEnvironmentName\n",
      "            InvalidRequirement\n",
      "                RequirementParseError\n",
      "            UnequalIterablesError\n",
      "            InvalidVersion\n",
      "            _InvalidELFFileHeader\n",
      "            InvalidWheelFilename\n",
      "            InvalidSdistFilename\n",
      "            InvalidSpecifier\n",
      "            InvalidVersion\n",
      "        AssertionError\n",
      "        ArithmeticError\n",
      "            FloatingPointError\n",
      "            OverflowError\n",
      "            ZeroDivisionError\n",
      "                DivisionByZero\n",
      "                DivisionUndefined\n",
      "            DecimalException\n",
      "                Clamped\n",
      "                Rounded\n",
      "                    Underflow\n",
      "                    Overflow\n",
      "                Inexact\n",
      "                    Underflow\n",
      "                    Overflow\n",
      "                Subnormal\n",
      "                    Underflow\n",
      "                DivisionByZero\n",
      "                FloatOperation\n",
      "                InvalidOperation\n",
      "                    ConversionSyntax\n",
      "                    DivisionImpossible\n",
      "                    DivisionUndefined\n",
      "                    InvalidContext\n",
      "        SystemError\n",
      "            CodecRegistryError\n",
      "        ReferenceError\n",
      "        MemoryError\n",
      "        BufferError\n",
      "        Warning\n",
      "            UserWarning\n",
      "                GetPassWarning\n",
      "                FormatterWarning\n",
      "                _WouldIgnoreField\n",
      "                _BetaConfiguration\n",
      "                _InvalidFile\n",
      "            DeprecationWarning\n",
      "                ProvisionalWarning\n",
      "            PendingDeprecationWarning\n",
      "            SyntaxWarning\n",
      "            RuntimeWarning\n",
      "                ProactorSelectorThreadWarning\n",
      "                UnknownTimezoneWarning\n",
      "                PEP440Warning\n",
      "            FutureWarning\n",
      "                ProvisionalCompleterWarning\n",
      "            ImportWarning\n",
      "            UnicodeWarning\n",
      "            BytesWarning\n",
      "            ResourceWarning\n",
      "            DeprecatedTzFormatWarning\n",
      "            PkgResourcesDeprecationWarning\n",
      "            SetuptoolsDeprecationWarning\n",
      "                DistDeprecationWarning\n",
      "        Error\n",
      "        _OptionError\n",
      "        _Error\n",
      "        error\n",
      "        Verbose\n",
      "        SubprocessError\n",
      "            CalledProcessError\n",
      "            TimeoutExpired\n",
      "        TokenError\n",
      "        StopTokenizing\n",
      "        EndOfBlock\n",
      "        TraitError\n",
      "        Error\n",
      "        Error\n",
      "            CancelledError\n",
      "            TimeoutError\n",
      "            InvalidStateError\n",
      "        _GiveupOnSendfile\n",
      "        error\n",
      "        Incomplete\n",
      "        TimeoutError\n",
      "        InvalidStateError\n",
      "        LimitOverrunError\n",
      "        QueueEmpty\n",
      "        QueueFull\n",
      "        error\n",
      "        LZMAError\n",
      "        RegistryError\n",
      "        _GiveupOnFastCopy\n",
      "        Empty\n",
      "        Full\n",
      "        ZMQBaseError\n",
      "            ZMQError\n",
      "                ContextTerminated\n",
      "                Again\n",
      "                InterruptedSystemCall\n",
      "            ZMQBindError\n",
      "            NotDone\n",
      "        PickleError\n",
      "            PicklingError\n",
      "            UnpicklingError\n",
      "        _Stop\n",
      "        ArgumentError\n",
      "        ArgumentTypeError\n",
      "        ConfigError\n",
      "            ConfigLoaderError\n",
      "                ArgumentError\n",
      "            ConfigFileNotFound\n",
      "        ConfigurableError\n",
      "            MultipleInstanceError\n",
      "        ApplicationError\n",
      "        COMError\n",
      "        ArgumentError\n",
      "        ReturnValueIgnoredError\n",
      "        KeyReuseError\n",
      "        UnknownKeyError\n",
      "        LeakedCallbackError\n",
      "        BadYieldError\n",
      "        ReturnValueIgnoredError\n",
      "        Return\n",
      "        InvalidPortNumber\n",
      "        NoIPAddresses\n",
      "        BadZipFile\n",
      "        LargeZipFile\n",
      "        Error\n",
      "            NoSectionError\n",
      "            DuplicateSectionError\n",
      "            DuplicateOptionError\n",
      "            NoOptionError\n",
      "            InterpolationError\n",
      "                InterpolationMissingOptionError\n",
      "                InterpolationSyntaxError\n",
      "                InterpolationDepthError\n",
      "            ParsingError\n",
      "                MissingSectionHeaderError\n",
      "        BadEntryPoint\n",
      "        NoSuchEntryPoint\n",
      "        DuplicateKernelError\n",
      "        ErrorDuringImport\n",
      "        NotOneValueFound\n",
      "        CannotEval\n",
      "        OptionError\n",
      "        BdbQuit\n",
      "        Restart\n",
      "        FindCmdError\n",
      "        HomeDirError\n",
      "        ProfileDirError\n",
      "        IPythonCoreError\n",
      "            TryNext\n",
      "            UsageError\n",
      "            StdinNotImplementedError\n",
      "        InputRejected\n",
      "        GetoptError\n",
      "        ErrorToken\n",
      "        PrefilterError\n",
      "        AliasError\n",
      "            InvalidAliasError\n",
      "        Error\n",
      "            InterfaceError\n",
      "            DatabaseError\n",
      "                InternalError\n",
      "                OperationalError\n",
      "                ProgrammingError\n",
      "                IntegrityError\n",
      "                DataError\n",
      "                NotSupportedError\n",
      "        Warning\n",
      "        SpaceInInput\n",
      "        DOMException\n",
      "            IndexSizeErr\n",
      "            DomstringSizeErr\n",
      "            HierarchyRequestErr\n",
      "            WrongDocumentErr\n",
      "            InvalidCharacterErr\n",
      "            NoDataAllowedErr\n",
      "            NoModificationAllowedErr\n",
      "            NotFoundErr\n",
      "            NotSupportedErr\n",
      "            InuseAttributeErr\n",
      "            InvalidStateErr\n",
      "            SyntaxErr\n",
      "            InvalidModificationErr\n",
      "            NamespaceErr\n",
      "            InvalidAccessErr\n",
      "            ValidationErr\n",
      "        ValidationError\n",
      "        EditReadOnlyBuffer\n",
      "        _Retry\n",
      "        InvalidLayoutError\n",
      "        HeightIsUnknownError\n",
      "        ParserSyntaxError\n",
      "        InternalParseError\n",
      "        _PositionUpdatingFinished\n",
      "        SimpleGetItemNotFound\n",
      "        UncaughtAttributeError\n",
      "        HasNoContext\n",
      "        ParamIssue\n",
      "        _JediError\n",
      "            InternalError\n",
      "            WrongVersion\n",
      "            RefactoringError\n",
      "        OnErrorLeaf\n",
      "        InvalidPythonEnvironment\n",
      "        MessageError\n",
      "            MessageParseError\n",
      "                HeaderParseError\n",
      "                    _InvalidEwError\n",
      "                BoundaryError\n",
      "            MultipartConversionError\n",
      "            CharsetError\n",
      "        Error\n",
      "        HTTPException\n",
      "            NotConnected\n",
      "            InvalidURL\n",
      "            UnknownProtocol\n",
      "            UnknownTransferEncoding\n",
      "            UnimplementedFileMode\n",
      "            IncompleteRead\n",
      "            ImproperConnectionState\n",
      "                CannotSendRequest\n",
      "                CannotSendHeader\n",
      "                ResponseNotReady\n",
      "            BadStatusLine\n",
      "                RemoteDisconnected\n",
      "            LineTooLong\n",
      "        InteractivelyDefined\n",
      "        KillEmbedded\n",
      "        Error\n",
      "            NoSuchProcess\n",
      "                ZombieProcess\n",
      "            AccessDenied\n",
      "            TimeoutExpired\n",
      "        Error\n",
      "        TimeoutExpired\n",
      "        TimeoutAbandoned\n",
      "        QueueEmpty\n",
      "        QueueFull\n",
      "        ExpatError\n",
      "        Error\n",
      "            ProtocolError\n",
      "            ResponseError\n",
      "            Fault\n",
      "        error\n",
      "        com_error\n",
      "        internal_error\n",
      "        ParseBaseException\n",
      "            ParseException\n",
      "            ParseFatalException\n",
      "                ParseSyntaxException\n",
      "        RecursiveGrammarException\n",
      "        ResolutionError\n",
      "            VersionConflict\n",
      "                ContextualVersionConflict\n",
      "            DistributionNotFound\n",
      "            UnknownExtra\n",
      "        UnableToResolveVariableException\n",
      "        InvalidTypeInArgsException\n",
      "        DistutilsError\n",
      "            DistutilsModuleError\n",
      "            DistutilsClassError\n",
      "            DistutilsGetoptError\n",
      "            DistutilsArgError\n",
      "            DistutilsFileError\n",
      "            DistutilsOptionError\n",
      "            DistutilsSetupError\n",
      "            DistutilsPlatformError\n",
      "            DistutilsExecError\n",
      "            DistutilsInternalError\n",
      "            DistutilsTemplateError\n",
      "            DistutilsByteCompileError\n",
      "            RemovedCommandError\n",
      "            PackageDiscoveryError\n",
      "        CCompilerError\n",
      "            PreprocessError\n",
      "            CompileError\n",
      "            LibError\n",
      "            LinkError\n",
      "            UnknownFileError\n",
      "        Error\n",
      "        SkipTest\n",
      "        _ShouldStop\n",
      "        _UnexpectedSuccess\n",
      "    GeneratorExit\n",
      "    SystemExit\n",
      "    KeyboardInterrupt\n",
      "    CancelledError\n",
      "    DebuggerInitializationError\n",
      "    AbortThread\n",
      "    AbortThread\n"
     ]
    }
   ],
   "source": [
    "def tree(cls, level=0):\n",
    "    yield cls.__name__, level\n",
    "    for sub_cls in cls.__subclasses__():\n",
    "        yield from tree(sub_cls, level + 1)\n",
    "\n",
    "\n",
    "if __name__ == '__main__':\n",
    "    for cls_name, level in tree(BaseException):\n",
    "        indent = ' ' * 4 * level\n",
    "        print(f'{indent}{cls_name}')\n"
   ]
  },
  {
   "cell_type": "code",
   "execution_count": 72,
   "id": "09ec5e17",
   "metadata": {},
   "outputs": [],
   "source": [
    "\"\"\"\n",
    "A coroutine to compute a running average\n",
    "\n",
    "# tag::CORO_AVERAGER_TEST[]\n",
    "    >>> coro_avg = averager()  # <1>\n",
    "    >>> next(coro_avg)  # <2>\n",
    "    0.0\n",
    "    >>> coro_avg.send(10)  # <3>\n",
    "    10.0\n",
    "    >>> coro_avg.send(30)\n",
    "    20.0\n",
    "    >>> coro_avg.send(5)\n",
    "    15.0\n",
    "\n",
    "# end::CORO_AVERAGER_TEST[]\n",
    "# tag::CORO_AVERAGER_TEST_CONT[]\n",
    "\n",
    "    >>> coro_avg.send(20)  # <1>\n",
    "    16.25\n",
    "    >>> coro_avg.close()  # <2>\n",
    "    >>> coro_avg.close()  # <3>\n",
    "    >>> coro_avg.send(5)  # <4>\n",
    "    Traceback (most recent call last):\n",
    "      ...\n",
    "    StopIteration\n",
    "\n",
    "# end::CORO_AVERAGER_TEST_CONT[]\n",
    "\n",
    "\"\"\"\n",
    "\n",
    "# tag::CORO_AVERAGER[]\n",
    "from collections.abc import Generator\n",
    "\n",
    "def averager() -> Generator:  # <1>\n",
    "    total = 0.0\n",
    "    count = 0\n",
    "    average = 0.0\n",
    "    while True:  # <2>\n",
    "        term = yield average  # <3>\n",
    "        total += term\n",
    "        count += 1\n",
    "        average = total/count\n",
    "# end::CORO_AVERAGER[]\n"
   ]
  },
  {
   "cell_type": "code",
   "execution_count": 76,
   "id": "1ef1ff29",
   "metadata": {},
   "outputs": [
    {
     "data": {
      "text/plain": [
       "0.0"
      ]
     },
     "execution_count": 76,
     "metadata": {},
     "output_type": "execute_result"
    }
   ],
   "source": [
    "coro_avg = averager()  # <1>\n",
    "next(coro_avg) "
   ]
  },
  {
   "cell_type": "code",
   "execution_count": 77,
   "id": "be5ce3be",
   "metadata": {},
   "outputs": [
    {
     "data": {
      "text/plain": [
       "10.0"
      ]
     },
     "execution_count": 77,
     "metadata": {},
     "output_type": "execute_result"
    }
   ],
   "source": [
    "coro_avg.send(10)"
   ]
  },
  {
   "cell_type": "code",
   "execution_count": 78,
   "id": "277a6fe3",
   "metadata": {},
   "outputs": [
    {
     "data": {
      "text/plain": [
       "20.0"
      ]
     },
     "execution_count": 78,
     "metadata": {},
     "output_type": "execute_result"
    }
   ],
   "source": [
    "coro_avg.send(30)"
   ]
  },
  {
   "cell_type": "code",
   "execution_count": 79,
   "id": "1be27893",
   "metadata": {},
   "outputs": [
    {
     "data": {
      "text/plain": [
       "15.0"
      ]
     },
     "execution_count": 79,
     "metadata": {},
     "output_type": "execute_result"
    }
   ],
   "source": [
    "coro_avg.send(5)"
   ]
  },
  {
   "cell_type": "code",
   "execution_count": 80,
   "id": "a3c5ea0a",
   "metadata": {},
   "outputs": [
    {
     "data": {
      "text/plain": [
       "16.25"
      ]
     },
     "execution_count": 80,
     "metadata": {},
     "output_type": "execute_result"
    }
   ],
   "source": [
    "coro_avg.send(20)"
   ]
  },
  {
   "cell_type": "code",
   "execution_count": 161,
   "id": "f2834080",
   "metadata": {},
   "outputs": [],
   "source": [
    "\"\"\"\n",
    "A coroutine to compute a running average.\n",
    "\n",
    "Testing ``averager2`` by itself::\n",
    "\n",
    "# tag::RETURNING_AVERAGER_DEMO_1[]\n",
    "\n",
    "    >>> coro_avg = averager2()\n",
    "    >>> next(coro_avg)\n",
    "    >>> coro_avg.send(10)  # <1>\n",
    "    >>> coro_avg.send(30)\n",
    "    >>> coro_avg.send(6.5)\n",
    "    >>> coro_avg.close()  # <2>\n",
    "\n",
    "# end::RETURNING_AVERAGER_DEMO_1[]\n",
    "\n",
    "Catching `StopIteration` to extract the value returned by\n",
    "the coroutine::\n",
    "\n",
    "# tag::RETURNING_AVERAGER_DEMO_2[]\n",
    "\n",
    "    >>> coro_avg = averager2()\n",
    "    >>> next(coro_avg)\n",
    "    >>> coro_avg.send(10)\n",
    "    >>> coro_avg.send(30)\n",
    "    >>> coro_avg.send(6.5)\n",
    "    >>> try:\n",
    "    ...     coro_avg.send(STOP)  # <1>\n",
    "    ... except StopIteration as exc:\n",
    "    ...     result = exc.value  # <2>\n",
    "    ...\n",
    "    >>> result  # <3>\n",
    "    Result(count=3, average=15.5)\n",
    "\n",
    "# end::RETURNING_AVERAGER_DEMO_2[]\n",
    "\n",
    "Using `yield from`:\n",
    "\n",
    "\n",
    "# tag::RETURNING_AVERAGER_DEMO_3[]\n",
    "\n",
    "    >>> def compute():\n",
    "    ...     res = yield from averager2(True)  # <1>\n",
    "    ...     print('computed:', res)  # <2>\n",
    "    ...     return res  # <3>\n",
    "    ...\n",
    "    >>> comp = compute()  # <4>\n",
    "    >>> for v in [None, 10, 20, 30, STOP]:  # <5>\n",
    "    ...     try:\n",
    "    ...         comp.send(v)  # <6>\n",
    "    ...     except StopIteration as exc:  # <7>\n",
    "    ...         result = exc.value\n",
    "    received: 10\n",
    "    received: 20\n",
    "    received: 30\n",
    "    received: <Sentinel>\n",
    "    computed: Result(count=3, average=20.0)\n",
    "    >>> result  # <8>\n",
    "    Result(count=3, average=20.0)\n",
    "\n",
    "# end::RETURNING_AVERAGER_DEMO_3[]\n",
    "\"\"\"\n",
    "\n",
    "# tag::RETURNING_AVERAGER_TOP[]\n",
    "from collections.abc import Generator\n",
    "from typing import Union, NamedTuple\n",
    "\n",
    "class Result(NamedTuple):  # <1>\n",
    "    count: int  # type: ignore  # <2>\n",
    "    average: float\n",
    "\n",
    "class Sentinel:  # <3>\n",
    "    def __repr__(self):\n",
    "        return f'<Sentinel>'\n",
    "\n",
    "STOP = Sentinel()  # <4>\n",
    "\n",
    "SendType = Union[float, Sentinel]  # <5>\n",
    "# end::RETURNING_AVERAGER_TOP[]\n",
    "# tag::RETURNING_AVERAGER[]\n",
    "def averager2(verbose: bool = False) -> Generator:  # <1>\n",
    "    total = 0.0\n",
    "    count = 0\n",
    "    average = 0.0\n",
    "    while True:\n",
    "        term = yield  # <2>\n",
    "        if verbose:\n",
    "            print('received:', term)\n",
    "        if isinstance(term, Sentinel):  # <3>\n",
    "            break\n",
    "        total += term  # <4>\n",
    "        count += 1\n",
    "        average = total / count\n",
    "    return Result(count, average)  # <5>\n",
    "\n",
    "# end::RETURNING_AVERAGER[]\n"
   ]
  },
  {
   "cell_type": "code",
   "execution_count": 162,
   "id": "c8f74d29",
   "metadata": {},
   "outputs": [],
   "source": [
    "def compute(): \n",
    "    res = yield from averager2(True)  # <1>\n",
    "    print('computed:', res)  # <2>\n",
    "    return res  # <3>"
   ]
  },
  {
   "cell_type": "code",
   "execution_count": 163,
   "id": "1986dd6c",
   "metadata": {},
   "outputs": [],
   "source": [
    "comp = compute()"
   ]
  },
  {
   "cell_type": "code",
   "execution_count": 164,
   "id": "b1144bb1",
   "metadata": {},
   "outputs": [
    {
     "name": "stdout",
     "output_type": "stream",
     "text": [
      "received: 10\n",
      "received: 20\n",
      "received: 30\n",
      "received: <Sentinel>\n",
      "computed: Result(count=3, average=20.0)\n"
     ]
    }
   ],
   "source": [
    "for v in [None, 10, 20, 30, STOP]:  # <5>\n",
    "    try:\n",
    "        comp.send(v)  # <6>\n",
    "        \n",
    "    except StopIteration as exc:  # <7>\n",
    "        result = exc.value"
   ]
  },
  {
   "cell_type": "code",
   "execution_count": 131,
   "id": "64235277",
   "metadata": {},
   "outputs": [],
   "source": [
    "def compute(): \n",
    "    res = yield from averager2(True)  # <1>\n",
    "    print('computed:', res)  # <2>\n",
    "    return res  # <3>\n",
    "comp = compute()"
   ]
  },
  {
   "cell_type": "code",
   "execution_count": 132,
   "id": "005a00ed",
   "metadata": {},
   "outputs": [
    {
     "name": "stdout",
     "output_type": "stream",
     "text": [
      "received: 10\n",
      "received: 20\n",
      "received: 30\n",
      "received: <Sentinel>\n",
      "computed: Result(count=3, average=20.0)\n",
      "Result(count=3, average=20.0)\n",
      "Result(count=3, average=20.0)\n"
     ]
    }
   ],
   "source": [
    "for v in [None, 10, 20, 30, STOP]:  # <5>\n",
    "    try:\n",
    "        comp.send(v)  # <6>\n",
    "        \n",
    "    except StopIteration as exc:  # <7>\n",
    "        result = exc.value\n",
    "        print(result)\n",
    "        print(result)"
   ]
  },
  {
   "cell_type": "code",
   "execution_count": 126,
   "id": "e7fea0de",
   "metadata": {},
   "outputs": [
    {
     "data": {
      "text/plain": [
       "<member 'value' of 'StopIteration' objects>"
      ]
     },
     "execution_count": 126,
     "metadata": {},
     "output_type": "execute_result"
    }
   ],
   "source": [
    "StopIteration.value"
   ]
  },
  {
   "cell_type": "code",
   "execution_count": 124,
   "id": "67ec4b83",
   "metadata": {},
   "outputs": [],
   "source": [
    "def compute(): \n",
    "    res = yield from averager2(True)  # <1>\n",
    "    print('computed:', res)  # <2>\n",
    "    return res  # <3>\n",
    "comp = compute()"
   ]
  },
  {
   "cell_type": "code",
   "execution_count": 125,
   "id": "11206fd1",
   "metadata": {},
   "outputs": [
    {
     "name": "stdout",
     "output_type": "stream",
     "text": [
      "received: 10\n",
      "received: 20\n",
      "received: <Sentinel>\n",
      "computed: Result(count=2, average=15.0)\n"
     ]
    }
   ],
   "source": [
    "for v in [None, 10, 20, STOP, 30]:  # <5>\n",
    "    try:\n",
    "        comp.send(v)  # <6>\n",
    "        \n",
    "    except StopIteration as exc:  # <7>\n",
    "        result = exc.value"
   ]
  },
  {
   "cell_type": "code",
   "execution_count": 135,
   "id": "c4f923b1",
   "metadata": {},
   "outputs": [],
   "source": [
    "def compute(): \n",
    "    res = yield from averager2(True)  # <1>\n",
    "    print('computed:', res)  # <2>\n",
    "    return res  # <3>\n",
    "comp = compute()"
   ]
  },
  {
   "cell_type": "markdown",
   "id": "6b15fbd3",
   "metadata": {},
   "source": [
    "Must send `None` first"
   ]
  },
  {
   "cell_type": "code",
   "execution_count": 136,
   "id": "8903c6f1",
   "metadata": {},
   "outputs": [
    {
     "ename": "TypeError",
     "evalue": "can't send non-None value to a just-started generator",
     "output_type": "error",
     "traceback": [
      "\u001b[1;31m---------------------------------------------------------------------------\u001b[0m",
      "\u001b[1;31mTypeError\u001b[0m                                 Traceback (most recent call last)",
      "Input \u001b[1;32mIn [136]\u001b[0m, in \u001b[0;36m<cell line: 1>\u001b[1;34m()\u001b[0m\n\u001b[0;32m      1\u001b[0m \u001b[38;5;28;01mfor\u001b[39;00m v \u001b[38;5;129;01min\u001b[39;00m [\u001b[38;5;241m10\u001b[39m, \u001b[38;5;241m20\u001b[39m, STOP, \u001b[38;5;241m30\u001b[39m]:  \u001b[38;5;66;03m# <5>\u001b[39;00m\n\u001b[0;32m      2\u001b[0m     \u001b[38;5;28;01mtry\u001b[39;00m:\n\u001b[1;32m----> 3\u001b[0m         \u001b[43mcomp\u001b[49m\u001b[38;5;241;43m.\u001b[39;49m\u001b[43msend\u001b[49m\u001b[43m(\u001b[49m\u001b[43mv\u001b[49m\u001b[43m)\u001b[49m  \u001b[38;5;66;03m# <6>\u001b[39;00m\n\u001b[0;32m      5\u001b[0m     \u001b[38;5;28;01mexcept\u001b[39;00m \u001b[38;5;167;01mStopIteration\u001b[39;00m \u001b[38;5;28;01mas\u001b[39;00m exc:  \u001b[38;5;66;03m# <7>\u001b[39;00m\n\u001b[0;32m      6\u001b[0m         result \u001b[38;5;241m=\u001b[39m exc\u001b[38;5;241m.\u001b[39mvalue\n",
      "\u001b[1;31mTypeError\u001b[0m: can't send non-None value to a just-started generator"
     ]
    }
   ],
   "source": [
    "for v in [10, 20, STOP, 30]:  # <5>\n",
    "    try:\n",
    "        comp.send(v)  # <6>\n",
    "        \n",
    "    except StopIteration as exc:  # <7>\n",
    "        result = exc.value"
   ]
  },
  {
   "cell_type": "code",
   "execution_count": 165,
   "id": "97555528",
   "metadata": {},
   "outputs": [],
   "source": [
    "def compute(): \n",
    "    res = yield from averager2(True)  # <1>\n",
    "    print('computed:', res)  # <2>\n",
    "    return res  # <3>\n",
    "comp = compute()"
   ]
  },
  {
   "cell_type": "code",
   "execution_count": 166,
   "id": "55ab9d8d",
   "metadata": {},
   "outputs": [
    {
     "name": "stdout",
     "output_type": "stream",
     "text": [
      "received: 100\n",
      "received: 500\n",
      "received: <Sentinel>\n",
      "computed: Result(count=2, average=300.0)\n"
     ]
    },
    {
     "ename": "StopIteration",
     "evalue": "Result(count=2, average=300.0)",
     "output_type": "error",
     "traceback": [
      "\u001b[1;31m---------------------------------------------------------------------------\u001b[0m",
      "\u001b[1;31mStopIteration\u001b[0m                             Traceback (most recent call last)",
      "Input \u001b[1;32mIn [166]\u001b[0m, in \u001b[0;36m<cell line: 4>\u001b[1;34m()\u001b[0m\n\u001b[0;32m      2\u001b[0m comp\u001b[38;5;241m.\u001b[39msend(\u001b[38;5;241m100\u001b[39m)\n\u001b[0;32m      3\u001b[0m comp\u001b[38;5;241m.\u001b[39msend(\u001b[38;5;241m500\u001b[39m)\n\u001b[1;32m----> 4\u001b[0m \u001b[43mcomp\u001b[49m\u001b[38;5;241;43m.\u001b[39;49m\u001b[43msend\u001b[49m\u001b[43m(\u001b[49m\u001b[43mSTOP\u001b[49m\u001b[43m)\u001b[49m\n",
      "\u001b[1;31mStopIteration\u001b[0m: Result(count=2, average=300.0)"
     ]
    }
   ],
   "source": [
    "comp.send(None)\n",
    "comp.send(100)\n",
    "comp.send(500)\n",
    "comp.send(STOP)"
   ]
  },
  {
   "cell_type": "markdown",
   "id": "80b509b9",
   "metadata": {},
   "source": [
    "Must send `STOP`"
   ]
  },
  {
   "cell_type": "code",
   "execution_count": 169,
   "id": "8405938f",
   "metadata": {},
   "outputs": [],
   "source": [
    "def compute(): \n",
    "    res = yield from averager2(True)  # <1>\n",
    "    print('computed:', res)  # <2>\n",
    "    return res  # <3>\n",
    "comp = compute()"
   ]
  },
  {
   "cell_type": "code",
   "execution_count": 170,
   "id": "52c2b7fc",
   "metadata": {},
   "outputs": [
    {
     "ename": "NameError",
     "evalue": "name 'HELLO' is not defined",
     "output_type": "error",
     "traceback": [
      "\u001b[1;31m---------------------------------------------------------------------------\u001b[0m",
      "\u001b[1;31mNameError\u001b[0m                                 Traceback (most recent call last)",
      "Input \u001b[1;32mIn [170]\u001b[0m, in \u001b[0;36m<cell line: 1>\u001b[1;34m()\u001b[0m\n\u001b[1;32m----> 1\u001b[0m \u001b[38;5;28;01mfor\u001b[39;00m v \u001b[38;5;129;01min\u001b[39;00m [\u001b[38;5;28;01mNone\u001b[39;00m, \u001b[38;5;241m10\u001b[39m, \u001b[38;5;241m20\u001b[39m, \u001b[43mHELLO\u001b[49m, \u001b[38;5;241m30\u001b[39m]:  \u001b[38;5;66;03m# <5>\u001b[39;00m\n\u001b[0;32m      2\u001b[0m     \u001b[38;5;28;01mtry\u001b[39;00m:\n\u001b[0;32m      3\u001b[0m         comp\u001b[38;5;241m.\u001b[39msend(v)  \u001b[38;5;66;03m# <6>\u001b[39;00m\n",
      "\u001b[1;31mNameError\u001b[0m: name 'HELLO' is not defined"
     ]
    }
   ],
   "source": [
    "for v in [None, 10, 20, HELLO, 30]:  # <5>\n",
    "    try:\n",
    "        comp.send(v)  # <6>\n",
    "        \n",
    "    except StopIteration as exc:  # <7>\n",
    "        result = exc.value"
   ]
  },
  {
   "cell_type": "code",
   "execution_count": 171,
   "id": "27bcc716",
   "metadata": {},
   "outputs": [],
   "source": [
    "coro_avg = averager2()  # <1>\n",
    "next(coro_avg) "
   ]
  },
  {
   "cell_type": "code",
   "execution_count": 172,
   "id": "9a9cc817",
   "metadata": {},
   "outputs": [],
   "source": [
    "coro_avg.send(10)"
   ]
  },
  {
   "cell_type": "code",
   "execution_count": 173,
   "id": "b44062dd",
   "metadata": {},
   "outputs": [],
   "source": [
    "coro_avg.send(30)"
   ]
  },
  {
   "cell_type": "code",
   "execution_count": 174,
   "id": "90951ea9",
   "metadata": {},
   "outputs": [],
   "source": [
    "coro_avg.send(5)"
   ]
  },
  {
   "cell_type": "code",
   "execution_count": 175,
   "id": "57ea81a0",
   "metadata": {},
   "outputs": [],
   "source": [
    "coro_avg.send(20)"
   ]
  },
  {
   "cell_type": "code",
   "execution_count": 176,
   "id": "8b4f00de",
   "metadata": {},
   "outputs": [],
   "source": [
    "try:\n",
    "    coro_avg.send(STOP)  # <6>\n",
    "except StopIteration as exc:  # <7>\n",
    "    result = exc.value"
   ]
  },
  {
   "cell_type": "code",
   "execution_count": 177,
   "id": "59da7e57",
   "metadata": {},
   "outputs": [
    {
     "data": {
      "text/plain": [
       "Result(count=4, average=16.25)"
      ]
     },
     "execution_count": 177,
     "metadata": {},
     "output_type": "execute_result"
    }
   ],
   "source": [
    "result"
   ]
  },
  {
   "cell_type": "code",
   "execution_count": 155,
   "id": "5228d3ed",
   "metadata": {},
   "outputs": [
    {
     "name": "stdout",
     "output_type": "stream",
     "text": [
      "Help on class Generator in module collections.abc:\n",
      "\n",
      "class Generator(Iterator)\n",
      " |  Method resolution order:\n",
      " |      Generator\n",
      " |      Iterator\n",
      " |      Iterable\n",
      " |      builtins.object\n",
      " |  \n",
      " |  Methods defined here:\n",
      " |  \n",
      " |  __next__(self)\n",
      " |      Return the next item from the generator.\n",
      " |      When exhausted, raise StopIteration.\n",
      " |  \n",
      " |  close(self)\n",
      " |      Raise GeneratorExit inside generator.\n",
      " |  \n",
      " |  send(self, value)\n",
      " |      Send a value into the generator.\n",
      " |      Return next yielded value or raise StopIteration.\n",
      " |  \n",
      " |  throw(self, typ, val=None, tb=None)\n",
      " |      Raise an exception in the generator.\n",
      " |      Return next yielded value or raise StopIteration.\n",
      " |  \n",
      " |  ----------------------------------------------------------------------\n",
      " |  Class methods defined here:\n",
      " |  \n",
      " |  __subclasshook__(C) from abc.ABCMeta\n",
      " |      Abstract classes can override this to customize issubclass().\n",
      " |      \n",
      " |      This is invoked early on by abc.ABCMeta.__subclasscheck__().\n",
      " |      It should return True, False or NotImplemented.  If it returns\n",
      " |      NotImplemented, the normal algorithm is used.  Otherwise, it\n",
      " |      overrides the normal algorithm (and the outcome is cached).\n",
      " |  \n",
      " |  ----------------------------------------------------------------------\n",
      " |  Data and other attributes defined here:\n",
      " |  \n",
      " |  __abstractmethods__ = frozenset({'send', 'throw'})\n",
      " |  \n",
      " |  ----------------------------------------------------------------------\n",
      " |  Methods inherited from Iterator:\n",
      " |  \n",
      " |  __iter__(self)\n",
      "\n"
     ]
    }
   ],
   "source": [
    "help(Generator)"
   ]
  },
  {
   "cell_type": "code",
   "execution_count": null,
   "id": "3e80be2d",
   "metadata": {},
   "outputs": [],
   "source": []
  },
  {
   "cell_type": "code",
   "execution_count": null,
   "id": "3456d22a",
   "metadata": {},
   "outputs": [],
   "source": []
  },
  {
   "cell_type": "code",
   "execution_count": null,
   "id": "f7e93611",
   "metadata": {},
   "outputs": [],
   "source": []
  }
 ],
 "metadata": {
  "kernelspec": {
   "display_name": "Python 3 (ipykernel)",
   "language": "python",
   "name": "python3"
  },
  "language_info": {
   "codemirror_mode": {
    "name": "ipython",
    "version": 3
   },
   "file_extension": ".py",
   "mimetype": "text/x-python",
   "name": "python",
   "nbconvert_exporter": "python",
   "pygments_lexer": "ipython3",
   "version": "3.8.13"
  }
 },
 "nbformat": 4,
 "nbformat_minor": 5
}
