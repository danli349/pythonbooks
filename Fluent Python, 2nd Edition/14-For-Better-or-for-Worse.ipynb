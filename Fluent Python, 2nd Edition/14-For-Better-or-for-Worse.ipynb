{
 "cells": [
  {
   "cell_type": "code",
   "execution_count": 1,
   "id": "11467d27",
   "metadata": {},
   "outputs": [
    {
     "data": {
      "text/plain": [
       "['D:\\\\books\\\\python\\\\0.   Fluent Python, 2nd Edition',\n",
       " 'D:/books/python/0.   Fluent Python, 2nd Edition/example-code-2e/14-inheritance/',\n",
       " 'C:\\\\Users\\\\lidan\\\\miniconda3\\\\python38.zip',\n",
       " 'C:\\\\Users\\\\lidan\\\\miniconda3\\\\DLLs',\n",
       " 'C:\\\\Users\\\\lidan\\\\miniconda3\\\\lib',\n",
       " 'C:\\\\Users\\\\lidan\\\\miniconda3',\n",
       " '',\n",
       " 'C:\\\\Users\\\\lidan\\\\AppData\\\\Roaming\\\\Python\\\\Python38\\\\site-packages',\n",
       " 'C:\\\\Users\\\\lidan\\\\miniconda3\\\\lib\\\\site-packages',\n",
       " 'C:\\\\Users\\\\lidan\\\\miniconda3\\\\lib\\\\site-packages\\\\magic_impute-2.0.4-py3.8.egg',\n",
       " 'C:\\\\Users\\\\lidan\\\\miniconda3\\\\lib\\\\site-packages\\\\seqc-0.2.0-py3.8.egg',\n",
       " 'C:\\\\Users\\\\lidan\\\\miniconda3\\\\lib\\\\site-packages\\\\weasyprint-56.1-py3.8.egg',\n",
       " 'C:\\\\Users\\\\lidan\\\\miniconda3\\\\lib\\\\site-packages\\\\cairocffi-1.3.0-py3.8.egg',\n",
       " 'C:\\\\Users\\\\lidan\\\\miniconda3\\\\lib\\\\site-packages\\\\win32',\n",
       " 'C:\\\\Users\\\\lidan\\\\miniconda3\\\\lib\\\\site-packages\\\\win32\\\\lib',\n",
       " 'C:\\\\Users\\\\lidan\\\\miniconda3\\\\lib\\\\site-packages\\\\Pythonwin']"
      ]
     },
     "execution_count": 1,
     "metadata": {},
     "output_type": "execute_result"
    }
   ],
   "source": [
    "import sys\n",
    "    # caution: path[0] is reserved for script path (or '' in REPL)\n",
    "sys.path.insert(1, 'D:/books/python/0.   Fluent Python, 2nd Edition/example-code-2e/14-inheritance/')\n",
    "sys.path"
   ]
  },
  {
   "cell_type": "code",
   "execution_count": 1,
   "id": "edd41bef",
   "metadata": {},
   "outputs": [
    {
     "data": {
      "text/plain": [
       "{'one': [1, 1]}"
      ]
     },
     "execution_count": 1,
     "metadata": {},
     "output_type": "execute_result"
    }
   ],
   "source": [
    "import collections\n",
    "class DoppelDict2(collections.UserDict):\n",
    "    def __setitem__(self, key, value):\n",
    "        super().__setitem__(key, [value] * 2)\n",
    "\n",
    "dd = DoppelDict2(one=1)\n",
    "dd"
   ]
  },
  {
   "cell_type": "code",
   "execution_count": 2,
   "id": "360922d9",
   "metadata": {},
   "outputs": [
    {
     "data": {
      "text/plain": [
       "{'one': [1, 1], 'two': [2, 2]}"
      ]
     },
     "execution_count": 2,
     "metadata": {},
     "output_type": "execute_result"
    }
   ],
   "source": [
    "dd['two'] = 2\n",
    "dd"
   ]
  },
  {
   "cell_type": "code",
   "execution_count": 3,
   "id": "d25f6860",
   "metadata": {},
   "outputs": [
    {
     "data": {
      "text/plain": [
       "{'one': [1, 1], 'two': [2, 2], 'three': [3, 3]}"
      ]
     },
     "execution_count": 3,
     "metadata": {},
     "output_type": "execute_result"
    }
   ],
   "source": [
    "dd.update(three=3)\n",
    "dd"
   ]
  },
  {
   "cell_type": "code",
   "execution_count": 4,
   "id": "9e9351c3",
   "metadata": {},
   "outputs": [
    {
     "data": {
      "text/plain": [
       "42"
      ]
     },
     "execution_count": 4,
     "metadata": {},
     "output_type": "execute_result"
    }
   ],
   "source": [
    "class AnswerDict2(collections.UserDict):\n",
    "    def __getitem__(self, key):\n",
    "        return 42\n",
    "ad = AnswerDict2(a='foo')\n",
    "ad['a']"
   ]
  },
  {
   "cell_type": "code",
   "execution_count": 5,
   "id": "f6ba3700",
   "metadata": {},
   "outputs": [
    {
     "data": {
      "text/plain": [
       "42"
      ]
     },
     "execution_count": 5,
     "metadata": {},
     "output_type": "execute_result"
    }
   ],
   "source": [
    "d = {}\n",
    "d.update(ad)\n",
    "d['a']"
   ]
  },
  {
   "cell_type": "code",
   "execution_count": 6,
   "id": "5708de23",
   "metadata": {},
   "outputs": [
    {
     "data": {
      "text/plain": [
       "{'a': 42}"
      ]
     },
     "execution_count": 6,
     "metadata": {},
     "output_type": "execute_result"
    }
   ],
   "source": [
    "d"
   ]
  },
  {
   "cell_type": "code",
   "execution_count": 7,
   "id": "b3f25014",
   "metadata": {},
   "outputs": [],
   "source": [
    "\"\"\"\n",
    "diamond1.py: Demo of diamond-shaped class graph.\n",
    "\n",
    "# tag::LEAF_MRO[]\n",
    ">>> Leaf.__mro__  # doctest:+NORMALIZE_WHITESPACE\n",
    "    (<class 'diamond1.Leaf'>, <class 'diamond1.A'>, <class 'diamond1.B'>,\n",
    "     <class 'diamond1.Root'>, <class 'object'>)\n",
    "\n",
    "# end::LEAF_MRO[]\n",
    "\n",
    "# tag::DIAMOND_CALLS[]\n",
    "    >>> leaf1 = Leaf()  # <1>\n",
    "    >>> leaf1.ping()    # <2>\n",
    "    <instance of Leaf>.ping() in Leaf\n",
    "    <instance of Leaf>.ping() in A\n",
    "    <instance of Leaf>.ping() in B\n",
    "    <instance of Leaf>.ping() in Root\n",
    "\n",
    "    >>> leaf1.pong()   # <3>\n",
    "    <instance of Leaf>.pong() in A\n",
    "    <instance of Leaf>.pong() in B\n",
    "\n",
    "# end::DIAMOND_CALLS[]\n",
    "\"\"\"\n",
    "\n",
    "# tag::DIAMOND_CLASSES[]\n",
    "class Root:  # <1>\n",
    "    def ping(self):\n",
    "        print(f'{self}.ping() in Root')\n",
    "\n",
    "    def pong(self):\n",
    "        print(f'{self}.pong() in Root')\n",
    "\n",
    "    def __repr__(self):\n",
    "        cls_name = type(self).__name__\n",
    "        return f'<instance of {cls_name}>'\n",
    "\n",
    "\n",
    "class A(Root):  # <2>\n",
    "    def ping(self):\n",
    "        print(f'{self}.ping() in A')\n",
    "        super().ping()\n",
    "\n",
    "    def pong(self):\n",
    "        print(f'{self}.pong() in A')\n",
    "        super().pong()\n",
    "\n",
    "\n",
    "class B(Root):  # <3>\n",
    "    def ping(self):\n",
    "        print(f'{self}.ping() in B')\n",
    "        super().ping()\n",
    "\n",
    "    def pong(self):\n",
    "        print(f'{self}.pong() in B')\n",
    "\n",
    "\n",
    "class Leaf(A, B):  # <4>\n",
    "    def ping(self):\n",
    "        print(f'{self}.ping() in Leaf')\n",
    "        super().ping()\n",
    "# end::DIAMOND_CLASSES[]\n"
   ]
  },
  {
   "cell_type": "code",
   "execution_count": 8,
   "id": "86fce60b",
   "metadata": {},
   "outputs": [
    {
     "data": {
      "text/plain": [
       "(__main__.Leaf, __main__.A, __main__.B, __main__.Root, object)"
      ]
     },
     "execution_count": 8,
     "metadata": {},
     "output_type": "execute_result"
    }
   ],
   "source": [
    "Leaf.__mro__"
   ]
  },
  {
   "cell_type": "code",
   "execution_count": 9,
   "id": "c18e06df",
   "metadata": {},
   "outputs": [
    {
     "name": "stdout",
     "output_type": "stream",
     "text": [
      "<instance of Leaf>.ping() in Leaf\n",
      "<instance of Leaf>.ping() in A\n",
      "<instance of Leaf>.ping() in B\n",
      "<instance of Leaf>.ping() in Root\n"
     ]
    }
   ],
   "source": [
    "leaf1 = Leaf()  # <1>\n",
    "leaf1.ping()"
   ]
  },
  {
   "cell_type": "code",
   "execution_count": 10,
   "id": "284de55f",
   "metadata": {},
   "outputs": [
    {
     "name": "stdout",
     "output_type": "stream",
     "text": [
      "<instance of Leaf>.pong() in A\n",
      "<instance of Leaf>.pong() in B\n"
     ]
    }
   ],
   "source": [
    "leaf1.pong()"
   ]
  },
  {
   "cell_type": "code",
   "execution_count": 13,
   "id": "190f3a4a",
   "metadata": {},
   "outputs": [],
   "source": [
    "\"\"\"\n",
    "unrelated.py: examples with ``super()`` in a sibling class.\n",
    "\n",
    "``U`` is unrelated (does not subclass ``Root``)\n",
    "\n",
    "Calling ``ping`` on an instance of ``U`` fails::\n",
    "\n",
    "# tag::UNRELATED_DEMO_1[]\n",
    "    >>> u = U()\n",
    "    >>> u.ping()\n",
    "    Traceback (most recent call last):\n",
    "      ...\n",
    "    AttributeError: 'super' object has no attribute 'ping'\n",
    "\n",
    "# end::UNRELATED_DEMO_1[]\n",
    "\n",
    "\n",
    "But if ``U`` is part of a cooperative arrangement of base classes,\n",
    "its ``ping`` method works::\n",
    "\n",
    "# tag::UNRELATED_DEMO_2[]\n",
    "\n",
    "    >>> leaf2 = LeafUA()\n",
    "    >>> leaf2.ping()\n",
    "    <instance of LeafUA>.ping() in LeafUA\n",
    "    <instance of LeafUA>.ping() in U\n",
    "    <instance of LeafUA>.ping() in A\n",
    "    <instance of LeafUA>.ping() in Root\n",
    "    >>> LeafUA.__mro__  # doctest:+NORMALIZE_WHITESPACE\n",
    "    (<class 'diamond2.LeafUA'>, <class 'diamond2.U'>,\n",
    "     <class 'diamond.A'>, <class 'diamond.Root'>, <class 'object'>)\n",
    "\n",
    "# end::UNRELATED_DEMO_2[]\n",
    "\n",
    "\n",
    "Here ``U.ping`` is never called because ``Root.ping`` does not call ``super``.\n",
    "\n",
    "    >>> o6 = LeafAU()\n",
    "    >>> o6.ping()\n",
    "    <instance of LeafAU>.ping() in LeafAU\n",
    "    <instance of LeafAU>.ping() in A\n",
    "    <instance of LeafAU>.ping() in Root\n",
    "    >>> LeafAU.__mro__  # doctest:+NORMALIZE_WHITESPACE\n",
    "    (<class 'diamond2.LeafAU'>, <class 'diamond.A'>, <class 'diamond.Root'>,\n",
    "     <class 'diamond2.U'>, <class 'object'>)\n",
    "\n",
    "\"\"\"\n",
    "\n",
    "# tag::DIAMOND_CLASSES[]\n",
    "from diamond import A  # <1>\n",
    "\n",
    "class U():  # <2>\n",
    "    def ping(self):\n",
    "        print(f'{self}.ping() in U')\n",
    "        super().ping()  # <3>\n",
    "\n",
    "class LeafUA(U, A):  # <4>\n",
    "    def ping(self):\n",
    "        print(f'{self}.ping() in LeafUA')\n",
    "        super().ping()\n",
    "# end::DIAMOND_CLASSES[]\n",
    "\n",
    "class LeafAU(A, U):\n",
    "    def ping(self):\n",
    "        print(f'{self}.ping() in LeafAU')\n",
    "        super().ping()\n",
    "\n"
   ]
  },
  {
   "cell_type": "code",
   "execution_count": 14,
   "id": "b270b747",
   "metadata": {},
   "outputs": [
    {
     "name": "stdout",
     "output_type": "stream",
     "text": [
      "<__main__.U object at 0x000002308FB8A7C0>.ping() in U\n"
     ]
    },
    {
     "ename": "AttributeError",
     "evalue": "'super' object has no attribute 'ping'",
     "output_type": "error",
     "traceback": [
      "\u001b[1;31m---------------------------------------------------------------------------\u001b[0m",
      "\u001b[1;31mAttributeError\u001b[0m                            Traceback (most recent call last)",
      "Input \u001b[1;32mIn [14]\u001b[0m, in \u001b[0;36m<cell line: 2>\u001b[1;34m()\u001b[0m\n\u001b[0;32m      1\u001b[0m u \u001b[38;5;241m=\u001b[39m U()\n\u001b[1;32m----> 2\u001b[0m \u001b[43mu\u001b[49m\u001b[38;5;241;43m.\u001b[39;49m\u001b[43mping\u001b[49m\u001b[43m(\u001b[49m\u001b[43m)\u001b[49m\n",
      "Input \u001b[1;32mIn [13]\u001b[0m, in \u001b[0;36mU.ping\u001b[1;34m(self)\u001b[0m\n\u001b[0;32m     53\u001b[0m \u001b[38;5;28;01mdef\u001b[39;00m \u001b[38;5;21mping\u001b[39m(\u001b[38;5;28mself\u001b[39m):\n\u001b[0;32m     54\u001b[0m     \u001b[38;5;28mprint\u001b[39m(\u001b[38;5;124mf\u001b[39m\u001b[38;5;124m'\u001b[39m\u001b[38;5;132;01m{\u001b[39;00m\u001b[38;5;28mself\u001b[39m\u001b[38;5;132;01m}\u001b[39;00m\u001b[38;5;124m.ping() in U\u001b[39m\u001b[38;5;124m'\u001b[39m)\n\u001b[1;32m---> 55\u001b[0m     \u001b[38;5;28;43msuper\u001b[39;49m\u001b[43m(\u001b[49m\u001b[43m)\u001b[49m\u001b[38;5;241;43m.\u001b[39;49m\u001b[43mping\u001b[49m()\n",
      "\u001b[1;31mAttributeError\u001b[0m: 'super' object has no attribute 'ping'"
     ]
    }
   ],
   "source": [
    "u = U()\n",
    "u.ping()"
   ]
  },
  {
   "cell_type": "code",
   "execution_count": 15,
   "id": "b971e7db",
   "metadata": {},
   "outputs": [
    {
     "name": "stdout",
     "output_type": "stream",
     "text": [
      "<instance of LeafUA>.ping() in LeafUA\n",
      "<instance of LeafUA>.ping() in U\n",
      "<instance of LeafUA>.ping() in A\n",
      "<instance of LeafUA>.ping() in Root\n"
     ]
    }
   ],
   "source": [
    "leaf2 = LeafUA()\n",
    "leaf2.ping()"
   ]
  },
  {
   "cell_type": "code",
   "execution_count": 17,
   "id": "35b1ca19",
   "metadata": {},
   "outputs": [
    {
     "data": {
      "text/plain": [
       "(__main__.LeafUA, __main__.U, diamond.A, diamond.Root, object)"
      ]
     },
     "execution_count": 17,
     "metadata": {},
     "output_type": "execute_result"
    }
   ],
   "source": [
    "LeafUA.__mro__"
   ]
  },
  {
   "cell_type": "code",
   "execution_count": 16,
   "id": "a0ad4f80",
   "metadata": {},
   "outputs": [
    {
     "name": "stdout",
     "output_type": "stream",
     "text": [
      "<instance of LeafAU>.ping() in LeafAU\n",
      "<instance of LeafAU>.ping() in A\n",
      "<instance of LeafAU>.ping() in Root\n"
     ]
    }
   ],
   "source": [
    "o6 = LeafAU()\n",
    "o6.ping()"
   ]
  },
  {
   "cell_type": "code",
   "execution_count": 4,
   "id": "ec0f1025",
   "metadata": {},
   "outputs": [],
   "source": [
    "\"\"\"StrKeyDict always converts non-string keys to `str`\n",
    "\n",
    "This is a variation of `strkeydict.StrKeyDict` implemented\n",
    "as a `dict` built-in subclass (instead of a `UserDict` subclass)\n",
    "\n",
    "Test for initializer: keys are converted to `str`.\n",
    "\n",
    "    >>> d = StrKeyDict([(2, 'two'), ('4', 'four')])\n",
    "    >>> sorted(d.keys())\n",
    "    ['2', '4']\n",
    "\n",
    "Tests for item retrieval using `d[key]` notation::\n",
    "\n",
    "    >>> d['2']\n",
    "    'two'\n",
    "    >>> d[4]\n",
    "    'four'\n",
    "    >>> d[1]\n",
    "    Traceback (most recent call last):\n",
    "      ...\n",
    "    KeyError: '1'\n",
    "\n",
    "Tests for item retrieval using `d.get(key)` notation::\n",
    "\n",
    "    >>> d.get('2')\n",
    "    'two'\n",
    "    >>> d.get(4)\n",
    "    'four'\n",
    "    >>> d.get(1, 'N/A')\n",
    "    'N/A'\n",
    "\n",
    "Tests for the `in` operator::\n",
    "\n",
    "    >>> 2 in d\n",
    "    True\n",
    "    >>> 1 in d\n",
    "    False\n",
    "\n",
    "Test for item assignment using non-string key::\n",
    "\n",
    "    >>> d[0] = 'zero'\n",
    "    >>> d['0']\n",
    "    'zero'\n",
    "\n",
    "Tests for update using a `dict` or a sequence of pairs::\n",
    "\n",
    "    >>> d.update({6:'six', '8':'eight'})\n",
    "    >>> sorted(d.keys())\n",
    "    ['0', '2', '4', '6', '8']\n",
    "    >>> d.update([(10, 'ten'), ('12', 'twelve')])\n",
    "    >>> sorted(d.keys())\n",
    "    ['0', '10', '12', '2', '4', '6', '8']\n",
    "    >>> d.update([1, 3, 5])\n",
    "    Traceback (most recent call last):\n",
    "      ...\n",
    "    TypeError: cannot unpack non-iterable int object\n",
    "\n",
    "\"\"\"\n",
    "\n",
    "\n",
    "class StrKeyDict(dict):\n",
    "\n",
    "    def __init__(self, iterable=None, **kwds):\n",
    "        super().__init__()\n",
    "        self.update(iterable, **kwds)\n",
    "\n",
    "    def __missing__(self, key):\n",
    "        if isinstance(key, str):\n",
    "            raise KeyError(key)\n",
    "        return self[str(key)]\n",
    "\n",
    "    def __contains__(self, key):\n",
    "        return key in self.keys() or str(key) in self.keys()\n",
    "\n",
    "    def __setitem__(self, key, item):\n",
    "        super().__setitem__(str(key), item)\n",
    "\n",
    "    def get(self, key, default=None):\n",
    "        try:\n",
    "            return self[key]\n",
    "        except KeyError:\n",
    "            return default\n",
    "\n",
    "    def update(self, iterable=None, **kwds):\n",
    "        if iterable is not None:\n",
    "            try:  # duck typing FTW!\n",
    "                pairs = iterable.items()\n",
    "            except AttributeError:\n",
    "                pairs = iterable\n",
    "            for key, value in pairs:\n",
    "                self[key] = value\n",
    "        if kwds:\n",
    "            self.update(kwds)\n"
   ]
  },
  {
   "cell_type": "code",
   "execution_count": 2,
   "id": "dbbf39de",
   "metadata": {},
   "outputs": [],
   "source": [
    "\"\"\"\n",
    "Short demos\n",
    "===========\n",
    "\n",
    "``UpperDict`` behaves like a case-insensitive mapping`::\n",
    "\n",
    "# tag::UPPERDICT_DEMO[]\n",
    "    >>> d = UpperDict([('a', 'letter A'), (2, 'digit two')])\n",
    "    >>> list(d.keys())\n",
    "    ['A', 2]\n",
    "    >>> d['b'] = 'letter B'\n",
    "    >>> 'b' in d\n",
    "    True\n",
    "    >>> d['a'], d.get('B')\n",
    "    ('letter A', 'letter B')\n",
    "    >>> list(d.keys())\n",
    "    ['A', 2, 'B']\n",
    "\n",
    "# end::UPPERDICT_DEMO[]\n",
    "\n",
    "And ``UpperCounter`` is also case-insensitive::\n",
    "\n",
    "# tag::UPPERCOUNTER_DEMO[]\n",
    "    >>> c = UpperCounter('BaNanA')\n",
    "    >>> c.most_common()\n",
    "    [('A', 3), ('N', 2), ('B', 1)]\n",
    "\n",
    "# end::UPPERCOUNTER_DEMO[]\n",
    "\n",
    "Detailed tests\n",
    "==============\n",
    "\n",
    "UpperDict uppercases all string keys.\n",
    "\n",
    "    >>> d = UpperDict([('a', 'letter A'), ('B', 'letter B'), (2, 'digit two')])\n",
    "\n",
    "\n",
    "Tests for item retrieval using `d[key]` notation::\n",
    "\n",
    "    >>> d['A']\n",
    "    'letter A'\n",
    "    >>> d['b']\n",
    "    'letter B'\n",
    "    >>> d[2]\n",
    "    'digit two'\n",
    "\n",
    "\n",
    "Tests for missing key::\n",
    "\n",
    "    >>> d['z']\n",
    "    Traceback (most recent call last):\n",
    "      ...\n",
    "    KeyError: 'Z'\n",
    "    >>> d[99]\n",
    "    Traceback (most recent call last):\n",
    "      ...\n",
    "    KeyError: 99\n",
    "\n",
    "\n",
    "Tests for item retrieval using `d.get(key)` notation::\n",
    "\n",
    "    >>> d.get('a')\n",
    "    'letter A'\n",
    "    >>> d.get('B')\n",
    "    'letter B'\n",
    "    >>> d.get(2)\n",
    "    'digit two'\n",
    "    >>> d.get('z', '(not found)')\n",
    "    '(not found)'\n",
    "\n",
    "Tests for the `in` operator::\n",
    "\n",
    "    >>> ('a' in d, 'B' in d, 'z' in d)\n",
    "    (True, True, False)\n",
    "\n",
    "Test for item assignment using lowercase key::\n",
    "\n",
    "    >>> d['c'] = 'letter C'\n",
    "    >>> d['C']\n",
    "    'letter C'\n",
    "\n",
    "Tests for update using a `dict` or a sequence of pairs::\n",
    "\n",
    "    >>> d.update({'D': 'letter D', 'e': 'letter E'})\n",
    "    >>> list(d.keys())\n",
    "    ['A', 'B', 2, 'C', 'D', 'E']\n",
    "    >>> d.update([('f', 'letter F'), ('G', 'letter G')])\n",
    "    >>> list(d.keys())\n",
    "    ['A', 'B', 2, 'C', 'D', 'E', 'F', 'G']\n",
    "    >>> d  # doctest:+NORMALIZE_WHITESPACE\n",
    "    {'A': 'letter A', 'B': 'letter B', 2: 'digit two',\n",
    "    'C': 'letter C', 'D': 'letter D', 'E': 'letter E',\n",
    "    'F': 'letter F', 'G': 'letter G'}\n",
    "\n",
    "UpperCounter uppercases all `str` keys.\n",
    "\n",
    "Test for initializer: keys are uppercased.\n",
    "\n",
    "    >>> d = UpperCounter('AbracAdaBrA')\n",
    "    >>> sorted(d.keys())\n",
    "    ['A', 'B', 'C', 'D', 'R']\n",
    "\n",
    "Tests for count retrieval using `d[key]` notation::\n",
    "\n",
    "    >>> d['a']\n",
    "    5\n",
    "    >>> d['z']\n",
    "    0\n",
    "\n",
    "\"\"\"\n",
    "# tag::UPPERCASE_MIXIN[]\n",
    "import collections\n",
    "\n",
    "def _upper(key):  # <1>\n",
    "    try:\n",
    "        return key.upper()\n",
    "    except AttributeError:\n",
    "        return key\n",
    "\n",
    "class UpperCaseMixin:  # <2>\n",
    "    def __setitem__(self, key, item):\n",
    "        super().__setitem__(_upper(key), item)\n",
    "\n",
    "    def __getitem__(self, key):\n",
    "        return super().__getitem__(_upper(key))\n",
    "\n",
    "    def get(self, key, default=None):\n",
    "        return super().get(_upper(key), default)\n",
    "\n",
    "    def __contains__(self, key):\n",
    "        return super().__contains__(_upper(key))\n",
    "# end::UPPERCASE_MIXIN[]\n",
    "\n",
    "# tag::UPPERDICT[]\n",
    "class UpperDict(UpperCaseMixin, collections.UserDict):  # <1>\n",
    "    pass\n",
    "\n",
    "class UpperCounter(UpperCaseMixin, collections.Counter):  # <2>\n",
    "    \"\"\"Specialized 'Counter' that uppercases string keys\"\"\"  # <3>\n",
    "# end::UPPERDICT[]\n"
   ]
  },
  {
   "cell_type": "code",
   "execution_count": 3,
   "id": "fca081a4",
   "metadata": {},
   "outputs": [
    {
     "data": {
      "text/plain": [
       "(__main__.UpperCaseMixin, object)"
      ]
     },
     "execution_count": 3,
     "metadata": {},
     "output_type": "execute_result"
    }
   ],
   "source": [
    "UpperCaseMixin.__mro__"
   ]
  },
  {
   "cell_type": "code",
   "execution_count": 4,
   "id": "7abc343a",
   "metadata": {},
   "outputs": [
    {
     "data": {
      "text/plain": [
       "['A', 2]"
      ]
     },
     "execution_count": 4,
     "metadata": {},
     "output_type": "execute_result"
    }
   ],
   "source": [
    "d = UpperDict([('a', 'letter A'), (2, 'digit two')])\n",
    "list(d.keys())"
   ]
  },
  {
   "cell_type": "code",
   "execution_count": 5,
   "id": "6b9ac481",
   "metadata": {},
   "outputs": [
    {
     "data": {
      "text/plain": [
       "{'A': 'letter A', 2: 'digit two'}"
      ]
     },
     "execution_count": 5,
     "metadata": {},
     "output_type": "execute_result"
    }
   ],
   "source": [
    "d"
   ]
  },
  {
   "cell_type": "code",
   "execution_count": 6,
   "id": "f56baec9",
   "metadata": {},
   "outputs": [
    {
     "data": {
      "text/plain": [
       "True"
      ]
     },
     "execution_count": 6,
     "metadata": {},
     "output_type": "execute_result"
    }
   ],
   "source": [
    "d['b'] = 'letter B'\n",
    "'b' in d"
   ]
  },
  {
   "cell_type": "code",
   "execution_count": 8,
   "id": "88278c13",
   "metadata": {},
   "outputs": [
    {
     "data": {
      "text/plain": [
       "{'A': 'letter A', 2: 'digit two', 'B': 'letter B'}"
      ]
     },
     "execution_count": 8,
     "metadata": {},
     "output_type": "execute_result"
    }
   ],
   "source": [
    "d"
   ]
  },
  {
   "cell_type": "code",
   "execution_count": 7,
   "id": "1cec5934",
   "metadata": {},
   "outputs": [
    {
     "data": {
      "text/plain": [
       "True"
      ]
     },
     "execution_count": 7,
     "metadata": {},
     "output_type": "execute_result"
    }
   ],
   "source": [
    "'B' in d"
   ]
  },
  {
   "cell_type": "code",
   "execution_count": 9,
   "id": "767a0f2a",
   "metadata": {},
   "outputs": [
    {
     "data": {
      "text/plain": [
       "('letter A', 'letter B')"
      ]
     },
     "execution_count": 9,
     "metadata": {},
     "output_type": "execute_result"
    }
   ],
   "source": [
    "d['a'], d.get('B')"
   ]
  },
  {
   "cell_type": "code",
   "execution_count": 10,
   "id": "d3e8ab79",
   "metadata": {},
   "outputs": [
    {
     "data": {
      "text/plain": [
       "['A', 2, 'B']"
      ]
     },
     "execution_count": 10,
     "metadata": {},
     "output_type": "execute_result"
    }
   ],
   "source": [
    "list(d.keys())"
   ]
  },
  {
   "cell_type": "code",
   "execution_count": 11,
   "id": "9d7aa980",
   "metadata": {},
   "outputs": [
    {
     "data": {
      "text/plain": [
       "[('A', 3), ('N', 2), ('B', 1)]"
      ]
     },
     "execution_count": 11,
     "metadata": {},
     "output_type": "execute_result"
    }
   ],
   "source": [
    "c = UpperCounter('BaNanA')\n",
    "c.most_common()"
   ]
  },
  {
   "cell_type": "code",
   "execution_count": 13,
   "id": "e27aa14f",
   "metadata": {},
   "outputs": [
    {
     "data": {
      "text/plain": [
       "{'A': 'letter A', 'B': 'letter B', 2: 'digit two'}"
      ]
     },
     "execution_count": 13,
     "metadata": {},
     "output_type": "execute_result"
    }
   ],
   "source": [
    "d = UpperDict([('a', 'letter A'), ('B', 'letter B'), (2, 'digit two')])\n",
    "d"
   ]
  },
  {
   "cell_type": "code",
   "execution_count": 14,
   "id": "97abb336",
   "metadata": {},
   "outputs": [
    {
     "data": {
      "text/plain": [
       "'letter A'"
      ]
     },
     "execution_count": 14,
     "metadata": {},
     "output_type": "execute_result"
    }
   ],
   "source": [
    "d['A']"
   ]
  },
  {
   "cell_type": "code",
   "execution_count": 15,
   "id": "0de3a565",
   "metadata": {},
   "outputs": [
    {
     "data": {
      "text/plain": [
       "'letter B'"
      ]
     },
     "execution_count": 15,
     "metadata": {},
     "output_type": "execute_result"
    }
   ],
   "source": [
    "d['b']"
   ]
  },
  {
   "cell_type": "code",
   "execution_count": 16,
   "id": "ca5d4e66",
   "metadata": {},
   "outputs": [
    {
     "data": {
      "text/plain": [
       "'digit two'"
      ]
     },
     "execution_count": 16,
     "metadata": {},
     "output_type": "execute_result"
    }
   ],
   "source": [
    "d[2]"
   ]
  },
  {
   "cell_type": "code",
   "execution_count": 17,
   "id": "76bea944",
   "metadata": {},
   "outputs": [
    {
     "data": {
      "text/plain": [
       "'letter A'"
      ]
     },
     "execution_count": 17,
     "metadata": {},
     "output_type": "execute_result"
    }
   ],
   "source": [
    "d.get('a')"
   ]
  },
  {
   "cell_type": "code",
   "execution_count": 18,
   "id": "572127a1",
   "metadata": {},
   "outputs": [
    {
     "data": {
      "text/plain": [
       "'letter B'"
      ]
     },
     "execution_count": 18,
     "metadata": {},
     "output_type": "execute_result"
    }
   ],
   "source": [
    "d.get('B')"
   ]
  },
  {
   "cell_type": "code",
   "execution_count": 19,
   "id": "480d8139",
   "metadata": {},
   "outputs": [
    {
     "data": {
      "text/plain": [
       "'digit two'"
      ]
     },
     "execution_count": 19,
     "metadata": {},
     "output_type": "execute_result"
    }
   ],
   "source": [
    "d.get(2)"
   ]
  },
  {
   "cell_type": "code",
   "execution_count": 20,
   "id": "2053415c",
   "metadata": {},
   "outputs": [
    {
     "data": {
      "text/plain": [
       "'(not found)'"
      ]
     },
     "execution_count": 20,
     "metadata": {},
     "output_type": "execute_result"
    }
   ],
   "source": [
    "d.get('z', '(not found)')"
   ]
  },
  {
   "cell_type": "code",
   "execution_count": 21,
   "id": "11b0393b",
   "metadata": {},
   "outputs": [
    {
     "data": {
      "text/plain": [
       "(True, True, False)"
      ]
     },
     "execution_count": 21,
     "metadata": {},
     "output_type": "execute_result"
    }
   ],
   "source": [
    "('a' in d, 'B' in d, 'z' in d)"
   ]
  },
  {
   "cell_type": "code",
   "execution_count": 22,
   "id": "56c591d5",
   "metadata": {},
   "outputs": [
    {
     "data": {
      "text/plain": [
       "'letter C'"
      ]
     },
     "execution_count": 22,
     "metadata": {},
     "output_type": "execute_result"
    }
   ],
   "source": [
    "d['c'] = 'letter C'\n",
    "d['C']"
   ]
  },
  {
   "cell_type": "code",
   "execution_count": 23,
   "id": "ffa2cfa6",
   "metadata": {},
   "outputs": [
    {
     "data": {
      "text/plain": [
       "['A', 'B', 2, 'C', 'D', 'E']"
      ]
     },
     "execution_count": 23,
     "metadata": {},
     "output_type": "execute_result"
    }
   ],
   "source": [
    "d.update({'D': 'letter D', 'e': 'letter E'})\n",
    "list(d.keys())"
   ]
  },
  {
   "cell_type": "code",
   "execution_count": 24,
   "id": "bf46d62b",
   "metadata": {},
   "outputs": [
    {
     "data": {
      "text/plain": [
       "['A', 'B', 2, 'C', 'D', 'E', 'F', 'G']"
      ]
     },
     "execution_count": 24,
     "metadata": {},
     "output_type": "execute_result"
    }
   ],
   "source": [
    "d.update([('f', 'letter F'), ('G', 'letter G')])\n",
    "list(d.keys())"
   ]
  },
  {
   "cell_type": "code",
   "execution_count": 25,
   "id": "96d2db87",
   "metadata": {},
   "outputs": [
    {
     "data": {
      "text/plain": [
       "['A', 'B', 'C', 'D', 'R']"
      ]
     },
     "execution_count": 25,
     "metadata": {},
     "output_type": "execute_result"
    }
   ],
   "source": [
    "d = UpperCounter('AbracAdaBrA')\n",
    "sorted(d.keys())"
   ]
  },
  {
   "cell_type": "code",
   "execution_count": 26,
   "id": "14bb68b9",
   "metadata": {},
   "outputs": [
    {
     "data": {
      "text/plain": [
       "UpperCounter({'A': 5, 'B': 2, 'R': 2, 'C': 1, 'D': 1})"
      ]
     },
     "execution_count": 26,
     "metadata": {},
     "output_type": "execute_result"
    }
   ],
   "source": [
    "d"
   ]
  },
  {
   "cell_type": "code",
   "execution_count": 27,
   "id": "4efe35af",
   "metadata": {},
   "outputs": [
    {
     "data": {
      "text/plain": [
       "5"
      ]
     },
     "execution_count": 27,
     "metadata": {},
     "output_type": "execute_result"
    }
   ],
   "source": [
    "d['a']"
   ]
  },
  {
   "cell_type": "code",
   "execution_count": 28,
   "id": "d40aacf4",
   "metadata": {},
   "outputs": [
    {
     "data": {
      "text/plain": [
       "0"
      ]
     },
     "execution_count": 28,
     "metadata": {},
     "output_type": "execute_result"
    }
   ],
   "source": [
    "d['z']"
   ]
  }
 ],
 "metadata": {
  "kernelspec": {
   "display_name": "Python 3 (ipykernel)",
   "language": "python",
   "name": "python3"
  },
  "language_info": {
   "codemirror_mode": {
    "name": "ipython",
    "version": 3
   },
   "file_extension": ".py",
   "mimetype": "text/x-python",
   "name": "python",
   "nbconvert_exporter": "python",
   "pygments_lexer": "ipython3",
   "version": "3.8.13"
  }
 },
 "nbformat": 4,
 "nbformat_minor": 5
}
