{
 "cells": [
  {
   "cell_type": "code",
   "execution_count": 1,
   "id": "5b664b15",
   "metadata": {},
   "outputs": [
    {
     "data": {
      "text/plain": [
       "['D:\\\\books\\\\python\\\\0.   Fluent Python, 2nd Edition',\n",
       " 'D:/books/python/0.   Fluent Python, 2nd Edition/example-code-2e/16-op-overloading/',\n",
       " 'C:\\\\Users\\\\lidan\\\\miniconda3\\\\python38.zip',\n",
       " 'C:\\\\Users\\\\lidan\\\\miniconda3\\\\DLLs',\n",
       " 'C:\\\\Users\\\\lidan\\\\miniconda3\\\\lib',\n",
       " 'C:\\\\Users\\\\lidan\\\\miniconda3',\n",
       " '',\n",
       " 'C:\\\\Users\\\\lidan\\\\AppData\\\\Roaming\\\\Python\\\\Python38\\\\site-packages',\n",
       " 'C:\\\\Users\\\\lidan\\\\miniconda3\\\\lib\\\\site-packages',\n",
       " 'C:\\\\Users\\\\lidan\\\\miniconda3\\\\lib\\\\site-packages\\\\magic_impute-2.0.4-py3.8.egg',\n",
       " 'C:\\\\Users\\\\lidan\\\\miniconda3\\\\lib\\\\site-packages\\\\seqc-0.2.0-py3.8.egg',\n",
       " 'C:\\\\Users\\\\lidan\\\\miniconda3\\\\lib\\\\site-packages\\\\weasyprint-56.1-py3.8.egg',\n",
       " 'C:\\\\Users\\\\lidan\\\\miniconda3\\\\lib\\\\site-packages\\\\cairocffi-1.3.0-py3.8.egg',\n",
       " 'C:\\\\Users\\\\lidan\\\\miniconda3\\\\lib\\\\site-packages\\\\win32',\n",
       " 'C:\\\\Users\\\\lidan\\\\miniconda3\\\\lib\\\\site-packages\\\\win32\\\\lib',\n",
       " 'C:\\\\Users\\\\lidan\\\\miniconda3\\\\lib\\\\site-packages\\\\Pythonwin']"
      ]
     },
     "execution_count": 1,
     "metadata": {},
     "output_type": "execute_result"
    }
   ],
   "source": [
    "import sys\n",
    "    # caution: path[0] is reserved for script path (or '' in REPL)\n",
    "sys.path.insert(1, 'D:/books/python/0.   Fluent Python, 2nd Edition/example-code-2e/16-op-overloading/')\n",
    "sys.path"
   ]
  },
  {
   "cell_type": "code",
   "execution_count": 2,
   "id": "5088d660",
   "metadata": {},
   "outputs": [],
   "source": [
    "\"\"\"\n",
    "A two-dimensional vector class\n",
    "\n",
    "    >>> v1 = Vector2d(3, 4)\n",
    "    >>> print(v1.x, v1.y)\n",
    "    3.0 4.0\n",
    "    >>> x, y = v1\n",
    "    >>> x, y\n",
    "    (3.0, 4.0)\n",
    "    >>> v1\n",
    "    Vector2d(3.0, 4.0)\n",
    "    >>> v1_clone = eval(repr(v1))\n",
    "    >>> v1 == v1_clone\n",
    "    True\n",
    "    >>> print(v1)\n",
    "    (3.0, 4.0)\n",
    "    >>> octets = bytes(v1)\n",
    "    >>> octets\n",
    "    b'd\\\\x00\\\\x00\\\\x00\\\\x00\\\\x00\\\\x00\\\\x08@\\\\x00\\\\x00\\\\x00\\\\x00\\\\x00\\\\x00\\\\x10@'\n",
    "    >>> abs(v1)\n",
    "    5.0\n",
    "    >>> bool(v1), bool(Vector2d(0, 0))\n",
    "    (True, False)\n",
    "\n",
    "\n",
    "Test of ``.frombytes()`` class method:\n",
    "\n",
    "    >>> v1_clone = Vector2d.frombytes(bytes(v1))\n",
    "    >>> v1_clone\n",
    "    Vector2d(3.0, 4.0)\n",
    "    >>> v1 == v1_clone\n",
    "    True\n",
    "\n",
    "\n",
    "Tests of ``format()`` with Cartesian coordinates:\n",
    "\n",
    "    >>> format(v1)\n",
    "    '(3.0, 4.0)'\n",
    "    >>> format(v1, '.2f')\n",
    "    '(3.00, 4.00)'\n",
    "    >>> format(v1, '.3e')\n",
    "    '(3.000e+00, 4.000e+00)'\n",
    "\n",
    "\n",
    "Tests of the ``angle`` method::\n",
    "\n",
    "    >>> Vector2d(0, 0).angle()\n",
    "    0.0\n",
    "    >>> Vector2d(1, 0).angle()\n",
    "    0.0\n",
    "    >>> epsilon = 10**-8\n",
    "    >>> abs(Vector2d(0, 1).angle() - math.pi/2) < epsilon\n",
    "    True\n",
    "    >>> abs(Vector2d(1, 1).angle() - math.pi/4) < epsilon\n",
    "    True\n",
    "\n",
    "\n",
    "Tests of ``format()`` with polar coordinates:\n",
    "\n",
    "    >>> format(Vector2d(1, 1), 'p')  # doctest:+ELLIPSIS\n",
    "    '<1.414213..., 0.785398...>'\n",
    "    >>> format(Vector2d(1, 1), '.3ep')\n",
    "    '<1.414e+00, 7.854e-01>'\n",
    "    >>> format(Vector2d(1, 1), '0.5fp')\n",
    "    '<1.41421, 0.78540>'\n",
    "\n",
    "\n",
    "Tests of `x` and `y` read-only properties:\n",
    "\n",
    "    >>> v1.x, v1.y\n",
    "    (3.0, 4.0)\n",
    "    >>> v1.x = 123\n",
    "    Traceback (most recent call last):\n",
    "      ...\n",
    "    AttributeError: can't set attribute 'x'\n",
    "\n",
    "\n",
    "Tests of hashing:\n",
    "\n",
    "    >>> v1 = Vector2d(3, 4)\n",
    "    >>> v2 = Vector2d(3.1, 4.2)\n",
    "    >>> hash(v1), hash(v2)\n",
    "    (7, 384307168202284039)\n",
    "    >>> len({v1, v2})\n",
    "    2\n",
    "\n",
    "\"\"\"\n",
    "\n",
    "from array import array\n",
    "import math\n",
    "\n",
    "class Vector2d:\n",
    "    __match_args__ = ('x', 'y')\n",
    "\n",
    "    typecode = 'd'\n",
    "\n",
    "    def __init__(self, x, y):\n",
    "        self.__x = float(x)\n",
    "        self.__y = float(y)\n",
    "\n",
    "    @property\n",
    "    def x(self):\n",
    "        return self.__x\n",
    "\n",
    "    @property\n",
    "    def y(self):\n",
    "        return self.__y\n",
    "\n",
    "    def __iter__(self):\n",
    "        return (i for i in (self.x, self.y))\n",
    "\n",
    "    def __repr__(self):\n",
    "        class_name = type(self).__name__\n",
    "        return '{}({!r}, {!r})'.format(class_name, *self)\n",
    "\n",
    "    def __str__(self):\n",
    "        return str(tuple(self))\n",
    "\n",
    "    def __bytes__(self):\n",
    "        return (bytes([ord(self.typecode)]) +\n",
    "                bytes(array(self.typecode, self)))\n",
    "\n",
    "    def __eq__(self, other):\n",
    "        return tuple(self) == tuple(other)\n",
    "\n",
    "    def __hash__(self):\n",
    "        return hash(self.x) ^ hash(self.y)\n",
    "\n",
    "    def __abs__(self):\n",
    "        return math.hypot(self.x, self.y)\n",
    "\n",
    "    def __bool__(self):\n",
    "        return bool(abs(self))\n",
    "\n",
    "    def angle(self):\n",
    "        return math.atan2(self.y, self.x)\n",
    "\n",
    "    def __format__(self, fmt_spec=''):\n",
    "        if fmt_spec.endswith('p'):\n",
    "            fmt_spec = fmt_spec[:-1]\n",
    "            coords = (abs(self), self.angle())\n",
    "            outer_fmt = '<{}, {}>'\n",
    "        else:\n",
    "            coords = self\n",
    "            outer_fmt = '({}, {})'\n",
    "        components = (format(c, fmt_spec) for c in coords)\n",
    "        return outer_fmt.format(*components)\n",
    "\n",
    "    @classmethod\n",
    "    def frombytes(cls, octets):\n",
    "        typecode = chr(octets[0])\n",
    "        memv = memoryview(octets[1:]).cast(typecode)\n",
    "        return cls(*memv)\n"
   ]
  },
  {
   "cell_type": "code",
   "execution_count": 3,
   "id": "6548d254",
   "metadata": {},
   "outputs": [
    {
     "name": "stdout",
     "output_type": "stream",
     "text": [
      "3.0 4.0\n"
     ]
    }
   ],
   "source": [
    "v1 = Vector2d(3, 4)\n",
    "print(v1.x, v1.y)"
   ]
  },
  {
   "cell_type": "code",
   "execution_count": 4,
   "id": "fe981e2c",
   "metadata": {},
   "outputs": [
    {
     "data": {
      "text/plain": [
       "(3.0, 4.0)"
      ]
     },
     "execution_count": 4,
     "metadata": {},
     "output_type": "execute_result"
    }
   ],
   "source": [
    "x, y = v1\n",
    "x, y"
   ]
  },
  {
   "cell_type": "code",
   "execution_count": 5,
   "id": "f78b5b32",
   "metadata": {},
   "outputs": [
    {
     "data": {
      "text/plain": [
       "Vector2d(3.0, 4.0)"
      ]
     },
     "execution_count": 5,
     "metadata": {},
     "output_type": "execute_result"
    }
   ],
   "source": [
    "v1"
   ]
  },
  {
   "cell_type": "code",
   "execution_count": 8,
   "id": "956a6364",
   "metadata": {},
   "outputs": [
    {
     "data": {
      "text/plain": [
       "'Vector2d(3.0, 4.0)'"
      ]
     },
     "execution_count": 8,
     "metadata": {},
     "output_type": "execute_result"
    }
   ],
   "source": [
    "repr(v1)"
   ]
  },
  {
   "cell_type": "code",
   "execution_count": 9,
   "id": "85a8631b",
   "metadata": {},
   "outputs": [
    {
     "name": "stdout",
     "output_type": "stream",
     "text": [
      "Help on built-in function eval in module builtins:\n",
      "\n",
      "eval(source, globals=None, locals=None, /)\n",
      "    Evaluate the given source in the context of globals and locals.\n",
      "    \n",
      "    The source may be a string representing a Python expression\n",
      "    or a code object as returned by compile().\n",
      "    The globals must be a dictionary and locals can be any mapping,\n",
      "    defaulting to the current globals and locals.\n",
      "    If only globals is given, locals defaults to it.\n",
      "\n"
     ]
    }
   ],
   "source": [
    "help(eval)"
   ]
  },
  {
   "cell_type": "code",
   "execution_count": 12,
   "id": "99257df2",
   "metadata": {},
   "outputs": [
    {
     "name": "stdout",
     "output_type": "stream",
     "text": [
      "Help on built-in function repr in module builtins:\n",
      "\n",
      "repr(obj, /)\n",
      "    Return the canonical string representation of the object.\n",
      "    \n",
      "    For many object types, including most builtins, eval(repr(obj)) == obj.\n",
      "\n"
     ]
    }
   ],
   "source": [
    "help(repr)"
   ]
  },
  {
   "cell_type": "code",
   "execution_count": 11,
   "id": "9d08c8ec",
   "metadata": {},
   "outputs": [
    {
     "data": {
      "text/plain": [
       "Vector2d(3.0, 4.0)"
      ]
     },
     "execution_count": 11,
     "metadata": {},
     "output_type": "execute_result"
    }
   ],
   "source": [
    "eval('v1')"
   ]
  },
  {
   "cell_type": "code",
   "execution_count": 7,
   "id": "ceb69481",
   "metadata": {},
   "outputs": [
    {
     "data": {
      "text/plain": [
       "Vector2d(3.0, 4.0)"
      ]
     },
     "execution_count": 7,
     "metadata": {},
     "output_type": "execute_result"
    }
   ],
   "source": [
    "eval(repr(v1))"
   ]
  },
  {
   "cell_type": "code",
   "execution_count": 6,
   "id": "d68ee95e",
   "metadata": {},
   "outputs": [
    {
     "data": {
      "text/plain": [
       "True"
      ]
     },
     "execution_count": 6,
     "metadata": {},
     "output_type": "execute_result"
    }
   ],
   "source": [
    "v1_clone = eval(repr(v1))\n",
    "v1 == v1_clone"
   ]
  },
  {
   "cell_type": "code",
   "execution_count": 13,
   "id": "8a6b16d6",
   "metadata": {},
   "outputs": [
    {
     "name": "stdout",
     "output_type": "stream",
     "text": [
      "(3.0, 4.0)\n"
     ]
    }
   ],
   "source": [
    "print(v1)"
   ]
  },
  {
   "cell_type": "code",
   "execution_count": 14,
   "id": "b07b4899",
   "metadata": {},
   "outputs": [
    {
     "data": {
      "text/plain": [
       "b'd\\x00\\x00\\x00\\x00\\x00\\x00\\x08@\\x00\\x00\\x00\\x00\\x00\\x00\\x10@'"
      ]
     },
     "execution_count": 14,
     "metadata": {},
     "output_type": "execute_result"
    }
   ],
   "source": [
    "octets = bytes(v1)\n",
    "octets"
   ]
  },
  {
   "cell_type": "code",
   "execution_count": 15,
   "id": "c7a742b4",
   "metadata": {},
   "outputs": [
    {
     "data": {
      "text/plain": [
       "5.0"
      ]
     },
     "execution_count": 15,
     "metadata": {},
     "output_type": "execute_result"
    }
   ],
   "source": [
    "abs(v1)"
   ]
  },
  {
   "cell_type": "code",
   "execution_count": 16,
   "id": "daec9a20",
   "metadata": {},
   "outputs": [
    {
     "data": {
      "text/plain": [
       "Vector2d(3.0, 4.0)"
      ]
     },
     "execution_count": 16,
     "metadata": {},
     "output_type": "execute_result"
    }
   ],
   "source": [
    "Vector2d.frombytes(bytes(v1))"
   ]
  },
  {
   "cell_type": "code",
   "execution_count": 17,
   "id": "21ed83cd",
   "metadata": {},
   "outputs": [
    {
     "data": {
      "text/plain": [
       "'(3.0, 4.0)'"
      ]
     },
     "execution_count": 17,
     "metadata": {},
     "output_type": "execute_result"
    }
   ],
   "source": [
    "format(v1)"
   ]
  },
  {
   "cell_type": "code",
   "execution_count": 18,
   "id": "70917701",
   "metadata": {},
   "outputs": [
    {
     "data": {
      "text/plain": [
       "'(3.00, 4.00)'"
      ]
     },
     "execution_count": 18,
     "metadata": {},
     "output_type": "execute_result"
    }
   ],
   "source": [
    "format(v1, '.2f')"
   ]
  },
  {
   "cell_type": "code",
   "execution_count": 19,
   "id": "e2a1688c",
   "metadata": {},
   "outputs": [
    {
     "data": {
      "text/plain": [
       "'(3.000e+00, 4.000e+00)'"
      ]
     },
     "execution_count": 19,
     "metadata": {},
     "output_type": "execute_result"
    }
   ],
   "source": [
    "format(v1, '.3e')"
   ]
  },
  {
   "cell_type": "code",
   "execution_count": 20,
   "id": "b5aa29ce",
   "metadata": {},
   "outputs": [
    {
     "data": {
      "text/plain": [
       "0.0"
      ]
     },
     "execution_count": 20,
     "metadata": {},
     "output_type": "execute_result"
    }
   ],
   "source": [
    "Vector2d(0, 0).angle()"
   ]
  },
  {
   "cell_type": "code",
   "execution_count": 21,
   "id": "d9e32248",
   "metadata": {},
   "outputs": [
    {
     "data": {
      "text/plain": [
       "'<1.4142135623730951, 0.7853981633974483>'"
      ]
     },
     "execution_count": 21,
     "metadata": {},
     "output_type": "execute_result"
    }
   ],
   "source": [
    "format(Vector2d(1, 1), 'p')  # doctest:+ELLIPSIS"
   ]
  },
  {
   "cell_type": "code",
   "execution_count": 22,
   "id": "d876d50f",
   "metadata": {},
   "outputs": [
    {
     "data": {
      "text/plain": [
       "'<1.414e+00, 7.854e-01>'"
      ]
     },
     "execution_count": 22,
     "metadata": {},
     "output_type": "execute_result"
    }
   ],
   "source": [
    "format(Vector2d(1, 1), '.3ep')"
   ]
  },
  {
   "cell_type": "code",
   "execution_count": 26,
   "id": "e9130db0",
   "metadata": {},
   "outputs": [
    {
     "data": {
      "text/plain": [
       "7"
      ]
     },
     "execution_count": 26,
     "metadata": {},
     "output_type": "execute_result"
    }
   ],
   "source": [
    "v1 = Vector2d(3, 4)\n",
    "v2 = Vector2d(3.1, 4.2) \n",
    "hash(v1)"
   ]
  },
  {
   "cell_type": "code",
   "execution_count": 27,
   "id": "1e59c37f",
   "metadata": {},
   "outputs": [
    {
     "data": {
      "text/plain": [
       "384307168202284039"
      ]
     },
     "execution_count": 27,
     "metadata": {},
     "output_type": "execute_result"
    }
   ],
   "source": [
    "hash(v2)"
   ]
  },
  {
   "cell_type": "code",
   "execution_count": 28,
   "id": "3750d87b",
   "metadata": {},
   "outputs": [
    {
     "data": {
      "text/plain": [
       "2"
      ]
     },
     "execution_count": 28,
     "metadata": {},
     "output_type": "execute_result"
    }
   ],
   "source": [
    "len({v1, v2})"
   ]
  },
  {
   "cell_type": "code",
   "execution_count": 29,
   "id": "ca57e7b5",
   "metadata": {},
   "outputs": [
    {
     "name": "stdout",
     "output_type": "stream",
     "text": [
      "(3.0, 4.0)\n"
     ]
    }
   ],
   "source": [
    "print(v1)"
   ]
  },
  {
   "cell_type": "code",
   "execution_count": 30,
   "id": "ad913e80",
   "metadata": {},
   "outputs": [
    {
     "data": {
      "text/plain": [
       "'(3.0, 4.0)'"
      ]
     },
     "execution_count": 30,
     "metadata": {},
     "output_type": "execute_result"
    }
   ],
   "source": [
    "str(tuple(v1))"
   ]
  },
  {
   "cell_type": "code",
   "execution_count": 32,
   "id": "b6339fe6",
   "metadata": {},
   "outputs": [
    {
     "data": {
      "text/plain": [
       "'d'"
      ]
     },
     "execution_count": 32,
     "metadata": {},
     "output_type": "execute_result"
    }
   ],
   "source": [
    "v1.typecode"
   ]
  },
  {
   "cell_type": "code",
   "execution_count": 33,
   "id": "89d71c0e",
   "metadata": {},
   "outputs": [
    {
     "name": "stdout",
     "output_type": "stream",
     "text": [
      "Help on built-in function ord in module builtins:\n",
      "\n",
      "ord(c, /)\n",
      "    Return the Unicode code point for a one-character string.\n",
      "\n"
     ]
    }
   ],
   "source": [
    "help(ord)"
   ]
  },
  {
   "cell_type": "code",
   "execution_count": 31,
   "id": "15185ba0",
   "metadata": {},
   "outputs": [
    {
     "data": {
      "text/plain": [
       "100"
      ]
     },
     "execution_count": 31,
     "metadata": {},
     "output_type": "execute_result"
    }
   ],
   "source": [
    "ord(v1.typecode)"
   ]
  },
  {
   "cell_type": "code",
   "execution_count": 36,
   "id": "371597a1",
   "metadata": {},
   "outputs": [
    {
     "data": {
      "text/plain": [
       "b'd\\x00\\x00\\x00\\x00\\x00\\x00\\x08@\\x00\\x00\\x00\\x00\\x00\\x00\\x10@'"
      ]
     },
     "execution_count": 36,
     "metadata": {},
     "output_type": "execute_result"
    }
   ],
   "source": [
    "bytes(v1)"
   ]
  },
  {
   "cell_type": "code",
   "execution_count": 37,
   "id": "f26f4774",
   "metadata": {},
   "outputs": [
    {
     "data": {
      "text/plain": [
       "17"
      ]
     },
     "execution_count": 37,
     "metadata": {},
     "output_type": "execute_result"
    }
   ],
   "source": [
    "len(bytes(v1))"
   ]
  },
  {
   "cell_type": "code",
   "execution_count": 43,
   "id": "98daeb87",
   "metadata": {},
   "outputs": [
    {
     "data": {
      "text/plain": [
       "[100, 0, 0, 0, 0, 0, 0, 8, 64, 0, 0, 0, 0, 0, 0, 16, 64]"
      ]
     },
     "execution_count": 43,
     "metadata": {},
     "output_type": "execute_result"
    }
   ],
   "source": [
    "[byte for byte in bytes(v1)]"
   ]
  },
  {
   "cell_type": "code",
   "execution_count": 42,
   "id": "088743a2",
   "metadata": {},
   "outputs": [
    {
     "name": "stdout",
     "output_type": "stream",
     "text": [
      "100\n"
     ]
    }
   ],
   "source": [
    "print(bytes(v1)[0])"
   ]
  },
  {
   "cell_type": "code",
   "execution_count": 34,
   "id": "e90aa46e",
   "metadata": {},
   "outputs": [
    {
     "data": {
      "text/plain": [
       "100"
      ]
     },
     "execution_count": 34,
     "metadata": {},
     "output_type": "execute_result"
    }
   ],
   "source": [
    "bytes(v1)[0]"
   ]
  },
  {
   "cell_type": "code",
   "execution_count": 35,
   "id": "0810c58f",
   "metadata": {},
   "outputs": [
    {
     "data": {
      "text/plain": [
       "0"
      ]
     },
     "execution_count": 35,
     "metadata": {},
     "output_type": "execute_result"
    }
   ],
   "source": [
    "bytes(v1)[1]"
   ]
  },
  {
   "cell_type": "code",
   "execution_count": 44,
   "id": "21564572",
   "metadata": {},
   "outputs": [
    {
     "ename": "TypeError",
     "evalue": "'Vector2d' object is not subscriptable",
     "output_type": "error",
     "traceback": [
      "\u001b[1;31m---------------------------------------------------------------------------\u001b[0m",
      "\u001b[1;31mTypeError\u001b[0m                                 Traceback (most recent call last)",
      "Input \u001b[1;32mIn [44]\u001b[0m, in \u001b[0;36m<cell line: 1>\u001b[1;34m()\u001b[0m\n\u001b[1;32m----> 1\u001b[0m \u001b[43mv1\u001b[49m\u001b[43m[\u001b[49m\u001b[38;5;241;43m0\u001b[39;49m\u001b[43m]\u001b[49m\n",
      "\u001b[1;31mTypeError\u001b[0m: 'Vector2d' object is not subscriptable"
     ]
    }
   ],
   "source": [
    "v1[0]"
   ]
  },
  {
   "cell_type": "code",
   "execution_count": 45,
   "id": "8aa4e84a",
   "metadata": {},
   "outputs": [],
   "source": [
    "\"\"\"\n",
    "A multi-dimensional ``Vector`` class, take 6: operator ``+``\n",
    "\n",
    "A ``Vector`` is built from an iterable of numbers::\n",
    "\n",
    "    >>> Vector([3.1, 4.2])\n",
    "    Vector([3.1, 4.2])\n",
    "    >>> Vector((3, 4, 5))\n",
    "    Vector([3.0, 4.0, 5.0])\n",
    "    >>> Vector(range(10))\n",
    "    Vector([0.0, 1.0, 2.0, 3.0, 4.0, ...])\n",
    "\n",
    "\n",
    "Tests with 2-dimensions (same results as ``vector2d_v1.py``)::\n",
    "\n",
    "    >>> v1 = Vector([3, 4])\n",
    "    >>> x, y = v1\n",
    "    >>> x, y\n",
    "    (3.0, 4.0)\n",
    "    >>> v1\n",
    "    Vector([3.0, 4.0])\n",
    "    >>> v1_clone = eval(repr(v1))\n",
    "    >>> v1 == v1_clone\n",
    "    True\n",
    "    >>> print(v1)\n",
    "    (3.0, 4.0)\n",
    "    >>> octets = bytes(v1)\n",
    "    >>> octets\n",
    "    b'd\\\\x00\\\\x00\\\\x00\\\\x00\\\\x00\\\\x00\\\\x08@\\\\x00\\\\x00\\\\x00\\\\x00\\\\x00\\\\x00\\\\x10@'\n",
    "    >>> abs(v1)\n",
    "    5.0\n",
    "    >>> bool(v1), bool(Vector([0, 0]))\n",
    "    (True, False)\n",
    "\n",
    "\n",
    "Test of ``.frombytes()`` class method:\n",
    "\n",
    "    >>> v1_clone = Vector.frombytes(bytes(v1))\n",
    "    >>> v1_clone\n",
    "    Vector([3.0, 4.0])\n",
    "    >>> v1 == v1_clone\n",
    "    True\n",
    "\n",
    "\n",
    "Tests with 3-dimensions::\n",
    "\n",
    "    >>> v1 = Vector([3, 4, 5])\n",
    "    >>> x, y, z = v1\n",
    "    >>> x, y, z\n",
    "    (3.0, 4.0, 5.0)\n",
    "    >>> v1\n",
    "    Vector([3.0, 4.0, 5.0])\n",
    "    >>> v1_clone = eval(repr(v1))\n",
    "    >>> v1 == v1_clone\n",
    "    True\n",
    "    >>> print(v1)\n",
    "    (3.0, 4.0, 5.0)\n",
    "    >>> abs(v1)  # doctest:+ELLIPSIS\n",
    "    7.071067811...\n",
    "    >>> bool(v1), bool(Vector([0, 0, 0]))\n",
    "    (True, False)\n",
    "\n",
    "\n",
    "Tests with many dimensions::\n",
    "\n",
    "    >>> v7 = Vector(range(7))\n",
    "    >>> v7\n",
    "    Vector([0.0, 1.0, 2.0, 3.0, 4.0, ...])\n",
    "    >>> abs(v7)  # doctest:+ELLIPSIS\n",
    "    9.53939201...\n",
    "\n",
    "\n",
    "Test of ``.__bytes__`` and ``.frombytes()`` methods::\n",
    "\n",
    "    >>> v1 = Vector([3, 4, 5])\n",
    "    >>> v1_clone = Vector.frombytes(bytes(v1))\n",
    "    >>> v1_clone\n",
    "    Vector([3.0, 4.0, 5.0])\n",
    "    >>> v1 == v1_clone\n",
    "    True\n",
    "\n",
    "\n",
    "Tests of sequence behavior::\n",
    "\n",
    "    >>> v1 = Vector([3, 4, 5])\n",
    "    >>> len(v1)\n",
    "    3\n",
    "    >>> v1[0], v1[len(v1)-1], v1[-1]\n",
    "    (3.0, 5.0, 5.0)\n",
    "\n",
    "\n",
    "Test of slicing::\n",
    "\n",
    "    >>> v7 = Vector(range(7))\n",
    "    >>> v7[-1]\n",
    "    6.0\n",
    "    >>> v7[1:4]\n",
    "    Vector([1.0, 2.0, 3.0])\n",
    "    >>> v7[-1:]\n",
    "    Vector([6.0])\n",
    "    >>> v7[1,2]\n",
    "    Traceback (most recent call last):\n",
    "      ...\n",
    "    TypeError: 'tuple' object cannot be interpreted as an integer\n",
    "\n",
    "\n",
    "Tests of dynamic attribute access::\n",
    "\n",
    "    >>> v7 = Vector(range(10))\n",
    "    >>> v7.x\n",
    "    0.0\n",
    "    >>> v7.y, v7.z, v7.t\n",
    "    (1.0, 2.0, 3.0)\n",
    "\n",
    "Dynamic attribute lookup failures::\n",
    "\n",
    "    >>> v7.k\n",
    "    Traceback (most recent call last):\n",
    "      ...\n",
    "    AttributeError: 'Vector' object has no attribute 'k'\n",
    "    >>> v3 = Vector(range(3))\n",
    "    >>> v3.t\n",
    "    Traceback (most recent call last):\n",
    "      ...\n",
    "    AttributeError: 'Vector' object has no attribute 't'\n",
    "    >>> v3.spam\n",
    "    Traceback (most recent call last):\n",
    "      ...\n",
    "    AttributeError: 'Vector' object has no attribute 'spam'\n",
    "\n",
    "\n",
    "Tests of hashing::\n",
    "\n",
    "    >>> v1 = Vector([3, 4])\n",
    "    >>> v2 = Vector([3.1, 4.2])\n",
    "    >>> v3 = Vector([3, 4, 5])\n",
    "    >>> v6 = Vector(range(6))\n",
    "    >>> hash(v1), hash(v3), hash(v6)\n",
    "    (7, 2, 1)\n",
    "\n",
    "\n",
    "Most hash codes of non-integers vary from a 32-bit to 64-bit Python build::\n",
    "\n",
    "    >>> import sys\n",
    "    >>> hash(v2) == (384307168202284039 if sys.maxsize > 2**32 else 357915986)\n",
    "    True\n",
    "\n",
    "\n",
    "Tests of ``format()`` with Cartesian coordinates in 2D::\n",
    "\n",
    "    >>> v1 = Vector([3, 4])\n",
    "    >>> format(v1)\n",
    "    '(3.0, 4.0)'\n",
    "    >>> format(v1, '.2f')\n",
    "    '(3.00, 4.00)'\n",
    "    >>> format(v1, '.3e')\n",
    "    '(3.000e+00, 4.000e+00)'\n",
    "\n",
    "\n",
    "Tests of ``format()`` with Cartesian coordinates in 3D and 7D::\n",
    "\n",
    "    >>> v3 = Vector([3, 4, 5])\n",
    "    >>> format(v3)\n",
    "    '(3.0, 4.0, 5.0)'\n",
    "    >>> format(Vector(range(7)))\n",
    "    '(0.0, 1.0, 2.0, 3.0, 4.0, 5.0, 6.0)'\n",
    "\n",
    "\n",
    "Tests of ``format()`` with spherical coordinates in 2D, 3D and 4D::\n",
    "\n",
    "    >>> format(Vector([1, 1]), 'h')  # doctest:+ELLIPSIS\n",
    "    '<1.414213..., 0.785398...>'\n",
    "    >>> format(Vector([1, 1]), '.3eh')\n",
    "    '<1.414e+00, 7.854e-01>'\n",
    "    >>> format(Vector([1, 1]), '0.5fh')\n",
    "    '<1.41421, 0.78540>'\n",
    "    >>> format(Vector([1, 1, 1]), 'h')  # doctest:+ELLIPSIS\n",
    "    '<1.73205..., 0.95531..., 0.78539...>'\n",
    "    >>> format(Vector([2, 2, 2]), '.3eh')\n",
    "    '<3.464e+00, 9.553e-01, 7.854e-01>'\n",
    "    >>> format(Vector([0, 0, 0]), '0.5fh')\n",
    "    '<0.00000, 0.00000, 0.00000>'\n",
    "    >>> format(Vector([-1, -1, -1, -1]), 'h')  # doctest:+ELLIPSIS\n",
    "    '<2.0, 2.09439..., 2.18627..., 3.92699...>'\n",
    "    >>> format(Vector([2, 2, 2, 2]), '.3eh')\n",
    "    '<4.000e+00, 1.047e+00, 9.553e-01, 7.854e-01>'\n",
    "    >>> format(Vector([0, 1, 0, 0]), '0.5fh')\n",
    "    '<1.00000, 1.57080, 0.00000, 0.00000>'\n",
    "\n",
    "\n",
    "Unary operator tests::\n",
    "\n",
    "    >>> v1 = Vector([3, 4])\n",
    "    >>> abs(v1)\n",
    "    5.0\n",
    "    >>> -v1\n",
    "    Vector([-3.0, -4.0])\n",
    "    >>> +v1\n",
    "    Vector([3.0, 4.0])\n",
    "\n",
    "\n",
    "Basic tests of operator ``+``::\n",
    "\n",
    "    >>> v1 = Vector([3, 4, 5])\n",
    "    >>> v2 = Vector([6, 7, 8])\n",
    "    >>> v1 + v2\n",
    "    Vector([9.0, 11.0, 13.0])\n",
    "    >>> v1 + v2 == Vector([3+6, 4+7, 5+8])\n",
    "    True\n",
    "    >>> v3 = Vector([1, 2])\n",
    "    >>> v1 + v3  # short vectors are filled with 0.0 on addition\n",
    "    Vector([4.0, 6.0, 5.0])\n",
    "\n",
    "\n",
    "Tests of ``+`` with mixed types::\n",
    "\n",
    "    >>> v1 + (10, 20, 30)\n",
    "    Vector([13.0, 24.0, 35.0])\n",
    "    >>> from vector2d_v3 import Vector2d\n",
    "    >>> v2d = Vector2d(1, 2)\n",
    "    >>> v1 + v2d\n",
    "    Vector([4.0, 6.0, 5.0])\n",
    "\n",
    "\n",
    "Tests of ``+`` with mixed types, swapped operands::\n",
    "\n",
    "    >>> (10, 20, 30) + v1\n",
    "    Vector([13.0, 24.0, 35.0])\n",
    "    >>> from vector2d_v3 import Vector2d\n",
    "    >>> v2d = Vector2d(1, 2)\n",
    "    >>> v2d + v1\n",
    "    Vector([4.0, 6.0, 5.0])\n",
    "\n",
    "\n",
    "Tests of ``+`` with an unsuitable operand:\n",
    "\n",
    "    >>> v1 + 1\n",
    "    Traceback (most recent call last):\n",
    "      ...\n",
    "    TypeError: unsupported operand type(s) for +: 'Vector' and 'int'\n",
    "    >>> v1 + 'ABC'\n",
    "    Traceback (most recent call last):\n",
    "      ...\n",
    "    TypeError: unsupported operand type(s) for +: 'Vector' and 'str'\n",
    "\"\"\"\n",
    "\n",
    "from array import array\n",
    "import reprlib\n",
    "import math\n",
    "import functools\n",
    "import operator\n",
    "import itertools\n",
    "\n",
    "\n",
    "class Vector:\n",
    "    typecode = 'd'\n",
    "\n",
    "    def __init__(self, components):\n",
    "        self._components = array(self.typecode, components)\n",
    "\n",
    "    def __iter__(self):\n",
    "        return iter(self._components)\n",
    "\n",
    "    def __repr__(self):\n",
    "        components = reprlib.repr(self._components)\n",
    "        components = components[components.find('['):-1]\n",
    "        return f'Vector({components})'\n",
    "\n",
    "    def __str__(self):\n",
    "        return str(tuple(self))\n",
    "\n",
    "    def __bytes__(self):\n",
    "        return (bytes([ord(self.typecode)]) +\n",
    "                bytes(self._components))\n",
    "\n",
    "    def __eq__(self, other):\n",
    "        return (len(self) == len(other) and\n",
    "                all(a == b for a, b in zip(self, other)))\n",
    "\n",
    "    def __hash__(self):\n",
    "        hashes = (hash(x) for x in self)\n",
    "        return functools.reduce(operator.xor, hashes, 0)\n",
    "\n",
    "# tag::VECTOR_V6_UNARY[]\n",
    "    def __abs__(self):\n",
    "        return math.hypot(*self)\n",
    "\n",
    "    def __neg__(self):\n",
    "        return Vector(-x for x in self)  # <1>\n",
    "\n",
    "    def __pos__(self):\n",
    "        return Vector(self)  # <2>\n",
    "# end::VECTOR_V6_UNARY[]\n",
    "\n",
    "    def __bool__(self):\n",
    "        return bool(abs(self))\n",
    "\n",
    "    def __len__(self):\n",
    "        return len(self._components)\n",
    "\n",
    "    def __getitem__(self, key):\n",
    "        if isinstance(key, slice):\n",
    "            cls = type(self)\n",
    "            return cls(self._components[key])\n",
    "        index = operator.index(key)\n",
    "        return self._components[index]\n",
    "\n",
    "    __match_args__ = ('x', 'y', 'z', 't')\n",
    "\n",
    "    def __getattr__(self, name):\n",
    "        cls = type(self)\n",
    "        try:\n",
    "            pos = cls.__match_args__.index(name)\n",
    "        except ValueError:\n",
    "            pos = -1\n",
    "        if 0 <= pos < len(self._components):\n",
    "            return self._components[pos]\n",
    "        msg = f'{cls.__name__!r} object has no attribute {name!r}'\n",
    "        raise AttributeError(msg)\n",
    "\n",
    "    def angle(self, n):\n",
    "        r = math.hypot(*self[n:])\n",
    "        a = math.atan2(r, self[n-1])\n",
    "        if (n == len(self) - 1) and (self[-1] < 0):\n",
    "            return math.pi * 2 - a\n",
    "        else:\n",
    "            return a\n",
    "\n",
    "    def angles(self):\n",
    "        return (self.angle(n) for n in range(1, len(self)))\n",
    "\n",
    "    def __format__(self, fmt_spec=''):\n",
    "        if fmt_spec.endswith('h'):  # hyperspherical coordinates\n",
    "            fmt_spec = fmt_spec[:-1]\n",
    "            coords = itertools.chain([abs(self)],\n",
    "                                     self.angles())\n",
    "            outer_fmt = '<{}>'\n",
    "        else:\n",
    "            coords = self\n",
    "            outer_fmt = '({})'\n",
    "        components = (format(c, fmt_spec) for c in coords)\n",
    "        return outer_fmt.format(', '.join(components))\n",
    "\n",
    "    @classmethod\n",
    "    def frombytes(cls, octets):\n",
    "        typecode = chr(octets[0])\n",
    "        memv = memoryview(octets[1:]).cast(typecode)\n",
    "        return cls(memv)\n",
    "\n",
    "# tag::VECTOR_V6_ADD[]\n",
    "    def __add__(self, other):\n",
    "        try:\n",
    "            pairs = itertools.zip_longest(self, other, fillvalue=0.0)\n",
    "            return Vector(a + b for a, b in pairs)\n",
    "        except TypeError:\n",
    "            return NotImplemented\n",
    "\n",
    "    def __radd__(self, other):\n",
    "        return self + other\n",
    "# end::VECTOR_V6_ADD[]\n"
   ]
  },
  {
   "cell_type": "code",
   "execution_count": 46,
   "id": "48f15000",
   "metadata": {},
   "outputs": [
    {
     "data": {
      "text/plain": [
       "Vector([3.1, 4.2])"
      ]
     },
     "execution_count": 46,
     "metadata": {},
     "output_type": "execute_result"
    }
   ],
   "source": [
    "Vector([3.1, 4.2])"
   ]
  },
  {
   "cell_type": "code",
   "execution_count": 47,
   "id": "8d8fbd66",
   "metadata": {},
   "outputs": [
    {
     "data": {
      "text/plain": [
       "Vector([3.0, 4.0, 5.0])"
      ]
     },
     "execution_count": 47,
     "metadata": {},
     "output_type": "execute_result"
    }
   ],
   "source": [
    "Vector((3, 4, 5))"
   ]
  },
  {
   "cell_type": "code",
   "execution_count": 48,
   "id": "3169b5fb",
   "metadata": {},
   "outputs": [
    {
     "data": {
      "text/plain": [
       "Vector([0.0, 1.0, 2.0, 3.0, 4.0, ...])"
      ]
     },
     "execution_count": 48,
     "metadata": {},
     "output_type": "execute_result"
    }
   ],
   "source": [
    "Vector(range(10))"
   ]
  },
  {
   "cell_type": "code",
   "execution_count": 49,
   "id": "322a5b57",
   "metadata": {},
   "outputs": [
    {
     "data": {
      "text/plain": [
       "6.0"
      ]
     },
     "execution_count": 49,
     "metadata": {},
     "output_type": "execute_result"
    }
   ],
   "source": [
    "v7 = Vector(range(7))\n",
    "v7[-1]"
   ]
  },
  {
   "cell_type": "code",
   "execution_count": 50,
   "id": "f8655964",
   "metadata": {},
   "outputs": [
    {
     "data": {
      "text/plain": [
       "Vector([3.0, 4.0, 5.0])"
      ]
     },
     "execution_count": 50,
     "metadata": {},
     "output_type": "execute_result"
    }
   ],
   "source": [
    "v7[3:6]"
   ]
  },
  {
   "cell_type": "code",
   "execution_count": 51,
   "id": "864afb06",
   "metadata": {},
   "outputs": [
    {
     "data": {
      "text/plain": [
       "Vector([1.0])"
      ]
     },
     "execution_count": 51,
     "metadata": {},
     "output_type": "execute_result"
    }
   ],
   "source": [
    "v7[1:2]"
   ]
  },
  {
   "cell_type": "code",
   "execution_count": 52,
   "id": "88198116",
   "metadata": {},
   "outputs": [
    {
     "ename": "TypeError",
     "evalue": "'tuple' object cannot be interpreted as an integer",
     "output_type": "error",
     "traceback": [
      "\u001b[1;31m---------------------------------------------------------------------------\u001b[0m",
      "\u001b[1;31mTypeError\u001b[0m                                 Traceback (most recent call last)",
      "Input \u001b[1;32mIn [52]\u001b[0m, in \u001b[0;36m<cell line: 1>\u001b[1;34m()\u001b[0m\n\u001b[1;32m----> 1\u001b[0m \u001b[43mv7\u001b[49m\u001b[43m[\u001b[49m\u001b[38;5;241;43m1\u001b[39;49m\u001b[43m,\u001b[49m\u001b[38;5;241;43m2\u001b[39;49m\u001b[43m]\u001b[49m\n",
      "Input \u001b[1;32mIn [45]\u001b[0m, in \u001b[0;36mVector.__getitem__\u001b[1;34m(self, key)\u001b[0m\n\u001b[0;32m    303\u001b[0m     \u001b[38;5;28mcls\u001b[39m \u001b[38;5;241m=\u001b[39m \u001b[38;5;28mtype\u001b[39m(\u001b[38;5;28mself\u001b[39m)\n\u001b[0;32m    304\u001b[0m     \u001b[38;5;28;01mreturn\u001b[39;00m \u001b[38;5;28mcls\u001b[39m(\u001b[38;5;28mself\u001b[39m\u001b[38;5;241m.\u001b[39m_components[key])\n\u001b[1;32m--> 305\u001b[0m index \u001b[38;5;241m=\u001b[39m \u001b[43moperator\u001b[49m\u001b[38;5;241;43m.\u001b[39;49m\u001b[43mindex\u001b[49m\u001b[43m(\u001b[49m\u001b[43mkey\u001b[49m\u001b[43m)\u001b[49m\n\u001b[0;32m    306\u001b[0m \u001b[38;5;28;01mreturn\u001b[39;00m \u001b[38;5;28mself\u001b[39m\u001b[38;5;241m.\u001b[39m_components[index]\n",
      "\u001b[1;31mTypeError\u001b[0m: 'tuple' object cannot be interpreted as an integer"
     ]
    }
   ],
   "source": [
    "v7[1,2]"
   ]
  },
  {
   "cell_type": "code",
   "execution_count": 53,
   "id": "2db5fc91",
   "metadata": {},
   "outputs": [
    {
     "data": {
      "text/plain": [
       "Vector([9.0, 11.0, 13.0])"
      ]
     },
     "execution_count": 53,
     "metadata": {},
     "output_type": "execute_result"
    }
   ],
   "source": [
    "v1 = Vector([3, 4, 5])\n",
    "v2 = Vector([6, 7, 8])\n",
    "v1 + v2"
   ]
  },
  {
   "cell_type": "code",
   "execution_count": 56,
   "id": "af516817",
   "metadata": {},
   "outputs": [
    {
     "data": {
      "text/plain": [
       "Vector([9.0, 11.0, 13.0])"
      ]
     },
     "execution_count": 56,
     "metadata": {},
     "output_type": "execute_result"
    }
   ],
   "source": [
    "v2 + v1"
   ]
  },
  {
   "cell_type": "code",
   "execution_count": 54,
   "id": "30b594e7",
   "metadata": {},
   "outputs": [
    {
     "data": {
      "text/plain": [
       "True"
      ]
     },
     "execution_count": 54,
     "metadata": {},
     "output_type": "execute_result"
    }
   ],
   "source": [
    "v1 + v2 == Vector([3+6, 4+7, 5+8])"
   ]
  },
  {
   "cell_type": "code",
   "execution_count": 55,
   "id": "24c30af2",
   "metadata": {},
   "outputs": [
    {
     "data": {
      "text/plain": [
       "Vector([4.0, 6.0, 5.0])"
      ]
     },
     "execution_count": 55,
     "metadata": {},
     "output_type": "execute_result"
    }
   ],
   "source": [
    "v3 = Vector([1, 2])\n",
    "v1 + v3 "
   ]
  },
  {
   "cell_type": "code",
   "execution_count": 57,
   "id": "0727a4f0",
   "metadata": {},
   "outputs": [
    {
     "data": {
      "text/plain": [
       "Vector([13.0, 24.0, 35.0])"
      ]
     },
     "execution_count": 57,
     "metadata": {},
     "output_type": "execute_result"
    }
   ],
   "source": [
    "v1 + (10, 20, 30)"
   ]
  },
  {
   "cell_type": "code",
   "execution_count": 58,
   "id": "ba8b142b",
   "metadata": {},
   "outputs": [
    {
     "data": {
      "text/plain": [
       "Vector([4.0, 6.0, 5.0])"
      ]
     },
     "execution_count": 58,
     "metadata": {},
     "output_type": "execute_result"
    }
   ],
   "source": [
    "from vector2d_v3 import Vector2d\n",
    "v2d = Vector2d(1, 2)\n",
    "v1 + v2d"
   ]
  },
  {
   "cell_type": "code",
   "execution_count": 59,
   "id": "af7c23c8",
   "metadata": {},
   "outputs": [
    {
     "data": {
      "text/plain": [
       "Vector([4.0, 6.0, 5.0])"
      ]
     },
     "execution_count": 59,
     "metadata": {},
     "output_type": "execute_result"
    }
   ],
   "source": [
    "v2d + v1"
   ]
  },
  {
   "cell_type": "code",
   "execution_count": 60,
   "id": "541dfa43",
   "metadata": {},
   "outputs": [
    {
     "ename": "TypeError",
     "evalue": "unsupported operand type(s) for +: 'Vector' and 'int'",
     "output_type": "error",
     "traceback": [
      "\u001b[1;31m---------------------------------------------------------------------------\u001b[0m",
      "\u001b[1;31mTypeError\u001b[0m                                 Traceback (most recent call last)",
      "Input \u001b[1;32mIn [60]\u001b[0m, in \u001b[0;36m<cell line: 1>\u001b[1;34m()\u001b[0m\n\u001b[1;32m----> 1\u001b[0m \u001b[43mv1\u001b[49m\u001b[43m \u001b[49m\u001b[38;5;241;43m+\u001b[39;49m\u001b[43m \u001b[49m\u001b[38;5;241;43m1\u001b[39;49m\n",
      "\u001b[1;31mTypeError\u001b[0m: unsupported operand type(s) for +: 'Vector' and 'int'"
     ]
    }
   ],
   "source": [
    "v1 + 1"
   ]
  },
  {
   "cell_type": "code",
   "execution_count": 62,
   "id": "06903ae9",
   "metadata": {},
   "outputs": [],
   "source": [
    "\"\"\"\n",
    "A multi-dimensional ``Vector`` class, take 7: operator ``*``\n",
    "\n",
    "A ``Vector`` is built from an iterable of numbers::\n",
    "\n",
    "    >>> Vector([3.1, 4.2])\n",
    "    Vector([3.1, 4.2])\n",
    "    >>> Vector((3, 4, 5))\n",
    "    Vector([3.0, 4.0, 5.0])\n",
    "    >>> Vector(range(10))\n",
    "    Vector([0.0, 1.0, 2.0, 3.0, 4.0, ...])\n",
    "\n",
    "\n",
    "Tests with 2-dimensions (same results as ``vector2d_v1.py``)::\n",
    "\n",
    "    >>> v1 = Vector([3, 4])\n",
    "    >>> x, y = v1\n",
    "    >>> x, y\n",
    "    (3.0, 4.0)\n",
    "    >>> v1\n",
    "    Vector([3.0, 4.0])\n",
    "    >>> v1_clone = eval(repr(v1))\n",
    "    >>> v1 == v1_clone\n",
    "    True\n",
    "    >>> print(v1)\n",
    "    (3.0, 4.0)\n",
    "    >>> octets = bytes(v1)\n",
    "    >>> octets\n",
    "    b'd\\\\x00\\\\x00\\\\x00\\\\x00\\\\x00\\\\x00\\\\x08@\\\\x00\\\\x00\\\\x00\\\\x00\\\\x00\\\\x00\\\\x10@'\n",
    "    >>> abs(v1)\n",
    "    5.0\n",
    "    >>> bool(v1), bool(Vector([0, 0]))\n",
    "    (True, False)\n",
    "\n",
    "\n",
    "Test of ``.frombytes()`` class method:\n",
    "\n",
    "    >>> v1_clone = Vector.frombytes(bytes(v1))\n",
    "    >>> v1_clone\n",
    "    Vector([3.0, 4.0])\n",
    "    >>> v1 == v1_clone\n",
    "    True\n",
    "\n",
    "\n",
    "Tests with 3-dimensions::\n",
    "\n",
    "    >>> v1 = Vector([3, 4, 5])\n",
    "    >>> x, y, z = v1\n",
    "    >>> x, y, z\n",
    "    (3.0, 4.0, 5.0)\n",
    "    >>> v1\n",
    "    Vector([3.0, 4.0, 5.0])\n",
    "    >>> v1_clone = eval(repr(v1))\n",
    "    >>> v1 == v1_clone\n",
    "    True\n",
    "    >>> print(v1)\n",
    "    (3.0, 4.0, 5.0)\n",
    "    >>> abs(v1)  # doctest:+ELLIPSIS\n",
    "    7.071067811...\n",
    "    >>> bool(v1), bool(Vector([0, 0, 0]))\n",
    "    (True, False)\n",
    "\n",
    "\n",
    "Tests with many dimensions::\n",
    "\n",
    "    >>> v7 = Vector(range(7))\n",
    "    >>> v7\n",
    "    Vector([0.0, 1.0, 2.0, 3.0, 4.0, ...])\n",
    "    >>> abs(v7)  # doctest:+ELLIPSIS\n",
    "    9.53939201...\n",
    "\n",
    "\n",
    "Test of ``.__bytes__`` and ``.frombytes()`` methods::\n",
    "\n",
    "    >>> v1 = Vector([3, 4, 5])\n",
    "    >>> v1_clone = Vector.frombytes(bytes(v1))\n",
    "    >>> v1_clone\n",
    "    Vector([3.0, 4.0, 5.0])\n",
    "    >>> v1 == v1_clone\n",
    "    True\n",
    "\n",
    "\n",
    "Tests of sequence behavior::\n",
    "\n",
    "    >>> v1 = Vector([3, 4, 5])\n",
    "    >>> len(v1)\n",
    "    3\n",
    "    >>> v1[0], v1[len(v1)-1], v1[-1]\n",
    "    (3.0, 5.0, 5.0)\n",
    "\n",
    "\n",
    "Test of slicing::\n",
    "\n",
    "    >>> v7 = Vector(range(7))\n",
    "    >>> v7[-1]\n",
    "    6.0\n",
    "    >>> v7[1:4]\n",
    "    Vector([1.0, 2.0, 3.0])\n",
    "    >>> v7[-1:]\n",
    "    Vector([6.0])\n",
    "    >>> v7[1,2]\n",
    "    Traceback (most recent call last):\n",
    "      ...\n",
    "    TypeError: 'tuple' object cannot be interpreted as an integer\n",
    "\n",
    "\n",
    "Tests of dynamic attribute access::\n",
    "\n",
    "    >>> v7 = Vector(range(10))\n",
    "    >>> v7.x\n",
    "    0.0\n",
    "    >>> v7.y, v7.z, v7.t\n",
    "    (1.0, 2.0, 3.0)\n",
    "\n",
    "Dynamic attribute lookup failures::\n",
    "\n",
    "    >>> v7.k\n",
    "    Traceback (most recent call last):\n",
    "      ...\n",
    "    AttributeError: 'Vector' object has no attribute 'k'\n",
    "    >>> v3 = Vector(range(3))\n",
    "    >>> v3.t\n",
    "    Traceback (most recent call last):\n",
    "      ...\n",
    "    AttributeError: 'Vector' object has no attribute 't'\n",
    "    >>> v3.spam\n",
    "    Traceback (most recent call last):\n",
    "      ...\n",
    "    AttributeError: 'Vector' object has no attribute 'spam'\n",
    "\n",
    "\n",
    "Tests of hashing::\n",
    "\n",
    "    >>> v1 = Vector([3, 4])\n",
    "    >>> v2 = Vector([3.1, 4.2])\n",
    "    >>> v3 = Vector([3, 4, 5])\n",
    "    >>> v6 = Vector(range(6))\n",
    "    >>> hash(v1), hash(v3), hash(v6)\n",
    "    (7, 2, 1)\n",
    "\n",
    "\n",
    "Most hash codes of non-integers vary from a 32-bit to 64-bit Python build::\n",
    "\n",
    "    >>> import sys\n",
    "    >>> hash(v2) == (384307168202284039 if sys.maxsize > 2**32 else 357915986)\n",
    "    True\n",
    "\n",
    "\n",
    "Tests of ``format()`` with Cartesian coordinates in 2D::\n",
    "\n",
    "    >>> v1 = Vector([3, 4])\n",
    "    >>> format(v1)\n",
    "    '(3.0, 4.0)'\n",
    "    >>> format(v1, '.2f')\n",
    "    '(3.00, 4.00)'\n",
    "    >>> format(v1, '.3e')\n",
    "    '(3.000e+00, 4.000e+00)'\n",
    "\n",
    "\n",
    "Tests of ``format()`` with Cartesian coordinates in 3D and 7D::\n",
    "\n",
    "    >>> v3 = Vector([3, 4, 5])\n",
    "    >>> format(v3)\n",
    "    '(3.0, 4.0, 5.0)'\n",
    "    >>> format(Vector(range(7)))\n",
    "    '(0.0, 1.0, 2.0, 3.0, 4.0, 5.0, 6.0)'\n",
    "\n",
    "\n",
    "Tests of ``format()`` with spherical coordinates in 2D, 3D and 4D::\n",
    "\n",
    "    >>> format(Vector([1, 1]), 'h')  # doctest:+ELLIPSIS\n",
    "    '<1.414213..., 0.785398...>'\n",
    "    >>> format(Vector([1, 1]), '.3eh')\n",
    "    '<1.414e+00, 7.854e-01>'\n",
    "    >>> format(Vector([1, 1]), '0.5fh')\n",
    "    '<1.41421, 0.78540>'\n",
    "    >>> format(Vector([1, 1, 1]), 'h')  # doctest:+ELLIPSIS\n",
    "    '<1.73205..., 0.95531..., 0.78539...>'\n",
    "    >>> format(Vector([2, 2, 2]), '.3eh')\n",
    "    '<3.464e+00, 9.553e-01, 7.854e-01>'\n",
    "    >>> format(Vector([0, 0, 0]), '0.5fh')\n",
    "    '<0.00000, 0.00000, 0.00000>'\n",
    "    >>> format(Vector([-1, -1, -1, -1]), 'h')  # doctest:+ELLIPSIS\n",
    "    '<2.0, 2.09439..., 2.18627..., 3.92699...>'\n",
    "    >>> format(Vector([2, 2, 2, 2]), '.3eh')\n",
    "    '<4.000e+00, 1.047e+00, 9.553e-01, 7.854e-01>'\n",
    "    >>> format(Vector([0, 1, 0, 0]), '0.5fh')\n",
    "    '<1.00000, 1.57080, 0.00000, 0.00000>'\n",
    "\n",
    "\n",
    "Unary operator tests::\n",
    "\n",
    "    >>> v1 = Vector([3, 4])\n",
    "    >>> abs(v1)\n",
    "    5.0\n",
    "    >>> -v1\n",
    "    Vector([-3.0, -4.0])\n",
    "    >>> +v1\n",
    "    Vector([3.0, 4.0])\n",
    "\n",
    "\n",
    "Basic tests of operator ``+``::\n",
    "\n",
    "    >>> v1 = Vector([3, 4, 5])\n",
    "    >>> v2 = Vector([6, 7, 8])\n",
    "    >>> v1 + v2\n",
    "    Vector([9.0, 11.0, 13.0])\n",
    "    >>> v1 + v2 == Vector([3+6, 4+7, 5+8])\n",
    "    True\n",
    "    >>> v3 = Vector([1, 2])\n",
    "    >>> v1 + v3  # short vectors are filled with 0.0 on addition\n",
    "    Vector([4.0, 6.0, 5.0])\n",
    "\n",
    "\n",
    "Tests of ``+`` with mixed types::\n",
    "\n",
    "    >>> v1 + (10, 20, 30)\n",
    "    Vector([13.0, 24.0, 35.0])\n",
    "    >>> from vector2d_v3 import Vector2d\n",
    "    >>> v2d = Vector2d(1, 2)\n",
    "    >>> v1 + v2d\n",
    "    Vector([4.0, 6.0, 5.0])\n",
    "\n",
    "\n",
    "Tests of ``+`` with mixed types, swapped operands::\n",
    "\n",
    "    >>> (10, 20, 30) + v1\n",
    "    Vector([13.0, 24.0, 35.0])\n",
    "    >>> from vector2d_v3 import Vector2d\n",
    "    >>> v2d = Vector2d(1, 2)\n",
    "    >>> v2d + v1\n",
    "    Vector([4.0, 6.0, 5.0])\n",
    "\n",
    "\n",
    "Tests of ``+`` with an unsuitable operand:\n",
    "\n",
    "    >>> v1 + 1\n",
    "    Traceback (most recent call last):\n",
    "      ...\n",
    "    TypeError: unsupported operand type(s) for +: 'Vector' and 'int'\n",
    "    >>> v1 + 'ABC'\n",
    "    Traceback (most recent call last):\n",
    "      ...\n",
    "    TypeError: unsupported operand type(s) for +: 'Vector' and 'str'\n",
    "\n",
    "\n",
    "Basic tests of operator ``*``::\n",
    "\n",
    "    >>> v1 = Vector([1, 2, 3])\n",
    "    >>> v1 * 10\n",
    "    Vector([10.0, 20.0, 30.0])\n",
    "    >>> 10 * v1\n",
    "    Vector([10.0, 20.0, 30.0])\n",
    "\n",
    "\n",
    "Tests of ``*`` with unusual but valid operands::\n",
    "\n",
    "    >>> v1 * True\n",
    "    Vector([1.0, 2.0, 3.0])\n",
    "    >>> from fractions import Fraction\n",
    "    >>> v1 * Fraction(1, 3)  # doctest:+ELLIPSIS\n",
    "    Vector([0.3333..., 0.6666..., 1.0])\n",
    "\n",
    "\n",
    "Tests of ``*`` with unsuitable operands::\n",
    "\n",
    "    >>> v1 * (1, 2)\n",
    "    Traceback (most recent call last):\n",
    "    ...\n",
    "    TypeError: can't multiply sequence by non-int of type 'Vector'\n",
    "\n",
    "\n",
    "Tests of ``@``::\n",
    "\n",
    "    >>> va = Vector([1, 2, 3])\n",
    "    >>> vz = Vector([5, 6, 7])\n",
    "    >>> va @ vz == 38.0  # 1*5 + 2*6 + 3*7\n",
    "    True\n",
    "    >>> [10, 20, 30] @ vz\n",
    "    380.0\n",
    "    >>> va @ 3\n",
    "    Traceback (most recent call last):\n",
    "    ...\n",
    "    TypeError: unsupported operand type(s) for @: 'Vector' and 'int'\n",
    "\n",
    "\n",
    "For ``@`` to work, both operands need to have the same length::\n",
    "\n",
    "    >>> va = Vector([1, 2, 3])\n",
    "    >>> vb = Vector([1, 2])\n",
    "    >>> va @ vb\n",
    "    Traceback (most recent call last):\n",
    "    ...\n",
    "    ValueError: @ requires vectors of equal length.\n",
    "\n",
    "\"\"\"\n",
    "\n",
    "from array import array\n",
    "import reprlib\n",
    "import math\n",
    "import functools\n",
    "import operator\n",
    "import itertools\n",
    "from collections import abc\n",
    "\n",
    "\n",
    "class Vector:\n",
    "    typecode = 'd'\n",
    "\n",
    "    def __init__(self, components):\n",
    "        self._components = array(self.typecode, components)\n",
    "\n",
    "    def __iter__(self):\n",
    "        return iter(self._components)\n",
    "\n",
    "    def __repr__(self):\n",
    "        components = reprlib.repr(self._components)\n",
    "        components = components[components.find('['):-1]\n",
    "        return f'Vector({components})'\n",
    "\n",
    "    def __str__(self):\n",
    "        return str(tuple(self))\n",
    "\n",
    "    def __bytes__(self):\n",
    "        return (bytes([ord(self.typecode)]) +\n",
    "                bytes(self._components))\n",
    "\n",
    "    def __eq__(self, other):\n",
    "        return (len(self) == len(other) and\n",
    "                all(a == b for a, b in zip(self, other)))\n",
    "\n",
    "    def __hash__(self):\n",
    "        hashes = (hash(x) for x in self)\n",
    "        return functools.reduce(operator.xor, hashes, 0)\n",
    "\n",
    "    def __abs__(self):\n",
    "        return math.hypot(*self)\n",
    "\n",
    "    def __neg__(self):\n",
    "        return Vector(-x for x in self)\n",
    "\n",
    "    def __pos__(self):\n",
    "        return Vector(self)\n",
    "\n",
    "    def __bool__(self):\n",
    "        return bool(abs(self))\n",
    "\n",
    "    def __len__(self):\n",
    "        return len(self._components)\n",
    "\n",
    "    def __getitem__(self, key):\n",
    "        if isinstance(key, slice):\n",
    "            cls = type(self)\n",
    "            return cls(self._components[key])\n",
    "        index = operator.index(key)\n",
    "        return self._components[index]\n",
    "\n",
    "    __match_args__ = ('x', 'y', 'z', 't')\n",
    "\n",
    "    def __getattr__(self, name):\n",
    "        cls = type(self)\n",
    "        try:\n",
    "            pos = cls.__match_args__.index(name)\n",
    "        except ValueError:\n",
    "            pos = -1\n",
    "        if 0 <= pos < len(self._components):\n",
    "            return self._components[pos]\n",
    "        msg = f'{cls.__name__!r} object has no attribute {name!r}'\n",
    "        raise AttributeError(msg)\n",
    "\n",
    "    def angle(self, n):\n",
    "        r = math.hypot(*self[n:])\n",
    "        a = math.atan2(r, self[n-1])\n",
    "        if (n == len(self) - 1) and (self[-1] < 0):\n",
    "            return math.pi * 2 - a\n",
    "        else:\n",
    "            return a\n",
    "\n",
    "    def angles(self):\n",
    "        return (self.angle(n) for n in range(1, len(self)))\n",
    "\n",
    "    def __format__(self, fmt_spec=''):\n",
    "        if fmt_spec.endswith('h'):  # hyperspherical coordinates\n",
    "            fmt_spec = fmt_spec[:-1]\n",
    "            coords = itertools.chain([abs(self)],\n",
    "                                     self.angles())\n",
    "            outer_fmt = '<{}>'\n",
    "        else:\n",
    "            coords = self\n",
    "            outer_fmt = '({})'\n",
    "        components = (format(c, fmt_spec) for c in coords)\n",
    "        return outer_fmt.format(', '.join(components))\n",
    "\n",
    "    @classmethod\n",
    "    def frombytes(cls, octets):\n",
    "        typecode = chr(octets[0])\n",
    "        memv = memoryview(octets[1:]).cast(typecode)\n",
    "        return cls(memv)\n",
    "\n",
    "    def __add__(self, other):\n",
    "        try:\n",
    "            pairs = itertools.zip_longest(self, other, fillvalue=0.0)\n",
    "            return Vector(a + b for a, b in pairs)\n",
    "        except TypeError:\n",
    "            return NotImplemented\n",
    "\n",
    "    def __radd__(self, other):\n",
    "        return self + other\n",
    "\n",
    "    def __mul__(self, scalar):\n",
    "        try:\n",
    "            factor = float(scalar)\n",
    "        except TypeError:\n",
    "            return NotImplemented\n",
    "        return Vector(n * factor for n in self)\n",
    "\n",
    "    def __rmul__(self, scalar):\n",
    "        return self * scalar\n",
    "\n",
    "    def __matmul__(self, other):\n",
    "        if (isinstance(other, abc.Sized) and\n",
    "            isinstance(other, abc.Iterable)):\n",
    "            if len(self) == len(other):\n",
    "                return sum(a * b for a, b in zip(self, other))\n",
    "            else:\n",
    "                raise ValueError('@ requires vectors of equal length.')\n",
    "        else:\n",
    "            return NotImplemented\n",
    "\n",
    "    def __rmatmul__(self, other):\n",
    "        return self @ other\n"
   ]
  },
  {
   "cell_type": "code",
   "execution_count": 63,
   "id": "e66bb1e2",
   "metadata": {},
   "outputs": [
    {
     "data": {
      "text/plain": [
       "5.0"
      ]
     },
     "execution_count": 63,
     "metadata": {},
     "output_type": "execute_result"
    }
   ],
   "source": [
    "v1 = Vector([3, 4])\n",
    "abs(v1)"
   ]
  },
  {
   "cell_type": "code",
   "execution_count": 64,
   "id": "b8f6c7fb",
   "metadata": {},
   "outputs": [
    {
     "data": {
      "text/plain": [
       "Vector([-3.0, -4.0])"
      ]
     },
     "execution_count": 64,
     "metadata": {},
     "output_type": "execute_result"
    }
   ],
   "source": [
    "-v1"
   ]
  },
  {
   "cell_type": "code",
   "execution_count": 65,
   "id": "f22e27b6",
   "metadata": {},
   "outputs": [
    {
     "data": {
      "text/plain": [
       "Vector([3.0, 4.0])"
      ]
     },
     "execution_count": 65,
     "metadata": {},
     "output_type": "execute_result"
    }
   ],
   "source": [
    "+v1"
   ]
  },
  {
   "cell_type": "code",
   "execution_count": 66,
   "id": "6b362bd5",
   "metadata": {},
   "outputs": [
    {
     "data": {
      "text/plain": [
       "Vector([9.0, 11.0, 13.0])"
      ]
     },
     "execution_count": 66,
     "metadata": {},
     "output_type": "execute_result"
    }
   ],
   "source": [
    "v1 = Vector([3, 4, 5])\n",
    "v2 = Vector([6, 7, 8])\n",
    "v1 + v2"
   ]
  },
  {
   "cell_type": "code",
   "execution_count": 67,
   "id": "1a4583b5",
   "metadata": {},
   "outputs": [
    {
     "data": {
      "text/plain": [
       "Vector([4.0, 6.0, 5.0])"
      ]
     },
     "execution_count": 67,
     "metadata": {},
     "output_type": "execute_result"
    }
   ],
   "source": [
    "v3 = Vector([1, 2])\n",
    "v1 + v3  # short vectors are filled with 0.0 on addition"
   ]
  },
  {
   "cell_type": "code",
   "execution_count": 68,
   "id": "315daf1e",
   "metadata": {},
   "outputs": [
    {
     "data": {
      "text/plain": [
       "Vector([13.0, 24.0, 35.0])"
      ]
     },
     "execution_count": 68,
     "metadata": {},
     "output_type": "execute_result"
    }
   ],
   "source": [
    "v1 + (10, 20, 30)"
   ]
  },
  {
   "cell_type": "code",
   "execution_count": 69,
   "id": "f28521b8",
   "metadata": {},
   "outputs": [
    {
     "data": {
      "text/plain": [
       "Vector([13.0, 24.0, 35.0])"
      ]
     },
     "execution_count": 69,
     "metadata": {},
     "output_type": "execute_result"
    }
   ],
   "source": [
    "(10, 20, 30) + v1"
   ]
  },
  {
   "cell_type": "code",
   "execution_count": 70,
   "id": "146a73cf",
   "metadata": {},
   "outputs": [
    {
     "data": {
      "text/plain": [
       "Vector([4.0, 6.0, 5.0])"
      ]
     },
     "execution_count": 70,
     "metadata": {},
     "output_type": "execute_result"
    }
   ],
   "source": [
    "from vector2d_v3 import Vector2d\n",
    "v2d = Vector2d(1, 2)\n",
    "v1 + v2d"
   ]
  },
  {
   "cell_type": "code",
   "execution_count": 71,
   "id": "343c1c62",
   "metadata": {},
   "outputs": [
    {
     "data": {
      "text/plain": [
       "Vector([4.0, 6.0, 5.0])"
      ]
     },
     "execution_count": 71,
     "metadata": {},
     "output_type": "execute_result"
    }
   ],
   "source": [
    "v2d+v1"
   ]
  },
  {
   "cell_type": "code",
   "execution_count": 72,
   "id": "258f5938",
   "metadata": {},
   "outputs": [
    {
     "ename": "TypeError",
     "evalue": "unsupported operand type(s) for +: 'Vector' and 'int'",
     "output_type": "error",
     "traceback": [
      "\u001b[1;31m---------------------------------------------------------------------------\u001b[0m",
      "\u001b[1;31mTypeError\u001b[0m                                 Traceback (most recent call last)",
      "Input \u001b[1;32mIn [72]\u001b[0m, in \u001b[0;36m<cell line: 1>\u001b[1;34m()\u001b[0m\n\u001b[1;32m----> 1\u001b[0m \u001b[43mv1\u001b[49m\u001b[43m \u001b[49m\u001b[38;5;241;43m+\u001b[39;49m\u001b[43m \u001b[49m\u001b[38;5;241;43m1\u001b[39;49m\n",
      "\u001b[1;31mTypeError\u001b[0m: unsupported operand type(s) for +: 'Vector' and 'int'"
     ]
    }
   ],
   "source": [
    "v1 + 1"
   ]
  },
  {
   "cell_type": "code",
   "execution_count": 73,
   "id": "601a4d30",
   "metadata": {},
   "outputs": [
    {
     "data": {
      "text/plain": [
       "Vector([10.0, 20.0, 30.0])"
      ]
     },
     "execution_count": 73,
     "metadata": {},
     "output_type": "execute_result"
    }
   ],
   "source": [
    "v1 = Vector([1, 2, 3])\n",
    "v1 * 10"
   ]
  },
  {
   "cell_type": "code",
   "execution_count": 74,
   "id": "6e44dec7",
   "metadata": {},
   "outputs": [
    {
     "data": {
      "text/plain": [
       "Vector([10.0, 20.0, 30.0])"
      ]
     },
     "execution_count": 74,
     "metadata": {},
     "output_type": "execute_result"
    }
   ],
   "source": [
    "10*v1"
   ]
  },
  {
   "cell_type": "code",
   "execution_count": 75,
   "id": "20b0c42c",
   "metadata": {},
   "outputs": [
    {
     "data": {
      "text/plain": [
       "Vector([1.0, 2.0, 3.0])"
      ]
     },
     "execution_count": 75,
     "metadata": {},
     "output_type": "execute_result"
    }
   ],
   "source": [
    "v1 * True"
   ]
  },
  {
   "cell_type": "code",
   "execution_count": 77,
   "id": "4c7a4928",
   "metadata": {},
   "outputs": [
    {
     "data": {
      "text/plain": [
       "Vector([0.3333333333333333, 0.6666666666666666, 1.0])"
      ]
     },
     "execution_count": 77,
     "metadata": {},
     "output_type": "execute_result"
    }
   ],
   "source": [
    "from fractions import Fraction\n",
    "v1 * Fraction(1, 3)  # doctest:+ELLIPSIS"
   ]
  },
  {
   "cell_type": "code",
   "execution_count": 78,
   "id": "ffdddb1b",
   "metadata": {},
   "outputs": [
    {
     "ename": "TypeError",
     "evalue": "can't multiply sequence by non-int of type 'Vector'",
     "output_type": "error",
     "traceback": [
      "\u001b[1;31m---------------------------------------------------------------------------\u001b[0m",
      "\u001b[1;31mTypeError\u001b[0m                                 Traceback (most recent call last)",
      "Input \u001b[1;32mIn [78]\u001b[0m, in \u001b[0;36m<cell line: 1>\u001b[1;34m()\u001b[0m\n\u001b[1;32m----> 1\u001b[0m \u001b[43mv1\u001b[49m\u001b[43m \u001b[49m\u001b[38;5;241;43m*\u001b[39;49m\u001b[43m \u001b[49m\u001b[43m(\u001b[49m\u001b[38;5;241;43m1\u001b[39;49m\u001b[43m,\u001b[49m\u001b[43m \u001b[49m\u001b[38;5;241;43m2\u001b[39;49m\u001b[43m)\u001b[49m\n",
      "\u001b[1;31mTypeError\u001b[0m: can't multiply sequence by non-int of type 'Vector'"
     ]
    }
   ],
   "source": [
    "v1 * (1, 2)"
   ]
  },
  {
   "cell_type": "code",
   "execution_count": 79,
   "id": "4eecddd1",
   "metadata": {},
   "outputs": [
    {
     "data": {
      "text/plain": [
       "38.0"
      ]
     },
     "execution_count": 79,
     "metadata": {},
     "output_type": "execute_result"
    }
   ],
   "source": [
    "va = Vector([1, 2, 3])\n",
    "vz = Vector([5, 6, 7])\n",
    "va @ vz"
   ]
  },
  {
   "cell_type": "code",
   "execution_count": 80,
   "id": "3d6e36c8",
   "metadata": {},
   "outputs": [
    {
     "data": {
      "text/plain": [
       "38"
      ]
     },
     "execution_count": 80,
     "metadata": {},
     "output_type": "execute_result"
    }
   ],
   "source": [
    "1*5 + 2*6 + 3*7"
   ]
  },
  {
   "cell_type": "code",
   "execution_count": 81,
   "id": "90b8c14e",
   "metadata": {},
   "outputs": [
    {
     "data": {
      "text/plain": [
       "380.0"
      ]
     },
     "execution_count": 81,
     "metadata": {},
     "output_type": "execute_result"
    }
   ],
   "source": [
    "[10, 20, 30] @ vz"
   ]
  },
  {
   "cell_type": "code",
   "execution_count": 82,
   "id": "e4d07f31",
   "metadata": {},
   "outputs": [
    {
     "ename": "TypeError",
     "evalue": "unsupported operand type(s) for @: 'Vector' and 'int'",
     "output_type": "error",
     "traceback": [
      "\u001b[1;31m---------------------------------------------------------------------------\u001b[0m",
      "\u001b[1;31mTypeError\u001b[0m                                 Traceback (most recent call last)",
      "Input \u001b[1;32mIn [82]\u001b[0m, in \u001b[0;36m<cell line: 1>\u001b[1;34m()\u001b[0m\n\u001b[1;32m----> 1\u001b[0m \u001b[43mva\u001b[49m\u001b[43m \u001b[49m\u001b[38;5;241;43m@\u001b[39;49m\u001b[43m \u001b[49m\u001b[38;5;241;43m3\u001b[39;49m\n",
      "\u001b[1;31mTypeError\u001b[0m: unsupported operand type(s) for @: 'Vector' and 'int'"
     ]
    }
   ],
   "source": [
    "va @ 3"
   ]
  },
  {
   "cell_type": "code",
   "execution_count": 84,
   "id": "b28ccb5d",
   "metadata": {},
   "outputs": [
    {
     "ename": "ValueError",
     "evalue": "@ requires vectors of equal length.",
     "output_type": "error",
     "traceback": [
      "\u001b[1;31m---------------------------------------------------------------------------\u001b[0m",
      "\u001b[1;31mValueError\u001b[0m                                Traceback (most recent call last)",
      "Input \u001b[1;32mIn [84]\u001b[0m, in \u001b[0;36m<cell line: 3>\u001b[1;34m()\u001b[0m\n\u001b[0;32m      1\u001b[0m va \u001b[38;5;241m=\u001b[39m Vector([\u001b[38;5;241m1\u001b[39m, \u001b[38;5;241m2\u001b[39m, \u001b[38;5;241m3\u001b[39m])\n\u001b[0;32m      2\u001b[0m vb \u001b[38;5;241m=\u001b[39m Vector([\u001b[38;5;241m1\u001b[39m, \u001b[38;5;241m2\u001b[39m])\n\u001b[1;32m----> 3\u001b[0m \u001b[43mva\u001b[49m\u001b[43m \u001b[49m\u001b[38;5;241;43m@\u001b[39;49m\u001b[43m \u001b[49m\u001b[43mvb\u001b[49m\n",
      "Input \u001b[1;32mIn [62]\u001b[0m, in \u001b[0;36mVector.__matmul__\u001b[1;34m(self, other)\u001b[0m\n\u001b[0;32m    424\u001b[0m         \u001b[38;5;28;01mreturn\u001b[39;00m \u001b[38;5;28msum\u001b[39m(a \u001b[38;5;241m*\u001b[39m b \u001b[38;5;28;01mfor\u001b[39;00m a, b \u001b[38;5;129;01min\u001b[39;00m \u001b[38;5;28mzip\u001b[39m(\u001b[38;5;28mself\u001b[39m, other))\n\u001b[0;32m    425\u001b[0m     \u001b[38;5;28;01melse\u001b[39;00m:\n\u001b[1;32m--> 426\u001b[0m         \u001b[38;5;28;01mraise\u001b[39;00m \u001b[38;5;167;01mValueError\u001b[39;00m(\u001b[38;5;124m'\u001b[39m\u001b[38;5;124m@ requires vectors of equal length.\u001b[39m\u001b[38;5;124m'\u001b[39m)\n\u001b[0;32m    427\u001b[0m \u001b[38;5;28;01melse\u001b[39;00m:\n\u001b[0;32m    428\u001b[0m     \u001b[38;5;28;01mreturn\u001b[39;00m \u001b[38;5;28mNotImplemented\u001b[39m\n",
      "\u001b[1;31mValueError\u001b[0m: @ requires vectors of equal length."
     ]
    }
   ],
   "source": [
    "va = Vector([1, 2, 3])\n",
    "vb = Vector([1, 2])\n",
    "va @ vb"
   ]
  },
  {
   "cell_type": "code",
   "execution_count": 85,
   "id": "41897121",
   "metadata": {},
   "outputs": [],
   "source": [
    "\"\"\"\n",
    "A multi-dimensional ``Vector`` class, take 8: operator ``==``\n",
    "\n",
    "A ``Vector`` is built from an iterable of numbers::\n",
    "\n",
    "    >>> Vector([3.1, 4.2])\n",
    "    Vector([3.1, 4.2])\n",
    "    >>> Vector((3, 4, 5))\n",
    "    Vector([3.0, 4.0, 5.0])\n",
    "    >>> Vector(range(10))\n",
    "    Vector([0.0, 1.0, 2.0, 3.0, 4.0, ...])\n",
    "\n",
    "\n",
    "Tests with 2-dimensions (same results as ``vector2d_v1.py``)::\n",
    "\n",
    "    >>> v1 = Vector([3, 4])\n",
    "    >>> x, y = v1\n",
    "    >>> x, y\n",
    "    (3.0, 4.0)\n",
    "    >>> v1\n",
    "    Vector([3.0, 4.0])\n",
    "    >>> v1_clone = eval(repr(v1))\n",
    "    >>> v1 == v1_clone\n",
    "    True\n",
    "    >>> print(v1)\n",
    "    (3.0, 4.0)\n",
    "    >>> octets = bytes(v1)\n",
    "    >>> octets\n",
    "    b'd\\\\x00\\\\x00\\\\x00\\\\x00\\\\x00\\\\x00\\\\x08@\\\\x00\\\\x00\\\\x00\\\\x00\\\\x00\\\\x00\\\\x10@'\n",
    "    >>> abs(v1)\n",
    "    5.0\n",
    "    >>> bool(v1), bool(Vector([0, 0]))\n",
    "    (True, False)\n",
    "\n",
    "\n",
    "Test of ``.frombytes()`` class method:\n",
    "\n",
    "    >>> v1_clone = Vector.frombytes(bytes(v1))\n",
    "    >>> v1_clone\n",
    "    Vector([3.0, 4.0])\n",
    "    >>> v1 == v1_clone\n",
    "    True\n",
    "\n",
    "\n",
    "Tests with 3-dimensions::\n",
    "\n",
    "    >>> v1 = Vector([3, 4, 5])\n",
    "    >>> x, y, z = v1\n",
    "    >>> x, y, z\n",
    "    (3.0, 4.0, 5.0)\n",
    "    >>> v1\n",
    "    Vector([3.0, 4.0, 5.0])\n",
    "    >>> v1_clone = eval(repr(v1))\n",
    "    >>> v1 == v1_clone\n",
    "    True\n",
    "    >>> print(v1)\n",
    "    (3.0, 4.0, 5.0)\n",
    "    >>> abs(v1)  # doctest:+ELLIPSIS\n",
    "    7.071067811...\n",
    "    >>> bool(v1), bool(Vector([0, 0, 0]))\n",
    "    (True, False)\n",
    "\n",
    "\n",
    "Tests with many dimensions::\n",
    "\n",
    "    >>> v7 = Vector(range(7))\n",
    "    >>> v7\n",
    "    Vector([0.0, 1.0, 2.0, 3.0, 4.0, ...])\n",
    "    >>> abs(v7)  # doctest:+ELLIPSIS\n",
    "    9.53939201...\n",
    "\n",
    "\n",
    "Test of ``.__bytes__`` and ``.frombytes()`` methods::\n",
    "\n",
    "    >>> v1 = Vector([3, 4, 5])\n",
    "    >>> v1_clone = Vector.frombytes(bytes(v1))\n",
    "    >>> v1_clone\n",
    "    Vector([3.0, 4.0, 5.0])\n",
    "    >>> v1 == v1_clone\n",
    "    True\n",
    "\n",
    "\n",
    "Tests of sequence behavior::\n",
    "\n",
    "    >>> v1 = Vector([3, 4, 5])\n",
    "    >>> len(v1)\n",
    "    3\n",
    "    >>> v1[0], v1[len(v1)-1], v1[-1]\n",
    "    (3.0, 5.0, 5.0)\n",
    "\n",
    "\n",
    "Test of slicing::\n",
    "\n",
    "    >>> v7 = Vector(range(7))\n",
    "    >>> v7[-1]\n",
    "    6.0\n",
    "    >>> v7[1:4]\n",
    "    Vector([1.0, 2.0, 3.0])\n",
    "    >>> v7[-1:]\n",
    "    Vector([6.0])\n",
    "    >>> v7[1,2]\n",
    "    Traceback (most recent call last):\n",
    "      ...\n",
    "    TypeError: 'tuple' object cannot be interpreted as an integer\n",
    "\n",
    "\n",
    "Tests of dynamic attribute access::\n",
    "\n",
    "    >>> v7 = Vector(range(10))\n",
    "    >>> v7.x\n",
    "    0.0\n",
    "    >>> v7.y, v7.z, v7.t\n",
    "    (1.0, 2.0, 3.0)\n",
    "\n",
    "Dynamic attribute lookup failures::\n",
    "\n",
    "    >>> v7.k\n",
    "    Traceback (most recent call last):\n",
    "      ...\n",
    "    AttributeError: 'Vector' object has no attribute 'k'\n",
    "    >>> v3 = Vector(range(3))\n",
    "    >>> v3.t\n",
    "    Traceback (most recent call last):\n",
    "      ...\n",
    "    AttributeError: 'Vector' object has no attribute 't'\n",
    "    >>> v3.spam\n",
    "    Traceback (most recent call last):\n",
    "      ...\n",
    "    AttributeError: 'Vector' object has no attribute 'spam'\n",
    "\n",
    "\n",
    "Tests of hashing::\n",
    "\n",
    "    >>> v1 = Vector([3, 4])\n",
    "    >>> v2 = Vector([3.1, 4.2])\n",
    "    >>> v3 = Vector([3, 4, 5])\n",
    "    >>> v6 = Vector(range(6))\n",
    "    >>> hash(v1), hash(v3), hash(v6)\n",
    "    (7, 2, 1)\n",
    "\n",
    "\n",
    "Most hash codes of non-integers vary from a 32-bit to 64-bit Python build::\n",
    "\n",
    "    >>> import sys\n",
    "    >>> hash(v2) == (384307168202284039 if sys.maxsize > 2**32 else 357915986)\n",
    "    True\n",
    "\n",
    "\n",
    "Tests of ``format()`` with Cartesian coordinates in 2D::\n",
    "\n",
    "    >>> v1 = Vector([3, 4])\n",
    "    >>> format(v1)\n",
    "    '(3.0, 4.0)'\n",
    "    >>> format(v1, '.2f')\n",
    "    '(3.00, 4.00)'\n",
    "    >>> format(v1, '.3e')\n",
    "    '(3.000e+00, 4.000e+00)'\n",
    "\n",
    "\n",
    "Tests of ``format()`` with Cartesian coordinates in 3D and 7D::\n",
    "\n",
    "    >>> v3 = Vector([3, 4, 5])\n",
    "    >>> format(v3)\n",
    "    '(3.0, 4.0, 5.0)'\n",
    "    >>> format(Vector(range(7)))\n",
    "    '(0.0, 1.0, 2.0, 3.0, 4.0, 5.0, 6.0)'\n",
    "\n",
    "\n",
    "Tests of ``format()`` with spherical coordinates in 2D, 3D and 4D::\n",
    "\n",
    "    >>> format(Vector([1, 1]), 'h')  # doctest:+ELLIPSIS\n",
    "    '<1.414213..., 0.785398...>'\n",
    "    >>> format(Vector([1, 1]), '.3eh')\n",
    "    '<1.414e+00, 7.854e-01>'\n",
    "    >>> format(Vector([1, 1]), '0.5fh')\n",
    "    '<1.41421, 0.78540>'\n",
    "    >>> format(Vector([1, 1, 1]), 'h')  # doctest:+ELLIPSIS\n",
    "    '<1.73205..., 0.95531..., 0.78539...>'\n",
    "    >>> format(Vector([2, 2, 2]), '.3eh')\n",
    "    '<3.464e+00, 9.553e-01, 7.854e-01>'\n",
    "    >>> format(Vector([0, 0, 0]), '0.5fh')\n",
    "    '<0.00000, 0.00000, 0.00000>'\n",
    "    >>> format(Vector([-1, -1, -1, -1]), 'h')  # doctest:+ELLIPSIS\n",
    "    '<2.0, 2.09439..., 2.18627..., 3.92699...>'\n",
    "    >>> format(Vector([2, 2, 2, 2]), '.3eh')\n",
    "    '<4.000e+00, 1.047e+00, 9.553e-01, 7.854e-01>'\n",
    "    >>> format(Vector([0, 1, 0, 0]), '0.5fh')\n",
    "    '<1.00000, 1.57080, 0.00000, 0.00000>'\n",
    "\n",
    "\n",
    "Unary operator tests::\n",
    "\n",
    "    >>> v1 = Vector([3, 4])\n",
    "    >>> abs(v1)\n",
    "    5.0\n",
    "    >>> -v1\n",
    "    Vector([-3.0, -4.0])\n",
    "    >>> +v1\n",
    "    Vector([3.0, 4.0])\n",
    "\n",
    "\n",
    "Basic tests of operator ``+``::\n",
    "\n",
    "    >>> v1 = Vector([3, 4, 5])\n",
    "    >>> v2 = Vector([6, 7, 8])\n",
    "    >>> v1 + v2\n",
    "    Vector([9.0, 11.0, 13.0])\n",
    "    >>> v1 + v2 == Vector([3+6, 4+7, 5+8])\n",
    "    True\n",
    "    >>> v3 = Vector([1, 2])\n",
    "    >>> v1 + v3  # short vectors are filled with 0.0 on addition\n",
    "    Vector([4.0, 6.0, 5.0])\n",
    "\n",
    "\n",
    "Tests of ``+`` with mixed types::\n",
    "\n",
    "    >>> v1 + (10, 20, 30)\n",
    "    Vector([13.0, 24.0, 35.0])\n",
    "    >>> from vector2d_v3 import Vector2d\n",
    "    >>> v2d = Vector2d(1, 2)\n",
    "    >>> v1 + v2d\n",
    "    Vector([4.0, 6.0, 5.0])\n",
    "\n",
    "\n",
    "Tests of ``+`` with mixed types, swapped operands::\n",
    "\n",
    "    >>> (10, 20, 30) + v1\n",
    "    Vector([13.0, 24.0, 35.0])\n",
    "    >>> from vector2d_v3 import Vector2d\n",
    "    >>> v2d = Vector2d(1, 2)\n",
    "    >>> v2d + v1\n",
    "    Vector([4.0, 6.0, 5.0])\n",
    "\n",
    "\n",
    "Tests of ``+`` with an unsuitable operand:\n",
    "\n",
    "    >>> v1 + 1\n",
    "    Traceback (most recent call last):\n",
    "      ...\n",
    "    TypeError: unsupported operand type(s) for +: 'Vector' and 'int'\n",
    "    >>> v1 + 'ABC'\n",
    "    Traceback (most recent call last):\n",
    "      ...\n",
    "    TypeError: unsupported operand type(s) for +: 'Vector' and 'str'\n",
    "\n",
    "\n",
    "Basic tests of operator ``*``::\n",
    "\n",
    "    >>> v1 = Vector([1, 2, 3])\n",
    "    >>> v1 * 10\n",
    "    Vector([10.0, 20.0, 30.0])\n",
    "    >>> 10 * v1\n",
    "    Vector([10.0, 20.0, 30.0])\n",
    "\n",
    "\n",
    "Tests of ``*`` with unusual but valid operands::\n",
    "\n",
    "    >>> v1 * True\n",
    "    Vector([1.0, 2.0, 3.0])\n",
    "    >>> from fractions import Fraction\n",
    "    >>> v1 * Fraction(1, 3)  # doctest:+ELLIPSIS\n",
    "    Vector([0.3333..., 0.6666..., 1.0])\n",
    "\n",
    "\n",
    "Tests of ``*`` with unsuitable operands::\n",
    "\n",
    "    >>> v1 * (1, 2)\n",
    "    Traceback (most recent call last):\n",
    "      ...\n",
    "    TypeError: can't multiply sequence by non-int of type 'Vector'\n",
    "\n",
    "\n",
    "Tests of operator `==`::\n",
    "\n",
    "    >>> va = Vector(range(1, 4))\n",
    "    >>> vb = Vector([1.0, 2.0, 3.0])\n",
    "    >>> va == vb\n",
    "    True\n",
    "    >>> vc = Vector([1, 2])\n",
    "    >>> from vector2d_v3 import Vector2d\n",
    "    >>> v2d = Vector2d(1, 2)\n",
    "    >>> vc == v2d\n",
    "    True\n",
    "    >>> va == (1, 2, 3)\n",
    "    False\n",
    "\n",
    "\n",
    "Tests of operator `!=`::\n",
    "\n",
    "    >>> va != vb\n",
    "    False\n",
    "    >>> vc != v2d\n",
    "    False\n",
    "    >>> va != (1, 2, 3)\n",
    "    True\n",
    "\n",
    "\"\"\"\n",
    "\n",
    "from array import array\n",
    "import reprlib\n",
    "import math\n",
    "import numbers\n",
    "import functools\n",
    "import operator\n",
    "import itertools\n",
    "\n",
    "\n",
    "class Vector:\n",
    "    typecode = 'd'\n",
    "\n",
    "    def __init__(self, components):\n",
    "        self._components = array(self.typecode, components)\n",
    "\n",
    "    def __iter__(self):\n",
    "        return iter(self._components)\n",
    "\n",
    "    def __repr__(self):\n",
    "        components = reprlib.repr(self._components)\n",
    "        components = components[components.find('['):-1]\n",
    "        return f'Vector({components})'\n",
    "\n",
    "    def __str__(self):\n",
    "        return str(tuple(self))\n",
    "\n",
    "    def __bytes__(self):\n",
    "        return (bytes([ord(self.typecode)]) +\n",
    "                bytes(self._components))\n",
    "\n",
    "# tag::VECTOR_V8_EQ[]\n",
    "    def __eq__(self, other):\n",
    "        if isinstance(other, Vector):  # <1>\n",
    "            return (len(self) == len(other) and\n",
    "                    all(a == b for a, b in zip(self, other)))\n",
    "        else:\n",
    "            return NotImplemented  # <2>\n",
    "# end::VECTOR_V8_EQ[]\n",
    "\n",
    "    def __hash__(self):\n",
    "        hashes = (hash(x) for x in self)\n",
    "        return functools.reduce(operator.xor, hashes, 0)\n",
    "\n",
    "    def __abs__(self):\n",
    "        return math.hypot(*self)\n",
    "\n",
    "    def __neg__(self):\n",
    "        return Vector(-x for x in self)\n",
    "\n",
    "    def __pos__(self):\n",
    "        return Vector(self)\n",
    "\n",
    "    def __bool__(self):\n",
    "        return bool(abs(self))\n",
    "\n",
    "    def __len__(self):\n",
    "        return len(self._components)\n",
    "\n",
    "    def __getitem__(self, key):\n",
    "        if isinstance(key, slice):\n",
    "            cls = type(self)\n",
    "            return cls(self._components[key])\n",
    "        index = operator.index(key)\n",
    "        return self._components[index]\n",
    "\n",
    "    __match_args__ = ('x', 'y', 'z', 't')\n",
    "\n",
    "    def __getattr__(self, name):\n",
    "        cls = type(self)\n",
    "        try:\n",
    "            pos = cls.__match_args__.index(name)\n",
    "        except ValueError:\n",
    "            pos = -1\n",
    "        if 0 <= pos < len(self._components):\n",
    "            return self._components[pos]\n",
    "        msg = f'{cls.__name__!r} object has no attribute {name!r}'\n",
    "        raise AttributeError(msg)\n",
    "\n",
    "    def angle(self, n):\n",
    "        r = math.hypot(*self[n:])\n",
    "        a = math.atan2(r, self[n-1])\n",
    "        if (n == len(self) - 1) and (self[-1] < 0):\n",
    "            return math.pi * 2 - a\n",
    "        else:\n",
    "            return a\n",
    "\n",
    "    def angles(self):\n",
    "        return (self.angle(n) for n in range(1, len(self)))\n",
    "\n",
    "    def __format__(self, fmt_spec=''):\n",
    "        if fmt_spec.endswith('h'):  # hyperspherical coordinates\n",
    "            fmt_spec = fmt_spec[:-1]\n",
    "            coords = itertools.chain([abs(self)],\n",
    "                                     self.angles())\n",
    "            outer_fmt = '<{}>'\n",
    "        else:\n",
    "            coords = self\n",
    "            outer_fmt = '({})'\n",
    "        components = (format(c, fmt_spec) for c in coords)\n",
    "        return outer_fmt.format(', '.join(components))\n",
    "\n",
    "    @classmethod\n",
    "    def frombytes(cls, octets):\n",
    "        typecode = chr(octets[0])\n",
    "        memv = memoryview(octets[1:]).cast(typecode)\n",
    "        return cls(memv)\n",
    "\n",
    "    def __add__(self, other):\n",
    "        try:\n",
    "            pairs = itertools.zip_longest(self, other, fillvalue=0.0)\n",
    "            return Vector(a + b for a, b in pairs)\n",
    "        except TypeError:\n",
    "            return NotImplemented\n",
    "\n",
    "    def __radd__(self, other):\n",
    "        return self + other\n",
    "\n",
    "    def __mul__(self, scalar):\n",
    "        if isinstance(scalar, numbers.Real):\n",
    "            return Vector(n * scalar for n in self)\n",
    "        else:\n",
    "            return NotImplemented\n",
    "\n",
    "    def __rmul__(self, scalar):\n",
    "        return self * scalar\n"
   ]
  },
  {
   "cell_type": "code",
   "execution_count": 86,
   "id": "81ef31a8",
   "metadata": {},
   "outputs": [
    {
     "data": {
      "text/plain": [
       "2"
      ]
     },
     "execution_count": 86,
     "metadata": {},
     "output_type": "execute_result"
    }
   ],
   "source": [
    "operator.index(2)"
   ]
  },
  {
   "cell_type": "code",
   "execution_count": 87,
   "id": "a06c4b9b",
   "metadata": {},
   "outputs": [
    {
     "data": {
      "text/plain": [
       "Vector([9.0, 11.0, 13.0])"
      ]
     },
     "execution_count": 87,
     "metadata": {},
     "output_type": "execute_result"
    }
   ],
   "source": [
    "v1 = Vector([3, 4, 5])\n",
    "v2 = Vector([6, 7, 8])\n",
    "v1 + v2"
   ]
  },
  {
   "cell_type": "code",
   "execution_count": 88,
   "id": "1940bb70",
   "metadata": {},
   "outputs": [
    {
     "data": {
      "text/plain": [
       "Vector([4.0, 6.0, 5.0])"
      ]
     },
     "execution_count": 88,
     "metadata": {},
     "output_type": "execute_result"
    }
   ],
   "source": [
    "v3 = Vector([1, 2])\n",
    "v1 + v3  # short vectors are filled with 0.0 on addition"
   ]
  },
  {
   "cell_type": "code",
   "execution_count": 89,
   "id": "cc3d6bdb",
   "metadata": {},
   "outputs": [
    {
     "data": {
      "text/plain": [
       "Vector([13.0, 24.0, 35.0])"
      ]
     },
     "execution_count": 89,
     "metadata": {},
     "output_type": "execute_result"
    }
   ],
   "source": [
    "(10, 20, 30) + v1"
   ]
  },
  {
   "cell_type": "code",
   "execution_count": 90,
   "id": "1871b000",
   "metadata": {},
   "outputs": [
    {
     "ename": "TypeError",
     "evalue": "unsupported operand type(s) for +: 'Vector' and 'int'",
     "output_type": "error",
     "traceback": [
      "\u001b[1;31m---------------------------------------------------------------------------\u001b[0m",
      "\u001b[1;31mTypeError\u001b[0m                                 Traceback (most recent call last)",
      "Input \u001b[1;32mIn [90]\u001b[0m, in \u001b[0;36m<cell line: 1>\u001b[1;34m()\u001b[0m\n\u001b[1;32m----> 1\u001b[0m \u001b[43mv1\u001b[49m\u001b[43m \u001b[49m\u001b[38;5;241;43m+\u001b[39;49m\u001b[43m \u001b[49m\u001b[38;5;241;43m1\u001b[39;49m\n",
      "\u001b[1;31mTypeError\u001b[0m: unsupported operand type(s) for +: 'Vector' and 'int'"
     ]
    }
   ],
   "source": [
    "v1 + 1"
   ]
  },
  {
   "cell_type": "code",
   "execution_count": 91,
   "id": "f687b610",
   "metadata": {},
   "outputs": [
    {
     "data": {
      "text/plain": [
       "Vector([10.0, 20.0, 30.0])"
      ]
     },
     "execution_count": 91,
     "metadata": {},
     "output_type": "execute_result"
    }
   ],
   "source": [
    "v1 = Vector([1, 2, 3])\n",
    "v1 * 10"
   ]
  },
  {
   "cell_type": "code",
   "execution_count": 92,
   "id": "d10815be",
   "metadata": {},
   "outputs": [
    {
     "data": {
      "text/plain": [
       "Vector([10.0, 20.0, 30.0])"
      ]
     },
     "execution_count": 92,
     "metadata": {},
     "output_type": "execute_result"
    }
   ],
   "source": [
    "10 * v1"
   ]
  },
  {
   "cell_type": "code",
   "execution_count": 93,
   "id": "c021c737",
   "metadata": {},
   "outputs": [
    {
     "ename": "TypeError",
     "evalue": "can't multiply sequence by non-int of type 'Vector'",
     "output_type": "error",
     "traceback": [
      "\u001b[1;31m---------------------------------------------------------------------------\u001b[0m",
      "\u001b[1;31mTypeError\u001b[0m                                 Traceback (most recent call last)",
      "Input \u001b[1;32mIn [93]\u001b[0m, in \u001b[0;36m<cell line: 1>\u001b[1;34m()\u001b[0m\n\u001b[1;32m----> 1\u001b[0m \u001b[43mv1\u001b[49m\u001b[43m \u001b[49m\u001b[38;5;241;43m*\u001b[39;49m\u001b[43m \u001b[49m\u001b[43m(\u001b[49m\u001b[38;5;241;43m1\u001b[39;49m\u001b[43m,\u001b[49m\u001b[43m \u001b[49m\u001b[38;5;241;43m2\u001b[39;49m\u001b[43m)\u001b[49m\n",
      "\u001b[1;31mTypeError\u001b[0m: can't multiply sequence by non-int of type 'Vector'"
     ]
    }
   ],
   "source": [
    "v1 * (1, 2)"
   ]
  },
  {
   "cell_type": "code",
   "execution_count": 94,
   "id": "822e0b31",
   "metadata": {},
   "outputs": [
    {
     "data": {
      "text/plain": [
       "True"
      ]
     },
     "execution_count": 94,
     "metadata": {},
     "output_type": "execute_result"
    }
   ],
   "source": [
    "va = Vector(range(1, 4))\n",
    "vb = Vector([1.0, 2.0, 3.0])\n",
    "va == vb"
   ]
  },
  {
   "cell_type": "code",
   "execution_count": 95,
   "id": "19b7ae61",
   "metadata": {},
   "outputs": [
    {
     "data": {
      "text/plain": [
       "Vector([1.0, 2.0, 3.0])"
      ]
     },
     "execution_count": 95,
     "metadata": {},
     "output_type": "execute_result"
    }
   ],
   "source": [
    "va "
   ]
  },
  {
   "cell_type": "code",
   "execution_count": 96,
   "id": "5e5f2634",
   "metadata": {},
   "outputs": [
    {
     "data": {
      "text/plain": [
       "Vector([1.0, 2.0, 3.0])"
      ]
     },
     "execution_count": 96,
     "metadata": {},
     "output_type": "execute_result"
    }
   ],
   "source": [
    "vb"
   ]
  },
  {
   "cell_type": "code",
   "execution_count": 97,
   "id": "bc15addf",
   "metadata": {},
   "outputs": [
    {
     "data": {
      "text/plain": [
       "True"
      ]
     },
     "execution_count": 97,
     "metadata": {},
     "output_type": "execute_result"
    }
   ],
   "source": [
    "vc = Vector([1, 2])\n",
    "from vector2d_v3 import Vector2d\n",
    "v2d = Vector2d(1, 2)\n",
    "vc == v2d"
   ]
  },
  {
   "cell_type": "code",
   "execution_count": 98,
   "id": "10e8b063",
   "metadata": {},
   "outputs": [
    {
     "data": {
      "text/plain": [
       "Vector([1.0, 2.0])"
      ]
     },
     "execution_count": 98,
     "metadata": {},
     "output_type": "execute_result"
    }
   ],
   "source": [
    "vc"
   ]
  },
  {
   "cell_type": "code",
   "execution_count": 99,
   "id": "d6efa01b",
   "metadata": {},
   "outputs": [
    {
     "data": {
      "text/plain": [
       "Vector2d(1.0, 2.0)"
      ]
     },
     "execution_count": 99,
     "metadata": {},
     "output_type": "execute_result"
    }
   ],
   "source": [
    "v2d"
   ]
  },
  {
   "cell_type": "code",
   "execution_count": 100,
   "id": "a53ae64e",
   "metadata": {},
   "outputs": [
    {
     "data": {
      "text/plain": [
       "False"
      ]
     },
     "execution_count": 100,
     "metadata": {},
     "output_type": "execute_result"
    }
   ],
   "source": [
    "va == (1, 2, 3)"
   ]
  },
  {
   "cell_type": "code",
   "execution_count": 101,
   "id": "c98f472a",
   "metadata": {},
   "outputs": [
    {
     "data": {
      "text/plain": [
       "False"
      ]
     },
     "execution_count": 101,
     "metadata": {},
     "output_type": "execute_result"
    }
   ],
   "source": [
    "isinstance((1, 2, 3), Vector)"
   ]
  },
  {
   "cell_type": "code",
   "execution_count": 102,
   "id": "daa337c3",
   "metadata": {},
   "outputs": [
    {
     "data": {
      "text/plain": [
       "Vector([3.0, 6.0])"
      ]
     },
     "execution_count": 102,
     "metadata": {},
     "output_type": "execute_result"
    }
   ],
   "source": [
    "vc*3"
   ]
  },
  {
   "cell_type": "code",
   "execution_count": 105,
   "id": "247fc68e",
   "metadata": {},
   "outputs": [
    {
     "ename": "TypeError",
     "evalue": "unsupported operand type(s) for @: 'Vector' and 'Vector'",
     "output_type": "error",
     "traceback": [
      "\u001b[1;31m---------------------------------------------------------------------------\u001b[0m",
      "\u001b[1;31mTypeError\u001b[0m                                 Traceback (most recent call last)",
      "Input \u001b[1;32mIn [105]\u001b[0m, in \u001b[0;36m<cell line: 3>\u001b[1;34m()\u001b[0m\n\u001b[0;32m      1\u001b[0m va \u001b[38;5;241m=\u001b[39m Vector([\u001b[38;5;241m1\u001b[39m, \u001b[38;5;241m2\u001b[39m, \u001b[38;5;241m3\u001b[39m])\n\u001b[0;32m      2\u001b[0m vz \u001b[38;5;241m=\u001b[39m Vector([\u001b[38;5;241m5\u001b[39m, \u001b[38;5;241m6\u001b[39m, \u001b[38;5;241m7\u001b[39m])\n\u001b[1;32m----> 3\u001b[0m \u001b[43mva\u001b[49m\u001b[43m \u001b[49m\u001b[38;5;241;43m@\u001b[39;49m\u001b[43m \u001b[49m\u001b[43mvz\u001b[49m\n",
      "\u001b[1;31mTypeError\u001b[0m: unsupported operand type(s) for @: 'Vector' and 'Vector'"
     ]
    }
   ],
   "source": [
    "va = Vector([1, 2, 3])\n",
    "vz = Vector([5, 6, 7])\n",
    "va @ vz"
   ]
  },
  {
   "cell_type": "code",
   "execution_count": 108,
   "id": "b9360aae",
   "metadata": {},
   "outputs": [],
   "source": [
    "# BEGIN TOMBOLA_ABC\n",
    "\n",
    "import abc\n",
    "\n",
    "class Tombola(abc.ABC):  # <1>\n",
    "\n",
    "    @abc.abstractmethod\n",
    "    def load(self, iterable):  # <2>\n",
    "        \"\"\"Add items from an iterable.\"\"\"\n",
    "\n",
    "    @abc.abstractmethod\n",
    "    def pick(self):  # <3>\n",
    "        \"\"\"Remove item at random, returning it.\n",
    "\n",
    "        This method should raise `LookupError` when the instance is empty.\n",
    "        \"\"\"\n",
    "\n",
    "    def loaded(self):  # <4>\n",
    "        \"\"\"Return `True` if there's at least 1 item, `False` otherwise.\"\"\"\n",
    "        return bool(self.inspect())  # <5>\n",
    "\n",
    "    def inspect(self):\n",
    "        \"\"\"Return a sorted tuple with the items currently inside.\"\"\"\n",
    "        items = []\n",
    "        while True:  # <6>\n",
    "            try:\n",
    "                items.append(self.pick())\n",
    "            except LookupError:\n",
    "                break\n",
    "        self.load(items)  # <7>\n",
    "        return tuple(sorted(items))\n",
    "\n",
    "# END TOMBOLA_ABC\n",
    "\n"
   ]
  },
  {
   "cell_type": "code",
   "execution_count": 110,
   "id": "9452cea9",
   "metadata": {},
   "outputs": [
    {
     "data": {
      "text/plain": [
       "<random.SystemRandom at 0x22c69017870>"
      ]
     },
     "execution_count": 110,
     "metadata": {},
     "output_type": "execute_result"
    }
   ],
   "source": [
    "random.SystemRandom()"
   ]
  },
  {
   "cell_type": "code",
   "execution_count": 106,
   "id": "e13b1975",
   "metadata": {},
   "outputs": [],
   "source": [
    "# BEGIN TOMBOLA_BINGO\n",
    "\n",
    "import random\n",
    "\n",
    "from tombola import Tombola\n",
    "\n",
    "\n",
    "class BingoCage(Tombola):  # <1>\n",
    "\n",
    "    def __init__(self, items):\n",
    "        self._randomizer = random.SystemRandom()  # <2>\n",
    "        self._items = []\n",
    "        self.load(items)  # <3>\n",
    "\n",
    "    def load(self, items):\n",
    "        self._items.extend(items)\n",
    "        self._randomizer.shuffle(self._items)  # <4>\n",
    "\n",
    "    def pick(self):  # <5>\n",
    "        try:\n",
    "            return self._items.pop()\n",
    "        except IndexError:\n",
    "            raise LookupError('pick from empty BingoCage')\n",
    "\n",
    "    def __call__(self):  # <7>\n",
    "        self.pick()\n",
    "\n",
    "# END TOMBOLA_BINGO\n"
   ]
  },
  {
   "cell_type": "code",
   "execution_count": 111,
   "id": "4e41de91",
   "metadata": {},
   "outputs": [],
   "source": [
    "\"\"\"\n",
    "======================\n",
    "AddableBingoCage tests\n",
    "======================\n",
    "\n",
    "\n",
    "Tests for __add__:\n",
    "\n",
    "# tag::ADDABLE_BINGO_ADD_DEMO[]\n",
    "\n",
    "    >>> vowels = 'AEIOU'\n",
    "    >>> globe = AddableBingoCage(vowels)  # <1>\n",
    "    >>> globe.inspect()\n",
    "    ('A', 'E', 'I', 'O', 'U')\n",
    "    >>> globe.pick() in vowels  # <2>\n",
    "    True\n",
    "    >>> len(globe.inspect())  # <3>\n",
    "    4\n",
    "    >>> globe2 = AddableBingoCage('XYZ')  # <4>\n",
    "    >>> globe3 = globe + globe2\n",
    "    >>> len(globe3.inspect())  # <5>\n",
    "    7\n",
    "    >>> void = globe + [10, 20]  # <6>\n",
    "    Traceback (most recent call last):\n",
    "      ...\n",
    "    TypeError: unsupported operand type(s) for +: 'AddableBingoCage' and 'list'\n",
    "\n",
    "\n",
    "# end::ADDABLE_BINGO_ADD_DEMO[]\n",
    "\n",
    "Tests for __iadd__:\n",
    "\n",
    "# tag::ADDABLE_BINGO_IADD_DEMO[]\n",
    "\n",
    "    >>> globe_orig = globe  # <1>\n",
    "    >>> len(globe.inspect())  # <2>\n",
    "    4\n",
    "    >>> globe += globe2  # <3>\n",
    "    >>> len(globe.inspect())\n",
    "    7\n",
    "    >>> globe += ['M', 'N']  # <4>\n",
    "    >>> len(globe.inspect())\n",
    "    9\n",
    "    >>> globe is globe_orig  # <5>\n",
    "    True\n",
    "    >>> globe += 1  # <6>\n",
    "    Traceback (most recent call last):\n",
    "      ...\n",
    "    TypeError: right operand in += must be 'Tombola' or an iterable\n",
    "\n",
    "# end::ADDABLE_BINGO_IADD_DEMO[]\n",
    "\n",
    "\"\"\"\n",
    "\n",
    "# tag::ADDABLE_BINGO[]\n",
    "from tombola import Tombola\n",
    "from bingo import BingoCage\n",
    "\n",
    "\n",
    "class AddableBingoCage(BingoCage):  # <1>\n",
    "\n",
    "    def __add__(self, other):\n",
    "        if isinstance(other, Tombola):  # <2>\n",
    "            return AddableBingoCage(self.inspect() + other.inspect())\n",
    "        else:\n",
    "            return NotImplemented\n",
    "\n",
    "    def __iadd__(self, other):\n",
    "        if isinstance(other, Tombola):\n",
    "            other_iterable = other.inspect()  # <3>\n",
    "        else:\n",
    "            try:\n",
    "                other_iterable = iter(other)  # <4>\n",
    "            except TypeError:  # <5>\n",
    "                msg = ('right operand in += must be '\n",
    "                       \"'Tombola' or an iterable\")\n",
    "                raise TypeError(msg)\n",
    "        self.load(other_iterable)  # <6>\n",
    "        return self  # <7>\n",
    "\n",
    "# end::ADDABLE_BINGO[]\n"
   ]
  },
  {
   "cell_type": "code",
   "execution_count": 112,
   "id": "cccec13d",
   "metadata": {},
   "outputs": [
    {
     "data": {
      "text/plain": [
       "('A', 'E', 'I', 'O', 'U')"
      ]
     },
     "execution_count": 112,
     "metadata": {},
     "output_type": "execute_result"
    }
   ],
   "source": [
    "vowels = 'AEIOU'\n",
    "globe = AddableBingoCage(vowels)  # <1>\n",
    "globe.inspect()"
   ]
  },
  {
   "cell_type": "code",
   "execution_count": 113,
   "id": "7fb85bfb",
   "metadata": {},
   "outputs": [
    {
     "data": {
      "text/plain": [
       "True"
      ]
     },
     "execution_count": 113,
     "metadata": {},
     "output_type": "execute_result"
    }
   ],
   "source": [
    "globe.pick() in vowels  # <2>"
   ]
  },
  {
   "cell_type": "code",
   "execution_count": 114,
   "id": "bd819c16",
   "metadata": {},
   "outputs": [
    {
     "data": {
      "text/plain": [
       "'U'"
      ]
     },
     "execution_count": 114,
     "metadata": {},
     "output_type": "execute_result"
    }
   ],
   "source": [
    "globe.pick()"
   ]
  },
  {
   "cell_type": "code",
   "execution_count": 115,
   "id": "6cd85f09",
   "metadata": {},
   "outputs": [
    {
     "data": {
      "text/plain": [
       "'O'"
      ]
     },
     "execution_count": 115,
     "metadata": {},
     "output_type": "execute_result"
    }
   ],
   "source": [
    "globe.pick()"
   ]
  },
  {
   "cell_type": "code",
   "execution_count": 116,
   "id": "3a9eeb41",
   "metadata": {},
   "outputs": [
    {
     "data": {
      "text/plain": [
       "2"
      ]
     },
     "execution_count": 116,
     "metadata": {},
     "output_type": "execute_result"
    }
   ],
   "source": [
    "len(globe.inspect())  # <3>"
   ]
  },
  {
   "cell_type": "code",
   "execution_count": 118,
   "id": "8af5b72d",
   "metadata": {},
   "outputs": [
    {
     "data": {
      "text/plain": [
       "5"
      ]
     },
     "execution_count": 118,
     "metadata": {},
     "output_type": "execute_result"
    }
   ],
   "source": [
    "globe2 = AddableBingoCage('XYZ')  # <4>\n",
    "globe3 = globe + globe2\n",
    "len(globe3.inspect())  # <5>"
   ]
  },
  {
   "cell_type": "code",
   "execution_count": 119,
   "id": "36435986",
   "metadata": {},
   "outputs": [
    {
     "ename": "TypeError",
     "evalue": "unsupported operand type(s) for +: 'AddableBingoCage' and 'list'",
     "output_type": "error",
     "traceback": [
      "\u001b[1;31m---------------------------------------------------------------------------\u001b[0m",
      "\u001b[1;31mTypeError\u001b[0m                                 Traceback (most recent call last)",
      "Input \u001b[1;32mIn [119]\u001b[0m, in \u001b[0;36m<cell line: 1>\u001b[1;34m()\u001b[0m\n\u001b[1;32m----> 1\u001b[0m void \u001b[38;5;241m=\u001b[39m \u001b[43mglobe\u001b[49m\u001b[43m \u001b[49m\u001b[38;5;241;43m+\u001b[39;49m\u001b[43m \u001b[49m\u001b[43m[\u001b[49m\u001b[38;5;241;43m10\u001b[39;49m\u001b[43m,\u001b[49m\u001b[43m \u001b[49m\u001b[38;5;241;43m20\u001b[39;49m\u001b[43m]\u001b[49m\n",
      "\u001b[1;31mTypeError\u001b[0m: unsupported operand type(s) for +: 'AddableBingoCage' and 'list'"
     ]
    }
   ],
   "source": [
    "void = globe + [10, 20]  # <6>"
   ]
  },
  {
   "cell_type": "code",
   "execution_count": 121,
   "id": "dc796d0a",
   "metadata": {},
   "outputs": [
    {
     "data": {
      "text/plain": [
       "2"
      ]
     },
     "execution_count": 121,
     "metadata": {},
     "output_type": "execute_result"
    }
   ],
   "source": [
    "globe_orig = globe  # <1>\n",
    "len(globe.inspect())  # <2>"
   ]
  },
  {
   "cell_type": "code",
   "execution_count": 122,
   "id": "3c117a79",
   "metadata": {},
   "outputs": [
    {
     "data": {
      "text/plain": [
       "5"
      ]
     },
     "execution_count": 122,
     "metadata": {},
     "output_type": "execute_result"
    }
   ],
   "source": [
    "globe += globe2  # <3>\n",
    "len(globe.inspect())"
   ]
  },
  {
   "cell_type": "code",
   "execution_count": 123,
   "id": "46233bab",
   "metadata": {},
   "outputs": [
    {
     "data": {
      "text/plain": [
       "7"
      ]
     },
     "execution_count": 123,
     "metadata": {},
     "output_type": "execute_result"
    }
   ],
   "source": [
    "globe += ['M', 'N']  # <4>\n",
    "len(globe.inspect())"
   ]
  },
  {
   "cell_type": "code",
   "execution_count": 124,
   "id": "9bcf24a9",
   "metadata": {},
   "outputs": [
    {
     "data": {
      "text/plain": [
       "True"
      ]
     },
     "execution_count": 124,
     "metadata": {},
     "output_type": "execute_result"
    }
   ],
   "source": [
    "globe is globe_orig  # <5>"
   ]
  },
  {
   "cell_type": "code",
   "execution_count": 125,
   "id": "04936fcd",
   "metadata": {},
   "outputs": [
    {
     "ename": "TypeError",
     "evalue": "right operand in += must be 'Tombola' or an iterable",
     "output_type": "error",
     "traceback": [
      "\u001b[1;31m---------------------------------------------------------------------------\u001b[0m",
      "\u001b[1;31mTypeError\u001b[0m                                 Traceback (most recent call last)",
      "Input \u001b[1;32mIn [111]\u001b[0m, in \u001b[0;36mAddableBingoCage.__iadd__\u001b[1;34m(self, other)\u001b[0m\n\u001b[0;32m     72\u001b[0m \u001b[38;5;28;01mtry\u001b[39;00m:\n\u001b[1;32m---> 73\u001b[0m     other_iterable \u001b[38;5;241m=\u001b[39m \u001b[38;5;28;43miter\u001b[39;49m\u001b[43m(\u001b[49m\u001b[43mother\u001b[49m\u001b[43m)\u001b[49m  \u001b[38;5;66;03m# <4>\u001b[39;00m\n\u001b[0;32m     74\u001b[0m \u001b[38;5;28;01mexcept\u001b[39;00m \u001b[38;5;167;01mTypeError\u001b[39;00m:  \u001b[38;5;66;03m# <5>\u001b[39;00m\n",
      "\u001b[1;31mTypeError\u001b[0m: 'int' object is not iterable",
      "\nDuring handling of the above exception, another exception occurred:\n",
      "\u001b[1;31mTypeError\u001b[0m                                 Traceback (most recent call last)",
      "Input \u001b[1;32mIn [125]\u001b[0m, in \u001b[0;36m<cell line: 1>\u001b[1;34m()\u001b[0m\n\u001b[1;32m----> 1\u001b[0m globe \u001b[38;5;241m+\u001b[39m\u001b[38;5;241m=\u001b[39m \u001b[38;5;241m1\u001b[39m\n",
      "Input \u001b[1;32mIn [111]\u001b[0m, in \u001b[0;36mAddableBingoCage.__iadd__\u001b[1;34m(self, other)\u001b[0m\n\u001b[0;32m     74\u001b[0m     \u001b[38;5;28;01mexcept\u001b[39;00m \u001b[38;5;167;01mTypeError\u001b[39;00m:  \u001b[38;5;66;03m# <5>\u001b[39;00m\n\u001b[0;32m     75\u001b[0m         msg \u001b[38;5;241m=\u001b[39m (\u001b[38;5;124m'\u001b[39m\u001b[38;5;124mright operand in += must be \u001b[39m\u001b[38;5;124m'\u001b[39m\n\u001b[0;32m     76\u001b[0m                \u001b[38;5;124m\"\u001b[39m\u001b[38;5;124m'\u001b[39m\u001b[38;5;124mTombola\u001b[39m\u001b[38;5;124m'\u001b[39m\u001b[38;5;124m or an iterable\u001b[39m\u001b[38;5;124m\"\u001b[39m)\n\u001b[1;32m---> 77\u001b[0m         \u001b[38;5;28;01mraise\u001b[39;00m \u001b[38;5;167;01mTypeError\u001b[39;00m(msg)\n\u001b[0;32m     78\u001b[0m \u001b[38;5;28mself\u001b[39m\u001b[38;5;241m.\u001b[39mload(other_iterable)  \u001b[38;5;66;03m# <6>\u001b[39;00m\n\u001b[0;32m     79\u001b[0m \u001b[38;5;28;01mreturn\u001b[39;00m \u001b[38;5;28mself\u001b[39m\n",
      "\u001b[1;31mTypeError\u001b[0m: right operand in += must be 'Tombola' or an iterable"
     ]
    }
   ],
   "source": [
    "globe += 1  # <6>"
   ]
  },
  {
   "cell_type": "code",
   "execution_count": null,
   "id": "7f9e0d6d",
   "metadata": {},
   "outputs": [],
   "source": []
  }
 ],
 "metadata": {
  "kernelspec": {
   "display_name": "Python 3 (ipykernel)",
   "language": "python",
   "name": "python3"
  },
  "language_info": {
   "codemirror_mode": {
    "name": "ipython",
    "version": 3
   },
   "file_extension": ".py",
   "mimetype": "text/x-python",
   "name": "python",
   "nbconvert_exporter": "python",
   "pygments_lexer": "ipython3",
   "version": "3.8.13"
  }
 },
 "nbformat": 4,
 "nbformat_minor": 5
}
