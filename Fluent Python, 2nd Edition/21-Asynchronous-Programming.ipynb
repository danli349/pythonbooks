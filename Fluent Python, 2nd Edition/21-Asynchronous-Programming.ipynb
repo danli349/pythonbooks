{
 "cells": [
  {
   "cell_type": "code",
   "execution_count": 1,
   "id": "912239b3",
   "metadata": {},
   "outputs": [
    {
     "data": {
      "text/plain": [
       "['D:\\\\books\\\\python\\\\0.   Fluent Python, 2nd Edition',\n",
       " 'D:/books/python/0.   Fluent Python, 2nd Edition/example-code-2e/21-async/',\n",
       " 'C:\\\\Users\\\\lidan\\\\miniconda3\\\\python38.zip',\n",
       " 'C:\\\\Users\\\\lidan\\\\miniconda3\\\\DLLs',\n",
       " 'C:\\\\Users\\\\lidan\\\\miniconda3\\\\lib',\n",
       " 'C:\\\\Users\\\\lidan\\\\miniconda3',\n",
       " '',\n",
       " 'C:\\\\Users\\\\lidan\\\\AppData\\\\Roaming\\\\Python\\\\Python38\\\\site-packages',\n",
       " 'C:\\\\Users\\\\lidan\\\\miniconda3\\\\lib\\\\site-packages',\n",
       " 'C:\\\\Users\\\\lidan\\\\miniconda3\\\\lib\\\\site-packages\\\\magic_impute-2.0.4-py3.8.egg',\n",
       " 'C:\\\\Users\\\\lidan\\\\miniconda3\\\\lib\\\\site-packages\\\\seqc-0.2.0-py3.8.egg',\n",
       " 'C:\\\\Users\\\\lidan\\\\miniconda3\\\\lib\\\\site-packages\\\\weasyprint-56.1-py3.8.egg',\n",
       " 'C:\\\\Users\\\\lidan\\\\miniconda3\\\\lib\\\\site-packages\\\\cairocffi-1.3.0-py3.8.egg',\n",
       " 'C:\\\\Users\\\\lidan\\\\miniconda3\\\\lib\\\\site-packages\\\\win32',\n",
       " 'C:\\\\Users\\\\lidan\\\\miniconda3\\\\lib\\\\site-packages\\\\win32\\\\lib',\n",
       " 'C:\\\\Users\\\\lidan\\\\miniconda3\\\\lib\\\\site-packages\\\\Pythonwin']"
      ]
     },
     "execution_count": 1,
     "metadata": {},
     "output_type": "execute_result"
    }
   ],
   "source": [
    "import sys\n",
    "    # caution: path[0] is reserved for script path (or '' in REPL)\n",
    "sys.path.insert(1, 'D:/books/python/0.   Fluent Python, 2nd Edition/example-code-2e/21-async/')\n",
    "sys.path"
   ]
  },
  {
   "cell_type": "code",
   "execution_count": 2,
   "id": "7278f05e",
   "metadata": {},
   "outputs": [
    {
     "ename": "RuntimeError",
     "evalue": "asyncio.run() cannot be called from a running event loop",
     "output_type": "error",
     "traceback": [
      "\u001b[1;31m---------------------------------------------------------------------------\u001b[0m",
      "\u001b[1;31mRuntimeError\u001b[0m                              Traceback (most recent call last)",
      "Input \u001b[1;32mIn [2]\u001b[0m, in \u001b[0;36m<cell line: 29>\u001b[1;34m()\u001b[0m\n\u001b[0;32m     26\u001b[0m         \u001b[38;5;28mprint\u001b[39m(\u001b[38;5;124mf\u001b[39m\u001b[38;5;124m'\u001b[39m\u001b[38;5;132;01m{\u001b[39;00mmark\u001b[38;5;132;01m}\u001b[39;00m\u001b[38;5;124m \u001b[39m\u001b[38;5;132;01m{\u001b[39;00mdomain\u001b[38;5;132;01m}\u001b[39;00m\u001b[38;5;124m'\u001b[39m)\n\u001b[0;32m     29\u001b[0m \u001b[38;5;28;01mif\u001b[39;00m \u001b[38;5;18m__name__\u001b[39m \u001b[38;5;241m==\u001b[39m \u001b[38;5;124m'\u001b[39m\u001b[38;5;124m__main__\u001b[39m\u001b[38;5;124m'\u001b[39m:\n\u001b[1;32m---> 30\u001b[0m     \u001b[43masyncio\u001b[49m\u001b[38;5;241;43m.\u001b[39;49m\u001b[43mrun\u001b[49m\u001b[43m(\u001b[49m\u001b[43mmain\u001b[49m\u001b[43m(\u001b[49m\u001b[43m)\u001b[49m\u001b[43m)\u001b[49m\n",
      "File \u001b[1;32m~\\miniconda3\\lib\\asyncio\\runners.py:33\u001b[0m, in \u001b[0;36mrun\u001b[1;34m(main, debug)\u001b[0m\n\u001b[0;32m      9\u001b[0m \u001b[38;5;124;03m\"\"\"Execute the coroutine and return the result.\u001b[39;00m\n\u001b[0;32m     10\u001b[0m \n\u001b[0;32m     11\u001b[0m \u001b[38;5;124;03mThis function runs the passed coroutine, taking care of\u001b[39;00m\n\u001b[1;32m   (...)\u001b[0m\n\u001b[0;32m     30\u001b[0m \u001b[38;5;124;03m    asyncio.run(main())\u001b[39;00m\n\u001b[0;32m     31\u001b[0m \u001b[38;5;124;03m\"\"\"\u001b[39;00m\n\u001b[0;32m     32\u001b[0m \u001b[38;5;28;01mif\u001b[39;00m events\u001b[38;5;241m.\u001b[39m_get_running_loop() \u001b[38;5;129;01mis\u001b[39;00m \u001b[38;5;129;01mnot\u001b[39;00m \u001b[38;5;28;01mNone\u001b[39;00m:\n\u001b[1;32m---> 33\u001b[0m     \u001b[38;5;28;01mraise\u001b[39;00m \u001b[38;5;167;01mRuntimeError\u001b[39;00m(\n\u001b[0;32m     34\u001b[0m         \u001b[38;5;124m\"\u001b[39m\u001b[38;5;124masyncio.run() cannot be called from a running event loop\u001b[39m\u001b[38;5;124m\"\u001b[39m)\n\u001b[0;32m     36\u001b[0m \u001b[38;5;28;01mif\u001b[39;00m \u001b[38;5;129;01mnot\u001b[39;00m coroutines\u001b[38;5;241m.\u001b[39miscoroutine(main):\n\u001b[0;32m     37\u001b[0m     \u001b[38;5;28;01mraise\u001b[39;00m \u001b[38;5;167;01mValueError\u001b[39;00m(\u001b[38;5;124m\"\u001b[39m\u001b[38;5;124ma coroutine was expected, got \u001b[39m\u001b[38;5;132;01m{!r}\u001b[39;00m\u001b[38;5;124m\"\u001b[39m\u001b[38;5;241m.\u001b[39mformat(main))\n",
      "\u001b[1;31mRuntimeError\u001b[0m: asyncio.run() cannot be called from a running event loop"
     ]
    }
   ],
   "source": [
    "#!/usr/bin/env python3\n",
    "import asyncio\n",
    "import socket\n",
    "from keyword import kwlist\n",
    "from typing import Tuple\n",
    "\n",
    "MAX_KEYWORD_LEN = 4  # <1>\n",
    "\n",
    "\n",
    "async def probe(domain: str) -> Tuple[str, bool]:  # <2>\n",
    "    loop = asyncio.get_running_loop()  # <3>\n",
    "    try:\n",
    "        await loop.getaddrinfo(domain, None)  # <4>\n",
    "    except socket.gaierror:\n",
    "        return (domain, False)\n",
    "    return (domain, True)\n",
    "\n",
    "\n",
    "async def main() -> None:  # <5>\n",
    "    names = (kw for kw in kwlist if len(kw) <= MAX_KEYWORD_LEN)  # <6>\n",
    "    domains = (f'{name}.dev'.lower() for name in names)  # <7>\n",
    "    coros = [probe(domain) for domain in domains]  # <8>\n",
    "    for coro in asyncio.as_completed(coros):  # <9>\n",
    "        domain, found = await coro  # <10>\n",
    "        mark = '+' if found else ' '\n",
    "        print(f'{mark} {domain}')\n",
    "\n",
    "\n",
    "if __name__ == '__main__':\n",
    "    asyncio.run(main())  # <11>\n"
   ]
  },
  {
   "cell_type": "code",
   "execution_count": 2,
   "id": "fe0cb139",
   "metadata": {},
   "outputs": [
    {
     "name": "stdout",
     "output_type": "stream",
     "text": [
      "+ and.dev\n",
      "  is.dev\n",
      "+ from.dev\n",
      "+ def.dev\n",
      "  pass.dev\n",
      "  else.dev\n",
      "  if.dev\n",
      "+ not.dev\n",
      "  with.dev\n",
      "  true.dev\n",
      "+ del.dev\n",
      "  elif.dev\n",
      "+ in.dev\n",
      "  or.dev\n",
      "  none.dev\n",
      "+ as.dev\n",
      "+ try.dev\n",
      "  for.dev\n"
     ]
    }
   ],
   "source": [
    "!python ./example-code-2e/21-async/domains/asyncio/blogdom.py"
   ]
  },
  {
   "cell_type": "code",
   "execution_count": 5,
   "id": "02211e9a",
   "metadata": {},
   "outputs": [
    {
     "data": {
      "text/plain": [
       "['D:\\\\books\\\\python\\\\0.   Fluent Python, 2nd Edition',\n",
       " 'D:/books/python/0.   Fluent Python, 2nd Edition/example-code-2e/21-async/domains/asyncio',\n",
       " 'D:/books/python/0.   Fluent Python, 2nd Edition/example-code-2e/21-async/',\n",
       " 'C:\\\\Users\\\\lidan\\\\miniconda3\\\\python38.zip',\n",
       " 'C:\\\\Users\\\\lidan\\\\miniconda3\\\\DLLs',\n",
       " 'C:\\\\Users\\\\lidan\\\\miniconda3\\\\lib',\n",
       " 'C:\\\\Users\\\\lidan\\\\miniconda3',\n",
       " '',\n",
       " 'C:\\\\Users\\\\lidan\\\\AppData\\\\Roaming\\\\Python\\\\Python38\\\\site-packages',\n",
       " 'C:\\\\Users\\\\lidan\\\\miniconda3\\\\lib\\\\site-packages',\n",
       " 'C:\\\\Users\\\\lidan\\\\miniconda3\\\\lib\\\\site-packages\\\\magic_impute-2.0.4-py3.8.egg',\n",
       " 'C:\\\\Users\\\\lidan\\\\miniconda3\\\\lib\\\\site-packages\\\\seqc-0.2.0-py3.8.egg',\n",
       " 'C:\\\\Users\\\\lidan\\\\miniconda3\\\\lib\\\\site-packages\\\\weasyprint-56.1-py3.8.egg',\n",
       " 'C:\\\\Users\\\\lidan\\\\miniconda3\\\\lib\\\\site-packages\\\\cairocffi-1.3.0-py3.8.egg',\n",
       " 'C:\\\\Users\\\\lidan\\\\miniconda3\\\\lib\\\\site-packages\\\\win32',\n",
       " 'C:\\\\Users\\\\lidan\\\\miniconda3\\\\lib\\\\site-packages\\\\win32\\\\lib',\n",
       " 'C:\\\\Users\\\\lidan\\\\miniconda3\\\\lib\\\\site-packages\\\\Pythonwin']"
      ]
     },
     "execution_count": 5,
     "metadata": {},
     "output_type": "execute_result"
    }
   ],
   "source": [
    "import sys\n",
    "    # caution: path[0] is reserved for script path (or '' in REPL)\n",
    "sys.path.insert(1, 'D:/books/python/0.   Fluent Python, 2nd Edition/example-code-2e/21-async/domains/asyncio')\n",
    "sys.path"
   ]
  },
  {
   "cell_type": "code",
   "execution_count": 4,
   "id": "5f745f0b",
   "metadata": {},
   "outputs": [],
   "source": [
    "from __future__ import annotations\n",
    "import asyncio\n",
    "import socket\n",
    "from collections.abc import Iterable, AsyncIterator\n",
    "from typing import NamedTuple, Optional\n",
    "\n",
    "\n",
    "class Result(NamedTuple):  # <1>\n",
    "    domain: str\n",
    "    found: bool\n",
    "\n",
    "\n",
    "OptionalLoop = Optional[asyncio.AbstractEventLoop]  # <2>\n",
    "\n",
    "\n",
    "async def probe(domain: str, loop: OptionalLoop = None) -> Result:  # <3>\n",
    "    if loop is None:\n",
    "        loop = asyncio.get_running_loop()\n",
    "    try:\n",
    "        await loop.getaddrinfo(domain, None)\n",
    "    except socket.gaierror:\n",
    "        return Result(domain, False)\n",
    "    return Result(domain, True)\n",
    "\n",
    "\n",
    "async def multi_probe(domains: Iterable[str]) -> AsyncIterator[Result]:  # <4>\n",
    "    loop = asyncio.get_running_loop()\n",
    "    coros = [probe(domain, loop) for domain in domains]  # <5>\n",
    "    for coro in asyncio.as_completed(coros):  # <6>\n",
    "        result = await coro  # <7>\n",
    "        yield result  # <8>\n"
   ]
  },
  {
   "cell_type": "code",
   "execution_count": 6,
   "id": "f3b1bc15",
   "metadata": {},
   "outputs": [
    {
     "name": "stdout",
     "output_type": "stream",
     "text": [
      "Please provide a TLD. Example: C:\\Users\\lidan\\miniconda3\\lib\\site-packages\\ipykernel_launcher.py COM.BR\n"
     ]
    }
   ],
   "source": [
    "#!/usr/bin/env python3\n",
    "import asyncio\n",
    "import sys\n",
    "from keyword import kwlist\n",
    "\n",
    "from domainlib import multi_probe\n",
    "\n",
    "\n",
    "async def main(tld: str) -> None:\n",
    "    tld = tld.strip('.')\n",
    "    names = (kw for kw in kwlist if len(kw) <= 4)  # <1>\n",
    "    domains = (f'{name}.{tld}'.lower() for name in names)  # <2>\n",
    "    print('FOUND\\t\\tNOT FOUND')  # <3>\n",
    "    print('=====\\t\\t=========')\n",
    "    async for domain, found in multi_probe(domains):  # <4>\n",
    "        indent = '' if found else '\\t\\t'  # <5>\n",
    "        print(f'{indent}{domain}')\n",
    "\n",
    "\n",
    "if __name__ == '__main__':\n",
    "    if len(sys.argv) == 2:\n",
    "        asyncio.run(main(sys.argv[1]))  # <6>\n",
    "    else:\n",
    "        print('Please provide a TLD.', f'Example: {sys.argv[0]} COM.BR')\n"
   ]
  },
  {
   "cell_type": "code",
   "execution_count": 2,
   "id": "7f30a872",
   "metadata": {},
   "outputs": [
    {
     "data": {
      "text/plain": [
       "['D:\\\\books\\\\python\\\\0.   Fluent Python, 2nd Edition',\n",
       " 'D:/books/python/0.   Fluent Python, 2nd Edition/example-code-2e/21-async/mojifinder/',\n",
       " 'D:/books/python/0.   Fluent Python, 2nd Edition/example-code-2e/21-async/',\n",
       " 'C:\\\\Users\\\\lidan\\\\miniconda3\\\\python38.zip',\n",
       " 'C:\\\\Users\\\\lidan\\\\miniconda3\\\\DLLs',\n",
       " 'C:\\\\Users\\\\lidan\\\\miniconda3\\\\lib',\n",
       " 'C:\\\\Users\\\\lidan\\\\miniconda3',\n",
       " '',\n",
       " 'C:\\\\Users\\\\lidan\\\\AppData\\\\Roaming\\\\Python\\\\Python38\\\\site-packages',\n",
       " 'C:\\\\Users\\\\lidan\\\\miniconda3\\\\lib\\\\site-packages',\n",
       " 'C:\\\\Users\\\\lidan\\\\miniconda3\\\\lib\\\\site-packages\\\\magic_impute-2.0.4-py3.8.egg',\n",
       " 'C:\\\\Users\\\\lidan\\\\miniconda3\\\\lib\\\\site-packages\\\\seqc-0.2.0-py3.8.egg',\n",
       " 'C:\\\\Users\\\\lidan\\\\miniconda3\\\\lib\\\\site-packages\\\\weasyprint-56.1-py3.8.egg',\n",
       " 'C:\\\\Users\\\\lidan\\\\miniconda3\\\\lib\\\\site-packages\\\\cairocffi-1.3.0-py3.8.egg',\n",
       " 'C:\\\\Users\\\\lidan\\\\miniconda3\\\\lib\\\\site-packages\\\\win32',\n",
       " 'C:\\\\Users\\\\lidan\\\\miniconda3\\\\lib\\\\site-packages\\\\win32\\\\lib',\n",
       " 'C:\\\\Users\\\\lidan\\\\miniconda3\\\\lib\\\\site-packages\\\\Pythonwin']"
      ]
     },
     "execution_count": 2,
     "metadata": {},
     "output_type": "execute_result"
    }
   ],
   "source": [
    "import sys\n",
    "    # caution: path[0] is reserved for script path (or '' in REPL)\n",
    "sys.path.insert(1, 'D:/books/python/0.   Fluent Python, 2nd Edition/example-code-2e/21-async/mojifinder/')\n",
    "sys.path"
   ]
  },
  {
   "cell_type": "code",
   "execution_count": 9,
   "id": "275df4c9",
   "metadata": {},
   "outputs": [
    {
     "name": "stdout",
     "output_type": "stream",
     "text": [
      "Help on _GenericAlias in module typing object:\n",
      "\n",
      "class _GenericAlias(_Final)\n",
      " |  _GenericAlias(origin, params, *, inst=True, special=False, name=None)\n",
      " |  \n",
      " |  The central part of internal API.\n",
      " |  \n",
      " |  This represents a generic version of type 'origin' with type arguments 'params'.\n",
      " |  There are two kind of these aliases: user defined and special. The special ones\n",
      " |  are wrappers around builtin collections and ABCs in collections.abc. These must\n",
      " |  have 'name' always set. If 'inst' is False, then the alias can't be instantiated,\n",
      " |  this is used by e.g. typing.List and typing.Dict.\n",
      " |  \n",
      " |  Method resolution order:\n",
      " |      _GenericAlias\n",
      " |      _Final\n",
      " |      builtins.object\n",
      " |  \n",
      " |  Methods defined here:\n",
      " |  \n",
      " |  __call__(self, *args, **kwargs)\n",
      " |      Call self as a function.\n",
      " |  \n",
      " |  __eq__(self, other)\n",
      " |      Return self==value.\n",
      " |  \n",
      " |  __getattr__(self, attr)\n",
      " |  \n",
      " |  __getitem__(self, params)\n",
      " |  \n",
      " |  __hash__(self)\n",
      " |      Return hash(self).\n",
      " |  \n",
      " |  __init__(self, origin, params, *, inst=True, special=False, name=None)\n",
      " |      Initialize self.  See help(type(self)) for accurate signature.\n",
      " |  \n",
      " |  __instancecheck__(self, obj)\n",
      " |      Check if an object is an instance.\n",
      " |  \n",
      " |  __mro_entries__(self, bases)\n",
      " |  \n",
      " |  __reduce__(self)\n",
      " |      Helper for pickle.\n",
      " |  \n",
      " |  __repr__(self)\n",
      " |      Return repr(self).\n",
      " |  \n",
      " |  __setattr__(self, attr, val)\n",
      " |      Implement setattr(self, name, value).\n",
      " |  \n",
      " |  __subclasscheck__(self, cls)\n",
      " |      Check if a class is a subclass.\n",
      " |  \n",
      " |  copy_with(self, params)\n",
      " |  \n",
      " |  ----------------------------------------------------------------------\n",
      " |  Data descriptors defined here:\n",
      " |  \n",
      " |  __dict__\n",
      " |      dictionary for instance variables (if defined)\n",
      " |  \n",
      " |  ----------------------------------------------------------------------\n",
      " |  Class methods inherited from _Final:\n",
      " |  \n",
      " |  __init_subclass__(*args, **kwds) from builtins.type\n",
      " |      This method is called when a class is subclassed.\n",
      " |      \n",
      " |      The default implementation does nothing. It may be\n",
      " |      overridden to extend subclasses.\n",
      " |  \n",
      " |  ----------------------------------------------------------------------\n",
      " |  Data descriptors inherited from _Final:\n",
      " |  \n",
      " |  __weakref__\n",
      " |      list of weak references to the object (if defined)\n",
      "\n"
     ]
    }
   ],
   "source": [
    "import typing\n",
    "help(typing.Set)"
   ]
  },
  {
   "cell_type": "code",
   "execution_count": 10,
   "id": "81d7c549",
   "metadata": {},
   "outputs": [
    {
     "ename": "TypeError",
     "evalue": "'type' object is not subscriptable",
     "output_type": "error",
     "traceback": [
      "\u001b[1;31m---------------------------------------------------------------------------\u001b[0m",
      "\u001b[1;31mTypeError\u001b[0m                                 Traceback (most recent call last)",
      "Input \u001b[1;32mIn [10]\u001b[0m, in \u001b[0;36m<cell line: 41>\u001b[1;34m()\u001b[0m\n\u001b[0;32m     38\u001b[0m STOP_CODE: \u001b[38;5;28mint\u001b[39m \u001b[38;5;241m=\u001b[39m sys\u001b[38;5;241m.\u001b[39mmaxunicode \u001b[38;5;241m+\u001b[39m \u001b[38;5;241m1\u001b[39m\n\u001b[0;32m     40\u001b[0m Char \u001b[38;5;241m=\u001b[39m \u001b[38;5;28mstr\u001b[39m\n\u001b[1;32m---> 41\u001b[0m Index \u001b[38;5;241m=\u001b[39m \u001b[43mdefaultdict\u001b[49m\u001b[43m[\u001b[49m\u001b[38;5;28;43mstr\u001b[39;49m\u001b[43m,\u001b[49m\u001b[43m \u001b[49m\u001b[43mSet\u001b[49m\u001b[43m[\u001b[49m\u001b[43mChar\u001b[49m\u001b[43m]\u001b[49m\u001b[43m]\u001b[49m\n\u001b[0;32m     44\u001b[0m \u001b[38;5;28;01mdef\u001b[39;00m \u001b[38;5;21mtokenize\u001b[39m(text: \u001b[38;5;28mstr\u001b[39m) \u001b[38;5;241m-\u001b[39m\u001b[38;5;241m>\u001b[39m Iterator[\u001b[38;5;28mstr\u001b[39m]:\n\u001b[0;32m     45\u001b[0m     \u001b[38;5;124;03m\"\"\"return iterator of uppercased words\"\"\"\u001b[39;00m\n",
      "\u001b[1;31mTypeError\u001b[0m: 'type' object is not subscriptable"
     ]
    }
   ],
   "source": [
    "#!/usr/bin/env python\n",
    "\n",
    "\"\"\"\n",
    "Class ``InvertedIndex`` builds an inverted index mapping each word to\n",
    "the set of Unicode characters which contain that word in their names.\n",
    "\n",
    "Optional arguments to the constructor are ``first`` and ``last+1``\n",
    "character codes to index, to make testing easier. In the examples\n",
    "below, only the ASCII range was indexed.\n",
    "\n",
    "The `entries` attribute is a `defaultdict` with uppercased single\n",
    "words as keys::\n",
    "\n",
    "    >>> idx = InvertedIndex(32, 128)\n",
    "    >>> idx.entries['DOLLAR']\n",
    "    {'$'}\n",
    "    >>> sorted(idx.entries['SIGN'])\n",
    "    ['#', '$', '%', '+', '<', '=', '>']\n",
    "    >>> idx.entries['A'] & idx.entries['SMALL']\n",
    "    {'a'}\n",
    "    >>> idx.entries['BRILLIG']\n",
    "    set()\n",
    "\n",
    "The `.search()` method takes a string, uppercases it, splits it into\n",
    "words, and returns the intersection of the entries for each word::\n",
    "\n",
    "    >>> idx.search('capital a')\n",
    "    {'A'}\n",
    "\n",
    "\"\"\"\n",
    "from __future__ import annotations\n",
    "import sys\n",
    "import unicodedata\n",
    "from collections import defaultdict\n",
    "from collections.abc import Iterator\n",
    "from typing import Set\n",
    "\n",
    "STOP_CODE: int = sys.maxunicode + 1\n",
    "\n",
    "Char = str\n",
    "Index = defaultdict[str, Set[Char]]\n",
    "\n",
    "\n",
    "def tokenize(text: str) -> Iterator[str]:\n",
    "    \"\"\"return iterator of uppercased words\"\"\"\n",
    "    for word in text.upper().replace('-', ' ').split():\n",
    "        yield word\n",
    "\n",
    "\n",
    "class InvertedIndex:\n",
    "    entries: Index\n",
    "\n",
    "    def __init__(self, start: int = 32, stop: int = STOP_CODE):\n",
    "        entries: Index = defaultdict(set)\n",
    "        for char in (chr(i) for i in range(start, stop)):\n",
    "            name = unicodedata.name(char, '')\n",
    "            if name:\n",
    "                for word in tokenize(name):\n",
    "                    entries[word].add(char)\n",
    "        self.entries = entries\n",
    "\n",
    "    def search(self, query: str) -> set[Char]:\n",
    "        if words := list(tokenize(query)):\n",
    "            found = self.entries[words[0]]\n",
    "            return found.intersection(*(self.entries[w] for w in words[1:]))\n",
    "        else:\n",
    "            return set()\n",
    "\n",
    "\n",
    "def format_results(chars: set[Char]) -> Iterator[str]:\n",
    "    for char in sorted(chars):\n",
    "        name = unicodedata.name(char)\n",
    "        code = ord(char)\n",
    "        yield f'U+{code:04X}\\t{char}\\t{name}'\n",
    "\n",
    "\n",
    "def main(words: list[str]) -> None:\n",
    "    if not words:\n",
    "        print('Please give one or more words to search.')\n",
    "        sys.exit(2)  # command line usage error\n",
    "    index = InvertedIndex()\n",
    "    chars = index.search(' '.join(words))\n",
    "    for line in format_results(chars):\n",
    "        print(line)\n",
    "    print('─' * 66, f'{len(chars)} found')\n",
    "\n",
    "\n",
    "if __name__ == '__main__':\n",
    "    main(sys.argv[1:])\n"
   ]
  },
  {
   "cell_type": "code",
   "execution_count": 13,
   "id": "7b4996b2",
   "metadata": {},
   "outputs": [
    {
     "ename": "TypeError",
     "evalue": "'type' object is not subscriptable",
     "output_type": "error",
     "traceback": [
      "\u001b[1;31m---------------------------------------------------------------------------\u001b[0m",
      "\u001b[1;31mTypeError\u001b[0m                                 Traceback (most recent call last)",
      "Input \u001b[1;32mIn [13]\u001b[0m, in \u001b[0;36m<cell line: 8>\u001b[1;34m()\u001b[0m\n\u001b[0;32m      5\u001b[0m \u001b[38;5;28;01mfrom\u001b[39;00m \u001b[38;5;21;01mfastapi\u001b[39;00m\u001b[38;5;21;01m.\u001b[39;00m\u001b[38;5;21;01mresponses\u001b[39;00m \u001b[38;5;28;01mimport\u001b[39;00m HTMLResponse\n\u001b[0;32m      6\u001b[0m \u001b[38;5;28;01mfrom\u001b[39;00m \u001b[38;5;21;01mpydantic\u001b[39;00m \u001b[38;5;28;01mimport\u001b[39;00m BaseModel\n\u001b[1;32m----> 8\u001b[0m \u001b[38;5;28;01mfrom\u001b[39;00m \u001b[38;5;21;01mcharindex\u001b[39;00m \u001b[38;5;28;01mimport\u001b[39;00m InvertedIndex\n\u001b[0;32m     10\u001b[0m STATIC_PATH \u001b[38;5;241m=\u001b[39m Path(\u001b[38;5;18m__file__\u001b[39m)\u001b[38;5;241m.\u001b[39mparent\u001b[38;5;241m.\u001b[39mabsolute() \u001b[38;5;241m/\u001b[39m \u001b[38;5;124m'\u001b[39m\u001b[38;5;124mstatic\u001b[39m\u001b[38;5;124m'\u001b[39m  \u001b[38;5;66;03m# <1>\u001b[39;00m\n\u001b[0;32m     12\u001b[0m app \u001b[38;5;241m=\u001b[39m FastAPI(  \u001b[38;5;66;03m# <2>\u001b[39;00m\n\u001b[0;32m     13\u001b[0m     title\u001b[38;5;241m=\u001b[39m\u001b[38;5;124m'\u001b[39m\u001b[38;5;124mMojifinder Web\u001b[39m\u001b[38;5;124m'\u001b[39m,\n\u001b[0;32m     14\u001b[0m     description\u001b[38;5;241m=\u001b[39m\u001b[38;5;124m'\u001b[39m\u001b[38;5;124mSearch for Unicode characters by name.\u001b[39m\u001b[38;5;124m'\u001b[39m,\n\u001b[0;32m     15\u001b[0m )\n",
      "File \u001b[1;32mD:\\books/python/0.   Fluent Python, 2nd Edition/example-code-2e/21-async/mojifinder\\charindex.py:40\u001b[0m, in \u001b[0;36m<module>\u001b[1;34m\u001b[0m\n\u001b[0;32m     37\u001b[0m STOP_CODE: \u001b[38;5;28mint\u001b[39m \u001b[38;5;241m=\u001b[39m sys\u001b[38;5;241m.\u001b[39mmaxunicode \u001b[38;5;241m+\u001b[39m \u001b[38;5;241m1\u001b[39m\n\u001b[0;32m     39\u001b[0m Char \u001b[38;5;241m=\u001b[39m \u001b[38;5;28mstr\u001b[39m\n\u001b[1;32m---> 40\u001b[0m Index \u001b[38;5;241m=\u001b[39m defaultdict[\u001b[38;5;28mstr\u001b[39m, \u001b[38;5;28;43mset\u001b[39;49m\u001b[43m[\u001b[49m\u001b[43mChar\u001b[49m\u001b[43m]\u001b[49m]\n\u001b[0;32m     43\u001b[0m \u001b[38;5;28;01mdef\u001b[39;00m \u001b[38;5;21mtokenize\u001b[39m(text: \u001b[38;5;28mstr\u001b[39m) \u001b[38;5;241m-\u001b[39m\u001b[38;5;241m>\u001b[39m Iterator[\u001b[38;5;28mstr\u001b[39m]:\n\u001b[0;32m     44\u001b[0m     \u001b[38;5;124;03m\"\"\"return iterator of uppercased words\"\"\"\u001b[39;00m\n",
      "\u001b[1;31mTypeError\u001b[0m: 'type' object is not subscriptable"
     ]
    }
   ],
   "source": [
    "from pathlib import Path\n",
    "from unicodedata import name\n",
    "\n",
    "from fastapi import FastAPI\n",
    "from fastapi.responses import HTMLResponse\n",
    "from pydantic import BaseModel\n",
    "\n",
    "from charindex import InvertedIndex\n",
    "\n",
    "STATIC_PATH = Path(__file__).parent.absolute() / 'static'  # <1>\n",
    "\n",
    "app = FastAPI(  # <2>\n",
    "    title='Mojifinder Web',\n",
    "    description='Search for Unicode characters by name.',\n",
    ")\n",
    "\n",
    "class CharName(BaseModel):  # <3>\n",
    "    char: str\n",
    "    name: str\n",
    "\n",
    "def init(app):  # <4>\n",
    "    app.state.index = InvertedIndex()\n",
    "    app.state.form = (STATIC_PATH / 'form.html').read_text()\n",
    "\n",
    "init(app)  # <5>\n",
    "\n",
    "@app.get('/search', response_model=list[CharName])  # <6>\n",
    "async def search(q: str):  # <7>\n",
    "    chars = sorted(app.state.index.search(q))\n",
    "    return ({'char': c, 'name': name(c)} for c in chars)  # <8>\n",
    "\n",
    "@app.get('/', response_class=HTMLResponse, include_in_schema=False)\n",
    "def form():  # <9>\n",
    "    return app.state.form\n",
    "\n",
    "# no main funcion  # <10>"
   ]
  },
  {
   "cell_type": "code",
   "execution_count": 14,
   "id": "42d72d8d",
   "metadata": {},
   "outputs": [
    {
     "ename": "TypeError",
     "evalue": "'type' object is not subscriptable",
     "output_type": "error",
     "traceback": [
      "\u001b[1;31m---------------------------------------------------------------------------\u001b[0m",
      "\u001b[1;31mTypeError\u001b[0m                                 Traceback (most recent call last)",
      "Input \u001b[1;32mIn [14]\u001b[0m, in \u001b[0;36m<cell line: 1>\u001b[1;34m()\u001b[0m\n\u001b[1;32m----> 1\u001b[0m \u001b[38;5;28;01mfrom\u001b[39;00m \u001b[38;5;21;01mcharindex\u001b[39;00m \u001b[38;5;28;01mimport\u001b[39;00m InvertedIndex\n",
      "File \u001b[1;32mD:\\books/python/0.   Fluent Python, 2nd Edition/example-code-2e/21-async/mojifinder\\charindex.py:40\u001b[0m, in \u001b[0;36m<module>\u001b[1;34m\u001b[0m\n\u001b[0;32m     37\u001b[0m STOP_CODE: \u001b[38;5;28mint\u001b[39m \u001b[38;5;241m=\u001b[39m sys\u001b[38;5;241m.\u001b[39mmaxunicode \u001b[38;5;241m+\u001b[39m \u001b[38;5;241m1\u001b[39m\n\u001b[0;32m     39\u001b[0m Char \u001b[38;5;241m=\u001b[39m \u001b[38;5;28mstr\u001b[39m\n\u001b[1;32m---> 40\u001b[0m Index \u001b[38;5;241m=\u001b[39m defaultdict[\u001b[38;5;28mstr\u001b[39m, \u001b[38;5;28;43mset\u001b[39;49m\u001b[43m[\u001b[49m\u001b[43mChar\u001b[49m\u001b[43m]\u001b[49m]\n\u001b[0;32m     43\u001b[0m \u001b[38;5;28;01mdef\u001b[39;00m \u001b[38;5;21mtokenize\u001b[39m(text: \u001b[38;5;28mstr\u001b[39m) \u001b[38;5;241m-\u001b[39m\u001b[38;5;241m>\u001b[39m Iterator[\u001b[38;5;28mstr\u001b[39m]:\n\u001b[0;32m     44\u001b[0m     \u001b[38;5;124;03m\"\"\"return iterator of uppercased words\"\"\"\u001b[39;00m\n",
      "\u001b[1;31mTypeError\u001b[0m: 'type' object is not subscriptable"
     ]
    }
   ],
   "source": [
    "from charindex import InvertedIndex"
   ]
  }
 ],
 "metadata": {
  "kernelspec": {
   "display_name": "Python 3 (ipykernel)",
   "language": "python",
   "name": "python3"
  },
  "language_info": {
   "codemirror_mode": {
    "name": "ipython",
    "version": 3
   },
   "file_extension": ".py",
   "mimetype": "text/x-python",
   "name": "python",
   "nbconvert_exporter": "python",
   "pygments_lexer": "ipython3",
   "version": "3.8.13"
  }
 },
 "nbformat": 4,
 "nbformat_minor": 5
}
