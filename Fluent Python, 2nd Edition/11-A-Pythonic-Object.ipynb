{
 "cells": [
  {
   "cell_type": "code",
   "execution_count": 1,
   "id": "cd3c460b",
   "metadata": {},
   "outputs": [
    {
     "data": {
      "text/plain": [
       "['D:\\\\books\\\\python\\\\0.   Fluent Python, 2nd Edition',\n",
       " 'D:/books/python/0.   Fluent Python, 2nd Edition/example-code-2e/11-pythonic-obj/',\n",
       " 'C:\\\\Users\\\\lidan\\\\miniconda3\\\\python38.zip',\n",
       " 'C:\\\\Users\\\\lidan\\\\miniconda3\\\\DLLs',\n",
       " 'C:\\\\Users\\\\lidan\\\\miniconda3\\\\lib',\n",
       " 'C:\\\\Users\\\\lidan\\\\miniconda3',\n",
       " '',\n",
       " 'C:\\\\Users\\\\lidan\\\\AppData\\\\Roaming\\\\Python\\\\Python38\\\\site-packages',\n",
       " 'C:\\\\Users\\\\lidan\\\\miniconda3\\\\lib\\\\site-packages',\n",
       " 'C:\\\\Users\\\\lidan\\\\miniconda3\\\\lib\\\\site-packages\\\\magic_impute-2.0.4-py3.8.egg',\n",
       " 'C:\\\\Users\\\\lidan\\\\miniconda3\\\\lib\\\\site-packages\\\\seqc-0.2.0-py3.8.egg',\n",
       " 'C:\\\\Users\\\\lidan\\\\miniconda3\\\\lib\\\\site-packages\\\\weasyprint-56.1-py3.8.egg',\n",
       " 'C:\\\\Users\\\\lidan\\\\miniconda3\\\\lib\\\\site-packages\\\\cairocffi-1.3.0-py3.8.egg',\n",
       " 'C:\\\\Users\\\\lidan\\\\miniconda3\\\\lib\\\\site-packages\\\\win32',\n",
       " 'C:\\\\Users\\\\lidan\\\\miniconda3\\\\lib\\\\site-packages\\\\win32\\\\lib',\n",
       " 'C:\\\\Users\\\\lidan\\\\miniconda3\\\\lib\\\\site-packages\\\\Pythonwin']"
      ]
     },
     "execution_count": 1,
     "metadata": {},
     "output_type": "execute_result"
    }
   ],
   "source": [
    "import sys\n",
    "    # caution: path[0] is reserved for script path (or '' in REPL)\n",
    "sys.path.insert(1, 'D:/books/python/0.   Fluent Python, 2nd Edition/example-code-2e/11-pythonic-obj/')\n",
    "sys.path"
   ]
  },
  {
   "cell_type": "code",
   "execution_count": 2,
   "id": "91772bf2",
   "metadata": {},
   "outputs": [],
   "source": [
    "\"\"\"\n",
    "vector2d_v0\n",
    "A 2-dimensional vector class\n",
    "\n",
    "# tag::VECTOR2D_V0_DEMO[]\n",
    "\n",
    "    >>> v1 = Vector2d(3, 4)\n",
    "    >>> print(v1.x, v1.y)  # <1>\n",
    "    3.0 4.0\n",
    "    >>> x, y = v1  # <2>\n",
    "    >>> x, y\n",
    "    (3.0, 4.0)\n",
    "    >>> v1  # <3>\n",
    "    Vector2d(3.0, 4.0)\n",
    "    >>> v1_clone = eval(repr(v1))  # <4>\n",
    "    >>> v1 == v1_clone  # <5>\n",
    "    True\n",
    "    >>> print(v1)  # <6>\n",
    "    (3.0, 4.0)\n",
    "    >>> octets = bytes(v1)  # <7>\n",
    "    >>> octets\n",
    "    b'd\\\\x00\\\\x00\\\\x00\\\\x00\\\\x00\\\\x00\\\\x08@\\\\x00\\\\x00\\\\x00\\\\x00\\\\x00\\\\x00\\\\x10@'\n",
    "    >>> abs(v1)  # <8>\n",
    "    5.0\n",
    "    >>> bool(v1), bool(Vector2d(0, 0))  # <9>\n",
    "    (True, False)\n",
    "\n",
    "# end::VECTOR2D_V0_DEMO[]\n",
    "\"\"\"\n",
    "\n",
    "# tag::VECTOR2D_V0[]\n",
    "from array import array\n",
    "import math\n",
    "\n",
    "\n",
    "class Vector2d:\n",
    "    typecode = 'd'  # <1>\n",
    "\n",
    "    def __init__(self, x, y):\n",
    "        self.x = float(x)    # <2>\n",
    "        self.y = float(y)\n",
    "\n",
    "    def __iter__(self):\n",
    "        return (i for i in (self.x, self.y))  # <3>\n",
    "\n",
    "    def __repr__(self):\n",
    "        class_name = type(self).__name__\n",
    "        return '{}({!r}, {!r})'.format(class_name, *self)  # <4>\n",
    "\n",
    "    def __str__(self):\n",
    "        return str(tuple(self))  # <5>\n",
    "\n",
    "    def __bytes__(self):\n",
    "        return (bytes([ord(self.typecode)]) +  # <6>\n",
    "                bytes(array(self.typecode, self)))  # <7>\n",
    "\n",
    "    def __eq__(self, other):\n",
    "        return tuple(self) == tuple(other)  # <8>\n",
    "\n",
    "    def __abs__(self):\n",
    "        return math.hypot(self.x, self.y)  # <9>\n",
    "\n",
    "    def __bool__(self):\n",
    "        return bool(abs(self))  # <10>\n",
    "# end::VECTOR2D_V0[]\n"
   ]
  },
  {
   "cell_type": "code",
   "execution_count": 3,
   "id": "2cf5c8c8",
   "metadata": {},
   "outputs": [
    {
     "name": "stdout",
     "output_type": "stream",
     "text": [
      "(3.0, 4.0)\n"
     ]
    }
   ],
   "source": [
    "print(Vector2d(3, 4))"
   ]
  },
  {
   "cell_type": "code",
   "execution_count": 4,
   "id": "3d867b4d",
   "metadata": {},
   "outputs": [
    {
     "name": "stdout",
     "output_type": "stream",
     "text": [
      "3.0 4.0\n"
     ]
    }
   ],
   "source": [
    "v1 = Vector2d(3, 4)\n",
    "print(v1.x, v1.y)  # <1>"
   ]
  },
  {
   "cell_type": "code",
   "execution_count": 5,
   "id": "d6620b45",
   "metadata": {},
   "outputs": [
    {
     "data": {
      "text/plain": [
       "True"
      ]
     },
     "execution_count": 5,
     "metadata": {},
     "output_type": "execute_result"
    }
   ],
   "source": [
    "bool(v1)"
   ]
  },
  {
   "cell_type": "code",
   "execution_count": 6,
   "id": "a5217abc",
   "metadata": {},
   "outputs": [],
   "source": [
    "\"\"\"\n",
    "vector2d_v1\n",
    "A 2-dimensional vector class\n",
    "\n",
    "    >>> v1 = Vector2d(3, 4)\n",
    "    >>> print(v1.x, v1.y)\n",
    "    3.0 4.0\n",
    "    >>> x, y = v1\n",
    "    >>> x, y\n",
    "    (3.0, 4.0)\n",
    "    >>> v1\n",
    "    Vector2d(3.0, 4.0)\n",
    "    >>> v1_clone = eval(repr(v1))\n",
    "    >>> v1 == v1_clone\n",
    "    True\n",
    "    >>> print(v1)\n",
    "    (3.0, 4.0)\n",
    "    >>> octets = bytes(v1)\n",
    "    >>> octets\n",
    "    b'd\\\\x00\\\\x00\\\\x00\\\\x00\\\\x00\\\\x00\\\\x08@\\\\x00\\\\x00\\\\x00\\\\x00\\\\x00\\\\x00\\\\x10@'\n",
    "    >>> abs(v1)\n",
    "    5.0\n",
    "    >>> bool(v1), bool(Vector2d(0, 0))\n",
    "    (True, False)\n",
    "\n",
    "\n",
    "Test of ``.frombytes()`` class method:\n",
    "\n",
    "    >>> v1_clone = Vector2d.frombytes(bytes(v1))\n",
    "    >>> v1_clone\n",
    "    Vector2d(3.0, 4.0)\n",
    "    >>> v1 == v1_clone\n",
    "    True\n",
    "\n",
    "\"\"\"\n",
    "\n",
    "from array import array\n",
    "import math\n",
    "\n",
    "\n",
    "class Vector2d:\n",
    "    typecode = 'd'\n",
    "\n",
    "    def __init__(self, x, y):\n",
    "        self.x = float(x)\n",
    "        self.y = float(y)\n",
    "\n",
    "    def __iter__(self):\n",
    "        return (i for i in (self.x, self.y))\n",
    "\n",
    "    def __repr__(self):\n",
    "        class_name = type(self).__name__\n",
    "        return '{}({!r}, {!r})'.format(class_name, *self)\n",
    "\n",
    "    def __str__(self):\n",
    "        return str(tuple(self))\n",
    "\n",
    "    def __bytes__(self):\n",
    "        return (bytes([ord(self.typecode)]) +\n",
    "                bytes(array(self.typecode, self)))\n",
    "\n",
    "    def __eq__(self, other):\n",
    "        return tuple(self) == tuple(other)\n",
    "\n",
    "    def __abs__(self):\n",
    "        return math.hypot(self.x, self.y)\n",
    "\n",
    "    def __bool__(self):\n",
    "        return bool(abs(self))\n",
    "\n",
    "# tag::VECTOR2D_V1[]\n",
    "    @classmethod  # <1>\n",
    "    def frombytes(cls, octets):  # <2>\n",
    "        typecode = chr(octets[0])  # <3>\n",
    "        memv = memoryview(octets[1:]).cast(typecode)  # <4>\n",
    "        return cls(*memv)  # <5>\n",
    "# end::VECTOR2D_V1[]\n"
   ]
  },
  {
   "cell_type": "code",
   "execution_count": 7,
   "id": "28ba7a5e",
   "metadata": {},
   "outputs": [
    {
     "data": {
      "text/plain": [
       "(__main__.Demo,)"
      ]
     },
     "execution_count": 7,
     "metadata": {},
     "output_type": "execute_result"
    }
   ],
   "source": [
    "class Demo:\n",
    "    @classmethod\n",
    "    def klassmeth(*args):\n",
    "        return args\n",
    "    @staticmethod\n",
    "    def statmeth(*args):\n",
    "        return args\n",
    "\n",
    "Demo.klassmeth()"
   ]
  },
  {
   "cell_type": "code",
   "execution_count": 8,
   "id": "69522ae3",
   "metadata": {},
   "outputs": [
    {
     "data": {
      "text/plain": [
       "(__main__.Demo, 'spam')"
      ]
     },
     "execution_count": 8,
     "metadata": {},
     "output_type": "execute_result"
    }
   ],
   "source": [
    "Demo.klassmeth('spam')"
   ]
  },
  {
   "cell_type": "code",
   "execution_count": 9,
   "id": "cd889ac3",
   "metadata": {},
   "outputs": [
    {
     "data": {
      "text/plain": [
       "()"
      ]
     },
     "execution_count": 9,
     "metadata": {},
     "output_type": "execute_result"
    }
   ],
   "source": [
    "Demo.statmeth()"
   ]
  },
  {
   "cell_type": "code",
   "execution_count": 10,
   "id": "0146b49e",
   "metadata": {},
   "outputs": [
    {
     "data": {
      "text/plain": [
       "('spam',)"
      ]
     },
     "execution_count": 10,
     "metadata": {},
     "output_type": "execute_result"
    }
   ],
   "source": [
    "Demo.statmeth('spam')"
   ]
  },
  {
   "cell_type": "code",
   "execution_count": 11,
   "id": "670d8b8a",
   "metadata": {},
   "outputs": [
    {
     "data": {
      "text/plain": [
       "'101010'"
      ]
     },
     "execution_count": 11,
     "metadata": {},
     "output_type": "execute_result"
    }
   ],
   "source": [
    "format(42, 'b')"
   ]
  },
  {
   "cell_type": "code",
   "execution_count": 12,
   "id": "0b7c1ec8",
   "metadata": {},
   "outputs": [
    {
     "data": {
      "text/plain": [
       "'2a'"
      ]
     },
     "execution_count": 12,
     "metadata": {},
     "output_type": "execute_result"
    }
   ],
   "source": [
    "format(42, 'x')"
   ]
  },
  {
   "cell_type": "code",
   "execution_count": 13,
   "id": "b31b9ae0",
   "metadata": {},
   "outputs": [
    {
     "data": {
      "text/plain": [
       "'52'"
      ]
     },
     "execution_count": 13,
     "metadata": {},
     "output_type": "execute_result"
    }
   ],
   "source": [
    "format(42, 'o')"
   ]
  },
  {
   "cell_type": "code",
   "execution_count": 14,
   "id": "99222ae0",
   "metadata": {},
   "outputs": [
    {
     "data": {
      "text/plain": [
       "'66.7%'"
      ]
     },
     "execution_count": 14,
     "metadata": {},
     "output_type": "execute_result"
    }
   ],
   "source": [
    "format(2 / 3, '.1%')"
   ]
  },
  {
   "cell_type": "code",
   "execution_count": 15,
   "id": "b1155a26",
   "metadata": {},
   "outputs": [
    {
     "data": {
      "text/plain": [
       "'0.67'"
      ]
     },
     "execution_count": 15,
     "metadata": {},
     "output_type": "execute_result"
    }
   ],
   "source": [
    "format(2 / 3, '.2f')"
   ]
  },
  {
   "cell_type": "code",
   "execution_count": 16,
   "id": "d1d30c08",
   "metadata": {},
   "outputs": [],
   "source": [
    "\"\"\"\n",
    "A 2-dimensional vector class\n",
    "\n",
    "    >>> v1 = Vector2d(3, 4)\n",
    "    >>> x, y = v1\n",
    "    >>> x, y\n",
    "    (3.0, 4.0)\n",
    "    >>> v1\n",
    "    Vector2d(3.0, 4.0)\n",
    "    >>> v1_clone = eval(repr(v1))\n",
    "    >>> v1 == v1_clone\n",
    "    True\n",
    "    >>> print(v1)\n",
    "    (3.0, 4.0)\n",
    "    >>> octets = bytes(v1)\n",
    "    >>> octets\n",
    "    b'\\\\x00\\\\x00\\\\x00\\\\x00\\\\x00\\\\x00\\\\x08@\\\\x00\\\\x00\\\\x00\\\\x00\\\\x00\\\\x00\\\\x10@'\n",
    "    >>> abs(v1)\n",
    "    5.0\n",
    "    >>> bool(v1), bool(Vector2d(0, 0))\n",
    "    (True, False)\n",
    "\n",
    "\n",
    "Test of ``.frombytes()`` class method:\n",
    "\n",
    "    >>> v1_clone = Vector2d.frombytes(bytes(v1))\n",
    "    >>> v1_clone\n",
    "    Vector2d(3.0, 4.0)\n",
    "    >>> v1 == v1_clone\n",
    "    True\n",
    "\n",
    "\n",
    "Tests of ``format()`` with Cartesian coordinates:\n",
    "\n",
    "    >>> format(v1)\n",
    "    '(3.0, 4.0)'\n",
    "    >>> format(v1, '.2f')\n",
    "    '(3.00, 4.00)'\n",
    "    >>> format(v1, '.3e')\n",
    "    '(3.000e+00, 4.000e+00)'\n",
    "\n",
    "\n",
    "Tests of the ``angle`` method::\n",
    "\n",
    "    >>> Vector2d(0, 0).angle()\n",
    "    0.0\n",
    "    >>> Vector2d(1, 0).angle()\n",
    "    0.0\n",
    "    >>> epsilon = 10**-8\n",
    "    >>> abs(Vector2d(0, 1).angle() - math.pi/2) < epsilon\n",
    "    True\n",
    "    >>> abs(Vector2d(1, 1).angle() - math.pi/4) < epsilon\n",
    "    True\n",
    "\n",
    "\n",
    "Tests of ``format()`` with polar coordinates:\n",
    "\n",
    "    >>> format(Vector2d(1, 1), 'p')  # doctest:+ELLIPSIS\n",
    "    '<1.414213..., 0.785398...>'\n",
    "    >>> format(Vector2d(1, 1), '.3ep')\n",
    "    '<1.414e+00, 7.854e-01>'\n",
    "    >>> format(Vector2d(1, 1), '0.5fp')\n",
    "    '<1.41421, 0.78540>'\n",
    "\n",
    "\"\"\"\n",
    "\n",
    "from array import array\n",
    "import math\n",
    "\n",
    "\n",
    "class Vector2d:\n",
    "    typecode = 'd'\n",
    "\n",
    "    def __init__(self, x, y):\n",
    "        self.x = float(x)\n",
    "        self.y = float(y)\n",
    "\n",
    "    def __iter__(self):\n",
    "        return (i for i in (self.x, self.y))\n",
    "\n",
    "    def __repr__(self):\n",
    "        class_name = type(self).__name__\n",
    "        return '{}({!r}, {!r})'.format(class_name, *self)\n",
    "\n",
    "    def __str__(self):\n",
    "        return str(tuple(self))\n",
    "\n",
    "    def __bytes__(self):\n",
    "        return bytes(array(Vector2d.typecode, self))\n",
    "\n",
    "    def __eq__(self, other):\n",
    "        return tuple(self) == tuple(other)\n",
    "\n",
    "    def __abs__(self):\n",
    "        return math.hypot(self.x, self.y)\n",
    "\n",
    "    def __bool__(self):\n",
    "        return bool(abs(self))\n",
    "\n",
    "    def angle(self):\n",
    "        return math.atan2(self.y, self.x)\n",
    "\n",
    "# tag::VECTOR2D_V2_FORMAT[]\n",
    "    def __format__(self, fmt_spec=''):\n",
    "        if fmt_spec.endswith('p'):  # <1>\n",
    "            fmt_spec = fmt_spec[:-1]  # <2>\n",
    "            coords = (abs(self), self.angle())  # <3>\n",
    "            outer_fmt = '<{}, {}>'  # <4>\n",
    "        else:\n",
    "            coords = self  # <5>\n",
    "            outer_fmt = '({}, {})'  # <6>\n",
    "        components = (format(c, fmt_spec) for c in coords)  # <7>\n",
    "        return outer_fmt.format(*components)  # <8>\n",
    "# end::VECTOR2D_V2_FORMAT[]\n",
    "\n",
    "    @classmethod\n",
    "    def frombytes(cls, octets):\n",
    "        memv = memoryview(octets).cast(cls.typecode)\n",
    "        return cls(*memv)\n"
   ]
  },
  {
   "cell_type": "code",
   "execution_count": 33,
   "id": "3e556bbc",
   "metadata": {},
   "outputs": [
    {
     "data": {
      "text/plain": [
       "('3', '4')"
      ]
     },
     "execution_count": 33,
     "metadata": {},
     "output_type": "execute_result"
    }
   ],
   "source": [
    "tuple([format(c, '') for c in (3,4)])"
   ]
  },
  {
   "cell_type": "code",
   "execution_count": 39,
   "id": "17dd043d",
   "metadata": {},
   "outputs": [
    {
     "data": {
      "text/plain": [
       "['3', '4']"
      ]
     },
     "execution_count": 39,
     "metadata": {},
     "output_type": "execute_result"
    }
   ],
   "source": [
    "[*('3', '4')]"
   ]
  },
  {
   "cell_type": "code",
   "execution_count": 36,
   "id": "57ef26b8",
   "metadata": {},
   "outputs": [
    {
     "data": {
      "text/plain": [
       "'<3, 4>'"
      ]
     },
     "execution_count": 36,
     "metadata": {},
     "output_type": "execute_result"
    }
   ],
   "source": [
    "'<{}, {}>'.format(*('3', '4'))"
   ]
  },
  {
   "cell_type": "code",
   "execution_count": 17,
   "id": "c0f6aaae",
   "metadata": {},
   "outputs": [
    {
     "data": {
      "text/plain": [
       "0.0"
      ]
     },
     "execution_count": 17,
     "metadata": {},
     "output_type": "execute_result"
    }
   ],
   "source": [
    "Vector2d(0, 0).angle()"
   ]
  },
  {
   "cell_type": "code",
   "execution_count": 18,
   "id": "f4f1069c",
   "metadata": {},
   "outputs": [
    {
     "data": {
      "text/plain": [
       "0.0"
      ]
     },
     "execution_count": 18,
     "metadata": {},
     "output_type": "execute_result"
    }
   ],
   "source": [
    "Vector2d(1, 0).angle()"
   ]
  },
  {
   "cell_type": "code",
   "execution_count": 19,
   "id": "44d167c9",
   "metadata": {},
   "outputs": [],
   "source": [
    "epsilon = 10**-8"
   ]
  },
  {
   "cell_type": "code",
   "execution_count": 21,
   "id": "bfae0ccf",
   "metadata": {},
   "outputs": [
    {
     "data": {
      "text/plain": [
       "1.5707963267948966"
      ]
     },
     "execution_count": 21,
     "metadata": {},
     "output_type": "execute_result"
    }
   ],
   "source": [
    "Vector2d(0, 1).angle() "
   ]
  },
  {
   "cell_type": "code",
   "execution_count": 20,
   "id": "095b5ae1",
   "metadata": {},
   "outputs": [
    {
     "data": {
      "text/plain": [
       "True"
      ]
     },
     "execution_count": 20,
     "metadata": {},
     "output_type": "execute_result"
    }
   ],
   "source": [
    "abs(Vector2d(0, 1).angle() - math.pi/2) < epsilon"
   ]
  },
  {
   "cell_type": "code",
   "execution_count": 22,
   "id": "60cb2826",
   "metadata": {},
   "outputs": [
    {
     "data": {
      "text/plain": [
       "True"
      ]
     },
     "execution_count": 22,
     "metadata": {},
     "output_type": "execute_result"
    }
   ],
   "source": [
    "abs(Vector2d(1, 1).angle() - math.pi/4) < epsilon"
   ]
  },
  {
   "cell_type": "code",
   "execution_count": 23,
   "id": "d231ca11",
   "metadata": {},
   "outputs": [
    {
     "data": {
      "text/plain": [
       "'<1.4142135623730951, 0.7853981633974483>'"
      ]
     },
     "execution_count": 23,
     "metadata": {},
     "output_type": "execute_result"
    }
   ],
   "source": [
    "format(Vector2d(1, 1), 'p')  # doctest:+ELLIPSIS"
   ]
  },
  {
   "cell_type": "code",
   "execution_count": 40,
   "id": "42090d9c",
   "metadata": {},
   "outputs": [
    {
     "data": {
      "text/plain": [
       "'<1.414e+00, 7.854e-01>'"
      ]
     },
     "execution_count": 40,
     "metadata": {},
     "output_type": "execute_result"
    }
   ],
   "source": [
    "format(Vector2d(1, 1), '.3ep')"
   ]
  },
  {
   "cell_type": "code",
   "execution_count": 41,
   "id": "140b3f53",
   "metadata": {},
   "outputs": [
    {
     "data": {
      "text/plain": [
       "'<1.41421, 0.78540>'"
      ]
     },
     "execution_count": 41,
     "metadata": {},
     "output_type": "execute_result"
    }
   ],
   "source": [
    "format(Vector2d(1, 1), '0.5fp')"
   ]
  },
  {
   "cell_type": "code",
   "execution_count": 42,
   "id": "ea276501",
   "metadata": {},
   "outputs": [],
   "source": [
    "\"\"\"\n",
    "A 2-dimensional vector class\n",
    "\n",
    "    >>> v1 = Vector2d(3, 4)\n",
    "    >>> print(v1.x, v1.y)\n",
    "    3.0 4.0\n",
    "    >>> x, y = v1\n",
    "    >>> x, y\n",
    "    (3.0, 4.0)\n",
    "    >>> v1\n",
    "    Vector2d(3.0, 4.0)\n",
    "    >>> v1_clone = eval(repr(v1))\n",
    "    >>> v1 == v1_clone\n",
    "    True\n",
    "    >>> print(v1)\n",
    "    (3.0, 4.0)\n",
    "    >>> octets = bytes(v1)\n",
    "    >>> octets\n",
    "    b'd\\\\x00\\\\x00\\\\x00\\\\x00\\\\x00\\\\x00\\\\x08@\\\\x00\\\\x00\\\\x00\\\\x00\\\\x00\\\\x00\\\\x10@'\n",
    "    >>> abs(v1)\n",
    "    5.0\n",
    "    >>> bool(v1), bool(Vector2d(0, 0))\n",
    "    (True, False)\n",
    "\n",
    "\n",
    "Test of ``.frombytes()`` class method:\n",
    "\n",
    "    >>> v1_clone = Vector2d.frombytes(bytes(v1))\n",
    "    >>> v1_clone\n",
    "    Vector2d(3.0, 4.0)\n",
    "    >>> v1 == v1_clone\n",
    "    True\n",
    "\n",
    "\n",
    "Tests of ``format()`` with Cartesian coordinates:\n",
    "\n",
    "    >>> format(v1)\n",
    "    '(3.0, 4.0)'\n",
    "    >>> format(v1, '.2f')\n",
    "    '(3.00, 4.00)'\n",
    "    >>> format(v1, '.3e')\n",
    "    '(3.000e+00, 4.000e+00)'\n",
    "\n",
    "\n",
    "Tests of the ``angle`` method::\n",
    "\n",
    "    >>> Vector2d(0, 0).angle()\n",
    "    0.0\n",
    "    >>> Vector2d(1, 0).angle()\n",
    "    0.0\n",
    "    >>> epsilon = 10**-8\n",
    "    >>> abs(Vector2d(0, 1).angle() - math.pi/2) < epsilon\n",
    "    True\n",
    "    >>> abs(Vector2d(1, 1).angle() - math.pi/4) < epsilon\n",
    "    True\n",
    "\n",
    "\n",
    "Tests of ``format()`` with polar coordinates:\n",
    "\n",
    "    >>> format(Vector2d(1, 1), 'p')  # doctest:+ELLIPSIS\n",
    "    '<1.414213..., 0.785398...>'\n",
    "    >>> format(Vector2d(1, 1), '.3ep')\n",
    "    '<1.414e+00, 7.854e-01>'\n",
    "    >>> format(Vector2d(1, 1), '0.5fp')\n",
    "    '<1.41421, 0.78540>'\n",
    "\n",
    "# tag::VECTOR2D_V3_DEMO[]\n",
    "Tests of `x` and `y` read-only properties:\n",
    "\n",
    "    >>> v1.x, v1.y\n",
    "    (3.0, 4.0)\n",
    "    >>> v1.x = 123\n",
    "    Traceback (most recent call last):\n",
    "      ...\n",
    "    AttributeError: can't set attribute 'x'\n",
    "\n",
    "# end::VECTOR2D_V3_HASH_DEMO[]\n",
    "\n",
    "Tests of hashing:\n",
    "# tag::VECTOR2D_V3_HASH_DEMO[]\n",
    "\n",
    "    >>> v1 = Vector2d(3, 4)\n",
    "    >>> v2 = Vector2d(3.1, 4.2)\n",
    "    >>> len({v1, v2})\n",
    "    2\n",
    "\n",
    "# end::VECTOR2D_V3_DEMO[]\n",
    "\n",
    "\"\"\"\n",
    "\n",
    "from array import array\n",
    "import math\n",
    "\n",
    "# tag::VECTOR2D_V3_PROP[]\n",
    "class Vector2d:\n",
    "    typecode = 'd'\n",
    "\n",
    "    def __init__(self, x, y):\n",
    "        self.__x = float(x)  # <1>\n",
    "        self.__y = float(y)\n",
    "\n",
    "    @property  # <2>\n",
    "    def x(self):  # <3>\n",
    "        return self.__x  # <4>\n",
    "\n",
    "    @property  # <5>\n",
    "    def y(self):\n",
    "        return self.__y\n",
    "\n",
    "    def __iter__(self):\n",
    "        return (i for i in (self.x, self.y))  # <6>\n",
    "\n",
    "    # remaining methods: same as previous Vector2d\n",
    "# end::VECTOR2D_V3_PROP[]\n",
    "\n",
    "    def __repr__(self):\n",
    "        class_name = type(self).__name__\n",
    "        return '{}({!r}, {!r})'.format(class_name, *self)\n",
    "\n",
    "    def __str__(self):\n",
    "        return str(tuple(self))\n",
    "\n",
    "    def __bytes__(self):\n",
    "        return (bytes([ord(self.typecode)]) +\n",
    "                bytes(array(self.typecode, self)))\n",
    "\n",
    "    def __eq__(self, other):\n",
    "        return tuple(self) == tuple(other)\n",
    "\n",
    "# tag::VECTOR_V3_HASH[]\n",
    "    def __hash__(self):\n",
    "        return hash((self.x, self.y))\n",
    "# end::VECTOR_V3_HASH[]\n",
    "\n",
    "    def __abs__(self):\n",
    "        return math.hypot(self.x, self.y)\n",
    "\n",
    "    def __bool__(self):\n",
    "        return bool(abs(self))\n",
    "\n",
    "    def angle(self):\n",
    "        return math.atan2(self.y, self.x)\n",
    "\n",
    "    def __format__(self, fmt_spec=''):\n",
    "        if fmt_spec.endswith('p'):\n",
    "            fmt_spec = fmt_spec[:-1]\n",
    "            coords = (abs(self), self.angle())\n",
    "            outer_fmt = '<{}, {}>'\n",
    "        else:\n",
    "            coords = self\n",
    "            outer_fmt = '({}, {})'\n",
    "        components = (format(c, fmt_spec) for c in coords)\n",
    "        return outer_fmt.format(*components)\n",
    "\n",
    "    @classmethod\n",
    "    def frombytes(cls, octets):\n",
    "        typecode = chr(octets[0])\n",
    "        memv = memoryview(octets[1:]).cast(typecode)\n",
    "        return cls(*memv)\n"
   ]
  },
  {
   "cell_type": "code",
   "execution_count": 43,
   "id": "af61e5d3",
   "metadata": {},
   "outputs": [
    {
     "name": "stdout",
     "output_type": "stream",
     "text": [
      "3.0 4.0\n"
     ]
    }
   ],
   "source": [
    "v1 = Vector2d(3, 4)\n",
    "print(v1.x, v1.y)"
   ]
  },
  {
   "cell_type": "code",
   "execution_count": 44,
   "id": "47360e36",
   "metadata": {},
   "outputs": [
    {
     "data": {
      "text/plain": [
       "(3.0, 4.0)"
      ]
     },
     "execution_count": 44,
     "metadata": {},
     "output_type": "execute_result"
    }
   ],
   "source": [
    "x, y = v1\n",
    "x, y"
   ]
  },
  {
   "cell_type": "code",
   "execution_count": 45,
   "id": "2013a939",
   "metadata": {},
   "outputs": [
    {
     "data": {
      "text/plain": [
       "Vector2d(3.0, 4.0)"
      ]
     },
     "execution_count": 45,
     "metadata": {},
     "output_type": "execute_result"
    }
   ],
   "source": [
    "v1"
   ]
  },
  {
   "cell_type": "code",
   "execution_count": 46,
   "id": "a31fdfab",
   "metadata": {},
   "outputs": [
    {
     "data": {
      "text/plain": [
       "True"
      ]
     },
     "execution_count": 46,
     "metadata": {},
     "output_type": "execute_result"
    }
   ],
   "source": [
    "v1_clone = eval(repr(v1))\n",
    "v1 == v1_clone"
   ]
  },
  {
   "cell_type": "code",
   "execution_count": 47,
   "id": "07bd6331",
   "metadata": {},
   "outputs": [
    {
     "name": "stdout",
     "output_type": "stream",
     "text": [
      "(3.0, 4.0)\n"
     ]
    }
   ],
   "source": [
    "print(v1)"
   ]
  },
  {
   "cell_type": "code",
   "execution_count": 48,
   "id": "c0c9504a",
   "metadata": {},
   "outputs": [
    {
     "data": {
      "text/plain": [
       "b'd\\x00\\x00\\x00\\x00\\x00\\x00\\x08@\\x00\\x00\\x00\\x00\\x00\\x00\\x10@'"
      ]
     },
     "execution_count": 48,
     "metadata": {},
     "output_type": "execute_result"
    }
   ],
   "source": [
    "octets = bytes(v1)\n",
    "octets"
   ]
  },
  {
   "cell_type": "code",
   "execution_count": 62,
   "id": "2b2245e4",
   "metadata": {},
   "outputs": [
    {
     "data": {
      "text/plain": [
       "'d'"
      ]
     },
     "execution_count": 62,
     "metadata": {},
     "output_type": "execute_result"
    }
   ],
   "source": [
    "chr(octets[0])"
   ]
  },
  {
   "cell_type": "code",
   "execution_count": 65,
   "id": "f28d70ea",
   "metadata": {},
   "outputs": [
    {
     "name": "stdout",
     "output_type": "stream",
     "text": [
      "Help on class memoryview in module builtins:\n",
      "\n",
      "class memoryview(object)\n",
      " |  memoryview(object)\n",
      " |  \n",
      " |  Create a new memoryview object which references the given object.\n",
      " |  \n",
      " |  Methods defined here:\n",
      " |  \n",
      " |  __delitem__(self, key, /)\n",
      " |      Delete self[key].\n",
      " |  \n",
      " |  __enter__(...)\n",
      " |  \n",
      " |  __eq__(self, value, /)\n",
      " |      Return self==value.\n",
      " |  \n",
      " |  __exit__(...)\n",
      " |  \n",
      " |  __ge__(self, value, /)\n",
      " |      Return self>=value.\n",
      " |  \n",
      " |  __getattribute__(self, name, /)\n",
      " |      Return getattr(self, name).\n",
      " |  \n",
      " |  __getitem__(self, key, /)\n",
      " |      Return self[key].\n",
      " |  \n",
      " |  __gt__(self, value, /)\n",
      " |      Return self>value.\n",
      " |  \n",
      " |  __hash__(self, /)\n",
      " |      Return hash(self).\n",
      " |  \n",
      " |  __le__(self, value, /)\n",
      " |      Return self<=value.\n",
      " |  \n",
      " |  __len__(self, /)\n",
      " |      Return len(self).\n",
      " |  \n",
      " |  __lt__(self, value, /)\n",
      " |      Return self<value.\n",
      " |  \n",
      " |  __ne__(self, value, /)\n",
      " |      Return self!=value.\n",
      " |  \n",
      " |  __repr__(self, /)\n",
      " |      Return repr(self).\n",
      " |  \n",
      " |  __setitem__(self, key, value, /)\n",
      " |      Set self[key] to value.\n",
      " |  \n",
      " |  cast(self, /, format, *, shape)\n",
      " |      Cast a memoryview to a new format or shape.\n",
      " |  \n",
      " |  hex(...)\n",
      " |      Return the data in the buffer as a str of hexadecimal numbers.\n",
      " |      \n",
      " |        sep\n",
      " |          An optional single character or byte to separate hex bytes.\n",
      " |        bytes_per_sep\n",
      " |          How many bytes between separators.  Positive values count from the\n",
      " |          right, negative values count from the left.\n",
      " |      \n",
      " |      Example:\n",
      " |      >>> value = memoryview(b'\\xb9\\x01\\xef')\n",
      " |      >>> value.hex()\n",
      " |      'b901ef'\n",
      " |      >>> value.hex(':')\n",
      " |      'b9:01:ef'\n",
      " |      >>> value.hex(':', 2)\n",
      " |      'b9:01ef'\n",
      " |      >>> value.hex(':', -2)\n",
      " |      'b901:ef'\n",
      " |  \n",
      " |  release(self, /)\n",
      " |      Release the underlying buffer exposed by the memoryview object.\n",
      " |  \n",
      " |  tobytes(self, /, order=None)\n",
      " |      Return the data in the buffer as a byte string. Order can be {'C', 'F', 'A'}.\n",
      " |      When order is 'C' or 'F', the data of the original array is converted to C or\n",
      " |      Fortran order. For contiguous views, 'A' returns an exact copy of the physical\n",
      " |      memory. In particular, in-memory Fortran order is preserved. For non-contiguous\n",
      " |      views, the data is converted to C first. order=None is the same as order='C'.\n",
      " |  \n",
      " |  tolist(self, /)\n",
      " |      Return the data in the buffer as a list of elements.\n",
      " |  \n",
      " |  toreadonly(self, /)\n",
      " |      Return a readonly version of the memoryview.\n",
      " |  \n",
      " |  ----------------------------------------------------------------------\n",
      " |  Static methods defined here:\n",
      " |  \n",
      " |  __new__(*args, **kwargs) from builtins.type\n",
      " |      Create and return a new object.  See help(type) for accurate signature.\n",
      " |  \n",
      " |  ----------------------------------------------------------------------\n",
      " |  Data descriptors defined here:\n",
      " |  \n",
      " |  c_contiguous\n",
      " |      A bool indicating whether the memory is C contiguous.\n",
      " |  \n",
      " |  contiguous\n",
      " |      A bool indicating whether the memory is contiguous.\n",
      " |  \n",
      " |  f_contiguous\n",
      " |      A bool indicating whether the memory is Fortran contiguous.\n",
      " |  \n",
      " |  format\n",
      " |      A string containing the format (in struct module style)\n",
      " |      for each element in the view.\n",
      " |  \n",
      " |  itemsize\n",
      " |      The size in bytes of each element of the memoryview.\n",
      " |  \n",
      " |  nbytes\n",
      " |      The amount of space in bytes that the array would use in\n",
      " |      a contiguous representation.\n",
      " |  \n",
      " |  ndim\n",
      " |      An integer indicating how many dimensions of a multi-dimensional\n",
      " |      array the memory represents.\n",
      " |  \n",
      " |  obj\n",
      " |      The underlying object of the memoryview.\n",
      " |  \n",
      " |  readonly\n",
      " |      A bool indicating whether the memory is read only.\n",
      " |  \n",
      " |  shape\n",
      " |      A tuple of ndim integers giving the shape of the memory\n",
      " |      as an N-dimensional array.\n",
      " |  \n",
      " |  strides\n",
      " |      A tuple of ndim integers giving the size in bytes to access\n",
      " |      each element for each dimension of the array.\n",
      " |  \n",
      " |  suboffsets\n",
      " |      A tuple of integers used internally for PIL-style arrays.\n",
      "\n"
     ]
    }
   ],
   "source": [
    "help(memoryview)"
   ]
  },
  {
   "cell_type": "code",
   "execution_count": 71,
   "id": "a727fd0b",
   "metadata": {},
   "outputs": [
    {
     "name": "stdout",
     "output_type": "stream",
     "text": [
      "Help on method_descriptor:\n",
      "\n",
      "cast(self, /, format, *, shape)\n",
      "    Cast a memoryview to a new format or shape.\n",
      "\n"
     ]
    }
   ],
   "source": [
    "help(memoryview.cast)"
   ]
  },
  {
   "cell_type": "code",
   "execution_count": 64,
   "id": "718ba3b0",
   "metadata": {},
   "outputs": [
    {
     "data": {
      "text/plain": [
       "[3.0, 4.0]"
      ]
     },
     "execution_count": 64,
     "metadata": {},
     "output_type": "execute_result"
    }
   ],
   "source": [
    "list(memoryview(octets[1:]).cast(chr(octets[0])))"
   ]
  },
  {
   "cell_type": "code",
   "execution_count": 68,
   "id": "470d95c2",
   "metadata": {},
   "outputs": [
    {
     "data": {
      "text/plain": [
       "<memory at 0x00000193C87B9880>"
      ]
     },
     "execution_count": 68,
     "metadata": {},
     "output_type": "execute_result"
    }
   ],
   "source": [
    "memoryview(octets[1:])"
   ]
  },
  {
   "cell_type": "code",
   "execution_count": 55,
   "id": "81871b39",
   "metadata": {},
   "outputs": [
    {
     "data": {
      "text/plain": [
       "[100, 0, 0, 0, 0, 0, 0, 8, 64, 0, 0, 0, 0, 0, 0, 16, 64]"
      ]
     },
     "execution_count": 55,
     "metadata": {},
     "output_type": "execute_result"
    }
   ],
   "source": [
    "[octets[i] for i in range(len(octets))]"
   ]
  },
  {
   "cell_type": "code",
   "execution_count": 56,
   "id": "e56ec676",
   "metadata": {},
   "outputs": [
    {
     "data": {
      "text/plain": [
       "['d',\n",
       " '\\x00',\n",
       " '\\x00',\n",
       " '\\x00',\n",
       " '\\x00',\n",
       " '\\x00',\n",
       " '\\x00',\n",
       " '\\x08',\n",
       " '@',\n",
       " '\\x00',\n",
       " '\\x00',\n",
       " '\\x00',\n",
       " '\\x00',\n",
       " '\\x00',\n",
       " '\\x00',\n",
       " '\\x10',\n",
       " '@']"
      ]
     },
     "execution_count": 56,
     "metadata": {},
     "output_type": "execute_result"
    }
   ],
   "source": [
    "[chr(octets[i]) for i in range(len(octets))]"
   ]
  },
  {
   "cell_type": "code",
   "execution_count": 58,
   "id": "8602921c",
   "metadata": {},
   "outputs": [
    {
     "name": "stdout",
     "output_type": "stream",
     "text": [
      "Help on built-in function chr in module builtins:\n",
      "\n",
      "chr(i, /)\n",
      "    Return a Unicode string of one character with ordinal i; 0 <= i <= 0x10ffff.\n",
      "\n"
     ]
    }
   ],
   "source": [
    "help(chr)"
   ]
  },
  {
   "cell_type": "code",
   "execution_count": 60,
   "id": "b216feb1",
   "metadata": {},
   "outputs": [
    {
     "data": {
      "text/plain": [
       "('@', '\\x10', '\\x08', '\\n')"
      ]
     },
     "execution_count": 60,
     "metadata": {},
     "output_type": "execute_result"
    }
   ],
   "source": [
    "chr(64), chr(16), chr(8), chr(10)"
   ]
  },
  {
   "cell_type": "code",
   "execution_count": 54,
   "id": "1d0a12e3",
   "metadata": {},
   "outputs": [
    {
     "data": {
      "text/plain": [
       "(0, '\\x00')"
      ]
     },
     "execution_count": 54,
     "metadata": {},
     "output_type": "execute_result"
    }
   ],
   "source": [
    "octets[1], chr(octets[1])"
   ]
  },
  {
   "cell_type": "code",
   "execution_count": 49,
   "id": "fb66c346",
   "metadata": {},
   "outputs": [
    {
     "data": {
      "text/plain": [
       "5.0"
      ]
     },
     "execution_count": 49,
     "metadata": {},
     "output_type": "execute_result"
    }
   ],
   "source": [
    "abs(v1)"
   ]
  },
  {
   "cell_type": "code",
   "execution_count": 50,
   "id": "df1f00cc",
   "metadata": {},
   "outputs": [
    {
     "data": {
      "text/plain": [
       "(True, False)"
      ]
     },
     "execution_count": 50,
     "metadata": {},
     "output_type": "execute_result"
    }
   ],
   "source": [
    "bool(v1), bool(Vector2d(0, 0))"
   ]
  },
  {
   "cell_type": "code",
   "execution_count": 51,
   "id": "fe632f4a",
   "metadata": {},
   "outputs": [
    {
     "data": {
      "text/plain": [
       "Vector2d(3.0, 4.0)"
      ]
     },
     "execution_count": 51,
     "metadata": {},
     "output_type": "execute_result"
    }
   ],
   "source": [
    "v1_clone = Vector2d.frombytes(bytes(v1))\n",
    "v1_clone"
   ]
  },
  {
   "cell_type": "code",
   "execution_count": 72,
   "id": "2d48b1ae",
   "metadata": {},
   "outputs": [
    {
     "data": {
      "text/plain": [
       "'(3.0, 4.0)'"
      ]
     },
     "execution_count": 72,
     "metadata": {},
     "output_type": "execute_result"
    }
   ],
   "source": [
    "format(v1)"
   ]
  },
  {
   "cell_type": "code",
   "execution_count": 73,
   "id": "84885016",
   "metadata": {},
   "outputs": [
    {
     "data": {
      "text/plain": [
       "'(3.00, 4.00)'"
      ]
     },
     "execution_count": 73,
     "metadata": {},
     "output_type": "execute_result"
    }
   ],
   "source": [
    "format(v1, '.2f')"
   ]
  },
  {
   "cell_type": "code",
   "execution_count": 74,
   "id": "090bf6af",
   "metadata": {},
   "outputs": [
    {
     "data": {
      "text/plain": [
       "'(3.000e+00, 4.000e+00)'"
      ]
     },
     "execution_count": 74,
     "metadata": {},
     "output_type": "execute_result"
    }
   ],
   "source": [
    "format(v1, '.3e')"
   ]
  },
  {
   "cell_type": "code",
   "execution_count": 75,
   "id": "31952eea",
   "metadata": {},
   "outputs": [
    {
     "data": {
      "text/plain": [
       "0.0"
      ]
     },
     "execution_count": 75,
     "metadata": {},
     "output_type": "execute_result"
    }
   ],
   "source": [
    "Vector2d(0, 0).angle()"
   ]
  },
  {
   "cell_type": "code",
   "execution_count": 76,
   "id": "a47f40b8",
   "metadata": {},
   "outputs": [
    {
     "data": {
      "text/plain": [
       "0.0"
      ]
     },
     "execution_count": 76,
     "metadata": {},
     "output_type": "execute_result"
    }
   ],
   "source": [
    "Vector2d(1, 0).angle()"
   ]
  },
  {
   "cell_type": "code",
   "execution_count": 77,
   "id": "cb814203",
   "metadata": {},
   "outputs": [
    {
     "data": {
      "text/plain": [
       "0.7853981633974483"
      ]
     },
     "execution_count": 77,
     "metadata": {},
     "output_type": "execute_result"
    }
   ],
   "source": [
    "Vector2d(1, 1).angle()"
   ]
  },
  {
   "cell_type": "code",
   "execution_count": 78,
   "id": "9980a50e",
   "metadata": {},
   "outputs": [
    {
     "data": {
      "text/plain": [
       "1.5707963267948966"
      ]
     },
     "execution_count": 78,
     "metadata": {},
     "output_type": "execute_result"
    }
   ],
   "source": [
    "Vector2d(0, 1).angle()"
   ]
  },
  {
   "cell_type": "code",
   "execution_count": 79,
   "id": "01d1cdad",
   "metadata": {},
   "outputs": [
    {
     "data": {
      "text/plain": [
       "2"
      ]
     },
     "execution_count": 79,
     "metadata": {},
     "output_type": "execute_result"
    }
   ],
   "source": [
    "v1 = Vector2d(3, 4)\n",
    "v2 = Vector2d(3.1, 4.2)\n",
    "len({v1, v2})"
   ]
  },
  {
   "cell_type": "code",
   "execution_count": 80,
   "id": "172fbb4f",
   "metadata": {},
   "outputs": [
    {
     "data": {
      "text/plain": [
       "1079245023883434373"
      ]
     },
     "execution_count": 80,
     "metadata": {},
     "output_type": "execute_result"
    }
   ],
   "source": [
    "hash(v1)"
   ]
  },
  {
   "cell_type": "code",
   "execution_count": 81,
   "id": "b85efaf2",
   "metadata": {},
   "outputs": [
    {
     "data": {
      "text/plain": [
       "(3.0, 4.0)"
      ]
     },
     "execution_count": 81,
     "metadata": {},
     "output_type": "execute_result"
    }
   ],
   "source": [
    "v1.x, v1.y"
   ]
  },
  {
   "cell_type": "code",
   "execution_count": 82,
   "id": "2272d413",
   "metadata": {},
   "outputs": [
    {
     "ename": "AttributeError",
     "evalue": "can't set attribute",
     "output_type": "error",
     "traceback": [
      "\u001b[1;31m---------------------------------------------------------------------------\u001b[0m",
      "\u001b[1;31mAttributeError\u001b[0m                            Traceback (most recent call last)",
      "Input \u001b[1;32mIn [82]\u001b[0m, in \u001b[0;36m<cell line: 1>\u001b[1;34m()\u001b[0m\n\u001b[1;32m----> 1\u001b[0m v1\u001b[38;5;241m.\u001b[39mx \u001b[38;5;241m=\u001b[39m \u001b[38;5;241m7\u001b[39m\n",
      "\u001b[1;31mAttributeError\u001b[0m: can't set attribute"
     ]
    }
   ],
   "source": [
    "v1.x = 7"
   ]
  },
  {
   "cell_type": "code",
   "execution_count": 83,
   "id": "90e8fa64",
   "metadata": {},
   "outputs": [
    {
     "data": {
      "text/plain": [
       "Vector2d(3.0, 4.0)"
      ]
     },
     "execution_count": 83,
     "metadata": {},
     "output_type": "execute_result"
    }
   ],
   "source": [
    "v1"
   ]
  },
  {
   "cell_type": "code",
   "execution_count": 84,
   "id": "1be3eb3b",
   "metadata": {},
   "outputs": [
    {
     "data": {
      "text/plain": [
       "1079245023883434373"
      ]
     },
     "execution_count": 84,
     "metadata": {},
     "output_type": "execute_result"
    }
   ],
   "source": [
    "hash((3,4))"
   ]
  },
  {
   "cell_type": "code",
   "execution_count": 85,
   "id": "f7310ac3",
   "metadata": {},
   "outputs": [
    {
     "data": {
      "text/plain": [
       "True"
      ]
     },
     "execution_count": 85,
     "metadata": {},
     "output_type": "execute_result"
    }
   ],
   "source": [
    "hash((3,4)) == hash(v1)"
   ]
  }
 ],
 "metadata": {
  "kernelspec": {
   "display_name": "Python 3 (ipykernel)",
   "language": "python",
   "name": "python3"
  },
  "language_info": {
   "codemirror_mode": {
    "name": "ipython",
    "version": 3
   },
   "file_extension": ".py",
   "mimetype": "text/x-python",
   "name": "python",
   "nbconvert_exporter": "python",
   "pygments_lexer": "ipython3",
   "version": "3.8.13"
  }
 },
 "nbformat": 4,
 "nbformat_minor": 5
}
