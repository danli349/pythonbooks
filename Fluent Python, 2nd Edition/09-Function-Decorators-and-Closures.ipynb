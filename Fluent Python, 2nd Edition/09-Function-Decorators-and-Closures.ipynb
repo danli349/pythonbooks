{
 "cells": [
  {
   "cell_type": "code",
   "execution_count": 1,
   "id": "4e2fb42b",
   "metadata": {},
   "outputs": [
    {
     "data": {
      "text/plain": [
       "['D:\\\\books\\\\python\\\\0.   Fluent Python, 2nd Edition',\n",
       " 'D:/books/python/0.   Fluent Python, 2nd Edition/example-code/07-closure-deco',\n",
       " 'C:\\\\Users\\\\lidan\\\\miniconda3\\\\python38.zip',\n",
       " 'C:\\\\Users\\\\lidan\\\\miniconda3\\\\DLLs',\n",
       " 'C:\\\\Users\\\\lidan\\\\miniconda3\\\\lib',\n",
       " 'C:\\\\Users\\\\lidan\\\\miniconda3',\n",
       " '',\n",
       " 'C:\\\\Users\\\\lidan\\\\AppData\\\\Roaming\\\\Python\\\\Python38\\\\site-packages',\n",
       " 'C:\\\\Users\\\\lidan\\\\miniconda3\\\\lib\\\\site-packages',\n",
       " 'C:\\\\Users\\\\lidan\\\\miniconda3\\\\lib\\\\site-packages\\\\magic_impute-2.0.4-py3.8.egg',\n",
       " 'C:\\\\Users\\\\lidan\\\\miniconda3\\\\lib\\\\site-packages\\\\seqc-0.2.0-py3.8.egg',\n",
       " 'C:\\\\Users\\\\lidan\\\\miniconda3\\\\lib\\\\site-packages\\\\weasyprint-56.1-py3.8.egg',\n",
       " 'C:\\\\Users\\\\lidan\\\\miniconda3\\\\lib\\\\site-packages\\\\cairocffi-1.3.0-py3.8.egg',\n",
       " 'C:\\\\Users\\\\lidan\\\\miniconda3\\\\lib\\\\site-packages\\\\win32',\n",
       " 'C:\\\\Users\\\\lidan\\\\miniconda3\\\\lib\\\\site-packages\\\\win32\\\\lib',\n",
       " 'C:\\\\Users\\\\lidan\\\\miniconda3\\\\lib\\\\site-packages\\\\Pythonwin',\n",
       " 'C:\\\\Users\\\\lidan\\\\miniconda3\\\\lib\\\\site-packages\\\\IPython\\\\extensions',\n",
       " 'C:\\\\Users\\\\lidan\\\\.ipython']"
      ]
     },
     "execution_count": 1,
     "metadata": {},
     "output_type": "execute_result"
    }
   ],
   "source": [
    "import sys\n",
    "    # caution: path[0] is reserved for script path (or '' in REPL)\n",
    "sys.path.insert(1, 'D:/books/python/0.   Fluent Python, 2nd Edition/example-code/07-closure-deco')\n",
    "sys.path"
   ]
  },
  {
   "cell_type": "code",
   "execution_count": 2,
   "id": "8dba5c7f",
   "metadata": {},
   "outputs": [
    {
     "name": "stdout",
     "output_type": "stream",
     "text": [
      "running inner()\n"
     ]
    }
   ],
   "source": [
    "def deco(func):\n",
    "    def inner():\n",
    "        print('running inner()')\n",
    "    return inner\n",
    "\n",
    "@deco\n",
    "def target():\n",
    "    print('running target()')\n",
    "target()"
   ]
  },
  {
   "cell_type": "code",
   "execution_count": 3,
   "id": "951a4727",
   "metadata": {},
   "outputs": [
    {
     "data": {
      "text/plain": [
       "<function __main__.deco.<locals>.inner()>"
      ]
     },
     "execution_count": 3,
     "metadata": {},
     "output_type": "execute_result"
    }
   ],
   "source": [
    "target"
   ]
  },
  {
   "cell_type": "code",
   "execution_count": 4,
   "id": "d59e5b30",
   "metadata": {},
   "outputs": [
    {
     "name": "stdout",
     "output_type": "stream",
     "text": [
      "running register(<function f1 at 0x00000135FBD689D0>)\n",
      "running register(<function f2 at 0x00000135FBD68310>)\n",
      "running main()\n",
      "registry -> [<function f1 at 0x00000135FBD689D0>, <function f2 at 0x00000135FBD68310>]\n",
      "running f1()\n",
      "running f2()\n",
      "running f3()\n"
     ]
    }
   ],
   "source": [
    "# BEGIN REGISTRATION\n",
    "\n",
    "registry = []  # <1>\n",
    "\n",
    "def register(func):  # <2>\n",
    "    print('running register(%s)' % func)  # <3>\n",
    "    registry.append(func)  # <4>\n",
    "    return func  # <5>\n",
    "\n",
    "@register  # <6>\n",
    "def f1():\n",
    "    print('running f1()')\n",
    "\n",
    "@register\n",
    "def f2():\n",
    "    print('running f2()')\n",
    "\n",
    "def f3():  # <7>\n",
    "    print('running f3()')\n",
    "\n",
    "def main():  # <8>\n",
    "    print('running main()')\n",
    "    print('registry ->', registry)\n",
    "    f1()\n",
    "    f2()\n",
    "    f3()\n",
    "\n",
    "if __name__=='__main__':\n",
    "    main()  # <9>\n",
    "\n",
    "# END REGISTRATION"
   ]
  },
  {
   "cell_type": "code",
   "execution_count": 3,
   "id": "7e163182",
   "metadata": {},
   "outputs": [
    {
     "name": "stdout",
     "output_type": "stream",
     "text": [
      "running register(<function f1 at 0x0000017B847BD8B0>)\n",
      "running register(<function f2 at 0x0000017B847BD940>)\n",
      "running main()\n",
      "registry -> [<function f1 at 0x0000017B847BD8B0>, <function f2 at 0x0000017B847BD940>]\n",
      "running f1()\n",
      "running f2()\n",
      "running f3()\n"
     ]
    }
   ],
   "source": [
    "!python example-code/07-closure-deco/registration.py"
   ]
  },
  {
   "cell_type": "code",
   "execution_count": 4,
   "id": "89b4fca2",
   "metadata": {},
   "outputs": [
    {
     "name": "stdout",
     "output_type": "stream",
     "text": [
      "running register(<function f1 at 0x0000016789F285E0>)\n",
      "running register(<function f2 at 0x0000016789F283A0>)\n"
     ]
    }
   ],
   "source": [
    "import registration"
   ]
  },
  {
   "cell_type": "code",
   "execution_count": 5,
   "id": "3451f0b6",
   "metadata": {},
   "outputs": [
    {
     "data": {
      "text/plain": [
       "[<function registration.f1()>, <function registration.f2()>]"
      ]
     },
     "execution_count": 5,
     "metadata": {},
     "output_type": "execute_result"
    }
   ],
   "source": [
    "registration.registry"
   ]
  },
  {
   "cell_type": "code",
   "execution_count": 35,
   "id": "a29ff824",
   "metadata": {},
   "outputs": [
    {
     "name": "stdout",
     "output_type": "stream",
     "text": [
      "running register(<function f1 at 0x000001678A018310>)\n",
      "running main()\n",
      "registry -> [<function f1 at 0x000001678A018310>]\n",
      "running f1()\n"
     ]
    }
   ],
   "source": [
    "# BEGIN REGISTRATION_ABRIDGED\n",
    "registry = []\n",
    "\n",
    "def register(func):\n",
    "    print('running register(%s)' % func)\n",
    "    registry.append(func)\n",
    "    return func\n",
    "\n",
    "@register\n",
    "def f1():\n",
    "    print('running f1()')\n",
    "\n",
    "print('running main()')\n",
    "print('registry ->', registry)\n",
    "f1()\n",
    "# END REGISTRATION_ABRIDGED\n"
   ]
  },
  {
   "cell_type": "code",
   "execution_count": 36,
   "id": "4a046efb",
   "metadata": {},
   "outputs": [
    {
     "name": "stdout",
     "output_type": "stream",
     "text": [
      "running register(active=False)->decorate(<function f1 at 0x000001678A018280>)\n",
      "running register(active=True)->decorate(<function f2 at 0x000001678A018CA0>)\n"
     ]
    }
   ],
   "source": [
    "# BEGIN REGISTRATION_PARAM\n",
    "\n",
    "registry = set()  # <1>\n",
    "\n",
    "def register(active=True):  # <2>\n",
    "    def decorate(func):  # <3>\n",
    "        print('running register(active=%s)->decorate(%s)'\n",
    "              % (active, func))\n",
    "        if active:   # <4>\n",
    "            registry.add(func)\n",
    "        else:\n",
    "            registry.discard(func)  # <5>\n",
    "\n",
    "        return func  # <6>\n",
    "    return decorate  # <7>\n",
    "\n",
    "@register(active=False)  # <8>\n",
    "def f1():\n",
    "    print('running f1()')\n",
    "\n",
    "@register()  # <9>\n",
    "def f2():\n",
    "    print('running f2()')\n",
    "\n",
    "def f3():\n",
    "    print('running f3()')\n",
    "\n",
    "# END REGISTRATION_PARAM\n"
   ]
  },
  {
   "cell_type": "code",
   "execution_count": 8,
   "id": "16b5b8f5",
   "metadata": {},
   "outputs": [
    {
     "name": "stdout",
     "output_type": "stream",
     "text": [
      "running register(active=False)->decorate(<function f1 at 0x00000293E9B87AF0>)\n",
      "running register(active=True)->decorate(<function f2 at 0x00000293E9B87940>)\n"
     ]
    }
   ],
   "source": [
    "import registration_param"
   ]
  },
  {
   "cell_type": "code",
   "execution_count": 9,
   "id": "3e8159f2",
   "metadata": {},
   "outputs": [
    {
     "data": {
      "text/plain": [
       "{<function registration_param.f2()>}"
      ]
     },
     "execution_count": 9,
     "metadata": {},
     "output_type": "execute_result"
    }
   ],
   "source": [
    "registration_param.registry"
   ]
  },
  {
   "cell_type": "code",
   "execution_count": 11,
   "id": "f029741f",
   "metadata": {},
   "outputs": [],
   "source": [
    "from registration_param import *"
   ]
  },
  {
   "cell_type": "code",
   "execution_count": 12,
   "id": "2c150f00",
   "metadata": {},
   "outputs": [
    {
     "data": {
      "text/plain": [
       "{<function registration_param.f2()>}"
      ]
     },
     "execution_count": 12,
     "metadata": {},
     "output_type": "execute_result"
    }
   ],
   "source": [
    "registry"
   ]
  },
  {
   "cell_type": "code",
   "execution_count": 13,
   "id": "643d87d7",
   "metadata": {},
   "outputs": [
    {
     "name": "stdout",
     "output_type": "stream",
     "text": [
      "running register(active=True)->decorate(<function f3 at 0x00000293E9B87EE0>)\n"
     ]
    },
    {
     "data": {
      "text/plain": [
       "<function registration_param.f3()>"
      ]
     },
     "execution_count": 13,
     "metadata": {},
     "output_type": "execute_result"
    }
   ],
   "source": [
    "register()(f3)"
   ]
  },
  {
   "cell_type": "code",
   "execution_count": 14,
   "id": "861b9f40",
   "metadata": {},
   "outputs": [
    {
     "data": {
      "text/plain": [
       "{<function registration_param.f2()>, <function registration_param.f3()>}"
      ]
     },
     "execution_count": 14,
     "metadata": {},
     "output_type": "execute_result"
    }
   ],
   "source": [
    "registry"
   ]
  },
  {
   "cell_type": "code",
   "execution_count": 16,
   "id": "48da1eb2",
   "metadata": {},
   "outputs": [
    {
     "name": "stdout",
     "output_type": "stream",
     "text": [
      "running register(active=False)->decorate(<function f2 at 0x00000293E9B87940>)\n"
     ]
    },
    {
     "data": {
      "text/plain": [
       "<function registration_param.f2()>"
      ]
     },
     "execution_count": 16,
     "metadata": {},
     "output_type": "execute_result"
    }
   ],
   "source": [
    "register(active=False)(f2)"
   ]
  },
  {
   "cell_type": "code",
   "execution_count": 17,
   "id": "8d57e2d2",
   "metadata": {},
   "outputs": [
    {
     "data": {
      "text/plain": [
       "{<function registration_param.f3()>}"
      ]
     },
     "execution_count": 17,
     "metadata": {},
     "output_type": "execute_result"
    }
   ],
   "source": [
    "registry"
   ]
  },
  {
   "cell_type": "code",
   "execution_count": null,
   "id": "746e9b5b",
   "metadata": {},
   "outputs": [],
   "source": []
  },
  {
   "cell_type": "code",
   "execution_count": 6,
   "id": "57e78939",
   "metadata": {},
   "outputs": [],
   "source": [
    "# strategy_best4.py\n",
    "# Strategy pattern -- function-based implementation\n",
    "# selecting best promotion from list of functions\n",
    "# registered by a decorator\n",
    "\n",
    "\"\"\"\n",
    "    >>> joe = Customer('John Doe', 0)\n",
    "    >>> ann = Customer('Ann Smith', 1100)\n",
    "    >>> cart = [LineItem('banana', 4, .5),\n",
    "    ...         LineItem('apple', 10, 1.5),\n",
    "    ...         LineItem('watermellon', 5, 5.0)]\n",
    "    >>> Order(joe, cart, fidelity)\n",
    "    <Order total: 42.00 due: 42.00>\n",
    "    >>> Order(ann, cart, fidelity)\n",
    "    <Order total: 42.00 due: 39.90>\n",
    "    >>> banana_cart = [LineItem('banana', 30, .5),\n",
    "    ...                LineItem('apple', 10, 1.5)]\n",
    "    >>> Order(joe, banana_cart, bulk_item)\n",
    "    <Order total: 30.00 due: 28.50>\n",
    "    >>> long_order = [LineItem(str(item_code), 1, 1.0)\n",
    "    ...               for item_code in range(10)]\n",
    "    >>> Order(joe, long_order, large_order)\n",
    "    <Order total: 10.00 due: 9.30>\n",
    "    >>> Order(joe, cart, large_order)\n",
    "    <Order total: 42.00 due: 42.00>\n",
    "\n",
    "# BEGIN STRATEGY_BEST_TESTS\n",
    "\n",
    "    >>> Order(joe, long_order, best_promo)\n",
    "    <Order total: 10.00 due: 9.30>\n",
    "    >>> Order(joe, banana_cart, best_promo)\n",
    "    <Order total: 30.00 due: 28.50>\n",
    "    >>> Order(ann, cart, best_promo)\n",
    "    <Order total: 42.00 due: 39.90>\n",
    "\n",
    "# END STRATEGY_BEST_TESTS\n",
    "\"\"\"\n",
    "\n",
    "from collections import namedtuple\n",
    "\n",
    "Customer = namedtuple('Customer', 'name fidelity')\n",
    "\n",
    "\n",
    "class LineItem:\n",
    "\n",
    "    def __init__(self, product, quantity, price):\n",
    "        self.product = product\n",
    "        self.quantity = quantity\n",
    "        self.price = price\n",
    "\n",
    "    def total(self):\n",
    "        return self.price * self.quantity\n",
    "\n",
    "\n",
    "class Order:  # the Context\n",
    "\n",
    "    def __init__(self, customer, cart, promotion=None):\n",
    "        self.customer = customer\n",
    "        self.cart = list(cart)\n",
    "        self.promotion = promotion\n",
    "\n",
    "    def total(self):\n",
    "        if not hasattr(self, '__total'):\n",
    "            self.__total = sum(item.total() for item in self.cart)\n",
    "        return self.__total\n",
    "\n",
    "    def due(self):\n",
    "        if self.promotion is None:\n",
    "            discount = 0\n",
    "        else:\n",
    "            discount = self.promotion(self)\n",
    "        return self.total() - discount\n",
    "\n",
    "    def __repr__(self):\n",
    "        fmt = '<Order total: {:.2f} due: {:.2f}>'\n",
    "        return fmt.format(self.total(), self.due())\n",
    "\n",
    "# BEGIN STRATEGY_BEST4\n",
    "\n",
    "promos = []  # <1>\n",
    "\n",
    "def promotion(promo_func):  # <2>\n",
    "    promos.append(promo_func)\n",
    "    return promo_func\n",
    "\n",
    "@promotion  # <3>\n",
    "def fidelity(order):\n",
    "    \"\"\"5% discount for customers with 1000 or more fidelity points\"\"\"\n",
    "    return order.total() * .05 if order.customer.fidelity >= 1000 else 0\n",
    "\n",
    "@promotion\n",
    "def bulk_item(order):\n",
    "    \"\"\"10% discount for each LineItem with 20 or more units\"\"\"\n",
    "    discount = 0\n",
    "    for item in order.cart:\n",
    "        if item.quantity >= 20:\n",
    "            discount += item.total() * .1\n",
    "    return discount\n",
    "\n",
    "@promotion\n",
    "def large_order(order):\n",
    "    \"\"\"7% discount for orders with 10 or more distinct items\"\"\"\n",
    "    distinct_items = {item.product for item in order.cart}\n",
    "    if len(distinct_items) >= 10:\n",
    "        return order.total() * .07\n",
    "    return 0\n",
    "\n",
    "def best_promo(order):  # <4>\n",
    "    \"\"\"Select best discount available\n",
    "    \"\"\"\n",
    "    return max(promo(order) for promo in promos)\n",
    "\n",
    "# END STRATEGY_BEST4\n"
   ]
  },
  {
   "cell_type": "code",
   "execution_count": 7,
   "id": "411bc520",
   "metadata": {},
   "outputs": [
    {
     "name": "stdout",
     "output_type": "stream",
     "text": [
      "3\n"
     ]
    },
    {
     "ename": "NameError",
     "evalue": "name 'b' is not defined",
     "output_type": "error",
     "traceback": [
      "\u001b[1;31m---------------------------------------------------------------------------\u001b[0m",
      "\u001b[1;31mNameError\u001b[0m                                 Traceback (most recent call last)",
      "\u001b[1;32m~\\AppData\\Local\\Temp/ipykernel_29192/338454335.py\u001b[0m in \u001b[0;36m<module>\u001b[1;34m\u001b[0m\n\u001b[0;32m      3\u001b[0m     \u001b[0mprint\u001b[0m\u001b[1;33m(\u001b[0m\u001b[0mb\u001b[0m\u001b[1;33m)\u001b[0m\u001b[1;33m\u001b[0m\u001b[1;33m\u001b[0m\u001b[0m\n\u001b[0;32m      4\u001b[0m \u001b[1;33m\u001b[0m\u001b[0m\n\u001b[1;32m----> 5\u001b[1;33m \u001b[0mf1\u001b[0m\u001b[1;33m(\u001b[0m\u001b[1;36m3\u001b[0m\u001b[1;33m)\u001b[0m\u001b[1;33m\u001b[0m\u001b[1;33m\u001b[0m\u001b[0m\n\u001b[0m",
      "\u001b[1;32m~\\AppData\\Local\\Temp/ipykernel_29192/338454335.py\u001b[0m in \u001b[0;36mf1\u001b[1;34m(a)\u001b[0m\n\u001b[0;32m      1\u001b[0m \u001b[1;32mdef\u001b[0m \u001b[0mf1\u001b[0m\u001b[1;33m(\u001b[0m\u001b[0ma\u001b[0m\u001b[1;33m)\u001b[0m\u001b[1;33m:\u001b[0m\u001b[1;33m\u001b[0m\u001b[1;33m\u001b[0m\u001b[0m\n\u001b[0;32m      2\u001b[0m     \u001b[0mprint\u001b[0m\u001b[1;33m(\u001b[0m\u001b[0ma\u001b[0m\u001b[1;33m)\u001b[0m\u001b[1;33m\u001b[0m\u001b[1;33m\u001b[0m\u001b[0m\n\u001b[1;32m----> 3\u001b[1;33m     \u001b[0mprint\u001b[0m\u001b[1;33m(\u001b[0m\u001b[0mb\u001b[0m\u001b[1;33m)\u001b[0m\u001b[1;33m\u001b[0m\u001b[1;33m\u001b[0m\u001b[0m\n\u001b[0m\u001b[0;32m      4\u001b[0m \u001b[1;33m\u001b[0m\u001b[0m\n\u001b[0;32m      5\u001b[0m \u001b[0mf1\u001b[0m\u001b[1;33m(\u001b[0m\u001b[1;36m3\u001b[0m\u001b[1;33m)\u001b[0m\u001b[1;33m\u001b[0m\u001b[1;33m\u001b[0m\u001b[0m\n",
      "\u001b[1;31mNameError\u001b[0m: name 'b' is not defined"
     ]
    }
   ],
   "source": [
    "def f1(a):\n",
    "    print(a)\n",
    "    print(b)\n",
    "\n",
    "f1(3)"
   ]
  },
  {
   "cell_type": "code",
   "execution_count": 8,
   "id": "c6b8a768",
   "metadata": {},
   "outputs": [
    {
     "name": "stdout",
     "output_type": "stream",
     "text": [
      "3\n",
      "6\n"
     ]
    }
   ],
   "source": [
    "b = 6\n",
    "f1(3)"
   ]
  },
  {
   "cell_type": "code",
   "execution_count": 10,
   "id": "ca0a6f21",
   "metadata": {},
   "outputs": [
    {
     "name": "stdout",
     "output_type": "stream",
     "text": [
      "3\n"
     ]
    },
    {
     "ename": "UnboundLocalError",
     "evalue": "local variable 'b' referenced before assignment",
     "output_type": "error",
     "traceback": [
      "\u001b[1;31m---------------------------------------------------------------------------\u001b[0m",
      "\u001b[1;31mUnboundLocalError\u001b[0m                         Traceback (most recent call last)",
      "\u001b[1;32m~\\AppData\\Local\\Temp/ipykernel_29192/2560204742.py\u001b[0m in \u001b[0;36m<module>\u001b[1;34m\u001b[0m\n\u001b[0;32m      5\u001b[0m     \u001b[0mb\u001b[0m \u001b[1;33m=\u001b[0m \u001b[1;36m9\u001b[0m\u001b[1;33m\u001b[0m\u001b[1;33m\u001b[0m\u001b[0m\n\u001b[0;32m      6\u001b[0m \u001b[1;33m\u001b[0m\u001b[0m\n\u001b[1;32m----> 7\u001b[1;33m \u001b[0mf2\u001b[0m\u001b[1;33m(\u001b[0m\u001b[1;36m3\u001b[0m\u001b[1;33m)\u001b[0m\u001b[1;33m\u001b[0m\u001b[1;33m\u001b[0m\u001b[0m\n\u001b[0m",
      "\u001b[1;32m~\\AppData\\Local\\Temp/ipykernel_29192/2560204742.py\u001b[0m in \u001b[0;36mf2\u001b[1;34m(a)\u001b[0m\n\u001b[0;32m      2\u001b[0m \u001b[1;32mdef\u001b[0m \u001b[0mf2\u001b[0m\u001b[1;33m(\u001b[0m\u001b[0ma\u001b[0m\u001b[1;33m)\u001b[0m\u001b[1;33m:\u001b[0m\u001b[1;33m\u001b[0m\u001b[1;33m\u001b[0m\u001b[0m\n\u001b[0;32m      3\u001b[0m     \u001b[0mprint\u001b[0m\u001b[1;33m(\u001b[0m\u001b[0ma\u001b[0m\u001b[1;33m)\u001b[0m\u001b[1;33m\u001b[0m\u001b[1;33m\u001b[0m\u001b[0m\n\u001b[1;32m----> 4\u001b[1;33m     \u001b[0mprint\u001b[0m\u001b[1;33m(\u001b[0m\u001b[0mb\u001b[0m\u001b[1;33m)\u001b[0m\u001b[1;33m\u001b[0m\u001b[1;33m\u001b[0m\u001b[0m\n\u001b[0m\u001b[0;32m      5\u001b[0m     \u001b[0mb\u001b[0m \u001b[1;33m=\u001b[0m \u001b[1;36m9\u001b[0m\u001b[1;33m\u001b[0m\u001b[1;33m\u001b[0m\u001b[0m\n\u001b[0;32m      6\u001b[0m \u001b[1;33m\u001b[0m\u001b[0m\n",
      "\u001b[1;31mUnboundLocalError\u001b[0m: local variable 'b' referenced before assignment"
     ]
    }
   ],
   "source": [
    "b = 6\n",
    "def f2(a):\n",
    "    print(a)\n",
    "    print(b)\n",
    "    b = 9\n",
    "\n",
    "f2(3)"
   ]
  },
  {
   "cell_type": "code",
   "execution_count": 11,
   "id": "a55a1a69",
   "metadata": {},
   "outputs": [
    {
     "name": "stdout",
     "output_type": "stream",
     "text": [
      "3\n",
      "6\n"
     ]
    }
   ],
   "source": [
    "def f3(a):\n",
    "    global b\n",
    "    print(a)\n",
    "    print(b)\n",
    "    b = 9\n",
    "\n",
    "f3(3)"
   ]
  },
  {
   "cell_type": "code",
   "execution_count": 12,
   "id": "4bbdc857",
   "metadata": {},
   "outputs": [
    {
     "data": {
      "text/plain": [
       "9"
      ]
     },
     "execution_count": 12,
     "metadata": {},
     "output_type": "execute_result"
    }
   ],
   "source": [
    "b"
   ]
  },
  {
   "cell_type": "code",
   "execution_count": 13,
   "id": "6db71f45",
   "metadata": {},
   "outputs": [
    {
     "name": "stdout",
     "output_type": "stream",
     "text": [
      "  2           0 LOAD_GLOBAL              0 (print)\n",
      "              2 LOAD_FAST                0 (a)\n",
      "              4 CALL_FUNCTION            1\n",
      "              6 POP_TOP\n",
      "\n",
      "  3           8 LOAD_GLOBAL              0 (print)\n",
      "             10 LOAD_GLOBAL              1 (b)\n",
      "             12 CALL_FUNCTION            1\n",
      "             14 POP_TOP\n",
      "             16 LOAD_CONST               0 (None)\n",
      "             18 RETURN_VALUE\n"
     ]
    }
   ],
   "source": [
    "from dis import dis\n",
    "dis(f1)"
   ]
  },
  {
   "cell_type": "code",
   "execution_count": 14,
   "id": "c9e67568",
   "metadata": {},
   "outputs": [
    {
     "name": "stdout",
     "output_type": "stream",
     "text": [
      "  3           0 LOAD_GLOBAL              0 (print)\n",
      "              2 LOAD_FAST                0 (a)\n",
      "              4 CALL_FUNCTION            1\n",
      "              6 POP_TOP\n",
      "\n",
      "  4           8 LOAD_GLOBAL              0 (print)\n",
      "             10 LOAD_FAST                1 (b)\n",
      "             12 CALL_FUNCTION            1\n",
      "             14 POP_TOP\n",
      "\n",
      "  5          16 LOAD_CONST               1 (9)\n",
      "             18 STORE_FAST               1 (b)\n",
      "             20 LOAD_CONST               0 (None)\n",
      "             22 RETURN_VALUE\n"
     ]
    }
   ],
   "source": [
    "dis(f2)"
   ]
  },
  {
   "cell_type": "code",
   "execution_count": 15,
   "id": "27d23bbb",
   "metadata": {},
   "outputs": [
    {
     "name": "stdout",
     "output_type": "stream",
     "text": [
      "  3           0 LOAD_GLOBAL              0 (print)\n",
      "              2 LOAD_FAST                0 (a)\n",
      "              4 CALL_FUNCTION            1\n",
      "              6 POP_TOP\n",
      "\n",
      "  4           8 LOAD_GLOBAL              0 (print)\n",
      "             10 LOAD_GLOBAL              1 (b)\n",
      "             12 CALL_FUNCTION            1\n",
      "             14 POP_TOP\n",
      "\n",
      "  5          16 LOAD_CONST               1 (9)\n",
      "             18 STORE_GLOBAL             1 (b)\n",
      "             20 LOAD_CONST               0 (None)\n",
      "             22 RETURN_VALUE\n"
     ]
    }
   ],
   "source": [
    "dis(f3)"
   ]
  },
  {
   "cell_type": "code",
   "execution_count": 16,
   "id": "2d26561a",
   "metadata": {},
   "outputs": [],
   "source": [
    "\"\"\"\n",
    ">>> avg = Averager()\n",
    ">>> avg(10)\n",
    "10.0\n",
    ">>> avg(11)\n",
    "10.5\n",
    ">>> avg(12)\n",
    "11.0\n",
    "\n",
    "\"\"\"\n",
    "\n",
    "\n",
    "class Averager():\n",
    "\n",
    "    def __init__(self):\n",
    "        self.series = []\n",
    "\n",
    "    def __call__(self, new_value):\n",
    "        self.series.append(new_value)\n",
    "        total = sum(self.series)\n",
    "        return total/len(self.series)\n"
   ]
  },
  {
   "cell_type": "code",
   "execution_count": 23,
   "id": "4687e00f",
   "metadata": {},
   "outputs": [
    {
     "data": {
      "text/plain": [
       "(10.0, 10.5, 11.0)"
      ]
     },
     "execution_count": 23,
     "metadata": {},
     "output_type": "execute_result"
    }
   ],
   "source": [
    "avg = Averager()\n",
    "avg(10),avg(11),avg(12)"
   ]
  },
  {
   "cell_type": "code",
   "execution_count": 24,
   "id": "6a9777f0",
   "metadata": {},
   "outputs": [
    {
     "data": {
      "text/plain": [
       "(10.0, 10.5, 11.0)"
      ]
     },
     "execution_count": 24,
     "metadata": {},
     "output_type": "execute_result"
    }
   ],
   "source": [
    "avg2 = Averager()\n",
    "avg2(10),avg2(11),avg2(12)"
   ]
  },
  {
   "cell_type": "code",
   "execution_count": 25,
   "id": "ca89219b",
   "metadata": {},
   "outputs": [
    {
     "data": {
      "text/plain": [
       "(11.25, 11.4, 11.5)"
      ]
     },
     "execution_count": 25,
     "metadata": {},
     "output_type": "execute_result"
    }
   ],
   "source": [
    "avg(12),avg(12),avg(12)"
   ]
  },
  {
   "cell_type": "code",
   "execution_count": 18,
   "id": "f1669699",
   "metadata": {},
   "outputs": [
    {
     "data": {
      "text/plain": [
       "10.5"
      ]
     },
     "execution_count": 18,
     "metadata": {},
     "output_type": "execute_result"
    }
   ],
   "source": [
    "avg(11)"
   ]
  },
  {
   "cell_type": "code",
   "execution_count": 26,
   "id": "b1e3db5f",
   "metadata": {},
   "outputs": [],
   "source": [
    "\"\"\"\n",
    ">>> avg = make_averager()\n",
    ">>> avg(10)\n",
    "10.0\n",
    ">>> avg(11)\n",
    "10.5\n",
    ">>> avg(12)\n",
    "11.0\n",
    ">>> avg.__code__.co_varnames\n",
    "('new_value', 'total')\n",
    ">>> avg.__code__.co_freevars\n",
    "('series',)\n",
    ">>> avg.__closure__  # doctest: +ELLIPSIS\n",
    "(<cell at 0x...: list object at 0x...>,)\n",
    ">>> avg.__closure__[0].cell_contents\n",
    "[10, 11, 12]\n",
    "\"\"\"\n",
    "\n",
    "DEMO = \"\"\"\n",
    ">>> avg.__closure__\n",
    "(<cell at 0x107a44f78: list object at 0x107a91a48>,)\n",
    "\"\"\"\n",
    "\n",
    "\n",
    "def make_averager():\n",
    "    series = []\n",
    "\n",
    "    def averager(new_value):\n",
    "        series.append(new_value)\n",
    "        total = sum(series)\n",
    "        return total/len(series)\n",
    "\n",
    "    return averager\n"
   ]
  },
  {
   "cell_type": "code",
   "execution_count": 27,
   "id": "be1e50de",
   "metadata": {},
   "outputs": [
    {
     "data": {
      "text/plain": [
       "(10.0, 10.5, 11.0)"
      ]
     },
     "execution_count": 27,
     "metadata": {},
     "output_type": "execute_result"
    }
   ],
   "source": [
    "avg = make_averager()\n",
    "avg(10),avg(11),avg(12)"
   ]
  },
  {
   "cell_type": "code",
   "execution_count": 28,
   "id": "be7b5906",
   "metadata": {},
   "outputs": [
    {
     "data": {
      "text/plain": [
       "(10.0, 10.5, 11.0)"
      ]
     },
     "execution_count": 28,
     "metadata": {},
     "output_type": "execute_result"
    }
   ],
   "source": [
    "avg2 = make_averager()\n",
    "avg2(10),avg2(11),avg2(12)"
   ]
  },
  {
   "cell_type": "code",
   "execution_count": 29,
   "id": "2cdb7182",
   "metadata": {},
   "outputs": [
    {
     "data": {
      "text/plain": [
       "(11.5, 12.0, 12.5)"
      ]
     },
     "execution_count": 29,
     "metadata": {},
     "output_type": "execute_result"
    }
   ],
   "source": [
    "avg(13),avg(14),avg(15)"
   ]
  },
  {
   "cell_type": "code",
   "execution_count": 30,
   "id": "14b38923",
   "metadata": {},
   "outputs": [
    {
     "data": {
      "text/plain": [
       "('new_value', 'total')"
      ]
     },
     "execution_count": 30,
     "metadata": {},
     "output_type": "execute_result"
    }
   ],
   "source": [
    "avg.__code__.co_varnames"
   ]
  },
  {
   "cell_type": "code",
   "execution_count": 31,
   "id": "d4dfe57b",
   "metadata": {},
   "outputs": [
    {
     "data": {
      "text/plain": [
       "('series',)"
      ]
     },
     "execution_count": 31,
     "metadata": {},
     "output_type": "execute_result"
    }
   ],
   "source": [
    "avg.__code__.co_freevars"
   ]
  },
  {
   "cell_type": "code",
   "execution_count": 32,
   "id": "4f9ae6c9",
   "metadata": {},
   "outputs": [
    {
     "data": {
      "text/plain": [
       "(<cell at 0x000001678A033CD0: list object at 0x0000016789F7B500>,)"
      ]
     },
     "execution_count": 32,
     "metadata": {},
     "output_type": "execute_result"
    }
   ],
   "source": [
    "avg.__closure__"
   ]
  },
  {
   "cell_type": "code",
   "execution_count": 33,
   "id": "0326444a",
   "metadata": {},
   "outputs": [
    {
     "data": {
      "text/plain": [
       "<cell at 0x000001678A033CD0: list object at 0x0000016789F7B500>"
      ]
     },
     "execution_count": 33,
     "metadata": {},
     "output_type": "execute_result"
    }
   ],
   "source": [
    "avg.__closure__[0]"
   ]
  },
  {
   "cell_type": "code",
   "execution_count": 34,
   "id": "d9302310",
   "metadata": {},
   "outputs": [
    {
     "data": {
      "text/plain": [
       "[10, 11, 12, 13, 14, 15]"
      ]
     },
     "execution_count": 34,
     "metadata": {},
     "output_type": "execute_result"
    }
   ],
   "source": [
    "avg.__closure__[0].cell_contents"
   ]
  },
  {
   "cell_type": "code",
   "execution_count": 37,
   "id": "4d5c1e3a",
   "metadata": {},
   "outputs": [],
   "source": [
    "# clockdeco.py\n",
    "\n",
    "import time\n",
    "\n",
    "\n",
    "def clock(func):\n",
    "    def clocked(*args):\n",
    "        t0 = time.time()\n",
    "        result = func(*args)\n",
    "        elapsed = time.time() - t0\n",
    "        name = func.__name__\n",
    "        arg_str = ', '.join(repr(arg) for arg in args)\n",
    "        print('[%0.8fs] %s(%s) -> %r' % (elapsed, name, arg_str, result))\n",
    "        return result\n",
    "    return clocked\n"
   ]
  },
  {
   "cell_type": "code",
   "execution_count": 38,
   "id": "06f3c73e",
   "metadata": {},
   "outputs": [
    {
     "name": "stdout",
     "output_type": "stream",
     "text": [
      "**************************************** Calling snooze(.123)\n",
      "[0.13393259s] snooze(0.123) -> None\n",
      "**************************************** Calling factorial(6)\n",
      "[0.00000000s] factorial(1) -> 1\n",
      "[0.00000000s] factorial(2) -> 2\n",
      "[0.00000000s] factorial(3) -> 6\n",
      "[0.00000000s] factorial(4) -> 24\n",
      "[0.00000000s] factorial(5) -> 120\n",
      "[0.00000000s] factorial(6) -> 720\n",
      "6! = 720\n"
     ]
    }
   ],
   "source": [
    "# clockdeco_demo.py\n",
    "\n",
    "import time\n",
    "from clockdeco import clock\n",
    "\n",
    "@clock\n",
    "def snooze(seconds):\n",
    "    time.sleep(seconds)\n",
    "\n",
    "@clock\n",
    "def factorial(n):\n",
    "    return 1 if n < 2 else n*factorial(n-1)\n",
    "\n",
    "if __name__=='__main__':\n",
    "    print('*' * 40, 'Calling snooze(.123)')\n",
    "    snooze(.123)\n",
    "    print('*' * 40, 'Calling factorial(6)')\n",
    "    print('6! =', factorial(6))\n"
   ]
  },
  {
   "cell_type": "code",
   "execution_count": 41,
   "id": "0ad9a39b",
   "metadata": {},
   "outputs": [
    {
     "name": "stdout",
     "output_type": "stream",
     "text": [
      "[0.12849236s] snooze(0.123) -> None\n",
      "None\n"
     ]
    }
   ],
   "source": [
    "print(snooze(.123))"
   ]
  },
  {
   "cell_type": "code",
   "execution_count": 42,
   "id": "44471b7c",
   "metadata": {},
   "outputs": [
    {
     "data": {
      "text/plain": [
       "'clocked'"
      ]
     },
     "execution_count": 42,
     "metadata": {},
     "output_type": "execute_result"
    }
   ],
   "source": [
    "import clockdeco_demo\n",
    "clockdeco_demo.factorial.__name__"
   ]
  },
  {
   "cell_type": "code",
   "execution_count": 43,
   "id": "7138ef19",
   "metadata": {},
   "outputs": [
    {
     "name": "stdout",
     "output_type": "stream",
     "text": [
      "snooze: 0.13852810859680176s\n",
      "snooze: 0.12755846977233887s\n",
      "snooze: 0.12859821319580078s\n"
     ]
    }
   ],
   "source": [
    "import time\n",
    "from clockdeco_param import clock\n",
    "\n",
    "@clock('{name}: {elapsed}s')\n",
    "def snooze(seconds):\n",
    "    time.sleep(seconds)\n",
    "\n",
    "for i in range(3):\n",
    "    snooze(.123)\n"
   ]
  },
  {
   "cell_type": "code",
   "execution_count": 44,
   "id": "21550353",
   "metadata": {},
   "outputs": [
    {
     "name": "stdout",
     "output_type": "stream",
     "text": [
      "snooze(0.123) dt=0.133s\n",
      "snooze(0.123) dt=0.126s\n",
      "snooze(0.123) dt=0.125s\n"
     ]
    }
   ],
   "source": [
    "import time\n",
    "from clockdeco_param import clock\n",
    "\n",
    "@clock('{name}({args}) dt={elapsed:0.3f}s')\n",
    "def snooze(seconds):\n",
    "    time.sleep(seconds)\n",
    "\n",
    "for i in range(3):\n",
    "    snooze(.123)\n"
   ]
  },
  {
   "cell_type": "code",
   "execution_count": 45,
   "id": "20a68a40",
   "metadata": {},
   "outputs": [],
   "source": [
    "# clockdeco2.py\n",
    "import time\n",
    "import functools\n",
    "def clock(func):\n",
    "    @functools.wraps(func)\n",
    "    def clocked(*args, **kwargs):\n",
    "        t0 = time.time()\n",
    "        result = func(*args, **kwargs)\n",
    "        elapsed = time.time() - t0\n",
    "        name = func.__name__\n",
    "        arg_lst = []\n",
    "        if args:\n",
    "            arg_lst.append(', '.join(repr(arg) for arg in args))\n",
    "        if kwargs:\n",
    "            pairs = ['%s=%r' % (k, w) for k, w in sorted(kwargs.items())]\n",
    "            arg_lst.append(', '.join(pairs))\n",
    "        arg_str = ', '.join(arg_lst)\n",
    "        print('[%0.8fs] %s(%s) -> %r ' % (elapsed, name, arg_str, result))\n",
    "        return result\n",
    "        return clocked"
   ]
  },
  {
   "cell_type": "code",
   "execution_count": 46,
   "id": "807ee100",
   "metadata": {},
   "outputs": [
    {
     "name": "stdout",
     "output_type": "stream",
     "text": [
      "[0.00000000s] fibonacci(0) -> 0\n",
      "[0.00000000s] fibonacci(1) -> 1\n",
      "[0.00000000s] fibonacci(2) -> 1\n",
      "[0.00000000s] fibonacci(1) -> 1\n",
      "[0.00000000s] fibonacci(0) -> 0\n",
      "[0.00000000s] fibonacci(1) -> 1\n",
      "[0.00000000s] fibonacci(2) -> 1\n",
      "[0.00000000s] fibonacci(3) -> 2\n",
      "[0.00000000s] fibonacci(4) -> 3\n",
      "[0.00000000s] fibonacci(1) -> 1\n",
      "[0.00000000s] fibonacci(0) -> 0\n",
      "[0.00000000s] fibonacci(1) -> 1\n",
      "[0.00000000s] fibonacci(2) -> 1\n",
      "[0.00000000s] fibonacci(3) -> 2\n",
      "[0.00000000s] fibonacci(0) -> 0\n",
      "[0.00000000s] fibonacci(1) -> 1\n",
      "[0.00100040s] fibonacci(2) -> 1\n",
      "[0.00000000s] fibonacci(1) -> 1\n",
      "[0.00000000s] fibonacci(0) -> 0\n",
      "[0.00000000s] fibonacci(1) -> 1\n",
      "[0.00000000s] fibonacci(2) -> 1\n",
      "[0.00000000s] fibonacci(3) -> 2\n",
      "[0.00100040s] fibonacci(4) -> 3\n",
      "[0.00100040s] fibonacci(5) -> 5\n",
      "[0.00199842s] fibonacci(6) -> 8\n",
      "8\n"
     ]
    }
   ],
   "source": [
    "from clockdeco import clock\n",
    "\n",
    "@clock\n",
    "def fibonacci(n):\n",
    "    if n < 2:\n",
    "        return n\n",
    "    return fibonacci(n-2) + fibonacci(n-1)\n",
    "\n",
    "if __name__=='__main__':\n",
    "    print(fibonacci(6))\n"
   ]
  },
  {
   "cell_type": "code",
   "execution_count": 47,
   "id": "9ebe1e43",
   "metadata": {},
   "outputs": [
    {
     "name": "stdout",
     "output_type": "stream",
     "text": [
      "[0.00000000s] fibonacci(0) -> 0\n",
      "[0.00000000s] fibonacci(1) -> 1\n",
      "[0.00000000s] fibonacci(2) -> 1\n",
      "[0.00000000s] fibonacci(3) -> 2\n",
      "[0.00000000s] fibonacci(4) -> 3\n",
      "[0.00000000s] fibonacci(5) -> 5\n",
      "[0.00000000s] fibonacci(6) -> 8\n",
      "8\n"
     ]
    }
   ],
   "source": [
    "import functools\n",
    "\n",
    "from clockdeco import clock\n",
    "\n",
    "@functools.lru_cache() # <1>\n",
    "@clock  # <2>\n",
    "def fibonacci(n):\n",
    "    if n < 2:\n",
    "        return n\n",
    "    return fibonacci(n-2) + fibonacci(n-1)\n",
    "\n",
    "if __name__=='__main__':\n",
    "    print(fibonacci(6))\n"
   ]
  },
  {
   "cell_type": "code",
   "execution_count": 49,
   "id": "71fd3e63",
   "metadata": {},
   "outputs": [
    {
     "name": "stdout",
     "output_type": "stream",
     "text": [
      "[0.00000000s] fibonacci(0) -> 0\n",
      "[0.00000000s] fibonacci(1) -> 1\n",
      "[0.00000000s] fibonacci(2) -> 1\n",
      "[0.00000000s] fibonacci(3) -> 2\n",
      "[0.00000000s] fibonacci(4) -> 3\n",
      "[0.00000000s] fibonacci(5) -> 5\n",
      "[0.00000000s] fibonacci(6) -> 8\n",
      "8\n"
     ]
    }
   ],
   "source": [
    "import functools\n",
    "\n",
    "from clockdeco import clock\n",
    "\n",
    "@functools.lru_cache # <1>\n",
    "@clock  # <2>\n",
    "def fibonacci(n):\n",
    "    if n < 2:\n",
    "        return n\n",
    "    return fibonacci(n-2) + fibonacci(n-1)\n",
    "\n",
    "if __name__=='__main__':\n",
    "    print(fibonacci(6))"
   ]
  },
  {
   "cell_type": "code",
   "execution_count": 95,
   "id": "a10dd622",
   "metadata": {},
   "outputs": [],
   "source": [
    "import html\n",
    "def htmlize(obj):\n",
    "    content = html.escape(repr(obj), quote=False)\n",
    "    return '<pre>{}</pre>'.format(content)"
   ]
  },
  {
   "cell_type": "code",
   "execution_count": 94,
   "id": "91162b80",
   "metadata": {},
   "outputs": [
    {
     "name": "stdout",
     "output_type": "stream",
     "text": [
      "Help on function escape in module html:\n",
      "\n",
      "escape(s, quote=True)\n",
      "    Replace special characters \"&\", \"<\" and \">\" to HTML-safe sequences.\n",
      "    If the optional flag quote is true (the default), the quotation mark\n",
      "    characters, both double quote (\") and single quote (') characters are also\n",
      "    translated.\n",
      "\n"
     ]
    }
   ],
   "source": [
    "help(html.escape)"
   ]
  },
  {
   "cell_type": "code",
   "execution_count": 96,
   "id": "488e7d32",
   "metadata": {},
   "outputs": [
    {
     "data": {
      "text/plain": [
       "'<pre>{1, 2, 3}</pre>'"
      ]
     },
     "execution_count": 96,
     "metadata": {},
     "output_type": "execute_result"
    }
   ],
   "source": [
    "htmlize({1, 2, 3})"
   ]
  },
  {
   "cell_type": "code",
   "execution_count": 97,
   "id": "0a1477a6",
   "metadata": {},
   "outputs": [
    {
     "data": {
      "text/plain": [
       "'{1, 2, 3}'"
      ]
     },
     "execution_count": 97,
     "metadata": {},
     "output_type": "execute_result"
    }
   ],
   "source": [
    "html.escape(repr({1, 2, 3}))"
   ]
  },
  {
   "cell_type": "code",
   "execution_count": 98,
   "id": "c8ae3f0a",
   "metadata": {},
   "outputs": [
    {
     "data": {
      "text/plain": [
       "'<pre>&lt;built-in function abs&gt;</pre>'"
      ]
     },
     "execution_count": 98,
     "metadata": {},
     "output_type": "execute_result"
    }
   ],
   "source": [
    "htmlize(abs)"
   ]
  },
  {
   "cell_type": "code",
   "execution_count": 99,
   "id": "35bec9a8",
   "metadata": {},
   "outputs": [
    {
     "name": "stdout",
     "output_type": "stream",
     "text": [
      "<built-in function abs>\n"
     ]
    }
   ],
   "source": [
    "print(abs)"
   ]
  },
  {
   "cell_type": "code",
   "execution_count": 101,
   "id": "0618c301",
   "metadata": {},
   "outputs": [
    {
     "data": {
      "text/plain": [
       "\"<pre>'Heimlich &amp; Co.\\\\n- a game'</pre>\""
      ]
     },
     "execution_count": 101,
     "metadata": {},
     "output_type": "execute_result"
    }
   ],
   "source": [
    "htmlize('Heimlich & Co.\\n- a game')"
   ]
  },
  {
   "cell_type": "code",
   "execution_count": 86,
   "id": "2a8e6491",
   "metadata": {},
   "outputs": [
    {
     "data": {
      "text/plain": [
       "'<pre>42</pre>'"
      ]
     },
     "execution_count": 86,
     "metadata": {},
     "output_type": "execute_result"
    }
   ],
   "source": [
    "htmlize(42)"
   ]
  },
  {
   "cell_type": "code",
   "execution_count": 87,
   "id": "1a45405f",
   "metadata": {},
   "outputs": [
    {
     "name": "stdout",
     "output_type": "stream",
     "text": [
      "<pre>[&#x27;alpha&#x27;, 66, {1, 2, 3}]</pre>\n"
     ]
    }
   ],
   "source": [
    "print(htmlize(['alpha', 66, {3, 2, 1}]))"
   ]
  },
  {
   "cell_type": "code",
   "execution_count": 88,
   "id": "e1ed87af",
   "metadata": {},
   "outputs": [
    {
     "data": {
      "text/plain": [
       "'<pre>True</pre>'"
      ]
     },
     "execution_count": 88,
     "metadata": {},
     "output_type": "execute_result"
    }
   ],
   "source": [
    "htmlize(True)"
   ]
  },
  {
   "cell_type": "code",
   "execution_count": 89,
   "id": "551bb993",
   "metadata": {},
   "outputs": [
    {
     "data": {
      "text/plain": [
       "'<pre>Fraction(2, 3)</pre>'"
      ]
     },
     "execution_count": 89,
     "metadata": {},
     "output_type": "execute_result"
    }
   ],
   "source": [
    "import fractions\n",
    "htmlize(fractions.Fraction(2, 3))"
   ]
  },
  {
   "cell_type": "code",
   "execution_count": 90,
   "id": "467ddf88",
   "metadata": {},
   "outputs": [
    {
     "data": {
      "text/plain": [
       "Fraction(2, 3)"
      ]
     },
     "execution_count": 90,
     "metadata": {},
     "output_type": "execute_result"
    }
   ],
   "source": [
    "fractions.Fraction(2, 3)"
   ]
  },
  {
   "cell_type": "code",
   "execution_count": 91,
   "id": "40ea7a37",
   "metadata": {},
   "outputs": [
    {
     "data": {
      "text/plain": [
       "'<pre>0.6666666666666666</pre>'"
      ]
     },
     "execution_count": 91,
     "metadata": {},
     "output_type": "execute_result"
    }
   ],
   "source": [
    "htmlize(2/3)"
   ]
  },
  {
   "cell_type": "code",
   "execution_count": 92,
   "id": "06679e88",
   "metadata": {},
   "outputs": [
    {
     "data": {
      "text/plain": [
       "'<pre>Decimal(&#x27;0.02380952&#x27;)</pre>'"
      ]
     },
     "execution_count": 92,
     "metadata": {},
     "output_type": "execute_result"
    }
   ],
   "source": [
    "import decimal\n",
    "htmlize(decimal.Decimal('0.02380952'))"
   ]
  },
  {
   "cell_type": "code",
   "execution_count": 2,
   "id": "a7859cd3",
   "metadata": {},
   "outputs": [],
   "source": [
    "r\"\"\"\n",
    "htmlize(): generic function example\n",
    "\n",
    "# BEGIN HTMLIZE_DEMO\n",
    "\n",
    ">>> htmlize({1, 2, 3})  # <1>\n",
    "'<pre>{1, 2, 3}</pre>'\n",
    ">>> htmlize(abs)\n",
    "'<pre>&lt;built-in function abs&gt;</pre>'\n",
    ">>> htmlize('Heimlich & Co.\\n- a game')  # <2>\n",
    "'<p>Heimlich &amp; Co.<br>\\n- a game</p>'\n",
    ">>> htmlize(42)  # <3>\n",
    "'<pre>42 (0x2a)</pre>'\n",
    ">>> print(htmlize(['alpha', 66, {3, 2, 1}]))  # <4>\n",
    "<ul>\n",
    "<li><p>alpha</p></li>\n",
    "<li><pre>66 (0x42)</pre></li>\n",
    "<li><pre>{1, 2, 3}</pre></li>\n",
    "</ul>\n",
    "\n",
    "# END HTMLIZE_DEMO\n",
    "\"\"\"\n",
    "\n",
    "# BEGIN HTMLIZE\n",
    "\n",
    "from functools import singledispatch\n",
    "from collections import abc\n",
    "import numbers\n",
    "import html\n",
    "\n",
    "@singledispatch  # <1>\n",
    "def htmlize(obj):\n",
    "    content = html.escape(repr(obj))\n",
    "    return '<pre>{}</pre>'.format(content)\n",
    "\n",
    "@htmlize.register(str)  # <2>\n",
    "def _(text):            # <3>\n",
    "    content = html.escape(text).replace('\\n', '<br>\\n')\n",
    "    return '<p>{0}</p>'.format(content)\n",
    "\n",
    "@htmlize.register(numbers.Integral)  # <4>\n",
    "def _(n):\n",
    "    return '<pre>{0} (0x{0:x})</pre>'.format(n)\n",
    "\n",
    "@htmlize.register(tuple)  # <5>\n",
    "@htmlize.register(abc.MutableSequence)\n",
    "def _(seq):\n",
    "    inner = '</li>\\n<li>'.join(htmlize(item) for item in seq)\n",
    "    return '<ul>\\n<li>' + inner + '</li>\\n</ul>'\n",
    "\n",
    "# END HTMLIZE\n",
    "\n"
   ]
  },
  {
   "cell_type": "code",
   "execution_count": 3,
   "id": "cb0e2d6f",
   "metadata": {},
   "outputs": [
    {
     "name": "stdout",
     "output_type": "stream",
     "text": [
      "running register(<function f1 at 0x00000293E9B87A60>)\n",
      "running main()\n",
      "registry -> [<function f1 at 0x00000293E9B87A60>]\n",
      "running f1()\n"
     ]
    }
   ],
   "source": [
    "# tag::REGISTRATION_ABRIDGED[]\n",
    "registry = []\n",
    "\n",
    "def register(func):\n",
    "    print(f'running register({func})')\n",
    "    registry.append(func)\n",
    "    return func\n",
    "\n",
    "@register\n",
    "def f1():\n",
    "    print('running f1()')\n",
    "\n",
    "print('running main()')\n",
    "print('registry ->', registry)\n",
    "f1()\n",
    "# end::REGISTRATION_ABRIDGED[]\n"
   ]
  },
  {
   "cell_type": "code",
   "execution_count": 4,
   "id": "65ad6dd0",
   "metadata": {},
   "outputs": [
    {
     "name": "stdout",
     "output_type": "stream",
     "text": [
      "running register(active=False)->decorate(<function f1 at 0x00000293E9B874C0>)\n",
      "running register(active=True)->decorate(<function f2 at 0x00000293E9B87E50>)\n"
     ]
    }
   ],
   "source": [
    "# tag::REGISTRATION_PARAM[]\n",
    "\n",
    "registry = set()  # <1>\n",
    "\n",
    "def register(active=True):  # <2>\n",
    "    def decorate(func):  # <3>\n",
    "        print('running register'\n",
    "              f'(active={active})->decorate({func})')\n",
    "        if active:   # <4>\n",
    "            registry.add(func)\n",
    "        else:\n",
    "            registry.discard(func)  # <5>\n",
    "\n",
    "        return func  # <6>\n",
    "    return decorate  # <7>\n",
    "\n",
    "@register(active=False)  # <8>\n",
    "def f1():\n",
    "    print('running f1()')\n",
    "\n",
    "@register()  # <9>\n",
    "def f2():\n",
    "    print('running f2()')\n",
    "\n",
    "def f3():\n",
    "    print('running f3()')\n",
    "\n",
    "# end::REGISTRATION_PARAM[]\n"
   ]
  },
  {
   "cell_type": "code",
   "execution_count": 7,
   "id": "c054bf52",
   "metadata": {},
   "outputs": [
    {
     "data": {
      "text/plain": [
       "{<function __main__.f2()>}"
      ]
     },
     "execution_count": 7,
     "metadata": {},
     "output_type": "execute_result"
    }
   ],
   "source": [
    "registry"
   ]
  },
  {
   "cell_type": "code",
   "execution_count": 5,
   "id": "e379402f",
   "metadata": {},
   "outputs": [
    {
     "name": "stdout",
     "output_type": "stream",
     "text": [
      "running f1()\n"
     ]
    }
   ],
   "source": [
    "f1()"
   ]
  },
  {
   "cell_type": "code",
   "execution_count": 6,
   "id": "5a45e671",
   "metadata": {},
   "outputs": [
    {
     "name": "stdout",
     "output_type": "stream",
     "text": [
      "running f2()\n"
     ]
    }
   ],
   "source": [
    "f2()"
   ]
  },
  {
   "cell_type": "code",
   "execution_count": 50,
   "id": "bcb5371c",
   "metadata": {},
   "outputs": [
    {
     "name": "stdout",
     "output_type": "stream",
     "text": [
      "[0.13053632s] snooze(0.123) -> None\n",
      "[0.12716198s] snooze(0.123) -> None\n",
      "[0.12465763s] snooze(0.123) -> None\n"
     ]
    }
   ],
   "source": [
    "# clockdeco_param.py\n",
    "\n",
    "\"\"\"\n",
    ">>> snooze(.1)  # doctest: +ELLIPSIS\n",
    "[0.101...s] snooze(0.1) -> None\n",
    ">>> clock('{name}: {elapsed}')(time.sleep)(.2)  # doctest: +ELLIPSIS\n",
    "sleep: 0.20...\n",
    ">>> clock('{name}({args}) dt={elapsed:0.3f}s')(time.sleep)(.2)\n",
    "sleep(0.2) dt=0.201s\n",
    "\"\"\"\n",
    "\n",
    "# BEGIN CLOCKDECO_PARAM\n",
    "import time\n",
    "\n",
    "DEFAULT_FMT = '[{elapsed:0.8f}s] {name}({args}) -> {result}'\n",
    "\n",
    "def clock(fmt=DEFAULT_FMT):  # <1>\n",
    "    def decorate(func):      # <2>\n",
    "        def clocked(*_args): # <3>\n",
    "            t0 = time.time()\n",
    "            _result = func(*_args)  # <4>\n",
    "            elapsed = time.time() - t0\n",
    "            name = func.__name__\n",
    "            args = ', '.join(repr(arg) for arg in _args)  # <5>\n",
    "            result = repr(_result)  # <6>\n",
    "            print(fmt.format(**locals()))  # <7>\n",
    "            return _result  # <8>\n",
    "        return clocked  # <9>\n",
    "    return decorate  # <10>\n",
    "\n",
    "if __name__ == '__main__':\n",
    "\n",
    "    @clock()  # <11>\n",
    "    def snooze(seconds):\n",
    "        time.sleep(seconds)\n",
    "\n",
    "    for i in range(3):\n",
    "        snooze(.123)\n",
    "\n",
    "# END CLOCKDECO_PARAM\n"
   ]
  },
  {
   "cell_type": "code",
   "execution_count": 21,
   "id": "ac6edf9c",
   "metadata": {},
   "outputs": [
    {
     "name": "stdout",
     "output_type": "stream",
     "text": [
      "[0.12685370s] snooze(0.123) -> None\n",
      "[0.12839532s] snooze(0.123) -> None\n",
      "[0.12757659s] snooze(0.123) -> None\n"
     ]
    }
   ],
   "source": [
    "!python example-code/07-closure-deco/clockdeco_param.py"
   ]
  },
  {
   "cell_type": "code",
   "execution_count": 20,
   "id": "34ca6a22",
   "metadata": {},
   "outputs": [
    {
     "name": "stdout",
     "output_type": "stream",
     "text": [
      "[0.13252950s] snooze(0.123) -> None\n",
      "[0.12512541s] snooze(0.123) -> None\n",
      "[0.12578726s] snooze(0.123) -> None\n"
     ]
    }
   ],
   "source": [
    "# clockdeco_param.py\n",
    "\n",
    "\"\"\"\n",
    ">>> snooze(.1)  # doctest: +ELLIPSIS\n",
    "[0.101...s] snooze(0.1) -> None\n",
    ">>> clock('{name}: {elapsed}')(time.sleep)(.2)  # doctest: +ELLIPSIS\n",
    "sleep: 0.20...\n",
    ">>> clock('{name}({args}) dt={elapsed:0.3f}s')(time.sleep)(.2)\n",
    "sleep(0.2) dt=0.201s\n",
    "\"\"\"\n",
    "\n",
    "# BEGIN CLOCKDECO_CLS\n",
    "import time\n",
    "\n",
    "DEFAULT_FMT = '[{elapsed:0.8f}s] {name}({args}) -> {result}'\n",
    "\n",
    "class clock:\n",
    "\n",
    "    def __init__(self, fmt=DEFAULT_FMT):\n",
    "        self.fmt = fmt\n",
    "\n",
    "    def __call__(self, func):\n",
    "        def clocked(*_args):\n",
    "            t0 = time.time()\n",
    "            _result = func(*_args)\n",
    "            elapsed = time.time() - t0\n",
    "            name = func.__name__\n",
    "            args = ', '.join(repr(arg) for arg in _args)\n",
    "            result = repr(_result)\n",
    "            print(self.fmt.format(**locals()))\n",
    "            return _result\n",
    "        return clocked\n",
    "\n",
    "if __name__ == '__main__':\n",
    "\n",
    "    @clock()\n",
    "    def snooze(seconds):\n",
    "        time.sleep(seconds)\n",
    "\n",
    "    for i in range(3):\n",
    "        snooze(.123)\n",
    "\n",
    "# END CLOCKDECO_CLS\n"
   ]
  },
  {
   "cell_type": "code",
   "execution_count": 25,
   "id": "f7035647",
   "metadata": {},
   "outputs": [
    {
     "name": "stdout",
     "output_type": "stream",
     "text": [
      "snooze: 0.1385664939880371s\n",
      "snooze: 0.12543034553527832s\n",
      "snooze: 0.12496471405029297s\n"
     ]
    }
   ],
   "source": [
    "#clockdeco_param_demo1.py\n",
    "import time\n",
    "from clockdeco_param import clock\n",
    "\n",
    "@clock('{name}: {elapsed}s')\n",
    "def snooze(seconds):\n",
    "    time.sleep(seconds)\n",
    "\n",
    "for i in range(3):\n",
    "    snooze(.123)\n"
   ]
  },
  {
   "cell_type": "code",
   "execution_count": 24,
   "id": "066c8ba5",
   "metadata": {},
   "outputs": [
    {
     "name": "stdout",
     "output_type": "stream",
     "text": [
      "snooze(0.123) dt=0.138s\n",
      "snooze(0.123) dt=0.125s\n",
      "snooze(0.123) dt=0.126s\n"
     ]
    }
   ],
   "source": [
    "#clockdeco_param_demo2.py\n",
    "import time\n",
    "from clockdeco_param import clock\n",
    "\n",
    "@clock('{name}({args}) dt={elapsed:0.3f}s')\n",
    "def snooze(seconds):\n",
    "    time.sleep(seconds)\n",
    "\n",
    "for i in range(3):\n",
    "    snooze(.123)\n"
   ]
  },
  {
   "cell_type": "code",
   "execution_count": 26,
   "id": "0f5b044d",
   "metadata": {},
   "outputs": [
    {
     "name": "stdout",
     "output_type": "stream",
     "text": [
      "[0.13671040s] snooze(0.123) -> None\n",
      "[0.12439970s] snooze(0.123) -> None\n",
      "[0.12643820s] snooze(0.123) -> None\n"
     ]
    }
   ],
   "source": [
    "# clockdeco_class.py\n",
    "\n",
    "\"\"\"\n",
    ">>> snooze(.1)  # doctest: +ELLIPSIS\n",
    "[0.101...s] snooze(0.1) -> None\n",
    ">>> clock('{name}: {elapsed}')(time.sleep)(.2)  # doctest: +ELLIPSIS\n",
    "sleep: 0.20...\n",
    ">>> clock('{name}({args}) dt={elapsed:0.3f}s')(time.sleep)(.2)\n",
    "sleep(0.2) dt=0.201s\n",
    "\"\"\"\n",
    "\n",
    "# tag::CLOCKDECO_CLS[]\n",
    "import time\n",
    "\n",
    "DEFAULT_FMT = '[{elapsed:0.8f}s] {name}({args}) -> {result}'\n",
    "\n",
    "class clock:  # <1>\n",
    "\n",
    "    def __init__(self, fmt=DEFAULT_FMT):  # <2>\n",
    "        self.fmt = fmt\n",
    "\n",
    "    def __call__(self, func):  # <3>\n",
    "        def clocked(*_args):\n",
    "            t0 = time.perf_counter()\n",
    "            _result = func(*_args)  # <4>\n",
    "            elapsed = time.perf_counter() - t0\n",
    "            name = func.__name__\n",
    "            args = ', '.join(repr(arg) for arg in _args)\n",
    "            result = repr(_result)\n",
    "            print(self.fmt.format(**locals()))\n",
    "            return _result\n",
    "        return clocked\n",
    "# end::CLOCKDECO_CLS[]\n",
    "\n",
    "if __name__ == '__main__':\n",
    "\n",
    "    @clock()\n",
    "    def snooze(seconds):\n",
    "        time.sleep(seconds)\n",
    "\n",
    "    for i in range(3):\n",
    "        snooze(.123)\n",
    "\n"
   ]
  }
 ],
 "metadata": {
  "kernelspec": {
   "display_name": "Python 3 (ipykernel)",
   "language": "python",
   "name": "python3"
  },
  "language_info": {
   "codemirror_mode": {
    "name": "ipython",
    "version": 3
   },
   "file_extension": ".py",
   "mimetype": "text/x-python",
   "name": "python",
   "nbconvert_exporter": "python",
   "pygments_lexer": "ipython3",
   "version": "3.8.13"
  }
 },
 "nbformat": 4,
 "nbformat_minor": 5
}
