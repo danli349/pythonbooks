{
 "cells": [
  {
   "cell_type": "code",
   "execution_count": 1,
   "id": "daa728b4",
   "metadata": {},
   "outputs": [
    {
     "data": {
      "text/plain": [
       "['D:\\\\books\\\\python\\\\0.   Fluent Python, 2nd Edition',\n",
       " 'D:/books/python/0.   Fluent Python, 2nd Edition/example-code-2e/08-def-type-hints/',\n",
       " 'C:\\\\Users\\\\lidan\\\\miniconda3\\\\python38.zip',\n",
       " 'C:\\\\Users\\\\lidan\\\\miniconda3\\\\DLLs',\n",
       " 'C:\\\\Users\\\\lidan\\\\miniconda3\\\\lib',\n",
       " 'C:\\\\Users\\\\lidan\\\\miniconda3',\n",
       " '',\n",
       " 'C:\\\\Users\\\\lidan\\\\AppData\\\\Roaming\\\\Python\\\\Python38\\\\site-packages',\n",
       " 'C:\\\\Users\\\\lidan\\\\miniconda3\\\\lib\\\\site-packages',\n",
       " 'C:\\\\Users\\\\lidan\\\\miniconda3\\\\lib\\\\site-packages\\\\magic_impute-2.0.4-py3.8.egg',\n",
       " 'C:\\\\Users\\\\lidan\\\\miniconda3\\\\lib\\\\site-packages\\\\seqc-0.2.0-py3.8.egg',\n",
       " 'C:\\\\Users\\\\lidan\\\\miniconda3\\\\lib\\\\site-packages\\\\weasyprint-56.1-py3.8.egg',\n",
       " 'C:\\\\Users\\\\lidan\\\\miniconda3\\\\lib\\\\site-packages\\\\cairocffi-1.3.0-py3.8.egg',\n",
       " 'C:\\\\Users\\\\lidan\\\\miniconda3\\\\lib\\\\site-packages\\\\win32',\n",
       " 'C:\\\\Users\\\\lidan\\\\miniconda3\\\\lib\\\\site-packages\\\\win32\\\\lib',\n",
       " 'C:\\\\Users\\\\lidan\\\\miniconda3\\\\lib\\\\site-packages\\\\Pythonwin']"
      ]
     },
     "execution_count": 1,
     "metadata": {},
     "output_type": "execute_result"
    }
   ],
   "source": [
    "import sys\n",
    "    # caution: path[0] is reserved for script path (or '' in REPL)\n",
    "sys.path.insert(1, 'D:/books/python/0.   Fluent Python, 2nd Edition/example-code-2e/08-def-type-hints/')\n",
    "sys.path"
   ]
  },
  {
   "cell_type": "code",
   "execution_count": 2,
   "id": "850d5327",
   "metadata": {},
   "outputs": [
    {
     "name": "stdout",
     "output_type": "stream",
     "text": [
      "\"\"\"\n",
      "# tag::SHOW_COUNT_DOCTEST[]\n",
      ">>> show_count(99, 'bird')\n",
      "'99 birds'\n",
      ">>> show_count(1, 'bird')\n",
      "'1 bird'\n",
      ">>> show_count(0, 'bird')\n",
      "'no birds'\n",
      "\n",
      "# end::SHOW_COUNT_DOCTEST[]\n",
      "\"\"\"\n",
      "\n",
      "# tag::SHOW_COUNT[]\n",
      "def show_count(count, word):\n",
      "    if count == 1:\n",
      "        return f'1 {word}'\n",
      "    count_str = str(count) if count else 'no'\n",
      "    return f'{count_str} {word}s'\n",
      "# end::SHOW_COUNT[]\n"
     ]
    }
   ],
   "source": [
    "!cat example-code-2e/08-def-type-hints/messages/no_hints/messages.py"
   ]
  },
  {
   "cell_type": "code",
   "execution_count": 3,
   "id": "de42d4c3",
   "metadata": {},
   "outputs": [
    {
     "name": "stdout",
     "output_type": "stream",
     "text": [
      "Success: no issues found in 1 source file\n"
     ]
    }
   ],
   "source": [
    "!mypy example-code-2e/08-def-type-hints/messages/no_hints/messages.py"
   ]
  },
  {
   "cell_type": "code",
   "execution_count": 4,
   "id": "e3452fc4",
   "metadata": {},
   "outputs": [],
   "source": [
    "\"\"\"\n",
    "# tag::SHOW_COUNT_DOCTEST[]\n",
    ">>> show_count(99, 'bird')\n",
    "'99 birds'\n",
    ">>> show_count(1, 'bird')\n",
    "'1 bird'\n",
    ">>> show_count(0, 'bird')\n",
    "'no birds'\n",
    "\n",
    "# end::SHOW_COUNT_DOCTEST[]\n",
    "\"\"\"\n",
    "\n",
    "# tag::SHOW_COUNT[]\n",
    "def show_count(count, word):\n",
    "    if count == 1:\n",
    "        return f'1 {word}'\n",
    "    count_str = str(count) if count else 'no'\n",
    "    return f'{count_str} {word}s'\n",
    "# end::SHOW_COUNT[]\n"
   ]
  },
  {
   "cell_type": "code",
   "execution_count": 5,
   "id": "e929e4c6",
   "metadata": {},
   "outputs": [],
   "source": [
    "from pytest import mark\n",
    "\n",
    "@mark.parametrize('qty, expected', [\n",
    "    (1, '1 part'),\n",
    "    (2, '2 parts'),\n",
    "])\n",
    "def test_show_count(qty, expected):\n",
    "    got = show_count(qty, 'part')\n",
    "    assert got == expected\n",
    "\n",
    "def test_show_count_zero():\n",
    "    got = show_count(0, 'part')\n",
    "    assert got == 'no parts'\n"
   ]
  },
  {
   "cell_type": "code",
   "execution_count": 6,
   "id": "6d57bc1a",
   "metadata": {},
   "outputs": [
    {
     "name": "stdout",
     "output_type": "stream",
     "text": [
      "Success: no issues found in 1 source file\n"
     ]
    }
   ],
   "source": [
    "!mypy example-code-2e/08-def-type-hints/messages/no_hints/messages_test.py"
   ]
  },
  {
   "cell_type": "code",
   "execution_count": 7,
   "id": "8f5059d1",
   "metadata": {},
   "outputs": [
    {
     "name": "stdout",
     "output_type": "stream",
     "text": [
      "example-code-2e\\08-def-type-hints\\messages\\no_hints\\messages.py:14: error: Function is missing a type annotation\n",
      "example-code-2e\\08-def-type-hints\\messages\\no_hints\\messages_test.py:9: error: Function is missing a type annotation\n",
      "example-code-2e\\08-def-type-hints\\messages\\no_hints\\messages_test.py:13: error: Function is missing a return type annotation\n",
      "example-code-2e\\08-def-type-hints\\messages\\no_hints\\messages_test.py:13: note: Use \"-> None\" if function does not return a value\n",
      "Found 3 errors in 2 files (checked 1 source file)\n"
     ]
    }
   ],
   "source": [
    "!mypy --disallow-untyped-defs example-code-2e/08-def-type-hints/messages/no_hints/messages_test.py"
   ]
  },
  {
   "cell_type": "code",
   "execution_count": 8,
   "id": "26e98c0c",
   "metadata": {},
   "outputs": [
    {
     "name": "stdout",
     "output_type": "stream",
     "text": [
      "Success: no issues found in 1 source file\n"
     ]
    }
   ],
   "source": [
    "!mypy --disallow-incomplete-defs example-code-2e/08-def-type-hints/messages/no_hints/messages_test.py"
   ]
  },
  {
   "cell_type": "code",
   "execution_count": 11,
   "id": "d49bdeae",
   "metadata": {},
   "outputs": [
    {
     "name": "stdout",
     "output_type": "stream",
     "text": [
      "\"\"\"\n",
      "# tag::SHOW_COUNT_DOCTEST[]\n",
      ">>> show_count(99, 'bird')\n",
      "'99 birds'\n",
      ">>> show_count(1, 'bird')\n",
      "'1 bird'\n",
      ">>> show_count(0, 'bird')\n",
      "'no birds'\n",
      "\n",
      "# end::SHOW_COUNT_DOCTEST[]\n",
      "\"\"\"\n",
      "\n",
      "# tag::SHOW_COUNT[]\n",
      "def show_count(count: int, word: str) -> str:\n",
      "    if count == 1:\n",
      "        return f'1 {word}'\n",
      "    count_str = str(count) if count else 'no'\n",
      "    return f'{count_str} {word}s'\n",
      "# end::SHOW_COUNT[]\n"
     ]
    }
   ],
   "source": [
    "!cat example-code-2e/08-def-type-hints/messages/hints_1/messages.py"
   ]
  },
  {
   "cell_type": "code",
   "execution_count": 12,
   "id": "b14aeeed",
   "metadata": {},
   "outputs": [],
   "source": [
    "\"\"\"\n",
    "# tag::SHOW_COUNT_DOCTEST[]\n",
    ">>> show_count(99, 'bird')\n",
    "'99 birds'\n",
    ">>> show_count(1, 'bird')\n",
    "'1 bird'\n",
    ">>> show_count(0, 'bird')\n",
    "'no birds'\n",
    "\n",
    "# end::SHOW_COUNT_DOCTEST[]\n",
    "\"\"\"\n",
    "\n",
    "# tag::SHOW_COUNT[]\n",
    "def show_count(count: int, word: str) -> str:\n",
    "    if count == 1:\n",
    "        return f'1 {word}'\n",
    "    count_str = str(count) if count else 'no'\n",
    "    return f'{count_str} {word}s'\n",
    "# end::SHOW_COUNT[]\n"
   ]
  },
  {
   "cell_type": "code",
   "execution_count": 15,
   "id": "9bb123ac",
   "metadata": {},
   "outputs": [
    {
     "name": "stdout",
     "output_type": "stream",
     "text": [
      "Success: no issues found in 1 source file\n"
     ]
    }
   ],
   "source": [
    "!mypy --disallow-incomplete-defs example-code-2e/08-def-type-hints/messages/hints_1/messages.py"
   ]
  },
  {
   "cell_type": "code",
   "execution_count": 6,
   "id": "5e61608b",
   "metadata": {},
   "outputs": [
    {
     "name": "stdout",
     "output_type": "stream",
     "text": [
      "from pytest import mark\n",
      "\n",
      "from messages import show_count\n",
      "\n",
      "\n",
      "@mark.parametrize('qty, expected', [\n",
      "    (1, '1 part'),\n",
      "    (2, '2 parts'),\n",
      "])\n",
      "def test_show_count(qty: int, expected: str) -> None:\n",
      "    got = show_count(qty, 'part')\n",
      "    assert got == expected\n",
      "\n",
      "\n",
      "def test_show_count_zero():\n",
      "    got = show_count(0, 'part')\n",
      "    assert got == 'no parts'\n"
     ]
    }
   ],
   "source": [
    "!cat example-code-2e/08-def-type-hints/messages/hints_1/messages_test.py"
   ]
  },
  {
   "cell_type": "code",
   "execution_count": 8,
   "id": "92cf5348",
   "metadata": {},
   "outputs": [],
   "source": [
    "from pytest import mark\n",
    "\n",
    "\n",
    "@mark.parametrize('qty, expected', [\n",
    "    (1, '1 part'),\n",
    "    (2, '2 parts'),\n",
    "])\n",
    "def test_show_count(qty: int, expected: str) -> None:\n",
    "    got = show_count(qty, 'part')\n",
    "    assert got == expected\n",
    "\n",
    "\n",
    "def test_show_count_zero():\n",
    "    got = show_count(0, 'part')\n",
    "    assert got == 'no parts'"
   ]
  },
  {
   "cell_type": "code",
   "execution_count": 10,
   "id": "09c6dc5b",
   "metadata": {},
   "outputs": [
    {
     "name": "stdout",
     "output_type": "stream",
     "text": [
      "\"\"\"\n",
      ">>> show_count(99, 'bird')\n",
      "'99 birds'\n",
      ">>> show_count(1, 'bird')\n",
      "'1 bird'\n",
      ">>> show_count(0, 'bird')\n",
      "'no birds'\n",
      ">>> show_count(3, 'virus', 'viruses')\n",
      "'3 viruses'\n",
      ">>> show_count(1, 'virus', 'viruses')\n",
      "'1 virus'\n",
      ">>> show_count(0, 'virus', 'viruses')\n",
      "'no viruses'\n",
      "\"\"\"\n",
      "\n",
      "# tag::SHOW_COUNT[]\n",
      "def show_count(count: int, singular: str, plural: str = '') -> str:\n",
      "    if count == 1:\n",
      "        return f'1 {singular}'\n",
      "    count_str = str(count) if count else 'no'\n",
      "    if not plural:\n",
      "        plural = singular + 's'\n",
      "    return f'{count_str} {plural}'\n",
      "\n",
      "# end::SHOW_COUNT[]\n"
     ]
    }
   ],
   "source": [
    "!cat example-code-2e/08-def-type-hints/messages/hints_2/messages.py"
   ]
  },
  {
   "cell_type": "code",
   "execution_count": 20,
   "id": "b145a682",
   "metadata": {},
   "outputs": [
    {
     "name": "stdout",
     "output_type": "stream",
     "text": [
      "Success: no issues found in 1 source file\n"
     ]
    }
   ],
   "source": [
    "!mypy --disallow-incomplete-defs example-code-2e/08-def-type-hints/messages/hints_2/messages.py"
   ]
  },
  {
   "cell_type": "code",
   "execution_count": 11,
   "id": "dbf4f061",
   "metadata": {},
   "outputs": [],
   "source": [
    "def show_count(count: int, singular: str, plural: str = '') -> str:\n",
    "    if count == 1:\n",
    "        return f'1 {singular}'\n",
    "    count_str = str(count) if count else 'no'\n",
    "    if not plural:\n",
    "        plural = singular + 's'\n",
    "    return f'{count_str} {plural}'\n"
   ]
  },
  {
   "cell_type": "code",
   "execution_count": 12,
   "id": "6a56fe0c",
   "metadata": {},
   "outputs": [
    {
     "data": {
      "text/plain": [
       "'99 birds'"
      ]
     },
     "execution_count": 12,
     "metadata": {},
     "output_type": "execute_result"
    }
   ],
   "source": [
    "show_count(99, 'bird')"
   ]
  },
  {
   "cell_type": "code",
   "execution_count": 13,
   "id": "61cbae85",
   "metadata": {},
   "outputs": [
    {
     "data": {
      "text/plain": [
       "'1 bird'"
      ]
     },
     "execution_count": 13,
     "metadata": {},
     "output_type": "execute_result"
    }
   ],
   "source": [
    "show_count(1, 'bird')"
   ]
  },
  {
   "cell_type": "code",
   "execution_count": 14,
   "id": "0c201ccd",
   "metadata": {},
   "outputs": [
    {
     "data": {
      "text/plain": [
       "'no birds'"
      ]
     },
     "execution_count": 14,
     "metadata": {},
     "output_type": "execute_result"
    }
   ],
   "source": [
    "show_count(0, 'bird')"
   ]
  },
  {
   "cell_type": "code",
   "execution_count": 15,
   "id": "9e917e30",
   "metadata": {},
   "outputs": [
    {
     "data": {
      "text/plain": [
       "'3 viruses'"
      ]
     },
     "execution_count": 15,
     "metadata": {},
     "output_type": "execute_result"
    }
   ],
   "source": [
    "show_count(3, 'virus', 'viruses')"
   ]
  },
  {
   "cell_type": "code",
   "execution_count": 16,
   "id": "ead63c6f",
   "metadata": {},
   "outputs": [
    {
     "data": {
      "text/plain": [
       "'1 virus'"
      ]
     },
     "execution_count": 16,
     "metadata": {},
     "output_type": "execute_result"
    }
   ],
   "source": [
    "show_count(1, 'virus', 'viruses')"
   ]
  },
  {
   "cell_type": "code",
   "execution_count": 17,
   "id": "6ea06e0b",
   "metadata": {},
   "outputs": [
    {
     "data": {
      "text/plain": [
       "'no viruses'"
      ]
     },
     "execution_count": 17,
     "metadata": {},
     "output_type": "execute_result"
    }
   ],
   "source": [
    "show_count(0, 'virus', 'viruses')"
   ]
  },
  {
   "cell_type": "code",
   "execution_count": 9,
   "id": "98a50f91",
   "metadata": {},
   "outputs": [
    {
     "name": "stdout",
     "output_type": "stream",
     "text": [
      "from pytest import mark\n",
      "\n",
      "from messages import show_count\n",
      "\n",
      "\n",
      "@mark.parametrize('qty, expected', [\n",
      "    (1, '1 part'),\n",
      "    (2, '2 parts'),\n",
      "    (0, 'no parts'),\n",
      "])\n",
      "def test_show_count(qty: int, expected: str) -> None:\n",
      "    got = show_count(qty, 'part')\n",
      "    assert got == expected\n",
      "\n",
      "\n",
      "# tag::TEST_IRREGULAR[]\n",
      "@mark.parametrize('qty, expected', [\n",
      "    (1, '1 child'),\n",
      "    (2, '2 children'),\n",
      "    (0, 'no children'),\n",
      "])\n",
      "def test_irregular(qty: int, expected: str) -> None:\n",
      "    got = show_count(qty, 'child', 'children')\n",
      "    assert got == expected\n",
      "# end::TEST_IRREGULAR[]\n"
     ]
    }
   ],
   "source": [
    "!cat example-code-2e/08-def-type-hints/messages/hints_2/messages_test.py"
   ]
  },
  {
   "cell_type": "code",
   "execution_count": 19,
   "id": "8c17312f",
   "metadata": {},
   "outputs": [
    {
     "name": "stdout",
     "output_type": "stream",
     "text": [
      "Success: no issues found in 1 source file\n"
     ]
    }
   ],
   "source": [
    "!mypy --disallow-incomplete-defs example-code-2e/08-def-type-hints/messages/hints_2/messages_test.py"
   ]
  },
  {
   "cell_type": "code",
   "execution_count": 18,
   "id": "8503e716",
   "metadata": {},
   "outputs": [],
   "source": [
    "from pytest import mark\n",
    "\n",
    "\n",
    "@mark.parametrize('qty, expected', [\n",
    "    (1, '1 part'),\n",
    "    (2, '2 parts'),\n",
    "    (0, 'no parts'),\n",
    "])\n",
    "def test_show_count(qty: int, expected: str) -> None:\n",
    "    got = show_count(qty, 'part')\n",
    "    assert got == expected\n",
    "\n",
    "\n",
    "# tag::TEST_IRREGULAR[]\n",
    "@mark.parametrize('qty, expected', [\n",
    "    (1, '1 child'),\n",
    "    (2, '2 children'),\n",
    "    (0, 'no children'),\n",
    "])\n",
    "def test_irregular(qty: int, expected: str) -> None:\n",
    "    got = show_count(qty, 'child', 'children')\n",
    "    assert got == expected"
   ]
  },
  {
   "cell_type": "code",
   "execution_count": 21,
   "id": "d2ef810d",
   "metadata": {},
   "outputs": [],
   "source": [
    "class Bird:\n",
    "    pass\n",
    "\n",
    "class Duck(Bird):  # <1>\n",
    "    def quack(self):\n",
    "        print('Quack!')\n",
    "\n",
    "def alert(birdie):  # <2>\n",
    "    birdie.quack()\n",
    "\n",
    "def alert_duck(birdie: Duck) -> None:  # <3>\n",
    "    birdie.quack()\n",
    "\n",
    "def alert_bird(birdie: Bird) -> None:  # <4>\n",
    "    birdie.quack()\n"
   ]
  },
  {
   "cell_type": "code",
   "execution_count": 24,
   "id": "db5cec90",
   "metadata": {},
   "outputs": [
    {
     "name": "stdout",
     "output_type": "stream",
     "text": [
      "example-code-2e\\08-def-type-hints\\birds\\birds.py:15: error: \"Bird\" has no attribute \"quack\"\n",
      "Found 1 error in 1 file (checked 1 source file)\n"
     ]
    }
   ],
   "source": [
    "!mypy --disallow-incomplete-defs example-code-2e/08-def-type-hints/birds/birds.py"
   ]
  },
  {
   "cell_type": "code",
   "execution_count": 22,
   "id": "2d7c1bf0",
   "metadata": {},
   "outputs": [
    {
     "name": "stdout",
     "output_type": "stream",
     "text": [
      "Quack!\n",
      "Quack!\n",
      "Quack!\n"
     ]
    }
   ],
   "source": [
    "daffy = Duck()\n",
    "alert(daffy)       # <1>\n",
    "alert_duck(daffy)  # <2>\n",
    "alert_bird(daffy)  # <3>\n"
   ]
  },
  {
   "cell_type": "code",
   "execution_count": 23,
   "id": "8be6ba82",
   "metadata": {},
   "outputs": [
    {
     "ename": "AttributeError",
     "evalue": "'Bird' object has no attribute 'quack'",
     "output_type": "error",
     "traceback": [
      "\u001b[1;31m---------------------------------------------------------------------------\u001b[0m",
      "\u001b[1;31mAttributeError\u001b[0m                            Traceback (most recent call last)",
      "Input \u001b[1;32mIn [23]\u001b[0m, in \u001b[0;36m<cell line: 2>\u001b[1;34m()\u001b[0m\n\u001b[0;32m      1\u001b[0m woody \u001b[38;5;241m=\u001b[39m Bird()\n\u001b[1;32m----> 2\u001b[0m \u001b[43malert\u001b[49m\u001b[43m(\u001b[49m\u001b[43mwoody\u001b[49m\u001b[43m)\u001b[49m\n\u001b[0;32m      3\u001b[0m alert_duck(woody)\n\u001b[0;32m      4\u001b[0m alert_bird(woody)\n",
      "Input \u001b[1;32mIn [21]\u001b[0m, in \u001b[0;36malert\u001b[1;34m(birdie)\u001b[0m\n\u001b[0;32m      8\u001b[0m \u001b[38;5;28;01mdef\u001b[39;00m \u001b[38;5;21malert\u001b[39m(birdie):  \u001b[38;5;66;03m# <2>\u001b[39;00m\n\u001b[1;32m----> 9\u001b[0m     \u001b[43mbirdie\u001b[49m\u001b[38;5;241;43m.\u001b[39;49m\u001b[43mquack\u001b[49m()\n",
      "\u001b[1;31mAttributeError\u001b[0m: 'Bird' object has no attribute 'quack'"
     ]
    }
   ],
   "source": [
    "woody = Bird()\n",
    "alert(woody)\n",
    "alert_duck(woody)\n",
    "alert_bird(woody)\n"
   ]
  },
  {
   "cell_type": "code",
   "execution_count": 30,
   "id": "67e68b08",
   "metadata": {},
   "outputs": [
    {
     "name": "stdout",
     "output_type": "stream",
     "text": [
      "# tag::COLUMNIZE[]\n",
      "from __future__ import annotations\n",
      "from collections.abc import Sequence\n",
      "\n",
      "def columnize(\n",
      "    sequence: Sequence[str], num_columns: int = 0\n",
      ") -> list[tuple[str, ...]]:\n",
      "    if num_columns == 0:\n",
      "        num_columns = round(len(sequence) ** 0.5)\n",
      "    num_rows, reminder = divmod(len(sequence), num_columns)\n",
      "    num_rows += bool(reminder)\n",
      "    return [tuple(sequence[i::num_rows]) for i in range(num_rows)]\n",
      "# end::COLUMNIZE[]\n",
      "\n",
      "\n",
      "def demo() -> None:\n",
      "    nato = (\n",
      "        'Alfa Bravo Charlie Delta Echo Foxtrot Golf Hotel India'\n",
      "        ' Juliett Kilo Lima Mike November Oscar Papa Quebec Romeo'\n",
      "        ' Sierra Tango Uniform Victor Whiskey X-ray Yankee Zulu'\n",
      "    ).split()\n",
      "\n",
      "    for row in columnize(nato, 4):\n",
      "        for word in row:\n",
      "            print(f'{word:15}', end='')\n",
      "        print()\n",
      "\n",
      "\n",
      "if __name__ == '__main__':\n",
      "    demo()\n"
     ]
    }
   ],
   "source": [
    "!cat example-code-2e/08-def-type-hints/columnize.py"
   ]
  },
  {
   "cell_type": "code",
   "execution_count": 31,
   "id": "f05e51fb",
   "metadata": {},
   "outputs": [
    {
     "name": "stdout",
     "output_type": "stream",
     "text": [
      "Alfa           Hotel          Oscar          Victor         \n",
      "Bravo          India          Papa           Whiskey        \n",
      "Charlie        Juliett        Quebec         X-ray          \n",
      "Delta          Kilo           Romeo          Yankee         \n",
      "Echo           Lima           Sierra         Zulu           \n",
      "Foxtrot        Mike           Tango          \n",
      "Golf           November       Uniform        \n"
     ]
    }
   ],
   "source": [
    "!python example-code-2e/08-def-type-hints/columnize.py"
   ]
  },
  {
   "cell_type": "code",
   "execution_count": 32,
   "id": "843a8782",
   "metadata": {},
   "outputs": [
    {
     "name": "stdout",
     "output_type": "stream",
     "text": [
      "Success: no issues found in 1 source file\n"
     ]
    }
   ],
   "source": [
    "!mypy --disallow-incomplete-defs example-code-2e/08-def-type-hints/columnize.py"
   ]
  },
  {
   "cell_type": "code",
   "execution_count": 36,
   "id": "2dcdd234",
   "metadata": {},
   "outputs": [],
   "source": [
    "# This example uses the geolib library:\n",
    "# https://pypi.org/project/geolib/\n",
    "\n",
    "\"\"\"\n",
    ">>> shanghai = 31.2304, 121.4737\n",
    ">>> geohash(shanghai)\n",
    "'wtw3sjq6q'\n",
    "\"\"\"\n",
    "\n",
    "# tag::GEOHASH[]\n",
    "from __future__ import annotations\n",
    "from geolib import geohash as gh  # type: ignore  # <1>\n",
    "\n",
    "PRECISION = 9\n",
    "\n",
    "def geohash(lat_lon: tuple[float, float]) -> str:  # <2>\n",
    "    return gh.encode(*lat_lon, PRECISION)\n",
    "# end::GEOHASH[]\n"
   ]
  },
  {
   "cell_type": "code",
   "execution_count": 38,
   "id": "35818898",
   "metadata": {},
   "outputs": [],
   "source": [
    "from __future__ import annotations\n",
    "#from coordinates import geohash\n",
    "\n",
    "def test_geohash_max_precision() -> None:\n",
    "    sao_paulo = -23.5505, -46.6339\n",
    "    result = geohash(sao_paulo)\n",
    "    assert '6gyf4bf0r' == result\n"
   ]
  },
  {
   "cell_type": "code",
   "execution_count": 43,
   "id": "d97c09dd",
   "metadata": {},
   "outputs": [
    {
     "name": "stdout",
     "output_type": "stream",
     "text": [
      "31.2°N, 121.5°E\n",
      "wtw3sjq6q\n"
     ]
    }
   ],
   "source": [
    "# This example requires the geolib library:\n",
    "# https://pypi.org/project/geolib/\n",
    "\n",
    "\n",
    "\"\"\"\n",
    ">>> shanghai = 31.2304, 121.4737\n",
    ">>> geohash(shanghai)\n",
    "'wtw3sjq6q'\n",
    "\"\"\"\n",
    "\n",
    "# tag::GEOHASH[]\n",
    "from __future__ import annotations\n",
    "from typing import NamedTuple\n",
    "\n",
    "from geolib import geohash as gh  # type: ignore\n",
    "\n",
    "PRECISION = 9\n",
    "\n",
    "class Coordinate(NamedTuple):\n",
    "    lat: float\n",
    "    lon: float\n",
    "\n",
    "def geohash(lat_lon: Coordinate) -> str:\n",
    "    return gh.encode(*lat_lon, PRECISION)\n",
    "# end::GEOHASH[]\n",
    "\n",
    "# tag::DISPLAY[]\n",
    "def display(lat_lon: tuple[float, float]) -> str:\n",
    "    lat, lon = lat_lon\n",
    "    ns = 'N' if lat >= 0 else 'S'\n",
    "    ew = 'E' if lon >= 0 else 'W'\n",
    "    return f'{abs(lat):0.1f}°{ns}, {abs(lon):0.1f}°{ew}'\n",
    "# end::DISPLAY[]\n",
    "\n",
    "def demo():\n",
    "    shanghai = 31.2304, 121.4737\n",
    "    print(display(shanghai))\n",
    "    s = geohash(shanghai)\n",
    "    print(s)\n",
    "\n",
    "if __name__ == '__main__':\n",
    "    demo()\n"
   ]
  },
  {
   "cell_type": "code",
   "execution_count": 44,
   "id": "f1f92606",
   "metadata": {},
   "outputs": [
    {
     "name": "stdout",
     "output_type": "stream",
     "text": [
      "31.2°N, 121.5°E\n",
      "wtw3sjq6q\n"
     ]
    }
   ],
   "source": [
    "!python example-code-2e/08-def-type-hints/coordinates/coordinates_named.py"
   ]
  },
  {
   "cell_type": "code",
   "execution_count": 41,
   "id": "aaa72c44",
   "metadata": {},
   "outputs": [],
   "source": [
    "\n",
    "def test_geohash_max_precision() -> None:\n",
    "    sao_paulo = -23.5505, -46.6339\n",
    "    result = geohash(Coordinate(*sao_paulo))\n",
    "    assert '6gyf4bf0r' == result\n",
    "\n",
    "def test_display() -> None:\n",
    "    sao_paulo = -23.5505, -46.6339\n",
    "    assert display(sao_paulo) == '23.6°S, 46.6°W'\n",
    "    shanghai = 31.2304, 121.4737\n",
    "    assert display(shanghai) == '31.2°N, 121.5°E'\n"
   ]
  },
  {
   "cell_type": "code",
   "execution_count": 48,
   "id": "ecca111f",
   "metadata": {},
   "outputs": [
    {
     "data": {
      "text/plain": [
       "1114111"
      ]
     },
     "execution_count": 48,
     "metadata": {},
     "output_type": "execute_result"
    }
   ],
   "source": [
    "import sys\n",
    "sys.maxunicode"
   ]
  },
  {
   "cell_type": "code",
   "execution_count": 49,
   "id": "fefdd43f",
   "metadata": {},
   "outputs": [
    {
     "data": {
      "text/plain": [
       "1114112"
      ]
     },
     "execution_count": 49,
     "metadata": {},
     "output_type": "execute_result"
    }
   ],
   "source": [
    "sys.maxunicode+1"
   ]
  },
  {
   "cell_type": "code",
   "execution_count": 54,
   "id": "b53ebbe7",
   "metadata": {},
   "outputs": [
    {
     "data": {
      "text/plain": [
       "(' ', '!', 'A')"
      ]
     },
     "execution_count": 54,
     "metadata": {},
     "output_type": "execute_result"
    }
   ],
   "source": [
    "chr(32), chr(33), chr(65)"
   ]
  },
  {
   "cell_type": "code",
   "execution_count": 55,
   "id": "f5c8a402",
   "metadata": {},
   "outputs": [
    {
     "data": {
      "text/plain": [
       "'LATIN CAPITAL LETTER A'"
      ]
     },
     "execution_count": 55,
     "metadata": {},
     "output_type": "execute_result"
    }
   ],
   "source": [
    "import unicodedata\n",
    "unicodedata.name(chr(65))"
   ]
  },
  {
   "cell_type": "code",
   "execution_count": 56,
   "id": "15d50e75",
   "metadata": {},
   "outputs": [
    {
     "data": {
      "text/plain": [
       "'LATIN CAPITAL LETTER A'"
      ]
     },
     "execution_count": 56,
     "metadata": {},
     "output_type": "execute_result"
    }
   ],
   "source": [
    "unicodedata.name('A')"
   ]
  },
  {
   "cell_type": "code",
   "execution_count": null,
   "id": "c05afcf6",
   "metadata": {},
   "outputs": [],
   "source": []
  },
  {
   "cell_type": "code",
   "execution_count": 4,
   "id": "f14ceaee",
   "metadata": {},
   "outputs": [],
   "source": [
    "\"\"\"\n",
    "``name_index`` builds an inverted index mapping words to sets of Unicode\n",
    "characters which contain that word in their names. For example::\n",
    "\n",
    "    >>> index = name_index(32, 65)\n",
    "    >>> sorted(index['SIGN'])\n",
    "    ['#', '$', '%', '+', '<', '=', '>']\n",
    "    >>> sorted(index['DIGIT'])\n",
    "    ['0', '1', '2', '3', '4', '5', '6', '7', '8', '9']\n",
    "    >>> index['DIGIT'] & index['EIGHT']\n",
    "    {'8'}\n",
    "\"\"\"\n",
    "\n",
    "# tag::CHARINDEX[]\n",
    "from __future__ import annotations\n",
    "import sys\n",
    "import re\n",
    "import unicodedata\n",
    "from collections.abc import Iterator\n",
    "\n",
    "RE_WORD = re.compile(r'\\w+')\n",
    "STOP_CODE = sys.maxunicode + 1\n",
    "\n",
    "def tokenize(text: str) -> Iterator[str]:  # <1>\n",
    "    \"\"\"return iterable of uppercased words\"\"\"\n",
    "    for match in RE_WORD.finditer(text):\n",
    "        yield match.group().upper()\n",
    "\n",
    "def name_index(start: int = 32, end: int = STOP_CODE) -> dict[str, set[str]]:\n",
    "    index: dict[str, set[str]] = {}  # <2>\n",
    "    for char in (chr(i) for i in range(start, end)):\n",
    "        if name := unicodedata.name(char, ''):  # <3>\n",
    "            for word in tokenize(name):\n",
    "                index.setdefault(word, set()).add(char)\n",
    "    return index\n",
    "# end::CHARINDEX[]\n"
   ]
  },
  {
   "cell_type": "code",
   "execution_count": 11,
   "id": "97bbc191",
   "metadata": {},
   "outputs": [
    {
     "name": "stdout",
     "output_type": "stream",
     "text": [
      " \n",
      "!\n",
      "\"\n",
      "#\n",
      "$\n",
      "%\n",
      "&\n",
      "'\n",
      "(\n",
      ")\n",
      "*\n",
      "+\n",
      ",\n",
      "-\n",
      ".\n",
      "/\n",
      "0\n",
      "1\n",
      "2\n",
      "3\n",
      "4\n",
      "5\n",
      "6\n",
      "7\n",
      "8\n",
      "9\n",
      ":\n",
      ";\n",
      "<\n",
      "=\n",
      ">\n",
      "?\n",
      "@\n"
     ]
    }
   ],
   "source": [
    "for char in (chr(i) for i in range(32, 65)):\n",
    "    print(char)"
   ]
  },
  {
   "cell_type": "code",
   "execution_count": 12,
   "id": "bf61e5e3",
   "metadata": {},
   "outputs": [
    {
     "name": "stdout",
     "output_type": "stream",
     "text": [
      "SPACE\n",
      "EXCLAMATION MARK\n",
      "QUOTATION MARK\n",
      "NUMBER SIGN\n",
      "DOLLAR SIGN\n",
      "PERCENT SIGN\n",
      "AMPERSAND\n",
      "APOSTROPHE\n",
      "LEFT PARENTHESIS\n",
      "RIGHT PARENTHESIS\n",
      "ASTERISK\n",
      "PLUS SIGN\n",
      "COMMA\n",
      "HYPHEN-MINUS\n",
      "FULL STOP\n",
      "SOLIDUS\n",
      "DIGIT ZERO\n",
      "DIGIT ONE\n",
      "DIGIT TWO\n",
      "DIGIT THREE\n",
      "DIGIT FOUR\n",
      "DIGIT FIVE\n",
      "DIGIT SIX\n",
      "DIGIT SEVEN\n",
      "DIGIT EIGHT\n",
      "DIGIT NINE\n",
      "COLON\n",
      "SEMICOLON\n",
      "LESS-THAN SIGN\n",
      "EQUALS SIGN\n",
      "GREATER-THAN SIGN\n",
      "QUESTION MARK\n",
      "COMMERCIAL AT\n"
     ]
    }
   ],
   "source": [
    "for char in (chr(i) for i in range(32, 65)):\n",
    "    print(unicodedata.name(char))"
   ]
  },
  {
   "cell_type": "code",
   "execution_count": 13,
   "id": "3393ef4f",
   "metadata": {},
   "outputs": [
    {
     "name": "stdout",
     "output_type": "stream",
     "text": [
      "SPACE\n",
      "EXCLAMATION\n",
      "MARK\n",
      "QUOTATION\n",
      "MARK\n",
      "NUMBER\n",
      "SIGN\n",
      "DOLLAR\n",
      "SIGN\n",
      "PERCENT\n",
      "SIGN\n",
      "AMPERSAND\n",
      "APOSTROPHE\n",
      "LEFT\n",
      "PARENTHESIS\n",
      "RIGHT\n",
      "PARENTHESIS\n",
      "ASTERISK\n",
      "PLUS\n",
      "SIGN\n",
      "COMMA\n",
      "HYPHEN\n",
      "MINUS\n",
      "FULL\n",
      "STOP\n",
      "SOLIDUS\n",
      "DIGIT\n",
      "ZERO\n",
      "DIGIT\n",
      "ONE\n",
      "DIGIT\n",
      "TWO\n",
      "DIGIT\n",
      "THREE\n",
      "DIGIT\n",
      "FOUR\n",
      "DIGIT\n",
      "FIVE\n",
      "DIGIT\n",
      "SIX\n",
      "DIGIT\n",
      "SEVEN\n",
      "DIGIT\n",
      "EIGHT\n",
      "DIGIT\n",
      "NINE\n",
      "COLON\n",
      "SEMICOLON\n",
      "LESS\n",
      "THAN\n",
      "SIGN\n",
      "EQUALS\n",
      "SIGN\n",
      "GREATER\n",
      "THAN\n",
      "SIGN\n",
      "QUESTION\n",
      "MARK\n",
      "COMMERCIAL\n",
      "AT\n"
     ]
    }
   ],
   "source": [
    "for char in (chr(i) for i in range(32, 65)):\n",
    "    if name := unicodedata.name(char, ''):  # <3>\n",
    "        for word in tokenize(name):\n",
    "            print(word)"
   ]
  },
  {
   "cell_type": "code",
   "execution_count": 14,
   "id": "5be75c4c",
   "metadata": {},
   "outputs": [
    {
     "data": {
      "text/plain": [
       "'COMMERCIAL AT'"
      ]
     },
     "execution_count": 14,
     "metadata": {},
     "output_type": "execute_result"
    }
   ],
   "source": [
    "name"
   ]
  },
  {
   "cell_type": "code",
   "execution_count": 7,
   "id": "4932b373",
   "metadata": {},
   "outputs": [
    {
     "data": {
      "text/plain": [
       "re.compile(r'\\w+', re.UNICODE)"
      ]
     },
     "execution_count": 7,
     "metadata": {},
     "output_type": "execute_result"
    }
   ],
   "source": [
    "RE_WORD"
   ]
  },
  {
   "cell_type": "code",
   "execution_count": 8,
   "id": "def39d8f",
   "metadata": {},
   "outputs": [
    {
     "data": {
      "text/plain": [
       "<callable_iterator at 0x1d0f4824d00>"
      ]
     },
     "execution_count": 8,
     "metadata": {},
     "output_type": "execute_result"
    }
   ],
   "source": [
    "RE_WORD.finditer('LATIN')"
   ]
  },
  {
   "cell_type": "code",
   "execution_count": 5,
   "id": "d9d7ac74",
   "metadata": {},
   "outputs": [
    {
     "data": {
      "text/plain": [
       "{'#', '$', '%', '+', '<', '=', '>'}"
      ]
     },
     "execution_count": 5,
     "metadata": {},
     "output_type": "execute_result"
    }
   ],
   "source": [
    "index = name_index(32, 65)\n",
    "index['SIGN']"
   ]
  },
  {
   "cell_type": "code",
   "execution_count": 9,
   "id": "6878ffe0",
   "metadata": {},
   "outputs": [
    {
     "data": {
      "text/plain": [
       "{'SPACE': {' '},\n",
       " 'EXCLAMATION': {'!'},\n",
       " 'MARK': {'!', '\"', '?'},\n",
       " 'QUOTATION': {'\"'},\n",
       " 'NUMBER': {'#'},\n",
       " 'SIGN': {'#', '$', '%', '+', '<', '=', '>'},\n",
       " 'DOLLAR': {'$'},\n",
       " 'PERCENT': {'%'},\n",
       " 'AMPERSAND': {'&'},\n",
       " 'APOSTROPHE': {\"'\"},\n",
       " 'LEFT': {'('},\n",
       " 'PARENTHESIS': {'(', ')'},\n",
       " 'RIGHT': {')'},\n",
       " 'ASTERISK': {'*'},\n",
       " 'PLUS': {'+'},\n",
       " 'COMMA': {','},\n",
       " 'HYPHEN': {'-'},\n",
       " 'MINUS': {'-'},\n",
       " 'FULL': {'.'},\n",
       " 'STOP': {'.'},\n",
       " 'SOLIDUS': {'/'},\n",
       " 'DIGIT': {'0', '1', '2', '3', '4', '5', '6', '7', '8', '9'},\n",
       " 'ZERO': {'0'},\n",
       " 'ONE': {'1'},\n",
       " 'TWO': {'2'},\n",
       " 'THREE': {'3'},\n",
       " 'FOUR': {'4'},\n",
       " 'FIVE': {'5'},\n",
       " 'SIX': {'6'},\n",
       " 'SEVEN': {'7'},\n",
       " 'EIGHT': {'8'},\n",
       " 'NINE': {'9'},\n",
       " 'COLON': {':'},\n",
       " 'SEMICOLON': {';'},\n",
       " 'LESS': {'<'},\n",
       " 'THAN': {'<', '>'},\n",
       " 'EQUALS': {'='},\n",
       " 'GREATER': {'>'},\n",
       " 'QUESTION': {'?'},\n",
       " 'COMMERCIAL': {'@'},\n",
       " 'AT': {'@'}}"
      ]
     },
     "execution_count": 9,
     "metadata": {},
     "output_type": "execute_result"
    }
   ],
   "source": [
    "index"
   ]
  },
  {
   "cell_type": "code",
   "execution_count": 6,
   "id": "f7c6423d",
   "metadata": {},
   "outputs": [
    {
     "data": {
      "text/plain": [
       "['LATIN', 'CAPITAL', 'LETTER', 'A']"
      ]
     },
     "execution_count": 6,
     "metadata": {},
     "output_type": "execute_result"
    }
   ],
   "source": [
    "list(tokenize('LATIN CAPITAL LETTER A'))"
   ]
  },
  {
   "cell_type": "code",
   "execution_count": 15,
   "id": "96e15aab",
   "metadata": {},
   "outputs": [
    {
     "name": "stdout",
     "output_type": "stream",
     "text": [
      "(0, 1, 2, 3, 4, 5, 6, 7, 8, 9)\n",
      "[0, 8, 2]\n",
      "The quick brown fox jumps over the lazy dog\n",
      "['l', 'o', 'n', 'r', 'g', 'o', 'u', ' ', 'b', 'w']\n"
     ]
    }
   ],
   "source": [
    "# tag::SAMPLE[]\n",
    "from collections.abc import Sequence\n",
    "from random import shuffle\n",
    "from typing import TypeVar\n",
    "\n",
    "T = TypeVar('T')\n",
    "\n",
    "def sample(population: Sequence[T], size: int) -> list[T]:\n",
    "    if size < 1:\n",
    "        raise ValueError('size must be >= 1')\n",
    "    result = list(population)\n",
    "    shuffle(result)\n",
    "    return result[:size]\n",
    "# end::SAMPLE[]\n",
    "\n",
    "def demo() -> None:\n",
    "    import typing\n",
    "    p1 = tuple(range(10))\n",
    "    s1 = sample(p1, 3)\n",
    "    if typing.TYPE_CHECKING:\n",
    "        reveal_type(p1)\n",
    "        reveal_type(s1)\n",
    "    print(p1)\n",
    "    print(s1)\n",
    "    p2 = 'The quick brown fox jumps over the lazy dog'\n",
    "    s2 = sample(p2, 10)\n",
    "    if typing.TYPE_CHECKING:\n",
    "        reveal_type(p2)\n",
    "        reveal_type(s2)\n",
    "    print(p2)\n",
    "    print(s2)\n",
    "\n",
    "\n",
    "if __name__ == '__main__':\n",
    "    demo()\n"
   ]
  },
  {
   "cell_type": "code",
   "execution_count": 16,
   "id": "e74f93f5",
   "metadata": {},
   "outputs": [
    {
     "name": "stdout",
     "output_type": "stream",
     "text": [
      "[1, 1, 2, 3, 3, 3, 3, 4]\n",
      "3 <class 'int'>\n"
     ]
    }
   ],
   "source": [
    "# tag::MODE_FLOAT[]\n",
    "from collections import Counter\n",
    "from collections.abc import Iterable\n",
    "\n",
    "def mode(data: Iterable[float]) -> float:\n",
    "    pairs = Counter(data).most_common(1)\n",
    "    if len(pairs) == 0:\n",
    "        raise ValueError('no mode for empty data')\n",
    "    return pairs[0][0]\n",
    "# end::MODE_FLOAT[]\n",
    "\n",
    "def demo() -> None:\n",
    "    import typing\n",
    "    pop = [1, 1, 2, 3, 3, 3, 3, 4]\n",
    "    m = mode(pop)\n",
    "    if typing.TYPE_CHECKING:\n",
    "        reveal_type(pop)\n",
    "        reveal_type(m)\n",
    "    print(pop)\n",
    "    print(repr(m), type(m))\n",
    "\n",
    "if __name__ == '__main__':\n",
    "    demo()\n"
   ]
  },
  {
   "cell_type": "code",
   "execution_count": 19,
   "id": "ece4ea02",
   "metadata": {},
   "outputs": [
    {
     "data": {
      "text/plain": [
       "Counter({1: 2, 2: 1, 3: 4, 4: 1})"
      ]
     },
     "execution_count": 19,
     "metadata": {},
     "output_type": "execute_result"
    }
   ],
   "source": [
    "pop = [1, 1, 2, 3, 3, 3, 3, 4]\n",
    "Counter(pop)"
   ]
  },
  {
   "cell_type": "code",
   "execution_count": 17,
   "id": "62f6951c",
   "metadata": {},
   "outputs": [
    {
     "data": {
      "text/plain": [
       "[(3, 4)]"
      ]
     },
     "execution_count": 17,
     "metadata": {},
     "output_type": "execute_result"
    }
   ],
   "source": [
    "pop = [1, 1, 2, 3, 3, 3, 3, 4]\n",
    "Counter(pop).most_common(1)"
   ]
  },
  {
   "cell_type": "code",
   "execution_count": 21,
   "id": "ee267f08",
   "metadata": {},
   "outputs": [
    {
     "data": {
      "text/plain": [
       "3"
      ]
     },
     "execution_count": 21,
     "metadata": {},
     "output_type": "execute_result"
    }
   ],
   "source": [
    "pop = [1, 1, 2, 3, 3, 3, 3, 4]\n",
    "Counter(pop).most_common(1)[0][0]"
   ]
  },
  {
   "cell_type": "code",
   "execution_count": 20,
   "id": "7d6ab03e",
   "metadata": {},
   "outputs": [
    {
     "data": {
      "text/plain": [
       "[(3, 4), (1, 2)]"
      ]
     },
     "execution_count": 20,
     "metadata": {},
     "output_type": "execute_result"
    }
   ],
   "source": [
    "pop = [1, 1, 2, 3, 3, 3, 3, 4]\n",
    "Counter(pop).most_common(2)"
   ]
  },
  {
   "cell_type": "code",
   "execution_count": 18,
   "id": "183d767d",
   "metadata": {},
   "outputs": [
    {
     "data": {
      "text/plain": [
       "[(3, 4), (1, 2), (2, 1), (4, 1)]"
      ]
     },
     "execution_count": 18,
     "metadata": {},
     "output_type": "execute_result"
    }
   ],
   "source": [
    "pop = [1, 1, 2, 3, 3, 3, 3, 4]\n",
    "Counter(pop).most_common()"
   ]
  },
  {
   "cell_type": "code",
   "execution_count": 22,
   "id": "d07c494a",
   "metadata": {},
   "outputs": [
    {
     "name": "stdout",
     "output_type": "stream",
     "text": [
      "abracadabra\n",
      "A <class 'str'>\n"
     ]
    }
   ],
   "source": [
    "# tag::MODE_HASHABLE_T[]\n",
    "from collections import Counter\n",
    "from collections.abc import Iterable, Hashable\n",
    "from typing import TypeVar\n",
    "\n",
    "HashableT = TypeVar('HashableT', bound=Hashable)\n",
    "\n",
    "def mode(data: Iterable[HashableT]) -> HashableT:\n",
    "    pairs = Counter(data).most_common(1)\n",
    "    if len(pairs) == 0:\n",
    "        raise ValueError('no mode for empty data')\n",
    "    return pairs[0][0]\n",
    "# end::MODE_HASHABLE_T[]\n",
    "\n",
    "\n",
    "def demo() -> None:\n",
    "    import typing\n",
    "\n",
    "    pop = 'abracadabra'\n",
    "    m = mode(pop)\n",
    "    if typing.TYPE_CHECKING:\n",
    "        reveal_type(pop)\n",
    "        reveal_type(m)\n",
    "    print(pop)\n",
    "    print(m.upper(), type(m))\n",
    "\n",
    "\n",
    "if __name__ == '__main__':\n",
    "    demo()\n"
   ]
  },
  {
   "cell_type": "code",
   "execution_count": 2,
   "id": "e540a1b5",
   "metadata": {},
   "outputs": [
    {
     "name": "stdout",
     "output_type": "stream",
     "text": [
      "11\n"
     ]
    }
   ],
   "source": [
    "def equation(x , y , / , z):\n",
    "    return x * y + z\n",
    "#The arguments to the left of '/' (in this case x and y) can only \n",
    "#be passed postionally whereas the argument to the right of '/' can be passed positionally or with a keyword \n",
    "\n",
    "print(equation(2 , 3 , 5)) #all three arguments are positional "
   ]
  },
  {
   "cell_type": "code",
   "execution_count": 3,
   "id": "abaf04b1",
   "metadata": {},
   "outputs": [
    {
     "name": "stdout",
     "output_type": "stream",
     "text": [
      "11\n"
     ]
    }
   ],
   "source": [
    "print(equation(2 , 3 , z = 5)) #the first two arguments are positional while the third is a keyword argument"
   ]
  },
  {
   "cell_type": "code",
   "execution_count": 4,
   "id": "11b1b58b",
   "metadata": {},
   "outputs": [
    {
     "ename": "TypeError",
     "evalue": "equation() got some positional-only arguments passed as keyword arguments: 'x, y'",
     "output_type": "error",
     "traceback": [
      "\u001b[1;31m---------------------------------------------------------------------------\u001b[0m",
      "\u001b[1;31mTypeError\u001b[0m                                 Traceback (most recent call last)",
      "Input \u001b[1;32mIn [4]\u001b[0m, in \u001b[0;36m<cell line: 1>\u001b[1;34m()\u001b[0m\n\u001b[1;32m----> 1\u001b[0m \u001b[38;5;28mprint\u001b[39m(\u001b[43mequation\u001b[49m\u001b[43m(\u001b[49m\u001b[43mx\u001b[49m\u001b[38;5;241;43m=\u001b[39;49m\u001b[38;5;241;43m2\u001b[39;49m\u001b[43m \u001b[49m\u001b[43m,\u001b[49m\u001b[43m \u001b[49m\u001b[43my\u001b[49m\u001b[38;5;241;43m=\u001b[39;49m\u001b[38;5;241;43m3\u001b[39;49m\u001b[43m \u001b[49m\u001b[43m,\u001b[49m\u001b[43m \u001b[49m\u001b[43mz\u001b[49m\u001b[43m \u001b[49m\u001b[38;5;241;43m=\u001b[39;49m\u001b[43m \u001b[49m\u001b[38;5;241;43m5\u001b[39;49m\u001b[43m)\u001b[49m)\n",
      "\u001b[1;31mTypeError\u001b[0m: equation() got some positional-only arguments passed as keyword arguments: 'x, y'"
     ]
    }
   ],
   "source": [
    "print(equation(x=2 , y=3 , z = 5))"
   ]
  },
  {
   "cell_type": "code",
   "execution_count": 5,
   "id": "c9ff6f2c",
   "metadata": {},
   "outputs": [],
   "source": [
    "def equation(x , y , *z, class_=None, **attrs):\n",
    "    print(x,y,z,attrs)"
   ]
  },
  {
   "cell_type": "code",
   "execution_count": 8,
   "id": "7206a44c",
   "metadata": {},
   "outputs": [
    {
     "name": "stdout",
     "output_type": "stream",
     "text": [
      "1 2 ('a', 'b', 'c') {'d': 5, 'e': 6}\n"
     ]
    }
   ],
   "source": [
    "equation(1,2,'a','b','c', class_='hello', d=5, e=6)"
   ]
  },
  {
   "cell_type": "code",
   "execution_count": 9,
   "id": "ecd60c9a",
   "metadata": {},
   "outputs": [
    {
     "name": "stdout",
     "output_type": "stream",
     "text": [
      "1 2 ('a', 'b', 'c') {'d': 5, 'e': 6}\n"
     ]
    }
   ],
   "source": [
    "equation(1,2,'a','b','c', d=5, e=6)"
   ]
  },
  {
   "cell_type": "code",
   "execution_count": 11,
   "id": "f5645269",
   "metadata": {},
   "outputs": [
    {
     "name": "stdout",
     "output_type": "stream",
     "text": [
      "1 2 ('a', 'b', 'c') {'d': 5, 'e': 6, 'c': 9}\n"
     ]
    }
   ],
   "source": [
    "equation(1,2,'a','b','c', d=5, e=6, c=9)"
   ]
  }
 ],
 "metadata": {
  "kernelspec": {
   "display_name": "Python 3 (ipykernel)",
   "language": "python",
   "name": "python3"
  },
  "language_info": {
   "codemirror_mode": {
    "name": "ipython",
    "version": 3
   },
   "file_extension": ".py",
   "mimetype": "text/x-python",
   "name": "python",
   "nbconvert_exporter": "python",
   "pygments_lexer": "ipython3",
   "version": "3.8.13"
  }
 },
 "nbformat": 4,
 "nbformat_minor": 5
}
