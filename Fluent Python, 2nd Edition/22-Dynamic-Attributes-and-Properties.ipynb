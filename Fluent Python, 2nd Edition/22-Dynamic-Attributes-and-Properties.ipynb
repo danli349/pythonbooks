{
 "cells": [
  {
   "cell_type": "code",
   "execution_count": 2,
   "id": "acfb5949",
   "metadata": {},
   "outputs": [
    {
     "data": {
      "text/plain": [
       "['D:\\\\books\\\\python\\\\0.   Fluent Python, 2nd Edition',\n",
       " 'D:/books/python/0.   Fluent Python, 2nd Edition/example-code-2e/22-dyn-attr-prop/',\n",
       " 'C:\\\\Users\\\\lidan\\\\miniconda3\\\\python38.zip',\n",
       " 'C:\\\\Users\\\\lidan\\\\miniconda3\\\\DLLs',\n",
       " 'C:\\\\Users\\\\lidan\\\\miniconda3\\\\lib',\n",
       " 'C:\\\\Users\\\\lidan\\\\miniconda3',\n",
       " '',\n",
       " 'C:\\\\Users\\\\lidan\\\\AppData\\\\Roaming\\\\Python\\\\Python38\\\\site-packages',\n",
       " 'C:\\\\Users\\\\lidan\\\\miniconda3\\\\lib\\\\site-packages',\n",
       " 'C:\\\\Users\\\\lidan\\\\miniconda3\\\\lib\\\\site-packages\\\\magic_impute-2.0.4-py3.8.egg',\n",
       " 'C:\\\\Users\\\\lidan\\\\miniconda3\\\\lib\\\\site-packages\\\\seqc-0.2.0-py3.8.egg',\n",
       " 'C:\\\\Users\\\\lidan\\\\miniconda3\\\\lib\\\\site-packages\\\\weasyprint-56.1-py3.8.egg',\n",
       " 'C:\\\\Users\\\\lidan\\\\miniconda3\\\\lib\\\\site-packages\\\\cairocffi-1.3.0-py3.8.egg',\n",
       " 'C:\\\\Users\\\\lidan\\\\miniconda3\\\\lib\\\\site-packages\\\\win32',\n",
       " 'C:\\\\Users\\\\lidan\\\\miniconda3\\\\lib\\\\site-packages\\\\win32\\\\lib',\n",
       " 'C:\\\\Users\\\\lidan\\\\miniconda3\\\\lib\\\\site-packages\\\\Pythonwin']"
      ]
     },
     "execution_count": 2,
     "metadata": {},
     "output_type": "execute_result"
    }
   ],
   "source": [
    "import sys\n",
    "    # caution: path[0] is reserved for script path (or '' in REPL)\n",
    "sys.path.insert(1, 'D:/books/python/0.   Fluent Python, 2nd Edition/example-code-2e/22-dyn-attr-prop/')\n",
    "sys.path"
   ]
  },
  {
   "cell_type": "code",
   "execution_count": 2,
   "id": "e4b717c1",
   "metadata": {},
   "outputs": [
    {
     "data": {
      "text/plain": [
       "['D:\\\\books\\\\python\\\\0.   Fluent Python, 2nd Edition',\n",
       " 'D:/books/python/0.   Fluent Python, 2nd Edition/example-code-2e/22-dyn-attr-prop/oscon/',\n",
       " 'D:/books/python/0.   Fluent Python, 2nd Edition/example-code-2e/22-dyn-attr-prop/',\n",
       " 'C:\\\\Users\\\\lidan\\\\miniconda3\\\\python38.zip',\n",
       " 'C:\\\\Users\\\\lidan\\\\miniconda3\\\\DLLs',\n",
       " 'C:\\\\Users\\\\lidan\\\\miniconda3\\\\lib',\n",
       " 'C:\\\\Users\\\\lidan\\\\miniconda3',\n",
       " '',\n",
       " 'C:\\\\Users\\\\lidan\\\\AppData\\\\Roaming\\\\Python\\\\Python38\\\\site-packages',\n",
       " 'C:\\\\Users\\\\lidan\\\\miniconda3\\\\lib\\\\site-packages',\n",
       " 'C:\\\\Users\\\\lidan\\\\miniconda3\\\\lib\\\\site-packages\\\\magic_impute-2.0.4-py3.8.egg',\n",
       " 'C:\\\\Users\\\\lidan\\\\miniconda3\\\\lib\\\\site-packages\\\\seqc-0.2.0-py3.8.egg',\n",
       " 'C:\\\\Users\\\\lidan\\\\miniconda3\\\\lib\\\\site-packages\\\\weasyprint-56.1-py3.8.egg',\n",
       " 'C:\\\\Users\\\\lidan\\\\miniconda3\\\\lib\\\\site-packages\\\\cairocffi-1.3.0-py3.8.egg',\n",
       " 'C:\\\\Users\\\\lidan\\\\miniconda3\\\\lib\\\\site-packages\\\\win32',\n",
       " 'C:\\\\Users\\\\lidan\\\\miniconda3\\\\lib\\\\site-packages\\\\win32\\\\lib',\n",
       " 'C:\\\\Users\\\\lidan\\\\miniconda3\\\\lib\\\\site-packages\\\\Pythonwin']"
      ]
     },
     "execution_count": 2,
     "metadata": {},
     "output_type": "execute_result"
    }
   ],
   "source": [
    "import sys\n",
    "    # caution: path[0] is reserved for script path (or '' in REPL)\n",
    "sys.path.insert(1, 'D:/books/python/0.   Fluent Python, 2nd Edition/example-code-2e/22-dyn-attr-prop/oscon/')\n",
    "sys.path"
   ]
  },
  {
   "cell_type": "code",
   "execution_count": 122,
   "id": "2ad58c19",
   "metadata": {},
   "outputs": [],
   "source": [
    "\"\"\"\n",
    "explore0.py: Script to explore the OSCON schedule feed\n",
    "\n",
    "# tag::EXPLORE0_DEMO[]\n",
    "    >>> import json\n",
    "    >>> raw_feed = json.load(open('data/osconfeed.json'))\n",
    "    >>> feed = FrozenJSON(raw_feed)  # <1>\n",
    "    >>> len(feed.Schedule.speakers)  # <2>\n",
    "    357\n",
    "    >>> feed.keys()\n",
    "    dict_keys(['Schedule'])\n",
    "    >>> sorted(feed.Schedule.keys())  # <3>\n",
    "    ['conferences', 'events', 'speakers', 'venues']\n",
    "    >>> for key, value in sorted(feed.Schedule.items()): # <4>\n",
    "    ...     print(f'{len(value):3} {key}')\n",
    "    ...\n",
    "      1 conferences\n",
    "    484 events\n",
    "    357 speakers\n",
    "     53 venues\n",
    "    >>> feed.Schedule.speakers[-1].name  # <5>\n",
    "    'Carina C. Zona'\n",
    "    >>> talk = feed.Schedule.events[40]\n",
    "    >>> type(talk)  # <6>\n",
    "    <class 'explore0.FrozenJSON'>\n",
    "    >>> talk.name\n",
    "    'There *Will* Be Bugs'\n",
    "    >>> talk.speakers  # <7>\n",
    "    [3471, 5199]\n",
    "    >>> talk.flavor  # <8>\n",
    "    Traceback (most recent call last):\n",
    "      ...\n",
    "    KeyError: 'flavor'\n",
    "\n",
    "# end::EXPLORE0_DEMO[]\n",
    "\n",
    "\"\"\"\n",
    "\n",
    "# tag::EXPLORE0[]\n",
    "from collections import abc\n",
    "\n",
    "\n",
    "class FrozenJSON:\n",
    "    \"\"\"A read-only façade for navigating a JSON-like object\n",
    "       using attribute notation\n",
    "    \"\"\"\n",
    "\n",
    "    def __init__(self, mapping):\n",
    "        self.__data = dict(mapping)  # <1>\n",
    "\n",
    "    def __getattr__(self, name):  # <2>\n",
    "        try:\n",
    "            return getattr(self.__data, name)  # <3>\n",
    "        except AttributeError:\n",
    "            return FrozenJSON.build(self.__data[name])  # <4>\n",
    "\n",
    "    def __dir__(self):  # <5>\n",
    "        return self.__data.keys()\n",
    "\n",
    "    @classmethod\n",
    "    def build(cls, obj):  # <6>\n",
    "        if isinstance(obj, abc.Mapping):  # <7>\n",
    "            return cls(obj)\n",
    "        elif isinstance(obj, abc.MutableSequence):  # <8>\n",
    "            return [cls.build(item) for item in obj]\n",
    "        else:  # <9>\n",
    "            return obj\n",
    "# end::EXPLORE0[]\n"
   ]
  },
  {
   "cell_type": "code",
   "execution_count": 5,
   "id": "d107efd3",
   "metadata": {},
   "outputs": [
    {
     "data": {
      "text/plain": [
       "357"
      ]
     },
     "execution_count": 5,
     "metadata": {},
     "output_type": "execute_result"
    }
   ],
   "source": [
    "import json\n",
    "raw_feed = json.load(open('example-code-2e/22-dyn-attr-prop/oscon/data/osconfeed.json'))\n",
    "feed = FrozenJSON(raw_feed)  # <1>\n",
    "len(feed.Schedule.speakers)  # <2>"
   ]
  },
  {
   "cell_type": "code",
   "execution_count": 76,
   "id": "8fa16997",
   "metadata": {},
   "outputs": [
    {
     "data": {
      "text/plain": [
       "dict_keys(['Schedule'])"
      ]
     },
     "execution_count": 76,
     "metadata": {},
     "output_type": "execute_result"
    }
   ],
   "source": [
    "raw_feed.keys()"
   ]
  },
  {
   "cell_type": "code",
   "execution_count": 78,
   "id": "3c5665f1",
   "metadata": {},
   "outputs": [
    {
     "data": {
      "text/plain": [
       "dict_keys(['conferences', 'events', 'speakers', 'venues'])"
      ]
     },
     "execution_count": 78,
     "metadata": {},
     "output_type": "execute_result"
    }
   ],
   "source": [
    "raw_feed['Schedule'].keys()"
   ]
  },
  {
   "cell_type": "code",
   "execution_count": 81,
   "id": "b4828613",
   "metadata": {},
   "outputs": [
    {
     "data": {
      "text/plain": [
       "[{'serial': 115}]"
      ]
     },
     "execution_count": 81,
     "metadata": {},
     "output_type": "execute_result"
    }
   ],
   "source": [
    "raw_feed['Schedule']['conferences']"
   ]
  },
  {
   "cell_type": "code",
   "execution_count": 85,
   "id": "368e24e3",
   "metadata": {},
   "outputs": [
    {
     "data": {
      "text/plain": [
       "dict_keys(['serial', 'name', 'event_type', 'time_start', 'time_stop', 'venue_serial', 'description', 'website_url', 'speakers', 'categories'])"
      ]
     },
     "execution_count": 85,
     "metadata": {},
     "output_type": "execute_result"
    }
   ],
   "source": [
    "raw_feed['Schedule']['events'][0].keys()"
   ]
  },
  {
   "cell_type": "code",
   "execution_count": 86,
   "id": "1f874ee0",
   "metadata": {},
   "outputs": [
    {
     "data": {
      "text/plain": [
       "dict_keys(['serial', 'name', 'photo', 'url', 'position', 'affiliation', 'twitter', 'bio'])"
      ]
     },
     "execution_count": 86,
     "metadata": {},
     "output_type": "execute_result"
    }
   ],
   "source": [
    "raw_feed['Schedule']['speakers'][0].keys()"
   ]
  },
  {
   "cell_type": "code",
   "execution_count": 89,
   "id": "23d6e05b",
   "metadata": {},
   "outputs": [
    {
     "data": {
      "text/plain": [
       "'Faisal Abid'"
      ]
     },
     "execution_count": 89,
     "metadata": {},
     "output_type": "execute_result"
    }
   ],
   "source": [
    "raw_feed['Schedule']['speakers'][0]['name']"
   ]
  },
  {
   "cell_type": "code",
   "execution_count": 87,
   "id": "7b47a084",
   "metadata": {},
   "outputs": [
    {
     "data": {
      "text/plain": [
       "dict_keys(['serial', 'name', 'category'])"
      ]
     },
     "execution_count": 87,
     "metadata": {},
     "output_type": "execute_result"
    }
   ],
   "source": [
    "raw_feed['Schedule']['venues'][0].keys()"
   ]
  },
  {
   "cell_type": "code",
   "execution_count": 66,
   "id": "43aee172",
   "metadata": {},
   "outputs": [
    {
     "data": {
      "text/plain": [
       "dict_keys(['Schedule'])"
      ]
     },
     "execution_count": 66,
     "metadata": {},
     "output_type": "execute_result"
    }
   ],
   "source": [
    "feed.keys()"
   ]
  },
  {
   "cell_type": "code",
   "execution_count": 75,
   "id": "ab9c6586",
   "metadata": {},
   "outputs": [],
   "source": [
    "#feed.items()"
   ]
  },
  {
   "cell_type": "code",
   "execution_count": 17,
   "id": "ddc48dad",
   "metadata": {},
   "outputs": [
    {
     "data": {
      "text/plain": [
       "dict_keys(['conferences', 'events', 'speakers', 'venues'])"
      ]
     },
     "execution_count": 17,
     "metadata": {},
     "output_type": "execute_result"
    }
   ],
   "source": [
    "feed.Schedule.keys()"
   ]
  },
  {
   "cell_type": "code",
   "execution_count": 74,
   "id": "355bc3fc",
   "metadata": {},
   "outputs": [],
   "source": [
    "#feed.Schedule.items()"
   ]
  },
  {
   "cell_type": "code",
   "execution_count": 8,
   "id": "c3fe88b4",
   "metadata": {},
   "outputs": [
    {
     "data": {
      "text/plain": [
       "1"
      ]
     },
     "execution_count": 8,
     "metadata": {},
     "output_type": "execute_result"
    }
   ],
   "source": [
    "len(raw_feed)"
   ]
  },
  {
   "cell_type": "code",
   "execution_count": 12,
   "id": "447efe72",
   "metadata": {},
   "outputs": [
    {
     "name": "stdout",
     "output_type": "stream",
     "text": [
      "Help on class FrozenJSON in module __main__:\n",
      "\n",
      "class FrozenJSON(builtins.object)\n",
      " |  FrozenJSON(mapping)\n",
      " |  \n",
      " |  A read-only façade for navigating a JSON-like object\n",
      " |  using attribute notation\n",
      " |  \n",
      " |  Methods defined here:\n",
      " |  \n",
      " |  __dir__(self)\n",
      " |      Default dir() implementation.\n",
      " |  \n",
      " |  __getattr__(self, name)\n",
      " |  \n",
      " |  __init__(self, mapping)\n",
      " |      Initialize self.  See help(type(self)) for accurate signature.\n",
      " |  \n",
      " |  ----------------------------------------------------------------------\n",
      " |  Class methods defined here:\n",
      " |  \n",
      " |  build(obj) from builtins.type\n",
      " |  \n",
      " |  ----------------------------------------------------------------------\n",
      " |  Data descriptors defined here:\n",
      " |  \n",
      " |  __dict__\n",
      " |      dictionary for instance variables (if defined)\n",
      " |  \n",
      " |  __weakref__\n",
      " |      list of weak references to the object (if defined)\n",
      "\n"
     ]
    }
   ],
   "source": [
    "help(FrozenJSON)"
   ]
  },
  {
   "cell_type": "code",
   "execution_count": 14,
   "id": "b5180604",
   "metadata": {},
   "outputs": [
    {
     "data": {
      "text/plain": [
       "[<__main__.FrozenJSON at 0x1cf78825b50>,\n",
       " <__main__.FrozenJSON at 0x1cf78825b80>,\n",
       " <__main__.FrozenJSON at 0x1cf78825c10>]"
      ]
     },
     "execution_count": 14,
     "metadata": {},
     "output_type": "execute_result"
    }
   ],
   "source": [
    "feed.Schedule.speakers[:3]"
   ]
  },
  {
   "cell_type": "code",
   "execution_count": 15,
   "id": "1f8fe301",
   "metadata": {},
   "outputs": [
    {
     "data": {
      "text/plain": [
       "dict_keys(['Schedule'])"
      ]
     },
     "execution_count": 15,
     "metadata": {},
     "output_type": "execute_result"
    }
   ],
   "source": [
    "feed.keys()"
   ]
  },
  {
   "cell_type": "code",
   "execution_count": 16,
   "id": "d6640b83",
   "metadata": {},
   "outputs": [
    {
     "data": {
      "text/plain": [
       "['conferences', 'events', 'speakers', 'venues']"
      ]
     },
     "execution_count": 16,
     "metadata": {},
     "output_type": "execute_result"
    }
   ],
   "source": [
    "sorted(feed.Schedule.keys())  # <3>"
   ]
  },
  {
   "cell_type": "code",
   "execution_count": 22,
   "id": "f7114584",
   "metadata": {},
   "outputs": [
    {
     "data": {
      "text/plain": [
       "('conferences', [{'serial': 115}])"
      ]
     },
     "execution_count": 22,
     "metadata": {},
     "output_type": "execute_result"
    }
   ],
   "source": [
    "list(feed.Schedule.items())[0]"
   ]
  },
  {
   "cell_type": "code",
   "execution_count": 25,
   "id": "738bda1e",
   "metadata": {},
   "outputs": [
    {
     "data": {
      "text/plain": [
       "('venues',\n",
       " [{'serial': 1448,\n",
       "   'name': 'Portland Ballroom',\n",
       "   'category': 'Conference Venues'},\n",
       "  {'serial': 1449, 'name': 'Portland 251', 'category': 'Conference Venues'},\n",
       "  {'serial': 1450, 'name': 'Portland 252', 'category': 'Conference Venues'},\n",
       "  {'serial': 1452, 'name': 'Portland 255', 'category': 'Conference Venues'},\n",
       "  {'serial': 1475, 'name': 'Portland 256', 'category': 'Conference Venues'},\n",
       "  {'serial': 1454, 'name': 'D135', 'category': 'Conference Venues'},\n",
       "  {'serial': 1456, 'name': 'D136', 'category': 'Conference Venues'},\n",
       "  {'serial': 1457, 'name': 'D137/138', 'category': 'Conference Venues'},\n",
       "  {'serial': 1458, 'name': 'D139/140', 'category': 'Conference Venues'},\n",
       "  {'serial': 1470, 'name': 'E143/144', 'category': 'Conference Venues'},\n",
       "  {'serial': 1464, 'name': 'E144', 'category': 'Conference Venues'},\n",
       "  {'serial': 1465, 'name': 'E145', 'category': 'Conference Venues'},\n",
       "  {'serial': 1471, 'name': 'E145/146', 'category': 'Conference Venues'},\n",
       "  {'serial': 1466, 'name': 'E146', 'category': 'Conference Venues'},\n",
       "  {'serial': 1451, 'name': 'E147/148', 'category': 'Conference Venues'},\n",
       "  {'serial': 1587, 'name': 'D133/135', 'category': 'Conference Venues'},\n",
       "  {'serial': 1607, 'name': 'E 141/142', 'category': 'Conference Venues'},\n",
       "  {'serial': 1459, 'name': 'F150', 'category': 'Conference Venues'},\n",
       "  {'serial': 1462, 'name': 'F151', 'category': 'Conference Venues'},\n",
       "  {'serial': 1460, 'name': 'E141', 'category': 'Conference Venues'},\n",
       "  {'serial': 1461, 'name': 'E142', 'category': 'Conference Venues'},\n",
       "  {'serial': 1463, 'name': 'E143', 'category': 'Conference Venues'},\n",
       "  {'serial': 1507, 'name': 'D130', 'category': 'Conference Venues'},\n",
       "  {'serial': 1520, 'name': ' D135', 'category': 'Conference Venues'},\n",
       "  {'serial': 1525,\n",
       "   'name': 'Portland  Ballroom',\n",
       "   'category': 'Conference Venues'},\n",
       "  {'serial': 1467, 'name': 'Exhibit Hall D', 'category': 'Conference Venues'},\n",
       "  {'serial': 1469, 'name': 'Exhibit Hall C', 'category': 'Conference Venues'},\n",
       "  {'serial': 1468, 'name': 'Exhibit Hall E', 'category': 'Conference Venues'},\n",
       "  {'serial': 1453, 'name': 'E147 / E148', 'category': 'Conference Venues'},\n",
       "  {'serial': 1473,\n",
       "   'name': 'Portland Ballroom Foyer',\n",
       "   'category': 'Conference Venues'},\n",
       "  {'serial': 1474, 'name': 'Expo Hall', 'category': 'Conference Venues'},\n",
       "  {'serial': 1522,\n",
       "   'name': 'See BoF Schedule Onsite for Locations',\n",
       "   'category': 'Conference Venues'},\n",
       "  {'serial': 1521, 'name': 'Offsite', 'category': 'Conference Venues'},\n",
       "  {'serial': 1523, 'name': 'On Your Own', 'category': 'Conference Venues'},\n",
       "  {'serial': 1524, 'name': 'Expo Hall', 'category': 'Conference Venues'},\n",
       "  {'serial': 1626,\n",
       "   'name': 'Puppet Labs Headquarters, 926 Northwest 13th Avenue, #210',\n",
       "   'category': 'Conference Venues'},\n",
       "  {'serial': 1526, 'name': 'Exhibit Hall D', 'category': 'Conference Venues'},\n",
       "  {'serial': 1546,\n",
       "   'name': 'Expo Hall (Table A)',\n",
       "   'category': 'Conference Venues'},\n",
       "  {'serial': 1547,\n",
       "   'name': 'Expo Hall (Table B)',\n",
       "   'category': 'Conference Venues'},\n",
       "  {'serial': 1548,\n",
       "   'name': 'Expo Hall (Table C)',\n",
       "   'category': 'Conference Venues'},\n",
       "  {'serial': 1579,\n",
       "   'name': 'Expo Hall (Table D)',\n",
       "   'category': 'Conference Venues'},\n",
       "  {'serial': 1580,\n",
       "   'name': 'Expo Hall (Table E)',\n",
       "   'category': 'Conference Venues'},\n",
       "  {'serial': 1596,\n",
       "   'name': 'Office Hours Expo Hall',\n",
       "   'category': 'Conference Venues'},\n",
       "  {'serial': 1597,\n",
       "   'name': 'Author Signings (O&#x27;Reilly Booth) ',\n",
       "   'category': 'Conference Venues'},\n",
       "  {'serial': 1549,\n",
       "   'name': 'Author Signing A',\n",
       "   'category': 'Conference Venues'},\n",
       "  {'serial': 1606,\n",
       "   'name': '123 NE Third Ave.',\n",
       "   'category': 'Conference Venues'},\n",
       "  {'serial': 1550,\n",
       "   'name': 'Author Signing B',\n",
       "   'category': 'Conference Venues'},\n",
       "  {'serial': 1598,\n",
       "   'name': 'Author Signing C',\n",
       "   'category': 'Conference Venues'},\n",
       "  {'serial': 1583,\n",
       "   'name': ' Union Pine, 525 SE Pine St.',\n",
       "   'category': 'Conference Venues'},\n",
       "  {'serial': 1584, 'name': 'F 150', 'category': 'Conference Venues'},\n",
       "  {'serial': 1585, 'name': 'Exhibit Hall B', 'category': 'Conference Venues'},\n",
       "  {'serial': 1574,\n",
       "   'name': 'Bottom of the stairs by the E Rooms',\n",
       "   'category': 'Conference Venues'},\n",
       "  {'serial': 1578, 'name': 'Jupiter Hotel', 'category': 'Conference Venues'}])"
      ]
     },
     "execution_count": 25,
     "metadata": {},
     "output_type": "execute_result"
    }
   ],
   "source": [
    "list(feed.Schedule.items())[3]"
   ]
  },
  {
   "cell_type": "code",
   "execution_count": 18,
   "id": "6738e982",
   "metadata": {},
   "outputs": [
    {
     "name": "stdout",
     "output_type": "stream",
     "text": [
      "  1 conferences\n",
      "484 events\n",
      "357 speakers\n",
      " 53 venues\n"
     ]
    }
   ],
   "source": [
    "for key, value in sorted(feed.Schedule.items()): # <4>\n",
    "    print(f'{len(value):3} {key}')"
   ]
  },
  {
   "cell_type": "code",
   "execution_count": 29,
   "id": "68cd42cc",
   "metadata": {},
   "outputs": [
    {
     "data": {
      "text/plain": [
       "'Faisal Abid'"
      ]
     },
     "execution_count": 29,
     "metadata": {},
     "output_type": "execute_result"
    }
   ],
   "source": [
    "feed.Schedule.speakers[0].name"
   ]
  },
  {
   "cell_type": "code",
   "execution_count": 30,
   "id": "4e3631da",
   "metadata": {},
   "outputs": [
    {
     "data": {
      "text/plain": [
       "149868"
      ]
     },
     "execution_count": 30,
     "metadata": {},
     "output_type": "execute_result"
    }
   ],
   "source": [
    "feed.Schedule.speakers[0].serial"
   ]
  },
  {
   "cell_type": "code",
   "execution_count": 31,
   "id": "097e15dc",
   "metadata": {},
   "outputs": [
    {
     "data": {
      "text/plain": [
       "'<p>I am a software engineer, author, teacher and entrepreneur.</p>\\n<p>From the hardcore server-side and database challenges to the the front end issues, I love solving problems and strive to create software that can make a difference.</p>\\n<p>I&#8217;m an author published by Manning and O&#8217;Reilly and have also appeared in leading publications with my articles on ColdFusion and Flex.</p>\\n<p>In my free time I teach Android or Node.js at workshops around the word, speak at conferences such as <span class=\"caps\">OSCON</span>, CodeMotion, <span class=\"caps\">FITC</span> and AndroidTO.</p>\\n<p>Currently, I&#8217;m the founder of Dynamatik, a design and development agency in Toronto.</p>\\n<p>During the days I am a Software Engineer at Kobo working on OS and app level features for Android tablets.</p>'"
      ]
     },
     "execution_count": 31,
     "metadata": {},
     "output_type": "execute_result"
    }
   ],
   "source": [
    "feed.Schedule.speakers[0].bio"
   ]
  },
  {
   "cell_type": "code",
   "execution_count": 26,
   "id": "b30f39ed",
   "metadata": {},
   "outputs": [
    {
     "data": {
      "text/plain": [
       "'Carina C. Zona'"
      ]
     },
     "execution_count": 26,
     "metadata": {},
     "output_type": "execute_result"
    }
   ],
   "source": [
    "feed.Schedule.speakers[-1].name  # <5>"
   ]
  },
  {
   "cell_type": "code",
   "execution_count": 32,
   "id": "911fdcaf",
   "metadata": {},
   "outputs": [
    {
     "data": {
      "text/plain": [
       "<__main__.FrozenJSON at 0x1cf76a4daf0>"
      ]
     },
     "execution_count": 32,
     "metadata": {},
     "output_type": "execute_result"
    }
   ],
   "source": [
    "feed.Schedule"
   ]
  },
  {
   "cell_type": "code",
   "execution_count": 36,
   "id": "36bf76e7",
   "metadata": {},
   "outputs": [
    {
     "data": {
      "text/plain": [
       "'Migrating to the Web Using Dart and Polymer - A Guide for Legacy OOP Developers'"
      ]
     },
     "execution_count": 36,
     "metadata": {},
     "output_type": "execute_result"
    }
   ],
   "source": [
    "feed.Schedule.events[0].name"
   ]
  },
  {
   "cell_type": "code",
   "execution_count": 39,
   "id": "a1e8b279",
   "metadata": {},
   "outputs": [
    {
     "data": {
      "text/plain": [
       "dict_keys(['Schedule'])"
      ]
     },
     "execution_count": 39,
     "metadata": {},
     "output_type": "execute_result"
    }
   ],
   "source": [
    "feed.keys()"
   ]
  },
  {
   "cell_type": "code",
   "execution_count": 42,
   "id": "794bcfbe",
   "metadata": {},
   "outputs": [
    {
     "data": {
      "text/plain": [
       "dict_keys(['conferences', 'events', 'speakers', 'venues'])"
      ]
     },
     "execution_count": 42,
     "metadata": {},
     "output_type": "execute_result"
    }
   ],
   "source": [
    "feed.Schedule.keys()"
   ]
  },
  {
   "cell_type": "code",
   "execution_count": 47,
   "id": "6291e573",
   "metadata": {},
   "outputs": [
    {
     "data": {
      "text/plain": [
       "dict_keys(['serial', 'name', 'event_type', 'time_start', 'time_stop', 'venue_serial', 'description', 'website_url', 'speakers', 'categories'])"
      ]
     },
     "execution_count": 47,
     "metadata": {},
     "output_type": "execute_result"
    }
   ],
   "source": [
    "feed.Schedule.events[0].keys()"
   ]
  },
  {
   "cell_type": "code",
   "execution_count": 48,
   "id": "126d2afe",
   "metadata": {},
   "outputs": [
    {
     "data": {
      "text/plain": [
       "dict_keys(['serial'])"
      ]
     },
     "execution_count": 48,
     "metadata": {},
     "output_type": "execute_result"
    }
   ],
   "source": [
    "feed.Schedule.conferences[0].keys()"
   ]
  },
  {
   "cell_type": "code",
   "execution_count": 49,
   "id": "081bab38",
   "metadata": {},
   "outputs": [
    {
     "data": {
      "text/plain": [
       "dict_keys(['serial', 'name', 'photo', 'url', 'position', 'affiliation', 'twitter', 'bio'])"
      ]
     },
     "execution_count": 49,
     "metadata": {},
     "output_type": "execute_result"
    }
   ],
   "source": [
    "feed.Schedule.speakers[0].keys()"
   ]
  },
  {
   "cell_type": "code",
   "execution_count": 50,
   "id": "8895cd8f",
   "metadata": {},
   "outputs": [
    {
     "data": {
      "text/plain": [
       "dict_keys(['serial', 'name', 'category'])"
      ]
     },
     "execution_count": 50,
     "metadata": {},
     "output_type": "execute_result"
    }
   ],
   "source": [
    "feed.Schedule.venues[0].keys()"
   ]
  },
  {
   "cell_type": "code",
   "execution_count": 56,
   "id": "948f3ad5",
   "metadata": {},
   "outputs": [
    {
     "data": {
      "text/plain": [
       "1448"
      ]
     },
     "execution_count": 56,
     "metadata": {},
     "output_type": "execute_result"
    }
   ],
   "source": [
    "feed.Schedule.venues[0].serial"
   ]
  },
  {
   "cell_type": "code",
   "execution_count": 57,
   "id": "6b9ef37b",
   "metadata": {},
   "outputs": [
    {
     "data": {
      "text/plain": [
       "'Portland Ballroom'"
      ]
     },
     "execution_count": 57,
     "metadata": {},
     "output_type": "execute_result"
    }
   ],
   "source": [
    "feed.Schedule.venues[0].name"
   ]
  },
  {
   "cell_type": "code",
   "execution_count": 33,
   "id": "20925c95",
   "metadata": {},
   "outputs": [
    {
     "data": {
      "text/plain": [
       "__main__.FrozenJSON"
      ]
     },
     "execution_count": 33,
     "metadata": {},
     "output_type": "execute_result"
    }
   ],
   "source": [
    "talk = feed.Schedule.events[40]\n",
    "type(talk)  # <6>"
   ]
  },
  {
   "cell_type": "code",
   "execution_count": 59,
   "id": "4ebb3b87",
   "metadata": {},
   "outputs": [
    {
     "data": {
      "text/plain": [
       "dict_keys(['serial', 'name', 'event_type', 'time_start', 'time_stop', 'venue_serial', 'description', 'website_url', 'speakers', 'categories'])"
      ]
     },
     "execution_count": 59,
     "metadata": {},
     "output_type": "execute_result"
    }
   ],
   "source": [
    "talk.keys()"
   ]
  },
  {
   "cell_type": "code",
   "execution_count": 60,
   "id": "bde931ae",
   "metadata": {},
   "outputs": [
    {
     "data": {
      "text/plain": [
       "33950"
      ]
     },
     "execution_count": 60,
     "metadata": {},
     "output_type": "execute_result"
    }
   ],
   "source": [
    "talk.serial"
   ]
  },
  {
   "cell_type": "code",
   "execution_count": 61,
   "id": "46f7d3aa",
   "metadata": {},
   "outputs": [
    {
     "data": {
      "text/plain": [
       "'There *Will* Be Bugs'"
      ]
     },
     "execution_count": 61,
     "metadata": {},
     "output_type": "execute_result"
    }
   ],
   "source": [
    "talk.name"
   ]
  },
  {
   "cell_type": "code",
   "execution_count": 62,
   "id": "5e3c389b",
   "metadata": {},
   "outputs": [
    {
     "data": {
      "text/plain": [
       "[3471, 5199]"
      ]
     },
     "execution_count": 62,
     "metadata": {},
     "output_type": "execute_result"
    }
   ],
   "source": [
    "talk.speakers"
   ]
  },
  {
   "cell_type": "code",
   "execution_count": 64,
   "id": "d4ecf145",
   "metadata": {},
   "outputs": [
    {
     "data": {
      "text/plain": [
       "'40-minute conference session'"
      ]
     },
     "execution_count": 64,
     "metadata": {},
     "output_type": "execute_result"
    }
   ],
   "source": [
    "talk.event_type"
   ]
  },
  {
   "cell_type": "code",
   "execution_count": 65,
   "id": "533ed1b2",
   "metadata": {},
   "outputs": [
    {
     "data": {
      "text/plain": [
       "dict_items([('serial', 33950), ('name', 'There *Will* Be Bugs'), ('event_type', '40-minute conference session'), ('time_start', '2014-07-23 14:30:00'), ('time_stop', '2014-07-23 15:10:00'), ('venue_serial', 1449), ('description', 'If you&#x27;re pushing the envelope of programming (or of your own skills)... and even when you’re not... there *will* be bugs in your code.  Don&#x27;t panic!  We cover the attitudes and skills (not taught in most schools) to minimize your bugs, track them, find them, fix them, ensure they never recur, and deploy fixes to your users.\\r\\n'), ('website_url', 'http://oscon.com/oscon2014/public/schedule/detail/33950'), ('speakers', [3471, 5199]), ('categories', ['Python'])])"
      ]
     },
     "execution_count": 65,
     "metadata": {},
     "output_type": "execute_result"
    }
   ],
   "source": [
    "talk.items()"
   ]
  },
  {
   "cell_type": "code",
   "execution_count": 103,
   "id": "fd36f8b2",
   "metadata": {},
   "outputs": [
    {
     "data": {
      "text/plain": [
       "dict_keys(['serial', 'name', 'event_type', 'time_start', 'time_stop', 'venue_serial', 'description', 'website_url', 'speakers', 'categories'])"
      ]
     },
     "execution_count": 103,
     "metadata": {},
     "output_type": "execute_result"
    }
   ],
   "source": [
    "talk.keys()"
   ]
  },
  {
   "cell_type": "code",
   "execution_count": 102,
   "id": "ef751966",
   "metadata": {},
   "outputs": [
    {
     "data": {
      "text/plain": [
       "['categories',\n",
       " 'description',\n",
       " 'event_type',\n",
       " 'name',\n",
       " 'serial',\n",
       " 'speakers',\n",
       " 'time_start',\n",
       " 'time_stop',\n",
       " 'venue_serial',\n",
       " 'website_url']"
      ]
     },
     "execution_count": 102,
     "metadata": {},
     "output_type": "execute_result"
    }
   ],
   "source": [
    "dir(talk)"
   ]
  },
  {
   "cell_type": "code",
   "execution_count": 90,
   "id": "f18b807d",
   "metadata": {},
   "outputs": [],
   "source": [
    "\"\"\"\n",
    "explore1.py: Script to explore the OSCON schedule feed\n",
    "\n",
    "    >>> import json\n",
    "    >>> raw_feed = json.load(open('data/osconfeed.json'))\n",
    "    >>> feed = FrozenJSON(raw_feed)\n",
    "    >>> len(feed.Schedule.speakers)\n",
    "    357\n",
    "    >>> sorted(feed.Schedule.keys())\n",
    "    ['conferences', 'events', 'speakers', 'venues']\n",
    "    >>> for key, value in sorted(feed.Schedule.items()):\n",
    "    ...     print(f'{len(value):3} {key}')\n",
    "    ...\n",
    "      1 conferences\n",
    "    484 events\n",
    "    357 speakers\n",
    "     53 venues\n",
    "    >>> feed.Schedule.speakers[-1].name\n",
    "    'Carina C. Zona'\n",
    "    >>> talk = feed.Schedule.events[40]\n",
    "    >>> type(talk)\n",
    "    <class 'explore1.FrozenJSON'>\n",
    "    >>> talk.name\n",
    "    'There *Will* Be Bugs'\n",
    "    >>> talk.speakers\n",
    "    [3471, 5199]\n",
    "    >>> talk.flavor\n",
    "    Traceback (most recent call last):\n",
    "      ...\n",
    "    KeyError: 'flavor'\n",
    "\n",
    "Handle keywords by appending a `_`.\n",
    "\n",
    "# tag::EXPLORE1_DEMO[]\n",
    "\n",
    "    >>> grad = FrozenJSON({'name': 'Jim Bo', 'class': 1982})\n",
    "    >>> grad.name\n",
    "    'Jim Bo'\n",
    "    >>> grad.class_\n",
    "    1982\n",
    "\n",
    "# end::EXPLORE1_DEMO[]\n",
    "\n",
    "\"\"\"\n",
    "\n",
    "from collections import abc\n",
    "import keyword\n",
    "\n",
    "\n",
    "class FrozenJSON:\n",
    "    \"\"\"A read-only façade for navigating a JSON-like object\n",
    "       using attribute notation\n",
    "    \"\"\"\n",
    "\n",
    "# tag::EXPLORE1[]\n",
    "    def __init__(self, mapping):\n",
    "        self.__data = {}\n",
    "        for key, value in mapping.items():\n",
    "            if keyword.iskeyword(key):  # <1>\n",
    "                key += '_'\n",
    "            self.__data[key] = value\n",
    "# end::EXPLORE1[]\n",
    "\n",
    "    def __getattr__(self, name):\n",
    "        try:\n",
    "            return getattr(self.__data, name)\n",
    "        except AttributeError:\n",
    "            return FrozenJSON.build(self.__data[name])\n",
    "\n",
    "    def __dir__(self):  # <5>\n",
    "        return self.__data.keys()\n",
    "\n",
    "    @classmethod\n",
    "    def build(cls, obj):\n",
    "        if isinstance(obj, abc.Mapping):\n",
    "            return cls(obj)\n",
    "        elif isinstance(obj, abc.MutableSequence):\n",
    "            return [cls.build(item) for item in obj]\n",
    "        else:  # <8>\n",
    "            return obj\n",
    "\n"
   ]
  },
  {
   "cell_type": "code",
   "execution_count": 91,
   "id": "baa85917",
   "metadata": {},
   "outputs": [
    {
     "data": {
      "text/plain": [
       "357"
      ]
     },
     "execution_count": 91,
     "metadata": {},
     "output_type": "execute_result"
    }
   ],
   "source": [
    "import json\n",
    "raw_feed = json.load(open('example-code-2e/22-dyn-attr-prop/oscon/data/osconfeed.json'))\n",
    "feed = FrozenJSON(raw_feed)  # <1>\n",
    "len(feed.Schedule.speakers)  # <2>"
   ]
  },
  {
   "cell_type": "code",
   "execution_count": 92,
   "id": "738e39ac",
   "metadata": {},
   "outputs": [
    {
     "data": {
      "text/plain": [
       "['conferences', 'events', 'speakers', 'venues']"
      ]
     },
     "execution_count": 92,
     "metadata": {},
     "output_type": "execute_result"
    }
   ],
   "source": [
    "sorted(feed.Schedule.keys())"
   ]
  },
  {
   "cell_type": "code",
   "execution_count": 93,
   "id": "5d8e262d",
   "metadata": {},
   "outputs": [
    {
     "name": "stdout",
     "output_type": "stream",
     "text": [
      "  1 conferences\n",
      "484 events\n",
      "357 speakers\n",
      " 53 venues\n"
     ]
    }
   ],
   "source": [
    "for key, value in sorted(feed.Schedule.items()):\n",
    "    print(f'{len(value):3} {key}')"
   ]
  },
  {
   "cell_type": "code",
   "execution_count": 94,
   "id": "4f988049",
   "metadata": {},
   "outputs": [
    {
     "data": {
      "text/plain": [
       "'Jim Bo'"
      ]
     },
     "execution_count": 94,
     "metadata": {},
     "output_type": "execute_result"
    }
   ],
   "source": [
    "grad = FrozenJSON({'name': 'Jim Bo', 'class': 1982})\n",
    "grad.name"
   ]
  },
  {
   "cell_type": "code",
   "execution_count": 100,
   "id": "157c739f",
   "metadata": {},
   "outputs": [
    {
     "data": {
      "text/plain": [
       "dict_keys(['name', 'class_'])"
      ]
     },
     "execution_count": 100,
     "metadata": {},
     "output_type": "execute_result"
    }
   ],
   "source": [
    "grad.keys()"
   ]
  },
  {
   "cell_type": "code",
   "execution_count": 98,
   "id": "5b9a22c3",
   "metadata": {},
   "outputs": [
    {
     "data": {
      "text/plain": [
       "1982"
      ]
     },
     "execution_count": 98,
     "metadata": {},
     "output_type": "execute_result"
    }
   ],
   "source": [
    "grad.class_"
   ]
  },
  {
   "cell_type": "code",
   "execution_count": 101,
   "id": "ef680bd4",
   "metadata": {},
   "outputs": [
    {
     "data": {
      "text/plain": [
       "['class_', 'name']"
      ]
     },
     "execution_count": 101,
     "metadata": {},
     "output_type": "execute_result"
    }
   ],
   "source": [
    "dir(grad)"
   ]
  },
  {
   "cell_type": "code",
   "execution_count": 3,
   "id": "d97d3c69",
   "metadata": {},
   "outputs": [],
   "source": [
    "\"\"\"\n",
    "explore0.py: Script to explore the OSCON schedule feed\n",
    "\n",
    "# tag::EXPLORE0_DEMO[]\n",
    "    >>> import json\n",
    "    >>> raw_feed = json.load(open('data/osconfeed.json'))\n",
    "    >>> feed = FrozenJSON(raw_feed)  # <1>\n",
    "    >>> len(feed.Schedule.speakers)  # <2>\n",
    "    357\n",
    "    >>> feed.keys()\n",
    "    dict_keys(['Schedule'])\n",
    "    >>> sorted(feed.Schedule.keys())  # <3>\n",
    "    ['conferences', 'events', 'speakers', 'venues']\n",
    "    >>> for key, value in sorted(feed.Schedule.items()): # <4>\n",
    "    ...     print(f'{len(value):3} {key}')\n",
    "    ...\n",
    "      1 conferences\n",
    "    484 events\n",
    "    357 speakers\n",
    "     53 venues\n",
    "    >>> feed.Schedule.speakers[-1].name  # <5>\n",
    "    'Carina C. Zona'\n",
    "    >>> talk = feed.Schedule.events[40]\n",
    "    >>> type(talk)  # <6>\n",
    "    <class 'explore0.FrozenJSON'>\n",
    "    >>> talk.name\n",
    "    'There *Will* Be Bugs'\n",
    "    >>> talk.speakers  # <7>\n",
    "    [3471, 5199]\n",
    "    >>> talk.flavor  # <8>\n",
    "    Traceback (most recent call last):\n",
    "      ...\n",
    "    KeyError: 'flavor'\n",
    "\n",
    "# end::EXPLORE0_DEMO[]\n",
    "\n",
    "\"\"\"\n",
    "\n",
    "# tag::EXPLORE0[]\n",
    "from collections import abc\n",
    "\n",
    "\n",
    "class FrozenJSON:\n",
    "    \"\"\"A read-only façade for navigating a JSON-like object\n",
    "       using attribute notation\n",
    "    \"\"\"\n",
    "\n",
    "    def __init__(self, mapping):\n",
    "        self.__data = dict(mapping)  # <1>\n",
    "\n",
    "    def __getattr__(self, name):  # <2>\n",
    "        try:\n",
    "            return getattr(self.__data, name)  # <3>\n",
    "        except AttributeError:\n",
    "            return FrozenJSON.build(self.__data[name])  # <4>\n",
    "\n",
    "    def __dir__(self):  # <5>\n",
    "        return self.__data.keys()\n",
    "\n",
    "    @classmethod\n",
    "    def build(cls, obj):  # <6>\n",
    "        if isinstance(obj, abc.Mapping):  # <7>\n",
    "            return cls(obj)\n",
    "        elif isinstance(obj, abc.MutableSequence):  # <8>\n",
    "            return [cls.build(item) for item in obj]\n",
    "        else:  # <9>\n",
    "            return obj\n",
    "# end::EXPLORE0[]\n"
   ]
  },
  {
   "cell_type": "code",
   "execution_count": 4,
   "id": "90be4813",
   "metadata": {},
   "outputs": [
    {
     "data": {
      "text/plain": [
       "357"
      ]
     },
     "execution_count": 4,
     "metadata": {},
     "output_type": "execute_result"
    }
   ],
   "source": [
    "import json\n",
    "raw_feed = json.load(open('example-code-2e/22-dyn-attr-prop/oscon/data/osconfeed.json'))\n",
    "feed = FrozenJSON(raw_feed)  # <1>\n",
    "len(feed.Schedule.speakers)  # <2>"
   ]
  },
  {
   "cell_type": "code",
   "execution_count": 5,
   "id": "8fe96d52",
   "metadata": {},
   "outputs": [
    {
     "name": "stdout",
     "output_type": "stream",
     "text": [
      "Schedule\n"
     ]
    }
   ],
   "source": [
    "for key, value in raw_feed.items():\n",
    "    print(key)"
   ]
  },
  {
   "cell_type": "code",
   "execution_count": 6,
   "id": "242c4181",
   "metadata": {},
   "outputs": [
    {
     "name": "stdout",
     "output_type": "stream",
     "text": [
      "conferences\n",
      "events\n",
      "speakers\n",
      "venues\n"
     ]
    }
   ],
   "source": [
    "for key, value in raw_feed['Schedule'].items():\n",
    "    print(key)"
   ]
  },
  {
   "cell_type": "code",
   "execution_count": 7,
   "id": "5865f0b4",
   "metadata": {},
   "outputs": [
    {
     "name": "stdout",
     "output_type": "stream",
     "text": [
      "serial\n"
     ]
    }
   ],
   "source": [
    "for key, value in raw_feed['Schedule']['conferences'][0].items():\n",
    "    print(key)"
   ]
  },
  {
   "cell_type": "code",
   "execution_count": 8,
   "id": "b69c316a",
   "metadata": {},
   "outputs": [
    {
     "name": "stdout",
     "output_type": "stream",
     "text": [
      "serial\n",
      "name\n",
      "event_type\n",
      "time_start\n",
      "time_stop\n",
      "venue_serial\n",
      "description\n",
      "website_url\n",
      "speakers\n",
      "categories\n"
     ]
    }
   ],
   "source": [
    "for key, value in raw_feed['Schedule']['events'][0].items():\n",
    "    print(key)"
   ]
  },
  {
   "cell_type": "code",
   "execution_count": 9,
   "id": "5c619e24",
   "metadata": {},
   "outputs": [
    {
     "name": "stdout",
     "output_type": "stream",
     "text": [
      "serial\n",
      "name\n",
      "photo\n",
      "url\n",
      "position\n",
      "affiliation\n",
      "twitter\n",
      "bio\n"
     ]
    }
   ],
   "source": [
    "for key, value in raw_feed['Schedule']['speakers'][0].items():\n",
    "    print(key)"
   ]
  },
  {
   "cell_type": "code",
   "execution_count": 10,
   "id": "ccbc76e1",
   "metadata": {},
   "outputs": [
    {
     "name": "stdout",
     "output_type": "stream",
     "text": [
      "serial\n",
      "name\n",
      "category\n"
     ]
    }
   ],
   "source": [
    "for key, value in raw_feed['Schedule']['venues'][0].items():\n",
    "    print(key)"
   ]
  },
  {
   "cell_type": "code",
   "execution_count": 11,
   "id": "229c3890",
   "metadata": {},
   "outputs": [
    {
     "data": {
      "text/plain": [
       "<__main__.FrozenJSON at 0x2209cffe2b0>"
      ]
     },
     "execution_count": 11,
     "metadata": {},
     "output_type": "execute_result"
    }
   ],
   "source": [
    "FrozenJSON.build(raw_feed['Schedule'])"
   ]
  },
  {
   "cell_type": "code",
   "execution_count": 12,
   "id": "919cab10",
   "metadata": {},
   "outputs": [
    {
     "data": {
      "text/plain": [
       "<__main__.FrozenJSON at 0x2209cfe3d30>"
      ]
     },
     "execution_count": 12,
     "metadata": {},
     "output_type": "execute_result"
    }
   ],
   "source": [
    "FrozenJSON(raw_feed['Schedule'])"
   ]
  },
  {
   "cell_type": "code",
   "execution_count": 13,
   "id": "5885885d",
   "metadata": {},
   "outputs": [
    {
     "data": {
      "text/plain": [
       "True"
      ]
     },
     "execution_count": 13,
     "metadata": {},
     "output_type": "execute_result"
    }
   ],
   "source": [
    "isinstance(raw_feed['Schedule'], abc.Mapping)"
   ]
  },
  {
   "cell_type": "code",
   "execution_count": 14,
   "id": "15b27575",
   "metadata": {},
   "outputs": [
    {
     "data": {
      "text/plain": [
       "False"
      ]
     },
     "execution_count": 14,
     "metadata": {},
     "output_type": "execute_result"
    }
   ],
   "source": [
    "isinstance(raw_feed['Schedule'], abc.MutableSequence)"
   ]
  },
  {
   "cell_type": "code",
   "execution_count": 15,
   "id": "5640dff8",
   "metadata": {},
   "outputs": [
    {
     "data": {
      "text/plain": [
       "True"
      ]
     },
     "execution_count": 15,
     "metadata": {},
     "output_type": "execute_result"
    }
   ],
   "source": [
    "isinstance(raw_feed['Schedule'], dict)"
   ]
  },
  {
   "cell_type": "code",
   "execution_count": 16,
   "id": "d8c4f479",
   "metadata": {},
   "outputs": [
    {
     "data": {
      "text/plain": [
       "dict"
      ]
     },
     "execution_count": 16,
     "metadata": {},
     "output_type": "execute_result"
    }
   ],
   "source": [
    "type(raw_feed['Schedule'])"
   ]
  },
  {
   "cell_type": "code",
   "execution_count": 17,
   "id": "21441690",
   "metadata": {},
   "outputs": [
    {
     "data": {
      "text/plain": [
       "['a', 'b', 'c']"
      ]
     },
     "execution_count": 17,
     "metadata": {},
     "output_type": "execute_result"
    }
   ],
   "source": [
    "mylist = list(['a','b','c'])\n",
    "[item for item in mylist]"
   ]
  },
  {
   "cell_type": "code",
   "execution_count": 18,
   "id": "de87d165",
   "metadata": {},
   "outputs": [
    {
     "name": "stdout",
     "output_type": "stream",
     "text": [
      "Help on class Mapping in module collections.abc:\n",
      "\n",
      "class Mapping(Collection)\n",
      " |  Method resolution order:\n",
      " |      Mapping\n",
      " |      Collection\n",
      " |      Sized\n",
      " |      Iterable\n",
      " |      Container\n",
      " |      builtins.object\n",
      " |  \n",
      " |  Methods defined here:\n",
      " |  \n",
      " |  __contains__(self, key)\n",
      " |  \n",
      " |  __eq__(self, other)\n",
      " |      Return self==value.\n",
      " |  \n",
      " |  __getitem__(self, key)\n",
      " |  \n",
      " |  get(self, key, default=None)\n",
      " |      D.get(k[,d]) -> D[k] if k in D, else d.  d defaults to None.\n",
      " |  \n",
      " |  items(self)\n",
      " |      D.items() -> a set-like object providing a view on D's items\n",
      " |  \n",
      " |  keys(self)\n",
      " |      D.keys() -> a set-like object providing a view on D's keys\n",
      " |  \n",
      " |  values(self)\n",
      " |      D.values() -> an object providing a view on D's values\n",
      " |  \n",
      " |  ----------------------------------------------------------------------\n",
      " |  Data and other attributes defined here:\n",
      " |  \n",
      " |  __abstractmethods__ = frozenset({'__getitem__', '__iter__', '__len__'}...\n",
      " |  \n",
      " |  __hash__ = None\n",
      " |  \n",
      " |  __reversed__ = None\n",
      " |  \n",
      " |  ----------------------------------------------------------------------\n",
      " |  Class methods inherited from Collection:\n",
      " |  \n",
      " |  __subclasshook__(C) from abc.ABCMeta\n",
      " |      Abstract classes can override this to customize issubclass().\n",
      " |      \n",
      " |      This is invoked early on by abc.ABCMeta.__subclasscheck__().\n",
      " |      It should return True, False or NotImplemented.  If it returns\n",
      " |      NotImplemented, the normal algorithm is used.  Otherwise, it\n",
      " |      overrides the normal algorithm (and the outcome is cached).\n",
      " |  \n",
      " |  ----------------------------------------------------------------------\n",
      " |  Methods inherited from Sized:\n",
      " |  \n",
      " |  __len__(self)\n",
      " |  \n",
      " |  ----------------------------------------------------------------------\n",
      " |  Methods inherited from Iterable:\n",
      " |  \n",
      " |  __iter__(self)\n",
      "\n"
     ]
    }
   ],
   "source": [
    "help(abc.Mapping)"
   ]
  },
  {
   "cell_type": "code",
   "execution_count": 19,
   "id": "3dbb4cce",
   "metadata": {},
   "outputs": [
    {
     "name": "stdout",
     "output_type": "stream",
     "text": [
      "Help on class MutableSequence in module collections.abc:\n",
      "\n",
      "class MutableSequence(Sequence)\n",
      " |  All the operations on a read-only sequence.\n",
      " |  \n",
      " |  Concrete subclasses must override __new__ or __init__,\n",
      " |  __getitem__, and __len__.\n",
      " |  \n",
      " |  Method resolution order:\n",
      " |      MutableSequence\n",
      " |      Sequence\n",
      " |      Reversible\n",
      " |      Collection\n",
      " |      Sized\n",
      " |      Iterable\n",
      " |      Container\n",
      " |      builtins.object\n",
      " |  \n",
      " |  Methods defined here:\n",
      " |  \n",
      " |  __delitem__(self, index)\n",
      " |  \n",
      " |  __iadd__(self, values)\n",
      " |  \n",
      " |  __setitem__(self, index, value)\n",
      " |  \n",
      " |  append(self, value)\n",
      " |      S.append(value) -- append value to the end of the sequence\n",
      " |  \n",
      " |  clear(self)\n",
      " |      S.clear() -> None -- remove all items from S\n",
      " |  \n",
      " |  extend(self, values)\n",
      " |      S.extend(iterable) -- extend sequence by appending elements from the iterable\n",
      " |  \n",
      " |  insert(self, index, value)\n",
      " |      S.insert(index, value) -- insert value before index\n",
      " |  \n",
      " |  pop(self, index=-1)\n",
      " |      S.pop([index]) -> item -- remove and return item at index (default last).\n",
      " |      Raise IndexError if list is empty or index is out of range.\n",
      " |  \n",
      " |  remove(self, value)\n",
      " |      S.remove(value) -- remove first occurrence of value.\n",
      " |      Raise ValueError if the value is not present.\n",
      " |  \n",
      " |  reverse(self)\n",
      " |      S.reverse() -- reverse *IN PLACE*\n",
      " |  \n",
      " |  ----------------------------------------------------------------------\n",
      " |  Data and other attributes defined here:\n",
      " |  \n",
      " |  __abstractmethods__ = frozenset({'__delitem__', '__getitem__', '__len_...\n",
      " |  \n",
      " |  ----------------------------------------------------------------------\n",
      " |  Methods inherited from Sequence:\n",
      " |  \n",
      " |  __contains__(self, value)\n",
      " |  \n",
      " |  __getitem__(self, index)\n",
      " |  \n",
      " |  __iter__(self)\n",
      " |  \n",
      " |  __reversed__(self)\n",
      " |  \n",
      " |  count(self, value)\n",
      " |      S.count(value) -> integer -- return number of occurrences of value\n",
      " |  \n",
      " |  index(self, value, start=0, stop=None)\n",
      " |      S.index(value, [start, [stop]]) -> integer -- return first index of value.\n",
      " |      Raises ValueError if the value is not present.\n",
      " |      \n",
      " |      Supporting start and stop arguments is optional, but\n",
      " |      recommended.\n",
      " |  \n",
      " |  ----------------------------------------------------------------------\n",
      " |  Class methods inherited from Reversible:\n",
      " |  \n",
      " |  __subclasshook__(C) from abc.ABCMeta\n",
      " |      Abstract classes can override this to customize issubclass().\n",
      " |      \n",
      " |      This is invoked early on by abc.ABCMeta.__subclasscheck__().\n",
      " |      It should return True, False or NotImplemented.  If it returns\n",
      " |      NotImplemented, the normal algorithm is used.  Otherwise, it\n",
      " |      overrides the normal algorithm (and the outcome is cached).\n",
      " |  \n",
      " |  ----------------------------------------------------------------------\n",
      " |  Methods inherited from Sized:\n",
      " |  \n",
      " |  __len__(self)\n",
      "\n"
     ]
    }
   ],
   "source": [
    "help(abc.MutableSequence)"
   ]
  },
  {
   "cell_type": "code",
   "execution_count": 20,
   "id": "a7da38b4",
   "metadata": {},
   "outputs": [
    {
     "data": {
      "text/plain": [
       "True"
      ]
     },
     "execution_count": 20,
     "metadata": {},
     "output_type": "execute_result"
    }
   ],
   "source": [
    "import keyword\n",
    "keyword.iskeyword('class')"
   ]
  },
  {
   "cell_type": "code",
   "execution_count": 21,
   "id": "dfb96441",
   "metadata": {},
   "outputs": [
    {
     "data": {
      "text/plain": [
       "False"
      ]
     },
     "execution_count": 21,
     "metadata": {},
     "output_type": "execute_result"
    }
   ],
   "source": [
    "keyword.iskeyword('class_')"
   ]
  },
  {
   "cell_type": "code",
   "execution_count": 22,
   "id": "0950fa2f",
   "metadata": {},
   "outputs": [
    {
     "data": {
      "text/plain": [
       "(__main__.FrozenJSON, object)"
      ]
     },
     "execution_count": 22,
     "metadata": {},
     "output_type": "execute_result"
    }
   ],
   "source": [
    "FrozenJSON.__mro__"
   ]
  },
  {
   "cell_type": "code",
   "execution_count": 1,
   "id": "1bdfdb12",
   "metadata": {},
   "outputs": [],
   "source": [
    "\"\"\"\n",
    "explore2.py: Script to explore the OSCON schedule feed\n",
    "\n",
    "    >>> import json\n",
    "    >>> raw_feed = json.load(open('data/osconfeed.json'))\n",
    "    >>> feed = FrozenJSON(raw_feed)\n",
    "    >>> len(feed.Schedule.speakers)\n",
    "    357\n",
    "    >>> sorted(feed.Schedule.keys())\n",
    "    ['conferences', 'events', 'speakers', 'venues']\n",
    "    >>> feed.Schedule.speakers[-1].name\n",
    "    'Carina C. Zona'\n",
    "    >>> talk = feed.Schedule.events[40]\n",
    "    >>> talk.name\n",
    "    'There *Will* Be Bugs'\n",
    "    >>> talk.speakers\n",
    "    [3471, 5199]\n",
    "    >>> talk.flavor\n",
    "    Traceback (most recent call last):\n",
    "      ...\n",
    "    KeyError: 'flavor'\n",
    "\n",
    "\"\"\"\n",
    "\n",
    "# tag::EXPLORE2[]\n",
    "from collections import abc\n",
    "import keyword\n",
    "\n",
    "class FrozenJSON:\n",
    "    \"\"\"A read-only façade for navigating a JSON-like object\n",
    "       using attribute notation\n",
    "    \"\"\"\n",
    "\n",
    "    def __new__(cls, arg):  # <1>\n",
    "        if isinstance(arg, abc.Mapping):\n",
    "            return super().__new__(cls)  # <2>\n",
    "        elif isinstance(arg, abc.MutableSequence):  # <3>\n",
    "            return [cls(item) for item in arg]\n",
    "        else:\n",
    "            return arg\n",
    "\n",
    "    def __init__(self, mapping):\n",
    "        self.__data = {}\n",
    "        for key, value in mapping.items():\n",
    "            if keyword.iskeyword(key):\n",
    "                key += '_'\n",
    "            self.__data[key] = value\n",
    "\n",
    "    def __getattr__(self, name):\n",
    "        try:\n",
    "            return getattr(self.__data, name)\n",
    "        except AttributeError:\n",
    "            return FrozenJSON(self.__data[name])  # <4>\n",
    "\n",
    "    def __dir__(self):\n",
    "        return self.__data.keys()\n",
    "# end::EXPLORE2[]\n"
   ]
  },
  {
   "cell_type": "code",
   "execution_count": 2,
   "id": "977035ad",
   "metadata": {},
   "outputs": [
    {
     "data": {
      "text/plain": [
       "357"
      ]
     },
     "execution_count": 2,
     "metadata": {},
     "output_type": "execute_result"
    }
   ],
   "source": [
    "import json\n",
    "raw_feed = json.load(open('example-code-2e/22-dyn-attr-prop/oscon/data/osconfeed.json'))\n",
    "feed = FrozenJSON(raw_feed)  # <1>\n",
    "len(feed.Schedule.speakers)  # <2>"
   ]
  },
  {
   "cell_type": "code",
   "execution_count": 3,
   "id": "5a37358b",
   "metadata": {},
   "outputs": [
    {
     "data": {
      "text/plain": [
       "['conferences', 'events', 'speakers', 'venues']"
      ]
     },
     "execution_count": 3,
     "metadata": {},
     "output_type": "execute_result"
    }
   ],
   "source": [
    "sorted(feed.Schedule.keys())"
   ]
  },
  {
   "cell_type": "code",
   "execution_count": 4,
   "id": "7a00c43f",
   "metadata": {},
   "outputs": [
    {
     "data": {
      "text/plain": [
       "dict_keys(['Schedule'])"
      ]
     },
     "execution_count": 4,
     "metadata": {},
     "output_type": "execute_result"
    }
   ],
   "source": [
    "raw_feed.keys()"
   ]
  },
  {
   "cell_type": "code",
   "execution_count": 5,
   "id": "9d8b6ce8",
   "metadata": {},
   "outputs": [
    {
     "data": {
      "text/plain": [
       "dict_keys(['Schedule'])"
      ]
     },
     "execution_count": 5,
     "metadata": {},
     "output_type": "execute_result"
    }
   ],
   "source": [
    "dict(raw_feed).keys()"
   ]
  },
  {
   "cell_type": "code",
   "execution_count": 6,
   "id": "bf925234",
   "metadata": {},
   "outputs": [
    {
     "data": {
      "text/plain": [
       "['__class__',\n",
       " '__delattr__',\n",
       " '__dict__',\n",
       " '__dir__',\n",
       " '__doc__',\n",
       " '__eq__',\n",
       " '__format__',\n",
       " '__ge__',\n",
       " '__getattr__',\n",
       " '__getattribute__',\n",
       " '__gt__',\n",
       " '__hash__',\n",
       " '__init__',\n",
       " '__init_subclass__',\n",
       " '__le__',\n",
       " '__lt__',\n",
       " '__module__',\n",
       " '__ne__',\n",
       " '__new__',\n",
       " '__reduce__',\n",
       " '__reduce_ex__',\n",
       " '__repr__',\n",
       " '__setattr__',\n",
       " '__sizeof__',\n",
       " '__str__',\n",
       " '__subclasshook__',\n",
       " '__weakref__']"
      ]
     },
     "execution_count": 6,
     "metadata": {},
     "output_type": "execute_result"
    }
   ],
   "source": [
    "dir(FrozenJSON)"
   ]
  },
  {
   "cell_type": "code",
   "execution_count": 7,
   "id": "88d966e7",
   "metadata": {},
   "outputs": [
    {
     "data": {
      "text/plain": [
       "'A read-only façade for navigating a JSON-like object\\n       using attribute notation\\n    '"
      ]
     },
     "execution_count": 7,
     "metadata": {},
     "output_type": "execute_result"
    }
   ],
   "source": [
    "FrozenJSON.__doc__"
   ]
  },
  {
   "cell_type": "code",
   "execution_count": 8,
   "id": "ca1d291d",
   "metadata": {},
   "outputs": [
    {
     "data": {
      "text/plain": [
       "type"
      ]
     },
     "execution_count": 8,
     "metadata": {},
     "output_type": "execute_result"
    }
   ],
   "source": [
    "FrozenJSON.__class__"
   ]
  },
  {
   "cell_type": "code",
   "execution_count": 9,
   "id": "98da8dfe",
   "metadata": {},
   "outputs": [
    {
     "data": {
      "text/plain": [
       "__main__.FrozenJSON"
      ]
     },
     "execution_count": 9,
     "metadata": {},
     "output_type": "execute_result"
    }
   ],
   "source": [
    "feed.__class__"
   ]
  },
  {
   "cell_type": "code",
   "execution_count": 11,
   "id": "16d69ed7",
   "metadata": {},
   "outputs": [
    {
     "data": {
      "text/plain": [
       "(__main__.FrozenJSON, object)"
      ]
     },
     "execution_count": 11,
     "metadata": {},
     "output_type": "execute_result"
    }
   ],
   "source": [
    "FrozenJSON.__mro__"
   ]
  },
  {
   "cell_type": "code",
   "execution_count": 12,
   "id": "7c9b622b",
   "metadata": {},
   "outputs": [
    {
     "data": {
      "text/plain": [
       "['__class__',\n",
       " '__delattr__',\n",
       " '__dir__',\n",
       " '__doc__',\n",
       " '__eq__',\n",
       " '__format__',\n",
       " '__ge__',\n",
       " '__getattribute__',\n",
       " '__gt__',\n",
       " '__hash__',\n",
       " '__init__',\n",
       " '__init_subclass__',\n",
       " '__le__',\n",
       " '__lt__',\n",
       " '__ne__',\n",
       " '__new__',\n",
       " '__reduce__',\n",
       " '__reduce_ex__',\n",
       " '__repr__',\n",
       " '__setattr__',\n",
       " '__sizeof__',\n",
       " '__str__',\n",
       " '__subclasshook__']"
      ]
     },
     "execution_count": 12,
     "metadata": {},
     "output_type": "execute_result"
    }
   ],
   "source": [
    "dir(object)"
   ]
  },
  {
   "cell_type": "code",
   "execution_count": 15,
   "id": "b17034f8",
   "metadata": {},
   "outputs": [
    {
     "data": {
      "text/plain": [
       "<function object.__new__(*args, **kwargs)>"
      ]
     },
     "execution_count": 15,
     "metadata": {},
     "output_type": "execute_result"
    }
   ],
   "source": [
    "object.__new__"
   ]
  },
  {
   "cell_type": "code",
   "execution_count": 13,
   "id": "55bb0022",
   "metadata": {},
   "outputs": [
    {
     "name": "stdout",
     "output_type": "stream",
     "text": [
      "Help on built-in function __new__:\n",
      "\n",
      "__new__(*args, **kwargs) method of builtins.type instance\n",
      "    Create and return a new object.  See help(type) for accurate signature.\n",
      "\n"
     ]
    }
   ],
   "source": [
    "help(object.__new__)"
   ]
  },
  {
   "cell_type": "code",
   "execution_count": 14,
   "id": "60e89b38",
   "metadata": {},
   "outputs": [
    {
     "name": "stdout",
     "output_type": "stream",
     "text": [
      "Help on class type in module builtins:\n",
      "\n",
      "class type(object)\n",
      " |  type(object_or_name, bases, dict)\n",
      " |  type(object) -> the object's type\n",
      " |  type(name, bases, dict) -> a new type\n",
      " |  \n",
      " |  Methods defined here:\n",
      " |  \n",
      " |  __call__(self, /, *args, **kwargs)\n",
      " |      Call self as a function.\n",
      " |  \n",
      " |  __delattr__(self, name, /)\n",
      " |      Implement delattr(self, name).\n",
      " |  \n",
      " |  __dir__(self, /)\n",
      " |      Specialized __dir__ implementation for types.\n",
      " |  \n",
      " |  __getattribute__(self, name, /)\n",
      " |      Return getattr(self, name).\n",
      " |  \n",
      " |  __init__(self, /, *args, **kwargs)\n",
      " |      Initialize self.  See help(type(self)) for accurate signature.\n",
      " |  \n",
      " |  __instancecheck__(self, instance, /)\n",
      " |      Check if an object is an instance.\n",
      " |  \n",
      " |  __repr__(self, /)\n",
      " |      Return repr(self).\n",
      " |  \n",
      " |  __setattr__(self, name, value, /)\n",
      " |      Implement setattr(self, name, value).\n",
      " |  \n",
      " |  __sizeof__(self, /)\n",
      " |      Return memory consumption of the type object.\n",
      " |  \n",
      " |  __subclasscheck__(self, subclass, /)\n",
      " |      Check if a class is a subclass.\n",
      " |  \n",
      " |  __subclasses__(self, /)\n",
      " |      Return a list of immediate subclasses.\n",
      " |  \n",
      " |  mro(self, /)\n",
      " |      Return a type's method resolution order.\n",
      " |  \n",
      " |  ----------------------------------------------------------------------\n",
      " |  Class methods defined here:\n",
      " |  \n",
      " |  __prepare__(...)\n",
      " |      __prepare__() -> dict\n",
      " |      used to create the namespace for the class statement\n",
      " |  \n",
      " |  ----------------------------------------------------------------------\n",
      " |  Static methods defined here:\n",
      " |  \n",
      " |  __new__(*args, **kwargs)\n",
      " |      Create and return a new object.  See help(type) for accurate signature.\n",
      " |  \n",
      " |  ----------------------------------------------------------------------\n",
      " |  Data descriptors defined here:\n",
      " |  \n",
      " |  __abstractmethods__\n",
      " |  \n",
      " |  __dict__\n",
      " |  \n",
      " |  __text_signature__\n",
      " |  \n",
      " |  ----------------------------------------------------------------------\n",
      " |  Data and other attributes defined here:\n",
      " |  \n",
      " |  __base__ = <class 'object'>\n",
      " |      The base class of the class hierarchy.\n",
      " |      \n",
      " |      When called, it accepts no arguments and returns a new featureless\n",
      " |      instance that has no instance attributes and cannot be given any.\n",
      " |  \n",
      " |  __bases__ = (<class 'object'>,)\n",
      " |  \n",
      " |  __basicsize__ = 880\n",
      " |  \n",
      " |  __dictoffset__ = 264\n",
      " |  \n",
      " |  __flags__ = 2148291584\n",
      " |  \n",
      " |  __itemsize__ = 40\n",
      " |  \n",
      " |  __mro__ = (<class 'type'>, <class 'object'>)\n",
      " |  \n",
      " |  __weakrefoffset__ = 368\n",
      "\n"
     ]
    }
   ],
   "source": [
    "help(type)"
   ]
  },
  {
   "cell_type": "code",
   "execution_count": 20,
   "id": "642d3d1f",
   "metadata": {},
   "outputs": [
    {
     "data": {
      "text/plain": [
       "dict_keys(['conferences', 'events', 'speakers', 'venues'])"
      ]
     },
     "execution_count": 20,
     "metadata": {},
     "output_type": "execute_result"
    }
   ],
   "source": [
    "raw_feed['Schedule'].keys()"
   ]
  },
  {
   "cell_type": "code",
   "execution_count": 21,
   "id": "84b010b1",
   "metadata": {},
   "outputs": [
    {
     "data": {
      "text/plain": [
       "{'serial': 33451,\n",
       " 'name': 'Migrating to the Web Using Dart and Polymer - A Guide for Legacy OOP Developers',\n",
       " 'event_type': '40-minute conference session',\n",
       " 'time_start': '2014-07-23 17:00:00',\n",
       " 'time_stop': '2014-07-23 17:40:00',\n",
       " 'venue_serial': 1458,\n",
       " 'description': 'The web development platform is massive. With tons of libraries, frameworks and concepts out there, it might be daunting for the &#x27;legacy&#x27; developer to jump into it.\\r\\n\\r\\nIn this presentation we will introduce Google Dart &amp; Polymer. Two hot technologies that work in harmony to create powerful web applications using concepts familiar to OOP developers.',\n",
       " 'website_url': 'http://oscon.com/oscon2014/public/schedule/detail/33451',\n",
       " 'speakers': [149868],\n",
       " 'categories': ['Emerging Languages']}"
      ]
     },
     "execution_count": 21,
     "metadata": {},
     "output_type": "execute_result"
    }
   ],
   "source": [
    "raw_feed['Schedule']['events'][0]"
   ]
  },
  {
   "cell_type": "code",
   "execution_count": 23,
   "id": "12084c88",
   "metadata": {},
   "outputs": [
    {
     "data": {
      "text/plain": [
       "{'serial': 149868,\n",
       " 'name': 'Faisal Abid',\n",
       " 'photo': 'http://cdn.oreillystatic.com/en/assets/1/eventprovider/1/_@user_149868.jpg',\n",
       " 'url': 'http://www.faisalabid.com/',\n",
       " 'position': 'Engineer &amp; Entrepreneur ',\n",
       " 'affiliation': 'Dynamatik, Inc.',\n",
       " 'twitter': 'FaisalAbid',\n",
       " 'bio': '<p>I am a software engineer, author, teacher and entrepreneur.</p>\\n<p>From the hardcore server-side and database challenges to the the front end issues, I love solving problems and strive to create software that can make a difference.</p>\\n<p>I&#8217;m an author published by Manning and O&#8217;Reilly and have also appeared in leading publications with my articles on ColdFusion and Flex.</p>\\n<p>In my free time I teach Android or Node.js at workshops around the word, speak at conferences such as <span class=\"caps\">OSCON</span>, CodeMotion, <span class=\"caps\">FITC</span> and AndroidTO.</p>\\n<p>Currently, I&#8217;m the founder of Dynamatik, a design and development agency in Toronto.</p>\\n<p>During the days I am a Software Engineer at Kobo working on OS and app level features for Android tablets.</p>'}"
      ]
     },
     "execution_count": 23,
     "metadata": {},
     "output_type": "execute_result"
    }
   ],
   "source": [
    "raw_feed['Schedule']['speakers'][0]"
   ]
  },
  {
   "cell_type": "code",
   "execution_count": 28,
   "id": "86807a2d",
   "metadata": {},
   "outputs": [
    {
     "data": {
      "text/plain": [
       "{'serial': 1458, 'name': 'D139/140', 'category': 'Conference Venues'}"
      ]
     },
     "execution_count": 28,
     "metadata": {},
     "output_type": "execute_result"
    }
   ],
   "source": [
    "raw_feed['Schedule']['venues'][8]"
   ]
  },
  {
   "cell_type": "code",
   "execution_count": 29,
   "id": "d4616187",
   "metadata": {},
   "outputs": [
    {
     "data": {
      "text/plain": [
       "'D139/140'"
      ]
     },
     "execution_count": 29,
     "metadata": {},
     "output_type": "execute_result"
    }
   ],
   "source": [
    "raw_feed['Schedule']['venues'][8]['name']"
   ]
  },
  {
   "cell_type": "code",
   "execution_count": 32,
   "id": "8486e32f",
   "metadata": {},
   "outputs": [],
   "source": [
    "\"\"\"\n",
    "schedule_v1.py: traversing OSCON schedule data\n",
    "\n",
    "# tag::SCHEDULE1_DEMO[]\n",
    "    >>> records = load(JSON_PATH)  # <1>\n",
    "    >>> speaker = records['speaker.3471']  # <2>\n",
    "    >>> speaker  # <3>\n",
    "    <Record serial=3471>\n",
    "    >>> speaker.name, speaker.twitter  # <4>\n",
    "    ('Anna Martelli Ravenscroft', 'annaraven')\n",
    "\n",
    "# end::SCHEDULE1_DEMO[]\n",
    "\n",
    "\"\"\"\n",
    "\n",
    "# tag::SCHEDULE1[]\n",
    "import json\n",
    "\n",
    "JSON_PATH = 'example-code-2e/22-dyn-attr-prop/oscon/data/osconfeed.json'\n",
    "\n",
    "class Record:\n",
    "    def __init__(self, **kwargs):\n",
    "        self.__dict__.update(kwargs)  # <1>\n",
    "\n",
    "    def __repr__(self):\n",
    "        return f'<{self.__class__.__name__} serial={self.serial!r}>'  # <2>\n",
    "\n",
    "def load(path=JSON_PATH):\n",
    "    records = {}  # <3>\n",
    "    with open(path) as fp:\n",
    "        raw_data = json.load(fp)  # <4>\n",
    "    for collection, raw_records in raw_data['Schedule'].items():  # <5>\n",
    "        record_type = collection[:-1]  # <6>\n",
    "        for raw_record in raw_records:\n",
    "            key = f'{record_type}.{raw_record[\"serial\"]}' # <7>\n",
    "            records[key] = Record(**raw_record)  # <8>\n",
    "    return records\n",
    "# end::SCHEDULE1[]\n"
   ]
  },
  {
   "cell_type": "code",
   "execution_count": 33,
   "id": "ea23c644",
   "metadata": {},
   "outputs": [
    {
     "data": {
      "text/plain": [
       "<Record serial=3471>"
      ]
     },
     "execution_count": 33,
     "metadata": {},
     "output_type": "execute_result"
    }
   ],
   "source": [
    "records = load(JSON_PATH)  # <1>\n",
    "speaker = records['speaker.3471']  # <2>\n",
    "speaker  # <3>"
   ]
  },
  {
   "cell_type": "code",
   "execution_count": 39,
   "id": "99f3ef45",
   "metadata": {},
   "outputs": [
    {
     "data": {
      "text/plain": [
       "dict"
      ]
     },
     "execution_count": 39,
     "metadata": {},
     "output_type": "execute_result"
    }
   ],
   "source": [
    "type(records)"
   ]
  },
  {
   "cell_type": "code",
   "execution_count": 52,
   "id": "46fcf929",
   "metadata": {},
   "outputs": [
    {
     "data": {
      "text/plain": [
       "<Record serial=33451>"
      ]
     },
     "execution_count": 52,
     "metadata": {},
     "output_type": "execute_result"
    }
   ],
   "source": [
    "list(records.values())[1]"
   ]
  },
  {
   "cell_type": "code",
   "execution_count": 53,
   "id": "e81a9bfd",
   "metadata": {},
   "outputs": [
    {
     "data": {
      "text/plain": [
       "'event.33451'"
      ]
     },
     "execution_count": 53,
     "metadata": {},
     "output_type": "execute_result"
    }
   ],
   "source": [
    "list(records.keys())[1]"
   ]
  },
  {
   "cell_type": "code",
   "execution_count": 58,
   "id": "60b8a6db",
   "metadata": {},
   "outputs": [
    {
     "data": {
      "text/plain": [
       "('conference.115', <Record serial=115>)"
      ]
     },
     "execution_count": 58,
     "metadata": {},
     "output_type": "execute_result"
    }
   ],
   "source": [
    "list(records.items())[0]"
   ]
  },
  {
   "cell_type": "code",
   "execution_count": 54,
   "id": "a65c9b38",
   "metadata": {},
   "outputs": [
    {
     "data": {
      "text/plain": [
       "('event.33451', <Record serial=33451>)"
      ]
     },
     "execution_count": 54,
     "metadata": {},
     "output_type": "execute_result"
    }
   ],
   "source": [
    "list(records.items())[1]"
   ]
  },
  {
   "cell_type": "code",
   "execution_count": 55,
   "id": "0e35e3f6",
   "metadata": {},
   "outputs": [
    {
     "data": {
      "text/plain": [
       "('venue.1578', <Record serial=1578>)"
      ]
     },
     "execution_count": 55,
     "metadata": {},
     "output_type": "execute_result"
    }
   ],
   "source": [
    "list(records.items())[-1]"
   ]
  },
  {
   "cell_type": "code",
   "execution_count": 57,
   "id": "00cf2241",
   "metadata": {},
   "outputs": [
    {
     "data": {
      "text/plain": [
       "('speaker.41059', <Record serial=41059>)"
      ]
     },
     "execution_count": 57,
     "metadata": {},
     "output_type": "execute_result"
    }
   ],
   "source": [
    "list(records.items())[-100]"
   ]
  },
  {
   "cell_type": "code",
   "execution_count": 36,
   "id": "8db5b67b",
   "metadata": {},
   "outputs": [
    {
     "name": "stdout",
     "output_type": "stream",
     "text": [
      "<Record serial=3471>\n"
     ]
    }
   ],
   "source": [
    "print(speaker)"
   ]
  },
  {
   "cell_type": "code",
   "execution_count": 34,
   "id": "77fad3db",
   "metadata": {},
   "outputs": [
    {
     "data": {
      "text/plain": [
       "('Anna Martelli Ravenscroft', 'annaraven')"
      ]
     },
     "execution_count": 34,
     "metadata": {},
     "output_type": "execute_result"
    }
   ],
   "source": [
    "speaker.name, speaker.twitter  # <4>"
   ]
  },
  {
   "cell_type": "code",
   "execution_count": 59,
   "id": "1b9e5419",
   "metadata": {},
   "outputs": [
    {
     "data": {
      "text/plain": [
       "'venue'"
      ]
     },
     "execution_count": 59,
     "metadata": {},
     "output_type": "execute_result"
    }
   ],
   "source": [
    "for collection, raw_records in raw_feed['Schedule'].items():  # <5>\n",
    "    record_type = collection[:-1]  # <6>\n",
    "record_type"
   ]
  },
  {
   "cell_type": "code",
   "execution_count": 66,
   "id": "5898e358",
   "metadata": {},
   "outputs": [
    {
     "data": {
      "text/plain": [
       "dict_keys(['conferences', 'events', 'speakers', 'venues'])"
      ]
     },
     "execution_count": 66,
     "metadata": {},
     "output_type": "execute_result"
    }
   ],
   "source": [
    "raw_feed['Schedule'].keys()"
   ]
  },
  {
   "cell_type": "code",
   "execution_count": 75,
   "id": "efe02030",
   "metadata": {},
   "outputs": [
    {
     "data": {
      "text/plain": [
       "'venues'"
      ]
     },
     "execution_count": 75,
     "metadata": {},
     "output_type": "execute_result"
    }
   ],
   "source": [
    "list(raw_feed['Schedule'].items())[-1][0]"
   ]
  },
  {
   "cell_type": "code",
   "execution_count": 73,
   "id": "7a046436",
   "metadata": {},
   "outputs": [
    {
     "data": {
      "text/plain": [
       "{'serial': 1448, 'name': 'Portland Ballroom', 'category': 'Conference Venues'}"
      ]
     },
     "execution_count": 73,
     "metadata": {},
     "output_type": "execute_result"
    }
   ],
   "source": [
    "list(raw_feed['Schedule'].items())[-1][1][0]"
   ]
  },
  {
   "cell_type": "code",
   "execution_count": 74,
   "id": "c689f97f",
   "metadata": {},
   "outputs": [
    {
     "data": {
      "text/plain": [
       "{'serial': 1449, 'name': 'Portland 251', 'category': 'Conference Venues'}"
      ]
     },
     "execution_count": 74,
     "metadata": {},
     "output_type": "execute_result"
    }
   ],
   "source": [
    "list(raw_feed['Schedule'].items())[-1][1][1]"
   ]
  },
  {
   "cell_type": "code",
   "execution_count": 84,
   "id": "b77a0862",
   "metadata": {},
   "outputs": [
    {
     "data": {
      "text/plain": [
       "{'serial': 1449, 'name': 'Portland 251', 'category': 'Conference Venues'}"
      ]
     },
     "execution_count": 84,
     "metadata": {},
     "output_type": "execute_result"
    }
   ],
   "source": [
    "{**list(raw_feed['Schedule'].items())[-1][1][1]}"
   ]
  },
  {
   "cell_type": "code",
   "execution_count": 76,
   "id": "fd7df42d",
   "metadata": {},
   "outputs": [
    {
     "data": {
      "text/plain": [
       "1449"
      ]
     },
     "execution_count": 76,
     "metadata": {},
     "output_type": "execute_result"
    }
   ],
   "source": [
    "list(raw_feed['Schedule'].items())[-1][1][1]['serial']"
   ]
  },
  {
   "cell_type": "code",
   "execution_count": 94,
   "id": "44c56620",
   "metadata": {},
   "outputs": [
    {
     "data": {
      "text/plain": [
       "{'serial': 3471,\n",
       " 'name': 'Anna Martelli Ravenscroft',\n",
       " 'photo': 'http://cdn.oreillystatic.com/en/assets/1/eventprovider/1/_@user_3471.jpg',\n",
       " 'url': 'http://www.google.com/profiles/annaraven',\n",
       " 'position': 'Urban Homesteader',\n",
       " 'affiliation': 'Self',\n",
       " 'twitter': 'annaraven',\n",
       " 'bio': '<p>Anna Martelli Ravenscroft has a background in training and mentoring. Her focus is on practical, real-world problem solving and the benefits of diversity and accessibility. Anna graduated in 2010 from Stanford University with a degree in Cognitive Science. She is a member of the Python Software Foundation, a program committee member for several open source conferences, winner of the 2013 <em>Frank Willison Award</em>, and co-edited the <em>Python Cookbook</em> 2nd edition. She has spoken at PyCon, EuroPython, <span class=\"caps\">OSCON</span>, and several regional Python conferences.</p>'}"
      ]
     },
     "execution_count": 94,
     "metadata": {},
     "output_type": "execute_result"
    }
   ],
   "source": [
    "speaker.__dict__"
   ]
  },
  {
   "cell_type": "code",
   "execution_count": 95,
   "id": "4fbde298",
   "metadata": {},
   "outputs": [
    {
     "name": "stdout",
     "output_type": "stream",
     "text": [
      "conferences\n",
      "events\n",
      "speakers\n",
      "venues\n"
     ]
    }
   ],
   "source": [
    "for collection, raw_records in raw_feed['Schedule'].items():\n",
    "    print(collection)"
   ]
  },
  {
   "cell_type": "code",
   "execution_count": 97,
   "id": "1f4ae237",
   "metadata": {},
   "outputs": [
    {
     "name": "stdout",
     "output_type": "stream",
     "text": [
      "conference\n",
      "event\n",
      "speaker\n",
      "venue\n"
     ]
    }
   ],
   "source": [
    "for collection, raw_records in raw_feed['Schedule'].items():\n",
    "    print(collection[:-1])"
   ]
  },
  {
   "cell_type": "code",
   "execution_count": 107,
   "id": "6f554f64",
   "metadata": {},
   "outputs": [],
   "source": [
    "\"\"\"\n",
    "schedule_v2.py: property to get venue linked to an event\n",
    "\n",
    "# tag::SCHEDULE2_DEMO[]\n",
    "    >>> event = Record.fetch('event.33950')  # <1>\n",
    "    >>> event  # <2>\n",
    "    <Event 'There *Will* Be Bugs'>\n",
    "    >>> event.venue  # <3>\n",
    "    <Record serial=1449>\n",
    "    >>> event.venue.name  # <4>\n",
    "    'Portland 251'\n",
    "    >>> event.venue_serial  # <5>\n",
    "    1449\n",
    "\n",
    "# end::SCHEDULE2_DEMO[]\n",
    "\"\"\"\n",
    "\n",
    "# tag::SCHEDULE2_RECORD[]\n",
    "import inspect  # <1>\n",
    "import json\n",
    "\n",
    "JSON_PATH = 'example-code-2e/22-dyn-attr-prop/oscon/data/osconfeed.json'\n",
    "\n",
    "class Record:\n",
    "\n",
    "    __index = None  # <2>\n",
    "\n",
    "    def __init__(self, **kwargs):\n",
    "        self.__dict__.update(kwargs)\n",
    "\n",
    "    def __repr__(self):\n",
    "        return f'<{self.__class__.__name__} serial={self.serial!r}>'\n",
    "\n",
    "    @staticmethod  # <3>\n",
    "    def fetch(key):\n",
    "        if Record.__index is None:  # <4>\n",
    "            Record.__index = load()\n",
    "        return Record.__index[key]  # <5>\n",
    "# end::SCHEDULE2_RECORD[]\n",
    "\n",
    "\n",
    "# tag::SCHEDULE2_EVENT[]\n",
    "class Event(Record):  # <1>\n",
    "\n",
    "    def __repr__(self):\n",
    "        try:\n",
    "            return f'<{self.__class__.__name__} {self.name!r}>'  # <2>\n",
    "        except AttributeError:\n",
    "            return super().__repr__()\n",
    "\n",
    "    @property\n",
    "    def venue(self):\n",
    "        key = f'venue.{self.venue_serial}'\n",
    "        return self.__class__.fetch(key)  # <3>\n",
    "# end::SCHEDULE2_EVENT[]\n",
    "\n",
    "# tag::SCHEDULE2_LOAD[]\n",
    "def load(path=JSON_PATH):\n",
    "    records = {}\n",
    "    with open(path) as fp:\n",
    "        raw_data = json.load(fp)\n",
    "    for collection, raw_records in raw_data['Schedule'].items():\n",
    "        record_type = collection[:-1]  # <1>\n",
    "        cls_name = record_type.capitalize()  # <2>\n",
    "        cls = globals().get(cls_name, Record)  # <3>\n",
    "        if inspect.isclass(cls) and issubclass(cls, Record):  # <4>\n",
    "            factory = cls  # <5>\n",
    "        else:\n",
    "            factory = Record  # <6>\n",
    "        for raw_record in raw_records:  # <7>\n",
    "            key = f'{record_type}.{raw_record[\"serial\"]}'\n",
    "            records[key] = factory(**raw_record)  # <8>\n",
    "    return records\n",
    "# end::SCHEDULE2_LOAD[]\n"
   ]
  },
  {
   "cell_type": "code",
   "execution_count": 108,
   "id": "01fee3e9",
   "metadata": {},
   "outputs": [
    {
     "data": {
      "text/plain": [
       "<Event 'There *Will* Be Bugs'>"
      ]
     },
     "execution_count": 108,
     "metadata": {},
     "output_type": "execute_result"
    }
   ],
   "source": [
    "event = Record.fetch('event.33950')  # <1>\n",
    "event  # <2>"
   ]
  },
  {
   "cell_type": "code",
   "execution_count": 110,
   "id": "aa3bfdc8",
   "metadata": {},
   "outputs": [
    {
     "data": {
      "text/plain": [
       "<Record serial=1449>"
      ]
     },
     "execution_count": 110,
     "metadata": {},
     "output_type": "execute_result"
    }
   ],
   "source": [
    "event.venue"
   ]
  },
  {
   "cell_type": "code",
   "execution_count": 109,
   "id": "2fd0ac5e",
   "metadata": {},
   "outputs": [
    {
     "data": {
      "text/plain": [
       "'Portland 251'"
      ]
     },
     "execution_count": 109,
     "metadata": {},
     "output_type": "execute_result"
    }
   ],
   "source": [
    "event.venue.name  # <4>"
   ]
  },
  {
   "cell_type": "code",
   "execution_count": 111,
   "id": "692901b9",
   "metadata": {},
   "outputs": [
    {
     "data": {
      "text/plain": [
       "1449"
      ]
     },
     "execution_count": 111,
     "metadata": {},
     "output_type": "execute_result"
    }
   ],
   "source": [
    "event.venue_serial  # <5>"
   ]
  },
  {
   "cell_type": "code",
   "execution_count": 117,
   "id": "64f2e28a",
   "metadata": {},
   "outputs": [
    {
     "data": {
      "text/plain": [
       "True"
      ]
     },
     "execution_count": 117,
     "metadata": {},
     "output_type": "execute_result"
    }
   ],
   "source": [
    "inspect.isclass(Record)"
   ]
  },
  {
   "cell_type": "code",
   "execution_count": 118,
   "id": "8657cab3",
   "metadata": {},
   "outputs": [
    {
     "data": {
      "text/plain": [
       "False"
      ]
     },
     "execution_count": 118,
     "metadata": {},
     "output_type": "execute_result"
    }
   ],
   "source": [
    "inspect.isclass(event)"
   ]
  },
  {
   "cell_type": "code",
   "execution_count": 119,
   "id": "ea198dc7",
   "metadata": {},
   "outputs": [
    {
     "data": {
      "text/plain": [
       "True"
      ]
     },
     "execution_count": 119,
     "metadata": {},
     "output_type": "execute_result"
    }
   ],
   "source": [
    "inspect.isclass(Event)"
   ]
  },
  {
   "cell_type": "code",
   "execution_count": 120,
   "id": "fd4d1a76",
   "metadata": {},
   "outputs": [
    {
     "data": {
      "text/plain": [
       "True"
      ]
     },
     "execution_count": 120,
     "metadata": {},
     "output_type": "execute_result"
    }
   ],
   "source": [
    "issubclass(Event, Record)"
   ]
  },
  {
   "cell_type": "code",
   "execution_count": 121,
   "id": "ab27993e",
   "metadata": {},
   "outputs": [
    {
     "data": {
      "text/plain": [
       "True"
      ]
     },
     "execution_count": 121,
     "metadata": {},
     "output_type": "execute_result"
    }
   ],
   "source": [
    "issubclass(Record, Record)"
   ]
  },
  {
   "cell_type": "code",
   "execution_count": 124,
   "id": "3b05059d",
   "metadata": {},
   "outputs": [],
   "source": [
    "\"\"\"\n",
    "schedule_v3.py: property to get list of event speakers\n",
    "\n",
    "    >>> event = Record.fetch('event.33950')\n",
    "    >>> event\n",
    "    <Event 'There *Will* Be Bugs'>\n",
    "    >>> event.venue\n",
    "    <Record serial=1449>\n",
    "    >>> event.venue_serial\n",
    "    1449\n",
    "    >>> event.venue.name\n",
    "    'Portland 251'\n",
    "\n",
    "# tag::SCHEDULE3_DEMO[]\n",
    "    >>> for spkr in event.speakers:\n",
    "    ...     print(f'{spkr.serial}: {spkr.name}')\n",
    "    3471: Anna Martelli Ravenscroft\n",
    "    5199: Alex Martelli\n",
    "\n",
    "# end::SCHEDULE3_DEMO[]\n",
    "\"\"\"\n",
    "\n",
    "import inspect\n",
    "import json\n",
    "\n",
    "JSON_PATH = 'example-code-2e/22-dyn-attr-prop/oscon/data/osconfeed.json'\n",
    "\n",
    "class Record:\n",
    "\n",
    "    __index = None\n",
    "\n",
    "    def __init__(self, **kwargs):\n",
    "        self.__dict__.update(kwargs)\n",
    "\n",
    "    def __repr__(self):\n",
    "        return f'<{self.__class__.__name__} serial={self.serial!r}>'\n",
    "\n",
    "    @staticmethod\n",
    "    def fetch(key):\n",
    "        if Record.__index is None:\n",
    "            Record.__index = load()\n",
    "        return Record.__index[key]\n",
    "\n",
    "\n",
    "class Event(Record):\n",
    "\n",
    "    def __repr__(self):\n",
    "        try:\n",
    "            return f'<{self.__class__.__name__} {self.name!r}>'\n",
    "        except AttributeError:\n",
    "            return super().__repr__()\n",
    "\n",
    "    @property\n",
    "    def venue(self):\n",
    "        key = f'venue.{self.venue_serial}'\n",
    "        return self.__class__.fetch(key)\n",
    "\n",
    "# tag::SCHEDULE3_SPEAKERS[]\n",
    "    @property\n",
    "    def speakers(self):\n",
    "        spkr_serials = self.__dict__['speakers']  # <1>\n",
    "        fetch = self.__class__.fetch\n",
    "        return [fetch(f'speaker.{key}')\n",
    "                for key in spkr_serials]  # <2>\n",
    "\n",
    "# end::SCHEDULE3_SPEAKERS[]\n",
    "\n",
    "\n",
    "def load(path=JSON_PATH):\n",
    "    records = {}\n",
    "    with open(path) as fp:\n",
    "        raw_data = json.load(fp)\n",
    "    for collection, raw_records in raw_data['Schedule'].items():\n",
    "        record_type = collection[:-1]\n",
    "        cls_name = record_type.capitalize()\n",
    "        cls = globals().get(cls_name, Record)\n",
    "        if inspect.isclass(cls) and issubclass(cls, Record):\n",
    "            factory = cls\n",
    "        else:\n",
    "            factory = Record\n",
    "        for raw_record in raw_records:\n",
    "            key = f'{record_type}.{raw_record[\"serial\"]}'\n",
    "            records[key] = factory(**raw_record)\n",
    "    return records\n"
   ]
  },
  {
   "cell_type": "code",
   "execution_count": 125,
   "id": "18cbd097",
   "metadata": {},
   "outputs": [
    {
     "data": {
      "text/plain": [
       "<Event 'There *Will* Be Bugs'>"
      ]
     },
     "execution_count": 125,
     "metadata": {},
     "output_type": "execute_result"
    }
   ],
   "source": [
    "event = Record.fetch('event.33950')\n",
    "event"
   ]
  },
  {
   "cell_type": "code",
   "execution_count": 126,
   "id": "65a18819",
   "metadata": {},
   "outputs": [
    {
     "data": {
      "text/plain": [
       "<Record serial=1449>"
      ]
     },
     "execution_count": 126,
     "metadata": {},
     "output_type": "execute_result"
    }
   ],
   "source": [
    "event.venue"
   ]
  },
  {
   "cell_type": "code",
   "execution_count": 127,
   "id": "64a2234c",
   "metadata": {},
   "outputs": [
    {
     "data": {
      "text/plain": [
       "1449"
      ]
     },
     "execution_count": 127,
     "metadata": {},
     "output_type": "execute_result"
    }
   ],
   "source": [
    "event.venue_serial"
   ]
  },
  {
   "cell_type": "code",
   "execution_count": 128,
   "id": "ce10b1c5",
   "metadata": {},
   "outputs": [
    {
     "data": {
      "text/plain": [
       "'Portland 251'"
      ]
     },
     "execution_count": 128,
     "metadata": {},
     "output_type": "execute_result"
    }
   ],
   "source": [
    "event.venue.name"
   ]
  },
  {
   "cell_type": "code",
   "execution_count": 129,
   "id": "569d663d",
   "metadata": {},
   "outputs": [
    {
     "data": {
      "text/plain": [
       "[<Record serial=3471>, <Record serial=5199>]"
      ]
     },
     "execution_count": 129,
     "metadata": {},
     "output_type": "execute_result"
    }
   ],
   "source": [
    "event.speakers"
   ]
  },
  {
   "cell_type": "code",
   "execution_count": 130,
   "id": "c1780bb2",
   "metadata": {},
   "outputs": [
    {
     "name": "stdout",
     "output_type": "stream",
     "text": [
      "3471: Anna Martelli Ravenscroft\n",
      "5199: Alex Martelli\n"
     ]
    }
   ],
   "source": [
    "for spkr in event.speakers:\n",
    "    print(f'{spkr.serial}: {spkr.name}')"
   ]
  },
  {
   "cell_type": "code",
   "execution_count": 131,
   "id": "5c52a1a6",
   "metadata": {},
   "outputs": [],
   "source": [
    "\"\"\"\n",
    "schedule_v4.py: homegrown cached property for speakers\n",
    "\n",
    "    >>> event = Record.fetch('event.33950')\n",
    "\n",
    "# tag::SCHEDULE4_DEMO[]\n",
    "    >>> event  # <1>\n",
    "    <Event 'There *Will* Be Bugs'>\n",
    "    >>> event.venue  # <2>\n",
    "    <Record serial=1449>\n",
    "    >>> event.venue.name  # <3>\n",
    "    'Portland 251'\n",
    "    >>> for spkr in event.speakers:  # <4>\n",
    "    ...     print(f'{spkr.serial}: {spkr.name}')\n",
    "    3471: Anna Martelli Ravenscroft\n",
    "    5199: Alex Martelli\n",
    "\n",
    "# end::SCHEDULE4_DEMO[]\n",
    "\"\"\"\n",
    "\n",
    "import inspect\n",
    "import json\n",
    "\n",
    "JSON_PATH = 'example-code-2e/22-dyn-attr-prop/oscon/data/osconfeed.json'\n",
    "\n",
    "class Record:\n",
    "\n",
    "    __index = None\n",
    "\n",
    "    def __init__(self, **kwargs):\n",
    "        self.__dict__.update(kwargs)\n",
    "\n",
    "    def __repr__(self):\n",
    "        return f'<{self.__class__.__name__} serial={self.serial!r}>'\n",
    "\n",
    "    @staticmethod\n",
    "    def fetch(key):\n",
    "        if Record.__index is None:\n",
    "            Record.__index = load()\n",
    "        return Record.__index[key]\n",
    "\n",
    "\n",
    "class Event(Record):\n",
    "\n",
    "    def __repr__(self):\n",
    "        try:\n",
    "            return f'<{self.__class__.__name__} {self.name!r}>'\n",
    "        except AttributeError:\n",
    "            return super().__repr__()\n",
    "\n",
    "    @property\n",
    "    def venue(self):\n",
    "        key = f'venue.{self.venue_serial}'\n",
    "        return self.__class__.fetch(key)\n",
    "\n",
    "# tag::SCHEDULE4_HASATTR_CACHE[]\n",
    "    @property\n",
    "    def speakers(self):\n",
    "        if not hasattr(self, '__speaker_objs'):  # <1>\n",
    "            spkr_serials = self.__dict__['speakers']\n",
    "            fetch = self.__class__.fetch\n",
    "            self.__speaker_objs = [fetch(f'speaker.{key}')\n",
    "                    for key in spkr_serials]\n",
    "        return self.__speaker_objs  # <2>\n",
    "\n",
    "# end::SCHEDULE4_HASATTR_CACHE[]\n",
    "\n",
    "\n",
    "def load(path=JSON_PATH):\n",
    "    records = {}\n",
    "    with open(path) as fp:\n",
    "        raw_data = json.load(fp)\n",
    "    for collection, raw_records in raw_data['Schedule'].items():\n",
    "        record_type = collection[:-1]\n",
    "        cls_name = record_type.capitalize()\n",
    "        cls = globals().get(cls_name, Record)\n",
    "        if inspect.isclass(cls) and issubclass(cls, Record):\n",
    "            factory = cls\n",
    "        else:\n",
    "            factory = Record\n",
    "        for raw_record in raw_records:\n",
    "            key = f'{record_type}.{raw_record[\"serial\"]}'\n",
    "            records[key] = factory(**raw_record)\n",
    "    return records\n"
   ]
  },
  {
   "cell_type": "code",
   "execution_count": 132,
   "id": "4463aa85",
   "metadata": {},
   "outputs": [
    {
     "data": {
      "text/plain": [
       "<Event 'There *Will* Be Bugs'>"
      ]
     },
     "execution_count": 132,
     "metadata": {},
     "output_type": "execute_result"
    }
   ],
   "source": [
    "event = Record.fetch('event.33950')\n",
    "event"
   ]
  },
  {
   "cell_type": "code",
   "execution_count": 133,
   "id": "bcf300ca",
   "metadata": {},
   "outputs": [
    {
     "data": {
      "text/plain": [
       "<Record serial=1449>"
      ]
     },
     "execution_count": 133,
     "metadata": {},
     "output_type": "execute_result"
    }
   ],
   "source": [
    "event.venue"
   ]
  },
  {
   "cell_type": "code",
   "execution_count": 134,
   "id": "8c4133c0",
   "metadata": {},
   "outputs": [
    {
     "data": {
      "text/plain": [
       "1449"
      ]
     },
     "execution_count": 134,
     "metadata": {},
     "output_type": "execute_result"
    }
   ],
   "source": [
    "event.venue_serial"
   ]
  },
  {
   "cell_type": "code",
   "execution_count": 135,
   "id": "dc2ca1a2",
   "metadata": {},
   "outputs": [
    {
     "data": {
      "text/plain": [
       "'Portland 251'"
      ]
     },
     "execution_count": 135,
     "metadata": {},
     "output_type": "execute_result"
    }
   ],
   "source": [
    "event.venue.name"
   ]
  },
  {
   "cell_type": "code",
   "execution_count": 136,
   "id": "d6013812",
   "metadata": {},
   "outputs": [
    {
     "data": {
      "text/plain": [
       "[<Record serial=3471>, <Record serial=5199>]"
      ]
     },
     "execution_count": 136,
     "metadata": {},
     "output_type": "execute_result"
    }
   ],
   "source": [
    "event.speakers"
   ]
  },
  {
   "cell_type": "code",
   "execution_count": 137,
   "id": "8c64973f",
   "metadata": {},
   "outputs": [
    {
     "name": "stdout",
     "output_type": "stream",
     "text": [
      "3471: Anna Martelli Ravenscroft\n",
      "5199: Alex Martelli\n"
     ]
    }
   ],
   "source": [
    "for spkr in event.speakers:\n",
    "    print(f'{spkr.serial}: {spkr.name}')"
   ]
  },
  {
   "cell_type": "code",
   "execution_count": 139,
   "id": "45839561",
   "metadata": {},
   "outputs": [],
   "source": [
    "\"\"\"\n",
    "schedule_v4.py: homegrown cached property for speakers\n",
    "\n",
    "    >>> event = Record.fetch('event.33950')\n",
    "\n",
    "# tag::SCHEDULE4_DEMO[]\n",
    "    >>> event  # <1>\n",
    "    <Event 'There *Will* Be Bugs'>\n",
    "    >>> event.venue  # <2>\n",
    "    <Record serial=1449>\n",
    "    >>> event.venue.name  # <3>\n",
    "    'Portland 251'\n",
    "    >>> for spkr in event.speakers:  # <4>\n",
    "    ...     print(f'{spkr.serial}: {spkr.name}')\n",
    "    ...\n",
    "    3471: Anna Martelli Ravenscroft\n",
    "    5199: Alex Martelli\n",
    "\n",
    "# end::SCHEDULE4_DEMO[]\n",
    "\"\"\"\n",
    "\n",
    "import json\n",
    "import inspect\n",
    "\n",
    "JSON_PATH = 'example-code-2e/22-dyn-attr-prop/oscon/data/osconfeed.json'\n",
    "\n",
    "class Record:\n",
    "\n",
    "    __index = None\n",
    "\n",
    "    def __init__(self, **kwargs):\n",
    "        self.__dict__.update(kwargs)\n",
    "\n",
    "    def __repr__(self):\n",
    "        return f'<{self.__class__.__name__} serial={self.serial!r}>'\n",
    "\n",
    "    @staticmethod\n",
    "    def fetch(key):\n",
    "        if Record.__index is None:\n",
    "            Record.__index = load()\n",
    "        return Record.__index[key]\n",
    "\n",
    "\n",
    "# tag::SCHEDULE4_INIT[]\n",
    "class Event(Record):\n",
    "\n",
    "    def __init__(self, **kwargs):\n",
    "        self.__speaker_objs = None\n",
    "        super().__init__(**kwargs)\n",
    "\n",
    "# end::SCHEDULE4_INIT[]\n",
    "\n",
    "    def __repr__(self):\n",
    "        try:\n",
    "            return f'<{self.__class__.__name__} {self.name!r}>'\n",
    "        except AttributeError:\n",
    "            return super().__repr__()\n",
    "\n",
    "    @property\n",
    "    def venue(self):\n",
    "        key = f'venue.{self.venue_serial}'\n",
    "        return self.__class__.fetch(key)\n",
    "\n",
    "# tag::SCHEDULE4_CACHE[]\n",
    "    @property\n",
    "    def speakers(self):\n",
    "        if self.__speaker_objs is None:\n",
    "            spkr_serials = self.__dict__['speakers']\n",
    "            fetch = self.__class__.fetch\n",
    "            self.__speaker_objs = [fetch(f'speaker.{key}')\n",
    "                    for key in spkr_serials]\n",
    "        return self.__speaker_objs\n",
    "\n",
    "# end::SCHEDULE4_CACHE[]\n",
    "\n",
    "\n",
    "def load(path=JSON_PATH):\n",
    "    records = {}\n",
    "    with open(path) as fp:\n",
    "        raw_data = json.load(fp)\n",
    "    for collection, raw_records in raw_data['Schedule'].items():\n",
    "        record_type = collection[:-1]\n",
    "        cls_name = record_type.capitalize()\n",
    "        cls = globals().get(cls_name, Record)\n",
    "        if inspect.isclass(cls) and issubclass(cls, Record):\n",
    "            factory = cls\n",
    "        else:\n",
    "            factory = Record\n",
    "        for raw_record in raw_records:\n",
    "            key = f'{record_type}.{raw_record[\"serial\"]}'\n",
    "            records[key] = factory(**raw_record)\n",
    "    return records\n"
   ]
  },
  {
   "cell_type": "code",
   "execution_count": 140,
   "id": "3e267c62",
   "metadata": {},
   "outputs": [
    {
     "data": {
      "text/plain": [
       "<Event 'There *Will* Be Bugs'>"
      ]
     },
     "execution_count": 140,
     "metadata": {},
     "output_type": "execute_result"
    }
   ],
   "source": [
    "event = Record.fetch('event.33950')\n",
    "event"
   ]
  },
  {
   "cell_type": "code",
   "execution_count": 141,
   "id": "bda50b2a",
   "metadata": {},
   "outputs": [
    {
     "data": {
      "text/plain": [
       "<Record serial=1449>"
      ]
     },
     "execution_count": 141,
     "metadata": {},
     "output_type": "execute_result"
    }
   ],
   "source": [
    "event.venue"
   ]
  },
  {
   "cell_type": "code",
   "execution_count": 142,
   "id": "f6d589ca",
   "metadata": {},
   "outputs": [
    {
     "data": {
      "text/plain": [
       "1449"
      ]
     },
     "execution_count": 142,
     "metadata": {},
     "output_type": "execute_result"
    }
   ],
   "source": [
    "event.venue_serial"
   ]
  },
  {
   "cell_type": "code",
   "execution_count": 143,
   "id": "2fd87099",
   "metadata": {},
   "outputs": [
    {
     "data": {
      "text/plain": [
       "'Portland 251'"
      ]
     },
     "execution_count": 143,
     "metadata": {},
     "output_type": "execute_result"
    }
   ],
   "source": [
    "event.venue.name"
   ]
  },
  {
   "cell_type": "code",
   "execution_count": 144,
   "id": "9e5f3ffe",
   "metadata": {},
   "outputs": [
    {
     "data": {
      "text/plain": [
       "[<Record serial=3471>, <Record serial=5199>]"
      ]
     },
     "execution_count": 144,
     "metadata": {},
     "output_type": "execute_result"
    }
   ],
   "source": [
    "event.speakers"
   ]
  },
  {
   "cell_type": "code",
   "execution_count": 145,
   "id": "378a0cc3",
   "metadata": {},
   "outputs": [
    {
     "name": "stdout",
     "output_type": "stream",
     "text": [
      "3471: Anna Martelli Ravenscroft\n",
      "5199: Alex Martelli\n"
     ]
    }
   ],
   "source": [
    "for spkr in event.speakers:\n",
    "    print(f'{spkr.serial}: {spkr.name}')"
   ]
  },
  {
   "cell_type": "code",
   "execution_count": 148,
   "id": "c04940a3",
   "metadata": {},
   "outputs": [],
   "source": [
    "\"\"\"\n",
    "schedule_v5.py: cached properties using functools\n",
    "\n",
    "    >>> event = Record.fetch('event.33950')\n",
    "    >>> event\n",
    "    <Event 'There *Will* Be Bugs'>\n",
    "    >>> event.venue\n",
    "    <Record serial=1449>\n",
    "    >>> event.venue_serial\n",
    "    1449\n",
    "    >>> event.venue.name\n",
    "    'Portland 251'\n",
    "\n",
    "# tag::SCHEDULE3_DEMO[]\n",
    "    >>> for spkr in event.speakers:  # <3>\n",
    "    ...     print(f'{spkr.serial}: {spkr.name}')\n",
    "    ...\n",
    "    3471: Anna Martelli Ravenscroft\n",
    "    5199: Alex Martelli\n",
    "\n",
    "# end::SCHEDULE3_DEMO[]\n",
    "\"\"\"\n",
    "\n",
    "import json\n",
    "import inspect\n",
    "\n",
    "from functools import cached_property, lru_cache\n",
    "\n",
    "JSON_PATH = 'example-code-2e/22-dyn-attr-prop/oscon/data/osconfeed.json'\n",
    "\n",
    "class Record:\n",
    "\n",
    "    __index = None\n",
    "\n",
    "    def __init__(self, **kwargs):\n",
    "        self.__dict__.update(kwargs)\n",
    "\n",
    "    def __repr__(self):\n",
    "        return f'<{self.__class__.__name__} serial={self.serial!r}>'\n",
    "\n",
    "    @staticmethod\n",
    "    def fetch(key):\n",
    "        if Record.__index is None:\n",
    "            Record.__index = load()\n",
    "        return Record.__index[key]\n",
    "\n",
    "\n",
    "class Event(Record):\n",
    "\n",
    "    def __repr__(self):\n",
    "        try:\n",
    "            return f'<{self.__class__.__name__} {self.name!r}>'\n",
    "        except AttributeError:\n",
    "            return super().__repr__()\n",
    "\n",
    "# tag::SCHEDULE5_CACHED_PROPERTY[]\n",
    "    @cached_property\n",
    "    def venue(self):\n",
    "        key = f'venue.{self.venue_serial}'\n",
    "        return self.__class__.fetch(key)\n",
    "# end::SCHEDULE5_CACHED_PROPERTY[]\n",
    "# tag::SCHEDULE5_PROPERTY_OVER_CACHE[]\n",
    "    @property  # <1>\n",
    "    @lru_cache(maxsize=None)  # <2>\n",
    "    def speakers(self):\n",
    "        spkr_serials = self.__dict__['speakers']\n",
    "        fetch = self.__class__.fetch\n",
    "        return [fetch(f'speaker.{key}')\n",
    "                for key in spkr_serials]\n",
    "# end::SCHEDULE5_PROPERTY_OVER_CACHE[]\n",
    "\n",
    "def load(path=JSON_PATH):\n",
    "    records = {}\n",
    "    with open(path) as fp:\n",
    "        raw_data = json.load(fp)\n",
    "    for collection, raw_records in raw_data['Schedule'].items():\n",
    "        record_type = collection[:-1]\n",
    "        cls_name = record_type.capitalize()\n",
    "        cls = globals().get(cls_name, Record)\n",
    "        if inspect.isclass(cls) and issubclass(cls, Record):\n",
    "            factory = cls\n",
    "        else:\n",
    "            factory = Record\n",
    "        for raw_record in raw_records:\n",
    "            key = f'{record_type}.{raw_record[\"serial\"]}'\n",
    "            records[key] = factory(**raw_record)\n",
    "    return records\n"
   ]
  },
  {
   "cell_type": "code",
   "execution_count": 149,
   "id": "5af41dd7",
   "metadata": {},
   "outputs": [],
   "source": [
    "class Parrot:\n",
    "    def __init__(self):\n",
    "        self._voltage = 100000\n",
    "\n",
    "    @property\n",
    "    def voltage(self):\n",
    "        \"\"\"Get the current voltage.\"\"\"\n",
    "        return self._voltage"
   ]
  },
  {
   "cell_type": "code",
   "execution_count": 152,
   "id": "8767b526",
   "metadata": {},
   "outputs": [
    {
     "data": {
      "text/plain": [
       "100000"
      ]
     },
     "execution_count": 152,
     "metadata": {},
     "output_type": "execute_result"
    }
   ],
   "source": [
    "Parrot().voltage"
   ]
  },
  {
   "cell_type": "code",
   "execution_count": 153,
   "id": "ed3c94c8",
   "metadata": {},
   "outputs": [
    {
     "data": {
      "text/plain": [
       "100000"
      ]
     },
     "execution_count": 153,
     "metadata": {},
     "output_type": "execute_result"
    }
   ],
   "source": [
    "myParrot = Parrot()\n",
    "myParrot.voltage"
   ]
  },
  {
   "cell_type": "code",
   "execution_count": 155,
   "id": "ce5be217",
   "metadata": {},
   "outputs": [],
   "source": [
    "class C:\n",
    "    def __init__(self):\n",
    "        self._x = None\n",
    "\n",
    "    @property\n",
    "    def x(self):\n",
    "        \"\"\"I'm the 'x' property.\"\"\"\n",
    "        return self._x\n",
    "\n",
    "    @x.setter\n",
    "    def x(self, value):\n",
    "        self._x = value\n",
    "\n",
    "    @x.deleter\n",
    "    def x(self):\n",
    "        del self._x"
   ]
  },
  {
   "cell_type": "code",
   "execution_count": 163,
   "id": "fd72ac3f",
   "metadata": {},
   "outputs": [
    {
     "data": {
      "text/plain": [
       "10"
      ]
     },
     "execution_count": 163,
     "metadata": {},
     "output_type": "execute_result"
    }
   ],
   "source": [
    "c = C()\n",
    "c.x = 10\n",
    "c.x"
   ]
  },
  {
   "cell_type": "code",
   "execution_count": 164,
   "id": "5ff8f84c",
   "metadata": {},
   "outputs": [],
   "source": [
    "\"\"\"\n",
    "A line item for a bulk food order has description, weight and price fields.\n",
    "A ``subtotal`` method gives the total price for that line item::\n",
    "\n",
    "    >>> raisins = LineItem('Golden raisins', 10, 6.95)\n",
    "    >>> raisins.weight, raisins.description, raisins.price\n",
    "    (10, 'Golden raisins', 6.95)\n",
    "    >>> raisins.subtotal()\n",
    "    69.5\n",
    "\n",
    "But, without validation, these public attributes can cause trouble::\n",
    "\n",
    "# tag::LINEITEM_PROBLEM_V1[]\n",
    "\n",
    "    >>> raisins = LineItem('Golden raisins', 10, 6.95)\n",
    "    >>> raisins.subtotal()\n",
    "    69.5\n",
    "    >>> raisins.weight = -20  # garbage in...\n",
    "    >>> raisins.subtotal()    # garbage out...\n",
    "    -139.0\n",
    "\n",
    "# end::LINEITEM_PROBLEM_V1[]\n",
    "\n",
    "\"\"\"\n",
    "\n",
    "\n",
    "# tag::LINEITEM_V1[]\n",
    "class LineItem:\n",
    "\n",
    "    def __init__(self, description, weight, price):\n",
    "        self.description = description\n",
    "        self.weight = weight\n",
    "        self.price = price\n",
    "\n",
    "    def subtotal(self):\n",
    "        return self.weight * self.price\n",
    "# end::LINEITEM_V1[]\n"
   ]
  },
  {
   "cell_type": "code",
   "execution_count": 165,
   "id": "f5d6661b",
   "metadata": {},
   "outputs": [
    {
     "data": {
      "text/plain": [
       "(10, 'Golden raisins', 6.95)"
      ]
     },
     "execution_count": 165,
     "metadata": {},
     "output_type": "execute_result"
    }
   ],
   "source": [
    "raisins = LineItem('Golden raisins', 10, 6.95)\n",
    "raisins.weight, raisins.description, raisins.price"
   ]
  },
  {
   "cell_type": "code",
   "execution_count": 166,
   "id": "6cb24b43",
   "metadata": {},
   "outputs": [
    {
     "data": {
      "text/plain": [
       "69.5"
      ]
     },
     "execution_count": 166,
     "metadata": {},
     "output_type": "execute_result"
    }
   ],
   "source": [
    "raisins.subtotal()"
   ]
  },
  {
   "cell_type": "code",
   "execution_count": 168,
   "id": "51e2f157",
   "metadata": {},
   "outputs": [
    {
     "data": {
      "text/plain": [
       "-139.0"
      ]
     },
     "execution_count": 168,
     "metadata": {},
     "output_type": "execute_result"
    }
   ],
   "source": [
    "raisins.weight = -20  # garbage in...\n",
    "raisins.subtotal()    # garbage out..."
   ]
  },
  {
   "cell_type": "code",
   "execution_count": 169,
   "id": "9060c56e",
   "metadata": {},
   "outputs": [],
   "source": [
    "\"\"\"\n",
    "\n",
    "A line item for a bulk food order has description, weight and price fields::\n",
    "\n",
    "    >>> raisins = LineItem('Golden raisins', 10, 6.95)\n",
    "    >>> raisins.weight, raisins.description, raisins.price\n",
    "    (10, 'Golden raisins', 6.95)\n",
    "\n",
    "A ``subtotal`` method gives the total price for that line item::\n",
    "\n",
    "    >>> raisins.subtotal()\n",
    "    69.5\n",
    "\n",
    "The weight of a ``LineItem`` must be greater than 0::\n",
    "\n",
    "    >>> raisins.weight = -20\n",
    "    Traceback (most recent call last):\n",
    "        ...\n",
    "    ValueError: value must be > 0\n",
    "\n",
    "No change was made::\n",
    "\n",
    "    >>> raisins.weight\n",
    "    10\n",
    "\n",
    "The check is also performed on instantiation::\n",
    "\n",
    "    >>> walnuts = LineItem('walnuts', 0, 10.00)\n",
    "    Traceback (most recent call last):\n",
    "        ...\n",
    "    ValueError: value must be > 0\n",
    "\n",
    "The proteced attribute can still be accessed if needed for some reason, such as\n",
    "white box testing)::\n",
    "\n",
    "    >>> raisins._LineItem__weight\n",
    "    10\n",
    "\n",
    "\"\"\"\n",
    "\n",
    "\n",
    "# tag::LINEITEM_V2[]\n",
    "class LineItem:\n",
    "\n",
    "    def __init__(self, description, weight, price):\n",
    "        self.description = description\n",
    "        self.weight = weight  # <1>\n",
    "        self.price = price\n",
    "\n",
    "    def subtotal(self):\n",
    "        return self.weight * self.price\n",
    "\n",
    "    @property  # <2>\n",
    "    def weight(self):  # <3>\n",
    "        return self.__weight  # <4>\n",
    "\n",
    "    @weight.setter  # <5>\n",
    "    def weight(self, value):\n",
    "        if value > 0:\n",
    "            self.__weight = value  # <6>\n",
    "        else:\n",
    "            raise ValueError('value must be > 0')  # <7>\n",
    "# end::LINEITEM_V2[]\n"
   ]
  },
  {
   "cell_type": "code",
   "execution_count": 170,
   "id": "2116285c",
   "metadata": {},
   "outputs": [
    {
     "data": {
      "text/plain": [
       "(10, 'Golden raisins', 6.95)"
      ]
     },
     "execution_count": 170,
     "metadata": {},
     "output_type": "execute_result"
    }
   ],
   "source": [
    "raisins = LineItem('Golden raisins', 10, 6.95)\n",
    "raisins.weight, raisins.description, raisins.price"
   ]
  },
  {
   "cell_type": "code",
   "execution_count": 171,
   "id": "4a997c03",
   "metadata": {},
   "outputs": [
    {
     "data": {
      "text/plain": [
       "69.5"
      ]
     },
     "execution_count": 171,
     "metadata": {},
     "output_type": "execute_result"
    }
   ],
   "source": [
    "raisins.subtotal()"
   ]
  },
  {
   "cell_type": "code",
   "execution_count": 174,
   "id": "7d44b8d5",
   "metadata": {},
   "outputs": [
    {
     "data": {
      "text/plain": [
       "1390.0"
      ]
     },
     "execution_count": 174,
     "metadata": {},
     "output_type": "execute_result"
    }
   ],
   "source": [
    "raisins.weight = 200  # garbage in...\n",
    "raisins.subtotal()    # garbage out..."
   ]
  },
  {
   "cell_type": "code",
   "execution_count": 173,
   "id": "1076a704",
   "metadata": {},
   "outputs": [
    {
     "data": {
      "text/plain": [
       "10"
      ]
     },
     "execution_count": 173,
     "metadata": {},
     "output_type": "execute_result"
    }
   ],
   "source": [
    "raisins._LineItem__weight"
   ]
  },
  {
   "cell_type": "code",
   "execution_count": 181,
   "id": "c27f439f",
   "metadata": {},
   "outputs": [
    {
     "data": {
      "text/plain": [
       "200"
      ]
     },
     "execution_count": 181,
     "metadata": {},
     "output_type": "execute_result"
    }
   ],
   "source": [
    "raisins.weight"
   ]
  },
  {
   "cell_type": "code",
   "execution_count": 178,
   "id": "ecfaa5a4",
   "metadata": {},
   "outputs": [
    {
     "data": {
      "text/plain": [
       "200"
      ]
     },
     "execution_count": 178,
     "metadata": {},
     "output_type": "execute_result"
    }
   ],
   "source": [
    "raisins._LineItem__weight"
   ]
  },
  {
   "cell_type": "code",
   "execution_count": 184,
   "id": "45cbbdbf",
   "metadata": {},
   "outputs": [],
   "source": [
    "\"\"\"\n",
    "\n",
    "A line item for a bulk food order has description, weight and price fields::\n",
    "\n",
    "    >>> raisins = LineItem('Golden raisins', 10, 6.95)\n",
    "    >>> raisins.weight, raisins.description, raisins.price\n",
    "    (10, 'Golden raisins', 6.95)\n",
    "\n",
    "A ``subtotal`` method gives the total price for that line item::\n",
    "\n",
    "    >>> raisins.subtotal()\n",
    "    69.5\n",
    "\n",
    "The weight of a ``LineItem`` must be greater than 0::\n",
    "\n",
    "    >>> raisins.weight = -20\n",
    "    Traceback (most recent call last):\n",
    "        ...\n",
    "    ValueError: value must be > 0\n",
    "\n",
    "No change was made::\n",
    "\n",
    "    >>> raisins.weight\n",
    "    10\n",
    "\n",
    "The check is also performed on instantiation::\n",
    "\n",
    "    >>> walnuts = LineItem('walnuts', 0, 10.00)\n",
    "    Traceback (most recent call last):\n",
    "        ...\n",
    "    ValueError: value must be > 0\n",
    "\n",
    "The proteced attribute can still be accessed if needed for some reason, such as\n",
    "white box testing)::\n",
    "\n",
    "    >>> raisins._LineItem__weight\n",
    "    10\n",
    "\n",
    "\"\"\"\n",
    "\n",
    "\n",
    "# tag::LINEITEM_V2B[]\n",
    "class LineItem:\n",
    "\n",
    "    def __init__(self, description, weight, price):\n",
    "        self.description = description\n",
    "        self.weight = weight\n",
    "        self.price = price\n",
    "\n",
    "    def subtotal(self):\n",
    "        return self.weight * self.price\n",
    "\n",
    "    def get_weight(self):  # <1>\n",
    "        return self.__weight\n",
    "\n",
    "    def set_weight(self, value):  # <2>\n",
    "        if value > 0:\n",
    "            self.__weight = value\n",
    "        else:\n",
    "            raise ValueError('value must be > 0')\n",
    "\n",
    "    weight = property(get_weight, set_weight)  # <3>\n",
    "\n",
    "# end::LINEITEM_V2B[]\n"
   ]
  },
  {
   "cell_type": "code",
   "execution_count": 185,
   "id": "46c9e028",
   "metadata": {},
   "outputs": [
    {
     "data": {
      "text/plain": [
       "(10, 'Golden raisins', 6.95)"
      ]
     },
     "execution_count": 185,
     "metadata": {},
     "output_type": "execute_result"
    }
   ],
   "source": [
    "raisins = LineItem('Golden raisins', 10, 6.95)\n",
    "raisins.weight, raisins.description, raisins.price"
   ]
  },
  {
   "cell_type": "code",
   "execution_count": 186,
   "id": "93625d1e",
   "metadata": {},
   "outputs": [
    {
     "data": {
      "text/plain": [
       "69.5"
      ]
     },
     "execution_count": 186,
     "metadata": {},
     "output_type": "execute_result"
    }
   ],
   "source": [
    "raisins.subtotal()"
   ]
  },
  {
   "cell_type": "code",
   "execution_count": 187,
   "id": "8f12fc53",
   "metadata": {},
   "outputs": [
    {
     "data": {
      "text/plain": [
       "1390.0"
      ]
     },
     "execution_count": 187,
     "metadata": {},
     "output_type": "execute_result"
    }
   ],
   "source": [
    "raisins.weight = 200  # garbage in...\n",
    "raisins.subtotal()    # garbage out..."
   ]
  },
  {
   "cell_type": "code",
   "execution_count": 188,
   "id": "54caf6f6",
   "metadata": {},
   "outputs": [
    {
     "data": {
      "text/plain": [
       "200"
      ]
     },
     "execution_count": 188,
     "metadata": {},
     "output_type": "execute_result"
    }
   ],
   "source": [
    "raisins._LineItem__weight"
   ]
  },
  {
   "cell_type": "code",
   "execution_count": 189,
   "id": "cd2a84b6",
   "metadata": {},
   "outputs": [
    {
     "data": {
      "text/plain": [
       "200"
      ]
     },
     "execution_count": 189,
     "metadata": {},
     "output_type": "execute_result"
    }
   ],
   "source": [
    "raisins.weight"
   ]
  },
  {
   "cell_type": "code",
   "execution_count": 190,
   "id": "5fcd5cee",
   "metadata": {},
   "outputs": [
    {
     "data": {
      "text/plain": [
       "['_LineItem__weight',\n",
       " '__class__',\n",
       " '__delattr__',\n",
       " '__dict__',\n",
       " '__dir__',\n",
       " '__doc__',\n",
       " '__eq__',\n",
       " '__format__',\n",
       " '__ge__',\n",
       " '__getattribute__',\n",
       " '__gt__',\n",
       " '__hash__',\n",
       " '__init__',\n",
       " '__init_subclass__',\n",
       " '__le__',\n",
       " '__lt__',\n",
       " '__module__',\n",
       " '__ne__',\n",
       " '__new__',\n",
       " '__reduce__',\n",
       " '__reduce_ex__',\n",
       " '__repr__',\n",
       " '__setattr__',\n",
       " '__sizeof__',\n",
       " '__str__',\n",
       " '__subclasshook__',\n",
       " '__weakref__',\n",
       " 'description',\n",
       " 'get_weight',\n",
       " 'price',\n",
       " 'set_weight',\n",
       " 'subtotal',\n",
       " 'weight']"
      ]
     },
     "execution_count": 190,
     "metadata": {},
     "output_type": "execute_result"
    }
   ],
   "source": [
    "dir(raisins)"
   ]
  },
  {
   "cell_type": "code",
   "execution_count": 194,
   "id": "377ae330",
   "metadata": {},
   "outputs": [
    {
     "data": {
      "text/plain": [
       "__main__.LineItem"
      ]
     },
     "execution_count": 194,
     "metadata": {},
     "output_type": "execute_result"
    }
   ],
   "source": [
    "raisins.__class__"
   ]
  },
  {
   "cell_type": "code",
   "execution_count": 195,
   "id": "54e957d0",
   "metadata": {},
   "outputs": [],
   "source": [
    "\"\"\"\n",
    "\n",
    "A line item for a bulk food order has description, weight and price fields::\n",
    "\n",
    "    >>> raisins = LineItem('Golden raisins', 10, 6.95)\n",
    "    >>> raisins.weight, raisins.description, raisins.price\n",
    "    (10, 'Golden raisins', 6.95)\n",
    "\n",
    "A ``subtotal`` method gives the total price for that line item::\n",
    "\n",
    "    >>> raisins.subtotal()\n",
    "    69.5\n",
    "\n",
    "The weight of a ``LineItem`` must be greater than 0::\n",
    "\n",
    "    >>> raisins.weight = -20\n",
    "    Traceback (most recent call last):\n",
    "        ...\n",
    "    ValueError: value must be > 0\n",
    "\n",
    "No change was made::\n",
    "\n",
    "    >>> raisins.weight\n",
    "    10\n",
    "\n",
    "The value of the attributes managed by the properties are stored in\n",
    "instance attributes, created in each ``LineItem`` instance::\n",
    "\n",
    "# tag::LINEITEM_V2_PROP_DEMO[]\n",
    "    >>> nutmeg = LineItem('Moluccan nutmeg', 8, 13.95)\n",
    "    >>> nutmeg.weight, nutmeg.price  # <1>\n",
    "    (8, 13.95)\n",
    "    >>> nutmeg.__dict__  # <2>\n",
    "    {'description': 'Moluccan nutmeg', 'weight': 8, 'price': 13.95}\n",
    "\n",
    "# end::LINEITEM_V2_PROP_DEMO[]\n",
    "\n",
    "\"\"\"\n",
    "\n",
    "\n",
    "# tag::LINEITEM_V2_PROP_FACTORY_FUNCTION[]\n",
    "def quantity(storage_name):  # <1>\n",
    "\n",
    "    def qty_getter(instance):  # <2>\n",
    "        return instance.__dict__[storage_name]  # <3>\n",
    "\n",
    "    def qty_setter(instance, value):  # <4>\n",
    "        if value > 0:\n",
    "            instance.__dict__[storage_name] = value  # <5>\n",
    "        else:\n",
    "            raise ValueError('value must be > 0')\n",
    "\n",
    "    return property(qty_getter, qty_setter)  # <6>\n",
    "# end::LINEITEM_V2_PROP_FACTORY_FUNCTION[]\n",
    "\n",
    "\n",
    "# tag::LINEITEM_V2_PROP_CLASS[]\n",
    "class LineItem:\n",
    "    weight = quantity('weight')  # <1>\n",
    "    price = quantity('price')  # <2>\n",
    "\n",
    "    def __init__(self, description, weight, price):\n",
    "        self.description = description\n",
    "        self.weight = weight  # <3>\n",
    "        self.price = price\n",
    "\n",
    "    def subtotal(self):\n",
    "        return self.weight * self.price  # <4>\n",
    "# end::LINEITEM_V2_PROP_CLASS[]\n"
   ]
  },
  {
   "cell_type": "code",
   "execution_count": 196,
   "id": "b0d07b91",
   "metadata": {},
   "outputs": [
    {
     "data": {
      "text/plain": [
       "(8, 13.95)"
      ]
     },
     "execution_count": 196,
     "metadata": {},
     "output_type": "execute_result"
    }
   ],
   "source": [
    "nutmeg = LineItem('Moluccan nutmeg', 8, 13.95)\n",
    "nutmeg.weight, nutmeg.price  # <1>"
   ]
  },
  {
   "cell_type": "code",
   "execution_count": 197,
   "id": "f8a44ccf",
   "metadata": {},
   "outputs": [
    {
     "data": {
      "text/plain": [
       "{'description': 'Moluccan nutmeg', 'weight': 8, 'price': 13.95}"
      ]
     },
     "execution_count": 197,
     "metadata": {},
     "output_type": "execute_result"
    }
   ],
   "source": [
    "nutmeg.__dict__  # <2>"
   ]
  },
  {
   "cell_type": "code",
   "execution_count": 198,
   "id": "51e6ea85",
   "metadata": {},
   "outputs": [
    {
     "data": {
      "text/plain": [
       "{'description': 'Moluccan nutmeg', 'weight': 8, 'price': 13.95}"
      ]
     },
     "execution_count": 198,
     "metadata": {},
     "output_type": "execute_result"
    }
   ],
   "source": [
    "vars(nutmeg)"
   ]
  },
  {
   "cell_type": "code",
   "execution_count": 199,
   "id": "090b18e0",
   "metadata": {},
   "outputs": [
    {
     "data": {
      "text/plain": [
       "<property at 0x2a56e4e0590>"
      ]
     },
     "execution_count": 199,
     "metadata": {},
     "output_type": "execute_result"
    }
   ],
   "source": [
    "quantity('weight')"
   ]
  },
  {
   "cell_type": "code",
   "execution_count": 200,
   "id": "30f1c870",
   "metadata": {},
   "outputs": [],
   "source": [
    "\"\"\"\n",
    "Example of property documentation\n",
    "\n",
    "    >>> f = Foo()\n",
    "    >>> f.bar = 77\n",
    "    >>> f.bar\n",
    "    77\n",
    "    >>> Foo.bar.__doc__\n",
    "    'The bar attribute'\n",
    "\"\"\"\n",
    "\n",
    "# tag::DOC_PROPERTY[]\n",
    "class Foo:\n",
    "\n",
    "    @property\n",
    "    def bar(self):\n",
    "        \"\"\"The bar attribute\"\"\"\n",
    "        return self.__dict__['bar']\n",
    "\n",
    "    @bar.setter\n",
    "    def bar(self, value):\n",
    "        self.__dict__['bar'] = value\n",
    "# end::DOC_PROPERTY[]\n"
   ]
  },
  {
   "cell_type": "code",
   "execution_count": 201,
   "id": "98a40c8e",
   "metadata": {},
   "outputs": [
    {
     "data": {
      "text/plain": [
       "77"
      ]
     },
     "execution_count": 201,
     "metadata": {},
     "output_type": "execute_result"
    }
   ],
   "source": [
    "f = Foo()\n",
    "f.bar = 77\n",
    "f.bar"
   ]
  },
  {
   "cell_type": "code",
   "execution_count": 202,
   "id": "e909de12",
   "metadata": {},
   "outputs": [
    {
     "data": {
      "text/plain": [
       "'The bar attribute'"
      ]
     },
     "execution_count": 202,
     "metadata": {},
     "output_type": "execute_result"
    }
   ],
   "source": [
    "Foo.bar.__doc__"
   ]
  },
  {
   "cell_type": "code",
   "execution_count": 203,
   "id": "771bd2b7",
   "metadata": {},
   "outputs": [
    {
     "data": {
      "text/plain": [
       "<property at 0x2a56e4e0040>"
      ]
     },
     "execution_count": 203,
     "metadata": {},
     "output_type": "execute_result"
    }
   ],
   "source": [
    "Foo.bar"
   ]
  },
  {
   "cell_type": "code",
   "execution_count": 204,
   "id": "fb3c0ffd",
   "metadata": {},
   "outputs": [],
   "source": [
    "\"\"\"\n",
    "This class is inspired by the Black Knight scene in the movie\n",
    "\"Monty Python and the Holy Grail\", where King Arthur fights the\n",
    "Black Knight, slicing off his arms and legs, but the knight\n",
    "refuses to concede defeat.\n",
    "\n",
    "# tag::BLACK_KNIGHT_DEMO[]\n",
    "    >>> knight = BlackKnight()\n",
    "    >>> knight.member\n",
    "    next member is:\n",
    "    'an arm'\n",
    "    >>> del knight.member\n",
    "    BLACK KNIGHT (loses an arm) -- 'Tis but a scratch.\n",
    "    >>> del knight.member\n",
    "    BLACK KNIGHT (loses another arm) -- It's just a flesh wound.\n",
    "    >>> del knight.member\n",
    "    BLACK KNIGHT (loses a leg) -- I'm invincible!\n",
    "    >>> del knight.member\n",
    "    BLACK KNIGHT (loses another leg) -- All right, we'll call it a draw.\n",
    "\n",
    "# end::BLACK_KNIGHT_DEMO[]\n",
    "\"\"\"\n",
    "\n",
    "# tag::BLACK_KNIGHT[]\n",
    "class BlackKnight:\n",
    "\n",
    "    def __init__(self):\n",
    "        self.phrases = [\n",
    "            ('an arm', \"'Tis but a scratch.\"),\n",
    "            ('another arm', \"It's just a flesh wound.\"),\n",
    "            ('a leg', \"I'm invincible!\"),\n",
    "            ('another leg', \"All right, we'll call it a draw.\")\n",
    "        ]\n",
    "\n",
    "    @property\n",
    "    def member(self):\n",
    "        print('next member is:')\n",
    "        return self.phrases[0][0]\n",
    "\n",
    "    @member.deleter\n",
    "    def member(self):\n",
    "        member, text = self.phrases.pop(0)\n",
    "        print(f'BLACK KNIGHT (loses {member}) -- {text}')\n",
    "# end::BLACK_KNIGHT[]\n"
   ]
  },
  {
   "cell_type": "code",
   "execution_count": 205,
   "id": "8f1626e2",
   "metadata": {},
   "outputs": [
    {
     "name": "stdout",
     "output_type": "stream",
     "text": [
      "next member is:\n"
     ]
    },
    {
     "data": {
      "text/plain": [
       "'an arm'"
      ]
     },
     "execution_count": 205,
     "metadata": {},
     "output_type": "execute_result"
    }
   ],
   "source": [
    "knight = BlackKnight()\n",
    "knight.member"
   ]
  },
  {
   "cell_type": "code",
   "execution_count": 207,
   "id": "a0f535b6",
   "metadata": {},
   "outputs": [
    {
     "name": "stdout",
     "output_type": "stream",
     "text": [
      "BLACK KNIGHT (loses an arm) -- 'Tis but a scratch.\n"
     ]
    }
   ],
   "source": [
    "del knight.member"
   ]
  },
  {
   "cell_type": "code",
   "execution_count": 208,
   "id": "f57a9813",
   "metadata": {},
   "outputs": [
    {
     "name": "stdout",
     "output_type": "stream",
     "text": [
      "next member is:\n"
     ]
    },
    {
     "data": {
      "text/plain": [
       "'another arm'"
      ]
     },
     "execution_count": 208,
     "metadata": {},
     "output_type": "execute_result"
    }
   ],
   "source": [
    "knight.member"
   ]
  },
  {
   "cell_type": "code",
   "execution_count": 209,
   "id": "1619a714",
   "metadata": {},
   "outputs": [
    {
     "name": "stdout",
     "output_type": "stream",
     "text": [
      "BLACK KNIGHT (loses another arm) -- It's just a flesh wound.\n"
     ]
    }
   ],
   "source": [
    "del knight.member"
   ]
  },
  {
   "cell_type": "code",
   "execution_count": 210,
   "id": "2adf120c",
   "metadata": {},
   "outputs": [
    {
     "name": "stdout",
     "output_type": "stream",
     "text": [
      "BLACK KNIGHT (loses a leg) -- I'm invincible!\n"
     ]
    }
   ],
   "source": [
    "del knight.member"
   ]
  }
 ],
 "metadata": {
  "kernelspec": {
   "display_name": "Python 3 (ipykernel)",
   "language": "python",
   "name": "python3"
  },
  "language_info": {
   "codemirror_mode": {
    "name": "ipython",
    "version": 3
   },
   "file_extension": ".py",
   "mimetype": "text/x-python",
   "name": "python",
   "nbconvert_exporter": "python",
   "pygments_lexer": "ipython3",
   "version": "3.8.13"
  }
 },
 "nbformat": 4,
 "nbformat_minor": 5
}
